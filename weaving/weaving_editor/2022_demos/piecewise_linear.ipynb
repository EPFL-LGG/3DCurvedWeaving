{
 "cells": [
  {
   "cell_type": "code",
   "execution_count": null,
   "id": "5fb36167-6d79-490c-816f-65381bc6229a",
   "metadata": {},
   "outputs": [],
   "source": [
    "elastic_rods_dir = '../../../elastic_rods/python/'\n",
    "weaving_dir = '../../'\n",
    "import os\n",
    "import os.path as osp\n",
    "import sys; sys.path.append(elastic_rods_dir); sys.path.append(weaving_dir)\n",
    "import numpy as np, elastic_rods, linkage_vis\n",
    "import numpy.linalg as la\n",
    "from bending_validation import suppress_stdout as so\n",
    "import matplotlib.pyplot as plt\n",
    "from elastic_rods import EnergyType, InterleavingType\n",
    "\n",
    "# weaving\n",
    "import analysis_helper, ribbon_linkage_helper, mesh_vis, linkage_utils, compute_curve_from_curvature, pipeline_helper, importlib\n",
    "importlib.reload(analysis_helper)\n",
    "importlib.reload(ribbon_linkage_helper)\n",
    "importlib.reload(mesh_vis)\n",
    "importlib.reload(linkage_utils)\n",
    "importlib.reload(compute_curve_from_curvature)\n",
    "importlib.reload(pipeline_helper)\n",
    "from analysis_helper import (compare_turning_angle,\n",
    "                            is_on_sphere, \n",
    "                            get_distance_to_center_scalar_field, \n",
    "                            plot_curvatures, \n",
    "                            get_curvature_scalar_field,\n",
    "                            construct_elastic_rod_loop_from_rod_segments, \n",
    "                            concatenate_rod_properties_from_rod_segments, \n",
    "                            compute_min_distance_rigid_transformation)\n",
    "from ribbon_linkage_helper import (update_rest_curvature, \n",
    "                                   set_ribbon_linkage,\n",
    "                                   export_linkage_geometry_to_obj,\n",
    "                                   write_linkage_ribbon_output_florin)\n",
    "\n",
    "from compute_curve_from_curvature import (match_geo_curvature_and_edge_len, get_all_curve_pattern)\n",
    "from linkage_utils import order_segments_by_ribbons, get_turning_angle_and_length_from_ordered_rods\n",
    "\n",
    "from pipeline_helper import (initialize_linkage, get_normal_deviation, set_joint_vector_field, stage_1_optimization, initialize_stage_2_optimizer, stage_2_optimization, InputOrganizer, write_all_output, set_surface_view_options, get_structure_analysis_view, get_max_distance_to_target_surface, contact_optimization, show_selected_joints, highlight_rod_and_joint)\n",
    "\n",
    "import vis.fields\n",
    "import matplotlib.cm as cm\n",
    "import time"
   ]
  },
  {
   "cell_type": "code",
   "execution_count": null,
   "id": "f7edb9fc-c6cb-44b7-97dd-4fb7d94d8617",
   "metadata": {},
   "outputs": [],
   "source": [
    "import parallelism\n",
    "parallelism.set_max_num_tbb_threads(12)\n",
    "parallelism.set_hessian_assembly_num_threads(4)\n",
    "parallelism.set_gradient_assembly_num_threads(4)"
   ]
  },
  {
   "cell_type": "code",
   "execution_count": null,
   "id": "270d6b02-cd42-492f-a49e-03db5d14e9c0",
   "metadata": {},
   "outputs": [],
   "source": [
    "import json"
   ]
  },
  {
   "cell_type": "code",
   "execution_count": null,
   "id": "a9a40c6d-1da1-46ef-8499-79e2e303300b",
   "metadata": {},
   "outputs": [],
   "source": [
    "with open(osp.join(weaving_dir + 'woven_model.json')) as f:\n",
    "    data = json.load(f)"
   ]
  },
  {
   "cell_type": "code",
   "execution_count": null,
   "id": "db30eebc-0972-4015-a2e4-05c21d92abda",
   "metadata": {},
   "outputs": [],
   "source": [
    "model_info = data['models'][0]"
   ]
  },
  {
   "cell_type": "code",
   "execution_count": null,
   "id": "9bbb06b6-e2e1-4539-bdf7-1154d926627d",
   "metadata": {},
   "outputs": [],
   "source": [
    "thickness, width, name, use_constant_width, width_scale, scale_joint_weight, update_attraction_weight, number_of_updates, fix_boundary, only_two_stage = model_info['thickness'], model_info['width'], model_info['name'], model_info['constant_cross_section'], model_info['cross_section_scale'], model_info['scale_joint_weight'], model_info['update_attraction_weight'], model_info['number_of_updates'], model_info['fix_boundary'], model_info['only_two_stage']\n",
    "joint_weight, scale, joint_list = 0, 0, []\n",
    "if float(scale_joint_weight.split(', ')[0]) != -1:\n",
    "    joint_weight, scale, joint_list = float(scale_joint_weight.split(', ')[0]), float(scale_joint_weight.split(', ')[1]), [int(x) for x in scale_joint_weight.split(', ')[2:]]\n",
    "    \n",
    "io = InputOrganizer(name, thickness, width, weaving_dir)"
   ]
  },
  {
   "cell_type": "code",
   "execution_count": null,
   "id": "74e75be8-9ae3-43fe-be89-a98254427a18",
   "metadata": {},
   "outputs": [],
   "source": [
    "fixed_boundary_joints = []"
   ]
  },
  {
   "cell_type": "code",
   "execution_count": null,
   "id": "fbb52b3f-3ef9-4ef8-bca4-50f26d8f64b5",
   "metadata": {},
   "outputs": [],
   "source": [
    "import py_newton_optimizer\n",
    "# Optimization parameters.\n",
    "OPTS = py_newton_optimizer.NewtonOptimizerOptions()\n",
    "OPTS.gradTol = 1e-8\n",
    "OPTS.verbose = 1;\n",
    "OPTS.beta = 1e-8\n",
    "OPTS.niter = 200\n",
    "OPTS.verboseNonPosDef = False\n",
    "rw = 0.1\n",
    "sw = 10\n",
    "drw = 0.001\n",
    "dsw = 0.01"
   ]
  },
  {
   "cell_type": "code",
   "execution_count": null,
   "id": "61747787-6287-47b9-8177-9e429e227e1f",
   "metadata": {},
   "outputs": [],
   "source": [
    "curved_linkage = initialize_linkage(surface_path = io.SURFACE_PATH, useCenterline = True, model_path = io.MODEL_PATH, cross_section = io.RIBBON_CS, subdivision_res = io.SUBDIVISION_RESOLUTION, interleaving_type=InterleavingType.weaving, use_constant_width = True)\n",
    "curved_linkage.set_design_parameter_config(use_restLen = True, use_restKappa = True)\n",
    "curved_save_tgt_joint_pos = curved_linkage.jointPositions()\n",
    "curved_linkage.attraction_weight = 1e-5\n",
    "curved_linkage_view = linkage_vis.LinkageViewerWithSurface(curved_linkage, io.SURFACE_PATH)\n",
    "set_surface_view_options(curved_linkage_view)\n",
    "curved_linkage_view.show()"
   ]
  },
  {
   "cell_type": "code",
   "execution_count": null,
   "id": "93c06fcf-07fa-4f15-9d2e-249db02f357d",
   "metadata": {},
   "outputs": [],
   "source": [
    "use_piecewise_linear = False"
   ]
  },
  {
   "cell_type": "markdown",
   "id": "95420575-1636-4aa2-bcbd-29403d8f6178",
   "metadata": {},
   "source": [
    "### Stage 1"
   ]
  },
  {
   "cell_type": "code",
   "execution_count": null,
   "id": "f279b655-73ee-4910-a9fa-f01c70a31564",
   "metadata": {},
   "outputs": [],
   "source": [
    "new_drw = drw * 1e3 if use_piecewise_linear else drw"
   ]
  },
  {
   "cell_type": "code",
   "execution_count": null,
   "id": "54681d4b-1030-4b43-a551-ce67f5c02ad8",
   "metadata": {},
   "outputs": [],
   "source": [
    "iterateData, _ = stage_1_optimization(curved_linkage, new_drw, dsw, curved_linkage_view)"
   ]
  },
  {
   "cell_type": "code",
   "execution_count": null,
   "id": "bf1ab8b2-d99e-4a80-93e8-34181dd48c8f",
   "metadata": {},
   "outputs": [],
   "source": [
    "def eqm_callback(prob, i):\n",
    "    curved_linkage_view.update()"
   ]
  },
  {
   "cell_type": "code",
   "execution_count": null,
   "id": "d21ce589-03ea-4be1-971e-9d54a60baed4",
   "metadata": {},
   "outputs": [],
   "source": [
    "with so(): elastic_rods.compute_equilibrium(curved_linkage, callback = eqm_callback, options = OPTS)"
   ]
  },
  {
   "cell_type": "markdown",
   "id": "2a1b07c5-19f8-4052-838c-94d8f4c509ea",
   "metadata": {},
   "source": [
    "### Stage 2"
   ]
  },
  {
   "cell_type": "code",
   "execution_count": null,
   "id": "c0e0bfac-b7f2-4eab-a930-69bd1d5aecf5",
   "metadata": {},
   "outputs": [],
   "source": [
    "new_rw = rw * 1e3 if use_piecewise_linear else rw\n",
    "new_sw = 0 if use_piecewise_linear else sw\n",
    "maxIter = 10 if use_piecewise_linear else 2000"
   ]
  },
  {
   "cell_type": "code",
   "execution_count": null,
   "id": "b1eaade8-561f-4f6b-a970-72f4c2453a71",
   "metadata": {
    "scrolled": true,
    "tags": []
   },
   "outputs": [],
   "source": [
    "optimizer = initialize_stage_2_optimizer(curved_linkage, io.SURFACE_PATH, curved_save_tgt_joint_pos, curved_linkage_view, new_rw, new_sw, inner_gradTol = 1e-7)"
   ]
  },
  {
   "cell_type": "code",
   "execution_count": null,
   "id": "14388138-4c3f-4ab6-bb1a-6d4339f81c00",
   "metadata": {
    "scrolled": true,
    "tags": []
   },
   "outputs": [],
   "source": [
    "optimizer, opt_iterateData, weight_change_iters, target_weight, solverStatusList = stage_2_optimization(optimizer, curved_linkage, io.SURFACE_PATH, curved_save_tgt_joint_pos, curved_linkage_view, -1, fixed_boundary_joints, update_attraction_weight, number_of_updates, True, maxIter = maxIter)"
   ]
  },
  {
   "cell_type": "markdown",
   "id": "77bb2b5d-ad41-4bc3-bedf-6de049799ffa",
   "metadata": {},
   "source": [
    "### Stage 3"
   ]
  },
  {
   "cell_type": "code",
   "execution_count": null,
   "id": "009f7571-a618-4ac3-b8a8-0b23b74541e7",
   "metadata": {},
   "outputs": [],
   "source": [
    "optimizer = initialize_stage_2_optimizer(curved_linkage, io.SURFACE_PATH, curved_save_tgt_joint_pos, curved_linkage_view, new_rw, sw, fixed_boundary_joint = fixed_boundary_joints, inner_gradTol = 1e-7)"
   ]
  },
  {
   "cell_type": "code",
   "execution_count": null,
   "id": "41bfd92e-d50e-4d2a-b851-5a4c920f7093",
   "metadata": {},
   "outputs": [],
   "source": [
    "from structural_analysis import weavingCrossingForceMagnitudes\n",
    "cfm = weavingCrossingForceMagnitudes(curved_linkage, True)\n",
    "normalActivationThreshold = np.min(np.percentile(cfm[:, 0], 75), 0)\n",
    "print(\"Normal Activation Threshold: \", normalActivationThreshold)\n",
    "optimizer, contact_iterateData, solverStatus = contact_optimization(optimizer, curved_linkage, curved_linkage_view, minRestLen=-1, contact_weight = 5e6, normalActivationThreshold = normalActivationThreshold, normalWeight = 10, tangentialWeight = 1, torqueWeight = 0, maxIter=2000, update_attraction_weight = update_attraction_weight, callback_freq = 1)"
   ]
  },
  {
   "cell_type": "markdown",
   "id": "fde8d834-bba9-4eee-9ca7-cbe76e9a157c",
   "metadata": {},
   "source": [
    "### Export output"
   ]
  },
  {
   "cell_type": "code",
   "execution_count": null,
   "id": "bf31c3ff-b25a-490e-915b-593bee973799",
   "metadata": {},
   "outputs": [],
   "source": [
    "write_all_output(curved_linkage, io.SUBDIVISION_RESOLUTION, name, name, False, scale = 1, thickness = io.RIBBON_CS[0], target_width = 5, flip_angles = False, width = 5, use_surface = True, write_stress = False)"
   ]
  },
  {
   "cell_type": "code",
   "execution_count": null,
   "id": "33f7ac67-459e-4111-bd1e-ec36884c30c2",
   "metadata": {},
   "outputs": [],
   "source": []
  }
 ],
 "metadata": {
  "kernelspec": {
   "display_name": "weaving",
   "language": "python",
   "name": "weaving"
  },
  "language_info": {
   "codemirror_mode": {
    "name": "ipython",
    "version": 3
   },
   "file_extension": ".py",
   "mimetype": "text/x-python",
   "name": "python",
   "nbconvert_exporter": "python",
   "pygments_lexer": "ipython3",
   "version": "3.10.5"
  }
 },
 "nbformat": 4,
 "nbformat_minor": 5
}
