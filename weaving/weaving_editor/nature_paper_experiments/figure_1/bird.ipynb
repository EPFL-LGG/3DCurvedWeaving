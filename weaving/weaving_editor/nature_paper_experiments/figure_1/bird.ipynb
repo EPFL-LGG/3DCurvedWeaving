{
 "cells": [
  {
   "cell_type": "code",
   "execution_count": 1,
   "metadata": {},
   "outputs": [],
   "source": [
    "elastic_rods_dir = '../../../../elastic_rods/python/'\n",
    "weaving_dir = '../../../'\n",
    "import os\n",
    "import os.path as osp\n",
    "import sys; sys.path.append(elastic_rods_dir); sys.path.append(weaving_dir)\n",
    "import numpy as np, elastic_rods, linkage_vis\n",
    "import numpy.linalg as la\n",
    "from bending_validation import suppress_stdout as so\n",
    "import matplotlib.pyplot as plt\n",
    "from elastic_rods import EnergyType, InterleavingType\n",
    "\n",
    "# weaving\n",
    "import analysis_helper, ribbon_linkage_helper, mesh_vis, linkage_utils, compute_curve_from_curvature, pipeline_helper, importlib\n",
    "importlib.reload(analysis_helper)\n",
    "importlib.reload(ribbon_linkage_helper)\n",
    "importlib.reload(mesh_vis)\n",
    "importlib.reload(linkage_utils)\n",
    "importlib.reload(compute_curve_from_curvature)\n",
    "importlib.reload(pipeline_helper)\n",
    "from analysis_helper import (compare_turning_angle,\n",
    "                            is_on_sphere, \n",
    "                            get_distance_to_center_scalar_field, \n",
    "                            plot_curvatures, \n",
    "                            get_curvature_scalar_field,\n",
    "                            construct_elastic_rod_loop_from_rod_segments, \n",
    "                            concatenate_rod_properties_from_rod_segments, \n",
    "                            compute_min_distance_rigid_transformation)\n",
    "from ribbon_linkage_helper import (update_rest_curvature, \n",
    "                                   set_ribbon_linkage,\n",
    "                                   export_linkage_geometry_to_obj,\n",
    "                                   write_linkage_ribbon_output_florin)\n",
    "\n",
    "from compute_curve_from_curvature import (match_geo_curvature_and_edge_len, get_all_curve_pattern)\n",
    "from linkage_utils import order_segments_by_ribbons, get_turning_angle_and_length_from_ordered_rods\n",
    "\n",
    "from pipeline_helper import (initialize_linkage, get_normal_deviation, set_joint_vector_field, stage_1_optimization, initialize_stage_2_optimizer, stage_2_optimization, InputOrganizer, write_all_output, set_surface_view_options, get_structure_analysis_view, get_max_distance_to_target_surface, contact_optimization, show_selected_joints, get_fixed_boundary_joint)\n",
    "\n",
    "import vis.fields\n",
    "import matplotlib.cm as cm\n",
    "import time"
   ]
  },
  {
   "cell_type": "code",
   "execution_count": 2,
   "metadata": {},
   "outputs": [],
   "source": [
    "import parallelism\n",
    "parallelism.set_max_num_tbb_threads(12)\n",
    "parallelism.set_hessian_assembly_num_threads(4)\n",
    "parallelism.set_gradient_assembly_num_threads(4)"
   ]
  },
  {
   "cell_type": "code",
   "execution_count": 3,
   "metadata": {},
   "outputs": [
    {
     "name": "stdout",
     "output_type": "stream",
     "text": [
      "0.01494926278511622 0.0010464483949581352\n"
     ]
    }
   ],
   "source": [
    "rod_length = 0.05979705114046488\n",
    "width = rod_length / 20 * 5\n",
    "thickness = width / 5 * 0.35\n",
    "print(width, thickness)\n",
    "io = InputOrganizer('bird_close_beak_1', thickness, width, weaving_dir)"
   ]
  },
  {
   "cell_type": "code",
   "execution_count": 4,
   "metadata": {},
   "outputs": [],
   "source": [
    "import py_newton_optimizer\n",
    "OPTS = py_newton_optimizer.NewtonOptimizerOptions()\n",
    "OPTS.gradTol = 1e-6\n",
    "OPTS.verbose = 1;\n",
    "OPTS.beta = 1e-8\n",
    "OPTS.niter = 200\n",
    "OPTS.verboseNonPosDef = False\n",
    "rw = 1\n",
    "sw = 10\n",
    "drw = 0.1\n",
    "dsw = 0.1"
   ]
  },
  {
   "cell_type": "code",
   "execution_count": 5,
   "metadata": {},
   "outputs": [],
   "source": [
    "rw = 1\n",
    "sw = 10\n",
    "dsw = 0.01\n",
    "drw = 0.01"
   ]
  },
  {
   "cell_type": "code",
   "execution_count": 6,
   "metadata": {},
   "outputs": [
    {
     "data": {
      "application/vnd.jupyter.widget-view+json": {
       "model_id": "ea1cba9713864515a3f2f63af2e721ca",
       "version_major": 2,
       "version_minor": 0
      },
      "text/plain": [
       "Renderer(camera=PerspectiveCamera(children=(PointLight(color='#999999', position=(0.0, 0.0, 5.0), quaternion=(…"
      ]
     },
     "metadata": {},
     "output_type": "display_data"
    }
   ],
   "source": [
    "with so(): curved_linkage = initialize_linkage(surface_path = io.SURFACE_PATH, useCenterline = True, model_path = io.MODEL_PATH, cross_section = io.RIBBON_CS, subdivision_res = io.SUBDIVISION_RESOLUTION, use_constant_width = True)\n",
    "curved_linkage.set_design_parameter_config(use_restLen = True, use_restKappa = True)\n",
    "curved_save_tgt_joint_pos = curved_linkage.jointPositions();\n",
    "curved_linkage_view = linkage_vis.LinkageViewerWithSurface(curved_linkage, io.SURFACE_PATH)\n",
    "set_surface_view_options(curved_linkage_view)\n",
    "curved_linkage_view.show()"
   ]
  },
  {
   "cell_type": "code",
   "execution_count": 7,
   "metadata": {},
   "outputs": [],
   "source": [
    "curved_linkage.setDesignParameters(np.load('results/bird_close_beak_1/bird_close_beak_1_dof.npy')[curved_linkage.numDoF():])"
   ]
  },
  {
   "cell_type": "code",
   "execution_count": 8,
   "metadata": {},
   "outputs": [],
   "source": [
    "curved_linkage.attraction_weight = 1e-5"
   ]
  },
  {
   "cell_type": "code",
   "execution_count": 9,
   "metadata": {},
   "outputs": [],
   "source": [
    "# iterateData = stage_1_optimization(curved_linkage, 0.1, 0.1, curved_linkage_view)"
   ]
  },
  {
   "cell_type": "code",
   "execution_count": 10,
   "metadata": {},
   "outputs": [],
   "source": [
    "def eqm_callback(prob, i):\n",
    "    curved_linkage_view.update()"
   ]
  },
  {
   "cell_type": "code",
   "execution_count": 11,
   "metadata": {},
   "outputs": [],
   "source": [
    "OPTS.niter = 10000"
   ]
  },
  {
   "cell_type": "code",
   "execution_count": 12,
   "metadata": {
    "scrolled": true
   },
   "outputs": [
    {
     "name": "stdout",
     "output_type": "stream",
     "text": [
      "0\t0.00184088\t0.852752\t0.852752\t1\t1\n",
      "1\t0.00108278\t0.200086\t0.200086\t1\t1\n",
      "2\t0.000868795\t0.098949\t0.098949\t1\t1\n",
      "3\t0.000730063\t0.0582822\t0.0582822\t1\t1\n",
      "4\t0.00068843\t0.0479218\t0.0479218\t1\t1\n",
      "5\t0.000633604\t0.0374152\t0.0374152\t1\t1\n",
      "6\t0.000611958\t0.0336967\t0.0336967\t1\t1\n",
      "7\t0.000577815\t0.0289609\t0.0289609\t1\t1\n",
      "8\t0.000563073\t0.0270776\t0.0270776\t1\t1\n",
      "9\t0.000537975\t0.0243721\t0.0243721\t1\t1\n",
      "10\t0.000498131\t0.0211383\t0.0211383\t1\t1\n",
      "11\t0.000481902\t0.0193587\t0.0193587\t1\t1\n",
      "12\t0.000455211\t0.0173399\t0.0173399\t1\t1\n",
      "13\t0.000443395\t0.0164961\t0.0164961\t1\t1\n",
      "14\t0.000422816\t0.0151894\t0.0151894\t1\t1\n",
      "15\t0.000413442\t0.0146158\t0.0146158\t1\t1\n",
      "16\t0.000396628\t0.0136868\t0.0136868\t1\t1\n",
      "17\t0.000388825\t0.013267\t0.013267\t1\t1\n",
      "18\t0.00037455\t0.0125636\t0.0125636\t1\t1\n",
      "19\t0.000349521\t0.0115766\t0.0115766\t1\t1\n",
      "20\t0.00033839\t0.0110302\t0.0110302\t1\t1\n",
      "21\t0.000317995\t0.0102565\t0.0102565\t1\t1\n",
      "22\t0.000309384\t0.00970459\t0.00970459\t1\t1\n",
      "23\t0.000294767\t0.00891253\t0.00891253\t1\t1\n",
      "24\t0.000271632\t0.00794753\t0.00794753\t1\t1\n",
      "25\t0.000261699\t0.00750176\t0.00750176\t1\t1\n",
      "26\t0.000244483\t0.00692524\t0.00692524\t1\t1\n",
      "27\t0.000236831\t0.00659595\t0.00659595\t1\t1\n",
      "28\t0.000223263\t0.00620059\t0.00620059\t1\t1\n",
      "29\t0.000217068\t0.00592897\t0.00592897\t1\t1\n",
      "30\t0.00020583\t0.00563896\t0.00563896\t1\t1\n",
      "31\t0.00019013\t0.0111788\t0.0111788\t1\t1\n",
      "32\t0.000162393\t0.00861964\t0.00861964\t1\t1\n",
      "33\t0.000151938\t0.00391443\t0.00391443\t1\t1\n",
      "34\t0.000136685\t0.00439811\t0.00439811\t1\t1\n",
      "35\t0.000130228\t0.00300286\t0.00300286\t1\t1\n",
      "36\t0.000119733\t0.00301635\t0.00301635\t1\t1\n",
      "37\t0.00011507\t0.00256849\t0.00256849\t1\t1\n",
      "38\t0.000106929\t0.00257122\t0.00257122\t1\t1\n",
      "39\t9.41053e-05\t0.00483827\t0.00483827\t1\t1\n",
      "40\t8.87497e-05\t0.00192852\t0.00192852\t1\t1\n",
      "41\t8.06793e-05\t0.00250339\t0.00250339\t1\t1\n",
      "42\t6.92986e-05\t0.00322365\t0.00322365\t1\t1\n",
      "43\t6.44646e-05\t0.00135714\t0.00135714\t1\t1\n",
      "44\t5.73383e-05\t0.00183582\t0.00183582\t1\t1\n",
      "45\t4.77126e-05\t0.00390206\t0.00390206\t0.25\t1\n",
      "46\t4.53716e-05\t0.0159135\t0.0159135\t0.0625\t1\n",
      "47\t4.48816e-05\t0.00883586\t0.00883586\t1\t1\n",
      "48\t4.35864e-05\t0.00143721\t0.00143721\t1\t1\n",
      "49\t4.18499e-05\t0.000948273\t0.000948273\t1\t1\n",
      "50\t3.89434e-05\t0.000936587\t0.000936587\t1\t1\n",
      "51\t3.45091e-05\t0.00127254\t0.00127254\t1\t1\n",
      "52\t2.8643e-05\t0.00166397\t0.00166397\t1\t1\n",
      "53\t2.19367e-05\t0.00281341\t0.00281341\t1\t1\n",
      "54\t1.93292e-05\t0.000639156\t0.000639156\t1\t1\n",
      "55\t1.60454e-05\t0.0028362\t0.0028362\t1\t1\n",
      "56\t1.54154e-05\t0.0115642\t0.0115642\t1\t1\n",
      "57\t1.46032e-05\t0.00085259\t0.00085259\t1\t1\n",
      "58\t1.4488e-05\t0.000252225\t0.000252225\t1\t1\n",
      "59\t1.43094e-05\t0.000231651\t0.000231651\t1\t1\n",
      "60\t1.40007e-05\t0.000223781\t0.000223781\t1\t1\n",
      "61\t1.34621e-05\t0.00024397\t0.00024397\t1\t1\n",
      "62\t1.25857e-05\t0.00037745\t0.00037745\t1\t1\n",
      "63\t1.13196e-05\t0.000593913\t0.000593913\t1\t1\n",
      "64\t9.73444e-06\t0.000933993\t0.000933993\t1\t1\n",
      "65\t8.07996e-06\t0.000927954\t0.000927954\t1\t1\n",
      "66\t6.62129e-06\t0.00284401\t0.00284401\t1\t1\n",
      "67\t6.47157e-06\t0.000142897\t0.000142897\t1\t1\n",
      "68\t6.37352e-06\t6.97082e-05\t6.97082e-05\t1\t1\n",
      "69\t6.21218e-06\t8.16479e-05\t8.16479e-05\t1\t1\n",
      "70\t5.94562e-06\t0.000131544\t0.000131544\t1\t1\n",
      "71\t5.53362e-06\t0.000233622\t0.000233622\t1\t1\n",
      "72\t4.9562e-06\t0.000453525\t0.000453525\t1\t1\n",
      "73\t4.2413e-06\t0.000728913\t0.000728913\t1\t1\n",
      "74\t3.48086e-06\t0.000669844\t0.000669844\t1\t1\n",
      "75\t2.86103e-06\t0.00128211\t0.00128211\t0.125\t1\n",
      "76\t2.83425e-06\t0.00137306\t0.00137306\t1\t1\n",
      "77\t2.64606e-06\t0.00310376\t0.00310376\t1\t1\n",
      "78\t2.62502e-06\t0.000245369\t0.000245369\t1\t1\n",
      "79\t2.61929e-06\t2.85894e-05\t2.85894e-05\t1\t1\n",
      "80\t2.61158e-06\t2.00752e-05\t2.00752e-05\t1\t1\n",
      "81\t2.59893e-06\t1.71224e-05\t1.71224e-05\t1\t1\n",
      "82\t2.57716e-06\t1.926e-05\t1.926e-05\t1\t1\n",
      "83\t2.54038e-06\t3.7888e-05\t3.7888e-05\t1\t1\n",
      "84\t2.48264e-06\t9.20064e-05\t9.20064e-05\t1\t1\n",
      "85\t2.4029e-06\t0.000181239\t0.000181239\t1\t1\n",
      "86\t2.31216e-06\t0.000263724\t0.000263724\t1\t1\n",
      "87\t2.22903e-06\t0.000315429\t0.000315429\t1\t1\n",
      "88\t2.15503e-06\t0.000305924\t0.000305924\t1\t1\n",
      "89\t2.0865e-06\t0.000302716\t0.000302716\t1\t1\n",
      "90\t2.026e-06\t0.000408414\t0.000408414\t0.00390625\t1\n",
      "91\t2.02518e-06\t0.000290371\t0.000290371\t1\t1\n",
      "92\t1.98614e-06\t0.00155418\t0.00155418\t1\t1\n",
      "93\t1.95634e-06\t5.90322e-05\t5.90322e-05\t0.5\t0\n",
      "94\t1.95297e-06\t0.00172578\t0.00172578\t1\t1\n",
      "95\t1.91419e-06\t0.000116006\t0.000116006\t0.5\t0\n",
      "96\t1.90523e-06\t0.00153713\t0.00153713\t1\t1\n",
      "97\t1.9003e-06\t3.57597e-05\t3.57597e-05\t0.5\t0\n",
      "98\t1.89578e-06\t0.000373638\t0.000373638\t1\t0\n",
      "99\t1.89062e-06\t9.67105e-05\t9.67105e-05\t1\t1\n",
      "100\t1.8904e-06\t1.87393e-06\t1.87393e-06\t1\t1\n",
      "101\t1.89032e-06\t1.75982e-06\t1.75982e-06\t1\t1\n",
      "102\t1.89024e-06\t3.01583e-06\t3.01583e-06\t1\t1\n",
      "103\t1.89015e-06\t5.13028e-06\t5.13028e-06\t1\t1\n",
      "104\t1.89002e-06\t8.0555e-06\t8.0555e-06\t1\t1\n",
      "105\t1.88986e-06\t1.13478e-05\t1.13478e-05\t1\t1\n",
      "106\t1.88965e-06\t1.37675e-05\t1.37675e-05\t1\t1\n",
      "107\t1.88937e-06\t1.48031e-05\t1.48031e-05\t1\t1\n",
      "108\t1.88898e-06\t1.83173e-05\t1.83173e-05\t1\t1\n",
      "109\t1.88846e-06\t2.94358e-05\t2.94358e-05\t0.25\t0\n",
      "110\t1.88815e-06\t7.93012e-05\t7.93012e-05\t1\t0\n",
      "111\t1.88769e-06\t0.000124956\t0.000124956\t0.5\t0\n",
      "112\t1.88737e-06\t0.000110267\t0.000110267\t1\t0\n",
      "113\t1.88686e-06\t2.47367e-05\t2.47367e-05\t0.25\t1\n",
      "114\t1.88676e-06\t3.33969e-05\t3.33969e-05\t1\t0\n",
      "115\t1.88671e-06\t0.0001275\t0.0001275\t1\t0\n",
      "116\t1.8862e-06\t2.07352e-05\t2.07352e-05\t0.0625\t0\n",
      "117\t1.8861e-06\t3.61016e-05\t3.61016e-05\t1\t0\n",
      "118\t1.88608e-06\t0.000142734\t0.000142734\t0.5\t0\n",
      "119\t1.8858e-06\t0.000108952\t0.000108952\t1\t0\n",
      "120\t1.88527e-06\t2.76515e-05\t2.76515e-05\t0.25\t0\n",
      "121\t1.88515e-06\t2.95159e-05\t2.95159e-05\t1\t0\n",
      "122\t1.88496e-06\t6.83107e-05\t6.83107e-05\t1\t0\n",
      "123\t1.88485e-06\t7.61106e-05\t7.61106e-05\t0.5\t0\n",
      "124\t1.88456e-06\t7.03033e-05\t7.03033e-05\t1\t0\n",
      "125\t1.88416e-06\t8.40012e-06\t8.40012e-06\t0.25\t0\n",
      "126\t1.88406e-06\t3.94893e-05\t3.94893e-05\t1\t0\n",
      "127\t1.88384e-06\t2.10705e-05\t2.10705e-05\t0.5\t0\n",
      "128\t1.88374e-06\t2.46071e-05\t2.46071e-05\t1\t0\n",
      "129\t1.88359e-06\t2.31686e-05\t2.31686e-05\t1\t0\n",
      "130\t1.88358e-06\t5.40877e-05\t5.40877e-05\t0.5\t0\n",
      "131\t1.88335e-06\t3.3029e-05\t3.3029e-05\t1\t0\n",
      "132\t1.88315e-06\t5.66859e-06\t5.66859e-06\t0.5\t0\n",
      "133\t1.88307e-06\t1.57023e-05\t1.57023e-05\t1\t0\n",
      "134\t1.88294e-06\t6.89336e-06\t6.89336e-06\t0.5\t0\n",
      "135\t1.88286e-06\t1.07636e-05\t1.07636e-05\t1\t0\n",
      "136\t1.88276e-06\t1.00082e-05\t1.00082e-05\t1\t0\n",
      "137\t1.88266e-06\t1.04581e-05\t1.04581e-05\t1\t0\n",
      "138\t1.88257e-06\t1.51371e-05\t1.51371e-05\t1\t0\n",
      "139\t1.88248e-06\t1.06456e-05\t1.06456e-05\t1\t0\n",
      "140\t1.88244e-06\t2.64181e-05\t2.64181e-05\t1\t0\n",
      "141\t1.88232e-06\t7.15758e-06\t7.15758e-06\t0.5\t0\n",
      "142\t1.88232e-06\t3.20905e-05\t3.20905e-05\t1\t0\n",
      "143\t1.8822e-06\t3.63319e-06\t3.63319e-06\t0.25\t0\n",
      "144\t1.88217e-06\t7.68604e-06\t7.68604e-06\t1\t0\n",
      "145\t1.88212e-06\t1.25635e-05\t1.25635e-05\t1\t0\n",
      "146\t1.88206e-06\t3.74693e-06\t3.74693e-06\t0.5\t0\n",
      "147\t1.88203e-06\t1.06367e-05\t1.06367e-05\t1\t0\n",
      "148\t1.88198e-06\t4.19174e-06\t4.19174e-06\t0.5\t0\n",
      "149\t1.88196e-06\t7.59125e-06\t7.59125e-06\t1\t0\n",
      "150\t1.88192e-06\t6.75307e-06\t6.75307e-06\t1\t0\n",
      "151\t1.88189e-06\t7.69729e-06\t7.69729e-06\t1\t0\n",
      "152\t1.88186e-06\t6.22358e-06\t6.22358e-06\t1\t0\n",
      "153\t1.88184e-06\t7.59485e-06\t7.59485e-06\t1\t0\n",
      "154\t1.88182e-06\t5.87771e-06\t5.87771e-06\t1\t0\n",
      "155\t1.8818e-06\t6.68822e-06\t6.68822e-06\t1\t0\n",
      "156\t1.88179e-06\t5.91801e-06\t5.91801e-06\t1\t0\n",
      "157\t1.88178e-06\t4.68898e-06\t4.68898e-06\t1\t0\n",
      "158\t1.88177e-06\t7.75877e-06\t7.75877e-06\t1\t0\n",
      "159\t1.88176e-06\t2.10686e-06\t2.10686e-06\t0.5\t0\n",
      "160\t1.88175e-06\t4.44056e-06\t4.44056e-06\t1\t0\n",
      "161\t1.88175e-06\t2.24271e-06\t2.24271e-06\t1\t0\n",
      "162\t1.88175e-06\t4.91313e-06\t4.91313e-06\t1\t0\n",
      "163\t1.88174e-06\t1.01995e-06\t1.01995e-06\t0.5\t0\n",
      "164\t1.88174e-06\t2.10124e-06\t2.10124e-06\t1\t0\n",
      "165\t1.88174e-06\t1.21032e-06\t1.21032e-06\t1\t0\n",
      "166\t1.88174e-06\t2.49467e-06\t2.49467e-06\t1\t0\n",
      "167\t1.88174e-06\t4.23496e-07\t4.23496e-07\t1\t0\n"
     ]
    },
    {
     "data": {
      "text/plain": [
       "<py_newton_optimizer.ConvergenceReport at 0x12cb03bf0>"
      ]
     },
     "execution_count": 12,
     "metadata": {},
     "output_type": "execute_result"
    }
   ],
   "source": [
    "elastic_rods.compute_equilibrium(curved_linkage, callback = eqm_callback, options = OPTS, fixedVars = [])"
   ]
  },
  {
   "cell_type": "code",
   "execution_count": 13,
   "metadata": {},
   "outputs": [],
   "source": [
    "optimizer = initialize_stage_2_optimizer(curved_linkage, io.SURFACE_PATH, curved_save_tgt_joint_pos, curved_linkage_view, rw, sw,  fixed_boundary_joint = [])"
   ]
  },
  {
   "cell_type": "code",
   "execution_count": 14,
   "metadata": {},
   "outputs": [],
   "source": [
    "optimizer.setLinkageAttractionWeight(1e-5)"
   ]
  },
  {
   "cell_type": "code",
   "execution_count": 15,
   "metadata": {},
   "outputs": [],
   "source": [
    "# optimizer, opt_iterateData = stage_2_optimization(optimizer, curved_linkage, io.SURFACE_PATH, curved_save_tgt_joint_pos, curved_linkage_view, -1, -3, 3)"
   ]
  },
  {
   "cell_type": "code",
   "execution_count": 16,
   "metadata": {},
   "outputs": [],
   "source": [
    "# deviation, deviation_vector, joint_normals, joint_projection_normals = get_normal_deviation(curved_linkage)"
   ]
  },
  {
   "cell_type": "code",
   "execution_count": 17,
   "metadata": {},
   "outputs": [],
   "source": [
    "# set_joint_vector_field(curved_linkage, curved_linkage_view, joint_normals)"
   ]
  },
  {
   "cell_type": "code",
   "execution_count": 18,
   "metadata": {},
   "outputs": [],
   "source": [
    "curved_linkage.attraction_weight = 1e-5"
   ]
  },
  {
   "cell_type": "code",
   "execution_count": 19,
   "metadata": {},
   "outputs": [
    {
     "name": "stderr",
     "output_type": "stream",
     "text": [
      "../../../../elastic_rods/python/structural_analysis.py:213: RuntimeWarning: invalid value encountered in true_divide\n",
      "  coefficientOfFriction = cfm[:, 1] / (-separationForce)\n",
      "/Users/yren/Library/Python/3.7/lib/python/site-packages/numpy/lib/histograms.py:839: RuntimeWarning: invalid value encountered in greater_equal\n",
      "  keep = (tmp_a >= first_edge)\n",
      "/Users/yren/Library/Python/3.7/lib/python/site-packages/numpy/lib/histograms.py:840: RuntimeWarning: invalid value encountered in less_equal\n",
      "  keep &= (tmp_a <= last_edge)\n"
     ]
    },
    {
     "name": "stdout",
     "output_type": "stream",
     "text": [
      "Coefficient of Friction Percentiles 50, 75, 90:  nan nan nan\n"
     ]
    },
    {
     "data": {
      "application/vnd.jupyter.widget-view+json": {
       "model_id": "3681ba2a1c6a4b3ea0ef3867b7cd9dc9",
       "version_major": 2,
       "version_minor": 0
      },
      "text/plain": [
       "HBox(children=(Renderer(camera=PerspectiveCamera(children=(PointLight(color='#999999', position=(0.0, 0.0, 5.0…"
      ]
     },
     "metadata": {},
     "output_type": "display_data"
    },
    {
     "data": {
      "image/png": "[encoded data removed]",
      "text/plain": [
       "<Figure size 1080x288 with 4 Axes>"
      ]
     },
     "metadata": {
      "needs_background": "light"
     },
     "output_type": "display_data"
    }
   ],
   "source": [
    "structure_view = get_structure_analysis_view(curved_linkage)\n",
    "structure_view.show()"
   ]
  },
  {
   "cell_type": "code",
   "execution_count": 20,
   "metadata": {},
   "outputs": [],
   "source": [
    "# save_path = os.getcwd()\n",
    "# write_all_output(curved_linkage, io.SUBDIVISION_RESOLUTION, io.MODEL_NAME, io.RIBBON_NAME, False, 100, min(io.RIBBON_CS), target_width = 5, flip_angles = True, width = max(io.RIBBON_CS))\n",
    "# os.chdir(save_path)"
   ]
  },
  {
   "cell_type": "code",
   "execution_count": 21,
   "metadata": {},
   "outputs": [],
   "source": [
    "import structural_analysis\n",
    "cfm = structural_analysis.weavingCrossingForceMagnitudes(curved_linkage, True)"
   ]
  },
  {
   "cell_type": "code",
   "execution_count": 22,
   "metadata": {},
   "outputs": [
    {
     "data": {
      "text/plain": [
       "1.8773755555555756e-07"
      ]
     },
     "execution_count": 22,
     "metadata": {},
     "output_type": "execute_result"
    }
   ],
   "source": [
    "cfm[106, 0]"
   ]
  },
  {
   "cell_type": "code",
   "execution_count": 42,
   "metadata": {},
   "outputs": [
    {
     "data": {
      "text/plain": [
       "36"
      ]
     },
     "execution_count": 42,
     "metadata": {},
     "output_type": "execute_result"
    }
   ],
   "source": [
    "np.sum((cfm[:, 0] > 0))"
   ]
  },
  {
   "cell_type": "code",
   "execution_count": 27,
   "metadata": {},
   "outputs": [],
   "source": [
    "def get_opposite_joint_type(curr_type):\n",
    "    if curr_type == curved_linkage.joint(0).Type.A_OVER_B:\n",
    "        return curved_linkage.joint(0).Type.B_OVER_A\n",
    "    return curved_linkage.joint(0).Type.A_OVER_B"
   ]
  },
  {
   "cell_type": "code",
   "execution_count": 28,
   "metadata": {},
   "outputs": [],
   "source": [
    "def get_opposite_joint_type(curr_type):\n",
    "    if curr_type == curved_linkage.joint(0).Type.A_OVER_B:\n",
    "        return curved_linkage.joint(0).Type.B_OVER_A\n",
    "    return curved_linkage.joint(0).Type.A_OVER_B\n",
    "import structural_analysis\n",
    "cfm = structural_analysis.weavingCrossingForceMagnitudes(curved_linkage, True)\n",
    "for i in np.argsort(cfm[:, 0] > 0)[-1 * np.sum(cfm[:, 0] > 0):]:\n",
    "    curved_linkage.joint(i).type = get_opposite_joint_type(curved_linkage.joint(i).type)"
   ]
  },
  {
   "cell_type": "code",
   "execution_count": 23,
   "metadata": {},
   "outputs": [],
   "source": [
    "# optimizer.beta = 1e6"
   ]
  },
  {
   "cell_type": "code",
   "execution_count": 24,
   "metadata": {},
   "outputs": [],
   "source": [
    "optimizer, contact_opt_iterateData = contact_optimization(optimizer, curved_linkage, curved_linkage_view, -1, contact_weight = 1e6, normalWeight = 10, torqueWeight = 0, normalActivationThreshold=-1e-6)"
   ]
  },
  {
   "cell_type": "code",
   "execution_count": 25,
   "metadata": {},
   "outputs": [],
   "source": [
    "# np.save('bird_contact_opt_20201110.npy', curved_linkage.getExtendedDoFsPSRL())"
   ]
  },
  {
   "cell_type": "code",
   "execution_count": 26,
   "metadata": {},
   "outputs": [
    {
     "name": "stdout",
     "output_type": "stream",
     "text": [
      "Coefficient of Friction Percentiles 50, 75, 90:  nan nan nan\n"
     ]
    },
    {
     "data": {
      "application/vnd.jupyter.widget-view+json": {
       "model_id": "0e927a26864646b2a31df8e79541e879",
       "version_major": 2,
       "version_minor": 0
      },
      "text/plain": [
       "HBox(children=(Renderer(camera=PerspectiveCamera(children=(PointLight(color='#999999', position=(0.0, 0.0, 5.0…"
      ]
     },
     "metadata": {},
     "output_type": "display_data"
    },
    {
     "data": {
      "image/png": "[encoded data removed]",
      "text/plain": [
       "<Figure size 1080x288 with 4 Axes>"
      ]
     },
     "metadata": {
      "needs_background": "light"
     },
     "output_type": "display_data"
    }
   ],
   "source": [
    "structure_view_2 = get_structure_analysis_view(curved_linkage)\n",
    "structure_view_2.show()"
   ]
  },
  {
   "cell_type": "code",
   "execution_count": null,
   "metadata": {},
   "outputs": [],
   "source": [
    "contact_forces = [curr_iter['ContactForce'] for curr_iter in contact_opt_iterateData]"
   ]
  },
  {
   "cell_type": "code",
   "execution_count": null,
   "metadata": {},
   "outputs": [],
   "source": [
    "elastic_energys = [curr_iter['ElasticEnergy'] for curr_iter in contact_opt_iterateData]"
   ]
  },
  {
   "cell_type": "code",
   "execution_count": null,
   "metadata": {},
   "outputs": [],
   "source": [
    "target_fitting = [curr_iter['TargetFitting'] for curr_iter in contact_opt_iterateData]"
   ]
  },
  {
   "cell_type": "code",
   "execution_count": null,
   "metadata": {},
   "outputs": [],
   "source": [
    "plt.plot(contact_forces)"
   ]
  },
  {
   "cell_type": "code",
   "execution_count": null,
   "metadata": {},
   "outputs": [],
   "source": [
    "plt.plot(elastic_energys)"
   ]
  },
  {
   "cell_type": "code",
   "execution_count": null,
   "metadata": {},
   "outputs": [],
   "source": [
    "plt.plot(target_fitting)"
   ]
  },
  {
   "cell_type": "code",
   "execution_count": null,
   "metadata": {},
   "outputs": [],
   "source": [
    "# contact_optimization(optimizer, curved_linkage_view, -1, 1e6)"
   ]
  },
  {
   "cell_type": "code",
   "execution_count": null,
   "metadata": {},
   "outputs": [],
   "source": [
    "# structure_view_3 = get_structure_analysis_view(curved_linkage)\n",
    "# structure_view_3.show()"
   ]
  },
  {
   "cell_type": "code",
   "execution_count": null,
   "metadata": {},
   "outputs": [],
   "source": [
    "# contact_optimization(optimizer, curved_linkage_view, -1, 1e8, -1e-3)"
   ]
  },
  {
   "cell_type": "code",
   "execution_count": null,
   "metadata": {},
   "outputs": [],
   "source": [
    "# structure_view_4 = get_structure_analysis_view(curved_linkage)\n",
    "# structure_view_4.show()"
   ]
  },
  {
   "cell_type": "code",
   "execution_count": null,
   "metadata": {},
   "outputs": [],
   "source": [
    "# la.norm((curved_linkage.getExtendedDoFsPSRL() - np.load('results/bird_close_beak_1/bird_close_beak_1_dof.npy'))[curved_linkage.restLenOffset():]) / la.norm(curved_linkage.getExtendedDoFsPSRL()[curved_linkage.restLenOffset():])"
   ]
  },
  {
   "cell_type": "code",
   "execution_count": null,
   "metadata": {},
   "outputs": [],
   "source": [
    "# la.norm((curved_linkage.getExtendedDoFsPSRL() - np.load('results/bird_close_beak_1/bird_close_beak_1_dof.npy'))) / la.norm(curved_linkage.getExtendedDoFsPSRL())"
   ]
  }
 ],
 "metadata": {
  "kernelspec": {
   "display_name": "Python 3",
   "language": "python",
   "name": "python3"
  },
  "language_info": {
   "codemirror_mode": {
    "name": "ipython",
    "version": 3
   },
   "file_extension": ".py",
   "mimetype": "text/x-python",
   "name": "python",
   "nbconvert_exporter": "python",
   "pygments_lexer": "ipython3",
   "version": "3.7.9"
  }
 },
 "nbformat": 4,
 "nbformat_minor": 4
}
