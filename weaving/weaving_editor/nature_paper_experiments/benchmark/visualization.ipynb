{
 "cells": [
  {
   "cell_type": "code",
   "execution_count": 12,
   "metadata": {},
   "outputs": [],
   "source": [
    "import json\n",
    "import numpy as np\n",
    "\n",
    "with open('benchmark_results.json', 'r') as f:\n",
    "    weaving_data = json.loads(f.read())\n",
    "\n",
    "weaving_display_name = []\n",
    "weaving_num_crossings = []\n",
    "weaving_num_segments = []\n",
    "weaving_dof = []\n",
    "weaving_initialization = []\n",
    "weaving_stage_1 = []\n",
    "weaving_stage_2 = []\n",
    "weaving_validation_error = []\n",
    "weaving_norm_max_dis = []\n",
    "weaving_max_normal_deviation = []\n",
    "for model_data in weaving_data:\n",
    "    weaving_display_name.append(model_data['Display Name'])\n",
    "    weaving_num_crossings.append(model_data['Number of Crossings'])\n",
    "    weaving_num_segments.append(model_data['Number of Ribbon Segments'])\n",
    "    weaving_dof.append(model_data['DoF'])\n",
    "    weaving_initialization.append(model_data['Initialization'])\n",
    "    weaving_stage_1.append(model_data['Stage 1'])\n",
    "    weaving_stage_2.append(model_data['Stage 2'])\n",
    "    weaving_validation_error.append(model_data['Validation Error'])\n",
    "    weaving_norm_max_dis.append(model_data['Norm. Max Distance to Surface'])\n",
    "    weaving_max_normal_deviation.append(model_data['Max Normal Deviation'])"
   ]
  },
  {
   "cell_type": "code",
   "execution_count": 13,
   "metadata": {},
   "outputs": [
    {
     "data": {
      "application/vnd.plotly.v1+json": {
       "config": {
        "plotlyServerURL": "https://plot.ly"
       },
       "data": [
        {
         "name": "Initialization",
         "type": "bar",
         "x": [
          "Klein bottle (540, 1080, 100980)",
          "Cat 5 (516, 1032, 96492)",
          "Cat 4 (516, 1032, 96492)",
          "Cat 3 (516, 1032, 96492)",
          "Cat 2 (516, 1032, 96492)",
          "Cat 1 (516, 1032, 96492)",
          "Costa Minimum Surface (396, 752, 70492)",
          "Hanging Lamp (596, 1184, 110740)",
          "Lilium Roof (488, 932, 87340)",
          "Panton Chair (478, 913, 85559)",
          "Pseudosphere Section (264, 506, 47410)",
          "Torus (252, 504, 47124)",
          "Sphere (90, 180, 16830)",
          "Bird (326, 635, 59449)",
          "Nested Chair (600, 1153, 108017)",
          "Fancy Chair (1920, 3840, 359040)",
          "Hat (455, 884, 82771)",
          "Lounge Pod (2712, 5228, 489700)"
         ],
         "y": [
          5.138254404067993,
          0.4830048084259033,
          5.27093768119812,
          5.195821523666382,
          5.201542377471924,
          5.23360538482666,
          3.6963727474212646,
          0.4451131820678711,
          0.16900897026062012,
          0.1534137725830078,
          0.09254598617553711,
          0.2447223663330078,
          0.03309178352355957,
          0.10734915733337402,
          0.2272508144378662,
          20.389904737472534,
          0.1549832820892334,
          10.718867540359497
         ]
        },
        {
         "name": "Stage 1",
         "type": "bar",
         "visible": true,
         "x": [
          "Klein bottle (540, 1080, 100980)",
          "Cat 5 (516, 1032, 96492)",
          "Cat 4 (516, 1032, 96492)",
          "Cat 3 (516, 1032, 96492)",
          "Cat 2 (516, 1032, 96492)",
          "Cat 1 (516, 1032, 96492)",
          "Costa Minimum Surface (396, 752, 70492)",
          "Hanging Lamp (596, 1184, 110740)",
          "Lilium Roof (488, 932, 87340)",
          "Panton Chair (478, 913, 85559)",
          "Pseudosphere Section (264, 506, 47410)",
          "Torus (252, 504, 47124)",
          "Sphere (90, 180, 16830)",
          "Bird (326, 635, 59449)",
          "Nested Chair (600, 1153, 108017)",
          "Fancy Chair (1920, 3840, 359040)",
          "Hat (455, 884, 82771)",
          "Lounge Pod (2712, 5228, 489700)"
         ],
         "y": [
          273.5185627937317,
          64.66956520080566,
          130.4274446964264,
          124.86630535125732,
          105.33616209030151,
          104.18040919303894,
          29.942984580993652,
          118.06243205070496,
          26.852205753326416,
          44.47800016403198,
          25.996535301208496,
          21.23650574684143,
          0.8186888694763184,
          43.87282967567444,
          258.49755215644836,
          211.3160400390625,
          25.795975923538208,
          3583.5066709518433
         ]
        },
        {
         "name": "Stage 2",
         "type": "bar",
         "visible": true,
         "x": [
          "Klein bottle (540, 1080, 100980)",
          "Cat 5 (516, 1032, 96492)",
          "Cat 4 (516, 1032, 96492)",
          "Cat 3 (516, 1032, 96492)",
          "Cat 2 (516, 1032, 96492)",
          "Cat 1 (516, 1032, 96492)",
          "Costa Minimum Surface (396, 752, 70492)",
          "Hanging Lamp (596, 1184, 110740)",
          "Lilium Roof (488, 932, 87340)",
          "Panton Chair (478, 913, 85559)",
          "Pseudosphere Section (264, 506, 47410)",
          "Torus (252, 504, 47124)",
          "Sphere (90, 180, 16830)",
          "Bird (326, 635, 59449)",
          "Nested Chair (600, 1153, 108017)",
          "Fancy Chair (1920, 3840, 359040)",
          "Hat (455, 884, 82771)",
          "Lounge Pod (2712, 5228, 489700)"
         ],
         "y": [
          688.6524260044098,
          293.6190550327301,
          284.60494685173035,
          694.9613516330719,
          581.6777136325836,
          624.1003906726837,
          784.6906161308289,
          511.78583550453186,
          1355.1385362148285,
          1620.5609142780304,
          445.7683250904083,
          78.49682641029358,
          6.028873920440674,
          878.20370054245,
          1653.6535437107086,
          3906.184704065323,
          1079.2493829727173,
          45368.45498585701
         ]
        }
       ],
       "layout": {
        "barmode": "stack",
        "height": 700,
        "template": {
         "data": {
          "bar": [
           {
            "error_x": {
             "color": "#2a3f5f"
            },
            "error_y": {
             "color": "#2a3f5f"
            },
            "marker": {
             "line": {
              "color": "#E5ECF6",
              "width": 0.5
             }
            },
            "type": "bar"
           }
          ],
          "barpolar": [
           {
            "marker": {
             "line": {
              "color": "#E5ECF6",
              "width": 0.5
             }
            },
            "type": "barpolar"
           }
          ],
          "carpet": [
           {
            "aaxis": {
             "endlinecolor": "#2a3f5f",
             "gridcolor": "white",
             "linecolor": "white",
             "minorgridcolor": "white",
             "startlinecolor": "#2a3f5f"
            },
            "baxis": {
             "endlinecolor": "#2a3f5f",
             "gridcolor": "white",
             "linecolor": "white",
             "minorgridcolor": "white",
             "startlinecolor": "#2a3f5f"
            },
            "type": "carpet"
           }
          ],
          "choropleth": [
           {
            "colorbar": {
             "outlinewidth": 0,
             "ticks": ""
            },
            "type": "choropleth"
           }
          ],
          "contour": [
           {
            "colorbar": {
             "outlinewidth": 0,
             "ticks": ""
            },
            "colorscale": [
             [
              0,
              "#0d0887"
             ],
             [
              0.1111111111111111,
              "#46039f"
             ],
             [
              0.2222222222222222,
              "#7201a8"
             ],
             [
              0.3333333333333333,
              "#9c179e"
             ],
             [
              0.4444444444444444,
              "#bd3786"
             ],
             [
              0.5555555555555556,
              "#d8576b"
             ],
             [
              0.6666666666666666,
              "#ed7953"
             ],
             [
              0.7777777777777778,
              "#fb9f3a"
             ],
             [
              0.8888888888888888,
              "#fdca26"
             ],
             [
              1,
              "#f0f921"
             ]
            ],
            "type": "contour"
           }
          ],
          "contourcarpet": [
           {
            "colorbar": {
             "outlinewidth": 0,
             "ticks": ""
            },
            "type": "contourcarpet"
           }
          ],
          "heatmap": [
           {
            "colorbar": {
             "outlinewidth": 0,
             "ticks": ""
            },
            "colorscale": [
             [
              0,
              "#0d0887"
             ],
             [
              0.1111111111111111,
              "#46039f"
             ],
             [
              0.2222222222222222,
              "#7201a8"
             ],
             [
              0.3333333333333333,
              "#9c179e"
             ],
             [
              0.4444444444444444,
              "#bd3786"
             ],
             [
              0.5555555555555556,
              "#d8576b"
             ],
             [
              0.6666666666666666,
              "#ed7953"
             ],
             [
              0.7777777777777778,
              "#fb9f3a"
             ],
             [
              0.8888888888888888,
              "#fdca26"
             ],
             [
              1,
              "#f0f921"
             ]
            ],
            "type": "heatmap"
           }
          ],
          "heatmapgl": [
           {
            "colorbar": {
             "outlinewidth": 0,
             "ticks": ""
            },
            "colorscale": [
             [
              0,
              "#0d0887"
             ],
             [
              0.1111111111111111,
              "#46039f"
             ],
             [
              0.2222222222222222,
              "#7201a8"
             ],
             [
              0.3333333333333333,
              "#9c179e"
             ],
             [
              0.4444444444444444,
              "#bd3786"
             ],
             [
              0.5555555555555556,
              "#d8576b"
             ],
             [
              0.6666666666666666,
              "#ed7953"
             ],
             [
              0.7777777777777778,
              "#fb9f3a"
             ],
             [
              0.8888888888888888,
              "#fdca26"
             ],
             [
              1,
              "#f0f921"
             ]
            ],
            "type": "heatmapgl"
           }
          ],
          "histogram": [
           {
            "marker": {
             "colorbar": {
              "outlinewidth": 0,
              "ticks": ""
             }
            },
            "type": "histogram"
           }
          ],
          "histogram2d": [
           {
            "colorbar": {
             "outlinewidth": 0,
             "ticks": ""
            },
            "colorscale": [
             [
              0,
              "#0d0887"
             ],
             [
              0.1111111111111111,
              "#46039f"
             ],
             [
              0.2222222222222222,
              "#7201a8"
             ],
             [
              0.3333333333333333,
              "#9c179e"
             ],
             [
              0.4444444444444444,
              "#bd3786"
             ],
             [
              0.5555555555555556,
              "#d8576b"
             ],
             [
              0.6666666666666666,
              "#ed7953"
             ],
             [
              0.7777777777777778,
              "#fb9f3a"
             ],
             [
              0.8888888888888888,
              "#fdca26"
             ],
             [
              1,
              "#f0f921"
             ]
            ],
            "type": "histogram2d"
           }
          ],
          "histogram2dcontour": [
           {
            "colorbar": {
             "outlinewidth": 0,
             "ticks": ""
            },
            "colorscale": [
             [
              0,
              "#0d0887"
             ],
             [
              0.1111111111111111,
              "#46039f"
             ],
             [
              0.2222222222222222,
              "#7201a8"
             ],
             [
              0.3333333333333333,
              "#9c179e"
             ],
             [
              0.4444444444444444,
              "#bd3786"
             ],
             [
              0.5555555555555556,
              "#d8576b"
             ],
             [
              0.6666666666666666,
              "#ed7953"
             ],
             [
              0.7777777777777778,
              "#fb9f3a"
             ],
             [
              0.8888888888888888,
              "#fdca26"
             ],
             [
              1,
              "#f0f921"
             ]
            ],
            "type": "histogram2dcontour"
           }
          ],
          "mesh3d": [
           {
            "colorbar": {
             "outlinewidth": 0,
             "ticks": ""
            },
            "type": "mesh3d"
           }
          ],
          "parcoords": [
           {
            "line": {
             "colorbar": {
              "outlinewidth": 0,
              "ticks": ""
             }
            },
            "type": "parcoords"
           }
          ],
          "pie": [
           {
            "automargin": true,
            "type": "pie"
           }
          ],
          "scatter": [
           {
            "marker": {
             "colorbar": {
              "outlinewidth": 0,
              "ticks": ""
             }
            },
            "type": "scatter"
           }
          ],
          "scatter3d": [
           {
            "line": {
             "colorbar": {
              "outlinewidth": 0,
              "ticks": ""
             }
            },
            "marker": {
             "colorbar": {
              "outlinewidth": 0,
              "ticks": ""
             }
            },
            "type": "scatter3d"
           }
          ],
          "scattercarpet": [
           {
            "marker": {
             "colorbar": {
              "outlinewidth": 0,
              "ticks": ""
             }
            },
            "type": "scattercarpet"
           }
          ],
          "scattergeo": [
           {
            "marker": {
             "colorbar": {
              "outlinewidth": 0,
              "ticks": ""
             }
            },
            "type": "scattergeo"
           }
          ],
          "scattergl": [
           {
            "marker": {
             "colorbar": {
              "outlinewidth": 0,
              "ticks": ""
             }
            },
            "type": "scattergl"
           }
          ],
          "scattermapbox": [
           {
            "marker": {
             "colorbar": {
              "outlinewidth": 0,
              "ticks": ""
             }
            },
            "type": "scattermapbox"
           }
          ],
          "scatterpolar": [
           {
            "marker": {
             "colorbar": {
              "outlinewidth": 0,
              "ticks": ""
             }
            },
            "type": "scatterpolar"
           }
          ],
          "scatterpolargl": [
           {
            "marker": {
             "colorbar": {
              "outlinewidth": 0,
              "ticks": ""
             }
            },
            "type": "scatterpolargl"
           }
          ],
          "scatterternary": [
           {
            "marker": {
             "colorbar": {
              "outlinewidth": 0,
              "ticks": ""
             }
            },
            "type": "scatterternary"
           }
          ],
          "surface": [
           {
            "colorbar": {
             "outlinewidth": 0,
             "ticks": ""
            },
            "colorscale": [
             [
              0,
              "#0d0887"
             ],
             [
              0.1111111111111111,
              "#46039f"
             ],
             [
              0.2222222222222222,
              "#7201a8"
             ],
             [
              0.3333333333333333,
              "#9c179e"
             ],
             [
              0.4444444444444444,
              "#bd3786"
             ],
             [
              0.5555555555555556,
              "#d8576b"
             ],
             [
              0.6666666666666666,
              "#ed7953"
             ],
             [
              0.7777777777777778,
              "#fb9f3a"
             ],
             [
              0.8888888888888888,
              "#fdca26"
             ],
             [
              1,
              "#f0f921"
             ]
            ],
            "type": "surface"
           }
          ],
          "table": [
           {
            "cells": {
             "fill": {
              "color": "#EBF0F8"
             },
             "line": {
              "color": "white"
             }
            },
            "header": {
             "fill": {
              "color": "#C8D4E3"
             },
             "line": {
              "color": "white"
             }
            },
            "type": "table"
           }
          ]
         },
         "layout": {
          "annotationdefaults": {
           "arrowcolor": "#2a3f5f",
           "arrowhead": 0,
           "arrowwidth": 1
          },
          "coloraxis": {
           "colorbar": {
            "outlinewidth": 0,
            "ticks": ""
           }
          },
          "colorscale": {
           "diverging": [
            [
             0,
             "#8e0152"
            ],
            [
             0.1,
             "#c51b7d"
            ],
            [
             0.2,
             "#de77ae"
            ],
            [
             0.3,
             "#f1b6da"
            ],
            [
             0.4,
             "#fde0ef"
            ],
            [
             0.5,
             "#f7f7f7"
            ],
            [
             0.6,
             "#e6f5d0"
            ],
            [
             0.7,
             "#b8e186"
            ],
            [
             0.8,
             "#7fbc41"
            ],
            [
             0.9,
             "#4d9221"
            ],
            [
             1,
             "#276419"
            ]
           ],
           "sequential": [
            [
             0,
             "#0d0887"
            ],
            [
             0.1111111111111111,
             "#46039f"
            ],
            [
             0.2222222222222222,
             "#7201a8"
            ],
            [
             0.3333333333333333,
             "#9c179e"
            ],
            [
             0.4444444444444444,
             "#bd3786"
            ],
            [
             0.5555555555555556,
             "#d8576b"
            ],
            [
             0.6666666666666666,
             "#ed7953"
            ],
            [
             0.7777777777777778,
             "#fb9f3a"
            ],
            [
             0.8888888888888888,
             "#fdca26"
            ],
            [
             1,
             "#f0f921"
            ]
           ],
           "sequentialminus": [
            [
             0,
             "#0d0887"
            ],
            [
             0.1111111111111111,
             "#46039f"
            ],
            [
             0.2222222222222222,
             "#7201a8"
            ],
            [
             0.3333333333333333,
             "#9c179e"
            ],
            [
             0.4444444444444444,
             "#bd3786"
            ],
            [
             0.5555555555555556,
             "#d8576b"
            ],
            [
             0.6666666666666666,
             "#ed7953"
            ],
            [
             0.7777777777777778,
             "#fb9f3a"
            ],
            [
             0.8888888888888888,
             "#fdca26"
            ],
            [
             1,
             "#f0f921"
            ]
           ]
          },
          "colorway": [
           "#636efa",
           "#EF553B",
           "#00cc96",
           "#ab63fa",
           "#FFA15A",
           "#19d3f3",
           "#FF6692",
           "#B6E880",
           "#FF97FF",
           "#FECB52"
          ],
          "font": {
           "color": "#2a3f5f"
          },
          "geo": {
           "bgcolor": "white",
           "lakecolor": "white",
           "landcolor": "#E5ECF6",
           "showlakes": true,
           "showland": true,
           "subunitcolor": "white"
          },
          "hoverlabel": {
           "align": "left"
          },
          "hovermode": "closest",
          "mapbox": {
           "style": "light"
          },
          "paper_bgcolor": "white",
          "plot_bgcolor": "#E5ECF6",
          "polar": {
           "angularaxis": {
            "gridcolor": "white",
            "linecolor": "white",
            "ticks": ""
           },
           "bgcolor": "#E5ECF6",
           "radialaxis": {
            "gridcolor": "white",
            "linecolor": "white",
            "ticks": ""
           }
          },
          "scene": {
           "xaxis": {
            "backgroundcolor": "#E5ECF6",
            "gridcolor": "white",
            "gridwidth": 2,
            "linecolor": "white",
            "showbackground": true,
            "ticks": "",
            "zerolinecolor": "white"
           },
           "yaxis": {
            "backgroundcolor": "#E5ECF6",
            "gridcolor": "white",
            "gridwidth": 2,
            "linecolor": "white",
            "showbackground": true,
            "ticks": "",
            "zerolinecolor": "white"
           },
           "zaxis": {
            "backgroundcolor": "#E5ECF6",
            "gridcolor": "white",
            "gridwidth": 2,
            "linecolor": "white",
            "showbackground": true,
            "ticks": "",
            "zerolinecolor": "white"
           }
          },
          "shapedefaults": {
           "line": {
            "color": "#2a3f5f"
           }
          },
          "ternary": {
           "aaxis": {
            "gridcolor": "white",
            "linecolor": "white",
            "ticks": ""
           },
           "baxis": {
            "gridcolor": "white",
            "linecolor": "white",
            "ticks": ""
           },
           "bgcolor": "#E5ECF6",
           "caxis": {
            "gridcolor": "white",
            "linecolor": "white",
            "ticks": ""
           }
          },
          "title": {
           "x": 0.05
          },
          "xaxis": {
           "automargin": true,
           "gridcolor": "white",
           "linecolor": "white",
           "ticks": "",
           "title": {
            "standoff": 15
           },
           "zerolinecolor": "white",
           "zerolinewidth": 2
          },
          "yaxis": {
           "automargin": true,
           "gridcolor": "white",
           "linecolor": "white",
           "ticks": "",
           "title": {
            "standoff": 15
           },
           "zerolinecolor": "white",
           "zerolinewidth": 2
          }
         }
        },
        "title": {
         "text": "Weaving Optimization Runtime",
         "x": 0.5,
         "xanchor": "center"
        },
        "width": 1000,
        "xaxis": {
         "autorange": true,
         "categoryorder": "total ascending",
         "range": [
          -0.5,
          17.5
         ],
         "title": {
          "text": "Models"
         },
         "type": "category"
        },
        "yaxis": {
         "autorange": true,
         "range": [
          0,
          51539.663709841276
         ],
         "title": {
          "text": "Runtime (seconds)"
         },
         "type": "linear"
        }
       }
      },
      "image/png": "[encoded data removed]",
      "text/html": [
       "<div>\n",
       "        \n",
       "        \n",
       "            <div id=\"e269b70d-9fb1-4bf1-b891-cfc1711b9551\" class=\"plotly-graph-div\" style=\"height:700px; width:1000px;\"></div>\n",
       "            <script type=\"text/javascript\">\n",
       "                require([\"plotly\"], function(Plotly) {\n",
       "                    window.PLOTLYENV=window.PLOTLYENV || {};\n",
       "                    \n",
       "                if (document.getElementById(\"e269b70d-9fb1-4bf1-b891-cfc1711b9551\")) {\n",
       "                    Plotly.newPlot(\n",
       "                        'e269b70d-9fb1-4bf1-b891-cfc1711b9551',\n",
       "                        [{\"name\": \"Initialization\", \"type\": \"bar\", \"x\": [\"Klein bottle (540, 1080, 100980)\", \"Cat 5 (516, 1032, 96492)\", \"Cat 4 (516, 1032, 96492)\", \"Cat 3 (516, 1032, 96492)\", \"Cat 2 (516, 1032, 96492)\", \"Cat 1 (516, 1032, 96492)\", \"Costa Minimum Surface (396, 752, 70492)\", \"Hanging Lamp (596, 1184, 110740)\", \"Lilium Roof (488, 932, 87340)\", \"Panton Chair (478, 913, 85559)\", \"Pseudosphere Section (264, 506, 47410)\", \"Torus (252, 504, 47124)\", \"Sphere (90, 180, 16830)\", \"Bird (326, 635, 59449)\", \"Nested Chair (600, 1153, 108017)\", \"Fancy Chair (1920, 3840, 359040)\", \"Hat (455, 884, 82771)\", \"Lounge Pod (2712, 5228, 489700)\"], \"y\": [5.138254404067993, 0.4830048084259033, 5.27093768119812, 5.195821523666382, 5.201542377471924, 5.23360538482666, 3.6963727474212646, 0.4451131820678711, 0.16900897026062012, 0.1534137725830078, 0.09254598617553711, 0.2447223663330078, 0.03309178352355957, 0.10734915733337402, 0.2272508144378662, 20.389904737472534, 0.1549832820892334, 10.718867540359497]}, {\"name\": \"Stage 1\", \"type\": \"bar\", \"x\": [\"Klein bottle (540, 1080, 100980)\", \"Cat 5 (516, 1032, 96492)\", \"Cat 4 (516, 1032, 96492)\", \"Cat 3 (516, 1032, 96492)\", \"Cat 2 (516, 1032, 96492)\", \"Cat 1 (516, 1032, 96492)\", \"Costa Minimum Surface (396, 752, 70492)\", \"Hanging Lamp (596, 1184, 110740)\", \"Lilium Roof (488, 932, 87340)\", \"Panton Chair (478, 913, 85559)\", \"Pseudosphere Section (264, 506, 47410)\", \"Torus (252, 504, 47124)\", \"Sphere (90, 180, 16830)\", \"Bird (326, 635, 59449)\", \"Nested Chair (600, 1153, 108017)\", \"Fancy Chair (1920, 3840, 359040)\", \"Hat (455, 884, 82771)\", \"Lounge Pod (2712, 5228, 489700)\"], \"y\": [273.5185627937317, 64.66956520080566, 130.4274446964264, 124.86630535125732, 105.33616209030151, 104.18040919303894, 29.942984580993652, 118.06243205070496, 26.852205753326416, 44.47800016403198, 25.996535301208496, 21.23650574684143, 0.8186888694763184, 43.87282967567444, 258.49755215644836, 211.3160400390625, 25.795975923538208, 3583.5066709518433]}, {\"name\": \"Stage 2\", \"type\": \"bar\", \"x\": [\"Klein bottle (540, 1080, 100980)\", \"Cat 5 (516, 1032, 96492)\", \"Cat 4 (516, 1032, 96492)\", \"Cat 3 (516, 1032, 96492)\", \"Cat 2 (516, 1032, 96492)\", \"Cat 1 (516, 1032, 96492)\", \"Costa Minimum Surface (396, 752, 70492)\", \"Hanging Lamp (596, 1184, 110740)\", \"Lilium Roof (488, 932, 87340)\", \"Panton Chair (478, 913, 85559)\", \"Pseudosphere Section (264, 506, 47410)\", \"Torus (252, 504, 47124)\", \"Sphere (90, 180, 16830)\", \"Bird (326, 635, 59449)\", \"Nested Chair (600, 1153, 108017)\", \"Fancy Chair (1920, 3840, 359040)\", \"Hat (455, 884, 82771)\", \"Lounge Pod (2712, 5228, 489700)\"], \"y\": [688.6524260044098, 293.6190550327301, 284.60494685173035, 694.9613516330719, 581.6777136325836, 624.1003906726837, 784.6906161308289, 511.78583550453186, 1355.1385362148285, 1620.5609142780304, 445.7683250904083, 78.49682641029358, 6.028873920440674, 878.20370054245, 1653.6535437107086, 3906.184704065323, 1079.2493829727173, 45368.45498585701]}],\n",
       "                        {\"barmode\": \"stack\", \"height\": 700, \"template\": {\"data\": {\"bar\": [{\"error_x\": {\"color\": \"#2a3f5f\"}, \"error_y\": {\"color\": \"#2a3f5f\"}, \"marker\": {\"line\": {\"color\": \"#E5ECF6\", \"width\": 0.5}}, \"type\": \"bar\"}], \"barpolar\": [{\"marker\": {\"line\": {\"color\": \"#E5ECF6\", \"width\": 0.5}}, \"type\": \"barpolar\"}], \"carpet\": [{\"aaxis\": {\"endlinecolor\": \"#2a3f5f\", \"gridcolor\": \"white\", \"linecolor\": \"white\", \"minorgridcolor\": \"white\", \"startlinecolor\": \"#2a3f5f\"}, \"baxis\": {\"endlinecolor\": \"#2a3f5f\", \"gridcolor\": \"white\", \"linecolor\": \"white\", \"minorgridcolor\": \"white\", \"startlinecolor\": \"#2a3f5f\"}, \"type\": \"carpet\"}], \"choropleth\": [{\"colorbar\": {\"outlinewidth\": 0, \"ticks\": \"\"}, \"type\": \"choropleth\"}], \"contour\": [{\"colorbar\": {\"outlinewidth\": 0, \"ticks\": \"\"}, \"colorscale\": [[0.0, \"#0d0887\"], [0.1111111111111111, \"#46039f\"], [0.2222222222222222, \"#7201a8\"], [0.3333333333333333, \"#9c179e\"], [0.4444444444444444, \"#bd3786\"], [0.5555555555555556, \"#d8576b\"], [0.6666666666666666, \"#ed7953\"], [0.7777777777777778, \"#fb9f3a\"], [0.8888888888888888, \"#fdca26\"], [1.0, \"#f0f921\"]], \"type\": \"contour\"}], \"contourcarpet\": [{\"colorbar\": {\"outlinewidth\": 0, \"ticks\": \"\"}, \"type\": \"contourcarpet\"}], \"heatmap\": [{\"colorbar\": {\"outlinewidth\": 0, \"ticks\": \"\"}, \"colorscale\": [[0.0, \"#0d0887\"], [0.1111111111111111, \"#46039f\"], [0.2222222222222222, \"#7201a8\"], [0.3333333333333333, \"#9c179e\"], [0.4444444444444444, \"#bd3786\"], [0.5555555555555556, \"#d8576b\"], [0.6666666666666666, \"#ed7953\"], [0.7777777777777778, \"#fb9f3a\"], [0.8888888888888888, \"#fdca26\"], [1.0, \"#f0f921\"]], \"type\": \"heatmap\"}], \"heatmapgl\": [{\"colorbar\": {\"outlinewidth\": 0, \"ticks\": \"\"}, \"colorscale\": [[0.0, \"#0d0887\"], [0.1111111111111111, \"#46039f\"], [0.2222222222222222, \"#7201a8\"], [0.3333333333333333, \"#9c179e\"], [0.4444444444444444, \"#bd3786\"], [0.5555555555555556, \"#d8576b\"], [0.6666666666666666, \"#ed7953\"], [0.7777777777777778, \"#fb9f3a\"], [0.8888888888888888, \"#fdca26\"], [1.0, \"#f0f921\"]], \"type\": \"heatmapgl\"}], \"histogram\": [{\"marker\": {\"colorbar\": {\"outlinewidth\": 0, \"ticks\": \"\"}}, \"type\": \"histogram\"}], \"histogram2d\": [{\"colorbar\": {\"outlinewidth\": 0, \"ticks\": \"\"}, \"colorscale\": [[0.0, \"#0d0887\"], [0.1111111111111111, \"#46039f\"], [0.2222222222222222, \"#7201a8\"], [0.3333333333333333, \"#9c179e\"], [0.4444444444444444, \"#bd3786\"], [0.5555555555555556, \"#d8576b\"], [0.6666666666666666, \"#ed7953\"], [0.7777777777777778, \"#fb9f3a\"], [0.8888888888888888, \"#fdca26\"], [1.0, \"#f0f921\"]], \"type\": \"histogram2d\"}], \"histogram2dcontour\": [{\"colorbar\": {\"outlinewidth\": 0, \"ticks\": \"\"}, \"colorscale\": [[0.0, \"#0d0887\"], [0.1111111111111111, \"#46039f\"], [0.2222222222222222, \"#7201a8\"], [0.3333333333333333, \"#9c179e\"], [0.4444444444444444, \"#bd3786\"], [0.5555555555555556, \"#d8576b\"], [0.6666666666666666, \"#ed7953\"], [0.7777777777777778, \"#fb9f3a\"], [0.8888888888888888, \"#fdca26\"], [1.0, \"#f0f921\"]], \"type\": \"histogram2dcontour\"}], \"mesh3d\": [{\"colorbar\": {\"outlinewidth\": 0, \"ticks\": \"\"}, \"type\": \"mesh3d\"}], \"parcoords\": [{\"line\": {\"colorbar\": {\"outlinewidth\": 0, \"ticks\": \"\"}}, \"type\": \"parcoords\"}], \"pie\": [{\"automargin\": true, \"type\": \"pie\"}], \"scatter\": [{\"marker\": {\"colorbar\": {\"outlinewidth\": 0, \"ticks\": \"\"}}, \"type\": \"scatter\"}], \"scatter3d\": [{\"line\": {\"colorbar\": {\"outlinewidth\": 0, \"ticks\": \"\"}}, \"marker\": {\"colorbar\": {\"outlinewidth\": 0, \"ticks\": \"\"}}, \"type\": \"scatter3d\"}], \"scattercarpet\": [{\"marker\": {\"colorbar\": {\"outlinewidth\": 0, \"ticks\": \"\"}}, \"type\": \"scattercarpet\"}], \"scattergeo\": [{\"marker\": {\"colorbar\": {\"outlinewidth\": 0, \"ticks\": \"\"}}, \"type\": \"scattergeo\"}], \"scattergl\": [{\"marker\": {\"colorbar\": {\"outlinewidth\": 0, \"ticks\": \"\"}}, \"type\": \"scattergl\"}], \"scattermapbox\": [{\"marker\": {\"colorbar\": {\"outlinewidth\": 0, \"ticks\": \"\"}}, \"type\": \"scattermapbox\"}], \"scatterpolar\": [{\"marker\": {\"colorbar\": {\"outlinewidth\": 0, \"ticks\": \"\"}}, \"type\": \"scatterpolar\"}], \"scatterpolargl\": [{\"marker\": {\"colorbar\": {\"outlinewidth\": 0, \"ticks\": \"\"}}, \"type\": \"scatterpolargl\"}], \"scatterternary\": [{\"marker\": {\"colorbar\": {\"outlinewidth\": 0, \"ticks\": \"\"}}, \"type\": \"scatterternary\"}], \"surface\": [{\"colorbar\": {\"outlinewidth\": 0, \"ticks\": \"\"}, \"colorscale\": [[0.0, \"#0d0887\"], [0.1111111111111111, \"#46039f\"], [0.2222222222222222, \"#7201a8\"], [0.3333333333333333, \"#9c179e\"], [0.4444444444444444, \"#bd3786\"], [0.5555555555555556, \"#d8576b\"], [0.6666666666666666, \"#ed7953\"], [0.7777777777777778, \"#fb9f3a\"], [0.8888888888888888, \"#fdca26\"], [1.0, \"#f0f921\"]], \"type\": \"surface\"}], \"table\": [{\"cells\": {\"fill\": {\"color\": \"#EBF0F8\"}, \"line\": {\"color\": \"white\"}}, \"header\": {\"fill\": {\"color\": \"#C8D4E3\"}, \"line\": {\"color\": \"white\"}}, \"type\": \"table\"}]}, \"layout\": {\"annotationdefaults\": {\"arrowcolor\": \"#2a3f5f\", \"arrowhead\": 0, \"arrowwidth\": 1}, \"coloraxis\": {\"colorbar\": {\"outlinewidth\": 0, \"ticks\": \"\"}}, \"colorscale\": {\"diverging\": [[0, \"#8e0152\"], [0.1, \"#c51b7d\"], [0.2, \"#de77ae\"], [0.3, \"#f1b6da\"], [0.4, \"#fde0ef\"], [0.5, \"#f7f7f7\"], [0.6, \"#e6f5d0\"], [0.7, \"#b8e186\"], [0.8, \"#7fbc41\"], [0.9, \"#4d9221\"], [1, \"#276419\"]], \"sequential\": [[0.0, \"#0d0887\"], [0.1111111111111111, \"#46039f\"], [0.2222222222222222, \"#7201a8\"], [0.3333333333333333, \"#9c179e\"], [0.4444444444444444, \"#bd3786\"], [0.5555555555555556, \"#d8576b\"], [0.6666666666666666, \"#ed7953\"], [0.7777777777777778, \"#fb9f3a\"], [0.8888888888888888, \"#fdca26\"], [1.0, \"#f0f921\"]], \"sequentialminus\": [[0.0, \"#0d0887\"], [0.1111111111111111, \"#46039f\"], [0.2222222222222222, \"#7201a8\"], [0.3333333333333333, \"#9c179e\"], [0.4444444444444444, \"#bd3786\"], [0.5555555555555556, \"#d8576b\"], [0.6666666666666666, \"#ed7953\"], [0.7777777777777778, \"#fb9f3a\"], [0.8888888888888888, \"#fdca26\"], [1.0, \"#f0f921\"]]}, \"colorway\": [\"#636efa\", \"#EF553B\", \"#00cc96\", \"#ab63fa\", \"#FFA15A\", \"#19d3f3\", \"#FF6692\", \"#B6E880\", \"#FF97FF\", \"#FECB52\"], \"font\": {\"color\": \"#2a3f5f\"}, \"geo\": {\"bgcolor\": \"white\", \"lakecolor\": \"white\", \"landcolor\": \"#E5ECF6\", \"showlakes\": true, \"showland\": true, \"subunitcolor\": \"white\"}, \"hoverlabel\": {\"align\": \"left\"}, \"hovermode\": \"closest\", \"mapbox\": {\"style\": \"light\"}, \"paper_bgcolor\": \"white\", \"plot_bgcolor\": \"#E5ECF6\", \"polar\": {\"angularaxis\": {\"gridcolor\": \"white\", \"linecolor\": \"white\", \"ticks\": \"\"}, \"bgcolor\": \"#E5ECF6\", \"radialaxis\": {\"gridcolor\": \"white\", \"linecolor\": \"white\", \"ticks\": \"\"}}, \"scene\": {\"xaxis\": {\"backgroundcolor\": \"#E5ECF6\", \"gridcolor\": \"white\", \"gridwidth\": 2, \"linecolor\": \"white\", \"showbackground\": true, \"ticks\": \"\", \"zerolinecolor\": \"white\"}, \"yaxis\": {\"backgroundcolor\": \"#E5ECF6\", \"gridcolor\": \"white\", \"gridwidth\": 2, \"linecolor\": \"white\", \"showbackground\": true, \"ticks\": \"\", \"zerolinecolor\": \"white\"}, \"zaxis\": {\"backgroundcolor\": \"#E5ECF6\", \"gridcolor\": \"white\", \"gridwidth\": 2, \"linecolor\": \"white\", \"showbackground\": true, \"ticks\": \"\", \"zerolinecolor\": \"white\"}}, \"shapedefaults\": {\"line\": {\"color\": \"#2a3f5f\"}}, \"ternary\": {\"aaxis\": {\"gridcolor\": \"white\", \"linecolor\": \"white\", \"ticks\": \"\"}, \"baxis\": {\"gridcolor\": \"white\", \"linecolor\": \"white\", \"ticks\": \"\"}, \"bgcolor\": \"#E5ECF6\", \"caxis\": {\"gridcolor\": \"white\", \"linecolor\": \"white\", \"ticks\": \"\"}}, \"title\": {\"x\": 0.05}, \"xaxis\": {\"automargin\": true, \"gridcolor\": \"white\", \"linecolor\": \"white\", \"ticks\": \"\", \"title\": {\"standoff\": 15}, \"zerolinecolor\": \"white\", \"zerolinewidth\": 2}, \"yaxis\": {\"automargin\": true, \"gridcolor\": \"white\", \"linecolor\": \"white\", \"ticks\": \"\", \"title\": {\"standoff\": 15}, \"zerolinecolor\": \"white\", \"zerolinewidth\": 2}}}, \"title\": {\"text\": \"Weaving Optimization Runtime\", \"x\": 0.5, \"xanchor\": \"center\"}, \"width\": 1000, \"xaxis\": {\"categoryorder\": \"total ascending\", \"title\": {\"text\": \"Models\"}}, \"yaxis\": {\"title\": {\"text\": \"Runtime (seconds)\"}}},\n",
       "                        {\"responsive\": true}\n",
       "                    ).then(function(){\n",
       "                            \n",
       "var gd = document.getElementById('e269b70d-9fb1-4bf1-b891-cfc1711b9551');\n",
       "var x = new MutationObserver(function (mutations, observer) {{\n",
       "        var display = window.getComputedStyle(gd).display;\n",
       "        if (!display || display === 'none') {{\n",
       "            console.log([gd, 'removed!']);\n",
       "            Plotly.purge(gd);\n",
       "            observer.disconnect();\n",
       "        }}\n",
       "}});\n",
       "\n",
       "// Listen for the removal of the full notebook cells\n",
       "var notebookContainer = gd.closest('#notebook-container');\n",
       "if (notebookContainer) {{\n",
       "    x.observe(notebookContainer, {childList: true});\n",
       "}}\n",
       "\n",
       "// Listen for the clearing of the current output cell\n",
       "var outputEl = gd.closest('.output');\n",
       "if (outputEl) {{\n",
       "    x.observe(outputEl, {childList: true});\n",
       "}}\n",
       "\n",
       "                        })\n",
       "                };\n",
       "                });\n",
       "            </script>\n",
       "        </div>"
      ]
     },
     "metadata": {},
     "output_type": "display_data"
    }
   ],
   "source": [
    "import plotly.graph_objs as go\n",
    "from plotly import tools\n",
    "import plotly\n",
    "\n",
    "# trace1 = go.Bar(x = weaving_display_name, y = weaving_num_crossings, name = 'Number of Crossings')\n",
    "# trace2 = go.Bar(x = weaving_display_name, y = weaving_num_segments, name = 'Number of Ribbon Segments')\n",
    "# trace3 = go.Bar(x = weaving_display_name, y = weaving_dof, name = 'DoF')\n",
    "# trace4 = go.Bar(x = weaving_display_name, y = weaving_initialization, name = 'Initialization')\n",
    "# trace5 = go.Bar(x = weaving_display_name, y = weaving_stage_1, name = 'Stage 1')\n",
    "# trace6 = go.Bar(x = weaving_display_name, y = weaving_stage_2, name = 'Stage 2')\n",
    "# trace7 = go.Bar(x = weaving_display_name, y = weaving_validation_error, name = 'Validation Error')\n",
    "# trace8 = go.Bar(x = weaving_display_name, y = weaving_norm_max_dis, name = 'Norm. Max Distance to Surface')\n",
    "# trace9 = go.Bar(x = weaving_display_name, y = weaving_max_normal_deviation, name = 'Max Normal Deviation')\n",
    "\n",
    "# fig = go.Figure(trace1)\n",
    "# fig.add_trace(trace2) \n",
    "# fig.add_trace(trace3) \n",
    "# fig.add_trace(trace4) \n",
    "# fig.add_trace(trace5) \n",
    "# fig.add_trace(trace6) \n",
    "# fig.add_trace(trace7) \n",
    "# fig.add_trace(trace8) \n",
    "# fig.add_trace(trace9) \n",
    "\n",
    "\n",
    "timing_names = ['{} ({}, {}, {})'.format(weaving_display_name[i], weaving_num_crossings[i], weaving_num_segments[i], weaving_dof[i]) for i in range(len(weaving_display_name))]\n",
    "trace4 = go.Bar(x = timing_names, y = weaving_initialization, name = 'Initialization')\n",
    "trace5 = go.Bar(x = timing_names, y = weaving_stage_1, name = 'Stage 1')\n",
    "trace6 = go.Bar(x = timing_names, y = weaving_stage_2, name = 'Stage 2')\n",
    "\n",
    "fig = go.Figure(trace4)\n",
    "fig.add_trace(trace5) \n",
    "fig.add_trace(trace6) \n",
    "fig.update_layout(barmode='stack', xaxis={'categoryorder':'total ascending'}, xaxis_title = \"Models\", yaxis_title=\"Runtime (seconds)\", title= {'text': 'Weaving Optimization Runtime', 'xanchor': 'center', 'x':0.5}, width = 1000, height = 700)\n",
    "fig.show()"
   ]
  },
  {
   "cell_type": "code",
   "execution_count": 15,
   "metadata": {},
   "outputs": [],
   "source": [
    "trace1 = go.Bar(x = weaving_display_name, y = weaving_num_crossings, name = 'Number of Crossings')\n",
    "trace2 = go.Bar(x = weaving_display_name, y = weaving_num_segments, name = 'Number of Ribbon Segments')\n",
    "trace3 = go.Bar(x = weaving_display_name, y = weaving_dof, name = 'DoF')\n",
    "trace4 = go.Bar(x = weaving_display_name, y = weaving_initialization, name = 'Initialization')\n",
    "trace5 = go.Bar(x = weaving_display_name, y = weaving_stage_1, name = 'Stage 1')\n",
    "trace6 = go.Bar(x = weaving_display_name, y = weaving_stage_2, name = 'Stage 2')\n",
    "trace7 = go.Bar(x = weaving_display_name, y = weaving_validation_error, name = 'Validation Error')\n",
    "trace8 = go.Bar(x = weaving_display_name, y = weaving_norm_max_dis, name = 'Norm. Max Distance to Surface')\n",
    "trace9 = go.Bar(x = weaving_display_name, y = weaving_max_normal_deviation, name = 'Max Normal Deviation')"
   ]
  },
  {
   "cell_type": "code",
   "execution_count": 16,
   "metadata": {},
   "outputs": [],
   "source": [
    "# import pytablewriter\n",
    "# writer = pytablewriter.LatexTableWriter()\n",
    "# writer.table_name = \"Weaving Pipeline\"\n",
    "# writer.headers = ['Display Name', 'Number of Crossings', 'Number of Ribbon Segments', 'DoF', 'Initialization', 'Stage 1', 'Stage 2', 'Validation Error', 'Norm. Max Distance to Surface', 'Max Normal Deviation']\n",
    "\n",
    "# writer.value_matrix = [[weaving_display_name[i], weaving_num_crossings[i], weaving_num_segments[i], weaving_dof[i], weaving_initialization[i], weaving_stage_1[i], weaving_stage_2[i], weaving_validation_error[i], weaving_norm_max_dis[i], weaving_max_normal_deviation[i]] for i in range(len(weaving_display_name))]\n",
    "\n",
    "# writer.write_table()"
   ]
  },
  {
   "cell_type": "code",
   "execution_count": 17,
   "metadata": {},
   "outputs": [
    {
     "data": {
      "application/vnd.plotly.v1+json": {
       "config": {
        "plotlyServerURL": "https://plot.ly"
       },
       "data": [
        {
         "cells": {
          "values": [
           [
            "Sphere",
            "Torus",
            "Pseudosphere Section",
            "Bird",
            "Costa Minimum Surface",
            "Hat",
            "Panton Chair",
            "Lilium Roof",
            "Cat 5",
            "Cat 4",
            "Cat 3",
            "Cat 2",
            "Cat 1",
            "Klein bottle",
            "Hanging Lamp",
            "Nested Chair",
            "Fancy Chair",
            "Lounge Pod"
           ],
           [
            "90",
            "252",
            "264",
            "326",
            "396",
            "455",
            "478",
            "488",
            "516",
            "516",
            "516",
            "516",
            "516",
            "540",
            "596",
            "600",
            "1920",
            "2712"
           ],
           [
            "180",
            "504",
            "506",
            "635",
            "752",
            "884",
            "913",
            "932",
            "1032",
            "1032",
            "1032",
            "1032",
            "1032",
            "1080",
            "1184",
            "1153",
            "3840",
            "5228"
           ],
           [
            "16830",
            "47124",
            "47410",
            "59449",
            "70492",
            "82771",
            "85559",
            "87340",
            "96492",
            "96492",
            "96492",
            "96492",
            "96492",
            "100980",
            "110740",
            "108017",
            "359040",
            "489700"
           ],
           [
            "0.0331",
            "0.2447",
            "0.0925",
            "0.1073",
            "3.6964",
            "0.155",
            "0.1534",
            "0.169",
            "0.483",
            "5.2709",
            "5.1958",
            "5.2015",
            "5.2336",
            "5.1383",
            "0.4451",
            "0.2273",
            "20.3899",
            "10.7189"
           ],
           [
            "0.8187",
            "21.2365",
            "25.9965",
            "43.8728",
            "29.943",
            "25.796",
            "44.478",
            "26.8522",
            "64.6696",
            "130.4274",
            "124.8663",
            "105.3362",
            "104.1804",
            "273.5186",
            "118.0624",
            "258.4976",
            "211.316",
            "3583.5067"
           ],
           [
            "6.0289",
            "78.4968",
            "445.7683",
            "878.2037",
            "784.6906",
            "1079.2494",
            "1620.5609",
            "1355.1385",
            "293.6191",
            "284.6049",
            "694.9614",
            "581.6777",
            "624.1004",
            "688.6524",
            "511.7858",
            "1653.6535",
            "3906.1847",
            "45368.455"
           ],
           [
            "0.0",
            "0.0",
            "0.0",
            "0.0011",
            "0.0",
            "0.0",
            "0.0",
            "0.0",
            "0.0007",
            "0.0015",
            "0.0102",
            "0.0199",
            "0.0246",
            "0.0",
            "0.0",
            "0.0",
            "0.0",
            "0.0"
           ],
           [
            "0.0108",
            "0.0074",
            "0.0235",
            "0.0157",
            "0.0224",
            "0.0145",
            "0.0255",
            "0.0101",
            "0.0224",
            "0.0166",
            "0.0089",
            "0.0041",
            "0.0039",
            "0.0058",
            "0.0074",
            "0.0166",
            "0.0117",
            "0.009"
           ],
           [
            "2.6966",
            "2.529",
            "14.6432",
            "68.9233",
            "9.5153",
            "8.9811",
            "54.2363",
            "8.273",
            "30.6333",
            "15.1842",
            "14.9663",
            "2.5947",
            "1.6163",
            "6.9237",
            "6.679",
            "17.1235",
            "25.1931",
            "8.7923"
           ]
          ]
         },
         "header": {
          "values": [
           "Model Name",
           "Number of Crossings",
           "Number of Ribbon Segments",
           "DoF",
           "Initialization Time (s)",
           "Stage 1 Time (s)",
           "Stage 2 Time (s)",
           "Validation Error",
           "Norm. Max Distance to Surface",
           "Max Normal Deviation"
          ]
         },
         "type": "table"
        }
       ],
       "layout": {
        "autosize": true,
        "template": {
         "data": {
          "bar": [
           {
            "error_x": {
             "color": "#2a3f5f"
            },
            "error_y": {
             "color": "#2a3f5f"
            },
            "marker": {
             "line": {
              "color": "#E5ECF6",
              "width": 0.5
             }
            },
            "type": "bar"
           }
          ],
          "barpolar": [
           {
            "marker": {
             "line": {
              "color": "#E5ECF6",
              "width": 0.5
             }
            },
            "type": "barpolar"
           }
          ],
          "carpet": [
           {
            "aaxis": {
             "endlinecolor": "#2a3f5f",
             "gridcolor": "white",
             "linecolor": "white",
             "minorgridcolor": "white",
             "startlinecolor": "#2a3f5f"
            },
            "baxis": {
             "endlinecolor": "#2a3f5f",
             "gridcolor": "white",
             "linecolor": "white",
             "minorgridcolor": "white",
             "startlinecolor": "#2a3f5f"
            },
            "type": "carpet"
           }
          ],
          "choropleth": [
           {
            "colorbar": {
             "outlinewidth": 0,
             "ticks": ""
            },
            "type": "choropleth"
           }
          ],
          "contour": [
           {
            "colorbar": {
             "outlinewidth": 0,
             "ticks": ""
            },
            "colorscale": [
             [
              0,
              "#0d0887"
             ],
             [
              0.1111111111111111,
              "#46039f"
             ],
             [
              0.2222222222222222,
              "#7201a8"
             ],
             [
              0.3333333333333333,
              "#9c179e"
             ],
             [
              0.4444444444444444,
              "#bd3786"
             ],
             [
              0.5555555555555556,
              "#d8576b"
             ],
             [
              0.6666666666666666,
              "#ed7953"
             ],
             [
              0.7777777777777778,
              "#fb9f3a"
             ],
             [
              0.8888888888888888,
              "#fdca26"
             ],
             [
              1,
              "#f0f921"
             ]
            ],
            "type": "contour"
           }
          ],
          "contourcarpet": [
           {
            "colorbar": {
             "outlinewidth": 0,
             "ticks": ""
            },
            "type": "contourcarpet"
           }
          ],
          "heatmap": [
           {
            "colorbar": {
             "outlinewidth": 0,
             "ticks": ""
            },
            "colorscale": [
             [
              0,
              "#0d0887"
             ],
             [
              0.1111111111111111,
              "#46039f"
             ],
             [
              0.2222222222222222,
              "#7201a8"
             ],
             [
              0.3333333333333333,
              "#9c179e"
             ],
             [
              0.4444444444444444,
              "#bd3786"
             ],
             [
              0.5555555555555556,
              "#d8576b"
             ],
             [
              0.6666666666666666,
              "#ed7953"
             ],
             [
              0.7777777777777778,
              "#fb9f3a"
             ],
             [
              0.8888888888888888,
              "#fdca26"
             ],
             [
              1,
              "#f0f921"
             ]
            ],
            "type": "heatmap"
           }
          ],
          "heatmapgl": [
           {
            "colorbar": {
             "outlinewidth": 0,
             "ticks": ""
            },
            "colorscale": [
             [
              0,
              "#0d0887"
             ],
             [
              0.1111111111111111,
              "#46039f"
             ],
             [
              0.2222222222222222,
              "#7201a8"
             ],
             [
              0.3333333333333333,
              "#9c179e"
             ],
             [
              0.4444444444444444,
              "#bd3786"
             ],
             [
              0.5555555555555556,
              "#d8576b"
             ],
             [
              0.6666666666666666,
              "#ed7953"
             ],
             [
              0.7777777777777778,
              "#fb9f3a"
             ],
             [
              0.8888888888888888,
              "#fdca26"
             ],
             [
              1,
              "#f0f921"
             ]
            ],
            "type": "heatmapgl"
           }
          ],
          "histogram": [
           {
            "marker": {
             "colorbar": {
              "outlinewidth": 0,
              "ticks": ""
             }
            },
            "type": "histogram"
           }
          ],
          "histogram2d": [
           {
            "colorbar": {
             "outlinewidth": 0,
             "ticks": ""
            },
            "colorscale": [
             [
              0,
              "#0d0887"
             ],
             [
              0.1111111111111111,
              "#46039f"
             ],
             [
              0.2222222222222222,
              "#7201a8"
             ],
             [
              0.3333333333333333,
              "#9c179e"
             ],
             [
              0.4444444444444444,
              "#bd3786"
             ],
             [
              0.5555555555555556,
              "#d8576b"
             ],
             [
              0.6666666666666666,
              "#ed7953"
             ],
             [
              0.7777777777777778,
              "#fb9f3a"
             ],
             [
              0.8888888888888888,
              "#fdca26"
             ],
             [
              1,
              "#f0f921"
             ]
            ],
            "type": "histogram2d"
           }
          ],
          "histogram2dcontour": [
           {
            "colorbar": {
             "outlinewidth": 0,
             "ticks": ""
            },
            "colorscale": [
             [
              0,
              "#0d0887"
             ],
             [
              0.1111111111111111,
              "#46039f"
             ],
             [
              0.2222222222222222,
              "#7201a8"
             ],
             [
              0.3333333333333333,
              "#9c179e"
             ],
             [
              0.4444444444444444,
              "#bd3786"
             ],
             [
              0.5555555555555556,
              "#d8576b"
             ],
             [
              0.6666666666666666,
              "#ed7953"
             ],
             [
              0.7777777777777778,
              "#fb9f3a"
             ],
             [
              0.8888888888888888,
              "#fdca26"
             ],
             [
              1,
              "#f0f921"
             ]
            ],
            "type": "histogram2dcontour"
           }
          ],
          "mesh3d": [
           {
            "colorbar": {
             "outlinewidth": 0,
             "ticks": ""
            },
            "type": "mesh3d"
           }
          ],
          "parcoords": [
           {
            "line": {
             "colorbar": {
              "outlinewidth": 0,
              "ticks": ""
             }
            },
            "type": "parcoords"
           }
          ],
          "pie": [
           {
            "automargin": true,
            "type": "pie"
           }
          ],
          "scatter": [
           {
            "marker": {
             "colorbar": {
              "outlinewidth": 0,
              "ticks": ""
             }
            },
            "type": "scatter"
           }
          ],
          "scatter3d": [
           {
            "line": {
             "colorbar": {
              "outlinewidth": 0,
              "ticks": ""
             }
            },
            "marker": {
             "colorbar": {
              "outlinewidth": 0,
              "ticks": ""
             }
            },
            "type": "scatter3d"
           }
          ],
          "scattercarpet": [
           {
            "marker": {
             "colorbar": {
              "outlinewidth": 0,
              "ticks": ""
             }
            },
            "type": "scattercarpet"
           }
          ],
          "scattergeo": [
           {
            "marker": {
             "colorbar": {
              "outlinewidth": 0,
              "ticks": ""
             }
            },
            "type": "scattergeo"
           }
          ],
          "scattergl": [
           {
            "marker": {
             "colorbar": {
              "outlinewidth": 0,
              "ticks": ""
             }
            },
            "type": "scattergl"
           }
          ],
          "scattermapbox": [
           {
            "marker": {
             "colorbar": {
              "outlinewidth": 0,
              "ticks": ""
             }
            },
            "type": "scattermapbox"
           }
          ],
          "scatterpolar": [
           {
            "marker": {
             "colorbar": {
              "outlinewidth": 0,
              "ticks": ""
             }
            },
            "type": "scatterpolar"
           }
          ],
          "scatterpolargl": [
           {
            "marker": {
             "colorbar": {
              "outlinewidth": 0,
              "ticks": ""
             }
            },
            "type": "scatterpolargl"
           }
          ],
          "scatterternary": [
           {
            "marker": {
             "colorbar": {
              "outlinewidth": 0,
              "ticks": ""
             }
            },
            "type": "scatterternary"
           }
          ],
          "surface": [
           {
            "colorbar": {
             "outlinewidth": 0,
             "ticks": ""
            },
            "colorscale": [
             [
              0,
              "#0d0887"
             ],
             [
              0.1111111111111111,
              "#46039f"
             ],
             [
              0.2222222222222222,
              "#7201a8"
             ],
             [
              0.3333333333333333,
              "#9c179e"
             ],
             [
              0.4444444444444444,
              "#bd3786"
             ],
             [
              0.5555555555555556,
              "#d8576b"
             ],
             [
              0.6666666666666666,
              "#ed7953"
             ],
             [
              0.7777777777777778,
              "#fb9f3a"
             ],
             [
              0.8888888888888888,
              "#fdca26"
             ],
             [
              1,
              "#f0f921"
             ]
            ],
            "type": "surface"
           }
          ],
          "table": [
           {
            "cells": {
             "fill": {
              "color": "#EBF0F8"
             },
             "line": {
              "color": "white"
             }
            },
            "header": {
             "fill": {
              "color": "#C8D4E3"
             },
             "line": {
              "color": "white"
             }
            },
            "type": "table"
           }
          ]
         },
         "layout": {
          "annotationdefaults": {
           "arrowcolor": "#2a3f5f",
           "arrowhead": 0,
           "arrowwidth": 1
          },
          "coloraxis": {
           "colorbar": {
            "outlinewidth": 0,
            "ticks": ""
           }
          },
          "colorscale": {
           "diverging": [
            [
             0,
             "#8e0152"
            ],
            [
             0.1,
             "#c51b7d"
            ],
            [
             0.2,
             "#de77ae"
            ],
            [
             0.3,
             "#f1b6da"
            ],
            [
             0.4,
             "#fde0ef"
            ],
            [
             0.5,
             "#f7f7f7"
            ],
            [
             0.6,
             "#e6f5d0"
            ],
            [
             0.7,
             "#b8e186"
            ],
            [
             0.8,
             "#7fbc41"
            ],
            [
             0.9,
             "#4d9221"
            ],
            [
             1,
             "#276419"
            ]
           ],
           "sequential": [
            [
             0,
             "#0d0887"
            ],
            [
             0.1111111111111111,
             "#46039f"
            ],
            [
             0.2222222222222222,
             "#7201a8"
            ],
            [
             0.3333333333333333,
             "#9c179e"
            ],
            [
             0.4444444444444444,
             "#bd3786"
            ],
            [
             0.5555555555555556,
             "#d8576b"
            ],
            [
             0.6666666666666666,
             "#ed7953"
            ],
            [
             0.7777777777777778,
             "#fb9f3a"
            ],
            [
             0.8888888888888888,
             "#fdca26"
            ],
            [
             1,
             "#f0f921"
            ]
           ],
           "sequentialminus": [
            [
             0,
             "#0d0887"
            ],
            [
             0.1111111111111111,
             "#46039f"
            ],
            [
             0.2222222222222222,
             "#7201a8"
            ],
            [
             0.3333333333333333,
             "#9c179e"
            ],
            [
             0.4444444444444444,
             "#bd3786"
            ],
            [
             0.5555555555555556,
             "#d8576b"
            ],
            [
             0.6666666666666666,
             "#ed7953"
            ],
            [
             0.7777777777777778,
             "#fb9f3a"
            ],
            [
             0.8888888888888888,
             "#fdca26"
            ],
            [
             1,
             "#f0f921"
            ]
           ]
          },
          "colorway": [
           "#636efa",
           "#EF553B",
           "#00cc96",
           "#ab63fa",
           "#FFA15A",
           "#19d3f3",
           "#FF6692",
           "#B6E880",
           "#FF97FF",
           "#FECB52"
          ],
          "font": {
           "color": "#2a3f5f"
          },
          "geo": {
           "bgcolor": "white",
           "lakecolor": "white",
           "landcolor": "#E5ECF6",
           "showlakes": true,
           "showland": true,
           "subunitcolor": "white"
          },
          "hoverlabel": {
           "align": "left"
          },
          "hovermode": "closest",
          "mapbox": {
           "style": "light"
          },
          "paper_bgcolor": "white",
          "plot_bgcolor": "#E5ECF6",
          "polar": {
           "angularaxis": {
            "gridcolor": "white",
            "linecolor": "white",
            "ticks": ""
           },
           "bgcolor": "#E5ECF6",
           "radialaxis": {
            "gridcolor": "white",
            "linecolor": "white",
            "ticks": ""
           }
          },
          "scene": {
           "xaxis": {
            "backgroundcolor": "#E5ECF6",
            "gridcolor": "white",
            "gridwidth": 2,
            "linecolor": "white",
            "showbackground": true,
            "ticks": "",
            "zerolinecolor": "white"
           },
           "yaxis": {
            "backgroundcolor": "#E5ECF6",
            "gridcolor": "white",
            "gridwidth": 2,
            "linecolor": "white",
            "showbackground": true,
            "ticks": "",
            "zerolinecolor": "white"
           },
           "zaxis": {
            "backgroundcolor": "#E5ECF6",
            "gridcolor": "white",
            "gridwidth": 2,
            "linecolor": "white",
            "showbackground": true,
            "ticks": "",
            "zerolinecolor": "white"
           }
          },
          "shapedefaults": {
           "line": {
            "color": "#2a3f5f"
           }
          },
          "ternary": {
           "aaxis": {
            "gridcolor": "white",
            "linecolor": "white",
            "ticks": ""
           },
           "baxis": {
            "gridcolor": "white",
            "linecolor": "white",
            "ticks": ""
           },
           "bgcolor": "#E5ECF6",
           "caxis": {
            "gridcolor": "white",
            "linecolor": "white",
            "ticks": ""
           }
          },
          "title": {
           "x": 0.05
          },
          "xaxis": {
           "automargin": true,
           "gridcolor": "white",
           "linecolor": "white",
           "ticks": "",
           "title": {
            "standoff": 15
           },
           "zerolinecolor": "white",
           "zerolinewidth": 2
          },
          "yaxis": {
           "automargin": true,
           "gridcolor": "white",
           "linecolor": "white",
           "ticks": "",
           "title": {
            "standoff": 15
           },
           "zerolinecolor": "white",
           "zerolinewidth": 2
          }
         }
        }
       }
      },
      "image/png": "[encoded data removed]",
      "text/html": [
       "<div>\n",
       "        \n",
       "        \n",
       "            <div id=\"ad9e41ff-d6c0-4232-9c6d-a2390f2c48da\" class=\"plotly-graph-div\" style=\"height:1000px; width:100%;\"></div>\n",
       "            <script type=\"text/javascript\">\n",
       "                require([\"plotly\"], function(Plotly) {\n",
       "                    window.PLOTLYENV=window.PLOTLYENV || {};\n",
       "                    \n",
       "                if (document.getElementById(\"ad9e41ff-d6c0-4232-9c6d-a2390f2c48da\")) {\n",
       "                    Plotly.newPlot(\n",
       "                        'ad9e41ff-d6c0-4232-9c6d-a2390f2c48da',\n",
       "                        [{\"cells\": {\"values\": [[\"Sphere\", \"Torus\", \"Pseudosphere Section\", \"Bird\", \"Costa Minimum Surface\", \"Hat\", \"Panton Chair\", \"Lilium Roof\", \"Cat 5\", \"Cat 4\", \"Cat 3\", \"Cat 2\", \"Cat 1\", \"Klein bottle\", \"Hanging Lamp\", \"Nested Chair\", \"Fancy Chair\", \"Lounge Pod\"], [\"90\", \"252\", \"264\", \"326\", \"396\", \"455\", \"478\", \"488\", \"516\", \"516\", \"516\", \"516\", \"516\", \"540\", \"596\", \"600\", \"1920\", \"2712\"], [\"180\", \"504\", \"506\", \"635\", \"752\", \"884\", \"913\", \"932\", \"1032\", \"1032\", \"1032\", \"1032\", \"1032\", \"1080\", \"1184\", \"1153\", \"3840\", \"5228\"], [\"16830\", \"47124\", \"47410\", \"59449\", \"70492\", \"82771\", \"85559\", \"87340\", \"96492\", \"96492\", \"96492\", \"96492\", \"96492\", \"100980\", \"110740\", \"108017\", \"359040\", \"489700\"], [\"0.0331\", \"0.2447\", \"0.0925\", \"0.1073\", \"3.6964\", \"0.155\", \"0.1534\", \"0.169\", \"0.483\", \"5.2709\", \"5.1958\", \"5.2015\", \"5.2336\", \"5.1383\", \"0.4451\", \"0.2273\", \"20.3899\", \"10.7189\"], [\"0.8187\", \"21.2365\", \"25.9965\", \"43.8728\", \"29.943\", \"25.796\", \"44.478\", \"26.8522\", \"64.6696\", \"130.4274\", \"124.8663\", \"105.3362\", \"104.1804\", \"273.5186\", \"118.0624\", \"258.4976\", \"211.316\", \"3583.5067\"], [\"6.0289\", \"78.4968\", \"445.7683\", \"878.2037\", \"784.6906\", \"1079.2494\", \"1620.5609\", \"1355.1385\", \"293.6191\", \"284.6049\", \"694.9614\", \"581.6777\", \"624.1004\", \"688.6524\", \"511.7858\", \"1653.6535\", \"3906.1847\", \"45368.455\"], [\"0.0\", \"0.0\", \"0.0\", \"0.0011\", \"0.0\", \"0.0\", \"0.0\", \"0.0\", \"0.0007\", \"0.0015\", \"0.0102\", \"0.0199\", \"0.0246\", \"0.0\", \"0.0\", \"0.0\", \"0.0\", \"0.0\"], [\"0.0108\", \"0.0074\", \"0.0235\", \"0.0157\", \"0.0224\", \"0.0145\", \"0.0255\", \"0.0101\", \"0.0224\", \"0.0166\", \"0.0089\", \"0.0041\", \"0.0039\", \"0.0058\", \"0.0074\", \"0.0166\", \"0.0117\", \"0.009\"], [\"2.6966\", \"2.529\", \"14.6432\", \"68.9233\", \"9.5153\", \"8.9811\", \"54.2363\", \"8.273\", \"30.6333\", \"15.1842\", \"14.9663\", \"2.5947\", \"1.6163\", \"6.9237\", \"6.679\", \"17.1235\", \"25.1931\", \"8.7923\"]]}, \"header\": {\"values\": [\"Model Name\", \"Number of Crossings\", \"Number of Ribbon Segments\", \"DoF\", \"Initialization Time (s)\", \"Stage 1 Time (s)\", \"Stage 2 Time (s)\", \"Validation Error\", \"Norm. Max Distance to Surface\", \"Max Normal Deviation\"]}, \"type\": \"table\"}],\n",
       "                        {\"height\": 1000, \"template\": {\"data\": {\"bar\": [{\"error_x\": {\"color\": \"#2a3f5f\"}, \"error_y\": {\"color\": \"#2a3f5f\"}, \"marker\": {\"line\": {\"color\": \"#E5ECF6\", \"width\": 0.5}}, \"type\": \"bar\"}], \"barpolar\": [{\"marker\": {\"line\": {\"color\": \"#E5ECF6\", \"width\": 0.5}}, \"type\": \"barpolar\"}], \"carpet\": [{\"aaxis\": {\"endlinecolor\": \"#2a3f5f\", \"gridcolor\": \"white\", \"linecolor\": \"white\", \"minorgridcolor\": \"white\", \"startlinecolor\": \"#2a3f5f\"}, \"baxis\": {\"endlinecolor\": \"#2a3f5f\", \"gridcolor\": \"white\", \"linecolor\": \"white\", \"minorgridcolor\": \"white\", \"startlinecolor\": \"#2a3f5f\"}, \"type\": \"carpet\"}], \"choropleth\": [{\"colorbar\": {\"outlinewidth\": 0, \"ticks\": \"\"}, \"type\": \"choropleth\"}], \"contour\": [{\"colorbar\": {\"outlinewidth\": 0, \"ticks\": \"\"}, \"colorscale\": [[0.0, \"#0d0887\"], [0.1111111111111111, \"#46039f\"], [0.2222222222222222, \"#7201a8\"], [0.3333333333333333, \"#9c179e\"], [0.4444444444444444, \"#bd3786\"], [0.5555555555555556, \"#d8576b\"], [0.6666666666666666, \"#ed7953\"], [0.7777777777777778, \"#fb9f3a\"], [0.8888888888888888, \"#fdca26\"], [1.0, \"#f0f921\"]], \"type\": \"contour\"}], \"contourcarpet\": [{\"colorbar\": {\"outlinewidth\": 0, \"ticks\": \"\"}, \"type\": \"contourcarpet\"}], \"heatmap\": [{\"colorbar\": {\"outlinewidth\": 0, \"ticks\": \"\"}, \"colorscale\": [[0.0, \"#0d0887\"], [0.1111111111111111, \"#46039f\"], [0.2222222222222222, \"#7201a8\"], [0.3333333333333333, \"#9c179e\"], [0.4444444444444444, \"#bd3786\"], [0.5555555555555556, \"#d8576b\"], [0.6666666666666666, \"#ed7953\"], [0.7777777777777778, \"#fb9f3a\"], [0.8888888888888888, \"#fdca26\"], [1.0, \"#f0f921\"]], \"type\": \"heatmap\"}], \"heatmapgl\": [{\"colorbar\": {\"outlinewidth\": 0, \"ticks\": \"\"}, \"colorscale\": [[0.0, \"#0d0887\"], [0.1111111111111111, \"#46039f\"], [0.2222222222222222, \"#7201a8\"], [0.3333333333333333, \"#9c179e\"], [0.4444444444444444, \"#bd3786\"], [0.5555555555555556, \"#d8576b\"], [0.6666666666666666, \"#ed7953\"], [0.7777777777777778, \"#fb9f3a\"], [0.8888888888888888, \"#fdca26\"], [1.0, \"#f0f921\"]], \"type\": \"heatmapgl\"}], \"histogram\": [{\"marker\": {\"colorbar\": {\"outlinewidth\": 0, \"ticks\": \"\"}}, \"type\": \"histogram\"}], \"histogram2d\": [{\"colorbar\": {\"outlinewidth\": 0, \"ticks\": \"\"}, \"colorscale\": [[0.0, \"#0d0887\"], [0.1111111111111111, \"#46039f\"], [0.2222222222222222, \"#7201a8\"], [0.3333333333333333, \"#9c179e\"], [0.4444444444444444, \"#bd3786\"], [0.5555555555555556, \"#d8576b\"], [0.6666666666666666, \"#ed7953\"], [0.7777777777777778, \"#fb9f3a\"], [0.8888888888888888, \"#fdca26\"], [1.0, \"#f0f921\"]], \"type\": \"histogram2d\"}], \"histogram2dcontour\": [{\"colorbar\": {\"outlinewidth\": 0, \"ticks\": \"\"}, \"colorscale\": [[0.0, \"#0d0887\"], [0.1111111111111111, \"#46039f\"], [0.2222222222222222, \"#7201a8\"], [0.3333333333333333, \"#9c179e\"], [0.4444444444444444, \"#bd3786\"], [0.5555555555555556, \"#d8576b\"], [0.6666666666666666, \"#ed7953\"], [0.7777777777777778, \"#fb9f3a\"], [0.8888888888888888, \"#fdca26\"], [1.0, \"#f0f921\"]], \"type\": \"histogram2dcontour\"}], \"mesh3d\": [{\"colorbar\": {\"outlinewidth\": 0, \"ticks\": \"\"}, \"type\": \"mesh3d\"}], \"parcoords\": [{\"line\": {\"colorbar\": {\"outlinewidth\": 0, \"ticks\": \"\"}}, \"type\": \"parcoords\"}], \"pie\": [{\"automargin\": true, \"type\": \"pie\"}], \"scatter\": [{\"marker\": {\"colorbar\": {\"outlinewidth\": 0, \"ticks\": \"\"}}, \"type\": \"scatter\"}], \"scatter3d\": [{\"line\": {\"colorbar\": {\"outlinewidth\": 0, \"ticks\": \"\"}}, \"marker\": {\"colorbar\": {\"outlinewidth\": 0, \"ticks\": \"\"}}, \"type\": \"scatter3d\"}], \"scattercarpet\": [{\"marker\": {\"colorbar\": {\"outlinewidth\": 0, \"ticks\": \"\"}}, \"type\": \"scattercarpet\"}], \"scattergeo\": [{\"marker\": {\"colorbar\": {\"outlinewidth\": 0, \"ticks\": \"\"}}, \"type\": \"scattergeo\"}], \"scattergl\": [{\"marker\": {\"colorbar\": {\"outlinewidth\": 0, \"ticks\": \"\"}}, \"type\": \"scattergl\"}], \"scattermapbox\": [{\"marker\": {\"colorbar\": {\"outlinewidth\": 0, \"ticks\": \"\"}}, \"type\": \"scattermapbox\"}], \"scatterpolar\": [{\"marker\": {\"colorbar\": {\"outlinewidth\": 0, \"ticks\": \"\"}}, \"type\": \"scatterpolar\"}], \"scatterpolargl\": [{\"marker\": {\"colorbar\": {\"outlinewidth\": 0, \"ticks\": \"\"}}, \"type\": \"scatterpolargl\"}], \"scatterternary\": [{\"marker\": {\"colorbar\": {\"outlinewidth\": 0, \"ticks\": \"\"}}, \"type\": \"scatterternary\"}], \"surface\": [{\"colorbar\": {\"outlinewidth\": 0, \"ticks\": \"\"}, \"colorscale\": [[0.0, \"#0d0887\"], [0.1111111111111111, \"#46039f\"], [0.2222222222222222, \"#7201a8\"], [0.3333333333333333, \"#9c179e\"], [0.4444444444444444, \"#bd3786\"], [0.5555555555555556, \"#d8576b\"], [0.6666666666666666, \"#ed7953\"], [0.7777777777777778, \"#fb9f3a\"], [0.8888888888888888, \"#fdca26\"], [1.0, \"#f0f921\"]], \"type\": \"surface\"}], \"table\": [{\"cells\": {\"fill\": {\"color\": \"#EBF0F8\"}, \"line\": {\"color\": \"white\"}}, \"header\": {\"fill\": {\"color\": \"#C8D4E3\"}, \"line\": {\"color\": \"white\"}}, \"type\": \"table\"}]}, \"layout\": {\"annotationdefaults\": {\"arrowcolor\": \"#2a3f5f\", \"arrowhead\": 0, \"arrowwidth\": 1}, \"coloraxis\": {\"colorbar\": {\"outlinewidth\": 0, \"ticks\": \"\"}}, \"colorscale\": {\"diverging\": [[0, \"#8e0152\"], [0.1, \"#c51b7d\"], [0.2, \"#de77ae\"], [0.3, \"#f1b6da\"], [0.4, \"#fde0ef\"], [0.5, \"#f7f7f7\"], [0.6, \"#e6f5d0\"], [0.7, \"#b8e186\"], [0.8, \"#7fbc41\"], [0.9, \"#4d9221\"], [1, \"#276419\"]], \"sequential\": [[0.0, \"#0d0887\"], [0.1111111111111111, \"#46039f\"], [0.2222222222222222, \"#7201a8\"], [0.3333333333333333, \"#9c179e\"], [0.4444444444444444, \"#bd3786\"], [0.5555555555555556, \"#d8576b\"], [0.6666666666666666, \"#ed7953\"], [0.7777777777777778, \"#fb9f3a\"], [0.8888888888888888, \"#fdca26\"], [1.0, \"#f0f921\"]], \"sequentialminus\": [[0.0, \"#0d0887\"], [0.1111111111111111, \"#46039f\"], [0.2222222222222222, \"#7201a8\"], [0.3333333333333333, \"#9c179e\"], [0.4444444444444444, \"#bd3786\"], [0.5555555555555556, \"#d8576b\"], [0.6666666666666666, \"#ed7953\"], [0.7777777777777778, \"#fb9f3a\"], [0.8888888888888888, \"#fdca26\"], [1.0, \"#f0f921\"]]}, \"colorway\": [\"#636efa\", \"#EF553B\", \"#00cc96\", \"#ab63fa\", \"#FFA15A\", \"#19d3f3\", \"#FF6692\", \"#B6E880\", \"#FF97FF\", \"#FECB52\"], \"font\": {\"color\": \"#2a3f5f\"}, \"geo\": {\"bgcolor\": \"white\", \"lakecolor\": \"white\", \"landcolor\": \"#E5ECF6\", \"showlakes\": true, \"showland\": true, \"subunitcolor\": \"white\"}, \"hoverlabel\": {\"align\": \"left\"}, \"hovermode\": \"closest\", \"mapbox\": {\"style\": \"light\"}, \"paper_bgcolor\": \"white\", \"plot_bgcolor\": \"#E5ECF6\", \"polar\": {\"angularaxis\": {\"gridcolor\": \"white\", \"linecolor\": \"white\", \"ticks\": \"\"}, \"bgcolor\": \"#E5ECF6\", \"radialaxis\": {\"gridcolor\": \"white\", \"linecolor\": \"white\", \"ticks\": \"\"}}, \"scene\": {\"xaxis\": {\"backgroundcolor\": \"#E5ECF6\", \"gridcolor\": \"white\", \"gridwidth\": 2, \"linecolor\": \"white\", \"showbackground\": true, \"ticks\": \"\", \"zerolinecolor\": \"white\"}, \"yaxis\": {\"backgroundcolor\": \"#E5ECF6\", \"gridcolor\": \"white\", \"gridwidth\": 2, \"linecolor\": \"white\", \"showbackground\": true, \"ticks\": \"\", \"zerolinecolor\": \"white\"}, \"zaxis\": {\"backgroundcolor\": \"#E5ECF6\", \"gridcolor\": \"white\", \"gridwidth\": 2, \"linecolor\": \"white\", \"showbackground\": true, \"ticks\": \"\", \"zerolinecolor\": \"white\"}}, \"shapedefaults\": {\"line\": {\"color\": \"#2a3f5f\"}}, \"ternary\": {\"aaxis\": {\"gridcolor\": \"white\", \"linecolor\": \"white\", \"ticks\": \"\"}, \"baxis\": {\"gridcolor\": \"white\", \"linecolor\": \"white\", \"ticks\": \"\"}, \"bgcolor\": \"#E5ECF6\", \"caxis\": {\"gridcolor\": \"white\", \"linecolor\": \"white\", \"ticks\": \"\"}}, \"title\": {\"x\": 0.05}, \"xaxis\": {\"automargin\": true, \"gridcolor\": \"white\", \"linecolor\": \"white\", \"ticks\": \"\", \"title\": {\"standoff\": 15}, \"zerolinecolor\": \"white\", \"zerolinewidth\": 2}, \"yaxis\": {\"automargin\": true, \"gridcolor\": \"white\", \"linecolor\": \"white\", \"ticks\": \"\", \"title\": {\"standoff\": 15}, \"zerolinecolor\": \"white\", \"zerolinewidth\": 2}}}},\n",
       "                        {\"responsive\": true}\n",
       "                    ).then(function(){\n",
       "                            \n",
       "var gd = document.getElementById('ad9e41ff-d6c0-4232-9c6d-a2390f2c48da');\n",
       "var x = new MutationObserver(function (mutations, observer) {{\n",
       "        var display = window.getComputedStyle(gd).display;\n",
       "        if (!display || display === 'none') {{\n",
       "            console.log([gd, 'removed!']);\n",
       "            Plotly.purge(gd);\n",
       "            observer.disconnect();\n",
       "        }}\n",
       "}});\n",
       "\n",
       "// Listen for the removal of the full notebook cells\n",
       "var notebookContainer = gd.closest('#notebook-container');\n",
       "if (notebookContainer) {{\n",
       "    x.observe(notebookContainer, {childList: true});\n",
       "}}\n",
       "\n",
       "// Listen for the clearing of the current output cell\n",
       "var outputEl = gd.closest('.output');\n",
       "if (outputEl) {{\n",
       "    x.observe(outputEl, {childList: true});\n",
       "}}\n",
       "\n",
       "                        })\n",
       "                };\n",
       "                });\n",
       "            </script>\n",
       "        </div>"
      ]
     },
     "metadata": {},
     "output_type": "display_data"
    }
   ],
   "source": [
    "import plotly.graph_objects as go\n",
    "weaving_initialization = [np.round(x, 4) for x in weaving_initialization]\n",
    "weaving_stage_1 = [np.round(x, 4) for x in weaving_stage_1]\n",
    "weaving_stage_2 = [np.round(x, 4) for x in weaving_stage_2]\n",
    "weaving_validation_error = [np.round(x, 4) for x in weaving_validation_error]\n",
    "weaving_norm_max_dis = [np.round(x, 4) for x in weaving_norm_max_dis]\n",
    "weaving_max_normal_deviation = [np.round(x, 4) for x in weaving_max_normal_deviation]\n",
    "\n",
    "weaving_num_crossings = np.array([int(x) for x in weaving_num_crossings])\n",
    "headers = ['Model Name', 'Number of Crossings', 'Number of Ribbon Segments', 'DoF', 'Initialization Time (s)', 'Stage 1 Time (s)', 'Stage 2 Time (s)', 'Validation Error', 'Norm. Max Distance to Surface', 'Max Normal Deviation']\n",
    "# headers = ['Model Name', 'Number of Crossings', 'Number of Segments', 'DoF', 'Initialization Time (s)', 'Stage 1 Time (s)', 'Stage 2 Time (s)']\n",
    "\n",
    "values = np.array([weaving_display_name, weaving_num_crossings, weaving_num_segments, weaving_dof, weaving_initialization, weaving_stage_1, weaving_stage_2, weaving_validation_error, weaving_norm_max_dis, weaving_max_normal_deviation])\n",
    "# values = np.array([weaving_display_name, weaving_num_crossings, weaving_num_segments, weaving_dof, weaving_initialization, weaving_stage_1, weaving_stage_2])\n",
    "\n",
    "# values = values[:, values[0].argsort()]\n",
    "\n",
    "values = values[:, weaving_num_crossings.argsort()]\n",
    "fig = go.Figure(data=[go.Table(header=dict(values=headers),\n",
    "                 cells=dict(values=values))\n",
    "                     ])\n",
    "fig.update_layout(height = 1000)\n",
    "fig.show()"
   ]
  },
  {
   "cell_type": "code",
   "execution_count": 18,
   "metadata": {},
   "outputs": [
    {
     "data": {
      "text/plain": [
       "array([['Sphere', 'Torus', 'Pseudosphere Section', 'Bird',\n",
       "        'Costa Minimum Surface', 'Hat', 'Panton Chair', 'Lilium Roof',\n",
       "        'Cat 5', 'Cat 4', 'Cat 3', 'Cat 2', 'Cat 1', 'Klein bottle',\n",
       "        'Hanging Lamp', 'Nested Chair', 'Fancy Chair', 'Lounge Pod'],\n",
       "       ['90', '252', '264', '326', '396', '455', '478', '488', '516',\n",
       "        '516', '516', '516', '516', '540', '596', '600', '1920', '2712'],\n",
       "       ['180', '504', '506', '635', '752', '884', '913', '932', '1032',\n",
       "        '1032', '1032', '1032', '1032', '1080', '1184', '1153', '3840',\n",
       "        '5228'],\n",
       "       ['16830', '47124', '47410', '59449', '70492', '82771', '85559',\n",
       "        '87340', '96492', '96492', '96492', '96492', '96492', '100980',\n",
       "        '110740', '108017', '359040', '489700'],\n",
       "       ['0.0331', '0.2447', '0.0925', '0.1073', '3.6964', '0.155',\n",
       "        '0.1534', '0.169', '0.483', '5.2709', '5.1958', '5.2015',\n",
       "        '5.2336', '5.1383', '0.4451', '0.2273', '20.3899', '10.7189'],\n",
       "       ['0.8187', '21.2365', '25.9965', '43.8728', '29.943', '25.796',\n",
       "        '44.478', '26.8522', '64.6696', '130.4274', '124.8663',\n",
       "        '105.3362', '104.1804', '273.5186', '118.0624', '258.4976',\n",
       "        '211.316', '3583.5067'],\n",
       "       ['6.0289', '78.4968', '445.7683', '878.2037', '784.6906',\n",
       "        '1079.2494', '1620.5609', '1355.1385', '293.6191', '284.6049',\n",
       "        '694.9614', '581.6777', '624.1004', '688.6524', '511.7858',\n",
       "        '1653.6535', '3906.1847', '45368.455'],\n",
       "       ['0.0', '0.0', '0.0', '0.0011', '0.0', '0.0', '0.0', '0.0',\n",
       "        '0.0007', '0.0015', '0.0102', '0.0199', '0.0246', '0.0', '0.0',\n",
       "        '0.0', '0.0', '0.0'],\n",
       "       ['0.0108', '0.0074', '0.0235', '0.0157', '0.0224', '0.0145',\n",
       "        '0.0255', '0.0101', '0.0224', '0.0166', '0.0089', '0.0041',\n",
       "        '0.0039', '0.0058', '0.0074', '0.0166', '0.0117', '0.009'],\n",
       "       ['2.6966', '2.529', '14.6432', '68.9233', '9.5153', '8.9811',\n",
       "        '54.2363', '8.273', '30.6333', '15.1842', '14.9663', '2.5947',\n",
       "        '1.6163', '6.9237', '6.679', '17.1235', '25.1931', '8.7923']],\n",
       "      dtype='<U21')"
      ]
     },
     "execution_count": 18,
     "metadata": {},
     "output_type": "execute_result"
    }
   ],
   "source": [
    "values"
   ]
  },
  {
   "cell_type": "code",
   "execution_count": 61,
   "metadata": {},
   "outputs": [
    {
     "data": {
      "text/plain": [
       "array([11, 10,  9, 12,  6,  8,  7,  1,  2,  3,  4,  5,  0])"
      ]
     },
     "execution_count": 61,
     "metadata": {},
     "output_type": "execute_result"
    }
   ],
   "source": [
    "weaving_num_crossings.argsort()"
   ]
  },
  {
   "cell_type": "code",
   "execution_count": null,
   "metadata": {},
   "outputs": [],
   "source": []
  },
  {
   "cell_type": "code",
   "execution_count": null,
   "metadata": {},
   "outputs": [],
   "source": []
  }
 ],
 "metadata": {
  "kernelspec": {
   "display_name": "Python 3",
   "language": "python",
   "name": "python3"
  },
  "language_info": {
   "codemirror_mode": {
    "name": "ipython",
    "version": 3
   },
   "file_extension": ".py",
   "mimetype": "text/x-python",
   "name": "python",
   "nbconvert_exporter": "python",
   "pygments_lexer": "ipython3",
   "version": "3.7.5"
  }
 },
 "nbformat": 4,
 "nbformat_minor": 4
}
