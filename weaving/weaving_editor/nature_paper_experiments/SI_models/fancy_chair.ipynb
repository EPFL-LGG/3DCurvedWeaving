{
 "cells": [
  {
   "cell_type": "code",
   "execution_count": 13,
   "metadata": {},
   "outputs": [],
   "source": [
    "elastic_rods_dir = '../../../../elastic_rods/python/'\n",
    "weaving_dir = '../../../'\n",
    "import os\n",
    "import os.path as osp\n",
    "import sys; sys.path.append(elastic_rods_dir); sys.path.append(weaving_dir)\n",
    "import numpy as np, elastic_rods, linkage_vis\n",
    "import numpy.linalg as la\n",
    "from bending_validation import suppress_stdout as so\n",
    "import matplotlib.pyplot as plt\n",
    "from elastic_rods import EnergyType, InterleavingType\n",
    "\n",
    "# weaving\n",
    "import analysis_helper, ribbon_linkage_helper, mesh_vis, linkage_utils, compute_curve_from_curvature, pipeline_helper, importlib\n",
    "importlib.reload(analysis_helper)\n",
    "importlib.reload(ribbon_linkage_helper)\n",
    "importlib.reload(mesh_vis)\n",
    "importlib.reload(linkage_utils)\n",
    "importlib.reload(compute_curve_from_curvature)\n",
    "importlib.reload(pipeline_helper)\n",
    "from analysis_helper import (compare_turning_angle,\n",
    "                            is_on_sphere, \n",
    "                            get_distance_to_center_scalar_field, \n",
    "                            plot_curvatures, \n",
    "                            get_curvature_scalar_field,\n",
    "                            construct_elastic_rod_loop_from_rod_segments, \n",
    "                            concatenate_rod_properties_from_rod_segments, \n",
    "                            compute_min_distance_rigid_transformation)\n",
    "from ribbon_linkage_helper import (update_rest_curvature, \n",
    "                                   set_ribbon_linkage,\n",
    "                                   export_linkage_geometry_to_obj,\n",
    "                                   write_linkage_ribbon_output_florin)\n",
    "\n",
    "from compute_curve_from_curvature import (match_geo_curvature_and_edge_len, get_all_curve_pattern)\n",
    "from linkage_utils import order_segments_by_ribbons, get_turning_angle_and_length_from_ordered_rods\n",
    "\n",
    "from pipeline_helper import (initialize_linkage, get_normal_deviation, set_joint_vector_field, stage_1_optimization, initialize_stage_2_optimizer, stage_2_optimization, InputOrganizer, write_all_output, set_surface_view_options, get_structure_analysis_view, get_max_distance_to_target_surface, Visualization_Setting, set_figure_label_and_limit, contact_optimization, get_fixed_boundary_joint)\n",
    "\n",
    "import vis.fields\n",
    "import matplotlib.cm as cm\n",
    "import time"
   ]
  },
  {
   "cell_type": "code",
   "execution_count": 14,
   "metadata": {},
   "outputs": [],
   "source": [
    "import parallelism\n",
    "parallelism.set_max_num_tbb_threads(12)\n",
    "parallelism.set_hessian_assembly_num_threads(4)\n",
    "parallelism.set_gradient_assembly_num_threads(4)"
   ]
  },
  {
   "cell_type": "code",
   "execution_count": 15,
   "metadata": {},
   "outputs": [
    {
     "name": "stdout",
     "output_type": "stream",
     "text": [
      "0.015957012207851003 0.0015957012207851004\n"
     ]
    }
   ],
   "source": [
    "# rod_length = curved_linkage.totalRestLength() / curved_linkage.numSegments()\n",
    "rod_length = 0.079785061039255\n",
    "width = rod_length / 25 * 5\n",
    "thickness = width / 5 * 0.5\n",
    "print(width, thickness)\n",
    "scale = 1\n",
    "io = InputOrganizer('fancy_chair_dense_{}'.format(scale), thickness, width, weaving_dir)"
   ]
  },
  {
   "cell_type": "code",
   "execution_count": 16,
   "metadata": {},
   "outputs": [],
   "source": [
    "OPTS = elastic_rods.NewtonOptimizerOptions()\n",
    "OPTS.gradTol = 1e-6\n",
    "OPTS.verbose = 1;\n",
    "OPTS.beta = 1e-8\n",
    "OPTS.niter = 200\n",
    "OPTS.verboseNonPosDef = False"
   ]
  },
  {
   "cell_type": "code",
   "execution_count": 17,
   "metadata": {},
   "outputs": [],
   "source": [
    "rw = 0.01\n",
    "sw = 0.01"
   ]
  },
  {
   "cell_type": "code",
   "execution_count": 18,
   "metadata": {},
   "outputs": [
    {
     "data": {
      "application/vnd.jupyter.widget-view+json": {
       "model_id": "7635e394471d4cb497cc7c6d3f75f841",
       "version_major": 2,
       "version_minor": 0
      },
      "text/plain": [
       "Renderer(camera=PerspectiveCamera(children=(PointLight(color='white', intensity=0.6, position=(0.0, 0.0, 5.0),…"
      ]
     },
     "metadata": {},
     "output_type": "display_data"
    }
   ],
   "source": [
    "with so(): curved_linkage = initialize_linkage(surface_path = io.SURFACE_PATH, useCenterline = True, model_path = io.MODEL_PATH, cross_section = io.RIBBON_CS, subdivision_res = io.SUBDIVISION_RESOLUTION, use_constant_width=False, width_scale=[0.7, 1.2])\n",
    "curved_linkage.set_design_parameter_config(use_restLen = True, use_restKappa = True)\n",
    "curved_save_tgt_joint_pos = curved_linkage.jointPositions();\n",
    "curved_linkage_view = linkage_vis.LinkageViewerWithSurface(curved_linkage, io.SURFACE_PATH)\n",
    "set_surface_view_options(curved_linkage_view)\n",
    "curved_linkage_view.show()"
   ]
  },
  {
   "cell_type": "code",
   "execution_count": 19,
   "metadata": {},
   "outputs": [],
   "source": [
    "set_surface_view_options(curved_linkage_view, surface_transparent=False)\n"
   ]
  },
  {
   "cell_type": "code",
   "execution_count": 21,
   "metadata": {},
   "outputs": [],
   "source": [
    "curved_linkage.setExtendedDoFsPSRL(np.load('../benchmark/dofs/benchmark_fancy_chair_dense_1_dof.npy'))"
   ]
  },
  {
   "cell_type": "code",
   "execution_count": 22,
   "metadata": {},
   "outputs": [],
   "source": [
    "curved_linkage.attraction_weight = 1e-5"
   ]
  },
  {
   "cell_type": "code",
   "execution_count": 23,
   "metadata": {
    "scrolled": true
   },
   "outputs": [],
   "source": [
    "# iterateData = stage_1_optimization(curved_linkage, rw, sw, curved_linkage_view)"
   ]
  },
  {
   "cell_type": "code",
   "execution_count": 24,
   "metadata": {},
   "outputs": [],
   "source": [
    "# fixed_boundary_joints = get_fixed_boundary_joint(curved_linkage)"
   ]
  },
  {
   "cell_type": "code",
   "execution_count": 25,
   "metadata": {},
   "outputs": [],
   "source": [
    "def eqm_callback(prob, i):\n",
    "    curved_linkage_view.update()"
   ]
  },
  {
   "cell_type": "code",
   "execution_count": 26,
   "metadata": {
    "scrolled": true
   },
   "outputs": [
    {
     "name": "stdout",
     "output_type": "stream",
     "text": [
      "0\t0.000935793\t1.32391\t1.32391\t1\t1\n",
      "1\t0.000260527\t0.441715\t0.441715\t1\t1\n",
      "2\t0.000148299\t0.0687476\t0.0687476\t1\t1\n",
      "3\t0.000102267\t0.0215215\t0.0215215\t1\t1\n",
      "4\t7.39701e-05\t0.0091418\t0.0091418\t1\t1\n",
      "5\t5.39292e-05\t0.00463665\t0.00463665\t1\t1\n",
      "6\t4.00123e-05\t0.00240985\t0.00240985\t1\t1\n",
      "7\t3.11173e-05\t0.00136932\t0.00136932\t1\t1\n",
      "8\t2.61797e-05\t0.000857563\t0.000857563\t1\t1\n",
      "9\t2.38564e-05\t0.000557497\t0.000557497\t1\t1\n",
      "10\t2.28924e-05\t0.000338539\t0.000338539\t1\t1\n",
      "11\t2.25191e-05\t0.000188415\t0.000188415\t1\t1\n",
      "12\t2.23813e-05\t9.79497e-05\t9.79497e-05\t1\t1\n",
      "13\t2.23332e-05\t4.65855e-05\t4.65855e-05\t1\t1\n",
      "14\t2.23178e-05\t2.11884e-05\t2.11884e-05\t1\t1\n",
      "15\t2.23126e-05\t1.00693e-05\t1.00693e-05\t1\t1\n",
      "16\t2.23105e-05\t4.88889e-06\t4.88889e-06\t1\t1\n",
      "17\t2.23098e-05\t2.44244e-06\t2.44244e-06\t1\t1\n",
      "18\t2.23096e-05\t8.19343e-07\t8.19343e-07\t1\t1\n",
      "19\t2.23095e-05\t1.692e-07\t1.692e-07\t0.125\t0\n",
      "20\t2.23095e-05\t8.08345e-06\t8.08345e-06\t1\t0\n",
      "21\t2.23095e-05\t1.5597e-07\t1.5597e-07\t1\t0\n"
     ]
    },
    {
     "data": {
      "text/plain": [
       "<elastic_rods.ConvergenceReport at 0x12da204b0>"
      ]
     },
     "execution_count": 26,
     "metadata": {},
     "output_type": "execute_result"
    }
   ],
   "source": [
    "elastic_rods.compute_equilibrium(curved_linkage, callback = eqm_callback, options = OPTS, fixedVars = [])"
   ]
  },
  {
   "cell_type": "code",
   "execution_count": 27,
   "metadata": {},
   "outputs": [],
   "source": [
    "# optimizer = initialize_stage_2_optimizer(curved_linkage, io.SURFACE_PATH, curved_save_tgt_joint_pos, curved_linkage_view, fixed_boundary_joint = fixed_boundary_joints)\n",
    "# optimizer, opt_iterateData = stage_2_optimization(optimizer, curved_linkage, io.SURFACE_PATH, curved_save_tgt_joint_pos, curved_linkage_view, -1, -5, 3)"
   ]
  },
  {
   "cell_type": "code",
   "execution_count": 14,
   "metadata": {},
   "outputs": [
    {
     "name": "stdout",
     "output_type": "stream",
     "text": [
      "1.1868447778439797e-06\n"
     ]
    }
   ],
   "source": [
    "# curved_optimizer_energy = curved_linkage.energy()\n",
    "# validation_curved_linkage = optimizer.getLinesearchWeaverLinkage()\n",
    "# validation_curved_linkage.attraction_weight = 1e-7\n",
    "# with so(): elastic_rods.compute_equilibrium(validation_curved_linkage, options = OPTS, fixedVars = fixed_boundary_joints)\n",
    "# validation_curved_view = linkage_vis.LinkageViewer(validation_curved_linkage, width=1024, height=640)\n",
    "# validation_curved_energy = validation_curved_linkage.energy()\n",
    "# print(abs((validation_curved_energy-curved_optimizer_energy)/curved_optimizer_energy))"
   ]
  },
  {
   "cell_type": "code",
   "execution_count": 29,
   "metadata": {},
   "outputs": [],
   "source": [
    "deviation, deviation_vector, joint_normals, joint_projection_normals = get_normal_deviation(curved_linkage)"
   ]
  },
  {
   "cell_type": "code",
   "execution_count": 17,
   "metadata": {},
   "outputs": [
    {
     "data": {
      "application/vnd.jupyter.widget-view+json": {
       "model_id": "81ddaac6fc9949dea5bd39fc65ed8768",
       "version_major": 2,
       "version_minor": 0
      },
      "text/plain": [
       "Renderer(camera=PerspectiveCamera(aspect=1.6, children=(PointLight(color='white', intensity=0.6, position=(0.0…"
      ]
     },
     "metadata": {},
     "output_type": "display_data"
    }
   ],
   "source": [
    "# validation_curved_view = linkage_vis.LinkageViewerWithSurface(validation_curved_linkage, io.SURFACE_PATH, width=1024, height=640)\n",
    "# set_surface_view_options(validation_curved_view)\n",
    "# validation_curved_view.show()"
   ]
  },
  {
   "cell_type": "code",
   "execution_count": 31,
   "metadata": {},
   "outputs": [],
   "source": [
    "set_joint_vector_field(curved_linkage, curved_linkage_view, joint_normals)"
   ]
  },
  {
   "cell_type": "code",
   "execution_count": 33,
   "metadata": {},
   "outputs": [
    {
     "name": "stdout",
     "output_type": "stream",
     "text": [
      "0.009418831009373865\n",
      "0.009211352656129239\n",
      "0.003808185693810797\n",
      "0.010065784205417183\n",
      "0.008673046769295333\n",
      "0.004670316492256556\n",
      "0.0037131690670275147\n",
      "0.004647889724429191\n",
      "0.010624966922478336\n",
      "0.008836485590229447\n",
      "0.008862275731335287\n",
      "0.00951319113236927\n",
      "0.005971527855941194\n",
      "0.007299347912684067\n",
      "0.00425350820354811\n",
      "0.00436469559280464\n",
      "0.00394699499032848\n",
      "0.0036575348574449345\n",
      "0.003946001179421537\n",
      "0.004469715562962769\n",
      "0.0047828650281172376\n",
      "0.004782128652553615\n",
      "0.004287296520408963\n",
      "0.0039293789536314246\n",
      "0.008660305627551093\n",
      "0.008486670033222855\n",
      "0.006700236373181803\n",
      "0.004267998705630502\n",
      "0.0058344440022498195\n",
      "0.0038229652311716597\n",
      "0.003954390327147348\n",
      "0.003874284557120471\n",
      "0.004275370309688946\n",
      "0.0059972045981401935\n",
      "0.0062380907228921124\n",
      "0.0086851301572722\n",
      "0.0039531243526850016\n",
      "0.004741126431453363\n",
      "0.005329075093444378\n",
      "0.004979962856976763\n",
      "0.004723331631183141\n",
      "0.005371789310186719\n",
      "0.009806989814004633\n",
      "0.007246981987334875\n",
      "0.004342777532165003\n",
      "0.004070418578446379\n",
      "0.005054436624683983\n",
      "0.006343487285122812\n",
      "Min Width  0.011169908545495702\n",
      "num seg per rod 320\n",
      "num seg per rod 320\n",
      "num seg per rod 32\n",
      "num seg per rod 320\n",
      "num seg per rod 320\n",
      "num seg per rod 32\n",
      "num seg per rod 32\n",
      "num seg per rod 32\n",
      "num seg per rod 32\n",
      "num seg per rod 32\n",
      "num seg per rod 32\n",
      "num seg per rod 32\n",
      "num seg per rod 32\n",
      "num seg per rod 32\n",
      "num seg per rod 32\n",
      "num seg per rod 32\n",
      "num seg per rod 32\n",
      "num seg per rod 32\n",
      "num seg per rod 32\n",
      "num seg per rod 32\n",
      "num seg per rod 32\n",
      "num seg per rod 32\n",
      "num seg per rod 32\n",
      "num seg per rod 32\n",
      "num seg per rod 320\n",
      "num seg per rod 320\n",
      "num seg per rod 320\n",
      "num seg per rod 32\n",
      "num seg per rod 320\n",
      "num seg per rod 32\n",
      "num seg per rod 32\n",
      "num seg per rod 32\n",
      "num seg per rod 32\n",
      "num seg per rod 32\n",
      "num seg per rod 32\n",
      "num seg per rod 32\n",
      "num seg per rod 32\n",
      "num seg per rod 32\n",
      "num seg per rod 32\n",
      "num seg per rod 32\n",
      "num seg per rod 32\n",
      "num seg per rod 32\n",
      "num seg per rod 32\n",
      "num seg per rod 32\n",
      "num seg per rod 32\n",
      "num seg per rod 32\n",
      "num seg per rod 32\n",
      "num seg per rod 32\n"
     ]
    },
    {
     "data": {
      "image/png": "[encoded data removed]",
      "text/plain": [
       "<Figure size 432x288 with 1 Axes>"
      ]
     },
     "metadata": {
      "needs_background": "light"
     },
     "output_type": "display_data"
    }
   ],
   "source": [
    "save_path = os.getcwd()\n",
    "write_all_output(curved_linkage, io.SUBDIVISION_RESOLUTION, io.MODEL_NAME, io.RIBBON_NAME, False, 100, min(io.RIBBON_CS), target_width = 5, flip_angles = False)\n",
    "os.chdir(save_path)"
   ]
  },
  {
   "cell_type": "code",
   "execution_count": null,
   "metadata": {},
   "outputs": [],
   "source": []
  }
 ],
 "metadata": {
  "kernelspec": {
   "display_name": "Python 3",
   "language": "python",
   "name": "python3"
  },
  "language_info": {
   "codemirror_mode": {
    "name": "ipython",
    "version": 3
   },
   "file_extension": ".py",
   "mimetype": "text/x-python",
   "name": "python",
   "nbconvert_exporter": "python",
   "pygments_lexer": "ipython3",
   "version": "3.7.5"
  }
 },
 "nbformat": 4,
 "nbformat_minor": 4
}
