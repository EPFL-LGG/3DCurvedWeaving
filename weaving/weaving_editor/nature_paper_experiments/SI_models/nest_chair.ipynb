{
 "cells": [
  {
   "cell_type": "code",
   "execution_count": 1,
   "metadata": {},
   "outputs": [],
   "source": [
    "elastic_rods_dir = '../../../../elastic_rods/python/'\n",
    "weaving_dir = '../../../'\n",
    "import os\n",
    "import os.path as osp\n",
    "import sys; sys.path.append(elastic_rods_dir); sys.path.append(weaving_dir)\n",
    "import numpy as np, elastic_rods, linkage_vis\n",
    "import numpy.linalg as la\n",
    "from bending_validation import suppress_stdout as so\n",
    "import matplotlib.pyplot as plt\n",
    "from elastic_rods import EnergyType, InterleavingType\n",
    "\n",
    "# weaving\n",
    "import analysis_helper, ribbon_linkage_helper, mesh_vis, linkage_utils, compute_curve_from_curvature, pipeline_helper, importlib\n",
    "importlib.reload(analysis_helper)\n",
    "importlib.reload(ribbon_linkage_helper)\n",
    "importlib.reload(mesh_vis)\n",
    "importlib.reload(linkage_utils)\n",
    "importlib.reload(compute_curve_from_curvature)\n",
    "importlib.reload(pipeline_helper)\n",
    "from analysis_helper import (compare_turning_angle,\n",
    "                            is_on_sphere, \n",
    "                            get_distance_to_center_scalar_field, \n",
    "                            plot_curvatures, \n",
    "                            get_curvature_scalar_field,\n",
    "                            construct_elastic_rod_loop_from_rod_segments, \n",
    "                            concatenate_rod_properties_from_rod_segments, \n",
    "                            compute_min_distance_rigid_transformation)\n",
    "from ribbon_linkage_helper import (update_rest_curvature, \n",
    "                                   set_ribbon_linkage,\n",
    "                                   export_linkage_geometry_to_obj,\n",
    "                                   write_linkage_ribbon_output_florin)\n",
    "\n",
    "from compute_curve_from_curvature import (match_geo_curvature_and_edge_len, get_all_curve_pattern)\n",
    "from linkage_utils import order_segments_by_ribbons, get_turning_angle_and_length_from_ordered_rods\n",
    "\n",
    "from pipeline_helper import (initialize_linkage, get_normal_deviation, set_joint_vector_field, stage_1_optimization, initialize_stage_2_optimizer, stage_2_optimization, InputOrganizer, write_all_output, set_surface_view_options, get_structure_analysis_view, get_max_distance_to_target_surface, Visualization_Setting, set_figure_label_and_limit, contact_optimization, get_fixed_boundary_joint, show_selected_joints)\n",
    "\n",
    "import vis.fields\n",
    "import matplotlib.cm as cm\n",
    "import time"
   ]
  },
  {
   "cell_type": "code",
   "execution_count": 2,
   "metadata": {},
   "outputs": [],
   "source": [
    "import parallelism\n",
    "parallelism.set_max_num_tbb_threads(12)\n",
    "parallelism.set_hessian_assembly_num_threads(4)\n",
    "parallelism.set_gradient_assembly_num_threads(4)"
   ]
  },
  {
   "cell_type": "code",
   "execution_count": 3,
   "metadata": {},
   "outputs": [
    {
     "name": "stdout",
     "output_type": "stream",
     "text": [
      "0.015957012207851003 0.0015957012207851004\n"
     ]
    }
   ],
   "source": [
    "# rod_length = curved_linkage.totalRestLength() / curved_linkage.numSegments()\n",
    "rod_length = 0.079785061039255\n",
    "width = rod_length / 25 * 5\n",
    "thickness = width / 5 * 0.5\n",
    "print(width, thickness)\n",
    "scale = 1\n",
    "io = InputOrganizer('nest_chair_{}'.format(scale), thickness, width, weaving_dir)"
   ]
  },
  {
   "cell_type": "code",
   "execution_count": 4,
   "metadata": {},
   "outputs": [],
   "source": [
    "OPTS = elastic_rods.NewtonOptimizerOptions()\n",
    "OPTS.gradTol = 1e-6\n",
    "OPTS.verbose = 1;\n",
    "OPTS.beta = 1e-8\n",
    "OPTS.niter = 200\n",
    "OPTS.verboseNonPosDef = False"
   ]
  },
  {
   "cell_type": "code",
   "execution_count": 5,
   "metadata": {},
   "outputs": [],
   "source": [
    "rw = 0.01\n",
    "sw = 0.01"
   ]
  },
  {
   "cell_type": "code",
   "execution_count": 6,
   "metadata": {},
   "outputs": [
    {
     "data": {
      "application/vnd.jupyter.widget-view+json": {
       "model_id": "b05cb9302a4c479888b69c63dc096281",
       "version_major": 2,
       "version_minor": 0
      },
      "text/plain": [
       "Renderer(camera=PerspectiveCamera(children=(PointLight(color='white', intensity=0.6, position=(0.0, 0.0, 5.0),…"
      ]
     },
     "metadata": {},
     "output_type": "display_data"
    }
   ],
   "source": [
    "with so(): curved_linkage = initialize_linkage(surface_path = io.SURFACE_PATH, useCenterline = True, model_path = io.MODEL_PATH, cross_section = io.RIBBON_CS, subdivision_res = io.SUBDIVISION_RESOLUTION, interleaving_type=InterleavingType.weaving)\n",
    "curved_linkage.set_design_parameter_config(use_restLen = True, use_restKappa = True)\n",
    "curved_save_tgt_joint_pos = curved_linkage.jointPositions();\n",
    "curved_linkage_view = linkage_vis.LinkageViewerWithSurface(curved_linkage, io.SURFACE_PATH)\n",
    "set_surface_view_options(curved_linkage_view)\n",
    "curved_linkage_view.show()"
   ]
  },
  {
   "cell_type": "code",
   "execution_count": 7,
   "metadata": {},
   "outputs": [],
   "source": [
    "curved_linkage.setExtendedDoFsPSRL(np.load('../benchmark/dofs/benchmark_nest_chair_1_dof.npy'))"
   ]
  },
  {
   "cell_type": "code",
   "execution_count": 8,
   "metadata": {},
   "outputs": [],
   "source": [
    "curved_linkage.attraction_weight = 1e-5"
   ]
  },
  {
   "cell_type": "code",
   "execution_count": 9,
   "metadata": {},
   "outputs": [],
   "source": [
    "# set_surface_view_options(curved_linkage_view, surface_transparent=False)\n"
   ]
  },
  {
   "cell_type": "code",
   "execution_count": 10,
   "metadata": {
    "scrolled": true
   },
   "outputs": [],
   "source": [
    "# iterateData = stage_1_optimization(curved_linkage, rw, sw, curved_linkage_view)"
   ]
  },
  {
   "cell_type": "code",
   "execution_count": 11,
   "metadata": {},
   "outputs": [],
   "source": [
    "fixed_boundary_joints = get_fixed_boundary_joint(curved_linkage)"
   ]
  },
  {
   "cell_type": "code",
   "execution_count": 12,
   "metadata": {},
   "outputs": [],
   "source": [
    "def eqm_callback(prob, i):\n",
    "    curved_linkage_view.update()"
   ]
  },
  {
   "cell_type": "code",
   "execution_count": 13,
   "metadata": {
    "scrolled": true
   },
   "outputs": [
    {
     "name": "stdout",
     "output_type": "stream",
     "text": [
      "0\t0.00132621\t0.457708\t0.457708\t1\t1\n",
      "1\t9.75595e-05\t0.0701529\t0.0701529\t1\t1\n",
      "2\t4.63715e-05\t0.0132298\t0.0132298\t1\t1\n",
      "3\t3.1876e-05\t0.0045189\t0.0045189\t1\t1\n",
      "4\t2.1968e-05\t0.00211511\t0.00211511\t1\t1\n",
      "5\t1.50283e-05\t0.00107383\t0.00107383\t1\t1\n",
      "6\t1.08434e-05\t0.000587538\t0.000587538\t1\t1\n",
      "7\t8.71316e-06\t0.000318788\t0.000318788\t1\t1\n",
      "8\t7.7209e-06\t0.000172673\t0.000172673\t1\t1\n",
      "9\t7.2661e-06\t9.26571e-05\t9.26571e-05\t1\t1\n",
      "10\t7.065e-06\t4.80058e-05\t4.80058e-05\t1\t1\n",
      "11\t6.98336e-06\t2.43115e-05\t2.43115e-05\t1\t0\n",
      "12\t6.97707e-06\t0.000591999\t0.000591999\t1\t0\n",
      "13\t6.93211e-06\t1.06864e-05\t1.06864e-05\t1\t1\n",
      "14\t6.93209e-06\t3.86048e-07\t3.86048e-07\t1\t1\n",
      "15\t6.93207e-06\t2.92031e-07\t2.92031e-07\t1\t1\n",
      "16\t6.93206e-06\t2.26972e-07\t2.26972e-07\t1\t1\n",
      "17\t6.93204e-06\t1.75257e-07\t1.75257e-07\t1\t1\n",
      "18\t6.93202e-06\t1.3716e-07\t1.3716e-07\t1\t1\n",
      "19\t6.93199e-06\t1.11808e-07\t1.11808e-07\t1\t1\n",
      "20\t6.93195e-06\t1.04034e-07\t1.04034e-07\t1\t1\n",
      "21\t6.93191e-06\t1.41015e-07\t1.41015e-07\t1\t1\n",
      "22\t6.93186e-06\t2.47235e-07\t2.47235e-07\t1\t1\n",
      "23\t6.93178e-06\t5.56288e-07\t5.56288e-07\t1\t1\n",
      "Computing negative curvature direction for scaled tau = 0.0180863\n",
      "24\t6.93166e-06\t1.7146e-06\t1.7146e-06\t1\t1\n",
      "25\t6.9313e-06\t1.51805e-05\t1.51805e-05\t0.00390625\t0\n",
      "26\t6.93081e-06\t7.92556e-05\t7.92556e-05\t1\t0\n",
      "27\t6.92909e-06\t4.53405e-05\t4.53405e-05\t0.5\t0\n",
      "28\t6.92806e-06\t0.000113368\t0.000113368\t1\t0\n",
      "29\t6.92549e-06\t3.70816e-05\t3.70816e-05\t0.5\t0\n",
      "30\t6.92437e-06\t0.000132692\t0.000132692\t1\t0\n",
      "31\t6.922e-06\t2.48329e-05\t2.48329e-05\t0.5\t0\n",
      "32\t6.92112e-06\t8.18425e-05\t8.18425e-05\t1\t0\n",
      "33\t6.92013e-06\t2.23979e-05\t2.23979e-05\t1\t0\n",
      "34\t6.92005e-06\t7.76168e-05\t7.76168e-05\t1\t0\n",
      "35\t6.91944e-06\t2.63104e-06\t2.63104e-06\t1\t0\n",
      "36\t6.91942e-06\t2.25814e-05\t2.25814e-05\t1\t0\n",
      "37\t6.91936e-06\t9.09693e-08\t9.09693e-08\t1\t0\n"
     ]
    },
    {
     "data": {
      "text/plain": [
       "<elastic_rods.ConvergenceReport at 0x131159bf0>"
      ]
     },
     "execution_count": 13,
     "metadata": {},
     "output_type": "execute_result"
    }
   ],
   "source": [
    "elastic_rods.compute_equilibrium(curved_linkage, callback = eqm_callback, options = OPTS, fixedVars = fixed_boundary_joints)"
   ]
  },
  {
   "cell_type": "code",
   "execution_count": 16,
   "metadata": {},
   "outputs": [],
   "source": [
    "vf = show_selected_joints(curved_linkage, [237,414,238,349,349,237,390,238,348,392,350,261,350,263,584,383,262,311,469,351,382,352,209,351,389,312,228,311,351,405,272,565,164,273,370,371,405,388,165,310,112,292,110,270,113,112,387,111,291,418,110,156,386,596,419,418,308,155,372,156,158,99,100,318,159,373,157,158,227,505])\n",
    "curved_linkage_view.update(vectorField = vf)"
   ]
  },
  {
   "cell_type": "code",
   "execution_count": 11,
   "metadata": {},
   "outputs": [
    {
     "name": "stdout",
     "output_type": "stream",
     "text": [
      "stage 2 optimization with attraction weight 100.0\n",
      "stage 2 optimization with attraction weight 0.03162277660168379\n",
      "stage 2 optimization with attraction weight 1e-05\n"
     ]
    }
   ],
   "source": [
    "# optimizer = initialize_stage_2_optimizer(curved_linkage, io.SURFACE_PATH, curved_save_tgt_joint_pos, curved_linkage_view, fixed_boundary_joint = fixed_boundary_joints)\n",
    "# optimizer, opt_iterateData = stage_2_optimization(optimizer, curved_linkage, io.SURFACE_PATH, curved_save_tgt_joint_pos, curved_linkage_view, -1, -5, 3)"
   ]
  },
  {
   "cell_type": "code",
   "execution_count": 14,
   "metadata": {},
   "outputs": [
    {
     "name": "stdout",
     "output_type": "stream",
     "text": [
      "1.1868447778439797e-06\n"
     ]
    }
   ],
   "source": [
    "# curved_optimizer_energy = curved_linkage.energy()\n",
    "# validation_curved_linkage = optimizer.getLinesearchWeaverLinkage()\n",
    "# validation_curved_linkage.attraction_weight = 1e-7\n",
    "# with so(): elastic_rods.compute_equilibrium(validation_curved_linkage, options = OPTS, fixedVars = fixed_boundary_joints)\n",
    "# validation_curved_view = linkage_vis.LinkageViewer(validation_curved_linkage, width=1024, height=640)\n",
    "# validation_curved_energy = validation_curved_linkage.energy()\n",
    "# print(abs((validation_curved_energy-curved_optimizer_energy)/curved_optimizer_energy))"
   ]
  },
  {
   "cell_type": "code",
   "execution_count": 13,
   "metadata": {},
   "outputs": [],
   "source": [
    "deviation, deviation_vector, joint_normals, joint_projection_normals = get_normal_deviation(curved_linkage)"
   ]
  },
  {
   "cell_type": "code",
   "execution_count": 17,
   "metadata": {},
   "outputs": [
    {
     "data": {
      "application/vnd.jupyter.widget-view+json": {
       "model_id": "81ddaac6fc9949dea5bd39fc65ed8768",
       "version_major": 2,
       "version_minor": 0
      },
      "text/plain": [
       "Renderer(camera=PerspectiveCamera(aspect=1.6, children=(PointLight(color='white', intensity=0.6, position=(0.0…"
      ]
     },
     "metadata": {},
     "output_type": "display_data"
    }
   ],
   "source": [
    "validation_curved_view = linkage_vis.LinkageViewerWithSurface(validation_curved_linkage, io.SURFACE_PATH, width=1024, height=640)\n",
    "set_surface_view_options(validation_curved_view)\n",
    "validation_curved_view.show()"
   ]
  },
  {
   "cell_type": "code",
   "execution_count": 17,
   "metadata": {},
   "outputs": [],
   "source": [
    "set_joint_vector_field(curved_linkage, curved_linkage_view, deviation_vector)"
   ]
  },
  {
   "cell_type": "code",
   "execution_count": 16,
   "metadata": {},
   "outputs": [
    {
     "name": "stdout",
     "output_type": "stream",
     "text": [
      "Min Width  0.015957012207851003\n",
      "num seg per rod 14\n",
      "num seg per rod 26\n",
      "num seg per rod 25\n",
      "num seg per rod 35\n",
      "num seg per rod 25\n",
      "num seg per rod 26\n",
      "num seg per rod 29\n",
      "num seg per rod 8\n",
      "num seg per rod 21\n",
      "num seg per rod 37\n",
      "num seg per rod 12\n",
      "num seg per rod 20\n",
      "num seg per rod 27\n",
      "num seg per rod 30\n",
      "num seg per rod 23\n",
      "num seg per rod 19\n",
      "num seg per rod 36\n",
      "num seg per rod 31\n",
      "num seg per rod 32\n",
      "num seg per rod 9\n",
      "num seg per rod 35\n",
      "num seg per rod 27\n",
      "num seg per rod 30\n",
      "num seg per rod 38\n",
      "num seg per rod 27\n",
      "num seg per rod 26\n",
      "num seg per rod 26\n",
      "num seg per rod 33\n",
      "num seg per rod 27\n",
      "num seg per rod 23\n",
      "num seg per rod 89\n",
      "num seg per rod 16\n",
      "num seg per rod 24\n",
      "num seg per rod 11\n",
      "num seg per rod 12\n",
      "num seg per rod 10\n",
      "num seg per rod 8\n",
      "num seg per rod 30\n",
      "num seg per rod 10\n",
      "num seg per rod 23\n",
      "num seg per rod 7\n",
      "num seg per rod 5\n",
      "num seg per rod 19\n",
      "num seg per rod 31\n",
      "num seg per rod 30\n",
      "num seg per rod 9\n",
      "num seg per rod 24\n",
      "num seg per rod 18\n"
     ]
    },
    {
     "data": {
      "image/png": "[encoded data removed]",
      "text/plain": [
       "<Figure size 432x288 with 1 Axes>"
      ]
     },
     "metadata": {
      "needs_background": "light"
     },
     "output_type": "display_data"
    }
   ],
   "source": [
    "save_path = os.getcwd()\n",
    "write_all_output(curved_linkage, io.SUBDIVISION_RESOLUTION, io.MODEL_NAME, io.RIBBON_NAME, False, 100, min(io.RIBBON_CS), target_width = 5, flip_angles = False)\n",
    "os.chdir(save_path)"
   ]
  },
  {
   "cell_type": "code",
   "execution_count": null,
   "metadata": {},
   "outputs": [],
   "source": []
  }
 ],
 "metadata": {
  "kernelspec": {
   "display_name": "Python 3",
   "language": "python",
   "name": "python3"
  },
  "language_info": {
   "codemirror_mode": {
    "name": "ipython",
    "version": 3
   },
   "file_extension": ".py",
   "mimetype": "text/x-python",
   "name": "python",
   "nbconvert_exporter": "python",
   "pygments_lexer": "ipython3",
   "version": "3.7.9"
  }
 },
 "nbformat": 4,
 "nbformat_minor": 4
}
