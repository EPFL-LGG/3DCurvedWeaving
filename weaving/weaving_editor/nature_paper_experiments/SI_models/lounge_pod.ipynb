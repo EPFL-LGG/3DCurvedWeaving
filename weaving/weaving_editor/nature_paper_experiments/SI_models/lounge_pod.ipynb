{
 "cells": [
  {
   "cell_type": "code",
   "execution_count": 14,
   "metadata": {},
   "outputs": [],
   "source": [
    "elastic_rods_dir = '../../../../elastic_rods/python/'\n",
    "weaving_dir = '../../../'\n",
    "import os\n",
    "import os.path as osp\n",
    "import sys; sys.path.append(elastic_rods_dir); sys.path.append(weaving_dir)\n",
    "import numpy as np, elastic_rods, linkage_vis\n",
    "import numpy.linalg as la\n",
    "from bending_validation import suppress_stdout as so\n",
    "import matplotlib.pyplot as plt\n",
    "from elastic_rods import EnergyType, InterleavingType\n",
    "\n",
    "# weaving\n",
    "import analysis_helper, ribbon_linkage_helper, mesh_vis, linkage_utils, compute_curve_from_curvature, pipeline_helper, importlib\n",
    "importlib.reload(analysis_helper)\n",
    "importlib.reload(ribbon_linkage_helper)\n",
    "importlib.reload(mesh_vis)\n",
    "importlib.reload(linkage_utils)\n",
    "importlib.reload(compute_curve_from_curvature)\n",
    "importlib.reload(pipeline_helper)\n",
    "from analysis_helper import (compare_turning_angle,\n",
    "                            is_on_sphere, \n",
    "                            get_distance_to_center_scalar_field, \n",
    "                            plot_curvatures, \n",
    "                            get_curvature_scalar_field,\n",
    "                            construct_elastic_rod_loop_from_rod_segments, \n",
    "                            concatenate_rod_properties_from_rod_segments, \n",
    "                            compute_min_distance_rigid_transformation)\n",
    "from ribbon_linkage_helper import (update_rest_curvature, \n",
    "                                   set_ribbon_linkage,\n",
    "                                   export_linkage_geometry_to_obj,\n",
    "                                   write_linkage_ribbon_output_florin)\n",
    "\n",
    "from compute_curve_from_curvature import (match_geo_curvature_and_edge_len, get_all_curve_pattern)\n",
    "from linkage_utils import order_segments_by_ribbons, get_turning_angle_and_length_from_ordered_rods\n",
    "\n",
    "from pipeline_helper import (initialize_linkage, get_normal_deviation, set_joint_vector_field, stage_1_optimization, initialize_stage_2_optimizer, stage_2_optimization, InputOrganizer, write_all_output, set_surface_view_options, get_structure_analysis_view, get_max_distance_to_target_surface, Visualization_Setting, set_figure_label_and_limit, contact_optimization, get_fixed_boundary_joint, get_double_side_view)\n",
    "\n",
    "import vis.fields\n",
    "import matplotlib.cm as cm\n",
    "import time"
   ]
  },
  {
   "cell_type": "code",
   "execution_count": 2,
   "metadata": {},
   "outputs": [],
   "source": [
    "import parallelism\n",
    "parallelism.set_max_num_tbb_threads(12)\n",
    "parallelism.set_hessian_assembly_num_threads(4)\n",
    "parallelism.set_gradient_assembly_num_threads(4)"
   ]
  },
  {
   "cell_type": "code",
   "execution_count": 3,
   "metadata": {},
   "outputs": [
    {
     "name": "stdout",
     "output_type": "stream",
     "text": [
      "0.015957012207851003 0.0015957012207851004\n"
     ]
    }
   ],
   "source": [
    "# rod_length = curved_linkage.totalRestLength() / curved_linkage.numSegments()\n",
    "rod_length = 0.079785061039255\n",
    "width = rod_length / 25 * 5\n",
    "thickness = width / 5 * 0.5\n",
    "print(width, thickness)\n",
    "scale = 1\n",
    "io = InputOrganizer('lounge_pod_{}'.format(scale), thickness, width, weaving_dir)"
   ]
  },
  {
   "cell_type": "code",
   "execution_count": 4,
   "metadata": {},
   "outputs": [],
   "source": [
    "OPTS = elastic_rods.NewtonOptimizerOptions()\n",
    "OPTS.gradTol = 1e-6\n",
    "OPTS.verbose = 1;\n",
    "OPTS.beta = 1e-8\n",
    "OPTS.niter = 200\n",
    "OPTS.verboseNonPosDef = False"
   ]
  },
  {
   "cell_type": "code",
   "execution_count": 5,
   "metadata": {},
   "outputs": [],
   "source": [
    "rw = 0.01\n",
    "sw = 0.01"
   ]
  },
  {
   "cell_type": "code",
   "execution_count": 6,
   "metadata": {},
   "outputs": [
    {
     "data": {
      "application/vnd.jupyter.widget-view+json": {
       "model_id": "d99bb95276304ff388588a1b775473e4",
       "version_major": 2,
       "version_minor": 0
      },
      "text/plain": [
       "Renderer(camera=PerspectiveCamera(children=(PointLight(color='white', intensity=0.6, position=(0.0, 0.0, 5.0),…"
      ]
     },
     "metadata": {},
     "output_type": "display_data"
    }
   ],
   "source": [
    "with so(): curved_linkage = initialize_linkage(surface_path = io.SURFACE_PATH, useCenterline = True, model_path = io.MODEL_PATH, cross_section = io.RIBBON_CS, subdivision_res = io.SUBDIVISION_RESOLUTION)\n",
    "curved_linkage.set_design_parameter_config(use_restLen = True, use_restKappa = True)\n",
    "curved_save_tgt_joint_pos = curved_linkage.jointPositions();\n",
    "curved_linkage_view = linkage_vis.LinkageViewerWithSurface(curved_linkage, io.SURFACE_PATH)\n",
    "set_surface_view_options(curved_linkage_view)\n",
    "curved_linkage_view.show()"
   ]
  },
  {
   "cell_type": "code",
   "execution_count": 8,
   "metadata": {},
   "outputs": [
    {
     "data": {
      "text/plain": [
       "2712"
      ]
     },
     "execution_count": 8,
     "metadata": {},
     "output_type": "execute_result"
    }
   ],
   "source": [
    "curved_linkage.numJoints()"
   ]
  },
  {
   "cell_type": "code",
   "execution_count": 9,
   "metadata": {},
   "outputs": [],
   "source": [
    "curved_linkage.setExtendedDoFsPSRL(np.load('../benchmark/dofs/benchmark_lounge_pod_1_dof.npy'))"
   ]
  },
  {
   "cell_type": "code",
   "execution_count": 19,
   "metadata": {},
   "outputs": [],
   "source": [
    "# set_surface_view_options(curved_linkage_view, surface_transparent=False)\n"
   ]
  },
  {
   "cell_type": "code",
   "execution_count": 7,
   "metadata": {
    "scrolled": true
   },
   "outputs": [],
   "source": [
    "# iterateData = stage_1_optimization(curved_linkage, rw, sw, curved_linkage_view)"
   ]
  },
  {
   "cell_type": "code",
   "execution_count": 19,
   "metadata": {},
   "outputs": [],
   "source": [
    "curved_linkage.attraction_weight = 1e-5"
   ]
  },
  {
   "cell_type": "code",
   "execution_count": 20,
   "metadata": {},
   "outputs": [],
   "source": [
    "fixed_boundary_joints = get_fixed_boundary_joint(curved_linkage)"
   ]
  },
  {
   "cell_type": "code",
   "execution_count": 21,
   "metadata": {},
   "outputs": [],
   "source": [
    "def eqm_callback(prob, i):\n",
    "    curved_linkage_view.update()"
   ]
  },
  {
   "cell_type": "code",
   "execution_count": 22,
   "metadata": {
    "scrolled": true
   },
   "outputs": [
    {
     "name": "stdout",
     "output_type": "stream",
     "text": [
      "0\t2.57622e-05\t0.000134284\t0.000134284\t0.5\t1\n",
      "1\t2.13377e-05\t0.0214257\t0.0214257\t1\t1\n",
      "2\t2.06501e-05\t0.00155998\t0.00155998\t1\t1\n",
      "3\t2.02772e-05\t0.000562944\t0.000562944\t1\t1\n",
      "4\t1.98075e-05\t0.000700975\t0.000700975\t1\t1\n",
      "5\t1.92382e-05\t0.0016625\t0.0016625\t1\t1\n",
      "6\t1.85915e-05\t0.00232622\t0.00232622\t1\t1\n",
      "7\t1.79022e-05\t0.00293297\t0.00293297\t1\t1\n",
      "8\t1.72384e-05\t0.00387426\t0.00387426\t1\t1\n",
      "9\t1.68535e-05\t0.00228462\t0.00228462\t1\t1\n",
      "10\t1.66118e-05\t0.0024869\t0.0024869\t0.125\t0\n",
      "11\t1.65809e-05\t0.00543103\t0.00543103\t1\t1\n",
      "12\t1.64619e-05\t0.00204816\t0.00204816\t0.5\t0\n",
      "13\t1.6367e-05\t0.00931983\t0.00931983\t1\t1\n",
      "14\t1.62818e-05\t0.000756444\t0.000756444\t1\t0\n",
      "15\t1.62193e-05\t0.00339253\t0.00339253\t1\t0\n",
      "16\t1.62126e-05\t0.00106279\t0.00106279\t1\t0\n",
      "17\t1.62094e-05\t0.000269886\t0.000269886\t1\t0\n",
      "18\t1.62088e-05\t9.43683e-05\t9.43683e-05\t1\t0\n",
      "19\t1.62088e-05\t2.11518e-06\t2.11518e-06\t1\t0\n",
      "20\t1.62088e-05\t1.07022e-08\t1.07022e-08\t1\t0\n"
     ]
    },
    {
     "data": {
      "text/plain": [
       "<elastic_rods.ConvergenceReport at 0x12c8dc1b0>"
      ]
     },
     "execution_count": 22,
     "metadata": {},
     "output_type": "execute_result"
    }
   ],
   "source": [
    "elastic_rods.compute_equilibrium(curved_linkage, callback = eqm_callback, options = OPTS, fixedVars = fixed_boundary_joints)"
   ]
  },
  {
   "cell_type": "code",
   "execution_count": 28,
   "metadata": {},
   "outputs": [],
   "source": [
    "double_view = get_double_side_view(curved_linkage, flip = False)"
   ]
  },
  {
   "cell_type": "code",
   "execution_count": 29,
   "metadata": {},
   "outputs": [
    {
     "data": {
      "application/vnd.jupyter.widget-view+json": {
       "model_id": "012287c306ab4f4abb973ac7166edb40",
       "version_major": 2,
       "version_minor": 0
      },
      "text/plain": [
       "Renderer(camera=PerspectiveCamera(aspect=1.6, children=(PointLight(color='white', intensity=0.6, position=(0.0…"
      ]
     },
     "metadata": {},
     "output_type": "display_data"
    }
   ],
   "source": [
    "double_view.show()"
   ]
  },
  {
   "cell_type": "code",
   "execution_count": 11,
   "metadata": {},
   "outputs": [
    {
     "name": "stdout",
     "output_type": "stream",
     "text": [
      "stage 2 optimization with attraction weight 100.0\n",
      "stage 2 optimization with attraction weight 0.03162277660168379\n",
      "stage 2 optimization with attraction weight 1e-05\n"
     ]
    }
   ],
   "source": [
    "optimizer = initialize_stage_2_optimizer(curved_linkage, io.SURFACE_PATH, curved_save_tgt_joint_pos, curved_linkage_view, fixed_boundary_joint = fixed_boundary_joints)\n",
    "optimizer, opt_iterateData = stage_2_optimization(optimizer, curved_linkage, io.SURFACE_PATH, curved_save_tgt_joint_pos, curved_linkage_view, -1, -5, 3)"
   ]
  },
  {
   "cell_type": "code",
   "execution_count": 14,
   "metadata": {},
   "outputs": [
    {
     "name": "stdout",
     "output_type": "stream",
     "text": [
      "1.1868447778439797e-06\n"
     ]
    }
   ],
   "source": [
    "curved_optimizer_energy = curved_linkage.energy()\n",
    "validation_curved_linkage = optimizer.getLinesearchWeaverLinkage()\n",
    "validation_curved_linkage.attraction_weight = 1e-7\n",
    "with so(): elastic_rods.compute_equilibrium(validation_curved_linkage, options = OPTS, fixedVars = fixed_boundary_joints)\n",
    "validation_curved_view = linkage_vis.LinkageViewer(validation_curved_linkage, width=1024, height=640)\n",
    "validation_curved_energy = validation_curved_linkage.energy()\n",
    "print(abs((validation_curved_energy-curved_optimizer_energy)/curved_optimizer_energy))"
   ]
  },
  {
   "cell_type": "code",
   "execution_count": 25,
   "metadata": {},
   "outputs": [
    {
     "data": {
      "application/vnd.jupyter.widget-view+json": {
       "model_id": "84e9439e6f7f42599399004ca8492430",
       "version_major": 2,
       "version_minor": 0
      },
      "text/plain": [
       "Renderer(camera=PerspectiveCamera(children=(PointLight(color='white', intensity=0.6, position=(0.0, 0.0, 5.0),…"
      ]
     },
     "metadata": {},
     "output_type": "display_data"
    }
   ],
   "source": [
    "with so(): test_linkage = initialize_linkage(surface_path = io.SURFACE_PATH, useCenterline = True, model_path = io.MODEL_PATH, cross_section = io.RIBBON_CS, subdivision_res = io.SUBDIVISION_RESOLUTION)\n",
    "test_linkage.set_design_parameter_config(use_restLen = True, use_restKappa = True)\n",
    "test_save_tgt_joint_pos = test_linkage.jointPositions();"
   ]
  },
  {
   "cell_type": "code",
   "execution_count": 27,
   "metadata": {},
   "outputs": [
    {
     "data": {
      "application/vnd.jupyter.widget-view+json": {
       "model_id": "4d1088a7f3094f3cb5f03b17517633aa",
       "version_major": 2,
       "version_minor": 0
      },
      "text/plain": [
       "Renderer(camera=PerspectiveCamera(aspect=1.6, children=(PointLight(color='white', intensity=0.6, position=(0.0…"
      ]
     },
     "metadata": {},
     "output_type": "display_data"
    }
   ],
   "source": [
    "test_view = get_double_side_view(test_linkage, flip = False)\n",
    "test_view.show()"
   ]
  },
  {
   "cell_type": "code",
   "execution_count": 15,
   "metadata": {},
   "outputs": [],
   "source": [
    "deviation, deviation_vector, joint_normals, joint_projection_normals = get_normal_deviation(validation_curved_linkage)"
   ]
  },
  {
   "cell_type": "code",
   "execution_count": 17,
   "metadata": {},
   "outputs": [
    {
     "data": {
      "application/vnd.jupyter.widget-view+json": {
       "model_id": "81ddaac6fc9949dea5bd39fc65ed8768",
       "version_major": 2,
       "version_minor": 0
      },
      "text/plain": [
       "Renderer(camera=PerspectiveCamera(aspect=1.6, children=(PointLight(color='white', intensity=0.6, position=(0.0…"
      ]
     },
     "metadata": {},
     "output_type": "display_data"
    }
   ],
   "source": [
    "validation_curved_view = linkage_vis.LinkageViewerWithSurface(validation_curved_linkage, io.SURFACE_PATH, width=1024, height=640)\n",
    "set_surface_view_options(validation_curved_view)\n",
    "validation_curved_view.show()"
   ]
  },
  {
   "cell_type": "code",
   "execution_count": 18,
   "metadata": {},
   "outputs": [],
   "source": [
    "set_joint_vector_field(validation_curved_linkage, validation_curved_view, deviation_vector)"
   ]
  },
  {
   "cell_type": "code",
   "execution_count": 20,
   "metadata": {},
   "outputs": [
    {
     "name": "stdout",
     "output_type": "stream",
     "text": [
      "Min Width  0.015957012207851003\n",
      "num seg per rod 88\n",
      "num seg per rod 23\n",
      "num seg per rod 5\n",
      "num seg per rod 25\n",
      "num seg per rod 5\n",
      "num seg per rod 26\n",
      "num seg per rod 26\n",
      "num seg per rod 26\n",
      "num seg per rod 26\n",
      "num seg per rod 25\n",
      "num seg per rod 26\n",
      "num seg per rod 26\n",
      "num seg per rod 26\n",
      "num seg per rod 26\n",
      "num seg per rod 23\n",
      "num seg per rod 5\n",
      "num seg per rod 23\n",
      "num seg per rod 25\n",
      "num seg per rod 25\n",
      "num seg per rod 23\n",
      "num seg per rod 5\n",
      "num seg per rod 17\n",
      "num seg per rod 13\n",
      "num seg per rod 13\n",
      "num seg per rod 17\n",
      "num seg per rod 21\n",
      "num seg per rod 9\n",
      "num seg per rod 9\n",
      "num seg per rod 21\n",
      "num seg per rod 23\n",
      "num seg per rod 21\n",
      "num seg per rod 9\n",
      "num seg per rod 23\n",
      "num seg per rod 23\n",
      "num seg per rod 17\n",
      "num seg per rod 13\n",
      "num seg per rod 23\n",
      "num seg per rod 23\n",
      "num seg per rod 13\n",
      "num seg per rod 17\n",
      "num seg per rod 23\n",
      "num seg per rod 21\n",
      "num seg per rod 23\n",
      "num seg per rod 23\n",
      "num seg per rod 9\n"
     ]
    },
    {
     "data": {
      "image/png": "[encoded data removed]",
      "text/plain": [
       "<Figure size 432x288 with 1 Axes>"
      ]
     },
     "metadata": {
      "needs_background": "light"
     },
     "output_type": "display_data"
    }
   ],
   "source": [
    "save_path = os.getcwd()\n",
    "write_all_output(curved_linkage, io.SUBDIVISION_RESOLUTION, io.MODEL_NAME, io.RIBBON_NAME, False, 100, min(io.RIBBON_CS), target_width = 5, flip_angles = True)\n",
    "os.chdir(save_path)"
   ]
  },
  {
   "cell_type": "code",
   "execution_count": null,
   "metadata": {},
   "outputs": [],
   "source": []
  }
 ],
 "metadata": {
  "kernelspec": {
   "display_name": "Python 3",
   "language": "python",
   "name": "python3"
  },
  "language_info": {
   "codemirror_mode": {
    "name": "ipython",
    "version": 3
   },
   "file_extension": ".py",
   "mimetype": "text/x-python",
   "name": "python",
   "nbconvert_exporter": "python",
   "pygments_lexer": "ipython3",
   "version": "3.7.5"
  }
 },
 "nbformat": 4,
 "nbformat_minor": 4
}
