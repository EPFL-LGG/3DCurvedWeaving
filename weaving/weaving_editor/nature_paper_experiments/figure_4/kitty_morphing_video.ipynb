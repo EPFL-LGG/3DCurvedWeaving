{
 "cells": [
  {
   "cell_type": "code",
   "execution_count": 1,
   "metadata": {},
   "outputs": [],
   "source": [
    "elastic_rods_dir = '../../../../elastic_rods/python/'\n",
    "weaving_dir = '../../../'\n",
    "import os\n",
    "import os.path as osp\n",
    "import sys; sys.path.append(elastic_rods_dir); sys.path.append(weaving_dir)\n",
    "import numpy as np, elastic_rods, linkage_vis\n",
    "import numpy.linalg as la\n",
    "from bending_validation import suppress_stdout as so\n",
    "import matplotlib.pyplot as plt\n",
    "from elastic_rods import EnergyType, InterleavingType\n",
    "\n",
    "# weaving\n",
    "import analysis_helper, ribbon_linkage_helper, mesh_vis, linkage_utils, compute_curve_from_curvature, pipeline_helper, importlib\n",
    "importlib.reload(analysis_helper)\n",
    "importlib.reload(ribbon_linkage_helper)\n",
    "importlib.reload(mesh_vis)\n",
    "importlib.reload(linkage_utils)\n",
    "importlib.reload(compute_curve_from_curvature)\n",
    "importlib.reload(pipeline_helper)\n",
    "from analysis_helper import (compare_turning_angle,\n",
    "                            is_on_sphere, \n",
    "                            get_distance_to_center_scalar_field, \n",
    "                            plot_curvatures, \n",
    "                            get_curvature_scalar_field,\n",
    "                            construct_elastic_rod_loop_from_rod_segments, \n",
    "                            concatenate_rod_properties_from_rod_segments, \n",
    "                            compute_min_distance_rigid_transformation)\n",
    "from ribbon_linkage_helper import (update_rest_curvature, \n",
    "                                   set_ribbon_linkage,\n",
    "                                   export_linkage_geometry_to_obj,\n",
    "                                   write_linkage_ribbon_output_florin)\n",
    "\n",
    "from compute_curve_from_curvature import (match_geo_curvature_and_edge_len, get_all_curve_pattern)\n",
    "from linkage_utils import order_segments_by_ribbons, get_turning_angle_and_length_from_ordered_rods\n",
    "\n",
    "from pipeline_helper import (initialize_linkage, get_normal_deviation, set_joint_vector_field, stage_1_optimization, initialize_stage_2_optimizer, stage_2_optimization, InputOrganizer, write_all_output, set_surface_view_options, get_structure_analysis_view, contact_optimization, get_double_side_view, show_selected_joints)\n",
    "import vis.fields\n",
    "import matplotlib.cm as cm\n",
    "import time"
   ]
  },
  {
   "cell_type": "code",
   "execution_count": 2,
   "metadata": {},
   "outputs": [],
   "source": [
    "import parallelism\n",
    "parallelism.set_max_num_tbb_threads(12)\n",
    "parallelism.set_hessian_assembly_num_threads(4)\n",
    "parallelism.set_gradient_assembly_num_threads(4)"
   ]
  },
  {
   "cell_type": "code",
   "execution_count": 3,
   "metadata": {},
   "outputs": [
    {
     "name": "stdout",
     "output_type": "stream",
     "text": [
      "0.033273539253433904 0.0023291477477403733\n"
     ]
    }
   ],
   "source": [
    "rod_length = 0.09982061776030171\n",
    "width = rod_length / 15 * 5\n",
    "thickness = width / 5 * 0.35\n",
    "print(width, thickness)\n",
    "io = InputOrganizer('kitty_level_99', thickness, width, weaving_dir)\n",
    "#  [ ear 214, ear 255, nose 39]"
   ]
  },
  {
   "cell_type": "code",
   "execution_count": 4,
   "metadata": {},
   "outputs": [],
   "source": [
    "import py_newton_optimizer\n",
    "OPTS = py_newton_optimizer.NewtonOptimizerOptions()\n",
    "OPTS.gradTol = 1e-6\n",
    "OPTS.verbose = 1;\n",
    "OPTS.beta = 1e-8\n",
    "OPTS.niter = 200\n",
    "OPTS.verboseNonPosDef = False\n",
    "rw = 1\n",
    "sw = 10\n",
    "drw = 0.01\n",
    "dsw = 0.01"
   ]
  },
  {
   "cell_type": "code",
   "execution_count": 5,
   "metadata": {},
   "outputs": [
    {
     "data": {
      "application/vnd.jupyter.widget-view+json": {
       "model_id": "b4e780538da442c199d6940d76c9e654",
       "version_major": 2,
       "version_minor": 0
      },
      "text/plain": [
       "Renderer(camera=PerspectiveCamera(children=(PointLight(color='#999999', position=(0.0, 0.0, 5.0), quaternion=(…"
      ]
     },
     "metadata": {},
     "output_type": "display_data"
    }
   ],
   "source": [
    "with so(): curved_linkage = initialize_linkage(surface_path = io.SURFACE_PATH, useCenterline = True, model_path = io.MODEL_PATH, cross_section = io.RIBBON_CS, subdivision_res = io.SUBDIVISION_RESOLUTION, use_constant_width=True, width_scale = [0.2, 1.5])\n",
    "curved_linkage.set_design_parameter_config(use_restLen = True, use_restKappa = True)\n",
    "curved_save_tgt_joint_pos = curved_linkage.jointPositions();\n",
    "curved_linkage_view = linkage_vis.LinkageViewer(curved_linkage)\n",
    "# set_surface_view_options(curved_linkage_view)\n",
    "curved_linkage_view.show()"
   ]
  },
  {
   "cell_type": "code",
   "execution_count": 6,
   "metadata": {},
   "outputs": [],
   "source": [
    "# curved_linkage_view.setCameraParams(((4.139347366530763, -3.927678946178955, 0.7924706632167623),\n",
    "#  (-0.038125872037145875, 0.15887387844372028, 0.9865624707182293),\n",
    "#  (0.0, 0.0, 0.0)))"
   ]
  },
  {
   "cell_type": "code",
   "execution_count": 7,
   "metadata": {},
   "outputs": [],
   "source": [
    "curved_linkage.setExtendedDoFsPSRL(np.load('results/kitty_level_99/kitty_level_99_dof.npy'))"
   ]
  },
  {
   "cell_type": "code",
   "execution_count": 8,
   "metadata": {},
   "outputs": [],
   "source": [
    "curved_linkage.attraction_weight = 1e-1"
   ]
  },
  {
   "cell_type": "code",
   "execution_count": 9,
   "metadata": {
    "scrolled": true
   },
   "outputs": [
    {
     "name": "stdout",
     "output_type": "stream",
     "text": [
      "0\t0.0169897\t12.4464\t12.4464\t0.5\t1\n",
      "1\t0.00879927\t46.3668\t46.3668\t1\t1\n",
      "2\t0.00599609\t14.8372\t14.8372\t1\t1\n",
      "3\t0.00519318\t3.78046\t3.78046\t1\t1\n",
      "4\t0.00439084\t2.77426\t2.77426\t1\t1\n",
      "5\t0.00354556\t1.94621\t1.94621\t1\t1\n",
      "6\t0.00277103\t1.38812\t1.38812\t1\t1\n",
      "7\t0.00208705\t1.03256\t1.03256\t1\t1\n",
      "8\t0.00146865\t0.751235\t0.751235\t1\t1\n",
      "9\t0.000929912\t0.509029\t0.509029\t1\t1\n",
      "10\t0.000520712\t0.299734\t0.299734\t1\t1\n",
      "11\t0.000278641\t0.149831\t0.149831\t1\t1\n",
      "12\t0.000173067\t0.0748966\t0.0748966\t1\t1\n",
      "13\t0.000135406\t0.0414111\t0.0414111\t1\t1\n",
      "14\t0.000118964\t0.021991\t0.021991\t1\t1\n",
      "15\t0.000104959\t0.0110126\t0.0110126\t1\t1\n",
      "16\t8.72823e-05\t0.00565057\t0.00565057\t1\t1\n",
      "17\t6.54322e-05\t0.00330192\t0.00330192\t1\t1\n",
      "18\t4.36018e-05\t0.00245837\t0.00245837\t1\t0\n",
      "19\t1.281e-05\t0.0199652\t0.0199652\t1\t0\n",
      "20\t1.26661e-05\t0.00214629\t0.00214629\t1\t0\n",
      "21\t1.26635e-05\t0.00029657\t0.00029657\t1\t0\n",
      "22\t1.26635e-05\t5.09912e-06\t5.09912e-06\t1\t0\n",
      "23\t1.26635e-05\t3.36508e-09\t3.36508e-09\t1\t0\n"
     ]
    },
    {
     "data": {
      "text/plain": [
       "<py_newton_optimizer.ConvergenceReport at 0x12877a2f0>"
      ]
     },
     "execution_count": 9,
     "metadata": {},
     "output_type": "execute_result"
    }
   ],
   "source": [
    "elastic_rods.compute_equilibrium(curved_linkage, options = OPTS)"
   ]
  },
  {
   "cell_type": "code",
   "execution_count": 10,
   "metadata": {},
   "outputs": [],
   "source": [
    "design_parameters = np.load('results/new_kitty_1/new_kitty_1_dof.npy')[curved_linkage.numDoF():]\n",
    "initial_design_parameters = curved_linkage.getExtendedDoFsPSRL()[curved_linkage.numDoF():]\n",
    "second_design_parameters = np.load('results/kitty_level_4/kitty_level_4_dof.npy')[curved_linkage.numDoF():]\n",
    "third_design_parameters = np.load('results/kitty_level_1/kitty_level_1_dof.npy')[curved_linkage.numDoF():]\n",
    "fourth_design_parameters = np.load('results/kitty_level_0/kitty_level_0_dof.npy')[curved_linkage.numDoF():]"
   ]
  },
  {
   "cell_type": "code",
   "execution_count": 11,
   "metadata": {},
   "outputs": [],
   "source": [
    "collect_design_parameters = []\n",
    "collect_design_parameters.extend([initial_design_parameters * (1-idx) + second_design_parameters * idx for idx in np.linspace(0, 1, 30)])\n",
    "collect_design_parameters.extend([second_design_parameters * (1-idx) + third_design_parameters * idx for idx in np.linspace(0, 1, 30)])\n",
    "collect_design_parameters.extend([third_design_parameters * (1-idx) + fourth_design_parameters * idx for idx in np.linspace(0, 1, 30)])\n",
    "collect_design_parameters.extend([fourth_design_parameters * (1-idx) + design_parameters * idx for idx in np.linspace(0, 1, 30)])"
   ]
  },
  {
   "cell_type": "code",
   "execution_count": null,
   "metadata": {},
   "outputs": [],
   "source": [
    "np.save('cat_morphing_design_parameters.npy', collect_design_parameters)"
   ]
  },
  {
   "cell_type": "code",
   "execution_count": null,
   "metadata": {},
   "outputs": [],
   "source": [
    "topColor =[51/256., 172/256., 255/256.]\n",
    "bottomColor =[141/256., 141/256., 141/256.]\n",
    "heights = curved_linkage.visualizationGeometryHeightColors()\n",
    "colors = np.take(np.array([bottomColor, topColor]), heights < heights.mean(), axis=0)"
   ]
  },
  {
   "cell_type": "code",
   "execution_count": null,
   "metadata": {},
   "outputs": [],
   "source": [
    "curved_linkage_view.update(scalarField=colors)"
   ]
  },
  {
   "cell_type": "code",
   "execution_count": null,
   "metadata": {},
   "outputs": [],
   "source": [
    "def eqm_callback(prob, i):\n",
    "#     if i % 5 == 0:\n",
    "#         curved_linkage_view.update(scalarField=colors)\n",
    "    pass"
   ]
  },
  {
   "cell_type": "code",
   "execution_count": null,
   "metadata": {},
   "outputs": [],
   "source": [
    "# renderCam = curved_linkage_view.getCameraParams()"
   ]
  },
  {
   "cell_type": "code",
   "execution_count": null,
   "metadata": {},
   "outputs": [],
   "source": [
    "# model_path_base = 'morphing_cat_results'\n",
    "# video_folder = os.path.join(model_path_base, 'video')"
   ]
  },
  {
   "cell_type": "code",
   "execution_count": null,
   "metadata": {},
   "outputs": [],
   "source": [
    "# np.save(os.path.join(video_folder, 'renderCam.npy'), renderCam)"
   ]
  },
  {
   "cell_type": "markdown",
   "metadata": {},
   "source": [
    "### Generate cat morphing video"
   ]
  },
  {
   "cell_type": "code",
   "execution_count": null,
   "metadata": {},
   "outputs": [],
   "source": [
    "OPTS.niter = 1000\n",
    "def render_video(renderCam = None, framerate = 5):\n",
    "    '''\n",
    "    Render the equilibrium ribbon results offscreen for each iteration of the morphing sequence\n",
    "    '''\n",
    "    from PIL import Image\n",
    "    import ffmpeg\n",
    "    model_path_base = 'morphing_cat_results'\n",
    "    video_folder = os.path.join(model_path_base, 'video')\n",
    "    image_folder = os.path.join(video_folder, 'images')\n",
    "    if not os.path.exists(image_folder):\n",
    "        os.makedirs(image_folder) \n",
    "    if renderCam == None:\n",
    "        renderCam = np.load(os.path.join(video_folder, 'renderCam.npy'))\n",
    "    else:\n",
    "        np.save(os.path.join(video_folder, 'renderCam.npy'), renderCam)\n",
    "\n",
    "    def renderToFile(view, renderCam, path):\n",
    "        orender = view.offscreenRenderer(width=2048, height=2048)\n",
    "        orender.setCameraParams(renderCam)\n",
    "        orender.render()\n",
    "        orender.save(path)\n",
    "    def write_distance_image(i):\n",
    "        image_name = os.path.join(image_folder, 'iter_{:03d}.png'.format(i))\n",
    "        if not os.path.isfile(image_name):\n",
    "            curved_linkage.setDesignParameters(collect_design_parameters[i])\n",
    "            with so(): elastic_rods.compute_equilibrium(curved_linkage, callback = eqm_callback, options = OPTS)\n",
    "            curved_linkage_view.update(scalarField=colors)\n",
    "            image_name = os.path.join(image_folder, 'iter_{:03d}.png'.format(i))\n",
    "            renderToFile(curved_linkage_view, renderCam, image_name)\n",
    "    def convert_png_to_jpg(i):\n",
    "        image_name = os.path.join(image_folder, 'iter_{:03d}.png'.format(i))\n",
    "        new_image_name = os.path.join(video_folder, 'images/iter_{:03d}.jpg'.format(i))\n",
    "        if not os.path.isfile(new_image_name):\n",
    "            im = Image.open(image_name)\n",
    "            bg = Image.new('RGB', im.size, (255,255,255))\n",
    "            bg.paste(im,im)\n",
    "            bg.save(new_image_name)\n",
    "\n",
    "    [write_distance_image(i) for i in range(len(collect_design_parameters))]\n",
    "    [convert_png_to_jpg(i) for i in range(len(collect_design_parameters))]\n",
    "    video_name = os.path.join(video_folder, '{}.mp4'.format('morphing_cat'))\n",
    "    if os.path.isfile(video_name):\n",
    "        os.remove(video_name)\n",
    "    (ffmpeg\n",
    "        .input(os.path.join(image_folder, 'iter_*.jpg'), pattern_type='glob', framerate=framerate)\n",
    "        .output(video_name, crf=20, preset='slower', movflags='faststart', pix_fmt='yuv420p')\n",
    "        .run()\n",
    "    )"
   ]
  },
  {
   "cell_type": "code",
   "execution_count": null,
   "metadata": {},
   "outputs": [],
   "source": [
    "render_video(framerate = 20)"
   ]
  },
  {
   "cell_type": "code",
   "execution_count": null,
   "metadata": {},
   "outputs": [],
   "source": [
    "OPTS.niter = 1000\n",
    "for curr_design_parameters in collect_design_parameters:\n",
    "    curved_linkage.setDesignParameters(curr_design_parameters)\n",
    "    with so(): elastic_rods.compute_equilibrium(curved_linkage, callback = eqm_callback, options = OPTS)"
   ]
  },
  {
   "cell_type": "markdown",
   "metadata": {},
   "source": [
    "### Generate Curve Visualization"
   ]
  },
  {
   "cell_type": "code",
   "execution_count": 15,
   "metadata": {},
   "outputs": [],
   "source": [
    "limits = np.load('cat_ribbon_5_limits.npy')"
   ]
  },
  {
   "cell_type": "code",
   "execution_count": 16,
   "metadata": {},
   "outputs": [
    {
     "data": {
      "text/plain": [
       "array([1066.08557129,   -2.5       ,  305.00173845, -329.70082845])"
      ]
     },
     "execution_count": 16,
     "metadata": {},
     "output_type": "execute_result"
    }
   ],
   "source": [
    "limits"
   ]
  },
  {
   "cell_type": "code",
   "execution_count": 17,
   "metadata": {
    "scrolled": true
   },
   "outputs": [
    {
     "name": "stdout",
     "output_type": "stream",
     "text": [
      "Min Width  0.033273539253433904\n",
      "Scale:  150.26955689674608\n",
      "num seg per rod 88\n",
      "Min Width  0.033273539253433904\n",
      "Scale:  150.26955689674608\n",
      "num seg per rod 88\n"
     ]
    },
    {
     "name": "stderr",
     "output_type": "stream",
     "text": [
      "../../../compute_curve_from_curvature.py:177: MatplotlibDeprecationWarning: Adding an axes using the same arguments as a previous axes currently reuses the earlier instance.  In a future version, a new instance will always be created and returned.  Meanwhile, this warning can be suppressed, and the future behavior ensured, by passing a unique label to each axes instance.\n",
      "  ax = f.add_subplot(1,1,1)\n"
     ]
    },
    {
     "name": "stdout",
     "output_type": "stream",
     "text": [
      "Min Width  0.033273539253433904\n",
      "Scale:  150.26955689674608\n",
      "num seg per rod 88\n",
      "Min Width  0.033273539253433904\n",
      "Scale:  150.26955689674608\n",
      "num seg per rod 88\n",
      "Min Width  0.033273539253433904\n",
      "Scale:  150.26955689674608\n",
      "num seg per rod 88\n",
      "Min Width  0.033273539253433904\n",
      "Scale:  150.26955689674608\n",
      "num seg per rod 88\n",
      "Min Width  0.033273539253433904\n",
      "Scale:  150.26955689674608\n",
      "num seg per rod 88\n",
      "Min Width  0.033273539253433904\n",
      "Scale:  150.26955689674608\n",
      "num seg per rod 88\n",
      "Min Width  0.033273539253433904\n",
      "Scale:  150.26955689674608\n",
      "num seg per rod 88\n",
      "Min Width  0.033273539253433904\n",
      "Scale:  150.26955689674608\n",
      "num seg per rod 88\n"
     ]
    },
    {
     "ename": "KeyboardInterrupt",
     "evalue": "",
     "output_type": "error",
     "traceback": [
      "\u001b[0;31m---------------------------------------------------------------------------\u001b[0m",
      "\u001b[0;31mKeyboardInterrupt\u001b[0m                         Traceback (most recent call last)",
      "\u001b[0;32m<ipython-input-17-65db4d5de3c3>\u001b[0m in \u001b[0;36m<module>\u001b[0;34m\u001b[0m\n\u001b[1;32m      2\u001b[0m \u001b[0;32mfor\u001b[0m \u001b[0mi\u001b[0m\u001b[0;34m,\u001b[0m \u001b[0mcurr_design_parameters\u001b[0m \u001b[0;32min\u001b[0m \u001b[0menumerate\u001b[0m\u001b[0;34m(\u001b[0m\u001b[0mcollect_design_parameters\u001b[0m\u001b[0;34m)\u001b[0m\u001b[0;34m:\u001b[0m\u001b[0;34m\u001b[0m\u001b[0;34m\u001b[0m\u001b[0m\n\u001b[1;32m      3\u001b[0m     \u001b[0mcurved_linkage\u001b[0m\u001b[0;34m.\u001b[0m\u001b[0msetDesignParameters\u001b[0m\u001b[0;34m(\u001b[0m\u001b[0mcurr_design_parameters\u001b[0m\u001b[0;34m)\u001b[0m\u001b[0;34m\u001b[0m\u001b[0;34m\u001b[0m\u001b[0m\n\u001b[0;32m----> 4\u001b[0;31m     \u001b[0mget_all_curve_pattern\u001b[0m\u001b[0;34m(\u001b[0m\u001b[0mcurved_linkage\u001b[0m\u001b[0;34m,\u001b[0m \u001b[0mthickness\u001b[0m\u001b[0;34m,\u001b[0m \u001b[0mio\u001b[0m\u001b[0;34m.\u001b[0m\u001b[0mSUBDIVISION_RESOLUTION\u001b[0m\u001b[0;34m,\u001b[0m \u001b[0;34m'morphing_ribbon'\u001b[0m\u001b[0;34m,\u001b[0m \u001b[0;34m'png'\u001b[0m\u001b[0;34m,\u001b[0m \u001b[0mtarget_ribbon_width\u001b[0m \u001b[0;34m=\u001b[0m \u001b[0;36m5\u001b[0m\u001b[0;34m,\u001b[0m \u001b[0mflip_angles\u001b[0m \u001b[0;34m=\u001b[0m \u001b[0;32mFalse\u001b[0m\u001b[0;34m,\u001b[0m \u001b[0mselect_ribbon_index\u001b[0m \u001b[0;34m=\u001b[0m \u001b[0;34m[\u001b[0m\u001b[0;36m5\u001b[0m\u001b[0;34m]\u001b[0m\u001b[0;34m,\u001b[0m \u001b[0miteration_index\u001b[0m\u001b[0;34m=\u001b[0m\u001b[0;34m'{:03d}'\u001b[0m\u001b[0;34m.\u001b[0m\u001b[0mformat\u001b[0m\u001b[0;34m(\u001b[0m\u001b[0mi\u001b[0m\u001b[0;34m)\u001b[0m\u001b[0;34m,\u001b[0m \u001b[0mlimits\u001b[0m\u001b[0;34m=\u001b[0m\u001b[0mlimits\u001b[0m\u001b[0;34m)\u001b[0m\u001b[0;34m\u001b[0m\u001b[0;34m\u001b[0m\u001b[0m\n\u001b[0m",
      "\u001b[0;32m~/Develop/EPFL_LGG/weaving/weaving/compute_curve_from_curvature.py\u001b[0m in \u001b[0;36mget_all_curve_pattern\u001b[0;34m(linkage, thickness, rod_resolution, RIBBON_NAME, image_type, flip_angles, iteration_index, select_ribbon_index, target_ribbon_width, rest, bending_axis, use_slit, slit_orientation, return_png_data, limits)\u001b[0m\n\u001b[1;32m    317\u001b[0m         \u001b[0mos\u001b[0m\u001b[0;34m.\u001b[0m\u001b[0mmakedirs\u001b[0m\u001b[0;34m(\u001b[0m\u001b[0mRIBBON_NAME\u001b[0m\u001b[0;34m)\u001b[0m\u001b[0;34m\u001b[0m\u001b[0;34m\u001b[0m\u001b[0m\n\u001b[1;32m    318\u001b[0m     \u001b[0;32mfor\u001b[0m \u001b[0mribbon_index\u001b[0m \u001b[0;32min\u001b[0m \u001b[0mselect_ribbon_index\u001b[0m\u001b[0;34m:\u001b[0m\u001b[0;34m\u001b[0m\u001b[0;34m\u001b[0m\u001b[0m\n\u001b[0;32m--> 319\u001b[0;31m         \u001b[0mtop_x\u001b[0m\u001b[0;34m,\u001b[0m \u001b[0mtop_y\u001b[0m\u001b[0;34m,\u001b[0m \u001b[0mbottom_x\u001b[0m\u001b[0;34m,\u001b[0m \u001b[0mbottom_y\u001b[0m\u001b[0;34m,\u001b[0m \u001b[0mjoint_x\u001b[0m\u001b[0;34m,\u001b[0m \u001b[0mjoint_y\u001b[0m\u001b[0;34m,\u001b[0m \u001b[0mjoints_angle\u001b[0m\u001b[0;34m,\u001b[0m \u001b[0mjoints_direction\u001b[0m\u001b[0;34m,\u001b[0m \u001b[0mupper_joints_xs\u001b[0m\u001b[0;34m,\u001b[0m \u001b[0mupper_joints_ys\u001b[0m\u001b[0;34m,\u001b[0m \u001b[0mlower_joints_xs\u001b[0m\u001b[0;34m,\u001b[0m \u001b[0mlower_joints_ys\u001b[0m \u001b[0;34m=\u001b[0m \u001b[0mget_laser_cutting_pattern_data\u001b[0m\u001b[0;34m(\u001b[0m\u001b[0mribbons\u001b[0m\u001b[0;34m,\u001b[0m \u001b[0mall_ribbon_angle\u001b[0m\u001b[0;34m,\u001b[0m \u001b[0mall_ribbon_edge_len\u001b[0m\u001b[0;34m,\u001b[0m \u001b[0mall_ribbon_num_seg\u001b[0m\u001b[0;34m,\u001b[0m \u001b[0mscale\u001b[0m\u001b[0;34m,\u001b[0m \u001b[0mh\u001b[0m\u001b[0;34m,\u001b[0m \u001b[0mall_ribbon_widths\u001b[0m\u001b[0;34m,\u001b[0m \u001b[0mrod_resolution\u001b[0m\u001b[0;34m,\u001b[0m \u001b[0mribbon_index\u001b[0m \u001b[0;34m=\u001b[0m \u001b[0mribbon_index\u001b[0m\u001b[0;34m)\u001b[0m\u001b[0;34m\u001b[0m\u001b[0;34m\u001b[0m\u001b[0m\n\u001b[0m\u001b[1;32m    320\u001b[0m         \u001b[0;32mif\u001b[0m \u001b[0mreturn_png_data\u001b[0m\u001b[0;34m:\u001b[0m\u001b[0;34m\u001b[0m\u001b[0;34m\u001b[0m\u001b[0m\n\u001b[1;32m    321\u001b[0m             \u001b[0mx_upper_limit\u001b[0m \u001b[0;34m=\u001b[0m \u001b[0mmax\u001b[0m\u001b[0;34m(\u001b[0m\u001b[0mnp\u001b[0m\u001b[0;34m.\u001b[0m\u001b[0mamax\u001b[0m\u001b[0;34m(\u001b[0m\u001b[0mtop_x\u001b[0m\u001b[0;34m)\u001b[0m\u001b[0;34m,\u001b[0m \u001b[0mnp\u001b[0m\u001b[0;34m.\u001b[0m\u001b[0mamax\u001b[0m\u001b[0;34m(\u001b[0m\u001b[0mbottom_x\u001b[0m\u001b[0;34m)\u001b[0m\u001b[0;34m)\u001b[0m\u001b[0;34m\u001b[0m\u001b[0;34m\u001b[0m\u001b[0m\n",
      "\u001b[0;32m~/Develop/EPFL_LGG/weaving/weaving/compute_curve_from_curvature.py\u001b[0m in \u001b[0;36mget_laser_cutting_pattern_data\u001b[0;34m(ribbons, all_ribbon_angle, all_ribbon_edge_len, all_ribbon_num_seg, scale, width, all_ribbon_widths, resolution, ribbon_index)\u001b[0m\n\u001b[1;32m    159\u001b[0m         \u001b[0mupper_point_list\u001b[0m\u001b[0;34m.\u001b[0m\u001b[0mappend\u001b[0m\u001b[0;34m(\u001b[0m\u001b[0mupper_point\u001b[0m\u001b[0;34m)\u001b[0m\u001b[0;34m\u001b[0m\u001b[0;34m\u001b[0m\u001b[0m\n\u001b[1;32m    160\u001b[0m         \u001b[0mlower_point_list\u001b[0m\u001b[0;34m.\u001b[0m\u001b[0mappend\u001b[0m\u001b[0;34m(\u001b[0m\u001b[0mlower_point\u001b[0m\u001b[0;34m)\u001b[0m\u001b[0;34m\u001b[0m\u001b[0;34m\u001b[0m\u001b[0m\n\u001b[0;32m--> 161\u001b[0;31m     \u001b[0mupper_point_list\u001b[0m\u001b[0;34m,\u001b[0m \u001b[0mlower_point_list\u001b[0m \u001b[0;34m=\u001b[0m \u001b[0mnp\u001b[0m\u001b[0;34m.\u001b[0m\u001b[0marray\u001b[0m\u001b[0;34m(\u001b[0m\u001b[0mupper_point_list\u001b[0m\u001b[0;34m)\u001b[0m\u001b[0;34m,\u001b[0m \u001b[0mnp\u001b[0m\u001b[0;34m.\u001b[0m\u001b[0marray\u001b[0m\u001b[0;34m(\u001b[0m\u001b[0mlower_point_list\u001b[0m\u001b[0;34m)\u001b[0m\u001b[0;34m\u001b[0m\u001b[0;34m\u001b[0m\u001b[0m\n\u001b[0m\u001b[1;32m    162\u001b[0m \u001b[0;34m\u001b[0m\u001b[0m\n\u001b[1;32m    163\u001b[0m \u001b[0;31m#     The joint position since the joint is in the middle of the segments\u001b[0m\u001b[0;34m\u001b[0m\u001b[0;34m\u001b[0m\u001b[0;34m\u001b[0m\u001b[0m\n",
      "\u001b[0;31mKeyboardInterrupt\u001b[0m: "
     ]
    },
    {
     "data": {
      "image/png": "[encoded data removed]",
      "text/plain": [
       "<Figure size 432x288 with 1 Axes>"
      ]
     },
     "metadata": {
      "needs_background": "light"
     },
     "output_type": "display_data"
    },
    {
     "data": {
      "text/plain": [
       "<Figure size 432x288 with 0 Axes>"
      ]
     },
     "metadata": {},
     "output_type": "display_data"
    },
    {
     "data": {
      "text/plain": [
       "<Figure size 432x288 with 0 Axes>"
      ]
     },
     "metadata": {},
     "output_type": "display_data"
    },
    {
     "data": {
      "text/plain": [
       "<Figure size 432x288 with 0 Axes>"
      ]
     },
     "metadata": {},
     "output_type": "display_data"
    },
    {
     "data": {
      "text/plain": [
       "<Figure size 432x288 with 0 Axes>"
      ]
     },
     "metadata": {},
     "output_type": "display_data"
    },
    {
     "data": {
      "text/plain": [
       "<Figure size 432x288 with 0 Axes>"
      ]
     },
     "metadata": {},
     "output_type": "display_data"
    },
    {
     "data": {
      "text/plain": [
       "<Figure size 432x288 with 0 Axes>"
      ]
     },
     "metadata": {},
     "output_type": "display_data"
    },
    {
     "data": {
      "text/plain": [
       "<Figure size 432x288 with 0 Axes>"
      ]
     },
     "metadata": {},
     "output_type": "display_data"
    },
    {
     "data": {
      "text/plain": [
       "<Figure size 432x288 with 0 Axes>"
      ]
     },
     "metadata": {},
     "output_type": "display_data"
    },
    {
     "data": {
      "image/png": "[encoded data removed]",
      "text/plain": [
       "<Figure size 432x288 with 1 Axes>"
      ]
     },
     "metadata": {
      "needs_background": "light"
     },
     "output_type": "display_data"
    }
   ],
   "source": [
    "OPTS.niter = 1000\n",
    "for i, curr_design_parameters in enumerate(collect_design_parameters):\n",
    "    curved_linkage.setDesignParameters(curr_design_parameters)\n",
    "    get_all_curve_pattern(curved_linkage, thickness, io.SUBDIVISION_RESOLUTION, 'morphing_ribbon', 'png', target_ribbon_width = 5, flip_angles = False, select_ribbon_index = [5], iteration_index='{:03d}'.format(i), limits=limits)"
   ]
  },
  {
   "cell_type": "code",
   "execution_count": 20,
   "metadata": {
    "scrolled": true
   },
   "outputs": [
    {
     "name": "stdout",
     "output_type": "stream",
     "text": [
      "Min Width  0.033273539253433904\n",
      "Scale:  150.26955689674608\n",
      "num seg per rod 88\n",
      "Min Width  0.033273539253433904\n",
      "Scale:  150.26955689674608\n",
      "num seg per rod 88\n",
      "Min Width  0.033273539253433904\n",
      "Scale:  150.26955689674608\n",
      "num seg per rod 88\n",
      "Min Width  0.033273539253433904\n",
      "Scale:  150.26955689674608\n",
      "num seg per rod 88\n",
      "Min Width  0.033273539253433904\n",
      "Scale:  150.26955689674608\n",
      "num seg per rod 88\n",
      "Min Width  0.033273539253433904\n",
      "Scale:  150.26955689674608\n",
      "num seg per rod 88\n",
      "Min Width  0.033273539253433904\n",
      "Scale:  150.26955689674608\n",
      "num seg per rod 88\n",
      "Min Width  0.033273539253433904\n",
      "Scale:  150.26955689674608\n",
      "num seg per rod 88\n",
      "Min Width  0.033273539253433904\n",
      "Scale:  150.26955689674608\n",
      "num seg per rod 88\n",
      "Min Width  0.033273539253433904\n",
      "Scale:  150.26955689674608\n",
      "num seg per rod 88\n",
      "Min Width  0.033273539253433904\n",
      "Scale:  150.26955689674608\n",
      "num seg per rod 88\n",
      "Min Width  0.033273539253433904\n",
      "Scale:  150.26955689674608\n",
      "num seg per rod 88\n",
      "Min Width  0.033273539253433904\n",
      "Scale:  150.26955689674608\n",
      "num seg per rod 88\n",
      "Min Width  0.033273539253433904\n",
      "Scale:  150.26955689674608\n",
      "num seg per rod 88\n",
      "Min Width  0.033273539253433904\n",
      "Scale:  150.26955689674608\n",
      "num seg per rod 88\n",
      "Min Width  0.033273539253433904\n",
      "Scale:  150.26955689674608\n",
      "num seg per rod 88\n"
     ]
    },
    {
     "ename": "KeyboardInterrupt",
     "evalue": "",
     "output_type": "error",
     "traceback": [
      "\u001b[0;31m---------------------------------------------------------------------------\u001b[0m",
      "\u001b[0;31mKeyboardInterrupt\u001b[0m                         Traceback (most recent call last)",
      "\u001b[0;32m<ipython-input-20-52175101df76>\u001b[0m in \u001b[0;36m<module>\u001b[0;34m\u001b[0m\n\u001b[1;32m      5\u001b[0m \u001b[0;32mfor\u001b[0m \u001b[0mi\u001b[0m\u001b[0;34m,\u001b[0m \u001b[0mcurr_design_parameters\u001b[0m \u001b[0;32min\u001b[0m \u001b[0menumerate\u001b[0m\u001b[0;34m(\u001b[0m\u001b[0mcollect_design_parameters\u001b[0m\u001b[0;34m)\u001b[0m\u001b[0;34m:\u001b[0m\u001b[0;34m\u001b[0m\u001b[0;34m\u001b[0m\u001b[0m\n\u001b[1;32m      6\u001b[0m     \u001b[0mcurved_linkage\u001b[0m\u001b[0;34m.\u001b[0m\u001b[0msetDesignParameters\u001b[0m\u001b[0;34m(\u001b[0m\u001b[0mcurr_design_parameters\u001b[0m\u001b[0;34m)\u001b[0m\u001b[0;34m\u001b[0m\u001b[0;34m\u001b[0m\u001b[0m\n\u001b[0;32m----> 7\u001b[0;31m     \u001b[0mtop_x\u001b[0m\u001b[0;34m,\u001b[0m \u001b[0mtop_y\u001b[0m\u001b[0;34m,\u001b[0m \u001b[0mbottom_x\u001b[0m\u001b[0;34m,\u001b[0m \u001b[0mbottom_y\u001b[0m\u001b[0;34m,\u001b[0m \u001b[0mjoint_x\u001b[0m\u001b[0;34m,\u001b[0m \u001b[0mjoint_y\u001b[0m\u001b[0;34m,\u001b[0m \u001b[0mlimits\u001b[0m \u001b[0;34m=\u001b[0m \u001b[0mget_all_curve_pattern\u001b[0m\u001b[0;34m(\u001b[0m\u001b[0mcurved_linkage\u001b[0m\u001b[0;34m,\u001b[0m \u001b[0mthickness\u001b[0m\u001b[0;34m,\u001b[0m \u001b[0mio\u001b[0m\u001b[0;34m.\u001b[0m\u001b[0mSUBDIVISION_RESOLUTION\u001b[0m\u001b[0;34m,\u001b[0m \u001b[0;34m'morphing_ribbon'\u001b[0m\u001b[0;34m,\u001b[0m \u001b[0;34m'png'\u001b[0m\u001b[0;34m,\u001b[0m \u001b[0mtarget_ribbon_width\u001b[0m \u001b[0;34m=\u001b[0m \u001b[0;36m5\u001b[0m\u001b[0;34m,\u001b[0m \u001b[0mflip_angles\u001b[0m \u001b[0;34m=\u001b[0m \u001b[0;32mFalse\u001b[0m\u001b[0;34m,\u001b[0m \u001b[0mselect_ribbon_index\u001b[0m \u001b[0;34m=\u001b[0m \u001b[0;34m[\u001b[0m\u001b[0;36m5\u001b[0m\u001b[0;34m]\u001b[0m\u001b[0;34m,\u001b[0m \u001b[0miteration_index\u001b[0m\u001b[0;34m=\u001b[0m\u001b[0;34m'{:03d}'\u001b[0m\u001b[0;34m.\u001b[0m\u001b[0mformat\u001b[0m\u001b[0;34m(\u001b[0m\u001b[0mi\u001b[0m\u001b[0;34m)\u001b[0m\u001b[0;34m,\u001b[0m \u001b[0mreturn_png_data\u001b[0m\u001b[0;34m=\u001b[0m\u001b[0;32mTrue\u001b[0m\u001b[0;34m)\u001b[0m\u001b[0;34m\u001b[0m\u001b[0;34m\u001b[0m\u001b[0m\n\u001b[0m\u001b[1;32m      8\u001b[0m     \u001b[0mall_limits\u001b[0m\u001b[0;34m.\u001b[0m\u001b[0mappend\u001b[0m\u001b[0;34m(\u001b[0m\u001b[0mlimits\u001b[0m\u001b[0;34m)\u001b[0m\u001b[0;34m\u001b[0m\u001b[0;34m\u001b[0m\u001b[0m\n\u001b[1;32m      9\u001b[0m \u001b[0;31m#     plt.plot(top_x, top_y, '-', label='shifted up', linewidth = 0.2, color = 'black')\u001b[0m\u001b[0;34m\u001b[0m\u001b[0;34m\u001b[0m\u001b[0;34m\u001b[0m\u001b[0m\n",
      "\u001b[0;32m~/Develop/EPFL_LGG/weaving/weaving/compute_curve_from_curvature.py\u001b[0m in \u001b[0;36mget_all_curve_pattern\u001b[0;34m(linkage, thickness, rod_resolution, RIBBON_NAME, image_type, flip_angles, iteration_index, select_ribbon_index, target_ribbon_width, rest, bending_axis, use_slit, slit_orientation, return_png_data, limits)\u001b[0m\n\u001b[1;32m    317\u001b[0m         \u001b[0mos\u001b[0m\u001b[0;34m.\u001b[0m\u001b[0mmakedirs\u001b[0m\u001b[0;34m(\u001b[0m\u001b[0mRIBBON_NAME\u001b[0m\u001b[0;34m)\u001b[0m\u001b[0;34m\u001b[0m\u001b[0;34m\u001b[0m\u001b[0m\n\u001b[1;32m    318\u001b[0m     \u001b[0;32mfor\u001b[0m \u001b[0mribbon_index\u001b[0m \u001b[0;32min\u001b[0m \u001b[0mselect_ribbon_index\u001b[0m\u001b[0;34m:\u001b[0m\u001b[0;34m\u001b[0m\u001b[0;34m\u001b[0m\u001b[0m\n\u001b[0;32m--> 319\u001b[0;31m         \u001b[0mtop_x\u001b[0m\u001b[0;34m,\u001b[0m \u001b[0mtop_y\u001b[0m\u001b[0;34m,\u001b[0m \u001b[0mbottom_x\u001b[0m\u001b[0;34m,\u001b[0m \u001b[0mbottom_y\u001b[0m\u001b[0;34m,\u001b[0m \u001b[0mjoint_x\u001b[0m\u001b[0;34m,\u001b[0m \u001b[0mjoint_y\u001b[0m\u001b[0;34m,\u001b[0m \u001b[0mjoints_angle\u001b[0m\u001b[0;34m,\u001b[0m \u001b[0mjoints_direction\u001b[0m\u001b[0;34m,\u001b[0m \u001b[0mupper_joints_xs\u001b[0m\u001b[0;34m,\u001b[0m \u001b[0mupper_joints_ys\u001b[0m\u001b[0;34m,\u001b[0m \u001b[0mlower_joints_xs\u001b[0m\u001b[0;34m,\u001b[0m \u001b[0mlower_joints_ys\u001b[0m \u001b[0;34m=\u001b[0m \u001b[0mget_laser_cutting_pattern_data\u001b[0m\u001b[0;34m(\u001b[0m\u001b[0mribbons\u001b[0m\u001b[0;34m,\u001b[0m \u001b[0mall_ribbon_angle\u001b[0m\u001b[0;34m,\u001b[0m \u001b[0mall_ribbon_edge_len\u001b[0m\u001b[0;34m,\u001b[0m \u001b[0mall_ribbon_num_seg\u001b[0m\u001b[0;34m,\u001b[0m \u001b[0mscale\u001b[0m\u001b[0;34m,\u001b[0m \u001b[0mh\u001b[0m\u001b[0;34m,\u001b[0m \u001b[0mall_ribbon_widths\u001b[0m\u001b[0;34m,\u001b[0m \u001b[0mrod_resolution\u001b[0m\u001b[0;34m,\u001b[0m \u001b[0mribbon_index\u001b[0m \u001b[0;34m=\u001b[0m \u001b[0mribbon_index\u001b[0m\u001b[0;34m)\u001b[0m\u001b[0;34m\u001b[0m\u001b[0;34m\u001b[0m\u001b[0m\n\u001b[0m\u001b[1;32m    320\u001b[0m         \u001b[0;32mif\u001b[0m \u001b[0mreturn_png_data\u001b[0m\u001b[0;34m:\u001b[0m\u001b[0;34m\u001b[0m\u001b[0;34m\u001b[0m\u001b[0m\n\u001b[1;32m    321\u001b[0m             \u001b[0mx_upper_limit\u001b[0m \u001b[0;34m=\u001b[0m \u001b[0mmax\u001b[0m\u001b[0;34m(\u001b[0m\u001b[0mnp\u001b[0m\u001b[0;34m.\u001b[0m\u001b[0mamax\u001b[0m\u001b[0;34m(\u001b[0m\u001b[0mtop_x\u001b[0m\u001b[0;34m)\u001b[0m\u001b[0;34m,\u001b[0m \u001b[0mnp\u001b[0m\u001b[0;34m.\u001b[0m\u001b[0mamax\u001b[0m\u001b[0;34m(\u001b[0m\u001b[0mbottom_x\u001b[0m\u001b[0;34m)\u001b[0m\u001b[0;34m)\u001b[0m\u001b[0;34m\u001b[0m\u001b[0;34m\u001b[0m\u001b[0m\n",
      "\u001b[0;32m~/Develop/EPFL_LGG/weaving/weaving/compute_curve_from_curvature.py\u001b[0m in \u001b[0;36mget_laser_cutting_pattern_data\u001b[0;34m(ribbons, all_ribbon_angle, all_ribbon_edge_len, all_ribbon_num_seg, scale, width, all_ribbon_widths, resolution, ribbon_index)\u001b[0m\n\u001b[1;32m    135\u001b[0m         \u001b[0;32mreturn\u001b[0m \u001b[0mnp\u001b[0m\u001b[0;34m.\u001b[0m\u001b[0marray\u001b[0m\u001b[0;34m(\u001b[0m\u001b[0;34m[\u001b[0m\u001b[0mn_x\u001b[0m\u001b[0;34m,\u001b[0m \u001b[0mn_y\u001b[0m\u001b[0;34m]\u001b[0m\u001b[0;34m)\u001b[0m\u001b[0;34m\u001b[0m\u001b[0;34m\u001b[0m\u001b[0m\n\u001b[1;32m    136\u001b[0m \u001b[0;34m\u001b[0m\u001b[0m\n\u001b[0;32m--> 137\u001b[0;31m     \u001b[0mscaled_xs\u001b[0m\u001b[0;34m,\u001b[0m \u001b[0mscaled_ys\u001b[0m \u001b[0;34m=\u001b[0m \u001b[0mscale_to_frame\u001b[0m\u001b[0;34m(\u001b[0m\u001b[0mxs\u001b[0m\u001b[0;34m,\u001b[0m \u001b[0mys\u001b[0m\u001b[0;34m)\u001b[0m\u001b[0;34m\u001b[0m\u001b[0;34m\u001b[0m\u001b[0m\n\u001b[0m\u001b[1;32m    138\u001b[0m     \u001b[0mextend_direction_list\u001b[0m \u001b[0;34m=\u001b[0m \u001b[0;34m[\u001b[0m\u001b[0;34m]\u001b[0m\u001b[0;34m\u001b[0m\u001b[0;34m\u001b[0m\u001b[0m\n\u001b[1;32m    139\u001b[0m     \u001b[0;32mfor\u001b[0m \u001b[0mi\u001b[0m \u001b[0;32min\u001b[0m \u001b[0mrange\u001b[0m\u001b[0;34m(\u001b[0m\u001b[0mlen\u001b[0m\u001b[0;34m(\u001b[0m\u001b[0mscaled_ys\u001b[0m\u001b[0;34m)\u001b[0m\u001b[0;34m)\u001b[0m\u001b[0;34m[\u001b[0m\u001b[0;36m1\u001b[0m\u001b[0;34m:\u001b[0m\u001b[0;34m-\u001b[0m\u001b[0;36m1\u001b[0m\u001b[0;34m]\u001b[0m\u001b[0;34m:\u001b[0m\u001b[0;34m\u001b[0m\u001b[0;34m\u001b[0m\u001b[0m\n",
      "\u001b[0;32m~/Develop/EPFL_LGG/weaving/weaving/compute_curve_from_curvature.py\u001b[0m in \u001b[0;36mscale_to_frame\u001b[0;34m(xs, ys)\u001b[0m\n\u001b[1;32m    118\u001b[0m \u001b[0;34m\u001b[0m\u001b[0m\n\u001b[1;32m    119\u001b[0m     \u001b[0;32mdef\u001b[0m \u001b[0mscale_to_frame\u001b[0m\u001b[0;34m(\u001b[0m\u001b[0mxs\u001b[0m\u001b[0;34m,\u001b[0m \u001b[0mys\u001b[0m\u001b[0;34m)\u001b[0m\u001b[0;34m:\u001b[0m\u001b[0;34m\u001b[0m\u001b[0;34m\u001b[0m\u001b[0m\n\u001b[0;32m--> 120\u001b[0;31m         \u001b[0mscaled_xs\u001b[0m \u001b[0;34m=\u001b[0m \u001b[0mnp\u001b[0m\u001b[0;34m.\u001b[0m\u001b[0marray\u001b[0m\u001b[0;34m(\u001b[0m\u001b[0;34m[\u001b[0m\u001b[0;34m(\u001b[0m\u001b[0mx\u001b[0m \u001b[0;34m-\u001b[0m \u001b[0mmin\u001b[0m\u001b[0;34m(\u001b[0m\u001b[0mxs\u001b[0m\u001b[0;34m)\u001b[0m\u001b[0;34m)\u001b[0m \u001b[0;34m*\u001b[0m \u001b[0mscale\u001b[0m \u001b[0;32mfor\u001b[0m \u001b[0mx\u001b[0m \u001b[0;32min\u001b[0m \u001b[0mxs\u001b[0m\u001b[0;34m]\u001b[0m\u001b[0;34m)\u001b[0m\u001b[0;34m\u001b[0m\u001b[0;34m\u001b[0m\u001b[0m\n\u001b[0m\u001b[1;32m    121\u001b[0m         \u001b[0mscaled_ys\u001b[0m \u001b[0;34m=\u001b[0m \u001b[0mnp\u001b[0m\u001b[0;34m.\u001b[0m\u001b[0marray\u001b[0m\u001b[0;34m(\u001b[0m\u001b[0;34m[\u001b[0m\u001b[0my\u001b[0m \u001b[0;34m*\u001b[0m \u001b[0mscale\u001b[0m \u001b[0;32mfor\u001b[0m \u001b[0my\u001b[0m \u001b[0;32min\u001b[0m \u001b[0mys\u001b[0m\u001b[0;34m]\u001b[0m\u001b[0;34m)\u001b[0m\u001b[0;34m\u001b[0m\u001b[0;34m\u001b[0m\u001b[0m\n\u001b[1;32m    122\u001b[0m         \u001b[0;32mreturn\u001b[0m \u001b[0mscaled_xs\u001b[0m\u001b[0;34m,\u001b[0m \u001b[0mscaled_ys\u001b[0m\u001b[0;34m\u001b[0m\u001b[0;34m\u001b[0m\u001b[0m\n",
      "\u001b[0;32m~/Develop/EPFL_LGG/weaving/weaving/compute_curve_from_curvature.py\u001b[0m in \u001b[0;36m<listcomp>\u001b[0;34m(.0)\u001b[0m\n\u001b[1;32m    118\u001b[0m \u001b[0;34m\u001b[0m\u001b[0m\n\u001b[1;32m    119\u001b[0m     \u001b[0;32mdef\u001b[0m \u001b[0mscale_to_frame\u001b[0m\u001b[0;34m(\u001b[0m\u001b[0mxs\u001b[0m\u001b[0;34m,\u001b[0m \u001b[0mys\u001b[0m\u001b[0;34m)\u001b[0m\u001b[0;34m:\u001b[0m\u001b[0;34m\u001b[0m\u001b[0;34m\u001b[0m\u001b[0m\n\u001b[0;32m--> 120\u001b[0;31m         \u001b[0mscaled_xs\u001b[0m \u001b[0;34m=\u001b[0m \u001b[0mnp\u001b[0m\u001b[0;34m.\u001b[0m\u001b[0marray\u001b[0m\u001b[0;34m(\u001b[0m\u001b[0;34m[\u001b[0m\u001b[0;34m(\u001b[0m\u001b[0mx\u001b[0m \u001b[0;34m-\u001b[0m \u001b[0mmin\u001b[0m\u001b[0;34m(\u001b[0m\u001b[0mxs\u001b[0m\u001b[0;34m)\u001b[0m\u001b[0;34m)\u001b[0m \u001b[0;34m*\u001b[0m \u001b[0mscale\u001b[0m \u001b[0;32mfor\u001b[0m \u001b[0mx\u001b[0m \u001b[0;32min\u001b[0m \u001b[0mxs\u001b[0m\u001b[0;34m]\u001b[0m\u001b[0;34m)\u001b[0m\u001b[0;34m\u001b[0m\u001b[0;34m\u001b[0m\u001b[0m\n\u001b[0m\u001b[1;32m    121\u001b[0m         \u001b[0mscaled_ys\u001b[0m \u001b[0;34m=\u001b[0m \u001b[0mnp\u001b[0m\u001b[0;34m.\u001b[0m\u001b[0marray\u001b[0m\u001b[0;34m(\u001b[0m\u001b[0;34m[\u001b[0m\u001b[0my\u001b[0m \u001b[0;34m*\u001b[0m \u001b[0mscale\u001b[0m \u001b[0;32mfor\u001b[0m \u001b[0my\u001b[0m \u001b[0;32min\u001b[0m \u001b[0mys\u001b[0m\u001b[0;34m]\u001b[0m\u001b[0;34m)\u001b[0m\u001b[0;34m\u001b[0m\u001b[0;34m\u001b[0m\u001b[0m\n\u001b[1;32m    122\u001b[0m         \u001b[0;32mreturn\u001b[0m \u001b[0mscaled_xs\u001b[0m\u001b[0;34m,\u001b[0m \u001b[0mscaled_ys\u001b[0m\u001b[0;34m\u001b[0m\u001b[0;34m\u001b[0m\u001b[0m\n",
      "\u001b[0;31mKeyboardInterrupt\u001b[0m: "
     ]
    },
    {
     "data": {
      "image/png": "[encoded data removed]",
      "text/plain": [
       "<Figure size 432x288 with 1 Axes>"
      ]
     },
     "metadata": {
      "needs_background": "light"
     },
     "output_type": "display_data"
    }
   ],
   "source": [
    "OPTS.niter = 1000\n",
    "fig, host = plt.subplots()\n",
    "host.set_aspect('equal')\n",
    "all_limits = []\n",
    "for i, curr_design_parameters in enumerate(collect_design_parameters):\n",
    "    curved_linkage.setDesignParameters(curr_design_parameters)\n",
    "    top_x, top_y, bottom_x, bottom_y, joint_x, joint_y, limits = get_all_curve_pattern(curved_linkage, thickness, io.SUBDIVISION_RESOLUTION, 'morphing_ribbon', 'png', target_ribbon_width = 5, flip_angles = False, select_ribbon_index = [5], iteration_index='{:03d}'.format(i), return_png_data=True)\n",
    "    all_limits.append(limits)\n",
    "#     plt.plot(top_x, top_y, '-', label='shifted up', linewidth = 0.2, color = 'black')\n",
    "#     plt.plot(bottom_x, bottom_y, '-', label='shifted down', linewidth = 0.2, color = 'black')\n",
    "#     plt.scatter(joint_x, joint_y, s = 0.1, facecolors='black', edgecolors='black')\n",
    "# fig.savefig('all_ribbon.png', format='png', bbox_inches='tight', dpi = 200)"
   ]
  },
  {
   "cell_type": "code",
   "execution_count": null,
   "metadata": {},
   "outputs": [],
   "source": [
    "# np.save('cat_ribbon_5_limits.npy', limits)"
   ]
  },
  {
   "cell_type": "code",
   "execution_count": null,
   "metadata": {},
   "outputs": [],
   "source": [
    "import ffmpeg"
   ]
  },
  {
   "cell_type": "code",
   "execution_count": null,
   "metadata": {},
   "outputs": [],
   "source": [
    "video_folder = 'morphing_ribbon'\n",
    "video_name = os.path.join(video_folder, '{}.mp4'.format('5'))\n",
    "PAD_OPTIONS = {\n",
    "    'width':'ceil(iw/2)*2',\n",
    "    'height':'ceil(ih/2)*2',\n",
    "    'x':'0',\n",
    "    'y':'0',\n",
    "    'color': 'white'\n",
    "}\n",
    "if os.path.isfile(video_name):\n",
    "    os.remove(video_name)\n",
    "(ffmpeg\n",
    "    .input(os.path.join(video_folder, '5_*.png'), pattern_type='glob', framerate=20)\n",
    "    .filter_(\"pad\", **PAD_OPTIONS)\n",
    "    .output(video_name, crf=20, preset='slower', movflags='faststart', pix_fmt='yuv420p')\n",
    "    .run()\n",
    ")"
   ]
  },
  {
   "cell_type": "markdown",
   "metadata": {
    "jupyter": {
     "source_hidden": true
    }
   },
   "source": [
    "### Plot Overlaying Ribbons"
   ]
  },
  {
   "cell_type": "code",
   "execution_count": null,
   "metadata": {
    "jupyter": {
     "source_hidden": true
    }
   },
   "outputs": [],
   "source": [
    "video_folder = 'morphing_ribbon'\n",
    "video_name = os.path.join(video_folder, '{}.mp4'.format('5'))"
   ]
  },
  {
   "cell_type": "code",
   "execution_count": null,
   "metadata": {
    "jupyter": {
     "source_hidden": true
    }
   },
   "outputs": [],
   "source": [
    "import cv2"
   ]
  },
  {
   "cell_type": "code",
   "execution_count": null,
   "metadata": {
    "jupyter": {
     "source_hidden": true
    }
   },
   "outputs": [],
   "source": [
    "merge_image = (cv2.imread(os.path.join(video_folder, '5_{:03d}.png'.format(0))))\n",
    "for i in range(len(collect_design_parameters))[1:]:\n",
    "    new_img = (cv2.imread(os.path.join(video_folder, '5_{:03d}.png'.format(i))))\n",
    "    merge_image = cv2.bitwise_and(merge_image, new_img)\n",
    "merge_image\n",
    "merge_image = np.maximum(merge_image, 210 * np.ones_like(merge_image))\n",
    "selected_image = cv2.bitwise_not(cv2.imread(os.path.join(video_folder, '5_{:03d}.png'.format(119))))\n",
    "for i in range(4):\n",
    "    new_img = cv2.imread(os.path.join(video_folder, '5_{:03d}.png'.format(i * 30)))\n",
    "    selected_image = cv2.bitwise_or(selected_image, cv2.bitwise_not(new_img))\n",
    "selected_image = cv2.bitwise_not(selected_image)\n",
    "\n",
    "cv2.imwrite('overlay_ribbon.png', np.minimum(merge_image, selected_image))"
   ]
  },
  {
   "cell_type": "markdown",
   "metadata": {},
   "source": [
    "### Panel Video"
   ]
  },
  {
   "cell_type": "code",
   "execution_count": 13,
   "metadata": {},
   "outputs": [],
   "source": [
    "cat_root = 'morphing_cat_results/video/images/'\n",
    "ribbon_root = 'morphing_ribbon/'\n",
    "output_image_root = 'morphing_cat_results/morphing_cat_panel'\n",
    "import cv2"
   ]
  },
  {
   "cell_type": "code",
   "execution_count": 25,
   "metadata": {},
   "outputs": [],
   "source": [
    "for i in range(len(collect_design_parameters)):\n",
    "    output_filename = os.path.join(output_image_root, '{:03d}.png'.format(i))\n",
    "    if os.path.isfile(output_filename):\n",
    "        continue\n",
    "    img1 = cv2.imread(os.path.join(cat_root, 'iter_{:03d}.png'.format(i)))\n",
    "    img1[np.where(np.sum(img1, axis = 2) == 0)] = [255, 255, 255] \n",
    "    img2 = cv2.imread(os.path.join(ribbon_root, '5_{:03d}.png'.format(i)))\n",
    "    img2 = cv2.resize(img2, (2048, 1251))\n",
    "    img2 = cv2.transpose(img2)\n",
    "    bottom_row = np.concatenate((img1, img2), axis = 1)\n",
    "    cv2.imwrite(output_filename, bottom_row)"
   ]
  },
  {
   "cell_type": "code",
   "execution_count": 27,
   "metadata": {},
   "outputs": [
    {
     "data": {
      "text/plain": [
       "(None, None)"
      ]
     },
     "execution_count": 27,
     "metadata": {},
     "output_type": "execute_result"
    }
   ],
   "source": [
    "import ffmpeg\n",
    "video_folder = output_image_root\n",
    "video_name = os.path.join(video_folder, '{}.mp4'.format('5'))\n",
    "PAD_OPTIONS = {\n",
    "    'width':'ceil(iw/2)*2',\n",
    "    'height':'ceil(ih/2)*2',\n",
    "    'x':'0',\n",
    "    'y':'0',\n",
    "    'color': 'white'\n",
    "}\n",
    "if os.path.isfile(video_name):\n",
    "    os.remove(video_name)\n",
    "(ffmpeg\n",
    "    .input(os.path.join(video_folder, '*.png'), pattern_type='glob', framerate=20)\n",
    "    .filter_(\"pad\", **PAD_OPTIONS)\n",
    "    .output(video_name, crf=20, preset='slower', movflags='faststart', pix_fmt='yuv420p')\n",
    "    .run()\n",
    ")"
   ]
  },
  {
   "cell_type": "code",
   "execution_count": 16,
   "metadata": {},
   "outputs": [
    {
     "data": {
      "text/plain": [
       "((2048, 2048, 3), (1184, 1939, 3))"
      ]
     },
     "execution_count": 16,
     "metadata": {},
     "output_type": "execute_result"
    }
   ],
   "source": [
    "img1.shape, img2.shape"
   ]
  },
  {
   "cell_type": "code",
   "execution_count": 18,
   "metadata": {},
   "outputs": [
    {
     "data": {
      "text/plain": [
       "1250.558019597731"
      ]
     },
     "execution_count": 18,
     "metadata": {},
     "output_type": "execute_result"
    }
   ],
   "source": [
    "2048 / 1939 * 1184"
   ]
  },
  {
   "cell_type": "code",
   "execution_count": null,
   "metadata": {},
   "outputs": [],
   "source": []
  }
 ],
 "metadata": {
  "kernelspec": {
   "display_name": "Python 3",
   "language": "python",
   "name": "python3"
  },
  "language_info": {
   "codemirror_mode": {
    "name": "ipython",
    "version": 3
   },
   "file_extension": ".py",
   "mimetype": "text/x-python",
   "name": "python",
   "nbconvert_exporter": "python",
   "pygments_lexer": "ipython3",
   "version": "3.7.9"
  }
 },
 "nbformat": 4,
 "nbformat_minor": 4
}
