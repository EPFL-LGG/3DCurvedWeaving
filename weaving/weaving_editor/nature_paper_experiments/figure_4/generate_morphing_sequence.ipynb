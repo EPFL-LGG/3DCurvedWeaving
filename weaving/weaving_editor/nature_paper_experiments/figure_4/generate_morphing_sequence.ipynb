{
 "cells": [
  {
   "cell_type": "code",
   "execution_count": 17,
   "metadata": {},
   "outputs": [],
   "source": [
    "import igl\n",
    "import scipy as sp\n",
    "import numpy as np\n",
    "from meshplot import plot, subplot, interact\n",
    "\n",
    "import os\n",
    "root_folder = os.getcwd()\n",
    "weaving_dir = '../../../'"
   ]
  },
  {
   "cell_type": "code",
   "execution_count": 18,
   "metadata": {},
   "outputs": [],
   "source": [
    "from scipy.sparse.linalg import spsolve\n",
    "v, f = igl.read_triangle_mesh(os.path.join(root_folder, \"morphing_data\", \"new_kitty_1.obj\"))"
   ]
  },
  {
   "cell_type": "code",
   "execution_count": 19,
   "metadata": {},
   "outputs": [],
   "source": [
    "linkage_vx = []\n",
    "linkage_lines = []\n",
    "with open(os.path.join(root_folder, \"morphing_data\", \"new_kitty_1_line.obj\"), 'r') as linkage:\n",
    "    content = linkage.readlines()\n",
    "    for line in content:\n",
    "        if 'v ' in line:\n",
    "            point = np.array([float(x) for x in line.split(' ')[1:]])\n",
    "            linkage_vx.append(point)\n",
    "        else:\n",
    "            linkage_lines.append(line)"
   ]
  },
  {
   "cell_type": "markdown",
   "metadata": {},
   "source": [
    "## Compute the barycentric coordinates of vertices of the linkage "
   ]
  },
  {
   "cell_type": "code",
   "execution_count": 20,
   "metadata": {
    "scrolled": true
   },
   "outputs": [],
   "source": [
    "simplex_barycoords = []\n",
    "for pt in linkage_vx:\n",
    "    dis, closest_idx, closest_pt = igl.point_mesh_squared_distance(pt, v, f)\n",
    "    _, _, barycoords = igl.point_simplex_squared_distance(pt, v, f, closest_idx)\n",
    "    simplex_barycoords.append([closest_idx, barycoords])"
   ]
  },
  {
   "cell_type": "code",
   "execution_count": 21,
   "metadata": {},
   "outputs": [],
   "source": [
    "np.save('morphing_data/linkage_to_surface_barycoords.npy', np.array(simplex_barycoords))"
   ]
  },
  {
   "cell_type": "markdown",
   "metadata": {},
   "source": [
    "### Modified Mean Curvature Flow"
   ]
  },
  {
   "cell_type": "code",
   "execution_count": 22,
   "metadata": {},
   "outputs": [
    {
     "data": {
      "application/vnd.jupyter.widget-view+json": {
       "model_id": "5d707f4e600a4c61a44f163ad364d047",
       "version_major": 2,
       "version_minor": 0
      },
      "text/plain": [
       "Renderer(camera=PerspectiveCamera(children=(DirectionalLight(color='white', intensity=0.6, position=(0.0058845…"
      ]
     },
     "metadata": {},
     "output_type": "display_data"
    },
    {
     "data": {
      "application/vnd.jupyter.widget-view+json": {
       "model_id": "141057b9d0804687bd5d7348471cc8c8",
       "version_major": 2,
       "version_minor": 0
      },
      "text/plain": [
       "interactive(children=(IntSlider(value=0, description='level', max=20), Output()), _dom_classes=('widget-intera…"
      ]
     },
     "metadata": {},
     "output_type": "display_data"
    }
   ],
   "source": [
    "l = igl.cotmatrix(v, f)\n",
    "n = igl.per_vertex_normals(v, f)*0.5+0.5\n",
    "c = np.linalg.norm(n, axis=1)\n",
    "input_doublearea = sum(igl.doublearea(v, f)) \n",
    "igl.doublearea(v, f)\n",
    "vs = [v]\n",
    "cs = [c]\n",
    "for i in range(20):\n",
    "    m = igl.massmatrix(v, f, igl.MASSMATRIX_TYPE_BARYCENTRIC)\n",
    "    s = (m - 0.01 * l)\n",
    "    b = m.dot(v)\n",
    "    v = spsolve(s, m.dot(v))\n",
    "    scale = input_doublearea / sum(igl.doublearea(v, f)) \n",
    "    v *= np.sqrt(scale)\n",
    "    n = igl.per_vertex_normals(v, f)*0.5+0.5\n",
    "    c = np.linalg.norm(n, axis=1)\n",
    "    vs.append(v)\n",
    "    cs.append(c)\n",
    "    igl.write_obj('kitty_level_{}.obj'.format(i), v, f)\n",
    "\n",
    "p = plot(v, f, c, shading={\"wireframe\": False}, return_plot=True)\n",
    "@interact(level=(0, 20))\n",
    "def mcf(level=0):\n",
    "    p.update_object(vertices=vs[level], colors=cs[level])"
   ]
  },
  {
   "cell_type": "code",
   "execution_count": 23,
   "metadata": {},
   "outputs": [],
   "source": [
    "for level in range(100)[-1:]:\n",
    "    v, f = igl.read_triangle_mesh(os.path.join(weaving_dir, \"normalized_objs\", \"surface_models\", \"kitty_level_{}.obj\".format(level)))\n",
    "\n",
    "    with open(os.path.join(root_folder, \"morphing_data\", \"linkage\", \"kitty_level_{}.obj\".format(level)), 'w') as new_linkage:\n",
    "        for [closest_idx, barycoords] in simplex_barycoords:\n",
    "            vxs = f[closest_idx]\n",
    "            point = np.sum(np.array([v[vxs[i]] * barycoords[i] for i in range(3)]), axis = 0)\n",
    "            new_linkage.write('v {} {} {}\\n'.format(point[0], point[1], point[2]))\n",
    "        for line in linkage_lines:\n",
    "            new_linkage.write(line)"
   ]
  }
 ],
 "metadata": {
  "kernelspec": {
   "display_name": "libigl",
   "language": "python",
   "name": "libigl"
  },
  "language_info": {
   "codemirror_mode": {
    "name": "ipython",
    "version": 3
   },
   "file_extension": ".py",
   "mimetype": "text/x-python",
   "name": "python",
   "nbconvert_exporter": "python",
   "pygments_lexer": "ipython3",
   "version": "3.7.7"
  }
 },
 "nbformat": 4,
 "nbformat_minor": 4
}
