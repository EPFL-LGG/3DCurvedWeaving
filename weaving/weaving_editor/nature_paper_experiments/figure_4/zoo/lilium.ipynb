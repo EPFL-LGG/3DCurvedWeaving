{
 "cells": [
  {
   "cell_type": "code",
   "execution_count": 2,
   "metadata": {},
   "outputs": [],
   "source": [
    "elastic_rods_dir = '../../../../../elastic_rods/python/'\n",
    "weaving_dir = '../../../../'\n",
    "import os\n",
    "import os.path as osp\n",
    "import sys; sys.path.append(elastic_rods_dir); sys.path.append(weaving_dir)\n",
    "import numpy as np, elastic_rods, linkage_vis\n",
    "import numpy.linalg as la\n",
    "from bending_validation import suppress_stdout as so\n",
    "import matplotlib.pyplot as plt\n",
    "from elastic_rods import EnergyType, InterleavingType\n",
    "\n",
    "# weaving\n",
    "import analysis_helper, ribbon_linkage_helper, mesh_vis, linkage_utils, compute_curve_from_curvature, pipeline_helper, importlib\n",
    "importlib.reload(analysis_helper)\n",
    "importlib.reload(ribbon_linkage_helper)\n",
    "importlib.reload(mesh_vis)\n",
    "importlib.reload(linkage_utils)\n",
    "importlib.reload(compute_curve_from_curvature)\n",
    "importlib.reload(pipeline_helper)\n",
    "from analysis_helper import (compare_turning_angle,\n",
    "                            is_on_sphere, \n",
    "                            get_distance_to_center_scalar_field, \n",
    "                            plot_curvatures, \n",
    "                            get_curvature_scalar_field,\n",
    "                            construct_elastic_rod_loop_from_rod_segments, \n",
    "                            concatenate_rod_properties_from_rod_segments, \n",
    "                            compute_min_distance_rigid_transformation)\n",
    "from ribbon_linkage_helper import (update_rest_curvature, \n",
    "                                   set_ribbon_linkage,\n",
    "                                   export_linkage_geometry_to_obj,\n",
    "                                   write_linkage_ribbon_output_florin)\n",
    "\n",
    "from compute_curve_from_curvature import (match_geo_curvature_and_edge_len, get_all_curve_pattern)\n",
    "from linkage_utils import order_segments_by_ribbons, get_turning_angle_and_length_from_ordered_rods\n",
    "\n",
    "from pipeline_helper import (initialize_linkage, get_normal_deviation, set_joint_vector_field, stage_1_optimization, initialize_stage_2_optimizer, stage_2_optimization, InputOrganizer, write_all_output, set_surface_view_options, get_structure_analysis_view, get_max_distance_to_target_surface, Visualization_Setting, set_figure_label_and_limit, contact_optimization, get_fixed_boundary_joint, show_selected_joints)\n",
    "\n",
    "import vis.fields\n",
    "import matplotlib.cm as cm\n",
    "import time"
   ]
  },
  {
   "cell_type": "code",
   "execution_count": 3,
   "metadata": {},
   "outputs": [],
   "source": [
    "import parallelism\n",
    "parallelism.set_max_num_tbb_threads(12)\n",
    "parallelism.set_hessian_assembly_num_threads(4)\n",
    "parallelism.set_gradient_assembly_num_threads(4)"
   ]
  },
  {
   "cell_type": "code",
   "execution_count": 4,
   "metadata": {},
   "outputs": [
    {
     "name": "stdout",
     "output_type": "stream",
     "text": [
      "0.015957012207851003 0.0015957012207851004\n"
     ]
    }
   ],
   "source": [
    "# rod_length = curved_linkage.totalRestLength() / curved_linkage.numSegments()\n",
    "rod_length = 0.079785061039255\n",
    "width = rod_length / 25 * 5\n",
    "thickness = width / 5 * 0.5\n",
    "print(width, thickness)\n",
    "scale = 1\n",
    "io = InputOrganizer('lilium_{}'.format(scale), thickness, width, weaving_dir)"
   ]
  },
  {
   "cell_type": "code",
   "execution_count": 5,
   "metadata": {},
   "outputs": [],
   "source": [
    "OPTS = elastic_rods.NewtonOptimizerOptions()\n",
    "OPTS.gradTol = 1e-6\n",
    "OPTS.verbose = 1;\n",
    "OPTS.beta = 1e-8\n",
    "OPTS.niter = 200\n",
    "OPTS.verboseNonPosDef = False"
   ]
  },
  {
   "cell_type": "code",
   "execution_count": 6,
   "metadata": {},
   "outputs": [],
   "source": [
    "rw = 0.01\n",
    "sw = 0.01"
   ]
  },
  {
   "cell_type": "code",
   "execution_count": 7,
   "metadata": {},
   "outputs": [
    {
     "data": {
      "application/vnd.jupyter.widget-view+json": {
       "model_id": "ed55f1eb54da48a99317959ce42e6768",
       "version_major": 2,
       "version_minor": 0
      },
      "text/plain": [
       "Renderer(camera=PerspectiveCamera(children=(PointLight(color='white', intensity=0.6, position=(0.0, 0.0, 5.0),…"
      ]
     },
     "metadata": {},
     "output_type": "display_data"
    }
   ],
   "source": [
    "with so(): curved_linkage = initialize_linkage(surface_path = io.SURFACE_PATH, useCenterline = True, model_path = io.MODEL_PATH, cross_section = io.RIBBON_CS, subdivision_res = io.SUBDIVISION_RESOLUTION)\n",
    "curved_linkage.set_design_parameter_config(use_restLen = True, use_restKappa = True)\n",
    "curved_save_tgt_joint_pos = curved_linkage.jointPositions();\n",
    "curved_linkage_view = linkage_vis.LinkageViewerWithSurface(curved_linkage, io.SURFACE_PATH)\n",
    "set_surface_view_options(curved_linkage_view)\n",
    "curved_linkage_view.show()"
   ]
  },
  {
   "cell_type": "code",
   "execution_count": 8,
   "metadata": {},
   "outputs": [],
   "source": [
    "curved_linkage.setExtendedDoFsPSRL(np.load('results/lilium_1/lilium_1_dof.npy'))"
   ]
  },
  {
   "cell_type": "code",
   "execution_count": 9,
   "metadata": {},
   "outputs": [],
   "source": [
    "set_surface_view_options(curved_linkage_view, surface_transparent=False)\n"
   ]
  },
  {
   "cell_type": "code",
   "execution_count": 10,
   "metadata": {},
   "outputs": [],
   "source": [
    "rw = -0.001"
   ]
  },
  {
   "cell_type": "code",
   "execution_count": 11,
   "metadata": {
    "scrolled": true
   },
   "outputs": [
    {
     "name": "stdout",
     "output_type": "stream",
     "text": [
      "0\t0.999002\t6.69546\t6.69546\t1\t1\n",
      "1\t0.93984\t5.92385\t5.92385\t1\t1\n",
      "2\t0.919576\t11.7303\t11.7303\t1\t1\n",
      "3\t0.916042\t3.76015\t3.76015\t1\t1\n",
      "4\t0.910662\t1.91191\t1.91191\t1\t1\n",
      "5\t0.901108\t1.40983\t1.40983\t1\t1\n",
      "6\t0.883406\t1.31841\t1.31841\t1\t1\n",
      "7\t0.850899\t1.34909\t1.34909\t1\t1\n",
      "8\t0.791829\t2.55019\t2.55019\t0.5\t1\n",
      "9\t0.760807\t18.2993\t18.2993\t1\t1\n",
      "10\t0.745479\t8.51385\t8.51385\t1\t1\n",
      "11\t0.737545\t4.14113\t4.14113\t1\t1\n",
      "12\t0.73177\t2.20492\t2.20492\t1\t1\n",
      "13\t0.724414\t1.32471\t1.32471\t1\t1\n",
      "14\t0.711184\t1.01067\t1.01067\t1\t1\n",
      "15\t0.685868\t1.00255\t1.00255\t1\t1\n",
      "16\t0.638718\t1.3092\t1.3092\t1\t1\n",
      "17\t0.563016\t2.48393\t2.48393\t1\t1\n",
      "18\t0.533727\t1.52889\t1.52889\t1\t1\n",
      "19\t0.51999\t1.01344\t1.01344\t1\t1\n",
      "20\t0.496878\t0.939198\t0.939198\t1\t1\n",
      "21\t0.460906\t1.12452\t1.12452\t1\t1\n",
      "22\t0.417832\t4.78877\t4.78877\t1\t1\n",
      "23\t0.412321\t1.79684\t1.79684\t1\t1\n",
      "24\t0.408317\t0.961977\t0.961977\t1\t1\n",
      "25\t0.402903\t0.807564\t0.807564\t1\t1\n",
      "26\t0.393315\t0.782233\t0.782233\t1\t1\n",
      "27\t0.375485\t0.823399\t0.823399\t1\t1\n",
      "28\t0.343986\t1.54518\t1.54518\t1\t1\n",
      "29\t0.330117\t0.758627\t0.758627\t1\t1\n",
      "30\t0.307225\t1.11514\t1.11514\t1\t1\n",
      "31\t0.272137\t2.73434\t2.73434\t1\t1\n",
      "32\t0.25553\t3.05251\t3.05251\t1\t1\n",
      "33\t0.252193\t0.875076\t0.875076\t1\t1\n",
      "34\t0.248138\t0.704746\t0.704746\t1\t1\n",
      "35\t0.240393\t0.732852\t0.732852\t1\t1\n",
      "36\t0.225816\t1.06326\t1.06326\t0.5\t1\n",
      "37\t0.219403\t4.31153\t4.31153\t1\t1\n",
      "38\t0.211708\t1.50065\t1.50065\t1\t1\n",
      "39\t0.209067\t0.834344\t0.834344\t1\t1\n",
      "40\t0.205554\t0.684564\t0.684564\t1\t1\n",
      "41\t0.199213\t0.67567\t0.67567\t1\t1\n",
      "42\t0.188099\t0.99894\t0.99894\t1\t1\n",
      "43\t0.181072\t5.68611\t5.68611\t1\t1\n",
      "44\t0.17279\t2.08383\t2.08383\t1\t1\n",
      "45\t0.17013\t0.81175\t0.81175\t1\t1\n",
      "46\t0.168002\t0.60808\t0.60808\t1\t1\n",
      "47\t0.164513\t0.583963\t0.583963\t1\t1\n",
      "48\t0.158407\t0.582075\t0.582075\t1\t1\n",
      "49\t0.152615\t2.67\t2.67\t1\t1\n",
      "50\t0.148809\t1.18581\t1.18581\t1\t1\n",
      "51\t0.147491\t0.668459\t0.668459\t1\t1\n",
      "52\t0.146188\t0.558163\t0.558163\t1\t1\n",
      "53\t0.143998\t0.540302\t0.540302\t1\t1\n",
      "54\t0.140044\t0.53663\t0.53663\t1\t1\n",
      "55\t0.133142\t0.592766\t0.592766\t1\t1\n",
      "56\t0.130007\t1.12783\t1.12783\t1\t1\n",
      "57\t0.128297\t1.15941\t1.15941\t1\t1\n",
      "58\t0.127375\t0.52001\t0.52001\t1\t1\n",
      "59\t0.125854\t0.514037\t0.514037\t1\t1\n",
      "60\t0.122976\t0.52143\t0.52143\t1\t1\n",
      "61\t0.117801\t0.550994\t0.550994\t1\t1\n",
      "62\t0.109646\t1.17639\t1.17639\t1\t1\n",
      "63\t0.108221\t0.760233\t0.760233\t1\t1\n",
      "64\t0.107501\t0.486457\t0.486457\t1\t1\n",
      "65\t0.106471\t0.478498\t0.478498\t1\t1\n",
      "66\t0.104552\t0.474124\t0.474124\t1\t1\n",
      "67\t0.101033\t0.855208\t0.855208\t0.5\t1\n",
      "68\t0.0995695\t4.1262\t4.1262\t0.5\t1\n",
      "69\t0.0981484\t1.33336\t1.33336\t1\t1\n",
      "70\t0.0968188\t0.547281\t0.547281\t1\t1\n",
      "71\t0.0958149\t0.46962\t0.46962\t1\t1\n",
      "72\t0.0941748\t0.452992\t0.452992\t1\t1\n",
      "73\t0.09339\t0.442841\t0.442841\t1\t1\n",
      "74\t0.0918535\t0.572651\t0.572651\t1\t1\n",
      "75\t0.0889487\t0.448009\t0.448009\t1\t1\n",
      "76\t0.084578\t2.96284\t2.96284\t1\t1\n",
      "77\t0.0836366\t0.558458\t0.558458\t1\t1\n",
      "78\t0.0832655\t0.416119\t0.416119\t1\t1\n",
      "79\t0.0826545\t0.410969\t0.410969\t1\t1\n",
      "80\t0.0814829\t0.408134\t0.408134\t1\t1\n",
      "81\t0.0792748\t0.413811\t0.413811\t1\t1\n",
      "82\t0.0753355\t0.487234\t0.487234\t1\t1\n",
      "83\t0.0692718\t0.789457\t0.789457\t1\t1\n",
      "84\t0.0663888\t0.606982\t0.606982\t0.125\t1\n",
      "85\t0.0659837\t1.67024\t1.67024\t1\t1\n",
      "86\t0.0656506\t1.18515\t1.18515\t1\t1\n",
      "87\t0.0655709\t1.76033\t1.76033\t1\t1\n",
      "88\t0.0652535\t1.12515\t1.12515\t1\t1\n",
      "89\t0.0647966\t0.359635\t0.359635\t1\t1\n",
      "90\t0.0641606\t0.346916\t0.346916\t1\t1\n",
      "91\t0.0629745\t0.345227\t0.345227\t1\t1\n",
      "92\t0.0608157\t0.363333\t0.363333\t1\t1\n",
      "93\t0.0587162\t1.26101\t1.26101\t1\t1\n",
      "94\t0.057215\t0.453251\t0.453251\t1\t1\n",
      "95\t0.0567643\t0.337678\t0.337678\t1\t1\n",
      "96\t0.0562384\t0.32713\t0.32713\t1\t1\n",
      "97\t0.0553664\t0.323052\t0.323052\t1\t1\n",
      "98\t0.0537817\t0.323185\t0.323185\t1\t1\n",
      "99\t0.0510047\t0.579544\t0.579544\t1\t1\n",
      "100\t0.0506226\t0.311427\t0.311427\t1\t1\n"
     ]
    }
   ],
   "source": [
    "iterateData = stage_1_optimization(curved_linkage, rw, sw, curved_linkage_view)"
   ]
  },
  {
   "cell_type": "code",
   "execution_count": 12,
   "metadata": {},
   "outputs": [],
   "source": [
    "curved_linkage.attraction_weight = 1e-5"
   ]
  },
  {
   "cell_type": "code",
   "execution_count": 13,
   "metadata": {},
   "outputs": [],
   "source": [
    "fixed_boundary_joints = get_fixed_boundary_joint(curved_linkage)"
   ]
  },
  {
   "cell_type": "code",
   "execution_count": 14,
   "metadata": {},
   "outputs": [],
   "source": [
    "def eqm_callback(prob, i):\n",
    "    curved_linkage_view.update()"
   ]
  },
  {
   "cell_type": "code",
   "execution_count": 15,
   "metadata": {
    "scrolled": true
   },
   "outputs": [
    {
     "name": "stdout",
     "output_type": "stream",
     "text": [
      "0\t0.00192312\t0.0129882\t0.0129882\t1\t1\n",
      "1\t0.00180024\t0.00950732\t0.00950732\t0.03125\t1\n",
      "2\t0.00179838\t0.044368\t0.044368\t0.5\t1\n",
      "3\t0.00179459\t0.0268068\t0.0268068\t1\t1\n",
      "4\t0.00178834\t0.00312244\t0.00312244\t1\t1\n",
      "5\t0.00178109\t0.00259184\t0.00259184\t1\t1\n",
      "6\t0.00176761\t0.00237624\t0.00237624\t1\t1\n",
      "7\t0.00174257\t0.00213076\t0.00213076\t1\t1\n",
      "8\t0.00169649\t0.00225173\t0.00225173\t1\t1\n",
      "9\t0.00161482\t0.00363298\t0.00363298\t1\t1\n",
      "10\t0.00148003\t0.00733357\t0.00733357\t1\t1\n",
      "11\t0.00128072\t0.00886876\t0.00886876\t0.5\t1\n",
      "12\t0.00118381\t0.0973108\t0.0973108\t1\t1\n",
      "13\t0.00114583\t0.00826167\t0.00826167\t1\t1\n",
      "14\t0.00114291\t0.00246665\t0.00246665\t1\t1\n",
      "15\t0.00114003\t0.0013781\t0.0013781\t1\t1\n",
      "16\t0.00113514\t0.00101818\t0.00101818\t1\t1\n",
      "17\t0.00112595\t0.000892279\t0.000892279\t1\t1\n",
      "18\t0.00110842\t0.000842815\t0.000842815\t1\t1\n",
      "19\t0.00107558\t0.000895689\t0.000895689\t1\t1\n",
      "20\t0.00101691\t0.00143639\t0.00143639\t1\t1\n",
      "21\t0.000920687\t0.0028819\t0.0028819\t1\t1\n",
      "22\t0.000782793\t0.00646713\t0.00646713\t0.03125\t1\n",
      "23\t0.000777662\t0.0191237\t0.0191237\t1\t1\n",
      "24\t0.000775546\t0.025603\t0.025603\t1\t1\n",
      "25\t0.000773259\t0.0080135\t0.0080135\t1\t1\n",
      "26\t0.000771131\t0.000631576\t0.000631576\t1\t1\n",
      "27\t0.00076722\t0.00054655\t0.00054655\t1\t1\n",
      "28\t0.000759672\t0.000522482\t0.000522482\t1\t1\n",
      "29\t0.000745263\t0.000527575\t0.000527575\t1\t1\n",
      "30\t0.000718644\t0.000685703\t0.000685703\t1\t1\n",
      "31\t0.00067253\t0.00166421\t0.00166421\t1\t1\n",
      "32\t0.000601039\t0.0045094\t0.0045094\t1\t1\n",
      "33\t0.000508294\t0.00841029\t0.00841029\t1\t1\n",
      "34\t0.000422867\t0.0447232\t0.0447232\t1\t1\n",
      "35\t0.000413249\t0.00242578\t0.00242578\t1\t1\n",
      "36\t0.000412022\t0.0010749\t0.0010749\t1\t1\n",
      "37\t0.000410785\t0.000682456\t0.000682456\t1\t1\n",
      "38\t0.000409059\t0.00048626\t0.00048626\t1\t1\n",
      "39\t0.000406149\t0.000418217\t0.000418217\t1\t1\n",
      "40\t0.000400877\t0.00050321\t0.00050321\t1\t1\n",
      "41\t0.000391369\t0.000957056\t0.000957056\t1\t1\n",
      "42\t0.000375185\t0.00227228\t0.00227228\t1\t1\n",
      "43\t0.000350704\t0.00496744\t0.00496744\t1\t1\n",
      "44\t0.000341915\t0.102219\t0.102219\t1\t1\n",
      "45\t0.000322853\t0.0111233\t0.0111233\t1\t1\n",
      "46\t0.000321411\t0.00400233\t0.00400233\t1\t1\n",
      "47\t0.00032057\t0.00238443\t0.00238443\t1\t1\n",
      "48\t0.000319941\t0.00150304\t0.00150304\t1\t1\n",
      "49\t0.000319423\t0.000986433\t0.000986433\t1\t1\n",
      "50\t0.00031895\t0.000653732\t0.000653732\t1\t1\n",
      "51\t0.000318457\t0.000444135\t0.000444135\t1\t1\n",
      "52\t0.000317816\t0.000327375\t0.000327375\t1\t1\n",
      "53\t0.000316783\t0.0002738\t0.0002738\t1\t1\n",
      "54\t0.000314921\t0.000293938\t0.000293938\t1\t1\n",
      "55\t0.000311482\t0.000543052\t0.000543052\t1\t1\n",
      "56\t0.000305333\t0.00144219\t0.00144219\t1\t1\n",
      "57\t0.000295206\t0.00347331\t0.00347331\t1\t1\n",
      "58\t0.000280743\t0.00593851\t0.00593851\t1\t1\n",
      "59\t0.000263982\t0.0195688\t0.0195688\t0.25\t1\n",
      "60\t0.000263173\t0.0136731\t0.0136731\t1\t1\n",
      "61\t0.000261687\t0.0089195\t0.0089195\t0.125\t1\n",
      "62\t0.000261483\t0.00130321\t0.00130321\t1\t1\n",
      "63\t0.000259864\t0.00203279\t0.00203279\t1\t1\n",
      "64\t0.000257364\t0.0107052\t0.0107052\t1\t1\n",
      "65\t0.000257011\t0.00185444\t0.00185444\t1\t1\n",
      "66\t0.000256831\t0.000186622\t0.000186622\t1\t1\n",
      "67\t0.0002565\t0.000180643\t0.000180643\t1\t1\n",
      "68\t0.000255856\t0.000243162\t0.000243162\t1\t1\n",
      "69\t0.000254611\t0.000577801\t0.000577801\t1\t1\n",
      "70\t0.000252262\t0.00114363\t0.00114363\t1\t1\n",
      "71\t0.000247981\t0.00188513\t0.00188513\t1\t1\n",
      "72\t0.00024059\t0.00376304\t0.00376304\t1\t1\n",
      "73\t0.000231914\t0.0131562\t0.0131562\t0.5\t1\n",
      "74\t0.000228919\t0.0105586\t0.0105586\t1\t1\n",
      "75\t0.000227681\t0.000653771\t0.000653771\t1\t1\n",
      "76\t0.000227351\t0.000429576\t0.000429576\t1\t1\n",
      "77\t0.000227008\t0.00025316\t0.00025316\t1\t1\n",
      "78\t0.000226515\t0.000195722\t0.000195722\t1\t1\n",
      "79\t0.000225665\t0.000234365\t0.000234365\t1\t1\n",
      "80\t0.000224091\t0.000432471\t0.000432471\t1\t1\n",
      "81\t0.00022117\t0.00103475\t0.00103475\t1\t1\n",
      "82\t0.000215988\t0.00239662\t0.00239662\t1\t1\n",
      "83\t0.000207919\t0.0060698\t0.0060698\t0.5\t1\n",
      "84\t0.000205524\t0.0217053\t0.0217053\t1\t1\n",
      "85\t0.000201462\t0.00194369\t0.00194369\t1\t1\n",
      "86\t0.000200897\t0.000759905\t0.000759905\t1\t1\n",
      "87\t0.000200561\t0.000450666\t0.000450666\t1\t1\n",
      "88\t0.0002003\t0.000290086\t0.000290086\t1\t1\n",
      "89\t0.000200033\t0.000201156\t0.000201156\t1\t1\n",
      "90\t0.000199662\t0.000166953\t0.000166953\t1\t1\n",
      "91\t0.000199036\t0.000187287\t0.000187287\t1\t1\n",
      "92\t0.00019788\t0.000324731\t0.000324731\t1\t1\n",
      "93\t0.000195688\t0.000800364\t0.000800364\t1\t1\n",
      "94\t0.000191524\t0.00223331\t0.00223331\t1\t1\n",
      "95\t0.00018399\t0.00672422\t0.00672422\t1\t1\n",
      "96\t0.000182149\t0.0218535\t0.0218535\t1\t1\n",
      "97\t0.000178547\t0.0013643\t0.0013643\t1\t1\n",
      "98\t0.000178351\t0.000217039\t0.000217039\t1\t1\n",
      "99\t0.000178148\t0.000154971\t0.000154971\t1\t1\n",
      "100\t0.000177801\t0.000141839\t0.000141839\t1\t1\n",
      "101\t0.000177142\t0.000171471\t0.000171471\t1\t1\n",
      "102\t0.00017585\t0.000335499\t0.000335499\t1\t1\n",
      "103\t0.000173266\t0.000960346\t0.000960346\t1\t1\n",
      "104\t0.000168148\t0.00277535\t0.00277535\t1\t1\n",
      "105\t0.000160946\t0.010675\t0.010675\t1\t1\n",
      "106\t0.00015726\t0.0116494\t0.0116494\t1\t1\n",
      "107\t0.000156332\t0.000381724\t0.000381724\t1\t1\n",
      "108\t0.000156173\t0.000178001\t0.000178001\t1\t1\n",
      "109\t0.00015595\t0.000154884\t0.000154884\t1\t1\n",
      "110\t0.00015557\t0.000143975\t0.000143975\t1\t1\n",
      "111\t0.000154861\t0.000176147\t0.000176147\t1\t1\n",
      "112\t0.000153494\t0.000371806\t0.000371806\t1\t1\n",
      "113\t0.000150865\t0.00105817\t0.00105817\t1\t1\n",
      "114\t0.000145979\t0.00300603\t0.00300603\t1\t1\n",
      "115\t0.000140979\t0.0155949\t0.0155949\t0.25\t1\n",
      "116\t0.000140742\t0.02412\t0.02412\t1\t1\n",
      "117\t0.000137482\t0.00154732\t0.00154732\t1\t1\n",
      "118\t0.000137033\t0.000719786\t0.000719786\t1\t1\n",
      "119\t0.000136704\t0.00047226\t0.00047226\t1\t1\n",
      "120\t0.000136412\t0.000380063\t0.000380063\t1\t1\n",
      "121\t0.000136106\t0.000284472\t0.000284472\t1\t1\n",
      "122\t0.000135688\t0.000191561\t0.000191561\t1\t1\n",
      "123\t0.000134975\t0.000186509\t0.000186509\t1\t1\n",
      "124\t0.000133622\t0.000401787\t0.000401787\t1\t1\n",
      "125\t0.000130986\t0.00126441\t0.00126441\t1\t1\n",
      "126\t0.000126148\t0.00370726\t0.00370726\t1\t1\n",
      "127\t0.000119335\t0.00939078\t0.00939078\t1\t1\n",
      "128\t0.000117071\t0.0048453\t0.0048453\t1\t1\n",
      "129\t0.000116682\t0.0010441\t0.0010441\t1\t1\n",
      "130\t0.000116298\t0.000336361\t0.000336361\t1\t1\n",
      "131\t0.000115655\t0.000405654\t0.000405654\t1\t1\n",
      "132\t0.000114457\t0.000581943\t0.000581943\t1\t1\n",
      "133\t0.000112195\t0.0011153\t0.0011153\t1\t1\n",
      "134\t0.000108047\t0.00237549\t0.00237549\t1\t1\n",
      "135\t0.000101195\t0.00532475\t0.00532475\t0.5\t1\n",
      "136\t9.67681e-05\t0.0124988\t0.0124988\t1\t1\n",
      "137\t9.48588e-05\t0.000734422\t0.000734422\t1\t1\n",
      "138\t9.45943e-05\t0.000258195\t0.000258195\t1\t1\n",
      "139\t9.43694e-05\t0.000169318\t0.000169318\t1\t1\n",
      "140\t9.40465e-05\t0.000143029\t0.000143029\t1\t1\n",
      "141\t9.34777e-05\t0.000162866\t0.000162866\t1\t1\n",
      "142\t9.24091e-05\t0.000321879\t0.000321879\t1\t1\n",
      "143\t9.03963e-05\t0.000892131\t0.000892131\t1\t1\n",
      "144\t8.68329e-05\t0.00219808\t0.00219808\t1\t1\n",
      "145\t8.12354e-05\t0.00441343\t0.00441343\t0.25\t1\n",
      "146\t7.94185e-05\t0.00973369\t0.00973369\t1\t1\n",
      "147\t7.82856e-05\t0.00584586\t0.00584586\t1\t1\n",
      "148\t7.79512e-05\t0.00044067\t0.00044067\t1\t1\n",
      "149\t7.77776e-05\t0.0002668\t0.0002668\t1\t1\n",
      "150\t7.75334e-05\t0.000131194\t0.000131194\t1\t1\n",
      "151\t7.71002e-05\t0.000148076\t0.000148076\t1\t1\n",
      "152\t7.62856e-05\t0.000253807\t0.000253807\t1\t1\n",
      "153\t7.47619e-05\t0.000612841\t0.000612841\t1\t1\n",
      "154\t7.20674e-05\t0.00153049\t0.00153049\t1\t1\n",
      "155\t6.796e-05\t0.00305209\t0.00305209\t1\t1\n",
      "156\t6.66059e-05\t0.0206756\t0.0206756\t0.5\t1\n",
      "157\t6.39347e-05\t0.0112411\t0.0112411\t1\t1\n",
      "158\t6.24707e-05\t0.00233779\t0.00233779\t1\t1\n",
      "159\t6.21702e-05\t0.000575395\t0.000575395\t1\t1\n",
      "160\t6.19725e-05\t0.000171477\t0.000171477\t1\t1\n",
      "161\t6.17216e-05\t0.000108115\t0.000108115\t1\t1\n",
      "162\t6.13056e-05\t0.000152651\t0.000152651\t1\t1\n",
      "163\t6.05761e-05\t0.000338603\t0.000338603\t1\t1\n",
      "164\t5.93515e-05\t0.000786423\t0.000786423\t1\t1\n",
      "165\t5.75417e-05\t0.00153373\t0.00153373\t1\t1\n",
      "166\t5.52504e-05\t0.00276403\t0.00276403\t1\t1\n",
      "167\t5.46061e-05\t0.00945655\t0.00945655\t1\t1\n",
      "168\t5.4032e-05\t0.00370218\t0.00370218\t1\t1\n",
      "169\t5.38684e-05\t0.000163928\t0.000163928\t1\t1\n",
      "170\t5.37901e-05\t0.000287498\t0.000287498\t1\t1\n",
      "171\t5.36917e-05\t6.10232e-05\t6.10232e-05\t1\t1\n",
      "172\t5.35192e-05\t6.95725e-05\t6.95725e-05\t1\t1\n",
      "173\t5.31963e-05\t0.000130813\t0.000130813\t1\t1\n",
      "174\t5.25891e-05\t0.000388107\t0.000388107\t1\t1\n",
      "175\t5.15219e-05\t0.000990908\t0.000990908\t1\t1\n",
      "176\t5.00233e-05\t0.00316971\t0.00316971\t1\t1\n",
      "177\t4.95816e-05\t0.000508453\t0.000508453\t1\t1\n",
      "178\t4.91514e-05\t0.000972843\t0.000972843\t1\t1\n",
      "179\t4.84674e-05\t0.00217609\t0.00217609\t0.25\t1\n",
      "180\t4.83418e-05\t0.000976895\t0.000976895\t1\t1\n",
      "181\t4.77371e-05\t0.00183974\t0.00183974\t0.25\t1\n",
      "182\t4.75873e-05\t0.004142\t0.004142\t1\t1\n",
      "183\t4.74542e-05\t0.00177937\t0.00177937\t1\t1\n",
      "184\t4.7398e-05\t0.000140534\t0.000140534\t1\t1\n",
      "185\t4.73535e-05\t0.000113858\t0.000113858\t1\t1\n",
      "186\t4.72817e-05\t4.08054e-05\t4.08054e-05\t1\t1\n",
      "187\t4.71497e-05\t5.96954e-05\t5.96954e-05\t1\t1\n",
      "188\t4.69066e-05\t0.000164073\t0.000164073\t1\t1\n",
      "189\t4.64779e-05\t0.000495049\t0.000495049\t1\t1\n",
      "190\t4.57824e-05\t0.00120654\t0.00120654\t1\t1\n",
      "191\t4.47857e-05\t0.00258422\t0.00258422\t1\t1\n",
      "192\t4.43144e-05\t0.0111566\t0.0111566\t1\t1\n",
      "193\t4.32654e-05\t0.000428653\t0.000428653\t1\t1\n",
      "194\t4.31699e-05\t0.000161023\t0.000161023\t1\t1\n",
      "195\t4.31166e-05\t8.90798e-05\t8.90798e-05\t1\t1\n",
      "196\t4.30713e-05\t6.02064e-05\t6.02064e-05\t1\t1\n",
      "197\t4.30169e-05\t5.29645e-05\t5.29645e-05\t1\t1\n",
      "198\t4.29356e-05\t7.15305e-05\t7.15305e-05\t1\t1\n",
      "199\t4.27969e-05\t0.000168054\t0.000168054\t1\t1\n",
      "200\t4.25469e-05\t0.000521669\t0.000521669\t1\t1\n"
     ]
    },
    {
     "data": {
      "text/plain": [
       "<elastic_rods.ConvergenceReport at 0x12faa5970>"
      ]
     },
     "execution_count": 15,
     "metadata": {},
     "output_type": "execute_result"
    }
   ],
   "source": [
    "elastic_rods.compute_equilibrium(curved_linkage, callback = eqm_callback, options = OPTS, fixedVars = fixed_boundary_joints)"
   ]
  },
  {
   "cell_type": "code",
   "execution_count": null,
   "metadata": {},
   "outputs": [
    {
     "name": "stdout",
     "output_type": "stream",
     "text": [
      "stage 2 optimization with attraction weight 100.0\n"
     ]
    }
   ],
   "source": [
    "optimizer = initialize_stage_2_optimizer(curved_linkage, io.SURFACE_PATH, curved_save_tgt_joint_pos, curved_linkage_view, fixed_boundary_joint = fixed_boundary_joints)\n",
    "optimizer, opt_iterateData = stage_2_optimization(optimizer, curved_linkage, io.SURFACE_PATH, curved_save_tgt_joint_pos, curved_linkage_view, -1, -5, 3)"
   ]
  },
  {
   "cell_type": "code",
   "execution_count": null,
   "metadata": {},
   "outputs": [],
   "source": [
    "curved_optimizer_energy = curved_linkage.energy()\n",
    "validation_curved_linkage = optimizer.getLinesearchWeaverLinkage()\n",
    "validation_curved_linkage.attraction_weight = 1e-7\n",
    "with so(): elastic_rods.compute_equilibrium(validation_curved_linkage, options = OPTS, fixedVars = fixed_boundary_joints)\n",
    "validation_curved_view = linkage_vis.LinkageViewer(validation_curved_linkage, width=1024, height=640)\n",
    "validation_curved_energy = validation_curved_linkage.energy()\n",
    "print(abs((validation_curved_energy-curved_optimizer_energy)/curved_optimizer_energy))"
   ]
  },
  {
   "cell_type": "code",
   "execution_count": null,
   "metadata": {},
   "outputs": [],
   "source": [
    "deviation, deviation_vector, joint_normals, joint_projection_normals = get_normal_deviation(validation_curved_linkage)"
   ]
  },
  {
   "cell_type": "code",
   "execution_count": null,
   "metadata": {},
   "outputs": [],
   "source": [
    "validation_curved_view = linkage_vis.LinkageViewerWithSurface(validation_curved_linkage, io.SURFACE_PATH, width=1024, height=640)\n",
    "set_surface_view_options(validation_curved_view)\n",
    "validation_curved_view.show()"
   ]
  },
  {
   "cell_type": "code",
   "execution_count": null,
   "metadata": {},
   "outputs": [],
   "source": [
    "set_joint_vector_field(validation_curved_linkage, validation_curved_view, deviation_vector)"
   ]
  },
  {
   "cell_type": "code",
   "execution_count": null,
   "metadata": {},
   "outputs": [],
   "source": [
    "save_path = os.getcwd()\n",
    "write_all_output(curved_linkage, io.SUBDIVISION_RESOLUTION, io.MODEL_NAME, io.RIBBON_NAME, False, 100, min(io.RIBBON_CS), target_width = 5, flip_angles = False, width = max(io.RIBBON_CS))\n",
    "os.chdir(save_path)"
   ]
  },
  {
   "cell_type": "markdown",
   "metadata": {},
   "source": [
    "## Extra Utility Functions for Fabrication"
   ]
  },
  {
   "cell_type": "code",
   "execution_count": null,
   "metadata": {},
   "outputs": [],
   "source": [
    "mesh_scale = 313.3418671911495"
   ]
  },
  {
   "cell_type": "code",
   "execution_count": null,
   "metadata": {},
   "outputs": [],
   "source": [
    "ribbons = order_segments_by_ribbons(curved_linkage)\n",
    "new_rod, fixedVars = construct_elastic_rod_loop_from_rod_segments(curved_linkage, ribbons[0])"
   ]
  },
  {
   "cell_type": "code",
   "execution_count": null,
   "metadata": {},
   "outputs": [],
   "source": [
    "new_rod.setMaterial(elastic_rods.RodMaterial('rectangle', 2000, 0.3, io.RIBBON_CS, stiffAxis=elastic_rods.StiffAxis.D1))\n",
    "single_rod_view = linkage_vis.LinkageViewer(new_rod, width=1024, height=640)"
   ]
  },
  {
   "cell_type": "code",
   "execution_count": null,
   "metadata": {},
   "outputs": [],
   "source": [
    "single_rod_view.show()"
   ]
  },
  {
   "cell_type": "code",
   "execution_count": null,
   "metadata": {},
   "outputs": [],
   "source": [
    "export_linkage_geometry_to_obj(new_rod, 'results/lilium_1/boundary_rod.obj', scale = mesh_scale)"
   ]
  },
  {
   "cell_type": "code",
   "execution_count": null,
   "metadata": {},
   "outputs": [],
   "source": [
    "all_centerline_pos, all_rest_kappas, all_material_frame = concatenate_rod_properties_from_rod_segments(curved_linkage, ribbons[0])"
   ]
  },
  {
   "cell_type": "code",
   "execution_count": null,
   "metadata": {},
   "outputs": [],
   "source": [
    "len(all_material_frame)"
   ]
  },
  {
   "cell_type": "code",
   "execution_count": null,
   "metadata": {},
   "outputs": [],
   "source": [
    "with open('results/lilium_1/boundary_rod_curve.obj', 'w') as f:\n",
    "    for point in all_centerline_pos:\n",
    "        point *= mesh_scale\n",
    "        f.write('v {} {} {}\\n'.format(point[0], point[1],point[2]))\n",
    "    for i in range(len(all_centerline_pos)-1):\n",
    "        f.write('l {} {}\\n'.format(i+1, i+2))\n",
    "    f.write('l {} {}\\n'.format(len(all_centerline_pos), 1))"
   ]
  },
  {
   "cell_type": "code",
   "execution_count": null,
   "metadata": {},
   "outputs": [],
   "source": [
    "point_list = []\n",
    "edge_list = []\n",
    "face_list = []\n",
    "with open('../../../../normalized_objs/surface_models/lilium_1.obj', 'r') as surface, open('results/lilium_1/lilium_surface_scale_{}.obj'.format(str(int(mesh_scale))), 'w') as output_surface:\n",
    "    surface_content = surface.readlines()\n",
    "    for line in surface_content:\n",
    "        if 'v ' in line:\n",
    "            point = np.array([float(x) for x in line.split(' ')[1:]])\n",
    "            point *= mesh_scale\n",
    "            output_surface.write('v {} {} {}\\n'.format(point[0], point[1], point[2]))\n",
    "        else:\n",
    "            output_surface.write(line)"
   ]
  },
  {
   "cell_type": "code",
   "execution_count": null,
   "metadata": {},
   "outputs": [],
   "source": [
    "curved_linkage.jointPositions()[49 * 3:50 * 3] * mesh_scale"
   ]
  },
  {
   "cell_type": "markdown",
   "metadata": {},
   "source": [
    "## Contact Optimization"
   ]
  },
  {
   "cell_type": "code",
   "execution_count": 7,
   "metadata": {},
   "outputs": [
    {
     "data": {
      "application/vnd.jupyter.widget-view+json": {
       "model_id": "5a743ae5cc1d4241b0054878ed380435",
       "version_major": 2,
       "version_minor": 0
      },
      "text/plain": [
       "Renderer(camera=PerspectiveCamera(children=(PointLight(color='white', intensity=0.6, position=(0.0, 0.0, 5.0),…"
      ]
     },
     "metadata": {},
     "output_type": "display_data"
    }
   ],
   "source": [
    "with so(): curved_linkage = initialize_linkage(surface_path = io.SURFACE_PATH, useCenterline = True, model_path = io.MODEL_PATH, cross_section = io.RIBBON_CS, subdivision_res = io.SUBDIVISION_RESOLUTION)\n",
    "curved_linkage.set_design_parameter_config(use_restLen = True, use_restKappa = True)\n",
    "curved_save_tgt_joint_pos = curved_linkage.jointPositions();\n",
    "curved_linkage_view = linkage_vis.LinkageViewerWithSurface(curved_linkage, io.SURFACE_PATH)\n",
    "set_surface_view_options(curved_linkage_view)\n",
    "curved_linkage_view.show()"
   ]
  },
  {
   "cell_type": "code",
   "execution_count": 8,
   "metadata": {},
   "outputs": [],
   "source": [
    "curved_linkage.setExtendedDoFsPSRL(np.load('results/lilium_1/lilium_1_dof.npy'))"
   ]
  },
  {
   "cell_type": "code",
   "execution_count": 9,
   "metadata": {},
   "outputs": [],
   "source": [
    "fixed_boundary_joints = get_fixed_boundary_joint(curved_linkage)"
   ]
  },
  {
   "cell_type": "code",
   "execution_count": 10,
   "metadata": {},
   "outputs": [],
   "source": [
    "curved_linkage.attraction_weight = 1e-5"
   ]
  },
  {
   "cell_type": "code",
   "execution_count": 11,
   "metadata": {},
   "outputs": [],
   "source": [
    "def eqm_callback(prob, i):\n",
    "    curved_linkage_view.update()"
   ]
  },
  {
   "cell_type": "code",
   "execution_count": 12,
   "metadata": {
    "scrolled": true
   },
   "outputs": [
    {
     "name": "stdout",
     "output_type": "stream",
     "text": [
      "0\t0.000525704\t0.504283\t0.504283\t1\t1\n",
      "1\t4.57052e-05\t0.176066\t0.176066\t1\t1\n",
      "2\t1.56127e-05\t0.0311308\t0.0311308\t1\t1\n",
      "3\t9.47111e-06\t0.00888602\t0.00888602\t1\t1\n",
      "4\t7.6571e-06\t0.00387817\t0.00387817\t1\t1\n",
      "5\t6.39163e-06\t0.00215248\t0.00215248\t1\t1\n",
      "6\t5.30507e-06\t0.00116189\t0.00116189\t1\t1\n",
      "7\t4.42351e-06\t0.000606137\t0.000606137\t1\t0\n",
      "8\t3.26405e-06\t0.00107631\t0.00107631\t1\t0\n",
      "9\t3.25799e-06\t1.08932e-05\t1.08932e-05\t1\t0\n",
      "10\t3.2575e-06\t1.97367e-05\t1.97367e-05\t1\t0\n",
      "11\t3.2574e-06\t5.99084e-07\t5.99084e-07\t1\t0\n"
     ]
    },
    {
     "data": {
      "text/plain": [
       "<elastic_rods.ConvergenceReport at 0x125bf0630>"
      ]
     },
     "execution_count": 12,
     "metadata": {},
     "output_type": "execute_result"
    }
   ],
   "source": [
    "elastic_rods.compute_equilibrium(curved_linkage, callback = eqm_callback, options = OPTS, fixedVars = fixed_boundary_joints)"
   ]
  },
  {
   "cell_type": "code",
   "execution_count": 13,
   "metadata": {},
   "outputs": [],
   "source": [
    "optimizer = initialize_stage_2_optimizer(curved_linkage, io.SURFACE_PATH, curved_save_tgt_joint_pos, curved_linkage_view, fixed_boundary_joint = fixed_boundary_joints)"
   ]
  },
  {
   "cell_type": "code",
   "execution_count": 14,
   "metadata": {},
   "outputs": [],
   "source": [
    "optimizer.setLinkageAttractionWeight(1e-5)"
   ]
  },
  {
   "cell_type": "code",
   "execution_count": 15,
   "metadata": {},
   "outputs": [
    {
     "name": "stderr",
     "output_type": "stream",
     "text": [
      "../../../../../elastic_rods/python/structural_analysis.py:209: RuntimeWarning: invalid value encountered in true_divide\n",
      "  coefficientOfFriction = cfm[:, 1] / (-separationForce)\n",
      "/Users/yren/Library/Python/3.7/lib/python/site-packages/numpy/lib/histograms.py:839: RuntimeWarning: invalid value encountered in greater_equal\n",
      "  keep = (tmp_a >= first_edge)\n",
      "/Users/yren/Library/Python/3.7/lib/python/site-packages/numpy/lib/histograms.py:840: RuntimeWarning: invalid value encountered in less_equal\n",
      "  keep &= (tmp_a <= last_edge)\n"
     ]
    },
    {
     "data": {
      "application/vnd.jupyter.widget-view+json": {
       "model_id": "e5efb9bd3679486d9519b4c835048a79",
       "version_major": 2,
       "version_minor": 0
      },
      "text/plain": [
       "HBox(children=(Renderer(camera=PerspectiveCamera(children=(PointLight(color='white', intensity=0.6, position=(…"
      ]
     },
     "metadata": {},
     "output_type": "display_data"
    },
    {
     "data": {
      "image/png": "[encoded data removed]",
      "text/plain": [
       "<Figure size 720x288 with 3 Axes>"
      ]
     },
     "metadata": {
      "needs_background": "light"
     },
     "output_type": "display_data"
    }
   ],
   "source": [
    "structure_view = get_structure_analysis_view(curved_linkage)\n",
    "structure_view.show()"
   ]
  },
  {
   "cell_type": "code",
   "execution_count": 16,
   "metadata": {},
   "outputs": [],
   "source": [
    "contact_optimization(optimizer, curved_linkage_view, -1, 1e4)"
   ]
  },
  {
   "cell_type": "code",
   "execution_count": null,
   "metadata": {},
   "outputs": [
    {
     "data": {
      "application/vnd.jupyter.widget-view+json": {
       "model_id": "6f904a3b805448b2af3f24aca9fb35b2",
       "version_major": 2,
       "version_minor": 0
      },
      "text/plain": [
       "HBox(children=(Renderer(camera=PerspectiveCamera(children=(PointLight(color='white', intensity=0.6, position=(…"
      ]
     },
     "metadata": {},
     "output_type": "display_data"
    },
    {
     "data": {
      "image/png": "[encoded data removed]",
      "text/plain": [
       "<Figure size 720x288 with 3 Axes>"
      ]
     },
     "metadata": {
      "needs_background": "light"
     },
     "output_type": "display_data"
    }
   ],
   "source": [
    "structure_view_2 = get_structure_analysis_view(curved_linkage)\n",
    "structure_view_2.show()"
   ]
  },
  {
   "cell_type": "code",
   "execution_count": null,
   "metadata": {},
   "outputs": [],
   "source": []
  }
 ],
 "metadata": {
  "kernelspec": {
   "display_name": "Python 3",
   "language": "python",
   "name": "python3"
  },
  "language_info": {
   "codemirror_mode": {
    "name": "ipython",
    "version": 3
   },
   "file_extension": ".py",
   "mimetype": "text/x-python",
   "name": "python",
   "nbconvert_exporter": "python",
   "pygments_lexer": "ipython3",
   "version": "3.7.9"
  }
 },
 "nbformat": 4,
 "nbformat_minor": 4
}
