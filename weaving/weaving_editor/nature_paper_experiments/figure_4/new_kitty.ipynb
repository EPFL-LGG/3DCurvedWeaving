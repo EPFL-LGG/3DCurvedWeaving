{
 "cells": [
  {
   "cell_type": "code",
   "execution_count": 3,
   "metadata": {},
   "outputs": [],
   "source": [
    "elastic_rods_dir = '../../../../elastic_rods/python/'\n",
    "weaving_dir = '../../../'\n",
    "import os\n",
    "import os.path as osp\n",
    "import sys; sys.path.append(elastic_rods_dir); sys.path.append(weaving_dir)\n",
    "import numpy as np, elastic_rods, linkage_vis\n",
    "import numpy.linalg as la\n",
    "from bending_validation import suppress_stdout as so\n",
    "import matplotlib.pyplot as plt\n",
    "from elastic_rods import EnergyType, InterleavingType\n",
    "\n",
    "# weaving\n",
    "import analysis_helper, ribbon_linkage_helper, mesh_vis, linkage_utils, compute_curve_from_curvature, pipeline_helper, importlib\n",
    "importlib.reload(analysis_helper)\n",
    "importlib.reload(ribbon_linkage_helper)\n",
    "importlib.reload(mesh_vis)\n",
    "importlib.reload(linkage_utils)\n",
    "importlib.reload(compute_curve_from_curvature)\n",
    "importlib.reload(pipeline_helper)\n",
    "from analysis_helper import (compare_turning_angle,\n",
    "                            is_on_sphere, \n",
    "                            get_distance_to_center_scalar_field, \n",
    "                            plot_curvatures, \n",
    "                            get_curvature_scalar_field,\n",
    "                            construct_elastic_rod_loop_from_rod_segments, \n",
    "                            concatenate_rod_properties_from_rod_segments, \n",
    "                            compute_min_distance_rigid_transformation)\n",
    "from ribbon_linkage_helper import (update_rest_curvature, \n",
    "                                   set_ribbon_linkage,\n",
    "                                   export_linkage_geometry_to_obj,\n",
    "                                   write_linkage_ribbon_output_florin)\n",
    "\n",
    "from compute_curve_from_curvature import (match_geo_curvature_and_edge_len, get_all_curve_pattern)\n",
    "from linkage_utils import order_segments_by_ribbons, get_turning_angle_and_length_from_ordered_rods\n",
    "\n",
    "from pipeline_helper import (initialize_linkage, get_normal_deviation, set_joint_vector_field, stage_1_optimization, initialize_stage_2_optimizer, stage_2_optimization, InputOrganizer, write_all_output, set_surface_view_options, get_structure_analysis_view, contact_optimization, get_double_side_view, show_selected_joints, highlight_rod_and_joint)\n",
    "import vis.fields\n",
    "import matplotlib.cm as cm\n",
    "import time"
   ]
  },
  {
   "cell_type": "code",
   "execution_count": 4,
   "metadata": {},
   "outputs": [],
   "source": [
    "import parallelism\n",
    "parallelism.set_max_num_tbb_threads(24)\n",
    "parallelism.set_hessian_assembly_num_threads(8)\n",
    "parallelism.set_gradient_assembly_num_threads(8)"
   ]
  },
  {
   "cell_type": "code",
   "execution_count": 5,
   "metadata": {},
   "outputs": [
    {
     "name": "stdout",
     "output_type": "stream",
     "text": [
      "0.033273539253433904 0.0023291477477403733\n"
     ]
    }
   ],
   "source": [
    "rod_length = 0.09982061776030171\n",
    "width = rod_length / 15 * 5\n",
    "thickness = width / 5 * 0.35\n",
    "print(width, thickness)\n",
    "io = InputOrganizer('new_kitty_1', thickness, width, weaving_dir)\n",
    "#  [ ear 214, ear 255, nose 39]"
   ]
  },
  {
   "cell_type": "code",
   "execution_count": 6,
   "metadata": {},
   "outputs": [],
   "source": [
    "import py_newton_optimizer\n",
    "OPTS = py_newton_optimizer.NewtonOptimizerOptions()\n",
    "OPTS.gradTol = 1e-6\n",
    "OPTS.verbose = 1;\n",
    "OPTS.beta = 1e-8\n",
    "OPTS.niter = 200\n",
    "OPTS.verboseNonPosDef = False\n",
    "rw = 1\n",
    "sw = 10\n",
    "drw = 0.01\n",
    "dsw = 0.01"
   ]
  },
  {
   "cell_type": "code",
   "execution_count": 7,
   "metadata": {},
   "outputs": [],
   "source": [
    "# import pickle \n",
    "# import gzip\n",
    "# pickle.dump(curved_linkage, gzip.open('{}_no_feature_joints_20201209.pkl.gz'.format(io.MODEL_NAME), 'w'))"
   ]
  },
  {
   "cell_type": "code",
   "execution_count": 8,
   "metadata": {},
   "outputs": [
    {
     "data": {
      "application/vnd.jupyter.widget-view+json": {
       "model_id": "8c424a0146534e7fb82793c44b74ff2e",
       "version_major": 2,
       "version_minor": 0
      },
      "text/plain": [
       "Renderer(camera=PerspectiveCamera(children=(PointLight(color='#999999', position=(0.0, 0.0, 5.0), quaternion=(…"
      ]
     },
     "metadata": {},
     "output_type": "display_data"
    }
   ],
   "source": [
    "with so(): curved_linkage = initialize_linkage(surface_path = io.SURFACE_PATH, useCenterline = True, model_path = io.MODEL_PATH, cross_section = io.RIBBON_CS, subdivision_res = io.SUBDIVISION_RESOLUTION)\n",
    "curved_linkage.set_design_parameter_config(use_restLen = True, use_restKappa = True)\n",
    "curved_save_tgt_joint_pos = curved_linkage.jointPositions();\n",
    "curved_linkage_view = linkage_vis.LinkageViewerWithSurface(curved_linkage, io.SURFACE_PATH)\n",
    "set_surface_view_options(curved_linkage_view)\n",
    "curved_linkage_view.show()"
   ]
  },
  {
   "cell_type": "code",
   "execution_count": 9,
   "metadata": {},
   "outputs": [],
   "source": [
    "set_surface_view_options(curved_linkage_view, surface_transparent = True)"
   ]
  },
  {
   "cell_type": "code",
   "execution_count": 10,
   "metadata": {},
   "outputs": [],
   "source": [
    "double_view = get_double_side_view(curved_linkage, flip = True)"
   ]
  },
  {
   "cell_type": "code",
   "execution_count": 11,
   "metadata": {},
   "outputs": [],
   "source": [
    "# double_view.show()"
   ]
  },
  {
   "cell_type": "code",
   "execution_count": 12,
   "metadata": {},
   "outputs": [
    {
     "data": {
      "text/plain": [
       "((0.0, 0.0, 5.0), (0.0, 1.0, 0.0), (0.0, 0.0, 0.0))"
      ]
     },
     "execution_count": 12,
     "metadata": {},
     "output_type": "execute_result"
    }
   ],
   "source": [
    "double_view.getCameraParams()"
   ]
  },
  {
   "cell_type": "code",
   "execution_count": 23,
   "metadata": {},
   "outputs": [],
   "source": [
    "curved_linkage.setExtendedDoFsPSRL(np.load('../../../mega_monster_optimization_diagram_results/new_kitty_1/new_kitty_1_stage_2.npy', allow_pickle = True)[-1]['extendedDoFsPSRL'])\n",
    "# curved_linkage.setExtendedDoFsPSRL(np.load('results/new_kitty_1/new_kitty_1_dof.npy'))\n",
    "# curved_linkage.setExtendedDoFsPSRL(np.load('results/new_kitty_1_no_feature_joints/new_kitty_1_no_feature_joints_dof.npy'))"
   ]
  },
  {
   "cell_type": "code",
   "execution_count": 17,
   "metadata": {},
   "outputs": [],
   "source": [
    "# get_all_curve_pattern(curved_linkage, min(io.RIBBON_CS), io.SUBDIVISION_RESOLUTION, io.RIBBON_NAME, 'svg', target_ribbon_width = 5, flip_angles = True, select_ribbon_index = [5])"
   ]
  },
  {
   "cell_type": "code",
   "execution_count": 18,
   "metadata": {},
   "outputs": [],
   "source": [
    "curved_linkage.attraction_weight = 0.1"
   ]
  },
  {
   "cell_type": "code",
   "execution_count": 19,
   "metadata": {},
   "outputs": [],
   "source": [
    "# curved_linkage.energy(elastic_rods.SurfaceAttractionEnergyType.Elastic)"
   ]
  },
  {
   "cell_type": "code",
   "execution_count": 20,
   "metadata": {},
   "outputs": [],
   "source": [
    "# curved_linkage.energy(elastic_rods.SurfaceAttractionEnergyType.Attraction)"
   ]
  },
  {
   "cell_type": "code",
   "execution_count": 21,
   "metadata": {},
   "outputs": [],
   "source": [
    "E0 = curved_linkage.designParameterSolve_energy()\n",
    "l0 = curved_linkage.totalRestLength()"
   ]
  },
  {
   "cell_type": "code",
   "execution_count": 22,
   "metadata": {
    "scrolled": true
   },
   "outputs": [],
   "source": [
    "iterateData, dpo = stage_1_optimization(curved_linkage, drw, dsw, curved_linkage_view, E0 = E0, l0 = l0)"
   ]
  },
  {
   "cell_type": "code",
   "execution_count": 23,
   "metadata": {},
   "outputs": [],
   "source": [
    "# curved_linkage.scaleJointWeights(0.1, 100, [214, 255, 39])"
   ]
  },
  {
   "cell_type": "code",
   "execution_count": 24,
   "metadata": {},
   "outputs": [],
   "source": [
    "# jointPos = curved_linkage.jointPositions()\n",
    "# jointPos = jointPos.reshape((curved_linkage.numJoints(), 3))\n",
    "# scaled_jointPos = jointPos[np.array([214, 255, 39])]\n",
    "# with open('{}_feature_joint_pos.obj'.format(io.MODEL_NAME), 'w') as f:\n",
    "#     for pt in scaled_jointPos:\n",
    "#         pt *= 100\n",
    "#         f.write('v {} {} {}\\n'.format(pt[0], pt[1], pt[2]))"
   ]
  },
  {
   "cell_type": "code",
   "execution_count": 24,
   "metadata": {},
   "outputs": [],
   "source": [
    "def eqm_callback(prob, i):\n",
    "    curved_linkage_view.update()"
   ]
  },
  {
   "cell_type": "code",
   "execution_count": 25,
   "metadata": {
    "scrolled": true
   },
   "outputs": [
    {
     "name": "stdout",
     "output_type": "stream",
     "text": [
      "0\t0.00027548\t0.657083\t0.657083\t1\t1\n",
      "1\t5.56431e-05\t0.0202796\t0.0202796\t1\t1\n",
      "2\t4.40855e-05\t0.00467791\t0.00467791\t1\t1\n",
      "3\t3.77509e-05\t0.0020088\t0.0020088\t1\t1\n",
      "4\t3.37723e-05\t0.000997902\t0.000997902\t1\t0\n",
      "5\t2.97353e-05\t0.00806983\t0.00806983\t1\t1\n",
      "6\t2.96604e-05\t9.30205e-05\t9.30205e-05\t1\t0\n",
      "7\t2.96274e-05\t0.000182028\t0.000182028\t1\t0\n",
      "8\t2.96268e-05\t1.18661e-05\t1.18661e-05\t1\t0\n",
      "9\t2.96268e-05\t1.63898e-07\t1.63898e-07\t1\t0\n"
     ]
    },
    {
     "data": {
      "text/plain": [
       "<py_newton_optimizer.ConvergenceReport at 0x12d4adf70>"
      ]
     },
     "execution_count": 25,
     "metadata": {},
     "output_type": "execute_result"
    }
   ],
   "source": [
    "elastic_rods.compute_equilibrium(curved_linkage, callback = eqm_callback, options = OPTS)"
   ]
  },
  {
   "cell_type": "code",
   "execution_count": 29,
   "metadata": {},
   "outputs": [],
   "source": [
    "optimizer = initialize_stage_2_optimizer(curved_linkage, io.SURFACE_PATH, curved_save_tgt_joint_pos, curved_linkage_view, rw, sw)"
   ]
  },
  {
   "cell_type": "code",
   "execution_count": 23,
   "metadata": {},
   "outputs": [],
   "source": [
    "# optimizer.scaleJointWeights(0.6, 100, [214, 255, 39])"
   ]
  },
  {
   "cell_type": "code",
   "execution_count": 24,
   "metadata": {},
   "outputs": [
    {
     "name": "stdout",
     "output_type": "stream",
     "text": [
      "rl_regularization_weight 0.9999999999999999\n",
      "smoothing_weight 10.0\n",
      "stage 2 optimization with attraction weight 100.0\n",
      "stage 2 optimization with attraction weight 0.1\n"
     ]
    }
   ],
   "source": [
    "optimizer, opt_iterateData = stage_2_optimization(optimizer, curved_linkage, io.SURFACE_PATH, curved_save_tgt_joint_pos, curved_linkage_view, -1, -1, 2, maxIter = 35)"
   ]
  },
  {
   "cell_type": "code",
   "execution_count": null,
   "metadata": {},
   "outputs": [],
   "source": [
    "curved_optimizer_energy = curved_linkage.energy()\n",
    "validation_curved_linkage = optimizer.getLinesearchWeaverLinkage()\n",
    "validation_curved_linkage.attraction_weight = 1e-7\n",
    "with so(): elastic_rods.compute_equilibrium(validation_curved_linkage, options = OPTS, fixedVars = [])\n",
    "validation_curved_view = linkage_vis.LinkageViewer(validation_curved_linkage, width=1024, height=640)\n",
    "validation_curved_energy = validation_curved_linkage.energy()\n",
    "print(abs((validation_curved_energy-curved_optimizer_energy)/curved_optimizer_energy))"
   ]
  },
  {
   "cell_type": "code",
   "execution_count": null,
   "metadata": {},
   "outputs": [],
   "source": [
    "validation_curved_view = linkage_vis.LinkageViewerWithSurface(validation_curved_linkage, io.SURFACE_PATH, width=1024, height=640)\n",
    "set_surface_view_options(validation_curved_view)\n",
    "validation_curved_view.show()"
   ]
  },
  {
   "cell_type": "code",
   "execution_count": null,
   "metadata": {},
   "outputs": [],
   "source": [
    "deviation, deviation_vector, joint_normals, joint_projection_normals = get_normal_deviation(validation_curved_linkage)"
   ]
  },
  {
   "cell_type": "code",
   "execution_count": null,
   "metadata": {},
   "outputs": [],
   "source": [
    "set_joint_vector_field(validation_curved_linkage, validation_curved_view, deviation_vector)"
   ]
  },
  {
   "cell_type": "code",
   "execution_count": 25,
   "metadata": {},
   "outputs": [
    {
     "name": "stdout",
     "output_type": "stream",
     "text": [
      "Min Width  0.033273539253433904\n",
      "Scale:  150.26955689674608\n",
      "num seg per rod 40\n",
      "num seg per rod 40\n",
      "num seg per rod 264\n",
      "num seg per rod 40\n",
      "num seg per rod 40\n",
      "num seg per rod 88\n",
      "num seg per rod 88\n",
      "num seg per rod 40\n",
      "num seg per rod 40\n",
      "num seg per rod 94\n",
      "num seg per rod 40\n",
      "num seg per rod 84\n",
      "num seg per rod 94\n",
      "num seg per rod 40\n",
      "30.053911379349216\n"
     ]
    },
    {
     "data": {
      "image/png": "[encoded data removed]",
      "text/plain": [
       "<Figure size 432x288 with 1 Axes>"
      ]
     },
     "metadata": {
      "needs_background": "light"
     },
     "output_type": "display_data"
    }
   ],
   "source": [
    "save_path = os.getcwd()\n",
    "write_all_output(curved_linkage, io.SUBDIVISION_RESOLUTION, io.MODEL_NAME + '_no_feature_joints', io.RIBBON_NAME + '_no_feature_joints', False, 100, min(io.RIBBON_CS), target_width = 5, flip_angles = False, width = max(io.RIBBON_CS))\n",
    "os.chdir(save_path)"
   ]
  },
  {
   "cell_type": "code",
   "execution_count": 27,
   "metadata": {},
   "outputs": [
    {
     "name": "stdout",
     "output_type": "stream",
     "text": [
      "Coefficient of Friction Percentiles 50, 75, 90:  1.0401996096520982 3.1830219435226823 7.331164355828557\n"
     ]
    },
    {
     "data": {
      "application/vnd.jupyter.widget-view+json": {
       "model_id": "89a09964ec6a4cf8a2a974d37ef76b0f",
       "version_major": 2,
       "version_minor": 0
      },
      "text/plain": [
       "HBox(children=(Renderer(camera=PerspectiveCamera(children=(PointLight(color='#999999', position=(0.0, 0.0, 5.0…"
      ]
     },
     "metadata": {},
     "output_type": "display_data"
    },
    {
     "data": {
      "image/png": "[encoded data removed]",
      "text/plain": [
       "<Figure size 1080x288 with 4 Axes>"
      ]
     },
     "metadata": {
      "needs_background": "light"
     },
     "output_type": "display_data"
    }
   ],
   "source": [
    "structure_view = get_structure_analysis_view(curved_linkage)\n",
    "structure_view.show()"
   ]
  },
  {
   "cell_type": "code",
   "execution_count": 58,
   "metadata": {},
   "outputs": [],
   "source": [
    "def get_opposite_joint_type(curr_type):\n",
    "    if curr_type == curved_linkage.joint(0).Type.A_OVER_B:\n",
    "        return curved_linkage.joint(0).Type.B_OVER_A\n",
    "    return curved_linkage.joint(0).Type.A_OVER_B\n",
    "import structural_analysis\n",
    "cfm = structural_analysis.weavingCrossingForceMagnitudes(curved_linkage, True)\n",
    "for i in np.argsort(cfm[:, 0] > 0)[-1 * np.sum(cfm[:, 0] > 0):]:\n",
    "    curved_linkage.joint(i).type = get_opposite_joint_type(curved_linkage.joint(i).type)"
   ]
  },
  {
   "cell_type": "code",
   "execution_count": null,
   "metadata": {},
   "outputs": [],
   "source": [
    "optimizer.scaleJointWeights(0.1, 1000, [396, 412, 497])\n",
    "# contact_optimization(optimizer, curved_linkage_view, -1, contact_weight = 1e4)\n",
    "optimizer, contact_opt_iterateData = contact_optimization(optimizer, curved_linkage, curved_linkage_view, minRestLen=-1, contact_weight = 5e6, normalWeight = 10, torqueWeight = 0, maxIter=2000, normalActivationThreshold=-1e-5)"
   ]
  },
  {
   "cell_type": "code",
   "execution_count": 67,
   "metadata": {},
   "outputs": [
    {
     "data": {
      "application/vnd.jupyter.widget-view+json": {
       "model_id": "7380d1a44d0642d496756baf6b0ae00e",
       "version_major": 2,
       "version_minor": 0
      },
      "text/plain": [
       "HBox(children=(Renderer(camera=PerspectiveCamera(children=(PointLight(color='#999999', position=(0.0, 0.0, 5.0…"
      ]
     },
     "metadata": {},
     "output_type": "display_data"
    },
    {
     "data": {
      "image/png": "[encoded data removed]",
      "text/plain": [
       "<Figure size 1080x288 with 4 Axes>"
      ]
     },
     "metadata": {
      "needs_background": "light"
     },
     "output_type": "display_data"
    }
   ],
   "source": [
    "second_structure_view = get_structure_analysis_view(curved_linkage)\n",
    "second_structure_view.show()"
   ]
  },
  {
   "cell_type": "code",
   "execution_count": 52,
   "metadata": {},
   "outputs": [],
   "source": [
    "import pickle\n",
    "import gzip\n",
    "pickle.dump(curved_linkage, gzip.open('{}_contact_opt_by_flipping_2020_1209.pkl.gz'.format(io.MODEL_NAME), 'w'))"
   ]
  },
  {
   "cell_type": "code",
   "execution_count": null,
   "metadata": {},
   "outputs": [],
   "source": []
  }
 ],
 "metadata": {
  "kernelspec": {
   "display_name": "Python 3",
   "language": "python",
   "name": "python3"
  },
  "language_info": {
   "codemirror_mode": {
    "name": "ipython",
    "version": 3
   },
   "file_extension": ".py",
   "mimetype": "text/x-python",
   "name": "python",
   "nbconvert_exporter": "python",
   "pygments_lexer": "ipython3",
   "version": "3.7.9"
  }
 },
 "nbformat": 4,
 "nbformat_minor": 4
}
