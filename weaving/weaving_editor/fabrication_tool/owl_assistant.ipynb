{
 "cells": [
  {
   "cell_type": "code",
   "execution_count": null,
   "metadata": {},
   "outputs": [],
   "source": [
    "elastic_rods_dir = '../../../elastic_rods/python/'\n",
    "weaving_dir = '../../'\n",
    "import os\n",
    "import os.path as osp\n",
    "import sys; sys.path.append(elastic_rods_dir); sys.path.append(weaving_dir)\n",
    "import numpy as np, elastic_rods, linkage_vis\n",
    "import numpy.linalg as la\n",
    "from bending_validation import suppress_stdout as so\n",
    "import matplotlib.pyplot as plt\n",
    "from elastic_rods import EnergyType, InterleavingType\n",
    "\n",
    "# weaving\n",
    "import analysis_helper, ribbon_linkage_helper, mesh_vis, linkage_utils, compute_curve_from_curvature, pipeline_helper, importlib\n",
    "importlib.reload(analysis_helper)\n",
    "importlib.reload(ribbon_linkage_helper)\n",
    "importlib.reload(mesh_vis)\n",
    "importlib.reload(linkage_utils)\n",
    "importlib.reload(compute_curve_from_curvature)\n",
    "importlib.reload(pipeline_helper)\n",
    "from analysis_helper import (compare_turning_angle,\n",
    "                            is_on_sphere, \n",
    "                            get_distance_to_center_scalar_field, \n",
    "                            plot_curvatures, \n",
    "                            get_curvature_scalar_field,\n",
    "                            construct_elastic_rod_loop_from_rod_segments, \n",
    "                            concatenate_rod_properties_from_rod_segments, \n",
    "                            compute_min_distance_rigid_transformation)\n",
    "from ribbon_linkage_helper import (update_rest_curvature, \n",
    "                                   set_ribbon_linkage,\n",
    "                                   export_linkage_geometry_to_obj,\n",
    "                                   write_linkage_ribbon_output_florin)\n",
    "from compute_curve_from_curvature import (match_geo_curvature_and_edge_len, get_all_curve_pattern)\n",
    "from linkage_utils import order_segments_by_ribbons, get_turning_angle_and_length_from_ordered_rods\n",
    "\n",
    "from pipeline_helper import (initialize_linkage, get_normal_deviation, set_joint_vector_field, stage_1_optimization, initialize_stage_2_optimizer, stage_2_optimization, InputOrganizer, write_all_output, set_surface_view_options, get_structure_analysis_view, get_double_side_view, show_selected_joints)\n",
    "import vis.fields\n",
    "import matplotlib.cm as cm\n",
    "import time"
   ]
  },
  {
   "cell_type": "code",
   "execution_count": null,
   "metadata": {},
   "outputs": [],
   "source": [
    "rod_length = 0.09982061776030171\n",
    "width = rod_length / 15 * 5\n",
    "thickness = width / 5 * 0.35\n",
    "print(width, thickness)\n",
    "io = InputOrganizer('owl_1', thickness, width, weaving_dir)\n",
    "#  [ ear 214, ear 255, nose 39]"
   ]
  },
  {
   "cell_type": "code",
   "execution_count": null,
   "metadata": {},
   "outputs": [],
   "source": [
    "import py_newton_optimizer\n",
    "OPTS = py_newton_optimizer.NewtonOptimizerOptions()\n",
    "OPTS.gradTol = 1e-6\n",
    "OPTS.verbose = 1;\n",
    "OPTS.beta = 1e-8\n",
    "OPTS.niter = 200\n",
    "OPTS.verboseNonPosDef = False\n",
    "rw = 1\n",
    "sw = 10\n",
    "drw = 0.1\n",
    "dsw = 0.1"
   ]
  },
  {
   "cell_type": "code",
   "execution_count": null,
   "metadata": {},
   "outputs": [],
   "source": [
    "# import pickle \n",
    "# import gzip\n",
    "# curved_linkage = pickle.load(gzip.open('{}_stage_2.pkl.gz'.format(io.MODEL_NAME), 'r'))"
   ]
  },
  {
   "cell_type": "code",
   "execution_count": null,
   "metadata": {},
   "outputs": [],
   "source": [
    "with so(): curved_linkage = initialize_linkage(surface_path = io.SURFACE_PATH, useCenterline = True, model_path = io.MODEL_PATH, cross_section = io.RIBBON_CS, subdivision_res = io.SUBDIVISION_RESOLUTION, use_constant_width=True, interleaving_type=elastic_rods.InterleavingType.weaving)\n",
    "curved_linkage.set_design_parameter_config(use_restLen = True, use_restKappa = True)\n",
    "curved_save_tgt_joint_pos = curved_linkage.jointPositions();\n",
    "curved_linkage_view = linkage_vis.LinkageViewerWithSurface(curved_linkage, io.SURFACE_PATH)\n",
    "set_surface_view_options(curved_linkage_view)\n",
    "curved_linkage_view.show()"
   ]
  },
  {
   "cell_type": "code",
   "execution_count": null,
   "metadata": {},
   "outputs": [],
   "source": [
    "curved_linkage.setExtendedDoFsPSRL(np.load('owl_1_dof.npy'))"
   ]
  },
  {
   "cell_type": "code",
   "execution_count": null,
   "metadata": {},
   "outputs": [],
   "source": [
    "bottomColor =[180/255., 158/255., 119/255.]\n",
    "topColor =[79/255., 158/255., 246/255.]\n",
    "heights = curved_linkage.visualizationGeometryHeightColors()\n",
    "colors = np.take(np.array([bottomColor, topColor]), heights < heights.mean(), axis=0)"
   ]
  },
  {
   "cell_type": "code",
   "execution_count": null,
   "metadata": {},
   "outputs": [],
   "source": [
    "def eqm_callback(prob, i):\n",
    "    curved_linkage_view.update(scalarField = colors)"
   ]
  },
  {
   "cell_type": "code",
   "execution_count": null,
   "metadata": {},
   "outputs": [],
   "source": [
    "elastic_rods.compute_equilibrium(curved_linkage, callback = eqm_callback, options = OPTS)"
   ]
  },
  {
   "cell_type": "code",
   "execution_count": null,
   "metadata": {},
   "outputs": [],
   "source": [
    "def visualize_crossing(index, linkage, view):\n",
    "    vf = show_selected_joints(linkage, [index], flip = True)\n",
    "    view.update(vectorField = vf, scalarField = colors)"
   ]
  },
  {
   "cell_type": "code",
   "execution_count": null,
   "metadata": {},
   "outputs": [],
   "source": [
    "ribbons = order_segments_by_ribbons(curved_linkage)\n",
    "_, _, _, _, all_joint_index, _ = get_turning_angle_and_length_from_ordered_rods(ribbons, curved_linkage, rest = True)\n",
    "all_joint_index_list = [j_list + [j_list[0]] for j_list in all_joint_index]\n",
    "\n",
    "def get_ribbon_crossing_list(index, linkage, view):\n",
    "    selected_list = []\n",
    "    selected_ribbon = []\n",
    "    for ribbon_index, index_list in enumerate(all_joint_index_list):\n",
    "        if index in set(index_list):\n",
    "            selected_ribbon.append(ribbon_index)\n",
    "            selected_list.append(index_list)\n",
    "    print(\"The crossing {} belongs to ribbon {}\".format(index, ', '.join([str(x) for x in selected_ribbon])))\n",
    "    for i in range(len(selected_list)):\n",
    "        print('Ribbon {}: {}'.format(selected_ribbon[i], selected_list[i]))"
   ]
  },
  {
   "cell_type": "code",
   "execution_count": null,
   "metadata": {},
   "outputs": [],
   "source": [
    "def select_crossing(crossing_index):\n",
    "    visualize_crossing(crossing_index, curved_linkage, curved_linkage_view)\n",
    "    get_ribbon_crossing_list(crossing_index, curved_linkage, curved_linkage_view)\n",
    "select_crossing(85)"
   ]
  },
  {
   "cell_type": "code",
   "execution_count": null,
   "metadata": {},
   "outputs": [],
   "source": [
    "def write_crossing_ribbon_info(linkage, filename, scale):\n",
    "    ''' return the list of two ribbon indices per crossing and the list of crossing lists per ribbon\n",
    "    '''\n",
    "    ribbons = order_segments_by_ribbons(linkage)\n",
    "    _, _, _, _, all_joint_index, _ = get_turning_angle_and_length_from_ordered_rods(ribbons, linkage, rest = True)\n",
    "    all_joint_index_list = [j_list + [j_list[0]] for j_list in all_joint_index]\n",
    "\n",
    "    def get_ribbon_crossing_list(index):\n",
    "        selected_list = []\n",
    "        selected_ribbon = []\n",
    "        for ribbon_index, index_list in enumerate(all_joint_index_list):\n",
    "            if index in set(index_list):\n",
    "                selected_ribbon.append(ribbon_index)\n",
    "                selected_list.append(index_list)\n",
    "        # print(\"The crossing {} belongs to ribbon {}\".format(index, ', '.join([str(x) for x in selected_ribbon])))\n",
    "        # for i in range(len(selected_list)):\n",
    "        #     print('Ribbon {}: {}'.format(selected_ribbon[i], selected_list[i]))\n",
    "        return selected_ribbon\n",
    "    pairs_of_ribbons_per_crossing = [get_ribbon_crossing_list(i) for i in range(linkage.numJoints())]\n",
    "\n",
    "    with open(filename, 'w') as f:\n",
    "        f.write('# crossing count {}, ribbon count {}'.format(linkage.numJoints(), len(ribbons)))\n",
    "        for vx in linkage.jointPositions().reshape((linkage.numJoints(), 3)):\n",
    "            vx *= scale\n",
    "            f.write('v  {} {} {}\\n'.format(vx[0], vx[1], vx[2]))\n",
    "        for c_index, pair in enumerate(pairs_of_ribbons_per_crossing):\n",
    "            if len(pair) == 1:\n",
    "                f.write('crossing {}: {}\\n'.format(c_index, pair[0]))\n",
    "            else:\n",
    "                if len(pair) != 2:\n",
    "                    print(\"Something is wrong\")\n",
    "                f.write('crossing {}: {} {}\\n'.format(c_index, pair[0], pair[1]))\n",
    "        for r_index, index_list in enumerate(all_joint_index_list):\n",
    "            f.write('ribbon {}: {}\\n'.format(r_index, \" \".join([str(x) for x in index_list])))\n",
    "\n",
    "    return pairs_of_ribbons_per_crossing, all_joint_index_list"
   ]
  },
  {
   "cell_type": "code",
   "execution_count": null,
   "metadata": {},
   "outputs": [],
   "source": [
    "two_ribbon_per_crossing, crossing_list_per_ribbon = write_crossing_ribbon_info(curved_linkage, 'cat_webapp_output.txt', 100)"
   ]
  }
 ],
 "metadata": {
  "kernelspec": {
   "display_name": "Python 3",
   "language": "python",
   "name": "python3"
  },
  "language_info": {
   "codemirror_mode": {
    "name": "ipython",
    "version": 3
   },
   "file_extension": ".py",
   "mimetype": "text/x-python",
   "name": "python",
   "nbconvert_exporter": "python",
   "pygments_lexer": "ipython3",
   "version": "3.7.9"
  }
 },
 "nbformat": 4,
 "nbformat_minor": 4
}
