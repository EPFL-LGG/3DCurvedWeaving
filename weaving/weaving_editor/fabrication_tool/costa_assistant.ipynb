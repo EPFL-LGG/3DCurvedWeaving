{
 "cells": [
  {
   "cell_type": "code",
   "execution_count": 1,
   "metadata": {},
   "outputs": [],
   "source": [
    "elastic_rods_dir = '../../../elastic_rods/python/'\n",
    "weaving_dir = '../../'\n",
    "import os\n",
    "import os.path as osp\n",
    "import sys; sys.path.append(elastic_rods_dir); sys.path.append(weaving_dir)\n",
    "import numpy as np, elastic_rods, linkage_vis\n",
    "import numpy.linalg as la\n",
    "from bending_validation import suppress_stdout as so\n",
    "import matplotlib.pyplot as plt\n",
    "from elastic_rods import EnergyType, InterleavingType\n",
    "\n",
    "# weaving\n",
    "import analysis_helper, ribbon_linkage_helper, mesh_vis, linkage_utils, compute_curve_from_curvature, pipeline_helper, importlib\n",
    "importlib.reload(analysis_helper)\n",
    "importlib.reload(ribbon_linkage_helper)\n",
    "importlib.reload(mesh_vis)\n",
    "importlib.reload(linkage_utils)\n",
    "importlib.reload(compute_curve_from_curvature)\n",
    "importlib.reload(pipeline_helper)\n",
    "from analysis_helper import (compare_turning_angle,\n",
    "                            is_on_sphere, \n",
    "                            get_distance_to_center_scalar_field, \n",
    "                            plot_curvatures, \n",
    "                            get_curvature_scalar_field,\n",
    "                            construct_elastic_rod_loop_from_rod_segments, \n",
    "                            concatenate_rod_properties_from_rod_segments, \n",
    "                            compute_min_distance_rigid_transformation)\n",
    "from ribbon_linkage_helper import (update_rest_curvature, \n",
    "                                   set_ribbon_linkage,\n",
    "                                   export_linkage_geometry_to_obj,\n",
    "                                   write_linkage_ribbon_output_florin)\n",
    "from compute_curve_from_curvature import (match_geo_curvature_and_edge_len, get_all_curve_pattern)\n",
    "from linkage_utils import order_segments_by_ribbons, get_turning_angle_and_length_from_ordered_rods\n",
    "\n",
    "from pipeline_helper import (initialize_linkage, get_normal_deviation, set_joint_vector_field, stage_1_optimization, initialize_stage_2_optimizer, stage_2_optimization, InputOrganizer, write_all_output, set_surface_view_options, get_structure_analysis_view, get_double_side_view, show_selected_joints)\n",
    "import vis.fields\n",
    "import matplotlib.cm as cm\n",
    "import time"
   ]
  },
  {
   "cell_type": "code",
   "execution_count": 2,
   "metadata": {},
   "outputs": [
    {
     "name": "stdout",
     "output_type": "stream",
     "text": [
      "0.03677252538384915 0.0036772525383849146\n"
     ]
    }
   ],
   "source": [
    "# rod_length = curved_linkage.totalRestLength() / curved_linkage.numSegments()\n",
    "rod_length = 0.11031757615154746\n",
    "width = rod_length / 15 * 5\n",
    "thickness = width / 5 * 0.5\n",
    "print(width, thickness)\n",
    "scale = 1\n",
    "io = InputOrganizer('costa_{}'.format(scale), thickness, width, weaving_dir)"
   ]
  },
  {
   "cell_type": "code",
   "execution_count": 3,
   "metadata": {},
   "outputs": [],
   "source": [
    "OPTS = elastic_rods.NewtonOptimizerOptions()\n",
    "OPTS.gradTol = 1e-6\n",
    "OPTS.verbose = 1;\n",
    "OPTS.beta = 1e-8\n",
    "OPTS.niter = 200\n",
    "OPTS.verboseNonPosDef = False\n",
    "rw = 0.01\n",
    "sw = 0.01"
   ]
  },
  {
   "cell_type": "code",
   "execution_count": 4,
   "metadata": {},
   "outputs": [
    {
     "data": {
      "application/vnd.jupyter.widget-view+json": {
       "model_id": "34e2ef659067465bb02f437709e7a7f5",
       "version_major": 2,
       "version_minor": 0
      },
      "text/plain": [
       "Renderer(camera=PerspectiveCamera(aspect=1.6, children=(PointLight(color='white', intensity=0.6, position=(0.0…"
      ]
     },
     "metadata": {},
     "output_type": "display_data"
    }
   ],
   "source": [
    "with so(): curved_linkage = initialize_linkage(surface_path = io.SURFACE_PATH, useCenterline = True, model_path = io.MODEL_PATH, cross_section = io.RIBBON_CS, subdivision_res = io.SUBDIVISION_RESOLUTION)\n",
    "curved_linkage.set_design_parameter_config(use_restLen = True, use_restKappa = True)\n",
    "curved_save_tgt_joint_pos = curved_linkage.jointPositions();\n",
    "curved_linkage_view = get_double_side_view(curved_linkage, flip = True)\n",
    "curved_linkage_view.show()"
   ]
  },
  {
   "cell_type": "code",
   "execution_count": 5,
   "metadata": {},
   "outputs": [],
   "source": [
    "curved_linkage.setExtendedDoFsPSRL(np.load('costa_1_dof.npy'))"
   ]
  },
  {
   "cell_type": "code",
   "execution_count": 6,
   "metadata": {},
   "outputs": [],
   "source": [
    "bottomColor =[180/255., 158/255., 119/255.]\n",
    "topColor =[79/255., 158/255., 246/255.]\n",
    "heights = curved_linkage.visualizationGeometryHeightColors()\n",
    "colors = np.take(np.array([bottomColor, topColor]), heights < heights.mean(), axis=0)"
   ]
  },
  {
   "cell_type": "code",
   "execution_count": 7,
   "metadata": {},
   "outputs": [],
   "source": [
    "curved_linkage.attraction_weight = 1e-5"
   ]
  },
  {
   "cell_type": "code",
   "execution_count": 8,
   "metadata": {},
   "outputs": [],
   "source": [
    "def eqm_callback(prob, i):\n",
    "    curved_linkage_view.update(scalarField = colors)"
   ]
  },
  {
   "cell_type": "code",
   "execution_count": 9,
   "metadata": {},
   "outputs": [
    {
     "name": "stdout",
     "output_type": "stream",
     "text": [
      "0\t0.02872\t6.77387\t6.77387\t1\t1\n",
      "1\t0.00178561\t1.25605\t1.25605\t1\t1\n",
      "2\t0.000511713\t0.204562\t0.204562\t1\t1\n",
      "3\t0.000307892\t0.042304\t0.042304\t1\t1\n",
      "4\t0.000222923\t0.0159791\t0.0159791\t1\t1\n",
      "5\t0.000172387\t0.0074696\t0.0074696\t1\t1\n",
      "6\t0.00014325\t0.00386303\t0.00386303\t1\t1\n",
      "7\t0.000128449\t0.00211651\t0.00211651\t1\t0\n",
      "8\t0.000118502\t0.00915285\t0.00915285\t1\t0\n",
      "9\t0.00011846\t7.07083e-06\t7.07083e-06\t1\t0\n",
      "10\t0.00011846\t7.07103e-08\t7.07103e-08\t1\t0\n"
     ]
    },
    {
     "data": {
      "text/plain": [
       "<elastic_rods.ConvergenceReport at 0x11fa1a830>"
      ]
     },
     "execution_count": 9,
     "metadata": {},
     "output_type": "execute_result"
    }
   ],
   "source": [
    "elastic_rods.compute_equilibrium(curved_linkage, callback = eqm_callback, options = OPTS)"
   ]
  },
  {
   "cell_type": "code",
   "execution_count": 10,
   "metadata": {},
   "outputs": [],
   "source": [
    "def visualize_crossing(index, linkage, view):\n",
    "    vf = show_selected_joints(linkage, [index], flip = True)\n",
    "    view.update(vectorField = vf, scalarField = colors)"
   ]
  },
  {
   "cell_type": "code",
   "execution_count": 11,
   "metadata": {},
   "outputs": [],
   "source": [
    "ribbons = order_segments_by_ribbons(curved_linkage)\n",
    "_, _, _, _, all_joint_index, _ = get_turning_angle_and_length_from_ordered_rods(ribbons, curved_linkage, rest = True)\n",
    "all_joint_index_list = [j_list + [j_list[0]] for j_list in all_joint_index]\n",
    "\n",
    "def get_ribbon_crossing_list(index, linkage, view):\n",
    "    selected_list = []\n",
    "    selected_ribbon = []\n",
    "    for ribbon_index, index_list in enumerate(all_joint_index_list):\n",
    "        if index in set(index_list):\n",
    "            selected_ribbon.append(ribbon_index)\n",
    "            selected_list.append(index_list)\n",
    "    print(\"The crossing {} belongs to ribbon {}\".format(index, ', '.join([str(x) for x in selected_ribbon])))\n",
    "    for i in range(len(selected_list)):\n",
    "        print('Ribbon {}: {}'.format(selected_ribbon[i], selected_list[i]))"
   ]
  },
  {
   "cell_type": "code",
   "execution_count": 61,
   "metadata": {},
   "outputs": [
    {
     "name": "stdout",
     "output_type": "stream",
     "text": [
      "The crossing 199 belongs to ribbon 13\n",
      "Ribbon 13: [154, 196, 197, 198, 199, 200, 201, 202, 203, 204, 205, 206, 207, 208, 209, 210, 102, 211, 53, 212, 213, 214, 198, 215, 216, 151, 217, 218, 219, 220, 221, 222, 223, 224, 225, 226, 227, 228, 229, 230, 214, 231, 232, 50, 191, 185, 233, 234, 139, 235, 236, 237, 238, 239, 240, 241, 242, 199, 230, 243, 244, 245, 246, 247, 248, 249, 6, 109, 65, 250, 251, 192, 154]\n"
     ]
    }
   ],
   "source": [
    "def select_crossing(crossing_index):\n",
    "    visualize_crossing(crossing_index, curved_linkage, curved_linkage_view)\n",
    "    get_ribbon_crossing_list(crossing_index, curved_linkage, curved_linkage_view)\n",
    "select_crossing(199)"
   ]
  },
  {
   "cell_type": "code",
   "execution_count": 66,
   "metadata": {},
   "outputs": [
    {
     "data": {
      "application/vnd.jupyter.widget-view+json": {
       "model_id": "34e2ef659067465bb02f437709e7a7f5",
       "version_major": 2,
       "version_minor": 0
      },
      "text/plain": [
       "Renderer(camera=PerspectiveCamera(aspect=1.6, children=(PointLight(color='white', intensity=0.6, position=(0.0…"
      ]
     },
     "metadata": {},
     "output_type": "display_data"
    }
   ],
   "source": [
    "vf = show_selected_joints(curved_linkage, [242, 198, 199, 200, 230, 229, 214, 243])\n",
    "curved_linkage_view.update(vectorField = vf, scalarField = colors)\n",
    "curved_linkage_view.show()"
   ]
  },
  {
   "cell_type": "code",
   "execution_count": null,
   "metadata": {},
   "outputs": [],
   "source": []
  }
 ],
 "metadata": {
  "kernelspec": {
   "display_name": "Python 3",
   "language": "python",
   "name": "python3"
  },
  "language_info": {
   "codemirror_mode": {
    "name": "ipython",
    "version": 3
   },
   "file_extension": ".py",
   "mimetype": "text/x-python",
   "name": "python",
   "nbconvert_exporter": "python",
   "pygments_lexer": "ipython3",
   "version": "3.8.5"
  }
 },
 "nbformat": 4,
 "nbformat_minor": 4
}
