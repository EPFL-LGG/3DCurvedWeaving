{
 "cells": [
  {
   "cell_type": "code",
   "execution_count": 1,
   "metadata": {},
   "outputs": [],
   "source": [
    "elastic_rods_dir = '../../../elastic_rods/python/'\n",
    "weaving_dir = '../../'\n",
    "import os\n",
    "import os.path as osp\n",
    "import sys; sys.path.append(elastic_rods_dir); sys.path.append(weaving_dir)\n",
    "import numpy as np, elastic_rods, linkage_vis\n",
    "import numpy.linalg as la\n",
    "from bending_validation import suppress_stdout as so\n",
    "import matplotlib.pyplot as plt\n",
    "from elastic_rods import EnergyType, InterleavingType\n",
    "\n",
    "# weaving\n",
    "import analysis_helper, ribbon_linkage_helper, mesh_vis, linkage_utils, compute_curve_from_curvature, pipeline_helper, importlib\n",
    "importlib.reload(analysis_helper)\n",
    "importlib.reload(ribbon_linkage_helper)\n",
    "importlib.reload(mesh_vis)\n",
    "importlib.reload(linkage_utils)\n",
    "importlib.reload(compute_curve_from_curvature)\n",
    "importlib.reload(pipeline_helper)\n",
    "from analysis_helper import (compare_turning_angle,\n",
    "                            is_on_sphere, \n",
    "                            get_distance_to_center_scalar_field, \n",
    "                            plot_curvatures, \n",
    "                            get_curvature_scalar_field,\n",
    "                            construct_elastic_rod_loop_from_rod_segments, \n",
    "                            concatenate_rod_properties_from_rod_segments, \n",
    "                            compute_min_distance_rigid_transformation)\n",
    "from ribbon_linkage_helper import (update_rest_curvature, \n",
    "                                   set_ribbon_linkage,\n",
    "                                   export_linkage_geometry_to_obj,\n",
    "                                   write_linkage_ribbon_output_florin)\n",
    "from compute_curve_from_curvature import (match_geo_curvature_and_edge_len, get_all_curve_pattern)\n",
    "from linkage_utils import order_segments_by_ribbons, get_turning_angle_and_length_from_ordered_rods\n",
    "\n",
    "from pipeline_helper import (initialize_linkage, get_normal_deviation, set_joint_vector_field, stage_1_optimization, initialize_stage_2_optimizer, stage_2_optimization, InputOrganizer, write_all_output, set_surface_view_options, get_structure_analysis_view, get_double_side_view, show_selected_joints, get_fixed_boundary_joint)\n",
    "import vis.fields\n",
    "import matplotlib.cm as cm\n",
    "import time"
   ]
  },
  {
   "cell_type": "code",
   "execution_count": 2,
   "metadata": {},
   "outputs": [
    {
     "name": "stdout",
     "output_type": "stream",
     "text": [
      "0.024955154440075428 0.0017468608108052797\n"
     ]
    }
   ],
   "source": [
    "rod_length = 0.09982061776030171\n",
    "width = rod_length / 20 * 5\n",
    "thickness = width / 5 * 0.35\n",
    "print(width, thickness)\n",
    "io = InputOrganizer('ducko_v2_1', thickness, width, weaving_dir)\n",
    "# io = InputOrganizer('bunny_quad_1', thickness, thickness, weaving_dir)\n",
    "\n",
    "#  [ ear 214, ear 255, nose 39]"
   ]
  },
  {
   "cell_type": "code",
   "execution_count": 3,
   "metadata": {},
   "outputs": [],
   "source": [
    "OPTS = elastic_rods.NewtonOptimizerOptions()\n",
    "OPTS.gradTol = 1e-6\n",
    "OPTS.verbose = 1;\n",
    "OPTS.beta = 1e-8\n",
    "OPTS.niter = 200\n",
    "OPTS.verboseNonPosDef = False\n",
    "rw = 0.01\n",
    "sw = 0.01"
   ]
  },
  {
   "cell_type": "code",
   "execution_count": 4,
   "metadata": {},
   "outputs": [
    {
     "data": {
      "application/vnd.jupyter.widget-view+json": {
       "model_id": "3c09db3fbdee485ea2b635fd56224f8b",
       "version_major": 2,
       "version_minor": 0
      },
      "text/plain": [
       "Renderer(camera=PerspectiveCamera(aspect=1.6, children=(PointLight(color='white', intensity=0.6, position=(0.0…"
      ]
     },
     "metadata": {},
     "output_type": "display_data"
    }
   ],
   "source": [
    "with so(): curved_linkage = initialize_linkage(surface_path = io.SURFACE_PATH, useCenterline = True, model_path = io.MODEL_PATH, cross_section = io.RIBBON_CS, subdivision_res = io.SUBDIVISION_RESOLUTION, interleaving_type=InterleavingType.weaving)\n",
    "curved_linkage.set_design_parameter_config(use_restLen = True, use_restKappa = True)\n",
    "curved_save_tgt_joint_pos = curved_linkage.jointPositions();\n",
    "curved_linkage_view = get_double_side_view(curved_linkage, flip = True)\n",
    "curved_linkage_view.show()"
   ]
  },
  {
   "cell_type": "code",
   "execution_count": 5,
   "metadata": {},
   "outputs": [],
   "source": [
    "curved_linkage.setExtendedDoFsPSRL(np.load('ducko_v2_1_dof.npy'))"
   ]
  },
  {
   "cell_type": "code",
   "execution_count": 6,
   "metadata": {},
   "outputs": [],
   "source": [
    "topColor =[180/255., 158/255., 119/255.]\n",
    "bottomColor =[79/255., 158/255., 246/255.]\n",
    "heights = curved_linkage.visualizationGeometryHeightColors()\n",
    "colors = np.take(np.array([bottomColor, topColor]), heights < heights.mean(), axis=0)"
   ]
  },
  {
   "cell_type": "code",
   "execution_count": 7,
   "metadata": {},
   "outputs": [],
   "source": [
    "curved_linkage.attraction_weight = 1e-5"
   ]
  },
  {
   "cell_type": "code",
   "execution_count": 8,
   "metadata": {},
   "outputs": [],
   "source": [
    "def eqm_callback(prob, i):\n",
    "    curved_linkage_view.update(scalarField = colors)"
   ]
  },
  {
   "cell_type": "code",
   "execution_count": 9,
   "metadata": {
    "scrolled": true
   },
   "outputs": [
    {
     "name": "stdout",
     "output_type": "stream",
     "text": [
      "0\t0.00992099\t2.88224\t2.88224\t1\t1\n",
      "1\t0.00893884\t12.0989\t12.0989\t1\t1\n",
      "2\t0.00370837\t1.8311\t1.8311\t1\t1\n",
      "3\t0.0033312\t0.789011\t0.789011\t1\t1\n",
      "4\t0.00300203\t0.554733\t0.554733\t1\t1\n",
      "5\t0.00256946\t0.437974\t0.437974\t1\t1\n",
      "6\t0.0020248\t0.334043\t0.334043\t1\t1\n",
      "7\t0.00144102\t0.237164\t0.237164\t1\t1\n",
      "8\t0.000927836\t0.158624\t0.158624\t1\t1\n",
      "9\t0.000555888\t0.102013\t0.102013\t1\t1\n",
      "10\t0.000327332\t0.0628104\t0.0628104\t1\t1\n",
      "11\t0.000202906\t0.0366879\t0.0366879\t1\t1\n",
      "12\t0.0001361\t0.0207198\t0.0207198\t1\t1\n",
      "13\t9.46029e-05\t0.0113857\t0.0113857\t1\t1\n",
      "14\t6.45965e-05\t0.00606971\t0.00606971\t1\t1\n",
      "15\t4.23972e-05\t0.00339548\t0.00339548\t1\t1\n",
      "16\t2.72248e-05\t0.00233513\t0.00233513\t1\t1\n",
      "17\t1.83065e-05\t0.00212008\t0.00212008\t1\t1\n",
      "18\t1.4006e-05\t0.00189658\t0.00189658\t1\t1\n",
      "19\t1.22821e-05\t0.00143698\t0.00143698\t1\t1\n",
      "20\t1.16632e-05\t0.00088504\t0.00088504\t1\t1\n",
      "21\t1.14465e-05\t0.000450479\t0.000450479\t1\t1\n",
      "22\t1.13728e-05\t0.000209625\t0.000209625\t1\t1\n",
      "23\t1.13491e-05\t8.91747e-05\t8.91747e-05\t1\t1\n",
      "24\t1.13412e-05\t3.54034e-05\t3.54034e-05\t1\t1\n",
      "25\t1.13379e-05\t1.67175e-05\t1.67175e-05\t1\t1\n",
      "26\t1.13361e-05\t1.10531e-05\t1.10531e-05\t1\t1\n",
      "27\t1.13349e-05\t8.80006e-06\t8.80006e-06\t1\t1\n",
      "28\t1.13337e-05\t8.61565e-06\t8.61565e-06\t1\t1\n",
      "29\t1.13324e-05\t8.40401e-06\t8.40401e-06\t1\t1\n",
      "30\t1.13309e-05\t6.33436e-06\t6.33436e-06\t1\t0\n",
      "31\t1.13262e-05\t8.83613e-05\t8.83613e-05\t1\t0\n",
      "32\t1.13249e-05\t6.10843e-08\t6.10843e-08\t1\t0\n"
     ]
    },
    {
     "data": {
      "text/plain": [
       "<elastic_rods.ConvergenceReport at 0x12c6c6bb0>"
      ]
     },
     "execution_count": 9,
     "metadata": {},
     "output_type": "execute_result"
    }
   ],
   "source": [
    "elastic_rods.compute_equilibrium(curved_linkage, callback = eqm_callback, options = OPTS, fixedVars = [])"
   ]
  },
  {
   "cell_type": "code",
   "execution_count": 10,
   "metadata": {},
   "outputs": [],
   "source": [
    "def visualize_crossing(index, linkage, view):\n",
    "    vf = show_selected_joints(linkage, [index], flip = False)\n",
    "    view.update(vectorField = vf, scalarField = colors)"
   ]
  },
  {
   "cell_type": "code",
   "execution_count": 14,
   "metadata": {},
   "outputs": [],
   "source": [
    "ribbons = order_segments_by_ribbons(curved_linkage)\n",
    "_, _, _, _, all_joint_index, _ = get_turning_angle_and_length_from_ordered_rods(ribbons, curved_linkage, rest = True)\n",
    "\n",
    "def get_ribbon_crossing_list(index, linkage, view):\n",
    "    selected_list = []\n",
    "    selected_ribbon = []\n",
    "    for ribbon_index, index_list in enumerate(all_joint_index):\n",
    "        if index in set(index_list):\n",
    "            selected_ribbon.append(ribbon_index)\n",
    "            selected_list.append(index_list)\n",
    "    print(\"The crossing {} belongs to ribbon {}\".format(index, ', '.join([str(x) for x in selected_ribbon])))\n",
    "    for i in range(len(selected_list)):\n",
    "        print('Ribbon {}: {}'.format(selected_ribbon[i], selected_list[i]))\n",
    "    return [selected_ribbon, selected_list]\n",
    "    "
   ]
  },
  {
   "cell_type": "code",
   "execution_count": 15,
   "metadata": {},
   "outputs": [
    {
     "name": "stdout",
     "output_type": "stream",
     "text": [
      "The crossing 279 belongs to ribbon 1, 3\n",
      "Ribbon 1: [1, 34, 35, 36, 37, 38, 29, 39, 40, 41, 42, 43, 44, 45, 46, 47, 48, 49, 50, 51, 52, 53, 54, 35, 55, 56, 33, 57, 58, 59, 60, 42, 61, 62, 63, 64, 65, 66, 67, 68, 69, 70, 71, 72, 73, 74, 75, 76, 77, 78, 79, 80, 81, 82, 83, 84, 85, 86, 87, 2, 34, 55, 88, 89, 31, 90, 91, 40, 92, 93, 94, 95, 96, 97, 98, 99, 100, 101, 102, 103, 72, 104, 105, 106, 107, 108, 109, 110, 111, 112, 113, 114, 115, 116, 117, 118, 119, 0, 56, 88, 120, 37, 121, 122, 123, 124, 125, 126, 127, 128, 129, 44, 130, 115, 131, 85, 132, 4, 133, 54, 36, 120, 89, 32, 57, 134, 118, 135, 86, 132, 5, 136, 137, 138, 139, 140, 141, 142, 143, 144, 106, 145, 74, 146, 147, 148, 149, 150, 151, 152, 153, 154, 155, 156, 25, 157, 158, 159, 122, 160, 53, 133, 3, 87, 135, 117, 161, 60, 41, 92, 162, 26, 157, 163, 164, 165, 166, 167, 168, 169, 62, 170, 93, 162, 27, 171, 159, 123, 172, 50, 173, 174, 175, 176, 177, 178, 108, 179, 76, 180, 181, 182, 183, 184, 185, 186, 187, 188, 189, 190, 23, 191, 192, 164, 193, 125, 194, 48, 195, 196, 197, 198, 110, 199, 78, 200, 201, 202, 203, 204, 205, 206, 207, 208, 209, 210, 21, 211, 212, 213, 214, 166, 215, 127, 216, 46, 217, 218, 112, 219, 80, 220, 221, 222, 223, 224, 225, 226, 227, 228, 229, 230, 19, 231, 232, 233, 234, 235, 236, 168, 237, 129, 45, 217, 238, 197, 239, 177, 240, 143, 241, 14, 242, 243, 244, 227, 245, 207, 246, 187, 247, 153, 248, 96, 249, 63, 169, 237, 128, 216, 47, 195, 250, 175, 251, 141, 252, 12, 253, 254, 255, 225, 256, 205, 257, 185, 258, 151, 259, 98, 260, 65, 261, 236, 167, 215, 126, 194, 49, 173, 262, 139, 263, 10, 264, 265, 266, 223, 267, 203, 268, 183, 269, 149, 270, 100, 271, 67, 272, 234, 273, 214, 165, 193, 124, 172, 51, 274, 136, 6, 275, 83, 276, 113, 218, 238, 196, 250, 174, 262, 138, 277, 7, 275, 84, 131, 116, 161, 59, 278, 90, 30, 38, 121, 160, 52, 274, 137, 277, 8, 279, 280, 281, 221, 282, 201, 283, 181, 284, 147, 285, 102, 286, 69, 287, 232, 288, 212, 289, 192, 163, 158, 171, 28, 39, 91, 278, 58, 134, 119, 1]\n",
      "Ribbon 3: [9, 263, 140, 251, 176, 239, 198, 111, 219, 81, 299, 279, 9]\n"
     ]
    },
    {
     "data": {
      "application/vnd.jupyter.widget-view+json": {
       "model_id": "3c09db3fbdee485ea2b635fd56224f8b",
       "version_major": 2,
       "version_minor": 0
      },
      "text/plain": [
       "Renderer(camera=PerspectiveCamera(aspect=1.6, children=(PointLight(color='white', intensity=0.6, position=(0.0…"
      ]
     },
     "metadata": {},
     "output_type": "display_data"
    }
   ],
   "source": [
    "def select_crossing(crossing_index):\n",
    "    visualize_crossing(crossing_index, curved_linkage, curved_linkage_view)\n",
    "    return get_ribbon_crossing_list(crossing_index, curved_linkage, curved_linkage_view)\n",
    "\n",
    "vNum = [279]\n",
    "[selected_ribbon, selected_list] = select_crossing(vNum[0])\n",
    "\n",
    "vf = show_selected_joints(curved_linkage, vNum)\n",
    "curved_linkage_view.update(vectorField = vf, scalarField = colors)\n",
    "curved_linkage_view.show()"
   ]
  },
  {
   "cell_type": "code",
   "execution_count": null,
   "metadata": {},
   "outputs": [],
   "source": []
  }
 ],
 "metadata": {
  "kernelspec": {
   "display_name": "Python 3",
   "language": "python",
   "name": "python3"
  },
  "language_info": {
   "codemirror_mode": {
    "name": "ipython",
    "version": 3
   },
   "file_extension": ".py",
   "mimetype": "text/x-python",
   "name": "python",
   "nbconvert_exporter": "python",
   "pygments_lexer": "ipython3",
   "version": "3.8.5"
  }
 },
 "nbformat": 4,
 "nbformat_minor": 4
}
