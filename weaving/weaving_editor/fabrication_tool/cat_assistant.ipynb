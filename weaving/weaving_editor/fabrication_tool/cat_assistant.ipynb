{
 "cells": [
  {
   "cell_type": "code",
   "execution_count": 1,
   "metadata": {},
   "outputs": [],
   "source": [
    "elastic_rods_dir = '../../../elastic_rods/python/'\n",
    "weaving_dir = '../../'\n",
    "import os\n",
    "import os.path as osp\n",
    "import sys; sys.path.append(elastic_rods_dir); sys.path.append(weaving_dir)\n",
    "import numpy as np, elastic_rods, linkage_vis\n",
    "import numpy.linalg as la\n",
    "from bending_validation import suppress_stdout as so\n",
    "import matplotlib.pyplot as plt\n",
    "from elastic_rods import EnergyType, InterleavingType\n",
    "\n",
    "# weaving\n",
    "import analysis_helper, ribbon_linkage_helper, mesh_vis, linkage_utils, compute_curve_from_curvature, pipeline_helper, importlib\n",
    "importlib.reload(analysis_helper)\n",
    "importlib.reload(ribbon_linkage_helper)\n",
    "importlib.reload(mesh_vis)\n",
    "importlib.reload(linkage_utils)\n",
    "importlib.reload(compute_curve_from_curvature)\n",
    "importlib.reload(pipeline_helper)\n",
    "from analysis_helper import (compare_turning_angle,\n",
    "                            is_on_sphere, \n",
    "                            get_distance_to_center_scalar_field, \n",
    "                            plot_curvatures, \n",
    "                            get_curvature_scalar_field,\n",
    "                            construct_elastic_rod_loop_from_rod_segments, \n",
    "                            concatenate_rod_properties_from_rod_segments, \n",
    "                            compute_min_distance_rigid_transformation)\n",
    "from ribbon_linkage_helper import (update_rest_curvature, \n",
    "                                   set_ribbon_linkage,\n",
    "                                   export_linkage_geometry_to_obj,\n",
    "                                   write_linkage_ribbon_output_florin)\n",
    "from compute_curve_from_curvature import (match_geo_curvature_and_edge_len, get_all_curve_pattern)\n",
    "from linkage_utils import order_segments_by_ribbons, get_turning_angle_and_length_from_ordered_rods\n",
    "\n",
    "from pipeline_helper import (initialize_linkage, get_normal_deviation, set_joint_vector_field, stage_1_optimization, initialize_stage_2_optimizer, stage_2_optimization, InputOrganizer, write_all_output, set_surface_view_options, get_structure_analysis_view, get_double_side_view, show_selected_joints)\n",
    "import vis.fields\n",
    "import matplotlib.cm as cm\n",
    "import time"
   ]
  },
  {
   "cell_type": "code",
   "execution_count": 2,
   "metadata": {},
   "outputs": [
    {
     "name": "stdout",
     "output_type": "stream",
     "text": [
      "0.033273539253433904 0.0023291477477403733\n"
     ]
    }
   ],
   "source": [
    "rod_length = 0.09982061776030171\n",
    "width = rod_length / 15 * 5\n",
    "thickness = width / 5 * 0.35\n",
    "print(width, thickness)\n",
    "io = InputOrganizer('new_kitty_1', thickness, width, weaving_dir)\n",
    "#  [ ear 214, ear 255, nose 39]"
   ]
  },
  {
   "cell_type": "code",
   "execution_count": 3,
   "metadata": {},
   "outputs": [],
   "source": [
    "OPTS = elastic_rods.NewtonOptimizerOptions()\n",
    "OPTS.gradTol = 1e-6\n",
    "OPTS.verbose = 1;\n",
    "OPTS.beta = 1e-8\n",
    "OPTS.niter = 200\n",
    "OPTS.verboseNonPosDef = False\n",
    "rw = 0.01\n",
    "sw = 0.01"
   ]
  },
  {
   "cell_type": "code",
   "execution_count": 4,
   "metadata": {},
   "outputs": [
    {
     "data": {
      "application/vnd.jupyter.widget-view+json": {
       "model_id": "7392f70a7e2f466cbd52dbb9936dfc0b",
       "version_major": 2,
       "version_minor": 0
      },
      "text/plain": [
       "Renderer(camera=PerspectiveCamera(aspect=1.6, children=(PointLight(color='white', intensity=0.6, position=(0.0…"
      ]
     },
     "metadata": {},
     "output_type": "display_data"
    }
   ],
   "source": [
    "with so(): curved_linkage = initialize_linkage(surface_path = io.SURFACE_PATH, useCenterline = True, model_path = io.MODEL_PATH, cross_section = io.RIBBON_CS, subdivision_res = io.SUBDIVISION_RESOLUTION)\n",
    "curved_linkage.set_design_parameter_config(use_restLen = True, use_restKappa = True)\n",
    "curved_save_tgt_joint_pos = curved_linkage.jointPositions();\n",
    "curved_linkage_view = get_double_side_view(curved_linkage, flip = True)\n",
    "curved_linkage_view.show()"
   ]
  },
  {
   "cell_type": "code",
   "execution_count": 5,
   "metadata": {},
   "outputs": [],
   "source": [
    "curved_linkage.setExtendedDoFsPSRL(np.load('new_kitty_1_dof.npy'))"
   ]
  },
  {
   "cell_type": "code",
   "execution_count": 6,
   "metadata": {},
   "outputs": [],
   "source": [
    "bottomColor =[180/255., 158/255., 119/255.]\n",
    "topColor =[79/255., 158/255., 246/255.]\n",
    "heights = curved_linkage.visualizationGeometryHeightColors()\n",
    "colors = np.take(np.array([bottomColor, topColor]), heights < heights.mean(), axis=0)"
   ]
  },
  {
   "cell_type": "code",
   "execution_count": 7,
   "metadata": {},
   "outputs": [],
   "source": [
    "def eqm_callback(prob, i):\n",
    "    curved_linkage_view.update(scalarField = colors)"
   ]
  },
  {
   "cell_type": "code",
   "execution_count": 8,
   "metadata": {},
   "outputs": [
    {
     "name": "stdout",
     "output_type": "stream",
     "text": [
      "0\t0.00148561\t1.44543\t1.44543\t1\t1\n",
      "1\t0.000224213\t0.105055\t0.105055\t1\t1\n",
      "2\t0.000157125\t0.0285207\t0.0285207\t1\t1\n",
      "3\t0.000123938\t0.0133325\t0.0133325\t1\t1\n",
      "4\t0.000100982\t0.00656026\t0.00656026\t1\t1\n",
      "5\t8.48006e-05\t0.00331926\t0.00331926\t1\t1\n",
      "6\t7.41592e-05\t0.00187758\t0.00187758\t0.5\t0\n",
      "7\t5.79477e-05\t0.00711136\t0.00711136\t1\t0\n",
      "8\t5.08861e-05\t0.00538869\t0.00538869\t1\t0\n",
      "9\t5.06684e-05\t0.00693253\t0.00693253\t1\t1\n",
      "10\t5.04221e-05\t0.000208268\t0.000208268\t1\t0\n",
      "11\t5.02992e-05\t0.00257228\t0.00257228\t1\t0\n",
      "12\t5.02807e-05\t0.000565988\t0.000565988\t1\t0\n",
      "13\t5.02776e-05\t7.30268e-05\t7.30268e-05\t1\t0\n",
      "14\t5.02775e-05\t1.32571e-05\t1.32571e-05\t1\t0\n",
      "15\t5.02775e-05\t8.48089e-09\t8.48089e-09\t1\t0\n"
     ]
    },
    {
     "data": {
      "text/plain": [
       "<elastic_rods.ConvergenceReport at 0x129cf8470>"
      ]
     },
     "execution_count": 8,
     "metadata": {},
     "output_type": "execute_result"
    }
   ],
   "source": [
    "elastic_rods.compute_equilibrium(curved_linkage, callback = eqm_callback, options = OPTS)"
   ]
  },
  {
   "cell_type": "code",
   "execution_count": 9,
   "metadata": {},
   "outputs": [],
   "source": [
    "def visualize_crossing(index, linkage, view):\n",
    "    vf = show_selected_joints(linkage, [index], flip = True)\n",
    "    view.update(vectorField = vf, scalarField = colors)"
   ]
  },
  {
   "cell_type": "code",
   "execution_count": 10,
   "metadata": {},
   "outputs": [],
   "source": [
    "ribbons = order_segments_by_ribbons(curved_linkage)\n",
    "_, _, _, _, all_joint_index, _ = get_turning_angle_and_length_from_ordered_rods(ribbons, curved_linkage, rest = True)\n",
    "all_joint_index_list = [j_list + [j_list[0]] for j_list in all_joint_index]\n",
    "\n",
    "def get_ribbon_crossing_list(index, linkage, view):\n",
    "    selected_list = []\n",
    "    selected_ribbon = []\n",
    "    for ribbon_index, index_list in enumerate(all_joint_index_list):\n",
    "        if index in set(index_list):\n",
    "            selected_ribbon.append(ribbon_index)\n",
    "            selected_list.append(index_list)\n",
    "    print(\"The crossing {} belongs to ribbon {}\".format(index, ', '.join([str(x) for x in selected_ribbon])))\n",
    "    for i in range(len(selected_list)):\n",
    "        print('Ribbon {}: {}'.format(selected_ribbon[i], selected_list[i]))"
   ]
  },
  {
   "cell_type": "code",
   "execution_count": 15,
   "metadata": {},
   "outputs": [
    {
     "name": "stdout",
     "output_type": "stream",
     "text": [
      "The crossing 85 belongs to ribbon 2\n",
      "Ribbon 2: [40, 78, 79, 80, 81, 82, 83, 84, 85, 86, 87, 88, 89, 90, 91, 92, 25, 93, 94, 95, 96, 97, 98, 62, 99, 100, 101, 102, 103, 104, 105, 106, 107, 108, 109, 110, 111, 112, 113, 114, 115, 116, 5, 117, 118, 119, 120, 121, 46, 122, 123, 124, 125, 126, 127, 128, 129, 130, 88, 131, 132, 133, 134, 30, 135, 136, 137, 138, 139, 140, 141, 142, 143, 72, 144, 145, 146, 111, 147, 148, 149, 150, 151, 152, 153, 154, 155, 156, 157, 158, 159, 160, 15, 161, 162, 53, 163, 164, 165, 166, 167, 168, 128, 169, 170, 85, 171, 172, 173, 174, 175, 36, 176, 177, 178, 179, 73, 144, 180, 181, 108, 182, 183, 184, 185, 186, 187, 188, 189, 60, 190, 191, 192, 193, 23, 194, 195, 196, 197, 198, 199, 129, 169, 200, 201, 202, 203, 204, 205, 206, 42, 207, 208, 4, 116, 209, 210, 211, 212, 213, 214, 153, 215, 216, 217, 218, 219, 220, 221, 222, 223, 189, 61, 98, 224, 225, 226, 227, 228, 229, 230, 231, 29, 134, 232, 233, 234, 235, 86, 170, 200, 236, 237, 238, 124, 239, 240, 49, 241, 242, 243, 244, 245, 14, 160, 246, 247, 248, 249, 221, 250, 251, 186, 252, 253, 254, 104, 255, 256, 257, 258, 259, 71, 143, 260, 261, 262, 263, 264, 34, 265, 266, 267, 268, 235, 87, 130, 199, 269, 270, 271, 272, 273, 274, 275, 55, 17, 276, 277, 247, 278, 279, 218, 280, 281, 282, 283, 149, 284, 285, 114, 286, 287, 2, 40, 40]\n"
     ]
    }
   ],
   "source": [
    "def select_crossing(crossing_index):\n",
    "    visualize_crossing(crossing_index, curved_linkage, curved_linkage_view)\n",
    "    get_ribbon_crossing_list(crossing_index, curved_linkage, curved_linkage_view)\n",
    "select_crossing(85)"
   ]
  },
  {
   "cell_type": "code",
   "execution_count": 18,
   "metadata": {},
   "outputs": [],
   "source": [
    "def write_crossing_ribbon_info(linkage, filename, scale):\n",
    "    ''' return the list of two ribbon indices per crossing and the list of crossing lists per ribbon\n",
    "    '''\n",
    "    ribbons = order_segments_by_ribbons(linkage)\n",
    "    _, _, _, _, all_joint_index, _ = get_turning_angle_and_length_from_ordered_rods(ribbons, linkage, rest = True)\n",
    "    all_joint_index_list = [j_list + [j_list[0]] for j_list in all_joint_index]\n",
    "\n",
    "    def get_ribbon_crossing_list(index):\n",
    "        selected_list = []\n",
    "        selected_ribbon = []\n",
    "        for ribbon_index, index_list in enumerate(all_joint_index_list):\n",
    "            if index in set(index_list):\n",
    "                selected_ribbon.append(ribbon_index)\n",
    "                selected_list.append(index_list)\n",
    "        # print(\"The crossing {} belongs to ribbon {}\".format(index, ', '.join([str(x) for x in selected_ribbon])))\n",
    "        # for i in range(len(selected_list)):\n",
    "        #     print('Ribbon {}: {}'.format(selected_ribbon[i], selected_list[i]))\n",
    "        return selected_ribbon\n",
    "    pairs_of_ribbons_per_crossing = [get_ribbon_crossing_list(i) for i in range(linkage.numJoints())]\n",
    "\n",
    "    with open(filename, 'w') as f:\n",
    "        f.write('# crossing count {}, ribbon count {}'.format(linkage.numJoints(), len(ribbons)))\n",
    "        for vx in linkage.jointPositions().reshape((linkage.numJoints(), 3)):\n",
    "            vx *= scale\n",
    "            f.write('v  {} {} {}\\n'.format(vx[0], vx[1], vx[2]))\n",
    "        for c_index, pair in enumerate(pairs_of_ribbons_per_crossing):\n",
    "            if len(pair) == 1:\n",
    "                f.write('crossing {}: {}\\n'.format(c_index, pair[0]))\n",
    "            else:\n",
    "                if len(pair) != 2:\n",
    "                    print(\"Something is wrong\")\n",
    "                f.write('crossing {}: {} {}\\n'.format(c_index, pair[0], pair[1]))\n",
    "        for r_index, index_list in enumerate(all_joint_index_list):\n",
    "            f.write('ribbon {}: {}\\n'.format(r_index, \" \".join([str(x) for x in index_list])))\n",
    "\n",
    "    return pairs_of_ribbons_per_crossing, all_joint_index_list"
   ]
  },
  {
   "cell_type": "code",
   "execution_count": 19,
   "metadata": {},
   "outputs": [],
   "source": [
    "two_ribbon_per_crossing, crossing_list_per_ribbon = write_crossing_ribbon_info(curved_linkage, 'cat_webapp_output.txt', 100)"
   ]
  },
  {
   "cell_type": "code",
   "execution_count": null,
   "metadata": {},
   "outputs": [],
   "source": []
  }
 ],
 "metadata": {
  "kernelspec": {
   "display_name": "Python 3",
   "language": "python",
   "name": "python3"
  },
  "language_info": {
   "codemirror_mode": {
    "name": "ipython",
    "version": 3
   },
   "file_extension": ".py",
   "mimetype": "text/x-python",
   "name": "python",
   "nbconvert_exporter": "python",
   "pygments_lexer": "ipython3",
   "version": "3.7.9"
  }
 },
 "nbformat": 4,
 "nbformat_minor": 4
}
