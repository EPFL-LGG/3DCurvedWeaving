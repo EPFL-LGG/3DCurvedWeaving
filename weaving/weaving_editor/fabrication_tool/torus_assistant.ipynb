{
 "cells": [
  {
   "cell_type": "code",
   "execution_count": 16,
   "metadata": {},
   "outputs": [],
   "source": [
    "elastic_rods_dir = '../../../elastic_rods/python/'\n",
    "weaving_dir = '../../'\n",
    "import os\n",
    "import os.path as osp\n",
    "import sys; sys.path.append(elastic_rods_dir); sys.path.append(weaving_dir)\n",
    "import numpy as np, elastic_rods, linkage_vis\n",
    "import numpy.linalg as la\n",
    "from bending_validation import suppress_stdout as so\n",
    "import matplotlib.pyplot as plt\n",
    "from elastic_rods import EnergyType, InterleavingType\n",
    "\n",
    "# weaving\n",
    "import analysis_helper, ribbon_linkage_helper, mesh_vis, linkage_utils, compute_curve_from_curvature, pipeline_helper, importlib\n",
    "importlib.reload(analysis_helper)\n",
    "importlib.reload(ribbon_linkage_helper)\n",
    "importlib.reload(mesh_vis)\n",
    "importlib.reload(linkage_utils)\n",
    "importlib.reload(compute_curve_from_curvature)\n",
    "importlib.reload(pipeline_helper)\n",
    "from analysis_helper import (compare_turning_angle,\n",
    "                            is_on_sphere, \n",
    "                            get_distance_to_center_scalar_field, \n",
    "                            plot_curvatures, \n",
    "                            get_curvature_scalar_field,\n",
    "                            construct_elastic_rod_loop_from_rod_segments, \n",
    "                            concatenate_rod_properties_from_rod_segments, \n",
    "                            compute_min_distance_rigid_transformation)\n",
    "from ribbon_linkage_helper import (update_rest_curvature, \n",
    "                                   set_ribbon_linkage,\n",
    "                                   export_linkage_geometry_to_obj,\n",
    "                                   write_linkage_ribbon_output_florin)\n",
    "from compute_curve_from_curvature import (match_geo_curvature_and_edge_len, get_all_curve_pattern)\n",
    "from linkage_utils import order_segments_by_ribbons, get_turning_angle_and_length_from_ordered_rods\n",
    "\n",
    "from pipeline_helper import (initialize_linkage, get_normal_deviation, set_joint_vector_field, stage_1_optimization, initialize_stage_2_optimizer, stage_2_optimization, InputOrganizer, write_all_output, set_surface_view_options, get_structure_analysis_view, get_double_side_view, show_selected_joints)\n",
    "import vis.fields\n",
    "import matplotlib.cm as cm\n",
    "import time"
   ]
  },
  {
   "cell_type": "code",
   "execution_count": 3,
   "metadata": {},
   "outputs": [
    {
     "name": "stdout",
     "output_type": "stream",
     "text": [
      "0.058550199777613166 0.004098513984432921\n"
     ]
    }
   ],
   "source": [
    "rod_length = 0.1756505993328395\n",
    "width = rod_length / 15 * 5\n",
    "thickness = width / 5 * 0.35\n",
    "print(width, thickness)\n",
    "io = InputOrganizer('regular_torus_1', thickness, width, weaving_dir)\n"
   ]
  },
  {
   "cell_type": "code",
   "execution_count": 4,
   "metadata": {},
   "outputs": [],
   "source": [
    "OPTS = elastic_rods.NewtonOptimizerOptions()\n",
    "OPTS.gradTol = 1e-6\n",
    "OPTS.verbose = 1;\n",
    "OPTS.beta = 1e-8\n",
    "OPTS.niter = 200\n",
    "OPTS.verboseNonPosDef = False\n",
    "rw = 0.01\n",
    "sw = 0.01"
   ]
  },
  {
   "cell_type": "code",
   "execution_count": 27,
   "metadata": {},
   "outputs": [
    {
     "data": {
      "application/vnd.jupyter.widget-view+json": {
       "model_id": "8519d2d6bcd44ce2b36c52cdd2c26ed6",
       "version_major": 2,
       "version_minor": 0
      },
      "text/plain": [
       "Renderer(camera=PerspectiveCamera(aspect=1.6, children=(PointLight(color='white', intensity=0.6, position=(0.0…"
      ]
     },
     "metadata": {},
     "output_type": "display_data"
    }
   ],
   "source": [
    "with so(): curved_linkage = initialize_linkage(surface_path = io.SURFACE_PATH, useCenterline = True, model_path = io.MODEL_PATH, cross_section = io.RIBBON_CS, subdivision_res = io.SUBDIVISION_RESOLUTION)\n",
    "curved_linkage.set_design_parameter_config(use_restLen = True, use_restKappa = True)\n",
    "curved_save_tgt_joint_pos = curved_linkage.jointPositions();\n",
    "curved_linkage_view = get_double_side_view(curved_linkage, flip = False)\n",
    "curved_linkage_view.show()"
   ]
  },
  {
   "cell_type": "code",
   "execution_count": 28,
   "metadata": {},
   "outputs": [],
   "source": [
    "curved_linkage.setExtendedDoFsPSRL(np.load('regular_torus_1_dof.npy'))"
   ]
  },
  {
   "cell_type": "code",
   "execution_count": 32,
   "metadata": {},
   "outputs": [],
   "source": [
    "topColor =[180/255., 158/255., 119/255.]\n",
    "bottomColor =[79/255., 158/255., 246/255.]\n",
    "heights = curved_linkage.visualizationGeometryHeightColors()\n",
    "colors = np.take(np.array([bottomColor, topColor]), heights < heights.mean(), axis=0)"
   ]
  },
  {
   "cell_type": "code",
   "execution_count": 33,
   "metadata": {},
   "outputs": [],
   "source": [
    "def eqm_callback(prob, i):\n",
    "    curved_linkage_view.update(scalarField = colors)"
   ]
  },
  {
   "cell_type": "code",
   "execution_count": 34,
   "metadata": {},
   "outputs": [
    {
     "name": "stdout",
     "output_type": "stream",
     "text": [
      "0\t0.000293511\t9.79921e-08\t9.79921e-08\t0\t0\n"
     ]
    },
    {
     "data": {
      "text/plain": [
       "<elastic_rods.ConvergenceReport at 0x129329f30>"
      ]
     },
     "execution_count": 34,
     "metadata": {},
     "output_type": "execute_result"
    }
   ],
   "source": [
    "elastic_rods.compute_equilibrium(curved_linkage, callback = eqm_callback, options = OPTS)"
   ]
  },
  {
   "cell_type": "code",
   "execution_count": 39,
   "metadata": {},
   "outputs": [],
   "source": [
    "def visualize_crossing(index, linkage, view):\n",
    "    vf = show_selected_joints(linkage, [index])\n",
    "    view.update(vectorField = vf, scalarField = colors)"
   ]
  },
  {
   "cell_type": "code",
   "execution_count": 40,
   "metadata": {},
   "outputs": [],
   "source": [
    "ribbons = order_segments_by_ribbons(curved_linkage)\n",
    "_, _, _, _, all_joint_index, _ = get_turning_angle_and_length_from_ordered_rods(ribbons, curved_linkage, rest = True)\n",
    "all_joint_index_list = [j_list + [j_list[0]] for j_list in all_joint_index]\n",
    "\n",
    "def get_ribbon_crossing_list(index, linkage, view):\n",
    "    selected_list = []\n",
    "    selected_ribbon = []\n",
    "    for ribbon_index, index_list in enumerate(all_joint_index_list):\n",
    "        if index in set(index_list):\n",
    "            selected_ribbon.append(ribbon_index)\n",
    "            selected_list.append(index_list)\n",
    "    print(\"The crossing {} belongs to ribbon {}\".format(index, ', '.join([str(x) for x in selected_ribbon])))\n",
    "    for i in range(len(selected_list)):\n",
    "        print('Ribbon {}: {}'.format(selected_ribbon[i], selected_list[i]))"
   ]
  },
  {
   "cell_type": "code",
   "execution_count": 41,
   "metadata": {},
   "outputs": [
    {
     "name": "stdout",
     "output_type": "stream",
     "text": [
      "The crossing 0 belongs to ribbon 0, 2\n",
      "Ribbon 0: [0, 1, 155, 175, 174, 186, 202, 204, 206, 210, 209, 224, 221, 38, 37, 45, 56, 60, 81, 85, 94, 100, 120, 145, 144, 142, 140, 4, 3, 26, 179, 180, 182, 183, 197, 198, 215, 216, 219, 223, 222, 43, 42, 50, 59, 65, 84, 99, 98, 97, 147, 148, 150, 141, 125, 28, 21, 22, 172, 173, 162, 171, 194, 195, 218, 227, 226, 236, 237, 48, 47, 64, 63, 62, 103, 104, 106, 107, 111, 112, 128, 123, 122, 24, 16, 17, 166, 164, 167, 168, 191, 192, 230, 231, 234, 241, 240, 251, 250, 68, 69, 70, 75, 76, 88, 89, 110, 115, 127, 130, 129, 19, 11, 12, 160, 161, 151, 159, 187, 188, 233, 238, 244, 245, 247, 248, 34, 35, 53, 54, 74, 79, 87, 92, 114, 118, 132, 134, 133, 14, 6, 7, 156, 153, 157, 176, 190, 203, 200, 208, 211, 212, 225, 32, 31, 40, 52, 57, 78, 82, 91, 95, 117, 121, 136, 138, 137, 9, 0]\n",
      "Ribbon 2: [2, 3, 29, 125, 124, 128, 109, 110, 86, 87, 77, 78, 55, 56, 41, 42, 49, 237, 235, 234, 232, 233, 189, 190, 177, 174, 178, 179, 27, 21, 25, 122, 126, 127, 113, 114, 90, 91, 80, 81, 58, 59, 46, 47, 242, 240, 243, 244, 239, 200, 201, 202, 185, 182, 181, 172, 23, 16, 20, 129, 131, 132, 116, 117, 93, 94, 83, 84, 66, 63, 67, 250, 249, 247, 246, 211, 207, 206, 205, 197, 184, 162, 163, 166, 18, 11, 15, 133, 135, 136, 119, 120, 101, 98, 102, 103, 61, 69, 72, 34, 33, 225, 213, 209, 214, 215, 199, 194, 170, 167, 165, 160, 13, 6, 10, 137, 143, 144, 146, 147, 96, 106, 105, 75, 71, 53, 30, 31, 39, 221, 220, 219, 217, 218, 196, 191, 169, 151, 152, 156, 8, 0, 5, 140, 139, 150, 149, 111, 108, 88, 73, 74, 51, 52, 36, 37, 44, 222, 228, 226, 229, 230, 193, 187, 158, 157, 154, 155, 2]\n"
     ]
    }
   ],
   "source": [
    "def select_crossing(crossing_index):\n",
    "    visualize_crossing(crossing_index, curved_linkage, curved_linkage_view)\n",
    "    get_ribbon_crossing_list(crossing_index, curved_linkage, curved_linkage_view)\n",
    "select_crossing(0)"
   ]
  },
  {
   "cell_type": "code",
   "execution_count": null,
   "metadata": {},
   "outputs": [],
   "source": []
  }
 ],
 "metadata": {
  "kernelspec": {
   "display_name": "Python 3",
   "language": "python",
   "name": "python3"
  },
  "language_info": {
   "codemirror_mode": {
    "name": "ipython",
    "version": 3
   },
   "file_extension": ".py",
   "mimetype": "text/x-python",
   "name": "python",
   "nbconvert_exporter": "python",
   "pygments_lexer": "ipython3",
   "version": "3.7.5"
  }
 },
 "nbformat": 4,
 "nbformat_minor": 4
}
