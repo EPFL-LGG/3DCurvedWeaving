{
 "cells": [
  {
   "cell_type": "code",
   "execution_count": null,
   "metadata": {},
   "outputs": [],
   "source": [
    "elastic_rods_dir = '../../../elastic_rods/python/'\n",
    "weaving_dir = '../../'\n",
    "import os\n",
    "import os.path as osp\n",
    "import sys; sys.path.append(elastic_rods_dir); sys.path.append(weaving_dir)\n",
    "import numpy as np, elastic_rods, linkage_vis\n",
    "import numpy.linalg as la\n",
    "from bending_validation import suppress_stdout as so\n",
    "import matplotlib.pyplot as plt\n",
    "from elastic_rods import EnergyType, InterleavingType\n",
    "\n",
    "# weaving\n",
    "import analysis_helper, ribbon_linkage_helper, mesh_vis, linkage_utils, compute_curve_from_curvature, importlib\n",
    "importlib.reload(analysis_helper)\n",
    "importlib.reload(ribbon_linkage_helper)\n",
    "importlib.reload(mesh_vis)\n",
    "importlib.reload(linkage_utils)\n",
    "importlib.reload(compute_curve_from_curvature)\n",
    "from analysis_helper import (compare_turning_angle,\n",
    "                            is_on_sphere, \n",
    "                            get_distance_to_center_scalar_field, \n",
    "                            plot_curvatures, \n",
    "                            get_curvature_scalar_field,\n",
    "                            construct_elastic_rod_loop_from_rod_segments, \n",
    "                            concatenate_rod_properties_from_rod_segments, \n",
    "                            compute_min_distance_rigid_transformation)\n",
    "from ribbon_linkage_helper import (update_rest_curvature, \n",
    "                                   set_ribbon_linkage,\n",
    "                                   export_linkage_geometry_to_obj,\n",
    "                                   write_linkage_ribbon_output_florin)\n",
    "\n",
    "from compute_curve_from_curvature import (match_geo_curvature_and_edge_len, get_all_curve_pattern)\n",
    "from linkage_utils import order_segments_by_ribbons, get_turning_angle_and_length_from_ordered_rods\n",
    "\n",
    "\n",
    "import vis.fields\n",
    "import matplotlib.cm as cm\n",
    "import time"
   ]
  },
  {
   "cell_type": "code",
   "execution_count": null,
   "metadata": {},
   "outputs": [],
   "source": [
    "# Set to True in the options below if you already optimized a specific linkage\n",
    "# and you would like to reuse the optimized linkage. Loading is performed in\n",
    "# place of the full design optimization.\n",
    "# NOTE: Doesn't seem to work at the moment, leave at False\n",
    "LOAD_OPTIMIZED_DOFS = False\n",
    "\n",
    "# Set to False if strips cannot be labeled into families for a model\n",
    "USE_FAMILY_LABEL = False"
   ]
  },
  {
   "cell_type": "code",
   "execution_count": null,
   "metadata": {},
   "outputs": [],
   "source": [
    "# # Heart Coarse 1\n",
    "# default_camera_parameters = ((3.466009282140468, -4.674139805388271, -2.556131049738206), (-0.21402574298422497, -0.06407538766530313, -0.9747681088523519),(0.1111, 0.1865, 0.5316))\n",
    "# RIBBON_CS = [1/150, 1/15]\n",
    "# MODEL_NAME = \"heart_coarse_1\"\n",
    "# MODEL_PATH = osp.join(weaving_dir + 'scaled_objs/models/{}.obj'.format(MODEL_NAME))\n",
    "# SUBDIVISION_RESOLUTION = 20\n",
    "# SMOOTHING_WEIGHT = 10\n",
    "# REGULARIZATION_WEIGHT = 1\n",
    "# INPUT_SURFACE_PATH = osp.join(weaving_dir + 'scaled_objs/surface_models/{}.obj'.format(MODEL_NAME))\n",
    "# RIBBON_NAME = \"heart_coarse_1_strip\""
   ]
  },
  {
   "cell_type": "code",
   "execution_count": null,
   "metadata": {},
   "outputs": [],
   "source": [
    "# Regular Torus 1\n",
    "default_camera_parameters = ((3.466009282140468, -4.674139805388271, -2.556131049738206), (-0.21402574298422497, -0.06407538766530313, -0.9747681088523519),(0.1111, 0.1865, 0.5316))\n",
    "RIBBON_CS = [1/200, 1/20]\n",
    "MODEL_NAME = \"regular_torus_1\"\n",
    "MODEL_PATH = osp.join(weaving_dir + 'normalized_objs/models/{}.obj'.format(MODEL_NAME))\n",
    "SUBDIVISION_RESOLUTION = 20\n",
    "SMOOTHING_WEIGHT = 10\n",
    "REGULARIZATION_WEIGHT = 0\n",
    "INPUT_SURFACE_PATH = osp.join(weaving_dir + 'normalized_objs/surface_models/{}.obj'.format(MODEL_NAME))\n",
    "RIBBON_NAME = \"{}_strip\".format(MODEL_NAME)"
   ]
  },
  {
   "cell_type": "code",
   "execution_count": null,
   "metadata": {},
   "outputs": [],
   "source": [
    "def initialize_linkage(surface_path = INPUT_SURFACE_PATH, useCenterline = True, cross_section = RIBBON_CS, subdivision_res = SUBDIVISION_RESOLUTION, model_path = MODEL_PATH):\n",
    "    l = elastic_rods.SurfaceAttractedLinkage(surface_path, useCenterline, model_path, subdivision_res, False, InterleavingType.triaxialWeave)\n",
    "    l.setMaterial(elastic_rods.RodMaterial('rectangle', 2000, 0.3, cross_section, stiffAxis=elastic_rods.StiffAxis.D1))\n",
    "    l.set_holdClosestPointsFixed(True);\n",
    "    l.set_attraction_tgt_joint_weight(0.01);\n",
    "    l.attraction_weight = 100;\n",
    "    return l"
   ]
  },
  {
   "cell_type": "code",
   "execution_count": null,
   "metadata": {},
   "outputs": [],
   "source": [
    "def get_linkage_eqm(l, opt, cam_param = default_camera_parameters, target_surf = None):\n",
    "    elastic_rods.compute_equilibrium(l, options = opt)\n",
    "    if (target_surf is None):\n",
    "        view = linkage_vis.LinkageViewer(l, width=1024, height=640)\n",
    "    else:\n",
    "        view = linkage_vis.LinkageViewerWithSurface(l, target_surf, width=1024, height=640)\n",
    "    view.setCameraParams(cam_param)\n",
    "    return l, view"
   ]
  },
  {
   "cell_type": "code",
   "execution_count": null,
   "metadata": {},
   "outputs": [],
   "source": [
    "OPTS = elastic_rods.NewtonOptimizerOptions()\n",
    "OPTS.gradTol = 1e-6\n",
    "OPTS.verbose = 10;\n",
    "OPTS.beta = 1e-8\n",
    "OPTS.niter = 100\n",
    "OPTS.verboseNonPosDef = False"
   ]
  },
  {
   "cell_type": "code",
   "execution_count": null,
   "metadata": {},
   "outputs": [],
   "source": [
    "rw = 0.001\n",
    "sw = 0.001"
   ]
  },
  {
   "cell_type": "markdown",
   "metadata": {},
   "source": [
    "# Straight Ribbon Optimization"
   ]
  },
  {
   "cell_type": "code",
   "execution_count": null,
   "metadata": {},
   "outputs": [],
   "source": [
    "with so(): straight_linkage = initialize_linkage(surface_path = INPUT_SURFACE_PATH, useCenterline = True, model_path = MODEL_PATH, cross_section = RIBBON_CS, subdivision_res = SUBDIVISION_RESOLUTION)\n",
    "straight_linkage.set_design_parameter_config(use_restLen = True, use_restKappa = False)\n",
    "straight_save_tgt_joint_pos = straight_linkage.jointPositions();\n",
    "straight_linkage_view = linkage_vis.LinkageViewer(straight_linkage)\n",
    "straight_linkage_view.show()"
   ]
  },
  {
   "cell_type": "markdown",
   "metadata": {},
   "source": [
    "### Figure 3C bottom"
   ]
  },
  {
   "cell_type": "code",
   "execution_count": null,
   "metadata": {},
   "outputs": [],
   "source": [
    "# Need a function to write out the save_tgt_joint_pos"
   ]
  },
  {
   "cell_type": "code",
   "execution_count": null,
   "metadata": {},
   "outputs": [],
   "source": [
    "def straight_callback(prob, i):\n",
    "    if (i % 20) != 0: return\n",
    "    straight_linkage_view.update()"
   ]
  },
  {
   "cell_type": "code",
   "execution_count": null,
   "metadata": {},
   "outputs": [],
   "source": [
    "straight_dpo = elastic_rods.get_designParameter_optimizer(straight_linkage, rw, sw, callback=straight_callback)\n",
    "straight_dpo.options.niter = 200\n",
    "straight_dpp = straight_dpo.get_problem()"
   ]
  },
  {
   "cell_type": "code",
   "execution_count": null,
   "metadata": {},
   "outputs": [],
   "source": [
    "with so(): straight_cr = straight_dpo.optimize()"
   ]
  },
  {
   "cell_type": "code",
   "execution_count": null,
   "metadata": {},
   "outputs": [],
   "source": [
    "with so(): elastic_rods.compute_equilibrium(straight_linkage, options = OPTS)\n",
    "straight_linkage_view.update()"
   ]
  },
  {
   "cell_type": "code",
   "execution_count": null,
   "metadata": {},
   "outputs": [],
   "source": [
    "OPTS.niter = 200\n",
    "useCenterline = True\n",
    "straight_optimizer = elastic_rods.WeavingOptimization(straight_linkage, INPUT_SURFACE_PATH, useCenterline, equilibrium_options=OPTS, pinJoint = 0, useFixedJoint = False)\n",
    "straight_optimizer.set_target_joint_position(straight_save_tgt_joint_pos)\n",
    "straight_linkage_view.update()"
   ]
  },
  {
   "cell_type": "code",
   "execution_count": null,
   "metadata": {},
   "outputs": [],
   "source": [
    "straight_optimizer.rl_regularization_weight = 0\n",
    "straight_optimizer.smoothing_weight = 0\n",
    "straight_optimizer.beta = 500000.0\n",
    "straight_optimizer.gamma = 1\n",
    "algorithm = elastic_rods.WeavingOptAlgorithm.NEWTON_CG\n",
    "def straight_update_viewer():\n",
    "    straight_linkage_view.update()"
   ]
  },
  {
   "cell_type": "code",
   "execution_count": null,
   "metadata": {},
   "outputs": [],
   "source": [
    "straight_optimizer.WeavingOptimize(algorithm, 2000, 1.0, 1e-2, straight_update_viewer)"
   ]
  },
  {
   "cell_type": "code",
   "execution_count": null,
   "metadata": {},
   "outputs": [],
   "source": [
    "# straight_optimizer.setLinkageAttractionWeight(1)\n",
    "# straight_optimizer.set_holdClosestPointsFixed(False)"
   ]
  },
  {
   "cell_type": "code",
   "execution_count": null,
   "metadata": {},
   "outputs": [],
   "source": [
    "# straight_optimizer.WeavingOptimize(algorithm, 2000, 1.0, 1e-2, straight_update_viewer)"
   ]
  },
  {
   "cell_type": "code",
   "execution_count": null,
   "metadata": {},
   "outputs": [],
   "source": [
    "straight_optimizer_energy = straight_linkage.energy()"
   ]
  },
  {
   "cell_type": "code",
   "execution_count": null,
   "metadata": {},
   "outputs": [],
   "source": [
    "validation_straight_linkage = straight_optimizer.getLinesearchWeaverLinkage()"
   ]
  },
  {
   "cell_type": "code",
   "execution_count": null,
   "metadata": {},
   "outputs": [],
   "source": [
    "validation_straight_linkage.attraction_weight = 1e-7\n",
    "with so(): elastic_rods.compute_equilibrium(validation_straight_linkage, options = OPTS)\n",
    "validation_straight_view = linkage_vis.LinkageViewer(validation_straight_linkage, width=1024, height=640)"
   ]
  },
  {
   "cell_type": "code",
   "execution_count": null,
   "metadata": {},
   "outputs": [],
   "source": [
    "validation_straight_energy = validation_straight_linkage.energy()"
   ]
  },
  {
   "cell_type": "code",
   "execution_count": null,
   "metadata": {},
   "outputs": [],
   "source": [
    "print(abs((validation_straight_energy-straight_optimizer_energy)/straight_optimizer_energy))"
   ]
  },
  {
   "cell_type": "code",
   "execution_count": null,
   "metadata": {},
   "outputs": [],
   "source": [
    "validation_straight_view.show()"
   ]
  },
  {
   "cell_type": "markdown",
   "metadata": {},
   "source": [
    "### Figure 3B Top"
   ]
  },
  {
   "cell_type": "code",
   "execution_count": null,
   "metadata": {},
   "outputs": [],
   "source": [
    "straight_ribbons = order_segments_by_ribbons(validation_straight_linkage)\n",
    "write_linkage_ribbon_output_florin(validation_straight_linkage, straight_ribbons, SUBDIVISION_RESOLUTION, 'nature_figure3_straight_linkage', True)"
   ]
  },
  {
   "cell_type": "markdown",
   "metadata": {},
   "source": [
    "### Figure 3B Bottom"
   ]
  },
  {
   "cell_type": "code",
   "execution_count": null,
   "metadata": {},
   "outputs": [],
   "source": [
    "straight_distance_to_surface = np.array(validation_straight_linkage.get_squared_distance_to_target_surface((validation_straight_linkage.visualizationGeometry()[0]).flatten()))\n",
    "straight_distance_to_surface = np.sqrt(straight_distance_to_surface)\n",
    "ribbon_distance_scale = 0.66/np.max(straight_distance_to_surface)\n",
    "print(ribbon_distance_scale)\n",
    "straight_distance_to_surface *= 0.66/np.max(straight_distance_to_surface)  \n",
    "export_linkage_geometry_to_obj(validation_straight_linkage, 'nature_figure3_straight_linkage.obj', straight_distance_to_surface)"
   ]
  },
  {
   "cell_type": "code",
   "execution_count": null,
   "metadata": {},
   "outputs": [],
   "source": [
    "straight_distance_to_surface = np.array(validation_straight_linkage.get_squared_distance_to_target_surface((validation_straight_linkage.visualizationGeometry()[0]).flatten()))\n",
    "straight_distance_to_surface = np.sqrt(straight_distance_to_surface)\n",
    "print(np.max(straight_distance_to_surface))"
   ]
  },
  {
   "cell_type": "markdown",
   "metadata": {},
   "source": [
    "# Curved Ribbon Optimization"
   ]
  },
  {
   "cell_type": "code",
   "execution_count": null,
   "metadata": {},
   "outputs": [],
   "source": [
    "def get_average_distance_to_target_surface(linkage):\n",
    "    distance_to_surface = np.array(linkage.get_squared_distance_to_target_surface((linkage.visualizationGeometry()[0]).flatten()))\n",
    "    distance_to_surface = np.sqrt(distance_to_surface)\n",
    "    return np.sum(distance_to_surface)/len(distance_to_surface)\n",
    "def get_average_distance_to_target_joint(linkage):\n",
    "    jointPosDiff = linkage.jointPositions() - curved_save_tgt_joint_pos\n",
    "    distances = [la.norm(jointPosDiff[3*x:3*(x+1)]) for x in range(linkage.numJoints())]\n",
    "    return np.sum(distances)/linkage.numJoints()"
   ]
  },
  {
   "cell_type": "code",
   "execution_count": null,
   "metadata": {},
   "outputs": [],
   "source": [
    "with so(): initial_linkage = initialize_linkage(surface_path = INPUT_SURFACE_PATH, useCenterline = True, model_path = MODEL_PATH, cross_section = RIBBON_CS, subdivision_res = SUBDIVISION_RESOLUTION)\n",
    "with so(): elastic_rods.compute_equilibrium(initial_linkage, options = OPTS)\n",
    "initial_energy = initial_linkage.energy(energyType=elastic_rods.SurfaceAttractionEnergyType.Elastic)\n",
    "initial_rest_length = initial_linkage.totalRestLength()"
   ]
  },
  {
   "cell_type": "code",
   "execution_count": null,
   "metadata": {},
   "outputs": [],
   "source": [
    "print(initial_energy, initial_rest_length)"
   ]
  },
  {
   "cell_type": "code",
   "execution_count": null,
   "metadata": {},
   "outputs": [],
   "source": [
    "with so(): curved_linkage = initialize_linkage(surface_path = INPUT_SURFACE_PATH, useCenterline = True, model_path = MODEL_PATH, cross_section = RIBBON_CS, subdivision_res = SUBDIVISION_RESOLUTION)\n",
    "curved_linkage.set_design_parameter_config(use_restLen = True, use_restKappa = True)\n",
    "curved_save_tgt_joint_pos = curved_linkage.jointPositions();\n",
    "curved_linkage_view = linkage_vis.LinkageViewer(curved_linkage)\n",
    "curved_linkage_view.show()"
   ]
  },
  {
   "cell_type": "code",
   "execution_count": null,
   "metadata": {},
   "outputs": [],
   "source": [
    "iterateData = []\n",
    "!mkdir -p nature_figure3_dps_iterates\n",
    "!rm -f dps_iterates/*.msh dps_iterates/*.png\n",
    "prev_vars = curved_linkage.getExtendedDoFsPSRL()\n",
    "prev_time_stamp = 0\n",
    "def curved_callback(prob, i):\n",
    "    global prev_vars\n",
    "    global prev_time_stamp\n",
    "    curr_vars = curved_linkage.getExtendedDoFsPSRL()\n",
    "    iterateData.append([prob.restKappaSmoothness(),\n",
    "                        curved_linkage.totalRestLength(),\n",
    "                        curved_linkage.designParameterSolve_energy(),\n",
    "                        get_average_distance_to_target_surface(curved_linkage),\n",
    "                        get_average_distance_to_target_joint(curved_linkage),\n",
    "                        time.time() - prev_time_stamp,\n",
    "                        np.linalg.norm(curr_vars - prev_vars), \n",
    "                        prob.weighted_energy(),\n",
    "                        prob.weighted_smoothness(),\n",
    "                        prob.weighted_length(),\n",
    "                        curr_vars])\n",
    "    prev_time_stamp = time.time()\n",
    "    prev_vars[:] = curr_vars\n",
    "    if (i % 20) != 0: return\n",
    "    curved_linkage_view.update()"
   ]
  },
  {
   "cell_type": "code",
   "execution_count": null,
   "metadata": {},
   "outputs": [],
   "source": [
    "# iterateData = []\n",
    "# iterateSegmentRL = []\n",
    "# iterateEdgeRL = []\n",
    "# !mkdir -p dps_iterates\n",
    "# !rm -f dps_iterates/*.msh dps_iterates/*.png\n",
    "# prev_vars = curved_linkage.getExtendedDoFsPSRL()\n",
    "# def curved_callback(prob, i):\n",
    "#     global prev_vars\n",
    "#     curr_vars = curved_linkage.getExtendedDoFsPSRL()\n",
    "#     curved_linkage.saveVisualizationGeometry(f'dps_iterates/it_{i}.msh', averagedMaterialFrames=True, averagedCrossSections=True)\n",
    "#     iterateSegmentRL.append(curved_linkage.getPerSegmentRestLength())\n",
    "#     iterateEdgeRL.append(np.array([s.rod.restLengths() for s in curved_linkage.segments()]).ravel())\n",
    "#     iterateData.append([prob.restKappaSmoothness(),\n",
    "#                         curved_linkage.totalRestLength(),\n",
    "#                         curved_linkage.designParameterSolve_energy(),\n",
    "#                         np.linalg.norm(curr_vars - prev_vars)])\n",
    "#     prev_vars[:] = curr_vars\n",
    "#     if (i % 20) != 0: return\n",
    "#     curved_linkage_view.update()"
   ]
  },
  {
   "cell_type": "code",
   "execution_count": null,
   "metadata": {},
   "outputs": [],
   "source": [
    "curved_dpo = elastic_rods.get_designParameter_optimizer(curved_linkage, rw, sw, callback=curved_callback)\n",
    "curved_dpo.options.niter = 200\n",
    "curved_dpp = curved_dpo.get_problem()"
   ]
  },
  {
   "cell_type": "code",
   "execution_count": null,
   "metadata": {},
   "outputs": [],
   "source": [
    "prev_time_stamp = time.time()\n",
    "with so(): curved_cr = curved_dpo.optimize()"
   ]
  },
  {
   "cell_type": "code",
   "execution_count": null,
   "metadata": {},
   "outputs": [],
   "source": [
    "total_time = 0\n",
    "for data in iterateData:\n",
    "    total_time += (data[5])\n",
    "print(total_time)"
   ]
  },
  {
   "cell_type": "code",
   "execution_count": null,
   "metadata": {},
   "outputs": [],
   "source": [
    "# Visualization of iterate geometry and statistics\n",
    "import PIL\n",
    "iterateData = np.array(iterateData)\n",
    "def concat_v(im1, im2):\n",
    "    dst = PIL.Image.new('RGB', (im1.width, im1.height + im2.height), color=(255, 255, 255))\n",
    "    dst.paste(im1, (0, 0), im1)\n",
    "    dst.paste(im2, (0, im1.height))\n",
    "    return dst\n",
    "def drawPlot(it):\n",
    "    fig = plt.figure(figsize=(16, 8))\n",
    "    gs = plt.GridSpec(2, 10, figure=fig)\n",
    "    def plot(num, title):\n",
    "        fig.add_subplot(gs[0, num])\n",
    "        plt.title(title)\n",
    "        plt.grid()\n",
    "        plt.plot(iterateData[:, num])\n",
    "        plt.scatter([it], [iterateData[it, num]])\n",
    "    plot(0, 'smoothing term')\n",
    "    plot(1, 'total length')\n",
    "    plot(2, 'elastic energy')\n",
    "    plot(3, 'dis to target surface')\n",
    "    plot(4, 'dis to target joint')\n",
    "    plot(5, 'step length')\n",
    "    plot(7, 'weighted elastic')\n",
    "    plot(8, 'weighted smooth')\n",
    "    plot(9, 'weighted length')\n",
    "    \n",
    "def drawFrame(it):\n",
    "    drawPlot(it)\n",
    "    plt.savefig('plot.png', dpi=100)\n",
    "    plt.close()\n",
    "    !gmsh_offscreen -n dps_iterates/it_{it + 1}.msh misc/render.opt -o out.png > /dev/null 2> /dev/null\n",
    "    return PIL.Image.open('plot.png')"
   ]
  },
  {
   "cell_type": "code",
   "execution_count": null,
   "metadata": {},
   "outputs": [],
   "source": [
    "drawFrame(curved_cr.numIters())"
   ]
  },
  {
   "cell_type": "code",
   "execution_count": null,
   "metadata": {},
   "outputs": [],
   "source": [
    "with so(): elastic_rods.compute_equilibrium(curved_linkage, options = OPTS)\n",
    "curved_linkage_view.update()"
   ]
  },
  {
   "cell_type": "code",
   "execution_count": null,
   "metadata": {},
   "outputs": [],
   "source": [
    "import linkage_optimization"
   ]
  },
  {
   "cell_type": "code",
   "execution_count": null,
   "metadata": {},
   "outputs": [],
   "source": [
    "OPTS.niter = 200\n",
    "useCenterline = True\n",
    "curved_optimizer = linkage_optimization.WeavingOptimization(curved_linkage, INPUT_SURFACE_PATH, useCenterline, equilibrium_options=OPTS, pinJoint = 0, useFixedJoint = False)\n",
    "curved_optimizer.set_target_joint_position(curved_save_tgt_joint_pos)\n",
    "curved_linkage_view.update()"
   ]
  },
  {
   "cell_type": "code",
   "execution_count": null,
   "metadata": {},
   "outputs": [],
   "source": [
    "curved_optimizer.rl_regularization_weight = 1\n",
    "curved_optimizer.smoothing_weight = 10\n",
    "curved_optimizer.beta = 500000.0\n",
    "curved_optimizer.gamma = 1"
   ]
  },
  {
   "cell_type": "code",
   "execution_count": null,
   "metadata": {},
   "outputs": [],
   "source": [
    "algorithm = linkage_optimization.WeavingOptAlgorithm.NEWTON_CG\n",
    "opt_iterateData = []\n",
    "prev_vars = curved_linkage.getExtendedDoFsPSRL()\n",
    "prev_time_stamp = 0\n",
    "def curved_update_viewer():\n",
    "    global prev_vars\n",
    "    global prev_time_stamp\n",
    "    curr_vars = curved_linkage.getExtendedDoFsPSRL()\n",
    "    opt_iterateData.append([curved_optimizer.restKappaSmoothness(), \n",
    "                            curved_linkage.totalRestLength(),\n",
    "                            curved_linkage.energy(energyType=elastic_rods.SurfaceAttractionEnergyType.Elastic),\n",
    "                            get_average_distance_to_target_surface(curved_linkage),\n",
    "                            get_average_distance_to_target_joint(curved_linkage),\n",
    "                            time.time() - prev_time_stamp,\n",
    "                            np.linalg.norm(curr_vars - prev_vars), \n",
    "                            curved_optimizer.objective.terms[0].term.value(),\n",
    "                            curved_optimizer.objective.terms[1].term.value(),\n",
    "                            curved_optimizer.objective.terms[2].term.value(),\n",
    "                            curved_optimizer.objective.terms[3].term.value(),\n",
    "                            curr_vars])\n",
    "    prev_time_stamp = time.time()\n",
    "    prev_vars[:] = curr_vars\n",
    "    curved_linkage_view.update()"
   ]
  },
  {
   "cell_type": "code",
   "execution_count": null,
   "metadata": {},
   "outputs": [],
   "source": [
    "curved_optimizer.objective.terms[1].term.value"
   ]
  },
  {
   "cell_type": "code",
   "execution_count": null,
   "metadata": {},
   "outputs": [],
   "source": [
    "prev_time_stamp = time.time()\n",
    "curved_optimizer.WeavingOptimize(algorithm, 2000, 1.0, 1e-2, curved_update_viewer)"
   ]
  },
  {
   "cell_type": "code",
   "execution_count": null,
   "metadata": {},
   "outputs": [],
   "source": [
    "curved_optimizer.setLinkageAttractionWeight(1e-5)\n",
    "curved_optimizer.set_holdClosestPointsFixed(False)"
   ]
  },
  {
   "cell_type": "code",
   "execution_count": null,
   "metadata": {},
   "outputs": [],
   "source": [
    "prev_time_stamp = time.time()\n",
    "curved_optimizer.WeavingOptimize(algorithm, 2000, 1.0, 1e-2, curved_update_viewer)"
   ]
  },
  {
   "cell_type": "code",
   "execution_count": null,
   "metadata": {},
   "outputs": [],
   "source": [
    "print(len(opt_iterateData))"
   ]
  },
  {
   "cell_type": "code",
   "execution_count": null,
   "metadata": {},
   "outputs": [],
   "source": [
    "curved_optimizer_energy = curved_linkage.energy()\n",
    "validation_curved_linkage = curved_optimizer.getLinesearchWeaverLinkage()\n",
    "validation_curved_linkage.attraction_weight = 1e-7\n",
    "with so(): elastic_rods.compute_equilibrium(validation_curved_linkage, options = OPTS)\n",
    "validation_curved_view = linkage_vis.LinkageViewer(validation_curved_linkage, width=1024, height=640)\n",
    "validation_curved_energy = validation_curved_linkage.energy()\n",
    "print(abs((validation_curved_energy-curved_optimizer_energy)/curved_optimizer_energy))"
   ]
  },
  {
   "cell_type": "code",
   "execution_count": null,
   "metadata": {},
   "outputs": [],
   "source": [
    "if not os.path.exists(RIBBON_NAME):\n",
    "    os.makedirs(RIBBON_NAME)\n",
    "get_all_curve_pattern(validation_curved_linkage, RIBBON_CS[1], SUBDIVISION_RESOLUTION, RIBBON_NAME, image_type='svg')"
   ]
  },
  {
   "cell_type": "markdown",
   "metadata": {},
   "source": [
    "### Figure 3C Top"
   ]
  },
  {
   "cell_type": "code",
   "execution_count": null,
   "metadata": {},
   "outputs": [],
   "source": [
    "curved_ribbons = order_segments_by_ribbons(curved_linkage)\n",
    "write_linkage_ribbon_output_florin(curved_linkage, curved_ribbons, SUBDIVISION_RESOLUTION, 'nature_figure3_curved_linkage', True)"
   ]
  },
  {
   "cell_type": "markdown",
   "metadata": {},
   "source": [
    "### Figure 3C Bottom"
   ]
  },
  {
   "cell_type": "code",
   "execution_count": null,
   "metadata": {},
   "outputs": [],
   "source": [
    "curved_distance_to_surface = np.array(curved_linkage.get_squared_distance_to_target_surface((curved_linkage.visualizationGeometry()[0]).flatten()))\n",
    "curved_distance_to_surface = np.sqrt(curved_distance_to_surface)\n",
    "curved_distance_to_surface *= ribbon_distance_scale\n",
    "export_linkage_geometry_to_obj(curved_linkage, 'nature_figure3_curved_linkage.obj', curved_distance_to_surface)"
   ]
  },
  {
   "cell_type": "markdown",
   "metadata": {},
   "source": [
    "### Figure 3D Right"
   ]
  },
  {
   "cell_type": "code",
   "execution_count": null,
   "metadata": {},
   "outputs": [],
   "source": [
    "# ribbon_folder_name = 'nature_figure3_ribbon'\n",
    "# with so(): \n",
    "#     laser_cutting_linkage = initialize_linkage(surface_path = INPUT_SURFACE_PATH, useCenterline = True, model_path = MODEL_PATH, cross_section = RIBBON_CS, subdivision_res = SUBDIVISION_RESOLUTION)\n",
    "#     for iter_idx in range(len(iterateData)):\n",
    "#         laser_cutting_linkage.setExtendedDoFsPSRL(iterateData[iter_idx][-1])\n",
    "#         if not os.path.exists(ribbon_folder_name):\n",
    "#             os.makedirs(ribbon_folder_name)\n",
    "#         get_all_curve_pattern(laser_cutting_linkage, RIBBON_CS[1], SUBDIVISION_RESOLUTION, ribbon_folder_name, image_type='svg', iteration_index = iter_idx, select_ribbon_index = [0])\n",
    "        \n",
    "#     for iter_idx in range(len(opt_iterateData)):\n",
    "#         laser_cutting_linkage.setExtendedDoFsPSRL(opt_iterateData[iter_idx][-1])\n",
    "#         if not os.path.exists(ribbon_folder_name):\n",
    "#             os.makedirs(ribbon_folder_name)\n",
    "#         get_all_curve_pattern(laser_cutting_linkage, RIBBON_CS[1], SUBDIVISION_RESOLUTION, ribbon_folder_name, image_type='svg', iteration_index = iter_idx + len(iterateData), select_ribbon_index = [0])"
   ]
  },
  {
   "cell_type": "code",
   "execution_count": null,
   "metadata": {},
   "outputs": [],
   "source": [
    "# !ffmpeg -f image2 -framerate 10 -i nature_figure3_ribbon/0_%d.png -c:v libx264 -preset veryslow -qp 18 -pix_fmt yuv420p -y nature_figure3_ribbon/nature_figure3_ribbon.mp4 > /dev/null 2> /dev/null"
   ]
  },
  {
   "cell_type": "markdown",
   "metadata": {},
   "source": [
    "### Figure 3D Left"
   ]
  },
  {
   "cell_type": "code",
   "execution_count": null,
   "metadata": {},
   "outputs": [],
   "source": [
    "dps_energy = []\n",
    "opt_energy = []\n",
    "dps_smoothing = []\n",
    "opt_smoothing = []\n",
    "dps_rest_length = []\n",
    "opt_rest_length = []\n",
    "dps_total_absolute_curvature = []\n",
    "opt_total_absolute_curvature = []\n",
    "\n",
    "dps_distance_to_surface = []\n",
    "opt_distance_to_surface = []\n",
    "dps_distance_to_joint = []\n",
    "opt_distance_to_joint = []\n",
    "\n",
    "dps_time_stamps = []\n",
    "opt_time_stamps = []\n",
    "rk_offset = curved_linkage.numDoF()\n",
    "rl_offset = rk_offset + (curved_linkage.numRestKappaVars() if curved_linkage.get_design_parameter_config().restKappa else 0)\n",
    "\n",
    "with so(): visualization_linkage = initialize_linkage(surface_path = INPUT_SURFACE_PATH, useCenterline = True, model_path = MODEL_PATH, cross_section = RIBBON_CS, subdivision_res = SUBDIVISION_RESOLUTION)\n",
    "visualization_linkage.attraction_weight = 1e-7\n",
    "\n",
    "for iter_idx in range(len(iterateData)):\n",
    "    dps_total_absolute_curvature.append(np.sum(np.abs(iterateData[iter_idx][-1][rk_offset:rl_offset])))\n",
    "    dps_smoothing.append(iterateData[iter_idx][0])\n",
    "    dps_rest_length.append(iterateData[iter_idx][1])\n",
    "    dps_energy.append(iterateData[iter_idx][2])\n",
    "    dps_time_stamps.append(iterateData[iter_idx][5])\n",
    "\n",
    "    visualization_linkage.setExtendedDoFsPSRL(iterateData[iter_idx][-1])\n",
    "    with so(): elastic_rods.compute_equilibrium(visualization_linkage, options = OPTS)\n",
    "    dps_distance_to_surface.append(get_average_distance_to_target_surface(visualization_linkage))\n",
    "    dps_distance_to_joint.append(get_average_distance_to_target_joint(visualization_linkage))\n",
    "\n",
    "\n",
    "for iter_idx in range(len(opt_iterateData)):\n",
    "    opt_total_absolute_curvature.append(np.sum(np.abs(opt_iterateData[iter_idx][-1][rk_offset:rl_offset])))\n",
    "    opt_energy.append(opt_iterateData[iter_idx][2])\n",
    "    opt_rest_length.append(opt_iterateData[iter_idx][1])\n",
    "    opt_smoothing.append(opt_iterateData[iter_idx][0])\n",
    "    opt_time_stamps.append(opt_iterateData[iter_idx][5])\n",
    "\n",
    "    visualization_linkage.setExtendedDoFsPSRL(opt_iterateData[iter_idx][-1])\n",
    "    with so(): elastic_rods.compute_equilibrium(visualization_linkage, options = OPTS)\n",
    "    opt_distance_to_surface.append(get_average_distance_to_target_surface\n",
    "                                   \n",
    "                                   \n",
    "                                   (visualization_linkage))\n",
    "    opt_distance_to_joint.append(get_average_distance_to_target_joint(visualization_linkage))"
   ]
  },
  {
   "cell_type": "code",
   "execution_count": null,
   "metadata": {},
   "outputs": [],
   "source": [
    "dps_iteration_count = len(dps_rest_length)"
   ]
  },
  {
   "cell_type": "code",
   "execution_count": null,
   "metadata": {},
   "outputs": [],
   "source": [
    "print(dps_iteration_count)"
   ]
  },
  {
   "cell_type": "code",
   "execution_count": null,
   "metadata": {},
   "outputs": [],
   "source": [
    "dp_objective_elastic = []\n",
    "dp_objective_smooth = []\n",
    "dp_objective_length = []\n",
    "\n",
    "for iter_idx in range(len(iterateData)):\n",
    "    dp_objective_elastic.append(iterateData[iter_idx][-4])\n",
    "    dp_objective_smooth.append(iterateData[iter_idx][-3])\n",
    "    dp_objective_length.append(iterateData[iter_idx][-2])\n",
    "\n",
    "dp_total_objective =  np.array([dp_objective_elastic, dp_objective_smooth, dp_objective_length]).sum(axis=0)"
   ]
  },
  {
   "cell_type": "code",
   "execution_count": null,
   "metadata": {},
   "outputs": [],
   "source": [
    "# library\n",
    "import numpy as np\n",
    "import matplotlib.pyplot as plt\n",
    " \n",
    "fig, host = plt.subplots()\n",
    "cmap = plt.get_cmap(\"Set2\")\n",
    "colors = [cmap(3), cmap(2), cmap(1)]\n",
    "x=range(len(dp_objective_elastic))\n",
    "y=np.array([dp_objective_smooth, dp_objective_length, dp_objective_elastic])\n",
    " \n",
    "# Basic stacked area chart.\n",
    "plt.stackplot(x,y, labels=['Unsmoothness','Length','Elastic'], colors = colors)\n",
    "plt.legend(loc='upper left')\n",
    "#plt.show()\n",
    "# host.set_yscale('log')\n",
    "fig.set_size_inches(15, 10)"
   ]
  },
  {
   "cell_type": "code",
   "execution_count": null,
   "metadata": {},
   "outputs": [],
   "source": [
    "opt_objective_elastic = []\n",
    "opt_objective_target = []\n",
    "opt_objective_smooth = []\n",
    "opt_objective_length = []\n",
    "\n",
    "for iter_idx in range(len(opt_iterateData)):\n",
    "    opt_objective_elastic.append(opt_iterateData[iter_idx][-5])\n",
    "    opt_objective_target.append(opt_iterateData[iter_idx][-4])\n",
    "    opt_objective_smooth.append(opt_iterateData[iter_idx][-2])\n",
    "    opt_objective_length.append(opt_iterateData[iter_idx][-3])\n",
    "    \n",
    "opt_objective_elastic = np.array(opt_objective_elastic)\n",
    "opt_objective_target = np.array(opt_objective_target)\n",
    "opt_objective_smooth = np.array(opt_objective_smooth)\n",
    "opt_objective_length = np.array(opt_objective_length)\n",
    "total_objective =  np.array([opt_objective_elastic, opt_objective_target, opt_objective_smooth, opt_objective_length]).sum(axis=0)"
   ]
  },
  {
   "cell_type": "code",
   "execution_count": null,
   "metadata": {},
   "outputs": [],
   "source": [
    "print(total_objective)"
   ]
  },
  {
   "cell_type": "code",
   "execution_count": null,
   "metadata": {},
   "outputs": [],
   "source": [
    "# library\n",
    "import numpy as np\n",
    "import matplotlib.pyplot as plt\n",
    " \n",
    "fig, host = plt.subplots()\n",
    "x=range(len(opt_objective_elastic))\n",
    "y=np.array([opt_objective_target, opt_objective_smooth, opt_objective_length, opt_objective_elastic])\n",
    "cmap = plt.get_cmap(\"Set2\")\n",
    "colors = [cmap(1), cmap(5), cmap(3), cmap(2)]\n",
    "# Basic stacked area chart.\n",
    "plt.stackplot(x,y, labels=['A','B','C', 'D'], colors = colors)\n",
    "plt.legend(loc='upper left')\n",
    "#plt.show()\n",
    "# host.set_yscale('exp')\n",
    "print(max(total_objective), min(total_objective))\n",
    "fig.set_size_inches(15, 10)\n",
    "print(x)\n",
    "print(y)"
   ]
  },
  {
   "cell_type": "markdown",
   "metadata": {},
   "source": [
    "### Figure 3E Top Left"
   ]
  },
  {
   "cell_type": "code",
   "execution_count": null,
   "metadata": {},
   "outputs": [],
   "source": [
    "cmap = plt.get_cmap(\"Set2\")\n",
    "elastic_color = '#555358'\n",
    "target_color = cmap(1)\n",
    "rest_length_color = cmap(2)\n",
    "smoothness_color = cmap(3)\n",
    "curvature_color = cmap(4)\n",
    "\n",
    "elastic_label = 'Elastic Energy'\n",
    "target_label = 'Distance to Surface'\n",
    "rest_length_label = 'Rest Length Sum'\n",
    "smoothness_label = 'Smoothing Cost'\n",
    "curvature_label = 'Curvature Sum'\n",
    "x_label = 'Iteration'\n",
    "figure_size = (15, 6)\n",
    "figure_label_size = 30\n",
    "design_optimization_iteration_range = [x + dps_iteration_count for x in list(range(len(total_objective)))]"
   ]
  },
  {
   "cell_type": "code",
   "execution_count": null,
   "metadata": {},
   "outputs": [],
   "source": [
    "# library\n",
    "import numpy as np\n",
    "import matplotlib.pyplot as plt\n",
    "\n",
    "fig, host = plt.subplots()\n",
    "cmap = plt.get_cmap(\"Set2\")\n",
    "colors = [cmap(3), cmap(2), cmap(1)]\n",
    "x=range(len(dp_objective_elastic))\n",
    "y=dp_total_objective\n",
    " \n",
    "# Basic stacked area chart.\n",
    "plt.plot(x,y, label = 'Objective', color = 'k', linewidth = 3)\n",
    "#plt.show()\n",
    "# host.set_yscale('log')\n",
    "# plt.xlabel('iteration', fontsize = figure_label_size)\n",
    "plt.ylabel('objective value', fontsize = figure_label_size)\n",
    "plt.title('Fixed Crossing Initialization', fontsize = figure_label_size)\n",
    "fig.set_size_inches(figure_size)\n",
    "fig.savefig('nature_figure3_D_top_left.png', bbox_inches='tight', dpi=400)"
   ]
  },
  {
   "cell_type": "markdown",
   "metadata": {},
   "source": [
    "### Figure 3E Top Right"
   ]
  },
  {
   "cell_type": "code",
   "execution_count": null,
   "metadata": {},
   "outputs": [],
   "source": [
    "# library\n",
    "import numpy as np\n",
    "import matplotlib.pyplot as plt\n",
    " \n",
    "fig, host = plt.subplots()\n",
    "cmap = plt.get_cmap(\"Set2\")\n",
    "colors = [cmap(3), cmap(2), cmap(1)]\n",
    "x=design_optimization_iteration_range\n",
    "y=total_objective\n",
    " \n",
    "# Basic stacked area chart.\n",
    "plt.plot(x,y, label = 'Objective', color = 'k', linewidth = 3)\n",
    "#plt.show()\n",
    "# host.set_yscale('log')\n",
    "# plt.xlabel(x_label, fontsize = figure_label_size)\n",
    "# plt.ylabel('objective value', fontsize = figure_label_size)\n",
    "plt.title('Design Optimization', fontsize = figure_label_size)\n",
    "\n",
    "fig.set_size_inches(figure_size)\n",
    "fig.savefig('nature_figure3_D_top_right.png', bbox_inches='tight', dpi=400)"
   ]
  },
  {
   "cell_type": "code",
   "execution_count": null,
   "metadata": {},
   "outputs": [],
   "source": [
    "combined_energy = (np.array(dps_energy + opt_energy))\n",
    "combined_rest_length = np.array(dps_rest_length + opt_rest_length)\n",
    "combined_smoothness = np.array(dps_smoothing + opt_smoothing)\n",
    "combined_curvature = np.array(dps_total_absolute_curvature + opt_total_absolute_curvature)\n",
    "combined_dis_to_target_surface = np.array(dps_distance_to_surface + opt_distance_to_surface)\n",
    "combined_dis_to_target_joint = np.array(dps_distance_to_joint + opt_distance_to_joint)\n",
    "combined_time_stamps = np.array(dps_time_stamps + opt_time_stamps)"
   ]
  },
  {
   "cell_type": "code",
   "execution_count": null,
   "metadata": {},
   "outputs": [],
   "source": [
    "sum(dps_time_stamps)"
   ]
  },
  {
   "cell_type": "code",
   "execution_count": null,
   "metadata": {},
   "outputs": [],
   "source": [
    "sum(opt_time_stamps[1:])"
   ]
  },
  {
   "cell_type": "markdown",
   "metadata": {},
   "source": [
    "#### Load data"
   ]
  },
  {
   "cell_type": "code",
   "execution_count": null,
   "metadata": {},
   "outputs": [],
   "source": [
    "# if not os.path.exists(\"nature_figure3/nature_figure3_plot_data\"):\n",
    "#     os.makedirs(\"nature_figure3/nature_figure3_plot_data\")\n",
    "# np.save(\"nature_figure3/nature_figure3_plot_data/{}.npy\".format('energy'), combined_energy)\n",
    "# np.save(\"nature_figure3/nature_figure3_plot_data/{}.npy\".format('rest_length'), combined_rest_length)\n",
    "# np.save(\"nature_figure3/nature_figure3_plot_data/{}.npy\".format('smoothness'), combined_smoothness)\n",
    "# np.save(\"nature_figure3/nature_figure3_plot_data/{}.npy\".format('curvature'), combined_curvature)\n",
    "# np.save(\"nature_figure3/nature_figure3_plot_data/{}.npy\".format('dis_surface'), combined_dis_to_target_surface)\n",
    "# np.save(\"nature_figure3/nature_figure3_plot_data/{}.npy\".format('dis_joint'), combined_dis_to_target_joint)\n",
    "# np.save(\"nature_figure3/nature_figure3_plot_data/{}.npy\".format('time_stamps'), combined_time_stamps)\n",
    "# np.save(\"nature_figure3/nature_figure3_plot_data/{}.npy\".format('dps_total_objective'), dp_total_objective)\n",
    "# np.save(\"nature_figure3/nature_figure3_plot_data/{}.npy\".format('opt_total_objective'), total_objective)\n",
    "# np.save(\"nature_figure3/nature_figure3_plot_data/{}.npy\".format('opt_objective_elastic'), opt_objective_elastic)\n",
    "# np.save(\"nature_figure3/nature_figure3_plot_data/{}.npy\".format('opt_objective_target'), opt_objective_target)\n",
    "# np.save(\"nature_figure3/nature_figure3_plot_data/{}.npy\".format('opt_objective_smooth'), opt_objective_smooth)\n",
    "# np.save(\"nature_figure3/nature_figure3_plot_data/{}.npy\".format('opt_objective_length'), opt_objective_length)\n",
    "# np.save(\"nature_figure3/nature_figure3_plot_data/{}.npy\".format('dp_objective_elastic'), dp_objective_elastic)\n",
    "# np.save(\"nature_figure3/nature_figure3_plot_data/{}.npy\".format('dp_objective_smooth'), dp_objective_smooth)\n",
    "# np.save(\"nature_figure3/nature_figure3_plot_data/{}.npy\".format('dp_objective_length'), dp_objective_length)"
   ]
  },
  {
   "cell_type": "code",
   "execution_count": null,
   "metadata": {},
   "outputs": [],
   "source": [
    "# load data\n",
    "combined_energy = np.load(\"nature_figure3/nature_figure3_plot_data/{}.npy\".format(\"energy\"))\n",
    "combined_rest_length = np.load(\"nature_figure3/nature_figure3_plot_data/{}.npy\".format(\"rest_length\"))\n",
    "combined_smoothness = np.load(\"nature_figure3/nature_figure3_plot_data/{}.npy\".format(\"smoothness\"))\n",
    "combined_curvature = np.load(\"nature_figure3/nature_figure3_plot_data/{}.npy\".format(\"curvature\"))\n",
    "combined_dis_to_target_surface = np.load(\"nature_figure3/nature_figure3_plot_data/{}.npy\".format('dis_surface'))\n",
    "\n",
    "dp_total_objective = np.load(\"nature_figure3/nature_figure3_plot_data/{}.npy\".format('dps_total_objective'))\n",
    "total_objective = np.load(\"nature_figure3/nature_figure3_plot_data/{}.npy\".format('opt_total_objective'))\n",
    "opt_objective_elastic = np.load(\"nature_figure3/nature_figure3_plot_data/{}.npy\".format('opt_objective_elastic'))\n",
    "opt_objective_target = np.load(\"nature_figure3/nature_figure3_plot_data/{}.npy\".format('opt_objective_target'))\n",
    "opt_objective_smooth = np.load(\"nature_figure3/nature_figure3_plot_data/{}.npy\".format('opt_objective_smooth'))\n",
    "opt_objective_length = np.load(\"nature_figure3/nature_figure3_plot_data/{}.npy\".format('opt_objective_length'))\n",
    "dp_objective_elastic = np.load(\"nature_figure3/nature_figure3_plot_data/{}.npy\".format('dp_objective_elastic'))\n",
    "dp_objective_smooth = np.load(\"nature_figure3/nature_figure3_plot_data/{}.npy\".format('dp_objective_smooth'))\n",
    "dp_objective_length = np.load(\"nature_figure3/nature_figure3_plot_data/{}.npy\".format('dp_objective_length'))\n",
    "\n",
    "dps_iteration_count = 132"
   ]
  },
  {
   "cell_type": "code",
   "execution_count": null,
   "metadata": {},
   "outputs": [],
   "source": [
    "print(combined_energy[117], combined_rest_length[117], combined_curvature[117])"
   ]
  },
  {
   "cell_type": "code",
   "execution_count": null,
   "metadata": {},
   "outputs": [],
   "source": [
    "print(combined_energy[118], combined_rest_length[118], combined_curvature[118])"
   ]
  },
  {
   "cell_type": "code",
   "execution_count": null,
   "metadata": {},
   "outputs": [],
   "source": [
    "print(combined_energy[119], combined_rest_length[119], combined_curvature[119])"
   ]
  },
  {
   "cell_type": "code",
   "execution_count": null,
   "metadata": {},
   "outputs": [],
   "source": [
    "dps_iteration_count = len(dps_time_stamps)"
   ]
  },
  {
   "cell_type": "code",
   "execution_count": null,
   "metadata": {},
   "outputs": [],
   "source": [
    "print(dps_iteration_count)"
   ]
  },
  {
   "cell_type": "markdown",
   "metadata": {},
   "source": [
    "### Figure 3E Bottom Left"
   ]
  },
  {
   "cell_type": "code",
   "execution_count": null,
   "metadata": {},
   "outputs": [],
   "source": [
    "figure_label_size = 25\n",
    "def make_patch_spines_invisible(ax):\n",
    "    ax.set_frame_on(True)\n",
    "    ax.patch.set_visible(False)\n",
    "    for sp in ax.spines.values():\n",
    "        sp.set_visible(False)\n",
    "\n",
    "\n",
    "fig, host = plt.subplots()\n",
    "fig.subplots_adjust(right=0.75)\n",
    "\n",
    "cmap = plt.get_cmap(\"Set2\")\n",
    "\n",
    "# plt.axvspan(dps_iteration_count, 144, facecolor=cmap(7), alpha=0.2)\n",
    "\n",
    "plt.axvline(x=0, color=cmap(6), linestyle='--', label = 'i')\n",
    "plt.axvline(x=80, color=cmap(6), linestyle='--', label = 'ii')\n",
    "plt.axvline(x=88, color=cmap(6), linestyle='--', label = 'iii')\n",
    "plt.axvline(x=105, color=cmap(6), linestyle='--', label = 'iv')\n",
    "plt.axvline(x=130, color=cmap(6), linestyle='--', label = 'v')\n",
    "\n",
    "\n",
    "\n",
    "par1 = host.twinx()\n",
    "par2 = host.twinx()\n",
    "par3 = host.twinx()\n",
    "par4 = host.twinx()\n",
    "# par5 = host.twinx()\n",
    "\n",
    "# # Offset the right spine of par2.  The ticks and label have already been\n",
    "# # placed on the right by twinx above.\n",
    "# par2.spines[\"right\"].set_position((\"axes\", 1.1))\n",
    "# # Having been created by twinx, par2 has its frame off, so the line of its\n",
    "# # detached spine is invisible.  First, activate the frame but make the patch\n",
    "# # and spines invisible.\n",
    "# make_patch_spines_invisible(par2)\n",
    "# # Second, show the right spine. \n",
    "# par2.spines[\"right\"].set_visible(False)\n",
    "\n",
    "\n",
    "\n",
    "par2.spines[\"left\"].set_position((\"axes\", -0.12))\n",
    "\n",
    "make_patch_spines_invisible(par2)\n",
    "\n",
    "par2.spines[\"left\"].set_visible(True)\n",
    "par2.yaxis.set_label_position('left')\n",
    "par2.yaxis.set_ticks_position('left')\n",
    "\n",
    "par3.spines[\"left\"].set_position((\"axes\", -0.24))\n",
    "\n",
    "make_patch_spines_invisible(par3)\n",
    "\n",
    "par3.spines[\"left\"].set_visible(True)\n",
    "par3.yaxis.set_label_position('left')\n",
    "par3.yaxis.set_ticks_position('left')\n",
    "\n",
    "\n",
    "\n",
    "# par5.spines[\"right\"].set_position((\"axes\", 1.4))\n",
    "# make_patch_spines_invisible(par5)\n",
    "# # Second, show the right spine.\n",
    "# par5.spines[\"right\"].set_visible(True)\n",
    "\n",
    "\n",
    "p5, = par4.plot(range(len(dps_smoothing)), dps_distance_to_surface, linewidth = 3, color = target_color, label=target_label)\n",
    "# p6, = par5.plot(range(len(dps_smoothness)), dps_dis_to_target_joint, linewidth = 3, color = cmap(6), label=\"Weave distance to target joint\")\n",
    "\n",
    "p1, = host.plot(range(len(dps_smoothing)), dps_energy, linewidth = 3, color = elastic_color, label=elastic_label)\n",
    "p2, = par1.plot(range(len(dps_smoothing)), dps_rest_length, linewidth = 3, color = rest_length_color, label=rest_length_label)\n",
    "p3, = par2.plot(range(len(dps_smoothing)), dps_smoothing, linewidth = 3, color = smoothness_color, label=smoothness_label)\n",
    "p4, = par3.plot(range(len(dps_total_absolute_curvature)), dps_total_absolute_curvature, linewidth = 3, color = curvature_color, label=curvature_label, linestyle = '-.')\n",
    "\n",
    "# p5, = par4.plot(range(dps_iteration_count, dps_iteration_count + len(opt_distance_to_surface)), opt_distance_to_surface, linewidth = 3, color = cmap(5), label=\"Weave distance to target surface\")\n",
    "# p6, = par5.plot(range(dps_iteration_count, dps_iteration_count + len(opt_distance_to_joint)), opt_distance_to_joint, linewidth = 3, color = cmap(6), label=\"Weave distance to target joint\")\n",
    "\n",
    "\n",
    "host.set_ylim(min(dps_energy)* 0.8, max(dps_energy)* 1.1)\n",
    "par1.set_ylim(min(dps_rest_length)* 0.99, max(dps_rest_length)* 1.01)\n",
    "par2.set_ylim(min(dps_smoothing)* 0.8, max(dps_smoothing)* 1.1)\n",
    "par3.set_ylim(min(dps_total_absolute_curvature)* 0.8, max(dps_total_absolute_curvature)* 1.01)\n",
    "par4.set_ylim(min(dps_distance_to_surface)* 0.8, max(dps_distance_to_surface)* 1.01)\n",
    "# par5.set_ylim(min(dps_dis_to_target_joint)* 0.8, max(dps_dis_to_target_joint)* 1.01)\n",
    "\n",
    "\n",
    "host.set_yscale('log')\n",
    "\n",
    "\n",
    "host.set_xlabel(x_label, fontsize = figure_label_size)\n",
    "host.set_ylabel(elastic_label, fontsize = figure_label_size)\n",
    "par1.set_ylabel(rest_length_label, fontsize = figure_label_size)\n",
    "par2.set_ylabel(smoothness_label, fontsize = figure_label_size)\n",
    "par3.set_ylabel(curvature_label, fontsize = figure_label_size)\n",
    "par4.set_ylabel(target_label, fontsize = figure_label_size)\n",
    "# par5.set_ylabel(\"Weave distance to target joint\")\n",
    "\n",
    "host.yaxis.label.set_color(p1.get_color())\n",
    "par1.yaxis.label.set_color(p2.get_color())\n",
    "par2.yaxis.label.set_color(p3.get_color())\n",
    "par3.yaxis.label.set_color(p4.get_color())\n",
    "par4.yaxis.label.set_color(p5.get_color())\n",
    "# par5.yaxis.label.set_color(p6.get_color())\n",
    "\n",
    "host.yaxis.label.set_fontweight('bold')\n",
    "par1.yaxis.label.set_fontweight('bold')\n",
    "par2.yaxis.label.set_fontweight('bold')\n",
    "par3.yaxis.label.set_fontweight('bold')\n",
    "par4.yaxis.label.set_fontweight('bold')\n",
    "# par5.yaxis.label.set_fontweight('bold')\n",
    "\n",
    "tkw = dict(size=4, width=1.5)\n",
    "host.tick_params(axis='y', colors=p1.get_color(), **tkw)\n",
    "par1.tick_params(axis='y', colors=p2.get_color(), **tkw)\n",
    "par2.tick_params(axis='y', colors=p3.get_color(), **tkw)\n",
    "par3.tick_params(axis='y', colors=p4.get_color(), **tkw)\n",
    "par4.tick_params(axis='y', colors=p5.get_color(), **tkw)\n",
    "# par5.tick_params(axis='y', colors=p6.get_color(), **tkw)\n",
    "host.tick_params(axis='x', **tkw)\n",
    "\n",
    "# lines = [p1, p2, p3, p4, p5, p6]\n",
    "lines = [p1, p2, p3, p4, p5]\n",
    "\n",
    "par1.yaxis.set_visible(False)\n",
    "par2.yaxis.set_visible(True)\n",
    "par3.yaxis.set_visible(True)\n",
    "par4.yaxis.set_visible(False)\n",
    "# plt.axvline(x=dps_iteration_count, color=cmap(8), linestyle='--')\n",
    "# host.legend(lines, [l.get_label() for l in lines], loc=\"lower left\", facecolor='white', framealpha=1, fancybox=True)\n",
    "\n",
    "fig.set_size_inches(figure_size)\n",
    "fig.savefig('nature_figure3_D_bottom_left.png', bbox_inches='tight', dpi=400)\n",
    "plt.show()"
   ]
  },
  {
   "cell_type": "markdown",
   "metadata": {},
   "source": [
    "### Figure 3E Bottom Right"
   ]
  },
  {
   "cell_type": "code",
   "execution_count": null,
   "metadata": {},
   "outputs": [],
   "source": [
    "figure_label_size = 25\n",
    "def make_patch_spines_invisible(ax):\n",
    "    ax.set_frame_on(True)\n",
    "    ax.patch.set_visible(False)\n",
    "    for sp in ax.spines.values():\n",
    "        sp.set_visible(False)\n",
    "\n",
    "\n",
    "fig, host = plt.subplots()\n",
    "fig.subplots_adjust(right=0.75)\n",
    "\n",
    "cmap = plt.get_cmap(\"Set2\")\n",
    "\n",
    "# plt.axvspan(dps_iteration_count, 144, facecolor=cmap(7), alpha=0.2)\n",
    "\n",
    "# plt.axvline(x=0, color=cmap(6), linestyle='--', label = 'i')\n",
    "# plt.axvline(x=80, color=cmap(6), linestyle='--', label = 'ii')\n",
    "# plt.axvline(x=88, color=cmap(6), linestyle='--', label = 'iii')\n",
    "# plt.axvline(x=105, color=cmap(6), linestyle='--', label = 'iv')\n",
    "# plt.axvline(x=130, color=cmap(6), linestyle='--', label = 'v')\n",
    "plt.axvline(x=4 + dps_iteration_count-1, color=cmap(6), linestyle='--', label = 'vi')\n",
    "\n",
    "\n",
    "par1 = host.twinx()\n",
    "par2 = host.twinx()\n",
    "par3 = host.twinx()\n",
    "par4 = host.twinx()\n",
    "# par5 = host.twinx()\n",
    "\n",
    "# Offset the right spine of par2.  The ticks and label have already been\n",
    "# placed on the right by twinx above.\n",
    "par2.spines[\"right\"].set_position((\"axes\", 1.12))\n",
    "# Having been created by twinx, par2 has its frame off, so the line of its\n",
    "# detached spine is invisible.  First, activate the frame but make the patch\n",
    "# and spines invisible.\n",
    "make_patch_spines_invisible(par2)\n",
    "# Second, show the right spine. \n",
    "par2.spines[\"right\"].set_visible(False)\n",
    "\n",
    "\n",
    "par3.spines[\"right\"].set_position((\"axes\", 1.24))\n",
    "make_patch_spines_invisible(par3)\n",
    "# Second, show the right spine.\n",
    "par3.spines[\"right\"].set_visible(False)\n",
    "\n",
    "par4.spines[\"right\"].set_position((\"axes\", 1.12))\n",
    "make_patch_spines_invisible(par4)\n",
    "# Second, show the right spine.\n",
    "par4.spines[\"right\"].set_visible(True)\n",
    "\n",
    "# par5.spines[\"right\"].set_position((\"axes\", 1.8))\n",
    "# make_patch_spines_invisible(par5)\n",
    "# # Second, show the right spine.\n",
    "# par5.spines[\"right\"].set_visible(True)\n",
    "\n",
    "p5, = par4.plot([dps_iteration_count-1] + design_optimization_iteration_range, [dps_distance_to_surface[-1]] + opt_distance_to_surface, linewidth = 3, color = target_color, label=target_label)\n",
    "# p6, = par5.plot(range(len(opt_smoothness)), opt_dis_to_target_joint, linewidth = 3, color = cmap(6), label=\"Weave distance to target joint\")\n",
    "\n",
    "p1, = host.plot([dps_iteration_count-1] + design_optimization_iteration_range, [dps_energy[-1]] + opt_energy, linewidth = 3, color = elastic_color, label=elastic_label)\n",
    "p2, = par1.plot([dps_iteration_count-1] + design_optimization_iteration_range, [dps_rest_length[-1]] + opt_rest_length, linewidth = 3, color = rest_length_color, label=rest_length_label)\n",
    "p3, = par2.plot([dps_iteration_count-1] + design_optimization_iteration_range, [dps_smoothing[-1]] + opt_smoothing, linewidth = 3, color = smoothness_color, label=smoothness_label)\n",
    "p4, = par3.plot([dps_iteration_count-1] + design_optimization_iteration_range, [dps_total_absolute_curvature[-1]] + opt_total_absolute_curvature, linewidth = 3, color = curvature_color, label=curvature_label, linestyle = '-.')\n",
    "\n",
    "# p5, = par4.plot(range(opt_iteration_count, opt_iteration_count + len(opt_distance_to_surface)), opt_distance_to_surface, linewidth = 3, color = cmap(5), label=\"Weave distance to target surface\")\n",
    "# p6, = par5.plot(range(opt_iteration_count, opt_iteration_count + len(opt_distance_to_joint)), opt_distance_to_joint, linewidth = 3, color = cmap(6), label=\"Weave distance to target joint\")\n",
    "\n",
    "\n",
    "# host.set_ylim(min(opt_energy)* 0.8, max(opt_energy)* 1.1)\n",
    "# par1.set_ylim(min(opt_rest_length)* 0.99, max(opt_rest_length)* 1.01)\n",
    "# par2.set_ylim(min(opt_smoothing)* 0.8, max(opt_smoothing)* 1.1)\n",
    "# par3.set_ylim(min(opt_total_absolute_curvature)* 0.8, max(opt_total_absolute_curvature)* 1.01)\n",
    "# par4.set_ylim(min(opt_distance_to_surface)* 0.8, max(opt_distance_to_surface)* 1.01)\n",
    "# # par5.set_ylim(min(opt_dis_to_target_joint)* 0.8, max(opt_dis_to_target_joint)* 1.01)\n",
    "host.set_ylim(min(dps_energy)* 0.8, max(dps_energy)* 1.1)\n",
    "par1.set_ylim(min(dps_rest_length)* 0.99, max(dps_rest_length)* 1.01)\n",
    "par2.set_ylim(min(dps_smoothing)* 0.8, max(dps_smoothing)* 1.1)\n",
    "par3.set_ylim(min(dps_total_absolute_curvature)* 0.8, max(dps_total_absolute_curvature)* 1.01)\n",
    "par4.set_ylim(min(dps_distance_to_surface)* 0.8, max(dps_distance_to_surface)* 1.01)\n",
    "# par5.set_ylim(min(dps_dis_to_target_joint)* 0.8, max(dps_dis_to_target_joint)* 1.01)\n",
    "\n",
    "\n",
    "\n",
    "\n",
    "host.set_yscale('log')\n",
    "\n",
    "\n",
    "host.set_xlabel(x_label, fontsize = figure_label_size)\n",
    "host.set_ylabel(elastic_label, fontsize = figure_label_size)\n",
    "par1.set_ylabel(rest_length_label, fontsize = figure_label_size)\n",
    "par2.set_ylabel(smoothness_label, fontsize = figure_label_size)\n",
    "par3.set_ylabel(curvature_label, fontsize = figure_label_size)\n",
    "par4.set_ylabel(target_label, fontsize = figure_label_size)\n",
    "# par5.set_ylabel(\"Weave distance to target joint\")\n",
    "\n",
    "host.yaxis.label.set_color(p1.get_color())\n",
    "par1.yaxis.label.set_color(p2.get_color())\n",
    "par2.yaxis.label.set_color(p3.get_color())\n",
    "par3.yaxis.label.set_color(p4.get_color())\n",
    "par4.yaxis.label.set_color(p5.get_color())\n",
    "# par5.yaxis.label.set_color(p6.get_color())\n",
    "\n",
    "host.yaxis.label.set_fontweight('bold')\n",
    "par1.yaxis.label.set_fontweight('bold')\n",
    "par2.yaxis.label.set_fontweight('bold')\n",
    "par3.yaxis.label.set_fontweight('bold')\n",
    "par4.yaxis.label.set_fontweight('bold')\n",
    "# par5.yaxis.label.set_fontweight('bold')\n",
    "\n",
    "tkw = dict(size=4, width=1.5)\n",
    "# host.tick_params(axis='y', colors=p1.get_color(), **tkw)\n",
    "par1.tick_params(axis='y', colors=p2.get_color(), **tkw)\n",
    "par2.tick_params(axis='y', colors=p3.get_color(), **tkw)\n",
    "par3.tick_params(axis='y', colors=p4.get_color(), **tkw)\n",
    "par4.tick_params(axis='y', colors=p5.get_color(), **tkw)\n",
    "# par5.tick_params(axis='y', colors=p6.get_color(), **tkw)\n",
    "host.tick_params(axis='x', **tkw)\n",
    "\n",
    "# lines = [p1, p2, p3, p4, p5, p6]\n",
    "lines = [p1, p2, p3, p4, p5]\n",
    "\n",
    "host.yaxis.set_visible(False)\n",
    "par1.yaxis.set_visible(True)\n",
    "par2.yaxis.set_visible(False)\n",
    "par3.yaxis.set_visible(False)\n",
    "par4.yaxis.set_visible(True)\n",
    "# plt.axvline(x=opt_iteration_count, color=cmap(8), linestyle='--')\n",
    "host.legend(lines, [l.get_label() for l in lines], loc=\"upper right\", facecolor='white', framealpha=1, fancybox=True, prop={'size': 15})\n",
    "\n",
    "fig.set_size_inches(figure_size)\n",
    "fig.savefig('nature_figure3_D_bottom_right.png', bbox_inches='tight', dpi=400)\n",
    "plt.show()"
   ]
  },
  {
   "cell_type": "code",
   "execution_count": null,
   "metadata": {},
   "outputs": [],
   "source": [
    "def make_patch_spines_invisible(ax):\n",
    "    ax.set_frame_on(True)\n",
    "    ax.patch.set_visible(False)\n",
    "    for sp in ax.spines.values():\n",
    "        sp.set_visible(False)\n",
    "\n",
    "\n",
    "fig, host = plt.subplots()\n",
    "fig.subplots_adjust(right=0.75)\n",
    "\n",
    "cmap = plt.get_cmap(\"Set2\")\n",
    "\n",
    "plt.axvspan(dps_iteration_count, 144, facecolor=cmap(7), alpha=0.2)\n",
    "\n",
    "plt.axvline(x=0, color=cmap(6), linestyle='--', label = 'i')\n",
    "plt.axvline(x=80, color=cmap(6), linestyle='--', label = 'ii')\n",
    "plt.axvline(x=88, color=cmap(6), linestyle='--', label = 'iii')\n",
    "plt.axvline(x=105, color=cmap(6), linestyle='--', label = 'iv')\n",
    "plt.axvline(x=130, color=cmap(6), linestyle='--', label = 'v')\n",
    "plt.axvline(x=144, color=cmap(6), linestyle='--', label = 'vi')\n",
    "\n",
    "\n",
    "par1 = host.twinx()\n",
    "par2 = host.twinx()\n",
    "par3 = host.twinx()\n",
    "par4 = host.twinx()\n",
    "# par5 = host.twinx()\n",
    "\n",
    "# Offset the right spine of par2.  The ticks and label have already been\n",
    "# placed on the right by twinx above.\n",
    "par2.spines[\"right\"].set_position((\"axes\", 1.1))\n",
    "# Having been created by twinx, par2 has its frame off, so the line of its\n",
    "# detached spine is invisible.  First, activate the frame but make the patch\n",
    "# and spines invisible.\n",
    "make_patch_spines_invisible(par2)\n",
    "# Second, show the right spine.\n",
    "par2.spines[\"right\"].set_visible(True)\n",
    "\n",
    "\n",
    "par3.spines[\"right\"].set_position((\"axes\", 1.2))\n",
    "make_patch_spines_invisible(par3)\n",
    "# Second, show the right spine.\n",
    "par3.spines[\"right\"].set_visible(True)\n",
    "\n",
    "par4.spines[\"right\"].set_position((\"axes\", 1.3))\n",
    "make_patch_spines_invisible(par4)\n",
    "# Second, show the right spine.\n",
    "par4.spines[\"right\"].set_visible(True)\n",
    "\n",
    "# par5.spines[\"right\"].set_position((\"axes\", 1.4))\n",
    "# make_patch_spines_invisible(par5)\n",
    "# # Second, show the right spine.\n",
    "# par5.spines[\"right\"].set_visible(True)\n",
    "\n",
    "\n",
    "p5, = par4.plot(range(len(combined_smoothness)), combined_dis_to_target_surface, linewidth = 3, color = target_color, label=target_label)\n",
    "# p6, = par5.plot(range(len(combined_smoothness)), combined_dis_to_target_joint, linewidth = 3, color = cmap(6), label=\"Weave distance to target joint\")\n",
    "\n",
    "p1, = host.plot(range(len(combined_smoothness)), combined_energy, linewidth = 3, color = elastic_color, label=elastic_label)\n",
    "p2, = par1.plot(range(len(combined_smoothness)), combined_rest_length, linewidth = 3, color = rest_length_color, label=rest_length_label)\n",
    "p3, = par2.plot(range(len(combined_smoothness)), combined_smoothness, linewidth = 3, color = smoothness_color, label=smoothness_label)\n",
    "p4, = par3.plot(range(len(combined_curvature)), combined_curvature, linewidth = 3, color = curvature_color, label=curvature_label, linestyle = '-.')\n",
    "\n",
    "# p5, = par4.plot(range(dps_iteration_count, dps_iteration_count + len(opt_distance_to_surface)), opt_distance_to_surface, linewidth = 3, color = cmap(5), label=\"Weave distance to target surface\")\n",
    "# p6, = par5.plot(range(dps_iteration_count, dps_iteration_count + len(opt_distance_to_joint)), opt_distance_to_joint, linewidth = 3, color = cmap(6), label=\"Weave distance to target joint\")\n",
    "\n",
    "\n",
    "host.set_ylim(min(combined_energy)* 0.8, max(combined_energy)* 1.1)\n",
    "par1.set_ylim(min(combined_rest_length)* 0.99, max(combined_rest_length)* 1.01)\n",
    "par2.set_ylim(min(combined_smoothness)* 0.8, max(combined_smoothness)* 1.1)\n",
    "par3.set_ylim(min(combined_curvature)* 0.8, max(combined_curvature)* 1.01)\n",
    "par4.set_ylim(min(combined_dis_to_target_surface)* 0.8, max(combined_dis_to_target_surface)* 1.01)\n",
    "# par5.set_ylim(min(combined_dis_to_target_joint)* 0.8, max(combined_dis_to_target_joint)* 1.01)\n",
    "\n",
    "\n",
    "host.set_yscale('log')\n",
    "\n",
    "\n",
    "host.set_xlabel(x_label)\n",
    "host.set_ylabel(elastic_label)\n",
    "par1.set_ylabel(rest_length_label)\n",
    "par2.set_ylabel(smoothness_label)\n",
    "par3.set_ylabel(curvature_label)\n",
    "par4.set_ylabel(target_label)\n",
    "# par5.set_ylabel(\"Weave distance to target joint\")\n",
    "\n",
    "host.yaxis.label.set_color(p1.get_color())\n",
    "par1.yaxis.label.set_color(p2.get_color())\n",
    "par2.yaxis.label.set_color(p3.get_color())\n",
    "par3.yaxis.label.set_color(p4.get_color())\n",
    "par4.yaxis.label.set_color(p5.get_color())\n",
    "# par5.yaxis.label.set_color(p6.get_color())\n",
    "\n",
    "host.yaxis.label.set_fontweight('bold')\n",
    "par1.yaxis.label.set_fontweight('bold')\n",
    "par2.yaxis.label.set_fontweight('bold')\n",
    "par3.yaxis.label.set_fontweight('bold')\n",
    "par4.yaxis.label.set_fontweight('bold')\n",
    "# par5.yaxis.label.set_fontweight('bold')\n",
    "\n",
    "tkw = dict(size=4, width=1.5)\n",
    "host.tick_params(axis='y', colors=p1.get_color(), **tkw)\n",
    "par1.tick_params(axis='y', colors=p2.get_color(), **tkw)\n",
    "par2.tick_params(axis='y', colors=p3.get_color(), **tkw)\n",
    "par3.tick_params(axis='y', colors=p4.get_color(), **tkw)\n",
    "par4.tick_params(axis='y', colors=p5.get_color(), **tkw)\n",
    "# par5.tick_params(axis='y', colors=p6.get_color(), **tkw)\n",
    "host.tick_params(axis='x', **tkw)\n",
    "\n",
    "# lines = [p1, p2, p3, p4, p5, p6]\n",
    "lines = [p1, p2, p3, p4, p5]\n",
    "\n",
    "\n",
    "plt.axvline(x=dps_iteration_count, color=cmap(8), linestyle='--')\n",
    "host.legend(lines, [l.get_label() for l in lines], loc=\"lower left\", facecolor='white', framealpha=1, fancybox=True)\n",
    "\n",
    "fig.set_size_inches(figure_size)\n",
    "\n",
    "fig.savefig('nature_figure3_D_right_all.png', bbox_inches='tight', dpi=400)\n",
    "plt.show()"
   ]
  },
  {
   "cell_type": "markdown",
   "metadata": {},
   "source": [
    "#### Visualization"
   ]
  },
  {
   "cell_type": "code",
   "execution_count": null,
   "metadata": {},
   "outputs": [],
   "source": [
    "def make_patch_spines_invisible(ax):\n",
    "    ax.set_frame_on(True)\n",
    "    ax.patch.set_visible(False)\n",
    "    for sp in ax.spines.values():\n",
    "        sp.set_visible(False)\n",
    "\n",
    "\n",
    "fig, host = plt.subplots()\n",
    "fig.subplots_adjust(right=0.75)\n",
    "\n",
    "cmap = plt.get_cmap(\"Set2\")\n",
    "\n",
    "plt.axvspan(dps_iteration_count, 144, facecolor=cmap(7), alpha=0.2)\n",
    "\n",
    "plt.axvline(x=0, color=cmap(6), linestyle='--', label = 'i')\n",
    "plt.axvline(x=80, color=cmap(6), linestyle='--', label = 'ii')\n",
    "plt.axvline(x=88, color=cmap(6), linestyle='--', label = 'iii')\n",
    "plt.axvline(x=105, color=cmap(6), linestyle='--', label = 'iv')\n",
    "plt.axvline(x=130, color=cmap(6), linestyle='--', label = 'v')\n",
    "plt.axvline(x=144, color=cmap(6), linestyle='--', label = 'vi')\n",
    "\n",
    "\n",
    "par1 = host.twinx()\n",
    "par2 = host.twinx()\n",
    "par3 = host.twinx()\n",
    "par4 = host.twinx()\n",
    "# par5 = host.twinx()\n",
    "\n",
    "# Offset the right spine of par2.  The ticks and label have already been\n",
    "# placed on the right by twinx above.\n",
    "par2.spines[\"right\"].set_position((\"axes\", 1.1))\n",
    "# Having been created by twinx, par2 has its frame off, so the line of its\n",
    "# detached spine is invisible.  First, activate the frame but make the patch\n",
    "# and spines invisible.\n",
    "make_patch_spines_invisible(par2)\n",
    "# Second, show the right spine.\n",
    "par2.spines[\"right\"].set_visible(True)\n",
    "\n",
    "\n",
    "par3.spines[\"right\"].set_position((\"axes\", 1.2))\n",
    "make_patch_spines_invisible(par3)\n",
    "# Second, show the right spine.\n",
    "par3.spines[\"right\"].set_visible(True)\n",
    "\n",
    "par4.spines[\"right\"].set_position((\"axes\", 1.3))\n",
    "make_patch_spines_invisible(par4)\n",
    "# Second, show the right spine.\n",
    "par4.spines[\"right\"].set_visible(True)\n",
    "\n",
    "# par5.spines[\"right\"].set_position((\"axes\", 1.4))\n",
    "# make_patch_spines_invisible(par5)\n",
    "# # Second, show the right spine.\n",
    "# par5.spines[\"right\"].set_visible(True)\n",
    "\n",
    "\n",
    "p5, = par4.plot(range(len(combined_smoothness)), combined_dis_to_target_surface, linewidth = 3, color = cmap(5), label=\"Weave distance to target surface\")\n",
    "# p6, = par5.plot(range(len(combined_smoothness)), combined_dis_to_target_joint, linewidth = 3, color = cmap(6), label=\"Weave distance to target joint\")\n",
    "\n",
    "p1, = host.plot(range(len(combined_smoothness)), combined_energy, linewidth = 3, color = cmap(1), label=\"Elastic Energy (log)\")\n",
    "p2, = par1.plot(range(len(combined_smoothness)), combined_rest_length, linewidth = 3, color = cmap(2), label=\"Total Rest Length\")\n",
    "p3, = par2.plot(range(len(combined_smoothness)), combined_smoothness, linewidth = 3, color = cmap(3), label=\"Ribbon Smoothness\")\n",
    "p4, = par3.plot(range(len(combined_curvature)), combined_curvature, linewidth = 3, color = cmap(4), label=\"Ribbon Curvature\")\n",
    "\n",
    "# p5, = par4.plot(range(dps_iteration_count, dps_iteration_count + len(opt_distance_to_surface)), opt_distance_to_surface, linewidth = 3, color = cmap(5), label=\"Weave distance to target surface\")\n",
    "# p6, = par5.plot(range(dps_iteration_count, dps_iteration_count + len(opt_distance_to_joint)), opt_distance_to_joint, linewidth = 3, color = cmap(6), label=\"Weave distance to target joint\")\n",
    "\n",
    "\n",
    "host.set_ylim(min(combined_energy)* 0.8, max(combined_energy)* 1.1)\n",
    "par1.set_ylim(min(combined_rest_length)* 0.99, max(combined_rest_length)* 1.01)\n",
    "par2.set_ylim(min(combined_smoothness)* 0.8, max(combined_smoothness)* 1.1)\n",
    "par3.set_ylim(min(combined_curvature)* 0.8, max(combined_curvature)* 1.01)\n",
    "par4.set_ylim(min(combined_dis_to_target_surface)* 0.8, max(combined_dis_to_target_surface)* 1.01)\n",
    "# par5.set_ylim(min(combined_dis_to_target_joint)* 0.8, max(combined_dis_to_target_joint)* 1.01)\n",
    "\n",
    "\n",
    "host.set_yscale('log')\n",
    "\n",
    "\n",
    "host.set_xlabel(\"Iterations\")\n",
    "host.set_ylabel(\"Elastic Energy (log)\")\n",
    "par1.set_ylabel(\"Total Rest Length\")\n",
    "par2.set_ylabel(\"Ribbon Smoothness\")\n",
    "par3.set_ylabel(\"Ribbon Curvature\")\n",
    "par4.set_ylabel(\"Weave distance to target surface\")\n",
    "# par5.set_ylabel(\"Weave distance to target joint\")\n",
    "\n",
    "host.yaxis.label.set_color(p1.get_color())\n",
    "par1.yaxis.label.set_color(p2.get_color())\n",
    "par2.yaxis.label.set_color(p3.get_color())\n",
    "par3.yaxis.label.set_color(p4.get_color())\n",
    "par4.yaxis.label.set_color(p5.get_color())\n",
    "# par5.yaxis.label.set_color(p6.get_color())\n",
    "\n",
    "host.yaxis.label.set_fontweight('bold')\n",
    "par1.yaxis.label.set_fontweight('bold')\n",
    "par2.yaxis.label.set_fontweight('bold')\n",
    "par3.yaxis.label.set_fontweight('bold')\n",
    "par4.yaxis.label.set_fontweight('bold')\n",
    "# par5.yaxis.label.set_fontweight('bold')\n",
    "\n",
    "tkw = dict(size=4, width=1.5)\n",
    "host.tick_params(axis='y', colors=p1.get_color(), **tkw)\n",
    "par1.tick_params(axis='y', colors=p2.get_color(), **tkw)\n",
    "par2.tick_params(axis='y', colors=p3.get_color(), **tkw)\n",
    "par3.tick_params(axis='y', colors=p4.get_color(), **tkw)\n",
    "par4.tick_params(axis='y', colors=p5.get_color(), **tkw)\n",
    "# par5.tick_params(axis='y', colors=p6.get_color(), **tkw)\n",
    "host.tick_params(axis='x', **tkw)\n",
    "\n",
    "# lines = [p1, p2, p3, p4, p5, p6]\n",
    "lines = [p1, p2, p3, p4, p5]\n",
    "\n",
    "\n",
    "plt.axvline(x=dps_iteration_count, color=cmap(8), linestyle='--')\n",
    "host.legend(lines, [l.get_label() for l in lines], loc=\"lower left\", facecolor='white', framealpha=1, fancybox=True)\n",
    "\n",
    "fig.set_size_inches(15, 10)\n",
    "fig.savefig('nature_figure3_D_right_all.png', bbox_inches='tight', dpi=400)\n",
    "plt.show()"
   ]
  },
  {
   "cell_type": "code",
   "execution_count": null,
   "metadata": {},
   "outputs": [],
   "source": [
    "import plotly.graph_objects as go\n",
    "\n",
    "\n",
    "x=['Winter', 'Spring', 'Summer', 'Fall']\n",
    "\n",
    "fig = go.Figure()\n",
    "fig.add_trace(go.Scatter(\n",
    "    x=x, y=[40, 60, 40, 10],\n",
    "    hoverinfo='x+y',\n",
    "    mode='lines',\n",
    "    line=dict(width=0.5, color='rgb(131, 90, 241)'),\n",
    "    stackgroup='one' # define stack group\n",
    "))\n",
    "fig.add_trace(go.Scatter(\n",
    "    x=x, y=[20, 10, 10, 60],\n",
    "    hoverinfo='x+y',\n",
    "    mode='lines',\n",
    "    line=dict(width=0.5, color='rgb(111, 231, 219)'),\n",
    "    stackgroup='one'\n",
    "))\n",
    "fig.add_trace(go.Scatter(\n",
    "    x=x, y=[40, 30, 50, 30],\n",
    "    hoverinfo='x+y',\n",
    "    mode='lines',\n",
    "    line=dict(width=0.5, color='rgb(184, 247, 212)'),\n",
    "    stackgroup='one'\n",
    "))\n",
    "\n",
    "fig.update_layout(yaxis_range=(0, 100))\n",
    "fig.show()"
   ]
  },
  {
   "cell_type": "code",
   "execution_count": null,
   "metadata": {},
   "outputs": [],
   "source": [
    "import numpy as np\n",
    "import matplotlib.pyplot as plt\n",
    "from matplotlib import gridspec\n",
    "from mpl_toolkits.axes_grid1 import make_axes_locatable\n",
    "\n",
    "fig = plt.figure()\n",
    "gs = gridspec.GridSpec(2, 2)\n",
    "\n",
    "X, Y = np.meshgrid(np.linspace(0,100, num=101), np.linspace(0,100, num=101))\n",
    "f = lambda x, y: np.sin(x/10.)+y/100.\n",
    "\n",
    "\n",
    "axMain = plt.subplot(gs[0])\n",
    "plt.sca(axMain)\n",
    "cf = axMain.contourf(X[0:40,:], Y[0:40,:], f(X,Y)[0:40,:] , vmin=-1, vmax=2)\n",
    "\n",
    "divider = make_axes_locatable(axMain)\n",
    "axShallow = divider.append_axes(\"top\", size=\"100%\", pad=0.1, sharex=axMain)\n",
    "axShallow.contourf(X[41:80,:], Y[41:80,:], f(X,Y)[41:80,:], vmin=-1, vmax=2)\n",
    "axShallow.set_xticklabels([])\n",
    "axShallow2 = divider.append_axes(\"top\", size=\"50%\", pad=0.1, sharex=axMain)\n",
    "axShallow2.contourf(X[81:,:], Y[81:,:], f(X,Y)[81:,:], vmin=-1, vmax=2)\n",
    "axShallow2.set_xticklabels([])\n",
    "\n",
    "plt.show()"
   ]
  },
  {
   "cell_type": "code",
   "execution_count": null,
   "metadata": {},
   "outputs": [],
   "source": [
    "import plotly.graph_objects as go\n",
    "\n",
    "fig = go.Figure()\n",
    "\n",
    "fig.add_trace(go.Scatter(\n",
    "    x=list(range(len(combined_smoothness))),\n",
    "    y=combined_energy,\n",
    "    name=\"yaxis1 data\"\n",
    "))\n",
    "\n",
    "\n",
    "fig.add_trace(go.Scatter(\n",
    "    x=list(range(len(combined_smoothness))),\n",
    "    y=combined_rest_length,\n",
    "    name=\"yaxis2 data\",\n",
    "    yaxis=\"y2\"\n",
    "))\n",
    "\n",
    "fig.add_trace(go.Scatter(\n",
    "    x=list(range(len(combined_smoothness))),\n",
    "    y=combined_smoothness,\n",
    "    name=\"yaxis3 data\",\n",
    "    yaxis=\"y3\"\n",
    "))\n",
    "\n",
    "fig.add_trace(go.Scatter(\n",
    "    x=list(range(len(combined_smoothness))),\n",
    "    y=combined_curvature,\n",
    "    name=\"yaxis4 data\",\n",
    "    yaxis=\"y4\"\n",
    "))\n",
    "\n",
    "\n",
    "# Create axis objects\n",
    "fig.update_layout(\n",
    "    xaxis=dict(\n",
    "        domain=[0.3, 0.7]\n",
    "    ),\n",
    "    yaxis=dict(\n",
    "        title=\"yaxis title\",\n",
    "        titlefont=dict(\n",
    "            color=\"#1f77b4\"\n",
    "        ),\n",
    "        tickfont=dict(\n",
    "            color=\"#1f77b4\"\n",
    "        )\n",
    "    ),\n",
    "    yaxis2=dict(\n",
    "        title=\"yaxis2 title\",\n",
    "        titlefont=dict(\n",
    "            color=\"#ff7f0e\"\n",
    "        ),\n",
    "        tickfont=dict(\n",
    "            color=\"#ff7f0e\"\n",
    "        ),\n",
    "        anchor=\"free\",\n",
    "        overlaying=\"y\",\n",
    "        side=\"left\",\n",
    "        position=0.15\n",
    "    ),\n",
    "    yaxis3=dict(\n",
    "        title=\"yaxis4 title\",\n",
    "        titlefont=dict(\n",
    "            color=\"#d62728\"\n",
    "        ),\n",
    "        tickfont=dict(\n",
    "            color=\"#d62728\"\n",
    "        ),\n",
    "        anchor=\"x\",\n",
    "        overlaying=\"y\",\n",
    "        side=\"right\"\n",
    "    ),\n",
    "    yaxis4=dict(\n",
    "        title=\"yaxis5 title\",\n",
    "        titlefont=dict(\n",
    "            color=\"#9467bd\"\n",
    "        ),\n",
    "        tickfont=dict(\n",
    "            color=\"#9467bd\"\n",
    "        ),\n",
    "        anchor=\"free\",\n",
    "        overlaying=\"y\",\n",
    "        side=\"right\",\n",
    "        position=0.85\n",
    "    )\n",
    ")\n",
    "\n",
    "# Update layout properties\n",
    "fig.update_layout(\n",
    "    title_text=\"multiple y-axes example\",\n",
    "    width=800,\n",
    ")\n",
    "\n",
    "fig.show()"
   ]
  }
 ],
 "metadata": {
  "kernelspec": {
   "display_name": "Python 3",
   "language": "python",
   "name": "python3"
  },
  "language_info": {
   "codemirror_mode": {
    "name": "ipython",
    "version": 3
   },
   "file_extension": ".py",
   "mimetype": "text/x-python",
   "name": "python",
   "nbconvert_exporter": "python",
   "pygments_lexer": "ipython3",
   "version": "3.7.5"
  }
 },
 "nbformat": 4,
 "nbformat_minor": 4
}
