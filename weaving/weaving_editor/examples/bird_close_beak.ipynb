{
 "cells": [
  {
   "cell_type": "code",
   "execution_count": 1,
   "metadata": {},
   "outputs": [],
   "source": [
    "elastic_rods_dir = '../../../elastic_rods/python/'\n",
    "weaving_dir = '../../'\n",
    "import os\n",
    "import os.path as osp\n",
    "import sys; sys.path.append(elastic_rods_dir); sys.path.append(weaving_dir)\n",
    "import numpy as np, elastic_rods, linkage_vis\n",
    "import numpy.linalg as la\n",
    "from bending_validation import suppress_stdout as so\n",
    "import matplotlib.pyplot as plt\n",
    "from elastic_rods import EnergyType, InterleavingType"
   ]
  },
  {
   "cell_type": "code",
   "execution_count": 2,
   "metadata": {},
   "outputs": [],
   "source": [
    "# Reloadable libraries\n",
    "import importlib\n",
    "\n",
    "# weaving\n",
    "import analysis_helper, ribbon_linkage_helper, mesh_vis, linkage_utils, compute_curve_from_curvature, structural_analysis, importlib\n",
    "importlib.reload(analysis_helper)\n",
    "importlib.reload(ribbon_linkage_helper)\n",
    "importlib.reload(mesh_vis)\n",
    "importlib.reload(linkage_utils)\n",
    "importlib.reload(compute_curve_from_curvature)\n",
    "importlib.reload(structural_analysis)\n",
    "from analysis_helper import (compare_turning_angle,\n",
    "                            is_on_sphere, \n",
    "                            get_distance_to_center_scalar_field, \n",
    "                            plot_curvatures, \n",
    "                            get_curvature_scalar_field,\n",
    "                            construct_elastic_rod_loop_from_rod_segments, \n",
    "                            concatenate_rod_properties_from_rod_segments, \n",
    "                            compute_min_distance_rigid_transformation)\n",
    "from ribbon_linkage_helper import (update_rest_curvature, \n",
    "                                   set_ribbon_linkage,\n",
    "                                   export_linkage_geometry_to_obj,\n",
    "                                   write_linkage_ribbon_output_florin)\n",
    "\n",
    "from compute_curve_from_curvature import (match_geo_curvature_and_edge_len, get_all_curve_pattern)\n",
    "from linkage_utils import order_segments_by_ribbons, get_turning_angle_and_length_from_ordered_rods\n",
    "\n",
    "import vis.fields\n",
    "import matplotlib.cm as cm"
   ]
  },
  {
   "cell_type": "code",
   "execution_count": 3,
   "metadata": {},
   "outputs": [],
   "source": [
    "import time"
   ]
  },
  {
   "cell_type": "code",
   "execution_count": 4,
   "metadata": {},
   "outputs": [],
   "source": [
    "# Set to True in the options below if you already optimized a specific linkage\n",
    "# and you would like to reuse the optimized linkage. Loading is performed in\n",
    "# place of the full design optimization.\n",
    "# NOTE: Doesn't seem to work at the moment, leave at False\n",
    "LOAD_OPTIMIZED_DOFS = False\n",
    "\n",
    "# Set to False if strips cannot be labeled into families for a model\n",
    "USE_FAMILY_LABEL = False"
   ]
  },
  {
   "cell_type": "code",
   "execution_count": 5,
   "metadata": {},
   "outputs": [
    {
     "name": "stdout",
     "output_type": "stream",
     "text": [
      "0.01494926278511622 0.0010464483949581352\n"
     ]
    }
   ],
   "source": [
    "rod_length = 0.05979705114046488\n",
    "width = rod_length / 20 * 5\n",
    "thickness = width / 5 * 0.35\n",
    "print(width, thickness)"
   ]
  },
  {
   "cell_type": "code",
   "execution_count": 6,
   "metadata": {},
   "outputs": [],
   "source": [
    "# Close Bird\n",
    "default_camera_parameters = ((3.466009282140468, -4.674139805388271, -2.556131049738206), (-0.21402574298422497, -0.06407538766530313, -0.9747681088523519),(0.1111, 0.1865, 0.5316))\n",
    "RIBBON_CS = np.around([thickness, width], decimals=5)\n",
    "MODEL_NAME = \"bird_close_beak_1\"\n",
    "MODEL_PATH = osp.join(weaving_dir + 'normalized_objs/models/{}.obj'.format(MODEL_NAME))\n",
    "SUBDIVISION_RESOLUTION = 20\n",
    "SMOOTHING_WEIGHT = 10\n",
    "REGULARIZATION_WEIGHT = 1\n",
    "INPUT_SURFACE_PATH = osp.join(weaving_dir + 'normalized_objs/surface_models/{}.obj'.format(MODEL_NAME))\n",
    "RIBBON_NAME = \"bird_close_beak_1_strip\""
   ]
  },
  {
   "cell_type": "code",
   "execution_count": 7,
   "metadata": {},
   "outputs": [],
   "source": [
    "def initialize_linkage(surface_path = INPUT_SURFACE_PATH, useCenterline = True, cross_section = RIBBON_CS, subdivision_res = SUBDIVISION_RESOLUTION, model_path = MODEL_PATH):\n",
    "    l = elastic_rods.SurfaceAttractedLinkage(surface_path, useCenterline, model_path, subdivision_res, False, InterleavingType.triaxialWeave)\n",
    "    l.setMaterial(elastic_rods.RodMaterial('rectangle', 2000, 0.3, cross_section, stiffAxis=elastic_rods.StiffAxis.D1))\n",
    "    l.setDoFs(l.getDoFs())\n",
    "    l.set_holdClosestPointsFixed(True);\n",
    "    l.set_attraction_tgt_joint_weight(0.01);\n",
    "    l.attraction_weight = 100;\n",
    "    return l"
   ]
  },
  {
   "cell_type": "code",
   "execution_count": 8,
   "metadata": {},
   "outputs": [],
   "source": [
    "def initialize_normal_linkage(cross_section = RIBBON_CS, subdivision_res = SUBDIVISION_RESOLUTION, model_path = MODEL_PATH):\n",
    "    l = elastic_rods.RodLinkage(model_path, subdivision_res, False)\n",
    "    l.setMaterial(elastic_rods.RodMaterial('rectangle', 2000, 0.3, cross_section, stiffAxis=elastic_rods.StiffAxis.D1))\n",
    "    return l"
   ]
  },
  {
   "cell_type": "code",
   "execution_count": 9,
   "metadata": {},
   "outputs": [],
   "source": [
    "def design_parameter_solve(l,regularization_weight = 0.1, smoothing_weight = 1):\n",
    "    design_opts = elastic_rods.NewtonOptimizerOptions()\n",
    "    design_opts.niter = 10000\n",
    "    design_opts.verbose = 10\n",
    "    l.set_design_parameter_config(use_restLen = True, use_restKappa = True)\n",
    "    elastic_rods.designParameter_solve(l, design_opts, regularization_weight = 0.0, smoothing_weight = 0.001)\n",
    "    l.set_design_parameter_config(use_restLen = True, use_restKappa = True)"
   ]
  },
  {
   "cell_type": "code",
   "execution_count": 10,
   "metadata": {},
   "outputs": [],
   "source": [
    "def get_linkage_eqm(l, opt, cam_param = default_camera_parameters, target_surf = None):\n",
    "    elastic_rods.compute_equilibrium(l, options = opt)\n",
    "    if (target_surf is None):\n",
    "        view = linkage_vis.LinkageViewer(l, width=1024, height=640)\n",
    "    else:\n",
    "        view = linkage_vis.LinkageViewerWithSurface(l, target_surf, width=1024, height=640)\n",
    "    view.setCameraParams(cam_param)\n",
    "    return l, view"
   ]
  },
  {
   "cell_type": "code",
   "execution_count": 11,
   "metadata": {},
   "outputs": [],
   "source": [
    "OPTS = elastic_rods.NewtonOptimizerOptions()\n",
    "OPTS.gradTol = 1e-6\n",
    "OPTS.verbose = 10;\n",
    "OPTS.beta = 1e-8\n",
    "OPTS.niter = 100\n",
    "OPTS.verboseNonPosDef = False"
   ]
  },
  {
   "cell_type": "markdown",
   "metadata": {},
   "source": [
    "### Generate straight linkage equilibrium for testing later"
   ]
  },
  {
   "cell_type": "code",
   "execution_count": 12,
   "metadata": {},
   "outputs": [],
   "source": [
    "# straight_linkage = initialize_linkage(surface_path = INPUT_SURFACE_PATH, useCenterline = True, model_path = MODEL_PATH, cross_section = RIBBON_CS, subdivision_res = SUBDIVISION_RESOLUTION)"
   ]
  },
  {
   "cell_type": "code",
   "execution_count": 13,
   "metadata": {},
   "outputs": [],
   "source": [
    "# view = linkage_vis.LinkageViewer(straight_linkage, width=1024, height=640)\n",
    "# view.setCameraParams(default_camera_parameters)\n",
    "# view.show()"
   ]
  },
  {
   "cell_type": "code",
   "execution_count": 14,
   "metadata": {},
   "outputs": [],
   "source": [
    "# temp_view = linkage_vis.LinkageViewer(straight_linkage, width=1024, height=640)\n",
    "# temp_view.setCameraParams(default_camera_parameters)"
   ]
  },
  {
   "cell_type": "code",
   "execution_count": 15,
   "metadata": {},
   "outputs": [],
   "source": [
    "# temp_view.show()"
   ]
  },
  {
   "cell_type": "code",
   "execution_count": 16,
   "metadata": {},
   "outputs": [],
   "source": [
    "# export_linkage_geometry_to_obj(straight_linkage, '{}_intialized.obj'.format(MODEL_NAME))"
   ]
  },
  {
   "cell_type": "code",
   "execution_count": 17,
   "metadata": {},
   "outputs": [],
   "source": [
    "# straight_linkage.attraction_weight = 0\n",
    "# with so(): straight_linkage, intial_view = get_linkage_eqm(straight_linkage, cam_param = default_camera_parameters, opt = OPTS)\n",
    "# intial_view.show()"
   ]
  },
  {
   "cell_type": "code",
   "execution_count": 18,
   "metadata": {},
   "outputs": [],
   "source": [
    "# straight_rod_dof = straight_linkage.getDoFs()"
   ]
  },
  {
   "cell_type": "markdown",
   "metadata": {},
   "source": [
    "### Create Surface Attracted Linkage and solve for design parameters with fixed joint positions"
   ]
  },
  {
   "cell_type": "code",
   "execution_count": 13,
   "metadata": {},
   "outputs": [
    {
     "data": {
      "application/vnd.jupyter.widget-view+json": {
       "model_id": "21cda06e91c44237925c07448c122a8d",
       "version_major": 2,
       "version_minor": 0
      },
      "text/plain": [
       "Renderer(camera=PerspectiveCamera(aspect=1.6, children=(PointLight(color='white', intensity=0.6, position=(0.0…"
      ]
     },
     "metadata": {},
     "output_type": "display_data"
    }
   ],
   "source": [
    "with so(): curved_linkage = initialize_linkage(surface_path = INPUT_SURFACE_PATH, useCenterline = True, model_path = MODEL_PATH, cross_section = RIBBON_CS, subdivision_res = SUBDIVISION_RESOLUTION)\n",
    "curved_linkage.set_design_parameter_config(use_restLen = True, use_restKappa = True)\n",
    "curved_save_tgt_joint_pos = curved_linkage.jointPositions();\n",
    "curved_linkage_view = linkage_vis.LinkageViewerWithSurface(curved_linkage, INPUT_SURFACE_PATH, width=1024, height=640)\n",
    "# Optionally configure the visualization colors/transparency\n",
    "curved_linkage_view.viewOptions[curved_linkage_view.ViewType.LINKAGE].color = 'lightgreen'\n",
    "curved_linkage_view.viewOptions[curved_linkage_view.ViewType.LINKAGE].transparent = False\n",
    "curved_linkage_view.viewOptions[curved_linkage_view.ViewType.SURFACE].transparent = True\n",
    "curved_linkage_view.viewOptions[curved_linkage_view.ViewType.SURFACE].color = 'gray'\n",
    "curved_linkage_view.applyViewOptions()\n",
    "curved_linkage_view.show()"
   ]
  },
  {
   "cell_type": "code",
   "execution_count": 14,
   "metadata": {},
   "outputs": [],
   "source": [
    "# joint_index = 314\n",
    "# j = curved_linkage.joint(joint_index)\n",
    "# seg_index = j.segments_A[0]\n",
    "# vx_index = 0\n",
    "# if curved_linkage.segment(seg_index).startJoint != joint_index:\n",
    "#     vx_index = -1\n",
    "# joint_vector_field = [np.zeros_like(np.reshape(s.rod.gradient()[0:3*s.rod.numVertices()], (s.rod.numVertices(), 3))) for s in curved_linkage.segments()]\n",
    "# joint_vector_field[seg_index][vx_index] = curved_linkage.segment(seg_index).rod.deformedConfiguration().materialFrame[vx_index].d2\n",
    "# curved_linkage_view.update()"
   ]
  },
  {
   "cell_type": "code",
   "execution_count": 15,
   "metadata": {},
   "outputs": [],
   "source": [
    "# get_all_curve_pattern(curved_linkage, RIBBON_CS[1], SUBDIVISION_RESOLUTION, 'test_bird', image_type='svg')"
   ]
  },
  {
   "cell_type": "code",
   "execution_count": 16,
   "metadata": {},
   "outputs": [],
   "source": [
    "loadedDoFs = np.load(\"dof_files/{}_0.35mm_0.5mm.npy\".format(MODEL_NAME))\n",
    "curved_linkage.setExtendedDoFs(loadedDoFs)\n",
    "curved_linkage_view.update()"
   ]
  },
  {
   "cell_type": "code",
   "execution_count": 17,
   "metadata": {},
   "outputs": [],
   "source": [
    "with so(): elastic_rods.compute_equilibrium(curved_linkage)"
   ]
  },
  {
   "cell_type": "code",
   "execution_count": 18,
   "metadata": {},
   "outputs": [],
   "source": [
    "curved_linkage_view.update()"
   ]
  },
  {
   "cell_type": "code",
   "execution_count": 22,
   "metadata": {},
   "outputs": [],
   "source": [
    "# def curved_callback(prob, i):\n",
    "#     curved_linkage_view.update()"
   ]
  },
  {
   "cell_type": "code",
   "execution_count": 23,
   "metadata": {},
   "outputs": [],
   "source": [
    "# curved_dpo = elastic_rods.get_designParameter_optimizer(curved_linkage, 0.01, 0.01, callback=curved_callback)\n",
    "# curved_dpo.options.niter = 1000\n",
    "# curved_dpp = curved_dpo.get_problem()"
   ]
  },
  {
   "cell_type": "code",
   "execution_count": 24,
   "metadata": {},
   "outputs": [],
   "source": [
    "# with so(): curved_cr = curved_dpo.optimize()"
   ]
  },
  {
   "cell_type": "code",
   "execution_count": 25,
   "metadata": {},
   "outputs": [],
   "source": [
    "import linkage_optimization"
   ]
  },
  {
   "cell_type": "code",
   "execution_count": 26,
   "metadata": {},
   "outputs": [],
   "source": [
    "with so(): elastic_rods.compute_equilibrium(curved_linkage, options = OPTS)"
   ]
  },
  {
   "cell_type": "code",
   "execution_count": 27,
   "metadata": {},
   "outputs": [],
   "source": [
    "OPTS.niter = 200\n",
    "curved_linkage.set_design_parameter_config(use_restLen = True, use_restKappa = True)\n",
    "useCenterline = True\n",
    "optimizer = linkage_optimization.WeavingOptimization(curved_linkage, INPUT_SURFACE_PATH, useCenterline, equilibrium_options=OPTS, pinJoint = 0, useFixedJoint = False)\n",
    "optimizer.set_target_joint_position(curved_save_tgt_joint_pos)\n",
    "# optimizer.setUseCenterline(curved_linkage, useCenterline, 0.01, 10)\n",
    "curved_linkage_view.update()"
   ]
  },
  {
   "cell_type": "code",
   "execution_count": 28,
   "metadata": {},
   "outputs": [],
   "source": [
    "optimizer.rl_regularization_weight = 1\n",
    "optimizer.smoothing_weight = 10\n",
    "optimizer.beta = 500000.0\n",
    "optimizer.gamma = 1\n",
    "algorithm = linkage_optimization.WeavingOptAlgorithm.NEWTON_CG\n",
    "def update_viewer():\n",
    "    curved_linkage_view.update()"
   ]
  },
  {
   "cell_type": "code",
   "execution_count": 29,
   "metadata": {},
   "outputs": [],
   "source": [
    "optimizer.set_holdClosestPointsFixed(True)\n",
    "optimizer.setLinkageAttractionWeight(1e2)"
   ]
  },
  {
   "cell_type": "code",
   "execution_count": 30,
   "metadata": {},
   "outputs": [],
   "source": [
    "optimizer.WeavingOptimize(algorithm, 2000, 1.0, 1e-2, update_viewer)"
   ]
  },
  {
   "cell_type": "code",
   "execution_count": 30,
   "metadata": {},
   "outputs": [],
   "source": [
    "optimizer.set_holdClosestPointsFixed(False)"
   ]
  },
  {
   "cell_type": "code",
   "execution_count": 31,
   "metadata": {},
   "outputs": [],
   "source": [
    "optimizer.setLinkageAttractionWeight(1e-3)"
   ]
  },
  {
   "cell_type": "code",
   "execution_count": 39,
   "metadata": {},
   "outputs": [],
   "source": [
    "# if not LOAD_OPTIMIZED_DOFS:\n",
    "#     optimizer.WeavingOptimize(algorithm, 2000, 1.0, 1e-2, update_viewer)\n",
    "# else:\n",
    "#     loadedDoFs = np.load(\"dof_files/{}.npy\".format(MODEL_NAME))\n",
    "#     linkage.setExtendedDoFs(loadedDoFs)\n",
    "#     curved_linkage_view.update()"
   ]
  },
  {
   "cell_type": "code",
   "execution_count": 40,
   "metadata": {},
   "outputs": [],
   "source": [
    "# # Store DoFs to file\n",
    "# if not os.path.exists(\"dof_files\"):\n",
    "#     os.makedirs(\"dof_files\")\n",
    "# rawDoFs = curved_linkage.getExtendedDoFs()\n",
    "# np.save(\"dof_files/{}_no_tensile_forces_1e6.npy\".format(MODEL_NAME), rawDoFs)"
   ]
  },
  {
   "cell_type": "code",
   "execution_count": 41,
   "metadata": {},
   "outputs": [],
   "source": [
    "optimizer.WeavingOptimize(algorithm, 2000, 1.0, 1e-2, update_viewer)"
   ]
  },
  {
   "cell_type": "code",
   "execution_count": 42,
   "metadata": {},
   "outputs": [
    {
     "name": "stdout",
     "output_type": "stream",
     "text": [
      "0.0003057773269546913\n"
     ]
    }
   ],
   "source": [
    "curved_optimizer_energy = curved_linkage.energy()\n",
    "validation_curved_linkage = optimizer.getLinesearchWeaverLinkage()\n",
    "validation_curved_linkage.attraction_weight = 1e-7\n",
    "with so(): elastic_rods.compute_equilibrium(validation_curved_linkage, options = OPTS)\n",
    "validation_curved_view = linkage_vis.LinkageViewer(validation_curved_linkage, width=1024, height=640)\n",
    "validation_curved_energy = validation_curved_linkage.energy()\n",
    "print(abs((validation_curved_energy-curved_optimizer_energy)/curved_optimizer_energy))"
   ]
  },
  {
   "cell_type": "code",
   "execution_count": 43,
   "metadata": {},
   "outputs": [],
   "source": [
    "with so(): elastic_rods.compute_equilibrium(curved_linkage, options = OPTS)"
   ]
  },
  {
   "cell_type": "code",
   "execution_count": 110,
   "metadata": {},
   "outputs": [
    {
     "data": {
      "text/plain": [
       "0.001486004214049819"
      ]
     },
     "execution_count": 110,
     "metadata": {},
     "output_type": "execute_result"
    }
   ],
   "source": [
    "optimizer.objective.terms[-1].term.weight = 1e3\n",
    "optimizer.objective.terms[-1].term.normalWeight = 1\n",
    "optimizer.objective.terms[-1].term.tangentialWeight = 1\n",
    "optimizer.objective.terms[-1].term.boundaryNormalWeight = 0\n",
    "optimizer.objective.terms[-1].term.boundaryTangentialWeight = 0\n",
    "optimizer.objective.terms[-1].term.normalActivationThreshold = -1e-4\n",
    "optimizer.objective.terms[-1].term.value()"
   ]
  },
  {
   "cell_type": "code",
   "execution_count": 111,
   "metadata": {},
   "outputs": [
    {
     "data": {
      "text/plain": [
       "2.6085429033861254"
      ]
     },
     "execution_count": 111,
     "metadata": {},
     "output_type": "execute_result"
    }
   ],
   "source": [
    "optimizer.objective.value()"
   ]
  },
  {
   "cell_type": "code",
   "execution_count": null,
   "metadata": {},
   "outputs": [],
   "source": [
    "optimizer.WeavingOptimize(algorithm, 2000, 1.0, 1e-2, update_viewer)"
   ]
  },
  {
   "cell_type": "code",
   "execution_count": 46,
   "metadata": {},
   "outputs": [
    {
     "data": {
      "application/vnd.jupyter.widget-view+json": {
       "model_id": "7c4c764e9a9a450e865a1f66f8fc40cc",
       "version_major": 2,
       "version_minor": 0
      },
      "text/plain": [
       "HBox(children=(Renderer(camera=PerspectiveCamera(children=(PointLight(color='white', intensity=0.6, position=(…"
      ]
     },
     "metadata": {},
     "output_type": "display_data"
    },
    {
     "data": {
      "image/png": "[encoded data removed]",
      "text/plain": [
       "<Figure size 720x288 with 3 Axes>"
      ]
     },
     "metadata": {
      "needs_background": "light"
     },
     "output_type": "display_data"
    }
   ],
   "source": [
    "structural_analysis.weavingCrossingAnalysis(validation_curved_linkage, omitBoundary=True)\n",
    "v = structural_analysis.crossingForceFieldVisualization(validation_curved_linkage, omitBoundary=True)\n",
    "v.show()"
   ]
  },
  {
   "cell_type": "code",
   "execution_count": 39,
   "metadata": {},
   "outputs": [
    {
     "data": {
      "text/plain": [
       "1.2766397711537385"
      ]
     },
     "execution_count": 39,
     "metadata": {},
     "output_type": "execute_result"
    }
   ],
   "source": [
    "optimizer.objective.terms[-1].term.weight = 1e6\n",
    "optimizer.objective.terms[-1].term.normalWeight = 1\n",
    "optimizer.objective.terms[-1].term.tangentialWeight = 1\n",
    "optimizer.objective.terms[-1].term.boundaryNormalWeight = 0\n",
    "optimizer.objective.terms[-1].term.boundaryTangentialWeight = 0\n",
    "optimizer.objective.terms[-1].term.normalActivationThreshold = -1e-4\n",
    "optimizer.objective.terms[-1].term.value()"
   ]
  },
  {
   "cell_type": "code",
   "execution_count": 40,
   "metadata": {},
   "outputs": [
    {
     "data": {
      "text/plain": [
       "2.897684995444444"
      ]
     },
     "execution_count": 40,
     "metadata": {},
     "output_type": "execute_result"
    }
   ],
   "source": [
    "optimizer.objective.value()"
   ]
  },
  {
   "cell_type": "code",
   "execution_count": 41,
   "metadata": {},
   "outputs": [],
   "source": [
    "optimizer.WeavingOptimizie(algorithm, 2000, 1.0, 1e-2, update_viewer)"
   ]
  },
  {
   "cell_type": "code",
   "execution_count": 37,
   "metadata": {},
   "outputs": [
    {
     "data": {
      "application/vnd.jupyter.widget-view+json": {
       "model_id": "74a7708758fb4a0d8a0f4128e0b92716",
       "version_major": 2,
       "version_minor": 0
      },
      "text/plain": [
       "HBox(children=(Renderer(camera=PerspectiveCamera(children=(PointLight(color='white', intensity=0.6, position=(…"
      ]
     },
     "metadata": {},
     "output_type": "display_data"
    },
    {
     "data": {
      "image/png": "[encoded data removed]",
      "text/plain": [
       "<Figure size 720x288 with 3 Axes>"
      ]
     },
     "metadata": {
      "needs_background": "light"
     },
     "output_type": "display_data"
    }
   ],
   "source": [
    "structural_analysis.weavingCrossingAnalysis(curved_linkage, omitBoundary=True)\n",
    "v2 = structural_analysis.crossingForceFieldVisualization(curved_linkage, omitBoundary=True)\n",
    "v2.show()"
   ]
  },
  {
   "cell_type": "code",
   "execution_count": 51,
   "metadata": {},
   "outputs": [
    {
     "data": {
      "text/plain": [
       "2.968305317115149"
      ]
     },
     "execution_count": 51,
     "metadata": {},
     "output_type": "execute_result"
    }
   ],
   "source": [
    "optimizer.objective.value()"
   ]
  },
  {
   "cell_type": "code",
   "execution_count": 52,
   "metadata": {},
   "outputs": [
    {
     "data": {
      "text/plain": [
       "116.60590097273513"
      ]
     },
     "execution_count": 52,
     "metadata": {},
     "output_type": "execute_result"
    }
   ],
   "source": [
    "optimizer.objective.terms[-1].term.weight = 1e8\n",
    "optimizer.objective.terms[-1].term.normalWeight = 1\n",
    "optimizer.objective.terms[-1].term.tangentialWeight = 1\n",
    "optimizer.objective.terms[-1].term.boundaryNormalWeight = 0\n",
    "optimizer.objective.terms[-1].term.boundaryTangentialWeight = 0\n",
    "optimizer.objective.terms[-1].term.normalActivationThreshold = -1e-4\n",
    "optimizer.objective.terms[-1].term.value()"
   ]
  },
  {
   "cell_type": "code",
   "execution_count": null,
   "metadata": {},
   "outputs": [],
   "source": [
    "optimizer.WeavingOptimize(algorithm, 2000, 1.0, 1e-2, update_viewer)"
   ]
  },
  {
   "cell_type": "code",
   "execution_count": null,
   "metadata": {},
   "outputs": [],
   "source": [
    "structural_analysis.weavingCrossingAnalysis(curved_linkage, omitBoundary=True)\n",
    "v3 = structural_analysis.crossingForceFieldVisualization(curved_linkage, omitBoundary=True)\n",
    "v3.show()"
   ]
  },
  {
   "cell_type": "markdown",
   "metadata": {},
   "source": [
    "### Apply perturbation "
   ]
  },
  {
   "cell_type": "code",
   "execution_count": null,
   "metadata": {},
   "outputs": [],
   "source": [
    "# linesearch_weaver = optimizer.get_linesearch_weaver()\n",
    "# linesearch_weaver.setDoFs(straight_rod_dof)"
   ]
  },
  {
   "cell_type": "code",
   "execution_count": null,
   "metadata": {},
   "outputs": [],
   "source": [
    "# perturbation_test_view = linkage_vis.LinkageViewer(linesearch_weaver, width=1024, height=640)\n",
    "# perturbation_test_view.setCameraParams(default_camera_parameters)\n",
    "# perturbation_test_view.show()"
   ]
  },
  {
   "cell_type": "code",
   "execution_count": null,
   "metadata": {},
   "outputs": [],
   "source": [
    "# linesearch_weaver.attraction_weight"
   ]
  },
  {
   "cell_type": "code",
   "execution_count": null,
   "metadata": {},
   "outputs": [],
   "source": [
    "# with so(): elastic_rods.compute_equilibrium(linesearch_weaver, options = OPTS)"
   ]
  },
  {
   "cell_type": "code",
   "execution_count": null,
   "metadata": {},
   "outputs": [],
   "source": [
    "# perturbation_test_view.update()"
   ]
  },
  {
   "cell_type": "code",
   "execution_count": null,
   "metadata": {},
   "outputs": [],
   "source": [
    "# export_linkage_geometry_to_obj(linkage, '{}_optimized.obj'.format(MODEL_NAME))"
   ]
  },
  {
   "cell_type": "code",
   "execution_count": null,
   "metadata": {},
   "outputs": [],
   "source": [
    "# view.getCameraParams()"
   ]
  },
  {
   "cell_type": "code",
   "execution_count": null,
   "metadata": {},
   "outputs": [],
   "source": [
    "# view.setCameraParams(default_camera_parameters)"
   ]
  },
  {
   "cell_type": "code",
   "execution_count": null,
   "metadata": {},
   "outputs": [],
   "source": [
    "# import vis.fields\n",
    "# import matplotlib.cm as cm\n",
    "# sf = vis.fields.ScalarField(linkage, 0.5 * np.ones((linkage.numSegments(), linkage.segment(0).rod.numVertices())), colormap=cm.viridis, vmin = 0, vmax = 1)\n",
    "# view.update(scalarField=sf)\n",
    "# default_camera_parameters = ((3.466009282140468, -4.674139805388271, -2.556131049738206), (-0.21402574298422497, -0.06407538766530313, -0.9747681088523519),(0.1111, 0.1865, 0.5316))\n",
    "# view.setCameraParams(default_camera_parameters)"
   ]
  },
  {
   "cell_type": "code",
   "execution_count": 32,
   "metadata": {},
   "outputs": [
    {
     "name": "stdout",
     "output_type": "stream",
     "text": [
      "0.0007529056525952748\n"
     ]
    }
   ],
   "source": [
    "curved_optimizer_energy = curved_linkage.energy()\n",
    "validation_curved_linkage = optimizer.getLinesearchWeaverLinkage()\n",
    "validation_curved_linkage.attraction_weight = 1e-7\n",
    "with so(): elastic_rods.compute_equilibrium(validation_curved_linkage, options = OPTS)\n",
    "validation_curved_view = linkage_vis.LinkageViewer(validation_curved_linkage, width=1024, height=640)\n",
    "validation_curved_energy = validation_curved_linkage.energy()\n",
    "print(abs((validation_curved_energy-curved_optimizer_energy)/curved_optimizer_energy))"
   ]
  },
  {
   "cell_type": "code",
   "execution_count": 33,
   "metadata": {},
   "outputs": [
    {
     "data": {
      "application/vnd.jupyter.widget-view+json": {
       "model_id": "4d01276327984b448a08356c4dc7f373",
       "version_major": 2,
       "version_minor": 0
      },
      "text/plain": [
       "Renderer(camera=PerspectiveCamera(aspect=1.6, children=(PointLight(color='white', intensity=0.6, position=(0.0…"
      ]
     },
     "metadata": {},
     "output_type": "display_data"
    }
   ],
   "source": [
    "validation_curved_view.show()"
   ]
  },
  {
   "cell_type": "code",
   "execution_count": 66,
   "metadata": {},
   "outputs": [],
   "source": [
    "# # Store DoFs to file\n",
    "# if not os.path.exists(\"dof_files\"):\n",
    "#     os.makedirs(\"dof_files\")\n",
    "# rawDoFs = validation_curved_linkage.getExtendedDoFs()\n",
    "# np.save(\"dof_files/{}_0.35mm_0.5mm.npy\".format(MODEL_NAME), rawDoFs)"
   ]
  },
  {
   "cell_type": "markdown",
   "metadata": {},
   "source": [
    "### Get laser cutting pattern"
   ]
  },
  {
   "cell_type": "code",
   "execution_count": 43,
   "metadata": {},
   "outputs": [
    {
     "name": "stdout",
     "output_type": "stream",
     "text": [
      "Min Width  0.01495\n",
      "num seg per rod 6\n",
      "num seg per rod 60\n",
      "num seg per rod 40\n",
      "num seg per rod 60\n",
      "num seg per rod 59\n",
      "num seg per rod 35\n",
      "num seg per rod 59\n",
      "num seg per rod 35\n",
      "num seg per rod 48\n",
      "num seg per rod 117\n",
      "num seg per rod 5\n",
      "num seg per rod 6\n",
      "num seg per rod 6\n",
      "num seg per rod 5\n",
      "num seg per rod 40\n",
      "num seg per rod 6\n",
      "num seg per rod 48\n",
      "[[0, 1, 2, 3, 4, 5, 0], [7, 1, 8, 9, 10, 11, 12, 13, 14, 15, 16, 17, 18, 19, 20, 21, 22, 23, 24, 25, 26, 27, 28, 29, 30, 31, 32, 33, 34, 35, 36, 37, 38, 39, 40, 41, 42, 43, 44, 45, 46, 47, 48, 49, 50, 51, 29, 52, 53, 54, 55, 56, 57, 58, 59, 60, 61, 62, 17, 63, 7], [65, 66, 67, 68, 69, 70, 2, 8, 71, 72, 73, 74, 75, 76, 77, 78, 54, 79, 80, 32, 81, 82, 83, 84, 85, 86, 87, 88, 89, 90, 45, 91, 92, 93, 94, 95, 96, 22, 97, 98, 65], [100, 101, 102, 9, 71, 103, 104, 105, 106, 107, 108, 109, 110, 111, 97, 21, 112, 113, 114, 115, 116, 117, 118, 119, 120, 121, 122, 33, 81, 123, 124, 125, 126, 127, 128, 129, 130, 90, 44, 131, 132, 133, 134, 135, 136, 137, 119, 138, 139, 140, 55, 78, 141, 142, 143, 144, 145, 146, 109, 147, 100], [149, 150, 15, 151, 152, 153, 154, 155, 156, 77, 141, 157, 158, 159, 27, 160, 161, 162, 163, 92, 164, 165, 132, 166, 167, 168, 39, 169, 170, 171, 172, 173, 82, 123, 174, 175, 176, 50, 177, 161, 178, 179, 95, 180, 181, 113, 182, 183, 184, 61, 185, 152, 186, 187, 188, 189, 72, 103, 190, 149], [192, 63, 18, 193, 182, 114, 194, 195, 196, 197, 133, 166, 198, 41, 199, 200, 201, 86, 202, 203, 204, 124, 174, 205, 30, 52, 206, 157, 142, 207, 208, 209, 210, 104, 190, 192], [212, 213, 11, 214, 189, 73, 215, 209, 216, 217, 145, 218, 219, 220, 23, 96, 180, 221, 222, 195, 223, 224, 136, 225, 226, 227, 35, 228, 173, 83, 229, 203, 230, 127, 231, 232, 233, 46, 91, 164, 234, 235, 196, 223, 236, 117, 237, 238, 239, 57, 240, 156, 76, 241, 208, 216, 242, 107, 243, 212], [245, 147, 110, 246, 220, 24, 247, 178, 162, 248, 47, 233, 249, 129, 250, 87, 201, 251, 252, 170, 253, 36, 227, 254, 120, 138, 255, 239, 58, 256, 153, 186, 257, 12, 213, 245], [305, 294, 13, 257, 187, 270, 302, 75, 241, 207, 143, 306, 307, 308, 25, 247, 179, 94, 301, 262, 235, 197, 134, 290, 309, 297, 37, 253, 171, 266, 298, 85, 202, 230, 126, 299, 285, 176, 51, 28, 159, 310, 306, 144, 217, 242, 106, 303, 305], [312, 243, 108, 146, 218, 313, 308, 26, 160, 177, 49, 300, 287, 231, 128, 250, 88, 288, 263, 42, 198, 167, 289, 309, 296, 226, 254, 121, 267, 284, 79, 53, 206, 158, 310, 307, 313, 219, 246, 111, 98, 280, 259, 64, 192, 149, 292, 305, 293, 212, 258, 279, 100, 320, 6, 325, 321, 314, 276, 65, 324, 318, 317, 277, 323, 7, 0, 211, 191, 311, 304, 312, 244, 245, 148, 99, 280, 260, 19, 193, 183, 281, 282, 283, 238, 255, 139, 268, 284, 80, 31, 205, 175, 285, 286, 287, 232, 249, 130, 89, 288, 264, 199, 40, 168, 289, 290, 135, 224, 236, 116, 291, 281, 184, 62, 16, 150, 312], [314, 275, 315, 67, 316, 314], [318, 316, 68, 319, 272, 5, 318], [321, 322, 273, 319, 69, 278, 321], [324, 66, 315, 274, 322, 324], [259, 260, 20, 112, 181, 221, 261, 262, 234, 165, 131, 43, 263, 264, 200, 251, 265, 266, 172, 228, 34, 122, 267, 268, 140, 56, 240, 155, 269, 270, 188, 214, 10, 102, 271, 4, 272, 273, 274, 275, 259], [277, 278, 70, 3, 271, 101, 277], [293, 294, 14, 151, 185, 60, 295, 283, 237, 118, 137, 225, 296, 297, 38, 169, 252, 265, 298, 84, 229, 204, 125, 299, 286, 300, 48, 248, 163, 93, 301, 261, 222, 194, 115, 291, 282, 295, 59, 256, 154, 269, 302, 74, 215, 210, 105, 303, 293]]\n"
     ]
    },
    {
     "data": {
      "image/png": "[encoded data removed]",
      "text/plain": [
       "<Figure size 432x288 with 1 Axes>"
      ]
     },
     "metadata": {
      "needs_background": "light"
     },
     "output_type": "display_data"
    }
   ],
   "source": [
    "if not os.path.exists(RIBBON_NAME):\n",
    "    os.makedirs(RIBBON_NAME)\n",
    "get_all_curve_pattern(validation_curved_linkage, RIBBON_CS[1], SUBDIVISION_RESOLUTION, RIBBON_NAME, image_type='svg', flip_angles = True, target_ribbon_width = 5)"
   ]
  },
  {
   "cell_type": "markdown",
   "metadata": {},
   "source": [
    "### Generate Output needed by Florin for Rendering"
   ]
  },
  {
   "cell_type": "code",
   "execution_count": 36,
   "metadata": {},
   "outputs": [],
   "source": [
    "ribbons = order_segments_by_ribbons(validation_curved_linkage)\n",
    "write_linkage_ribbon_output_florin(validation_curved_linkage, ribbons, SUBDIVISION_RESOLUTION, RIBBON_NAME, False)"
   ]
  },
  {
   "cell_type": "code",
   "execution_count": null,
   "metadata": {},
   "outputs": [],
   "source": []
  }
 ],
 "metadata": {
  "kernelspec": {
   "display_name": "Python 3",
   "language": "python",
   "name": "python3"
  },
  "language_info": {
   "codemirror_mode": {
    "name": "ipython",
    "version": 3
   },
   "file_extension": ".py",
   "mimetype": "text/x-python",
   "name": "python",
   "nbconvert_exporter": "python",
   "pygments_lexer": "ipython3",
   "version": "3.7.5"
  }
 },
 "nbformat": 4,
 "nbformat_minor": 4
}
