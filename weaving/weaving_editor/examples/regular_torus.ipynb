{
 "cells": [
  {
   "cell_type": "code",
   "execution_count": 1,
   "metadata": {},
   "outputs": [],
   "source": [
    "elastic_rods_dir = '../../../elastic_rods/python/'\n",
    "weaving_dir = '../../'\n",
    "import os\n",
    "import os.path as osp\n",
    "import sys; sys.path.append(elastic_rods_dir); sys.path.append(weaving_dir)\n",
    "import numpy as np, elastic_rods, linkage_vis\n",
    "import numpy.linalg as la\n",
    "from bending_validation import suppress_stdout as so\n",
    "import matplotlib.pyplot as plt\n",
    "from elastic_rods import EnergyType, InterleavingType\n",
    "\n",
    "# weaving\n",
    "import analysis_helper, ribbon_linkage_helper, mesh_vis, linkage_utils, compute_curve_from_curvature, importlib\n",
    "\n",
    "import vis.fields\n",
    "import matplotlib.cm as cm\n",
    "import time"
   ]
  },
  {
   "cell_type": "code",
   "execution_count": 2,
   "metadata": {},
   "outputs": [],
   "source": [
    "# Set to True in the options below if you already optimized a specific linkage\n",
    "# and you would like to reuse the optimized linkage. Loading is performed in\n",
    "# place of the full design optimization.\n",
    "# NOTE: Doesn't seem to work at the moment, leave at False\n",
    "LOAD_OPTIMIZED_DOFS = False\n",
    "\n",
    "# Set to False if strips cannot be labeled into families for a model\n",
    "USE_FAMILY_LABEL = False"
   ]
  },
  {
   "cell_type": "code",
   "execution_count": 3,
   "metadata": {},
   "outputs": [],
   "source": [
    "# Regular Torus 1\n",
    "default_camera_parameters = ((3.466009282140468, -4.674139805388271, -2.556131049738206), (-0.21402574298422497, -0.06407538766530313, -0.9747681088523519),(0.1111, 0.1865, 0.5316))\n",
    "RIBBON_CS = [1/200, 1/20]\n",
    "MODEL_NAME = \"regular_torus_1\"\n",
    "MODEL_PATH = osp.join(weaving_dir + 'normalized_objs/models/{}.obj'.format(MODEL_NAME))\n",
    "SUBDIVISION_RESOLUTION = 20\n",
    "SMOOTHING_WEIGHT = 10\n",
    "REGULARIZATION_WEIGHT = 0\n",
    "INPUT_SURFACE_PATH = osp.join(weaving_dir + 'normalized_objs/surface_models/{}.obj'.format(MODEL_NAME))\n",
    "RIBBON_NAME = \"{}_strip\".format(MODEL_NAME)"
   ]
  },
  {
   "cell_type": "code",
   "execution_count": 4,
   "metadata": {},
   "outputs": [],
   "source": [
    "def initialize_linkage(surface_path = INPUT_SURFACE_PATH, useCenterline = True, cross_section = RIBBON_CS, subdivision_res = SUBDIVISION_RESOLUTION, model_path = MODEL_PATH):\n",
    "    l = elastic_rods.SurfaceAttractedLinkage(surface_path, useCenterline, model_path, subdivision_res, False, InterleavingType.triaxialWeave)\n",
    "    l.setMaterial(elastic_rods.RodMaterial('rectangle', 2000, 0.3, cross_section, stiffAxis=elastic_rods.StiffAxis.D1))\n",
    "    l.set_holdClosestPointsFixed(True);\n",
    "    l.set_attraction_tgt_joint_weight(0.01);\n",
    "    l.attraction_weight = 100;\n",
    "    return l"
   ]
  },
  {
   "cell_type": "code",
   "execution_count": 5,
   "metadata": {},
   "outputs": [],
   "source": [
    "def initialize_normal_linkage(cross_section = RIBBON_CS, subdivision_res = SUBDIVISION_RESOLUTION, model_path = MODEL_PATH):\n",
    "    l = elastic_rods.RodLinkage(model_path, subdivision_res, False)\n",
    "    l.setMaterial(elastic_rods.RodMaterial('rectangle', 2000, 0.3, cross_section, stiffAxis=elastic_rods.StiffAxis.D1))\n",
    "    return l"
   ]
  },
  {
   "cell_type": "code",
   "execution_count": 6,
   "metadata": {},
   "outputs": [],
   "source": [
    "def get_linkage_eqm(l, opt, cam_param = default_camera_parameters, target_surf = None):\n",
    "    elastic_rods.compute_equilibrium(l, options = opt)\n",
    "    if (target_surf is None):\n",
    "        view = linkage_vis.LinkageViewer(l, width=1024, height=640)\n",
    "    else:\n",
    "        view = linkage_vis.LinkageViewerWithSurface(l, target_surf, width=1024, height=640)\n",
    "    view.setCameraParams(cam_param)\n",
    "    return l, view"
   ]
  },
  {
   "cell_type": "code",
   "execution_count": 7,
   "metadata": {},
   "outputs": [],
   "source": [
    "OPTS = elastic_rods.NewtonOptimizerOptions()\n",
    "OPTS.gradTol = 1e-6\n",
    "OPTS.verbose = 10;\n",
    "OPTS.beta = 1e-8\n",
    "OPTS.niter = 100\n",
    "OPTS.verboseNonPosDef = False"
   ]
  },
  {
   "cell_type": "markdown",
   "metadata": {},
   "source": [
    "### Generate straight linkage equilibrium for testing later"
   ]
  },
  {
   "cell_type": "code",
   "execution_count": 8,
   "metadata": {},
   "outputs": [],
   "source": [
    "# straight_linkage = initialize_linkage(surface_path = INPUT_SURFACE_PATH, useCenterline = True, model_path = MODEL_PATH, cross_section = RIBBON_CS, subdivision_res = SUBDIVISION_RESOLUTION)"
   ]
  },
  {
   "cell_type": "code",
   "execution_count": 9,
   "metadata": {},
   "outputs": [],
   "source": [
    "# view = linkage_vis.LinkageViewer(straight_linkage, width=1024, height=640)\n",
    "# view.setCameraParams(default_camera_parameters)\n",
    "# view.show()"
   ]
  },
  {
   "cell_type": "code",
   "execution_count": 10,
   "metadata": {},
   "outputs": [],
   "source": [
    "# straight_linkage.attraction_weight = 0\n",
    "# with so(): straight_linkage, initial_view = get_linkage_eqm(straight_linkage, cam_param = default_camera_parameters, opt = OPTS)\n",
    "# initial_view.show()"
   ]
  },
  {
   "cell_type": "code",
   "execution_count": 11,
   "metadata": {},
   "outputs": [],
   "source": [
    "# straight_rod_dof = straight_linkage.getDoFs()"
   ]
  },
  {
   "cell_type": "code",
   "execution_count": 12,
   "metadata": {},
   "outputs": [],
   "source": [
    "# straight_linkage.energy(elastic_rods.SurfaceAttractionEnergyType.Elastic)"
   ]
  },
  {
   "cell_type": "markdown",
   "metadata": {},
   "source": [
    "### Create Surface Attracted Linkage and solve for design parameters with fixed joint positions"
   ]
  },
  {
   "cell_type": "code",
   "execution_count": 13,
   "metadata": {},
   "outputs": [],
   "source": [
    "with so(): linkage = initialize_linkage(surface_path = INPUT_SURFACE_PATH, useCenterline = True, model_path = MODEL_PATH, cross_section = RIBBON_CS, subdivision_res = SUBDIVISION_RESOLUTION)\n",
    "# with so(): linkage = initialize_normal_linkage(model_path = MODEL_PATH, cross_section = RIBBON_CS, subdivision_res = SUBDIVISION_RESOLUTION)\n",
    "save_tgt_joint_pos = linkage.jointPositions()"
   ]
  },
  {
   "cell_type": "code",
   "execution_count": 28,
   "metadata": {},
   "outputs": [],
   "source": [
    "joint_normals = np.array([linkage.joint(i).normal for i in range(linkage.numJoints())])\n",
    "joint_projection_normals = linkage.get_closest_point_normal(linkage.jointPositions())\n",
    "joint_projection_normals = joint_projection_normals.reshape(joint_normals.shape)\n",
    "for i in range(len(joint_normals)):\n",
    "    print(np.dot(joint_projection_normals[i], joint_normals[i]))"
   ]
  },
  {
   "cell_type": "code",
   "execution_count": 21,
   "metadata": {},
   "outputs": [
    {
     "data": {
      "application/vnd.jupyter.widget-view+json": {
       "model_id": "c3ba5477577b4f06b4b0e6515773c46b",
       "version_major": 2,
       "version_minor": 0
      },
      "text/plain": [
       "Renderer(camera=PerspectiveCamera(children=(PointLight(color='white', intensity=0.6, position=(0.0, 0.0, 5.0),…"
      ]
     },
     "metadata": {},
     "output_type": "display_data"
    }
   ],
   "source": [
    "view = linkage_vis.LinkageViewer(linkage)\n",
    "view.show()"
   ]
  },
  {
   "cell_type": "code",
   "execution_count": 29,
   "metadata": {},
   "outputs": [],
   "source": [
    "loadedDoFs = np.load(\"dof_files/{}.npy\".format(MODEL_NAME))\n",
    "linkage.setExtendedDoFs(loadedDoFs)"
   ]
  },
  {
   "cell_type": "code",
   "execution_count": 30,
   "metadata": {},
   "outputs": [],
   "source": [
    "view.update()"
   ]
  },
  {
   "cell_type": "code",
   "execution_count": 16,
   "metadata": {},
   "outputs": [],
   "source": [
    "rw = 0.1\n",
    "sw = 0.1"
   ]
  },
  {
   "cell_type": "code",
   "execution_count": 17,
   "metadata": {},
   "outputs": [],
   "source": [
    "iterateData = []\n",
    "iterateSegmentRL = []\n",
    "iterateEdgeRL = []\n",
    "!mkdir -p dps_iterates\n",
    "!rm -f dps_iterates/*.msh dps_iterates/*.png\n",
    "prev_vars = linkage.getExtendedDoFsPSRL()\n",
    "def callback(prob, i):\n",
    "    global prev_vars\n",
    "    curr_vars = linkage.getExtendedDoFsPSRL()\n",
    "    linkage.saveVisualizationGeometry(f'dps_iterates/it_{i}.msh', averagedMaterialFrames=True, averagedCrossSections=True)\n",
    "    iterateSegmentRL.append(linkage.getPerSegmentRestLength())\n",
    "    iterateEdgeRL.append(np.array([s.rod.restLengths() for s in linkage.segments()]).ravel())\n",
    "    iterateData.append([prob.restKappaSmoothness(),\n",
    "                        linkage.totalRestLength(),\n",
    "                        linkage.designParameterSolve_energy(),\n",
    "                        np.linalg.norm(curr_vars - prev_vars)])\n",
    "    prev_vars[:] = curr_vars\n",
    "    if (i % 20) != 0: return\n",
    "    view.update()"
   ]
  },
  {
   "cell_type": "code",
   "execution_count": 18,
   "metadata": {},
   "outputs": [],
   "source": [
    "dpo = elastic_rods.get_designParameter_optimizer(linkage, rw, sw, callback=callback)\n",
    "dpo.options.niter = 10000\n",
    "dpp = dpo.get_problem()"
   ]
  },
  {
   "cell_type": "code",
   "execution_count": 19,
   "metadata": {
    "scrolled": true
   },
   "outputs": [
    {
     "name": "stdout",
     "output_type": "stream",
     "text": [
      "0\t29.0179\t2573.87\t2573.87\t1\t1\n",
      "1\t14.4416\t884.6\t884.6\t1\t1\n",
      "2\t9.33146\t296.416\t296.416\t1\t1\n",
      "3\t6.95406\t117.746\t117.746\t1\t1\n",
      "4\t5.46968\t61.3448\t61.3448\t1\t1\n",
      "5\t4.29073\t42.8066\t42.8066\t1\t1\n",
      "6\t3.30289\t36.2496\t36.2496\t1\t1\n",
      "7\t2.55492\t33.7101\t33.7101\t1\t1\n",
      "8\t2.04101\t44.1353\t44.1353\t1\t1\n",
      "9\t1.70963\t39.5592\t39.5592\t1\t1\n",
      "10\t1.50205\t42.7576\t42.7576\t1\t1\n",
      "11\t1.43726\t14.0603\t14.0603\t1\t1\n",
      "12\t1.37954\t15.5924\t15.5924\t1\t1\n",
      "13\t1.32967\t15.5095\t15.5095\t1\t1\n",
      "14\t1.28687\t16.0743\t16.0743\t1\t1\n",
      "15\t1.24955\t20.495\t20.495\t1\t1\n",
      "16\t1.22791\t15.7815\t15.7815\t1\t1\n",
      "17\t1.20448\t18.8155\t18.8155\t1\t1\n",
      "18\t1.19808\t15.6141\t15.6141\t1\t1\n",
      "19\t1.19179\t15.6147\t15.6147\t1\t1\n",
      "20\t1.17996\t15.9044\t15.9044\t1\t1\n",
      "21\t1.16067\t17.1781\t17.1781\t0.5\t1\n",
      "22\t1.147\t19.2735\t19.2735\t0.25\t1\n",
      "23\t1.14384\t20.8586\t20.8586\t1\t1\n",
      "24\t1.13598\t17.2867\t17.2867\t1\t1\n",
      "25\t1.13252\t16.3528\t16.3528\t1\t1\n",
      "26\t1.12833\t16.3473\t16.3473\t1\t1\n",
      "27\t1.12163\t16.4834\t16.4834\t1\t1\n",
      "28\t1.11314\t16.8708\t16.8708\t1\t1\n",
      "29\t1.10627\t17.6725\t17.6725\t1\t1\n",
      "30\t1.1036\t17.1201\t17.1201\t1\t1\n",
      "31\t1.10179\t16.8844\t16.8844\t1\t1\n",
      "32\t1.09921\t16.8847\t16.8847\t1\t1\n",
      "33\t1.0949\t16.9481\t16.9481\t1\t1\n",
      "34\t1.0885\t17.0156\t17.0156\t1\t1\n",
      "35\t1.08006\t17.0031\t17.0031\t1\t1\n",
      "36\t1.0702\t16.8005\t16.8005\t1\t1\n",
      "37\t1.05514\t16.3376\t16.3376\t1\t1\n",
      "38\t1.02863\t15.5524\t15.5524\t1\t1\n",
      "39\t0.983618\t14.1997\t14.1997\t1\t1\n",
      "40\t0.916337\t12.0738\t12.0738\t1\t1\n",
      "41\t0.833887\t9.28796\t9.28796\t1\t1\n",
      "42\t0.75545\t6.49525\t6.49525\t1\t1\n",
      "43\t0.697425\t4.43194\t4.43194\t1\t1\n",
      "44\t0.66167\t3.10609\t3.10609\t1\t1\n",
      "45\t0.640285\t2.99604\t2.99604\t1\t1\n",
      "46\t0.621685\t4.05389\t4.05389\t1\t1\n",
      "47\t0.594739\t5.6932\t5.6932\t0.5\t1\n",
      "48\t0.574716\t15.5836\t15.5836\t1\t1\n",
      "49\t0.571629\t1.61586\t1.61586\t1\t1\n",
      "50\t0.571138\t0.792557\t0.792557\t1\t1\n",
      "51\t0.570864\t0.691091\t0.691091\t1\t1\n",
      "52\t0.570638\t0.667835\t0.667835\t1\t1\n",
      "53\t0.570351\t0.681869\t0.681869\t1\t1\n",
      "54\t0.569904\t0.761074\t0.761074\t1\t1\n",
      "55\t0.569154\t1.15644\t1.15644\t1\t1\n",
      "56\t0.567991\t2.35092\t2.35092\t1\t1\n",
      "57\t0.565983\t3.2298\t3.2298\t1\t1\n",
      "58\t0.563385\t1.9536\t1.9536\t1\t1\n",
      "59\t0.56211\t3.17269\t3.17269\t1\t1\n",
      "60\t0.561114\t0.946341\t0.946341\t1\t1\n",
      "61\t0.560444\t1.0325\t1.0325\t1\t1\n",
      "62\t0.559378\t0.791512\t0.791512\t1\t1\n",
      "63\t0.55753\t0.829133\t0.829133\t1\t1\n",
      "64\t0.554336\t1.09167\t1.09167\t1\t1\n",
      "65\t0.548739\t1.35561\t1.35561\t1\t1\n",
      "66\t0.53882\t1.94655\t1.94655\t1\t1\n",
      "67\t0.520949\t1.81419\t1.81419\t1\t1\n",
      "68\t0.488766\t3.05193\t3.05193\t1\t1\n",
      "69\t0.429256\t3.0008\t3.0008\t1\t1\n",
      "70\t0.331805\t11.5284\t11.5284\t1\t1\n",
      "71\t0.226646\t14.6212\t14.6212\t0.5\t1\n",
      "72\t0.217123\t12.7627\t12.7627\t1\t1\n",
      "73\t0.213535\t1.15411\t1.15411\t0.5\t0\n",
      "74\t0.181936\t23.5804\t23.5804\t1\t1\n",
      "75\t0.173872\t2.24212\t2.24212\t1\t0\n",
      "76\t0.165136\t8.15695\t8.15695\t1\t0\n",
      "77\t0.163906\t1.00027\t1.00027\t1\t0\n",
      "78\t0.163825\t0.284059\t0.284059\t1\t0\n",
      "79\t0.16382\t0.0340964\t0.0340964\t1\t0\n",
      "80\t0.16382\t0.00728916\t0.00728916\t1\t0\n",
      "81\t0.16382\t5.14212e-05\t5.14212e-05\t1\t0\n",
      "82\t0.16382\t3.26048e-08\t3.26048e-08\t1\t0\n",
      "83\t0.16382\t4.92746e-10\t4.92746e-10\t1\t0\n"
     ]
    }
   ],
   "source": [
    "cr = dpo.optimize()"
   ]
  },
  {
   "cell_type": "code",
   "execution_count": 31,
   "metadata": {},
   "outputs": [],
   "source": [
    "import linkage_optimization"
   ]
  },
  {
   "cell_type": "code",
   "execution_count": 32,
   "metadata": {},
   "outputs": [],
   "source": [
    "OPTS.niter = 200\n",
    "linkage.set_design_parameter_config(use_restLen = True, use_restKappa = True)\n",
    "useCenterline = True\n",
    "optimizer = linkage_optimization.WeavingOptimization(linkage, INPUT_SURFACE_PATH, useCenterline, equilibrium_options=OPTS, pinJoint = 0, useFixedJoint = False)\n",
    "optimizer.set_target_joint_position(save_tgt_joint_pos)\n",
    "view.update()"
   ]
  },
  {
   "cell_type": "code",
   "execution_count": 33,
   "metadata": {},
   "outputs": [],
   "source": [
    "optimizer.rl_regularization_weight = 1\n",
    "optimizer.smoothing_weight = 10\n",
    "optimizer.beta = 500000.0\n",
    "optimizer.gamma = 1\n",
    "algorithm = linkage_optimization.WeavingOptAlgorithm.NEWTON_CG\n",
    "def update_viewer():\n",
    "    view.update()"
   ]
  },
  {
   "cell_type": "code",
   "execution_count": 34,
   "metadata": {},
   "outputs": [],
   "source": [
    "if not LOAD_OPTIMIZED_DOFS:\n",
    "    optimizer.WeavingOptimize(algorithm, 2000, 1.0, 1e-2, update_viewer)\n",
    "else:\n",
    "    loadedDoFs = np.load(\"dof_files/{}.npy\".format(MODEL_NAME))\n",
    "    linkage.setExtendedDoFs(loadedDoFs)\n",
    "    view.update()"
   ]
  },
  {
   "cell_type": "code",
   "execution_count": 35,
   "metadata": {},
   "outputs": [],
   "source": [
    "optimizer.setLinkageAttractionWeight(1e-5)\n",
    "optimizer.set_holdClosestPointsFixed(False)"
   ]
  },
  {
   "cell_type": "code",
   "execution_count": 36,
   "metadata": {},
   "outputs": [],
   "source": [
    "optimizer.WeavingOptimize(algorithm, 2000, 1.0, 1e-2, update_viewer)"
   ]
  },
  {
   "cell_type": "code",
   "execution_count": null,
   "metadata": {},
   "outputs": [],
   "source": [
    "## If you want to solve again after loading optimized DOFs (e.g. if the code changed)\n",
    "# algorithm = elastic_rods.WeavingOptAlgorithm.NEWTON_CG\n",
    "# optimizer.WeavingOptimize(algorithm, 2000, 1.0, 1e-2, update_viewer)"
   ]
  },
  {
   "cell_type": "code",
   "execution_count": null,
   "metadata": {},
   "outputs": [],
   "source": [
    "# Store DoFs to file\n",
    "if not os.path.exists(\"dof_files\"):\n",
    "    os.makedirs(\"dof_files\")\n",
    "rawDoFs = linkage.getExtendedDoFs()\n",
    "np.save(\"dof_files/{}.npy\".format(MODEL_NAME), rawDoFs)"
   ]
  },
  {
   "cell_type": "code",
   "execution_count": null,
   "metadata": {},
   "outputs": [],
   "source": [
    "linkage.energy()"
   ]
  },
  {
   "cell_type": "code",
   "execution_count": null,
   "metadata": {},
   "outputs": [],
   "source": [
    "start_time = time.time()\n",
    "with so(): validation_linkage, validation_view = get_linkage_eqm(optimizer.get_linesearch_weaver(), cam_param = default_camera_parameters, opt = OPTS, target_surf=INPUT_SURFACE_PATH)\n",
    "print('compute equilibrium takes: ', time.time() - start_time)"
   ]
  },
  {
   "cell_type": "code",
   "execution_count": null,
   "metadata": {},
   "outputs": [],
   "source": [
    "validation_linkage.energy(elastic_rods.SurfaceAttractionEnergyType.Elastic)"
   ]
  },
  {
   "cell_type": "code",
   "execution_count": null,
   "metadata": {},
   "outputs": [],
   "source": [
    "import structural_analysis\n",
    "structural_analysis.weavingCrossingAnalysis(linkage)\n",
    "v = structural_analysis.crossingForceFieldVisualization(linkage)\n",
    "v.show()"
   ]
  }
 ],
 "metadata": {
  "kernelspec": {
   "display_name": "Python 3",
   "language": "python",
   "name": "python3"
  },
  "language_info": {
   "codemirror_mode": {
    "name": "ipython",
    "version": 3
   },
   "file_extension": ".py",
   "mimetype": "text/x-python",
   "name": "python",
   "nbconvert_exporter": "python",
   "pygments_lexer": "ipython3",
   "version": "3.7.9"
  }
 },
 "nbformat": 4,
 "nbformat_minor": 4
}
