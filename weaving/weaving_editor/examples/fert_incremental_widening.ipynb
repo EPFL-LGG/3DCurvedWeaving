{
 "cells": [
  {
   "cell_type": "code",
   "execution_count": null,
   "metadata": {},
   "outputs": [],
   "source": [
    "elastic_rods_dir = '../../../elastic_rods/python/'\n",
    "weaving_dir = '../../'\n",
    "import os\n",
    "import os.path as osp\n",
    "import sys; sys.path.append(elastic_rods_dir); sys.path.append(weaving_dir)\n",
    "import numpy as np, elastic_rods, linkage_vis, linkage_optimization\n",
    "import numpy.linalg as la\n",
    "from bending_validation import suppress_stdout as so\n",
    "import matplotlib.pyplot as plt\n",
    "from elastic_rods import EnergyType, InterleavingType"
   ]
  },
  {
   "cell_type": "code",
   "execution_count": null,
   "metadata": {},
   "outputs": [],
   "source": [
    "import parallelism\n",
    "parallelism.set_max_num_tbb_threads(24)\n",
    "parallelism.set_hessian_assembly_num_threads(8)"
   ]
  },
  {
   "cell_type": "code",
   "execution_count": null,
   "metadata": {},
   "outputs": [],
   "source": [
    "# Reloadable libraries\n",
    "import importlib\n",
    "\n",
    "# weaving\n",
    "import analysis_helper, ribbon_linkage_helper, mesh_vis, linkage_utils, compute_curve_from_curvature, importlib\n",
    "importlib.reload(analysis_helper)\n",
    "importlib.reload(ribbon_linkage_helper)\n",
    "importlib.reload(mesh_vis)\n",
    "importlib.reload(linkage_utils)\n",
    "importlib.reload(compute_curve_from_curvature)\n",
    "from analysis_helper import (compare_turning_angle,\n",
    "                            is_on_sphere, \n",
    "                            get_distance_to_center_scalar_field, \n",
    "                            plot_curvatures, \n",
    "                            get_curvature_scalar_field,\n",
    "                            construct_elastic_rod_loop_from_rod_segments, \n",
    "                            concatenate_rod_properties_from_rod_segments, \n",
    "                            compute_min_distance_rigid_transformation)\n",
    "from ribbon_linkage_helper import (update_rest_curvature, \n",
    "                                   set_ribbon_linkage,\n",
    "                                   export_linkage_geometry_to_obj,\n",
    "                                   write_linkage_ribbon_output_florin)\n",
    "\n",
    "from compute_curve_from_curvature import (match_geo_curvature_and_edge_len, get_all_curve_pattern)\n",
    "from linkage_utils import order_segments_by_ribbons, get_turning_angle_and_length_from_ordered_rods\n",
    "\n",
    "import vis.fields\n",
    "import matplotlib.cm as cm"
   ]
  },
  {
   "cell_type": "code",
   "execution_count": null,
   "metadata": {},
   "outputs": [],
   "source": [
    "# Fert 1\n",
    "default_camera_parameters = ((3.466009282140468, -4.674139805388271, -2.556131049738206), (-0.21402574298422497, -0.06407538766530313, -0.9747681088523519),(0.1111, 0.1865, 0.5316))\n",
    "RIBBON_CS = [2 * 1/800, 1/800]\n",
    "MODEL_NAME = \"fert_1\"\n",
    "MODEL_PATH = osp.join(weaving_dir + 'normalized_objs/models/{}.obj'.format(MODEL_NAME))\n",
    "SUBDIVISION_RESOLUTION = 10\n",
    "SMOOTHING_WEIGHT = 10\n",
    "REGULARIZATION_WEIGHT = 0\n",
    "INPUT_SURFACE_PATH = osp.join(weaving_dir + 'normalized_objs/surface_models/{}.obj'.format(MODEL_NAME))\n",
    "RIBBON_NAME = \"{}_strip\".format(MODEL_NAME)"
   ]
  },
  {
   "cell_type": "code",
   "execution_count": null,
   "metadata": {},
   "outputs": [],
   "source": [
    "def initialize_linkage(surface_path = INPUT_SURFACE_PATH, useCenterline = True, cross_section = RIBBON_CS, subdivision_res = SUBDIVISION_RESOLUTION, model_path = MODEL_PATH):\n",
    "    l = elastic_rods.SurfaceAttractedLinkage(surface_path, useCenterline, model_path, subdivision_res, False, InterleavingType.triaxialWeave)\n",
    "    l.setMaterial(elastic_rods.RodMaterial('rectangle', 2000, 0.3, cross_section, stiffAxis=elastic_rods.StiffAxis.D1))\n",
    "    l.setDoFs(l.getDoFs())\n",
    "    l.set_holdClosestPointsFixed(True);\n",
    "    l.set_attraction_tgt_joint_weight(0.01);\n",
    "    l.attraction_weight = 100;\n",
    "    return l"
   ]
  },
  {
   "cell_type": "code",
   "execution_count": null,
   "metadata": {},
   "outputs": [],
   "source": [
    "elastic_rods.benchmark_reset()\n",
    "cl2 = initialize_linkage(surface_path = INPUT_SURFACE_PATH, useCenterline = True, model_path = MODEL_PATH, cross_section = RIBBON_CS, subdivision_res = SUBDIVISION_RESOLUTION)\n",
    "elastic_rods.benchmark_report()"
   ]
  },
  {
   "cell_type": "code",
   "execution_count": null,
   "metadata": {},
   "outputs": [],
   "source": [
    "def initialize_normal_linkage(cross_section = RIBBON_CS, subdivision_res = SUBDIVISION_RESOLUTION, model_path = MODEL_PATH):\n",
    "    l = elastic_rods.RodLinkage(model_path, subdivision_res, False)\n",
    "    l.setMaterial(elastic_rods.RodMaterial('rectangle', 2000, 0.3, cross_section, stiffAxis=elastic_rods.StiffAxis.D1))\n",
    "    return l"
   ]
  },
  {
   "cell_type": "code",
   "execution_count": null,
   "metadata": {},
   "outputs": [],
   "source": [
    "def design_parameter_solve(l,regularization_weight = 0.1, smoothing_weight = 1):\n",
    "    design_opts = elastic_rods.NewtonOptimizerOptions()\n",
    "    design_opts.niter = 10000\n",
    "    design_opts.verbose = 10\n",
    "    l.set_design_parameter_config(use_restLen = True, use_restKappa = True)\n",
    "    elastic_rods.designParameter_solve(l, design_opts, regularization_weight = regularization_weight, smoothing_weight = smoothing_weight)\n",
    "    l.set_design_parameter_config(use_restLen = True, use_restKappa = True)"
   ]
  },
  {
   "cell_type": "code",
   "execution_count": null,
   "metadata": {},
   "outputs": [],
   "source": [
    "def get_linkage_eqm(l, opt, cam_param = default_camera_parameters, target_surf = None):\n",
    "    elastic_rods.compute_equilibrium(l, options = opt)\n",
    "    if (target_surf is None):\n",
    "        view = linkage_vis.LinkageViewer(l, width=1024, height=640)\n",
    "    else:\n",
    "        view = linkage_vis.LinkageViewerWithSurface(l, target_surf, width=1024, height=640)\n",
    "    view.setCameraParams(cam_param)\n",
    "    return l, view"
   ]
  },
  {
   "cell_type": "code",
   "execution_count": null,
   "metadata": {},
   "outputs": [],
   "source": [
    "OPTS = elastic_rods.NewtonOptimizerOptions()\n",
    "OPTS.gradTol = 1e-6\n",
    "OPTS.verbose = 10;\n",
    "OPTS.beta = 1e-8\n",
    "OPTS.niter = 100\n",
    "OPTS.verboseNonPosDef = False"
   ]
  },
  {
   "cell_type": "markdown",
   "metadata": {},
   "source": [
    "### Create Surface Attracted Linkage and solve for design parameters with fixed joint positions"
   ]
  },
  {
   "cell_type": "code",
   "execution_count": null,
   "metadata": {},
   "outputs": [],
   "source": [
    "with so(): curved_linkage = initialize_linkage(surface_path = INPUT_SURFACE_PATH, useCenterline = True, model_path = MODEL_PATH, cross_section = RIBBON_CS, subdivision_res = SUBDIVISION_RESOLUTION)\n",
    "curved_linkage.set_design_parameter_config(use_restLen = True, use_restKappa = True)\n",
    "curved_save_tgt_joint_pos = curved_linkage.jointPositions();"
   ]
  },
  {
   "cell_type": "code",
   "execution_count": null,
   "metadata": {},
   "outputs": [],
   "source": [
    "def applyViewStyle(v):\n",
    "    v.viewOptions[v.ViewType.LINKAGE].color = '#28D'\n",
    "    v.viewOptions[v.ViewType.LINKAGE].transparent = False\n",
    "    v.viewOptions[v.ViewType.SURFACE].transparent = True\n",
    "    v.viewOptions[v.ViewType.SURFACE].color = 'gray'\n",
    "    v.applyViewOptions()"
   ]
  },
  {
   "cell_type": "code",
   "execution_count": null,
   "metadata": {},
   "outputs": [],
   "source": [
    "curved_linkage_view = linkage_vis.LinkageViewerWithSurface(curved_linkage, INPUT_SURFACE_PATH, width=1024, height=640)\n",
    "applyViewStyle(curved_linkage_view)\n",
    "curved_linkage_view.show()"
   ]
  },
  {
   "cell_type": "code",
   "execution_count": null,
   "metadata": {},
   "outputs": [],
   "source": [
    "def curved_callback(prob, i):\n",
    "    #curved_linkage_view.update()\n",
    "    pass"
   ]
  },
  {
   "cell_type": "code",
   "execution_count": null,
   "metadata": {},
   "outputs": [],
   "source": [
    "curved_linkage_view.update()"
   ]
  },
  {
   "cell_type": "code",
   "execution_count": null,
   "metadata": {},
   "outputs": [],
   "source": [
    "fixed_joint_orientation = []\n",
    "for i in range(curved_linkage.numJoints()):\n",
    "    fixed_joint_orientation.extend(list(range(curved_linkage.dofOffsetForJoint(i) + 3, curved_linkage.dofOffsetForJoint(i) + 6)))"
   ]
  },
  {
   "cell_type": "code",
   "execution_count": null,
   "metadata": {},
   "outputs": [],
   "source": [
    "rlw = 1\n",
    "rcw = 1e-5\n",
    "curved_dpo = elastic_rods.get_designParameter_optimizer(curved_linkage, rlw, rcw, callback=curved_callback, fixedVars = fixed_joint_orientation)\n",
    "curved_dpo.options.niter = 200\n",
    "curved_dpp = curved_dpo.get_problem()\n",
    "\n",
    "curved_dpp.set_regularization_weight(1)\n",
    "curved_dpp.set_smoothing_weight(1e-4)"
   ]
  },
  {
   "cell_type": "code",
   "execution_count": null,
   "metadata": {
    "scrolled": true
   },
   "outputs": [],
   "source": [
    "# Run first with a less extreme ribbon aspect ratio (more stable)\n",
    "curved_linkage.setMaterial(elastic_rods.RodMaterial('rectangle', 2000, 0.3, [2 / 800, 1 / 800], stiffAxis=elastic_rods.StiffAxis.D1))\n",
    "\n",
    "elastic_rods.benchmark_reset()\n",
    "curved_cr = curved_dpo.optimize()\n",
    "elastic_rods.benchmark_report()"
   ]
  },
  {
   "cell_type": "code",
   "execution_count": null,
   "metadata": {
    "scrolled": true
   },
   "outputs": [],
   "source": [
    "# Now, run with a wide cross-section\n",
    "# Also free the constraints on the joint orientation\n",
    "curved_dpo.setFixedVars(curved_linkage.restLenFixedVars())\n",
    "curved_linkage.setMaterial(elastic_rods.RodMaterial('rectangle', 2000, 0.3, [8 / 800, 1 / 800], stiffAxis=elastic_rods.StiffAxis.D1))\n",
    "elastic_rods.benchmark_reset()\n",
    "curved_cr = curved_dpo.optimize()\n",
    "elastic_rods.benchmark_report()"
   ]
  },
  {
   "cell_type": "code",
   "execution_count": null,
   "metadata": {},
   "outputs": [],
   "source": [
    "curved_linkage.attraction_weight = 1e-1"
   ]
  },
  {
   "cell_type": "code",
   "execution_count": null,
   "metadata": {},
   "outputs": [],
   "source": [
    "OPTS.verbose = 1"
   ]
  },
  {
   "cell_type": "code",
   "execution_count": null,
   "metadata": {
    "scrolled": true
   },
   "outputs": [],
   "source": [
    "elastic_rods.compute_equilibrium(curved_linkage, options = OPTS)\n",
    "curved_linkage_view.update()"
   ]
  },
  {
   "cell_type": "code",
   "execution_count": null,
   "metadata": {},
   "outputs": [],
   "source": [
    "import linkage_optimization"
   ]
  },
  {
   "cell_type": "code",
   "execution_count": null,
   "metadata": {},
   "outputs": [],
   "source": [
    "OPTS.niter = 200\n",
    "curved_linkage.set_design_parameter_config(use_restLen = True, use_restKappa = True)\n",
    "useCenterline = True\n",
    "optimizer = linkage_optimization.WeavingOptimization(curved_linkage, INPUT_SURFACE_PATH, useCenterline, equilibrium_options=OPTS, pinJoint = 0, useFixedJoint = False)\n",
    "optimizer.set_target_joint_position(curved_save_tgt_joint_pos)"
   ]
  },
  {
   "cell_type": "code",
   "execution_count": null,
   "metadata": {},
   "outputs": [],
   "source": [
    "view = linkage_vis.LinkageViewerWithSurface(curved_linkage, INPUT_SURFACE_PATH, width=1024, height=640)\n",
    "applyViewStyle(view)"
   ]
  },
  {
   "cell_type": "code",
   "execution_count": null,
   "metadata": {},
   "outputs": [],
   "source": [
    "view.show()"
   ]
  },
  {
   "cell_type": "code",
   "execution_count": null,
   "metadata": {},
   "outputs": [],
   "source": [
    "optimizer.rl_regularization_weight = 0\n",
    "optimizer.smoothing_weight = 1e-2\n",
    "optimizer.beta = 5000000.0\n",
    "optimizer.gamma = 1\n",
    "algorithm = linkage_optimization.WeavingOptAlgorithm.NEWTON_CG\n",
    "def update_viewer():\n",
    "    view.update()"
   ]
  },
  {
   "cell_type": "code",
   "execution_count": null,
   "metadata": {},
   "outputs": [],
   "source": [
    "for t in optimizer.objective.terms:\n",
    "    print(f'{t.name}: {t.term.value()}')"
   ]
  },
  {
   "cell_type": "code",
   "execution_count": null,
   "metadata": {
    "scrolled": true
   },
   "outputs": [],
   "source": [
    "elastic_rods.benchmark_reset()\n",
    "optimizer.WeavingOptimize(algorithm, 50, 1.0, 1e-2, update_viewer)\n",
    "elastic_rods.benchmark_report()"
   ]
  },
  {
   "cell_type": "code",
   "execution_count": null,
   "metadata": {},
   "outputs": [],
   "source": [
    "optimizer.setLinkageAttractionWeight(1e-6)"
   ]
  },
  {
   "cell_type": "code",
   "execution_count": null,
   "metadata": {},
   "outputs": [],
   "source": [
    "OPTS.gradTol = 1e-7\n",
    "with so(): elastic_rods.compute_equilibrium(curved_linkage, options = OPTS)\n",
    "view.update()"
   ]
  },
  {
   "cell_type": "code",
   "execution_count": null,
   "metadata": {},
   "outputs": [],
   "source": [
    "# Verify that the elastic forces are essentially in balance on their own\n",
    "np.linalg.norm(curved_linkage.gradient(energyType=elastic_rods.SurfaceAttractionEnergyType.Elastic))"
   ]
  },
  {
   "cell_type": "code",
   "execution_count": null,
   "metadata": {},
   "outputs": [],
   "source": [
    "np.linalg.norm(curved_linkage.gradient(energyType=elastic_rods.SurfaceAttractionEnergyType.Attraction))"
   ]
  },
  {
   "cell_type": "code",
   "execution_count": null,
   "metadata": {},
   "outputs": [],
   "source": [
    "curved_linkage.saveVisualizationGeometry('optimized.msh')"
   ]
  }
 ],
 "metadata": {
  "kernelspec": {
   "display_name": "Python 3",
   "language": "python",
   "name": "python3"
  },
  "language_info": {
   "codemirror_mode": {
    "name": "ipython",
    "version": 3
   },
   "file_extension": ".py",
   "mimetype": "text/x-python",
   "name": "python",
   "nbconvert_exporter": "python",
   "pygments_lexer": "ipython3",
   "version": "3.7.9"
  }
 },
 "nbformat": 4,
 "nbformat_minor": 4
}
