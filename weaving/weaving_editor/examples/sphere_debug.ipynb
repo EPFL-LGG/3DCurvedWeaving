{
 "cells": [
  {
   "cell_type": "code",
   "execution_count": 1,
   "metadata": {},
   "outputs": [],
   "source": [
    "elastic_rods_dir = '../../../elastic_rods/python/'\n",
    "weaving_dir = '../../'\n",
    "import os\n",
    "import os.path as osp\n",
    "import sys; sys.path.append(elastic_rods_dir); sys.path.append(weaving_dir)\n",
    "import numpy as np, elastic_rods, linkage_vis\n",
    "import numpy.linalg as la\n",
    "from bending_validation import suppress_stdout as so\n",
    "import matplotlib.pyplot as plt\n",
    "from elastic_rods import EnergyType, InterleavingType\n",
    "\n",
    "# weaving\n",
    "import analysis_helper, ribbon_linkage_helper, mesh_vis, linkage_utils, compute_curve_from_curvature, importlib\n",
    "importlib.reload(analysis_helper)\n",
    "importlib.reload(ribbon_linkage_helper)\n",
    "importlib.reload(mesh_vis)\n",
    "importlib.reload(linkage_utils)\n",
    "importlib.reload(compute_curve_from_curvature)\n",
    "from analysis_helper import (compare_turning_angle,\n",
    "                            is_on_sphere, \n",
    "                            get_distance_to_center_scalar_field, \n",
    "                            plot_curvatures, \n",
    "                            get_curvature_scalar_field,\n",
    "                            construct_elastic_rod_loop_from_rod_segments, \n",
    "                            concatenate_rod_properties_from_rod_segments, \n",
    "                            compute_min_distance_rigid_transformation)\n",
    "from ribbon_linkage_helper import (update_rest_curvature, \n",
    "                                   set_ribbon_linkage,\n",
    "                                   export_linkage_geometry_to_obj,\n",
    "                                   write_linkage_ribbon_output_florin)\n",
    "\n",
    "from compute_curve_from_curvature import (match_geo_curvature_and_edge_len, get_all_curve_pattern)\n",
    "from linkage_utils import order_segments_by_ribbons, get_turning_angle_and_length_from_ordered_rods\n",
    "import vis.fields\n",
    "import matplotlib.cm as cm\n",
    "import time"
   ]
  },
  {
   "cell_type": "code",
   "execution_count": 2,
   "metadata": {},
   "outputs": [],
   "source": [
    "import parallelism\n",
    "parallelism.set_max_num_tbb_threads(12)\n",
    "parallelism.set_hessian_assembly_num_threads(4)\n",
    "parallelism.set_gradient_assembly_num_threads(4)"
   ]
  },
  {
   "cell_type": "code",
   "execution_count": 3,
   "metadata": {},
   "outputs": [],
   "source": [
    "# Set to True in the options below if you already optimized a specific linkage\n",
    "# and you would like to reuse the optimized linkage. Loading is performed in\n",
    "# place of the full design optimization.\n",
    "# NOTE: Doesn't seem to work at the moment, leave at False\n",
    "LOAD_OPTIMIZED_DOFS = False\n",
    "\n",
    "# Set to False if strips cannot be labeled into families for a model\n",
    "USE_FAMILY_LABEL = False"
   ]
  },
  {
   "cell_type": "code",
   "execution_count": 4,
   "metadata": {},
   "outputs": [],
   "source": [
    "rod_length = 0.3534025445286393\n",
    "width = rod_length / 15 * 5\n",
    "thickness = width / 5 * 0.35"
   ]
  },
  {
   "cell_type": "code",
   "execution_count": 5,
   "metadata": {},
   "outputs": [
    {
     "name": "stdout",
     "output_type": "stream",
     "text": [
      "0.11780084817621309 0.008246059372334916\n"
     ]
    }
   ],
   "source": [
    "print(width, thickness)"
   ]
  },
  {
   "cell_type": "code",
   "execution_count": 6,
   "metadata": {},
   "outputs": [],
   "source": [
    "# Sphere 1\n",
    "default_camera_parameters = ((3.466009282140468, -4.674139805388271, -2.556131049738206), (-0.21402574298422497, -0.06407538766530313, -0.9747681088523519),(0.1111, 0.1865, 0.5316))\n",
    "RIBBON_CS = [thickness, width]\n",
    "MODEL_NAME = \"sphere_1\"\n",
    "MODEL_PATH = osp.join(weaving_dir + 'normalized_objs/models/{}.obj'.format(MODEL_NAME))\n",
    "SUBDIVISION_RESOLUTION = 20\n",
    "INPUT_SURFACE_PATH = osp.join(weaving_dir + 'normalized_objs/surface_models/{}.obj'.format(MODEL_NAME))\n",
    "RIBBON_NAME = \"{}_strip\".format(MODEL_NAME)"
   ]
  },
  {
   "cell_type": "code",
   "execution_count": 7,
   "metadata": {},
   "outputs": [],
   "source": [
    "OPTS = elastic_rods.NewtonOptimizerOptions()\n",
    "OPTS.gradTol = 1e-6\n",
    "OPTS.verbose = 1;\n",
    "OPTS.beta = 1e-8\n",
    "OPTS.niter = 200\n",
    "OPTS.verboseNonPosDef = False"
   ]
  },
  {
   "cell_type": "code",
   "execution_count": 8,
   "metadata": {},
   "outputs": [],
   "source": [
    "rw = 0.01\n",
    "sw = 0.01"
   ]
  },
  {
   "cell_type": "code",
   "execution_count": 9,
   "metadata": {},
   "outputs": [],
   "source": [
    "def initialize_linkage(surface_path = INPUT_SURFACE_PATH, useCenterline = True, cross_section = RIBBON_CS, subdivision_res = SUBDIVISION_RESOLUTION, model_path = MODEL_PATH, use_constant_width = True, width_scale = [0.5, 2], interleaving_type = InterleavingType.triaxialWeave):\n",
    "    l = elastic_rods.SurfaceAttractedLinkage(surface_path, useCenterline, model_path, subdivision_res, False, interleaving_type)\n",
    "    if use_constant_width:\n",
    "        l.setMaterial(elastic_rods.RodMaterial('rectangle', 2000, 0.3, cross_section, stiffAxis=elastic_rods.StiffAxis.D1))\n",
    "    else:\n",
    "        cross_section_scaling.apply_density_based_cross_sections(l, elastic_rods.CrossSection.construct('rectangle', 2000, 0.3, [RIBBON_CS[0], width_scale[0] * RIBBON_CS[1]]), elastic_rods.CrossSection.construct('rectangle', 2000, 0.3, [RIBBON_CS[0], width_scale[1] * RIBBON_CS[1]]))\n",
    "\n",
    "    l.set_holdClosestPointsFixed(True);\n",
    "    l.set_attraction_tgt_joint_weight(0.01);\n",
    "    l.attraction_weight = 100;\n",
    "    return l"
   ]
  },
  {
   "cell_type": "markdown",
   "metadata": {},
   "source": [
    "### With equilibrium exception"
   ]
  },
  {
   "cell_type": "code",
   "execution_count": 10,
   "metadata": {},
   "outputs": [
    {
     "data": {
      "application/vnd.jupyter.widget-view+json": {
       "model_id": "3158132b7ba34dd195d7c1b6aa77decc",
       "version_major": 2,
       "version_minor": 0
      },
      "text/plain": [
       "Renderer(camera=PerspectiveCamera(children=(PointLight(color='white', intensity=0.6, position=(0.0, 0.0, 5.0),…"
      ]
     },
     "metadata": {},
     "output_type": "display_data"
    }
   ],
   "source": [
    "with so(): curved_linkage = initialize_linkage(surface_path = INPUT_SURFACE_PATH, useCenterline = True, model_path = MODEL_PATH, cross_section = RIBBON_CS, subdivision_res = SUBDIVISION_RESOLUTION)\n",
    "curved_linkage.set_design_parameter_config(use_restLen = True, use_restKappa = True)\n",
    "curved_save_tgt_joint_pos = curved_linkage.jointPositions();\n",
    "curved_linkage_view = linkage_vis.LinkageViewer(curved_linkage)\n",
    "curved_linkage_view.show()"
   ]
  },
  {
   "cell_type": "code",
   "execution_count": 11,
   "metadata": {},
   "outputs": [],
   "source": [
    "# curved_linkage.setDoFs(curved_linkage.getDoFs())"
   ]
  },
  {
   "cell_type": "code",
   "execution_count": 12,
   "metadata": {},
   "outputs": [
    {
     "name": "stdout",
     "output_type": "stream",
     "text": [
      "0.0001790780256093674\n",
      "0.24153433955530332\n",
      "0.21254296048589566\n",
      "1.6895515537588205e-05\n",
      "0.028974483553870015\n"
     ]
    }
   ],
   "source": [
    "print(curved_linkage.energy(elastic_rods.SurfaceAttractionEnergyType.Attraction))\n",
    "print(curved_linkage.energy(elastic_rods.SurfaceAttractionEnergyType.Elastic))\n",
    "print(curved_linkage.energyBend())\n",
    "print(curved_linkage.energyTwist())\n",
    "print(curved_linkage.energyStretch())"
   ]
  },
  {
   "cell_type": "code",
   "execution_count": 13,
   "metadata": {},
   "outputs": [],
   "source": [
    "def curved_callback(prob, i):\n",
    "    curved_linkage_view.update()\n",
    "    return"
   ]
  },
  {
   "cell_type": "code",
   "execution_count": 14,
   "metadata": {},
   "outputs": [],
   "source": [
    "OPTS.niter = 1000"
   ]
  },
  {
   "cell_type": "code",
   "execution_count": 15,
   "metadata": {},
   "outputs": [
    {
     "name": "stdout",
     "output_type": "stream",
     "text": [
      "0\t0.241713\t31.4001\t31.4001\t1\t1\n",
      "1\t0.0541772\t2.22707\t2.22707\t1\t1\n",
      "2\t0.0357471\t0.817509\t0.817509\t1\t1\n",
      "3\t0.0256738\t0.46611\t0.46611\t1\t1\n",
      "4\t0.0184431\t0.372737\t0.372737\t1\t1\n",
      "5\t0.013537\t0.268692\t0.268692\t1\t1\n",
      "6\t0.0102447\t0.217106\t0.217106\t1\t1\n",
      "7\t0.00794302\t0.289826\t0.289826\t1\t1\n",
      "8\t0.00630224\t0.259164\t0.259164\t1\t1\n",
      "9\t0.00500034\t0.234324\t0.234324\t1\t1\n",
      "10\t0.00408817\t0.238731\t0.238731\t1\t1\n",
      "11\t0.00346313\t0.259458\t0.259458\t1\t1\n",
      "12\t0.00283301\t0.687844\t0.687844\t0.015625\t1\n",
      "13\t0.00264329\t0.405149\t0.405149\t1\t1\n",
      "14\t0.00242874\t0.094137\t0.094137\t1\t1\n",
      "15\t0.00235463\t0.0243524\t0.0243524\t1\t1\n",
      "16\t0.00222385\t0.00485502\t0.00485502\t1\t1\n",
      "17\t0.00198992\t0.00844676\t0.00844676\t0.25\t0\n",
      "18\t0.00155008\t0.0825429\t0.0825429\t0.5\t0\n",
      "19\t0.00132098\t0.0740405\t0.0740405\t1\t0\n",
      "20\t0.00122325\t0.128989\t0.128989\t1\t1\n",
      "21\t0.0011763\t0.0357092\t0.0357092\t1\t0\n",
      "22\t0.00116599\t0.0945287\t0.0945287\t0.125\t1\n",
      "23\t0.00116401\t0.0408935\t0.0408935\t1\t0\n",
      "24\t0.00116378\t0.0960585\t0.0960585\t0.5\t1\n",
      "25\t0.0011636\t0.0424828\t0.0424828\t1\t0\n",
      "26\t0.00116312\t0.0355377\t0.0355377\t0.5\t0\n",
      "27\t0.00116202\t0.0101526\t0.0101526\t1\t0\n",
      "28\t0.00116137\t0.0191091\t0.0191091\t1\t0\n",
      "29\t0.00116131\t0.000128679\t0.000128679\t1\t0\n",
      "30\t0.0011613\t6.86258e-06\t6.86258e-06\t1\t0\n",
      "31\t0.0011613\t5.74828e-11\t5.74828e-11\t1\t0\n"
     ]
    },
    {
     "data": {
      "text/plain": [
       "<elastic_rods.ConvergenceReport at 0x12cfdf070>"
      ]
     },
     "execution_count": 15,
     "metadata": {},
     "output_type": "execute_result"
    }
   ],
   "source": [
    "elastic_rods.compute_equilibrium(curved_linkage, callback = curved_callback, options = OPTS)"
   ]
  },
  {
   "cell_type": "code",
   "execution_count": 16,
   "metadata": {},
   "outputs": [],
   "source": [
    "# with so(): elastic_rods.compute_equilibrium(curved_linkage)"
   ]
  },
  {
   "cell_type": "code",
   "execution_count": 17,
   "metadata": {},
   "outputs": [
    {
     "name": "stdout",
     "output_type": "stream",
     "text": [
      "0.0011613047500400658\n",
      "0.0006018058252078156\n",
      "0.0003018298460863259\n",
      "1.8598855581731607e-06\n"
     ]
    }
   ],
   "source": [
    "print(curved_linkage.energy())\n",
    "print(curved_linkage.energyBend())\n",
    "print(curved_linkage.energyTwist())\n",
    "print(curved_linkage.energyStretch())"
   ]
  },
  {
   "cell_type": "code",
   "execution_count": 18,
   "metadata": {},
   "outputs": [
    {
     "name": "stdout",
     "output_type": "stream",
     "text": [
      "0.0011613047500400658\n",
      "0.0006018058252078156\n",
      "0.0003018298460863259\n",
      "1.8598855581731607e-06\n"
     ]
    }
   ],
   "source": [
    "print(curved_linkage.energy())\n",
    "print(curved_linkage.energyBend())\n",
    "print(curved_linkage.energyTwist())\n",
    "print(curved_linkage.energyStretch())"
   ]
  },
  {
   "cell_type": "code",
   "execution_count": 19,
   "metadata": {
    "scrolled": true
   },
   "outputs": [
    {
     "name": "stdout",
     "output_type": "stream",
     "text": [
      "0\t1.01\t6.19084\t6.19084\t0.0625\t0\n",
      "1\t0.922213\t106.899\t106.899\t1\t0\n",
      "2\t0.696089\t503.775\t503.775\t0.125\t1\n",
      "3\t0.684641\t436.808\t436.808\t1\t1\n",
      "4\t0.577497\t173.693\t173.693\t1\t1\n",
      "5\t0.564079\t7.22494\t7.22494\t1\t1\n",
      "6\t0.559046\t7.84322\t7.84322\t1\t1\n",
      "7\t0.554396\t5.34818\t5.34818\t1\t1\n",
      "8\t0.55035\t5.47696\t5.47696\t1\t1\n",
      "9\t0.547292\t5.52373\t5.52373\t1\t1\n",
      "10\t0.545436\t5.2989\t5.2989\t1\t1\n",
      "11\t0.544652\t5.0619\t5.0619\t1\t1\n",
      "12\t0.544336\t4.96424\t4.96424\t1\t1\n",
      "13\t0.543963\t4.90506\t4.90506\t1\t1\n",
      "14\t0.543264\t4.79586\t4.79586\t1\t1\n",
      "15\t0.541968\t4.59737\t4.59737\t1\t1\n",
      "16\t0.539699\t4.26582\t4.26582\t1\t1\n",
      "17\t0.536064\t3.76331\t3.76331\t1\t1\n",
      "18\t0.530965\t3.07183\t3.07183\t1\t1\n",
      "19\t0.525199\t2.27948\t2.27948\t1\t1\n",
      "20\t0.520224\t1.77602\t1.77602\t1\t1\n",
      "21\t0.515524\t1.83441\t1.83441\t1\t1\n",
      "22\t0.508537\t3.05404\t3.05404\t1\t1\n",
      "23\t0.497692\t7.60191\t7.60191\t0.25\t0\n",
      "24\t0.489175\t33.7374\t33.7374\t1\t0\n",
      "25\t0.471412\t96.5494\t96.5494\t1\t0\n",
      "26\t0.467419\t17.5594\t17.5594\t1\t0\n",
      "27\t0.465914\t8.91827\t8.91827\t0.125\t0\n",
      "28\t0.465811\t9.08385\t9.08385\t1\t0\n",
      "29\t0.464891\t1.37359\t1.37359\t0.015625\t0\n",
      "30\t0.464886\t1.45903\t1.45903\t0.25\t0\n",
      "31\t0.464867\t2.88932\t2.88932\t1\t0\n",
      "32\t0.464731\t1.92961\t1.92961\t0.25\t0\n",
      "33\t0.464688\t1.94251\t1.94251\t1\t0\n",
      "34\t0.464584\t2.24944\t2.24944\t0.5\t0\n",
      "35\t0.464555\t3.28499\t3.28499\t1\t0\n",
      "36\t0.464396\t2.47389\t2.47389\t0.0625\t0\n",
      "37\t0.464384\t2.43974\t2.43974\t1\t0\n",
      "38\t0.464341\t4.56766\t4.56766\t0.5\t0\n",
      "39\t0.464198\t3.77186\t3.77186\t1\t0\n",
      "40\t0.464009\t1.85905\t1.85905\t0.125\t0\n",
      "41\t0.463978\t2.11204\t2.11204\t0.5\t0\n",
      "42\t0.463872\t2.43461\t2.43461\t1\t0\n",
      "43\t0.463727\t3.0884\t3.0884\t1\t0\n",
      "44\t0.463706\t5.45122\t5.45122\t0.5\t0\n",
      "45\t0.463493\t4.5122\t4.5122\t1\t0\n",
      "46\t0.463246\t2.40858\t2.40858\t0.125\t0\n",
      "47\t0.463211\t2.97444\t2.97444\t0.5\t0\n",
      "48\t0.463067\t3.09771\t3.09771\t1\t0\n",
      "49\t0.46288\t4.12556\t4.12556\t0.5\t0\n",
      "50\t0.462869\t4.76082\t4.76082\t1\t0\n",
      "51\t0.462544\t4.82286\t4.82286\t0.125\t0\n",
      "52\t0.462511\t4.56802\t4.56802\t1\t0\n",
      "53\t0.462295\t4.38442\t4.38442\t0.25\t0\n",
      "54\t0.46219\t4.02973\t4.02973\t1\t0\n",
      "55\t0.462043\t8.0628\t8.0628\t0.25\t0\n",
      "56\t0.462037\t7.70911\t7.70911\t1\t0\n",
      "57\t0.461563\t2.90798\t2.90798\t1\t1\n",
      "58\t0.461526\t0.00508456\t0.00508456\t1\t1\n",
      "59\t0.461525\t0.00429536\t0.00429536\t1\t1\n",
      "60\t0.461523\t0.0043122\t0.0043122\t1\t1\n",
      "61\t0.461518\t0.00455192\t0.00455192\t1\t1\n",
      "62\t0.461509\t0.00732108\t0.00732108\t1\t1\n",
      "63\t0.461491\t0.024104\t0.024104\t1\t1\n",
      "64\t0.461454\t0.0958016\t0.0958016\t1\t1\n",
      "65\t0.461381\t0.387246\t0.387246\t0.015625\t0\n",
      "66\t0.461265\t2.14293\t2.14293\t0.25\t0\n",
      "67\t0.461232\t9.86425\t9.86425\t1\t0\n",
      "68\t0.460762\t3.28459\t3.28459\t0.125\t0\n",
      "69\t0.460696\t6.94593\t6.94593\t1\t0\n",
      "70\t0.460498\t9.41577\t9.41577\t0.0625\t0\n",
      "71\t0.460434\t8.98066\t8.98066\t0.5\t0\n",
      "72\t0.460101\t7.1724\t7.1724\t1\t0\n",
      "73\t0.459682\t4.21821\t4.21821\t0.25\t0\n",
      "74\t0.459578\t6.59251\t6.59251\t1\t0\n",
      "75\t0.459335\t10.5929\t10.5929\t0.0625\t0\n",
      "76\t0.459286\t10.2463\t10.2463\t0.5\t0\n",
      "77\t0.458943\t7.30097\t7.30097\t1\t0\n",
      "78\t0.458516\t6.16257\t6.16257\t0.25\t0\n",
      "79\t0.458376\t6.38915\t6.38915\t1\t0\n",
      "80\t0.458096\t10.9874\t10.9874\t0.25\t0\n",
      "81\t0.457881\t9.03106\t9.03106\t1\t0\n",
      "82\t0.457426\t7.919\t7.919\t0.25\t0\n",
      "83\t0.457211\t8.15519\t8.15519\t1\t0\n",
      "84\t0.456779\t9.16616\t9.16616\t0.25\t0\n",
      "85\t0.456559\t8.4497\t8.4497\t1\t0\n",
      "86\t0.456088\t10.1764\t10.1764\t0.25\t0\n",
      "87\t0.455922\t10.3847\t10.3847\t1\t0\n",
      "88\t0.455362\t8.66176\t8.66176\t0.25\t0\n",
      "89\t0.4553\t12.0199\t12.0199\t1\t0\n",
      "90\t0.454661\t12.2401\t12.2401\t0.125\t0\n",
      "91\t0.454542\t11.869\t11.869\t1\t0\n",
      "92\t0.454324\t15.3359\t15.3359\t0.25\t0\n",
      "93\t0.453875\t15.1405\t15.1405\t1\t0\n",
      "94\t0.453012\t10.4186\t10.4186\t1\t1\n",
      "95\t0.452417\t3.28668\t3.28668\t0.125\t0\n",
      "96\t0.452173\t8.97705\t8.97705\t0.5\t0\n",
      "97\t0.451709\t10.6275\t10.6275\t1\t0\n",
      "98\t0.451032\t8.60787\t8.60787\t0.5\t0\n",
      "99\t0.450736\t12.637\t12.637\t1\t0\n",
      "100\t0.450043\t12.7802\t12.7802\t1\t1\n",
      "101\t0.449214\t7.50059\t7.50059\t1\t1\n",
      "102\t0.448658\t13.4503\t13.4503\t0.25\t0\n",
      "103\t0.448363\t11.9151\t11.9151\t1\t0\n",
      "104\t0.447784\t15.4737\t15.4737\t1\t1\n",
      "105\t0.446841\t8.7878\t8.7878\t0.125\t0\n",
      "106\t0.446559\t11.952\t11.952\t0.5\t0\n",
      "107\t0.445962\t11.4012\t11.4012\t1\t0\n",
      "108\t0.445186\t13.8243\t13.8243\t0.015625\t0\n",
      "109\t0.445159\t13.5123\t13.5123\t0.25\t0\n",
      "110\t0.444804\t11.8846\t11.8846\t1\t0\n",
      "111\t0.444025\t15.3234\t15.3234\t1\t1\n",
      "112\t0.443029\t8.48553\t8.48553\t0.125\t0\n",
      "113\t0.442687\t9.22125\t9.22125\t0.5\t0\n",
      "114\t0.442113\t12.1836\t12.1836\t1\t0\n",
      "115\t0.441313\t17.4394\t17.4394\t1\t1\n",
      "116\t0.440236\t8.3925\t8.3925\t0.0625\t0\n",
      "117\t0.440068\t7.74405\t7.74405\t0.5\t0\n",
      "118\t0.4399\t25.4237\t25.4237\t1\t0\n",
      "119\t0.438481\t15.8222\t15.8222\t0.5\t1\n",
      "120\t0.437568\t12.6932\t12.6932\t0.015625\t0\n",
      "121\t0.437536\t12.4249\t12.4249\t0.5\t0\n",
      "122\t0.437234\t12.9052\t12.9052\t0.5\t0\n",
      "123\t0.436513\t18.4992\t18.4992\t1\t0\n",
      "124\t0.43518\t17.7735\t17.7735\t1\t1\n",
      "125\t0.434176\t17.5033\t17.5033\t1\t1\n",
      "126\t0.433423\t28.0535\t28.0535\t1\t1\n",
      "127\t0.432124\t20.2939\t20.2939\t0.5\t1\n",
      "128\t0.431004\t18.3611\t18.3611\t0.25\t0\n",
      "129\t0.430531\t13.1515\t13.1515\t1\t0\n",
      "130\t0.429791\t24.3182\t24.3182\t1\t1\n",
      "131\t0.42806\t12.8391\t12.8391\t1\t1\n",
      "132\t0.42802\t35.7369\t35.7369\t1\t1\n",
      "133\t0.42568\t16.041\t16.041\t0.5\t1\n",
      "134\t0.42477\t19.2314\t19.2314\t1\t1\n",
      "135\t0.423378\t11.2606\t11.2606\t0.125\t0\n",
      "136\t0.422982\t11.8277\t11.8277\t0.25\t0\n",
      "137\t0.42246\t10.3402\t10.3402\t1\t0\n",
      "138\t0.421976\t29.3362\t29.3362\t1\t1\n",
      "139\t0.419599\t6.21304\t6.21304\t0.5\t1\n",
      "140\t0.418629\t16.2954\t16.2954\t1\t1\n",
      "141\t0.417245\t9.44892\t9.44892\t0.015625\t0\n",
      "142\t0.417243\t9.47931\t9.47931\t0.25\t0\n",
      "143\t0.416641\t12.1738\t12.1738\t1\t1\n",
      "144\t0.41523\t16.9367\t16.9367\t1\t1\n",
      "145\t0.414125\t19.0571\t19.0571\t1\t1\n",
      "146\t0.412832\t25.7366\t25.7366\t1\t1\n",
      "147\t0.411906\t28.4792\t28.4792\t1\t1\n",
      "148\t0.4098\t8.16157\t8.16157\t1\t1\n",
      "149\t0.408742\t19.5192\t19.5192\t1\t1\n",
      "150\t0.407045\t12.237\t12.237\t0.5\t1\n",
      "151\t0.406177\t13.4851\t13.4851\t1\t1\n",
      "152\t0.404715\t16.7536\t16.7536\t1\t1\n",
      "153\t0.403745\t23.5268\t23.5268\t1\t1\n",
      "154\t0.401941\t6.20689\t6.20689\t1\t1\n",
      "155\t0.400898\t22.8353\t22.8353\t1\t1\n",
      "156\t0.398939\t7.74483\t7.74483\t0.03125\t0\n",
      "157\t0.398787\t8.64412\t8.64412\t1\t1\n",
      "158\t0.39819\t31.8604\t31.8604\t1\t1\n",
      "159\t0.395739\t2.48954\t2.48954\t1\t1\n",
      "160\t0.395465\t36.254\t36.254\t1\t1\n",
      "161\t0.392393\t2.93893\t2.93893\t0.5\t1\n",
      "162\t0.391391\t24.4986\t24.4986\t1\t1\n",
      "163\t0.38929\t6.00241\t6.00241\t0.5\t1\n",
      "164\t0.388119\t15.442\t15.442\t1\t1\n",
      "165\t0.386385\t11.0852\t11.0852\t1\t1\n",
      "166\t0.385073\t22.5231\t22.5231\t1\t1\n",
      "167\t0.383398\t18.5769\t18.5769\t1\t1\n",
      "168\t0.381887\t4.03854\t4.03854\t1\t1\n",
      "169\t0.380651\t8.40455\t8.40455\t1\t1\n",
      "170\t0.379172\t11.5563\t11.5563\t1\t1\n",
      "171\t0.377489\t13.7611\t13.7611\t1\t1\n",
      "172\t0.375865\t17.4045\t17.4045\t1\t1\n",
      "173\t0.374072\t7.27039\t7.27039\t1\t1\n",
      "174\t0.373175\t29.0057\t29.0057\t1\t1\n",
      "175\t0.370643\t3.21129\t3.21129\t0.5\t1\n",
      "176\t0.369299\t15.3935\t15.3935\t1\t1\n",
      "177\t0.367346\t10.8649\t10.8649\t1\t1\n",
      "178\t0.365831\t11.5303\t11.5303\t1\t1\n",
      "179\t0.364226\t20.5279\t20.5279\t1\t1\n",
      "180\t0.36286\t17.1389\t17.1389\t1\t1\n",
      "181\t0.361053\t6.05161\t6.05161\t1\t1\n",
      "182\t0.359513\t13.3453\t13.3453\t1\t1\n",
      "183\t0.35768\t9.73467\t9.73467\t1\t1\n",
      "184\t0.356654\t26.1481\t26.1481\t1\t1\n",
      "185\t0.354525\t0.968528\t0.968528\t0.03125\t0\n",
      "186\t0.35415\t18.2182\t18.2182\t1\t1\n",
      "187\t0.352248\t5.58942\t5.58942\t1\t1\n",
      "188\t0.350687\t12.8623\t12.8623\t1\t1\n",
      "189\t0.348841\t9.25429\t9.25429\t1\t1\n",
      "190\t0.347761\t24.706\t24.706\t1\t1\n",
      "191\t0.345655\t0.902027\t0.902027\t0.03125\t0\n",
      "192\t0.344986\t15.1462\t15.1462\t1\t1\n",
      "193\t0.343346\t5.12675\t5.12675\t1\t1\n",
      "194\t0.341782\t12.2335\t12.2335\t1\t1\n",
      "195\t0.339937\t8.94181\t8.94181\t1\t1\n",
      "196\t0.338579\t21.826\t21.826\t0.5\t1\n",
      "197\t0.337815\t14.1921\t14.1921\t1\t1\n",
      "198\t0.335192\t11.1564\t11.1564\t1\t1\n",
      "199\t0.333496\t15.8062\t15.8062\t1\t1\n",
      "200\t0.331545\t5.64459\t5.64459\t1\t1\n",
      "201\t0.33059\t25.7834\t25.7834\t1\t1\n",
      "202\t0.327926\t2.81405\t2.81405\t0.5\t1\n",
      "203\t0.326555\t11.8635\t11.8635\t1\t1\n",
      "204\t0.32473\t12.0275\t12.0275\t1\t1\n",
      "205\t0.322935\t8.80572\t8.80572\t0.015625\t1\n",
      "206\t0.322881\t8.05187\t8.05187\t0.5\t1\n",
      "207\t0.321627\t13.1132\t13.1132\t0.0625\t1\n",
      "208\t0.32143\t12.9399\t12.9399\t1\t1\n",
      "209\t0.31939\t15.2085\t15.2085\t1\t1\n",
      "210\t0.317538\t6.67442\t6.67442\t1\t1\n",
      "211\t0.316418\t3.50566\t3.50566\t1\t1\n",
      "212\t0.314954\t10.3568\t10.3568\t1\t1\n",
      "213\t0.313181\t7.77526\t7.77526\t1\t1\n",
      "214\t0.311782\t19.6265\t19.6265\t1\t1\n",
      "215\t0.309646\t2.76953\t2.76953\t0.5\t1\n",
      "216\t0.308388\t9.50613\t9.50613\t1\t1\n",
      "217\t0.306744\t12.4991\t12.4991\t1\t1\n",
      "218\t0.305387\t17.3071\t17.3071\t1\t1\n",
      "219\t0.303128\t4.8389\t4.8389\t1\t1\n",
      "220\t0.302134\t18.7768\t18.7768\t1\t1\n",
      "221\t0.300025\t2.34397\t2.34397\t1\t1\n",
      "222\t0.299363\t23.2087\t23.2087\t1\t1\n",
      "223\t0.296779\t1.29038\t1.29038\t1\t1\n",
      "224\t0.296621\t26.8758\t26.8758\t0.25\t1\n",
      "225\t0.295503\t19.9394\t19.9394\t1\t1\n",
      "226\t0.292538\t3.52744\t3.52744\t0.5\t1\n",
      "227\t0.2924\t18.8776\t18.8776\t1\t1\n",
      "228\t0.290015\t2.01822\t2.01822\t1\t1\n",
      "229\t0.288771\t7.48607\t7.48607\t1\t1\n",
      "230\t0.287228\t5.9384\t5.9384\t1\t1\n",
      "231\t0.28561\t13.1491\t13.1491\t0.25\t1\n",
      "232\t0.284902\t10.429\t10.429\t0.5\t1\n",
      "233\t0.284042\t7.97067\t7.97067\t1\t1\n",
      "234\t0.28218\t11.4864\t11.4864\t0.5\t1\n",
      "235\t0.281483\t12.2613\t12.2613\t1\t1\n",
      "236\t0.28003\t1.21234\t1.21234\t1\t1\n",
      "237\t0.278897\t5.913\t5.913\t1\t1\n",
      "238\t0.277445\t6.07954\t6.07954\t1\t1\n",
      "239\t0.275771\t9.64282\t9.64282\t1\t1\n",
      "240\t0.273817\t5.44367\t5.44367\t0.125\t1\n",
      "241\t0.273634\t5.99421\t5.99421\t1\t1\n",
      "242\t0.273238\t19.9525\t19.9525\t1\t1\n",
      "243\t0.270231\t6.20454\t6.20454\t1\t1\n",
      "244\t0.268975\t4.34613\t4.34613\t1\t1\n",
      "245\t0.267628\t6.56809\t6.56809\t1\t1\n",
      "246\t0.266006\t7.1689\t7.1689\t1\t1\n",
      "247\t0.265486\t15.3378\t15.3378\t1\t1\n",
      "248\t0.263583\t0.0772622\t0.0772622\t1\t1\n",
      "249\t0.26356\t0.0318594\t0.0318594\t1\t1\n",
      "250\t0.263525\t0.0152539\t0.0152539\t0.00104967\t0\n",
      "251\t0.263283\t3.4846\t3.4846\t1\t1\n",
      "252\t0.263143\t0.0259467\t0.0259467\t0.0078125\t0\n",
      "253\t0.262565\t11.3452\t11.3452\t1\t1\n",
      "254\t0.261855\t0.0766023\t0.0766023\t0.015625\t0\n",
      "255\t0.26071\t6.05682\t6.05682\t1\t1\n",
      "256\t0.260283\t0.235374\t0.235374\t0.03125\t0\n",
      "257\t0.258996\t5.5292\t5.5292\t1\t1\n",
      "258\t0.258212\t0.746272\t0.746272\t0.03125\t0\n",
      "259\t0.257429\t3.52885\t3.52885\t1\t1\n",
      "260\t0.256259\t3.4073\t3.4073\t1\t1\n",
      "261\t0.255035\t5.47531\t5.47531\t1\t1\n",
      "262\t0.253521\t5.86539\t5.86539\t1\t1\n",
      "263\t0.251766\t6.70903\t6.70903\t1\t1\n",
      "264\t0.25034\t8.59978\t8.59978\t1\t1\n",
      "265\t0.249153\t12.501\t12.501\t1\t1\n",
      "266\t0.248815\t11.4339\t11.4339\t1\t1\n",
      "267\t0.246733\t0.188987\t0.188987\t0.03125\t0\n",
      "268\t0.24553\t5.00587\t5.00587\t1\t1\n",
      "269\t0.244808\t0.536453\t0.536453\t0.03125\t0\n",
      "270\t0.243944\t2.533\t2.533\t1\t1\n",
      "271\t0.243065\t2.28869\t2.28869\t1\t1\n",
      "272\t0.242\t4.78454\t4.78454\t1\t1\n",
      "273\t0.240645\t4.49643\t4.49643\t1\t1\n",
      "274\t0.23909\t6.60749\t6.60749\t1\t1\n",
      "275\t0.23756\t4.54497\t4.54497\t0.5\t1\n",
      "276\t0.236946\t8.83368\t8.83368\t1\t1\n",
      "277\t0.235159\t2.69934\t2.69934\t1\t1\n",
      "278\t0.234058\t7.91263\t7.91263\t0.0625\t1\n",
      "279\t0.233915\t7.3252\t7.3252\t1\t1\n",
      "280\t0.232521\t2.48282\t2.48282\t0.5\t1\n",
      "281\t0.231933\t8.49382\t8.49382\t1\t1\n",
      "282\t0.230818\t0.822141\t0.822141\t0.0625\t0\n",
      "283\t0.230018\t4.93092\t4.93092\t1\t1\n",
      "284\t0.228604\t4.99125\t4.99125\t1\t1\n",
      "285\t0.227622\t6.30468\t6.30468\t1\t1\n",
      "286\t0.226518\t3.28628\t3.28628\t1\t1\n",
      "287\t0.225789\t8.47207\t8.47207\t0.5\t1\n",
      "288\t0.225338\t8.16154\t8.16154\t1\t1\n",
      "289\t0.224294\t0.711891\t0.711891\t0.015625\t0\n",
      "290\t0.223974\t1.8159\t1.8159\t1\t1\n",
      "291\t0.223236\t5.05243\t5.05243\t1\t1\n",
      "292\t0.222646\t0.590544\t0.590544\t0.0625\t0\n",
      "293\t0.221705\t3.18741\t3.18741\t1\t1\n",
      "294\t0.22061\t2.91627\t2.91627\t1\t1\n",
      "295\t0.219625\t3.68354\t3.68354\t1\t1\n",
      "296\t0.218899\t1.50136\t1.50136\t1\t1\n",
      "297\t0.217988\t5.52892\t5.52892\t0.125\t1\n",
      "298\t0.21785\t5.15757\t5.15757\t1\t1\n",
      "299\t0.217229\t7.66274\t7.66274\t1\t1\n",
      "300\t0.215427\t0.97146\t0.97146\t1\t1\n"
     ]
    }
   ],
   "source": [
    "curved_dpo = elastic_rods.get_designParameter_optimizer(curved_linkage, rw, sw, callback=curved_callback)\n",
    "curved_dpo.options.niter = 300\n",
    "prev_time_stamp = time.time()\n",
    "curved_cr = curved_dpo.optimize()"
   ]
  },
  {
   "cell_type": "code",
   "execution_count": 48,
   "metadata": {},
   "outputs": [
    {
     "name": "stdout",
     "output_type": "stream",
     "text": [
      "0.0004034844321390627\n",
      "0.0003643047308071722\n",
      "9.389661662522952e-07\n",
      "1.742028970959109e-08\n"
     ]
    }
   ],
   "source": [
    "print(curved_linkage.energy())\n",
    "print(curved_linkage.energyBend())\n",
    "print(curved_linkage.energyTwist())\n",
    "print(curved_linkage.energyStretch())"
   ]
  }
 ],
 "metadata": {
  "kernelspec": {
   "display_name": "Python 3",
   "language": "python",
   "name": "python3"
  },
  "language_info": {
   "codemirror_mode": {
    "name": "ipython",
    "version": 3
   },
   "file_extension": ".py",
   "mimetype": "text/x-python",
   "name": "python",
   "nbconvert_exporter": "python",
   "pygments_lexer": "ipython3",
   "version": "3.7.5"
  }
 },
 "nbformat": 4,
 "nbformat_minor": 4
}
