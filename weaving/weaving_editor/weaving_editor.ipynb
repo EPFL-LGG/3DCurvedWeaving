{
 "cells": [
  {
   "cell_type": "code",
   "execution_count": null,
   "metadata": {},
   "outputs": [],
   "source": [
    "elastic_rods_dir = '../../elastic_rods/python/'\n",
    "weaving_dir = '../'\n",
    "import os\n",
    "import os.path as osp\n",
    "import sys; sys.path.append(elastic_rods_dir); sys.path.append(weaving_dir)\n",
    "import numpy as np, elastic_rods, linkage_vis\n",
    "import numpy.linalg as la\n",
    "from bending_validation import suppress_stdout as so\n",
    "import matplotlib.pyplot as plt\n",
    "from elastic_rods import EnergyType, InterleavingType"
   ]
  },
  {
   "cell_type": "code",
   "execution_count": null,
   "metadata": {},
   "outputs": [],
   "source": [
    "# Reloadable libraries\n",
    "import importlib\n",
    "\n",
    "# weaving\n",
    "import analysis_helper, ribbon_linkage_helper, mesh_vis, linkage_utils, compute_curve_from_curvature, importlib\n",
    "importlib.reload(analysis_helper)\n",
    "importlib.reload(ribbon_linkage_helper)\n",
    "importlib.reload(mesh_vis)\n",
    "importlib.reload(linkage_utils)\n",
    "importlib.reload(compute_curve_from_curvature)\n",
    "from analysis_helper import (compare_turning_angle,\n",
    "                            is_on_sphere, \n",
    "                            get_distance_to_center_scalar_field, \n",
    "                            plot_curvatures, \n",
    "                            get_curvature_scalar_field,\n",
    "                            construct_elastic_rod_loop_from_rod_segments, \n",
    "                            concatenate_rod_properties_from_rod_segments, \n",
    "                            compute_min_distance_rigid_transformation)\n",
    "from ribbon_linkage_helper import (update_rest_curvature, \n",
    "                                   set_ribbon_linkage,\n",
    "                                   export_linkage_geometry_to_obj,\n",
    "                                   write_linkage_ribbon_output_florin)\n",
    "\n",
    "from compute_curve_from_curvature import (match_geo_curvature_and_edge_len, get_all_curve_pattern)\n",
    "from linkage_utils import order_segments_by_ribbons, get_turning_angle_and_length_from_ordered_rods\n",
    "\n",
    "import vis.fields\n",
    "import matplotlib.cm as cm"
   ]
  },
  {
   "cell_type": "code",
   "execution_count": null,
   "metadata": {},
   "outputs": [],
   "source": [
    "import time"
   ]
  },
  {
   "cell_type": "code",
   "execution_count": null,
   "metadata": {},
   "outputs": [],
   "source": [
    "# Set to True in the options below if you already optimized a specific linkage\n",
    "# and you would like to reuse the optimized linkage. Loading is performed in\n",
    "# place of the full design optimization.\n",
    "# NOTE: Doesn't seem to work at the moment, leave at False\n",
    "LOAD_OPTIMIZED_DOFS = False\n",
    "\n",
    "# Set to False if strips cannot be labeled into families for a model\n",
    "USE_FAMILY_LABEL = True"
   ]
  },
  {
   "cell_type": "code",
   "execution_count": null,
   "metadata": {},
   "outputs": [],
   "source": [
    "# Sphere Parameters\n",
    "default_camera_parameters = ((3.466009282140468, -4.674139805388271, -2.556131049738206), (-0.21402574298422497, -0.06407538766530313, -0.9747681088523519),(0.1111, 0.1865, 0.5316))\n",
    "RIBBON_CS = [1, 10]\n",
    "ISO_CS = [4, 4]\n",
    "MODEL_PATH = osp.join(weaving_dir + 'models/equal_edge_atI.obj')\n",
    "MODEL_NAME = \"equal_edge_atI\"\n",
    "SUBDIVISION_RESOLUTION = 20\n",
    "REGULARIZATION_WEIGHT = 0.05\n",
    "SMOOTHING_WEIGHT = 0\n",
    "INPUT_SURFACE_PATH = osp.join(weaving_dir + 'surface_models/centered_sphere_100mm.obj')\n",
    "RIBBON_NAME = \"sphere_strip\""
   ]
  },
  {
   "cell_type": "code",
   "execution_count": null,
   "metadata": {},
   "outputs": [],
   "source": [
    "# # Ellipsoidal Parameters\n",
    "# default_camera_parameters = ((3.466009282140468, -4.674139805388271, -2.556131049738206), (-0.21402574298422497, -0.06407538766530313, -0.9747681088523519),(0.1111, 0.1865, 0.5316))\n",
    "# RIBBON_CS = [1, 10]\n",
    "# ISO_CS = [4, 4]\n",
    "# MODEL_PATH = osp.join(weaving_dir + 'models/three_axis_ellipsoidal_equal_edge_atI.obj')\n",
    "# INPUT_SURFACE_PATH = osp.join(weaving_dir + 'surface_models/three_axis_ellipsoid.obj')\n",
    "# MODEL_NAME = 'three_axis_ellipsoidal_from_equal_edge_atI'\n",
    "# SUBDIVISION_RESOLUTION = 20\n",
    "# REGULARIZATION_WEIGHT = 0.1\n",
    "# RIBBON_NAME = \"ellipsoidal_strip\""
   ]
  },
  {
   "cell_type": "code",
   "execution_count": null,
   "metadata": {},
   "outputs": [],
   "source": [
    "# # Manta Ray Parameters\n",
    "# default_camera_parameters = ((3.466009282140468, -4.674139805388271, -2.556131049738206), (-0.21402574298422497, -0.06407538766530313, -0.9747681088523519),(0.1111, 0.1865, 0.5316))\n",
    "# RIBBON_CS = [12, 8]\n",
    "# ISO_CS = [4, 4]\n",
    "# MODEL_PATH = osp.join(weaving_dir + 'models/manta_ray.obj')\n",
    "# MODEL_NAME = \"manta_ray\"\n",
    "# SUBDIVISION_RESOLUTION = 20\n",
    "# REGULARIZATION_WEIGHT = 0.05\n",
    "# INPUT_SURFACE_PATH = osp.join(weaving_dir + 'surface_models/centered_sphere_100mm.obj')"
   ]
  },
  {
   "cell_type": "code",
   "execution_count": null,
   "metadata": {},
   "outputs": [],
   "source": [
    "# # Single Linkage Parameters\n",
    "# default_camera_parameters = ((3.466009282140468, -4.674139805388271, -2.556131049738206), (-0.21402574298422497, -0.06407538766530313, -0.9747681088523519),(0.1111, 0.1865, 0.5316))\n",
    "# RIBBON_CS = [0.001, 0.01]\n",
    "# ISO_CS = [0.01, 0.01]\n",
    "# MODEL_PATH = osp.join('../../examples/' + 'single_linkage.obj')\n",
    "# SUBDIVISION_RESOLUTION = 5\n",
    "# MODEL_NAME = \"single_linkage\"\n",
    "# REGULARIZATION_WEIGHT = 0.05\n",
    "# INPUT_SURFACE_PATH = osp.join(weaving_dir + 'surface_models/single_linkage_target.obj')"
   ]
  },
  {
   "cell_type": "code",
   "execution_count": null,
   "metadata": {},
   "outputs": [],
   "source": [
    "# # Pseudosphere\n",
    "# default_camera_parameters = ((3.466009282140468, -4.674139805388271, -2.556131049738206), (-0.21402574298422497, -0.06407538766530313, -0.9747681088523519),(0.1111, 0.1865, 0.5316))\n",
    "# RIBBON_CS = [0.001, 0.01]\n",
    "# ISO_CS = [1, 1]\n",
    "# MODEL_NAME = \"pseudo_sphere\"\n",
    "# MODEL_PATH = osp.join(weaving_dir + 'models/{}.obj'.format(MODEL_NAME))\n",
    "# INPUT_SURFACE_PATH =  osp.join(weaving_dir + 'surface_models/pseudo_sphere/pseudo_sphere_surface.obj')\n",
    "# SUBDIVISION_RESOLUTION = 20\n",
    "# REGULARIZATION_WEIGHT = 0.0001"
   ]
  },
  {
   "cell_type": "code",
   "execution_count": null,
   "metadata": {},
   "outputs": [],
   "source": [
    "# # Sphere to hemoglobin sequence\n",
    "# default_camera_parameters = ((3.466009282140468, -4.674139805388271, -2.556131049738206), (-0.21402574298422497, -0.06407538766530313, -0.9747681088523519),(0.1111, 0.1865, 0.5316))\n",
    "# RIBBON_CS = [0.01, 0.1]\n",
    "# ISO_CS = [0.04, 0.04]\n",
    "# MODEL_PATH = osp.join(weaving_dir + 'models/sphere_to_hemoglobin/5.obj')\n",
    "# SUBDIVISION_RESOLUTION = 20\n",
    "# REGULARIZATION_WEIGHT = 0.05\n",
    "# MODEL_NAME = './results/sphere_to_hemoglobin_5'"
   ]
  },
  {
   "cell_type": "code",
   "execution_count": null,
   "metadata": {},
   "outputs": [],
   "source": [
    "# Regular Torus Parameters\n",
    "default_camera_parameters = ((3.466009282140468, -4.674139805388271, -2.556131049738206), (-0.21402574298422497, -0.06407538766530313, -0.9747681088523519),(0.1111, 0.1865, 0.5316))\n",
    "default_camera_parameters_2 = ((1.6535518732236205, -2.1434469534967877, -5.518813874877859),\n",
    " (-0.5096009366331774, 0.449950326402865, -0.733441973950591),\n",
    " (0.1111, 0.1865, 0.5316))\n",
    "RIBBON_CS = [4, 40]\n",
    "ISO_CS = [1, 1]\n",
    "MODEL_PATH = osp.join(weaving_dir + 'models/regular_torus.obj')\n",
    "INPUT_SURFACE_PATH = osp.join(weaving_dir + 'surface_models/regular_torus.obj')\n",
    "MODEL_NAME = 'regular_torus'\n",
    "SUBDIVISION_RESOLUTION = 20\n",
    "REGULARIZATION_WEIGHT = 0.5\n",
    "RIBBON_NAME = 'regular_torus_strip'"
   ]
  },
  {
   "cell_type": "code",
   "execution_count": null,
   "metadata": {},
   "outputs": [],
   "source": [
    "# # GMO Torus Parameters\n",
    "# default_camera_parameters = ((3.466009282140468, -4.674139805388271, -2.556131049738206), (-0.21402574298422497, -0.06407538766530313, -0.9747681088523519),(0.1111, 0.1865, 0.5316))\n",
    "# RIBBON_CS = [1, 40]\n",
    "# MODEL_PATH = osp.join(weaving_dir + 'models/gmo_torus/gmo_torus.obj')\n",
    "# INPUT_SURFACE_PATH = osp.join(weaving_dir + 'surface_models/gmo_torus.obj')\n",
    "# MODEL_NAME = 'gmo_torus'\n",
    "# SUBDIVISION_RESOLUTION = 20\n",
    "# REGULARIZATION_WEIGHT = 1\n",
    "# RIBBON_NAME = 'gmo_torus_strip'"
   ]
  },
  {
   "cell_type": "code",
   "execution_count": null,
   "metadata": {},
   "outputs": [],
   "source": [
    "# # Pseudosphere 400\n",
    "# default_camera_parameters = ((3.466009282140468, -4.674139805388271, -2.556131049738206), (-0.21402574298422497, -0.06407538766530313, -0.9747681088523519),(0.1111, 0.1865, 0.5316))\n",
    "# RIBBON_CS = [0.1, 4]\n",
    "# MODEL_NAME = \"pseudo_sphere_400\"\n",
    "# MODEL_PATH = osp.join(weaving_dir + 'models/{}.obj'.format(MODEL_NAME))\n",
    "# SUBDIVISION_RESOLUTION = 20\n",
    "# SMOOTHING_WEIGHT = 100\n",
    "# REGULARIZATION_WEIGHT = 1\n",
    "# RIBBON_NAME = \"pseudo_sphere_400_strip\""
   ]
  },
  {
   "cell_type": "code",
   "execution_count": null,
   "metadata": {},
   "outputs": [],
   "source": [
    "# # Sphere to simple hemoglobin sequence\n",
    "# default_camera_parameters = ((1.455670753946072, -1.6783546089674806, -6.2366218363694985),\n",
    "#  (0.9765104371975557, -0.011543058475481151, -0.21535938299796684),\n",
    "#  (0.1111, 0.1865, 0.5316))\n",
    "# RIBBON_CS = [0.01, 0.4]\n",
    "# MODEL_PATH = osp.join(weaving_dir + 'models/simple_sphere_to_hemoglobin/5.obj')\n",
    "# INPUT_SURFACE_PATH = osp.join(weaving_dir + 'surface_models/sphere_to_hemoglobin/5.obj')\n",
    "# SUBDIVISION_RESOLUTION = 20\n",
    "# REGULARIZATION_WEIGHT = 0.001\n",
    "# SMOOTHING_WEIGHT = 0\n",
    "# MODEL_NAME = './results/simple_sphere_to_hemoglobin'\n",
    "# RIBBON_NAME = 'simple_hemoglobin_strip'"
   ]
  },
  {
   "cell_type": "code",
   "execution_count": null,
   "metadata": {},
   "outputs": [],
   "source": [
    "# # Pseudosphere Small\n",
    "# default_camera_parameters = ((3.466009282140468, -4.674139805388271, -2.556131049738206), (-0.21402574298422497, -0.06407538766530313, -0.9747681088523519),(0.1111, 0.1865, 0.5316))\n",
    "# RIBBON_CS = [0.005, 0.03]\n",
    "# MODEL_NAME = \"small_pseudo_sphere\"\n",
    "# MODEL_PATH = osp.join(weaving_dir + 'models/{}.obj'.format(MODEL_NAME))\n",
    "# SUBDIVISION_RESOLUTION = 20\n",
    "# SMOOTHING_WEIGHT = 10\n",
    "# REGULARIZATION_WEIGHT = 0\n",
    "# INPUT_SURFACE_PATH = osp.join(weaving_dir + 'surface_models/pseudo_sphere/{}.obj'.format(MODEL_NAME))\n",
    "# RIBBON_NAME = \"small_pseudo_sphere_strip\""
   ]
  },
  {
   "cell_type": "code",
   "execution_count": null,
   "metadata": {},
   "outputs": [],
   "source": [
    "# # Pseudosphere Biaxial\n",
    "# default_camera_parameters = ((3.466009282140468, -4.674139805388271, -2.556131049738206), (-0.21402574298422497, -0.06407538766530313, -0.9747681088523519),(0.1111, 0.1865, 0.5316))\n",
    "# RIBBON_CS = [0.005, 0.03]\n",
    "# MODEL_NAME = \"biaxial_pseudosphere\"\n",
    "# MODEL_PATH = osp.join(weaving_dir + 'models/{}.obj'.format(MODEL_NAME))\n",
    "# SUBDIVISION_RESOLUTION = 20\n",
    "# SMOOTHING_WEIGHT = 10\n",
    "# REGULARIZATION_WEIGHT = 0\n",
    "# INPUT_SURFACE_PATH = osp.join(weaving_dir + 'surface_models/pseudo_sphere/{}.obj'.format('small_pseudo_sphere'))\n",
    "# RIBBON_NAME = \"biaxial_pseudosphere_strip\""
   ]
  },
  {
   "cell_type": "code",
   "execution_count": null,
   "metadata": {},
   "outputs": [],
   "source": [
    "# # Freeform 5 \n",
    "# default_camera_parameters = ((3.466009282140468, -4.674139805388271, -2.556131049738206), (-0.21402574298422497, -0.06407538766530313, -0.9747681088523519),(0.1111, 0.1865, 0.5316))\n",
    "# RIBBON_CS = [15, 150]\n",
    "# MODEL_NAME = \"freeform_5\"\n",
    "# MODEL_PATH = osp.join(weaving_dir + 'models/{}.obj'.format(MODEL_NAME))\n",
    "# SUBDIVISION_RESOLUTION = 5\n",
    "# SMOOTHING_WEIGHT = 10\n",
    "# REGULARIZATION_WEIGHT = 0\n",
    "# INPUT_SURFACE_PATH = osp.join(weaving_dir + 'surface_models/{}.obj'.format(MODEL_NAME))\n",
    "\n",
    "# RIBBON_NAME = \"freeform_5_strip\""
   ]
  },
  {
   "cell_type": "code",
   "execution_count": null,
   "metadata": {},
   "outputs": [],
   "source": [
    "# # Klein bottle\n",
    "# default_camera_parameters = ((3.466009282140468, -4.674139805388271, -2.556131049738206), (-0.21402574298422497, -0.06407538766530313, -0.9747681088523519),(0.1111, 0.1865, 0.5316))\n",
    "# RIBBON_CS = [0.001, 0.01]\n",
    "# MODEL_NAME = \"kleinbottle\"\n",
    "# MODEL_PATH = osp.join(weaving_dir + 'models/{}.obj'.format(MODEL_NAME))\n",
    "# SUBDIVISION_RESOLUTION = 20\n",
    "# SMOOTHING_WEIGHT = 10\n",
    "# REGULARIZATION_WEIGHT = 0\n",
    "# INPUT_SURFACE_PATH = osp.join(weaving_dir + 'surface_models/{}.obj'.format(MODEL_NAME))\n",
    "# LOAD_OPTIMIZED_DOFS = False\n",
    "# USE_FAMILY_LABEL = False\n",
    "# RIBBON_NAME = \"kleinbottle_strip\""
   ]
  },
  {
   "cell_type": "code",
   "execution_count": null,
   "metadata": {},
   "outputs": [],
   "source": [
    "# # Bird\n",
    "# default_camera_parameters = ((3.466009282140468, -4.674139805388271, -2.556131049738206), (-0.21402574298422497, -0.06407538766530313, -0.9747681088523519),(0.1111, 0.1865, 0.5316))\n",
    "# RIBBON_CS = [100, 1000]\n",
    "# MODEL_NAME = \"bird\"\n",
    "# MODEL_PATH = osp.join(weaving_dir + 'models/{}.obj'.format(MODEL_NAME))\n",
    "# SUBDIVISION_RESOLUTION = 20\n",
    "# SMOOTHING_WEIGHT = 10\n",
    "# REGULARIZATION_WEIGHT = 0\n",
    "# INPUT_SURFACE_PATH = osp.join(weaving_dir + 'surface_models/{}.obj'.format(MODEL_NAME))\n",
    "# RIBBON_NAME = \"bird_strip\""
   ]
  },
  {
   "cell_type": "code",
   "execution_count": null,
   "metadata": {},
   "outputs": [],
   "source": [
    "# # Close Bird\n",
    "# default_camera_parameters = ((3.466009282140468, -4.674139805388271, -2.556131049738206), (-0.21402574298422497, -0.06407538766530313, -0.9747681088523519),(0.1111, 0.1865, 0.5316))\n",
    "# RIBBON_CS = [100, 1000]\n",
    "# MODEL_NAME = \"bird_close_beak\"\n",
    "# MODEL_PATH = osp.join(weaving_dir + 'models/{}.obj'.format(MODEL_NAME))\n",
    "# SUBDIVISION_RESOLUTION = 20\n",
    "# SMOOTHING_WEIGHT = 10\n",
    "# REGULARIZATION_WEIGHT = 0\n",
    "# INPUT_SURFACE_PATH = osp.join(weaving_dir + 'surface_models/{}.obj'.format('bird'))\n",
    "# RIBBON_NAME = \"bird_close_beak_strip\""
   ]
  },
  {
   "cell_type": "code",
   "execution_count": null,
   "metadata": {},
   "outputs": [],
   "source": [
    "# # Open Bird\n",
    "# default_camera_parameters = ((3.466009282140468, -4.674139805388271, -2.556131049738206), (-0.21402574298422497, -0.06407538766530313, -0.9747681088523519),(0.1111, 0.1865, 0.5316))\n",
    "# RIBBON_CS = [100, 1000]\n",
    "# MODEL_NAME = \"bird_open_beak\"\n",
    "# MODEL_PATH = osp.join(weaving_dir + 'models/{}.obj'.format(MODEL_NAME))\n",
    "# SUBDIVISION_RESOLUTION = 20\n",
    "# SMOOTHING_WEIGHT = 10\n",
    "# REGULARIZATION_WEIGHT = 0\n",
    "# INPUT_SURFACE_PATH = osp.join(weaving_dir + 'surface_models/{}.obj'.format('bird'))\n",
    "# RIBBON_NAME = \"bird_open_beak_strip\""
   ]
  },
  {
   "cell_type": "code",
   "execution_count": null,
   "metadata": {},
   "outputs": [],
   "source": [
    "def initialize_linkage(surface_path = INPUT_SURFACE_PATH, useCenterline = True, cross_section = RIBBON_CS, subdivision_res = SUBDIVISION_RESOLUTION, model_path = MODEL_PATH):\n",
    "    l = elastic_rods.SurfaceAttractedLinkage(surface_path, useCenterline, model_path, subdivision_res, False, InterleavingType.weaving)\n",
    "    l.setMaterial(elastic_rods.RodMaterial('rectangle', 2000, 0.3, cross_section, stiffAxis=elastic_rods.StiffAxis.D1))\n",
    "    l.set_holdClosestPointsFixed(True);\n",
    "    l.set_attraction_tgt_joint_weight(0.01);\n",
    "    l.attraction_weight = 100;\n",
    "    return l"
   ]
  },
  {
   "cell_type": "code",
   "execution_count": null,
   "metadata": {},
   "outputs": [],
   "source": [
    "def initialize_normal_linkage(cross_section = RIBBON_CS, subdivision_res = SUBDIVISION_RESOLUTION, model_path = MODEL_PATH):\n",
    "    l = elastic_rods.RodLinkage(model_path, subdivision_res, False)\n",
    "    l.setMaterial(elastic_rods.RodMaterial('rectangle', 2000, 0.3, cross_section, stiffAxis=elastic_rods.StiffAxis.D1))\n",
    "    return l"
   ]
  },
  {
   "cell_type": "code",
   "execution_count": null,
   "metadata": {},
   "outputs": [],
   "source": [
    "def design_parameter_solve(l,regularization_weight = 0.1, smoothing_weight = 1):\n",
    "    design_opts = elastic_rods.NewtonOptimizerOptions()\n",
    "    design_opts.niter = 10000\n",
    "    design_opts.verbose = 1\n",
    "    l.set_design_parameter_config(use_restLen = True, use_restKappa = True)\n",
    "    elastic_rods.designParameter_solve(l, design_opts, regularization_weight = 0.0, smoothing_weight = 0.001)\n",
    "    l.set_design_parameter_config(use_restLen = True, use_restKappa = True)"
   ]
  },
  {
   "cell_type": "code",
   "execution_count": null,
   "metadata": {},
   "outputs": [],
   "source": [
    "def get_linkage_eqm(l, opt, cam_param = default_camera_parameters, target_surf = None):\n",
    "    elastic_rods.compute_equilibrium(l, options = opt)\n",
    "    if (target_surf is None):\n",
    "        view = linkage_vis.LinkageViewer(l, width=1024, height=640)\n",
    "    else:\n",
    "        view = linkage_vis.LinkageViewerWithSurface(l, target_surf, width=1024, height=640)\n",
    "    view.setCameraParams(cam_param)\n",
    "    return l, view"
   ]
  },
  {
   "cell_type": "code",
   "execution_count": null,
   "metadata": {},
   "outputs": [],
   "source": [
    "OPTS = elastic_rods.NewtonOptimizerOptions()\n",
    "OPTS.gradTol = 1e-6\n",
    "OPTS.verbose = 1;\n",
    "OPTS.beta = 1e-8\n",
    "OPTS.niter = 100\n",
    "OPTS.verboseNonPosDef = False"
   ]
  },
  {
   "cell_type": "markdown",
   "metadata": {},
   "source": [
    "### Generate straight linkage equilibrium for testing later"
   ]
  },
  {
   "cell_type": "code",
   "execution_count": null,
   "metadata": {},
   "outputs": [],
   "source": [
    "straight_linkage = initialize_linkage(surface_path = INPUT_SURFACE_PATH, useCenterline = True, model_path = MODEL_PATH, cross_section = RIBBON_CS, subdivision_res = SUBDIVISION_RESOLUTION)"
   ]
  },
  {
   "cell_type": "code",
   "execution_count": null,
   "metadata": {},
   "outputs": [],
   "source": [
    "view = linkage_vis.LinkageViewer(straight_linkage, width=1024, height=640)\n",
    "view.setCameraParams(default_camera_parameters)\n",
    "view.show()"
   ]
  },
  {
   "cell_type": "code",
   "execution_count": null,
   "metadata": {},
   "outputs": [],
   "source": [
    "# temp_view = linkage_vis.LinkageViewer(straight_linkage, width=1024, height=640)\n",
    "# temp_view.setCameraParams(default_camera_parameters)"
   ]
  },
  {
   "cell_type": "code",
   "execution_count": null,
   "metadata": {},
   "outputs": [],
   "source": [
    "# temp_view.show()"
   ]
  },
  {
   "cell_type": "code",
   "execution_count": null,
   "metadata": {},
   "outputs": [],
   "source": [
    "# export_linkage_geometry_to_obj(straight_linkage, '{}_intialized.obj'.format(MODEL_NAME))"
   ]
  },
  {
   "cell_type": "code",
   "execution_count": null,
   "metadata": {
    "scrolled": true
   },
   "outputs": [],
   "source": [
    "straight_linkage.attraction_weight = 0\n",
    "straight_linkage, initial_view = get_linkage_eqm(straight_linkage, cam_param = default_camera_parameters, opt = OPTS)"
   ]
  },
  {
   "cell_type": "code",
   "execution_count": null,
   "metadata": {},
   "outputs": [],
   "source": [
    "initial_view.show()"
   ]
  },
  {
   "cell_type": "code",
   "execution_count": null,
   "metadata": {},
   "outputs": [],
   "source": [
    "straight_rod_dof = straight_linkage.getDoFs()"
   ]
  },
  {
   "cell_type": "code",
   "execution_count": null,
   "metadata": {
    "scrolled": true
   },
   "outputs": [],
   "source": [
    "elastic_rods.compute_equilibrium(straight_linkage, options = OPTS)"
   ]
  },
  {
   "cell_type": "code",
   "execution_count": null,
   "metadata": {},
   "outputs": [],
   "source": [
    "initial_view.update()"
   ]
  },
  {
   "cell_type": "markdown",
   "metadata": {},
   "source": [
    "### Create Surface Attracted Linkage and solve for design parameters with fixed joint positions"
   ]
  },
  {
   "cell_type": "code",
   "execution_count": null,
   "metadata": {},
   "outputs": [],
   "source": [
    "with so(): linkage = initialize_linkage(surface_path = INPUT_SURFACE_PATH, useCenterline = True, model_path = MODEL_PATH, cross_section = RIBBON_CS, subdivision_res = SUBDIVISION_RESOLUTION)\n",
    "# with so(): linkage = initialize_normal_linkage(model_path = MODEL_PATH, cross_section = RIBBON_CS, subdivision_res = SUBDIVISION_RESOLUTION)\n",
    "save_tgt_joint_pos = linkage.jointPositions();"
   ]
  },
  {
   "cell_type": "code",
   "execution_count": null,
   "metadata": {},
   "outputs": [],
   "source": [
    "with so(): design_parameter_solve(linkage, regularization_weight = 0.0, smoothing_weight = 0.001)"
   ]
  },
  {
   "cell_type": "code",
   "execution_count": null,
   "metadata": {},
   "outputs": [],
   "source": [
    "start_time = time.time()\n",
    "with so(): linkage, view = get_linkage_eqm(linkage, cam_param = default_camera_parameters, opt = OPTS, target_surf=INPUT_SURFACE_PATH)\n",
    "print('compute equilibrium takes: ', time.time() - start_time)\n",
    "view.show()"
   ]
  },
  {
   "cell_type": "code",
   "execution_count": null,
   "metadata": {},
   "outputs": [],
   "source": [
    "# Optionally configure the visualization colors/transparency\n",
    "view.viewOptions[view.ViewType.LINKAGE].color = 'lightgreen'\n",
    "view.viewOptions[view.ViewType.LINKAGE].transparent = False\n",
    "view.viewOptions[view.ViewType.SURFACE].transparent = True\n",
    "view.viewOptions[view.ViewType.SURFACE].color = 'gray'\n",
    "view.applyViewOptions()"
   ]
  },
  {
   "cell_type": "code",
   "execution_count": null,
   "metadata": {},
   "outputs": [],
   "source": [
    "la.norm(linkage.gradient())"
   ]
  },
  {
   "cell_type": "code",
   "execution_count": null,
   "metadata": {},
   "outputs": [],
   "source": [
    "linkage.numJoints()"
   ]
  },
  {
   "cell_type": "code",
   "execution_count": null,
   "metadata": {},
   "outputs": [],
   "source": [
    "OPTS.niter = 200\n",
    "linkage.set_design_parameter_config(use_restLen = True, use_restKappa = True)\n",
    "useCenterline = True\n",
    "optimizer = elastic_rods.WeavingOptimization(linkage, INPUT_SURFACE_PATH, useCenterline, equilibrium_options=OPTS, pinJoint = 0, useFixedJoint = False)\n",
    "optimizer.set_target_joint_position(save_tgt_joint_pos)\n",
    "view.update()"
   ]
  },
  {
   "cell_type": "code",
   "execution_count": null,
   "metadata": {},
   "outputs": [],
   "source": [
    "optimizer.rl_regularization_weight = 0\n",
    "optimizer.smoothing_weight = 10\n",
    "optimizer.beta = 500000.0\n",
    "optimizer.gamma = 1\n",
    "algorithm = elastic_rods.WeavingOptAlgorithm.NEWTON_CG\n",
    "def update_viewer():\n",
    "    view.update()"
   ]
  },
  {
   "cell_type": "code",
   "execution_count": null,
   "metadata": {},
   "outputs": [],
   "source": [
    "if not LOAD_OPTIMIZED_DOFS:\n",
    "    optimizer.WeavingOptimize(algorithm, 2000, 1.0, 1e-2, update_viewer)\n",
    "else:\n",
    "    loadedDoFs = np.load(\"dof_files/{}.npy\".format(MODEL_NAME))\n",
    "    linkage.setExtendedDoFs(loadedDoFs)\n",
    "    view.update()"
   ]
  },
  {
   "cell_type": "code",
   "execution_count": null,
   "metadata": {},
   "outputs": [],
   "source": [
    "linkage, view = get_linkage_eqm(linkage, cam_param = default_camera_parameters, opt = OPTS)\n",
    "view.update()"
   ]
  },
  {
   "cell_type": "code",
   "execution_count": null,
   "metadata": {},
   "outputs": [],
   "source": [
    "## If you want to solve again after loading optimized DOFs (e.g. if the code changed)\n",
    "# algorithm = elastic_rods.WeavingOptAlgorithm.NEWTON_CG\n",
    "# optimizer.WeavingOptimize(algorithm, 2000, 1.0, 1e-2, update_viewer)"
   ]
  },
  {
   "cell_type": "code",
   "execution_count": null,
   "metadata": {},
   "outputs": [],
   "source": [
    "# Store DoFs to file\n",
    "if not os.path.exists(\"dof_files\"):\n",
    "    os.makedirs(\"dof_files\")\n",
    "rawDoFs = linkage.getExtendedDoFs()\n",
    "np.save(\"dof_files/{}.npy\".format(MODEL_NAME), rawDoFs)"
   ]
  },
  {
   "cell_type": "code",
   "execution_count": null,
   "metadata": {},
   "outputs": [],
   "source": [
    "optimizer.setLinkageAttractionWeight(1e-16)"
   ]
  },
  {
   "cell_type": "code",
   "execution_count": null,
   "metadata": {},
   "outputs": [],
   "source": [
    "optimizer.set_holdClosestPointsFixed(False)"
   ]
  },
  {
   "cell_type": "markdown",
   "metadata": {
    "jupyter": {
     "source_hidden": true
    }
   },
   "source": [
    "### Apply perturbation "
   ]
  },
  {
   "cell_type": "code",
   "execution_count": null,
   "metadata": {},
   "outputs": [],
   "source": [
    "# linesearch_weaver = optimizer.get_linesearch_weaver()\n",
    "# linesearch_weaver.setDoFs(straight_rod_dof)"
   ]
  },
  {
   "cell_type": "code",
   "execution_count": null,
   "metadata": {},
   "outputs": [],
   "source": [
    "# perturbation_test_view = linkage_vis.LinkageViewer(linesearch_weaver, width=1024, height=640)\n",
    "# perturbation_test_view.setCameraParams(default_camera_parameters)\n",
    "# perturbation_test_view.show()"
   ]
  },
  {
   "cell_type": "code",
   "execution_count": null,
   "metadata": {},
   "outputs": [],
   "source": [
    "# linesearch_weaver.attraction_weight"
   ]
  },
  {
   "cell_type": "code",
   "execution_count": null,
   "metadata": {},
   "outputs": [],
   "source": [
    "# with so(): elastic_rods.compute_equilibrium(linesearch_weaver, options = OPTS)"
   ]
  },
  {
   "cell_type": "code",
   "execution_count": null,
   "metadata": {},
   "outputs": [],
   "source": [
    "# perturbation_test_view.update()"
   ]
  },
  {
   "cell_type": "code",
   "execution_count": null,
   "metadata": {},
   "outputs": [],
   "source": [
    "# export_linkage_geometry_to_obj(linkage, '{}_optimized.obj'.format(MODEL_NAME))"
   ]
  },
  {
   "cell_type": "code",
   "execution_count": null,
   "metadata": {},
   "outputs": [],
   "source": [
    "# view.getCameraParams()"
   ]
  },
  {
   "cell_type": "code",
   "execution_count": null,
   "metadata": {},
   "outputs": [],
   "source": [
    "# view.setCameraParams(default_camera_parameters)"
   ]
  },
  {
   "cell_type": "code",
   "execution_count": null,
   "metadata": {},
   "outputs": [],
   "source": [
    "# import vis.fields\n",
    "# import matplotlib.cm as cm\n",
    "# sf = vis.fields.ScalarField(linkage, 0.5 * np.ones((linkage.numSegments(), linkage.segment(0).rod.numVertices())), colormap=cm.viridis, vmin = 0, vmax = 1)\n",
    "# view.update(scalarField=sf)\n",
    "# default_camera_parameters = ((3.466009282140468, -4.674139805388271, -2.556131049738206), (-0.21402574298422497, -0.06407538766530313, -0.9747681088523519),(0.1111, 0.1865, 0.5316))\n",
    "# view.setCameraParams(default_camera_parameters)"
   ]
  },
  {
   "cell_type": "markdown",
   "metadata": {},
   "source": [
    "### Get laser cutting pattern"
   ]
  },
  {
   "cell_type": "code",
   "execution_count": null,
   "metadata": {},
   "outputs": [],
   "source": [
    "# if not os.path.exists(RIBBON_NAME):\n",
    "#     os.makedirs(RIBBON_NAME)\n",
    "# get_all_curve_pattern(linkage, RIBBON_CS[1], SUBDIVISION_RESOLUTION, RIBBON_NAME, image_type='svg')"
   ]
  },
  {
   "cell_type": "markdown",
   "metadata": {},
   "source": [
    "### Generate Output needed by Florin for Rendering"
   ]
  },
  {
   "cell_type": "code",
   "execution_count": null,
   "metadata": {},
   "outputs": [],
   "source": [
    "ribbons = order_segments_by_ribbons(linkage)\n",
    "write_linkage_ribbon_output_florin(linkage, ribbons, SUBDIVISION_RESOLUTION, RIBBON_NAME, USE_FAMILY_LABEL)"
   ]
  },
  {
   "cell_type": "code",
   "execution_count": null,
   "metadata": {},
   "outputs": [],
   "source": []
  }
 ],
 "metadata": {
  "kernelspec": {
   "display_name": "Python 3",
   "language": "python",
   "name": "python3"
  },
  "language_info": {
   "codemirror_mode": {
    "name": "ipython",
    "version": 3
   },
   "file_extension": ".py",
   "mimetype": "text/x-python",
   "name": "python",
   "nbconvert_exporter": "python",
   "pygments_lexer": "ipython3",
   "version": "3.7.5"
  }
 },
 "nbformat": 4,
 "nbformat_minor": 4
}
