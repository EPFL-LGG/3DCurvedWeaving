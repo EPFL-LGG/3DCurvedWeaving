{
 "cells": [
  {
   "cell_type": "code",
   "execution_count": null,
   "metadata": {},
   "outputs": [],
   "source": [
    "elastic_rods_dir = '../../elastic_rods/python/'\n",
    "weaving_dir = '../'\n",
    "import os, sys; sys.path.append(elastic_rods_dir); sys.path.append(weaving_dir)\n",
    "import numpy as np, elastic_rods, linkage_vis\n",
    "from bending_validation import suppress_stdout as so\n",
    "from matplotlib import pyplot as plt\n",
    "import importlib\n",
    "\n",
    "# Heart Coarse 1\n",
    "default_camera_parameters = ((3.466009282140468, -4.674139805388271, -2.556131049738206), (-0.21402574298422497, -0.06407538766530313, -0.9747681088523519),(0.1111, 0.1865, 0.5316))\n",
    "RIBBON_CS = [1/150, 1/15]\n",
    "MODEL_NAME = \"heart_coarse_1\"\n",
    "MODEL_PATH = weaving_dir + f'scaled_objs/models/{MODEL_NAME}.obj'\n",
    "SUBDIVISION_RESOLUTION = 20\n",
    "INPUT_SURFACE_PATH = weaving_dir + f'scaled_objs/surface_models/{MODEL_NAME}.obj'\n",
    "RIBBON_NAME = \"heart_coarse_1_strip\""
   ]
  },
  {
   "cell_type": "code",
   "execution_count": null,
   "metadata": {},
   "outputs": [],
   "source": [
    "# Bird\n",
    "RIBBON_CS = [0.1/600, 0.1/60]\n",
    "MODEL_NAME = \"bird_close_beak_0.1\"\n",
    "MODEL_PATH = weaving_dir + f'models/{MODEL_NAME}.obj'\n",
    "SUBDIVISION_RESOLUTION = 20\n",
    "SMOOTHING_WEIGHT = 10\n",
    "REGULARIZATION_WEIGHT = 0\n",
    "INPUT_SURFACE_PATH = weaving_dir + 'surface_models/bird_0.1.obj'\n",
    "RIBBON_NAME = \"bird_close_beak_0.1\""
   ]
  },
  {
   "cell_type": "code",
   "execution_count": null,
   "metadata": {},
   "outputs": [],
   "source": [
    "linkage = elastic_rods.SurfaceAttractedLinkage(INPUT_SURFACE_PATH, useCenterline=True, linkage_path=MODEL_PATH,\n",
    "                                               subdivision=SUBDIVISION_RESOLUTION, initConsistentAngle=False,\n",
    "                                               rod_interleaving_type=elastic_rods.InterleavingType.triaxialWeave)\n",
    "linkage.setMaterial(elastic_rods.RodMaterial('rectangle', 2000, 0.3, RIBBON_CS, stiffAxis=elastic_rods.StiffAxis.D1))\n",
    "linkage.set_holdClosestPointsFixed(True);\n",
    "linkage.set_attraction_tgt_joint_weight(0.01);\n",
    "linkage.attraction_weight = 100;"
   ]
  },
  {
   "cell_type": "code",
   "execution_count": null,
   "metadata": {},
   "outputs": [],
   "source": [
    "linkage.updateRotationParametrizations()\n",
    "linkage.updateSourceFrame()\n",
    "with so(): elastic_rods.compute_equilibrium(linkage)"
   ]
  },
  {
   "cell_type": "code",
   "execution_count": null,
   "metadata": {},
   "outputs": [],
   "source": [
    "lview = linkage_vis.LinkageViewer(linkage)\n",
    "lview.show()"
   ]
  },
  {
   "cell_type": "code",
   "execution_count": null,
   "metadata": {},
   "outputs": [],
   "source": [
    "# Validate CrossingForceObjective against Python implementation of crossing force analysis\n",
    "import structural_analysis\n",
    "print(0.5 * np.linalg.norm(np.clip(structural_analysis.weavingCrossingForceMagnitudes(linkage)[:, 0], 0.0, None))**2)\n",
    "print(0.5 * np.linalg.norm(structural_analysis.weavingCrossingForceMagnitudes(linkage)[:, 1])**2)\n",
    "\n",
    "import linkage_optimization\n",
    "cfo = linkage_optimization.ContactForceObjective(linkage)\n",
    "\n",
    "cfo.normalWeight =  cfo.boundaryNormalWeight = 1.0\n",
    "cfo.tangentialWeight = cfo.boundaryTangentialWeight = 0.0\n",
    "print(cfo.value())\n",
    "\n",
    "cfo.normalWeight =  cfo.boundaryNormalWeight = 0.0\n",
    "cfo.tangentialWeight = cfo.boundaryTangentialWeight = 1.0\n",
    "print(cfo.value())"
   ]
  },
  {
   "cell_type": "code",
   "execution_count": null,
   "metadata": {},
   "outputs": [],
   "source": [
    "currDoFs = linkage.getExtendedDoFsPSRL()\n",
    "save_tgt_joint_pos = linkage.jointPositions();\n",
    "WOE = linkage_optimization.WeavingOptEnergyType"
   ]
  },
  {
   "cell_type": "code",
   "execution_count": null,
   "metadata": {},
   "outputs": [],
   "source": [
    "import finite_diff\n",
    "importlib.reload(finite_diff)\n",
    "fdw = finite_diff.DesignOptimizationTermFDWrapper(cfo, linkage)\n",
    "\n",
    "linkage.updateSourceFrame()\n",
    "linkage.updateRotationParametrizations()\n",
    "d = np.random.uniform(-1, 1, linkage.numExtendedDoFPSRL())"
   ]
  },
  {
   "cell_type": "markdown",
   "metadata": {},
   "source": [
    "### Contact Force Gradient Validation"
   ]
  },
  {
   "cell_type": "code",
   "execution_count": null,
   "metadata": {},
   "outputs": [],
   "source": [
    "cfo.normalWeight = 1.0\n",
    "cfo.boundaryNormalWeight = 0.25\n",
    "cfo.tangentialWeight = cfo.boundaryTangentialWeight = 0.0\n",
    "cfo.normalActivationThreshold = -0.1\n",
    "fdw.setDoFs(currDoFs)\n",
    "linkage.updateSourceFrame()\n",
    "finite_diff.gradient_convergence_plot(fdw, direction=d)"
   ]
  },
  {
   "cell_type": "code",
   "execution_count": null,
   "metadata": {},
   "outputs": [],
   "source": [
    "fdw.setDoFs(currDoFs)\n",
    "linkage.updateSourceFrame()\n",
    "cfo.normalWeight = cfo.boundaryNormalWeight = 0.0\n",
    "cfo.tangentialWeight = 1.0\n",
    "cfo.boundaryTangentialWeight = 0.5\n",
    "finite_diff.gradient_convergence_plot(fdw, direction=d)"
   ]
  },
  {
   "cell_type": "markdown",
   "metadata": {},
   "source": [
    "### Contact Force Hess-vec Validation"
   ]
  },
  {
   "cell_type": "markdown",
   "metadata": {},
   "source": [
    "Normal contact force term is non-smooth due to the clamp to zero, so the finite differences do not converge nicely..."
   ]
  },
  {
   "cell_type": "code",
   "execution_count": null,
   "metadata": {},
   "outputs": [],
   "source": [
    "# Try to perturb away from discontinuity\n",
    "#linkage.setExtendedDoFsPSRL(currDoFs + 2e-3 * np.random.uniform(-1, 1, linkage.numExtendedDoFPSRL()))\n",
    "#linkage.updateSourceFrame()\n",
    "fdw.setDoFs(currDoFs)\n",
    "cfo.normalWeight = 1.0\n",
    "cfo.boundaryNormalWeight = 0.25\n",
    "cfo.tangentialWeight = cfo.boundaryTangentialWeight = 0.0\n",
    "cfo.normalActivationThreshold = -0.1 # Choosing a low activation threshold also avoids the discontinuity\n",
    "finite_diff.hessian_convergence_plot(fdw, direction=d)"
   ]
  },
  {
   "cell_type": "markdown",
   "metadata": {},
   "source": [
    "But the tangential term is well-behaved."
   ]
  },
  {
   "cell_type": "code",
   "execution_count": null,
   "metadata": {},
   "outputs": [],
   "source": [
    "fdw.setDoFs(currDoFs)\n",
    "#linkage.setExtendedDoFsPSRL(currDoFs + 2e-3 * np.random.uniform(-1, 1, linkage.numExtendedDoFPSRL()))\n",
    "#linkage.updateSourceFrame()\n",
    "cfo.normalWeight = cfo.boundaryNormalWeight = 0.0\n",
    "cfo.tangentialWeight = 1.0\n",
    "cfo.boundaryTangentialWeight = 0.5\n",
    "finite_diff.hessian_convergence_plot(fdw, direction=d)"
   ]
  },
  {
   "cell_type": "markdown",
   "metadata": {},
   "source": [
    "# Target fitting validation"
   ]
  },
  {
   "cell_type": "code",
   "execution_count": null,
   "metadata": {},
   "outputs": [],
   "source": [
    "linkage.set_holdClosestPointsFixed(True)\n",
    "linkage.set_attraction_tgt_joint_weight(0.01)\n",
    "linkage.attraction_weight = 0.1"
   ]
  },
  {
   "cell_type": "code",
   "execution_count": null,
   "metadata": {},
   "outputs": [],
   "source": [
    "OPTS = elastic_rods.NewtonOptimizerOptions()\n",
    "OPTS.gradTol = 1e-6\n",
    "OPTS.niter = 200\n",
    "OPTS.beta = 1e-8\n",
    "RIBBON_NAME = \"sphere_strip\""
   ]
  },
  {
   "cell_type": "code",
   "execution_count": null,
   "metadata": {},
   "outputs": [],
   "source": [
    "linkage.set_design_parameter_config(use_restLen = True, use_restKappa = True)\n",
    "useCenterline = True\n",
    "optimizer = linkage_optimization.WeavingOptimization(linkage, INPUT_SURFACE_PATH, useCenterline, equilibrium_options=OPTS, pinJoint = 0, useFixedJoint = False)\n",
    "optimizer.set_target_joint_position(save_tgt_joint_pos)"
   ]
  },
  {
   "cell_type": "code",
   "execution_count": null,
   "metadata": {},
   "outputs": [],
   "source": [
    "tf = linkage_optimization.TargetFittingDOOT(linkage, optimizer.target_surface_fitter)"
   ]
  },
  {
   "cell_type": "code",
   "execution_count": null,
   "metadata": {},
   "outputs": [],
   "source": [
    "tf.value()"
   ]
  },
  {
   "cell_type": "code",
   "execution_count": null,
   "metadata": {},
   "outputs": [],
   "source": [
    "currDoFs = linkage.getExtendedDoFsPSRL()"
   ]
  },
  {
   "cell_type": "code",
   "execution_count": null,
   "metadata": {},
   "outputs": [],
   "source": [
    "importlib.reload(finite_diff)\n",
    "fdw_tf = finite_diff.DesignOptimizationTermFDWrapper(tf, linkage)"
   ]
  },
  {
   "cell_type": "markdown",
   "metadata": {},
   "source": [
    "### Closest Points Fixed"
   ]
  },
  {
   "cell_type": "code",
   "execution_count": null,
   "metadata": {},
   "outputs": [],
   "source": [
    "optimizer.set_holdClosestPointsFixed(True)"
   ]
  },
  {
   "cell_type": "code",
   "execution_count": null,
   "metadata": {},
   "outputs": [],
   "source": [
    "fdw_tf.setDoFs(currDoFs)\n",
    "finite_diff.gradient_convergence_plot(fdw_tf, direction=d)"
   ]
  },
  {
   "cell_type": "code",
   "execution_count": null,
   "metadata": {},
   "outputs": [],
   "source": [
    "fdw_tf.setDoFs(currDoFs)\n",
    "finite_diff.hessian_convergence_plot(fdw_tf, direction=d)"
   ]
  },
  {
   "cell_type": "markdown",
   "metadata": {},
   "source": [
    "### Closest Points Freed"
   ]
  },
  {
   "cell_type": "code",
   "execution_count": null,
   "metadata": {},
   "outputs": [],
   "source": [
    "optimizer.set_holdClosestPointsFixed(False)"
   ]
  },
  {
   "cell_type": "code",
   "execution_count": null,
   "metadata": {},
   "outputs": [],
   "source": [
    "fdw_tf.setDoFs(currDoFs)\n",
    "finite_diff.gradient_convergence_plot(fdw_tf, direction=d)"
   ]
  },
  {
   "cell_type": "code",
   "execution_count": null,
   "metadata": {},
   "outputs": [],
   "source": [
    "fdw_tf.setDoFs(currDoFs)\n",
    "finite_diff.hessian_convergence_plot(fdw_tf, direction=d)"
   ]
  },
  {
   "cell_type": "markdown",
   "metadata": {},
   "source": [
    "### Investigate non-differentiability\n",
    "Try to verify it's due to closest points jumping around"
   ]
  },
  {
   "cell_type": "code",
   "execution_count": null,
   "metadata": {},
   "outputs": [],
   "source": [
    "def findBadSensitivities(eps, customBadPts = None):\n",
    "    tsf = optimizer.target_surface_fitter\n",
    "    fdw_tf.setDoFs(currDoFs + eps * d)\n",
    "    cpPlus = tsf.linkage_closest_surf_pts.copy().reshape((-1, 3))\n",
    "    cpiPlus = np.array(optimizer.target_surface_fitter.linkage_closest_surf_tris)\n",
    "    fdw_tf.setDoFs(currDoFs - eps * d)\n",
    "    cpMinus = tsf.linkage_closest_surf_pts.copy().reshape((-1, 3))\n",
    "    cpiMinus = np.array(optimizer.target_surface_fitter.linkage_closest_surf_tris)\n",
    "\n",
    "    fdw_tf.setDoFs(currDoFs)\n",
    "    N = optimizer.target_surface_fitter.N[tsf.linkage_closest_surf_tris, :]\n",
    "    normalVelocity = ((N @ (cpPlus - cpMinus).T).diagonal() / (2 * eps))\n",
    "    print(np.linalg.norm(normalVelocity))\n",
    "    if (customBadPts is not None):\n",
    "        badPts = customBadPts\n",
    "    else:\n",
    "        badPts = np.where(np.abs(normalVelocity) > 1e-6)[0]\n",
    "    print(normalVelocity[badPts])\n",
    "    \n",
    "    cp = tsf.linkage_closest_surf_pts.copy().reshape((-1, 3)) \n",
    "    fdw_tf.setDoFs(currDoFs)\n",
    "    return badPts, cpMinus[badPts], cpPlus[badPts]"
   ]
  },
  {
   "cell_type": "code",
   "execution_count": null,
   "metadata": {},
   "outputs": [],
   "source": [
    "findBadSensitivities(1e-6)"
   ]
  },
  {
   "cell_type": "code",
   "execution_count": null,
   "metadata": {},
   "outputs": [],
   "source": [
    "findBadSensitivities(2e-6)"
   ]
  },
  {
   "cell_type": "code",
   "execution_count": null,
   "metadata": {},
   "outputs": [],
   "source": [
    "# Indeed, we have a closest point jump substantially under slightly larger steps.\n",
    "# Apparently this is due to a query point almost on the medial axis. "
   ]
  },
  {
   "cell_type": "code",
   "execution_count": null,
   "metadata": {},
   "outputs": [],
   "source": [
    "_, cpp, cpm = findBadSensitivities(1.57375e-6, customBadPts=3782)\n",
    "np.linalg.norm(cpp - cpm)"
   ]
  },
  {
   "cell_type": "code",
   "execution_count": null,
   "metadata": {},
   "outputs": [],
   "source": [
    "_, cpp, cpm = findBadSensitivities(1.57e-6, customBadPts=3782)\n",
    "np.linalg.norm(cpp - cpm)"
   ]
  },
  {
   "cell_type": "markdown",
   "metadata": {},
   "source": [
    "# Regularization term wrapper validation"
   ]
  },
  {
   "cell_type": "code",
   "execution_count": null,
   "metadata": {},
   "outputs": [],
   "source": [
    "rcs = linkage_optimization.RestCurvatureSmoothingDOOT(linkage)"
   ]
  },
  {
   "cell_type": "code",
   "execution_count": null,
   "metadata": {},
   "outputs": [],
   "source": [
    "fdw_rcs = finite_diff.DesignOptimizationTermFDWrapper(rcs, linkage)"
   ]
  },
  {
   "cell_type": "code",
   "execution_count": null,
   "metadata": {},
   "outputs": [],
   "source": [
    "fdw_rcs.setDoFs(currDoFs + 1e-6 * np.random.uniform(-1, 1, fdw_rcs.numDoF())) # perturb out of straight configuration\n",
    "finite_diff.gradient_convergence_plot(fdw_rcs, direction=d)"
   ]
  },
  {
   "cell_type": "code",
   "execution_count": null,
   "metadata": {},
   "outputs": [],
   "source": [
    "fdw_rcs.setDoFs(currDoFs)\n",
    "finite_diff.hessian_convergence_plot(fdw_rcs, direction=d)"
   ]
  },
  {
   "cell_type": "markdown",
   "metadata": {},
   "source": [
    "# Composite objective validation"
   ]
  },
  {
   "cell_type": "code",
   "execution_count": null,
   "metadata": {},
   "outputs": [],
   "source": [
    "doo = linkage_optimization.DesignOptimizationObjective()"
   ]
  },
  {
   "cell_type": "code",
   "execution_count": null,
   "metadata": {},
   "outputs": [],
   "source": [
    "rlm = linkage_optimization.RestLengthMinimizationDOOT(linkage)\n",
    "eeo = linkage_optimization.ElasticEnergyObjective(linkage)"
   ]
  },
  {
   "cell_type": "code",
   "execution_count": null,
   "metadata": {},
   "outputs": [],
   "source": [
    "doo.add([('CrossingForce',           WOE.Full,           cfo),\n",
    "         ('SmoothingRegularization', WOE.Smoothing,      rcs),\n",
    "         ('RestLengthMinimization',  WOE.Regularization, rlm),\n",
    "         ('ElasticEnergy',           WOE.Elastic,        eeo),\n",
    "         ('TargetFitting',           WOE.Target,         tf)])"
   ]
  },
  {
   "cell_type": "code",
   "execution_count": null,
   "metadata": {},
   "outputs": [],
   "source": [
    "doo.value()"
   ]
  },
  {
   "cell_type": "code",
   "execution_count": null,
   "metadata": {},
   "outputs": [],
   "source": [
    "doo.values()"
   ]
  },
  {
   "cell_type": "code",
   "execution_count": null,
   "metadata": {},
   "outputs": [],
   "source": [
    "for t in doo.terms: t.term.weight = 0"
   ]
  },
  {
   "cell_type": "code",
   "execution_count": null,
   "metadata": {},
   "outputs": [],
   "source": [
    "for t in doo.terms: t.term.weight = 1"
   ]
  },
  {
   "cell_type": "code",
   "execution_count": null,
   "metadata": {},
   "outputs": [],
   "source": [
    "doo.terms"
   ]
  },
  {
   "cell_type": "code",
   "execution_count": null,
   "metadata": {},
   "outputs": [],
   "source": [
    "fdw_doo = finite_diff.DesignOptimizationTermFDWrapper(doo, linkage)"
   ]
  },
  {
   "cell_type": "code",
   "execution_count": null,
   "metadata": {},
   "outputs": [],
   "source": [
    "for tr in doo.terms:\n",
    "    print(tr.name, np.linalg.norm(tr.term.computeGrad() - tr.term.grad()))"
   ]
  },
  {
   "cell_type": "code",
   "execution_count": null,
   "metadata": {},
   "outputs": [],
   "source": [
    "doo.terms[0].term.weight = 1.0"
   ]
  },
  {
   "cell_type": "code",
   "execution_count": null,
   "metadata": {},
   "outputs": [],
   "source": [
    "finite_diff.gradient_convergence_plot(fdw_doo, direction=d)"
   ]
  },
  {
   "cell_type": "code",
   "execution_count": null,
   "metadata": {},
   "outputs": [],
   "source": [
    "fdw_doo.setDoFs(currDoFs)\n",
    "finite_diff.hessian_convergence_plot(fdw_doo, direction=d)"
   ]
  },
  {
   "cell_type": "code",
   "execution_count": null,
   "metadata": {},
   "outputs": [],
   "source": [
    "#doo.terms.clear()"
   ]
  },
  {
   "cell_type": "markdown",
   "metadata": {},
   "source": [
    "# WeavingOptimization Validation"
   ]
  },
  {
   "cell_type": "code",
   "execution_count": null,
   "metadata": {},
   "outputs": [],
   "source": [
    "import fd_weaver_editor\n",
    "OPTS = elastic_rods.NewtonOptimizerOptions()\n",
    "OPTS.gradTol = 1e-6\n",
    "OPTS.verbose = 10;\n",
    "OPTS.beta = 1e-8\n",
    "OPTS.niter = 200\n",
    "OPTS.verboseNonPosDef = False\n",
    "\n",
    "linkage.set_design_parameter_config(use_restLen = True, use_restKappa = True)\n",
    "useCenterline = True\n",
    "wopt = linkage_optimization.WeavingOptimization(linkage, INPUT_SURFACE_PATH, useCenterline, equilibrium_options=OPTS, useFixedJoint = False)\n",
    "wopt.set_target_joint_position(save_tgt_joint_pos)\n",
    "\n",
    "wopt.rl_regularization_weight = 0\n",
    "wopt.smoothing_weight = 10\n",
    "wopt.beta = 500000.0\n",
    "wopt.gamma = 1"
   ]
  },
  {
   "cell_type": "code",
   "execution_count": null,
   "metadata": {},
   "outputs": [],
   "source": [
    "wopt.objective.terms[-1].term.value()"
   ]
  },
  {
   "cell_type": "code",
   "execution_count": null,
   "metadata": {},
   "outputs": [],
   "source": [
    "wopt.J(currDoFs[-wopt.numParams():])"
   ]
  },
  {
   "cell_type": "code",
   "execution_count": null,
   "metadata": {},
   "outputs": [],
   "source": [
    "wopt.objective.terms[-1].term.weight = 1e6"
   ]
  },
  {
   "cell_type": "code",
   "execution_count": null,
   "metadata": {},
   "outputs": [],
   "source": [
    "wopt.objective.terms[-1].term.value()"
   ]
  },
  {
   "cell_type": "code",
   "execution_count": null,
   "metadata": {},
   "outputs": [],
   "source": [
    "wopt.objective.terms[-1].term.tangentialWeight = 0.0\n",
    "wopt.objective.terms[-1].term.normalWeight = 1.0"
   ]
  },
  {
   "cell_type": "code",
   "execution_count": null,
   "metadata": {},
   "outputs": [],
   "source": [
    "wopt.objective.values()"
   ]
  },
  {
   "cell_type": "code",
   "execution_count": null,
   "metadata": {},
   "outputs": [],
   "source": [
    "wopt.objective.terms"
   ]
  },
  {
   "cell_type": "code",
   "execution_count": null,
   "metadata": {},
   "outputs": [],
   "source": [
    "fd_weaver_editor.gradient_convergence_plot(wopt, d[-wopt.numParams():], 'Full', WOE.Full)"
   ]
  },
  {
   "cell_type": "code",
   "execution_count": null,
   "metadata": {},
   "outputs": [],
   "source": [
    "#linkage_optimization.benchmark_reset()\n",
    "fd_weaver_editor.hessian_convergence_plot(wopt, d[-wopt.numParams():], 'Full', WOE.Full)\n",
    "#linkage_optimization.benchmark_report()"
   ]
  }
 ],
 "metadata": {
  "kernelspec": {
   "display_name": "Python 3",
   "language": "python",
   "name": "python3"
  },
  "language_info": {
   "codemirror_mode": {
    "name": "ipython",
    "version": 3
   },
   "file_extension": ".py",
   "mimetype": "text/x-python",
   "name": "python",
   "nbconvert_exporter": "python",
   "pygments_lexer": "ipython3",
   "version": "3.7.5"
  }
 },
 "nbformat": 4,
 "nbformat_minor": 4
}
