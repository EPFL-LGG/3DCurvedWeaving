{
 "cells": [
  {
   "cell_type": "markdown",
   "metadata": {},
   "source": [
    "## Knitro VS Optizelle 1\n",
    "\n",
    "Simple script where we compare Knitro and Optizelle solving the same two problems"
   ]
  },
  {
   "cell_type": "code",
   "execution_count": 1,
   "metadata": {},
   "outputs": [],
   "source": [
    "import os\n",
    "import os.path as osp\n",
    "elastic_rods_dir = '../../../elastic_rods/python/'\n",
    "weaving_dir = '../../'\n",
    "import sys\n",
    "sys.path.append(elastic_rods_dir)\n",
    "sys.path.append(weaving_dir)\n",
    "import numpy as np\n",
    "import elastic_rods\n",
    "import linkage_vis\n",
    "from bending_validation import suppress_stdout as so\n",
    "from elastic_rods import EnergyType, InterleavingType"
   ]
  },
  {
   "cell_type": "markdown",
   "metadata": {},
   "source": [
    "## Input parameters"
   ]
  },
  {
   "cell_type": "code",
   "execution_count": 2,
   "metadata": {},
   "outputs": [],
   "source": [
    "rod_length = 0.3534025445286393\n",
    "width = rod_length / 15 * 5 / 2\n",
    "thickness = width / 5 * 0.35 * 5"
   ]
  },
  {
   "cell_type": "code",
   "execution_count": 3,
   "metadata": {},
   "outputs": [],
   "source": [
    "# Sphere 1\n",
    "default_camera_parameters = ((3.466009282140468, -4.674139805388271, -2.556131049738206),\n",
    "                             (-0.21402574298422497, -0.06407538766530313, -0.9747681088523519),\n",
    "                             (0.1111, 0.1865, 0.5316))\n",
    "RIBBON_CS = [thickness, width]\n",
    "MODEL_NAME = \"sphere_1\"\n",
    "MODEL_PATH = osp.join(weaving_dir + 'normalized_objs/models/{}.obj'.format(MODEL_NAME))\n",
    "SUBDIVISION_RESOLUTION = 20\n",
    "INPUT_SURFACE_PATH = osp.join(weaving_dir + 'normalized_objs/surface_models/{}.obj'.format(MODEL_NAME))"
   ]
  },
  {
   "cell_type": "code",
   "execution_count": 4,
   "metadata": {},
   "outputs": [],
   "source": [
    "minRestLen = RIBBON_CS[1]*2.0"
   ]
  },
  {
   "cell_type": "markdown",
   "metadata": {},
   "source": [
    "## Optimizer Parameters"
   ]
  },
  {
   "cell_type": "code",
   "execution_count": 5,
   "metadata": {},
   "outputs": [],
   "source": [
    "OPTS = elastic_rods.NewtonOptimizerOptions()\n",
    "OPTS.gradTol = 1e-6\n",
    "OPTS.verbose = 10;\n",
    "OPTS.beta = 1e-8\n",
    "OPTS.niter = 100\n",
    "OPTS.verboseNonPosDef = False"
   ]
  },
  {
   "cell_type": "code",
   "execution_count": 6,
   "metadata": {},
   "outputs": [],
   "source": [
    "rw = 0.1 * 5\n",
    "sw = 0.1 * 5"
   ]
  },
  {
   "cell_type": "markdown",
   "metadata": {},
   "source": [
    "## Helper functions"
   ]
  },
  {
   "cell_type": "markdown",
   "metadata": {},
   "source": [
    "### Initialize Woven Linkage"
   ]
  },
  {
   "cell_type": "markdown",
   "metadata": {},
   "source": [
    "There are two different types of linkage: the `RodLinkage` and the `SurfaceAttractedLinkage`. The `SurfaceAttractedLinkage` has the additional surface attraction weight and hence need the `surface_path` as parameter."
   ]
  },
  {
   "cell_type": "code",
   "execution_count": 7,
   "metadata": {},
   "outputs": [],
   "source": [
    "def initialize_linkage(surface_path=INPUT_SURFACE_PATH, \n",
    "                       useCenterline=True, \n",
    "                       cross_section=RIBBON_CS, \n",
    "                       subdivision_res=SUBDIVISION_RESOLUTION, \n",
    "                       model_path=MODEL_PATH):\n",
    "    l = elastic_rods.SurfaceAttractedLinkage(surface_path, \n",
    "                                             useCenterline, \n",
    "                                             model_path, \n",
    "                                             subdivision_res, \n",
    "                                             False, \n",
    "                                             InterleavingType.triaxialWeave)\n",
    "    l.setMaterial(elastic_rods.RodMaterial('rectangle', 2000, 0.3, cross_section, stiffAxis=elastic_rods.StiffAxis.D1))\n",
    "    l.set_holdClosestPointsFixed(True);\n",
    "    l.set_attraction_tgt_joint_weight(0.01);\n",
    "    l.attraction_weight = 100;\n",
    "    return l"
   ]
  },
  {
   "cell_type": "markdown",
   "metadata": {},
   "source": [
    "### Compute Equilibrium"
   ]
  },
  {
   "cell_type": "markdown",
   "metadata": {},
   "source": [
    "Similarly there are two different types of viewer depending on whether the surface is visualized."
   ]
  },
  {
   "cell_type": "code",
   "execution_count": 8,
   "metadata": {},
   "outputs": [],
   "source": [
    "def get_linkage_eqm(l, opt, cam_param = default_camera_parameters, target_surf = None):\n",
    "    elastic_rods.compute_equilibrium(l, options = opt)\n",
    "    if (target_surf is None):\n",
    "        view = linkage_vis.LinkageViewer(l, width=1024, height=640)\n",
    "    else:\n",
    "        view = linkage_vis.LinkageViewerWithSurface(l, target_surf, width=1024, height=640)\n",
    "    view.setCameraParams(cam_param)\n",
    "    return l, view"
   ]
  },
  {
   "cell_type": "markdown",
   "metadata": {},
   "source": [
    "### Comparing solvers"
   ]
  },
  {
   "cell_type": "code",
   "execution_count": 9,
   "metadata": {},
   "outputs": [],
   "source": [
    "def compare_solvers(pk, po, ok, oo, param_tol=1e-4, obj_tol=1e-4):\n",
    "    p_diff = abs(pk - po)\n",
    "    o_diff = abs(oo - ok)\n",
    "    suspicious = 0\n",
    "    for i,item in enumerate(p_diff):\n",
    "        if item > param_tol:\n",
    "            suspicious = 1\n",
    "            print(\"Significant difference for parameter:\", i , item, pk[i], po[i])\n",
    "    if o_diff > obj_tol:\n",
    "        suspicious = 1\n",
    "        print(\"Significant difference for objective values:\", ok, oo, o_diff)\n",
    "    if not suspicious:\n",
    "        print(\"No significant differences for parameters and objective values\")"
   ]
  },
  {
   "cell_type": "markdown",
   "metadata": {},
   "source": [
    "# Curved Ribbon Optimization"
   ]
  },
  {
   "cell_type": "markdown",
   "metadata": {},
   "source": [
    "Initialize the linkage. Currently there are two types of design parameters: rest lengths and rest curvatures. The user can choose to activate or deactivate each one. "
   ]
  },
  {
   "cell_type": "code",
   "execution_count": 10,
   "metadata": {},
   "outputs": [],
   "source": [
    "with so(): \n",
    "    curved_linkage = initialize_linkage(surface_path = INPUT_SURFACE_PATH,\n",
    "                                        useCenterline = True, \n",
    "                                        model_path = MODEL_PATH, \n",
    "                                        cross_section = RIBBON_CS, \n",
    "                                        subdivision_res = SUBDIVISION_RESOLUTION)\n",
    "curved_linkage.set_design_parameter_config(use_restLen = True, use_restKappa = True)\n",
    "curved_save_tgt_joint_pos = curved_linkage.jointPositions();\n",
    "curved_linkage_view = linkage_vis.LinkageViewer(curved_linkage)"
   ]
  },
  {
   "cell_type": "code",
   "execution_count": 11,
   "metadata": {},
   "outputs": [
    {
     "data": {
      "application/vnd.jupyter.widget-view+json": {
       "model_id": "18fff4ab353b43958717a4251534d502",
       "version_major": 2,
       "version_minor": 0
      },
      "text/plain": [
       "Renderer(camera=PerspectiveCamera(children=(PointLight(color='white', intensity=0.6, position=(0.0, 0.0, 5.0),…"
      ]
     },
     "metadata": {},
     "output_type": "display_data"
    }
   ],
   "source": [
    "curved_linkage_view.show()"
   ]
  },
  {
   "cell_type": "code",
   "execution_count": 12,
   "metadata": {},
   "outputs": [],
   "source": [
    "with so(): \n",
    "    curved_linkage2 = initialize_linkage(surface_path=INPUT_SURFACE_PATH,\n",
    "                                         useCenterline=True, \n",
    "                                         model_path=MODEL_PATH, \n",
    "                                         cross_section=RIBBON_CS, \n",
    "                                         subdivision_res=SUBDIVISION_RESOLUTION)\n",
    "curved_linkage2.set_design_parameter_config(use_restLen=True, use_restKappa=True)\n",
    "curved_save_tgt_joint_pos2 = curved_linkage2.jointPositions();\n",
    "curved_linkage_view2 = linkage_vis.LinkageViewer(curved_linkage2)"
   ]
  },
  {
   "cell_type": "code",
   "execution_count": 13,
   "metadata": {},
   "outputs": [
    {
     "data": {
      "application/vnd.jupyter.widget-view+json": {
       "model_id": "cc61cc2592ae409da4e3260d5a1c79e9",
       "version_major": 2,
       "version_minor": 0
      },
      "text/plain": [
       "Renderer(camera=PerspectiveCamera(children=(PointLight(color='white', intensity=0.6, position=(0.0, 0.0, 5.0),…"
      ]
     },
     "metadata": {},
     "output_type": "display_data"
    }
   ],
   "source": [
    "curved_linkage_view2.show()"
   ]
  },
  {
   "cell_type": "markdown",
   "metadata": {},
   "source": [
    "## Stage 1"
   ]
  },
  {
   "cell_type": "markdown",
   "metadata": {},
   "source": [
    "Callback function for updating the viewer during design parameter solve (Stage 1)"
   ]
  },
  {
   "cell_type": "code",
   "execution_count": 14,
   "metadata": {},
   "outputs": [],
   "source": [
    "def curved_callback(prob, i):\n",
    "    if (i % 20) != 0: return\n",
    "    curved_linkage_view.update()\n",
    "    \n",
    "def curved_callback2(prob, i):\n",
    "    if (i % 20) != 0: return\n",
    "    curved_linkage_view2.update()"
   ]
  },
  {
   "cell_type": "code",
   "execution_count": 15,
   "metadata": {},
   "outputs": [],
   "source": [
    "curved_dpo = elastic_rods.get_designParameter_optimizer(curved_linkage, rw, sw, callback=curved_callback)\n",
    "curved_dpo.options.niter = 10000\n",
    "curved_dpp = curved_dpo.get_problem()\n",
    "\n",
    "curved_dpo2 = elastic_rods.get_designParameter_optimizer(curved_linkage2, rw, sw, callback=curved_callback2)\n",
    "curved_dpo2.options.niter = 10000\n",
    "curved_dpp2 = curved_dpo2.get_problem()"
   ]
  },
  {
   "cell_type": "markdown",
   "metadata": {},
   "source": [
    "Because how the weights work, this following line should not be run a second time."
   ]
  },
  {
   "cell_type": "code",
   "execution_count": 16,
   "metadata": {},
   "outputs": [],
   "source": [
    "with so(): curved_cr = curved_dpo.optimize()\n",
    "\n",
    "with so(): curved_cr2 = curved_dpo2.optimize()"
   ]
  },
  {
   "cell_type": "markdown",
   "metadata": {},
   "source": [
    "### Equilibrium solve"
   ]
  },
  {
   "cell_type": "code",
   "execution_count": 17,
   "metadata": {},
   "outputs": [],
   "source": [
    "with so(): elastic_rods.compute_equilibrium(curved_linkage, options = OPTS)\n",
    "curved_linkage_view.update()"
   ]
  },
  {
   "cell_type": "code",
   "execution_count": 18,
   "metadata": {},
   "outputs": [],
   "source": [
    "with so(): elastic_rods.compute_equilibrium(curved_linkage2, options = OPTS)\n",
    "curved_linkage_view2.update()"
   ]
  },
  {
   "cell_type": "markdown",
   "metadata": {},
   "source": [
    "## Stage 2"
   ]
  },
  {
   "cell_type": "markdown",
   "metadata": {},
   "source": [
    "`linkage_optimization` is defined in `python_bindings/linkage_optimization.cc`. The `LinkageOptimization.cc .hh` files are for the XShell (the naming is confusing but this is the unmerged stage. We will unify this after the new solver is in place."
   ]
  },
  {
   "cell_type": "code",
   "execution_count": 19,
   "metadata": {},
   "outputs": [],
   "source": [
    "import linkage_optimization"
   ]
  },
  {
   "cell_type": "markdown",
   "metadata": {},
   "source": [
    "### Initialize the optimizers"
   ]
  },
  {
   "cell_type": "code",
   "execution_count": 20,
   "metadata": {},
   "outputs": [],
   "source": [
    "# Optimizer for Knitro\n",
    "OPTS.niter = 25\n",
    "useCenterline = True\n",
    "curved_optimizer = linkage_optimization.WeavingOptimization(curved_linkage, \n",
    "                                                            INPUT_SURFACE_PATH, \n",
    "                                                            useCenterline, \n",
    "                                                            equilibrium_options=OPTS, \n",
    "                                                            pinJoint=0, \n",
    "                                                            useFixedJoint=False)\n",
    "curved_optimizer.set_target_joint_position(curved_save_tgt_joint_pos)\n",
    "curved_linkage_view.update()"
   ]
  },
  {
   "cell_type": "code",
   "execution_count": 21,
   "metadata": {},
   "outputs": [],
   "source": [
    "# Optimizer copy for Optizelle\n",
    "curved_optimizer2 = linkage_optimization.WeavingOptimization(curved_linkage2, \n",
    "                                                             INPUT_SURFACE_PATH, \n",
    "                                                             useCenterline, \n",
    "                                                             equilibrium_options=OPTS, \n",
    "                                                             pinJoint=0, \n",
    "                                                             useFixedJoint=False)\n",
    "curved_optimizer2.set_target_joint_position(curved_save_tgt_joint_pos2)\n",
    "curved_linkage_view2.update()\n",
    "OPTS.niter = 200"
   ]
  },
  {
   "cell_type": "code",
   "execution_count": 22,
   "metadata": {},
   "outputs": [],
   "source": [
    "curved_optimizer.rl_regularization_weight = 0.1\n",
    "curved_optimizer.smoothing_weight = 10\n",
    "curved_optimizer.beta = 500000.0\n",
    "curved_optimizer.gamma = 1\n",
    "\n",
    "curved_optimizer2.rl_regularization_weight = 0.1\n",
    "curved_optimizer2.smoothing_weight = 10\n",
    "curved_optimizer2.beta = 500000.0\n",
    "curved_optimizer2.gamma = 1"
   ]
  },
  {
   "cell_type": "code",
   "execution_count": 23,
   "metadata": {},
   "outputs": [],
   "source": [
    "algorithm = linkage_optimization.WeavingOptAlgorithm.NEWTON_CG\n",
    "def curved_update_viewer():\n",
    "    curved_linkage_view.update()"
   ]
  },
  {
   "cell_type": "markdown",
   "metadata": {},
   "source": [
    "We need to run the stage 2 optimizer first with high surface attraction weight."
   ]
  },
  {
   "cell_type": "markdown",
   "metadata": {},
   "source": [
    "Define a few params"
   ]
  },
  {
   "cell_type": "code",
   "execution_count": 24,
   "metadata": {},
   "outputs": [],
   "source": [
    "trust_region_radius = 1.0\n",
    "tolerance = 1e-2"
   ]
  },
  {
   "cell_type": "markdown",
   "metadata": {},
   "source": [
    "### Optimize with Knitro"
   ]
  },
  {
   "cell_type": "code",
   "execution_count": 25,
   "metadata": {},
   "outputs": [],
   "source": [
    "itermax = 2000\n",
    "curved_optimizer.WeavingOptimize(algorithm, itermax, trust_region_radius, tolerance, curved_update_viewer, minRestLen)\n"
   ]
  },
  {
   "cell_type": "markdown",
   "metadata": {},
   "source": [
    "### Optimize with Optizelle"
   ]
  },
  {
   "cell_type": "code",
   "execution_count": 26,
   "metadata": {},
   "outputs": [],
   "source": [
    "itermax = 100\n",
    "intpoint_barrier_height = 0.7\n",
    "tolerance /= 100 # Optizelle needs a smaller tolerance for giving the same results\n",
    "curved_optimizer2.WeavingOptimizeOptizelle(algorithm, itermax, trust_region_radius, tolerance, intpoint_barrier_height, minRestLen)\n"
   ]
  },
  {
   "cell_type": "markdown",
   "metadata": {},
   "source": [
    "### Compare 1st results between KNITRO and OPTIZELLE"
   ]
  },
  {
   "cell_type": "code",
   "execution_count": 27,
   "metadata": {},
   "outputs": [
    {
     "name": "stdout",
     "output_type": "stream",
     "text": [
      "No significant differences for parameters and objective values\n"
     ]
    }
   ],
   "source": [
    "# Extract solutions and objective functions values\n",
    "param_knitro, obj_knitro = np.asarray(curved_optimizer.m_final_params), curved_optimizer.m_final_objective\n",
    "param_optizelle, obj_optizelle = np.asarray(curved_optimizer2.m_final_params), curved_optimizer2.m_final_objective\n",
    "\n",
    "curved_linkage_view.update()\n",
    "curved_linkage_view2.update()\n",
    "\n",
    "compare_solvers(param_knitro, param_optizelle, obj_optizelle, obj_knitro, param_tol=1e-3, obj_tol=1e-5)"
   ]
  },
  {
   "cell_type": "markdown",
   "metadata": {},
   "source": [
    "## 2nd Optimization "
   ]
  },
  {
   "cell_type": "markdown",
   "metadata": {},
   "source": [
    "Then we lower this weight and allow the closest point projections to change."
   ]
  },
  {
   "cell_type": "code",
   "execution_count": 28,
   "metadata": {},
   "outputs": [],
   "source": [
    "# Knitro\n",
    "curved_optimizer.setLinkageAttractionWeight(1e-5)\n",
    "curved_optimizer.set_holdClosestPointsFixed(False)\n",
    "\n",
    "# Optizelle\n",
    "\n",
    "curved_optimizer2.setLinkageAttractionWeight(1e-5)\n",
    "curved_optimizer2.set_holdClosestPointsFixed(False)\n"
   ]
  },
  {
   "cell_type": "code",
   "execution_count": 29,
   "metadata": {},
   "outputs": [],
   "source": [
    "trust_region_radius = 1.0\n",
    "tolerance = 1e-2"
   ]
  },
  {
   "cell_type": "code",
   "execution_count": 30,
   "metadata": {},
   "outputs": [],
   "source": [
    "# Knitro \n",
    "itermax = 2000\n",
    "curved_optimizer.WeavingOptimize(algorithm, itermax, trust_region_radius, tolerance, curved_update_viewer, minRestLen)"
   ]
  },
  {
   "cell_type": "code",
   "execution_count": 31,
   "metadata": {},
   "outputs": [],
   "source": [
    "# Optizelle\n",
    "itermax = 2000\n",
    "intpoint_barrier_height = 0.7\n",
    "tolerance /= 1000 # Optizelle needs a smaller tolerance for giving the same results\n",
    "curved_optimizer2.WeavingOptimizeOptizelle(algorithm, itermax, trust_region_radius, tolerance, intpoint_barrier_height, minRestLen)"
   ]
  },
  {
   "cell_type": "markdown",
   "metadata": {},
   "source": [
    "### Compare 2nd results between KNITRO and OPTIZELLE"
   ]
  },
  {
   "cell_type": "code",
   "execution_count": 32,
   "metadata": {},
   "outputs": [
    {
     "name": "stdout",
     "output_type": "stream",
     "text": [
      "Significant difference for parameter: 349 0.001013356293286423 -0.010546935853274762 -0.011560292146561185\n",
      "Significant difference for parameter: 350 0.0011518832828274414 -0.01031152294418539 -0.011463406227012831\n",
      "Significant difference for parameter: 351 0.0012689265660996481 -0.010035349326756204 -0.011304275892855853\n",
      "Significant difference for parameter: 352 0.0013593497704430125 -0.00972350401695572 -0.011082853787398733\n",
      "Significant difference for parameter: 353 0.001418339958433214 -0.00938138899740154 -0.010799728955834755\n",
      "Significant difference for parameter: 354 0.0014420905122852733 -0.009014627114392016 -0.010456717626677289\n",
      "Significant difference for parameter: 355 0.00142816082131619 -0.008628968644123632 -0.010057129465439822\n",
      "Significant difference for parameter: 356 0.0013759504466404945 -0.008230154833236325 -0.00960610527987682\n",
      "Significant difference for parameter: 357 0.001287205080285148 -0.007823743681452673 -0.009110948761737821\n",
      "Significant difference for parameter: 358 0.001166613690294329 -0.0074148899701979975 -0.008581503660492327\n",
      "Significant difference for parameter: 359 0.001021955315603059 -0.007008332129183403 -0.008030287444786462\n",
      "Significant difference for parameter: 592 0.00106113146067226 0.00013388230639576785 0.0011950137670680278\n",
      "Significant difference for parameter: 593 0.001104480545084505 0.0006605091942403083 0.0017649897393248132\n",
      "Significant difference for parameter: 594 0.0011277574561645277 0.001209902685308033 0.0023376601414725607\n",
      "Significant difference for parameter: 595 0.0011326799987851357 0.001778925138493474 0.0029116051372786098\n",
      "Significant difference for parameter: 596 0.001120964800380281 0.002363897401202393 0.003484862201582674\n",
      "Significant difference for parameter: 597 0.00109432477256539 0.0029606620722238703 0.00405498684478926\n",
      "Significant difference for parameter: 598 0.0010545032482746747 0.003564068001712339 0.004618571249987014\n",
      "Significant difference for parameter: 599 0.0010032770141199026 0.0041684102408002695 0.005171687254920172\n",
      "Significant difference for parameter: 1007 0.0010323577214574938 -0.009348814807823387 -0.008316457086365893\n",
      "Significant difference for parameter: 1020 0.0011555707136634528 -0.007932983066871693 -0.009088553780535146\n",
      "Significant difference for parameter: 1021 0.0013210129002105032 -0.007672664744701636 -0.00899367764491214\n",
      "Significant difference for parameter: 1022 0.0014707986474612085 -0.007405990314613274 -0.008876788962074483\n",
      "Significant difference for parameter: 1023 0.0016009272579424116 -0.007136997883792699 -0.00873792514173511\n",
      "Significant difference for parameter: 1024 0.0017099635323546752 -0.0068700014455621945 -0.00857996497791687\n",
      "Significant difference for parameter: 1025 0.0018000193712178958 -0.006608513192156573 -0.008408532563374468\n",
      "Significant difference for parameter: 1292 0.0018766299070052655 -0.006355362423260626 -0.008231992330265891\n",
      "Significant difference for parameter: 1293 0.001937290214756881 -0.006112162490269353 -0.008049452705026234\n",
      "Significant difference for parameter: 1294 0.0019715170503154487 -0.005879504719127631 -0.00785102176944308\n",
      "Significant difference for parameter: 1295 0.0019723794585535318 -0.00565696769574003 -0.007629347154293562\n",
      "Significant difference for parameter: 1296 0.0019360325758201744 -0.00544335835424298 -0.0073793909300631545\n",
      "Significant difference for parameter: 1297 0.0018614082140555824 -0.005236778478290841 -0.0070981866923464235\n",
      "Significant difference for parameter: 1298 0.001749994744131813 -0.005034661976918867 -0.00678465672105068\n",
      "Significant difference for parameter: 1299 0.0016053016722439783 -0.004833919272057681 -0.006439220944301659\n",
      "Significant difference for parameter: 1300 0.001432270781805244 -0.004631078172252649 -0.006063348954057893\n",
      "Significant difference for parameter: 1301 0.0012367317063063385 -0.004422424962967139 -0.005659156669273477\n",
      "Significant difference for parameter: 1302 0.0010249817032000385 -0.004204102754813188 -0.0052290844580132265\n",
      "Significant difference for parameter: 1645 0.0010611578203068798 -0.006703994997435083 -0.005642837177128203\n",
      "Significant difference for parameter: 1646 0.0011163237538129017 -0.00716657399094819 -0.006050250237135288\n",
      "Significant difference for parameter: 1647 0.0011581127672308537 -0.00760159208579526 -0.006443479318564406\n",
      "Significant difference for parameter: 1648 0.001184760362841356 -0.0080047885565891 -0.006820028193747744\n",
      "Significant difference for parameter: 1649 0.0011945497096346337 -0.008370360690739365 -0.007175810981104732\n",
      "Significant difference for parameter: 1650 0.0011858002581527655 -0.008692804145945407 -0.007507003887792641\n",
      "Significant difference for parameter: 1651 0.0011568784145253178 -0.008966941985300556 -0.007810063570775238\n",
      "Significant difference for parameter: 1652 0.001106171742667134 -0.009187373045824183 -0.00808120130315705\n",
      "Significant difference for parameter: 3429 0.0013243485188420556 0.3544606451873234 0.35578499370616545\n",
      "Significant difference for parameter: 3431 0.004412017887897468 0.35704509753541674 0.3526330796475193\n",
      "Significant difference for parameter: 3461 0.00286215191635103 0.35716020362158607 0.35429805170523504\n",
      "Significant difference for parameter: 3469 0.001737887208920763 0.35403660312235347 0.35577449033127423\n",
      "Significant difference for parameter: 3494 0.0012304207409617463 0.3500361825999775 0.35126660334093923\n",
      "Significant difference for parameter: 3499 0.0032826870945679154 0.3501043493037303 0.3533870363982982\n",
      "Significant difference for parameter: 3500 0.0014388561786140008 0.34913139591362075 0.34769253973500674\n",
      "Significant difference for parameter: 3515 0.0018606703607707553 0.35273387913399656 0.3508732087732258\n",
      "Significant difference for parameter: 3527 0.0015845899545091635 0.3482796305680935 0.34669504061358436\n",
      "Significant difference for parameter: 3541 0.0010203898302577619 0.35721211268219344 0.3582325025124512\n",
      "Significant difference for parameter: 3557 0.001301917261489871 0.35095914942918877 0.35226106669067864\n",
      "Significant difference for parameter: 3574 0.004825923365069762 0.3490904880983809 0.35391641146345065\n",
      "Significant difference for parameter: 3577 0.0012685240552849364 0.3469397533855454 0.34567122933026045\n",
      "Significant difference for objective values: 1.3904355589495316 1.3904536052274623 1.804627793067226e-05\n"
     ]
    }
   ],
   "source": [
    "# Extract solutions and objective functions values\n",
    "param_knitro, obj_knitro = np.asarray(curved_optimizer.m_final_params), curved_optimizer.m_final_objective\n",
    "param_optizelle, obj_optizelle = np.asarray(curved_optimizer2.m_final_params), curved_optimizer2.m_final_objective\n",
    "\n",
    "compare_solvers(param_knitro, param_optizelle, obj_optizelle, obj_knitro, param_tol=1e-3, obj_tol=1e-7)"
   ]
  },
  {
   "cell_type": "markdown",
   "metadata": {},
   "source": [
    "### Validate whether the surface attraction weight is set low enough."
   ]
  },
  {
   "cell_type": "code",
   "execution_count": 33,
   "metadata": {},
   "outputs": [
    {
     "name": "stdout",
     "output_type": "stream",
     "text": [
      "knitro curved opt energy         0.0035915395205534744\n",
      "knitro validation curverd energy 0.003591539510311913\n",
      "2.851579788139453e-09\n",
      "optizelle curved opt energy        0.003593381885737765\n",
      "optizelle validation curved energy 0.003591440009208665\n",
      "0.0005404036060868441\n"
     ]
    }
   ],
   "source": [
    "curved_optimizer_energy = curved_linkage.energy()\n",
    "validation_curved_linkage = curved_optimizer.getLinesearchWeaverLinkage()\n",
    "validation_curved_linkage.attraction_weight = 1e-7\n",
    "with so(): elastic_rods.compute_equilibrium(validation_curved_linkage, options = OPTS)\n",
    "validation_curved_view = linkage_vis.LinkageViewer(validation_curved_linkage, width=1024, height=640)\n",
    "validation_curved_energy = validation_curved_linkage.energy()\n",
    "\n",
    "print(\"knitro curved opt energy        \", curved_optimizer_energy)\n",
    "print(\"knitro validation curverd energy\", validation_curved_energy)\n",
    "print(abs((validation_curved_energy-curved_optimizer_energy)/curved_optimizer_energy))\n",
    "\n",
    "curved_optimizer_energy2 = curved_linkage2.energy()\n",
    "validation_curved_linkage2 = curved_optimizer2.getLinesearchWeaverLinkage()\n",
    "validation_curved_linkage2.attraction_weight = 1e-7\n",
    "with so(): elastic_rods.compute_equilibrium(validation_curved_linkage2, options = OPTS)\n",
    "validation_curved_view = linkage_vis.LinkageViewer(validation_curved_linkage2, width=1024, height=640)\n",
    "validation_curved_energy2 = validation_curved_linkage2.energy()\n",
    "\n",
    "print(\"optizelle curved opt energy       \", curved_optimizer_energy2)\n",
    "print(\"optizelle validation curved energy\", validation_curved_energy2)\n",
    "print(abs((validation_curved_energy2-curved_optimizer_energy2)/curved_optimizer_energy2))"
   ]
  },
  {
   "cell_type": "code",
   "execution_count": 34,
   "metadata": {},
   "outputs": [],
   "source": [
    "curved_linkage_view.update()\n",
    "curved_linkage_view2.update()"
   ]
  }
 ],
 "metadata": {
  "kernelspec": {
   "display_name": "weaving",
   "language": "python",
   "name": "weaving"
  },
  "language_info": {
   "codemirror_mode": {
    "name": "ipython",
    "version": 3
   },
   "file_extension": ".py",
   "mimetype": "text/x-python",
   "name": "python",
   "nbconvert_exporter": "python",
   "pygments_lexer": "ipython3",
   "version": "3.7.7"
  }
 },
 "nbformat": 4,
 "nbformat_minor": 4
}
