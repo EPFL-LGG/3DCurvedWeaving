{
 "cells": [
  {
   "cell_type": "code",
   "execution_count": null,
   "metadata": {},
   "outputs": [],
   "source": [
    "elastic_rods_dir = '../../elastic_rods/python/'\n",
    "weaving_dir = '../'\n",
    "import os\n",
    "import os.path as osp\n",
    "import sys; sys.path.append(elastic_rods_dir); sys.path.append(weaving_dir)\n",
    "import numpy as np, elastic_rods, linkage_vis\n",
    "import numpy.linalg as la\n",
    "from bending_validation import suppress_stdout as so\n",
    "import matplotlib.pyplot as plt\n",
    "from elastic_rods import EnergyType, InterleavingType"
   ]
  },
  {
   "cell_type": "code",
   "execution_count": null,
   "metadata": {},
   "outputs": [],
   "source": [
    "# Reloadable libraries\n",
    "import importlib\n",
    "\n",
    "# weaving\n",
    "import analysis_helper, ribbon_linkage_helper, mesh_vis, linkage_utils, compute_curve_from_curvature, importlib\n",
    "importlib.reload(analysis_helper)\n",
    "importlib.reload(ribbon_linkage_helper)\n",
    "importlib.reload(mesh_vis)\n",
    "importlib.reload(linkage_utils)\n",
    "importlib.reload(compute_curve_from_curvature)\n",
    "from analysis_helper import (compare_turning_angle,\n",
    "                            is_on_sphere, \n",
    "                            get_distance_to_center_scalar_field, \n",
    "                            plot_curvatures, \n",
    "                            get_curvature_scalar_field,\n",
    "                            construct_elastic_rod_loop_from_rod_segments, \n",
    "                            concatenate_rod_properties_from_rod_segments, \n",
    "                            compute_min_distance_rigid_transformation)\n",
    "from ribbon_linkage_helper import (update_rest_curvature, \n",
    "                                   set_ribbon_linkage,\n",
    "                                   export_linkage_geometry_to_obj,\n",
    "                                   write_linkage_ribbon_output_florin)\n",
    "from compute_curve_from_curvature import (match_geo_curvature_and_edge_len, get_all_curve_pattern)\n",
    "from linkage_utils import order_segments_by_ribbons, get_turning_angle_and_length_from_ordered_rods\n",
    "\n",
    "import vis.fields\n",
    "import matplotlib.cm as cm"
   ]
  },
  {
   "cell_type": "code",
   "execution_count": null,
   "metadata": {},
   "outputs": [],
   "source": [
    "import time"
   ]
  },
  {
   "cell_type": "code",
   "execution_count": null,
   "metadata": {},
   "outputs": [],
   "source": [
    "# Sphere Parameters\n",
    "default_camera_parameters = ((3.466009282140468, -4.674139805388271, -2.556131049738206), (-0.21402574298422497, -0.06407538766530313, -0.9747681088523519),(0.1111, 0.1865, 0.5316))\n",
    "RIBBON_CS = [1, 10]\n",
    "ISO_CS = [4, 4]\n",
    "MODEL_PATH = osp.join(weaving_dir + 'models/equal_edge_atI.obj')\n",
    "MODEL_NAME = \"equal_edge_atI\"\n",
    "SUBDIVISION_RESOLUTION = 20\n",
    "REGULARIZATION_WEIGHT = 0.05\n",
    "SMOOTHING_WEIGHT = 0\n",
    "INPUT_SURFACE_PATH = osp.join(weaving_dir + 'surface_models/centered_sphere_100mm.obj')\n",
    "RIBBON_NAME = \"sphere_strip\"\n",
    "HAS_THREE_FAMILIES = False"
   ]
  },
  {
   "cell_type": "code",
   "execution_count": null,
   "metadata": {},
   "outputs": [],
   "source": [
    "# Pseudosphere Small\n",
    "default_camera_parameters = ((3.466009282140468, -4.674139805388271, -2.556131049738206), (-0.21402574298422497, -0.06407538766530313, -0.9747681088523519),(0.1111, 0.1865, 0.5316))\n",
    "RIBBON_CS = [0.005, 0.03]\n",
    "MODEL_NAME = \"small_pseudo_sphere\"\n",
    "MODEL_PATH = osp.join(weaving_dir + 'models/{}.obj'.format(MODEL_NAME))\n",
    "SUBDIVISION_RESOLUTION = 20\n",
    "SMOOTHING_WEIGHT = 10\n",
    "REGULARIZATION_WEIGHT = 0\n",
    "INPUT_SURFACE_PATH = osp.join(weaving_dir + 'surface_models/pseudo_sphere/{}.obj'.format(MODEL_NAME))\n",
    "RIBBON_NAME = \"small_pseudo_sphere_strip\"\n",
    "HAS_THREE_FAMILIES = True"
   ]
  },
  {
   "cell_type": "code",
   "execution_count": null,
   "metadata": {},
   "outputs": [],
   "source": [
    "# Regular Torus Parameters\n",
    "default_camera_parameters = ((3.466009282140468, -4.674139805388271, -2.556131049738206), (-0.21402574298422497, -0.06407538766530313, -0.9747681088523519),(0.1111, 0.1865, 0.5316))\n",
    "default_camera_parameters_2 = ((1.6535518732236205, -2.1434469534967877, -5.518813874877859),\n",
    " (-0.5096009366331774, 0.449950326402865, -0.733441973950591),\n",
    " (0.1111, 0.1865, 0.5316))\n",
    "RIBBON_CS = [4, 40]\n",
    "ISO_CS = [1, 1]\n",
    "MODEL_PATH = osp.join(weaving_dir + 'models/regular_torus.obj')\n",
    "INPUT_SURFACE_PATH = osp.join(weaving_dir + 'surface_models/regular_torus.obj')\n",
    "MODEL_NAME = 'regular_torus'\n",
    "SUBDIVISION_RESOLUTION = 20\n",
    "REGULARIZATION_WEIGHT = 0.5\n",
    "RIBBON_NAME = 'regular_torus_strip'\n",
    "HAS_THREE_FAMILIES = True"
   ]
  },
  {
   "cell_type": "code",
   "execution_count": null,
   "metadata": {},
   "outputs": [],
   "source": [
    "# # Freeform 5 \n",
    "# default_camera_parameters = ((3.466009282140468, -4.674139805388271, -2.556131049738206), (-0.21402574298422497, -0.06407538766530313, -0.9747681088523519),(0.1111, 0.1865, 0.5316))\n",
    "# RIBBON_CS = [15, 150]\n",
    "# MODEL_NAME = \"freeform_5\"\n",
    "# MODEL_PATH = osp.join(weaving_dir + 'models/{}.obj'.format(MODEL_NAME))\n",
    "# SUBDIVISION_RESOLUTION = 5\n",
    "# SMOOTHING_WEIGHT = 10\n",
    "# REGULARIZATION_WEIGHT = 0\n",
    "# INPUT_SURFACE_PATH = osp.join(weaving_dir + 'surface_models/pseudo_sphere/{}.obj'.format('small_pseudo_sphere'))\n",
    "\n",
    "# RIBBON_NAME = \"freeform_5_strip\""
   ]
  },
  {
   "cell_type": "code",
   "execution_count": null,
   "metadata": {},
   "outputs": [],
   "source": [
    "# # Bird\n",
    "# default_camera_parameters = ((3.466009282140468, -4.674139805388271, -2.556131049738206), (-0.21402574298422497, -0.06407538766530313, -0.9747681088523519),(0.1111, 0.1865, 0.5316))\n",
    "# RIBBON_CS = [100, 1000]\n",
    "# MODEL_NAME = \"bird\"\n",
    "# MODEL_PATH = osp.join(weaving_dir + 'models/{}.obj'.format(MODEL_NAME))\n",
    "# SUBDIVISION_RESOLUTION = 20\n",
    "# SMOOTHING_WEIGHT = 10\n",
    "# REGULARIZATION_WEIGHT = 0\n",
    "# INPUT_SURFACE_PATH = osp.join(weaving_dir + 'surface_models/{}.obj'.format(MODEL_NAME))\n",
    "# RIBBON_NAME = \"bird_strip\""
   ]
  },
  {
   "cell_type": "code",
   "execution_count": null,
   "metadata": {},
   "outputs": [],
   "source": [
    "def initialize_linkage(surface_path = INPUT_SURFACE_PATH, useCenterline = True, cross_section = RIBBON_CS, subdivision_res = SUBDIVISION_RESOLUTION, model_path = MODEL_PATH):\n",
    "    start_time = time.time()\n",
    "    l = elastic_rods.SurfaceAttractedLinkage(surface_path, useCenterline, model_path, subdivision_res, False, InterleavingType.weaving)\n",
    "    construction_time = time.time()\n",
    "    l.setMaterial(elastic_rods.RodMaterial('rectangle', 2000, 0.3, cross_section, stiffAxis=elastic_rods.StiffAxis.D1))\n",
    "    set_material_time = time.time()\n",
    "    l.set_holdClosestPointsFixed(True);\n",
    "    l.set_attraction_tgt_joint_weight(0.01);\n",
    "    l.attraction_weight = 100;\n",
    "    message = ('construct: ', construction_time - start_time, 'set material: ', set_material_time - construction_time)\n",
    "    return l, message"
   ]
  },
  {
   "cell_type": "code",
   "execution_count": null,
   "metadata": {},
   "outputs": [],
   "source": [
    "with so(): linkage, message = initialize_linkage(surface_path = INPUT_SURFACE_PATH, useCenterline = True, model_path = MODEL_PATH, cross_section = RIBBON_CS, subdivision_res = SUBDIVISION_RESOLUTION)"
   ]
  },
  {
   "cell_type": "code",
   "execution_count": null,
   "metadata": {},
   "outputs": [],
   "source": [
    "print(message)"
   ]
  },
  {
   "cell_type": "code",
   "execution_count": null,
   "metadata": {},
   "outputs": [],
   "source": [
    "view = linkage_vis.LinkageViewer(linkage, width=1024, height=640)\n",
    "view.setCameraParams(default_camera_parameters)\n",
    "view.show()"
   ]
  },
  {
   "cell_type": "code",
   "execution_count": null,
   "metadata": {},
   "outputs": [],
   "source": [
    "OPTS = elastic_rods.NewtonOptimizerOptions()\n",
    "OPTS.gradTol = 1e-6\n",
    "OPTS.verbose = 10;\n",
    "OPTS.beta = 1e-8\n",
    "OPTS.niter = 100"
   ]
  },
  {
   "cell_type": "code",
   "execution_count": null,
   "metadata": {},
   "outputs": [],
   "source": [
    "joint_normals = np.array([linkage.joint(i).normal for i in range(linkage.numJoints())])\n",
    "joint_projection_normals = linkage.get_closest_point_normal(linkage.jointPositions())\n",
    "joint_projection_normals = joint_projection_normals.reshape(joint_normals.shape)\n",
    "la.norm((joint_projection_normals - joint_normals))"
   ]
  },
  {
   "cell_type": "code",
   "execution_count": null,
   "metadata": {},
   "outputs": [],
   "source": []
  },
  {
   "cell_type": "code",
   "execution_count": null,
   "metadata": {},
   "outputs": [],
   "source": [
    "joint_projection_normals = joint_projection_normals.reshape(joint_normals.shape)"
   ]
  },
  {
   "cell_type": "code",
   "execution_count": null,
   "metadata": {},
   "outputs": [],
   "source": [
    "la.norm((joint_projection_normals - joint_normals))"
   ]
  },
  {
   "cell_type": "code",
   "execution_count": null,
   "metadata": {},
   "outputs": [],
   "source": [
    "start_time = time.time()\n",
    "with so(): elastic_rods.compute_equilibrium(linkage, options = OPTS)\n",
    "end_time = time.time()\n",
    "print(end_time - start_time)"
   ]
  },
  {
   "cell_type": "code",
   "execution_count": null,
   "metadata": {},
   "outputs": [],
   "source": [
    "view.update()"
   ]
  },
  {
   "cell_type": "code",
   "execution_count": null,
   "metadata": {},
   "outputs": [],
   "source": [
    "la.norm(linkage.gradient())"
   ]
  },
  {
   "cell_type": "code",
   "execution_count": null,
   "metadata": {},
   "outputs": [],
   "source": [
    "def get_ribbon_family(linkage):\n",
    "    # build graph for ribbon family\n",
    "    import networkx as nx\n",
    "\n",
    "    ribbons = order_segments_by_ribbons(linkage)\n",
    "\n",
    "    segment_in_ribbon = -1 * np.ones(linkage.numSegments())\n",
    "    for ri in range(len(ribbons)):\n",
    "        for (seg_index, _) in ribbons[ri]:\n",
    "            segment_in_ribbon[seg_index] = ri\n",
    "\n",
    "    # print(segment_in_ribbon)\n",
    "    G = nx.Graph()\n",
    "    G.add_nodes_from(range(len(ribbons)))\n",
    "    for ji in range(linkage.numJoints()):\n",
    "        seg_1 = linkage.joint(ji).segments_A[0]\n",
    "        seg_2 = linkage.joint(ji).segments_B[0]\n",
    "        ribbon_1 = int(segment_in_ribbon[seg_1])\n",
    "        ribbon_2 = int(segment_in_ribbon[seg_2])\n",
    "        G.add_edge(ribbon_1, ribbon_2)\n",
    "\n",
    "    ribbon_family = list(-1 * np.ones(len(ribbons)))\n",
    "    ribbon_family[0] = 'A'\n",
    "    neighbor = [n for n in G[0]][0]\n",
    "    ribbon_family[neighbor] = 'B'\n",
    "\n",
    "    C_family = sorted(nx.common_neighbors(G, 0, neighbor))\n",
    "    for index in C_family:\n",
    "        ribbon_family[index] = 'C'\n",
    "\n",
    "    B_family = sorted(nx.common_neighbors(G, 0, C_family[0]))\n",
    "    for index in B_family:\n",
    "        ribbon_family[index] = 'B'\n",
    "\n",
    "    A_family = sorted(nx.common_neighbors(G, B_family[0], C_family[0]))\n",
    "    for index in A_family:\n",
    "        ribbon_family[index] = 'A'\n",
    "\n",
    "    for a_e in A_family:\n",
    "        for b_e in B_family:\n",
    "            C_family.extend(sorted(nx.common_neighbors(G, a_e, b_e)))\n",
    "            C_family = list(set(C_family))\n",
    "    for index in C_family:\n",
    "        ribbon_family[index] = 'C'\n",
    "\n",
    "    for a_e in A_family:\n",
    "        for c_e in C_family:\n",
    "            B_family.extend(sorted(nx.common_neighbors(G, a_e, c_e)))\n",
    "            B_family = list(set(B_family))\n",
    "    for index in B_family:\n",
    "        ribbon_family[index] = 'B'\n",
    "\n",
    "    for b_e in B_family:\n",
    "        for c_e in C_family:\n",
    "            A_family.extend(sorted(nx.common_neighbors(G, b_e, c_e)))\n",
    "            A_family = list(set(A_family))\n",
    "    for index in A_family:\n",
    "        ribbon_family[index] = 'A'\n",
    "    assert(len(A_family) + len(B_family) + len(C_family) == len(ribbons))\n",
    "    return ribbon_family"
   ]
  },
  {
   "cell_type": "code",
   "execution_count": null,
   "metadata": {},
   "outputs": [],
   "source": [
    "def write_linkage_ribbon_output_florin(linkage, use_family_label = False):\n",
    "    ribbons = order_segments_by_ribbons(linkage)\n",
    "    \n",
    "    ribbon_centerline_index = []\n",
    "    ribbon_centerline_points = []\n",
    "    ribbon_centerline_normal = []\n",
    "\n",
    "    ribbon_loop_indicator = []\n",
    "    curr_offset = 0\n",
    "\n",
    "    ribbon_family = range(len(ribbons))\n",
    "    if use_family_label:\n",
    "        ribbon_family = get_ribbon_family(linkage)\n",
    "\n",
    "    def normalize(vec):\n",
    "        return vec/la.norm(vec)\n",
    "\n",
    "    def is_valid_index(index):\n",
    "        return index < linkage.numSegments()\n",
    "\n",
    "    for ribbon in ribbons:\n",
    "        print(ribbon)\n",
    "        curr_ribbon_centerline_index = []\n",
    "\n",
    "        curr_start_joint = linkage.segment(ribbon[0][0]).startJoint\n",
    "        prev_segment = linkage.joint(curr_start_joint).continuationSegment(ribbon[0][0])\n",
    "        if is_valid_index(prev_segment):\n",
    "            ribbon_loop_indicator.append('L')\n",
    "        else:\n",
    "            ribbon_loop_indicator.append('O')\n",
    "\n",
    "        for (segment_index, orientation) in ribbon:\n",
    "            if orientation != 1:\n",
    "                print('Rod orientation incorrect!')\n",
    "            curr_rod = linkage.segment(segment_index).rod\n",
    "            dc = curr_rod.deformedConfiguration()\n",
    "            curr_start_joint = linkage.segment(segment_index).startJoint\n",
    "            curr_end_joint = linkage.segment(segment_index).endJoint\n",
    "\n",
    "            prev_segment = linkage.joint(curr_start_joint).continuationSegment(segment_index)\n",
    "            next_segment = linkage.joint(curr_end_joint).continuationSegment(segment_index)\n",
    "            \n",
    "            count_point = 0\n",
    "            if not is_valid_index(prev_segment):\n",
    "                ribbon_centerline_points.append(curr_rod.deformedPoints()[0])\n",
    "                ribbon_centerline_normal.append(dc.materialFrame[0].d2)\n",
    "                count_point += 1\n",
    "\n",
    "            ribbon_centerline_points.extend(curr_rod.deformedPoints()[1:-1])\n",
    "            ribbon_centerline_normal.extend([normalize(dc.materialFrame[edge_index - 1].d2 + dc.materialFrame[edge_index].d2) for edge_index in range(SUBDIVISION_RESOLUTION)[1:]])\n",
    "            count_point += SUBDIVISION_RESOLUTION - 1\n",
    "            \n",
    "            if not is_valid_index(next_segment):\n",
    "                ribbon_centerline_points.append(curr_rod.deformedPoints()[-1])\n",
    "                ribbon_centerline_normal.append(dc.materialFrame[-1].d2)\n",
    "                count_point += 1\n",
    "\n",
    "            curr_centerline_index = np.arange(curr_offset, curr_offset + count_point)\n",
    "            curr_offset += count_point\n",
    "            \n",
    "            curr_ribbon_centerline_index.extend(curr_centerline_index)\n",
    "        ribbon_centerline_index.append(curr_ribbon_centerline_index)\n",
    "    print(len(ribbon_centerline_index))\n",
    "    print(len(ribbon_centerline_normal))\n",
    "    print(len(ribbon_centerline_points))\n",
    "\n",
    "    if not os.path.exists(RIBBON_NAME):\n",
    "        os.makedirs(RIBBON_NAME)\n",
    "\n",
    "    with open('{}/{}_polylines.txt'.format(RIBBON_NAME, RIBBON_NAME), 'w') as f:\n",
    "        ribbon_count = 0\n",
    "        for line in ribbon_centerline_index:\n",
    "            f.write('{} {} {}\\n'.format(ribbon_family[ribbon_count], ribbon_loop_indicator[ribbon_count], ' '.join([str(x) for x in line])))\n",
    "            ribbon_count += 1\n",
    "\n",
    "    with open('{}/{}_points.txt'.format(RIBBON_NAME, RIBBON_NAME), 'w') as f:\n",
    "        for point in ribbon_centerline_points:\n",
    "            f.write('{}\\n'.format(' '.join([str(x) for x in list(point)])))\n",
    "\n",
    "    with open('{}/{}_normals.txt'.format(RIBBON_NAME, RIBBON_NAME), 'w') as f:\n",
    "        for normal in ribbon_centerline_normal:\n",
    "            f.write('{}\\n'.format(' '.join([str(x) for x in list(normal)])))\n",
    "\n",
    "    with open('{}/{}.obj'.format(RIBBON_NAME, RIBBON_NAME), 'w') as f:\n",
    "        for point in ribbon_centerline_points:\n",
    "            f.write('v {}\\n'.format(' '.join([str(x) for x in list(point)])))\n",
    "\n",
    "        for line in ribbon_centerline_index:\n",
    "            for i in range(len(line) - 1):\n",
    "                f.write('l {} {}\\n'.format(line[i]+1, line[i+1]+1))\n"
   ]
  },
  {
   "cell_type": "code",
   "execution_count": null,
   "metadata": {},
   "outputs": [],
   "source": [
    "write_linkage_ribbon_output_florin(linkage, HAS_THREE_FAMILIES)"
   ]
  },
  {
   "cell_type": "code",
   "execution_count": null,
   "metadata": {},
   "outputs": [],
   "source": [
    "def highlight_rod_and_joint(linkage, strip_index, select_joint_index):\n",
    "    ribbons = order_segments_by_ribbons(linkage)\n",
    "    new_rod, fixedVars = construct_elastic_rod_loop_from_rod_segments(linkage, ribbons[strip_index])\n",
    "    # Set the material of the new rod to be the same as previously.\n",
    "    new_rod.setMaterial(elastic_rods.RodMaterial('rectangle', 2000, 0.3, RIBBON_CS, stiffAxis=elastic_rods.StiffAxis.D1))\n",
    "    single_rod_view_compare = linkage_vis.LinkageViewer(linkage, width=1024, height=640)\n",
    "    single_rod_view = linkage_vis.LinkageViewer(new_rod, width=1024, height=640)\n",
    "\n",
    "    j = linkage.joint(select_joint_index)\n",
    "    seg_index = j.segments_A[0]\n",
    "    vx_index = 0\n",
    "    if linkage.segment(seg_index).startJoint != select_joint_index:\n",
    "        vx_index = -1\n",
    "#     joint_vector_field = [np.zeros_like(np.reshape(s.rod.gradient()[0:3*s.rod.numVertices()], (s.rod.numVertices(), 3))) for s in linkage.segments()]\n",
    "#     joint_vector_field[seg_index][vx_index] = linkage.segment(seg_index).rod.deformedConfiguration().materialFrame[vx_index].d2\n",
    "#     single_rod_view_compare.update(vectorField=joint_vector_field)\n",
    "\n",
    "    sf = vis.fields.ScalarField(new_rod, 0.6 * np.ones_like(np.array(new_rod.deformedConfiguration().len)), colormap=cm.Blues, vmin = 0, vmax = 1)\n",
    "\n",
    "    single_rod_view_compare.update(mesh = single_rod_view.mesh, preserveExisting=True, scalarField=sf)\n",
    "    single_rod_view_compare.setCameraParams(((0.1380416750325228, 0.9648987923360046, 4.776431269112697),\n",
    "     (0.9983340296894934, -0.054896765875897646, -0.01776260848808606),\n",
    "     (0.0, 0.0, 0.0)))\n",
    "    return single_rod_view_compare"
   ]
  },
  {
   "cell_type": "code",
   "execution_count": null,
   "metadata": {},
   "outputs": [],
   "source": [
    "# single_rod_view_compare = highlight_rod_and_joint(straight_linkage, 0, 0)"
   ]
  },
  {
   "cell_type": "code",
   "execution_count": null,
   "metadata": {},
   "outputs": [],
   "source": [
    "ribbons = order_segments_by_ribbons(linkage)\n",
    "all_centerline_pos, all_rest_kappas, all_material_frame = concatenate_rod_properties_from_rod_segments(linkage, ribbons[0])\n",
    "# Set the centerline pos and initialize thetas to zero.\n",
    "new_rod = elastic_rods.ElasticRod(all_centerline_pos)\n",
    "# Set the rest kappa to be the same as the rod strip in the linkage.\n",
    "new_rod.setRestKappas(all_rest_kappas)\n",
    "# Set the reference frame equal to the extracted deformed curve's material frame (and leave thetas at zero).\n",
    "for i in range(len(all_material_frame)):\n",
    "    new_rod.deformedConfiguration().referenceDirectors[i].d1 = all_material_frame[i].d1\n",
    "    new_rod.deformedConfiguration().referenceDirectors[i].d2 = all_material_frame[i].d2\n",
    "num_material_frame = len(all_material_frame)\n",
    "new_rod.deformedConfiguration().referenceDirectors[num_material_frame - 1].d1 = - all_material_frame[num_material_frame - 1].d1\n",
    "new_rod.deformedConfiguration().referenceDirectors[num_material_frame - 1].d2 = - all_material_frame[num_material_frame - 1].d2\n",
    "\n",
    "new_rod.updateSourceFrame()\n",
    "new_rod.setDeformedConfiguration(all_centerline_pos, np.zeros(len(all_material_frame)))\n",
    "\n",
    "# If the rod is a loop, then we need to fixed the end edges of the rod by fixing four vertex positions and two thetas.\n",
    "last_two_pos = (len(all_centerline_pos) - 2) * 3\n",
    "fixedPositionVars = list(range(6)) + list(range(last_two_pos, last_two_pos + 6)) \n",
    "fixedThetaVars = list([x + len(all_centerline_pos) * 3 for x in [0, len(all_material_frame) - 1]])\n",
    "fixedVars = fixedPositionVars + fixedThetaVars"
   ]
  },
  {
   "cell_type": "code",
   "execution_count": null,
   "metadata": {},
   "outputs": [],
   "source": [
    "new_rod.setMaterial(elastic_rods.RodMaterial('rectangle', 2000, 0.3, RIBBON_CS, stiffAxis=elastic_rods.StiffAxis.D1))\n",
    "with so(): elastic_rods.compute_equilibrium(new_rod, options = OPTS, fixedVars = fixedVars)\n",
    "mobius_view = linkage_vis.LinkageViewer(new_rod, width=1024, height=640)\n",
    "mobius_view.setCameraParams(default_camera_parameters)"
   ]
  },
  {
   "cell_type": "code",
   "execution_count": null,
   "metadata": {},
   "outputs": [],
   "source": [
    "mobius_view.show()"
   ]
  },
  {
   "cell_type": "code",
   "execution_count": null,
   "metadata": {},
   "outputs": [],
   "source": [
    "single_rod_view_compare.setCameraParams(default_camera_parameters)\n",
    "single_rod_view_compare.show()"
   ]
  },
  {
   "cell_type": "code",
   "execution_count": null,
   "metadata": {},
   "outputs": [],
   "source": [
    "# j = straight_linkage.joint(44)\n",
    "# seg_index = j.segments_A[0]\n",
    "# vx_index = 0\n",
    "# if straight_linkage.segment(seg_index).startJoint != 44:\n",
    "#     vx_index = -1\n",
    "# joint_vector_field = [np.zeros_like(np.reshape(s.rod.gradient()[0:3*s.rod.numVertices()], (s.rod.numVertices(), 3))) for s in straight_linkage.segments()]\n",
    "# joint_vector_field[seg_index][vx_index] = straight_linkage.segment(seg_index).rod.deformedConfiguration().materialFrame[vx_index].d2\n",
    "# view.update()"
   ]
  },
  {
   "cell_type": "code",
   "execution_count": null,
   "metadata": {},
   "outputs": [],
   "source": [
    "# normals = []\n",
    "# joint_indices = []\n",
    "# with open('bird_joint_normal_info.txt', 'r') as f:\n",
    "#     for line in f.readlines():\n",
    "#         if 'normals' in line:\n",
    "#             normals.append(np.array([float(x) for x in line.strip().split(' ')[2:]]))\n",
    "#         if 'index' in line:\n",
    "#             joint_indices.append(int(line.strip().split(' ')[3]))"
   ]
  },
  {
   "cell_type": "code",
   "execution_count": null,
   "metadata": {},
   "outputs": [],
   "source": [
    "# joint_vector_field = [np.zeros_like(np.reshape(s.rod.gradient()[0:3*s.rod.numVertices()], (s.rod.numVertices(), 3))) for s in straight_linkage.segments()]\n",
    "# for i in range(len(normals)):\n",
    "#     j = straight_linkage.joint(joint_indices[i])\n",
    "#     seg_index = j.segments_A[0]\n",
    "#     vx_index = 0\n",
    "#     if straight_linkage.segment(seg_index).startJoint != joint_indices[i]:\n",
    "#         vx_index = -1\n",
    "#     joint_vector_field[seg_index][vx_index] = normals[i]\n",
    "    "
   ]
  },
  {
   "cell_type": "code",
   "execution_count": null,
   "metadata": {},
   "outputs": [],
   "source": [
    "# view.update(vectorField=joint_vector_field)"
   ]
  }
 ],
 "metadata": {
  "kernelspec": {
   "display_name": "Python 3",
   "language": "python",
   "name": "python3"
  },
  "language_info": {
   "codemirror_mode": {
    "name": "ipython",
    "version": 3
   },
   "file_extension": ".py",
   "mimetype": "text/x-python",
   "name": "python",
   "nbconvert_exporter": "python",
   "pygments_lexer": "ipython3",
   "version": "3.7.9"
  }
 },
 "nbformat": 4,
 "nbformat_minor": 4
}
