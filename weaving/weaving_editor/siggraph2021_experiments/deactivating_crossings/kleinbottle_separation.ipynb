{
 "cells": [
  {
   "cell_type": "code",
   "execution_count": 1,
   "metadata": {},
   "outputs": [],
   "source": [
    "elastic_rods_dir = '../../../../elastic_rods/python/'\n",
    "weaving_dir = '../../../'\n",
    "import os\n",
    "import os.path as osp\n",
    "import sys; sys.path.append(elastic_rods_dir); sys.path.append(weaving_dir)\n",
    "import numpy as np, elastic_rods, linkage_vis\n",
    "import numpy.linalg as la\n",
    "from bending_validation import suppress_stdout as so\n",
    "import matplotlib.pyplot as plt\n",
    "from elastic_rods import EnergyType, InterleavingType\n",
    "\n",
    "# weaving\n",
    "import analysis_helper, ribbon_linkage_helper, mesh_vis, linkage_utils, compute_curve_from_curvature, pipeline_helper, importlib\n",
    "importlib.reload(analysis_helper)\n",
    "importlib.reload(ribbon_linkage_helper)\n",
    "importlib.reload(mesh_vis)\n",
    "importlib.reload(linkage_utils)\n",
    "importlib.reload(compute_curve_from_curvature)\n",
    "importlib.reload(pipeline_helper)\n",
    "from analysis_helper import (compare_turning_angle,\n",
    "                            is_on_sphere, \n",
    "                            get_distance_to_center_scalar_field, \n",
    "                            plot_curvatures, \n",
    "                            get_curvature_scalar_field,\n",
    "                            construct_elastic_rod_loop_from_rod_segments, \n",
    "                            concatenate_rod_properties_from_rod_segments, \n",
    "                            compute_min_distance_rigid_transformation)\n",
    "from ribbon_linkage_helper import (update_rest_curvature, \n",
    "                                   set_ribbon_linkage,\n",
    "                                   export_linkage_geometry_to_obj,\n",
    "                                   write_linkage_ribbon_output_florin)\n",
    "\n",
    "from compute_curve_from_curvature import (match_geo_curvature_and_edge_len, get_all_curve_pattern)\n",
    "from linkage_utils import order_segments_by_ribbons, get_turning_angle_and_length_from_ordered_rods\n",
    "\n",
    "from pipeline_helper import (initialize_linkage, get_normal_deviation, set_joint_vector_field, stage_1_optimization, initialize_stage_2_optimizer, stage_2_optimization, InputOrganizer, write_all_output, set_surface_view_options, get_structure_analysis_view, get_max_distance_to_target_surface, contact_optimization, show_selected_joints)\n",
    "\n",
    "import vis.fields\n",
    "import matplotlib.cm as cm\n",
    "import time"
   ]
  },
  {
   "cell_type": "code",
   "execution_count": 2,
   "metadata": {},
   "outputs": [],
   "source": [
    "import parallelism\n",
    "parallelism.set_max_num_tbb_threads(12)\n",
    "parallelism.set_hessian_assembly_num_threads(4)\n",
    "parallelism.set_gradient_assembly_num_threads(4)"
   ]
  },
  {
   "cell_type": "code",
   "execution_count": 3,
   "metadata": {},
   "outputs": [
    {
     "name": "stdout",
     "output_type": "stream",
     "text": [
      "0.036223111957836215 0.0012678089185242675\n"
     ]
    }
   ],
   "source": [
    "scale = 1\n",
    "rod_length = 0.07244622391567243 * scale\n",
    "width = rod_length / 20 * 10 \n",
    "thickness = width / 10 * 0.35 \n",
    "print(width, thickness)\n",
    "io = InputOrganizer('kleinbottle_projected_{}'.format(scale), thickness, width, weaving_dir)"
   ]
  },
  {
   "cell_type": "code",
   "execution_count": 7,
   "metadata": {},
   "outputs": [],
   "source": [
    "import py_newton_optimizer\n",
    "OPTS = py_newton_optimizer.NewtonOptimizerOptions()\n",
    "OPTS.gradTol = 1e-8\n",
    "OPTS.verbose = 1;\n",
    "OPTS.beta = 1e-8\n",
    "OPTS.niter = 200\n",
    "OPTS.verboseNonPosDef = False\n",
    "rw = 1\n",
    "sw = 10\n",
    "drw = 0.1\n",
    "dsw = 0.1"
   ]
  },
  {
   "cell_type": "code",
   "execution_count": 8,
   "metadata": {},
   "outputs": [],
   "source": [
    "rw = 3\n",
    "sw = 10"
   ]
  },
  {
   "cell_type": "code",
   "execution_count": 9,
   "metadata": {},
   "outputs": [
    {
     "data": {
      "application/vnd.jupyter.widget-view+json": {
       "model_id": "38626211842a4e11a3d5459e62805094",
       "version_major": 2,
       "version_minor": 0
      },
      "text/plain": [
       "Renderer(camera=PerspectiveCamera(children=(PointLight(color='#999999', position=(0.0, 0.0, 5.0), quaternion=(…"
      ]
     },
     "metadata": {},
     "output_type": "display_data"
    }
   ],
   "source": [
    "with so(): curved_linkage = initialize_linkage(surface_path = io.SURFACE_PATH, useCenterline = True, model_path = io.MODEL_PATH, cross_section = io.RIBBON_CS, subdivision_res = io.SUBDIVISION_RESOLUTION, use_constant_width = False, width_scale = [0.5, 1.5])\n",
    "curved_linkage.set_design_parameter_config(use_restLen = True, use_restKappa = True)\n",
    "curved_save_tgt_joint_pos = curved_linkage.jointPositions();\n",
    "curved_linkage_view = linkage_vis.LinkageViewerWithSurface(curved_linkage, io.SURFACE_PATH)\n",
    "set_surface_view_options(curved_linkage_view)\n",
    "curved_linkage_view.show()"
   ]
  },
  {
   "cell_type": "code",
   "execution_count": 10,
   "metadata": {},
   "outputs": [],
   "source": [
    "curved_linkage.setExtendedDoFsPSRL(np.load('../../nature_paper_experiments/figure_3/klein_bottle_optimized_dof_23062020.npy'))"
   ]
  },
  {
   "cell_type": "code",
   "execution_count": 11,
   "metadata": {},
   "outputs": [],
   "source": [
    "curved_linkage.attraction_weight = 1e-5"
   ]
  },
  {
   "cell_type": "code",
   "execution_count": 12,
   "metadata": {},
   "outputs": [
    {
     "data": {
      "text/plain": [
       "0.0005597063020328109"
      ]
     },
     "execution_count": 12,
     "metadata": {},
     "output_type": "execute_result"
    }
   ],
   "source": [
    "curved_linkage.energy()"
   ]
  },
  {
   "cell_type": "code",
   "execution_count": 13,
   "metadata": {},
   "outputs": [],
   "source": [
    "def eqm_callback(prob, i):\n",
    "    curved_linkage_view.update()"
   ]
  },
  {
   "cell_type": "code",
   "execution_count": 14,
   "metadata": {},
   "outputs": [],
   "source": [
    "OPTS.niter = 10000"
   ]
  },
  {
   "cell_type": "code",
   "execution_count": 15,
   "metadata": {
    "scrolled": true
   },
   "outputs": [
    {
     "name": "stdout",
     "output_type": "stream",
     "text": [
      "0\t0.000559706\t0.51008\t0.51008\t1\t1\n",
      "1\t3.85284e-05\t0.0248422\t0.0248422\t1\t1\n",
      "2\t2.55716e-05\t0.00641415\t0.00641415\t1\t1\n",
      "3\t2.1627e-05\t0.00313652\t0.00313652\t1\t1\n",
      "4\t1.89992e-05\t0.00169692\t0.00169692\t1\t1\n",
      "5\t1.6954e-05\t0.000978834\t0.000978834\t1\t1\n",
      "6\t1.534e-05\t0.000600501\t0.000600501\t1\t1\n",
      "7\t1.41356e-05\t0.000402305\t0.000402305\t1\t1\n",
      "8\t1.32914e-05\t0.000362327\t0.000362327\t1\t1\n",
      "9\t1.27155e-05\t0.000413444\t0.000413444\t1\t1\n",
      "10\t1.23303e-05\t0.000382133\t0.000382133\t1\t1\n",
      "11\t1.20861e-05\t0.000241624\t0.000241624\t1\t1\n",
      "12\t1.19451e-05\t0.000198017\t0.000198017\t1\t1\n",
      "13\t1.18729e-05\t0.000171485\t0.000171485\t1\t1\n",
      "14\t1.18403e-05\t0.000137635\t0.000137635\t1\t1\n",
      "15\t1.18268e-05\t8.99681e-05\t8.99681e-05\t1\t1\n",
      "16\t1.18219e-05\t4.67741e-05\t4.67741e-05\t1\t0\n",
      "17\t1.182e-05\t0.000112854\t0.000112854\t1\t0\n",
      "18\t1.182e-05\t1.33407e-07\t1.33407e-07\t0.5\t0\n",
      "19\t1.182e-05\t1.74314e-06\t1.74314e-06\t1\t0\n",
      "20\t1.182e-05\t9.73158e-08\t9.73158e-08\t1\t0\n",
      "21\t1.182e-05\t1.00842e-06\t1.00842e-06\t1\t0\n",
      "22\t1.182e-05\t4.63064e-09\t4.63064e-09\t1\t0\n"
     ]
    },
    {
     "data": {
      "text/plain": [
       "<py_newton_optimizer.ConvergenceReport at 0x12deb0430>"
      ]
     },
     "execution_count": 15,
     "metadata": {},
     "output_type": "execute_result"
    }
   ],
   "source": [
    "elastic_rods.compute_equilibrium(curved_linkage, callback = eqm_callback, options = OPTS)"
   ]
  },
  {
   "cell_type": "code",
   "execution_count": 16,
   "metadata": {},
   "outputs": [
    {
     "data": {
      "text/plain": [
       "1.182001721225077e-05"
      ]
     },
     "execution_count": 16,
     "metadata": {},
     "output_type": "execute_result"
    }
   ],
   "source": [
    "curved_linkage.energy()"
   ]
  },
  {
   "cell_type": "code",
   "execution_count": 17,
   "metadata": {},
   "outputs": [],
   "source": [
    "from structural_analysis import weavingCrossingForceMagnitudes"
   ]
  },
  {
   "cell_type": "code",
   "execution_count": 18,
   "metadata": {},
   "outputs": [],
   "source": [
    "cfm = weavingCrossingForceMagnitudes(curved_linkage, True)"
   ]
  },
  {
   "cell_type": "code",
   "execution_count": 19,
   "metadata": {},
   "outputs": [
    {
     "data": {
      "text/plain": [
       "array([328,  75, 234,  10,  16, 470, 178, 334,  81, 229, 235, 502, 534,\n",
       "       216, 312, 329, 437, 507, 233, 406, 186, 532, 212, 403,  76,  74,\n",
       "       471, 440, 505, 438, 405, 283,  78, 435, 187,  80, 184, 231, 504,\n",
       "         9, 291, 318, 333,  11,  17, 335, 183, 331, 140, 225,  15, 316,\n",
       "       452, 107, 177, 192, 537, 399, 191, 160, 531, 232, 473, 175, 197,\n",
       "       138, 103,  79,   8, 469,  71, 176, 330,  13, 295, 313,   6, 398,\n",
       "       174, 237,  72, 538, 322, 122, 236, 179, 172, 529,  77,  42,   7,\n",
       "       271, 337, 282, 434, 265, 518, 238,  69, 308, 474, 240, 269,  44,\n",
       "       338, 230, 332, 310,  14, 480, 508,  82, 196,  12, 360, 379,  73,\n",
       "       109, 433, 478, 451, 228, 163, 166, 336, 510, 321, 134,   4, 443,\n",
       "       472, 164, 165, 512, 449, 226, 181, 188,  19, 535, 327, 104, 135,\n",
       "       362,  60, 402, 441, 293, 180, 442, 126, 119,  20, 404, 408, 239,\n",
       "       326, 506, 320,  70, 314, 217,  63,  18, 468, 466, 385, 453, 444,\n",
       "       366, 132, 491, 382, 359, 195, 221, 106, 401, 287, 123, 372,  54,\n",
       "       309, 455, 173,   5, 448, 133, 367, 167, 137, 324, 292, 533, 161,\n",
       "       169, 280, 488, 317, 436,  48, 395, 274, 270, 276, 154, 115,  43,\n",
       "        45, 242,  61, 439, 370, 418, 121, 190, 245, 128, 479, 199, 244,\n",
       "       218, 306, 477, 193, 485, 171, 220, 120, 431, 139, 113, 200,  56,\n",
       "       411, 285, 380, 376, 482, 481, 101, 182, 361, 219, 185, 118, 108,\n",
       "       501, 375, 102,  28,  66, 289,  68, 116,  84,  50, 365, 281, 311,\n",
       "       415, 246, 516, 284, 268, 141, 325, 125,  55, 247, 267, 515, 489,\n",
       "       296,   1, 275, 201,  22, 162, 378, 396, 414,  64, 417,  51, 266,\n",
       "       272, 428,  62, 383, 447, 371, 456,  21, 483, 110, 530,   3, 294,\n",
       "       416, 114, 127, 407, 394, 528, 227, 413, 357, 430, 286, 131, 503,\n",
       "       486, 467,  53,  57, 445, 358,  49, 288, 487, 143, 345,  47, 369,\n",
       "       248, 377, 264, 514, 513, 344,  59, 159, 222, 223, 279, 373, 341,\n",
       "       129, 105, 363, 339, 210,  85, 388, 410, 454, 498, 213, 251, 511,\n",
       "       520, 319, 277, 409,  41, 194, 323, 484, 392, 299, 112, 224, 400,\n",
       "       157,   0, 343,  39, 202, 519, 420, 250, 412,  87, 522, 305,   2,\n",
       "       384, 427, 355, 261, 298,  24, 111, 536, 189,  25, 419, 340, 348,\n",
       "        83, 499, 426, 170,  23, 462, 315, 509, 209, 290, 386, 464, 297,\n",
       "       211, 158, 145, 136, 517, 100, 364, 215, 241,  65, 117, 342, 124,\n",
       "       421, 475, 304, 249, 526,  29, 153,  46,  38,  27, 539, 168, 476,\n",
       "       374, 446, 214, 148, 521, 450, 273,  99,  52, 130, 198, 346, 397,\n",
       "        67, 432,  40, 459, 347,  37, 155,  58,  86, 463, 387, 278, 496,\n",
       "       307, 381, 368,  88, 393,  26, 243, 205, 356, 263, 495, 492, 465,\n",
       "       490, 206,  93, 204, 258, 262, 457, 461,  98, 391, 422, 156,  35,\n",
       "        33,  31, 493,  95, 352, 151, 144,  34, 147, 256, 255, 149, 429,\n",
       "       259, 203, 500, 460, 303, 253, 349, 525, 208, 497, 254, 252,  96,\n",
       "       424, 152, 301,  91, 353,  89, 351, 350, 527,  94, 302,  30,  90,\n",
       "        92,  36, 425, 257, 423, 390, 523, 150, 494, 354,  32, 389, 524,\n",
       "       142, 300, 207, 146,  97, 458, 260])"
      ]
     },
     "execution_count": 19,
     "metadata": {},
     "output_type": "execute_result"
    }
   ],
   "source": [
    "np.argsort(cfm[:, 0])"
   ]
  },
  {
   "cell_type": "code",
   "execution_count": 20,
   "metadata": {},
   "outputs": [
    {
     "data": {
      "text/plain": [
       "6.454942323397333e-07"
      ]
     },
     "execution_count": 20,
     "metadata": {},
     "output_type": "execute_result"
    }
   ],
   "source": [
    "cfm[:, 0][260]"
   ]
  },
  {
   "cell_type": "markdown",
   "metadata": {},
   "source": [
    "### Deactivate Crossing"
   ]
  },
  {
   "cell_type": "code",
   "execution_count": 21,
   "metadata": {},
   "outputs": [],
   "source": [
    "import deactivate_crossing_helper\n",
    "importlib.reload(deactivate_crossing_helper)\n",
    "from deactivate_crossing_helper import (write_deactivated_linkage, copy_over_under, get_segment_index_from_joints, get_angle_from_kappa, get_kappa_from_angle, no_resample_deactivation, resample_deactivation, get_neighbors)"
   ]
  },
  {
   "cell_type": "code",
   "execution_count": 28,
   "metadata": {},
   "outputs": [],
   "source": [
    "deactive_index = 260"
   ]
  },
  {
   "cell_type": "code",
   "execution_count": 29,
   "metadata": {},
   "outputs": [],
   "source": [
    "def create_deactivated_linkage(original_linkage, deactive_index, original_model_name, deactivated_model_name):\n",
    "    ju = original_linkage.joint(deactive_index)\n",
    "    nbs = ju.neighbors()\n",
    "    deactive_vertex_map = [i if i < deactive_index else i - 1 for i in range(original_linkage.numJoints())]\n",
    "    write_deactivated_linkage(original_model_name, deactivated_model_name, deactive_index, deactive_vertex_map, nbs)\n",
    "    \n",
    "    with so(): deactivate_curved_linkage = initialize_linkage(surface_path = io.SURFACE_PATH, useCenterline = True, model_path = deactivated_model_name, cross_section = io.RIBBON_CS, subdivision_res = io.SUBDIVISION_RESOLUTION, interleaving_type=elastic_rods.InterleavingType.weaving, use_constant_width = False, width_scale = [0.5, 1.5])\n",
    "    deactivate_curved_linkage.set_design_parameter_config(use_restLen = True, use_restKappa = True)\n",
    "    deactivate_curved_linkage.attraction_weight = 1e-5\n",
    "\n",
    "#     Copy the over under assignment from the original model since BFS will not find a perfect over under in the new topology\n",
    "    copy_over_under(deactivate_curved_linkage, original_linkage, deactive_vertex_map, deactive_index)\n",
    "    deactivate_curved_linkage.setDoFs(deactivate_curved_linkage.getDoFs())\n",
    "\n",
    "    resample_deactivation(deactivate_curved_linkage, original_linkage, deactive_vertex_map, nbs, deactive_index, io)\n",
    "    return deactivate_curved_linkage, deactive_vertex_map"
   ]
  },
  {
   "cell_type": "code",
   "execution_count": 30,
   "metadata": {},
   "outputs": [
    {
     "data": {
      "text/plain": [
       "[522, 259, 299, 261]"
      ]
     },
     "execution_count": 30,
     "metadata": {},
     "output_type": "execute_result"
    }
   ],
   "source": [
    "ju = curved_linkage.joint(deactive_index)\n",
    "ju.neighbors()"
   ]
  },
  {
   "cell_type": "code",
   "execution_count": 33,
   "metadata": {},
   "outputs": [],
   "source": [
    "deactivated_model = ('/'.join(io.MODEL_PATH.split('/')[:-1] + [io.MODEL_NAME + '_deactive_joint_{}.obj'.format(deactive_index)]))"
   ]
  },
  {
   "cell_type": "code",
   "execution_count": 34,
   "metadata": {},
   "outputs": [
    {
     "name": "stdout",
     "output_type": "stream",
     "text": [
      "1076\n",
      "1077\n"
     ]
    }
   ],
   "source": [
    "deactivate_linkage, deactive_vertex_map = create_deactivated_linkage(curved_linkage, deactive_index, io.MODEL_PATH, deactivated_model)"
   ]
  },
  {
   "cell_type": "code",
   "execution_count": 50,
   "metadata": {},
   "outputs": [
    {
     "data": {
      "text/plain": [
       "<module 'cross_section_scaling' from '../../../../elastic_rods/python/cross_section_scaling.py'>"
      ]
     },
     "execution_count": 50,
     "metadata": {},
     "output_type": "execute_result"
    }
   ],
   "source": [
    "import cross_section_scaling\n",
    "importlib.reload(cross_section_scaling)"
   ]
  },
  {
   "cell_type": "code",
   "execution_count": 51,
   "metadata": {},
   "outputs": [],
   "source": [
    "cross_section = io.RIBBON_CS\n",
    "width_scale = [0.5, 1.5]\n",
    "cross_section_scaling.apply_density_based_cross_sections(deactivate_linkage, elastic_rods.CrossSection.construct('rectangle', 2000, 0.3, [cross_section[0], width_scale[0] * cross_section[1]]), elastic_rods.CrossSection.construct('rectangle', 2000, 0.3, [cross_section[0], width_scale[1] * cross_section[1]]))"
   ]
  },
  {
   "cell_type": "code",
   "execution_count": 35,
   "metadata": {},
   "outputs": [],
   "source": [
    "r = curved_linkage.segment(0).rod"
   ]
  },
  {
   "cell_type": "code",
   "execution_count": 36,
   "metadata": {},
   "outputs": [
    {
     "data": {
      "text/plain": [
       "<elastic_rods.RodMaterial at 0x131b8a930>"
      ]
     },
     "execution_count": 36,
     "metadata": {},
     "output_type": "execute_result"
    }
   ],
   "source": [
    "r.material(0)"
   ]
  },
  {
   "cell_type": "code",
   "execution_count": 37,
   "metadata": {},
   "outputs": [
    {
     "data": {
      "text/plain": [
       "0.035608102936615774"
      ]
     },
     "execution_count": 37,
     "metadata": {},
     "output_type": "execute_result"
    }
   ],
   "source": [
    "deactivate_linkage.energy()"
   ]
  },
  {
   "cell_type": "code",
   "execution_count": 38,
   "metadata": {},
   "outputs": [
    {
     "data": {
      "text/plain": [
       "1.1820017212250771e-05"
      ]
     },
     "execution_count": 38,
     "metadata": {},
     "output_type": "execute_result"
    }
   ],
   "source": [
    "curved_linkage.energy()"
   ]
  },
  {
   "cell_type": "code",
   "execution_count": 52,
   "metadata": {},
   "outputs": [
    {
     "data": {
      "application/vnd.jupyter.widget-view+json": {
       "model_id": "7d49183e354241ef93b0ca5e341bb805",
       "version_major": 2,
       "version_minor": 0
      },
      "text/plain": [
       "Renderer(camera=PerspectiveCamera(children=(PointLight(color='#999999', position=(0.0, 0.0, 5.0), quaternion=(…"
      ]
     },
     "metadata": {},
     "output_type": "display_data"
    }
   ],
   "source": [
    "deactivate_curved_linkage_view = linkage_vis.LinkageViewer(deactivate_linkage)\n",
    "deactivate_curved_linkage_view.show()"
   ]
  },
  {
   "cell_type": "code",
   "execution_count": 53,
   "metadata": {},
   "outputs": [],
   "source": [
    "topColor =[150/255., 150/255., 150/255.]\n",
    "bottomColor =[79/255., 158/255., 246/255.]\n",
    "heights = deactivate_linkage.visualizationGeometryHeightColors()\n",
    "colors = np.take(np.array([bottomColor, topColor]), heights < heights.mean(), axis=0)"
   ]
  },
  {
   "cell_type": "code",
   "execution_count": 54,
   "metadata": {},
   "outputs": [],
   "source": [
    "deactivate_curved_linkage_view.update(scalarField = colors)"
   ]
  },
  {
   "cell_type": "code",
   "execution_count": 55,
   "metadata": {},
   "outputs": [],
   "source": [
    "OPTS.niter = 1000"
   ]
  },
  {
   "cell_type": "code",
   "execution_count": 56,
   "metadata": {},
   "outputs": [],
   "source": [
    "def eqm_callback(prob, i):\n",
    "    deactivate_curved_linkage_view.update()"
   ]
  },
  {
   "cell_type": "code",
   "execution_count": 57,
   "metadata": {
    "scrolled": true
   },
   "outputs": [
    {
     "name": "stdout",
     "output_type": "stream",
     "text": [
      "0\t1.39041e-05\t6.07884e-05\t6.07884e-05\t1\t1\n",
      "1\t1.38888e-05\t0.000473729\t0.000473729\t1\t0\n",
      "2\t1.38857e-05\t0.000828895\t0.000828895\t1\t1\n",
      "3\t1.38729e-05\t0.000119098\t0.000119098\t0.5\t0\n",
      "4\t1.38724e-05\t0.0001176\t0.0001176\t1\t0\n",
      "5\t1.38718e-05\t1.0718e-05\t1.0718e-05\t0.25\t0\n",
      "6\t1.38717e-05\t2.73232e-05\t2.73232e-05\t1\t0\n",
      "7\t1.38716e-05\t3.44411e-05\t3.44411e-05\t1\t0\n",
      "8\t1.38715e-05\t1.82112e-05\t1.82112e-05\t0.5\t0\n",
      "9\t1.38715e-05\t2.36014e-05\t2.36014e-05\t1\t0\n",
      "10\t1.38714e-05\t3.4068e-05\t3.4068e-05\t1\t0\n",
      "11\t1.38714e-05\t2.20416e-05\t2.20416e-05\t1\t0\n",
      "12\t1.38713e-05\t5.70554e-05\t5.70554e-05\t1\t0\n",
      "13\t1.38713e-05\t8.40722e-06\t8.40722e-06\t0.25\t0\n",
      "14\t1.38712e-05\t2.48409e-05\t2.48409e-05\t1\t0\n",
      "15\t1.38712e-05\t1.9287e-05\t1.9287e-05\t1\t0\n",
      "16\t1.38712e-05\t2.64648e-05\t2.64648e-05\t1\t0\n",
      "17\t1.38711e-05\t1.18392e-05\t1.18392e-05\t1\t0\n",
      "18\t1.38711e-05\t3.9449e-05\t3.9449e-05\t1\t0\n",
      "19\t1.38711e-05\t2.69208e-06\t2.69208e-06\t0.5\t0\n",
      "20\t1.38711e-05\t3.12867e-05\t3.12867e-05\t1\t0\n",
      "21\t1.38711e-05\t1.70115e-06\t1.70115e-06\t0.25\t0\n",
      "22\t1.38711e-05\t6.08031e-06\t6.08031e-06\t1\t0\n",
      "23\t1.38711e-05\t9.90226e-06\t9.90226e-06\t1\t0\n",
      "24\t1.38711e-05\t8.98953e-06\t8.98953e-06\t1\t0\n",
      "25\t1.38711e-05\t1.54889e-06\t1.54889e-06\t0.25\t0\n",
      "26\t1.38711e-05\t1.92455e-06\t1.92455e-06\t1\t0\n",
      "27\t1.38711e-05\t1.68691e-06\t1.68691e-06\t1\t0\n",
      "28\t1.38711e-05\t8.48294e-07\t8.48294e-07\t1\t0\n",
      "29\t1.38711e-05\t1.49693e-06\t1.49693e-06\t1\t0\n",
      "30\t1.38711e-05\t2.88012e-07\t2.88012e-07\t1\t0\n",
      "31\t1.38711e-05\t1.50028e-06\t1.50028e-06\t1\t0\n",
      "32\t1.38711e-05\t3.39764e-08\t3.39764e-08\t0.5\t0\n",
      "33\t1.38711e-05\t3.61405e-07\t3.61405e-07\t1\t0\n",
      "34\t1.38711e-05\t5.1215e-08\t5.1215e-08\t1\t0\n",
      "35\t1.38711e-05\t2.15122e-07\t2.15122e-07\t1\t0\n",
      "36\t1.38711e-05\t3.92232e-09\t3.92232e-09\t1\t0\n"
     ]
    },
    {
     "data": {
      "text/plain": [
       "<py_newton_optimizer.ConvergenceReport at 0x132daff30>"
      ]
     },
     "execution_count": 57,
     "metadata": {},
     "output_type": "execute_result"
    }
   ],
   "source": [
    "elastic_rods.compute_equilibrium(deactivate_linkage, callback = eqm_callback, options = OPTS)"
   ]
  },
  {
   "cell_type": "code",
   "execution_count": 58,
   "metadata": {
    "scrolled": true
   },
   "outputs": [
    {
     "name": "stdout",
     "output_type": "stream",
     "text": [
      "Min Width  0.018111555978918108\n",
      "Scale:  276.06683853226144\n",
      "num seg per rod 120\n",
      "num seg per rod 120\n",
      "num seg per rod 120\n",
      "num seg per rod 119\n",
      "num seg per rod 120\n",
      "num seg per rod 120\n",
      "num seg per rod 12\n",
      "num seg per rod 12\n",
      "num seg per rod 12\n",
      "num seg per rod 12\n",
      "num seg per rod 12\n",
      "num seg per rod 12\n",
      "num seg per rod 12\n",
      "num seg per rod 12\n",
      "num seg per rod 12\n",
      "num seg per rod 12\n",
      "num seg per rod 11\n",
      "num seg per rod 12\n",
      "num seg per rod 12\n",
      "num seg per rod 12\n",
      "num seg per rod 12\n",
      "num seg per rod 12\n",
      "num seg per rod 12\n",
      "num seg per rod 12\n",
      "num seg per rod 12\n",
      "num seg per rod 12\n",
      "num seg per rod 12\n",
      "num seg per rod 12\n",
      "num seg per rod 12\n",
      "num seg per rod 12\n",
      "num seg per rod 12\n",
      "num seg per rod 12\n",
      "num seg per rod 12\n",
      "num seg per rod 12\n",
      "num seg per rod 12\n",
      "num seg per rod 12\n",
      "1439.2450216272073 782.1669701551264\n",
      "1439.2450216272073 810.2482868687662\n",
      "1963.9108227300399 810.2482868687662\n",
      "2212.909278367671 810.2482868687662\n",
      "2212.909278367671 810.2482868687662\n",
      "2212.909278367671 810.2482868687662\n",
      "2212.909278367671 810.2482868687662\n",
      "2212.909278367671 810.2482868687662\n",
      "2212.909278367671 810.2482868687662\n",
      "2212.909278367671 810.2482868687662\n",
      "2212.909278367671 810.2482868687662\n",
      "2212.909278367671 810.2482868687662\n",
      "2212.909278367671 810.2482868687662\n",
      "2212.909278367671 810.2482868687662\n",
      "2212.909278367671 810.2482868687662\n",
      "2212.909278367671 810.2482868687662\n",
      "2212.909278367671 810.2482868687662\n",
      "2212.909278367671 810.2482868687662\n",
      "2212.909278367671 810.2482868687662\n",
      "2212.909278367671 810.2482868687662\n",
      "2212.909278367671 810.2482868687662\n",
      "2212.909278367671 810.2482868687662\n",
      "2212.909278367671 810.2482868687662\n",
      "2212.909278367671 810.2482868687662\n",
      "2212.909278367671 810.2482868687662\n",
      "2212.909278367671 810.2482868687662\n",
      "2212.909278367671 810.2482868687662\n",
      "2212.909278367671 810.2482868687662\n",
      "2212.909278367671 810.2482868687662\n",
      "2212.909278367671 810.2482868687662\n",
      "2212.909278367671 810.2482868687662\n",
      "2212.909278367671 810.2482868687662\n",
      "2212.909278367671 810.2482868687662\n",
      "2212.909278367671 810.2482868687662\n",
      "2212.909278367671 810.2482868687662\n",
      "2212.909278367671 810.2482868687662\n"
     ]
    },
    {
     "data": {
      "image/png": "[encoded data removed]",
      "text/plain": [
       "<Figure size 432x288 with 1 Axes>"
      ]
     },
     "metadata": {
      "needs_background": "light"
     },
     "output_type": "display_data"
    }
   ],
   "source": [
    "save_path = os.getcwd()\n",
    "write_all_output(deactivate_linkage, io.SUBDIVISION_RESOLUTION, io.MODEL_NAME + '_deactivated', io.RIBBON_NAME + '_deactivated', False, 100, min(io.RIBBON_CS), target_width = 5, flip_angles = False, width = max(io.RIBBON_CS))\n",
    "os.chdir(save_path)"
   ]
  },
  {
   "cell_type": "code",
   "execution_count": 59,
   "metadata": {},
   "outputs": [],
   "source": [
    "vf = show_selected_joints(deactivate_linkage, [deactive_vertex_map[522], deactive_vertex_map[259], deactive_vertex_map[299], deactive_vertex_map[261]])"
   ]
  },
  {
   "cell_type": "code",
   "execution_count": 60,
   "metadata": {},
   "outputs": [],
   "source": [
    "deactivate_curved_linkage_view.update(vectorField = vf, scalarField = colors)"
   ]
  },
  {
   "cell_type": "code",
   "execution_count": 36,
   "metadata": {},
   "outputs": [],
   "source": [
    "# deactivate_curved_linkage_view.show()"
   ]
  },
  {
   "cell_type": "code",
   "execution_count": 37,
   "metadata": {},
   "outputs": [],
   "source": [
    "# deactivate_linkage_7.energy()"
   ]
  },
  {
   "cell_type": "code",
   "execution_count": null,
   "metadata": {},
   "outputs": [],
   "source": []
  }
 ],
 "metadata": {
  "kernelspec": {
   "display_name": "Python 3",
   "language": "python",
   "name": "python3"
  },
  "language_info": {
   "codemirror_mode": {
    "name": "ipython",
    "version": 3
   },
   "file_extension": ".py",
   "mimetype": "text/x-python",
   "name": "python",
   "nbconvert_exporter": "python",
   "pygments_lexer": "ipython3",
   "version": "3.7.9"
  }
 },
 "nbformat": 4,
 "nbformat_minor": 4
}
