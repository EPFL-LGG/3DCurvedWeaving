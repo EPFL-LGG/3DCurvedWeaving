{
 "cells": [
  {
   "cell_type": "code",
   "execution_count": 1,
   "metadata": {},
   "outputs": [],
   "source": [
    "elastic_rods_dir = '../../../../elastic_rods/python/'\n",
    "weaving_dir = '../../../'\n",
    "import os\n",
    "import os.path as osp\n",
    "import sys; sys.path.append(elastic_rods_dir); sys.path.append(weaving_dir)\n",
    "import numpy as np, elastic_rods, linkage_vis\n",
    "import numpy.linalg as la\n",
    "from bending_validation import suppress_stdout as so\n",
    "import matplotlib.pyplot as plt\n",
    "from elastic_rods import EnergyType, InterleavingType\n",
    "\n",
    "# weaving\n",
    "import analysis_helper, ribbon_linkage_helper, mesh_vis, linkage_utils, compute_curve_from_curvature, pipeline_helper, importlib\n",
    "importlib.reload(analysis_helper)\n",
    "importlib.reload(ribbon_linkage_helper)\n",
    "importlib.reload(mesh_vis)\n",
    "importlib.reload(linkage_utils)\n",
    "importlib.reload(compute_curve_from_curvature)\n",
    "importlib.reload(pipeline_helper)\n",
    "from analysis_helper import (compare_turning_angle,\n",
    "                            is_on_sphere, \n",
    "                            get_distance_to_center_scalar_field, \n",
    "                            plot_curvatures, \n",
    "                            get_curvature_scalar_field,\n",
    "                            construct_elastic_rod_loop_from_rod_segments, \n",
    "                            concatenate_rod_properties_from_rod_segments, \n",
    "                            compute_min_distance_rigid_transformation)\n",
    "from ribbon_linkage_helper import (update_rest_curvature, \n",
    "                                   set_ribbon_linkage,\n",
    "                                   export_linkage_geometry_to_obj,\n",
    "                                   write_linkage_ribbon_output_florin)\n",
    "\n",
    "from compute_curve_from_curvature import (match_geo_curvature_and_edge_len, get_all_curve_pattern)\n",
    "from linkage_utils import order_segments_by_ribbons, get_turning_angle_and_length_from_ordered_rods\n",
    "\n",
    "from pipeline_helper import (initialize_linkage, get_normal_deviation, set_joint_vector_field, stage_1_optimization, initialize_stage_2_optimizer, stage_2_optimization, InputOrganizer, write_all_output, set_surface_view_options, get_structure_analysis_view, get_max_distance_to_target_surface, contact_optimization, show_selected_joints, get_fixed_boundary_joint)\n",
    "\n",
    "import vis.fields\n",
    "import matplotlib.cm as cm\n",
    "import time"
   ]
  },
  {
   "cell_type": "code",
   "execution_count": 2,
   "metadata": {},
   "outputs": [],
   "source": [
    "import parallelism\n",
    "parallelism.set_max_num_tbb_threads(12)\n",
    "parallelism.set_hessian_assembly_num_threads(4)\n",
    "parallelism.set_gradient_assembly_num_threads(4)"
   ]
  },
  {
   "cell_type": "code",
   "execution_count": 3,
   "metadata": {},
   "outputs": [
    {
     "name": "stdout",
     "output_type": "stream",
     "text": [
      "0.01494926278511622 0.0010464483949581352\n"
     ]
    }
   ],
   "source": [
    "rod_length = 0.05979705114046488\n",
    "width = rod_length / 20 * 5\n",
    "thickness = width / 5 * 0.35\n",
    "print(width, thickness)\n",
    "io = InputOrganizer('lilium_1', thickness, width, weaving_dir)"
   ]
  },
  {
   "cell_type": "code",
   "execution_count": 7,
   "metadata": {},
   "outputs": [],
   "source": [
    "import py_newton_optimizer\n",
    "# Optimization parameters.\n",
    "OPTS = py_newton_optimizer.NewtonOptimizerOptions()\n",
    "OPTS.gradTol = 1e-8\n",
    "OPTS.verbose = 1;\n",
    "OPTS.beta = 1e-8\n",
    "OPTS.niter = 200\n",
    "OPTS.verboseNonPosDef = False\n",
    "rw = 0.01\n",
    "sw = 10\n",
    "drw = 0.01\n",
    "dsw = 0.1"
   ]
  },
  {
   "cell_type": "code",
   "execution_count": 8,
   "metadata": {},
   "outputs": [
    {
     "data": {
      "application/vnd.jupyter.widget-view+json": {
       "model_id": "fc845d74148442dd804673e38d8951eb",
       "version_major": 2,
       "version_minor": 0
      },
      "text/plain": [
       "Renderer(camera=PerspectiveCamera(children=(PointLight(color='#999999', position=(0.0, 0.0, 5.0), quaternion=(…"
      ]
     },
     "metadata": {},
     "output_type": "display_data"
    }
   ],
   "source": [
    "with so(): curved_linkage = initialize_linkage(surface_path = io.SURFACE_PATH, useCenterline = True, model_path = io.MODEL_PATH, cross_section = io.RIBBON_CS, subdivision_res = io.SUBDIVISION_RESOLUTION, use_constant_width = True)\n",
    "curved_linkage.set_design_parameter_config(use_restLen = True, use_restKappa = True)\n",
    "curved_save_tgt_joint_pos = curved_linkage.jointPositions();\n",
    "curved_linkage_view = linkage_vis.LinkageViewerWithSurface(curved_linkage, io.SURFACE_PATH)\n",
    "set_surface_view_options(curved_linkage_view)\n",
    "curved_linkage_view.show()"
   ]
  },
  {
   "cell_type": "code",
   "execution_count": 9,
   "metadata": {},
   "outputs": [],
   "source": [
    "curved_linkage.setExtendedDoFsPSRL(np.load('../../nature_paper_experiments/figure_4/zoo/results/lilium_1/lilium_1_dof.npy'))"
   ]
  },
  {
   "cell_type": "code",
   "execution_count": 10,
   "metadata": {},
   "outputs": [],
   "source": [
    "curved_linkage.attraction_weight = 1e-5"
   ]
  },
  {
   "cell_type": "code",
   "execution_count": 11,
   "metadata": {},
   "outputs": [],
   "source": [
    "fixed_boundary_joints = get_fixed_boundary_joint(curved_linkage)"
   ]
  },
  {
   "cell_type": "code",
   "execution_count": 12,
   "metadata": {},
   "outputs": [],
   "source": [
    "def eqm_callback(prob, i):\n",
    "    curved_linkage_view.update()"
   ]
  },
  {
   "cell_type": "code",
   "execution_count": 13,
   "metadata": {},
   "outputs": [],
   "source": [
    "OPTS.niter = 10000"
   ]
  },
  {
   "cell_type": "code",
   "execution_count": 14,
   "metadata": {
    "scrolled": true
   },
   "outputs": [
    {
     "name": "stdout",
     "output_type": "stream",
     "text": [
      "0\t0.000253253\t0.274372\t0.274372\t1\t1\n",
      "1\t4.03807e-05\t0.0514669\t0.0514669\t1\t1\n",
      "2\t2.18512e-05\t0.0128603\t0.0128603\t1\t1\n",
      "3\t1.71845e-05\t0.00633637\t0.00633637\t1\t1\n",
      "4\t1.46965e-05\t0.00397823\t0.00397823\t1\t1\n",
      "5\t1.25211e-05\t0.00274907\t0.00274907\t1\t1\n",
      "6\t1.03527e-05\t0.00198238\t0.00198238\t1\t1\n",
      "7\t8.21998e-06\t0.00142326\t0.00142326\t1\t1\n",
      "8\t6.30355e-06\t0.000980872\t0.000980872\t1\t1\n",
      "9\t4.7983e-06\t0.000639965\t0.000639965\t1\t1\n",
      "10\t3.76225e-06\t0.000398065\t0.000398065\t1\t1\n",
      "11\t3.09462e-06\t0.000241629\t0.000241629\t1\t1\n",
      "12\t2.64906e-06\t0.000148517\t0.000148517\t1\t1\n",
      "13\t2.31679e-06\t9.53873e-05\t9.53873e-05\t1\t1\n",
      "14\t2.03885e-06\t6.58754e-05\t6.58754e-05\t1\t1\n",
      "15\t1.79919e-06\t5.42224e-05\t5.42224e-05\t1\t1\n",
      "16\t1.60033e-06\t6.5439e-05\t6.5439e-05\t1\t1\n",
      "17\t1.43583e-06\t0.000102079\t0.000102079\t1\t1\n",
      "18\t1.29241e-06\t0.000153826\t0.000153826\t1\t1\n",
      "19\t1.15974e-06\t0.000168555\t0.000168555\t1\t1\n",
      "20\t1.03617e-06\t0.000175705\t0.000175705\t1\t1\n",
      "21\t9.3769e-07\t0.000174373\t0.000174373\t1\t1\n",
      "22\t8.74151e-07\t0.000125301\t0.000125301\t1\t1\n",
      "23\t8.37865e-07\t7.90836e-05\t7.90836e-05\t1\t0\n",
      "24\t8.31034e-07\t0.000201309\t0.000201309\t1\t0\n",
      "25\t8.06721e-07\t1.65298e-05\t1.65298e-05\t1\t0\n",
      "26\t8.05517e-07\t2.88819e-05\t2.88819e-05\t1\t0\n",
      "27\t8.05123e-07\t2.69007e-06\t2.69007e-06\t1\t0\n",
      "28\t8.05067e-07\t3.71026e-06\t3.71026e-06\t1\t0\n",
      "29\t8.05058e-07\t1.45785e-07\t1.45785e-07\t1\t0\n",
      "30\t8.05058e-07\t2.43514e-08\t2.43514e-08\t1\t0\n",
      "31\t8.05058e-07\t6.20589e-12\t6.20589e-12\t1\t0\n"
     ]
    },
    {
     "data": {
      "text/plain": [
       "<py_newton_optimizer.ConvergenceReport at 0x12146b170>"
      ]
     },
     "execution_count": 14,
     "metadata": {},
     "output_type": "execute_result"
    }
   ],
   "source": [
    "elastic_rods.compute_equilibrium(curved_linkage, callback = eqm_callback, options = OPTS, fixedVars = fixed_boundary_joints)"
   ]
  },
  {
   "cell_type": "code",
   "execution_count": 15,
   "metadata": {},
   "outputs": [],
   "source": [
    "import structural_analysis"
   ]
  },
  {
   "cell_type": "code",
   "execution_count": 16,
   "metadata": {},
   "outputs": [],
   "source": [
    "cfm = structural_analysis.weavingCrossingForceMagnitudes(curved_linkage, True)"
   ]
  },
  {
   "cell_type": "code",
   "execution_count": 17,
   "metadata": {},
   "outputs": [
    {
     "data": {
      "text/plain": [
       "130"
      ]
     },
     "execution_count": 17,
     "metadata": {},
     "output_type": "execute_result"
    }
   ],
   "source": [
    "cfm[:, 0].argsort()[-1]"
   ]
  },
  {
   "cell_type": "code",
   "execution_count": 18,
   "metadata": {},
   "outputs": [
    {
     "data": {
      "text/plain": [
       "1.41495557034462e-07"
      ]
     },
     "execution_count": 18,
     "metadata": {},
     "output_type": "execute_result"
    }
   ],
   "source": [
    "max(cfm[:, 0])"
   ]
  },
  {
   "cell_type": "markdown",
   "metadata": {},
   "source": [
    "### Deactivate Crossing"
   ]
  },
  {
   "cell_type": "code",
   "execution_count": 19,
   "metadata": {},
   "outputs": [],
   "source": [
    "import deactivate_crossing_helper\n",
    "importlib.reload(deactivate_crossing_helper)\n",
    "from deactivate_crossing_helper import (write_deactivated_linkage, copy_over_under, get_segment_index_from_joints, get_angle_from_kappa, get_kappa_from_angle, no_resample_deactivation, resample_deactivation, get_neighbors)"
   ]
  },
  {
   "cell_type": "code",
   "execution_count": 20,
   "metadata": {},
   "outputs": [],
   "source": [
    "def create_deactivated_linkage(original_linkage, deactive_index, original_model_name, deactivated_model_name):\n",
    "    ju = original_linkage.joint(deactive_index)\n",
    "    nbs = ju.neighbors()\n",
    "    print('neighbors: ', nbs)\n",
    "    deactive_vertex_map = [i if i < deactive_index else i - 1 for i in range(original_linkage.numJoints())]\n",
    "    write_deactivated_linkage(original_model_name, deactivated_model_name, deactive_index, deactive_vertex_map, nbs)\n",
    "    \n",
    "    with so(): deactivate_curved_linkage = initialize_linkage(surface_path = io.SURFACE_PATH, useCenterline = True, model_path = deactivated_model_name, cross_section = io.RIBBON_CS, subdivision_res = io.SUBDIVISION_RESOLUTION, interleaving_type=elastic_rods.InterleavingType.weaving)\n",
    "    deactivate_curved_linkage.set_design_parameter_config(use_restLen = True, use_restKappa = True)\n",
    "    curved_save_tgt_joint_pos = deactivate_curved_linkage.jointPositions();\n",
    "    deactivate_curved_linkage.attraction_weight = 1e-5\n",
    "\n",
    "#     Copy the over under assignment from the original model since BFS will not find a perfect over under in the new topology\n",
    "    copy_over_under(deactivate_curved_linkage, original_linkage, deactive_vertex_map, deactive_index)\n",
    "    vf = show_selected_joints(deactivate_curved_linkage, [deactive_vertex_map[12], deactive_vertex_map[258]])\n",
    "    deactivate_curved_linkage.setDoFs(deactivate_curved_linkage.getDoFs())\n",
    "\n",
    "    resample_deactivation(deactivate_curved_linkage, original_linkage, deactive_vertex_map, nbs, deactive_index, io)\n",
    "    return deactivate_curved_linkage, deactive_vertex_map"
   ]
  },
  {
   "cell_type": "code",
   "execution_count": 21,
   "metadata": {},
   "outputs": [],
   "source": [
    "deactive_index = 130"
   ]
  },
  {
   "cell_type": "code",
   "execution_count": 22,
   "metadata": {},
   "outputs": [],
   "source": [
    "deactivated_model_name = ('/'.join(io.MODEL_PATH.split('/')[:-1] + [io.MODEL_NAME + '_deactive_joint_{}.obj'.format(deactive_index)]))"
   ]
  },
  {
   "cell_type": "code",
   "execution_count": 23,
   "metadata": {},
   "outputs": [
    {
     "name": "stdout",
     "output_type": "stream",
     "text": [
      "neighbors:  [302, 129, 301, 131]\n",
      "928\n",
      "929\n"
     ]
    }
   ],
   "source": [
    "deactivate_linkage, deactive_vertex_map = create_deactivated_linkage(curved_linkage, deactive_index, io.MODEL_PATH, deactivated_model_name)"
   ]
  },
  {
   "cell_type": "code",
   "execution_count": 24,
   "metadata": {},
   "outputs": [
    {
     "data": {
      "application/vnd.jupyter.widget-view+json": {
       "model_id": "8e58e11c8f9b499aabe2864ece2ad5eb",
       "version_major": 2,
       "version_minor": 0
      },
      "text/plain": [
       "Renderer(camera=PerspectiveCamera(children=(PointLight(color='#999999', position=(0.0, 0.0, 5.0), quaternion=(…"
      ]
     },
     "metadata": {},
     "output_type": "display_data"
    }
   ],
   "source": [
    "deactivate_curved_linkage_view = linkage_vis.LinkageViewer(deactivate_linkage)\n",
    "deactivate_curved_linkage_view.show()"
   ]
  },
  {
   "cell_type": "code",
   "execution_count": 25,
   "metadata": {},
   "outputs": [],
   "source": [
    "topColor =[150/255., 150/255., 150/255.]\n",
    "bottomColor =[79/255., 158/255., 246/255.]\n",
    "heights = deactivate_linkage.visualizationGeometryHeightColors()\n",
    "colors = np.take(np.array([bottomColor, topColor]), heights < heights.mean(), axis=0)"
   ]
  },
  {
   "cell_type": "code",
   "execution_count": 26,
   "metadata": {},
   "outputs": [],
   "source": [
    "deactivate_curved_linkage_view.update(scalarField = colors)"
   ]
  },
  {
   "cell_type": "code",
   "execution_count": 27,
   "metadata": {},
   "outputs": [],
   "source": [
    "deactivate_fixed_boundary_joints = get_fixed_boundary_joint(deactivate_linkage)"
   ]
  },
  {
   "cell_type": "code",
   "execution_count": 28,
   "metadata": {},
   "outputs": [],
   "source": [
    "def eqm_callback(prob, i):\n",
    "    deactivate_curved_linkage_view.update()"
   ]
  },
  {
   "cell_type": "code",
   "execution_count": 29,
   "metadata": {
    "scrolled": true
   },
   "outputs": [
    {
     "name": "stdout",
     "output_type": "stream",
     "text": [
      "0\t0.00217072\t0.408541\t0.408541\t1\t1\n",
      "1\t0.00162877\t0.108388\t0.108388\t1\t1\n",
      "2\t0.00144461\t0.0567587\t0.0567587\t1\t1\n",
      "3\t0.00139333\t0.046977\t0.046977\t1\t1\n",
      "4\t0.00132413\t0.0381046\t0.0381046\t1\t1\n",
      "5\t0.00129622\t0.0350669\t0.0350669\t1\t1\n",
      "6\t0.00125054\t0.0311663\t0.0311663\t1\t1\n",
      "7\t0.00123039\t0.0296128\t0.0296128\t1\t1\n",
      "8\t0.00119486\t0.027345\t0.027345\t1\t1\n",
      "9\t0.00117858\t0.0263636\t0.0263636\t1\t1\n",
      "10\t0.00114897\t0.0248146\t0.0248146\t1\t1\n",
      "11\t0.00113514\t0.0241265\t0.0241265\t1\t1\n",
      "12\t0.00110929\t0.0230471\t0.0230471\t1\t1\n",
      "13\t0.00109693\t0.0225693\t0.0225693\t1\t1\n",
      "14\t0.00107314\t0.0217998\t0.0217998\t1\t1\n",
      "15\t0.00102979\t0.0202731\t0.0202731\t1\t1\n",
      "16\t0.00101095\t0.0195204\t0.0195204\t1\t1\n",
      "17\t0.00097622\t0.018551\t0.018551\t1\t1\n",
      "18\t0.000959835\t0.0181133\t0.0181133\t1\t1\n",
      "19\t0.000928335\t0.0174367\t0.0174367\t1\t1\n",
      "20\t0.00091358\t0.0170254\t0.0170254\t1\t1\n",
      "21\t0.000886266\t0.0162482\t0.0162482\t1\t1\n",
      "22\t0.000841748\t0.0191728\t0.0191728\t1\t1\n",
      "23\t0.000816493\t0.0151034\t0.0151034\t1\t1\n",
      "24\t0.000776865\t0.0138195\t0.0138195\t1\t1\n",
      "25\t0.000758882\t0.0133094\t0.0133094\t1\t1\n",
      "26\t0.000726187\t0.0126359\t0.0126359\t1\t1\n",
      "27\t0.000667921\t0.0122184\t0.0122184\t1\t1\n",
      "28\t0.000643086\t0.0109532\t0.0109532\t1\t1\n",
      "29\t0.000600774\t0.0102468\t0.0102468\t1\t1\n",
      "30\t0.000581815\t0.00958344\t0.00958344\t1\t1\n",
      "31\t0.000548239\t0.00900051\t0.00900051\t1\t1\n",
      "32\t0.000532857\t0.00858385\t0.00858385\t1\t1\n",
      "33\t0.000504965\t0.00821245\t0.00821245\t1\t1\n",
      "34\t0.000459144\t0.011063\t0.011063\t1\t1\n",
      "35\t0.000438904\t0.00676622\t0.00676622\t1\t1\n",
      "36\t0.000406294\t0.00674035\t0.00674035\t1\t1\n",
      "37\t0.000358626\t0.0123395\t0.0123395\t1\t1\n",
      "38\t0.00033769\t0.00483649\t0.00483649\t1\t1\n",
      "39\t0.000306679\t0.00579878\t0.00579878\t1\t1\n",
      "40\t0.00026372\t0.00925474\t0.00925474\t1\t1\n",
      "41\t0.000245476\t0.00346099\t0.00346099\t1\t1\n",
      "42\t0.000218849\t0.00639121\t0.00639121\t1\t1\n",
      "43\t0.000183575\t0.0103549\t0.0103549\t1\t1\n",
      "44\t0.000168284\t0.0137408\t0.0137408\t1\t1\n",
      "45\t0.000166214\t0.00278797\t0.00278797\t1\t1\n",
      "46\t0.00016287\t0.00186222\t0.00186222\t1\t1\n",
      "47\t0.000156802\t0.00182507\t0.00182507\t1\t1\n",
      "48\t0.000146408\t0.00203363\t0.00203363\t1\t1\n",
      "49\t0.000130206\t0.00295264\t0.00295264\t1\t1\n",
      "50\t0.000107868\t0.00472955\t0.00472955\t1\t1\n",
      "51\t8.18481e-05\t0.0069877\t0.0069877\t1\t1\n",
      "52\t7.08555e-05\t0.00291447\t0.00291447\t0.5\t1\n",
      "53\t6.90318e-05\t0.0132604\t0.0132604\t1\t1\n",
      "54\t6.82952e-05\t0.000953005\t0.000953005\t1\t1\n",
      "55\t6.79327e-05\t0.000846207\t0.000846207\t1\t1\n",
      "56\t6.73222e-05\t0.0007951\t0.0007951\t1\t1\n",
      "57\t6.61945e-05\t0.000757021\t0.000757021\t1\t1\n",
      "58\t6.41117e-05\t0.000735932\t0.000735932\t1\t1\n",
      "59\t6.04195e-05\t0.000798367\t0.000798367\t1\t1\n",
      "60\t5.43669e-05\t0.00113617\t0.00113617\t1\t1\n",
      "61\t4.56411e-05\t0.00197863\t0.00197863\t1\t1\n",
      "62\t3.49604e-05\t0.00248258\t0.00248258\t1\t1\n",
      "63\t2.40976e-05\t0.00300926\t0.00300926\t1\t1\n",
      "64\t1.7327e-05\t0.00547739\t0.00547739\t1\t1\n",
      "65\t1.51525e-05\t0.000650754\t0.000650754\t1\t1\n",
      "66\t1.45884e-05\t0.000345347\t0.000345347\t1\t1\n",
      "67\t1.41212e-05\t0.000239215\t0.000239215\t1\t1\n",
      "68\t1.35438e-05\t0.000207232\t0.000207232\t1\t1\n",
      "69\t1.26754e-05\t0.000250382\t0.000250382\t1\t1\n",
      "70\t1.13752e-05\t0.000389133\t0.000389133\t1\t1\n",
      "71\t9.61803e-06\t0.000592807\t0.000592807\t1\t1\n",
      "72\t7.58736e-06\t0.000772409\t0.000772409\t1\t1\n",
      "73\t5.65456e-06\t0.000965283\t0.000965283\t1\t1\n",
      "74\t4.06105e-06\t0.000860844\t0.000860844\t1\t1\n",
      "75\t3.14947e-06\t0.00203519\t0.00203519\t1\t1\n",
      "76\t2.7653e-06\t0.0001859\t0.0001859\t1\t1\n",
      "77\t2.70611e-06\t7.79579e-05\t7.79579e-05\t1\t1\n",
      "78\t2.66284e-06\t5.05981e-05\t5.05981e-05\t1\t1\n",
      "79\t2.6188e-06\t3.79349e-05\t3.79349e-05\t1\t1\n",
      "80\t2.56312e-06\t3.44462e-05\t3.44462e-05\t1\t1\n",
      "81\t2.48128e-06\t4.05354e-05\t4.05354e-05\t1\t1\n",
      "82\t2.3563e-06\t5.65638e-05\t5.65638e-05\t1\t1\n",
      "83\t2.17049e-06\t7.90208e-05\t7.90208e-05\t1\t1\n",
      "84\t1.90911e-06\t0.000117548\t0.000117548\t1\t1\n",
      "85\t1.57686e-06\t0.000185929\t0.000185929\t1\t1\n",
      "86\t1.23393e-06\t0.000247821\t0.000247821\t1\t1\n",
      "87\t9.99444e-07\t0.000281834\t0.000281834\t1\t1\n",
      "88\t8.86493e-07\t0.000168472\t0.000168472\t1\t1\n",
      "89\t8.39799e-07\t0.000157098\t0.000157098\t1\t0\n",
      "90\t8.18196e-07\t0.000159091\t0.000159091\t1\t0\n",
      "91\t8.05878e-07\t2.2336e-05\t2.2336e-05\t1\t0\n",
      "92\t8.05108e-07\t8.24601e-06\t8.24601e-06\t1\t0\n",
      "93\t8.0502e-07\t1.84175e-06\t1.84175e-06\t1\t0\n",
      "94\t8.05018e-07\t7.09231e-08\t7.09231e-08\t1\t0\n",
      "95\t8.05018e-07\t8.05637e-10\t8.05637e-10\t1\t0\n"
     ]
    },
    {
     "data": {
      "text/plain": [
       "<py_newton_optimizer.ConvergenceReport at 0x1238d6c70>"
      ]
     },
     "execution_count": 29,
     "metadata": {},
     "output_type": "execute_result"
    }
   ],
   "source": [
    "elastic_rods.compute_equilibrium(deactivate_linkage, callback = eqm_callback, options = OPTS, fixedVars = deactivate_fixed_boundary_joints)"
   ]
  },
  {
   "cell_type": "code",
   "execution_count": 30,
   "metadata": {},
   "outputs": [],
   "source": [
    "vf = show_selected_joints(deactivate_linkage, [deactive_vertex_map[302], deactive_vertex_map[301], deactive_vertex_map[129], deactive_vertex_map[131]])\n",
    "deactivate_curved_linkage_view.update(vectorField = vf, scalarField = colors)"
   ]
  },
  {
   "cell_type": "code",
   "execution_count": null,
   "metadata": {},
   "outputs": [],
   "source": []
  }
 ],
 "metadata": {
  "kernelspec": {
   "display_name": "Python 3",
   "language": "python",
   "name": "python3"
  },
  "language_info": {
   "codemirror_mode": {
    "name": "ipython",
    "version": 3
   },
   "file_extension": ".py",
   "mimetype": "text/x-python",
   "name": "python",
   "nbconvert_exporter": "python",
   "pygments_lexer": "ipython3",
   "version": "3.7.9"
  }
 },
 "nbformat": 4,
 "nbformat_minor": 4
}
