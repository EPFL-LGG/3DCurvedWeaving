{
 "cells": [
  {
   "cell_type": "code",
   "execution_count": 1,
   "metadata": {},
   "outputs": [],
   "source": [
    "elastic_rods_dir = '../../../../elastic_rods/python/'\n",
    "weaving_dir = '../../../'\n",
    "import os\n",
    "import os.path as osp\n",
    "import sys; sys.path.append(elastic_rods_dir); sys.path.append(weaving_dir)\n",
    "import numpy as np, elastic_rods, linkage_vis\n",
    "import numpy.linalg as la\n",
    "from bending_validation import suppress_stdout as so\n",
    "import matplotlib.pyplot as plt\n",
    "from elastic_rods import EnergyType, InterleavingType\n",
    "\n",
    "# weaving\n",
    "import analysis_helper, ribbon_linkage_helper, mesh_vis, linkage_utils, compute_curve_from_curvature, pipeline_helper, importlib\n",
    "importlib.reload(analysis_helper)\n",
    "importlib.reload(ribbon_linkage_helper)\n",
    "importlib.reload(mesh_vis)\n",
    "importlib.reload(linkage_utils)\n",
    "importlib.reload(compute_curve_from_curvature)\n",
    "importlib.reload(pipeline_helper)\n",
    "from analysis_helper import (compare_turning_angle,\n",
    "                            is_on_sphere, \n",
    "                            get_distance_to_center_scalar_field, \n",
    "                            plot_curvatures, \n",
    "                            get_curvature_scalar_field,\n",
    "                            construct_elastic_rod_loop_from_rod_segments, \n",
    "                            concatenate_rod_properties_from_rod_segments, \n",
    "                            compute_min_distance_rigid_transformation)\n",
    "from ribbon_linkage_helper import (update_rest_curvature, \n",
    "                                   set_ribbon_linkage,\n",
    "                                   export_linkage_geometry_to_obj,\n",
    "                                   write_linkage_ribbon_output_florin)\n",
    "\n",
    "from compute_curve_from_curvature import (match_geo_curvature_and_edge_len, get_all_curve_pattern)\n",
    "from linkage_utils import order_segments_by_ribbons, get_turning_angle_and_length_from_ordered_rods\n",
    "\n",
    "from pipeline_helper import (initialize_linkage, get_normal_deviation, set_joint_vector_field, stage_1_optimization, initialize_stage_2_optimizer, stage_2_optimization, InputOrganizer, write_all_output, set_surface_view_options, get_structure_analysis_view, get_max_distance_to_target_surface, contact_optimization, show_selected_joints, get_fixed_boundary_joint)\n",
    "\n",
    "import vis.fields\n",
    "import matplotlib.cm as cm\n",
    "import time"
   ]
  },
  {
   "cell_type": "code",
   "execution_count": 2,
   "metadata": {},
   "outputs": [],
   "source": [
    "import parallelism\n",
    "parallelism.set_max_num_tbb_threads(12)\n",
    "parallelism.set_hessian_assembly_num_threads(4)\n",
    "parallelism.set_gradient_assembly_num_threads(4)"
   ]
  },
  {
   "cell_type": "code",
   "execution_count": 3,
   "metadata": {},
   "outputs": [
    {
     "name": "stdout",
     "output_type": "stream",
     "text": [
      "0.033273539253433904 0.0023291477477403733\n"
     ]
    }
   ],
   "source": [
    "rod_length = 0.09982061776030171\n",
    "width = rod_length / 15 * 5\n",
    "thickness = width / 5 * 0.35\n",
    "print(width, thickness)\n",
    "io = InputOrganizer('chicago_bean_1', thickness, width, weaving_dir)"
   ]
  },
  {
   "cell_type": "code",
   "execution_count": 4,
   "metadata": {},
   "outputs": [],
   "source": [
    "import py_newton_optimizer\n",
    "# Optimization parameters.\n",
    "OPTS = py_newton_optimizer.NewtonOptimizerOptions()\n",
    "OPTS.gradTol = 1e-8\n",
    "OPTS.verbose = 1;\n",
    "OPTS.beta = 1e-8\n",
    "OPTS.niter = 200\n",
    "OPTS.verboseNonPosDef = False\n",
    "rw = 0.01\n",
    "sw = 10\n",
    "drw = 0.01\n",
    "dsw = 0.1"
   ]
  },
  {
   "cell_type": "code",
   "execution_count": 21,
   "metadata": {},
   "outputs": [
    {
     "data": {
      "application/vnd.jupyter.widget-view+json": {
       "model_id": "ab6f85fb4b044270bdf0eb0cab6c4fd9",
       "version_major": 2,
       "version_minor": 0
      },
      "text/plain": [
       "Renderer(camera=PerspectiveCamera(children=(PointLight(color='#999999', position=(0.0, 0.0, 5.0), quaternion=(…"
      ]
     },
     "metadata": {},
     "output_type": "display_data"
    }
   ],
   "source": [
    "with so(): curved_linkage = initialize_linkage(surface_path = io.SURFACE_PATH, useCenterline = True, model_path = io.MODEL_PATH, cross_section = io.RIBBON_CS, subdivision_res = io.SUBDIVISION_RESOLUTION, use_constant_width=True)\n",
    "curved_linkage.set_design_parameter_config(use_restLen = True, use_restKappa = True)\n",
    "curved_save_tgt_joint_pos = curved_linkage.jointPositions();\n",
    "curved_linkage_view = linkage_vis.LinkageViewerWithSurface(curved_linkage, io.SURFACE_PATH)\n",
    "set_surface_view_options(curved_linkage_view)\n",
    "curved_linkage_view.show()"
   ]
  },
  {
   "cell_type": "code",
   "execution_count": 22,
   "metadata": {},
   "outputs": [],
   "source": [
    "curved_linkage.setExtendedDoFsPSRL(np.load('../results/chicago_bean_1/chicago_bean_1_dof.npy'))"
   ]
  },
  {
   "cell_type": "code",
   "execution_count": 23,
   "metadata": {},
   "outputs": [],
   "source": [
    "curved_linkage.attraction_weight = 1e-5"
   ]
  },
  {
   "cell_type": "code",
   "execution_count": 24,
   "metadata": {},
   "outputs": [],
   "source": [
    "def eqm_callback(prob, i):\n",
    "    curved_linkage_view.update()"
   ]
  },
  {
   "cell_type": "code",
   "execution_count": 25,
   "metadata": {},
   "outputs": [],
   "source": [
    "OPTS.niter = 10000"
   ]
  },
  {
   "cell_type": "code",
   "execution_count": 26,
   "metadata": {
    "scrolled": true
   },
   "outputs": [
    {
     "name": "stdout",
     "output_type": "stream",
     "text": [
      "0\t0.00132938\t1.13898\t1.13898\t1\t1\n",
      "1\t0.000119252\t0.0882615\t0.0882615\t1\t1\n",
      "2\t6.5597e-05\t0.0218381\t0.0218381\t1\t1\n",
      "3\t5.01577e-05\t0.0101792\t0.0101792\t1\t1\n",
      "4\t4.00166e-05\t0.00504941\t0.00504941\t1\t1\n",
      "5\t3.23147e-05\t0.00261929\t0.00261929\t1\t1\n",
      "6\t2.6659e-05\t0.00163259\t0.00163259\t1\t1\n",
      "7\t2.29063e-05\t0.00118908\t0.00118908\t1\t1\n",
      "8\t2.08599e-05\t0.000761262\t0.000761262\t1\t1\n",
      "9\t1.99962e-05\t0.000440798\t0.000440798\t1\t1\n",
      "10\t1.96971e-05\t0.00025751\t0.00025751\t1\t1\n",
      "11\t1.95991e-05\t0.00013312\t0.00013312\t1\t1\n",
      "12\t1.95659e-05\t5.8547e-05\t5.8547e-05\t1\t1\n",
      "13\t1.95539e-05\t2.34526e-05\t2.34526e-05\t1\t1\n",
      "14\t1.95491e-05\t8.43537e-06\t8.43537e-06\t1\t1\n",
      "15\t1.95467e-05\t3.61873e-06\t3.61873e-06\t1\t1\n",
      "16\t1.95447e-05\t3.23919e-06\t3.23919e-06\t1\t1\n",
      "17\t1.95426e-05\t3.03426e-06\t3.03426e-06\t1\t1\n",
      "18\t1.95402e-05\t2.85087e-06\t2.85087e-06\t1\t1\n",
      "19\t1.95376e-05\t3.20675e-06\t3.20675e-06\t1\t1\n",
      "20\t1.95352e-05\t4.23383e-06\t4.23383e-06\t1\t1\n",
      "21\t1.95333e-05\t4.77128e-06\t4.77128e-06\t1\t1\n",
      "22\t1.95322e-05\t3.22027e-06\t3.22027e-06\t1\t0\n",
      "23\t1.95275e-05\t0.000732478\t0.000732478\t1\t0\n",
      "24\t1.95234e-05\t3.58005e-07\t3.58005e-07\t0.5\t0\n",
      "25\t1.95234e-05\t2.97899e-06\t2.97899e-06\t1\t0\n",
      "26\t1.95234e-05\t2.98175e-08\t2.98175e-08\t0.5\t0\n",
      "27\t1.95234e-05\t1.05543e-06\t1.05543e-06\t1\t0\n",
      "28\t1.95234e-05\t4.94309e-08\t4.94309e-08\t0.5\t0\n",
      "29\t1.95234e-05\t2.14261e-07\t2.14261e-07\t1\t0\n",
      "30\t1.95234e-05\t1.02213e-07\t1.02213e-07\t1\t0\n",
      "31\t1.95234e-05\t4.51659e-08\t4.51659e-08\t1\t0\n",
      "32\t1.95234e-05\t6.70688e-09\t6.70688e-09\t1\t0\n"
     ]
    },
    {
     "data": {
      "text/plain": [
       "<py_newton_optimizer.ConvergenceReport at 0x127254a70>"
      ]
     },
     "execution_count": 26,
     "metadata": {},
     "output_type": "execute_result"
    }
   ],
   "source": [
    "elastic_rods.compute_equilibrium(curved_linkage, callback = eqm_callback, options = OPTS)"
   ]
  },
  {
   "cell_type": "code",
   "execution_count": 27,
   "metadata": {},
   "outputs": [],
   "source": [
    "import structural_analysis"
   ]
  },
  {
   "cell_type": "code",
   "execution_count": 28,
   "metadata": {},
   "outputs": [],
   "source": [
    "cfm = structural_analysis.weavingCrossingForceMagnitudes(curved_linkage, True)"
   ]
  },
  {
   "cell_type": "code",
   "execution_count": 45,
   "metadata": {},
   "outputs": [
    {
     "data": {
      "text/plain": [
       "88"
      ]
     },
     "execution_count": 45,
     "metadata": {},
     "output_type": "execute_result"
    }
   ],
   "source": [
    "cfm[:, 0].argsort()[-2]"
   ]
  },
  {
   "cell_type": "code",
   "execution_count": 30,
   "metadata": {},
   "outputs": [
    {
     "data": {
      "text/plain": [
       "1.0137817204843287e-06"
      ]
     },
     "execution_count": 30,
     "metadata": {},
     "output_type": "execute_result"
    }
   ],
   "source": [
    "max(cfm[:, 0])"
   ]
  },
  {
   "cell_type": "code",
   "execution_count": 44,
   "metadata": {},
   "outputs": [
    {
     "name": "stdout",
     "output_type": "stream",
     "text": [
      "Coefficient of Friction Percentiles 50, 75, 90:  0.4726834178837388 1.3150448513990678 2.753756161921686\n"
     ]
    },
    {
     "data": {
      "application/vnd.jupyter.widget-view+json": {
       "model_id": "b97fde0169e644a494df9ccd7c01b044",
       "version_major": 2,
       "version_minor": 0
      },
      "text/plain": [
       "HBox(children=(Renderer(camera=PerspectiveCamera(children=(PointLight(color='#999999', position=(0.0, 0.0, 5.0…"
      ]
     },
     "metadata": {},
     "output_type": "display_data"
    },
    {
     "data": {
      "image/png": "[encoded data removed]",
      "text/plain": [
       "<Figure size 1080x288 with 4 Axes>"
      ]
     },
     "metadata": {
      "needs_background": "light"
     },
     "output_type": "display_data"
    }
   ],
   "source": [
    "structure_view = get_structure_analysis_view(curved_linkage)\n",
    "structure_view.show()"
   ]
  },
  {
   "cell_type": "markdown",
   "metadata": {},
   "source": [
    "### Deactivate Crossing"
   ]
  },
  {
   "cell_type": "code",
   "execution_count": 31,
   "metadata": {},
   "outputs": [],
   "source": [
    "import deactivate_crossing_helper\n",
    "importlib.reload(deactivate_crossing_helper)\n",
    "from deactivate_crossing_helper import (write_deactivated_linkage, copy_over_under, get_segment_index_from_joints, get_angle_from_kappa, get_kappa_from_angle, no_resample_deactivation, resample_deactivation, get_neighbors)"
   ]
  },
  {
   "cell_type": "code",
   "execution_count": 32,
   "metadata": {},
   "outputs": [],
   "source": [
    "def create_deactivated_linkage(original_linkage, deactive_index, original_model_name, deactivated_model_name):\n",
    "    ju = original_linkage.joint(deactive_index)\n",
    "    nbs = ju.neighbors()\n",
    "    print('neighbors: ', nbs)\n",
    "    deactive_vertex_map = [i if i < deactive_index else i - 1 for i in range(original_linkage.numJoints())]\n",
    "    write_deactivated_linkage(original_model_name, deactivated_model_name, deactive_index, deactive_vertex_map, nbs)\n",
    "    \n",
    "    with so(): deactivate_curved_linkage = initialize_linkage(surface_path = io.SURFACE_PATH, useCenterline = True, model_path = deactivated_model_name, cross_section = io.RIBBON_CS, subdivision_res = io.SUBDIVISION_RESOLUTION, interleaving_type=elastic_rods.InterleavingType.weaving, use_constant_width=False)\n",
    "    deactivate_curved_linkage.set_design_parameter_config(use_restLen = True, use_restKappa = True)\n",
    "    curved_save_tgt_joint_pos = deactivate_curved_linkage.jointPositions();\n",
    "    deactivate_curved_linkage.attraction_weight = 1e-5\n",
    "\n",
    "#     Copy the over under assignment from the original model since BFS will not find a perfect over under in the new topology\n",
    "    copy_over_under(deactivate_curved_linkage, original_linkage, deactive_vertex_map, deactive_index)\n",
    "    vf = show_selected_joints(deactivate_curved_linkage, [deactive_vertex_map[12], deactive_vertex_map[258]])\n",
    "    deactivate_curved_linkage.setDoFs(deactivate_curved_linkage.getDoFs())\n",
    "\n",
    "    resample_deactivation(deactivate_curved_linkage, original_linkage, deactive_vertex_map, nbs, deactive_index, io)\n",
    "    return deactivate_curved_linkage, deactive_vertex_map"
   ]
  },
  {
   "cell_type": "code",
   "execution_count": 46,
   "metadata": {},
   "outputs": [],
   "source": [
    "deactive_index = 88"
   ]
  },
  {
   "cell_type": "code",
   "execution_count": 47,
   "metadata": {},
   "outputs": [],
   "source": [
    "deactivated_model_name = ('/'.join(io.MODEL_PATH.split('/')[:-1] + [io.MODEL_NAME + '_deactive_joint_{}.obj'.format(deactive_index)]))"
   ]
  },
  {
   "cell_type": "code",
   "execution_count": 48,
   "metadata": {},
   "outputs": [
    {
     "name": "stdout",
     "output_type": "stream",
     "text": [
      "neighbors:  [87, 293, 89, 323]\n",
      "740\n",
      "741\n"
     ]
    }
   ],
   "source": [
    "deactivate_linkage, deactive_vertex_map = create_deactivated_linkage(curved_linkage, deactive_index, io.MODEL_PATH, deactivated_model_name)"
   ]
  },
  {
   "cell_type": "code",
   "execution_count": 49,
   "metadata": {},
   "outputs": [
    {
     "data": {
      "application/vnd.jupyter.widget-view+json": {
       "model_id": "3f034301bf984c16aa8850d6a8808616",
       "version_major": 2,
       "version_minor": 0
      },
      "text/plain": [
       "Renderer(camera=PerspectiveCamera(children=(PointLight(color='#999999', position=(0.0, 0.0, 5.0), quaternion=(…"
      ]
     },
     "metadata": {},
     "output_type": "display_data"
    }
   ],
   "source": [
    "deactivate_curved_linkage_view = linkage_vis.LinkageViewer(deactivate_linkage)\n",
    "deactivate_curved_linkage_view.show()"
   ]
  },
  {
   "cell_type": "code",
   "execution_count": 50,
   "metadata": {},
   "outputs": [],
   "source": [
    "topColor =[150/255., 150/255., 150/255.]\n",
    "bottomColor =[79/255., 158/255., 246/255.]\n",
    "heights = deactivate_linkage.visualizationGeometryHeightColors()\n",
    "colors = np.take(np.array([bottomColor, topColor]), heights < heights.mean(), axis=0)"
   ]
  },
  {
   "cell_type": "code",
   "execution_count": 51,
   "metadata": {},
   "outputs": [],
   "source": [
    "deactivate_curved_linkage_view.update(scalarField = colors)"
   ]
  },
  {
   "cell_type": "code",
   "execution_count": 52,
   "metadata": {},
   "outputs": [],
   "source": [
    "deactivate_fixed_boundary_joints = get_fixed_boundary_joint(deactivate_linkage)"
   ]
  },
  {
   "cell_type": "code",
   "execution_count": 53,
   "metadata": {},
   "outputs": [],
   "source": [
    "def eqm_callback(prob, i):\n",
    "    deactivate_curved_linkage_view.update()"
   ]
  },
  {
   "cell_type": "code",
   "execution_count": 54,
   "metadata": {
    "scrolled": true
   },
   "outputs": [
    {
     "name": "stdout",
     "output_type": "stream",
     "text": [
      "0\t0.0244971\t4.121\t4.121\t1\t1\n",
      "1\t0.0119482\t0.76251\t0.76251\t1\t1\n",
      "2\t0.00968504\t0.277383\t0.277383\t1\t1\n",
      "3\t0.00830262\t0.15343\t0.15343\t1\t1\n",
      "4\t0.00786822\t0.126615\t0.126615\t1\t1\n",
      "5\t0.00724386\t0.10505\t0.10505\t1\t1\n",
      "6\t0.00699488\t0.0949598\t0.0949598\t1\t1\n",
      "7\t0.00658942\t0.0846814\t0.0846814\t1\t1\n",
      "8\t0.00641086\t0.0801317\t0.0801317\t1\t1\n",
      "9\t0.0060965\t0.0743099\t0.0743099\t1\t1\n",
      "10\t0.00558609\t0.069183\t0.069183\t1\t1\n",
      "11\t0.00536594\t0.062484\t0.062484\t1\t1\n",
      "12\t0.00497938\t0.0587313\t0.0587313\t1\t1\n",
      "13\t0.0048039\t0.0555089\t0.0555089\t1\t1\n",
      "14\t0.00449161\t0.0526234\t0.0526234\t1\t1\n",
      "15\t0.00435037\t0.049903\t0.049903\t1\t1\n",
      "16\t0.00409885\t0.0473441\t0.0473441\t1\t1\n",
      "17\t0.00398425\t0.0452007\t0.0452007\t1\t1\n",
      "18\t0.0037768\t0.0431565\t0.0431565\t1\t1\n",
      "19\t0.00342165\t0.0445962\t0.0445962\t1\t1\n",
      "20\t0.00327305\t0.0363522\t0.0363522\t1\t1\n",
      "21\t0.00302221\t0.0373423\t0.0373423\t1\t1\n",
      "22\t0.00291221\t0.0314473\t0.0314473\t1\t1\n",
      "23\t0.00272225\t0.0305702\t0.0305702\t1\t1\n",
      "24\t0.00242703\t0.0385306\t0.0385306\t1\t1\n",
      "25\t0.00230382\t0.023502\t0.023502\t1\t1\n",
      "26\t0.0021057\t0.0224694\t0.0224694\t1\t1\n",
      "27\t0.00181513\t0.0372247\t0.0372247\t1\t1\n",
      "28\t0.00148965\t0.151185\t0.151185\t1\t1\n",
      "29\t0.0014423\t0.0196218\t0.0196218\t1\t1\n",
      "30\t0.00141525\t0.0139845\t0.0139845\t1\t1\n",
      "31\t0.00137681\t0.0125603\t0.0125603\t1\t1\n",
      "32\t0.00131283\t0.0117545\t0.0117545\t1\t1\n",
      "33\t0.0012061\t0.0136275\t0.0136275\t1\t1\n",
      "34\t0.00104871\t0.0387587\t0.0387587\t1\t1\n",
      "35\t0.000866692\t0.0839319\t0.0839319\t1\t1\n",
      "36\t0.000829051\t0.00987244\t0.00987244\t1\t1\n",
      "37\t0.000790698\t0.00898689\t0.00898689\t1\t1\n",
      "38\t0.000729688\t0.0124904\t0.0124904\t1\t1\n",
      "39\t0.000641428\t0.0149259\t0.0149259\t1\t1\n",
      "40\t0.000532011\t0.020496\t0.020496\t1\t1\n",
      "41\t0.000434119\t0.0366348\t0.0366348\t1\t1\n",
      "42\t0.000370387\t0.00732296\t0.00732296\t1\t1\n",
      "43\t0.000316036\t0.0194019\t0.0194019\t1\t1\n",
      "44\t0.000254543\t0.013729\t0.013729\t1\t1\n",
      "45\t0.000236824\t0.0834602\t0.0834602\t1\t1\n",
      "46\t0.000201073\t0.00878917\t0.00878917\t1\t1\n",
      "47\t0.000194442\t0.00657521\t0.00657521\t1\t1\n",
      "48\t0.000190665\t0.00276023\t0.00276023\t1\t1\n",
      "49\t0.000187848\t0.00174679\t0.00174679\t1\t1\n",
      "50\t0.000184995\t0.00118439\t0.00118439\t1\t1\n",
      "51\t0.000180931\t0.00110851\t0.00110851\t1\t1\n",
      "52\t0.000174487\t0.0014242\t0.0014242\t1\t1\n",
      "53\t0.000164489\t0.00262538\t0.00262538\t1\t1\n",
      "54\t0.000150055\t0.00308162\t0.00308162\t1\t1\n",
      "55\t0.000131005\t0.0040448\t0.0040448\t1\t1\n",
      "56\t0.000108159\t0.00624655\t0.00624655\t1\t1\n",
      "57\t0.000103918\t0.00279188\t0.00279188\t1\t1\n",
      "58\t9.86797e-05\t0.00136131\t0.00136131\t1\t1\n",
      "59\t9.04316e-05\t0.00176284\t0.00176284\t1\t1\n",
      "60\t7.90174e-05\t0.00300857\t0.00300857\t1\t1\n",
      "61\t6.54743e-05\t0.00349465\t0.00349465\t1\t1\n",
      "62\t5.21255e-05\t0.0038149\t0.0038149\t1\t1\n",
      "63\t4.07001e-05\t0.00563779\t0.00563779\t1\t1\n",
      "64\t3.3045e-05\t0.0159063\t0.0159063\t1\t1\n",
      "65\t3.1438e-05\t0.010542\t0.010542\t1\t1\n",
      "66\t3.10764e-05\t0.000758038\t0.000758038\t1\t1\n",
      "67\t3.08126e-05\t0.000342368\t0.000342368\t1\t1\n",
      "68\t3.04689e-05\t0.000153099\t0.000153099\t1\t1\n",
      "69\t2.99396e-05\t0.000278354\t0.000278354\t1\t1\n",
      "70\t2.90856e-05\t0.000611931\t0.000611931\t1\t1\n",
      "71\t2.77854e-05\t0.0012217\t0.0012217\t1\t1\n",
      "72\t2.61455e-05\t0.00187681\t0.00187681\t1\t1\n",
      "73\t2.44913e-05\t0.00175611\t0.00175611\t1\t1\n",
      "74\t2.30046e-05\t0.0014625\t0.0014625\t1\t1\n",
      "75\t2.17043e-05\t0.000998426\t0.000998426\t1\t1\n",
      "76\t2.06618e-05\t0.000854937\t0.000854937\t1\t0\n",
      "77\t2.02161e-05\t0.00240831\t0.00240831\t1\t0\n",
      "78\t1.96092e-05\t0.000161904\t0.000161904\t1\t0\n",
      "79\t1.95581e-05\t0.000549942\t0.000549942\t1\t0\n",
      "80\t1.95305e-05\t3.71392e-05\t3.71392e-05\t1\t0\n",
      "81\t1.95285e-05\t0.000342688\t0.000342688\t1\t0\n",
      "82\t1.95251e-05\t2.56291e-06\t2.56291e-06\t0.25\t0\n",
      "83\t1.95251e-05\t2.00393e-05\t2.00393e-05\t1\t0\n",
      "84\t1.95251e-05\t4.39482e-07\t4.39482e-07\t0.125\t0\n",
      "85\t1.95251e-05\t6.64882e-06\t6.64882e-06\t1\t0\n",
      "86\t1.95251e-05\t9.22847e-07\t9.22847e-07\t0.25\t0\n",
      "87\t1.95251e-05\t2.73647e-06\t2.73647e-06\t1\t0\n",
      "88\t1.95251e-05\t4.24172e-06\t4.24172e-06\t1\t0\n",
      "89\t1.95251e-05\t1.6466e-06\t1.6466e-06\t0.5\t0\n",
      "90\t1.95251e-05\t2.96808e-06\t2.96808e-06\t1\t0\n",
      "91\t1.95251e-05\t2.60795e-06\t2.60795e-06\t1\t0\n",
      "92\t1.95251e-05\t2.91134e-06\t2.91134e-06\t1\t0\n",
      "93\t1.95251e-05\t2.03585e-06\t2.03585e-06\t1\t0\n",
      "94\t1.95251e-05\t3.45483e-06\t3.45483e-06\t1\t0\n",
      "95\t1.95251e-05\t1.0674e-06\t1.0674e-06\t0.5\t0\n",
      "96\t1.95251e-05\t2.53689e-06\t2.53689e-06\t1\t0\n",
      "97\t1.95251e-05\t1.44135e-06\t1.44135e-06\t1\t0\n",
      "98\t1.95251e-05\t3.50045e-06\t3.50045e-06\t1\t0\n",
      "99\t1.95251e-05\t5.26729e-07\t5.26729e-07\t0.5\t0\n",
      "100\t1.95251e-05\t3.46534e-06\t3.46534e-06\t1\t0\n",
      "101\t1.95251e-05\t3.6039e-07\t3.6039e-07\t0.25\t0\n",
      "102\t1.95251e-05\t1.20901e-06\t1.20901e-06\t1\t0\n",
      "103\t1.95251e-05\t1.85148e-06\t1.85148e-06\t1\t0\n",
      "104\t1.95251e-05\t6.67228e-07\t6.67228e-07\t0.5\t0\n",
      "105\t1.95251e-05\t1.12097e-06\t1.12097e-06\t1\t0\n",
      "106\t1.95251e-05\t1.06351e-06\t1.06351e-06\t1\t0\n",
      "107\t1.95251e-05\t8.72013e-07\t8.72013e-07\t1\t0\n",
      "108\t1.95251e-05\t8.96262e-07\t8.96262e-07\t1\t0\n",
      "109\t1.95251e-05\t5.96968e-07\t5.96968e-07\t1\t0\n",
      "110\t1.95251e-05\t8.16504e-07\t8.16504e-07\t1\t0\n",
      "111\t1.95251e-05\t2.99689e-07\t2.99689e-07\t1\t0\n",
      "112\t1.95251e-05\t9.32688e-07\t9.32688e-07\t1\t0\n",
      "113\t1.95251e-05\t6.92734e-08\t6.92734e-08\t0.5\t0\n",
      "114\t1.95251e-05\t3.24284e-07\t3.24284e-07\t1\t0\n",
      "115\t1.95251e-05\t1.08592e-07\t1.08592e-07\t1\t0\n",
      "116\t1.95251e-05\t1.62211e-07\t1.62211e-07\t1\t0\n",
      "117\t1.95251e-05\t1.86801e-08\t1.86801e-08\t1\t0\n",
      "118\t1.95251e-05\t1.61922e-08\t1.61922e-08\t1\t0\n",
      "119\t1.95251e-05\t1.92111e-10\t1.92111e-10\t1\t0\n"
     ]
    },
    {
     "data": {
      "text/plain": [
       "<py_newton_optimizer.ConvergenceReport at 0x127ad6070>"
      ]
     },
     "execution_count": 54,
     "metadata": {},
     "output_type": "execute_result"
    }
   ],
   "source": [
    "elastic_rods.compute_equilibrium(deactivate_linkage, callback = eqm_callback, options = OPTS, fixedVars = deactivate_fixed_boundary_joints)"
   ]
  },
  {
   "cell_type": "code",
   "execution_count": 55,
   "metadata": {},
   "outputs": [],
   "source": [
    "vf = show_selected_joints(deactivate_linkage, [deactive_vertex_map[87], deactive_vertex_map[89], deactive_vertex_map[293], deactive_vertex_map[323]])\n",
    "deactivate_curved_linkage_view.update(vectorField = vf, scalarField = colors)"
   ]
  },
  {
   "cell_type": "code",
   "execution_count": null,
   "metadata": {},
   "outputs": [],
   "source": []
  }
 ],
 "metadata": {
  "kernelspec": {
   "display_name": "Python 3",
   "language": "python",
   "name": "python3"
  },
  "language_info": {
   "codemirror_mode": {
    "name": "ipython",
    "version": 3
   },
   "file_extension": ".py",
   "mimetype": "text/x-python",
   "name": "python",
   "nbconvert_exporter": "python",
   "pygments_lexer": "ipython3",
   "version": "3.7.9"
  }
 },
 "nbformat": 4,
 "nbformat_minor": 4
}
