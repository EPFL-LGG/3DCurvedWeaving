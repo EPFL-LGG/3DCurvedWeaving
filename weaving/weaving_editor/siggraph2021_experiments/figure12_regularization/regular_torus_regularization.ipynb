{
 "cells": [
  {
   "cell_type": "code",
   "execution_count": 2,
   "metadata": {},
   "outputs": [],
   "source": [
    "elastic_rods_dir = '../../../../elastic_rods/python/'\n",
    "weaving_dir = '../../../'\n",
    "import os\n",
    "import os.path as osp\n",
    "import sys; sys.path.append(elastic_rods_dir); sys.path.append(weaving_dir)\n",
    "import numpy as np, elastic_rods, linkage_vis\n",
    "import numpy.linalg as la\n",
    "from bending_validation import suppress_stdout as so\n",
    "import matplotlib.pyplot as plt\n",
    "from elastic_rods import EnergyType, InterleavingType\n",
    "\n",
    "# weaving\n",
    "import analysis_helper, ribbon_linkage_helper, mesh_vis, linkage_utils, compute_curve_from_curvature, pipeline_helper, importlib\n",
    "importlib.reload(analysis_helper)\n",
    "importlib.reload(ribbon_linkage_helper)\n",
    "importlib.reload(mesh_vis)\n",
    "importlib.reload(linkage_utils)\n",
    "importlib.reload(compute_curve_from_curvature)\n",
    "importlib.reload(pipeline_helper)\n",
    "from analysis_helper import (compare_turning_angle,\n",
    "                            is_on_sphere, \n",
    "                            get_distance_to_center_scalar_field, \n",
    "                            plot_curvatures, \n",
    "                            get_curvature_scalar_field,\n",
    "                            construct_elastic_rod_loop_from_rod_segments, \n",
    "                            concatenate_rod_properties_from_rod_segments, \n",
    "                            compute_min_distance_rigid_transformation)\n",
    "from ribbon_linkage_helper import (update_rest_curvature, \n",
    "                                   set_ribbon_linkage,\n",
    "                                   export_linkage_geometry_to_obj,\n",
    "                                   write_linkage_ribbon_output_florin)\n",
    "\n",
    "from compute_curve_from_curvature import (match_geo_curvature_and_edge_len, get_all_curve_pattern)\n",
    "from linkage_utils import order_segments_by_ribbons, get_turning_angle_and_length_from_ordered_rods\n",
    "\n",
    "from pipeline_helper import (initialize_linkage, get_normal_deviation, set_joint_vector_field, stage_1_optimization, initialize_stage_2_optimizer, stage_2_optimization, InputOrganizer, write_all_output, set_surface_view_options, get_structure_analysis_view, get_double_side_view)\n",
    "import vis.fields\n",
    "import matplotlib.cm as cm\n",
    "import time"
   ]
  },
  {
   "cell_type": "code",
   "execution_count": 3,
   "metadata": {},
   "outputs": [],
   "source": [
    "import parallelism\n",
    "parallelism.set_max_num_tbb_threads(12)\n",
    "parallelism.set_hessian_assembly_num_threads(4)\n",
    "parallelism.set_gradient_assembly_num_threads(4)"
   ]
  },
  {
   "cell_type": "code",
   "execution_count": 4,
   "metadata": {},
   "outputs": [
    {
     "name": "stdout",
     "output_type": "stream",
     "text": [
      "0.058550199777613166 0.004098513984432921\n"
     ]
    }
   ],
   "source": [
    "rod_length = 0.1756505993328395\n",
    "width = rod_length / 15 * 5\n",
    "thickness = width / 5 * 0.35\n",
    "print(width, thickness)\n",
    "io = InputOrganizer('regular_torus_1', thickness, width, weaving_dir)\n",
    "#  [ ear 396, ear 412, nose 497]"
   ]
  },
  {
   "cell_type": "code",
   "execution_count": 5,
   "metadata": {},
   "outputs": [],
   "source": [
    "import py_newton_optimizer\n",
    "OPTS = py_newton_optimizer.NewtonOptimizerOptions()\n",
    "OPTS.gradTol = 1e-8\n",
    "OPTS.verbose = 1;\n",
    "OPTS.beta = 1e-8\n",
    "OPTS.niter = 200\n",
    "OPTS.verboseNonPosDef = False\n",
    "rw = 1\n",
    "sw = 10\n",
    "drw = 0.1\n",
    "dsw = 0.1"
   ]
  },
  {
   "cell_type": "markdown",
   "metadata": {},
   "source": [
    "### No smoothing"
   ]
  },
  {
   "cell_type": "code",
   "execution_count": 6,
   "metadata": {},
   "outputs": [],
   "source": [
    "# # with so(): curved_linkage = initialize_linkage(surface_path = None, useCenterline = True, model_path = io.MODEL_PATH, cross_section = io.RIBBON_CS, subdivision_res = io.SUBDIVISION_RESOLUTION)\n",
    "# # curved_linkage.set_design_parameter_config(use_restLen = True, use_restKappa = True)\n",
    "# # curved_save_tgt_joint_pos = curved_linkage.jointPositions()\n",
    "# curved_linkage = pickle.load(gzip.open('mega_monster_optimization_diagram_results/', 'r'))\n",
    "# curved_linkage_view = linkage_vis.LinkageViewer(curved_linkage)\n",
    "# # set_surface_view_options(curved_linkage_view, linkage_color='lightgreen')\n",
    "# curved_linkage_view.show()"
   ]
  },
  {
   "cell_type": "code",
   "execution_count": 11,
   "metadata": {},
   "outputs": [
    {
     "data": {
      "application/vnd.jupyter.widget-view+json": {
       "model_id": "50f02e9cdcb348b1a419f41dae19b48e",
       "version_major": 2,
       "version_minor": 0
      },
      "text/plain": [
       "Renderer(camera=PerspectiveCamera(aspect=1.6, children=(PointLight(color='#999999', position=(0.0, 0.0, 5.0), …"
      ]
     },
     "metadata": {},
     "output_type": "display_data"
    }
   ],
   "source": [
    "with so(): curved_linkage = initialize_linkage(surface_path = io.SURFACE_PATH, useCenterline = True, model_path = io.MODEL_PATH, cross_section = io.RIBBON_CS, subdivision_res = io.SUBDIVISION_RESOLUTION)\n",
    "curved_linkage.set_design_parameter_config(use_restLen = True, use_restKappa = True)\n",
    "curved_save_tgt_joint_pos = curved_linkage.jointPositions();\n",
    "curved_linkage_view = get_double_side_view(curved_linkage)\n",
    "curved_linkage_view.show()"
   ]
  },
  {
   "cell_type": "code",
   "execution_count": 8,
   "metadata": {},
   "outputs": [],
   "source": [
    "curved_linkage.setExtendedDoFsPSRL(np.load(''))"
   ]
  },
  {
   "cell_type": "code",
   "execution_count": 9,
   "metadata": {},
   "outputs": [],
   "source": [
    "def eqm_callback(prob, i):\n",
    "    curved_linkage_view.update()"
   ]
  },
  {
   "cell_type": "code",
   "execution_count": 10,
   "metadata": {
    "scrolled": true
   },
   "outputs": [
    {
     "name": "stdout",
     "output_type": "stream",
     "text": [
      "0\t20.1228\t131.2\t131.2\t1\t1\n",
      "1\t16.1707\t79.5876\t79.5876\t1\t1\n",
      "2\t12.7987\t50.5771\t50.5771\t1\t1\n",
      "3\t9.96526\t33.5219\t33.5219\t1\t1\n",
      "4\t7.63404\t23.456\t23.456\t1\t1\n",
      "5\t5.69947\t16.8376\t16.8376\t1\t1\n",
      "6\t4.07128\t11.8759\t11.8759\t1\t1\n",
      "7\t2.6987\t7.89355\t7.89355\t1\t1\n",
      "8\t1.61085\t4.81085\t4.81085\t1\t1\n",
      "9\t0.852912\t2.71438\t2.71438\t1\t1\n",
      "10\t0.459773\t7.28032\t7.28032\t1\t1\n",
      "11\t0.407946\t3.73283\t3.73283\t1\t1\n",
      "12\t0.370034\t2.08488\t2.08488\t1\t1\n",
      "13\t0.332475\t1.49691\t1.49691\t1\t1\n",
      "14\t0.284118\t1.25015\t1.25015\t1\t1\n",
      "15\t0.222681\t1.04278\t1.04278\t1\t1\n",
      "16\t0.159551\t0.793759\t0.793759\t1\t1\n",
      "17\t0.10976\t0.533055\t0.533055\t1\t1\n",
      "18\t0.0788803\t0.32935\t0.32935\t0.0625\t1\n",
      "19\t0.078447\t0.665006\t0.665006\t0.25\t1\n",
      "20\t0.0766488\t0.435743\t0.435743\t1\t1\n",
      "21\t0.0696336\t0.250212\t0.250212\t1\t1\n",
      "22\t0.0625258\t0.201826\t0.201826\t1\t1\n",
      "23\t0.0566407\t0.334918\t0.334918\t1\t1\n",
      "24\t0.0558045\t0.116498\t0.116498\t1\t1\n",
      "25\t0.0548225\t0.103372\t0.103372\t1\t1\n",
      "26\t0.0533546\t0.0895471\t0.0895471\t1\t1\n",
      "27\t0.0513522\t0.0850402\t0.0850402\t1\t1\n",
      "28\t0.0505492\t0.067983\t0.067983\t1\t1\n",
      "29\t0.0492937\t0.120076\t0.120076\t1\t1\n",
      "30\t0.0480899\t0.682546\t0.682546\t1\t1\n",
      "31\t0.0476397\t0.0528747\t0.0528747\t1\t1\n",
      "32\t0.047538\t0.0436544\t0.0436544\t1\t1\n",
      "33\t0.0473653\t0.0407084\t0.0407084\t1\t1\n",
      "34\t0.0470585\t0.0380257\t0.0380257\t1\t1\n",
      "35\t0.0465313\t0.0349448\t0.0349448\t1\t1\n",
      "36\t0.0456891\t0.0368694\t0.0368694\t1\t1\n",
      "37\t0.0444299\t0.0605086\t0.0605086\t1\t1\n",
      "38\t0.0429214\t0.567999\t0.567999\t1\t1\n",
      "39\t0.0424685\t0.0689992\t0.0689992\t1\t1\n",
      "40\t0.0423741\t0.036039\t0.036039\t1\t1\n",
      "41\t0.0422811\t0.025334\t0.025334\t1\t1\n",
      "42\t0.0421476\t0.0204728\t0.0204728\t1\t1\n",
      "43\t0.0419168\t0.0181024\t0.0181024\t1\t1\n",
      "44\t0.0414797\t0.0170246\t0.0170246\t1\t1\n",
      "45\t0.0406171\t0.0226026\t0.0226026\t1\t1\n",
      "46\t0.0390153\t0.0533161\t0.0533161\t0.5\t1\n",
      "47\t0.037658\t0.257687\t0.257687\t0.25\t1\n",
      "48\t0.037579\t0.146782\t0.146782\t1\t1\n",
      "49\t0.0373164\t0.0277599\t0.0277599\t1\t1\n",
      "50\t0.0370243\t0.013834\t0.013834\t1\t1\n",
      "51\t0.0365771\t0.0109492\t0.0109492\t1\t1\n",
      "52\t0.0359934\t0.0106273\t0.0106273\t1\t1\n",
      "53\t0.0354094\t0.00988455\t0.00988455\t1\t1\n",
      "54\t0.0352175\t0.00530812\t0.00530812\t0.5\t1\n",
      "55\t0.0350563\t0.0299186\t0.0299186\t1\t1\n",
      "56\t0.0348925\t0.00571279\t0.00571279\t1\t1\n",
      "57\t0.0346839\t0.0156007\t0.0156007\t1\t1\n",
      "58\t0.0344166\t0.0490853\t0.0490853\t0.125\t1\n",
      "59\t0.034404\t0.171566\t0.171566\t1\t1\n",
      "60\t0.0343461\t0.0180173\t0.0180173\t1\t1\n",
      "61\t0.0343198\t0.0093191\t0.0093191\t1\t1\n",
      "62\t0.0342884\t0.00620922\t0.00620922\t1\t1\n",
      "63\t0.0342384\t0.00630299\t0.00630299\t1\t1\n",
      "64\t0.0341628\t0.00648972\t0.00648972\t1\t1\n",
      "65\t0.0340684\t0.00504551\t0.00504551\t1\t1\n",
      "66\t0.033961\t0.00470106\t0.00470106\t1\t1\n",
      "67\t0.0338441\t0.0219142\t0.0219142\t1\t1\n",
      "68\t0.0337734\t0.0274064\t0.0274064\t1\t1\n",
      "69\t0.0337144\t0.00595081\t0.00595081\t1\t1\n",
      "70\t0.0336937\t0.0026531\t0.0026531\t1\t1\n",
      "71\t0.0336707\t0.00213887\t0.00213887\t1\t1\n",
      "72\t0.0336366\t0.00213857\t0.00213857\t1\t1\n",
      "73\t0.0335871\t0.0031113\t0.0031113\t1\t1\n",
      "74\t0.0335168\t0.00648938\t0.00648938\t1\t1\n",
      "75\t0.0334835\t0.00253395\t0.00253395\t0.125\t1\n",
      "76\t0.0334667\t0.0299915\t0.0299915\t0.25\t1\n",
      "77\t0.0334565\t0.0344296\t0.0344296\t1\t1\n",
      "78\t0.0334381\t0.0744548\t0.0744548\t1\t1\n",
      "79\t0.033428\t0.00287934\t0.00287934\t1\t1\n",
      "80\t0.0334217\t0.00204696\t0.00204696\t1\t1\n",
      "81\t0.0334103\t0.00225282\t0.00225282\t1\t1\n",
      "82\t0.0333928\t0.003441\t0.003441\t1\t1\n",
      "83\t0.0333707\t0.00389075\t0.00389075\t1\t1\n",
      "84\t0.0333414\t0.00352125\t0.00352125\t1\t1\n",
      "85\t0.0333024\t0.00365978\t0.00365978\t1\t1\n",
      "86\t0.0332411\t0.0183853\t0.0183853\t0.125\t1\n",
      "87\t0.0332262\t0.0303244\t0.0303244\t1\t1\n",
      "88\t0.033207\t0.0601823\t0.0601823\t1\t1\n",
      "89\t0.0331996\t0.0025165\t0.0025165\t1\t1\n",
      "90\t0.0331936\t0.00214\t0.00214\t1\t1\n",
      "91\t0.033182\t0.00232459\t0.00232459\t1\t1\n",
      "92\t0.0331625\t0.00401193\t0.00401193\t1\t1\n",
      "93\t0.0331328\t0.0054692\t0.0054692\t1\t1\n",
      "94\t0.0331137\t0.00272735\t0.00272735\t1\t1\n",
      "95\t0.0331009\t0.0352207\t0.0352207\t1\t1\n",
      "96\t0.0330375\t0.00595625\t0.00595625\t1\t1\n",
      "97\t0.0330151\t0.00306257\t0.00306257\t1\t1\n",
      "98\t0.0329855\t0.00433092\t0.00433092\t1\t1\n",
      "99\t0.0329472\t0.00374503\t0.00374503\t1\t1\n",
      "100\t0.0328965\t0.0053514\t0.0053514\t1\t1\n",
      "101\t0.032814\t0.00740087\t0.00740087\t0.0625\t1\n",
      "102\t0.0328139\t0.015413\t0.015413\t1\t1\n",
      "103\t0.0327224\t0.00520025\t0.00520025\t0.25\t1\n",
      "104\t0.0326996\t0.018061\t0.018061\t1\t1\n",
      "105\t0.0326231\t0.0184649\t0.0184649\t1\t1\n",
      "106\t0.0325934\t0.00270847\t0.00270847\t1\t1\n",
      "107\t0.0325852\t0.00186659\t0.00186659\t1\t1\n",
      "108\t0.0325725\t0.00174933\t0.00174933\t1\t1\n",
      "109\t0.0325487\t0.0017468\t0.0017468\t1\t1\n",
      "110\t0.0325022\t0.00222556\t0.00222556\t1\t1\n",
      "111\t0.0324092\t0.00454072\t0.00454072\t1\t1\n",
      "112\t0.0322332\t0.0151353\t0.0151353\t1\t1\n",
      "113\t0.0321285\t0.00294938\t0.00294938\t1\t1\n",
      "114\t0.031936\t0.0147881\t0.0147881\t1\t1\n",
      "115\t0.0316107\t0.0214407\t0.0214407\t1\t1\n",
      "116\t0.0312813\t0.0625298\t0.0625298\t1\t1\n",
      "117\t0.0310767\t0.0145325\t0.0145325\t1\t1\n",
      "118\t0.0310503\t0.0195964\t0.0195964\t1\t1\n",
      "119\t0.0310396\t0.00988665\t0.00988665\t1\t1\n",
      "120\t0.0310229\t0.00345328\t0.00345328\t1\t1\n",
      "121\t0.0309936\t0.00355157\t0.00355157\t1\t1\n",
      "122\t0.0309372\t0.00218167\t0.00218167\t1\t1\n",
      "123\t0.0308276\t0.00396108\t0.00396108\t0.03125\t1\n",
      "124\t0.0308222\t0.00893723\t0.00893723\t1\t1\n",
      "125\t0.0304928\t0.0424651\t0.0424651\t0.5\t1\n",
      "126\t0.0304365\t0.0393951\t0.0393951\t1\t1\n",
      "127\t0.0303991\t0.00475263\t0.00475263\t1\t1\n",
      "128\t0.03039\t0.0022746\t0.0022746\t1\t1\n",
      "129\t0.0303814\t0.00184849\t0.00184849\t1\t1\n",
      "130\t0.0303668\t0.00180647\t0.00180647\t1\t1\n",
      "131\t0.0303391\t0.00178182\t0.00178182\t1\t1\n",
      "132\t0.0302847\t0.00193149\t0.00193149\t1\t1\n",
      "133\t0.0301782\t0.00302921\t0.00302921\t1\t1\n",
      "134\t0.0299747\t0.00800338\t0.00800338\t1\t1\n",
      "135\t0.029631\t0.0203948\t0.0203948\t1\t1\n",
      "136\t0.0296024\t0.0567794\t0.0567794\t1\t1\n",
      "137\t0.0295604\t0.00758552\t0.00758552\t1\t1\n",
      "138\t0.029556\t0.00270025\t0.00270025\t1\t1\n",
      "139\t0.0295529\t0.00191246\t0.00191246\t1\t1\n",
      "140\t0.029549\t0.00176675\t0.00176675\t1\t1\n",
      "141\t0.0295421\t0.00179757\t0.00179757\t1\t1\n",
      "142\t0.0295291\t0.00183224\t0.00183224\t1\t1\n",
      "143\t0.0295037\t0.00175638\t0.00175638\t1\t1\n",
      "144\t0.0294534\t0.00178783\t0.00178783\t1\t1\n",
      "145\t0.0293542\t0.00291514\t0.00291514\t1\t1\n",
      "146\t0.0291633\t0.00781139\t0.00781139\t0.5\t1\n",
      "147\t0.0290298\t0.0313651\t0.0313651\t1\t1\n",
      "148\t0.0290016\t0.00469526\t0.00469526\t1\t1\n",
      "149\t0.028992\t0.00238537\t0.00238537\t1\t1\n",
      "150\t0.0289843\t0.0018009\t0.0018009\t1\t1\n",
      "151\t0.0289757\t0.0016992\t0.0016992\t1\t1\n",
      "152\t0.0289624\t0.00165878\t0.00165878\t1\t1\n",
      "153\t0.0289376\t0.00164217\t0.00164217\t1\t1\n",
      "154\t0.0288891\t0.00171244\t0.00171244\t1\t1\n",
      "155\t0.0287979\t0.00811894\t0.00811894\t1\t1\n",
      "156\t0.0286109\t0.00690352\t0.00690352\t1\t1\n",
      "157\t0.0285168\t0.00233456\t0.00233456\t1\t1\n",
      "158\t0.0283381\t0.00732138\t0.00732138\t1\t1\n",
      "159\t0.0280289\t0.0138423\t0.0138423\t1\t1\n",
      "160\t0.027585\t0.0265934\t0.0265934\t0.5\t1\n",
      "161\t0.0275492\t0.0374735\t0.0374735\t1\t1\n",
      "162\t0.0274975\t0.00346534\t0.00346534\t1\t1\n",
      "163\t0.0274894\t0.00172219\t0.00172219\t1\t1\n",
      "164\t0.0274779\t0.00162885\t0.00162885\t1\t1\n",
      "165\t0.0274566\t0.00155561\t0.00155561\t1\t1\n",
      "166\t0.0274154\t0.00162391\t0.00162391\t1\t1\n",
      "167\t0.0273352\t0.00252979\t0.00252979\t1\t1\n",
      "168\t0.0271836\t0.00748614\t0.00748614\t1\t1\n",
      "169\t0.0269192\t0.0127326\t0.0127326\t1\t1\n",
      "170\t0.0265375\t0.0216807\t0.0216807\t1\t1\n",
      "171\t0.0263069\t0.0133383\t0.0133383\t1\t1\n",
      "172\t0.0261732\t0.00704371\t0.00704371\t1\t1\n",
      "173\t0.0261536\t0.00134267\t0.00134267\t1\t1\n",
      "174\t0.0261201\t0.00143373\t0.00143373\t1\t1\n",
      "175\t0.0260549\t0.00207896\t0.00207896\t1\t1\n",
      "176\t0.025931\t0.00574324\t0.00574324\t1\t1\n",
      "177\t0.0257919\t0.0468095\t0.0468095\t1\t1\n",
      "178\t0.0257194\t0.0101612\t0.0101612\t1\t1\n",
      "179\t0.025709\t0.00311121\t0.00311121\t1\t1\n",
      "180\t0.0257044\t0.00168664\t0.00168664\t1\t1\n",
      "181\t0.0256992\t0.00139963\t0.00139963\t1\t1\n",
      "182\t0.0256908\t0.00133815\t0.00133815\t1\t1\n",
      "183\t0.025675\t0.00131416\t0.00131416\t1\t1\n",
      "184\t0.0256447\t0.0013018\t0.0013018\t1\t1\n",
      "185\t0.0255856\t0.0017219\t0.0017219\t1\t1\n",
      "186\t0.0254729\t0.00412258\t0.00412258\t1\t1\n",
      "187\t0.0252763\t0.0101472\t0.0101472\t0.25\t1\n",
      "188\t0.0252224\t0.025723\t0.025723\t0.5\t1\n",
      "189\t0.0252031\t0.0188736\t0.0188736\t1\t1\n",
      "190\t0.0251571\t0.00187351\t0.00187351\t1\t1\n",
      "191\t0.0251031\t0.00273345\t0.00273345\t1\t1\n",
      "192\t0.0250018\t0.0055984\t0.0055984\t1\t1\n",
      "193\t0.0248237\t0.00996713\t0.00996713\t1\t1\n",
      "194\t0.0245684\t0.0181714\t0.0181714\t1\t1\n",
      "195\t0.0244999\t0.0014201\t0.0014201\t1\t1\n",
      "196\t0.0244153\t0.00674325\t0.00674325\t1\t1\n",
      "197\t0.0242644\t0.00880481\t0.00880481\t1\t1\n",
      "198\t0.024046\t0.0164173\t0.0164173\t1\t1\n",
      "199\t0.0237878\t0.0215427\t0.0215427\t1\t1\n",
      "200\t0.0235242\t0.0257919\t0.0257919\t1\t1\n"
     ]
    },
    {
     "data": {
      "text/plain": [
       "<py_newton_optimizer.ConvergenceReport at 0x111505c70>"
      ]
     },
     "execution_count": 10,
     "metadata": {},
     "output_type": "execute_result"
    }
   ],
   "source": [
    "elastic_rods.compute_equilibrium(curved_linkage, callback = eqm_callback, options = OPTS)"
   ]
  },
  {
   "cell_type": "code",
   "execution_count": 15,
   "metadata": {},
   "outputs": [],
   "source": [
    "import pickle\n",
    "import gzip\n",
    "pickle.dump(curved_linkage, gzip.open('{}_stage_2_20210108_crazy.pkl.gz'.format(io.MODEL_NAME), 'w'))"
   ]
  },
  {
   "cell_type": "code",
   "execution_count": null,
   "metadata": {},
   "outputs": [],
   "source": []
  }
 ],
 "metadata": {
  "kernelspec": {
   "display_name": "Python 3",
   "language": "python",
   "name": "python3"
  },
  "language_info": {
   "codemirror_mode": {
    "name": "ipython",
    "version": 3
   },
   "file_extension": ".py",
   "mimetype": "text/x-python",
   "name": "python",
   "nbconvert_exporter": "python",
   "pygments_lexer": "ipython3",
   "version": "3.7.9"
  }
 },
 "nbformat": 4,
 "nbformat_minor": 4
}
