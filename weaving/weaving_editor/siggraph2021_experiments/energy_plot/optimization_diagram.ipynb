{
 "cells": [
  {
   "cell_type": "code",
   "execution_count": 30,
   "metadata": {},
   "outputs": [],
   "source": [
    "elastic_rods_dir = '../../../../elastic_rods/python/'\n",
    "weaving_dir = '../../../'\n",
    "import os\n",
    "import os.path as osp\n",
    "import sys; sys.path.append(elastic_rods_dir); sys.path.append(weaving_dir)\n",
    "import numpy as np, elastic_rods, linkage_vis\n",
    "import numpy.linalg as la\n",
    "from bending_validation import suppress_stdout as so\n",
    "import matplotlib.pyplot as plt\n",
    "from elastic_rods import EnergyType, InterleavingType\n",
    "\n",
    "# weaving\n",
    "import analysis_helper, ribbon_linkage_helper, mesh_vis, linkage_utils, compute_curve_from_curvature, pipeline_helper, optimization_visualization_helper, importlib\n",
    "importlib.reload(analysis_helper)\n",
    "importlib.reload(ribbon_linkage_helper)\n",
    "importlib.reload(mesh_vis)\n",
    "importlib.reload(linkage_utils)\n",
    "importlib.reload(compute_curve_from_curvature)\n",
    "importlib.reload(pipeline_helper)\n",
    "importlib.reload(optimization_visualization_helper)\n",
    "\n",
    "from analysis_helper import (compare_turning_angle,\n",
    "                            is_on_sphere, \n",
    "                            get_distance_to_center_scalar_field, \n",
    "                            plot_curvatures, \n",
    "                            get_curvature_scalar_field,\n",
    "                            construct_elastic_rod_loop_from_rod_segments, \n",
    "                            concatenate_rod_properties_from_rod_segments, \n",
    "                            compute_min_distance_rigid_transformation)\n",
    "from ribbon_linkage_helper import (update_rest_curvature, \n",
    "                                   set_ribbon_linkage,\n",
    "                                   export_linkage_geometry_to_obj,\n",
    "                                   write_linkage_ribbon_output_florin)\n",
    "\n",
    "from compute_curve_from_curvature import (match_geo_curvature_and_edge_len, get_all_curve_pattern)\n",
    "from linkage_utils import order_segments_by_ribbons, get_turning_angle_and_length_from_ordered_rods\n",
    "\n",
    "from pipeline_helper import (initialize_linkage, get_normal_deviation, set_joint_vector_field, stage_1_optimization, initialize_stage_2_optimizer, stage_2_optimization, InputOrganizer, write_all_output, set_surface_view_options, get_structure_analysis_view, contact_optimization, get_double_side_view, show_selected_joints, highlight_rod_and_joint, get_max_distance_to_target_surface, get_average_distance_to_target_joint)\n",
    "\n",
    "from optimization_visualization_helper import (compute_visualization_data_from_raw_data, get_objective_components_stage1, get_objective_components_stage2, set_figure_label_and_limit, Visualization_Setting, set_figure_label_and_limit)\n",
    "import vis.fields\n",
    "import matplotlib.cm as cm\n",
    "import time"
   ]
  },
  {
   "cell_type": "code",
   "execution_count": 2,
   "metadata": {},
   "outputs": [],
   "source": [
    "import parallelism\n",
    "parallelism.set_max_num_tbb_threads(24)\n",
    "parallelism.set_hessian_assembly_num_threads(8)\n",
    "parallelism.set_gradient_assembly_num_threads(8)"
   ]
  },
  {
   "cell_type": "code",
   "execution_count": 3,
   "metadata": {},
   "outputs": [
    {
     "name": "stdout",
     "output_type": "stream",
     "text": [
      "0.033273539253433904 0.0023291477477403733\n"
     ]
    }
   ],
   "source": [
    "rod_length = 0.09982061776030171\n",
    "width = rod_length / 15 * 5\n",
    "thickness = width / 5 * 0.35\n",
    "print(width, thickness)\n",
    "io = InputOrganizer('chicago_bean_1', thickness, width, weaving_dir)"
   ]
  },
  {
   "cell_type": "code",
   "execution_count": 4,
   "metadata": {},
   "outputs": [],
   "source": [
    "import benchmark\n",
    "benchmark.reset()"
   ]
  },
  {
   "cell_type": "code",
   "execution_count": 5,
   "metadata": {},
   "outputs": [
    {
     "data": {
      "application/vnd.jupyter.widget-view+json": {
       "model_id": "4c5ec25347a9495ebef1c277b2fc2914",
       "version_major": 2,
       "version_minor": 0
      },
      "text/plain": [
       "Renderer(camera=PerspectiveCamera(children=(PointLight(color='white', intensity=0.6, position=(0.0, 0.0, 5.0),…"
      ]
     },
     "metadata": {},
     "output_type": "display_data"
    }
   ],
   "source": [
    "with so(): curved_linkage = initialize_linkage(surface_path = io.SURFACE_PATH, useCenterline = True, model_path = io.MODEL_PATH, cross_section = io.RIBBON_CS, subdivision_res = io.SUBDIVISION_RESOLUTION, use_constant_width=False)\n",
    "curved_linkage.set_design_parameter_config(use_restLen = True, use_restKappa = True)\n",
    "curved_save_tgt_joint_pos = curved_linkage.jointPositions();\n",
    "curved_linkage_view = linkage_vis.LinkageViewerWithSurface(curved_linkage, io.SURFACE_PATH)\n",
    "set_surface_view_options(curved_linkage_view)\n",
    "curved_linkage_view.show()"
   ]
  },
  {
   "cell_type": "code",
   "execution_count": 6,
   "metadata": {},
   "outputs": [],
   "source": [
    "OPTS = elastic_rods.NewtonOptimizerOptions()\n",
    "OPTS.gradTol = 1e-6\n",
    "OPTS.verbose = 1;\n",
    "OPTS.beta = 1e-8\n",
    "OPTS.niter = 200\n",
    "OPTS.verboseNonPosDef = False\n",
    "rw = 0.01\n",
    "sw = 0.01"
   ]
  },
  {
   "cell_type": "code",
   "execution_count": 7,
   "metadata": {},
   "outputs": [],
   "source": [
    "# iterateData = stage_1_optimization(curved_linkage, rw, sw, curved_linkage_view)"
   ]
  },
  {
   "cell_type": "code",
   "execution_count": 10,
   "metadata": {},
   "outputs": [],
   "source": [
    "# import linkage_optimization"
   ]
  },
  {
   "cell_type": "code",
   "execution_count": 11,
   "metadata": {},
   "outputs": [],
   "source": [
    "# optimizer = initialize_stage_2_optimizer(curved_linkage, io.SURFACE_PATH, curved_save_tgt_joint_pos, curved_linkage_view)"
   ]
  },
  {
   "cell_type": "code",
   "execution_count": 12,
   "metadata": {},
   "outputs": [],
   "source": [
    "# optimizer, opt_iterateData = stage_2_optimization(optimizer, curved_linkage, io.SURFACE_PATH, curved_save_tgt_joint_pos, curved_linkage_view, -1, -5, 3)"
   ]
  },
  {
   "cell_type": "code",
   "execution_count": 14,
   "metadata": {},
   "outputs": [],
   "source": [
    "iterateData = np.load('stage_1_iteration_data.npy', allow_pickle = True)"
   ]
  },
  {
   "cell_type": "code",
   "execution_count": 15,
   "metadata": {},
   "outputs": [],
   "source": [
    "opt_iterateData = np.load('stage_2_iteration_data.npy', allow_pickle = True)"
   ]
  },
  {
   "cell_type": "code",
   "execution_count": 16,
   "metadata": {},
   "outputs": [],
   "source": [
    "curved_linkage.setExtendedDoFsPSRL(opt_iterateData[-1][-1])"
   ]
  },
  {
   "cell_type": "code",
   "execution_count": 17,
   "metadata": {},
   "outputs": [],
   "source": [
    "curved_linkage.attraction_weight = 1e-5"
   ]
  },
  {
   "cell_type": "code",
   "execution_count": 18,
   "metadata": {},
   "outputs": [],
   "source": [
    "def eqm_callback(prob, i):\n",
    "    curved_linkage_view.update()"
   ]
  },
  {
   "cell_type": "code",
   "execution_count": 19,
   "metadata": {},
   "outputs": [],
   "source": [
    "OPTS.niter = 1000"
   ]
  },
  {
   "cell_type": "code",
   "execution_count": 20,
   "metadata": {
    "scrolled": true
   },
   "outputs": [
    {
     "name": "stdout",
     "output_type": "stream",
     "text": [
      "0\t0.000944744\t0.582849\t0.582849\t1\t1\n",
      "1\t5.82175e-05\t0.0282991\t0.0282991\t1\t1\n",
      "2\t3.77036e-05\t0.00660504\t0.00660504\t1\t1\n",
      "3\t3.05537e-05\t0.00284653\t0.00284653\t1\t1\n",
      "4\t2.56619e-05\t0.00136901\t0.00136901\t1\t1\n",
      "5\t2.22603e-05\t0.000712969\t0.000712969\t1\t1\n",
      "6\t2.01213e-05\t0.000378791\t0.000378791\t1\t1\n",
      "7\t1.89538e-05\t0.000219917\t0.000219917\t1\t0\n",
      "8\t1.80306e-05\t0.00361276\t0.00361276\t1\t0\n",
      "9\t1.80136e-05\t1.88679e-05\t1.88679e-05\t1\t0\n",
      "10\t1.80136e-05\t2.09899e-06\t2.09899e-06\t0.5\t0\n",
      "11\t1.80136e-05\t2.59156e-06\t2.59156e-06\t1\t0\n",
      "12\t1.80136e-05\t9.71094e-08\t9.71094e-08\t1\t0\n"
     ]
    },
    {
     "data": {
      "text/plain": [
       "<elastic_rods.ConvergenceReport at 0x12e04f7f0>"
      ]
     },
     "execution_count": 20,
     "metadata": {},
     "output_type": "execute_result"
    }
   ],
   "source": [
    "elastic_rods.compute_equilibrium(curved_linkage, callback = eqm_callback, options = OPTS)"
   ]
  },
  {
   "cell_type": "code",
   "execution_count": 21,
   "metadata": {
    "scrolled": true
   },
   "outputs": [],
   "source": [
    "# save_path = os.getcwd()\n",
    "# write_all_output(curved_linkage, io.SUBDIVISION_RESOLUTION, io.MODEL_NAME, io.RIBBON_NAME, False, 100, min(io.RIBBON_CS), target_width = 5, flip_angles = False)\n",
    "# os.chdir(save_path)"
   ]
  },
  {
   "cell_type": "code",
   "execution_count": 22,
   "metadata": {},
   "outputs": [
    {
     "data": {
      "text/plain": [
       "175"
      ]
     },
     "execution_count": 22,
     "metadata": {},
     "output_type": "execute_result"
    }
   ],
   "source": [
    "len(opt_iterateData)"
   ]
  },
  {
   "cell_type": "code",
   "execution_count": 31,
   "metadata": {
    "scrolled": true
   },
   "outputs": [
    {
     "name": "stdout",
     "output_type": "stream",
     "text": [
      "0\n",
      "1\n",
      "2\n",
      "3\n",
      "4\n",
      "5\n",
      "6\n",
      "7\n",
      "8\n",
      "9\n",
      "10\n",
      "11\n",
      "12\n",
      "13\n",
      "14\n",
      "15\n",
      "16\n",
      "17\n",
      "18\n",
      "19\n",
      "20\n",
      "21\n",
      "22\n",
      "23\n",
      "24\n",
      "25\n",
      "26\n",
      "27\n",
      "28\n",
      "29\n",
      "30\n",
      "31\n",
      "32\n",
      "33\n",
      "34\n",
      "35\n",
      "36\n",
      "37\n",
      "38\n",
      "39\n",
      "40\n",
      "41\n",
      "42\n",
      "43\n",
      "44\n",
      "45\n",
      "46\n",
      "47\n",
      "48\n",
      "49\n",
      "50\n",
      "51\n",
      "52\n",
      "53\n",
      "54\n",
      "55\n",
      "56\n",
      "57\n",
      "58\n",
      "59\n",
      "60\n",
      "61\n",
      "62\n",
      "63\n",
      "64\n",
      "65\n",
      "66\n",
      "67\n",
      "68\n",
      "69\n",
      "70\n",
      "71\n",
      "72\n",
      "73\n",
      "74\n",
      "75\n",
      "76\n",
      "77\n",
      "78\n",
      "79\n",
      "80\n",
      "81\n",
      "82\n",
      "83\n",
      "84\n",
      "85\n",
      "86\n",
      "87\n",
      "88\n",
      "89\n",
      "90\n",
      "91\n",
      "92\n",
      "93\n",
      "94\n",
      "95\n",
      "96\n",
      "97\n",
      "98\n",
      "99\n",
      "100\n",
      "101\n",
      "102\n",
      "103\n",
      "104\n",
      "105\n",
      "106\n",
      "107\n",
      "108\n",
      "109\n",
      "110\n",
      "111\n",
      "112\n",
      "113\n",
      "114\n",
      "115\n",
      "116\n",
      "117\n",
      "118\n",
      "119\n",
      "120\n",
      "121\n",
      "122\n",
      "123\n",
      "124\n",
      "125\n",
      "126\n",
      "127\n",
      "128\n",
      "129\n",
      "130\n",
      "131\n",
      "132\n",
      "133\n",
      "134\n",
      "135\n",
      "136\n",
      "137\n",
      "138\n",
      "139\n",
      "140\n",
      "141\n",
      "142\n",
      "143\n",
      "144\n",
      "145\n",
      "146\n",
      "147\n",
      "148\n",
      "149\n",
      "150\n",
      "151\n",
      "152\n",
      "153\n",
      "154\n",
      "155\n",
      "156\n",
      "157\n",
      "158\n",
      "159\n",
      "160\n",
      "161\n",
      "162\n",
      "163\n",
      "164\n",
      "165\n",
      "166\n",
      "167\n",
      "168\n",
      "169\n",
      "170\n",
      "171\n",
      "172\n",
      "173\n",
      "174\n",
      "267.5483651161194\n"
     ]
    }
   ],
   "source": [
    "opt_elastic_energy, opt_smoothing, opt_rest_length, opt_total_absolute_curvature, opt_distance_to_surface, opt_distance_to_joint, opt_time_stamps, opt_eqm_dofs = compute_visualization_data_from_raw_data(opt_iterateData, io)"
   ]
  },
  {
   "cell_type": "code",
   "execution_count": 32,
   "metadata": {
    "scrolled": true
   },
   "outputs": [
    {
     "name": "stdout",
     "output_type": "stream",
     "text": [
      "0\n",
      "1\n",
      "2\n",
      "3\n",
      "4\n",
      "5\n",
      "6\n",
      "7\n",
      "8\n",
      "9\n",
      "10\n",
      "11\n",
      "12\n",
      "13\n",
      "14\n",
      "15\n",
      "16\n",
      "17\n",
      "18\n",
      "19\n",
      "20\n",
      "21\n",
      "22\n",
      "23\n",
      "24\n",
      "25\n",
      "26\n",
      "27\n",
      "28\n",
      "29\n",
      "30\n",
      "31\n",
      "32\n",
      "33\n",
      "34\n",
      "35\n",
      "36\n",
      "37\n",
      "38\n",
      "39\n",
      "40\n",
      "41\n",
      "42\n",
      "43\n",
      "44\n",
      "45\n",
      "46\n",
      "47\n",
      "48\n",
      "49\n",
      "50\n",
      "51\n",
      "52\n",
      "53\n",
      "54\n",
      "55\n",
      "56\n",
      "57\n",
      "58\n",
      "59\n",
      "60\n",
      "61\n",
      "62\n",
      "63\n",
      "64\n",
      "65\n",
      "66\n",
      "67\n",
      "68\n",
      "69\n",
      "70\n",
      "71\n",
      "72\n",
      "73\n",
      "74\n",
      "75\n",
      "76\n",
      "77\n",
      "78\n",
      "79\n",
      "80\n",
      "81\n",
      "82\n",
      "83\n",
      "84\n",
      "85\n",
      "86\n",
      "87\n",
      "88\n",
      "89\n",
      "90\n",
      "91\n",
      "92\n",
      "93\n",
      "94\n",
      "95\n",
      "96\n",
      "97\n",
      "98\n",
      "99\n",
      "100\n",
      "101\n",
      "102\n",
      "103\n",
      "104\n",
      "105\n",
      "106\n",
      "107\n",
      "108\n",
      "109\n",
      "110\n",
      "111\n",
      "112\n",
      "113\n",
      "114\n",
      "115\n",
      "116\n",
      "117\n",
      "118\n",
      "119\n",
      "120\n",
      "121\n",
      "122\n",
      "123\n",
      "124\n",
      "125\n",
      "126\n",
      "127\n",
      "128\n",
      "129\n",
      "130\n",
      "131\n",
      "132\n",
      "133\n",
      "134\n",
      "135\n",
      "136\n",
      "137\n",
      "138\n",
      "139\n",
      "140\n",
      "141\n",
      "142\n",
      "143\n",
      "144\n",
      "145\n",
      "146\n",
      "147\n",
      "148\n",
      "149\n",
      "150\n",
      "151\n",
      "152\n",
      "153\n",
      "154\n",
      "155\n",
      "156\n",
      "157\n",
      "158\n",
      "159\n",
      "160\n",
      "161\n",
      "162\n",
      "163\n",
      "164\n",
      "165\n",
      "166\n",
      "167\n",
      "168\n",
      "169\n",
      "170\n",
      "171\n",
      "172\n",
      "173\n",
      "174\n",
      "175\n",
      "176\n",
      "1865.2459070682526\n"
     ]
    }
   ],
   "source": [
    "dps_elastic_energy, dps_smoothing, dps_rest_length, dps_total_absolute_curvature, dps_distance_to_surface, dps_distance_to_joint, dps_time_stamps, dps_eqm_dofs = compute_visualization_data_from_raw_data(iterateData, io)"
   ]
  },
  {
   "cell_type": "code",
   "execution_count": 33,
   "metadata": {},
   "outputs": [],
   "source": [
    "dps_objective_elastic, dps_objective_smooth, dps_objective_length, dps_total_objective = get_objective_components_stage1(iterateData)"
   ]
  },
  {
   "cell_type": "code",
   "execution_count": 34,
   "metadata": {},
   "outputs": [],
   "source": [
    "opt_objective_elastic, opt_objective_target, opt_objective_smooth, opt_objective_length, opt_total_objective = get_objective_components_stage2(opt_iterateData)"
   ]
  },
  {
   "cell_type": "markdown",
   "metadata": {},
   "source": [
    "### Visualization Settings"
   ]
  },
  {
   "cell_type": "code",
   "execution_count": 96,
   "metadata": {},
   "outputs": [],
   "source": [
    "cmap = plt.get_cmap(\"Set2\")\n",
    "elastic_color = '#555358'\n",
    "target_color = cmap(1)\n",
    "rest_length_color = cmap(2)\n",
    "smoothness_color = cmap(3)\n",
    "curvature_color = cmap(4)\n",
    "\n",
    "elastic_label = 'Elastic Energy'\n",
    "target_label = 'Distance to Surface'\n",
    "rest_length_label = 'Rest Length Sum'\n",
    "smoothness_label = 'Smoothing Cost'\n",
    "curvature_label = 'Curvature Sum'\n",
    "x_label = 'Iteration'\n",
    "figure_size = (15, 6)\n",
    "figure_label_size = 30\n",
    "\n",
    "stage_1_label = 'Stage 1'\n",
    "stage_2_label = 'Stage 2'\n",
    "\n",
    "# design_optimization_iteration_range = [x + 0 for x in list(range(len(total_objective)))]\n",
    "\n"
   ]
  },
  {
   "cell_type": "code",
   "execution_count": 5,
   "metadata": {},
   "outputs": [
    {
     "data": {
      "text/plain": [
       "nan"
      ]
     },
     "execution_count": 5,
     "metadata": {},
     "output_type": "execute_result"
    }
   ],
   "source": [
    "import numpy as np\n",
    "np.min([1, np.nan])"
   ]
  },
  {
   "cell_type": "code",
   "execution_count": 63,
   "metadata": {},
   "outputs": [
    {
     "data": {
      "image/png": "[encoded data removed]",
      "text/plain": [
       "<Figure size 1080x432 with 1 Axes>"
      ]
     },
     "metadata": {
      "needs_background": "light"
     },
     "output_type": "display_data"
    }
   ],
   "source": [
    "# library\n",
    "import numpy as np\n",
    "import matplotlib.pyplot as plt\n",
    " \n",
    "fig, host = plt.subplots()\n",
    "cmap = plt.get_cmap(\"Set2\")\n",
    "colors = [smoothness_color, rest_length_color, elastic_color]\n",
    "x=range(len(dps_objective_elastic))\n",
    "y=np.array([dps_objective_smooth, dps_objective_length, dps_objective_elastic])\n",
    " \n",
    "# Basic stacked area chart.\n",
    "plt.stackplot(x,y, labels=[smoothness_label, rest_length_label, elastic_label], colors = colors)\n",
    "plt.legend(loc='upper right', prop={'size': 15}, fancybox=True)\n",
    "#plt.show()\n",
    "# host.set_yscale('log')\n",
    "fig.set_size_inches(figure_size)\n",
    "plt.ylabel('Objective Value', fontsize = figure_label_size)\n",
    "plt.title(stage_1_label, fontsize = figure_label_size)\n",
    "fig.set_size_inches(figure_size)\n",
    "# fig.savefig('kleinbottle_nature_figure3_D_top_left.png', bbox_inches='tight', dpi=400)"
   ]
  },
  {
   "cell_type": "code",
   "execution_count": 65,
   "metadata": {},
   "outputs": [
    {
     "name": "stdout",
     "output_type": "stream",
     "text": [
      "3.106109495785062 0.8437290750729639\n"
     ]
    },
    {
     "data": {
      "image/png": "[encoded data removed]",
      "text/plain": [
       "<Figure size 1080x432 with 1 Axes>"
      ]
     },
     "metadata": {
      "needs_background": "light"
     },
     "output_type": "display_data"
    }
   ],
   "source": [
    "# library\n",
    "import numpy as np\n",
    "import matplotlib.pyplot as plt\n",
    " \n",
    "fig, host = plt.subplots()\n",
    "x=range(len(opt_objective_length))\n",
    "y=np.array([opt_objective_length, opt_objective_target, opt_objective_elastic, opt_objective_smooth])\n",
    "colors = [rest_length_color, target_color, elastic_color, smoothness_color]\n",
    "# Basic stacked area chart.\n",
    "plt.stackplot(x,y, labels=[rest_length_label, target_label, elastic_label, smoothness_label], colors = colors)\n",
    "plt.legend(loc='upper right', prop={'size': 15}, fancybox=True)\n",
    "#plt.show()\n",
    "# host.set_yscale('exp')\n",
    "print(max(total_objective), min(total_objective))\n",
    "plt.title(stage_2_label, fontsize = figure_label_size)\n",
    "fig.set_size_inches(figure_size)\n",
    "fig.savefig('kleinbottle_nature_figure3_D_top_left_stacked.png', bbox_inches='tight', dpi=400)"
   ]
  },
  {
   "cell_type": "markdown",
   "metadata": {},
   "source": [
    "### Figure 3E Top Left"
   ]
  },
  {
   "cell_type": "code",
   "execution_count": 66,
   "metadata": {},
   "outputs": [
    {
     "data": {
      "image/png": "[encoded data removed]",
      "text/plain": [
       "<Figure size 1080x504 with 1 Axes>"
      ]
     },
     "metadata": {
      "needs_background": "light"
     },
     "output_type": "display_data"
    }
   ],
   "source": [
    "# library\n",
    "import numpy as np\n",
    "import matplotlib.pyplot as plt\n",
    "\n",
    "fig, host = plt.subplots()\n",
    "cmap = plt.get_cmap(\"Set2\")\n",
    "colors = [cmap(3), cmap(2), cmap(1)]\n",
    "x=range(len(dps_objective_elastic))\n",
    "y=dps_total_objective\n",
    " \n",
    "# Basic stacked area chart.\n",
    "plt.plot(x,y, label = 'Objective', color = 'k', linewidth = 3)\n",
    "#plt.show()\n",
    "# host.set_yscale('log')\n",
    "# plt.xlabel('iteration', fontsize = figure_label_size)\n",
    "plt.ylabel('objective value', fontsize = figure_label_size)\n",
    "plt.title(stage_1_label, fontsize = figure_label_size)\n",
    "fig.set_size_inches((15, 7))\n",
    "fig.savefig('kleinbottle_nature_figure3_D_top_left.png', bbox_inches='tight', dpi=400)"
   ]
  },
  {
   "cell_type": "markdown",
   "metadata": {},
   "source": [
    "### Figure 3E Top Right"
   ]
  },
  {
   "cell_type": "code",
   "execution_count": 67,
   "metadata": {},
   "outputs": [
    {
     "data": {
      "image/png": "[encoded data removed]",
      "text/plain": [
       "<Figure size 1080x504 with 1 Axes>"
      ]
     },
     "metadata": {
      "needs_background": "light"
     },
     "output_type": "display_data"
    }
   ],
   "source": [
    "# library\n",
    "import numpy as np\n",
    "import matplotlib.pyplot as plt\n",
    " \n",
    "fig, host = plt.subplots()\n",
    "cmap = plt.get_cmap(\"Set2\")\n",
    "colors = [cmap(3), cmap(2), cmap(1)]\n",
    "x=[-1] + list(range(len(total_objective)))\n",
    "y=[np.nan] + list(total_objective)\n",
    " \n",
    "# Basic stacked area chart.\n",
    "plt.plot(x,y, label = 'Objective', color = 'k', linewidth = 3)\n",
    "#plt.show()\n",
    "# host.set_yscale('log')\n",
    "# plt.xlabel(x_label, fontsize = figure_label_size)\n",
    "# plt.ylabel('objective value', fontsize = figure_label_size)\n",
    "plt.title(stage_2_label, fontsize = figure_label_size)\n",
    "\n",
    "fig.set_size_inches((15, 7))\n",
    "fig.savefig('kleinbottle_nature_figure3_D_top_right.png', bbox_inches='tight', dpi=400)"
   ]
  },
  {
   "cell_type": "code",
   "execution_count": 69,
   "metadata": {},
   "outputs": [],
   "source": [
    "combined_energy = (np.array(dps_elastic_energy + opt_elastic_energy))\n",
    "combined_rest_length = np.array(dps_rest_length + opt_rest_length)\n",
    "combined_smoothing = np.array(dps_smoothing + opt_smoothing)\n",
    "combined_total_absolute_curvature = np.array(dps_total_absolute_curvature + opt_total_absolute_curvature)\n",
    "combined_distance_to_surface = np.array(dps_distance_to_surface + opt_distance_to_surface)\n",
    "combined_dis_to_target_joint = np.array(dps_distance_to_joint + opt_distance_to_joint)\n",
    "combined_time_stamps = np.array(dps_time_stamps + opt_time_stamps)"
   ]
  },
  {
   "cell_type": "code",
   "execution_count": 70,
   "metadata": {},
   "outputs": [
    {
     "data": {
      "text/plain": [
       "26.381705284118652"
      ]
     },
     "execution_count": 70,
     "metadata": {},
     "output_type": "execute_result"
    }
   ],
   "source": [
    "sum(dps_time_stamps)"
   ]
  },
  {
   "cell_type": "code",
   "execution_count": 71,
   "metadata": {},
   "outputs": [
    {
     "data": {
      "text/plain": [
       "58.54908726286821"
      ]
     },
     "execution_count": 71,
     "metadata": {},
     "output_type": "execute_result"
    }
   ],
   "source": [
    "sum(opt_time_stamps[:])"
   ]
  },
  {
   "cell_type": "markdown",
   "metadata": {},
   "source": [
    "#### Load data"
   ]
  },
  {
   "cell_type": "code",
   "execution_count": 17,
   "metadata": {},
   "outputs": [],
   "source": [
    "# # load data\n",
    "# combined_energy = np.load(\"kleinbottle_nature_figure3/nature_figure3_plot_data/{}.npy\".format(\"energy\"))\n",
    "# combined_rest_length = np.load(\"kleinbottle_nature_figure3/nature_figure3_plot_data/{}.npy\".format(\"rest_length\"))\n",
    "# combined_smoothing = np.load(\"kleinbottle_nature_figure3/nature_figure3_plot_data/{}.npy\".format(\"smoothness\"))\n",
    "# combined_total_absolute_curvature = np.load(\"kleinbottle_nature_figure3/nature_figure3_plot_data/{}.npy\".format(\"curvature\"))\n",
    "# combined_distance_to_surface = np.load(\"kleinbottle_nature_figure3/nature_figure3_plot_data/{}.npy\".format('dis_surface'))\n",
    "# combined_time_stamps = np.load(\"kleinbottle_nature_figure3/nature_figure3_plot_data/{}.npy\".format('time_stamps'))\n",
    "\n",
    "# dps_eqm_dofs = np.load(\"kleinbottle_nature_figure3/nature_figure3_plot_data/{}.npy\".format('dps_eqm_dofs'))\n",
    "# opt_eqm_dofs = np.load(\"kleinbottle_nature_figure3/nature_figure3_plot_data/{}.npy\".format('opt_eqm_dofs'))\n",
    "\n",
    "# dps_total_objective = np.load(\"kleinbottle_nature_figure3/nature_figure3_plot_data/{}.npy\".format('dps_total_objective'))\n",
    "# total_objective = np.load(\"kleinbottle_nature_figure3/nature_figure3_plot_data/{}.npy\".format('opt_total_objective'))\n",
    "\n",
    "# opt_objective_elastic = np.load(\"kleinbottle_nature_figure3/nature_figure3_plot_data/{}.npy\".format('opt_objective_elastic'))\n",
    "# opt_objective_target = np.load(\"kleinbottle_nature_figure3/nature_figure3_plot_data/{}.npy\".format('opt_objective_target'))\n",
    "# opt_objective_smooth = np.load(\"kleinbottle_nature_figure3/nature_figure3_plot_data/{}.npy\".format('opt_objective_smooth'))\n",
    "# opt_objective_length = np.load(\"kleinbottle_nature_figure3/nature_figure3_plot_data/{}.npy\".format('opt_objective_length'))\n",
    "# dps_objective_elastic = np.load(\"kleinbottle_nature_figure3/nature_figure3_plot_data/{}.npy\".format('dps_objective_elastic'))\n",
    "# dps_objective_smooth = np.load(\"kleinbottle_nature_figure3/nature_figure3_plot_data/{}.npy\".format('dps_objective_smooth'))\n",
    "# dps_objective_length = np.load(\"kleinbottle_nature_figure3/nature_figure3_plot_data/{}.npy\".format('dps_objective_length'))\n",
    "\n",
    "# dps_iteration_count = len(dps_total_objective)\n",
    "\n",
    "# dps_energy = combined_energy[:dps_iteration_count]\n",
    "# dps_rest_length = combined_rest_length[:dps_iteration_count]\n",
    "# dps_smoothing = combined_smoothing[:dps_iteration_count]\n",
    "# dps_total_absolute_curvature = combined_total_absolute_curvature[:dps_iteration_count]\n",
    "# dps_distance_to_surface = combined_distance_to_surface[:dps_iteration_count]\n",
    "# dps_time_stamps = combined_time_stamps[:dps_iteration_count]\n",
    "\n",
    "# opt_energy = combined_energy[dps_iteration_count:]\n",
    "# opt_rest_length = combined_rest_length[dps_iteration_count:]\n",
    "# opt_smoothing = combined_smoothing[dps_iteration_count:]\n",
    "# opt_total_absolute_curvature = combined_total_absolute_curvature[dps_iteration_count:]\n",
    "# opt_distance_to_surface = combined_distance_to_surface[dps_iteration_count:]\n",
    "# opt_time_stamps = combined_time_stamps[dps_iteration_count:]\n",
    "\n"
   ]
  },
  {
   "cell_type": "code",
   "execution_count": 23,
   "metadata": {},
   "outputs": [
    {
     "data": {
      "text/plain": [
       "0.029238932745848416"
      ]
     },
     "execution_count": 23,
     "metadata": {},
     "output_type": "execute_result"
    }
   ],
   "source": [
    "dps_distance_to_surface[0] / 2"
   ]
  },
  {
   "cell_type": "code",
   "execution_count": 19,
   "metadata": {},
   "outputs": [
    {
     "name": "stdout",
     "output_type": "stream",
     "text": [
      "0.00018928042045572834 79.80008216496539 0.00027657614729339537\n"
     ]
    }
   ],
   "source": [
    "print(combined_energy[117], combined_rest_length[117], combined_total_absolute_curvature[117])"
   ]
  },
  {
   "cell_type": "code",
   "execution_count": 20,
   "metadata": {},
   "outputs": [
    {
     "name": "stdout",
     "output_type": "stream",
     "text": [
      "0.0001890904347162177 79.80011154715918 0.00027964056544413986\n"
     ]
    }
   ],
   "source": [
    "print(combined_energy[118], combined_rest_length[118], combined_total_absolute_curvature[118])"
   ]
  },
  {
   "cell_type": "code",
   "execution_count": 21,
   "metadata": {},
   "outputs": [
    {
     "name": "stdout",
     "output_type": "stream",
     "text": [
      "0.0001883477553259902 79.80022908997755 0.00029186936163265405\n"
     ]
    }
   ],
   "source": [
    "print(combined_energy[119], combined_rest_length[119], combined_total_absolute_curvature[119])"
   ]
  },
  {
   "cell_type": "code",
   "execution_count": 22,
   "metadata": {},
   "outputs": [],
   "source": [
    "dps_iteration_count = len(dps_total_objective)"
   ]
  },
  {
   "cell_type": "code",
   "execution_count": 23,
   "metadata": {},
   "outputs": [
    {
     "name": "stdout",
     "output_type": "stream",
     "text": [
      "997\n"
     ]
    }
   ],
   "source": [
    "print(dps_iteration_count)"
   ]
  },
  {
   "cell_type": "code",
   "execution_count": 24,
   "metadata": {},
   "outputs": [
    {
     "data": {
      "text/plain": [
       "0.05847786549169683"
      ]
     },
     "execution_count": 24,
     "metadata": {},
     "output_type": "execute_result"
    }
   ],
   "source": [
    "dps_distance_to_surface[0]"
   ]
  },
  {
   "cell_type": "code",
   "execution_count": 80,
   "metadata": {},
   "outputs": [
    {
     "data": {
      "text/plain": [
       "0.004969440944504727"
      ]
     },
     "execution_count": 80,
     "metadata": {},
     "output_type": "execute_result"
    }
   ],
   "source": [
    "min(opt_distance_to_surface)"
   ]
  },
  {
   "cell_type": "code",
   "execution_count": 81,
   "metadata": {},
   "outputs": [
    {
     "data": {
      "text/plain": [
       "0.008916921444955138"
      ]
     },
     "execution_count": 81,
     "metadata": {},
     "output_type": "execute_result"
    }
   ],
   "source": [
    "min(dps_distance_to_surface)"
   ]
  },
  {
   "cell_type": "code",
   "execution_count": 26,
   "metadata": {},
   "outputs": [
    {
     "data": {
      "text/plain": [
       "0.013503044767674246"
      ]
     },
     "execution_count": 26,
     "metadata": {},
     "output_type": "execute_result"
    }
   ],
   "source": [
    "(dps_distance_to_surface[-1])"
   ]
  },
  {
   "cell_type": "markdown",
   "metadata": {},
   "source": [
    "### Figure 3E Bottom Left"
   ]
  },
  {
   "cell_type": "code",
   "execution_count": 72,
   "metadata": {},
   "outputs": [],
   "source": [
    "def set_figure_label_and_limit(host, par1, par2, par3, par4, p1, p2, p3, p4, p5):\n",
    "    host.set_ylim(min(combined_energy)* 0.8, max(combined_energy)* 1.1)\n",
    "    par1.set_ylim(min(combined_rest_length)* 0.99, max(combined_rest_length)* 1.01)\n",
    "    par2.set_ylim(min(combined_smoothing)* 0.8, max(combined_smoothing)* 1.1)\n",
    "    par3.set_ylim(min(combined_total_absolute_curvature)* 0.8, max(combined_total_absolute_curvature)* 1.01)\n",
    "    par4.set_ylim(min(combined_distance_to_surface)* 0.8, max(combined_distance_to_surface)* 1.01)\n",
    "\n",
    "    host.set_yscale('log')\n",
    "\n",
    "    host.set_xlabel(x_label, fontsize = figure_label_size)\n",
    "    host.set_ylabel(elastic_label, fontsize = figure_label_size)\n",
    "    par1.set_ylabel(rest_length_label, fontsize = figure_label_size)\n",
    "    par2.set_ylabel(smoothness_label, fontsize = figure_label_size)\n",
    "    par3.set_ylabel(curvature_label, fontsize = figure_label_size)\n",
    "    par4.set_ylabel(target_label, fontsize = figure_label_size)\n",
    "\n",
    "    host.yaxis.label.set_color(p1.get_color())\n",
    "    par1.yaxis.label.set_color(p2.get_color())\n",
    "    par2.yaxis.label.set_color(p3.get_color())\n",
    "    par3.yaxis.label.set_color(p4.get_color())\n",
    "    par4.yaxis.label.set_color(p5.get_color())\n",
    "\n",
    "    host.yaxis.label.set_fontweight('bold')\n",
    "    par1.yaxis.label.set_fontweight('bold')\n",
    "    par2.yaxis.label.set_fontweight('bold')\n",
    "    par3.yaxis.label.set_fontweight('bold')\n",
    "    par4.yaxis.label.set_fontweight('bold')\n",
    "\n",
    "    tkw = dict(size=4, width=1.5)\n",
    "    host.tick_params(axis='y', colors=p1.get_color(), **tkw)\n",
    "    par1.tick_params(axis='y', colors=p2.get_color(), **tkw)\n",
    "    par2.tick_params(axis='y', colors=p3.get_color(), **tkw)\n",
    "    par3.tick_params(axis='y', colors=p4.get_color(), **tkw)\n",
    "    par4.tick_params(axis='y', colors=p5.get_color(), **tkw)\n",
    "    host.tick_params(axis='x', **tkw)\n",
    "\n"
   ]
  },
  {
   "cell_type": "code",
   "execution_count": 73,
   "metadata": {},
   "outputs": [
    {
     "data": {
      "image/png": "[encoded data removed]",
      "text/plain": [
       "<Figure size 1080x432 with 5 Axes>"
      ]
     },
     "metadata": {},
     "output_type": "display_data"
    }
   ],
   "source": [
    "figure_label_size = 25\n",
    "def make_patch_spines_invisible(ax):\n",
    "    ax.set_frame_on(True)\n",
    "    ax.patch.set_visible(False)\n",
    "    for sp in ax.spines.values():\n",
    "        sp.set_visible(False)\n",
    "\n",
    "\n",
    "fig, host = plt.subplots()\n",
    "fig.subplots_adjust(right=0.75)\n",
    "\n",
    "par1 = host.twinx()\n",
    "par2 = host.twinx()\n",
    "par3 = host.twinx()\n",
    "par4 = host.twinx()\n",
    "\n",
    "\n",
    "par2.spines[\"left\"].set_position((\"axes\", -0.12))\n",
    "\n",
    "make_patch_spines_invisible(par2)\n",
    "\n",
    "par2.spines[\"left\"].set_visible(True)\n",
    "par2.yaxis.set_label_position('left')\n",
    "par2.yaxis.set_ticks_position('left')\n",
    "\n",
    "par3.spines[\"left\"].set_position((\"axes\", -0.24))\n",
    "\n",
    "make_patch_spines_invisible(par3)\n",
    "\n",
    "par3.spines[\"left\"].set_visible(True)\n",
    "par3.yaxis.set_label_position('left')\n",
    "par3.yaxis.set_ticks_position('left')\n",
    "\n",
    "\n",
    "p5, = par4.plot(range(len(dps_smoothing)), dps_distance_to_surface, linewidth = 3, color = target_color, label=target_label)\n",
    "\n",
    "p1, = host.plot(range(len(dps_smoothing)), dps_energy, linewidth = 3, color = elastic_color, label=elastic_label)\n",
    "p2, = par1.plot(range(len(dps_smoothing)), dps_rest_length, linewidth = 3, color = rest_length_color, label=rest_length_label)\n",
    "p3, = par2.plot(range(len(dps_smoothing)), dps_smoothing, linewidth = 3, color = smoothness_color, label=smoothness_label)\n",
    "p4, = par3.plot(range(len(dps_total_absolute_curvature)), dps_total_absolute_curvature, linewidth = 3, color = curvature_color, label=curvature_label, linestyle = '-')\n",
    "\n",
    "set_figure_label_and_limit(host, par1, par2, par3, par4, p1, p2, p3, p4, p5)\n",
    "\n",
    "lines = [p1, p2, p3, p4, p5]\n",
    "\n",
    "par1.yaxis.set_visible(False)\n",
    "par2.yaxis.set_visible(True)\n",
    "par3.yaxis.set_visible(True)\n",
    "par4.yaxis.set_visible(False)\n",
    "\n",
    "fig.set_size_inches(figure_size)\n",
    "fig.savefig('kleinbottle_nature_figure3_D_bottom_left.png', bbox_inches='tight', dpi=400)\n",
    "plt.show()"
   ]
  },
  {
   "cell_type": "markdown",
   "metadata": {},
   "source": [
    "### Figure 3E Bottom Right"
   ]
  },
  {
   "cell_type": "code",
   "execution_count": 79,
   "metadata": {},
   "outputs": [
    {
     "name": "stderr",
     "output_type": "stream",
     "text": [
      "<ipython-input-79-5bcdb08d12f4>:57: MatplotlibDeprecationWarning: \n",
      "The inverse_transformed function was deprecated in Matplotlib 3.3 and will be removed two minor releases later. Use transformed(transform.inverted()) instead.\n",
      "  bb = leg.get_bbox_to_anchor().inverse_transformed(host.transAxes)\n"
     ]
    },
    {
     "data": {
      "image/png": "[encoded data removed]",
      "text/plain": [
       "<Figure size 1080x432 with 5 Axes>"
      ]
     },
     "metadata": {},
     "output_type": "display_data"
    }
   ],
   "source": [
    "figure_label_size = 25\n",
    "def make_patch_spines_invisible(ax):\n",
    "    ax.set_frame_on(True)\n",
    "    ax.patch.set_visible(False)\n",
    "    for sp in ax.spines.values():\n",
    "        sp.set_visible(False)\n",
    "\n",
    "\n",
    "fig, host = plt.subplots()\n",
    "fig.subplots_adjust(right=0.75)\n",
    "\n",
    "par1 = host.twinx()\n",
    "par2 = host.twinx()\n",
    "par3 = host.twinx()\n",
    "par4 = host.twinx()\n",
    "# par5 = host.twinx()\n",
    "\n",
    "# Offset the right spine of par2.  The ticks and label have already been\n",
    "# placed on the right by twinx above.\n",
    "par2.spines[\"right\"].set_position((\"axes\", 1.12))\n",
    "# Having been created by twinx, par2 has its frame off, so the line of its\n",
    "# detached spine is invisible.  First, activate the frame but make the patch\n",
    "# and spines invisible.\n",
    "make_patch_spines_invisible(par2)\n",
    "par2.spines[\"right\"].set_visible(False)\n",
    "\n",
    "\n",
    "par3.spines[\"right\"].set_position((\"axes\", 1.24))\n",
    "make_patch_spines_invisible(par3)\n",
    "par3.spines[\"right\"].set_visible(False)\n",
    "\n",
    "par4.spines[\"right\"].set_position((\"axes\", 1.12))\n",
    "make_patch_spines_invisible(par4)\n",
    "par4.spines[\"right\"].set_visible(True)\n",
    "\n",
    "\n",
    "x_range = [-1] + [x for x in range(len(opt_distance_to_surface))]\n",
    "p5, = par4.plot(x_range, [dps_distance_to_surface[-1]] + list(opt_distance_to_surface), linewidth = 3, color = target_color, label=target_label)\n",
    "\n",
    "p1, = host.plot(x_range, [dps_elastic_energy[-1]] + list(opt_elastic_energy), linewidth = 3, color = elastic_color, label=elastic_label)\n",
    "p2, = par1.plot(x_range, [dps_rest_length[-1]] + list(opt_rest_length), linewidth = 3, color = rest_length_color, label=rest_length_label)\n",
    "p3, = par2.plot(x_range, [dps_smoothing[-1]] + list(opt_smoothing), linewidth = 3, color = smoothness_color, label=smoothness_label)\n",
    "p4, = par3.plot(x_range, [dps_total_absolute_curvature[-1]] + list(opt_total_absolute_curvature), linewidth = 3, color = curvature_color, label=curvature_label, linestyle = '-')\n",
    "\n",
    "set_figure_label_and_limit(host, par1, par2, par3, par4, p1, p2, p3, p4, p5)\n",
    "\n",
    "lines = [p1, p2, p3, p4, p5]\n",
    "\n",
    "host.yaxis.set_visible(False)\n",
    "par1.yaxis.set_visible(True)\n",
    "par2.yaxis.set_visible(False)\n",
    "par3.yaxis.set_visible(False)\n",
    "par4.yaxis.set_visible(True)\n",
    "# plt.axvline(x=opt_iteration_count, color=cmap(8), linestyle='--')\n",
    "leg = host.legend(lines, [l.get_label() for l in lines], loc=\"upper right\", facecolor='white', framealpha=1, fancybox=True, prop={'size': 15})\n",
    "\n",
    "bb = leg.get_bbox_to_anchor().inverse_transformed(host.transAxes)\n",
    "\n",
    "# Change to location of the legend. \n",
    "yOffset = -0.2\n",
    "bb.y0 += yOffset\n",
    "leg.set_bbox_to_anchor(bb, transform = host.transAxes)\n",
    "\n",
    "fig.set_size_inches(figure_size)\n",
    "fig.savefig('kleinbottle_nature_figure3_D_bottom_right.png', bbox_inches='tight', dpi=400)\n",
    "plt.show()"
   ]
  },
  {
   "cell_type": "code",
   "execution_count": null,
   "metadata": {},
   "outputs": [],
   "source": []
  }
 ],
 "metadata": {
  "kernelspec": {
   "display_name": "Python 3",
   "language": "python",
   "name": "python3"
  },
  "language_info": {
   "codemirror_mode": {
    "name": "ipython",
    "version": 3
   },
   "file_extension": ".py",
   "mimetype": "text/x-python",
   "name": "python",
   "nbconvert_exporter": "python",
   "pygments_lexer": "ipython3",
   "version": "3.7.9"
  }
 },
 "nbformat": 4,
 "nbformat_minor": 4
}
