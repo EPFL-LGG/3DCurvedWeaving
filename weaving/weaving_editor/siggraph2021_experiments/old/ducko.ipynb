{
 "cells": [
  {
   "cell_type": "code",
   "execution_count": 1,
   "metadata": {},
   "outputs": [],
   "source": [
    "elastic_rods_dir = '../../../elastic_rods/python/'\n",
    "weaving_dir = '../../'\n",
    "import os\n",
    "import os.path as osp\n",
    "import sys; sys.path.append(elastic_rods_dir); sys.path.append(weaving_dir)\n",
    "import numpy as np, elastic_rods, linkage_vis\n",
    "import numpy.linalg as la\n",
    "from bending_validation import suppress_stdout as so\n",
    "import matplotlib.pyplot as plt\n",
    "from elastic_rods import EnergyType, InterleavingType\n",
    "\n",
    "# weaving\n",
    "import analysis_helper, ribbon_linkage_helper, mesh_vis, linkage_utils, compute_curve_from_curvature, pipeline_helper, importlib\n",
    "importlib.reload(analysis_helper)\n",
    "importlib.reload(ribbon_linkage_helper)\n",
    "importlib.reload(mesh_vis)\n",
    "importlib.reload(linkage_utils)\n",
    "importlib.reload(compute_curve_from_curvature)\n",
    "importlib.reload(pipeline_helper)\n",
    "from analysis_helper import (compare_turning_angle,\n",
    "                            is_on_sphere, \n",
    "                            get_distance_to_center_scalar_field, \n",
    "                            plot_curvatures, \n",
    "                            get_curvature_scalar_field,\n",
    "                            construct_elastic_rod_loop_from_rod_segments, \n",
    "                            concatenate_rod_properties_from_rod_segments, \n",
    "                            compute_min_distance_rigid_transformation)\n",
    "from ribbon_linkage_helper import (update_rest_curvature, \n",
    "                                   set_ribbon_linkage,\n",
    "                                   export_linkage_geometry_to_obj,\n",
    "                                   write_linkage_ribbon_output_florin)\n",
    "\n",
    "from compute_curve_from_curvature import (match_geo_curvature_and_edge_len, get_all_curve_pattern)\n",
    "from linkage_utils import order_segments_by_ribbons, get_turning_angle_and_length_from_ordered_rods\n",
    "\n",
    "from pipeline_helper import (initialize_linkage, get_normal_deviation, set_joint_vector_field, stage_1_optimization, initialize_stage_2_optimizer, stage_2_optimization, InputOrganizer, write_all_output, set_surface_view_options, get_structure_analysis_view, contact_optimization, get_double_side_view, show_selected_joints, get_max_distance_to_target_surface, get_average_distance_to_target_surface)\n",
    "import vis.fields\n",
    "import matplotlib.cm as cm\n",
    "import time"
   ]
  },
  {
   "cell_type": "code",
   "execution_count": 2,
   "metadata": {},
   "outputs": [],
   "source": [
    "import parallelism\n",
    "parallelism.set_max_num_tbb_threads(24)\n",
    "parallelism.set_hessian_assembly_num_threads(8)\n",
    "parallelism.set_gradient_assembly_num_threads(8)"
   ]
  },
  {
   "cell_type": "code",
   "execution_count": 3,
   "metadata": {},
   "outputs": [
    {
     "name": "stdout",
     "output_type": "stream",
     "text": [
      "0.033273539253433904 0.0023291477477403733\n"
     ]
    }
   ],
   "source": [
    "rod_length = 0.09982061776030171\n",
    "width = rod_length / 15 * 5\n",
    "thickness = width / 5 * 0.35\n",
    "print(width, thickness)\n",
    "io = InputOrganizer('ducko_1', thickness, width, weaving_dir)\n",
    "# io = InputOrganizer('bunny_quad_1', thickness, thickness, weaving_dir)\n",
    "\n",
    "#  [ ear 214, ear 255, nose 39]"
   ]
  },
  {
   "cell_type": "code",
   "execution_count": 4,
   "metadata": {},
   "outputs": [],
   "source": [
    "OPTS = elastic_rods.NewtonOptimizerOptions()\n",
    "OPTS.gradTol = 1e-6\n",
    "OPTS.verbose = 1;\n",
    "OPTS.beta = 1e-8\n",
    "OPTS.niter = 200\n",
    "OPTS.verboseNonPosDef = False\n",
    "rw = 0.01\n",
    "sw = 0.01"
   ]
  },
  {
   "cell_type": "markdown",
   "metadata": {},
   "source": [
    "### Initialization"
   ]
  },
  {
   "cell_type": "code",
   "execution_count": 5,
   "metadata": {},
   "outputs": [
    {
     "data": {
      "application/vnd.jupyter.widget-view+json": {
       "model_id": "82fe0cb7360448b2813d4c61c976abb7",
       "version_major": 2,
       "version_minor": 0
      },
      "text/plain": [
       "Renderer(camera=PerspectiveCamera(children=(PointLight(color='white', intensity=0.6, position=(0.0, 0.0, 5.0),…"
      ]
     },
     "metadata": {},
     "output_type": "display_data"
    }
   ],
   "source": [
    "with so(): curved_linkage = initialize_linkage(surface_path = io.SURFACE_PATH, useCenterline = True, model_path = io.MODEL_PATH, cross_section = io.RIBBON_CS, subdivision_res = io.SUBDIVISION_RESOLUTION, use_constant_width=False,  width_scale = [1, 1.6], interleaving_type=InterleavingType.weaving)\n",
    "curved_linkage.set_design_parameter_config(use_restLen = True, use_restKappa = True)\n",
    "curved_save_tgt_joint_pos = curved_linkage.jointPositions();\n",
    "curved_linkage_view = linkage_vis.LinkageViewer(curved_linkage)\n",
    "# set_surface_view_options(curved_linkage_view)\n",
    "curved_linkage_view.show()"
   ]
  },
  {
   "cell_type": "code",
   "execution_count": 6,
   "metadata": {},
   "outputs": [],
   "source": [
    "topColor =[79/255., 158/255., 246/255.]\n",
    "bottomColor =[0.5, 0.5, 0.5]\n",
    "heights = curved_linkage.visualizationGeometryHeightColors()\n",
    "colors = np.take(np.array([bottomColor, topColor]), heights < heights.mean(), axis=0)"
   ]
  },
  {
   "cell_type": "code",
   "execution_count": 7,
   "metadata": {},
   "outputs": [],
   "source": [
    "curved_linkage_view.update(scalarField=colors)"
   ]
  },
  {
   "cell_type": "code",
   "execution_count": 8,
   "metadata": {},
   "outputs": [],
   "source": [
    "curved_linkage_view.setCameraParams(((4.139347366530763, -3.927678946178955, 0.7924706632167623),\n",
    " (-0.038125872037145875, 0.15887387844372028, 0.9865624707182293),\n",
    " (0.0, 0.0, 0.0)))"
   ]
  },
  {
   "cell_type": "code",
   "execution_count": 9,
   "metadata": {},
   "outputs": [],
   "source": [
    "curved_linkage.attraction_weight = 1e-7"
   ]
  },
  {
   "cell_type": "code",
   "execution_count": 10,
   "metadata": {
    "scrolled": true
   },
   "outputs": [],
   "source": [
    "iterateData = stage_1_optimization(curved_linkage, rw, sw, curved_linkage_view)"
   ]
  },
  {
   "cell_type": "code",
   "execution_count": 11,
   "metadata": {},
   "outputs": [],
   "source": [
    "curved_linkage.scaleJointWeights(0.1, 100, [134, 227, 4, 29, 132, 39, 86, 91, 121, 53, 90, 87])"
   ]
  },
  {
   "cell_type": "code",
   "execution_count": 12,
   "metadata": {},
   "outputs": [],
   "source": [
    "# curved_linkage.setMaterial(elastic_rods.RodMaterial('rectangle', 2000, 0.3, [thickness, width], stiffAxis=elastic_rods.StiffAxis.D1))"
   ]
  },
  {
   "cell_type": "code",
   "execution_count": 13,
   "metadata": {},
   "outputs": [],
   "source": [
    "def eqm_callback(prob, i):\n",
    "    curved_linkage_view.update(scalarField=colors)"
   ]
  },
  {
   "cell_type": "code",
   "execution_count": 14,
   "metadata": {
    "scrolled": true
   },
   "outputs": [
    {
     "name": "stdout",
     "output_type": "stream",
     "text": [
      "0\t5.13034e-05\t0.000206804\t0.000206804\t0.5\t0\n",
      "1\t5.0524e-05\t0.00365684\t0.00365684\t1\t0\n",
      "2\t4.97814e-05\t0.000835593\t0.000835593\t1\t0\n",
      "3\t4.97217e-05\t0.00240011\t0.00240011\t1\t0\n",
      "4\t4.95676e-05\t0.000160519\t0.000160519\t1\t0\n",
      "5\t4.95624e-05\t0.000127933\t0.000127933\t1\t0\n",
      "6\t4.95621e-05\t1.35791e-06\t1.35791e-06\t1\t0\n",
      "7\t4.95621e-05\t2.44497e-08\t2.44497e-08\t1\t0\n"
     ]
    },
    {
     "data": {
      "text/plain": [
       "<elastic_rods.ConvergenceReport at 0x104eaabf0>"
      ]
     },
     "execution_count": 14,
     "metadata": {},
     "output_type": "execute_result"
    }
   ],
   "source": [
    "elastic_rods.compute_equilibrium(curved_linkage, callback = eqm_callback, options = OPTS)"
   ]
  },
  {
   "cell_type": "code",
   "execution_count": 15,
   "metadata": {},
   "outputs": [],
   "source": [
    "optimizer = initialize_stage_2_optimizer(curved_linkage, io.SURFACE_PATH, curved_save_tgt_joint_pos, curved_linkage_view)"
   ]
  },
  {
   "cell_type": "code",
   "execution_count": 16,
   "metadata": {},
   "outputs": [],
   "source": [
    "optimizer.scaleJointWeights(0.01, 100, [134, 227, 4, 29, 132, 39, 86, 91, 121, 53, 90, 87])"
   ]
  },
  {
   "cell_type": "code",
   "execution_count": null,
   "metadata": {},
   "outputs": [],
   "source": [
    "optimizer, opt_iterateData = stage_2_optimization(optimizer, curved_linkage, io.SURFACE_PATH, curved_save_tgt_joint_pos, curved_linkage_view, -1, -5, 3)"
   ]
  },
  {
   "cell_type": "markdown",
   "metadata": {},
   "source": [
    "### Validation"
   ]
  },
  {
   "cell_type": "code",
   "execution_count": null,
   "metadata": {},
   "outputs": [],
   "source": [
    "# curved_optimizer_energy = curved_linkage.energy()\n",
    "# validation_curved_linkage = optimizer.getLinesearchWeaverLinkage()\n",
    "# validation_curved_linkage.attraction_weight = 1e-7\n",
    "# with so(): elastic_rods.compute_equilibrium(validation_curved_linkage, options = OPTS, fixedVars = [])\n",
    "# validation_curved_view = linkage_vis.LinkageViewer(validation_curved_linkage, width=1024, height=640)\n",
    "# validation_curved_energy = validation_curved_linkage.energy()\n",
    "# print(abs((validation_curved_energy-curved_optimizer_energy)/curved_optimizer_energy))"
   ]
  },
  {
   "cell_type": "code",
   "execution_count": 16,
   "metadata": {},
   "outputs": [],
   "source": [
    "# validation_curved_view = linkage_vis.LinkageViewerWithSurface(validation_curved_linkage, io.SURFACE_PATH, width=1024, height=640)\n",
    "# set_surface_view_options(validation_curved_view)\n",
    "# validation_curved_view.show()"
   ]
  },
  {
   "cell_type": "code",
   "execution_count": 25,
   "metadata": {},
   "outputs": [
    {
     "data": {
      "application/vnd.jupyter.widget-view+json": {
       "model_id": "c597debefcfc4f2a9c727afb03981578",
       "version_major": 2,
       "version_minor": 0
      },
      "text/plain": [
       "Renderer(camera=PerspectiveCamera(aspect=1.6, children=(PointLight(color='white', intensity=0.6, position=(0.0…"
      ]
     },
     "metadata": {},
     "output_type": "display_data"
    }
   ],
   "source": [
    "double_view = linkage_vis.LinkageViewerWithSurface(curved_linkage, io.SURFACE_PATH, width=1024, height=640)\n",
    "set_surface_view_options(double_view)\n",
    "double_view.show()"
   ]
  },
  {
   "cell_type": "code",
   "execution_count": null,
   "metadata": {},
   "outputs": [],
   "source": [
    "double_view.viewOptions[double_view.ViewType.SURFACE].color"
   ]
  },
  {
   "cell_type": "code",
   "execution_count": 17,
   "metadata": {},
   "outputs": [],
   "source": [
    "deviation, deviation_vector, joint_normals, joint_projection_normals = get_normal_deviation(curved_linkage)"
   ]
  },
  {
   "cell_type": "code",
   "execution_count": 37,
   "metadata": {},
   "outputs": [
    {
     "data": {
      "text/plain": [
       "0.2632755266184439"
      ]
     },
     "execution_count": 37,
     "metadata": {},
     "output_type": "execute_result"
    }
   ],
   "source": [
    "get_average_distance_to_target_surface(curved_linkage)/io.RIBBON_CS[1]"
   ]
  },
  {
   "cell_type": "code",
   "execution_count": 44,
   "metadata": {},
   "outputs": [],
   "source": [
    "distance_to_surface = np.array(curved_linkage.get_squared_distance_to_target_surface((curved_linkage.visualizationGeometry()[0]).flatten()))\n"
   ]
  },
  {
   "cell_type": "code",
   "execution_count": 45,
   "metadata": {},
   "outputs": [],
   "source": [
    "distance_to_surface = np.sqrt(distance_to_surface)"
   ]
  },
  {
   "cell_type": "code",
   "execution_count": 54,
   "metadata": {},
   "outputs": [
    {
     "data": {
      "text/plain": [
       "[<matplotlib.lines.Line2D at 0x1285f1310>]"
      ]
     },
     "execution_count": 54,
     "metadata": {},
     "output_type": "execute_result"
    },
    {
     "data": {
      "image/png": "[encoded data removed]",
      "text/plain": [
       "<Figure size 432x288 with 1 Axes>"
      ]
     },
     "metadata": {
      "needs_background": "light"
     },
     "output_type": "display_data"
    }
   ],
   "source": [
    "plt.plot(np.sort(distance_to_surface))\n"
   ]
  },
  {
   "cell_type": "code",
   "execution_count": 21,
   "metadata": {},
   "outputs": [],
   "source": [
    "set_joint_vector_field(curved_linkage, curved_linkage_view, joint_normals)"
   ]
  },
  {
   "cell_type": "code",
   "execution_count": null,
   "metadata": {},
   "outputs": [],
   "source": [
    "save_path = os.getcwd()\n",
    "write_all_output(curved_linkage, io.SUBDIVISION_RESOLUTION, io.MODEL_NAME, io.RIBBON_NAME, False, 100, min(io.RIBBON_CS), target_width = 5, flip_angles = False, width = max(io.RIBBON_CS))\n",
    "os.chdir(save_path)"
   ]
  },
  {
   "cell_type": "code",
   "execution_count": 40,
   "metadata": {},
   "outputs": [
    {
     "data": {
      "text/plain": [
       "618"
      ]
     },
     "execution_count": 40,
     "metadata": {},
     "output_type": "execute_result"
    }
   ],
   "source": [
    "curved_linkage.numSegments()"
   ]
  },
  {
   "cell_type": "markdown",
   "metadata": {},
   "source": [
    "## Contact Optimization"
   ]
  },
  {
   "cell_type": "code",
   "execution_count": 25,
   "metadata": {},
   "outputs": [
    {
     "data": {
      "application/vnd.jupyter.widget-view+json": {
       "model_id": "c64d714202774da58252ffb89d1e5e73",
       "version_major": 2,
       "version_minor": 0
      },
      "text/plain": [
       "Renderer(camera=PerspectiveCamera(children=(PointLight(color='white', intensity=0.6, position=(0.0, 0.0, 5.0),…"
      ]
     },
     "metadata": {},
     "output_type": "display_data"
    }
   ],
   "source": [
    "with so(): curved_linkage = initialize_linkage(surface_path = io.SURFACE_PATH, useCenterline = True, model_path = io.MODEL_PATH, cross_section = io.RIBBON_CS, subdivision_res = io.SUBDIVISION_RESOLUTION, use_constant_width=True, interleaving_type=InterleavingType.weaving)\n",
    "curved_linkage.set_design_parameter_config(use_restLen = True, use_restKappa = True)\n",
    "curved_save_tgt_joint_pos = curved_linkage.jointPositions();\n",
    "curved_linkage_view = linkage_vis.LinkageViewerWithSurface(curved_linkage, io.SURFACE_PATH)\n",
    "set_surface_view_options(curved_linkage_view)\n",
    "curved_linkage_view.show()"
   ]
  },
  {
   "cell_type": "code",
   "execution_count": 26,
   "metadata": {},
   "outputs": [],
   "source": [
    "curved_linkage.setExtendedDoFsPSRL(np.load('results/bunny_head_small_triaxial_1/bunny_head_small_triaxial_1_dof.npy'))"
   ]
  },
  {
   "cell_type": "code",
   "execution_count": 27,
   "metadata": {},
   "outputs": [],
   "source": [
    "curved_linkage.attraction_weight = 1e-5"
   ]
  },
  {
   "cell_type": "code",
   "execution_count": 28,
   "metadata": {},
   "outputs": [],
   "source": [
    "def eqm_callback(prob, i):\n",
    "    curved_linkage_view.update()"
   ]
  },
  {
   "cell_type": "code",
   "execution_count": 29,
   "metadata": {
    "scrolled": true
   },
   "outputs": [
    {
     "name": "stdout",
     "output_type": "stream",
     "text": [
      "0\t0.00432216\t1.14356\t1.14356\t1\t1\n",
      "1\t0.000570708\t0.315069\t0.315069\t1\t1\n",
      "2\t0.000379947\t0.0816982\t0.0816982\t1\t1\n",
      "3\t0.000279816\t0.0368005\t0.0368005\t1\t1\n",
      "4\t0.00020388\t0.0209519\t0.0209519\t1\t1\n",
      "5\t0.000142562\t0.0117231\t0.0117231\t1\t1\n",
      "6\t9.67677e-05\t0.006184\t0.006184\t1\t1\n",
      "7\t6.48816e-05\t0.00329029\t0.00329029\t1\t1\n",
      "8\t4.44935e-05\t0.00194211\t0.00194211\t1\t1\n",
      "9\t3.31504e-05\t0.00140224\t0.00140224\t1\t1\n",
      "10\t2.78864e-05\t0.00124206\t0.00124206\t1\t1\n",
      "11\t2.58379e-05\t0.00103332\t0.00103332\t1\t1\n",
      "12\t2.51131e-05\t0.000693905\t0.000693905\t1\t1\n",
      "13\t2.48546e-05\t0.000385459\t0.000385459\t1\t1\n",
      "14\t2.47536e-05\t0.000184354\t0.000184354\t1\t1\n",
      "15\t2.46983e-05\t8.25414e-05\t8.25414e-05\t1\t1\n",
      "16\t2.46437e-05\t3.54887e-05\t3.54887e-05\t1\t1\n",
      "17\t2.45676e-05\t2.43904e-05\t2.43904e-05\t1\t1\n",
      "18\t2.44542e-05\t3.54731e-05\t3.54731e-05\t1\t1\n",
      "19\t2.42886e-05\t5.92253e-05\t5.92253e-05\t1\t1\n",
      "20\t2.40572e-05\t0.000108214\t0.000108214\t1\t1\n",
      "21\t2.37611e-05\t0.000218146\t0.000218146\t0.25\t0\n",
      "22\t2.33676e-05\t0.00169085\t0.00169085\t1\t0\n",
      "23\t2.2928e-05\t0.00164434\t0.00164434\t1\t0\n",
      "24\t2.26256e-05\t0.00183251\t0.00183251\t1\t0\n",
      "25\t2.2582e-05\t0.00375708\t0.00375708\t1\t1\n",
      "26\t2.24097e-05\t6.94834e-05\t6.94834e-05\t0.5\t0\n",
      "27\t2.23492e-05\t0.000524866\t0.000524866\t1\t0\n",
      "28\t2.23004e-05\t0.000256946\t0.000256946\t1\t0\n",
      "29\t2.22826e-05\t0.000429488\t0.000429488\t1\t0\n",
      "30\t2.22731e-05\t7.73883e-05\t7.73883e-05\t1\t0\n",
      "31\t2.22713e-05\t0.000168271\t0.000168271\t1\t0\n",
      "32\t2.22707e-05\t5.68538e-06\t5.68538e-06\t1\t0\n",
      "33\t2.22707e-05\t1.30286e-05\t1.30286e-05\t1\t0\n",
      "34\t2.22707e-05\t1.28214e-07\t1.28214e-07\t1\t0\n"
     ]
    },
    {
     "data": {
      "text/plain": [
       "<elastic_rods.ConvergenceReport at 0x12fb4cd30>"
      ]
     },
     "execution_count": 29,
     "metadata": {},
     "output_type": "execute_result"
    }
   ],
   "source": [
    "elastic_rods.compute_equilibrium(curved_linkage, callback = eqm_callback, options = OPTS, fixedVars = [])"
   ]
  },
  {
   "cell_type": "code",
   "execution_count": 31,
   "metadata": {},
   "outputs": [],
   "source": [
    "optimizer = initialize_stage_2_optimizer(curved_linkage, io.SURFACE_PATH, curved_save_tgt_joint_pos, curved_linkage_view, fixed_boundary_joint = [])"
   ]
  },
  {
   "cell_type": "code",
   "execution_count": 32,
   "metadata": {},
   "outputs": [],
   "source": [
    "optimizer.setLinkageAttractionWeight(1e-5)"
   ]
  },
  {
   "cell_type": "code",
   "execution_count": 34,
   "metadata": {},
   "outputs": [
    {
     "data": {
      "application/vnd.jupyter.widget-view+json": {
       "model_id": "6aece90df6bc4340aedc492a00f46e3d",
       "version_major": 2,
       "version_minor": 0
      },
      "text/plain": [
       "HBox(children=(Renderer(camera=PerspectiveCamera(children=(PointLight(color='white', intensity=0.6, position=(…"
      ]
     },
     "metadata": {},
     "output_type": "display_data"
    },
    {
     "data": {
      "image/png": "[encoded data removed]",
      "text/plain": [
       "<Figure size 720x288 with 3 Axes>"
      ]
     },
     "metadata": {
      "needs_background": "light"
     },
     "output_type": "display_data"
    }
   ],
   "source": [
    "structure_view = get_structure_analysis_view(curved_linkage)\n",
    "structure_view.show()"
   ]
  },
  {
   "cell_type": "code",
   "execution_count": null,
   "metadata": {},
   "outputs": [],
   "source": [
    "contact_optimization(optimizer, curved_linkage_view, -1, 1e4)"
   ]
  },
  {
   "cell_type": "code",
   "execution_count": null,
   "metadata": {},
   "outputs": [],
   "source": [
    "structure_view_2 = get_structure_analysis_view(curved_linkage)\n",
    "structure_view_2.show()"
   ]
  },
  {
   "cell_type": "code",
   "execution_count": null,
   "metadata": {},
   "outputs": [],
   "source": []
  }
 ],
 "metadata": {
  "kernelspec": {
   "display_name": "Python 3",
   "language": "python",
   "name": "python3"
  },
  "language_info": {
   "codemirror_mode": {
    "name": "ipython",
    "version": 3
   },
   "file_extension": ".py",
   "mimetype": "text/x-python",
   "name": "python",
   "nbconvert_exporter": "python",
   "pygments_lexer": "ipython3",
   "version": "3.7.9"
  }
 },
 "nbformat": 4,
 "nbformat_minor": 4
}
