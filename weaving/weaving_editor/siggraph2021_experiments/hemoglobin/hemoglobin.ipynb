{
 "cells": [
  {
   "cell_type": "code",
   "execution_count": 66,
   "metadata": {},
   "outputs": [],
   "source": [
    "elastic_rods_dir = '../../../../elastic_rods/python/'\n",
    "weaving_dir = '../../../'\n",
    "import os\n",
    "import os.path as osp\n",
    "import sys; sys.path.append(elastic_rods_dir); sys.path.append(weaving_dir)\n",
    "import numpy as np, elastic_rods, linkage_vis\n",
    "import numpy.linalg as la\n",
    "from bending_validation import suppress_stdout as so\n",
    "import matplotlib.pyplot as plt\n",
    "from elastic_rods import EnergyType, InterleavingType\n",
    "\n",
    "# weaving\n",
    "import analysis_helper, ribbon_linkage_helper, mesh_vis, linkage_utils, compute_curve_from_curvature, pipeline_helper, optimization_visualization_helper, importlib\n",
    "importlib.reload(analysis_helper)\n",
    "importlib.reload(ribbon_linkage_helper)\n",
    "importlib.reload(mesh_vis)\n",
    "importlib.reload(linkage_utils)\n",
    "importlib.reload(compute_curve_from_curvature)\n",
    "importlib.reload(pipeline_helper)\n",
    "importlib.reload(optimization_visualization_helper)\n",
    "from analysis_helper import (compare_turning_angle,\n",
    "                            is_on_sphere, \n",
    "                            get_distance_to_center_scalar_field, \n",
    "                            plot_curvatures, \n",
    "                            get_curvature_scalar_field,\n",
    "                            construct_elastic_rod_loop_from_rod_segments, \n",
    "                            concatenate_rod_properties_from_rod_segments, \n",
    "                            compute_min_distance_rigid_transformation)\n",
    "from ribbon_linkage_helper import (update_rest_curvature, \n",
    "                                   set_ribbon_linkage,\n",
    "                                   export_linkage_geometry_to_obj,\n",
    "                                   write_linkage_ribbon_output_florin)\n",
    "\n",
    "from compute_curve_from_curvature import (match_geo_curvature_and_edge_len, get_all_curve_pattern)\n",
    "from linkage_utils import order_segments_by_ribbons, get_turning_angle_and_length_from_ordered_rods\n",
    "\n",
    "from pipeline_helper import (initialize_linkage, get_normal_deviation, set_joint_vector_field, stage_1_optimization, initialize_stage_2_optimizer, stage_2_optimization, InputOrganizer, write_all_output, set_surface_view_options, get_structure_analysis_view, contact_optimization, get_double_side_view, show_selected_joints, highlight_rod_and_joint, set_design_parameters_from_topology, get_max_distance_to_target_surface, write_distance_to_linkage_mesh, get_fixed_boundary_joint)\n",
    "import vis.fields\n",
    "import matplotlib.cm as cm\n",
    "import time\n",
    "from optimization_visualization_helper import (compute_visualization_data_from_raw_data, get_objective_components_stage1, get_objective_components_stage2, get_objective_components_stage3, set_figure_label_and_limit, Visualization_Setting, plot_objective, plot_ribbon_component_analysis)"
   ]
  },
  {
   "cell_type": "code",
   "execution_count": 5,
   "metadata": {},
   "outputs": [],
   "source": [
    "import parallelism\n",
    "parallelism.set_max_num_tbb_threads(12)\n",
    "parallelism.set_hessian_assembly_num_threads(4)\n",
    "parallelism.set_gradient_assembly_num_threads(4)"
   ]
  },
  {
   "cell_type": "code",
   "execution_count": 6,
   "metadata": {},
   "outputs": [],
   "source": [
    "import py_newton_optimizer\n",
    "OPTS = py_newton_optimizer.NewtonOptimizerOptions()\n",
    "OPTS.gradTol = 1e-6\n",
    "OPTS.verbose = 1;\n",
    "OPTS.beta = 1e-8\n",
    "OPTS.niter = 200\n",
    "OPTS.verboseNonPosDef = False\n",
    "rw = 1\n",
    "sw = 10\n",
    "drw = 0.1\n",
    "dsw = 0.1"
   ]
  },
  {
   "cell_type": "code",
   "execution_count": 7,
   "metadata": {},
   "outputs": [],
   "source": [
    "import pickle \n",
    "import gzip\n",
    "# pickle.dump(curved_linkage, gzip.open('hemoglobin_test_20201202.pkl.gz', 'w'))\n",
    "# pickle.load(gzip.open('hemoglobin_three_stages_results/hemoglobin_contact_opt_2020_1201.pkl.gz', 'r'))"
   ]
  },
  {
   "cell_type": "code",
   "execution_count": 22,
   "metadata": {},
   "outputs": [],
   "source": [
    "import numpy as np \n",
    "from numpy import linalg as la\n",
    "\n",
    "linkage_file = weaving_dir + 'models/{}.obj'\n",
    "surface_file = weaving_dir + 'surface_models/{}.obj'\n",
    "\n",
    "output_linkage_file = weaving_dir + 'normalized_objs/models/{}.obj'\n",
    "output_surface_file = weaving_dir + 'normalized_objs/surface_models/{}.obj'\n",
    "def get_input_data(zscale):\n",
    "    def scale_model(target_size, linkage_file, surface_file, output_linkage_file, output_surface_file):\n",
    "        point_list = []\n",
    "        edge_list = []\n",
    "        face_list = []\n",
    "        with open(linkage_file, 'r') as linkage, open(output_linkage_file, 'w') as output_linkage, open(surface_file, 'r') as surface, open(output_surface_file, 'w') as output_surface:\n",
    "            content = linkage.readlines()\n",
    "            count = 0\n",
    "            edge_count = 0\n",
    "            for line in content:\n",
    "                if 'v ' in line:\n",
    "                    point = np.array([float(x) for x in line.split(' ')[1:]])\n",
    "                    point_list.append(point)\n",
    "\n",
    "                if 'l ' in line:\n",
    "                    edge_list.append(line)\n",
    "\n",
    "                if 'f ' in line:\n",
    "                    face_list.append(line)\n",
    "\n",
    "            cm = np.sum(np.array(point_list), axis = 0) / len(point_list)\n",
    "\n",
    "            centered_point_list = []\n",
    "            point_norm = []\n",
    "            for point in point_list:\n",
    "                point = np.array(point) - cm\n",
    "                centered_point_list.append(point)\n",
    "                point_norm.append(la.norm(point))\n",
    "\n",
    "            scale = target_size / max(point_norm)\n",
    "            print(scale, cm)\n",
    "\n",
    "            for line in content:\n",
    "                if 'v ' in line:\n",
    "                    point = np.array([float(x) for x in line.split(' ')[1:]])\n",
    "                    point = scale * (point - cm)\n",
    "                    output_linkage.write('v {} {} {}\\n'.format(point[0], point[1], point[2] * zscale))\n",
    "                else:\n",
    "                    output_linkage.write(line)\n",
    "\n",
    "            surface_content = surface.readlines()\n",
    "            for line in surface_content:\n",
    "                if 'v ' in line:\n",
    "                    point = np.array([float(x) for x in line.split(' ')[1:]])\n",
    "                    point = scale * (point - cm)\n",
    "                    output_surface.write('v {} {} {}\\n'.format(point[0], point[1], point[2] * zscale))\n",
    "                else:\n",
    "                    output_surface.write(line)\n",
    "\n",
    "    linkage_name_list = ['simple_hemoglobin_5']\n",
    "    surface_name_list = linkage_name_list\n",
    "    target_size = 1\n",
    "    for linkage_name, surface_name in zip(linkage_name_list, surface_name_list):\n",
    "        scale_model(target_size, linkage_file.format(linkage_name), surface_file.format(surface_name), output_linkage_file.format(linkage_name+'_{}'.format(str(target_size) + '_z{}'.format(zscale))), output_surface_file.format(surface_name+'_{}'.format(str(target_size) + '_z{}'.format(zscale))))\n"
   ]
  },
  {
   "cell_type": "code",
   "execution_count": 23,
   "metadata": {},
   "outputs": [
    {
     "data": {
      "text/plain": [
       "array([0.25, 0.35, 0.45, 0.55, 0.65, 0.75, 0.85, 0.95, 1.05, 1.15, 1.25,\n",
       "       1.35, 1.45, 1.55, 1.65, 1.75, 1.85, 1.95, 2.05, 2.15, 2.25, 2.35,\n",
       "       2.45, 2.55, 2.65, 2.75, 2.85, 2.95, 3.05, 3.15, 3.25, 3.35, 3.45,\n",
       "       3.55, 3.65])"
      ]
     },
     "execution_count": 23,
     "metadata": {},
     "output_type": "execute_result"
    }
   ],
   "source": [
    "np.arange(0.25, 3.75, 0.1)"
   ]
  },
  {
   "cell_type": "code",
   "execution_count": 129,
   "metadata": {},
   "outputs": [],
   "source": [
    "data = []"
   ]
  },
  {
   "cell_type": "code",
   "execution_count": 130,
   "metadata": {},
   "outputs": [],
   "source": [
    "def render_stress(filename, rangeMin = None, rangeMax = None):\n",
    "    import vis\n",
    "    from matplotlib import cm\n",
    "\n",
    "    stress = np.array(curved_linkage.maxBendingStresses())\n",
    "#     stress = curved_linkage.twistingStresses()\n",
    "#     for i in range(len(stress)):\n",
    "#         if i not in seg_list:\n",
    "#             stress[i] *= 0\n",
    "    if rangeMin == None:\n",
    "        rangeMin = np.stack(stress).min()\n",
    "    if rangeMax == None:\n",
    "        rangeMax = np.stack(stress).max()\n",
    "    print(rangeMin, rangeMax)\n",
    "    print(np.stack(stress).min(), np.stack(stress).max())\n",
    "    sf = vis.fields.ScalarField(curved_linkage, stress, colormap=cm.plasma, vmin=rangeMin, vmax=rangeMax)\n",
    "    heights = curved_linkage.visualizationGeometryHeightColors()\n",
    "    colors = sf.colors()\n",
    "    \n",
    "    # colors[heights < heights.mean()] = np.ones_like(sf.colors()[heights < heights.mean()]) * 0.5\n",
    "    curved_linkage_view.update(scalarField = colors)\n",
    "\n",
    "    renderCam = np.load('../../../hemoglobin_stress_renderCam.npy')\n",
    "    def renderToFile(path):\n",
    "        orender = curved_linkage_view.offscreenRenderer(width=2048, height=2048)\n",
    "        orender.setCameraParams(renderCam)\n",
    "        orender.render()\n",
    "        orender.save(path)\n",
    "    renderToFile(filename)"
   ]
  },
  {
   "cell_type": "code",
   "execution_count": 133,
   "metadata": {
    "scrolled": true
   },
   "outputs": [
    {
     "name": "stdout",
     "output_type": "stream",
     "text": [
      "Current scale:  0.2\n",
      "0.17088398618318584 [-0.3996742  80.14140386  3.61524935]\n",
      "start rest length:  47.002563134906424\n",
      "0.0286069076888854 215.20176794326144\n",
      "0.0286069076888854 215.20176794326144\n",
      "after initialization rest length:  47.100440609194756\n",
      "distance_to_target_initialization:  0.058\n",
      "Current scale:  0.3\n",
      "0.17088398618318584 [-0.3996742  80.14140386  3.61524935]\n",
      "start rest length:  47.2263031102075\n",
      "0.018367550488885928 177.98678660920504\n",
      "0.018367550488885928 177.98678660920504\n",
      "after initialization rest length:  47.35197325506082\n",
      "distance_to_target_initialization:  0.0615\n",
      "Current scale:  0.4\n",
      "0.17088398618318584 [-0.3996742  80.14140386  3.61524935]\n",
      "start rest length:  47.5329900912079\n",
      "0.01619382068800268 136.85248841282905\n",
      "0.01619382068800268 136.85248841282905\n",
      "after initialization rest length:  47.68379509771478\n",
      "distance_to_target_initialization:  0.0326\n",
      "Current scale:  0.5\n",
      "0.17088398618318584 [-0.3996742  80.14140386  3.61524935]\n",
      "start rest length:  47.917075993919845\n",
      "0.005144303424734443 108.35633761309657\n",
      "0.005144303424734443 108.35633761309657\n",
      "after initialization rest length:  48.089693677074074\n",
      "distance_to_target_initialization:  0.0277\n",
      "Current scale:  0.6\n",
      "0.17088398618318584 [-0.3996742  80.14140386  3.61524935]\n",
      "start rest length:  48.372520590871154\n",
      "0.07249315410534056 84.99514392789135\n",
      "0.07249315410534056 84.99514392789135\n",
      "after initialization rest length:  48.565667470091164\n",
      "distance_to_target_initialization:  0.0257\n",
      "Current scale:  0.7\n",
      "0.17088398618318584 [-0.3996742  80.14140386  3.61524935]\n",
      "start rest length:  48.89320879450957\n",
      "0.046510530286198774 67.55253890911085\n",
      "0.046510530286198774 67.55253890911085\n",
      "after initialization rest length:  49.10699235283357\n",
      "distance_to_target_initialization:  0.0251\n",
      "Current scale:  0.8\n",
      "0.17088398618318584 [-0.3996742  80.14140386  3.61524935]\n",
      "start rest length:  49.473240063213524\n",
      "0.08137661480657181 54.50912464030635\n",
      "0.08137661480657181 54.50912464030635\n",
      "after initialization rest length:  49.70797263650767\n",
      "distance_to_target_initialization:  0.0254\n",
      "Current scale:  0.9\n",
      "0.17088398618318584 [-0.3996742  80.14140386  3.61524935]\n",
      "start rest length:  50.107100977820274\n",
      "0.043855107712386814 44.60518592822023\n",
      "0.043855107712386814 44.60518592822023\n",
      "after initialization rest length:  50.36321560302401\n",
      "distance_to_target_initialization:  0.0259\n",
      "Current scale:  1.0\n",
      "0.17088398618318584 [-0.3996742  80.14140386  3.61524935]\n",
      "start rest length:  50.7897485631954\n",
      "0.08400753883962848 37.31653465750006\n",
      "0.08400753883962848 37.31653465750006\n",
      "after initialization rest length:  51.06770727276326\n",
      "distance_to_target_initialization:  0.0263\n",
      "Current scale:  1.1\n",
      "0.17088398618318584 [-0.3996742  80.14140386  3.61524935]\n",
      "start rest length:  51.516633323228454\n",
      "0.07905794891779601 38.13037710461864\n",
      "0.07905794891779601 38.13037710461864\n",
      "after initialization rest length:  51.81692583066513\n",
      "distance_to_target_initialization:  0.0266\n",
      "Current scale:  1.2\n",
      "0.17088398618318584 [-0.3996742  80.14140386  3.61524935]\n",
      "start rest length:  52.28368562925994\n",
      "0.07068061979566367 41.39915598580639\n",
      "0.07068061979566367 41.39915598580639\n",
      "after initialization rest length:  52.606847423508945\n",
      "distance_to_target_initialization:  0.0268\n",
      "Current scale:  1.3\n",
      "0.17088398618318584 [-0.3996742  80.14140386  3.61524935]\n",
      "start rest length:  53.08728232985178\n",
      "0.14710803464201308 44.70460982627676\n",
      "0.14710803464201308 44.70460982627676\n",
      "after initialization rest length:  53.43339370235349\n",
      "distance_to_target_initialization:  0.0268\n",
      "Current scale:  1.4\n",
      "0.17088398618318584 [-0.3996742  80.14140386  3.61524935]\n",
      "start rest length:  53.92420457543597\n",
      "0.026122525583776316 48.05195630271013\n",
      "0.026122525583776316 48.05195630271013\n",
      "after initialization rest length:  54.293498160523754\n",
      "distance_to_target_initialization:  0.0266\n",
      "Current scale:  1.5\n",
      "0.17088398618318584 [-0.3996742  80.14140386  3.61524935]\n",
      "start rest length:  54.79159350407349\n",
      "0.093478731802948 51.417524827067815\n",
      "0.093478731802948 51.417524827067815\n",
      "after initialization rest length:  55.1840945838796\n",
      "distance_to_target_initialization:  0.0264\n",
      "Current scale:  1.6\n",
      "0.17088398618318584 [-0.3996742  80.14140386  3.61524935]\n",
      "start rest length:  55.686907499105345\n",
      "0.03189447628602639 54.781833300480194\n",
      "0.03189447628602639 54.781833300480194\n",
      "after initialization rest length:  56.10286582749056\n",
      "distance_to_target_initialization:  0.0266\n",
      "Current scale:  1.7\n",
      "0.17088398618318584 [-0.3996742  80.14140386  3.61524935]\n",
      "start rest length:  56.60788287053244\n",
      "0.13247711084023936 58.17869129986389\n",
      "0.13247711084023936 58.17869129986389\n",
      "after initialization rest length:  57.047187378712714\n",
      "distance_to_target_initialization:  0.0275\n",
      "Current scale:  1.8\n",
      "0.17088398618318584 [-0.3996742  80.14140386  3.61524935]\n",
      "start rest length:  57.55249869686789\n",
      "0.11203566926611544 61.55395110577695\n",
      "0.11203566926611544 61.55395110577695\n",
      "after initialization rest length:  58.014965849165904\n",
      "distance_to_target_initialization:  0.0284\n",
      "Current scale:  1.9\n",
      "0.17088398618318584 [-0.3996742  80.14140386  3.61524935]\n",
      "start rest length:  58.518945932277376\n",
      "0.0901340673872454 64.89891468287217\n",
      "0.0901340673872454 64.89891468287217\n",
      "after initialization rest length:  59.00439525443219\n",
      "distance_to_target_initialization:  0.0293\n",
      "Current scale:  2.0\n",
      "0.17088398618318584 [-0.3996742  80.14140386  3.61524935]\n",
      "start rest length:  59.505600551743726\n",
      "0.08447544380645655 68.17127276557376\n",
      "0.08447544380645655 68.17127276557376\n",
      "after initialization rest length:  60.013585109812176\n",
      "distance_to_target_initialization:  0.0302\n",
      "Current scale:  2.1\n",
      "0.17088398618318584 [-0.3996742  80.14140386  3.61524935]\n",
      "start rest length:  60.511000353710074\n",
      "0.10581465884137081 71.33876123981744\n",
      "0.10581465884137081 71.33876123981744\n",
      "after initialization rest length:  61.0409510461261\n",
      "distance_to_target_initialization:  0.0311\n",
      "Current scale:  2.2\n",
      "0.17088398618318584 [-0.3996742  80.14140386  3.61524935]\n",
      "start rest length:  61.53382498858872\n",
      "0.029039066501412438 74.48821150888615\n",
      "0.029039066501412438 74.48821150888615\n",
      "after initialization rest length:  62.085658804912484\n",
      "distance_to_target_initialization:  0.032\n",
      "Current scale:  2.3\n",
      "0.17088398618318584 [-0.3996742  80.14140386  3.61524935]\n",
      "start rest length:  62.57287878577971\n",
      "0.07973500158447074 77.55667332241998\n",
      "0.07973500158447074 77.55667332241998\n",
      "after initialization rest length:  63.14686709718519\n",
      "distance_to_target_initialization:  0.033\n"
     ]
    },
    {
     "name": "stderr",
     "output_type": "stream",
     "text": [
      "Exception ignored in: <function PythreejsViewerBase.__del__ at 0x118512680>\n",
      "Traceback (most recent call last):\n",
      "  File \"/Users/yren/Develop/EPFL_LGG/weaving/elastic_rods/3rdparty/MeshFEM/python/vis/pythreejs_viewer.py\", line 553, in __del__\n",
      "    self.__cleanMeshes(self.ghostMeshes)\n",
      "AttributeError: 'LinkageViewerWithSurface' object has no attribute 'ghostMeshes'\n"
     ]
    },
    {
     "name": "stdout",
     "output_type": "stream",
     "text": [
      "Current scale:  2.4\n",
      "0.17088398618318584 [-0.3996742  80.14140386  3.61524935]\n",
      "start rest length:  63.62707598356456\n",
      "0.05627402583088466 80.5390087364222\n",
      "0.05627402583088466 80.5390087364222\n",
      "after initialization rest length:  64.22275057356927\n",
      "distance_to_target_initialization:  0.0339\n",
      "Current scale:  2.5\n",
      "0.17088398618318584 [-0.3996742  80.14140386  3.61524935]\n",
      "start rest length:  64.69542800940062\n",
      "0.02094898537912722 83.50749256682717\n",
      "0.02094898537912722 83.50749256682717\n",
      "after initialization rest length:  65.31246115445538\n",
      "distance_to_target_initialization:  0.0349\n",
      "Current scale:  2.6\n",
      "0.17088398618318584 [-0.3996742  80.14140386  3.61524935]\n",
      "start rest length:  65.77703250389311\n",
      "0.05939542272620474 86.41811940365403\n",
      "0.05939542272620474 86.41811940365403\n",
      "after initialization rest length:  66.41497185732922\n",
      "distance_to_target_initialization:  0.0357\n",
      "Current scale:  2.7\n",
      "0.17088398618318584 [-0.3996742  80.14140386  3.61524935]\n",
      "start rest length:  66.87106382547353\n",
      "0.11342568524360372 89.20506989991888\n",
      "0.11342568524360372 89.20506989991888\n",
      "after initialization rest length:  67.53029871112446\n",
      "distance_to_target_initialization:  0.0367\n",
      "Current scale:  2.8\n",
      "0.17088398618318584 [-0.3996742  80.14140386  3.61524935]\n",
      "start rest length:  67.97676481243865\n",
      "0.14487392300176946 91.92762162823392\n",
      "0.14487392300176946 91.92762162823392\n",
      "after initialization rest length:  68.6566170139594\n",
      "distance_to_target_initialization:  0.0375\n",
      "Current scale:  2.9\n",
      "0.17088398618318584 [-0.3996742  80.14140386  3.61524935]\n",
      "start rest length:  69.09343961375805\n",
      "0.20258910230697988 94.5852873044966\n",
      "0.20258910230697988 94.5852873044966\n",
      "after initialization rest length:  69.7935790886878\n",
      "distance_to_target_initialization:  0.0384\n",
      "Current scale:  3.0\n",
      "0.17088398618318584 [-0.3996742  80.14140386  3.61524935]\n",
      "start rest length:  70.22044742992655\n",
      "0.2719171703897639 97.15133355507496\n",
      "0.2719171703897639 97.15133355507496\n",
      "after initialization rest length:  70.94021011559009\n",
      "distance_to_target_initialization:  0.0393\n",
      "Current scale:  3.1\n",
      "0.17088398618318584 [-0.3996742  80.14140386  3.61524935]\n",
      "start rest length:  71.35719703047711\n",
      "0.37819621183204355 99.68049847092398\n",
      "0.37819621183204355 99.68049847092398\n",
      "after initialization rest length:  72.09670927442244\n",
      "distance_to_target_initialization:  0.0401\n",
      "Current scale:  3.2\n",
      "0.17088398618318584 [-0.3996742  80.14140386  3.61524935]\n",
      "start rest length:  72.5031419360943\n",
      "0.40852777241265964 102.15138847360325\n",
      "0.40852777241265964 102.15138847360325\n",
      "after initialization rest length:  73.26250325229988\n",
      "distance_to_target_initialization:  0.041\n",
      "Current scale:  3.3\n",
      "0.17088398618318584 [-0.3996742  80.14140386  3.61524935]\n",
      "start rest length:  73.65777617110123\n",
      "0.42592337313861206 104.70417068996979\n",
      "0.42592337313861206 104.70417068996979\n",
      "after initialization rest length:  74.43670691403818\n",
      "distance_to_target_initialization:  0.0418\n",
      "Current scale:  3.4\n",
      "0.17088398618318584 [-0.3996742  80.14140386  3.61524935]\n",
      "start rest length:  74.82063050698504\n",
      "0.22912606573162964 107.04223725087874\n",
      "0.22912606573162964 107.04223725087874\n",
      "after initialization rest length:  75.61817733668748\n",
      "distance_to_target_initialization:  0.0427\n",
      "Current scale:  3.5\n",
      "0.17088398618318584 [-0.3996742  80.14140386  3.61524935]\n",
      "start rest length:  75.9912691300189\n",
      "0.2446537903923483 109.4301711445545\n",
      "0.2446537903923483 109.4301711445545\n",
      "after initialization rest length:  76.80851132521045\n",
      "distance_to_target_initialization:  0.0435\n",
      "Current scale:  3.6\n",
      "0.17088398618318584 [-0.3996742  80.14140386  3.61524935]\n",
      "start rest length:  77.16928667636951\n",
      "0.235361454555396 111.7285644708303\n",
      "0.235361454555396 111.7285644708303\n",
      "after initialization rest length:  78.00494388143457\n",
      "distance_to_target_initialization:  0.0443\n",
      "Current scale:  3.7\n",
      "0.17088398618318584 [-0.3996742  80.14140386  3.61524935]\n",
      "start rest length:  78.35430558667966\n",
      "0.12594056286740504 114.0524909943242\n",
      "0.12594056286740504 114.0524909943242\n",
      "after initialization rest length:  79.20733637840463\n",
      "distance_to_target_initialization:  0.0451\n",
      "Current scale:  3.8\n",
      "0.17088398618318584 [-0.3996742  80.14140386  3.61524935]\n",
      "start rest length:  79.54597373929246\n",
      "0.29534463522903 116.26590929949168\n",
      "0.29534463522903 116.26590929949168\n",
      "after initialization rest length:  80.41621620175185\n",
      "distance_to_target_initialization:  0.0459\n",
      "Current scale:  3.9\n",
      "0.17088398618318584 [-0.3996742  80.14140386  3.61524935]\n",
      "start rest length:  80.74396232728388\n",
      "0.4519776613767181 118.22385782833584\n",
      "0.4519776613767181 118.22385782833584\n",
      "after initialization rest length:  81.6321514617553\n",
      "distance_to_target_initialization:  0.0467\n",
      "Current scale:  4.0\n",
      "0.17088398618318584 [-0.3996742  80.14140386  3.61524935]\n",
      "start rest length:  81.94796394949013\n",
      "0.37303793922080836 119.00641379337142\n",
      "0.37303793922080836 119.00641379337142\n",
      "after initialization rest length:  82.85305195007405\n",
      "distance_to_target_initialization:  0.0475\n",
      "Current scale:  4.1\n",
      "0.17088398618318584 [-0.3996742  80.14140386  3.61524935]\n",
      "start rest length:  83.15769088993609\n",
      "0.2965672317930303 120.99502079955778\n",
      "0.2965672317930303 120.99502079955778\n",
      "after initialization rest length:  84.08065336136484\n",
      "distance_to_target_initialization:  0.0481\n",
      "Current scale:  4.2\n",
      "0.17088398618318584 [-0.3996742  80.14140386  3.61524935]\n",
      "start rest length:  84.37287356361921\n",
      "0.22809756862758607 123.13504925402633\n",
      "0.22809756862758607 123.13504925402633\n",
      "after initialization rest length:  85.3133906673383\n",
      "distance_to_target_initialization:  0.049\n",
      "Current scale:  4.3\n",
      "0.17088398618318584 [-0.3996742  80.14140386  3.61524935]\n",
      "start rest length:  85.59325910959578\n",
      "0.16373052241774402 125.50938087694452\n",
      "0.16373052241774402 125.50938087694452\n",
      "after initialization rest length:  86.55322793727413\n",
      "distance_to_target_initialization:  0.0495\n",
      "Current scale:  4.4\n",
      "0.17088398618318584 [-0.3996742  80.14140386  3.61524935]\n",
      "start rest length:  86.81861011486129\n",
      "0.052379879923182444 127.57920414618226\n",
      "0.052379879923182444 127.57920414618226\n",
      "after initialization rest length:  87.79772190491674\n",
      "distance_to_target_initialization:  0.0502\n",
      "Current scale:  4.5\n",
      "0.17088398618318584 [-0.3996742  80.14140386  3.61524935]\n",
      "start rest length:  88.04870345465905\n",
      "0.1714322899786905 129.61372041302005\n",
      "0.1714322899786905 129.61372041302005\n",
      "after initialization rest length:  89.04473776025311\n",
      "distance_to_target_initialization:  0.0511\n",
      "Current scale:  4.6\n",
      "0.17088398618318584 [-0.3996742  80.14140386  3.61524935]\n",
      "start rest length:  89.28332923669744\n",
      "0.12172608243827322 131.70344499981402\n",
      "0.12172608243827322 131.70344499981402\n",
      "after initialization rest length:  90.29586387567807\n",
      "distance_to_target_initialization:  0.0522\n",
      "Current scale:  4.7\n",
      "0.17088398618318584 [-0.3996742  80.14140386  3.61524935]\n",
      "start rest length:  90.52228983831478\n",
      "0.16529017549719477 142.8167420549603\n",
      "0.16529017549719477 142.8167420549603\n",
      "after initialization rest length:  91.54940132395413\n",
      "distance_to_target_initialization:  0.053\n",
      "Current scale:  4.8\n",
      "0.17088398618318584 [-0.3996742  80.14140386  3.61524935]\n",
      "start rest length:  91.76539902698164\n",
      "0.1254734900303821 172.98744441467937\n",
      "0.1254734900303821 172.98744441467937\n",
      "after initialization rest length:  92.8094498846468\n",
      "distance_to_target_initialization:  0.0537\n",
      "Current scale:  4.9\n",
      "0.17088398618318584 [-0.3996742  80.14140386  3.61524935]\n",
      "start rest length:  93.01248115567876\n",
      "0.08014829131637513 208.15843618833244\n",
      "0.08014829131637513 208.15843618833244\n",
      "after initialization rest length:  94.0718263545858\n",
      "distance_to_target_initialization:  0.0541\n"
     ]
    }
   ],
   "source": [
    "data_root = './'\n",
    "for scale in np.arange(0.2, 5, 0.1):\n",
    "    scale = np.round(scale, 3)\n",
    "    print('Current scale: ', scale)\n",
    "#     if os.path.exists('{}/manual_{}.png'.format(data_root, scale)):\n",
    "#         continue\n",
    "    io = InputOrganizer('simple_hemoglobin_5_1{}'.format('_z{}'.format(scale)), thickness, width, weaving_dir)\n",
    "    get_input_data(scale)\n",
    "    if scale > 3:    \n",
    "        with so(): curved_linkage = initialize_linkage(surface_path = io.SURFACE_PATH, useCenterline = True, model_path = io.MODEL_PATH, cross_section = io.RIBBON_CS, subdivision_res = io.SUBDIVISION_RESOLUTION, interleaving_type = InterleavingType.weaving)\n",
    "        input_joint_normals = np.reshape(curved_linkage.get_closest_point_normal(curved_linkage.jointPositions()), (curved_linkage.numJoints(), 3))\n",
    "#         current_joint_normals = [curved_linkage.joint(i).normal for i in range(curved_linkage.numJoints())]\n",
    "#         current_joint_normals[35] = input_joint_normals[35]\n",
    "        with so(): curved_linkage = initialize_linkage(surface_path = io.SURFACE_PATH, useCenterline = True, model_path = io.MODEL_PATH, cross_section = io.RIBBON_CS, subdivision_res = io.SUBDIVISION_RESOLUTION, use_constant_width=True, interleaving_type=InterleavingType.triaxialWeave, input_joint_normals = input_joint_normals)\n",
    "    else:\n",
    "        with so(): curved_linkage = initialize_linkage(surface_path = io.SURFACE_PATH, useCenterline = True, model_path = io.MODEL_PATH, cross_section = io.RIBBON_CS, subdivision_res = io.SUBDIVISION_RESOLUTION)\n",
    "    curved_linkage.set_design_parameter_config(use_restLen = True, use_restKappa = True)\n",
    "    curved_save_tgt_joint_pos = curved_linkage.jointPositions();\n",
    "    print('start rest length: ', curved_linkage.totalRestLength())\n",
    "    start_length = curved_linkage.totalRestLength()\n",
    "\n",
    "    set_design_parameters_from_topology(curved_linkage, io)\n",
    "    # iterateData = stage_1_optimization(curved_linkage, drw, dsw, curved_linkage_view)\n",
    "    def eqm_callback(prob, i):\n",
    "        pass\n",
    "    OPTS.gradTol = 1e-10\n",
    "    curved_linkage.attraction_weight = 1e-5\n",
    "    with so(): elastic_rods.compute_equilibrium(curved_linkage, callback = eqm_callback, options = OPTS, fixedVars = curved_linkage.restLenFixedVars())\n",
    "    close_to_surface_bend_gradNorm = la.norm(curved_linkage.gradientBend())\n",
    "    close_to_surface_twist_gradNorm = la.norm(curved_linkage.gradientTwist())\n",
    "    close_to_surface_stretch_gradNorm = la.norm(curved_linkage.gradientStretch())\n",
    "    \n",
    "    curved_linkage_view = linkage_vis.LinkageViewerWithSurface(curved_linkage, io.SURFACE_PATH)\n",
    "\n",
    "    render_stress('{}/manual_stress_{}.png'.format(data_root, scale), rangeMin = None, rangeMax = None)\n",
    "    \n",
    "    renderCam = np.load('../../../hemoglobin_stress_renderCam.npy')\n",
    "    def renderToFile(view, renderCam, path):\n",
    "        orender = view.offscreenRenderer(width=2048, height=2048)\n",
    "        orender.setCameraParams(renderCam)\n",
    "        orender.render()\n",
    "        orender.save(path)\n",
    "\n",
    "    distance_color = write_distance_to_linkage_mesh(curved_linkage, 0.08, None, return_distance_field = True)\n",
    "    curved_linkage_view.update(scalarField = distance_color[:, :3])\n",
    "    renderToFile(curved_linkage_view, renderCam, '{}/close_{}.png'.format(data_root, scale))\n",
    "    \n",
    "    with so(): elastic_rods.compute_equilibrium(curved_linkage, callback = eqm_callback, options = OPTS)\n",
    "    # curved_linkage_view.update()\n",
    "    distance_to_target_initialization = np.round(get_max_distance_to_target_surface(curved_linkage) / curved_linkage.get_l0(), 4)\n",
    "    print('after initialization rest length: ', curved_linkage.totalRestLength())\n",
    "    print('distance_to_target_initialization: ', distance_to_target_initialization)\n",
    "    end_length = curved_linkage.totalRestLength()\n",
    "    dis = distance_to_target_initialization\n",
    "    end_surface_bend_gradNorm = la.norm(curved_linkage.gradientBend())\n",
    "    end_surface_twist_gradNorm = la.norm(curved_linkage.gradientTwist())\n",
    "    end_surface_stretch_gradNorm = la.norm(curved_linkage.gradientStretch())\n",
    "    \n",
    "    data.append([start_length, end_length, dis, close_to_surface_bend_gradNorm, close_to_surface_twist_gradNorm, close_to_surface_stretch_gradNorm, end_surface_bend_gradNorm, end_surface_twist_gradNorm, end_surface_stretch_gradNorm])\n",
    "    \n",
    "    curved_linkage_view = linkage_vis.LinkageViewerWithSurface(curved_linkage, io.SURFACE_PATH)\n",
    "#     renderCam = curved_linkage_view.getCameraParams()\n",
    "#     np.save('{}_renderCam.npy'.format(name), renderCam)\n",
    "    renderCam = np.load('../../../hemoglobin_stress_renderCam.npy')\n",
    "    def renderToFile(view, renderCam, path):\n",
    "        orender = view.offscreenRenderer(width=2048, height=2048)\n",
    "        orender.setCameraParams(renderCam)\n",
    "        orender.render()\n",
    "        orender.save(path)\n",
    "\n",
    "    distance_color = write_distance_to_linkage_mesh(curved_linkage, 0.08, None, return_distance_field = True)\n",
    "    curved_linkage_view.update(scalarField = distance_color[:, :3])\n",
    "    renderToFile(curved_linkage_view, renderCam, '{}/manual_{}.png'.format(data_root, scale))"
   ]
  },
  {
   "cell_type": "code",
   "execution_count": 82,
   "metadata": {},
   "outputs": [
    {
     "data": {
      "text/plain": [
       "0.0003585270479223348"
      ]
     },
     "execution_count": 82,
     "metadata": {},
     "output_type": "execute_result"
    }
   ],
   "source": [
    "curved_linkage.energy()"
   ]
  },
  {
   "cell_type": "code",
   "execution_count": 83,
   "metadata": {},
   "outputs": [
    {
     "data": {
      "text/plain": [
       "0.00027971263968734383"
      ]
     },
     "execution_count": 83,
     "metadata": {},
     "output_type": "execute_result"
    }
   ],
   "source": [
    "curved_linkage.energyBend()"
   ]
  },
  {
   "cell_type": "code",
   "execution_count": 17,
   "metadata": {},
   "outputs": [
    {
     "data": {
      "text/plain": [
       "array([ 4.43930917e-07, -2.82784037e-07, -3.22068444e-07, ...,\n",
       "       -7.54497638e-08, -4.06046366e-07,  1.91185269e-07])"
      ]
     },
     "execution_count": 17,
     "metadata": {},
     "output_type": "execute_result"
    }
   ],
   "source": [
    "curved_linkage.gradientTwist()"
   ]
  },
  {
   "cell_type": "code",
   "execution_count": 16,
   "metadata": {},
   "outputs": [
    {
     "data": {
      "text/plain": [
       "array([ 5.35967485e-03,  7.92330213e-03,  9.56648675e-04, ...,\n",
       "        9.29865526e-06, -2.72728534e-02, -3.04261052e-02])"
      ]
     },
     "execution_count": 16,
     "metadata": {},
     "output_type": "execute_result"
    }
   ],
   "source": [
    "curved_linkage.gradientStretch()"
   ]
  },
  {
   "cell_type": "code",
   "execution_count": 15,
   "metadata": {},
   "outputs": [
    {
     "data": {
      "text/plain": [
       "array([-0.23302828,  0.16610346, -0.07401327, ..., -0.00038758,\n",
       "        0.0253253 ,  0.01248109])"
      ]
     },
     "execution_count": 15,
     "metadata": {},
     "output_type": "execute_result"
    }
   ],
   "source": [
    "curved_linkage.gradientBend()"
   ]
  },
  {
   "cell_type": "code",
   "execution_count": 89,
   "metadata": {},
   "outputs": [],
   "source": [
    "# np.save('renderCam.npy', curved_linkage_view.getCameraParams())"
   ]
  },
  {
   "cell_type": "code",
   "execution_count": 136,
   "metadata": {},
   "outputs": [],
   "source": [
    "data = np.array(data)"
   ]
  },
  {
   "cell_type": "code",
   "execution_count": 141,
   "metadata": {},
   "outputs": [
    {
     "data": {
      "text/plain": [
       "array([0.0475, 0.0481, 0.049 , 0.0495, 0.0502, 0.0511, 0.0522, 0.053 ,\n",
       "       0.0537, 0.0541])"
      ]
     },
     "execution_count": 141,
     "metadata": {},
     "output_type": "execute_result"
    }
   ],
   "source": [
    "data[-10:, 2]"
   ]
  },
  {
   "cell_type": "code",
   "execution_count": 137,
   "metadata": {},
   "outputs": [
    {
     "data": {
      "text/plain": [
       "[<matplotlib.lines.Line2D at 0x1490af350>]"
      ]
     },
     "execution_count": 137,
     "metadata": {},
     "output_type": "execute_result"
    },
    {
     "data": {
      "image/png": "[encoded data removed]",
      "text/plain": [
       "<Figure size 432x288 with 1 Axes>"
      ]
     },
     "metadata": {
      "needs_background": "light"
     },
     "output_type": "display_data"
    }
   ],
   "source": [
    "plt.plot(data[:, 2])\n",
    "# plt.legend(['bend', 'twist', 'stretch', 'bend', 'twist', 'stretch'])"
   ]
  },
  {
   "cell_type": "code",
   "execution_count": 50,
   "metadata": {},
   "outputs": [
    {
     "name": "stdout",
     "output_type": "stream",
     "text": [
      "0.0705413174488825 0.004937892221421775\n"
     ]
    }
   ],
   "source": [
    "rod_length = 0.21162395234664752\n",
    "width = rod_length / 15 * 5\n",
    "thickness = width / 5 * 0.35\n",
    "print(width, thickness)\n",
    "# width *= 0.5\n",
    "# thickness *= 0.5\n",
    "\n",
    "io = InputOrganizer('simple_hemoglobin_5_1', thickness, width, weaving_dir)\n",
    "#  [ ear 214, ear 255, nose 39]"
   ]
  },
  {
   "cell_type": "code",
   "execution_count": 118,
   "metadata": {},
   "outputs": [
    {
     "data": {
      "application/vnd.jupyter.widget-view+json": {
       "model_id": "",
       "version_major": 2,
       "version_minor": 0
      },
      "text/plain": [
       "Renderer(camera=PerspectiveCamera(children=(PointLight(color='#999999', position=(0.0, 0.0, 5.0), quaternion=(…"
      ]
     },
     "metadata": {},
     "output_type": "display_data"
    }
   ],
   "source": [
    "with so(): curved_linkage = initialize_linkage(surface_path = io.SURFACE_PATH, useCenterline = True, model_path = io.MODEL_PATH, cross_section = io.RIBBON_CS, subdivision_res = io.SUBDIVISION_RESOLUTION)\n",
    "curved_linkage.set_design_parameter_config(use_restLen = True, use_restKappa = True)\n",
    "curved_save_tgt_joint_pos = curved_linkage.jointPositions();\n",
    "curved_linkage_view = linkage_vis.LinkageViewerWithSurface(curved_linkage, io.SURFACE_PATH)\n",
    "set_surface_view_options(curved_linkage_view)\n",
    "curved_linkage_view.show()"
   ]
  },
  {
   "cell_type": "code",
   "execution_count": 119,
   "metadata": {},
   "outputs": [],
   "source": [
    "set_design_parameters_from_topology(curved_linkage, io)"
   ]
  },
  {
   "cell_type": "code",
   "execution_count": 120,
   "metadata": {
    "scrolled": true
   },
   "outputs": [],
   "source": [
    "# iterateData = stage_1_optimization(curved_linkage, drw, dsw, curved_linkage_view)"
   ]
  },
  {
   "cell_type": "code",
   "execution_count": 88,
   "metadata": {},
   "outputs": [],
   "source": [
    "curved_linkage.attraction_weight = 1e-5\n",
    "def eqm_callback(prob, i):\n",
    "#     pass\n",
    "   curved_linkage_view.update()\n",
    "OPTS.gradTol = 1e-10"
   ]
  },
  {
   "cell_type": "code",
   "execution_count": 89,
   "metadata": {},
   "outputs": [],
   "source": [
    "OPTS.gradTol = 1e-10"
   ]
  },
  {
   "cell_type": "code",
   "execution_count": 90,
   "metadata": {},
   "outputs": [],
   "source": [
    "curved_linkage.restLenFixedVars()"
   ]
  },
  {
   "cell_type": "code",
   "execution_count": 126,
   "metadata": {
    "scrolled": true
   },
   "outputs": [
    {
     "name": "stdout",
     "output_type": "stream",
     "text": [
      "0\t0.000186756\t0.00294559\t0.00294559\t0.5\t0\n",
      "1\t0.000180572\t0.0243252\t0.0243252\t1\t0\n",
      "2\t0.000174867\t0.00477422\t0.00477422\t0.5\t0\n",
      "3\t0.000173402\t0.0102918\t0.0102918\t1\t0\n",
      "4\t0.000172007\t0.00496386\t0.00496386\t1\t0\n",
      "5\t0.000171281\t0.00768998\t0.00768998\t1\t0\n",
      "6\t0.0001708\t0.00266487\t0.00266487\t1\t0\n",
      "7\t0.000170594\t0.00365327\t0.00365327\t1\t0\n",
      "8\t0.000170484\t0.00141933\t0.00141933\t1\t0\n",
      "9\t0.000170449\t0.000559414\t0.000559414\t1\t0\n",
      "10\t0.000170442\t0.000639104\t0.000639104\t1\t0\n",
      "11\t0.000170439\t6.33818e-05\t6.33818e-05\t1\t0\n",
      "12\t0.000170439\t2.63148e-05\t2.63148e-05\t1\t0\n",
      "13\t0.000170439\t8.07696e-07\t8.07696e-07\t0.25\t0\n",
      "14\t0.000170439\t1.67879e-05\t1.67879e-05\t1\t0\n",
      "15\t0.000170439\t9.75757e-07\t9.75757e-07\t0.25\t0\n",
      "16\t0.000170439\t1.03866e-05\t1.03866e-05\t1\t0\n",
      "17\t0.000170439\t2.10962e-06\t2.10962e-06\t0.5\t0\n",
      "18\t0.000170439\t1.05099e-05\t1.05099e-05\t1\t0\n",
      "19\t0.000170439\t1.74077e-06\t1.74077e-06\t0.5\t0\n",
      "20\t0.000170439\t1.21553e-05\t1.21553e-05\t1\t0\n",
      "21\t0.000170439\t1.15609e-06\t1.15609e-06\t0.25\t0\n",
      "22\t0.000170439\t5.30281e-06\t5.30281e-06\t1\t0\n",
      "23\t0.000170439\t4.22131e-06\t4.22131e-06\t1\t0\n",
      "24\t0.000170439\t6.77815e-06\t6.77815e-06\t1\t0\n",
      "25\t0.000170439\t2.9413e-06\t2.9413e-06\t0.5\t0\n",
      "26\t0.000170439\t3.74272e-06\t3.74272e-06\t1\t0\n",
      "27\t0.000170439\t3.55681e-06\t3.55681e-06\t1\t0\n",
      "28\t0.000170439\t4.37389e-06\t4.37389e-06\t1\t0\n",
      "29\t0.000170439\t2.8527e-06\t2.8527e-06\t1\t0\n",
      "30\t0.000170439\t5.94491e-06\t5.94491e-06\t1\t0\n",
      "31\t0.000170439\t1.46848e-06\t1.46848e-06\t0.5\t0\n",
      "32\t0.000170439\t3.50884e-06\t3.50884e-06\t1\t0\n",
      "33\t0.000170439\t1.47883e-06\t1.47883e-06\t0.5\t0\n",
      "34\t0.000170439\t2.03588e-06\t2.03588e-06\t1\t0\n",
      "35\t0.000170439\t2.11241e-06\t2.11241e-06\t1\t0\n",
      "36\t0.000170439\t1.67826e-06\t1.67826e-06\t1\t0\n",
      "37\t0.000170439\t1.88535e-06\t1.88535e-06\t1\t0\n",
      "38\t0.000170439\t1.12944e-06\t1.12944e-06\t1\t0\n",
      "39\t0.000170439\t1.82047e-06\t1.82047e-06\t1\t0\n",
      "40\t0.000170439\t5.18614e-07\t5.18614e-07\t1\t0\n",
      "41\t0.000170439\t1.81213e-06\t1.81213e-06\t1\t0\n",
      "42\t0.000170439\t1.08029e-07\t1.08029e-07\t1\t0\n",
      "43\t0.000170439\t1.08934e-06\t1.08934e-06\t1\t0\n",
      "44\t0.000170439\t6.09184e-09\t6.09184e-09\t1\t0\n",
      "45\t0.000170439\t4.34396e-08\t4.34396e-08\t1\t0\n",
      "46\t0.000170439\t1.00663e-11\t1.00663e-11\t1\t0\n"
     ]
    }
   ],
   "source": [
    "elastic_rods.compute_equilibrium(curved_linkage, callback = eqm_callback, options = OPTS, fixedVars = [])\n",
    "curved_linkage_view.update()"
   ]
  },
  {
   "cell_type": "code",
   "execution_count": 123,
   "metadata": {},
   "outputs": [],
   "source": [
    "distance_to_target_initialization = np.round(get_max_distance_to_target_surface(curved_linkage) / curved_linkage.get_l0(), 4)"
   ]
  },
  {
   "cell_type": "code",
   "execution_count": 124,
   "metadata": {},
   "outputs": [
    {
     "data": {
      "text/plain": [
       "0.0043"
      ]
     },
     "execution_count": 124,
     "metadata": {},
     "output_type": "execute_result"
    }
   ],
   "source": [
    "distance_to_target_initialization"
   ]
  },
  {
   "cell_type": "code",
   "execution_count": 100,
   "metadata": {},
   "outputs": [],
   "source": [
    "ribbons = order_segments_by_ribbons(curved_linkage)"
   ]
  },
  {
   "cell_type": "code",
   "execution_count": 106,
   "metadata": {},
   "outputs": [],
   "source": [
    "seg_list = [pair[0] for pair in ribbons[2]]"
   ]
  },
  {
   "cell_type": "code",
   "execution_count": 127,
   "metadata": {},
   "outputs": [],
   "source": [
    "import vis\n",
    "from matplotlib import cm\n",
    "\n",
    "# stress = np.array(curved_linkage.maxBendingStresses())\n",
    "stress = curved_linkage.twistingStresses()\n",
    "for i in range(len(stress)):\n",
    "    if i not in seg_list:\n",
    "        stress[i] *= 0\n",
    "        \n",
    "# rangeMin = np.stack(stress).min()\n",
    "# rangeMax = np.stack(stress).max()\n",
    "sf = vis.fields.ScalarField(curved_linkage, stress, colormap=cm.magma, vmin=rangeMin, vmax=rangeMax)\n",
    "heights = curved_linkage.visualizationGeometryHeightColors()\n",
    "colors = sf.colors()\n",
    "# colors[heights < heights.mean()] = np.ones_like(sf.colors()[heights < heights.mean()]) * 0.5\n",
    "curved_linkage_view.update(scalarField = colors)\n",
    "\n",
    "renderCam = curved_linkage_view.getCameraParams()\n",
    "def renderToFile(path):\n",
    "    orender = curved_linkage_view.offscreenRenderer(width=2048, height=2048)\n",
    "    orender.setCameraParams(renderCam)\n",
    "    orender.render()\n",
    "    orender.save(path)\n",
    "renderToFile('hemoglobin_manual_twist.png')"
   ]
  },
  {
   "cell_type": "code",
   "execution_count": 17,
   "metadata": {},
   "outputs": [
    {
     "data": {
      "application/vnd.jupyter.widget-view+json": {
       "model_id": "720006c1f87e4cc089d41e0d469d55cb",
       "version_major": 2,
       "version_minor": 0
      },
      "text/plain": [
       "Renderer(camera=PerspectiveCamera(aspect=1.5, children=(PointLight(color='#999999', position=(0.0, 0.0, 5.0), …"
      ]
     },
     "metadata": {},
     "output_type": "display_data"
    }
   ],
   "source": [
    "# Visualize the stresses on a single rod before and after freeing it from the weave.\n",
    "rod_stress_view = optimization_visualization_helper.freedRibbonEquilibriumVisualization(curved_linkage, 0)\n",
    "rod_stress_view.show()"
   ]
  },
  {
   "cell_type": "code",
   "execution_count": 20,
   "metadata": {},
   "outputs": [],
   "source": [
    "optimizer = initialize_stage_2_optimizer(curved_linkage, io.SURFACE_PATH, curved_save_tgt_joint_pos, curved_linkage_view, rw, sw, inner_gradTol = 1e-7)"
   ]
  },
  {
   "cell_type": "code",
   "execution_count": 22,
   "metadata": {
    "scrolled": true
   },
   "outputs": [
    {
     "name": "stdout",
     "output_type": "stream",
     "text": [
      "rl_regularization_weight 1.0\n",
      "smoothing_weight 10.0\n",
      "stage 2 optimization with attraction weight 100.0\n",
      "Samara:  bird_1.pkl.gz\n",
      "Samara:  bird_2.pkl.gz\n",
      "Samara:  bird_3.pkl.gz\n",
      "Samara:  bird_4.pkl.gz\n",
      "Samara:  bird_5.pkl.gz\n",
      "stage 2 optimization with attraction weight 0.31622776601683794\n",
      "Samara:  bird_6.pkl.gz\n",
      "Samara:  bird_7.pkl.gz\n",
      "Samara:  bird_8.pkl.gz\n",
      "Samara:  bird_9.pkl.gz\n",
      "Samara:  bird_10.pkl.gz\n",
      "Samara:  bird_11.pkl.gz\n",
      "Samara:  bird_12.pkl.gz\n",
      "Samara:  bird_13.pkl.gz\n",
      "Samara:  bird_14.pkl.gz\n",
      "Samara:  bird_15.pkl.gz\n",
      "Samara:  bird_16.pkl.gz\n",
      "Samara:  bird_17.pkl.gz\n",
      "Samara:  bird_18.pkl.gz\n",
      "Samara:  bird_19.pkl.gz\n",
      "Samara:  bird_20.pkl.gz\n",
      "Samara:  bird_21.pkl.gz\n",
      "Samara:  bird_22.pkl.gz\n",
      "Samara:  bird_23.pkl.gz\n",
      "Samara:  bird_24.pkl.gz\n",
      "Samara:  bird_25.pkl.gz\n",
      "Samara:  bird_26.pkl.gz\n",
      "Samara:  bird_27.pkl.gz\n",
      "Samara:  bird_28.pkl.gz\n",
      "Samara:  bird_29.pkl.gz\n",
      "Samara:  bird_30.pkl.gz\n",
      "Samara:  bird_31.pkl.gz\n",
      "Samara:  bird_32.pkl.gz\n",
      "Samara:  bird_33.pkl.gz\n",
      "Samara:  bird_34.pkl.gz\n",
      "Samara:  bird_35.pkl.gz\n",
      "Samara:  bird_36.pkl.gz\n",
      "Samara:  bird_37.pkl.gz\n",
      "Samara:  bird_38.pkl.gz\n",
      "Samara:  bird_39.pkl.gz\n",
      "Samara:  bird_40.pkl.gz\n",
      "Samara:  bird_41.pkl.gz\n",
      "Samara:  bird_42.pkl.gz\n",
      "Samara:  bird_43.pkl.gz\n",
      "Samara:  bird_44.pkl.gz\n",
      "Samara:  bird_45.pkl.gz\n",
      "Samara:  bird_46.pkl.gz\n",
      "Samara:  bird_47.pkl.gz\n",
      "Samara:  bird_48.pkl.gz\n",
      "Samara:  bird_49.pkl.gz\n",
      "Samara:  bird_50.pkl.gz\n",
      "Samara:  bird_51.pkl.gz\n",
      "Samara:  bird_52.pkl.gz\n",
      "Samara:  bird_53.pkl.gz\n",
      "Samara:  bird_54.pkl.gz\n",
      "Samara:  bird_55.pkl.gz\n",
      "Samara:  bird_56.pkl.gz\n",
      "Samara:  bird_57.pkl.gz\n",
      "Samara:  bird_58.pkl.gz\n",
      "Samara:  bird_59.pkl.gz\n",
      "Samara:  bird_60.pkl.gz\n",
      "Samara:  bird_61.pkl.gz\n",
      "Samara:  bird_62.pkl.gz\n",
      "Samara:  bird_63.pkl.gz\n",
      "Samara:  bird_64.pkl.gz\n",
      "Samara:  bird_65.pkl.gz\n",
      "Samara:  bird_66.pkl.gz\n",
      "Samara:  bird_67.pkl.gz\n",
      "Samara:  bird_68.pkl.gz\n",
      "Samara:  bird_69.pkl.gz\n",
      "Samara:  bird_70.pkl.gz\n",
      "Samara:  bird_71.pkl.gz\n",
      "Samara:  bird_72.pkl.gz\n",
      "Samara:  bird_73.pkl.gz\n",
      "Samara:  bird_74.pkl.gz\n",
      "Samara:  bird_75.pkl.gz\n",
      "Samara:  bird_76.pkl.gz\n",
      "Samara:  bird_77.pkl.gz\n",
      "stage 2 optimization with attraction weight 0.001\n",
      "Samara:  bird_78.pkl.gz\n",
      "Samara:  bird_79.pkl.gz\n",
      "Samara:  bird_80.pkl.gz\n",
      "Samara:  bird_81.pkl.gz\n",
      "Samara:  bird_82.pkl.gz\n",
      "Samara:  bird_83.pkl.gz\n",
      "Samara:  bird_84.pkl.gz\n",
      "Samara:  bird_85.pkl.gz\n",
      "Samara:  bird_86.pkl.gz\n",
      "Samara:  bird_87.pkl.gz\n",
      "Samara:  bird_88.pkl.gz\n",
      "Samara:  bird_89.pkl.gz\n",
      "Samara:  bird_90.pkl.gz\n",
      "Samara:  bird_91.pkl.gz\n",
      "Samara:  bird_92.pkl.gz\n",
      "Samara:  bird_93.pkl.gz\n",
      "Samara:  bird_94.pkl.gz\n",
      "Samara:  bird_95.pkl.gz\n"
     ]
    },
    {
     "ename": "ValueError",
     "evalue": "too many values to unpack (expected 3)",
     "output_type": "error",
     "traceback": [
      "\u001b[0;31m---------------------------------------------------------------------------\u001b[0m",
      "\u001b[0;31mValueError\u001b[0m                                Traceback (most recent call last)",
      "\u001b[0;32m<ipython-input-22-f48cc4d5a163>\u001b[0m in \u001b[0;36m<module>\u001b[0;34m\u001b[0m\n\u001b[1;32m      1\u001b[0m \u001b[0mstart\u001b[0m \u001b[0;34m=\u001b[0m \u001b[0mtime\u001b[0m\u001b[0;34m.\u001b[0m\u001b[0mtime\u001b[0m\u001b[0;34m(\u001b[0m\u001b[0;34m)\u001b[0m\u001b[0;34m\u001b[0m\u001b[0;34m\u001b[0m\u001b[0m\n\u001b[0;32m----> 2\u001b[0;31m \u001b[0moptimizer\u001b[0m\u001b[0;34m,\u001b[0m \u001b[0mopt_iterateData\u001b[0m\u001b[0;34m,\u001b[0m \u001b[0mweight_change_iterations\u001b[0m \u001b[0;34m=\u001b[0m \u001b[0mstage_2_optimization\u001b[0m\u001b[0;34m(\u001b[0m\u001b[0moptimizer\u001b[0m\u001b[0;34m,\u001b[0m \u001b[0mcurved_linkage\u001b[0m\u001b[0;34m,\u001b[0m \u001b[0mio\u001b[0m\u001b[0;34m.\u001b[0m\u001b[0mSURFACE_PATH\u001b[0m\u001b[0;34m,\u001b[0m \u001b[0mcurved_save_tgt_joint_pos\u001b[0m\u001b[0;34m,\u001b[0m \u001b[0mcurved_linkage_view\u001b[0m\u001b[0;34m,\u001b[0m \u001b[0;34m-\u001b[0m\u001b[0;36m1\u001b[0m\u001b[0;34m,\u001b[0m \u001b[0;34m[\u001b[0m\u001b[0;34m]\u001b[0m\u001b[0;34m,\u001b[0m \u001b[0;34m-\u001b[0m\u001b[0;36m3\u001b[0m\u001b[0;34m,\u001b[0m \u001b[0;36m3\u001b[0m\u001b[0;34m,\u001b[0m \u001b[0mreturn_weight_change_iteration\u001b[0m \u001b[0;34m=\u001b[0m \u001b[0;32mTrue\u001b[0m\u001b[0;34m)\u001b[0m\u001b[0;34m\u001b[0m\u001b[0;34m\u001b[0m\u001b[0m\n\u001b[0m\u001b[1;32m      3\u001b[0m \u001b[0mprint\u001b[0m\u001b[0;34m(\u001b[0m\u001b[0mtime\u001b[0m\u001b[0;34m.\u001b[0m\u001b[0mtime\u001b[0m\u001b[0;34m(\u001b[0m\u001b[0;34m)\u001b[0m \u001b[0;34m-\u001b[0m \u001b[0mstart\u001b[0m\u001b[0;34m)\u001b[0m\u001b[0;34m\u001b[0m\u001b[0;34m\u001b[0m\u001b[0m\n",
      "\u001b[0;31mValueError\u001b[0m: too many values to unpack (expected 3)"
     ]
    }
   ],
   "source": [
    "start = time.time()\n",
    "optimizer, opt_iterateData, weight_change_iterations, solverStatusList = stage_2_optimization(optimizer, curved_linkage, io.SURFACE_PATH, curved_save_tgt_joint_pos, curved_linkage_view, -1, [], -3, 3, return_weight_change_iteration = True)\n",
    "print(time.time() - start)"
   ]
  },
  {
   "cell_type": "code",
   "execution_count": 116,
   "metadata": {},
   "outputs": [],
   "source": [
    "renderCam = curved_linkage_view.getCameraParams()\n",
    "def renderToFile(path):\n",
    "    orender = curved_linkage_view.offscreenRenderer(width=2048, height=2048)\n",
    "    orender.setCameraParams(renderCam)\n",
    "    orender.render()\n",
    "    orender.save(path)\n",
    "renderToFile('hemoglobin_manual.png')"
   ]
  },
  {
   "cell_type": "code",
   "execution_count": 117,
   "metadata": {},
   "outputs": [],
   "source": [
    "#         {\n",
    "#             \"name\": \"simple_hemoglobin_5_1_z4.6\",\n",
    "#             \"display_name\": \"Teardrop Deep\",\n",
    "#             \"thickness\": 0.004937892221421775,\n",
    "#             \"width\": 0.0705413174488825,\n",
    "#             \"constant_cross_section\": true,\n",
    "#             \"cross_section_scale\": [\n",
    "#                 0,\n",
    "#                 0\n",
    "#             ],\n",
    "#             \"scale_joint_weight\": \"-1\",\n",
    "#             \"update_attraction_weight\": -5,\n",
    "#             \"number_of_updates\": 3,\n",
    "#             \"fix_boundary\": false,\n",
    "#             \"only_two_stage\": false,\n",
    "#             \"num_joints\": 120,\n",
    "#             \"num_segments\": 240,\n",
    "#             \"num_ribbons\": 12,\n",
    "#             \"num_sim_vars\": 17640,\n",
    "#             \"num_design_vars\": 4800\n",
    "#         },"
   ]
  },
  {
   "cell_type": "code",
   "execution_count": null,
   "metadata": {},
   "outputs": [],
   "source": []
  }
 ],
 "metadata": {
  "kernelspec": {
   "display_name": "Python 3",
   "language": "python",
   "name": "python3"
  },
  "language_info": {
   "codemirror_mode": {
    "name": "ipython",
    "version": 3
   },
   "file_extension": ".py",
   "mimetype": "text/x-python",
   "name": "python",
   "nbconvert_exporter": "python",
   "pygments_lexer": "ipython3",
   "version": "3.7.9"
  }
 },
 "nbformat": 4,
 "nbformat_minor": 4
}
