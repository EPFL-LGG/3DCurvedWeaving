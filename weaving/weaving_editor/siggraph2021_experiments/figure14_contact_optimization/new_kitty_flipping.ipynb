{
 "cells": [
  {
   "cell_type": "code",
   "execution_count": 1,
   "metadata": {},
   "outputs": [],
   "source": [
    "elastic_rods_dir = '../../../../elastic_rods/python/'\n",
    "weaving_dir = '../../../'\n",
    "import os\n",
    "import os.path as osp\n",
    "import sys; sys.path.append(elastic_rods_dir); sys.path.append(weaving_dir)\n",
    "import numpy as np, elastic_rods, linkage_vis\n",
    "import numpy.linalg as la\n",
    "from bending_validation import suppress_stdout as so\n",
    "import matplotlib.pyplot as plt\n",
    "from elastic_rods import EnergyType, InterleavingType\n",
    "\n",
    "# weaving\n",
    "import analysis_helper, ribbon_linkage_helper, mesh_vis, linkage_utils, compute_curve_from_curvature, pipeline_helper, importlib\n",
    "importlib.reload(analysis_helper)\n",
    "importlib.reload(ribbon_linkage_helper)\n",
    "importlib.reload(mesh_vis)\n",
    "importlib.reload(linkage_utils)\n",
    "importlib.reload(compute_curve_from_curvature)\n",
    "importlib.reload(pipeline_helper)\n",
    "from analysis_helper import (compare_turning_angle,\n",
    "                            is_on_sphere, \n",
    "                            get_distance_to_center_scalar_field, \n",
    "                            plot_curvatures, \n",
    "                            get_curvature_scalar_field,\n",
    "                            construct_elastic_rod_loop_from_rod_segments, \n",
    "                            concatenate_rod_properties_from_rod_segments, \n",
    "                            compute_min_distance_rigid_transformation)\n",
    "from ribbon_linkage_helper import (update_rest_curvature, \n",
    "                                   set_ribbon_linkage,\n",
    "                                   export_linkage_geometry_to_obj,\n",
    "                                   write_linkage_ribbon_output_florin)\n",
    "\n",
    "from compute_curve_from_curvature import (match_geo_curvature_and_edge_len, get_all_curve_pattern)\n",
    "from linkage_utils import order_segments_by_ribbons, get_turning_angle_and_length_from_ordered_rods\n",
    "\n",
    "from pipeline_helper import (initialize_linkage, get_normal_deviation, set_joint_vector_field, stage_1_optimization, initialize_stage_2_optimizer, stage_2_optimization, InputOrganizer, write_all_output, set_surface_view_options, get_structure_analysis_view, contact_optimization, get_double_side_view, show_selected_joints, highlight_rod_and_joint)\n",
    "import vis.fields\n",
    "import matplotlib.cm as cm\n",
    "import time"
   ]
  },
  {
   "cell_type": "code",
   "execution_count": 2,
   "metadata": {},
   "outputs": [],
   "source": [
    "import parallelism\n",
    "parallelism.set_max_num_tbb_threads(24)\n",
    "parallelism.set_hessian_assembly_num_threads(8)\n",
    "parallelism.set_gradient_assembly_num_threads(8)"
   ]
  },
  {
   "cell_type": "code",
   "execution_count": 3,
   "metadata": {},
   "outputs": [
    {
     "name": "stdout",
     "output_type": "stream",
     "text": [
      "0.033273539253433904 0.0023291477477403733\n"
     ]
    }
   ],
   "source": [
    "rod_length = 0.09982061776030171\n",
    "width = rod_length / 15 * 5\n",
    "thickness = width / 5 * 0.35\n",
    "print(width, thickness)\n",
    "io = InputOrganizer('new_kitty_1', thickness, width, weaving_dir)\n",
    "#  [ ear 214, ear 255, nose 39]"
   ]
  },
  {
   "cell_type": "code",
   "execution_count": 4,
   "metadata": {},
   "outputs": [],
   "source": [
    "import py_newton_optimizer\n",
    "OPTS = py_newton_optimizer.NewtonOptimizerOptions()\n",
    "OPTS.gradTol = 1e-6\n",
    "OPTS.verbose = 1;\n",
    "OPTS.beta = 1e-8\n",
    "OPTS.niter = 200\n",
    "OPTS.verboseNonPosDef = False\n",
    "rw = 1\n",
    "sw = 10\n",
    "drw = 0.01\n",
    "dsw = 0.01"
   ]
  },
  {
   "cell_type": "code",
   "execution_count": 5,
   "metadata": {},
   "outputs": [],
   "source": [
    "import pickle \n",
    "import gzip"
   ]
  },
  {
   "cell_type": "code",
   "execution_count": 6,
   "metadata": {},
   "outputs": [],
   "source": [
    "# pickle.dump(curved_linkage, gzip.open('{}_stage_2_20201210.pkl.gz'.format(io.MODEL_NAME), 'w'))"
   ]
  },
  {
   "cell_type": "code",
   "execution_count": 20,
   "metadata": {},
   "outputs": [
    {
     "data": {
      "application/vnd.jupyter.widget-view+json": {
       "model_id": "6cb528251b444812aaae8b35f44f90a0",
       "version_major": 2,
       "version_minor": 0
      },
      "text/plain": [
       "Renderer(camera=PerspectiveCamera(children=(PointLight(color='#999999', position=(0.0, 0.0, 5.0), quaternion=(…"
      ]
     },
     "metadata": {},
     "output_type": "display_data"
    }
   ],
   "source": [
    "curved_linkage = pickle.load(gzip.open('{}_stage_2_20201210.pkl.gz'.format(io.MODEL_NAME), 'r'))\n",
    "curved_linkage_view = linkage_vis.LinkageViewerWithSurface(curved_linkage, io.SURFACE_PATH)\n",
    "curved_save_tgt_joint_pos = curved_linkage.jointPositions();\n",
    "set_surface_view_options(curved_linkage_view, linkage_color='lightgreen')\n",
    "curved_linkage_view.show()"
   ]
  },
  {
   "cell_type": "code",
   "execution_count": 21,
   "metadata": {},
   "outputs": [],
   "source": [
    "curved_linkage.attraction_weight = 0.1"
   ]
  },
  {
   "cell_type": "code",
   "execution_count": 22,
   "metadata": {},
   "outputs": [],
   "source": [
    "def eqm_callback(prob, i):\n",
    "#     curved_linkage_view.update()\n",
    "    pass"
   ]
  },
  {
   "cell_type": "code",
   "execution_count": 23,
   "metadata": {
    "scrolled": true
   },
   "outputs": [
    {
     "name": "stdout",
     "output_type": "stream",
     "text": [
      "0\t3.01723e-05\t6.72968e-08\t6.72968e-08\t0\t0\n"
     ]
    },
    {
     "data": {
      "text/plain": [
       "<py_newton_optimizer.ConvergenceReport at 0x128619a30>"
      ]
     },
     "execution_count": 23,
     "metadata": {},
     "output_type": "execute_result"
    }
   ],
   "source": [
    "elastic_rods.compute_equilibrium(curved_linkage, callback = eqm_callback, options = OPTS)"
   ]
  },
  {
   "cell_type": "code",
   "execution_count": 24,
   "metadata": {},
   "outputs": [],
   "source": [
    "def get_opposite_joint_type(curr_type):\n",
    "    if curr_type == curved_linkage.joint(0).Type.A_OVER_B:\n",
    "        return curved_linkage.joint(0).Type.B_OVER_A\n",
    "    return curved_linkage.joint(0).Type.A_OVER_B\n",
    "import structural_analysis"
   ]
  },
  {
   "cell_type": "code",
   "execution_count": 25,
   "metadata": {},
   "outputs": [
    {
     "name": "stdout",
     "output_type": "stream",
     "text": [
      "Coefficient of Friction Percentiles 50, 75, 90:  1.1042398698526457 3.330796398320703 7.647840273133552\n"
     ]
    },
    {
     "data": {
      "application/vnd.jupyter.widget-view+json": {
       "model_id": "0d38dd8af8304f3bbfbcc2e95b493cf8",
       "version_major": 2,
       "version_minor": 0
      },
      "text/plain": [
       "HBox(children=(Renderer(camera=PerspectiveCamera(children=(PointLight(color='#999999', position=(0.0, 0.0, 5.0…"
      ]
     },
     "metadata": {},
     "output_type": "display_data"
    },
    {
     "data": {
      "image/png": "[encoded data removed]",
      "text/plain": [
       "<Figure size 1080x288 with 4 Axes>"
      ]
     },
     "metadata": {
      "needs_background": "light"
     },
     "output_type": "display_data"
    }
   ],
   "source": [
    "structure_view = get_structure_analysis_view(curved_linkage)\n",
    "structure_view.show()"
   ]
  },
  {
   "cell_type": "code",
   "execution_count": 15,
   "metadata": {
    "scrolled": true
   },
   "outputs": [
    {
     "name": "stdout",
     "output_type": "stream",
     "text": [
      "Flipping crossing:  [112 490 392 114 181 115 148 145 258 150 254 390 505  36 484 179 177 315\n",
      "  69 314  66  62 417 339 463 158 155 397 468 210 348 286 212 213 214 153\n",
      " 105 106 350 108 482 154 372]\n",
      "0\t0.00115541\t0.304596\t0.304596\t1\t1\n",
      "1\t0.000411555\t1.04334\t1.04334\t1\t1\n",
      "2\t0.000246141\t0.147729\t0.147729\t1\t1\n",
      "3\t0.000228808\t0.0288741\t0.0288741\t1\t1\n",
      "4\t0.000211401\t0.0230569\t0.0230569\t1\t1\n",
      "5\t0.000188788\t0.0186022\t0.0186022\t1\t1\n",
      "6\t0.00016179\t0.0143549\t0.0143549\t1\t0\n",
      "7\t9.70898e-05\t0.14315\t0.14315\t1\t1\n",
      "8\t5.47049e-05\t0.0629998\t0.0629998\t1\t1\n",
      "9\t4.82483e-05\t0.036674\t0.036674\t1\t1\n",
      "10\t4.36617e-05\t0.00645515\t0.00645515\t1\t1\n",
      "11\t4.05993e-05\t0.0346376\t0.0346376\t1\t1\n",
      "12\t3.9817e-05\t0.111157\t0.111157\t1\t1\n",
      "13\t3.79536e-05\t0.0162478\t0.0162478\t1\t1\n",
      "14\t3.77913e-05\t0.000665678\t0.000665678\t1\t0\n",
      "15\t3.26151e-05\t0.0181014\t0.0181014\t1\t1\n",
      "16\t3.21453e-05\t0.000476745\t0.000476745\t0.5\t0\n",
      "17\t3.19314e-05\t0.00432875\t0.00432875\t1\t1\n",
      "18\t3.18608e-05\t0.000153856\t0.000153856\t1\t0\n",
      "19\t3.16813e-05\t0.0025517\t0.0025517\t1\t0\n",
      "20\t3.16394e-05\t0.000342788\t0.000342788\t1\t0\n",
      "21\t3.16369e-05\t0.000145162\t0.000145162\t1\t0\n",
      "22\t3.16366e-05\t1.77852e-06\t1.77852e-06\t1\t0\n",
      "23\t3.16366e-05\t7.48846e-07\t7.48846e-07\t1\t0\n"
     ]
    }
   ],
   "source": [
    "cfm = structural_analysis.weavingCrossingForceMagnitudes(curved_linkage, True)\n",
    "if np.sum(cfm[:, 0]>0) > 0:\n",
    "    print(\"Flipping crossing: \", np.argsort(cfm[:, 0] > 0)[-1 * np.sum(cfm[:, 0] > 0):])\n",
    "    for i in np.argsort(cfm[:, 0] > 0)[-1 * np.sum(cfm[:, 0] > 0):]:\n",
    "        curved_linkage.joint(i).type = get_opposite_joint_type(curved_linkage.joint(i).type)\n",
    "    elastic_rods.compute_equilibrium(curved_linkage, callback = eqm_callback, options = OPTS)\n",
    "    curved_linkage_view.update()"
   ]
  },
  {
   "cell_type": "code",
   "execution_count": 17,
   "metadata": {},
   "outputs": [],
   "source": [
    "# second_structure_view = get_structure_analysis_view(curved_linkage)\n",
    "# second_structure_view.show()"
   ]
  },
  {
   "cell_type": "code",
   "execution_count": 16,
   "metadata": {
    "scrolled": true
   },
   "outputs": [
    {
     "name": "stdout",
     "output_type": "stream",
     "text": [
      "Flipping crossing:  [253  37 217 100 209 182 436  80 176 492 316 480]\n",
      "0\t0.000307201\t0.147697\t0.147697\t1\t1\n",
      "1\t9.32646e-05\t0.22222\t0.22222\t1\t1\n",
      "2\t7.06388e-05\t0.105891\t0.105891\t1\t1\n",
      "3\t6.17664e-05\t0.0919522\t0.0919522\t1\t1\n",
      "4\t5.499e-05\t0.100398\t0.100398\t1\t1\n",
      "5\t5.1048e-05\t0.020615\t0.020615\t1\t1\n",
      "6\t4.75821e-05\t0.00267896\t0.00267896\t1\t0\n",
      "7\t3.70021e-05\t0.019574\t0.019574\t1\t1\n",
      "8\t3.3293e-05\t0.00114316\t0.00114316\t1\t0\n",
      "9\t3.18983e-05\t0.00164483\t0.00164483\t1\t0\n",
      "10\t3.18364e-05\t0.000703739\t0.000703739\t1\t0\n",
      "11\t3.18282e-05\t5.07333e-05\t5.07333e-05\t1\t0\n",
      "12\t3.18282e-05\t2.11117e-06\t2.11117e-06\t1\t0\n",
      "13\t3.18282e-05\t2.62362e-09\t2.62362e-09\t1\t0\n"
     ]
    }
   ],
   "source": [
    "cfm = structural_analysis.weavingCrossingForceMagnitudes(curved_linkage, True)\n",
    "if np.sum(cfm[:, 0]>0) > 0:\n",
    "    print(\"Flipping crossing: \", np.argsort(cfm[:, 0] > 0)[-1 * np.sum(cfm[:, 0] > 0):])\n",
    "    for i in np.argsort(cfm[:, 0] > 0)[-1 * np.sum(cfm[:, 0] > 0):]:\n",
    "        curved_linkage.joint(i).type = get_opposite_joint_type(curved_linkage.joint(i).type)\n",
    "    elastic_rods.compute_equilibrium(curved_linkage, callback = eqm_callback, options = OPTS)\n",
    "    curved_linkage_view.update()"
   ]
  },
  {
   "cell_type": "code",
   "execution_count": 18,
   "metadata": {},
   "outputs": [],
   "source": [
    "# third_structure_view = get_structure_analysis_view(curved_linkage)\n",
    "# third_structure_view.show()"
   ]
  },
  {
   "cell_type": "code",
   "execution_count": 19,
   "metadata": {},
   "outputs": [
    {
     "name": "stdout",
     "output_type": "stream",
     "text": [
      "Flipping crossing:  [180 472 101 349]\n",
      "0\t0.000127639\t0.0867842\t0.0867842\t0.5\t1\n",
      "1\t0.000123604\t0.282794\t0.282794\t1\t1\n",
      "2\t6.32149e-05\t0.0206963\t0.0206963\t1\t1\n",
      "3\t5.51597e-05\t0.0106225\t0.0106225\t1\t1\n",
      "4\t4.90516e-05\t0.0066543\t0.0066543\t1\t1\n",
      "5\t4.41598e-05\t0.0042361\t0.0042361\t1\t0\n",
      "6\t4.12661e-05\t0.0644203\t0.0644203\t1\t1\n",
      "7\t3.41148e-05\t0.00651791\t0.00651791\t0.125\t0\n",
      "8\t3.40746e-05\t0.00832364\t0.00832364\t1\t1\n",
      "9\t3.3205e-05\t0.000794393\t0.000794393\t1\t0\n",
      "10\t3.21053e-05\t0.00394348\t0.00394348\t1\t1\n",
      "11\t3.19681e-05\t0.000132084\t0.000132084\t0.5\t0\n",
      "12\t3.18898e-05\t0.000662032\t0.000662032\t1\t0\n",
      "13\t3.18561e-05\t0.000246606\t0.000246606\t1\t0\n",
      "14\t3.18526e-05\t6.52844e-05\t6.52844e-05\t1\t0\n",
      "15\t3.18525e-05\t7.85878e-06\t7.85878e-06\t1\t0\n",
      "16\t3.18525e-05\t9.28241e-08\t9.28241e-08\t1\t0\n"
     ]
    }
   ],
   "source": [
    "cfm = structural_analysis.weavingCrossingForceMagnitudes(curved_linkage, True)\n",
    "if np.sum(cfm[:, 0]>0) > 0:\n",
    "    print(\"Flipping crossing: \", np.argsort(cfm[:, 0] > 0)[-1 * np.sum(cfm[:, 0] > 0):])\n",
    "    for i in np.argsort(cfm[:, 0] > 0)[-1 * np.sum(cfm[:, 0] > 0):]:\n",
    "        curved_linkage.joint(i).type = get_opposite_joint_type(curved_linkage.joint(i).type)\n",
    "    elastic_rods.compute_equilibrium(curved_linkage, callback = eqm_callback, options = OPTS)\n",
    "    curved_linkage_view.update()"
   ]
  },
  {
   "cell_type": "code",
   "execution_count": 20,
   "metadata": {},
   "outputs": [
    {
     "name": "stdout",
     "output_type": "stream",
     "text": [
      "Coefficient of Friction Percentiles 50, 75, 90:  1.7589037476355234 4.917468772221742 10.76527718157693\n"
     ]
    },
    {
     "data": {
      "application/vnd.jupyter.widget-view+json": {
       "model_id": "8f3a91d0e7c740af99a8af6d1049a657",
       "version_major": 2,
       "version_minor": 0
      },
      "text/plain": [
       "HBox(children=(Renderer(camera=PerspectiveCamera(children=(PointLight(color='#999999', position=(0.0, 0.0, 5.0…"
      ]
     },
     "metadata": {},
     "output_type": "display_data"
    },
    {
     "data": {
      "image/png": "[encoded data removed]",
      "text/plain": [
       "<Figure size 1080x288 with 4 Axes>"
      ]
     },
     "metadata": {
      "needs_background": "light"
     },
     "output_type": "display_data"
    }
   ],
   "source": [
    "fourth_structure_view = get_structure_analysis_view(curved_linkage)\n",
    "fourth_structure_view.show()"
   ]
  },
  {
   "cell_type": "code",
   "execution_count": 26,
   "metadata": {},
   "outputs": [],
   "source": [
    "optimizer = initialize_stage_2_optimizer(curved_linkage, io.SURFACE_PATH, curved_save_tgt_joint_pos, curved_linkage_view, rw, sw, inner_gradTol = 1e-6)\n",
    "optimizer.scaleJointWeights(0.1, 1000, [396, 412, 497])"
   ]
  },
  {
   "cell_type": "code",
   "execution_count": 27,
   "metadata": {},
   "outputs": [
    {
     "data": {
      "text/plain": [
       "{'ElasticEnergy': 0.9999999999999998,\n",
       " 'TargetFitting': 0.11648874074872767,\n",
       " 'RestLengthMinimization': 1.0,\n",
       " 'RestCurvatureSmoothing': 0.010739390016527564,\n",
       " 'ContactForce': 0.003427521826463745}"
      ]
     },
     "execution_count": 27,
     "metadata": {},
     "output_type": "execute_result"
    }
   ],
   "source": [
    "optimizer.objective.terms[-1].term.weight = 5e6\n",
    "{t.name: t.term.value() for t in optimizer.objective.terms}"
   ]
  },
  {
   "cell_type": "code",
   "execution_count": null,
   "metadata": {},
   "outputs": [],
   "source": [
    "optimizer, contact_opt_iterateData = contact_optimization(optimizer, curved_linkage, curved_linkage_view, minRestLen=-1, contact_weight = 5e6, normalWeight = 10, torqueWeight = 0, maxIter=2000, normalActivationThreshold=-5e-6)"
   ]
  },
  {
   "cell_type": "code",
   "execution_count": null,
   "metadata": {},
   "outputs": [],
   "source": []
  }
 ],
 "metadata": {
  "kernelspec": {
   "display_name": "Python 3",
   "language": "python",
   "name": "python3"
  },
  "language_info": {
   "codemirror_mode": {
    "name": "ipython",
    "version": 3
   },
   "file_extension": ".py",
   "mimetype": "text/x-python",
   "name": "python",
   "nbconvert_exporter": "python",
   "pygments_lexer": "ipython3",
   "version": "3.7.9"
  }
 },
 "nbformat": 4,
 "nbformat_minor": 4
}
