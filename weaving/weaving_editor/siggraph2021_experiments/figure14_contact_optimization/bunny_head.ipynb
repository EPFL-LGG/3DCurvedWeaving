{
 "cells": [
  {
   "cell_type": "code",
   "execution_count": 1,
   "metadata": {},
   "outputs": [],
   "source": [
    "elastic_rods_dir = '../../../../elastic_rods/python/'\n",
    "weaving_dir = '../../../'\n",
    "import os\n",
    "import os.path as osp\n",
    "import sys; sys.path.append(elastic_rods_dir); sys.path.append(weaving_dir)\n",
    "import numpy as np, elastic_rods, linkage_vis\n",
    "import numpy.linalg as la\n",
    "from bending_validation import suppress_stdout as so\n",
    "import matplotlib.pyplot as plt\n",
    "from elastic_rods import EnergyType, InterleavingType\n",
    "\n",
    "# weaving\n",
    "import analysis_helper, ribbon_linkage_helper, mesh_vis, linkage_utils, compute_curve_from_curvature, pipeline_helper, optimization_visualization_helper, importlib\n",
    "importlib.reload(analysis_helper)\n",
    "importlib.reload(ribbon_linkage_helper)\n",
    "importlib.reload(mesh_vis)\n",
    "importlib.reload(linkage_utils)\n",
    "importlib.reload(compute_curve_from_curvature)\n",
    "importlib.reload(pipeline_helper)\n",
    "importlib.reload(optimization_visualization_helper)\n",
    "from analysis_helper import (compare_turning_angle,\n",
    "                            is_on_sphere, \n",
    "                            get_distance_to_center_scalar_field, \n",
    "                            plot_curvatures, \n",
    "                            get_curvature_scalar_field,\n",
    "                            construct_elastic_rod_loop_from_rod_segments, \n",
    "                            concatenate_rod_properties_from_rod_segments, \n",
    "                            compute_min_distance_rigid_transformation)\n",
    "from ribbon_linkage_helper import (update_rest_curvature, \n",
    "                                   set_ribbon_linkage,\n",
    "                                   export_linkage_geometry_to_obj,\n",
    "                                   write_linkage_ribbon_output_florin)\n",
    "\n",
    "from compute_curve_from_curvature import (match_geo_curvature_and_edge_len, get_all_curve_pattern)\n",
    "from linkage_utils import order_segments_by_ribbons, get_turning_angle_and_length_from_ordered_rods\n",
    "\n",
    "from pipeline_helper import (initialize_linkage, get_normal_deviation, set_joint_vector_field, stage_1_optimization, initialize_stage_2_optimizer, stage_2_optimization, InputOrganizer, write_all_output, set_surface_view_options, get_structure_analysis_view, contact_optimization, get_double_side_view, show_selected_joints, get_max_distance_to_target_surface, get_average_distance_to_target_surface, get_normal_deviation)\n",
    "from optimization_visualization_helper import (compute_visualization_data_from_raw_data, get_objective_components_stage1, get_objective_components_stage2, set_figure_label_and_limit, Visualization_Setting, plot_objective)\n",
    "\n",
    "import vis.fields\n",
    "import matplotlib.cm as cm\n",
    "import time"
   ]
  },
  {
   "cell_type": "code",
   "execution_count": 2,
   "metadata": {},
   "outputs": [],
   "source": [
    "import parallelism\n",
    "parallelism.set_max_num_tbb_threads(12)\n",
    "parallelism.set_hessian_assembly_num_threads(4)\n",
    "parallelism.set_gradient_assembly_num_threads(4)"
   ]
  },
  {
   "cell_type": "code",
   "execution_count": 3,
   "metadata": {},
   "outputs": [
    {
     "name": "stdout",
     "output_type": "stream",
     "text": [
      "0.024955154440075428 0.0017468608108052797\n"
     ]
    }
   ],
   "source": [
    "rod_length = 0.09982061776030171\n",
    "width = rod_length / 20 * 5\n",
    "thickness = width / 5 * 0.35\n",
    "print(width, thickness)\n",
    "io = InputOrganizer('bunny_head_small_triaxial_1', thickness, width, weaving_dir)"
   ]
  },
  {
   "cell_type": "code",
   "execution_count": 4,
   "metadata": {},
   "outputs": [],
   "source": [
    "import py_newton_optimizer\n",
    "OPTS = py_newton_optimizer.NewtonOptimizerOptions()\n",
    "OPTS.gradTol = 1e-8\n",
    "OPTS.verbose = 1;\n",
    "OPTS.beta = 1e-8\n",
    "OPTS.niter = 200\n",
    "OPTS.verboseNonPosDef = False\n",
    "rw = 1\n",
    "sw = 10\n",
    "drw = 0.1\n",
    "dsw = 0.1"
   ]
  },
  {
   "cell_type": "markdown",
   "metadata": {},
   "source": [
    "### Initialization"
   ]
  },
  {
   "cell_type": "code",
   "execution_count": 5,
   "metadata": {},
   "outputs": [
    {
     "data": {
      "application/vnd.jupyter.widget-view+json": {
       "model_id": "",
       "version_major": 2,
       "version_minor": 0
      },
      "text/plain": [
       "Renderer(camera=PerspectiveCamera(children=(PointLight(color='#999999', position=(0.0, 0.0, 5.0), quaternion=(…"
      ]
     },
     "metadata": {},
     "output_type": "display_data"
    }
   ],
   "source": [
    "with so(): curved_linkage = initialize_linkage(surface_path = io.SURFACE_PATH, useCenterline = True, model_path = io.MODEL_PATH, cross_section = io.RIBBON_CS, subdivision_res = io.SUBDIVISION_RESOLUTION, use_constant_width=True, interleaving_type=InterleavingType.weaving)\n",
    "curved_linkage.set_design_parameter_config(use_restLen = True, use_restKappa = True)\n",
    "curved_save_tgt_joint_pos = curved_linkage.jointPositions();\n",
    "curved_linkage_view = linkage_vis.LinkageViewer(curved_linkage)\n",
    "# set_surface_view_options(curved_linkage_view)\n",
    "curved_linkage_view.show()"
   ]
  },
  {
   "cell_type": "markdown",
   "metadata": {},
   "source": [
    "#### Compute the joint normals from the target surface"
   ]
  },
  {
   "cell_type": "code",
   "execution_count": 6,
   "metadata": {},
   "outputs": [],
   "source": [
    "input_joint_normals = np.reshape(curved_linkage.get_closest_point_normal(curved_linkage.jointPositions()), (curved_linkage.numJoints(), 3))"
   ]
  },
  {
   "cell_type": "markdown",
   "metadata": {},
   "source": [
    "#### For the normals around the ears, it is better to use the best fit plane normal. So only swap out the troubling vertex 35"
   ]
  },
  {
   "cell_type": "code",
   "execution_count": 7,
   "metadata": {},
   "outputs": [],
   "source": [
    "current_joint_normals = [curved_linkage.joint(i).normal for i in range(curved_linkage.numJoints())]\n",
    "current_joint_normals[35] = input_joint_normals[35]"
   ]
  },
  {
   "cell_type": "code",
   "execution_count": 8,
   "metadata": {},
   "outputs": [
    {
     "data": {
      "application/vnd.jupyter.widget-view+json": {
       "model_id": "7117d7db6b784049b5095672472e7173",
       "version_major": 2,
       "version_minor": 0
      },
      "text/plain": [
       "Renderer(camera=PerspectiveCamera(children=(PointLight(color='#999999', position=(0.0, 0.0, 5.0), quaternion=(…"
      ]
     },
     "metadata": {},
     "output_type": "display_data"
    }
   ],
   "source": [
    "with so(): curved_linkage = initialize_linkage(surface_path = io.SURFACE_PATH, useCenterline = True, model_path = io.MODEL_PATH, cross_section = io.RIBBON_CS, subdivision_res = io.SUBDIVISION_RESOLUTION, use_constant_width=True, interleaving_type=InterleavingType.triaxialWeave, input_joint_normals = current_joint_normals)\n",
    "curved_linkage.set_design_parameter_config(use_restLen = True, use_restKappa = True)\n",
    "curved_save_tgt_joint_pos = curved_linkage.jointPositions();\n",
    "curved_linkage_view = linkage_vis.LinkageViewer(curved_linkage)\n",
    "# set_surface_view_options(curved_linkage_view)\n",
    "curved_linkage_view.show()"
   ]
  },
  {
   "cell_type": "code",
   "execution_count": 9,
   "metadata": {},
   "outputs": [],
   "source": [
    "curved_linkage.setExtendedDoFsPSRL(np.load('../results/bunny_head_small_triaxial_1/bunny_head_small_triaxial_1_dof.npy'))"
   ]
  },
  {
   "cell_type": "code",
   "execution_count": 10,
   "metadata": {},
   "outputs": [],
   "source": [
    "topColor =[79/255., 158/255., 246/255.]\n",
    "bottomColor =[0.5, 0.5, 0.5]\n",
    "heights = curved_linkage.visualizationGeometryHeightColors()\n",
    "colors = np.take(np.array([bottomColor, topColor]), heights < heights.mean(), axis=0)"
   ]
  },
  {
   "cell_type": "code",
   "execution_count": 11,
   "metadata": {},
   "outputs": [],
   "source": [
    "curved_linkage_view.update(scalarField=colors)"
   ]
  },
  {
   "cell_type": "code",
   "execution_count": 12,
   "metadata": {},
   "outputs": [],
   "source": [
    "curved_linkage_view.setCameraParams(((4.139347366530763, -3.927678946178955, 0.7924706632167623),\n",
    " (-0.038125872037145875, 0.15887387844372028, 0.9865624707182293),\n",
    " (0.0, 0.0, 0.0)))"
   ]
  },
  {
   "cell_type": "code",
   "execution_count": 13,
   "metadata": {},
   "outputs": [],
   "source": [
    "curved_linkage.attraction_weight = 1e-7"
   ]
  },
  {
   "cell_type": "code",
   "execution_count": 14,
   "metadata": {
    "scrolled": true
   },
   "outputs": [],
   "source": [
    "# iterateData = stage_1_optimization(curved_linkage, 0.1, 0.1, curved_linkage_view)"
   ]
  },
  {
   "cell_type": "code",
   "execution_count": 15,
   "metadata": {},
   "outputs": [],
   "source": [
    "# curved_linkage.setMaterial(elastic_rods.RodMaterial('rectangle', 2000, 0.3, [thickness, width], stiffAxis=elastic_rods.StiffAxis.D1))"
   ]
  },
  {
   "cell_type": "code",
   "execution_count": 16,
   "metadata": {},
   "outputs": [],
   "source": [
    "def eqm_callback(prob, i):\n",
    "    curved_linkage_view.update(scalarField=colors)"
   ]
  },
  {
   "cell_type": "code",
   "execution_count": 17,
   "metadata": {
    "scrolled": true
   },
   "outputs": [
    {
     "name": "stdout",
     "output_type": "stream",
     "text": [
      "0\t0.00362397\t0.995834\t0.995834\t1\t1\n",
      "1\t0.00051025\t0.130272\t0.130272\t1\t1\n",
      "2\t0.000287047\t0.0333202\t0.0333202\t1\t1\n",
      "3\t0.000185069\t0.0143503\t0.0143503\t1\t1\n",
      "4\t0.000122162\t0.00708733\t0.00708733\t1\t1\n",
      "5\t8.22793e-05\t0.00372542\t0.00372542\t1\t1\n",
      "6\t5.79478e-05\t0.00231375\t0.00231375\t1\t1\n",
      "7\t4.44073e-05\t0.00170376\t0.00170376\t1\t1\n",
      "8\t3.78247e-05\t0.00131208\t0.00131208\t1\t1\n",
      "9\t3.49548e-05\t0.00109482\t0.00109482\t1\t1\n",
      "10\t3.38037e-05\t0.00075974\t0.00075974\t1\t1\n",
      "11\t3.33946e-05\t0.000414555\t0.000414555\t1\t1\n",
      "12\t3.32639e-05\t0.000165779\t0.000165779\t1\t1\n",
      "13\t3.32256e-05\t5.72584e-05\t5.72584e-05\t1\t1\n",
      "14\t3.32151e-05\t2.04583e-05\t2.04583e-05\t1\t1\n",
      "15\t3.32121e-05\t8.70601e-06\t8.70601e-06\t1\t1\n",
      "16\t3.32113e-05\t3.84519e-06\t3.84519e-06\t0.5\t0\n",
      "17\t3.32111e-05\t2.77098e-05\t2.77098e-05\t1\t0\n",
      "18\t3.3211e-05\t3.78063e-06\t3.78063e-06\t0.015625\t0\n",
      "19\t3.3211e-05\t6.63871e-06\t6.63871e-06\t0.5\t0\n",
      "20\t3.3211e-05\t1.05627e-05\t1.05627e-05\t1\t0\n",
      "21\t3.32109e-05\t1.20811e-05\t1.20811e-05\t1\t0\n",
      "22\t3.32109e-05\t2.16737e-05\t2.16737e-05\t1\t0\n",
      "23\t3.32108e-05\t1.46404e-05\t1.46404e-05\t0.5\t0\n",
      "24\t3.32107e-05\t4.57543e-05\t4.57543e-05\t1\t0\n",
      "25\t3.32103e-05\t1.25983e-05\t1.25983e-05\t0.0625\t0\n",
      "26\t3.321e-05\t4.32505e-05\t4.32505e-05\t1\t0\n",
      "27\t3.32092e-05\t4.32515e-05\t4.32515e-05\t1\t0\n",
      "28\t3.32088e-05\t0.000104517\t0.000104517\t1\t0\n",
      "29\t3.32066e-05\t4.45452e-05\t4.45452e-05\t0.125\t0\n",
      "30\t3.32055e-05\t9.09136e-05\t9.09136e-05\t1\t0\n",
      "31\t3.32029e-05\t5.25348e-05\t5.25348e-05\t0.5\t0\n",
      "32\t3.3201e-05\t9.99729e-05\t9.99729e-05\t1\t0\n",
      "33\t3.31976e-05\t7.94354e-05\t7.94354e-05\t1\t0\n",
      "34\t3.31951e-05\t0.000177181\t0.000177181\t1\t0\n",
      "35\t3.31895e-05\t4.14614e-05\t4.14614e-05\t0.25\t0\n",
      "36\t3.31867e-05\t0.000121069\t0.000121069\t1\t0\n",
      "37\t3.31819e-05\t0.000104581\t0.000104581\t1\t0\n",
      "38\t3.31781e-05\t0.000150666\t0.000150666\t1\t0\n",
      "39\t3.31736e-05\t0.000106162\t0.000106162\t1\t0\n",
      "40\t3.31726e-05\t0.000190579\t0.000190579\t1\t0\n",
      "41\t3.3167e-05\t5.78734e-05\t5.78734e-05\t0.25\t0\n",
      "42\t3.31656e-05\t0.000138773\t0.000138773\t1\t0\n",
      "43\t3.31633e-05\t0.000125027\t0.000125027\t0.5\t0\n",
      "44\t3.31619e-05\t0.000308585\t0.000308585\t1\t0\n",
      "45\t3.3158e-05\t0.000140164\t0.000140164\t0.25\t0\n",
      "46\t3.31562e-05\t0.000403383\t0.000403383\t1\t0\n",
      "47\t3.31487e-05\t0.000151257\t0.000151257\t0.5\t0\n",
      "48\t3.31455e-05\t0.000502026\t0.000502026\t1\t0\n",
      "49\t3.3135e-05\t0.000305885\t0.000305885\t0.5\t0\n",
      "50\t3.31291e-05\t0.000198489\t0.000198489\t1\t0\n",
      "51\t3.3122e-05\t0.000248851\t0.000248851\t1\t0\n",
      "52\t3.31156e-05\t0.000139999\t0.000139999\t1\t0\n",
      "53\t3.31134e-05\t0.00030719\t0.00030719\t1\t0\n",
      "54\t3.31083e-05\t4.62135e-05\t4.62135e-05\t0.5\t0\n",
      "55\t3.31072e-05\t9.48124e-05\t9.48124e-05\t1\t0\n",
      "56\t3.31062e-05\t4.38952e-05\t4.38952e-05\t1\t0\n",
      "57\t3.31059e-05\t2.92004e-05\t2.92004e-05\t1\t0\n",
      "58\t3.31058e-05\t4.72959e-06\t4.72959e-06\t1\t0\n",
      "59\t3.31058e-05\t6.30097e-07\t6.30097e-07\t1\t0\n",
      "60\t3.31058e-05\t4.32289e-07\t4.32289e-07\t1\t0\n",
      "61\t3.31058e-05\t1.38907e-07\t1.38907e-07\t0.5\t0\n",
      "62\t3.31058e-05\t3.69795e-07\t3.69795e-07\t1\t0\n",
      "63\t3.31058e-05\t1.68724e-07\t1.68724e-07\t0.5\t0\n",
      "64\t3.31058e-05\t2.81908e-07\t2.81908e-07\t1\t0\n",
      "65\t3.31058e-05\t2.82032e-07\t2.82032e-07\t1\t0\n",
      "66\t3.31058e-05\t2.76662e-07\t2.76662e-07\t1\t0\n",
      "67\t3.31058e-05\t2.8201e-07\t2.8201e-07\t1\t0\n",
      "68\t3.31058e-05\t2.66357e-07\t2.66357e-07\t1\t0\n",
      "69\t3.31058e-05\t2.92709e-07\t2.92709e-07\t1\t0\n",
      "70\t3.31058e-05\t2.38014e-07\t2.38014e-07\t1\t0\n",
      "71\t3.31058e-05\t3.52095e-07\t3.52095e-07\t1\t0\n",
      "72\t3.31058e-05\t1.5845e-07\t1.5845e-07\t0.5\t0\n",
      "73\t3.31058e-05\t2.68536e-07\t2.68536e-07\t1\t0\n",
      "74\t3.31058e-05\t2.62662e-07\t2.62662e-07\t1\t0\n",
      "75\t3.31058e-05\t2.69166e-07\t2.69166e-07\t1\t0\n",
      "76\t3.31058e-05\t2.51296e-07\t2.51296e-07\t1\t0\n",
      "77\t3.31058e-05\t2.82333e-07\t2.82333e-07\t1\t0\n",
      "78\t3.31058e-05\t2.19496e-07\t2.19496e-07\t1\t0\n",
      "79\t3.31058e-05\t3.54589e-07\t3.54589e-07\t1\t0\n",
      "80\t3.31058e-05\t1.33824e-07\t1.33824e-07\t0.5\t0\n",
      "81\t3.31058e-05\t2.92927e-07\t2.92927e-07\t1\t0\n",
      "82\t3.31058e-05\t1.88817e-07\t1.88817e-07\t1\t0\n",
      "83\t3.31058e-05\t4.42336e-07\t4.42336e-07\t1\t0\n",
      "84\t3.31058e-05\t7.9584e-08\t7.9584e-08\t0.5\t0\n",
      "85\t3.31058e-05\t6.16534e-07\t6.16534e-07\t1\t0\n",
      "86\t3.31058e-05\t3.9279e-08\t3.9279e-08\t0.25\t0\n",
      "87\t3.31058e-05\t5.63159e-07\t5.63159e-07\t1\t0\n",
      "88\t3.31058e-05\t4.50857e-08\t4.50857e-08\t0.25\t0\n",
      "89\t3.31058e-05\t4.29221e-07\t4.29221e-07\t1\t0\n",
      "90\t3.31058e-05\t7.45872e-08\t7.45872e-08\t0.25\t0\n",
      "91\t3.31058e-05\t2.00785e-07\t2.00785e-07\t1\t0\n",
      "92\t3.31058e-05\t3.27123e-07\t3.27123e-07\t1\t0\n",
      "93\t3.31058e-05\t1.21434e-07\t1.21434e-07\t0.5\t0\n",
      "94\t3.31058e-05\t2.71828e-07\t2.71828e-07\t1\t0\n",
      "95\t3.31058e-05\t1.68737e-07\t1.68737e-07\t1\t0\n",
      "96\t3.31058e-05\t4.24956e-07\t4.24956e-07\t1\t0\n",
      "97\t3.31058e-05\t6.61232e-08\t6.61232e-08\t0.25\t0\n",
      "98\t3.31058e-05\t2.07831e-07\t2.07831e-07\t1\t0\n",
      "99\t3.31058e-05\t2.64223e-07\t2.64223e-07\t1\t0\n",
      "100\t3.31058e-05\t1.60551e-07\t1.60551e-07\t1\t0\n",
      "101\t3.31058e-05\t4.20826e-07\t4.20826e-07\t1\t0\n",
      "102\t3.31058e-05\t6.04716e-08\t6.04716e-08\t0.25\t0\n",
      "103\t3.31058e-05\t2.13857e-07\t2.13857e-07\t1\t0\n",
      "104\t3.31058e-05\t2.23513e-07\t2.23513e-07\t1\t0\n",
      "105\t3.31058e-05\t2.00343e-07\t2.00343e-07\t1\t0\n",
      "106\t3.31058e-05\t2.42792e-07\t2.42792e-07\t1\t0\n",
      "107\t3.31058e-05\t1.61841e-07\t1.61841e-07\t1\t0\n",
      "108\t3.31058e-05\t3.52816e-07\t3.52816e-07\t1\t0\n",
      "109\t3.31058e-05\t7.31114e-08\t7.31114e-08\t0.5\t0\n",
      "110\t3.31058e-05\t4.3405e-07\t4.3405e-07\t1\t0\n",
      "111\t3.31058e-05\t4.60469e-08\t4.60469e-08\t0.25\t0\n",
      "112\t3.31058e-05\t2.64644e-07\t2.64644e-07\t1\t0\n",
      "113\t3.31058e-05\t1.18097e-07\t1.18097e-07\t0.5\t0\n",
      "114\t3.31058e-05\t2.01576e-07\t2.01576e-07\t1\t0\n",
      "115\t3.31058e-05\t1.94586e-07\t1.94586e-07\t1\t0\n",
      "116\t3.31058e-05\t2.03443e-07\t2.03443e-07\t1\t0\n",
      "117\t3.31058e-05\t1.81415e-07\t1.81415e-07\t1\t0\n",
      "118\t3.31058e-05\t2.21788e-07\t2.21788e-07\t1\t0\n",
      "119\t3.31058e-05\t1.44945e-07\t1.44945e-07\t1\t0\n",
      "120\t3.31058e-05\t3.27679e-07\t3.27679e-07\t1\t0\n",
      "121\t3.31058e-05\t6.307e-08\t6.307e-08\t0.5\t0\n",
      "122\t3.31058e-05\t4.2503e-07\t4.2503e-07\t1\t0\n",
      "123\t3.31058e-05\t3.5541e-08\t3.5541e-08\t0.25\t0\n",
      "124\t3.31058e-05\t3.04278e-07\t3.04278e-07\t1\t0\n",
      "125\t3.31058e-05\t6.57701e-08\t6.57701e-08\t0.5\t0\n",
      "126\t3.31058e-05\t3.6083e-07\t3.6083e-07\t1\t0\n",
      "127\t3.31058e-05\t4.44579e-08\t4.44579e-08\t0.25\t0\n",
      "128\t3.31058e-05\t1.97692e-07\t1.97692e-07\t1\t0\n",
      "129\t3.31058e-05\t1.40321e-07\t1.40321e-07\t1\t0\n",
      "130\t3.31058e-05\t2.69554e-07\t2.69554e-07\t1\t0\n",
      "131\t3.31058e-05\t7.15383e-08\t7.15383e-08\t0.5\t0\n",
      "132\t3.31058e-05\t2.72868e-07\t2.72868e-07\t1\t0\n",
      "133\t3.31058e-05\t6.61168e-08\t6.61168e-08\t0.5\t0\n",
      "134\t3.31058e-05\t2.94763e-07\t2.94763e-07\t1\t0\n",
      "135\t3.31058e-05\t5.36142e-08\t5.36142e-08\t0.5\t0\n",
      "136\t3.31058e-05\t3.97324e-07\t3.97324e-07\t1\t0\n",
      "137\t3.31058e-05\t2.78033e-08\t2.78033e-08\t0.25\t0\n",
      "138\t3.31058e-05\t3.20672e-07\t3.20672e-07\t1\t0\n",
      "139\t3.31058e-05\t4.01639e-08\t4.01639e-08\t0.25\t0\n",
      "140\t3.31058e-05\t1.72883e-07\t1.72883e-07\t1\t0\n",
      "141\t3.31058e-05\t1.30463e-07\t1.30463e-07\t1\t0\n",
      "142\t3.31058e-05\t2.21277e-07\t2.21277e-07\t1\t0\n",
      "143\t3.31058e-05\t7.50353e-08\t7.50353e-08\t0.5\t0\n",
      "144\t3.31058e-05\t1.90415e-07\t1.90415e-07\t1\t0\n",
      "145\t3.31058e-05\t9.54425e-08\t9.54425e-08\t1\t0\n",
      "146\t3.31058e-05\t3.61138e-07\t3.61138e-07\t1\t0\n",
      "147\t3.31058e-05\t2.4831e-08\t2.4831e-08\t0.25\t0\n",
      "148\t3.31058e-05\t2.90559e-07\t2.90559e-07\t1\t0\n",
      "149\t3.31058e-05\t3.58341e-08\t3.58341e-08\t0.25\t0\n",
      "150\t3.31058e-05\t1.56597e-07\t1.56597e-07\t1\t0\n",
      "151\t3.31058e-05\t1.158e-07\t1.158e-07\t1\t0\n",
      "152\t3.31058e-05\t2.03714e-07\t2.03714e-07\t1\t0\n",
      "153\t3.31058e-05\t6.40906e-08\t6.40906e-08\t0.5\t0\n",
      "154\t3.31058e-05\t1.82255e-07\t1.82255e-07\t1\t0\n",
      "155\t3.31058e-05\t7.49595e-08\t7.49595e-08\t0.5\t0\n",
      "156\t3.31058e-05\t1.41448e-07\t1.41448e-07\t1\t0\n",
      "157\t3.31058e-05\t1.1635e-07\t1.1635e-07\t1\t0\n",
      "158\t3.31058e-05\t1.64967e-07\t1.64967e-07\t1\t0\n",
      "159\t3.31058e-05\t7.95646e-08\t7.95646e-08\t1\t0\n",
      "160\t3.31058e-05\t3.21864e-07\t3.21864e-07\t1\t0\n",
      "161\t3.31058e-05\t1.93369e-08\t1.93369e-08\t0.25\t0\n",
      "162\t3.31058e-05\t2.79179e-07\t2.79179e-07\t1\t0\n",
      "163\t3.31058e-05\t2.37175e-08\t2.37175e-08\t0.25\t0\n",
      "164\t3.31058e-05\t1.88293e-07\t1.88293e-07\t1\t0\n",
      "165\t3.31058e-05\t4.84597e-08\t4.84597e-08\t0.5\t0\n",
      "166\t3.31058e-05\t1.9117e-07\t1.9117e-07\t1\t0\n",
      "167\t3.31058e-05\t4.37364e-08\t4.37364e-08\t0.5\t0\n",
      "168\t3.31058e-05\t2.09926e-07\t2.09926e-07\t1\t0\n",
      "169\t3.31058e-05\t3.35623e-08\t3.35623e-08\t0.25\t0\n",
      "170\t3.31058e-05\t9.68052e-08\t9.68052e-08\t1\t0\n",
      "171\t3.31058e-05\t1.45038e-07\t1.45038e-07\t1\t0\n",
      "172\t3.31058e-05\t6.26352e-08\t6.26352e-08\t0.5\t0\n",
      "173\t3.31058e-05\t1.09085e-07\t1.09085e-07\t1\t0\n",
      "174\t3.31058e-05\t1.01848e-07\t1.01848e-07\t1\t0\n",
      "175\t3.31058e-05\t1.11519e-07\t1.11519e-07\t1\t0\n",
      "176\t3.31058e-05\t8.90357e-08\t8.90357e-08\t1\t0\n",
      "177\t3.31058e-05\t1.32388e-07\t1.32388e-07\t1\t0\n",
      "178\t3.31058e-05\t5.77058e-08\t5.77058e-08\t0.5\t0\n",
      "179\t3.31058e-05\t9.88819e-08\t9.88819e-08\t1\t0\n",
      "180\t3.31058e-05\t9.45945e-08\t9.45945e-08\t1\t0\n",
      "181\t3.31058e-05\t9.83631e-08\t9.83631e-08\t1\t0\n",
      "182\t3.31058e-05\t8.66358e-08\t8.66358e-08\t1\t0\n",
      "183\t3.31058e-05\t1.05752e-07\t1.05752e-07\t1\t0\n",
      "184\t3.31058e-05\t6.78348e-08\t6.78348e-08\t1\t0\n",
      "185\t3.31058e-05\t1.53911e-07\t1.53911e-07\t1\t0\n",
      "186\t3.31058e-05\t2.89587e-08\t2.89587e-08\t0.5\t0\n",
      "187\t3.31058e-05\t1.89689e-07\t1.89689e-07\t1\t0\n",
      "188\t3.31058e-05\t1.71786e-08\t1.71786e-08\t0.25\t0\n",
      "189\t3.31058e-05\t1.14928e-07\t1.14928e-07\t1\t0\n",
      "190\t3.31058e-05\t4.2188e-08\t4.2188e-08\t0.5\t0\n",
      "191\t3.31058e-05\t9.18009e-08\t9.18009e-08\t1\t0\n",
      "192\t3.31058e-05\t5.97431e-08\t5.97431e-08\t1\t0\n",
      "193\t3.31058e-05\t1.30866e-07\t1.30866e-07\t1\t0\n",
      "194\t3.31058e-05\t2.62855e-08\t2.62855e-08\t0.5\t0\n",
      "195\t3.31058e-05\t1.51058e-07\t1.51058e-07\t1\t0\n",
      "196\t3.31058e-05\t1.75827e-08\t1.75827e-08\t0.25\t0\n",
      "197\t3.31058e-05\t7.70237e-08\t7.70237e-08\t1\t0\n",
      "198\t3.31058e-05\t6.0056e-08\t6.0056e-08\t1\t0\n",
      "199\t3.31058e-05\t9.20244e-08\t9.20244e-08\t1\t0\n",
      "200\t3.31058e-05\t3.72298e-08\t3.72298e-08\t1\t0\n"
     ]
    },
    {
     "data": {
      "text/plain": [
       "<py_newton_optimizer.ConvergenceReport at 0x10d93e930>"
      ]
     },
     "execution_count": 17,
     "metadata": {},
     "output_type": "execute_result"
    }
   ],
   "source": [
    "elastic_rods.compute_equilibrium(curved_linkage, callback = eqm_callback, options = OPTS)"
   ]
  },
  {
   "cell_type": "code",
   "execution_count": 18,
   "metadata": {},
   "outputs": [],
   "source": [
    "# import vis\n",
    "# from matplotlib import cm\n",
    "\n",
    "# stress = curved_linkage.maxBendingStresses()\n",
    "# new_stress = np.ones_like(stress) * np.max(stress)\n",
    "# new_stress[0] = stress[0]\n",
    "# new_stress[34] = stress[34]\n",
    "\n",
    "\n",
    "# #stress = curved_linkage.twistingStresses()\n",
    "# rangeMin = np.stack(stress).min()\n",
    "# rangeMax = np.stack(stress).max()\n",
    "# sf = vis.fields.ScalarField(curved_linkage, new_stress, colormap=cm.magma, vmin=rangeMin, vmax=rangeMax)\n",
    "\n",
    "# curved_linkage_view.showScalarField(sf)"
   ]
  },
  {
   "cell_type": "code",
   "execution_count": null,
   "metadata": {},
   "outputs": [],
   "source": [
    "optimizer = initialize_stage_2_optimizer(curved_linkage, io.SURFACE_PATH, curved_save_tgt_joint_pos, curved_linkage_view, rw, sw)"
   ]
  },
  {
   "cell_type": "code",
   "execution_count": null,
   "metadata": {},
   "outputs": [],
   "source": [
    "# optimizer, opt_iterateData = stage_2_optimization(optimizer, curved_linkage, io.SURFACE_PATH, curved_save_tgt_joint_pos, curved_linkage_view, -1, -3, 3)"
   ]
  },
  {
   "cell_type": "markdown",
   "metadata": {},
   "source": [
    "### Validation"
   ]
  },
  {
   "cell_type": "code",
   "execution_count": null,
   "metadata": {},
   "outputs": [],
   "source": [
    "# curved_optimizer_energy = curved_linkage.energy()\n",
    "# validation_curved_linkage = optimizer.getLinesearchWeaverLinkage()\n",
    "# validation_curved_linkage.attraction_weight = 1e-7\n",
    "# with so(): elastic_rods.compute_equilibrium(validation_curved_linkage, options = OPTS, fixedVars = [])\n",
    "# validation_curved_view = linkage_vis.LinkageViewer(validation_curved_linkage, width=1024, height=640)\n",
    "# validation_curved_energy = validation_curved_linkage.energy()\n",
    "# print(abs((validation_curved_energy-curved_optimizer_energy)/curved_optimizer_energy))"
   ]
  },
  {
   "cell_type": "code",
   "execution_count": null,
   "metadata": {},
   "outputs": [],
   "source": [
    "# validation_curved_view = linkage_vis.LinkageViewerWithSurface(validation_curved_linkage, io.SURFACE_PATH, width=1024, height=640)\n",
    "# set_surface_view_options(validation_curved_view)\n",
    "# validation_curved_view.show()"
   ]
  },
  {
   "cell_type": "code",
   "execution_count": null,
   "metadata": {},
   "outputs": [],
   "source": [
    "# double_view = linkage_vis.LinkageViewerWithSurface(curved_linkage, io.SURFACE_PATH, width=1024, height=640)\n",
    "# set_surface_view_options(double_view)\n",
    "# double_view.show()"
   ]
  },
  {
   "cell_type": "code",
   "execution_count": null,
   "metadata": {},
   "outputs": [],
   "source": [
    "# double_view.viewOptions[double_view.ViewType.SURFACE].color"
   ]
  },
  {
   "cell_type": "code",
   "execution_count": null,
   "metadata": {},
   "outputs": [],
   "source": [
    "# set_joint_vector_field(curved_linkage, curved_linkage_view, joint_normals)"
   ]
  },
  {
   "cell_type": "code",
   "execution_count": null,
   "metadata": {},
   "outputs": [],
   "source": [
    "# deviation, deviation_vector, joint_normals, joint_projection_normals = get_normal_deviation(curved_linkage)"
   ]
  },
  {
   "cell_type": "code",
   "execution_count": null,
   "metadata": {},
   "outputs": [],
   "source": [
    "# set_joint_vector_field(curved_linkage, curved_linkage_view, joint_normals)"
   ]
  },
  {
   "cell_type": "code",
   "execution_count": null,
   "metadata": {},
   "outputs": [],
   "source": [
    "# get_average_distance_to_target_surface(curved_linkage)/io.RIBBON_CS[1]"
   ]
  },
  {
   "cell_type": "code",
   "execution_count": null,
   "metadata": {},
   "outputs": [],
   "source": [
    "# distance_to_surface = np.array(curved_linkage.get_squared_distance_to_target_surface((curved_linkage.visualizationGeometry()[0]).flatten()))\n"
   ]
  },
  {
   "cell_type": "code",
   "execution_count": null,
   "metadata": {},
   "outputs": [],
   "source": [
    "# distance_to_surface = np.sqrt(distance_to_surface)"
   ]
  },
  {
   "cell_type": "code",
   "execution_count": null,
   "metadata": {},
   "outputs": [],
   "source": [
    "# plt.plot(np.sort(distance_to_surface))"
   ]
  },
  {
   "cell_type": "code",
   "execution_count": null,
   "metadata": {},
   "outputs": [],
   "source": [
    "# set_joint_vector_field(curved_linkage, curved_linkage_view, joint_normals)"
   ]
  },
  {
   "cell_type": "code",
   "execution_count": null,
   "metadata": {},
   "outputs": [],
   "source": [
    "# save_path = os.getcwd()\n",
    "# write_all_output(curved_linkage, io.SUBDIVISION_RESOLUTION, io.MODEL_NAME, io.RIBBON_NAME, False, 100, min(io.RIBBON_CS), target_width = 5, flip_angles = False, width = max(io.RIBBON_CS))\n",
    "# os.chdir(save_path)"
   ]
  },
  {
   "cell_type": "markdown",
   "metadata": {},
   "source": [
    "## Contact Optimization"
   ]
  },
  {
   "cell_type": "code",
   "execution_count": 25,
   "metadata": {},
   "outputs": [],
   "source": [
    "def get_opposite_joint_type(curr_type):\n",
    "    if curr_type == curved_linkage.joint(0).Type.A_OVER_B:\n",
    "        return curved_linkage.joint(0).Type.B_OVER_A\n",
    "    return curved_linkage.joint(0).Type.A_OVER_B\n",
    "import structural_analysis"
   ]
  },
  {
   "cell_type": "code",
   "execution_count": 23,
   "metadata": {},
   "outputs": [
    {
     "name": "stdout",
     "output_type": "stream",
     "text": [
      "Coefficient of Friction Percentiles 50, 75, 90:  nan nan nan\n"
     ]
    },
    {
     "data": {
      "application/vnd.jupyter.widget-view+json": {
       "model_id": "b44685dce1df46bfad7b3705685df2ca",
       "version_major": 2,
       "version_minor": 0
      },
      "text/plain": [
       "HBox(children=(Renderer(camera=PerspectiveCamera(children=(PointLight(color='#999999', position=(0.0, 0.0, 5.0…"
      ]
     },
     "metadata": {},
     "output_type": "display_data"
    },
    {
     "data": {
      "image/png": "[encoded data removed]",
      "text/plain": [
       "<Figure size 1080x288 with 4 Axes>"
      ]
     },
     "metadata": {
      "needs_background": "light"
     },
     "output_type": "display_data"
    }
   ],
   "source": [
    "structure_view = get_structure_analysis_view(curved_linkage)\n",
    "structure_view.show()"
   ]
  },
  {
   "cell_type": "code",
   "execution_count": 26,
   "metadata": {
    "scrolled": true
   },
   "outputs": [
    {
     "name": "stdout",
     "output_type": "stream",
     "text": [
      "Flipping crossing:  [284   3   2 285 312  37  38  19 252  35 255 254 289 270 292 290 299  26\n",
      " 269  28 302 267 303 304 275 276 261  23 306  22 298 308 124 220 244 180\n",
      "  90  93 174 171  96 169 168  97  98 164 162 161 160 158 102 103 105 152\n",
      " 147 146 113 140 138 137 136 130 182  87  86 185 243 242  49 237  50  53\n",
      "  57 222 221 219 218 217  64 246  66  70 206 205  73 203 202  77  78 196\n",
      " 194  82 190 186 211 314]\n",
      "0\t0.000672825\t0.19106\t0.19106\t1\t1\n",
      "1\t0.000220702\t0.299384\t0.299384\t1\t1\n",
      "2\t0.000152793\t0.0196724\t0.0196724\t1\t1\n",
      "3\t0.000138293\t0.0108652\t0.0108652\t1\t1\n",
      "4\t0.00012147\t0.00836777\t0.00836777\t1\t0\n",
      "5\t5.99636e-05\t0.0420949\t0.0420949\t1\t1\n",
      "6\t4.50026e-05\t0.00322977\t0.00322977\t1\t0\n",
      "7\t3.878e-05\t0.0152137\t0.0152137\t1\t1\n",
      "8\t3.60814e-05\t0.00196074\t0.00196074\t1\t1\n",
      "9\t3.57216e-05\t0.00139331\t0.00139331\t1\t1\n",
      "10\t3.55316e-05\t0.00026181\t0.00026181\t1\t0\n",
      "11\t3.53438e-05\t0.00360627\t0.00360627\t0.5\t1\n",
      "12\t3.51119e-05\t0.0036063\t0.0036063\t1\t1\n",
      "13\t3.49769e-05\t0.00373914\t0.00373914\t1\t1\n",
      "14\t3.49277e-05\t0.00173201\t0.00173201\t0.5\t0\n",
      "15\t3.48905e-05\t0.00238641\t0.00238641\t1\t1\n",
      "16\t3.48664e-05\t0.000143669\t0.000143669\t0.5\t0\n",
      "17\t3.485e-05\t0.000192322\t0.000192322\t1\t0\n",
      "18\t3.4839e-05\t0.000108157\t0.000108157\t0.5\t0\n",
      "19\t3.4837e-05\t9.24587e-05\t9.24587e-05\t1\t0\n",
      "20\t3.48352e-05\t3.29997e-05\t3.29997e-05\t1\t0\n",
      "21\t3.48348e-05\t4.12016e-05\t4.12016e-05\t1\t0\n",
      "22\t3.48345e-05\t6.20652e-06\t6.20652e-06\t1\t0\n",
      "23\t3.48345e-05\t1.25614e-06\t1.25614e-06\t0.5\t0\n",
      "24\t3.48345e-05\t2.4291e-06\t2.4291e-06\t1\t0\n",
      "25\t3.48345e-05\t6.29985e-07\t6.29985e-07\t0.5\t0\n",
      "26\t3.48345e-05\t1.32885e-06\t1.32885e-06\t1\t0\n",
      "27\t3.48345e-05\t9.26447e-07\t9.26447e-07\t1\t0\n",
      "28\t3.48345e-05\t1.05586e-06\t1.05586e-06\t1\t0\n",
      "29\t3.48345e-05\t4.80809e-07\t4.80809e-07\t1\t0\n",
      "30\t3.48345e-05\t8.42438e-07\t8.42438e-07\t1\t0\n",
      "31\t3.48345e-05\t1.45023e-07\t1.45023e-07\t1\t0\n",
      "32\t3.48345e-05\t4.88062e-07\t4.88062e-07\t1\t0\n",
      "33\t3.48345e-05\t1.59588e-08\t1.59588e-08\t1\t0\n",
      "34\t3.48345e-05\t3.82044e-08\t3.82044e-08\t1\t0\n",
      "35\t3.48345e-05\t9.74634e-11\t9.74634e-11\t1\t0\n"
     ]
    }
   ],
   "source": [
    "cfm = structural_analysis.weavingCrossingForceMagnitudes(curved_linkage, True)\n",
    "if np.sum(cfm[:, 0]>0) > 0:\n",
    "    print(\"Flipping crossing: \", np.argsort(cfm[:, 0] > 0)[-1 * np.sum(cfm[:, 0] > 0):])\n",
    "    for i in np.argsort(cfm[:, 0] > 0)[-1 * np.sum(cfm[:, 0] > 0):]:\n",
    "        curved_linkage.joint(i).type = get_opposite_joint_type(curved_linkage.joint(i).type)\n",
    "    elastic_rods.compute_equilibrium(curved_linkage, callback = eqm_callback, options = OPTS)\n",
    "    curved_linkage_view.update()"
   ]
  },
  {
   "cell_type": "code",
   "execution_count": 27,
   "metadata": {},
   "outputs": [
    {
     "name": "stdout",
     "output_type": "stream",
     "text": [
      "Coefficient of Friction Percentiles 50, 75, 90:  nan nan nan\n"
     ]
    },
    {
     "data": {
      "application/vnd.jupyter.widget-view+json": {
       "model_id": "4f3480b368d94a398556badb2886baee",
       "version_major": 2,
       "version_minor": 0
      },
      "text/plain": [
       "HBox(children=(Renderer(camera=PerspectiveCamera(children=(PointLight(color='#999999', position=(0.0, 0.0, 5.0…"
      ]
     },
     "metadata": {},
     "output_type": "display_data"
    },
    {
     "data": {
      "image/png": "[encoded data removed]",
      "text/plain": [
       "<Figure size 1080x288 with 4 Axes>"
      ]
     },
     "metadata": {
      "needs_background": "light"
     },
     "output_type": "display_data"
    }
   ],
   "source": [
    "second_structure_view = get_structure_analysis_view(curved_linkage)\n",
    "second_structure_view.show()"
   ]
  },
  {
   "cell_type": "code",
   "execution_count": 28,
   "metadata": {
    "scrolled": true
   },
   "outputs": [
    {
     "name": "stdout",
     "output_type": "stream",
     "text": [
      "Flipping crossing:  [198 199 148 145 304  88 127 179  32 123  95 214  62 283 111 208  51 120]\n",
      "0\t0.000135233\t0.0672558\t0.0672558\t0.25\t1\n",
      "1\t0.000104639\t0.0737735\t0.0737735\t1\t1\n",
      "2\t6.42733e-05\t0.00949996\t0.00949996\t1\t1\n",
      "3\t5.32982e-05\t0.00476671\t0.00476671\t1\t0\n",
      "4\t3.95178e-05\t0.0142182\t0.0142182\t1\t1\n",
      "5\t3.68447e-05\t0.000997811\t0.000997811\t1\t0\n",
      "6\t3.5192e-05\t0.00371297\t0.00371297\t1\t1\n",
      "7\t3.5035e-05\t0.000146592\t0.000146592\t1\t0\n",
      "8\t3.49266e-05\t0.000415867\t0.000415867\t1\t0\n",
      "9\t3.49254e-05\t0.00041994\t0.00041994\t1\t0\n",
      "10\t3.49152e-05\t4.8569e-05\t4.8569e-05\t0.5\t0\n",
      "11\t3.49148e-05\t4.70893e-05\t4.70893e-05\t1\t0\n",
      "12\t3.49143e-05\t2.55696e-05\t2.55696e-05\t0.5\t0\n",
      "13\t3.49141e-05\t4.11677e-05\t4.11677e-05\t1\t0\n",
      "14\t3.49137e-05\t2.08074e-05\t2.08074e-05\t0.25\t0\n",
      "15\t3.49134e-05\t3.07182e-05\t3.07182e-05\t1\t0\n",
      "16\t3.49129e-05\t4.0958e-05\t4.0958e-05\t1\t0\n",
      "17\t3.49124e-05\t3.38416e-05\t3.38416e-05\t1\t0\n",
      "18\t3.49119e-05\t5.52238e-05\t5.52238e-05\t1\t0\n",
      "19\t3.49113e-05\t2.54321e-05\t2.54321e-05\t0.5\t0\n",
      "20\t3.49111e-05\t3.45344e-05\t3.45344e-05\t1\t0\n",
      "21\t3.49109e-05\t2.51913e-05\t2.51913e-05\t1\t0\n",
      "22\t3.49108e-05\t1.48508e-05\t1.48508e-05\t1\t0\n",
      "23\t3.49108e-05\t7.58624e-06\t7.58624e-06\t0.5\t0\n",
      "24\t3.49108e-05\t6.71526e-06\t6.71526e-06\t1\t0\n",
      "25\t3.49108e-05\t2.33025e-06\t2.33025e-06\t0.5\t0\n",
      "26\t3.49107e-05\t4.77294e-06\t4.77294e-06\t1\t0\n",
      "27\t3.49107e-05\t3.36928e-06\t3.36928e-06\t1\t0\n",
      "28\t3.49107e-05\t5.77034e-06\t5.77034e-06\t1\t0\n",
      "29\t3.49107e-05\t1.78744e-06\t1.78744e-06\t0.5\t0\n",
      "30\t3.49107e-05\t4.33605e-06\t4.33605e-06\t1\t0\n",
      "31\t3.49107e-05\t2.40311e-06\t2.40311e-06\t1\t0\n",
      "32\t3.49107e-05\t6.23202e-06\t6.23202e-06\t1\t0\n",
      "33\t3.49107e-05\t8.46913e-07\t8.46913e-07\t0.5\t0\n",
      "34\t3.49107e-05\t6.84696e-06\t6.84696e-06\t1\t0\n",
      "35\t3.49107e-05\t4.95472e-07\t4.95472e-07\t0.25\t0\n",
      "36\t3.49107e-05\t2.78704e-06\t2.78704e-06\t1\t0\n",
      "37\t3.49107e-05\t2.045e-06\t2.045e-06\t1\t0\n",
      "38\t3.49107e-05\t2.91672e-06\t2.91672e-06\t1\t0\n",
      "39\t3.49107e-05\t1.19745e-06\t1.19745e-06\t1\t0\n",
      "40\t3.49107e-05\t4.6798e-06\t4.6798e-06\t1\t0\n",
      "41\t3.49107e-05\t2.74907e-07\t2.74907e-07\t0.25\t0\n",
      "42\t3.49107e-05\t1.53378e-06\t1.53378e-06\t1\t0\n",
      "43\t3.49107e-05\t1.45382e-06\t1.45382e-06\t1\t0\n",
      "44\t3.49107e-05\t1.14411e-06\t1.14411e-06\t1\t0\n",
      "45\t3.49107e-05\t1.23571e-06\t1.23571e-06\t1\t0\n",
      "46\t3.49107e-05\t7.33287e-07\t7.33287e-07\t1\t0\n",
      "47\t3.49107e-05\t1.20062e-06\t1.20062e-06\t1\t0\n",
      "48\t3.49107e-05\t3.18149e-07\t3.18149e-07\t1\t0\n",
      "49\t3.49107e-05\t1.69892e-06\t1.69892e-06\t1\t0\n",
      "50\t3.49107e-05\t4.77253e-08\t4.77253e-08\t0.5\t0\n",
      "51\t3.49107e-05\t7.567e-07\t7.567e-07\t1\t0\n",
      "52\t3.49107e-05\t5.85469e-08\t5.85469e-08\t0.5\t0\n",
      "53\t3.49107e-05\t1.98288e-07\t1.98288e-07\t1\t0\n",
      "54\t3.49107e-05\t9.55437e-08\t9.55437e-08\t1\t0\n",
      "55\t3.49107e-05\t6.6003e-08\t6.6003e-08\t1\t0\n",
      "56\t3.49107e-05\t1.34541e-08\t1.34541e-08\t1\t0\n",
      "57\t3.49107e-05\t2.48372e-09\t2.48372e-09\t1\t0\n"
     ]
    }
   ],
   "source": [
    "cfm = structural_analysis.weavingCrossingForceMagnitudes(curved_linkage, True)\n",
    "if np.sum(cfm[:, 0]>0) > 0:\n",
    "    print(\"Flipping crossing: \", np.argsort(cfm[:, 0] > 0)[-1 * np.sum(cfm[:, 0] > 0):])\n",
    "    for i in np.argsort(cfm[:, 0] > 0)[-1 * np.sum(cfm[:, 0] > 0):]:\n",
    "        curved_linkage.joint(i).type = get_opposite_joint_type(curved_linkage.joint(i).type)\n",
    "    elastic_rods.compute_equilibrium(curved_linkage, callback = eqm_callback, options = OPTS)\n",
    "    curved_linkage_view.update()"
   ]
  },
  {
   "cell_type": "code",
   "execution_count": 29,
   "metadata": {},
   "outputs": [
    {
     "name": "stdout",
     "output_type": "stream",
     "text": [
      "Coefficient of Friction Percentiles 50, 75, 90:  nan nan nan\n"
     ]
    },
    {
     "data": {
      "application/vnd.jupyter.widget-view+json": {
       "model_id": "d96dc76979f14bad83f9886d2d04378b",
       "version_major": 2,
       "version_minor": 0
      },
      "text/plain": [
       "HBox(children=(Renderer(camera=PerspectiveCamera(children=(PointLight(color='#999999', position=(0.0, 0.0, 5.0…"
      ]
     },
     "metadata": {},
     "output_type": "display_data"
    },
    {
     "data": {
      "image/png": "[encoded data removed]",
      "text/plain": [
       "<Figure size 1080x288 with 4 Axes>"
      ]
     },
     "metadata": {
      "needs_background": "light"
     },
     "output_type": "display_data"
    }
   ],
   "source": [
    "third_structure_view = get_structure_analysis_view(curved_linkage)\n",
    "third_structure_view.show()"
   ]
  },
  {
   "cell_type": "code",
   "execution_count": 30,
   "metadata": {
    "scrolled": true
   },
   "outputs": [
    {
     "name": "stdout",
     "output_type": "stream",
     "text": [
      "Flipping crossing:  [304  61  91 216]\n",
      "0\t5.75962e-05\t0.0328308\t0.0328308\t1\t1\n",
      "1\t3.95154e-05\t0.0070922\t0.0070922\t1\t1\n",
      "2\t3.6793e-05\t0.00296587\t0.00296587\t1\t1\n",
      "3\t3.58663e-05\t0.000730599\t0.000730599\t1\t1\n",
      "4\t3.54571e-05\t0.000327789\t0.000327789\t1\t1\n",
      "5\t3.52466e-05\t0.000160432\t0.000160432\t1\t1\n",
      "6\t3.513e-05\t9.3076e-05\t9.3076e-05\t1\t1\n",
      "7\t3.50629e-05\t5.85221e-05\t5.85221e-05\t1\t1\n",
      "8\t3.50225e-05\t3.73172e-05\t3.73172e-05\t1\t1\n",
      "9\t3.49966e-05\t2.5153e-05\t2.5153e-05\t1\t1\n",
      "10\t3.49785e-05\t1.96367e-05\t1.96367e-05\t1\t1\n",
      "11\t3.49657e-05\t1.94874e-05\t1.94874e-05\t1\t1\n",
      "12\t3.49574e-05\t1.73152e-05\t1.73152e-05\t1\t1\n",
      "13\t3.49527e-05\t1.25331e-05\t1.25331e-05\t1\t1\n",
      "14\t3.49498e-05\t1.18923e-05\t1.18923e-05\t1\t1\n",
      "15\t3.49475e-05\t1.76361e-05\t1.76361e-05\t0.015625\t0\n",
      "16\t3.4947e-05\t5.11325e-05\t5.11325e-05\t0.25\t0\n",
      "17\t3.49455e-05\t0.000220711\t0.000220711\t1\t0\n",
      "18\t3.49392e-05\t6.83754e-05\t6.83754e-05\t0.25\t0\n",
      "19\t3.49377e-05\t0.000146146\t0.000146146\t1\t0\n",
      "20\t3.49339e-05\t5.01946e-05\t5.01946e-05\t0.5\t0\n",
      "21\t3.49332e-05\t0.000158966\t0.000158966\t1\t0\n",
      "22\t3.49289e-05\t4.06206e-05\t4.06206e-05\t0.25\t0\n",
      "23\t3.49276e-05\t5.15367e-05\t5.15367e-05\t1\t0\n",
      "24\t3.49262e-05\t5.79628e-05\t5.79628e-05\t1\t0\n",
      "25\t3.49254e-05\t2.32489e-05\t2.32489e-05\t1\t0\n",
      "26\t3.49251e-05\t2.07131e-05\t2.07131e-05\t1\t0\n",
      "27\t3.4925e-05\t4.41521e-06\t4.41521e-06\t1\t0\n",
      "28\t3.4925e-05\t4.29199e-06\t4.29199e-06\t1\t0\n",
      "29\t3.4925e-05\t3.53164e-06\t3.53164e-06\t1\t0\n",
      "30\t3.4925e-05\t4.37863e-06\t4.37863e-06\t1\t0\n",
      "31\t3.4925e-05\t2.47895e-06\t2.47895e-06\t1\t0\n",
      "32\t3.4925e-05\t6.22021e-06\t6.22021e-06\t1\t0\n",
      "33\t3.4925e-05\t9.00965e-07\t9.00965e-07\t0.5\t0\n",
      "34\t3.4925e-05\t6.65106e-06\t6.65106e-06\t1\t0\n",
      "35\t3.4925e-05\t5.62497e-07\t5.62497e-07\t0.25\t0\n",
      "36\t3.4925e-05\t2.60771e-06\t2.60771e-06\t1\t0\n",
      "37\t3.4925e-05\t2.50203e-06\t2.50203e-06\t1\t0\n",
      "38\t3.4925e-05\t2.18431e-06\t2.18431e-06\t1\t0\n",
      "39\t3.4925e-05\t2.25739e-06\t2.25739e-06\t1\t0\n",
      "40\t3.4925e-05\t1.66947e-06\t1.66947e-06\t1\t0\n",
      "41\t3.4925e-05\t2.25984e-06\t2.25984e-06\t1\t0\n",
      "42\t3.4925e-05\t9.83174e-07\t9.83174e-07\t1\t0\n",
      "43\t3.4925e-05\t3.24174e-06\t3.24174e-06\t1\t0\n",
      "44\t3.4925e-05\t2.56436e-07\t2.56436e-07\t0.5\t0\n",
      "45\t3.4925e-05\t2.90615e-06\t2.90615e-06\t1\t0\n",
      "46\t3.4925e-05\t1.62944e-07\t1.62944e-07\t0.5\t0\n",
      "47\t3.4925e-05\t2.37526e-06\t2.37526e-06\t1\t0\n",
      "48\t3.4925e-05\t1.04296e-07\t1.04296e-07\t0.5\t0\n",
      "49\t3.4925e-05\t1.52763e-06\t1.52763e-06\t1\t0\n",
      "50\t3.4925e-05\t8.35873e-08\t8.35873e-08\t0.5\t0\n",
      "51\t3.4925e-05\t6.63905e-07\t6.63905e-07\t1\t0\n",
      "52\t3.4925e-05\t1.00811e-07\t1.00811e-07\t1\t0\n",
      "53\t3.4925e-05\t6.08331e-07\t6.08331e-07\t1\t0\n",
      "54\t3.4925e-05\t9.5917e-09\t9.5917e-09\t1\t0\n"
     ]
    }
   ],
   "source": [
    "cfm = structural_analysis.weavingCrossingForceMagnitudes(curved_linkage, True)\n",
    "if np.sum(cfm[:, 0]>0) > 0:\n",
    "    print(\"Flipping crossing: \", np.argsort(cfm[:, 0] > 0)[-1 * np.sum(cfm[:, 0] > 0):])\n",
    "    for i in np.argsort(cfm[:, 0] > 0)[-1 * np.sum(cfm[:, 0] > 0):]:\n",
    "        curved_linkage.joint(i).type = get_opposite_joint_type(curved_linkage.joint(i).type)\n",
    "    elastic_rods.compute_equilibrium(curved_linkage, callback = eqm_callback, options = OPTS)\n",
    "    curved_linkage_view.update()"
   ]
  },
  {
   "cell_type": "code",
   "execution_count": 31,
   "metadata": {},
   "outputs": [
    {
     "name": "stdout",
     "output_type": "stream",
     "text": [
      "Coefficient of Friction Percentiles 50, 75, 90:  nan nan nan\n"
     ]
    },
    {
     "data": {
      "application/vnd.jupyter.widget-view+json": {
       "model_id": "d3f42c49b8de44cdaeb46af2cfeb99a4",
       "version_major": 2,
       "version_minor": 0
      },
      "text/plain": [
       "HBox(children=(Renderer(camera=PerspectiveCamera(children=(PointLight(color='#999999', position=(0.0, 0.0, 5.0…"
      ]
     },
     "metadata": {},
     "output_type": "display_data"
    },
    {
     "data": {
      "image/png": "[encoded data removed]",
      "text/plain": [
       "<Figure size 1080x288 with 4 Axes>"
      ]
     },
     "metadata": {
      "needs_background": "light"
     },
     "output_type": "display_data"
    }
   ],
   "source": [
    "fourth_structure_view = get_structure_analysis_view(curved_linkage)\n",
    "fourth_structure_view.show()"
   ]
  },
  {
   "cell_type": "code",
   "execution_count": 32,
   "metadata": {},
   "outputs": [],
   "source": [
    "optimizer = initialize_stage_2_optimizer(curved_linkage, io.SURFACE_PATH, curved_save_tgt_joint_pos, curved_linkage_view, rw, sw, inner_gradTol = 1e-6)"
   ]
  },
  {
   "cell_type": "code",
   "execution_count": 33,
   "metadata": {},
   "outputs": [],
   "source": [
    "optimizer, contact_opt_iterateData = contact_optimization(optimizer, curved_linkage, curved_linkage_view, minRestLen=-1, contact_weight = 5e6, normalWeight = 10, torqueWeight = 0, maxIter=2000, normalActivationThreshold=-1e-6)"
   ]
  },
  {
   "cell_type": "code",
   "execution_count": 34,
   "metadata": {},
   "outputs": [
    {
     "name": "stdout",
     "output_type": "stream",
     "text": [
      "Coefficient of Friction Percentiles 50, 75, 90:  nan nan nan\n"
     ]
    },
    {
     "data": {
      "application/vnd.jupyter.widget-view+json": {
       "model_id": "e57ddb3511ed4e4c85718be535590fcb",
       "version_major": 2,
       "version_minor": 0
      },
      "text/plain": [
       "HBox(children=(Renderer(camera=PerspectiveCamera(children=(PointLight(color='#999999', position=(0.0, 0.0, 5.0…"
      ]
     },
     "metadata": {},
     "output_type": "display_data"
    },
    {
     "data": {
      "image/png": "[encoded data removed]",
      "text/plain": [
       "<Figure size 1080x288 with 4 Axes>"
      ]
     },
     "metadata": {
      "needs_background": "light"
     },
     "output_type": "display_data"
    }
   ],
   "source": [
    "structure_view_4 = get_structure_analysis_view(curved_linkage)\n",
    "structure_view_4.show()"
   ]
  },
  {
   "cell_type": "code",
   "execution_count": 35,
   "metadata": {
    "scrolled": true
   },
   "outputs": [
    {
     "name": "stdout",
     "output_type": "stream",
     "text": [
      "Flipping crossing:  [280 175 108 304  84 295 308  74]\n",
      "0\t7.89644e-05\t0.050438\t0.050438\t1\t1\n",
      "1\t5.06604e-05\t0.0678699\t0.0678699\t1\t1\n",
      "2\t4.24944e-05\t0.0058353\t0.0058353\t1\t1\n",
      "3\t4.06622e-05\t0.00199869\t0.00199869\t1\t1\n",
      "4\t3.90291e-05\t0.00136218\t0.00136218\t1\t0\n",
      "5\t3.77781e-05\t0.0114704\t0.0114704\t1\t1\n",
      "6\t3.53778e-05\t0.000728621\t0.000728621\t1\t0\n",
      "7\t3.52242e-05\t0.00394213\t0.00394213\t1\t1\n",
      "8\t3.4821e-05\t0.000198726\t0.000198726\t1\t1\n",
      "9\t3.47628e-05\t8.5291e-05\t8.5291e-05\t1\t0\n",
      "10\t3.46759e-05\t0.000702468\t0.000702468\t1\t1\n",
      "11\t3.46533e-05\t2.15832e-05\t2.15832e-05\t1\t0\n",
      "12\t3.4641e-05\t0.000404112\t0.000404112\t1\t0\n",
      "13\t3.46344e-05\t0.000110877\t0.000110877\t1\t0\n",
      "14\t3.46343e-05\t0.000235265\t0.000235265\t1\t0\n",
      "15\t3.46319e-05\t1.02913e-05\t1.02913e-05\t1\t0\n",
      "16\t3.46318e-05\t1.22801e-05\t1.22801e-05\t1\t0\n",
      "17\t3.46318e-05\t8.57063e-06\t8.57063e-06\t1\t0\n",
      "18\t3.46318e-05\t3.54669e-07\t3.54669e-07\t0.25\t0\n",
      "19\t3.46318e-05\t4.92602e-06\t4.92602e-06\t1\t0\n",
      "20\t3.46318e-05\t7.40955e-07\t7.40955e-07\t0.5\t0\n",
      "21\t3.46318e-05\t5.00295e-06\t5.00295e-06\t1\t0\n",
      "22\t3.46318e-05\t4.98224e-07\t4.98224e-07\t0.25\t0\n",
      "23\t3.46318e-05\t1.91182e-06\t1.91182e-06\t1\t0\n",
      "24\t3.46318e-05\t2.32666e-06\t2.32666e-06\t1\t0\n",
      "25\t3.46318e-05\t1.31782e-06\t1.31782e-06\t1\t0\n",
      "26\t3.46318e-05\t3.13486e-06\t3.13486e-06\t1\t0\n",
      "27\t3.46318e-05\t4.9078e-07\t4.9078e-07\t0.5\t0\n",
      "28\t3.46318e-05\t2.91969e-06\t2.91969e-06\t1\t0\n",
      "29\t3.46318e-05\t3.81182e-07\t3.81182e-07\t0.5\t0\n",
      "30\t3.46318e-05\t2.8153e-06\t2.8153e-06\t1\t0\n",
      "31\t3.46318e-05\t2.58889e-07\t2.58889e-07\t0.25\t0\n",
      "32\t3.46318e-05\t8.93552e-07\t8.93552e-07\t1\t0\n",
      "33\t3.46318e-05\t1.42418e-06\t1.42418e-06\t1\t0\n",
      "34\t3.46318e-05\t4.57568e-07\t4.57568e-07\t0.5\t0\n",
      "35\t3.46318e-05\t8.37837e-07\t8.37837e-07\t1\t0\n",
      "36\t3.46318e-05\t7.06945e-07\t7.06945e-07\t1\t0\n",
      "37\t3.46318e-05\t6.72038e-07\t6.72038e-07\t1\t0\n",
      "38\t3.46318e-05\t4.95055e-07\t4.95055e-07\t1\t0\n",
      "39\t3.46318e-05\t5.42349e-07\t5.42349e-07\t1\t0\n",
      "40\t3.46318e-05\t2.80519e-07\t2.80519e-07\t1\t0\n",
      "41\t3.46318e-05\t4.60021e-07\t4.60021e-07\t1\t0\n",
      "42\t3.46318e-05\t9.96224e-08\t9.96224e-08\t1\t0\n",
      "43\t3.46318e-05\t3.6482e-07\t3.6482e-07\t1\t0\n",
      "44\t3.46318e-05\t1.41486e-08\t1.41486e-08\t1\t0\n",
      "45\t3.46318e-05\t7.93465e-08\t7.93465e-08\t1\t0\n",
      "46\t3.46318e-05\t3.30079e-10\t3.30079e-10\t1\t0\n"
     ]
    }
   ],
   "source": [
    "cfm = structural_analysis.weavingCrossingForceMagnitudes(curved_linkage, True)\n",
    "if np.sum(cfm[:, 0]>0) > 0:\n",
    "    print(\"Flipping crossing: \", np.argsort(cfm[:, 0] > 0)[-1 * np.sum(cfm[:, 0] > 0):])\n",
    "    for i in np.argsort(cfm[:, 0] > 0)[-1 * np.sum(cfm[:, 0] > 0):]:\n",
    "        curved_linkage.joint(i).type = get_opposite_joint_type(curved_linkage.joint(i).type)\n",
    "    elastic_rods.compute_equilibrium(curved_linkage, callback = eqm_callback, options = OPTS)\n",
    "    curved_linkage_view.update()"
   ]
  },
  {
   "cell_type": "code",
   "execution_count": 36,
   "metadata": {},
   "outputs": [
    {
     "name": "stdout",
     "output_type": "stream",
     "text": [
      "Coefficient of Friction Percentiles 50, 75, 90:  nan nan nan\n"
     ]
    },
    {
     "data": {
      "application/vnd.jupyter.widget-view+json": {
       "model_id": "a15a8a1a5b6c4de18093130d90d980b0",
       "version_major": 2,
       "version_minor": 0
      },
      "text/plain": [
       "HBox(children=(Renderer(camera=PerspectiveCamera(children=(PointLight(color='#999999', position=(0.0, 0.0, 5.0…"
      ]
     },
     "metadata": {},
     "output_type": "display_data"
    },
    {
     "data": {
      "image/png": "[encoded data removed]",
      "text/plain": [
       "<Figure size 1080x288 with 4 Axes>"
      ]
     },
     "metadata": {
      "needs_background": "light"
     },
     "output_type": "display_data"
    }
   ],
   "source": [
    "structure_view_5 = get_structure_analysis_view(curved_linkage)\n",
    "structure_view_5.show()"
   ]
  },
  {
   "cell_type": "code",
   "execution_count": 37,
   "metadata": {
    "scrolled": true
   },
   "outputs": [
    {
     "name": "stdout",
     "output_type": "stream",
     "text": [
      "Flipping crossing:  [219 304 268 250 274]\n",
      "0\t6.08858e-05\t0.0387948\t0.0387948\t1\t1\n",
      "1\t4.00457e-05\t0.00850057\t0.00850057\t1\t1\n",
      "2\t3.69281e-05\t0.00339449\t0.00339449\t1\t1\n",
      "3\t3.5823e-05\t0.000768976\t0.000768976\t1\t1\n",
      "4\t3.53159e-05\t0.000376929\t0.000376929\t1\t1\n",
      "5\t3.50495e-05\t0.000191673\t0.000191673\t1\t1\n",
      "6\t3.48979e-05\t0.000111793\t0.000111793\t1\t1\n",
      "7\t3.48082e-05\t7.15607e-05\t7.15607e-05\t1\t1\n",
      "8\t3.47552e-05\t4.70152e-05\t4.70152e-05\t1\t1\n",
      "9\t3.47238e-05\t3.11004e-05\t3.11004e-05\t1\t1\n",
      "10\t3.47047e-05\t2.19991e-05\t2.19991e-05\t1\t1\n",
      "11\t3.46932e-05\t1.52022e-05\t1.52022e-05\t1\t1\n",
      "12\t3.46861e-05\t1.05826e-05\t1.05826e-05\t1\t1\n",
      "13\t3.46815e-05\t9.8345e-06\t9.8345e-06\t0.125\t0\n",
      "14\t3.46783e-05\t0.000156516\t0.000156516\t0.5\t0\n",
      "15\t3.46709e-05\t0.000164295\t0.000164295\t1\t0\n",
      "16\t3.46657e-05\t7.27321e-05\t7.27321e-05\t1\t0\n",
      "17\t3.46652e-05\t0.00016909\t0.00016909\t1\t0\n",
      "18\t3.46628e-05\t1.3213e-05\t1.3213e-05\t0.5\t0\n",
      "19\t3.46625e-05\t4.80663e-05\t4.80663e-05\t1\t0\n",
      "20\t3.46621e-05\t2.23415e-05\t2.23415e-05\t1\t0\n",
      "21\t3.4662e-05\t3.78349e-05\t3.78349e-05\t1\t0\n",
      "22\t3.46618e-05\t2.98712e-06\t2.98712e-06\t1\t0\n",
      "23\t3.46618e-05\t9.71171e-06\t9.71171e-06\t1\t0\n",
      "24\t3.46618e-05\t9.27369e-07\t9.27369e-07\t0.5\t0\n",
      "25\t3.46618e-05\t6.48004e-06\t6.48004e-06\t1\t0\n",
      "26\t3.46618e-05\t5.94352e-07\t5.94352e-07\t0.25\t0\n",
      "27\t3.46618e-05\t2.50823e-06\t2.50823e-06\t1\t0\n",
      "28\t3.46618e-05\t2.71458e-06\t2.71458e-06\t1\t0\n",
      "29\t3.46618e-05\t1.904e-06\t1.904e-06\t1\t0\n",
      "30\t3.46618e-05\t2.97422e-06\t2.97422e-06\t1\t0\n",
      "31\t3.46618e-05\t1.02038e-06\t1.02038e-06\t0.5\t0\n",
      "32\t3.46618e-05\t1.88472e-06\t1.88472e-06\t1\t0\n",
      "33\t3.46618e-05\t1.5832e-06\t1.5832e-06\t1\t0\n",
      "34\t3.46618e-05\t1.66123e-06\t1.66123e-06\t1\t0\n",
      "35\t3.46618e-05\t1.14196e-06\t1.14196e-06\t1\t0\n",
      "36\t3.46618e-05\t1.64232e-06\t1.64232e-06\t1\t0\n",
      "37\t3.46618e-05\t6.08676e-07\t6.08676e-07\t1\t0\n",
      "38\t3.46618e-05\t2.37532e-06\t2.37532e-06\t1\t0\n",
      "39\t3.46618e-05\t1.31998e-07\t1.31998e-07\t0.5\t0\n",
      "40\t3.46618e-05\t1.85393e-06\t1.85393e-06\t1\t0\n",
      "41\t3.46618e-05\t9.17609e-08\t9.17609e-08\t0.5\t0\n",
      "42\t3.46618e-05\t1.07232e-06\t1.07232e-06\t1\t0\n",
      "43\t3.46618e-05\t8.42963e-08\t8.42963e-08\t0.5\t0\n",
      "44\t3.46618e-05\t4.10056e-07\t4.10056e-07\t1\t0\n",
      "45\t3.46618e-05\t1.17068e-07\t1.17068e-07\t1\t0\n",
      "46\t3.46618e-05\t2.72592e-07\t2.72592e-07\t1\t0\n",
      "47\t3.46618e-05\t2.00524e-08\t2.00524e-08\t1\t0\n",
      "48\t3.46618e-05\t5.5214e-08\t5.5214e-08\t1\t0\n",
      "49\t3.46618e-05\t5.61513e-10\t5.61513e-10\t1\t0\n"
     ]
    }
   ],
   "source": [
    "cfm = structural_analysis.weavingCrossingForceMagnitudes(curved_linkage, True)\n",
    "if np.sum(cfm[:, 0]>0) > 0:\n",
    "    print(\"Flipping crossing: \", np.argsort(cfm[:, 0] > 0)[-1 * np.sum(cfm[:, 0] > 0):])\n",
    "    for i in np.argsort(cfm[:, 0] > 0)[-1 * np.sum(cfm[:, 0] > 0):]:\n",
    "        curved_linkage.joint(i).type = get_opposite_joint_type(curved_linkage.joint(i).type)\n",
    "    elastic_rods.compute_equilibrium(curved_linkage, callback = eqm_callback, options = OPTS)\n",
    "    curved_linkage_view.update()"
   ]
  },
  {
   "cell_type": "code",
   "execution_count": 38,
   "metadata": {},
   "outputs": [
    {
     "name": "stdout",
     "output_type": "stream",
     "text": [
      "Coefficient of Friction Percentiles 50, 75, 90:  nan nan nan\n"
     ]
    },
    {
     "data": {
      "application/vnd.jupyter.widget-view+json": {
       "model_id": "28bc863f2057409689f54c8d9dc3e7d1",
       "version_major": 2,
       "version_minor": 0
      },
      "text/plain": [
       "HBox(children=(Renderer(camera=PerspectiveCamera(children=(PointLight(color='#999999', position=(0.0, 0.0, 5.0…"
      ]
     },
     "metadata": {},
     "output_type": "display_data"
    },
    {
     "data": {
      "image/png": "[encoded data removed]",
      "text/plain": [
       "<Figure size 1080x288 with 4 Axes>"
      ]
     },
     "metadata": {
      "needs_background": "light"
     },
     "output_type": "display_data"
    }
   ],
   "source": [
    "structure_view_6 = get_structure_analysis_view(curved_linkage)\n",
    "structure_view_6.show()"
   ]
  },
  {
   "cell_type": "code",
   "execution_count": 39,
   "metadata": {
    "scrolled": true
   },
   "outputs": [
    {
     "name": "stdout",
     "output_type": "stream",
     "text": [
      "Flipping crossing:  [304]\n",
      "0\t3.93383e-05\t0.0177156\t0.0177156\t0.25\t1\n",
      "1\t3.78706e-05\t0.0156505\t0.0156505\t1\t1\n",
      "2\t3.55334e-05\t0.00737301\t0.00737301\t1\t1\n",
      "3\t3.50913e-05\t0.00817045\t0.00817045\t1\t1\n",
      "4\t3.4875e-05\t0.000317383\t0.000317383\t0.0625\t0\n",
      "5\t3.4856e-05\t0.000489793\t0.000489793\t1\t0\n",
      "6\t3.47462e-05\t0.00132205\t0.00132205\t1\t0\n",
      "7\t3.46763e-05\t0.000564336\t0.000564336\t1\t0\n",
      "8\t3.46672e-05\t0.000226155\t0.000226155\t0.5\t0\n",
      "9\t3.46643e-05\t0.000288557\t0.000288557\t1\t0\n",
      "10\t3.46593e-05\t1.70351e-05\t1.70351e-05\t0.5\t0\n",
      "11\t3.4659e-05\t4.97836e-05\t4.97836e-05\t1\t0\n",
      "12\t3.46587e-05\t1.44322e-05\t1.44322e-05\t1\t0\n",
      "13\t3.46586e-05\t7.54113e-06\t7.54113e-06\t1\t0\n",
      "14\t3.46586e-05\t3.23891e-06\t3.23891e-06\t1\t0\n",
      "15\t3.46586e-05\t8.13614e-06\t8.13614e-06\t1\t0\n",
      "16\t3.46586e-05\t1.14607e-06\t1.14607e-06\t0.25\t0\n",
      "17\t3.46586e-05\t3.4272e-06\t3.4272e-06\t1\t0\n",
      "18\t3.46586e-05\t5.20146e-06\t5.20146e-06\t1\t0\n",
      "19\t3.46586e-05\t2.10855e-06\t2.10855e-06\t0.5\t0\n",
      "20\t3.46586e-05\t3.77137e-06\t3.77137e-06\t1\t0\n",
      "21\t3.46586e-05\t3.36761e-06\t3.36761e-06\t1\t0\n",
      "22\t3.46586e-05\t3.79088e-06\t3.79088e-06\t1\t0\n",
      "23\t3.46586e-05\t2.72969e-06\t2.72969e-06\t1\t0\n",
      "24\t3.46586e-05\t4.63308e-06\t4.63308e-06\t1\t0\n",
      "25\t3.46586e-05\t1.49502e-06\t1.49502e-06\t0.5\t0\n",
      "26\t3.46586e-05\t3.62491e-06\t3.62491e-06\t1\t0\n",
      "27\t3.46586e-05\t2.00077e-06\t2.00077e-06\t1\t0\n",
      "28\t3.46586e-05\t5.5718e-06\t5.5718e-06\t1\t0\n",
      "29\t3.46586e-05\t6.78573e-07\t6.78573e-07\t0.25\t0\n",
      "30\t3.46586e-05\t2.36573e-06\t2.36573e-06\t1\t0\n",
      "31\t3.46586e-05\t2.97231e-06\t2.97231e-06\t1\t0\n",
      "32\t3.46586e-05\t1.69116e-06\t1.69116e-06\t1\t0\n",
      "33\t3.46586e-05\t4.35107e-06\t4.35107e-06\t1\t0\n",
      "34\t3.46586e-05\t6.11863e-07\t6.11863e-07\t0.5\t0\n",
      "35\t3.46586e-05\t5.23906e-06\t5.23906e-06\t1\t0\n",
      "36\t3.46586e-05\t3.22718e-07\t3.22718e-07\t0.25\t0\n",
      "37\t3.46586e-05\t2.71821e-06\t2.71821e-06\t1\t0\n",
      "38\t3.46586e-05\t9.09214e-07\t9.09214e-07\t0.5\t0\n",
      "39\t3.46586e-05\t1.94397e-06\t1.94397e-06\t1\t0\n",
      "40\t3.46586e-05\t1.30426e-06\t1.30426e-06\t1\t0\n",
      "41\t3.46586e-05\t2.34801e-06\t2.34801e-06\t1\t0\n",
      "42\t3.46586e-05\t6.39468e-07\t6.39468e-07\t0.5\t0\n",
      "43\t3.46586e-05\t1.74924e-06\t1.74924e-06\t1\t0\n",
      "44\t3.46586e-05\t8.05507e-07\t8.05507e-07\t1\t0\n",
      "45\t3.46586e-05\t2.73579e-06\t2.73579e-06\t1\t0\n",
      "46\t3.46586e-05\t2.13463e-07\t2.13463e-07\t0.25\t0\n",
      "47\t3.46586e-05\t9.49676e-07\t9.49676e-07\t1\t0\n",
      "48\t3.46586e-05\t1.08099e-06\t1.08099e-06\t1\t0\n",
      "49\t3.46586e-05\t6.52885e-07\t6.52885e-07\t1\t0\n",
      "50\t3.46586e-05\t1.20559e-06\t1.20559e-06\t1\t0\n",
      "51\t3.46586e-05\t2.83341e-07\t2.83341e-07\t0.5\t0\n",
      "52\t3.46586e-05\t7.14192e-07\t7.14192e-07\t1\t0\n",
      "53\t3.46586e-05\t3.91586e-07\t3.91586e-07\t1\t0\n",
      "54\t3.46586e-05\t7.06556e-07\t7.06556e-07\t1\t0\n",
      "55\t3.46586e-05\t1.50989e-07\t1.50989e-07\t1\t0\n",
      "56\t3.46586e-05\t8.91513e-07\t8.91513e-07\t1\t0\n",
      "57\t3.46586e-05\t1.90925e-08\t1.90925e-08\t0.5\t0\n",
      "58\t3.46586e-05\t1.60202e-07\t1.60202e-07\t1\t0\n",
      "59\t3.46586e-05\t5.29466e-08\t5.29466e-08\t1\t0\n",
      "60\t3.46586e-05\t3.6684e-08\t3.6684e-08\t1\t0\n",
      "61\t3.46586e-05\t3.31161e-09\t3.31161e-09\t1\t0\n"
     ]
    }
   ],
   "source": [
    "cfm = structural_analysis.weavingCrossingForceMagnitudes(curved_linkage, True)\n",
    "if np.sum(cfm[:, 0]>0) > 0:\n",
    "    print(\"Flipping crossing: \", np.argsort(cfm[:, 0] > 0)[-1 * np.sum(cfm[:, 0] > 0):])\n",
    "    for i in np.argsort(cfm[:, 0] > 0)[-1 * np.sum(cfm[:, 0] > 0):]:\n",
    "        curved_linkage.joint(i).type = get_opposite_joint_type(curved_linkage.joint(i).type)\n",
    "    elastic_rods.compute_equilibrium(curved_linkage, callback = eqm_callback, options = OPTS)\n",
    "    curved_linkage_view.update()"
   ]
  },
  {
   "cell_type": "code",
   "execution_count": 40,
   "metadata": {},
   "outputs": [
    {
     "name": "stdout",
     "output_type": "stream",
     "text": [
      "Coefficient of Friction Percentiles 50, 75, 90:  nan nan nan\n"
     ]
    },
    {
     "data": {
      "application/vnd.jupyter.widget-view+json": {
       "model_id": "3eba50eccaef413196b8a38191e10059",
       "version_major": 2,
       "version_minor": 0
      },
      "text/plain": [
       "HBox(children=(Renderer(camera=PerspectiveCamera(children=(PointLight(color='#999999', position=(0.0, 0.0, 5.0…"
      ]
     },
     "metadata": {},
     "output_type": "display_data"
    },
    {
     "data": {
      "image/png": "[encoded data removed]",
      "text/plain": [
       "<Figure size 1080x288 with 4 Axes>"
      ]
     },
     "metadata": {
      "needs_background": "light"
     },
     "output_type": "display_data"
    }
   ],
   "source": [
    "structure_view_6 = get_structure_analysis_view(curved_linkage)\n",
    "structure_view_6.show()"
   ]
  },
  {
   "cell_type": "code",
   "execution_count": 41,
   "metadata": {},
   "outputs": [],
   "source": [
    "optimizer = initialize_stage_2_optimizer(curved_linkage, io.SURFACE_PATH, curved_save_tgt_joint_pos, curved_linkage_view, rw, sw, inner_gradTol = 1e-6)"
   ]
  },
  {
   "cell_type": "code",
   "execution_count": 42,
   "metadata": {},
   "outputs": [],
   "source": [
    "optimizer, contact_opt_iterateData = contact_optimization(optimizer, curved_linkage, curved_linkage_view, minRestLen=-1, contact_weight = 5e6, normalWeight = 10, torqueWeight = 0, maxIter=2000, normalActivationThreshold=-1e-6)"
   ]
  },
  {
   "cell_type": "code",
   "execution_count": 43,
   "metadata": {},
   "outputs": [
    {
     "name": "stdout",
     "output_type": "stream",
     "text": [
      "Coefficient of Friction Percentiles 50, 75, 90:  nan nan nan\n"
     ]
    },
    {
     "data": {
      "application/vnd.jupyter.widget-view+json": {
       "model_id": "834764421a4e4f0a888612c0f59419a8",
       "version_major": 2,
       "version_minor": 0
      },
      "text/plain": [
       "HBox(children=(Renderer(camera=PerspectiveCamera(children=(PointLight(color='#999999', position=(0.0, 0.0, 5.0…"
      ]
     },
     "metadata": {},
     "output_type": "display_data"
    },
    {
     "data": {
      "image/png": "[encoded data removed]",
      "text/plain": [
       "<Figure size 1080x288 with 4 Axes>"
      ]
     },
     "metadata": {
      "needs_background": "light"
     },
     "output_type": "display_data"
    }
   ],
   "source": [
    "structure_view_7 = get_structure_analysis_view(curved_linkage)\n",
    "structure_view_7.show()"
   ]
  },
  {
   "cell_type": "code",
   "execution_count": 44,
   "metadata": {
    "scrolled": true
   },
   "outputs": [
    {
     "name": "stdout",
     "output_type": "stream",
     "text": [
      "Flipping crossing:  [298 297 289 293 306 307  70 281 139 137 313 124 120 183 184 101 100 204\n",
      "  24 205 219 224  76  60 243 249 253 255  31 280 217 314]\n",
      "0\t0.000552554\t0.451423\t0.451423\t0.5\t1\n",
      "1\t0.000283585\t2.44117\t2.44117\t1\t1\n",
      "2\t0.000245842\t0.337764\t0.337764\t1\t1\n",
      "3\t0.000220582\t0.171845\t0.171845\t1\t1\n",
      "4\t0.000200859\t0.0901559\t0.0901559\t1\t1\n",
      "5\t0.000182176\t0.0645507\t0.0645507\t1\t1\n",
      "6\t0.000163174\t0.0488154\t0.0488154\t1\t1\n",
      "7\t0.000144101\t0.036213\t0.036213\t1\t1\n",
      "8\t0.000125404\t0.0263809\t0.0263809\t1\t1\n",
      "9\t0.000107284\t0.0189633\t0.0189633\t1\t1\n",
      "10\t9.01073e-05\t0.0133755\t0.0133755\t0.5\t0\n",
      "11\t5.88535e-05\t0.0338914\t0.0338914\t1\t1\n",
      "12\t5.13926e-05\t0.00639488\t0.00639488\t1\t1\n",
      "13\t4.56768e-05\t0.00413392\t0.00413392\t1\t1\n",
      "14\t4.08845e-05\t0.00271781\t0.00271781\t1\t0\n",
      "15\t3.14905e-05\t0.0336046\t0.0336046\t1\t1\n",
      "16\t2.89484e-05\t0.000811686\t0.000811686\t1\t1\n",
      "17\t2.87015e-05\t0.000297855\t0.000297855\t0.5\t0\n",
      "18\t2.82671e-05\t0.0103081\t0.0103081\t1\t1\n",
      "19\t2.8154e-05\t0.00013889\t0.00013889\t1\t0\n",
      "20\t2.79319e-05\t0.0022423\t0.0022423\t1\t0\n",
      "21\t2.79251e-05\t0.0076969\t0.0076969\t1\t1\n",
      "22\t2.79107e-05\t2.59497e-05\t2.59497e-05\t1\t0\n",
      "23\t2.79051e-05\t0.000970005\t0.000970005\t1\t0\n",
      "24\t2.79045e-05\t0.00297406\t0.00297406\t1\t0\n",
      "25\t2.79035e-05\t0.000839239\t0.000839239\t1\t0\n",
      "26\t2.79031e-05\t0.00187914\t0.00187914\t1\t0\n",
      "27\t2.79022e-05\t0.000161988\t0.000161988\t1\t0\n",
      "28\t2.79016e-05\t0.000807814\t0.000807814\t0.5\t0\n",
      "29\t2.79014e-05\t0.000478184\t0.000478184\t1\t0\n",
      "30\t2.79011e-05\t0.000161599\t0.000161599\t1\t0\n",
      "31\t2.79011e-05\t7.20968e-05\t7.20968e-05\t0.25\t0\n",
      "32\t2.7901e-05\t4.95735e-05\t4.95735e-05\t1\t0\n",
      "33\t2.7901e-05\t6.27424e-06\t6.27424e-06\t0.25\t0\n",
      "34\t2.7901e-05\t1.30392e-05\t1.30392e-05\t1\t0\n",
      "35\t2.7901e-05\t1.7566e-05\t1.7566e-05\t1\t0\n",
      "36\t2.7901e-05\t6.36939e-06\t6.36939e-06\t1\t0\n",
      "37\t2.7901e-05\t2.55788e-05\t2.55788e-05\t1\t0\n",
      "38\t2.7901e-05\t1.20342e-06\t1.20342e-06\t0.25\t0\n",
      "39\t2.7901e-05\t6.48418e-06\t6.48418e-06\t1\t0\n",
      "40\t2.7901e-05\t5.61193e-06\t5.61193e-06\t1\t0\n",
      "41\t2.7901e-05\t8.27375e-06\t8.27375e-06\t1\t0\n",
      "42\t2.7901e-05\t1.43516e-06\t1.43516e-06\t0.5\t0\n",
      "43\t2.7901e-05\t5.21269e-06\t5.21269e-06\t1\t0\n",
      "44\t2.7901e-05\t1.11788e-06\t1.11788e-06\t0.5\t0\n",
      "45\t2.7901e-05\t3.76801e-06\t3.76801e-06\t1\t0\n",
      "46\t2.7901e-05\t9.06233e-07\t9.06233e-07\t0.5\t0\n",
      "47\t2.7901e-05\t2.19439e-06\t2.19439e-06\t1\t0\n",
      "48\t2.7901e-05\t1.26544e-06\t1.26544e-06\t1\t0\n",
      "49\t2.7901e-05\t2.50399e-06\t2.50399e-06\t1\t0\n",
      "50\t2.7901e-05\t1.07296e-06\t1.07296e-06\t1\t0\n",
      "51\t2.7901e-05\t2.73522e-06\t2.73522e-06\t1\t0\n",
      "52\t2.7901e-05\t3.64174e-07\t3.64174e-07\t1\t0\n",
      "53\t2.7901e-05\t1.72848e-06\t1.72848e-06\t1\t0\n",
      "54\t2.7901e-05\t3.2495e-08\t3.2495e-08\t1\t0\n",
      "55\t2.7901e-05\t1.12304e-07\t1.12304e-07\t1\t0\n",
      "56\t2.7901e-05\t1.27616e-10\t1.27616e-10\t1\t0\n"
     ]
    }
   ],
   "source": [
    "cfm = structural_analysis.weavingCrossingForceMagnitudes(curved_linkage, True)\n",
    "if np.sum(cfm[:, 0]>0) > 0:\n",
    "    print(\"Flipping crossing: \", np.argsort(cfm[:, 0] > 0)[-1 * np.sum(cfm[:, 0] > 0):])\n",
    "    for i in np.argsort(cfm[:, 0] > 0)[-1 * np.sum(cfm[:, 0] > 0):]:\n",
    "        curved_linkage.joint(i).type = get_opposite_joint_type(curved_linkage.joint(i).type)\n",
    "    elastic_rods.compute_equilibrium(curved_linkage, callback = eqm_callback, options = OPTS)\n",
    "    curved_linkage_view.update()"
   ]
  },
  {
   "cell_type": "code",
   "execution_count": 45,
   "metadata": {},
   "outputs": [
    {
     "name": "stdout",
     "output_type": "stream",
     "text": [
      "Coefficient of Friction Percentiles 50, 75, 90:  nan nan nan\n"
     ]
    },
    {
     "data": {
      "application/vnd.jupyter.widget-view+json": {
       "model_id": "6b6e753ea5b9439fa15ea5a26987fe4e",
       "version_major": 2,
       "version_minor": 0
      },
      "text/plain": [
       "HBox(children=(Renderer(camera=PerspectiveCamera(children=(PointLight(color='#999999', position=(0.0, 0.0, 5.0…"
      ]
     },
     "metadata": {},
     "output_type": "display_data"
    },
    {
     "data": {
      "image/png": "[encoded data removed]",
      "text/plain": [
       "<Figure size 1080x288 with 4 Axes>"
      ]
     },
     "metadata": {
      "needs_background": "light"
     },
     "output_type": "display_data"
    }
   ],
   "source": [
    "structure_view_8 = get_structure_analysis_view(curved_linkage)\n",
    "structure_view_8.show()"
   ]
  },
  {
   "cell_type": "code",
   "execution_count": 46,
   "metadata": {
    "scrolled": true
   },
   "outputs": [
    {
     "name": "stdout",
     "output_type": "stream",
     "text": [
      "Flipping crossing:  [141 310  36 215]\n",
      "0\t6.23313e-05\t0.0466393\t0.0466393\t0.0625\t1\n",
      "1\t6.06381e-05\t0.0695374\t0.0695374\t1\t1\n",
      "2\t3.72884e-05\t0.0196513\t0.0196513\t1\t1\n",
      "3\t3.25718e-05\t0.00397266\t0.00397266\t1\t0\n",
      "4\t2.91925e-05\t0.0133829\t0.0133829\t1\t1\n",
      "5\t2.83546e-05\t0.000542241\t0.000542241\t1\t0\n",
      "6\t2.80051e-05\t0.0024786\t0.0024786\t0.03125\t0\n",
      "7\t2.79989e-05\t0.00241244\t0.00241244\t0.5\t0\n",
      "8\t2.79938e-05\t0.0151671\t0.0151671\t1\t1\n",
      "9\t2.79628e-05\t0.000105033\t0.000105033\t1\t0\n",
      "10\t2.79319e-05\t0.00230087\t0.00230087\t0.125\t0\n",
      "11\t2.79284e-05\t0.00173588\t0.00173588\t1\t0\n",
      "12\t2.79235e-05\t0.000874706\t0.000874706\t1\t0\n",
      "13\t2.79218e-05\t0.0021824\t0.0021824\t0.03125\t0\n",
      "14\t2.79216e-05\t0.00212764\t0.00212764\t1\t0\n",
      "15\t2.79201e-05\t0.000306644\t0.000306644\t0.5\t0\n",
      "16\t2.79198e-05\t0.000734192\t0.000734192\t1\t0\n",
      "17\t2.79195e-05\t0.000292854\t0.000292854\t1\t0\n",
      "18\t2.79195e-05\t0.000108264\t0.000108264\t1\t0\n",
      "19\t2.79194e-05\t1.75315e-05\t1.75315e-05\t0.125\t0\n",
      "20\t2.79194e-05\t1.88614e-05\t1.88614e-05\t1\t0\n",
      "21\t2.79194e-05\t5.32613e-06\t5.32613e-06\t1\t0\n",
      "22\t2.79194e-05\t1.71195e-05\t1.71195e-05\t1\t0\n",
      "23\t2.79194e-05\t1.13843e-06\t1.13843e-06\t0.25\t0\n",
      "24\t2.79194e-05\t7.60351e-06\t7.60351e-06\t1\t0\n",
      "25\t2.79194e-05\t4.99163e-06\t4.99163e-06\t1\t0\n",
      "26\t2.79194e-05\t7.44943e-06\t7.44943e-06\t1\t0\n",
      "27\t2.79194e-05\t3.50087e-06\t3.50087e-06\t1\t0\n",
      "28\t2.79194e-05\t1.06632e-05\t1.06632e-05\t1\t0\n",
      "29\t2.79194e-05\t1.26041e-06\t1.26041e-06\t0.5\t0\n",
      "30\t2.79194e-05\t1.03597e-05\t1.03597e-05\t1\t0\n",
      "31\t2.79194e-05\t1.01146e-06\t1.01146e-06\t0.5\t0\n",
      "32\t2.79194e-05\t8.86756e-06\t8.86756e-06\t1\t0\n",
      "33\t2.79194e-05\t8.61437e-07\t8.61437e-07\t0.5\t0\n",
      "34\t2.79194e-05\t6.51208e-06\t6.51208e-06\t1\t0\n",
      "35\t2.79194e-05\t8.41164e-07\t8.41164e-07\t0.5\t0\n",
      "36\t2.79194e-05\t3.7417e-06\t3.7417e-06\t1\t0\n",
      "37\t2.79194e-05\t1.08183e-06\t1.08183e-06\t1\t0\n",
      "38\t2.79194e-05\t4.43693e-06\t4.43693e-06\t1\t0\n",
      "39\t2.79194e-05\t1.99809e-07\t1.99809e-07\t0.5\t0\n",
      "40\t2.79194e-05\t1.15724e-06\t1.15724e-06\t1\t0\n",
      "41\t2.79194e-05\t3.74094e-07\t3.74094e-07\t1\t0\n",
      "42\t2.79194e-05\t4.15803e-07\t4.15803e-07\t1\t0\n",
      "43\t2.79194e-05\t4.3029e-08\t4.3029e-08\t1\t0\n",
      "44\t2.79194e-05\t1.35735e-08\t1.35735e-08\t1\t0\n",
      "45\t2.79194e-05\t6.00653e-11\t6.00653e-11\t1\t0\n"
     ]
    }
   ],
   "source": [
    "cfm = structural_analysis.weavingCrossingForceMagnitudes(curved_linkage, True)\n",
    "if np.sum(cfm[:, 0]>0) > 0:\n",
    "    print(\"Flipping crossing: \", np.argsort(cfm[:, 0] > 0)[-1 * np.sum(cfm[:, 0] > 0):])\n",
    "    for i in np.argsort(cfm[:, 0] > 0)[-1 * np.sum(cfm[:, 0] > 0):]:\n",
    "        curved_linkage.joint(i).type = get_opposite_joint_type(curved_linkage.joint(i).type)\n",
    "    elastic_rods.compute_equilibrium(curved_linkage, callback = eqm_callback, options = OPTS)\n",
    "    curved_linkage_view.update()"
   ]
  },
  {
   "cell_type": "code",
   "execution_count": 47,
   "metadata": {},
   "outputs": [
    {
     "name": "stdout",
     "output_type": "stream",
     "text": [
      "Coefficient of Friction Percentiles 50, 75, 90:  nan nan nan\n"
     ]
    },
    {
     "data": {
      "application/vnd.jupyter.widget-view+json": {
       "model_id": "22374fb959cc435781f8551e58888717",
       "version_major": 2,
       "version_minor": 0
      },
      "text/plain": [
       "HBox(children=(Renderer(camera=PerspectiveCamera(children=(PointLight(color='#999999', position=(0.0, 0.0, 5.0…"
      ]
     },
     "metadata": {},
     "output_type": "display_data"
    },
    {
     "data": {
      "image/png": "[encoded data removed]",
      "text/plain": [
       "<Figure size 1080x288 with 4 Axes>"
      ]
     },
     "metadata": {
      "needs_background": "light"
     },
     "output_type": "display_data"
    }
   ],
   "source": [
    "structure_view_9 = get_structure_analysis_view(curved_linkage)\n",
    "structure_view_9.show()"
   ]
  },
  {
   "cell_type": "code",
   "execution_count": null,
   "metadata": {},
   "outputs": [],
   "source": [
    "# DEBUG = True\n",
    "# name = 'bunny'\n",
    "# data_filename = '{}/{}_{}_data.npy'.format('results/{}'.format(name), name, 'full_data' if not DEBUG else 'finite_sample')\n",
    "# optimization_data_filename = '{}/{}_optimization.npy'.format('results/{}'.format(name), name)"
   ]
  },
  {
   "cell_type": "code",
   "execution_count": null,
   "metadata": {},
   "outputs": [],
   "source": [
    "# DEBUG = True\n",
    "# name = 'bunny'\n",
    "# data_filename = '{}/{}_{}_data.npy'.format('results/{}'.format(name), name, 'full_data' if not DEBUG else 'finite_sample')\n",
    "# optimization_data_filename = '{}/{}_optimization.npy'.format('results/{}'.format(name), name)\n",
    "# print('Computing Visualization Data ', name)\n",
    "# np.save(optimization_data_filename, [iterateData, opt_iterateData])\n"
   ]
  },
  {
   "cell_type": "code",
   "execution_count": null,
   "metadata": {},
   "outputs": [],
   "source": [
    "# drw = 0.1\n",
    "# dsw = 0.1\n",
    "\n",
    "# DEBUG = True\n",
    "# def make_patch_spines_invisible(ax):\n",
    "#     ax.set_frame_on(True)\n",
    "#     ax.patch.set_visible(False)\n",
    "#     for sp in ax.spines.values():\n",
    "#         sp.set_visible(False)\n",
    "\n",
    "# vs = Visualization_Setting()\n",
    "\n",
    "# def get_optimization_diagram_worker():\n",
    "#     name = 'bunny'\n",
    "#     data_filename = '{}/{}_{}_data.npy'.format('results/{}'.format(name), name, 'full_data' if not DEBUG else 'finite_sample')\n",
    "#     optimization_data_filename = '{}/{}_optimization.npy'.format('results/{}'.format(name), name)\n",
    "#     print('Computing Visualization Data ', name)\n",
    "#     np.save(optimization_data_filename, [iterateData, opt_iterateData])\n",
    "    \n",
    "#     dps_total_absolute_curvature, dps_total_ribbon_length, dps_distance_to_surface, dps_distance_to_joint, dps_eqm_dofs, dps_elastic_energy = compute_visualization_data_from_raw_data(iterateData, io, DEBUG, is_bunny = True)\n",
    "\n",
    "#     opt_total_absolute_curvature, opt_total_ribbon_length, opt_distance_to_surface, opt_distance_to_joint, opt_eqm_dofs, opt_elastic_energy = compute_visualization_data_from_raw_data(opt_iterateData, io, DEBUG, is_bunny = True)\n",
    "\n",
    "#     combined_energy = np.array(dps_elastic_energy + opt_elastic_energy)\n",
    "#     combined_rest_length = np.array(dps_total_ribbon_length + opt_total_ribbon_length)\n",
    "#     combined_total_absolute_curvature = np.array(dps_total_absolute_curvature + opt_total_absolute_curvature)\n",
    "#     combined_distance_to_surface = np.array(dps_distance_to_surface + opt_distance_to_surface)\n",
    "#     combined_dis_to_target_joint = np.array(dps_distance_to_joint + opt_distance_to_joint)\n",
    "\n",
    "#     curr_data = np.array([combined_energy, combined_rest_length, combined_total_absolute_curvature, combined_distance_to_surface, combined_dis_to_target_joint, dps_eqm_dofs, opt_eqm_dofs])\n",
    "#     np.save(data_filename, curr_data)\n",
    "\n",
    "#     dps_objective_elastic, dps_objective_smooth, dps_objective_length, dps_total_objective = get_objective_components_stage1(iterateData)\n",
    "#     opt_objective_elastic, opt_objective_target, opt_objective_length, opt_objective_smooth, opt_total_objective = get_objective_components_stage2(opt_iterateData)\n",
    "    \n",
    "#     combined_weighted_smoothing = np.concatenate((dps_objective_smooth, opt_objective_smooth), axis = None)\n",
    "\n",
    "#     # Objective plots\n",
    "#     plot_objective(vs, iterateData, dps_total_objective, '{}/{}_stage_1_objective.png'.format('results/{}'.format(name), name), vs.stage_1_label)\n",
    "#     plot_objective(vs, opt_iterateData, opt_total_objective, '{}/{}_stage_2_objective.png'.format('results/{}'.format(name), name), vs.stage_2_label)\n",
    "    \n",
    "#     def plot_stage_1_components():\n",
    "#         fig, host = plt.subplots()\n",
    "#         fig.subplots_adjust(right=0.75)\n",
    "#         par1 = host.twinx()\n",
    "#         par2 = host.twinx()\n",
    "#         par3 = host.twinx()\n",
    "#         par4 = host.twinx()\n",
    "\n",
    "#         par2.spines[\"left\"].set_position((\"axes\", -0.12))\n",
    "#         make_patch_spines_invisible(par2)\n",
    "\n",
    "#         par2.spines[\"left\"].set_visible(True)\n",
    "#         par2.yaxis.set_label_position('left')\n",
    "#         par2.yaxis.set_ticks_position('left')\n",
    "\n",
    "#         par3.spines[\"left\"].set_position((\"axes\", -0.24))\n",
    "\n",
    "#         make_patch_spines_invisible(par3)\n",
    "\n",
    "#         par3.spines[\"left\"].set_visible(True)\n",
    "#         par3.yaxis.set_label_position('left')\n",
    "#         par3.yaxis.set_ticks_position('left')\n",
    "\n",
    "#         n_iter = len(dps_elastic_energy)\n",
    "\n",
    "#         p1, = host.plot(range(n_iter), dps_elastic_energy, linewidth = 3, color = vs.elastic_color, label=vs.elastic_label)\n",
    "#         p2, = par1.plot(range(n_iter), dps_total_ribbon_length, linewidth = 3, color = vs.rest_length_color, label=vs.rest_length_label)\n",
    "#         # print(len(dps_objective_smooth), n_iter)\n",
    "#         p3, = par2.plot(range(n_iter), np.array(dps_objective_smooth)[[0, int(len(iterateData)/4), int(3 * len(iterateData)/4), int(len(iterateData)-1)]], linewidth = 3, color = vs.smoothness_color, label=vs.smoothness_label) if DEBUG else par2.plot(range(n_iter), np.array(dps_objective_smooth), linewidth = 3, color = vs.smoothness_color, label=vs.smoothness_label)\n",
    "#         p4, = par3.plot(range(n_iter), dps_total_absolute_curvature, linewidth = 3, color = vs.curvature_color, label=vs.curvature_label)\n",
    "#         p5, = par4.plot(range(n_iter), dps_distance_to_surface, linewidth = 3, color = vs.target_color, label=vs.target_label)\n",
    "\n",
    "#         set_figure_label_and_limit(host, par1, par2, par3, par4, p1, p2, p3, p4, p5, combined_energy, combined_rest_length, combined_weighted_smoothing, combined_total_absolute_curvature, combined_distance_to_surface, vs)\n",
    "\n",
    "#         lines = [p1, p2, p3, p4, p5]\n",
    "\n",
    "#         par1.yaxis.set_visible(False)\n",
    "#         par2.yaxis.set_visible(True)\n",
    "#         par3.yaxis.set_visible(True)\n",
    "#         par4.yaxis.set_visible(False)\n",
    "\n",
    "#         fig.set_size_inches(vs.figure_size)\n",
    "#         fig.savefig('{}/{}_stage_1_components.png'.format('results/{}'.format(name), name), bbox_inches='tight', dpi=200)\n",
    "#         plt.close()\n",
    "#     plot_stage_1_components()\n",
    "\n",
    "#     def plot_stage_2_components():\n",
    "#         fig, host = plt.subplots()\n",
    "#         fig.subplots_adjust(right=0.75)\n",
    "\n",
    "#         par1 = host.twinx()\n",
    "#         par2 = host.twinx()\n",
    "#         par3 = host.twinx()\n",
    "#         par4 = host.twinx()\n",
    "\n",
    "#         par2.spines[\"right\"].set_position((\"axes\", 1.12))\n",
    "\n",
    "#         make_patch_spines_invisible(par2)\n",
    "#         par2.spines[\"right\"].set_visible(False)\n",
    "\n",
    "\n",
    "#         par3.spines[\"right\"].set_position((\"axes\", 1.24))\n",
    "#         make_patch_spines_invisible(par3)\n",
    "#         par3.spines[\"right\"].set_visible(False)\n",
    "\n",
    "#         par4.spines[\"right\"].set_position((\"axes\", 1.12))\n",
    "#         make_patch_spines_invisible(par4)\n",
    "#         par4.spines[\"right\"].set_visible(True)\n",
    "\n",
    "\n",
    "#         x_range = [-1] + list(range(len(opt_elastic_energy)))\n",
    "\n",
    "#         # Samara temp view slice\n",
    "#         # opt_objective_smooth = opt_objective_smooth[[0, int(len(opt_iterateData)/4), int(3 * len(opt_iterateData)/4), int(len(opt_iterateData)-1)]]\n",
    "#         p1, = host.plot(x_range, [dps_elastic_energy[-1]] + list(opt_elastic_energy), linewidth = 3, color = vs.elastic_color, label=vs.elastic_label)\n",
    "#         p2, = par1.plot(x_range, [dps_total_ribbon_length[-1]] + list(opt_total_ribbon_length), linewidth = 3, color = vs.rest_length_color, label=vs.rest_length_label)\n",
    "#         p3, = par2.plot(x_range, [dps_objective_smooth[-1]] + list(np.array(opt_objective_smooth)[[0, int(len(opt_iterateData)/4), int(3 * len(opt_iterateData)/4), int(len(opt_iterateData)-1)]]), linewidth = 3, color = vs.smoothness_color, label=vs.smoothness_label) if DEBUG else par2.plot(x_range, [dps_objective_smooth[-1]] + list(np.array(opt_objective_smooth)), linewidth = 3, color = vs.smoothness_color, label=vs.smoothness_label)\n",
    "#         p4, = par3.plot(x_range, [dps_total_absolute_curvature[-1]] + list(opt_total_absolute_curvature), linewidth = 3, color = vs.curvature_color, label=vs.curvature_label)\n",
    "#         p5, = par4.plot(x_range, [dps_distance_to_surface[-1]] + list(opt_distance_to_surface), linewidth = 3, color = vs.target_color, label=vs.target_label)\n",
    "\n",
    "#         set_figure_label_and_limit(host, par1, par2, par3, par4, p1, p2, p3, p4, p5, combined_energy, combined_rest_length, combined_weighted_smoothing, combined_total_absolute_curvature, combined_distance_to_surface, vs)\n",
    "\n",
    "#         lines = [p1, p2, p3, p4, p5]\n",
    "\n",
    "#         host.yaxis.set_visible(False)\n",
    "#         par1.yaxis.set_visible(True)\n",
    "#         par2.yaxis.set_visible(False)\n",
    "#         par3.yaxis.set_visible(False)\n",
    "#         par4.yaxis.set_visible(True)\n",
    "#         # plt.axvline(x=opt_iteration_count, color=cmap(8), linestyle='--')\n",
    "#         leg = host.legend(lines, [l.get_label() for l in lines], loc=\"upper right\", facecolor='white', framealpha=1, fancybox=True, prop={'size': 15})\n",
    "\n",
    "#         bb = leg.get_bbox_to_anchor().inverse_transformed(host.transAxes)\n",
    "\n",
    "#         # Change to location of the legend. \n",
    "#         yOffset = -0.2\n",
    "#         bb.y0 += yOffset\n",
    "#         leg.set_bbox_to_anchor(bb, transform = host.transAxes)\n",
    "#         fig.set_size_inches(vs.figure_size)\n",
    "#         fig.savefig('{}/{}_stage_2_components.png'.format('results/{}'.format(name), name), bbox_inches='tight', dpi=200)\n",
    "#         plt.close()\n",
    "\n",
    "\n",
    "#     plot_stage_2_components()\n",
    "    \n",
    "# get_optimization_diagram_worker()"
   ]
  }
 ],
 "metadata": {
  "kernelspec": {
   "display_name": "Python 3",
   "language": "python",
   "name": "python3"
  },
  "language_info": {
   "codemirror_mode": {
    "name": "ipython",
    "version": 3
   },
   "file_extension": ".py",
   "mimetype": "text/x-python",
   "name": "python",
   "nbconvert_exporter": "python",
   "pygments_lexer": "ipython3",
   "version": "3.7.9"
  }
 },
 "nbformat": 4,
 "nbformat_minor": 4
}
