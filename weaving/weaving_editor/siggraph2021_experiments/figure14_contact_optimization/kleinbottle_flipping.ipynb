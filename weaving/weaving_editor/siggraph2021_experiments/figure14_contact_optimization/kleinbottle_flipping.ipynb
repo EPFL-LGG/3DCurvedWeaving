{
 "cells": [
  {
   "cell_type": "code",
   "execution_count": 1,
   "metadata": {},
   "outputs": [],
   "source": [
    "elastic_rods_dir = '../../../../elastic_rods/python/'\n",
    "weaving_dir = '../../../'\n",
    "import os\n",
    "import os.path as osp\n",
    "import sys; sys.path.append(elastic_rods_dir); sys.path.append(weaving_dir)\n",
    "import numpy as np, elastic_rods, linkage_vis\n",
    "import numpy.linalg as la\n",
    "from bending_validation import suppress_stdout as so\n",
    "import matplotlib.pyplot as plt\n",
    "from elastic_rods import EnergyType, InterleavingType\n",
    "\n",
    "# weaving\n",
    "import analysis_helper, ribbon_linkage_helper, mesh_vis, linkage_utils, compute_curve_from_curvature, pipeline_helper, importlib\n",
    "importlib.reload(analysis_helper)\n",
    "importlib.reload(ribbon_linkage_helper)\n",
    "importlib.reload(mesh_vis)\n",
    "importlib.reload(linkage_utils)\n",
    "importlib.reload(compute_curve_from_curvature)\n",
    "importlib.reload(pipeline_helper)\n",
    "from analysis_helper import (compare_turning_angle,\n",
    "                            is_on_sphere, \n",
    "                            get_distance_to_center_scalar_field, \n",
    "                            plot_curvatures, \n",
    "                            get_curvature_scalar_field,\n",
    "                            construct_elastic_rod_loop_from_rod_segments, \n",
    "                            concatenate_rod_properties_from_rod_segments, \n",
    "                            compute_min_distance_rigid_transformation)\n",
    "from ribbon_linkage_helper import (update_rest_curvature, \n",
    "                                   set_ribbon_linkage,\n",
    "                                   export_linkage_geometry_to_obj,\n",
    "                                   write_linkage_ribbon_output_florin)\n",
    "\n",
    "from compute_curve_from_curvature import (match_geo_curvature_and_edge_len, get_all_curve_pattern)\n",
    "from linkage_utils import order_segments_by_ribbons, get_turning_angle_and_length_from_ordered_rods\n",
    "\n",
    "from pipeline_helper import (initialize_linkage, get_normal_deviation, set_joint_vector_field, stage_1_optimization, initialize_stage_2_optimizer, stage_2_optimization, InputOrganizer, write_all_output, set_surface_view_options, get_structure_analysis_view, contact_optimization, get_double_side_view, show_selected_joints, highlight_rod_and_joint)\n",
    "import vis.fields\n",
    "import matplotlib.cm as cm\n",
    "import time"
   ]
  },
  {
   "cell_type": "code",
   "execution_count": 2,
   "metadata": {},
   "outputs": [],
   "source": [
    "import parallelism\n",
    "parallelism.set_max_num_tbb_threads(24)\n",
    "parallelism.set_hessian_assembly_num_threads(8)\n",
    "parallelism.set_gradient_assembly_num_threads(8)"
   ]
  },
  {
   "cell_type": "code",
   "execution_count": 3,
   "metadata": {},
   "outputs": [
    {
     "name": "stdout",
     "output_type": "stream",
     "text": [
      "0.036223111957836215 0.0012678089185242675\n"
     ]
    }
   ],
   "source": [
    "scale = 1\n",
    "rod_length = 0.07244622391567243 * scale\n",
    "width = rod_length / 20 * 10 \n",
    "thickness = width / 10 * 0.35 \n",
    "print(width, thickness)\n",
    "io = InputOrganizer('kleinbottle_projected_{}'.format(scale), thickness, width, weaving_dir)"
   ]
  },
  {
   "cell_type": "code",
   "execution_count": 4,
   "metadata": {},
   "outputs": [],
   "source": [
    "import py_newton_optimizer\n",
    "# Optimization parameters.\n",
    "OPTS = py_newton_optimizer.NewtonOptimizerOptions()\n",
    "OPTS.gradTol = 1e-8\n",
    "OPTS.verbose = 1;\n",
    "OPTS.beta = 1e-8\n",
    "OPTS.niter = 200\n",
    "OPTS.verboseNonPosDef = False\n",
    "rw = 0.01\n",
    "sw = 10\n",
    "drw = 0.01\n",
    "dsw = 0.1"
   ]
  },
  {
   "cell_type": "code",
   "execution_count": 5,
   "metadata": {},
   "outputs": [],
   "source": [
    "import pickle \n",
    "import gzip"
   ]
  },
  {
   "cell_type": "code",
   "execution_count": 6,
   "metadata": {},
   "outputs": [
    {
     "data": {
      "application/vnd.jupyter.widget-view+json": {
       "model_id": "cc216e7a7e55461ea198c8647a7615fa",
       "version_major": 2,
       "version_minor": 0
      },
      "text/plain": [
       "Renderer(camera=PerspectiveCamera(children=(PointLight(color='#999999', position=(0.0, 0.0, 5.0), quaternion=(…"
      ]
     },
     "metadata": {},
     "output_type": "display_data"
    }
   ],
   "source": [
    "curved_linkage = pickle.load(gzip.open('{}_stage_2_20210105.pkl.gz'.format(io.MODEL_NAME), 'r'))\n",
    "curved_linkage_view = linkage_vis.LinkageViewerWithSurface(curved_linkage, io.SURFACE_PATH)\n",
    "curved_save_tgt_joint_pos = curved_linkage.jointPositions();\n",
    "set_surface_view_options(curved_linkage_view, linkage_color='lightgreen')\n",
    "curved_linkage_view.show()"
   ]
  },
  {
   "cell_type": "code",
   "execution_count": null,
   "metadata": {},
   "outputs": [],
   "source": [
    "# curved_linkage.setDesignParameters(np.load('../../nature_paper_experiments/figure_1/results/bird_close_beak_1/bird_close_beak_1_dof.npy')[curved_linkage.numDoF():])"
   ]
  },
  {
   "cell_type": "code",
   "execution_count": null,
   "metadata": {},
   "outputs": [],
   "source": [
    "curved_linkage.attraction_weight = 1e-5"
   ]
  },
  {
   "cell_type": "code",
   "execution_count": null,
   "metadata": {},
   "outputs": [],
   "source": [
    "def eqm_callback(prob, i):\n",
    "#     curved_linkage_view.update()\n",
    "    pass"
   ]
  },
  {
   "cell_type": "code",
   "execution_count": null,
   "metadata": {
    "scrolled": true
   },
   "outputs": [],
   "source": [
    "elastic_rods.compute_equilibrium(curved_linkage, callback = eqm_callback, options = OPTS)"
   ]
  },
  {
   "cell_type": "code",
   "execution_count": null,
   "metadata": {},
   "outputs": [],
   "source": [
    "curved_linkage_view.update()"
   ]
  },
  {
   "cell_type": "code",
   "execution_count": null,
   "metadata": {},
   "outputs": [],
   "source": [
    "# import pickle\n",
    "# import gzip\n",
    "# pickle.dump(curved_linkage, gzip.open('{}_stage_2_20210105.pkl.gz'.format(io.MODEL_NAME), 'w'))"
   ]
  },
  {
   "cell_type": "code",
   "execution_count": null,
   "metadata": {},
   "outputs": [],
   "source": [
    "def get_opposite_joint_type(curr_type):\n",
    "    if curr_type == curved_linkage.joint(0).Type.A_OVER_B:\n",
    "        return curved_linkage.joint(0).Type.B_OVER_A\n",
    "    return curved_linkage.joint(0).Type.A_OVER_B\n",
    "import structural_analysis"
   ]
  },
  {
   "cell_type": "code",
   "execution_count": null,
   "metadata": {},
   "outputs": [],
   "source": [
    "structure_view = get_structure_analysis_view(curved_linkage)\n",
    "structure_view.show()"
   ]
  },
  {
   "cell_type": "code",
   "execution_count": null,
   "metadata": {},
   "outputs": [],
   "source": [
    "# optimizer = initialize_stage_2_optimizer(curved_linkage, io.SURFACE_PATH, curved_save_tgt_joint_pos, curved_linkage_view, rw, sw, inner_gradTol = 1e-6)"
   ]
  },
  {
   "cell_type": "code",
   "execution_count": null,
   "metadata": {},
   "outputs": [],
   "source": [
    "# optimizer, contact_opt_iterateData = contact_optimization(optimizer, curved_linkage, curved_linkage_view, minRestLen=-1, contact_weight = 5e8, normalWeight = 20, torqueWeight = 0, maxIter=2000, normalActivationThreshold=-1e-7)"
   ]
  },
  {
   "cell_type": "code",
   "execution_count": null,
   "metadata": {
    "scrolled": true
   },
   "outputs": [],
   "source": [
    "cfm = structural_analysis.weavingCrossingForceMagnitudes(curved_linkage, True)\n",
    "if np.sum(cfm[:, 0]>0) > 0:\n",
    "    print(\"Flipping crossing: \", np.argsort(cfm[:, 0] > 0)[-1 * np.sum(cfm[:, 0] > 0):])\n",
    "    for i in np.argsort(cfm[:, 0] > 0)[-1 * np.sum(cfm[:, 0] > 0):]:\n",
    "        curved_linkage.joint(i).type = get_opposite_joint_type(curved_linkage.joint(i).type)\n",
    "    elastic_rods.compute_equilibrium(curved_linkage, callback = eqm_callback, options = OPTS)\n",
    "    curved_linkage_view.update()"
   ]
  },
  {
   "cell_type": "code",
   "execution_count": null,
   "metadata": {},
   "outputs": [],
   "source": [
    "second_structure_view = get_structure_analysis_view(curved_linkage)\n",
    "second_structure_view.show()"
   ]
  },
  {
   "cell_type": "code",
   "execution_count": null,
   "metadata": {},
   "outputs": [],
   "source": [
    "import pickle\n",
    "import gzip\n",
    "pickle.dump(curved_linkage, gzip.open('{}_stage_2_20210105_after_flipping_1.pkl.gz'.format(io.MODEL_NAME), 'w'))"
   ]
  },
  {
   "cell_type": "code",
   "execution_count": null,
   "metadata": {
    "scrolled": true
   },
   "outputs": [],
   "source": [
    "cfm = structural_analysis.weavingCrossingForceMagnitudes(curved_linkage, True)\n",
    "if np.sum(cfm[:, 0]>0) > 0:\n",
    "    print(\"Flipping crossing: \", np.argsort(cfm[:, 0] > 0)[-1 * np.sum(cfm[:, 0] > 0):])\n",
    "    for i in np.argsort(cfm[:, 0] > 0)[-1 * np.sum(cfm[:, 0] > 0):]:\n",
    "        curved_linkage.joint(i).type = get_opposite_joint_type(curved_linkage.joint(i).type)\n",
    "    elastic_rods.compute_equilibrium(curved_linkage, callback = eqm_callback, options = OPTS)\n",
    "    curved_linkage_view.update()"
   ]
  },
  {
   "cell_type": "code",
   "execution_count": null,
   "metadata": {},
   "outputs": [],
   "source": [
    "third_structure_view = get_structure_analysis_view(curved_linkage)\n",
    "third_structure_view.show()"
   ]
  },
  {
   "cell_type": "code",
   "execution_count": null,
   "metadata": {},
   "outputs": [],
   "source": [
    "import pickle\n",
    "import gzip\n",
    "pickle.dump(curved_linkage, gzip.open('{}_stage_2_20210105_after_flipping_2.pkl.gz'.format(io.MODEL_NAME), 'w'))"
   ]
  },
  {
   "cell_type": "code",
   "execution_count": null,
   "metadata": {
    "scrolled": true
   },
   "outputs": [],
   "source": [
    "cfm = structural_analysis.weavingCrossingForceMagnitudes(curved_linkage, True)\n",
    "if np.sum(cfm[:, 0]>0) > 0:\n",
    "    print(\"Flipping crossing: \", np.argsort(cfm[:, 0] > 0)[-1 * np.sum(cfm[:, 0] > 0):])\n",
    "    for i in np.argsort(cfm[:, 0] > 0)[-1 * np.sum(cfm[:, 0] > 0):]:\n",
    "        curved_linkage.joint(i).type = get_opposite_joint_type(curved_linkage.joint(i).type)\n",
    "    elastic_rods.compute_equilibrium(curved_linkage, callback = eqm_callback, options = OPTS)\n",
    "    curved_linkage_view.update()"
   ]
  },
  {
   "cell_type": "code",
   "execution_count": null,
   "metadata": {},
   "outputs": [],
   "source": [
    "fourth_structure_view = get_structure_analysis_view(curved_linkage)\n",
    "fourth_structure_view.show()"
   ]
  },
  {
   "cell_type": "code",
   "execution_count": null,
   "metadata": {},
   "outputs": [],
   "source": [
    "import pickle\n",
    "import gzip\n",
    "pickle.dump(curved_linkage, gzip.open('{}_stage_2_20210105_after_flipping_3.pkl.gz'.format(io.MODEL_NAME), 'w'))"
   ]
  },
  {
   "cell_type": "code",
   "execution_count": null,
   "metadata": {},
   "outputs": [],
   "source": [
    "optimizer = initialize_stage_2_optimizer(curved_linkage, io.SURFACE_PATH, curved_save_tgt_joint_pos, curved_linkage_view, rw, sw, inner_gradTol = 1e-6)"
   ]
  },
  {
   "cell_type": "code",
   "execution_count": null,
   "metadata": {},
   "outputs": [],
   "source": [
    "from structural_analysis import weavingCrossingForceMagnitudes\n",
    "cfm = weavingCrossingForceMagnitudes(curved_linkage, True)\n",
    "normalActivationThreshold = np.percentile(cfm[:, 0], 75)"
   ]
  },
  {
   "cell_type": "code",
   "execution_count": null,
   "metadata": {},
   "outputs": [],
   "source": [
    "optimizer, contact_opt_iterateData = contact_optimization(optimizer, curved_linkage, curved_linkage_view, minRestLen=-1, contact_weight = 5e6, normalWeight = 10, torqueWeight = 0, maxIter=2000, normalActivationThreshold=normalActivationThreshold)"
   ]
  },
  {
   "cell_type": "markdown",
   "metadata": {},
   "source": [
    "### vector visualization"
   ]
  },
  {
   "cell_type": "code",
   "execution_count": 7,
   "metadata": {},
   "outputs": [],
   "source": [
    "list_of_pickle_name = ['{}_stage_2_20210105.pkl.gz'.format(io.MODEL_NAME), '{}_stage_2_20210105_after_flipping_1.pkl.gz'.format(io.MODEL_NAME), '{}_stage_2_20210105_after_flipping_2.pkl.gz'.format(io.MODEL_NAME), '{}_stage_2_20210105_after_flipping_3.pkl.gz'.format(io.MODEL_NAME)]\n",
    "list_of_output_name = ['{}_stage_2'.format(io.MODEL_NAME), '{}_flip_1'.format(io.MODEL_NAME), '{}_flip_2'.format(io.MODEL_NAME), '{}_flip_3'.format(io.MODEL_NAME)]"
   ]
  },
  {
   "cell_type": "code",
   "execution_count": 9,
   "metadata": {},
   "outputs": [
    {
     "data": {
      "text/plain": [
       "'kleinbottle_projected_1_stage_2_20210105.pkl.gz'"
      ]
     },
     "execution_count": 9,
     "metadata": {},
     "output_type": "execute_result"
    }
   ],
   "source": [
    "'{}_stage_2_20210105.pkl.gz'.format(io.MODEL_NAME)"
   ]
  },
  {
   "cell_type": "code",
   "execution_count": 8,
   "metadata": {},
   "outputs": [
    {
     "name": "stdout",
     "output_type": "stream",
     "text": [
      "0\t1.182e-05\t4.63065e-09\t4.63065e-09\t0\t0\n",
      "0\t1.18394e-05\t4.17284e-09\t4.17284e-09\t0\t0\n",
      "0\t1.18411e-05\t6.3153e-09\t6.3153e-09\t0\t0\n",
      "0\t1.18447e-05\t3.5488e-09\t3.5488e-09\t0\t0\n"
     ]
    }
   ],
   "source": [
    "import force_vector_visualization_helper\n",
    "importlib.reload(force_vector_visualization_helper)\n",
    "from force_vector_visualization_helper import write_force_vector_visualization_file\n",
    "write_force_vector_visualization_file(list_of_pickle_name, list_of_output_name)"
   ]
  },
  {
   "cell_type": "code",
   "execution_count": 16,
   "metadata": {},
   "outputs": [],
   "source": [
    "    os.chdir(save_path)"
   ]
  },
  {
   "cell_type": "code",
   "execution_count": 17,
   "metadata": {
    "scrolled": true
   },
   "outputs": [
    {
     "name": "stdout",
     "output_type": "stream",
     "text": [
      "0\t1.182e-05\t4.63065e-09\t4.63065e-09\t0\t0\n",
      "20520 20520\n",
      "Min Width  0.018111555978918108\n",
      "Scale:  276.06683853226144\n",
      "num seg per rod 120\n",
      "num seg per rod 120\n",
      "num seg per rod 120\n",
      "num seg per rod 120\n",
      "num seg per rod 120\n",
      "num seg per rod 120\n",
      "num seg per rod 12\n",
      "num seg per rod 12\n",
      "num seg per rod 12\n",
      "num seg per rod 12\n",
      "num seg per rod 12\n",
      "num seg per rod 12\n",
      "num seg per rod 12\n",
      "num seg per rod 12\n",
      "num seg per rod 12\n",
      "num seg per rod 12\n",
      "num seg per rod 12\n",
      "num seg per rod 12\n",
      "num seg per rod 12\n",
      "num seg per rod 12\n",
      "num seg per rod 12\n",
      "num seg per rod 12\n",
      "num seg per rod 12\n",
      "num seg per rod 12\n",
      "num seg per rod 12\n",
      "num seg per rod 12\n",
      "num seg per rod 12\n",
      "num seg per rod 12\n",
      "num seg per rod 12\n",
      "num seg per rod 12\n",
      "num seg per rod 12\n",
      "num seg per rod 12\n",
      "num seg per rod 12\n",
      "num seg per rod 12\n",
      "num seg per rod 12\n",
      "num seg per rod 12\n",
      "1492.6263498236474 766.9388076080202\n",
      "1492.6263498236474 806.6254066649011\n",
      "1977.7524060605529 806.6254066649011\n",
      "2180.5811291171367 806.6254066649011\n",
      "2180.5811291171367 806.6254066649011\n",
      "2180.5811291171367 806.6254066649011\n",
      "2180.5811291171367 806.6254066649011\n",
      "2180.5811291171367 806.6254066649011\n",
      "2180.5811291171367 806.6254066649011\n",
      "2180.5811291171367 806.6254066649011\n",
      "2180.5811291171367 806.6254066649011\n",
      "2180.5811291171367 806.6254066649011\n",
      "2180.5811291171367 806.6254066649011\n",
      "2180.5811291171367 806.6254066649011\n",
      "2180.5811291171367 806.6254066649011\n",
      "2180.5811291171367 806.6254066649011\n",
      "2180.5811291171367 806.6254066649011\n",
      "2180.5811291171367 806.6254066649011\n",
      "2180.5811291171367 806.6254066649011\n",
      "2180.5811291171367 806.6254066649011\n",
      "2180.5811291171367 806.6254066649011\n",
      "2180.5811291171367 806.6254066649011\n",
      "2180.5811291171367 806.6254066649011\n",
      "2180.5811291171367 806.6254066649011\n",
      "2180.5811291171367 806.6254066649011\n",
      "2180.5811291171367 806.6254066649011\n",
      "2180.5811291171367 806.6254066649011\n",
      "2180.5811291171367 806.6254066649011\n",
      "2180.5811291171367 806.6254066649011\n",
      "2180.5811291171367 806.6254066649011\n",
      "2180.5811291171367 806.6254066649011\n",
      "2180.5811291171367 806.6254066649011\n",
      "2180.5811291171367 806.6254066649011\n",
      "2180.5811291171367 806.6254066649011\n",
      "2180.5811291171367 806.6254066649011\n",
      "2180.5811291171367 806.6254066649011\n",
      "0\t1.18394e-05\t4.17284e-09\t4.17284e-09\t0\t0\n",
      "20520 20520\n",
      "Min Width  0.018111555978918108\n",
      "Scale:  276.06683853226144\n",
      "num seg per rod 120\n",
      "num seg per rod 120\n",
      "num seg per rod 120\n",
      "num seg per rod 120\n",
      "num seg per rod 120\n",
      "num seg per rod 120\n",
      "num seg per rod 12\n",
      "num seg per rod 12\n",
      "num seg per rod 12\n",
      "num seg per rod 12\n",
      "num seg per rod 12\n",
      "num seg per rod 12\n",
      "num seg per rod 12\n",
      "num seg per rod 12\n",
      "num seg per rod 12\n",
      "num seg per rod 12\n",
      "num seg per rod 12\n",
      "num seg per rod 12\n",
      "num seg per rod 12\n",
      "num seg per rod 12\n",
      "num seg per rod 12\n",
      "num seg per rod 12\n",
      "num seg per rod 12\n",
      "num seg per rod 12\n",
      "num seg per rod 12\n",
      "num seg per rod 12\n",
      "num seg per rod 12\n",
      "num seg per rod 12\n",
      "num seg per rod 12\n",
      "num seg per rod 12\n",
      "num seg per rod 12\n",
      "num seg per rod 12\n",
      "num seg per rod 12\n",
      "num seg per rod 12\n",
      "num seg per rod 12\n",
      "num seg per rod 12\n",
      "1492.6263498236474 766.9388076080202\n",
      "1492.6263498236474 806.6254066649011\n",
      "1977.7524060605529 806.6254066649011\n",
      "2180.5811291171367 806.6254066649011\n",
      "2180.5811291171367 806.6254066649011\n",
      "2180.5811291171367 806.6254066649011\n",
      "2180.5811291171367 806.6254066649011\n",
      "2180.5811291171367 806.6254066649011\n",
      "2180.5811291171367 806.6254066649011\n",
      "2180.5811291171367 806.6254066649011\n",
      "2180.5811291171367 806.6254066649011\n",
      "2180.5811291171367 806.6254066649011\n",
      "2180.5811291171367 806.6254066649011\n",
      "2180.5811291171367 806.6254066649011\n",
      "2180.5811291171367 806.6254066649011\n",
      "2180.5811291171367 806.6254066649011\n",
      "2180.5811291171367 806.6254066649011\n",
      "2180.5811291171367 806.6254066649011\n",
      "2180.5811291171367 806.6254066649011\n",
      "2180.5811291171367 806.6254066649011\n",
      "2180.5811291171367 806.6254066649011\n",
      "2180.5811291171367 806.6254066649011\n",
      "2180.5811291171367 806.6254066649011\n",
      "2180.5811291171367 806.6254066649011\n",
      "2180.5811291171367 806.6254066649011\n",
      "2180.5811291171367 806.6254066649011\n",
      "2180.5811291171367 806.6254066649011\n",
      "2180.5811291171367 806.6254066649011\n",
      "2180.5811291171367 806.6254066649011\n",
      "2180.5811291171367 806.6254066649011\n",
      "2180.5811291171367 806.6254066649011\n",
      "2180.5811291171367 806.6254066649011\n",
      "2180.5811291171367 806.6254066649011\n",
      "2180.5811291171367 806.6254066649011\n",
      "2180.5811291171367 806.6254066649011\n",
      "2180.5811291171367 806.6254066649011\n",
      "0\t1.18411e-05\t6.3153e-09\t6.3153e-09\t0\t0\n",
      "20520 20520\n",
      "Min Width  0.018111555978918108\n",
      "Scale:  276.06683853226144\n",
      "num seg per rod 120\n",
      "num seg per rod 120\n",
      "num seg per rod 120\n",
      "num seg per rod 120\n",
      "num seg per rod 120\n",
      "num seg per rod 120\n",
      "num seg per rod 12\n",
      "num seg per rod 12\n",
      "num seg per rod 12\n",
      "num seg per rod 12\n",
      "num seg per rod 12\n",
      "num seg per rod 12\n",
      "num seg per rod 12\n",
      "num seg per rod 12\n",
      "num seg per rod 12\n",
      "num seg per rod 12\n",
      "num seg per rod 12\n",
      "num seg per rod 12\n",
      "num seg per rod 12\n",
      "num seg per rod 12\n",
      "num seg per rod 12\n",
      "num seg per rod 12\n",
      "num seg per rod 12\n",
      "num seg per rod 12\n",
      "num seg per rod 12\n",
      "num seg per rod 12\n",
      "num seg per rod 12\n",
      "num seg per rod 12\n",
      "num seg per rod 12\n",
      "num seg per rod 12\n",
      "num seg per rod 12\n",
      "num seg per rod 12\n",
      "num seg per rod 12\n",
      "num seg per rod 12\n",
      "num seg per rod 12\n",
      "num seg per rod 12\n",
      "1492.6263498236474 766.9388076080202\n",
      "1492.6263498236474 806.6254066649011\n",
      "1977.7524060605529 806.6254066649011\n",
      "2180.5811291171367 806.6254066649011\n",
      "2180.5811291171367 806.6254066649011\n",
      "2180.5811291171367 806.6254066649011\n",
      "2180.5811291171367 806.6254066649011\n",
      "2180.5811291171367 806.6254066649011\n",
      "2180.5811291171367 806.6254066649011\n",
      "2180.5811291171367 806.6254066649011\n",
      "2180.5811291171367 806.6254066649011\n",
      "2180.5811291171367 806.6254066649011\n",
      "2180.5811291171367 806.6254066649011\n",
      "2180.5811291171367 806.6254066649011\n",
      "2180.5811291171367 806.6254066649011\n",
      "2180.5811291171367 806.6254066649011\n",
      "2180.5811291171367 806.6254066649011\n",
      "2180.5811291171367 806.6254066649011\n",
      "2180.5811291171367 806.6254066649011\n",
      "2180.5811291171367 806.6254066649011\n",
      "2180.5811291171367 806.6254066649011\n",
      "2180.5811291171367 806.6254066649011\n",
      "2180.5811291171367 806.6254066649011\n",
      "2180.5811291171367 806.6254066649011\n",
      "2180.5811291171367 806.6254066649011\n",
      "2180.5811291171367 806.6254066649011\n",
      "2180.5811291171367 806.6254066649011\n",
      "2180.5811291171367 806.6254066649011\n",
      "2180.5811291171367 806.6254066649011\n",
      "2180.5811291171367 806.6254066649011\n",
      "2180.5811291171367 806.6254066649011\n",
      "2180.5811291171367 806.6254066649011\n",
      "2180.5811291171367 806.6254066649011\n",
      "2180.5811291171367 806.6254066649011\n",
      "2180.5811291171367 806.6254066649011\n",
      "2180.5811291171367 806.6254066649011\n",
      "0\t1.18447e-05\t3.5488e-09\t3.5488e-09\t0\t0\n",
      "20520 20520\n",
      "Min Width  0.018111555978918108\n",
      "Scale:  276.06683853226144\n",
      "num seg per rod 120\n",
      "num seg per rod 120\n",
      "num seg per rod 120\n",
      "num seg per rod 120\n",
      "num seg per rod 120\n",
      "num seg per rod 120\n",
      "num seg per rod 12\n",
      "num seg per rod 12\n",
      "num seg per rod 12\n",
      "num seg per rod 12\n",
      "num seg per rod 12\n",
      "num seg per rod 12\n",
      "num seg per rod 12\n",
      "num seg per rod 12\n",
      "num seg per rod 12\n",
      "num seg per rod 12\n",
      "num seg per rod 12\n",
      "num seg per rod 12\n",
      "num seg per rod 12\n",
      "num seg per rod 12\n",
      "num seg per rod 12\n",
      "num seg per rod 12\n",
      "num seg per rod 12\n",
      "num seg per rod 12\n",
      "num seg per rod 12\n",
      "num seg per rod 12\n",
      "num seg per rod 12\n",
      "num seg per rod 12\n",
      "num seg per rod 12\n",
      "num seg per rod 12\n",
      "num seg per rod 12\n",
      "num seg per rod 12\n",
      "num seg per rod 12\n",
      "num seg per rod 12\n",
      "num seg per rod 12\n",
      "num seg per rod 12\n",
      "1492.6263498236474 766.9388076080202\n",
      "1492.6263498236474 806.6254066649011\n",
      "1977.7524060605529 806.6254066649011\n",
      "2180.5811291171367 806.6254066649011\n",
      "2180.5811291171367 806.6254066649011\n",
      "2180.5811291171367 806.6254066649011\n",
      "2180.5811291171367 806.6254066649011\n",
      "2180.5811291171367 806.6254066649011\n",
      "2180.5811291171367 806.6254066649011\n",
      "2180.5811291171367 806.6254066649011\n",
      "2180.5811291171367 806.6254066649011\n",
      "2180.5811291171367 806.6254066649011\n",
      "2180.5811291171367 806.6254066649011\n",
      "2180.5811291171367 806.6254066649011\n",
      "2180.5811291171367 806.6254066649011\n",
      "2180.5811291171367 806.6254066649011\n",
      "2180.5811291171367 806.6254066649011\n",
      "2180.5811291171367 806.6254066649011\n",
      "2180.5811291171367 806.6254066649011\n",
      "2180.5811291171367 806.6254066649011\n",
      "2180.5811291171367 806.6254066649011\n",
      "2180.5811291171367 806.6254066649011\n",
      "2180.5811291171367 806.6254066649011\n",
      "2180.5811291171367 806.6254066649011\n",
      "2180.5811291171367 806.6254066649011\n",
      "2180.5811291171367 806.6254066649011\n",
      "2180.5811291171367 806.6254066649011\n",
      "2180.5811291171367 806.6254066649011\n",
      "2180.5811291171367 806.6254066649011\n",
      "2180.5811291171367 806.6254066649011\n",
      "2180.5811291171367 806.6254066649011\n",
      "2180.5811291171367 806.6254066649011\n",
      "2180.5811291171367 806.6254066649011\n",
      "2180.5811291171367 806.6254066649011\n",
      "2180.5811291171367 806.6254066649011\n",
      "2180.5811291171367 806.6254066649011\n"
     ]
    },
    {
     "data": {
      "image/png": "[encoded data removed]",
      "text/plain": [
       "<Figure size 432x288 with 1 Axes>"
      ]
     },
     "metadata": {
      "needs_background": "light"
     },
     "output_type": "display_data"
    }
   ],
   "source": [
    "for pickle_name in list_of_pickle_name:\n",
    "    curved_linkage = pickle.load(gzip.open(pickle_name, 'r'))\n",
    "    curved_linkage.attraction_weight = 1e-5\n",
    "    def eqm_callback(prob, i):\n",
    "#     curved_linkage_view.update()\n",
    "        pass\n",
    "    elastic_rods.compute_equilibrium(curved_linkage, callback = eqm_callback, options = OPTS)\n",
    "    save_path = os.getcwd()\n",
    "    write_all_output(curved_linkage, io.SUBDIVISION_RESOLUTION, pickle_name[:-7], pickle_name[:-7], False, 100, min(io.RIBBON_CS), target_width = 5, flip_angles = False, width = max(io.RIBBON_CS))\n",
    "    os.chdir(save_path)"
   ]
  },
  {
   "cell_type": "code",
   "execution_count": null,
   "metadata": {},
   "outputs": [],
   "source": []
  }
 ],
 "metadata": {
  "kernelspec": {
   "display_name": "Python 3",
   "language": "python",
   "name": "python3"
  },
  "language_info": {
   "codemirror_mode": {
    "name": "ipython",
    "version": 3
   },
   "file_extension": ".py",
   "mimetype": "text/x-python",
   "name": "python",
   "nbconvert_exporter": "python",
   "pygments_lexer": "ipython3",
   "version": "3.7.9"
  }
 },
 "nbformat": 4,
 "nbformat_minor": 4
}
