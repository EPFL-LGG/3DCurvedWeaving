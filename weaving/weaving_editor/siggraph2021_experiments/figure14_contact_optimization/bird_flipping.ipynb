{
 "cells": [
  {
   "cell_type": "code",
   "execution_count": 1,
   "metadata": {},
   "outputs": [],
   "source": [
    "elastic_rods_dir = '../../../../elastic_rods/python/'\n",
    "weaving_dir = '../../../'\n",
    "import os\n",
    "import os.path as osp\n",
    "import sys; sys.path.append(elastic_rods_dir); sys.path.append(weaving_dir)\n",
    "import numpy as np, elastic_rods, linkage_vis\n",
    "import numpy.linalg as la\n",
    "from bending_validation import suppress_stdout as so\n",
    "import matplotlib.pyplot as plt\n",
    "from elastic_rods import EnergyType, InterleavingType\n",
    "\n",
    "# weaving\n",
    "import analysis_helper, ribbon_linkage_helper, mesh_vis, linkage_utils, compute_curve_from_curvature, pipeline_helper, importlib\n",
    "importlib.reload(analysis_helper)\n",
    "importlib.reload(ribbon_linkage_helper)\n",
    "importlib.reload(mesh_vis)\n",
    "importlib.reload(linkage_utils)\n",
    "importlib.reload(compute_curve_from_curvature)\n",
    "importlib.reload(pipeline_helper)\n",
    "from analysis_helper import (compare_turning_angle,\n",
    "                            is_on_sphere, \n",
    "                            get_distance_to_center_scalar_field, \n",
    "                            plot_curvatures, \n",
    "                            get_curvature_scalar_field,\n",
    "                            construct_elastic_rod_loop_from_rod_segments, \n",
    "                            concatenate_rod_properties_from_rod_segments, \n",
    "                            compute_min_distance_rigid_transformation)\n",
    "from ribbon_linkage_helper import (update_rest_curvature, \n",
    "                                   set_ribbon_linkage,\n",
    "                                   export_linkage_geometry_to_obj,\n",
    "                                   write_linkage_ribbon_output_florin)\n",
    "\n",
    "from compute_curve_from_curvature import (match_geo_curvature_and_edge_len, get_all_curve_pattern)\n",
    "from linkage_utils import order_segments_by_ribbons, get_turning_angle_and_length_from_ordered_rods\n",
    "\n",
    "from pipeline_helper import (initialize_linkage, get_normal_deviation, set_joint_vector_field, stage_1_optimization, initialize_stage_2_optimizer, stage_2_optimization, InputOrganizer, write_all_output, set_surface_view_options, get_structure_analysis_view, contact_optimization, get_double_side_view, show_selected_joints, highlight_rod_and_joint)\n",
    "import vis.fields\n",
    "import matplotlib.cm as cm\n",
    "import time"
   ]
  },
  {
   "cell_type": "code",
   "execution_count": 2,
   "metadata": {},
   "outputs": [],
   "source": [
    "import parallelism\n",
    "parallelism.set_max_num_tbb_threads(24)\n",
    "parallelism.set_hessian_assembly_num_threads(8)\n",
    "parallelism.set_gradient_assembly_num_threads(8)"
   ]
  },
  {
   "cell_type": "code",
   "execution_count": 3,
   "metadata": {},
   "outputs": [
    {
     "name": "stdout",
     "output_type": "stream",
     "text": [
      "0.01494926278511622 0.0010464483949581352\n"
     ]
    }
   ],
   "source": [
    "rod_length = 0.05979705114046488\n",
    "width = rod_length / 20 * 5\n",
    "thickness = width / 5 * 0.35\n",
    "print(width, thickness)\n",
    "io = InputOrganizer('bird_close_beak_1', thickness, width, weaving_dir)"
   ]
  },
  {
   "cell_type": "code",
   "execution_count": 4,
   "metadata": {},
   "outputs": [],
   "source": [
    "import py_newton_optimizer\n",
    "# Optimization parameters.\n",
    "OPTS = py_newton_optimizer.NewtonOptimizerOptions()\n",
    "OPTS.gradTol = 1e-8\n",
    "OPTS.verbose = 1;\n",
    "OPTS.beta = 1e-8\n",
    "OPTS.niter = 200\n",
    "OPTS.verboseNonPosDef = False\n",
    "rw = 0.01\n",
    "sw = 10\n",
    "drw = 0.01\n",
    "dsw = 0.1"
   ]
  },
  {
   "cell_type": "code",
   "execution_count": 5,
   "metadata": {},
   "outputs": [],
   "source": [
    "import pickle \n",
    "import gzip"
   ]
  },
  {
   "cell_type": "code",
   "execution_count": 6,
   "metadata": {},
   "outputs": [
    {
     "data": {
      "application/vnd.jupyter.widget-view+json": {
       "model_id": "7d06ccaf3c0d4807bd11b68581741cd6",
       "version_major": 2,
       "version_minor": 0
      },
      "text/plain": [
       "Renderer(camera=PerspectiveCamera(children=(PointLight(color='#999999', position=(0.0, 0.0, 5.0), quaternion=(…"
      ]
     },
     "metadata": {},
     "output_type": "display_data"
    }
   ],
   "source": [
    "curved_linkage = pickle.load(gzip.open('{}_stage_2_20201228.pkl.gz'.format(io.MODEL_NAME), 'r'))\n",
    "curved_linkage_view = linkage_vis.LinkageViewerWithSurface(curved_linkage, io.SURFACE_PATH)\n",
    "curved_save_tgt_joint_pos = curved_linkage.jointPositions();\n",
    "set_surface_view_options(curved_linkage_view, linkage_color='lightgreen')\n",
    "curved_linkage_view.show()"
   ]
  },
  {
   "cell_type": "code",
   "execution_count": 7,
   "metadata": {},
   "outputs": [],
   "source": [
    "# curved_linkage.setDesignParameters(np.load('../../nature_paper_experiments/figure_1/results/bird_close_beak_1/bird_close_beak_1_dof.npy')[curved_linkage.numDoF():])"
   ]
  },
  {
   "cell_type": "code",
   "execution_count": 8,
   "metadata": {},
   "outputs": [],
   "source": [
    "curved_linkage.attraction_weight = 1e-5"
   ]
  },
  {
   "cell_type": "code",
   "execution_count": 9,
   "metadata": {},
   "outputs": [],
   "source": [
    "def eqm_callback(prob, i):\n",
    "#     curved_linkage_view.update()\n",
    "    pass"
   ]
  },
  {
   "cell_type": "code",
   "execution_count": 10,
   "metadata": {
    "scrolled": true
   },
   "outputs": [
    {
     "name": "stdout",
     "output_type": "stream",
     "text": [
      "0\t1.88173e-06\t3.3065e-09\t3.3065e-09\t0\t0\n"
     ]
    },
    {
     "data": {
      "text/plain": [
       "<py_newton_optimizer.ConvergenceReport at 0x12f3609f0>"
      ]
     },
     "execution_count": 10,
     "metadata": {},
     "output_type": "execute_result"
    }
   ],
   "source": [
    "elastic_rods.compute_equilibrium(curved_linkage, callback = eqm_callback, options = OPTS)"
   ]
  },
  {
   "cell_type": "code",
   "execution_count": 11,
   "metadata": {},
   "outputs": [],
   "source": [
    "# import pickle\n",
    "# import gzip\n",
    "# pickle.dump(curved_linkage, gzip.open('{}_stage_2_20201228.pkl.gz'.format(io.MODEL_NAME), 'w'))"
   ]
  },
  {
   "cell_type": "code",
   "execution_count": 12,
   "metadata": {},
   "outputs": [],
   "source": [
    "def get_opposite_joint_type(curr_type):\n",
    "    if curr_type == curved_linkage.joint(0).Type.A_OVER_B:\n",
    "        return curved_linkage.joint(0).Type.B_OVER_A\n",
    "    return curved_linkage.joint(0).Type.A_OVER_B\n",
    "import structural_analysis"
   ]
  },
  {
   "cell_type": "code",
   "execution_count": 13,
   "metadata": {},
   "outputs": [
    {
     "name": "stderr",
     "output_type": "stream",
     "text": [
      "../../../../elastic_rods/python/structural_analysis.py:213: RuntimeWarning: invalid value encountered in true_divide\n",
      "  coefficientOfFriction = cfm[:, 1] / (-separationForce)\n",
      "/Users/yren/Library/Python/3.7/lib/python/site-packages/numpy/lib/histograms.py:839: RuntimeWarning: invalid value encountered in greater_equal\n",
      "  keep = (tmp_a >= first_edge)\n",
      "/Users/yren/Library/Python/3.7/lib/python/site-packages/numpy/lib/histograms.py:840: RuntimeWarning: invalid value encountered in less_equal\n",
      "  keep &= (tmp_a <= last_edge)\n"
     ]
    },
    {
     "name": "stdout",
     "output_type": "stream",
     "text": [
      "Coefficient of Friction Percentiles 50, 75, 90:  nan nan nan\n"
     ]
    },
    {
     "data": {
      "application/vnd.jupyter.widget-view+json": {
       "model_id": "53209d1ce9ab4714a59ccbd2974b0212",
       "version_major": 2,
       "version_minor": 0
      },
      "text/plain": [
       "HBox(children=(Renderer(camera=PerspectiveCamera(children=(PointLight(color='#999999', position=(0.0, 0.0, 5.0…"
      ]
     },
     "metadata": {},
     "output_type": "display_data"
    },
    {
     "data": {
      "image/png": "[encoded data removed]",
      "text/plain": [
       "<Figure size 1080x288 with 4 Axes>"
      ]
     },
     "metadata": {
      "needs_background": "light"
     },
     "output_type": "display_data"
    }
   ],
   "source": [
    "structure_view = get_structure_analysis_view(curved_linkage)\n",
    "structure_view.show()"
   ]
  },
  {
   "cell_type": "code",
   "execution_count": 86,
   "metadata": {},
   "outputs": [],
   "source": [
    "optimizer = initialize_stage_2_optimizer(curved_linkage, io.SURFACE_PATH, curved_save_tgt_joint_pos, curved_linkage_view, rw, sw, inner_gradTol = 1e-6)"
   ]
  },
  {
   "cell_type": "code",
   "execution_count": null,
   "metadata": {},
   "outputs": [],
   "source": [
    "optimizer, contact_opt_iterateData = contact_optimization(optimizer, curved_linkage, curved_linkage_view, minRestLen=-1, contact_weight = 5e8, normalWeight = 20, torqueWeight = 0, maxIter=2000, normalActivationThreshold=-1e-7)"
   ]
  },
  {
   "cell_type": "code",
   "execution_count": 14,
   "metadata": {
    "scrolled": true
   },
   "outputs": [
    {
     "name": "stdout",
     "output_type": "stream",
     "text": [
      "Flipping crossing:  [106 273  47  13  79 165 226  90 147 198   5 159 158 234 151 274 275 196\n",
      " 260  60 283 103 213 101 118 131 205 217  24 176 135  44 303  97  46  69]\n",
      "0\t4.62101e-05\t0.0352524\t0.0352524\t1\t1\n",
      "1\t1.15688e-05\t0.0202918\t0.0202918\t1\t1\n",
      "2\t7.2682e-06\t0.00570505\t0.00570505\t1\t1\n",
      "3\t5.23476e-06\t0.00108609\t0.00108609\t1\t0\n",
      "4\t2.77118e-06\t0.00395289\t0.00395289\t1\t1\n",
      "5\t2.19509e-06\t0.000184385\t0.000184385\t1\t0\n",
      "6\t1.96027e-06\t0.000247523\t0.000247523\t1\t0\n",
      "7\t1.94479e-06\t0.000263387\t0.000263387\t0.25\t0\n",
      "8\t1.94359e-06\t0.000324957\t0.000324957\t1\t0\n",
      "9\t1.93994e-06\t5.46465e-05\t5.46465e-05\t1\t1\n",
      "10\t1.93987e-06\t1.74403e-06\t1.74403e-06\t1\t1\n",
      "11\t1.93985e-06\t9.08828e-07\t9.08828e-07\t1\t1\n",
      "12\t1.93984e-06\t6.05001e-07\t6.05001e-07\t1\t1\n",
      "13\t1.93983e-06\t4.33687e-07\t4.33687e-07\t1\t1\n",
      "14\t1.93981e-06\t3.33226e-07\t3.33226e-07\t1\t1\n",
      "15\t1.93979e-06\t2.80473e-07\t2.80473e-07\t1\t1\n",
      "16\t1.93976e-06\t2.63982e-07\t2.63982e-07\t1\t1\n",
      "17\t1.9397e-06\t3.33715e-07\t3.33715e-07\t1\t1\n",
      "18\t1.93961e-06\t1.13567e-06\t1.13567e-06\t1\t1\n",
      "19\t1.93942e-06\t5.39893e-06\t5.39893e-06\t1\t1\n",
      "20\t1.93904e-06\t2.44434e-05\t2.44434e-05\t0.0625\t0\n",
      "21\t1.93864e-06\t7.8518e-05\t7.8518e-05\t0.5\t0\n",
      "22\t1.93798e-06\t0.000238046\t0.000238046\t1\t0\n",
      "23\t1.9362e-06\t0.000124565\t0.000124565\t0.25\t0\n",
      "24\t1.9356e-06\t7.7792e-05\t7.7792e-05\t1\t0\n",
      "25\t1.93462e-06\t6.34884e-05\t6.34884e-05\t1\t0\n",
      "26\t1.93405e-06\t0.000105992\t0.000105992\t1\t0\n",
      "27\t1.93356e-06\t6.42391e-05\t6.42391e-05\t0.5\t0\n",
      "28\t1.9334e-06\t4.51489e-05\t4.51489e-05\t1\t0\n",
      "29\t1.93327e-06\t1.05791e-05\t1.05791e-05\t0.5\t0\n",
      "30\t1.93325e-06\t1.73639e-05\t1.73639e-05\t1\t0\n",
      "31\t1.93322e-06\t1.06816e-05\t1.06816e-05\t1\t0\n",
      "32\t1.93321e-06\t1.37353e-05\t1.37353e-05\t1\t0\n",
      "33\t1.9332e-06\t9.40776e-06\t9.40776e-06\t0.0625\t0\n",
      "34\t1.9332e-06\t1.14455e-05\t1.14455e-05\t1\t0\n",
      "35\t1.93319e-06\t8.53087e-06\t8.53087e-06\t0.125\t0\n",
      "36\t1.93318e-06\t1.21143e-05\t1.21143e-05\t0.5\t0\n",
      "37\t1.93316e-06\t1.59659e-05\t1.59659e-05\t1\t0\n",
      "38\t1.93316e-06\t5.30043e-05\t5.30043e-05\t1\t0\n",
      "39\t1.933e-06\t8.84445e-06\t8.84445e-06\t0.0625\t0\n",
      "40\t1.93294e-06\t3.19687e-05\t3.19687e-05\t1\t0\n",
      "41\t1.93288e-06\t5.09326e-05\t5.09326e-05\t1\t0\n",
      "42\t1.93276e-06\t2.35804e-05\t2.35804e-05\t1\t0\n",
      "43\t1.93273e-06\t1.14442e-05\t1.14442e-05\t1\t0\n",
      "44\t1.93273e-06\t3.02233e-06\t3.02233e-06\t1\t0\n",
      "45\t1.93273e-06\t2.17771e-07\t2.17771e-07\t0.25\t0\n",
      "46\t1.93273e-06\t8.77961e-07\t8.77961e-07\t1\t0\n",
      "47\t1.93273e-06\t1.32094e-06\t1.32094e-06\t1\t0\n",
      "48\t1.93273e-06\t4.34362e-07\t4.34362e-07\t1\t0\n",
      "49\t1.93273e-06\t2.02338e-06\t2.02338e-06\t1\t0\n",
      "50\t1.93273e-06\t8.11786e-08\t8.11786e-08\t0.25\t0\n",
      "51\t1.93273e-06\t5.66838e-07\t5.66838e-07\t1\t0\n",
      "52\t1.93273e-06\t5.1916e-07\t5.1916e-07\t1\t0\n",
      "53\t1.93273e-06\t3.2953e-07\t3.2953e-07\t1\t0\n",
      "54\t1.93273e-06\t3.92517e-07\t3.92517e-07\t1\t0\n",
      "55\t1.93273e-06\t2.14728e-07\t2.14728e-07\t1\t0\n",
      "56\t1.93273e-06\t6.28863e-07\t6.28863e-07\t1\t0\n",
      "57\t1.93273e-06\t8.09688e-08\t8.09688e-08\t0.25\t0\n",
      "58\t1.93273e-06\t3.20263e-07\t3.20263e-07\t1\t0\n",
      "59\t1.93273e-06\t3.26287e-07\t3.26287e-07\t1\t0\n",
      "60\t1.93273e-06\t2.99501e-07\t2.99501e-07\t1\t0\n",
      "61\t1.93273e-06\t3.54341e-07\t3.54341e-07\t1\t0\n",
      "62\t1.93273e-06\t2.41513e-07\t2.41513e-07\t1\t0\n",
      "63\t1.93273e-06\t4.84081e-07\t4.84081e-07\t1\t0\n",
      "64\t1.93273e-06\t1.17084e-07\t1.17084e-07\t0.5\t0\n",
      "65\t1.93273e-06\t4.76228e-07\t4.76228e-07\t1\t0\n",
      "66\t1.93273e-06\t1.06717e-07\t1.06717e-07\t0.5\t0\n",
      "67\t1.93273e-06\t4.91203e-07\t4.91203e-07\t1\t0\n",
      "68\t1.93273e-06\t8.82333e-08\t8.82333e-08\t0.5\t0\n",
      "69\t1.93273e-06\t5.83079e-07\t5.83079e-07\t1\t0\n",
      "70\t1.93273e-06\t5.46006e-08\t5.46006e-08\t0.25\t0\n",
      "71\t1.93273e-06\t3.08567e-07\t3.08567e-07\t1\t0\n",
      "72\t1.93273e-06\t1.68166e-07\t1.68166e-07\t1\t0\n",
      "73\t1.93273e-06\t5.00949e-07\t5.00949e-07\t1\t0\n",
      "74\t1.93273e-06\t5.47641e-08\t5.47641e-08\t0.25\t0\n",
      "75\t1.93273e-06\t2.39819e-07\t2.39819e-07\t1\t0\n",
      "76\t1.93273e-06\t2.01833e-07\t2.01833e-07\t1\t0\n",
      "77\t1.93273e-06\t2.56685e-07\t2.56685e-07\t1\t0\n",
      "78\t1.93273e-06\t1.47282e-07\t1.47282e-07\t1\t0\n",
      "79\t1.93273e-06\t3.89886e-07\t3.89886e-07\t1\t0\n",
      "80\t1.93273e-06\t5.35831e-08\t5.35831e-08\t0.25\t0\n",
      "81\t1.93273e-06\t1.61888e-07\t1.61888e-07\t1\t0\n",
      "82\t1.93273e-06\t2.5109e-07\t2.5109e-07\t1\t0\n",
      "83\t1.93273e-06\t9.66018e-08\t9.66018e-08\t0.5\t0\n",
      "84\t1.93273e-06\t1.79939e-07\t1.79939e-07\t1\t0\n",
      "85\t1.93273e-06\t1.52001e-07\t1.52001e-07\t1\t0\n",
      "86\t1.93273e-06\t2.13478e-07\t2.13478e-07\t1\t0\n",
      "87\t1.93273e-06\t9.87394e-08\t9.87394e-08\t1\t0\n",
      "88\t1.93273e-06\t3.71285e-07\t3.71285e-07\t1\t0\n",
      "89\t1.93272e-06\t2.50385e-08\t2.50385e-08\t0.25\t0\n",
      "90\t1.93272e-06\t1.84056e-07\t1.84056e-07\t1\t0\n",
      "91\t1.93272e-06\t7.90296e-08\t7.90296e-08\t1\t0\n",
      "92\t1.93272e-06\t3.30949e-07\t3.30949e-07\t1\t0\n",
      "93\t1.93272e-06\t1.83941e-08\t1.83941e-08\t0.25\t0\n",
      "94\t1.93272e-06\t1.57541e-07\t1.57541e-07\t1\t0\n",
      "95\t1.93272e-06\t5.89267e-08\t5.89267e-08\t0.5\t0\n",
      "96\t1.93272e-06\t1.04571e-07\t1.04571e-07\t1\t0\n",
      "97\t1.93272e-06\t9.52622e-08\t9.52622e-08\t1\t0\n",
      "98\t1.93272e-06\t9.35492e-08\t9.35492e-08\t1\t0\n",
      "99\t1.93272e-06\t7.83192e-08\t7.83192e-08\t1\t0\n",
      "100\t1.93272e-06\t8.72456e-08\t8.72456e-08\t1\t0\n",
      "101\t1.93272e-06\t5.65632e-08\t5.65632e-08\t1\t0\n",
      "102\t1.93272e-06\t9.71649e-08\t9.71649e-08\t1\t0\n",
      "103\t1.93272e-06\t2.85562e-08\t2.85562e-08\t0.5\t0\n",
      "104\t1.93272e-06\t5.83151e-08\t5.83151e-08\t1\t0\n",
      "105\t1.93272e-06\t4.33259e-08\t4.33259e-08\t1\t0\n",
      "106\t1.93272e-06\t5.07908e-08\t5.07908e-08\t1\t0\n",
      "107\t1.93272e-06\t2.57025e-08\t2.57025e-08\t1\t0\n",
      "108\t1.93272e-06\t5.42688e-08\t5.42688e-08\t1\t0\n",
      "109\t1.93272e-06\t9.33358e-09\t9.33358e-09\t1\t0\n"
     ]
    }
   ],
   "source": [
    "cfm = structural_analysis.weavingCrossingForceMagnitudes(curved_linkage, True)\n",
    "if np.sum(cfm[:, 0]>0) > 0:\n",
    "    print(\"Flipping crossing: \", np.argsort(cfm[:, 0] > 0)[-1 * np.sum(cfm[:, 0] > 0):])\n",
    "    for i in np.argsort(cfm[:, 0] > 0)[-1 * np.sum(cfm[:, 0] > 0):]:\n",
    "        curved_linkage.joint(i).type = get_opposite_joint_type(curved_linkage.joint(i).type)\n",
    "    elastic_rods.compute_equilibrium(curved_linkage, callback = eqm_callback, options = OPTS)\n",
    "    curved_linkage_view.update()"
   ]
  },
  {
   "cell_type": "code",
   "execution_count": 15,
   "metadata": {},
   "outputs": [
    {
     "name": "stdout",
     "output_type": "stream",
     "text": [
      "Coefficient of Friction Percentiles 50, 75, 90:  nan nan nan\n"
     ]
    },
    {
     "data": {
      "application/vnd.jupyter.widget-view+json": {
       "model_id": "36087bfebdac4411962796a68267bd0e",
       "version_major": 2,
       "version_minor": 0
      },
      "text/plain": [
       "HBox(children=(Renderer(camera=PerspectiveCamera(children=(PointLight(color='#999999', position=(0.0, 0.0, 5.0…"
      ]
     },
     "metadata": {},
     "output_type": "display_data"
    },
    {
     "data": {
      "image/png": "[encoded data removed]",
      "text/plain": [
       "<Figure size 1080x288 with 4 Axes>"
      ]
     },
     "metadata": {
      "needs_background": "light"
     },
     "output_type": "display_data"
    }
   ],
   "source": [
    "second_structure_view = get_structure_analysis_view(curved_linkage)\n",
    "second_structure_view.show()"
   ]
  },
  {
   "cell_type": "code",
   "execution_count": 16,
   "metadata": {
    "scrolled": true
   },
   "outputs": [
    {
     "name": "stdout",
     "output_type": "stream",
     "text": [
      "Flipping crossing:  [319 235   4 117  89 147 223 106  51 272 273 315 242]\n",
      "0\t1.96822e-05\t0.0215375\t0.0215375\t0.5\t1\n",
      "1\t1.58206e-05\t0.0662308\t0.0662308\t1\t1\n",
      "2\t7.98291e-06\t0.00537789\t0.00537789\t1\t1\n",
      "3\t6.58965e-06\t0.00268666\t0.00268666\t1\t1\n",
      "4\t5.50679e-06\t0.00173927\t0.00173927\t1\t1\n",
      "5\t4.63255e-06\t0.00112849\t0.00112849\t1\t1\n",
      "6\t3.94517e-06\t0.000739874\t0.000739874\t1\t1\n",
      "7\t3.41095e-06\t0.000500369\t0.000500369\t1\t1\n",
      "8\t3.00036e-06\t0.000344957\t0.000344957\t1\t1\n",
      "9\t2.69048e-06\t0.000241067\t0.000241067\t1\t1\n",
      "10\t2.46034e-06\t0.000176792\t0.000176792\t1\t1\n",
      "11\t2.29213e-06\t0.000135614\t0.000135614\t1\t1\n",
      "12\t2.1716e-06\t0.000109602\t0.000109602\t1\t1\n",
      "13\t2.0873e-06\t9.54836e-05\t9.54836e-05\t1\t1\n",
      "14\t2.02999e-06\t8.8908e-05\t8.8908e-05\t1\t1\n",
      "15\t1.99258e-06\t9.39322e-05\t9.39322e-05\t1\t1\n",
      "16\t1.96989e-06\t9.16697e-05\t9.16697e-05\t1\t1\n",
      "17\t1.95745e-06\t6.98471e-05\t6.98471e-05\t1\t1\n",
      "18\t1.95106e-06\t3.41021e-05\t3.41021e-05\t1\t1\n",
      "19\t1.94778e-06\t1.24656e-05\t1.24656e-05\t1\t1\n",
      "20\t1.94593e-06\t1.31267e-05\t1.31267e-05\t0.0078125\t0\n",
      "21\t1.94586e-06\t3.31251e-05\t3.31251e-05\t0.25\t0\n",
      "22\t1.94449e-06\t8.32947e-05\t8.32947e-05\t1\t0\n",
      "23\t1.94255e-06\t8.48042e-05\t8.48042e-05\t1\t0\n",
      "24\t1.94209e-06\t8.99818e-05\t8.99818e-05\t1\t0\n",
      "25\t1.94087e-06\t0.000204878\t0.000204878\t1\t0\n",
      "26\t1.93954e-06\t8.7184e-05\t8.7184e-05\t0.125\t0\n",
      "27\t1.93896e-06\t0.000125024\t0.000125024\t1\t0\n",
      "28\t1.93768e-06\t0.000131486\t0.000131486\t0.5\t0\n",
      "29\t1.93723e-06\t9.66643e-05\t9.66643e-05\t1\t0\n",
      "30\t1.9363e-06\t7.43715e-05\t7.43715e-05\t1\t0\n",
      "31\t1.93628e-06\t8.37352e-05\t8.37352e-05\t1\t0\n",
      "32\t1.93565e-06\t8.10326e-05\t8.10326e-05\t0.5\t0\n",
      "33\t1.9356e-06\t8.30576e-05\t8.30576e-05\t1\t0\n",
      "34\t1.93501e-06\t5.59132e-05\t5.59132e-05\t0.125\t0\n",
      "35\t1.93496e-06\t5.36501e-05\t5.36501e-05\t1\t0\n",
      "36\t1.93474e-06\t4.22292e-05\t4.22292e-05\t0.5\t0\n",
      "37\t1.93463e-06\t3.01248e-05\t3.01248e-05\t1\t0\n",
      "38\t1.93449e-06\t2.32597e-05\t2.32597e-05\t0.25\t0\n",
      "39\t1.93448e-06\t4.62034e-05\t4.62034e-05\t1\t0\n",
      "40\t1.9342e-06\t1.81866e-05\t1.81866e-05\t1\t1\n",
      "41\t1.93413e-06\t4.40332e-06\t4.40332e-06\t1\t1\n",
      "42\t1.93402e-06\t1.01234e-05\t1.01234e-05\t1\t1\n",
      "43\t1.93381e-06\t2.18456e-05\t2.18456e-05\t0.0625\t0\n",
      "44\t1.93372e-06\t4.11211e-05\t4.11211e-05\t0.5\t0\n",
      "45\t1.93341e-06\t6.12034e-05\t6.12034e-05\t1\t0\n",
      "46\t1.93282e-06\t2.52526e-05\t2.52526e-05\t0.5\t0\n",
      "47\t1.93253e-06\t4.43935e-05\t4.43935e-05\t1\t0\n",
      "48\t1.93212e-06\t3.61262e-05\t3.61262e-05\t1\t0\n",
      "49\t1.93195e-06\t5.20175e-05\t5.20175e-05\t1\t0\n",
      "50\t1.93172e-06\t5.59216e-05\t5.59216e-05\t1\t0\n",
      "51\t1.93157e-06\t2.04822e-05\t2.04822e-05\t0.5\t0\n",
      "52\t1.93156e-06\t4.06008e-05\t4.06008e-05\t1\t0\n",
      "53\t1.93147e-06\t6.0252e-06\t6.0252e-06\t0.25\t0\n",
      "54\t1.93146e-06\t1.70572e-05\t1.70572e-05\t1\t0\n",
      "55\t1.93143e-06\t1.55499e-05\t1.55499e-05\t0.5\t0\n",
      "56\t1.93141e-06\t1.41677e-05\t1.41677e-05\t1\t0\n",
      "57\t1.93138e-06\t5.43828e-06\t5.43828e-06\t0.5\t0\n",
      "58\t1.93136e-06\t8.62653e-06\t8.62653e-06\t1\t0\n",
      "59\t1.93134e-06\t1.0865e-05\t1.0865e-05\t1\t0\n",
      "60\t1.93132e-06\t1.2596e-05\t1.2596e-05\t0.5\t0\n",
      "61\t1.93131e-06\t1.11407e-05\t1.11407e-05\t1\t0\n",
      "62\t1.93129e-06\t2.6544e-06\t2.6544e-06\t0.5\t0\n",
      "63\t1.93127e-06\t7.81516e-06\t7.81516e-06\t1\t0\n",
      "64\t1.93126e-06\t4.08549e-06\t4.08549e-06\t1\t0\n",
      "65\t1.93125e-06\t1.62511e-05\t1.62511e-05\t1\t0\n",
      "66\t1.93122e-06\t2.66003e-06\t2.66003e-06\t0.125\t0\n",
      "67\t1.93121e-06\t5.79561e-06\t5.79561e-06\t1\t0\n",
      "68\t1.9312e-06\t9.77314e-06\t9.77314e-06\t1\t0\n",
      "69\t1.93118e-06\t3.74254e-06\t3.74254e-06\t0.5\t0\n",
      "70\t1.93117e-06\t1.29491e-05\t1.29491e-05\t1\t0\n",
      "71\t1.93114e-06\t3.46479e-06\t3.46479e-06\t0.25\t0\n",
      "72\t1.93112e-06\t1.12734e-05\t1.12734e-05\t1\t0\n",
      "73\t1.93109e-06\t1.14102e-05\t1.14102e-05\t0.5\t0\n",
      "74\t1.93107e-06\t1.98009e-05\t1.98009e-05\t0.5\t0\n",
      "75\t1.93102e-06\t1.81651e-05\t1.81651e-05\t1\t0\n",
      "76\t1.93096e-06\t4.16775e-05\t4.16775e-05\t1\t0\n",
      "77\t1.9307e-06\t2.09693e-05\t2.09693e-05\t0.125\t0\n",
      "78\t1.93056e-06\t5.80607e-05\t5.80607e-05\t1\t0\n",
      "79\t1.93007e-06\t5.70405e-05\t5.70405e-05\t0.5\t0\n",
      "80\t1.92972e-06\t5.49253e-05\t5.49253e-05\t1\t0\n",
      "81\t1.92928e-06\t4.69526e-05\t4.69526e-05\t1\t0\n",
      "82\t1.92904e-06\t4.09206e-05\t4.09206e-05\t0.5\t0\n",
      "83\t1.92888e-06\t2.69188e-05\t2.69188e-05\t1\t0\n",
      "84\t1.92869e-06\t2.26097e-05\t2.26097e-05\t0.5\t0\n",
      "85\t1.92859e-06\t2.4689e-05\t2.4689e-05\t1\t0\n",
      "86\t1.92845e-06\t2.34394e-05\t2.34394e-05\t1\t0\n",
      "87\t1.92839e-06\t4.41453e-05\t4.41453e-05\t1\t0\n",
      "88\t1.92823e-06\t2.21869e-05\t2.21869e-05\t0.5\t0\n",
      "89\t1.9282e-06\t3.65167e-05\t3.65167e-05\t1\t0\n",
      "90\t1.92809e-06\t4.89017e-06\t4.89017e-06\t0.25\t0\n",
      "91\t1.92807e-06\t9.81994e-06\t9.81994e-06\t1\t0\n",
      "92\t1.92803e-06\t1.4446e-05\t1.4446e-05\t1\t0\n",
      "93\t1.92799e-06\t7.81678e-06\t7.81678e-06\t0.5\t0\n",
      "94\t1.92797e-06\t9.724e-06\t9.724e-06\t1\t0\n",
      "95\t1.92795e-06\t2.58306e-06\t2.58306e-06\t0.5\t0\n",
      "96\t1.92794e-06\t4.18185e-06\t4.18185e-06\t1\t0\n",
      "97\t1.92793e-06\t3.70873e-06\t3.70873e-06\t1\t0\n",
      "98\t1.92793e-06\t2.1401e-06\t2.1401e-06\t1\t0\n",
      "99\t1.92793e-06\t6.33875e-06\t6.33875e-06\t1\t0\n",
      "100\t1.92793e-06\t4.57235e-07\t4.57235e-07\t0.125\t0\n",
      "101\t1.92793e-06\t1.32938e-06\t1.32938e-06\t1\t0\n",
      "102\t1.92793e-06\t2.6067e-06\t2.6067e-06\t1\t0\n",
      "103\t1.92793e-06\t5.00864e-07\t5.00864e-07\t0.5\t0\n",
      "104\t1.92792e-06\t2.20245e-06\t2.20245e-06\t1\t0\n",
      "105\t1.92792e-06\t4.73042e-07\t4.73042e-07\t0.5\t0\n",
      "106\t1.92792e-06\t1.96864e-06\t1.96864e-06\t1\t0\n",
      "107\t1.92792e-06\t4.47214e-07\t4.47214e-07\t0.5\t0\n",
      "108\t1.92792e-06\t1.82883e-06\t1.82883e-06\t1\t0\n",
      "109\t1.92792e-06\t4.16963e-07\t4.16963e-07\t0.5\t0\n",
      "110\t1.92792e-06\t1.79979e-06\t1.79979e-06\t1\t0\n",
      "111\t1.92792e-06\t3.81882e-07\t3.81882e-07\t0.5\t0\n",
      "112\t1.92792e-06\t1.95661e-06\t1.95661e-06\t1\t0\n",
      "113\t1.92792e-06\t3.17761e-07\t3.17761e-07\t0.5\t0\n",
      "114\t1.92792e-06\t2.70316e-06\t2.70316e-06\t1\t0\n",
      "115\t1.92792e-06\t1.76399e-07\t1.76399e-07\t0.25\t0\n",
      "116\t1.92792e-06\t2.18457e-06\t2.18457e-06\t1\t0\n",
      "117\t1.92792e-06\t2.80677e-07\t2.80677e-07\t0.25\t0\n",
      "118\t1.92792e-06\t1.04119e-06\t1.04119e-06\t1\t0\n",
      "119\t1.92792e-06\t1.11439e-06\t1.11439e-06\t1\t0\n",
      "120\t1.92792e-06\t9.49787e-07\t9.49787e-07\t1\t0\n",
      "121\t1.92792e-06\t1.37546e-06\t1.37546e-06\t1\t0\n",
      "122\t1.92792e-06\t6.51567e-07\t6.51567e-07\t0.5\t0\n",
      "123\t1.92792e-06\t1.04862e-06\t1.04862e-06\t1\t0\n",
      "124\t1.92792e-06\t1.12601e-06\t1.12601e-06\t1\t0\n",
      "125\t1.92792e-06\t9.68587e-07\t9.68587e-07\t1\t0\n",
      "126\t1.92792e-06\t1.3021e-06\t1.3021e-06\t1\t0\n",
      "127\t1.92792e-06\t7.16415e-07\t7.16415e-07\t1\t0\n",
      "128\t1.92792e-06\t2.31233e-06\t2.31233e-06\t1\t0\n",
      "129\t1.92792e-06\t2.22475e-07\t2.22475e-07\t0.25\t0\n",
      "130\t1.92792e-06\t1.53014e-06\t1.53014e-06\t1\t0\n",
      "131\t1.92792e-06\t4.97066e-07\t4.97066e-07\t0.5\t0\n",
      "132\t1.92792e-06\t1.37064e-06\t1.37064e-06\t1\t0\n",
      "133\t1.92792e-06\t6.00517e-07\t6.00517e-07\t0.5\t0\n",
      "134\t1.92792e-06\t1.05485e-06\t1.05485e-06\t1\t0\n",
      "135\t1.92792e-06\t9.81272e-07\t9.81272e-07\t1\t0\n",
      "136\t1.92792e-06\t1.11208e-06\t1.11208e-06\t1\t0\n",
      "137\t1.92792e-06\t8.52286e-07\t8.52286e-07\t1\t0\n",
      "138\t1.92792e-06\t1.41839e-06\t1.41839e-06\t1\t0\n",
      "139\t1.92792e-06\t5.06308e-07\t5.06308e-07\t0.5\t0\n",
      "140\t1.92792e-06\t1.20554e-06\t1.20554e-06\t1\t0\n",
      "141\t1.92792e-06\t6.8013e-07\t6.8013e-07\t1\t0\n",
      "142\t1.92792e-06\t2.07e-06\t2.07e-06\t1\t0\n",
      "143\t1.92792e-06\t2.22182e-07\t2.22182e-07\t0.25\t0\n",
      "144\t1.92792e-06\t1.25292e-06\t1.25292e-06\t1\t0\n",
      "145\t1.92792e-06\t5.82423e-07\t5.82423e-07\t0.5\t0\n",
      "146\t1.92792e-06\t9.40707e-07\t9.40707e-07\t1\t0\n",
      "147\t1.92792e-06\t9.9599e-07\t9.9599e-07\t1\t0\n",
      "148\t1.92792e-06\t8.72677e-07\t8.72677e-07\t1\t0\n",
      "149\t1.92792e-06\t1.11164e-06\t1.11164e-06\t1\t0\n",
      "150\t1.92792e-06\t6.72956e-07\t6.72956e-07\t1\t0\n",
      "151\t1.92792e-06\t1.77625e-06\t1.77625e-06\t1\t0\n",
      "152\t1.92792e-06\t2.52558e-07\t2.52558e-07\t0.25\t0\n",
      "153\t1.92792e-06\t9.05349e-07\t9.05349e-07\t1\t0\n",
      "154\t1.92792e-06\t9.34678e-07\t9.34678e-07\t1\t0\n",
      "155\t1.92792e-06\t8.58138e-07\t8.58138e-07\t1\t0\n",
      "156\t1.92792e-06\t9.94825e-07\t9.94825e-07\t1\t0\n",
      "157\t1.92792e-06\t7.26902e-07\t7.26902e-07\t1\t0\n",
      "158\t1.92792e-06\t1.32507e-06\t1.32507e-06\t1\t0\n",
      "159\t1.92792e-06\t3.93285e-07\t3.93285e-07\t0.5\t0\n",
      "160\t1.92792e-06\t1.25151e-06\t1.25151e-06\t1\t0\n",
      "161\t1.92792e-06\t4.23389e-07\t4.23389e-07\t0.5\t0\n",
      "162\t1.92792e-06\t1.09196e-06\t1.09196e-06\t1\t0\n",
      "163\t1.92792e-06\t5.34458e-07\t5.34458e-07\t1\t0\n",
      "164\t1.92792e-06\t2.15025e-06\t2.15025e-06\t1\t0\n",
      "165\t1.92792e-06\t1.31922e-07\t1.31922e-07\t0.25\t0\n",
      "166\t1.92792e-06\t1.96654e-06\t1.96654e-06\t1\t0\n",
      "167\t1.92792e-06\t1.5111e-07\t1.5111e-07\t0.25\t0\n",
      "168\t1.92792e-06\t1.49818e-06\t1.49818e-06\t1\t0\n",
      "169\t1.92792e-06\t2.49219e-07\t2.49219e-07\t0.25\t0\n",
      "170\t1.92792e-06\t7.03355e-07\t7.03355e-07\t1\t0\n",
      "171\t1.92792e-06\t1.07778e-06\t1.07778e-06\t1\t0\n",
      "172\t1.92792e-06\t4.5129e-07\t4.5129e-07\t0.5\t0\n",
      "173\t1.92792e-06\t8.38494e-07\t8.38494e-07\t1\t0\n",
      "174\t1.92792e-06\t7.11888e-07\t7.11888e-07\t1\t0\n",
      "175\t1.92792e-06\t9.61648e-07\t9.61648e-07\t1\t0\n",
      "176\t1.92792e-06\t5.16999e-07\t5.16999e-07\t1\t0\n",
      "177\t1.92792e-06\t1.72544e-06\t1.72544e-06\t1\t0\n",
      "178\t1.92792e-06\t1.53786e-07\t1.53786e-07\t0.25\t0\n",
      "179\t1.92792e-06\t1.16988e-06\t1.16988e-06\t1\t0\n",
      "180\t1.92792e-06\t3.19431e-07\t3.19431e-07\t0.5\t0\n",
      "181\t1.92792e-06\t1.16653e-06\t1.16653e-06\t1\t0\n",
      "182\t1.92792e-06\t3.0859e-07\t3.0859e-07\t0.5\t0\n",
      "183\t1.92792e-06\t1.1874e-06\t1.1874e-06\t1\t0\n",
      "184\t1.92792e-06\t2.85528e-07\t2.85528e-07\t0.5\t0\n",
      "185\t1.92792e-06\t1.2876e-06\t1.2876e-06\t1\t0\n",
      "186\t1.92792e-06\t2.31288e-07\t2.31288e-07\t0.5\t0\n",
      "187\t1.92792e-06\t1.75146e-06\t1.75146e-06\t1\t0\n",
      "188\t1.92792e-06\t1.18963e-07\t1.18963e-07\t0.25\t0\n",
      "189\t1.92792e-06\t1.44315e-06\t1.44315e-06\t1\t0\n",
      "190\t1.92792e-06\t1.66436e-07\t1.66436e-07\t0.25\t0\n",
      "191\t1.92792e-06\t8.13358e-07\t8.13358e-07\t1\t0\n",
      "192\t1.92792e-06\t4.96814e-07\t4.96814e-07\t1\t0\n",
      "193\t1.92792e-06\t1.28161e-06\t1.28161e-06\t1\t0\n",
      "194\t1.92792e-06\t1.9064e-07\t1.9064e-07\t0.25\t0\n",
      "195\t1.92792e-06\t6.26237e-07\t6.26237e-07\t1\t0\n",
      "196\t1.92792e-06\t7.56992e-07\t7.56992e-07\t1\t0\n",
      "197\t1.92792e-06\t5.0691e-07\t5.0691e-07\t1\t0\n",
      "198\t1.92792e-06\t1.08869e-06\t1.08869e-06\t1\t0\n",
      "199\t1.92792e-06\t2.33311e-07\t2.33311e-07\t0.5\t0\n",
      "200\t1.92792e-06\t1.27938e-06\t1.27938e-06\t0.5\t0\n"
     ]
    }
   ],
   "source": [
    "cfm = structural_analysis.weavingCrossingForceMagnitudes(curved_linkage, True)\n",
    "if np.sum(cfm[:, 0]>0) > 0:\n",
    "    print(\"Flipping crossing: \", np.argsort(cfm[:, 0] > 0)[-1 * np.sum(cfm[:, 0] > 0):])\n",
    "    for i in np.argsort(cfm[:, 0] > 0)[-1 * np.sum(cfm[:, 0] > 0):]:\n",
    "        curved_linkage.joint(i).type = get_opposite_joint_type(curved_linkage.joint(i).type)\n",
    "    elastic_rods.compute_equilibrium(curved_linkage, callback = eqm_callback, options = OPTS)\n",
    "    curved_linkage_view.update()"
   ]
  },
  {
   "cell_type": "code",
   "execution_count": 17,
   "metadata": {},
   "outputs": [
    {
     "name": "stdout",
     "output_type": "stream",
     "text": [
      "Coefficient of Friction Percentiles 50, 75, 90:  nan nan nan\n"
     ]
    },
    {
     "data": {
      "application/vnd.jupyter.widget-view+json": {
       "model_id": "cd98a6ce86544b2bab7fce123647ba6c",
       "version_major": 2,
       "version_minor": 0
      },
      "text/plain": [
       "HBox(children=(Renderer(camera=PerspectiveCamera(children=(PointLight(color='#999999', position=(0.0, 0.0, 5.0…"
      ]
     },
     "metadata": {},
     "output_type": "display_data"
    },
    {
     "data": {
      "image/png": "[encoded data removed]",
      "text/plain": [
       "<Figure size 1080x288 with 4 Axes>"
      ]
     },
     "metadata": {
      "needs_background": "light"
     },
     "output_type": "display_data"
    }
   ],
   "source": [
    "third_structure_view = get_structure_analysis_view(curved_linkage)\n",
    "third_structure_view.show()"
   ]
  },
  {
   "cell_type": "code",
   "execution_count": 18,
   "metadata": {
    "scrolled": true
   },
   "outputs": [
    {
     "name": "stdout",
     "output_type": "stream",
     "text": [
      "Flipping crossing:  [275   4 319 273  68  69  29 106  66 306  71  67 271 242]\n",
      "0\t1.94255e-05\t0.0211414\t0.0211414\t1\t1\n",
      "1\t1.38239e-05\t0.090482\t0.090482\t1\t1\n",
      "2\t5.35693e-06\t0.0126024\t0.0126024\t1\t1\n",
      "3\t4.82779e-06\t0.00152052\t0.00152052\t1\t1\n",
      "4\t4.44621e-06\t0.0010836\t0.0010836\t1\t1\n",
      "5\t4.03287e-06\t0.000796349\t0.000796349\t0.5\t0\n",
      "6\t3.75909e-06\t0.0104931\t0.0104931\t1\t1\n",
      "7\t2.81379e-06\t0.000740755\t0.000740755\t1\t1\n",
      "8\t2.60301e-06\t0.000430034\t0.000430034\t1\t1\n",
      "9\t2.43088e-06\t0.000194245\t0.000194245\t1\t1\n",
      "10\t2.28443e-06\t0.000180976\t0.000180976\t0.5\t0\n",
      "11\t2.11688e-06\t0.00412871\t0.00412871\t1\t1\n",
      "12\t2.04565e-06\t0.000308329\t0.000308329\t1\t0\n",
      "13\t1.96027e-06\t0.00186752\t0.00186752\t1\t1\n",
      "14\t1.947e-06\t2.50201e-05\t2.50201e-05\t1\t0\n",
      "15\t1.94234e-06\t0.000302938\t0.000302938\t0.5\t0\n",
      "16\t1.93905e-06\t0.000347156\t0.000347156\t1\t0\n",
      "17\t1.93813e-06\t0.000510113\t0.000510113\t1\t1\n",
      "18\t1.93612e-06\t7.11274e-06\t7.11274e-06\t1\t0\n",
      "19\t1.93525e-06\t0.000169641\t0.000169641\t1\t0\n",
      "20\t1.93378e-06\t2.53909e-05\t2.53909e-05\t0.0625\t0\n",
      "21\t1.93371e-06\t5.60243e-05\t5.60243e-05\t1\t0\n",
      "22\t1.93343e-06\t0.000170488\t0.000170488\t0.5\t0\n",
      "23\t1.93277e-06\t8.7387e-05\t8.7387e-05\t1\t0\n",
      "24\t1.93232e-06\t1.89757e-05\t1.89757e-05\t0.5\t0\n",
      "25\t1.9322e-06\t2.89593e-05\t2.89593e-05\t1\t0\n",
      "26\t1.93206e-06\t2.27827e-05\t2.27827e-05\t0.5\t0\n",
      "27\t1.93201e-06\t1.8025e-05\t1.8025e-05\t1\t0\n",
      "28\t1.93195e-06\t1.92432e-05\t1.92432e-05\t1\t0\n",
      "29\t1.93192e-06\t1.38292e-05\t1.38292e-05\t0.5\t0\n",
      "30\t1.9319e-06\t1.35645e-05\t1.35645e-05\t1\t0\n",
      "31\t1.93188e-06\t6.55098e-06\t6.55098e-06\t0.5\t0\n",
      "32\t1.93188e-06\t1.41219e-05\t1.41219e-05\t1\t0\n",
      "33\t1.93186e-06\t5.84568e-06\t5.84568e-06\t0.25\t0\n",
      "34\t1.93186e-06\t6.00197e-06\t6.00197e-06\t1\t0\n",
      "35\t1.93186e-06\t1.99034e-06\t1.99034e-06\t1\t0\n",
      "36\t1.93186e-06\t5.36476e-06\t5.36476e-06\t1\t0\n",
      "37\t1.93185e-06\t6.08891e-07\t6.08891e-07\t0.25\t0\n",
      "38\t1.93185e-06\t1.18842e-06\t1.18842e-06\t1\t0\n",
      "39\t1.93185e-06\t8.71422e-07\t8.71422e-07\t1\t0\n",
      "40\t1.93185e-06\t5.58903e-07\t5.58903e-07\t1\t0\n",
      "41\t1.93185e-06\t1.92161e-07\t1.92161e-07\t1\t0\n",
      "42\t1.93185e-06\t1.03103e-06\t1.03103e-06\t1\t0\n",
      "43\t1.93185e-06\t4.35602e-08\t4.35602e-08\t0.125\t0\n",
      "44\t1.93185e-06\t2.60367e-07\t2.60367e-07\t1\t0\n",
      "45\t1.93185e-06\t6.37244e-07\t6.37244e-07\t1\t0\n",
      "46\t1.93185e-06\t1.07795e-07\t1.07795e-07\t0.5\t0\n",
      "47\t1.93185e-06\t8.64975e-07\t8.64975e-07\t1\t0\n",
      "48\t1.93185e-06\t5.53701e-08\t5.53701e-08\t0.25\t0\n",
      "49\t1.93185e-06\t6.2496e-07\t6.2496e-07\t1\t0\n",
      "50\t1.93185e-06\t9.36109e-08\t9.36109e-08\t0.25\t0\n",
      "51\t1.93185e-06\t2.80959e-07\t2.80959e-07\t1\t0\n",
      "52\t1.93185e-06\t4.06595e-07\t4.06595e-07\t1\t0\n",
      "53\t1.93185e-06\t1.85692e-07\t1.85692e-07\t1\t0\n",
      "54\t1.93185e-06\t7.96339e-07\t7.96339e-07\t1\t0\n",
      "55\t1.93185e-06\t4.26844e-08\t4.26844e-08\t0.25\t0\n",
      "56\t1.93185e-06\t6.27875e-07\t6.27875e-07\t1\t0\n",
      "57\t1.93185e-06\t6.07051e-08\t6.07051e-08\t0.25\t0\n",
      "58\t1.93185e-06\t3.40161e-07\t3.40161e-07\t1\t0\n",
      "59\t1.93185e-06\t1.81911e-07\t1.81911e-07\t1\t0\n",
      "60\t1.93185e-06\t5.71252e-07\t5.71252e-07\t1\t0\n",
      "61\t1.93185e-06\t5.62287e-08\t5.62287e-08\t0.25\t0\n",
      "62\t1.93185e-06\t2.97254e-07\t2.97254e-07\t1\t0\n",
      "63\t1.93185e-06\t1.794e-07\t1.794e-07\t1\t0\n",
      "64\t1.93185e-06\t4.41816e-07\t4.41816e-07\t1\t0\n",
      "65\t1.93185e-06\t7.04371e-08\t7.04371e-08\t0.5\t0\n",
      "66\t1.93185e-06\t5.5547e-07\t5.5547e-07\t1\t0\n",
      "67\t1.93185e-06\t3.7606e-08\t3.7606e-08\t0.25\t0\n",
      "68\t1.93185e-06\t3.34883e-07\t3.34883e-07\t1\t0\n",
      "69\t1.93185e-06\t8.71593e-08\t8.71593e-08\t0.5\t0\n",
      "70\t1.93185e-06\t2.97521e-07\t2.97521e-07\t1\t0\n",
      "71\t1.93185e-06\t9.25312e-08\t9.25312e-08\t0.5\t0\n",
      "72\t1.93185e-06\t2.3845e-07\t2.3845e-07\t1\t0\n",
      "73\t1.93185e-06\t1.20389e-07\t1.20389e-07\t1\t0\n",
      "74\t1.93185e-06\t4.00647e-07\t4.00647e-07\t1\t0\n",
      "75\t1.93185e-06\t3.45671e-08\t3.45671e-08\t0.25\t0\n",
      "76\t1.93185e-06\t1.9283e-07\t1.9283e-07\t1\t0\n",
      "77\t1.93185e-06\t1.19717e-07\t1.19717e-07\t1\t0\n",
      "78\t1.93185e-06\t2.63375e-07\t2.63375e-07\t1\t0\n",
      "79\t1.93185e-06\t5.09403e-08\t5.09403e-08\t0.5\t0\n",
      "80\t1.93185e-06\t2.55082e-07\t2.55082e-07\t1\t0\n",
      "81\t1.93185e-06\t4.17255e-08\t4.17255e-08\t0.5\t0\n",
      "82\t1.93185e-06\t2.6472e-07\t2.6472e-07\t1\t0\n",
      "83\t1.93185e-06\t2.93568e-08\t2.93568e-08\t0.25\t0\n",
      "84\t1.93185e-06\t1.0074e-07\t1.0074e-07\t1\t0\n",
      "85\t1.93185e-06\t1.45058e-07\t1.45058e-07\t1\t0\n",
      "86\t1.93185e-06\t6.23133e-08\t6.23133e-08\t1\t0\n",
      "87\t1.93185e-06\t2.45141e-07\t2.45141e-07\t1\t0\n",
      "88\t1.93185e-06\t1.4935e-08\t1.4935e-08\t0.25\t0\n",
      "89\t1.93185e-06\t9.27169e-08\t9.27169e-08\t1\t0\n",
      "90\t1.93185e-06\t6.71619e-08\t6.71619e-08\t1\t0\n",
      "91\t1.93185e-06\t9.61044e-08\t9.61044e-08\t1\t0\n",
      "92\t1.93185e-06\t3.94102e-08\t3.94102e-08\t1\t0\n",
      "93\t1.93185e-06\t1.46996e-07\t1.46996e-07\t1\t0\n",
      "94\t1.93185e-06\t9.62006e-09\t9.62006e-09\t1\t0\n"
     ]
    }
   ],
   "source": [
    "cfm = structural_analysis.weavingCrossingForceMagnitudes(curved_linkage, True)\n",
    "if np.sum(cfm[:, 0]>0) > 0:\n",
    "    print(\"Flipping crossing: \", np.argsort(cfm[:, 0] > 0)[-1 * np.sum(cfm[:, 0] > 0):])\n",
    "    for i in np.argsort(cfm[:, 0] > 0)[-1 * np.sum(cfm[:, 0] > 0):]:\n",
    "        curved_linkage.joint(i).type = get_opposite_joint_type(curved_linkage.joint(i).type)\n",
    "    elastic_rods.compute_equilibrium(curved_linkage, callback = eqm_callback, options = OPTS)\n",
    "    curved_linkage_view.update()"
   ]
  },
  {
   "cell_type": "code",
   "execution_count": 19,
   "metadata": {},
   "outputs": [
    {
     "name": "stdout",
     "output_type": "stream",
     "text": [
      "Coefficient of Friction Percentiles 50, 75, 90:  nan nan nan\n"
     ]
    },
    {
     "data": {
      "application/vnd.jupyter.widget-view+json": {
       "model_id": "0a6a99238ab74a8bb2380aef62f746d1",
       "version_major": 2,
       "version_minor": 0
      },
      "text/plain": [
       "HBox(children=(Renderer(camera=PerspectiveCamera(children=(PointLight(color='#999999', position=(0.0, 0.0, 5.0…"
      ]
     },
     "metadata": {},
     "output_type": "display_data"
    },
    {
     "data": {
      "image/png": "[encoded data removed]",
      "text/plain": [
       "<Figure size 1080x288 with 4 Axes>"
      ]
     },
     "metadata": {
      "needs_background": "light"
     },
     "output_type": "display_data"
    }
   ],
   "source": [
    "fourth_structure_view = get_structure_analysis_view(curved_linkage)\n",
    "fourth_structure_view.show()"
   ]
  },
  {
   "cell_type": "code",
   "execution_count": 20,
   "metadata": {
    "scrolled": true
   },
   "outputs": [
    {
     "name": "stdout",
     "output_type": "stream",
     "text": [
      "Flipping crossing:  [322 275   4 242  70 273 315 106  67  68  52  69 102]\n",
      "0\t1.83655e-05\t0.0201615\t0.0201615\t0.5\t1\n",
      "1\t1.19682e-05\t0.0357586\t0.0357586\t1\t1\n",
      "2\t5.93165e-06\t0.0049874\t0.0049874\t1\t1\n",
      "3\t4.64591e-06\t0.00135833\t0.00135833\t1\t1\n",
      "4\t3.82099e-06\t0.000814934\t0.000814934\t1\t1\n",
      "5\t3.24416e-06\t0.000511033\t0.000511033\t1\t1\n",
      "6\t2.82769e-06\t0.000339367\t0.000339367\t1\t0\n",
      "7\t2.37548e-06\t0.00242031\t0.00242031\t1\t1\n",
      "8\t2.08787e-06\t0.000107741\t0.000107741\t1\t0\n",
      "9\t1.95926e-06\t0.000491319\t0.000491319\t1\t1\n",
      "10\t1.9513e-06\t8.56808e-06\t8.56808e-06\t0.25\t0\n",
      "11\t1.94801e-06\t0.000148206\t0.000148206\t1\t0\n",
      "12\t1.94319e-06\t0.000163737\t0.000163737\t0.5\t0\n",
      "13\t1.9422e-06\t0.000362586\t0.000362586\t1\t0\n",
      "14\t1.93796e-06\t0.000195066\t0.000195066\t0.5\t0\n",
      "15\t1.93726e-06\t0.000255638\t0.000255638\t1\t0\n",
      "16\t1.93483e-06\t0.000104201\t0.000104201\t1\t0\n",
      "17\t1.93404e-06\t0.00011664\t0.00011664\t0.5\t0\n",
      "18\t1.93367e-06\t9.41588e-05\t9.41588e-05\t1\t0\n",
      "19\t1.93275e-06\t2.4587e-05\t2.4587e-05\t0.25\t0\n",
      "20\t1.93258e-06\t3.65252e-05\t3.65252e-05\t1\t0\n",
      "21\t1.93229e-06\t4.75526e-05\t4.75526e-05\t0.5\t0\n",
      "22\t1.93211e-06\t3.07515e-05\t3.07515e-05\t1\t0\n",
      "23\t1.93193e-06\t1.1861e-05\t1.1861e-05\t0.5\t0\n",
      "24\t1.93185e-06\t1.51114e-05\t1.51114e-05\t1\t0\n",
      "25\t1.93176e-06\t1.12107e-05\t1.12107e-05\t1\t0\n",
      "26\t1.93171e-06\t1.27907e-05\t1.27907e-05\t1\t0\n",
      "27\t1.93167e-06\t5.60106e-06\t5.60106e-06\t1\t0\n",
      "28\t1.93165e-06\t1.78788e-05\t1.78788e-05\t1\t0\n",
      "29\t1.93162e-06\t1.93481e-06\t1.93481e-06\t0.25\t0\n",
      "30\t1.93162e-06\t6.02927e-06\t6.02927e-06\t1\t0\n",
      "31\t1.93161e-06\t9.07925e-06\t9.07925e-06\t1\t0\n",
      "32\t1.9316e-06\t4.74315e-06\t4.74315e-06\t1\t0\n",
      "33\t1.9316e-06\t8.82904e-06\t8.82904e-06\t1\t0\n",
      "34\t1.9316e-06\t6.42585e-06\t6.42585e-06\t1\t0\n",
      "35\t1.93159e-06\t3.21721e-06\t3.21721e-06\t0.5\t0\n",
      "36\t1.93159e-06\t4.55394e-06\t4.55394e-06\t1\t0\n",
      "37\t1.93159e-06\t2.08567e-07\t2.08567e-07\t0.25\t0\n",
      "38\t1.93159e-06\t1.23112e-06\t1.23112e-06\t1\t0\n",
      "39\t1.93159e-06\t1.05482e-06\t1.05482e-06\t1\t0\n",
      "40\t1.93159e-06\t9.23176e-07\t9.23176e-07\t1\t0\n",
      "41\t1.93159e-06\t7.0106e-07\t7.0106e-07\t1\t0\n",
      "42\t1.93159e-06\t6.523e-07\t6.523e-07\t1\t0\n",
      "43\t1.93159e-06\t3.8155e-07\t3.8155e-07\t1\t0\n",
      "44\t1.93159e-06\t4.47e-07\t4.47e-07\t1\t0\n",
      "45\t1.93159e-06\t1.51224e-07\t1.51224e-07\t1\t0\n",
      "46\t1.93159e-06\t8.23966e-07\t8.23966e-07\t1\t0\n",
      "47\t1.93159e-06\t3.03046e-08\t3.03046e-08\t0.125\t0\n",
      "48\t1.93159e-06\t2.34298e-07\t2.34298e-07\t1\t0\n",
      "49\t1.93159e-06\t3.91065e-07\t3.91065e-07\t1\t0\n",
      "50\t1.93159e-06\t1.3662e-07\t1.3662e-07\t0.5\t0\n",
      "51\t1.93159e-06\t3.24134e-07\t3.24134e-07\t1\t0\n",
      "52\t1.93159e-06\t1.8577e-07\t1.8577e-07\t1\t0\n",
      "53\t1.93159e-06\t5.08676e-07\t5.08676e-07\t1\t0\n",
      "54\t1.93159e-06\t6.60423e-08\t6.60423e-08\t0.25\t0\n",
      "55\t1.93159e-06\t2.31219e-07\t2.31219e-07\t1\t0\n",
      "56\t1.93159e-06\t2.75416e-07\t2.75416e-07\t1\t0\n",
      "57\t1.93159e-06\t1.81428e-07\t1.81428e-07\t1\t0\n",
      "58\t1.93159e-06\t3.73766e-07\t3.73766e-07\t1\t0\n",
      "59\t1.93159e-06\t8.4484e-08\t8.4484e-08\t0.5\t0\n",
      "60\t1.93159e-06\t3.69932e-07\t3.69932e-07\t1\t0\n",
      "61\t1.93159e-06\t7.38635e-08\t7.38635e-08\t0.5\t0\n",
      "62\t1.93159e-06\t3.93447e-07\t3.93447e-07\t1\t0\n",
      "63\t1.93159e-06\t5.55013e-08\t5.55013e-08\t0.25\t0\n",
      "64\t1.93159e-06\t1.65648e-07\t1.65648e-07\t1\t0\n",
      "65\t1.93159e-06\t2.60295e-07\t2.60295e-07\t1\t0\n",
      "66\t1.93159e-06\t9.83811e-08\t9.83811e-08\t0.5\t0\n",
      "67\t1.93159e-06\t1.90848e-07\t1.90848e-07\t1\t0\n",
      "68\t1.93159e-06\t1.51598e-07\t1.51598e-07\t1\t0\n",
      "69\t1.93159e-06\t2.13144e-07\t2.13144e-07\t1\t0\n",
      "70\t1.93159e-06\t9.91962e-08\t9.91962e-08\t1\t0\n",
      "71\t1.93159e-06\t3.77237e-07\t3.77237e-07\t1\t0\n",
      "72\t1.93159e-06\t2.52182e-08\t2.52182e-08\t0.25\t0\n",
      "73\t1.93159e-06\t1.94963e-07\t1.94963e-07\t1\t0\n",
      "74\t1.93159e-06\t7.43634e-08\t7.43634e-08\t0.5\t0\n",
      "75\t1.93159e-06\t1.36797e-07\t1.36797e-07\t1\t0\n",
      "76\t1.93159e-06\t1.17075e-07\t1.17075e-07\t1\t0\n",
      "77\t1.93159e-06\t1.37417e-07\t1.37417e-07\t1\t0\n",
      "78\t1.93159e-06\t8.77593e-08\t8.77593e-08\t1\t0\n",
      "79\t1.93159e-06\t1.74528e-07\t1.74528e-07\t1\t0\n",
      "80\t1.93159e-06\t4.04545e-08\t4.04545e-08\t0.5\t0\n",
      "81\t1.93159e-06\t1.41164e-07\t1.41164e-07\t1\t0\n",
      "82\t1.93159e-06\t4.50406e-08\t4.50406e-08\t0.5\t0\n",
      "83\t1.93159e-06\t9.69419e-08\t9.69419e-08\t1\t0\n",
      "84\t1.93159e-06\t6.62604e-08\t6.62604e-08\t1\t0\n",
      "85\t1.93159e-06\t1.09638e-07\t1.09638e-07\t1\t0\n",
      "86\t1.93159e-06\t3.53764e-08\t3.53764e-08\t0.5\t0\n",
      "87\t1.93159e-06\t6.98049e-08\t6.98049e-08\t1\t0\n",
      "88\t1.93159e-06\t5.49139e-08\t5.49139e-08\t1\t0\n",
      "89\t1.93159e-06\t6.51208e-08\t6.51208e-08\t1\t0\n",
      "90\t1.93159e-06\t3.55403e-08\t3.55403e-08\t1\t0\n",
      "91\t1.93159e-06\t7.42346e-08\t7.42346e-08\t1\t0\n",
      "92\t1.93159e-06\t1.4178e-08\t1.4178e-08\t0.5\t0\n",
      "93\t1.93159e-06\t4.01805e-08\t4.01805e-08\t1\t0\n",
      "94\t1.93159e-06\t2.0644e-08\t2.0644e-08\t1\t0\n",
      "95\t1.93159e-06\t3.68966e-08\t3.68966e-08\t1\t0\n",
      "96\t1.93159e-06\t8.20439e-09\t8.20439e-09\t1\t0\n"
     ]
    }
   ],
   "source": [
    "cfm = structural_analysis.weavingCrossingForceMagnitudes(curved_linkage, True)\n",
    "if np.sum(cfm[:, 0]>0) > 0:\n",
    "    print(\"Flipping crossing: \", np.argsort(cfm[:, 0] > 0)[-1 * np.sum(cfm[:, 0] > 0):])\n",
    "    for i in np.argsort(cfm[:, 0] > 0)[-1 * np.sum(cfm[:, 0] > 0):]:\n",
    "        curved_linkage.joint(i).type = get_opposite_joint_type(curved_linkage.joint(i).type)\n",
    "    elastic_rods.compute_equilibrium(curved_linkage, callback = eqm_callback, options = OPTS)\n",
    "    curved_linkage_view.update()"
   ]
  },
  {
   "cell_type": "code",
   "execution_count": 21,
   "metadata": {},
   "outputs": [
    {
     "name": "stdout",
     "output_type": "stream",
     "text": [
      "Coefficient of Friction Percentiles 50, 75, 90:  nan nan nan\n"
     ]
    },
    {
     "data": {
      "application/vnd.jupyter.widget-view+json": {
       "model_id": "ff3a9f58777a4e05b820e4550e764743",
       "version_major": 2,
       "version_minor": 0
      },
      "text/plain": [
       "HBox(children=(Renderer(camera=PerspectiveCamera(children=(PointLight(color='#999999', position=(0.0, 0.0, 5.0…"
      ]
     },
     "metadata": {},
     "output_type": "display_data"
    },
    {
     "data": {
      "image/png": "[encoded data removed]",
      "text/plain": [
       "<Figure size 1080x288 with 4 Axes>"
      ]
     },
     "metadata": {
      "needs_background": "light"
     },
     "output_type": "display_data"
    }
   ],
   "source": [
    "fifth_structure_view = get_structure_analysis_view(curved_linkage)\n",
    "fifth_structure_view.show()"
   ]
  },
  {
   "cell_type": "code",
   "execution_count": 31,
   "metadata": {},
   "outputs": [],
   "source": [
    "optimizer = initialize_stage_2_optimizer(curved_linkage, io.SURFACE_PATH, curved_save_tgt_joint_pos, curved_linkage_view, rw, sw, inner_gradTol = 1e-6)"
   ]
  },
  {
   "cell_type": "code",
   "execution_count": 32,
   "metadata": {},
   "outputs": [],
   "source": [
    "optimizer, contact_opt_iterateData = contact_optimization(optimizer, curved_linkage, curved_linkage_view, minRestLen=-1, contact_weight = 5e6, normalWeight = 10, torqueWeight = 0, maxIter=2000, normalActivationThreshold=-1e-7)"
   ]
  },
  {
   "cell_type": "code",
   "execution_count": null,
   "metadata": {},
   "outputs": [],
   "source": []
  }
 ],
 "metadata": {
  "kernelspec": {
   "display_name": "Python 3",
   "language": "python",
   "name": "python3"
  },
  "language_info": {
   "codemirror_mode": {
    "name": "ipython",
    "version": 3
   },
   "file_extension": ".py",
   "mimetype": "text/x-python",
   "name": "python",
   "nbconvert_exporter": "python",
   "pygments_lexer": "ipython3",
   "version": "3.7.9"
  }
 },
 "nbformat": 4,
 "nbformat_minor": 4
}
