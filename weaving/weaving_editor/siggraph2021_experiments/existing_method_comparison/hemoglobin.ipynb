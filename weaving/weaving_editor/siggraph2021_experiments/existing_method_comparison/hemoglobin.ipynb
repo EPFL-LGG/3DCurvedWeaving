{
 "cells": [
  {
   "cell_type": "code",
   "execution_count": 25,
   "metadata": {},
   "outputs": [],
   "source": [
    "elastic_rods_dir = '../../../../elastic_rods/python/'\n",
    "weaving_dir = '../../../'\n",
    "import os\n",
    "import os.path as osp\n",
    "import sys; sys.path.append(elastic_rods_dir); sys.path.append(weaving_dir)\n",
    "import numpy as np, elastic_rods, linkage_vis\n",
    "import numpy.linalg as la\n",
    "from bending_validation import suppress_stdout as so\n",
    "import matplotlib.pyplot as plt\n",
    "from elastic_rods import EnergyType, InterleavingType\n",
    "\n",
    "# weaving\n",
    "import analysis_helper, ribbon_linkage_helper, mesh_vis, linkage_utils, compute_curve_from_curvature, pipeline_helper, optimization_visualization_helper, importlib\n",
    "importlib.reload(analysis_helper)\n",
    "importlib.reload(ribbon_linkage_helper)\n",
    "importlib.reload(mesh_vis)\n",
    "importlib.reload(linkage_utils)\n",
    "importlib.reload(compute_curve_from_curvature)\n",
    "importlib.reload(pipeline_helper)\n",
    "importlib.reload(optimization_visualization_helper)\n",
    "from analysis_helper import (compare_turning_angle,\n",
    "                            is_on_sphere, \n",
    "                            get_distance_to_center_scalar_field, \n",
    "                            plot_curvatures, \n",
    "                            get_curvature_scalar_field,\n",
    "                            construct_elastic_rod_loop_from_rod_segments, \n",
    "                            concatenate_rod_properties_from_rod_segments, \n",
    "                            compute_min_distance_rigid_transformation)\n",
    "from ribbon_linkage_helper import (update_rest_curvature, \n",
    "                                   set_ribbon_linkage,\n",
    "                                   export_linkage_geometry_to_obj,\n",
    "                                   write_linkage_ribbon_output_florin,\n",
    "                                   write_distance_to_linkage_mesh)\n",
    "\n",
    "from compute_curve_from_curvature import (match_geo_curvature_and_edge_len, get_all_curve_pattern)\n",
    "from linkage_utils import order_segments_by_ribbons, get_turning_angle_and_length_from_ordered_rods\n",
    "\n",
    "from pipeline_helper import (initialize_linkage, get_normal_deviation, set_joint_vector_field, stage_1_optimization, initialize_stage_2_optimizer, stage_2_optimization, InputOrganizer, write_all_output, set_surface_view_options, get_structure_analysis_view, contact_optimization, get_double_side_view, show_selected_joints, highlight_rod_and_joint)\n",
    "import vis.fields\n",
    "import matplotlib.cm as cm\n",
    "import time\n",
    "from optimization_visualization_helper import (compute_visualization_data_from_raw_data, get_objective_components_stage1, get_objective_components_stage2, get_objective_components_stage3, set_figure_label_and_limit, Visualization_Setting, plot_objective, plot_ribbon_component_analysis)"
   ]
  },
  {
   "cell_type": "code",
   "execution_count": 3,
   "metadata": {},
   "outputs": [],
   "source": [
    "import parallelism\n",
    "parallelism.set_max_num_tbb_threads(12)\n",
    "parallelism.set_hessian_assembly_num_threads(4)\n",
    "parallelism.set_gradient_assembly_num_threads(4)"
   ]
  },
  {
   "cell_type": "code",
   "execution_count": 4,
   "metadata": {},
   "outputs": [
    {
     "name": "stdout",
     "output_type": "stream",
     "text": [
      "0.0705413174488825 0.004937892221421775\n"
     ]
    }
   ],
   "source": [
    "rod_length = 0.21162395234664752\n",
    "width = rod_length / 15 * 5\n",
    "thickness = width / 5 * 0.35\n",
    "print(width, thickness)\n",
    "# width *= 0.5\n",
    "# thickness *= 0.5\n",
    "\n",
    "io = InputOrganizer('simple_hemoglobin_5_1', thickness, width, weaving_dir)\n",
    "#  [ ear 214, ear 255, nose 39]"
   ]
  },
  {
   "cell_type": "code",
   "execution_count": 5,
   "metadata": {},
   "outputs": [],
   "source": [
    "import py_newton_optimizer\n",
    "OPTS = py_newton_optimizer.NewtonOptimizerOptions()\n",
    "OPTS.gradTol = 1e-6\n",
    "OPTS.verbose = 1;\n",
    "OPTS.beta = 1e-8\n",
    "OPTS.niter = 200\n",
    "OPTS.verboseNonPosDef = False\n",
    "rw = 1\n",
    "sw = 10\n",
    "drw = 0.1\n",
    "dsw = 0.1"
   ]
  },
  {
   "cell_type": "code",
   "execution_count": 6,
   "metadata": {},
   "outputs": [],
   "source": [
    "import pickle \n",
    "import gzip\n",
    "# pickle.dump(curved_linkage, gzip.open('hemoglobin_test_20201202.pkl.gz', 'w'))\n",
    "# pickle.load(gzip.open('hemoglobin_three_stages_results/hemoglobin_contact_opt_2020_1201.pkl.gz', 'r'))"
   ]
  },
  {
   "cell_type": "code",
   "execution_count": 7,
   "metadata": {},
   "outputs": [
    {
     "data": {
      "application/vnd.jupyter.widget-view+json": {
       "model_id": "80704ecf27184a9fabbb33fffa9c2fea",
       "version_major": 2,
       "version_minor": 0
      },
      "text/plain": [
       "Renderer(camera=PerspectiveCamera(children=(PointLight(color='#999999', position=(0.0, 0.0, 5.0), quaternion=(…"
      ]
     },
     "metadata": {},
     "output_type": "display_data"
    }
   ],
   "source": [
    "with so(): curved_linkage = initialize_linkage(surface_path = io.SURFACE_PATH, useCenterline = True, model_path = io.MODEL_PATH, cross_section = io.RIBBON_CS, subdivision_res = io.SUBDIVISION_RESOLUTION)\n",
    "curved_linkage.set_design_parameter_config(use_restLen = True, use_restKappa = True)\n",
    "curved_save_tgt_joint_pos = curved_linkage.jointPositions();\n",
    "curved_linkage_view = linkage_vis.LinkageViewerWithSurface(curved_linkage, io.SURFACE_PATH)\n",
    "set_surface_view_options(curved_linkage_view)\n",
    "curved_linkage_view.show()"
   ]
  },
  {
   "cell_type": "code",
   "execution_count": 31,
   "metadata": {},
   "outputs": [
    {
     "data": {
      "application/vnd.jupyter.widget-view+json": {
       "model_id": "f892b78122b2405a85ee2bbb74828c7b",
       "version_major": 2,
       "version_minor": 0
      },
      "text/plain": [
       "Renderer(camera=PerspectiveCamera(children=(PointLight(color='#999999', position=(0.0, 0.0, 5.0), quaternion=(…"
      ]
     },
     "metadata": {},
     "output_type": "display_data"
    }
   ],
   "source": [
    "curved_linkage_view_2 = linkage_vis.LinkageViewer(curved_linkage)\n",
    "curved_linkage_view_2.show()"
   ]
  },
  {
   "cell_type": "code",
   "execution_count": 8,
   "metadata": {},
   "outputs": [],
   "source": [
    "centerline_pts = curved_linkage.centerLinePositions()"
   ]
  },
  {
   "cell_type": "code",
   "execution_count": 10,
   "metadata": {},
   "outputs": [],
   "source": [
    "centerline_points = np.reshape(centerline_pts, (int(len(centerline_pts)/3), 3))"
   ]
  },
  {
   "cell_type": "code",
   "execution_count": 13,
   "metadata": {},
   "outputs": [],
   "source": [
    "closest_clp = curved_linkage.get_closest_point_for_visualization(centerline_pts)"
   ]
  },
  {
   "cell_type": "code",
   "execution_count": 9,
   "metadata": {},
   "outputs": [],
   "source": [
    "set_surface_view_options(curved_linkage_view, surface_transparent = True)"
   ]
  },
  {
   "cell_type": "code",
   "execution_count": 15,
   "metadata": {},
   "outputs": [],
   "source": [
    "# Get rest length.\n",
    "segment_rest_length = []\n",
    "for i in range(curved_linkage.numSegments()):\n",
    "    rod = curved_linkage.segment(i).rod\n",
    "    pts = curved_linkage.get_closest_point_for_visualization(np.array(rod.deformedPoints()).flatten())\n",
    "    pts = np.reshape(pts, (int(len(pts)/3), 3))\n",
    "    rls = np.array([la.norm(pts[i+1] - pts[i]) for i in range(len(rod.deformedPoints())-1)])\n",
    "    curved_linkage.segment(i).rod.setRestLengths(rls)\n",
    "#     because the segment rest length only include from joint to joint (so half of the first and last edge length is not considered in the segment length)\n",
    "    segment_rest_length.append(sum(rls) - 0.5 * (rls[0] + rls[-1]))\n",
    "curved_linkage.setPerSegmentRestLength(segment_rest_length)\n",
    "# Get rest kappa.\n",
    "for i in range(curved_linkage.numSegments()):\n",
    "    rod = curved_linkage.segment(i).rod\n",
    "    pts = curved_linkage.get_closest_point_for_visualization(np.array(rod.deformedPoints()).flatten())\n",
    "    pts = np.reshape(pts, (int(len(pts)/3), 3))\n",
    "\n",
    "    normals = [curved_linkage.get_closest_point_normal(pt) for pt in pts]\n",
    "    edges = np.array([pts[i+1] - pts[i] for i in range(len(pts)-1)])\n",
    "\n",
    "    def get_rest_kappa(e1, e2, pn):\n",
    "        cb = 2 * np.cross(e1, e2) / (la.norm(e1) * la.norm(e2) + np.dot(e1, e2))\n",
    "        return np.dot(cb, pn)\n",
    "    \n",
    "    kappas = np.array([get_rest_kappa(edges[i], edges[i+1], normals[i+1]) for i in range(len(edges) - 1)])\n",
    "    current_rk = rod.restKappas()\n",
    "\n",
    "    for j in range(len(current_rk) - 2):\n",
    "        current_rk[j+1][0] = kappas[j]\n",
    "    curved_linkage.segment(i).rod.setRestKappas(current_rk)"
   ]
  },
  {
   "cell_type": "code",
   "execution_count": 16,
   "metadata": {},
   "outputs": [],
   "source": [
    "seg = curved_linkage.segment(0)"
   ]
  },
  {
   "cell_type": "code",
   "execution_count": 17,
   "metadata": {},
   "outputs": [],
   "source": [
    "df = rod.deformedConfiguration()"
   ]
  },
  {
   "cell_type": "code",
   "execution_count": null,
   "metadata": {},
   "outputs": [],
   "source": [
    "df."
   ]
  },
  {
   "cell_type": "code",
   "execution_count": 18,
   "metadata": {},
   "outputs": [],
   "source": []
  },
  {
   "cell_type": "code",
   "execution_count": 28,
   "metadata": {},
   "outputs": [],
   "source": [
    "renderCam = np.load('../../../optimization_diagram_results/simple_hemoglobin_5_1/video/renderCam.npy')"
   ]
  },
  {
   "cell_type": "code",
   "execution_count": 29,
   "metadata": {},
   "outputs": [],
   "source": [
    "def renderToFile(view, renderCam, path):\n",
    "    orender = view.offscreenRenderer(width=2048, height=2048)\n",
    "    orender.setCameraParams(renderCam)\n",
    "    orender.render()\n",
    "    orender.save(path)"
   ]
  },
  {
   "cell_type": "code",
   "execution_count": 33,
   "metadata": {},
   "outputs": [],
   "source": [
    "distance_color = write_distance_to_linkage_mesh(curved_linkage, max(io.RIBBON_CS), None, return_distance_field = True)\n",
    "curved_linkage_view_2.update(scalarField = distance_color[:, :3])\n",
    "renderToFile(curved_linkage_view_2, renderCam, 'manual_hemoglobin.png')"
   ]
  },
  {
   "cell_type": "code",
   "execution_count": 19,
   "metadata": {},
   "outputs": [],
   "source": [
    "curved_linkage.attraction_weight = 1e-5"
   ]
  },
  {
   "cell_type": "code",
   "execution_count": 20,
   "metadata": {},
   "outputs": [],
   "source": [
    "def eqm_callback(prob, i):\n",
    "    pass\n",
    "#    curved_linkage_view.update()"
   ]
  },
  {
   "cell_type": "code",
   "execution_count": 21,
   "metadata": {
    "scrolled": true
   },
   "outputs": [
    {
     "name": "stdout",
     "output_type": "stream",
     "text": [
      "0\t0.052202\t14.4428\t14.4428\t1\t1\n",
      "1\t0.0110946\t0.996788\t0.996788\t1\t1\n",
      "2\t0.0072062\t0.451462\t0.451462\t1\t1\n",
      "3\t0.00502932\t0.249102\t0.249102\t1\t1\n",
      "4\t0.00362972\t0.14037\t0.14037\t1\t1\n",
      "5\t0.00270922\t0.0799015\t0.0799015\t1\t1\n",
      "6\t0.00210743\t0.0474745\t0.0474745\t1\t1\n",
      "7\t0.00169819\t0.0307748\t0.0307748\t1\t1\n",
      "8\t0.00138506\t0.0220975\t0.0220975\t1\t1\n",
      "9\t0.00111215\t0.0197174\t0.0197174\t1\t1\n",
      "10\t0.000896418\t0.0190456\t0.0190456\t1\t1\n",
      "11\t0.000749794\t0.00985147\t0.00985147\t1\t1\n",
      "12\t0.000616594\t0.00862693\t0.00862693\t1\t1\n",
      "13\t0.000463506\t0.0152646\t0.0152646\t1\t1\n",
      "14\t0.000316093\t0.023724\t0.023724\t1\t1\n",
      "15\t0.000230635\t0.0163629\t0.0163629\t1\t1\n",
      "16\t0.000195686\t0.0154379\t0.0154379\t0.5\t0\n",
      "17\t0.000185158\t0.0172567\t0.0172567\t1\t0\n",
      "18\t0.000176555\t0.0136527\t0.0136527\t0.5\t1\n",
      "19\t0.000175652\t0.0152409\t0.0152409\t0.5\t0\n",
      "20\t0.000173697\t0.0110695\t0.0110695\t1\t0\n",
      "21\t0.000172025\t0.00394789\t0.00394789\t1\t0\n",
      "22\t0.00017132\t0.00688247\t0.00688247\t1\t0\n",
      "23\t0.000170782\t0.00184023\t0.00184023\t1\t0\n",
      "24\t0.000170702\t0.00539617\t0.00539617\t1\t0\n",
      "25\t0.000170469\t0.000460785\t0.000460785\t1\t0\n",
      "26\t0.000170462\t0.00177334\t0.00177334\t1\t0\n",
      "27\t0.000170439\t2.00845e-05\t2.00845e-05\t1\t0\n",
      "28\t0.000170439\t3.32414e-05\t3.32414e-05\t1\t0\n",
      "29\t0.000170439\t6.91376e-06\t6.91376e-06\t1\t0\n",
      "30\t0.000170439\t7.59868e-06\t7.59868e-06\t1\t0\n",
      "31\t0.000170439\t6.15842e-06\t6.15842e-06\t1\t0\n",
      "32\t0.000170439\t1.01118e-05\t1.01118e-05\t1\t0\n",
      "33\t0.000170439\t3.36022e-06\t3.36022e-06\t0.5\t0\n",
      "34\t0.000170439\t6.83397e-06\t6.83397e-06\t1\t0\n",
      "35\t0.000170439\t3.29292e-06\t3.29292e-06\t0.5\t0\n",
      "36\t0.000170439\t4.9244e-06\t4.9244e-06\t1\t0\n",
      "37\t0.000170439\t4.70725e-06\t4.70725e-06\t1\t0\n",
      "38\t0.000170439\t5.43186e-06\t5.43186e-06\t1\t0\n",
      "39\t0.000170439\t3.84948e-06\t3.84948e-06\t1\t0\n",
      "40\t0.000170439\t7.41019e-06\t7.41019e-06\t1\t0\n",
      "41\t0.000170439\t1.91115e-06\t1.91115e-06\t0.5\t0\n",
      "42\t0.000170439\t5.36659e-06\t5.36659e-06\t1\t0\n",
      "43\t0.000170439\t1.78546e-06\t1.78546e-06\t0.5\t0\n",
      "44\t0.000170439\t3.86972e-06\t3.86972e-06\t1\t0\n",
      "45\t0.000170439\t2.23564e-06\t2.23564e-06\t1\t0\n",
      "46\t0.000170439\t5.63296e-06\t5.63296e-06\t1\t0\n",
      "47\t0.000170439\t8.41388e-07\t8.41388e-07\t1\t0\n"
     ]
    }
   ],
   "source": [
    "elastic_rods.compute_equilibrium(curved_linkage, callback = eqm_callback, options = OPTS)\n",
    "curved_linkage_view.update()"
   ]
  },
  {
   "cell_type": "code",
   "execution_count": 17,
   "metadata": {},
   "outputs": [
    {
     "data": {
      "application/vnd.jupyter.widget-view+json": {
       "model_id": "720006c1f87e4cc089d41e0d469d55cb",
       "version_major": 2,
       "version_minor": 0
      },
      "text/plain": [
       "Renderer(camera=PerspectiveCamera(aspect=1.5, children=(PointLight(color='#999999', position=(0.0, 0.0, 5.0), …"
      ]
     },
     "metadata": {},
     "output_type": "display_data"
    }
   ],
   "source": [
    "# Visualize the stresses on a single rod before and after freeing it from the weave.\n",
    "rod_stress_view = optimization_visualization_helper.freedRibbonEquilibriumVisualization(curved_linkage, 0)\n",
    "rod_stress_view.show()"
   ]
  },
  {
   "cell_type": "code",
   "execution_count": 18,
   "metadata": {},
   "outputs": [],
   "source": [
    "# optimizer = initialize_stage_2_optimizer(curved_linkage, io.SURFACE_PATH, curved_save_tgt_joint_pos, curved_linkage_view, rw, sw, inner_gradTol = 1e-7)"
   ]
  },
  {
   "cell_type": "code",
   "execution_count": 19,
   "metadata": {},
   "outputs": [],
   "source": [
    "# start = time.time()\n",
    "# optimizer, opt_iterateData, weight_change_iterations = stage_2_optimization(optimizer, curved_linkage, io.SURFACE_PATH, curved_save_tgt_joint_pos, curved_linkage_view, -1, -3, 3, return_weight_change_iteration = True)\n",
    "# print(time.time() - start)"
   ]
  },
  {
   "cell_type": "code",
   "execution_count": 20,
   "metadata": {},
   "outputs": [],
   "source": [
    "renderCam = curved_linkage_view.getCameraParams()\n",
    "def renderToFile(path):\n",
    "    orender = curved_linkage_view.offscreenRenderer(width=2048, height=2048)\n",
    "    orender.setCameraParams(renderCam)\n",
    "    orender.render()\n",
    "    orender.save(path)"
   ]
  },
  {
   "cell_type": "code",
   "execution_count": 21,
   "metadata": {},
   "outputs": [],
   "source": [
    "renderToFile('hemoglobin_stage2.png')"
   ]
  },
  {
   "cell_type": "code",
   "execution_count": null,
   "metadata": {},
   "outputs": [],
   "source": [
    "opt_structure_view = get_structure_analysis_view(curved_linkage)\n",
    "opt_structure_view.show()"
   ]
  },
  {
   "cell_type": "code",
   "execution_count": null,
   "metadata": {},
   "outputs": [],
   "source": [
    "import linkage_optimization\n",
    "cb = pipeline_helper.WeavingOptimizationCallback(optimizer, curved_linkage, curved_linkage_view)\n",
    "\n",
    "optimizer.objective.terms[-1].term.weight = 1e6\n",
    "optimizer.objective.terms[-1].term.normalWeight = 10\n",
    "optimizer.objective.terms[-1].term.tangentialWeight = 1\n",
    "optimizer.objective.terms[-1].term.normalActivationThreshold = -1e-5"
   ]
  },
  {
   "cell_type": "code",
   "execution_count": null,
   "metadata": {},
   "outputs": [],
   "source": [
    "optimizer.objective.weightedValues()"
   ]
  },
  {
   "cell_type": "code",
   "execution_count": null,
   "metadata": {},
   "outputs": [],
   "source": [
    "optimizer.WeavingOptimize(linkage_optimization.WeavingOptAlgorithm.NEWTON_CG, 2000, 1.0, 1e-2, cb, minRestLen=0.1)"
   ]
  },
  {
   "cell_type": "code",
   "execution_count": null,
   "metadata": {},
   "outputs": [],
   "source": [
    "renderToFile('hemoglobin_stage3a.png')"
   ]
  },
  {
   "cell_type": "code",
   "execution_count": null,
   "metadata": {},
   "outputs": [],
   "source": [
    "optimizer.objective.weightedValues()"
   ]
  },
  {
   "cell_type": "code",
   "execution_count": null,
   "metadata": {},
   "outputs": [],
   "source": [
    "optimizer.objective.terms[-1].term.weight = 5e6\n",
    "optimizer.objective.terms[-1].term.normalWeight = 10\n",
    "optimizer.objective.terms[-1].term.tangentialWeight = 1\n",
    "optimizer.objective.terms[-1].term.normalActivationThreshold = -1e-5"
   ]
  },
  {
   "cell_type": "code",
   "execution_count": null,
   "metadata": {},
   "outputs": [],
   "source": [
    "optimizer.objective.weightedValues()"
   ]
  },
  {
   "cell_type": "code",
   "execution_count": null,
   "metadata": {},
   "outputs": [],
   "source": [
    "optimizer.WeavingOptimize(linkage_optimization.WeavingOptAlgorithm.NEWTON_CG, 2000, 1.0, 1e-2, cb, minRestLen=0.1)"
   ]
  },
  {
   "cell_type": "code",
   "execution_count": null,
   "metadata": {},
   "outputs": [],
   "source": [
    "renderToFile('hemoglobin_stage3b.png')"
   ]
  },
  {
   "cell_type": "code",
   "execution_count": null,
   "metadata": {},
   "outputs": [],
   "source": [
    "optimizer.objective.weightedValues()"
   ]
  },
  {
   "cell_type": "code",
   "execution_count": null,
   "metadata": {},
   "outputs": [],
   "source": []
  },
  {
   "cell_type": "code",
   "execution_count": null,
   "metadata": {},
   "outputs": [],
   "source": []
  },
  {
   "cell_type": "code",
   "execution_count": null,
   "metadata": {},
   "outputs": [],
   "source": []
  },
  {
   "cell_type": "code",
   "execution_count": null,
   "metadata": {
    "scrolled": true
   },
   "outputs": [],
   "source": [
    "# save_path = os.getcwd()\n",
    "# write_all_output(curved_linkage, io.SUBDIVISION_RESOLUTION, io.MODEL_NAME, io.RIBBON_NAME, False, 100, min(io.RIBBON_CS), target_width = 5, flip_angles = False, width = max(io.RIBBON_CS))\n",
    "# os.chdir(save_path)"
   ]
  },
  {
   "cell_type": "code",
   "execution_count": null,
   "metadata": {},
   "outputs": [],
   "source": [
    "# curved_linkage.setExtendedDoFsPSRL(np.load('results/simple_hemoglobin_5_1/simple_hemoglobin_5_1_dof.npy'))"
   ]
  },
  {
   "cell_type": "code",
   "execution_count": null,
   "metadata": {},
   "outputs": [],
   "source": [
    "# optimizer = initialize_stage_2_optimizer(curved_linkage, io.SURFACE_PATH, curved_save_tgt_joint_pos, curved_linkage_view, rw, sw)"
   ]
  },
  {
   "cell_type": "code",
   "execution_count": null,
   "metadata": {},
   "outputs": [],
   "source": [
    "optimizer, contact_opt_iterateData = contact_optimization(optimizer, curved_linkage, curved_linkage_view, minRestLen=0.14566537396077858, contact_weight = 1e6, normalWeight = 5, torqueWeight = 2, maxIter=200)"
   ]
  },
  {
   "cell_type": "code",
   "execution_count": null,
   "metadata": {},
   "outputs": [],
   "source": [
    "def set_weight_for_one_type(optimizer, curr_type):\n",
    "    optimizer.beta = 0\n",
    "    optimizer.gamma = 0\n",
    "    optimizer.smoothing_weight = 0\n",
    "    optimizer.rl_regularization_weight = 0\n",
    "    optimizer.contact_force_weight = 0\n",
    "    if curr_type == linkage_optimization.WeavingOptEnergyType.Full:\n",
    "        optimizer.beta = 5e5\n",
    "        optimizer.gamma = 1\n",
    "        optimizer.smoothing_weight = sw\n",
    "        optimizer.rl_regularization_weight = rw\n",
    "        optimizer.contact_force_weight = 1e4\n",
    "    elif curr_type == linkage_optimization.WeavingOptEnergyType.Target:\n",
    "        optimizer.beta = 5e5\n",
    "    elif curr_type == linkage_optimization.WeavingOptEnergyType.Smoothing:\n",
    "        optimizer.smoothing_weight = sw\n",
    "    elif curr_type == linkage_optimization.WeavingOptEnergyType.Regularization:\n",
    "        optimizer.rl_regularization_weight = rw\n",
    "    elif curr_type == linkage_optimization.WeavingOptEnergyType.Elastic:\n",
    "        optimizer.gamma = 1\n",
    "    elif curr_type == linkage_optimization.WeavingOptEnergyType.ContactForce:\n",
    "        optimizer.contact_force_weight = 1e4"
   ]
  },
  {
   "cell_type": "code",
   "execution_count": null,
   "metadata": {},
   "outputs": [],
   "source": [
    "import linkage_optimization\n",
    "import fd_weaver_editor"
   ]
  },
  {
   "cell_type": "code",
   "execution_count": null,
   "metadata": {},
   "outputs": [],
   "source": [
    "direction = np.random.uniform(0, 1, optimizer.numParams())"
   ]
  },
  {
   "cell_type": "code",
   "execution_count": null,
   "metadata": {},
   "outputs": [],
   "source": [
    "set_weight_for_one_type(optimizer, linkage_optimization.WeavingOptEnergyType.Full)\n",
    "fd_weaver_editor.gradient_convergence_plot(optimizer, direction, 'Full', linkage_optimization.WeavingOptEnergyType.Full)"
   ]
  },
  {
   "cell_type": "code",
   "execution_count": null,
   "metadata": {},
   "outputs": [],
   "source": [
    "second_structure_view = get_structure_analysis_view(curved_linkage)\n",
    "second_structure_view.show()"
   ]
  },
  {
   "cell_type": "code",
   "execution_count": null,
   "metadata": {},
   "outputs": [],
   "source": [
    "# np.save('hemoglobin_self_intersection_2020_1126.npy', curved_linkage.getExtendedDoFsPSRL())"
   ]
  },
  {
   "cell_type": "code",
   "execution_count": null,
   "metadata": {},
   "outputs": [],
   "source": [
    "# len(opt_iterateData)"
   ]
  },
  {
   "cell_type": "code",
   "execution_count": null,
   "metadata": {},
   "outputs": [],
   "source": [
    "len(contact_opt_iterateData)"
   ]
  },
  {
   "cell_type": "code",
   "execution_count": null,
   "metadata": {},
   "outputs": [],
   "source": [
    "# len(iterateData)"
   ]
  },
  {
   "cell_type": "code",
   "execution_count": null,
   "metadata": {},
   "outputs": [],
   "source": [
    "# import pickle\n",
    "# import gzip\n",
    "# pickle.dump(curved_linkage, gzip.open('hemoglobin_contact_opt_2020_1201.pkl.gz', 'w'))"
   ]
  },
  {
   "cell_type": "code",
   "execution_count": null,
   "metadata": {},
   "outputs": [],
   "source": [
    "# np.save('hemoglobin_contact_opt_data.npy', contact_opt_iterateData)"
   ]
  },
  {
   "cell_type": "code",
   "execution_count": null,
   "metadata": {},
   "outputs": [],
   "source": [
    "contact_forces = [curr_iter['ContactForce'] for curr_iter in contact_opt_iterateData]"
   ]
  },
  {
   "cell_type": "code",
   "execution_count": null,
   "metadata": {},
   "outputs": [],
   "source": [
    "elastic_energys = [curr_iter['ElasticEnergy'] for curr_iter in contact_opt_iterateData]"
   ]
  },
  {
   "cell_type": "code",
   "execution_count": null,
   "metadata": {},
   "outputs": [],
   "source": [
    "target_fitting = [curr_iter['TargetFitting'] for curr_iter in contact_opt_iterateData]"
   ]
  },
  {
   "cell_type": "code",
   "execution_count": null,
   "metadata": {},
   "outputs": [],
   "source": [
    "plt.plot(contact_forces)"
   ]
  },
  {
   "cell_type": "code",
   "execution_count": null,
   "metadata": {},
   "outputs": [],
   "source": [
    "plt.plot(elastic_energys)"
   ]
  },
  {
   "cell_type": "code",
   "execution_count": null,
   "metadata": {},
   "outputs": [],
   "source": [
    "plt.plot(target_fitting)"
   ]
  },
  {
   "cell_type": "code",
   "execution_count": null,
   "metadata": {},
   "outputs": [],
   "source": [
    "# save_path = os.getcwd()\n",
    "# write_all_output(curved_linkage, io.SUBDIVISION_RESOLUTION, io.MODEL_NAME + '_contact_opt', io.RIBBON_NAME + '_contact_opt', False, 100, min(io.RIBBON_CS), target_width = 5, flip_angles = False, width = max(io.RIBBON_CS))\n",
    "# os.chdir(save_path)"
   ]
  },
  {
   "cell_type": "code",
   "execution_count": null,
   "metadata": {},
   "outputs": [],
   "source": [
    "# curved_optimizer_energy = curved_linkage.energy()\n",
    "# validation_curved_linkage = optimizer.getLinesearchWeaverLinkage()\n",
    "# validation_curved_linkage.attraction_weight = 1e-7\n",
    "# with so(): elastic_rods.compute_equilibrium(validation_curved_linkage, options = OPTS, fixedVars = [])\n",
    "# validation_curved_view = linkage_vis.LinkageViewer(validation_curved_linkage, width=1024, height=640)\n",
    "# validation_curved_energy = validation_curved_linkage.energy()\n",
    "# print(abs((validation_curved_energy-curved_optimizer_energy)/curved_optimizer_energy))"
   ]
  },
  {
   "cell_type": "markdown",
   "metadata": {},
   "source": [
    "### Energy Plots"
   ]
  },
  {
   "cell_type": "code",
   "execution_count": null,
   "metadata": {},
   "outputs": [],
   "source": [
    "DEBUG = True\n",
    "def make_patch_spines_invisible(ax):\n",
    "    ax.set_frame_on(True)\n",
    "    ax.patch.set_visible(False)\n",
    "    for sp in ax.spines.values():\n",
    "        sp.set_visible(False)\n",
    "\n",
    "vs = Visualization_Setting()\n",
    "\n",
    "name = io.MODEL_NAME\n",
    "data_filename = '{}/{}_{}_data.npy'.format('results/{}'.format(name), name, 'full_data' if not DEBUG else 'finite_sample')\n",
    "optimization_data_filename = '{}/{}_optimization.npy'.format('results/{}'.format(name), name)\n",
    "print('Computing Visualization Data ', name)\n",
    "\n",
    "iterateData, opt_iterateData = np.load(optimization_data_filename, allow_pickle = True)\n",
    "contact_iterateData = np.load('hemoglobin_three_stages_results/hemoglobin_contact_opt_data.npy', allow_pickle = True)"
   ]
  },
  {
   "cell_type": "code",
   "execution_count": null,
   "metadata": {},
   "outputs": [],
   "source": [
    "sum([curr_iter['iteration_time'] for curr_iter in iterateData]), sum([curr_iter['iteration_time'] for curr_iter in opt_iterateData]), sum([curr_iter['iteration_time'] for curr_iter in contact_opt_iterateData][1:])"
   ]
  },
  {
   "cell_type": "code",
   "execution_count": null,
   "metadata": {},
   "outputs": [],
   "source": [
    "\n",
    "name = io.MODEL_NAME\n",
    "data_filename = '{}/{}_{}_data.npy'.format('results/{}'.format(name), name, 'full_data' if not DEBUG else 'finite_sample')\n",
    "optimization_data_filename = '{}/{}_optimization.npy'.format('results/{}'.format(name), name)\n",
    "print('Computing Visualization Data ', name)\n",
    "# np.save(optimization_data_filename, [iterateData, opt_iterateData])\n",
    "\n",
    "dps_total_absolute_curvature, dps_total_ribbon_length, dps_distance_to_surface, dps_distance_to_joint, dps_eqm_dofs, dps_elastic_energy, dps_separation_force, dps_tangential_force = compute_visualization_data_from_raw_data(iterateData, io, DEBUG, is_bunny = False)\n",
    "\n",
    "opt_total_absolute_curvature, opt_total_ribbon_length, opt_distance_to_surface, opt_distance_to_joint, opt_eqm_dofs, opt_elastic_energy, opt_separation_force, opt_tangential_force  = compute_visualization_data_from_raw_data(opt_iterateData, io, DEBUG, is_bunny = False)\n",
    "\n",
    "contact_total_absolute_curvature, contact_total_ribbon_length, contact_distance_to_surface, contact_distance_to_joint, contact_eqm_dofs, contact_elastic_energy, contact_separation_force, contact_tangential_force  = compute_visualization_data_from_raw_data(contact_iterateData, io, DEBUG, is_bunny = False)\n",
    "\n",
    "\n",
    "combined_energy = np.array(dps_elastic_energy + opt_elastic_energy + contact_opt_elastic_energy )\n",
    "combined_rest_length = np.array(dps_total_ribbon_length + opt_total_ribbon_length + contact_opt_total_ribbon_length)\n",
    "combined_total_absolute_curvature = np.array(dps_total_absolute_curvature + opt_total_absolute_curvature + contact_opt_total_absolute_curvature)\n",
    "combined_distance_to_surface = np.array(dps_distance_to_surface + opt_distance_to_surface + contact_opt_distance_to_surface)\n",
    "combined_dis_to_target_joint = np.array(dps_distance_to_joint + opt_distance_to_joint + contact_opt_distance_to_joint)\n",
    "combined_separation_force = np.array(dps_separation_force + opt_separation_force + contact_separation_force)\n",
    "combined_tangential_force = np.array(dps_tangential_force + opt_tangential_force + contact_tangential_force)\n",
    "\n",
    "\n",
    "curr_data = np.array([combined_energy, combined_rest_length, combined_total_absolute_curvature, combined_distance_to_surface, combined_dis_to_target_joint, dps_eqm_dofs, opt_eqm_dofs])\n",
    "# np.save(data_filename, curr_data)\n",
    "\n",
    "dps_objective_elastic, dps_objective_smooth, dps_objective_length, dps_total_objective = get_objective_components_stage1(iterateData)\n",
    "opt_objective_elastic, opt_objective_target, opt_objective_length, opt_objective_smooth, opt_total_objective = get_objective_components_stage2(opt_iterateData)\n",
    "contact_objective_elastic, contact_objective_target, contact_objective_length, contact_objective_smooth, contact_total_objective, contact_contact_force = get_objective_components_stage3(contact_opt_iterateData)\n",
    "\n",
    "combined_weighted_smoothing = np.concatenate((dps_objective_smooth, opt_objective_smooth, contact_objective_smooth), axis = None)\n",
    "\n",
    "# # Objective plots\n",
    "# plot_objective(vs, iterateData, dps_total_objective, '{}/{}_stage_1_objective.png'.format('results/{}'.format(name), name), vs.stage_1_label)\n",
    "# plot_objective(vs, opt_iterateData, opt_total_objective, '{}/{}_stage_2_objective.png'.format('results/{}'.format(name), name), vs.stage_2_label)\n",
    "# plot_objective(vs, contact_opt_iterateData, contact_total_objective, '{}/{}_stage_3_objective.png'.format('results/{}'.format(name), name), vs.stage_3_label)\n",
    "\n",
    "\n",
    "\n"
   ]
  },
  {
   "cell_type": "code",
   "execution_count": null,
   "metadata": {},
   "outputs": [],
   "source": [
    "plot_ribbon_component_analysis(iterateData, dps_elastic_energy, dps_total_ribbon_length, dps_objective_smooth, dps_total_absolute_curvature, dps_distance_to_surface, dps_separation_force, dps_tangential_force, DEBUG, combined_energy, combined_rest_length, combined_weighted_smoothing, combined_total_absolute_curvature, combined_distance_to_surface, combined_separation_force, combined_tangential_force, vs, name, 1, vs.stage_1_label)"
   ]
  },
  {
   "cell_type": "code",
   "execution_count": null,
   "metadata": {},
   "outputs": [],
   "source": [
    "plot_ribbon_component_analysis(opt_iterateData, opt_elastic_energy, opt_total_ribbon_length, opt_objective_smooth, opt_total_absolute_curvature, opt_distance_to_surface, opt_separation_force, opt_tangential_force, DEBUG, combined_energy, combined_rest_length, combined_weighted_smoothing, combined_total_absolute_curvature, combined_distance_to_surface, combined_separation_force, combined_tangential_force, vs, name, 2, vs.stage_2_label)"
   ]
  },
  {
   "cell_type": "code",
   "execution_count": null,
   "metadata": {},
   "outputs": [],
   "source": [
    "plot_ribbon_component_analysis(iterateData, contact_elastic_energy, contact_total_ribbon_length, contact_objective_smooth, contact_total_absolute_curvature, contact_distance_to_surface, contact_separation_force, contact_tangential_force, DEBUG, combined_energy, combined_rest_length, combined_weighted_smoothing, combined_total_absolute_curvature, combined_distance_to_surface, combined_separation_force, combined_tangential_force, vs, name, 3, vs.stage_3_label)"
   ]
  },
  {
   "cell_type": "code",
   "execution_count": null,
   "metadata": {},
   "outputs": [],
   "source": []
  }
 ],
 "metadata": {
  "kernelspec": {
   "display_name": "Python 3",
   "language": "python",
   "name": "python3"
  },
  "language_info": {
   "codemirror_mode": {
    "name": "ipython",
    "version": 3
   },
   "file_extension": ".py",
   "mimetype": "text/x-python",
   "name": "python",
   "nbconvert_exporter": "python",
   "pygments_lexer": "ipython3",
   "version": "3.7.9"
  }
 },
 "nbformat": 4,
 "nbformat_minor": 4
}
