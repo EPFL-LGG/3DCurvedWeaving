{
 "cells": [
  {
   "cell_type": "code",
   "execution_count": 1,
   "metadata": {},
   "outputs": [],
   "source": [
    "elastic_rods_dir = '../../../../elastic_rods/python/'\n",
    "weaving_dir = '../../../'\n",
    "import os\n",
    "import os.path as osp\n",
    "import sys; sys.path.append(elastic_rods_dir); sys.path.append(weaving_dir)\n",
    "import numpy as np, elastic_rods, linkage_vis\n",
    "import numpy.linalg as la\n",
    "from bending_validation import suppress_stdout as so\n",
    "import matplotlib.pyplot as plt\n",
    "from elastic_rods import EnergyType, InterleavingType\n",
    "\n",
    "# weaving\n",
    "import analysis_helper, ribbon_linkage_helper, mesh_vis, linkage_utils, compute_curve_from_curvature, pipeline_helper, importlib\n",
    "importlib.reload(analysis_helper)\n",
    "importlib.reload(ribbon_linkage_helper)\n",
    "importlib.reload(mesh_vis)\n",
    "importlib.reload(linkage_utils)\n",
    "importlib.reload(compute_curve_from_curvature)\n",
    "importlib.reload(pipeline_helper)\n",
    "from analysis_helper import (compare_turning_angle,\n",
    "                            is_on_sphere, \n",
    "                            get_distance_to_center_scalar_field, \n",
    "                            plot_curvatures, \n",
    "                            get_curvature_scalar_field,\n",
    "                            construct_elastic_rod_loop_from_rod_segments, \n",
    "                            concatenate_rod_properties_from_rod_segments, \n",
    "                            compute_min_distance_rigid_transformation)\n",
    "from ribbon_linkage_helper import (update_rest_curvature, \n",
    "                                   set_ribbon_linkage,\n",
    "                                   export_linkage_geometry_to_obj,\n",
    "                                   write_linkage_ribbon_output_florin)\n",
    "\n",
    "from compute_curve_from_curvature import (match_geo_curvature_and_edge_len, get_all_curve_pattern)\n",
    "from linkage_utils import order_segments_by_ribbons, get_turning_angle_and_length_from_ordered_rods\n",
    "\n",
    "from pipeline_helper import (initialize_linkage, get_normal_deviation, set_joint_vector_field, stage_1_optimization, initialize_stage_2_optimizer, stage_2_optimization, InputOrganizer, write_all_output, set_surface_view_options, get_structure_analysis_view, contact_optimization, get_double_side_view, show_selected_joints, get_max_distance_to_target_surface, get_average_distance_to_target_surface)\n",
    "import vis.fields\n",
    "import matplotlib.cm as cm\n",
    "import time"
   ]
  },
  {
   "cell_type": "code",
   "execution_count": 2,
   "metadata": {},
   "outputs": [],
   "source": [
    "import parallelism\n",
    "parallelism.set_max_num_tbb_threads(24)\n",
    "parallelism.set_hessian_assembly_num_threads(8)\n",
    "parallelism.set_gradient_assembly_num_threads(8)"
   ]
  },
  {
   "cell_type": "code",
   "execution_count": 33,
   "metadata": {},
   "outputs": [
    {
     "name": "stdout",
     "output_type": "stream",
     "text": [
      "0.03333333333333333 0.002333333333333333\n"
     ]
    }
   ],
   "source": [
    "rod_length = 0.1\n",
    "width = rod_length / 15 * 5\n",
    "thickness = width / 5 * 0.35\n",
    "print(width, thickness)\n",
    "io = InputOrganizer('two_dent_torus_1', thickness, width, weaving_dir)\n",
    "# io = InputOrganizer('bunny_quad_1', thickness, thickness, weaving_dir)\n",
    "\n",
    "#  [ ear 214, ear 255, nose 39]"
   ]
  },
  {
   "cell_type": "code",
   "execution_count": 34,
   "metadata": {},
   "outputs": [],
   "source": [
    "import py_newton_optimizer\n",
    "OPTS = py_newton_optimizer.NewtonOptimizerOptions()\n",
    "OPTS.gradTol = 1e-6\n",
    "OPTS.verbose = 1;\n",
    "OPTS.beta = 1e-8\n",
    "OPTS.niter = 200\n",
    "OPTS.verboseNonPosDef = False\n",
    "rw = 1\n",
    "sw = 10\n",
    "drw = 0.01\n",
    "dsw = 0.01"
   ]
  },
  {
   "cell_type": "markdown",
   "metadata": {},
   "source": [
    "### Initialization"
   ]
  },
  {
   "cell_type": "code",
   "execution_count": 35,
   "metadata": {},
   "outputs": [
    {
     "data": {
      "application/vnd.jupyter.widget-view+json": {
       "model_id": "2c15532f72b0478eacfb9c1e27162362",
       "version_major": 2,
       "version_minor": 0
      },
      "text/plain": [
       "Renderer(camera=PerspectiveCamera(children=(PointLight(color='#999999', position=(0.0, 0.0, 5.0), quaternion=(…"
      ]
     },
     "metadata": {},
     "output_type": "display_data"
    }
   ],
   "source": [
    "with so(): curved_linkage = initialize_linkage(surface_path = io.SURFACE_PATH, useCenterline = True, model_path = io.MODEL_PATH, cross_section = io.RIBBON_CS, subdivision_res = io.SUBDIVISION_RESOLUTION, use_constant_width=True, interleaving_type=InterleavingType.weaving)\n",
    "curved_linkage.set_design_parameter_config(use_restLen = True, use_restKappa = True)\n",
    "curved_save_tgt_joint_pos = curved_linkage.jointPositions();\n",
    "curved_linkage_view = linkage_vis.LinkageViewer(curved_linkage)\n",
    "# set_surface_view_options(curved_linkage_view)\n",
    "curved_linkage_view.show()"
   ]
  },
  {
   "cell_type": "code",
   "execution_count": 36,
   "metadata": {},
   "outputs": [
    {
     "data": {
      "text/plain": [
       "471"
      ]
     },
     "execution_count": 36,
     "metadata": {},
     "output_type": "execute_result"
    }
   ],
   "source": [
    "curved_linkage.numJoints()"
   ]
  },
  {
   "cell_type": "code",
   "execution_count": 47,
   "metadata": {},
   "outputs": [
    {
     "data": {
      "application/vnd.jupyter.widget-view+json": {
       "model_id": "30d6a9360dde4585a9c20e0c22d25e0b",
       "version_major": 2,
       "version_minor": 0
      },
      "text/plain": [
       "Renderer(camera=PerspectiveCamera(children=(PointLight(color='#999999', position=(0.0, 0.0, 5.0), quaternion=(…"
      ]
     },
     "metadata": {},
     "output_type": "display_data"
    }
   ],
   "source": [
    "surface_curved_linkage_view = linkage_vis.LinkageViewerWithSurface(curved_linkage, io.SURFACE_PATH)\n",
    "set_surface_view_options(surface_curved_linkage_view)\n",
    "surface_curved_linkage_view.show()"
   ]
  },
  {
   "cell_type": "code",
   "execution_count": 38,
   "metadata": {},
   "outputs": [],
   "source": [
    "# import cross_section_scaling\n",
    "# importlib.reload(cross_section_scaling)\n",
    "# width_scale = [0.1, 0.1]\n",
    "# cross_section = io.RIBBON_CS\n",
    "# cross_section_scaling.apply_density_based_cross_sections(curved_linkage, elastic_rods.CrossSection.construct('rectangle', 2000, 0.3, [cross_section[0], width_scale[0] * cross_section[1]]), elastic_rods.CrossSection.construct('rectangle', 2000, 0.3, [cross_section[0], width_scale[1] * cross_section[1]]))"
   ]
  },
  {
   "cell_type": "code",
   "execution_count": 39,
   "metadata": {},
   "outputs": [],
   "source": [
    "E0 = curved_linkage.designParameterSolve_energy()\n",
    "l0 = curved_linkage.totalRestLength()"
   ]
  },
  {
   "cell_type": "code",
   "execution_count": 40,
   "metadata": {},
   "outputs": [],
   "source": [
    "bottomColor =[79/255., 158/255., 246/255.]\n",
    "topColor =[0.5, 0.5, 0.5]\n",
    "heights = curved_linkage.visualizationGeometryHeightColors()\n",
    "colors = np.take(np.array([bottomColor, topColor]), heights < heights.mean(), axis=0)"
   ]
  },
  {
   "cell_type": "code",
   "execution_count": 41,
   "metadata": {},
   "outputs": [],
   "source": [
    "curved_linkage_view.update(scalarField=colors)"
   ]
  },
  {
   "cell_type": "code",
   "execution_count": 42,
   "metadata": {},
   "outputs": [],
   "source": [
    "curved_linkage_view.setCameraParams(((4.139347366530763, -3.927678946178955, 0.7924706632167623),\n",
    " (-0.038125872037145875, 0.15887387844372028, 0.9865624707182293),\n",
    " (0.0, 0.0, 0.0)))"
   ]
  },
  {
   "cell_type": "code",
   "execution_count": 43,
   "metadata": {},
   "outputs": [],
   "source": [
    "curved_linkage.attraction_weight = 1e-5"
   ]
  },
  {
   "cell_type": "code",
   "execution_count": 44,
   "metadata": {
    "scrolled": true
   },
   "outputs": [],
   "source": [
    "curved_linkage.setMaterial(elastic_rods.RodMaterial('rectangle', 2000, 0.3, [thickness, width * 0.1], stiffAxis=elastic_rods.StiffAxis.D1))\n",
    "iterateData, dpo = stage_1_optimization(curved_linkage, drw, dsw, curved_linkage_view, E0 = E0, l0 = l0)\n",
    "curved_linkage.setMaterial(elastic_rods.RodMaterial('rectangle', 2000, 0.3, [thickness, width * 0.5], stiffAxis=elastic_rods.StiffAxis.D1))\n",
    "iterateData, dpo = stage_1_optimization(curved_linkage, drw, dsw, curved_linkage_view, E0 = E0, l0 = l0)\n",
    "curved_linkage.setMaterial(elastic_rods.RodMaterial('rectangle', 2000, 0.3, [thickness, width], stiffAxis=elastic_rods.StiffAxis.D1))\n",
    "iterateData, dpo = stage_1_optimization(curved_linkage, drw, dsw, curved_linkage_view, E0 = E0, l0 = l0)"
   ]
  },
  {
   "cell_type": "code",
   "execution_count": 17,
   "metadata": {},
   "outputs": [],
   "source": [
    "# curved_linkage.scaleJointWeights(0.1, 100, [292, 291, 293, 275, 313, 276, 264, 309, 266, 210, 265, 307, 310, 172, 171, 201])"
   ]
  },
  {
   "cell_type": "code",
   "execution_count": 50,
   "metadata": {},
   "outputs": [],
   "source": [
    "# jointPos = curved_linkage.jointPositions()\n",
    "# jointPos = jointPos.reshape((curved_linkage.numJoints(), 3))\n",
    "# scaled_jointPos = jointPos[np.array([292, 291, 293, 275, 313, 276, 264, 309, 266, 210, 265, 307, 310, 172, 171, 201])]\n",
    "# with open('{}_feature_joint_pos.obj'.format(io.MODEL_NAME), 'w') as f:\n",
    "#     for pt in scaled_jointPos:\n",
    "#         pt *= 100\n",
    "#         f.write('v {} {} {}\\n'.format(pt[0], pt[1], pt[2]))"
   ]
  },
  {
   "cell_type": "code",
   "execution_count": 51,
   "metadata": {},
   "outputs": [],
   "source": [
    "# curved_linkage.setMaterial(elastic_rods.RodMaterial('rectangle', 2000, 0.3, [thickness, width], stiffAxis=elastic_rods.StiffAxis.D1))"
   ]
  },
  {
   "cell_type": "code",
   "execution_count": 45,
   "metadata": {},
   "outputs": [],
   "source": [
    "def eqm_callback(prob, i):\n",
    "#     curved_linkage_view.update(scalarField=colors)\n",
    "    pass"
   ]
  },
  {
   "cell_type": "code",
   "execution_count": 46,
   "metadata": {
    "scrolled": true
   },
   "outputs": [
    {
     "name": "stdout",
     "output_type": "stream",
     "text": [
      "0\t5.37318e-05\t0.00039205\t0.00039205\t0.25\t0\n",
      "1\t5.21969e-05\t0.00610962\t0.00610962\t1\t0\n",
      "2\t5.04209e-05\t0.00348382\t0.00348382\t0.5\t0\n",
      "3\t4.96822e-05\t0.00507115\t0.00507115\t1\t0\n",
      "4\t4.88427e-05\t0.00205932\t0.00205932\t0.5\t0\n",
      "5\t4.85912e-05\t0.00175986\t0.00175986\t1\t0\n",
      "6\t4.8166e-05\t0.00168128\t0.00168128\t0.5\t0\n",
      "7\t4.80432e-05\t0.00142333\t0.00142333\t1\t0\n",
      "8\t4.78201e-05\t0.000963905\t0.000963905\t0.5\t0\n",
      "9\t4.77527e-05\t0.000813286\t0.000813286\t1\t0\n",
      "10\t4.76617e-05\t0.000503916\t0.000503916\t1\t0\n",
      "11\t4.76412e-05\t0.000790348\t0.000790348\t1\t0\n",
      "12\t4.7593e-05\t0.000295658\t0.000295658\t1\t0\n",
      "13\t4.75859e-05\t0.000323345\t0.000323345\t1\t0\n",
      "14\t4.7579e-05\t0.000137724\t0.000137724\t1\t0\n",
      "15\t4.75778e-05\t3.89704e-05\t3.89704e-05\t1\t0\n",
      "16\t4.75777e-05\t1.25608e-05\t1.25608e-05\t0.5\t0\n",
      "17\t4.75777e-05\t9.43755e-06\t9.43755e-06\t1\t0\n",
      "18\t4.75776e-05\t7.91173e-07\t7.91173e-07\t1\t0\n"
     ]
    },
    {
     "data": {
      "text/plain": [
       "<py_newton_optimizer.ConvergenceReport at 0x127b15930>"
      ]
     },
     "execution_count": 46,
     "metadata": {},
     "output_type": "execute_result"
    }
   ],
   "source": [
    "elastic_rods.compute_equilibrium(curved_linkage, callback = eqm_callback, options = OPTS)"
   ]
  },
  {
   "cell_type": "code",
   "execution_count": 28,
   "metadata": {},
   "outputs": [],
   "source": [
    "curved_linkage_view.update()"
   ]
  },
  {
   "cell_type": "code",
   "execution_count": 54,
   "metadata": {},
   "outputs": [],
   "source": [
    "optimizer = initialize_stage_2_optimizer(curved_linkage, io.SURFACE_PATH, curved_save_tgt_joint_pos, curved_linkage_view, rw, sw)"
   ]
  },
  {
   "cell_type": "code",
   "execution_count": 55,
   "metadata": {},
   "outputs": [],
   "source": [
    "# optimizer.scaleJointWeights(0.01, 100, [292, 291, 293, 275, 313, 276, 264, 309, 266, 210, 265, 307, 310, 172, 171, 201])"
   ]
  },
  {
   "cell_type": "code",
   "execution_count": 56,
   "metadata": {},
   "outputs": [
    {
     "name": "stdout",
     "output_type": "stream",
     "text": [
      "rl_regularization_weight 1.0\n",
      "smoothing_weight 10.0\n",
      "stage 2 optimization with attraction weight 100.0\n",
      "stage 2 optimization with attraction weight 0.03162277660168379\n",
      "stage 2 optimization with attraction weight 1e-05\n"
     ]
    }
   ],
   "source": [
    "optimizer, opt_iterateData = stage_2_optimization(optimizer, curved_linkage, io.SURFACE_PATH, curved_save_tgt_joint_pos, curved_linkage_view, -1, -5, 3)"
   ]
  },
  {
   "cell_type": "markdown",
   "metadata": {},
   "source": [
    "### Validation"
   ]
  },
  {
   "cell_type": "code",
   "execution_count": null,
   "metadata": {},
   "outputs": [],
   "source": [
    "# curved_optimizer_energy = curved_linkage.energy()\n",
    "# validation_curved_linkage = optimizer.getLinesearchWeaverLinkage()\n",
    "# validation_curved_linkage.attraction_weight = 1e-7\n",
    "# with so(): elastic_rods.compute_equilibrium(validation_curved_linkage, options = OPTS, fixedVars = [])\n",
    "# validation_curved_view = linkage_vis.LinkageViewer(validation_curved_linkage, width=1024, height=640)\n",
    "# validation_curved_energy = validation_curved_linkage.energy()\n",
    "# print(abs((validation_curved_energy-curved_optimizer_energy)/curved_optimizer_energy))"
   ]
  },
  {
   "cell_type": "code",
   "execution_count": 16,
   "metadata": {},
   "outputs": [],
   "source": [
    "# validation_curved_view = linkage_vis.LinkageViewerWithSurface(validation_curved_linkage, io.SURFACE_PATH, width=1024, height=640)\n",
    "# set_surface_view_options(validation_curved_view)\n",
    "# validation_curved_view.show()"
   ]
  },
  {
   "cell_type": "code",
   "execution_count": 25,
   "metadata": {},
   "outputs": [
    {
     "data": {
      "application/vnd.jupyter.widget-view+json": {
       "model_id": "c597debefcfc4f2a9c727afb03981578",
       "version_major": 2,
       "version_minor": 0
      },
      "text/plain": [
       "Renderer(camera=PerspectiveCamera(aspect=1.6, children=(PointLight(color='white', intensity=0.6, position=(0.0…"
      ]
     },
     "metadata": {},
     "output_type": "display_data"
    }
   ],
   "source": [
    "double_view = linkage_vis.LinkageViewerWithSurface(curved_linkage, io.SURFACE_PATH, width=1024, height=640)\n",
    "set_surface_view_options(double_view)\n",
    "double_view.show()"
   ]
  },
  {
   "cell_type": "code",
   "execution_count": null,
   "metadata": {},
   "outputs": [],
   "source": [
    "double_view.viewOptions[double_view.ViewType.SURFACE].color"
   ]
  },
  {
   "cell_type": "code",
   "execution_count": 17,
   "metadata": {},
   "outputs": [],
   "source": [
    "deviation, deviation_vector, joint_normals, joint_projection_normals = get_normal_deviation(curved_linkage)"
   ]
  },
  {
   "cell_type": "code",
   "execution_count": 37,
   "metadata": {},
   "outputs": [
    {
     "data": {
      "text/plain": [
       "0.2632755266184439"
      ]
     },
     "execution_count": 37,
     "metadata": {},
     "output_type": "execute_result"
    }
   ],
   "source": [
    "get_average_distance_to_target_surface(curved_linkage)/io.RIBBON_CS[1]"
   ]
  },
  {
   "cell_type": "code",
   "execution_count": 44,
   "metadata": {},
   "outputs": [],
   "source": [
    "distance_to_surface = np.array(curved_linkage.get_squared_distance_to_target_surface((curved_linkage.visualizationGeometry()[0]).flatten()))\n"
   ]
  },
  {
   "cell_type": "code",
   "execution_count": 45,
   "metadata": {},
   "outputs": [],
   "source": [
    "distance_to_surface = np.sqrt(distance_to_surface)"
   ]
  },
  {
   "cell_type": "code",
   "execution_count": 54,
   "metadata": {},
   "outputs": [
    {
     "data": {
      "text/plain": [
       "[<matplotlib.lines.Line2D at 0x1285f1310>]"
      ]
     },
     "execution_count": 54,
     "metadata": {},
     "output_type": "execute_result"
    },
    {
     "data": {
      "image/png": "[encoded data removed]",
      "text/plain": [
       "<Figure size 432x288 with 1 Axes>"
      ]
     },
     "metadata": {
      "needs_background": "light"
     },
     "output_type": "display_data"
    }
   ],
   "source": [
    "plt.plot(np.sort(distance_to_surface))\n"
   ]
  },
  {
   "cell_type": "code",
   "execution_count": 21,
   "metadata": {},
   "outputs": [],
   "source": [
    "set_joint_vector_field(curved_linkage, curved_linkage_view, joint_normals)"
   ]
  },
  {
   "cell_type": "code",
   "execution_count": null,
   "metadata": {},
   "outputs": [],
   "source": [
    "save_path = os.getcwd()\n",
    "write_all_output(curved_linkage, io.SUBDIVISION_RESOLUTION, io.MODEL_NAME + '_no_feature_joints', io.RIBBON_NAME + '_no_feature_joints', False, 100, min(io.RIBBON_CS), target_width = 5, flip_angles = False, width = max(io.RIBBON_CS))\n",
    "os.chdir(save_path)"
   ]
  },
  {
   "cell_type": "code",
   "execution_count": 40,
   "metadata": {},
   "outputs": [
    {
     "data": {
      "text/plain": [
       "618"
      ]
     },
     "execution_count": 40,
     "metadata": {},
     "output_type": "execute_result"
    }
   ],
   "source": [
    "curved_linkage.numSegments()"
   ]
  },
  {
   "cell_type": "markdown",
   "metadata": {},
   "source": [
    "## Contact Optimization"
   ]
  },
  {
   "cell_type": "code",
   "execution_count": 30,
   "metadata": {},
   "outputs": [
    {
     "data": {
      "application/vnd.jupyter.widget-view+json": {
       "model_id": "c133c6d4480641ed9f6ee761e637a61a",
       "version_major": 2,
       "version_minor": 0
      },
      "text/plain": [
       "Renderer(camera=PerspectiveCamera(children=(PointLight(color='white', intensity=0.6, position=(0.0, 0.0, 5.0),…"
      ]
     },
     "metadata": {},
     "output_type": "display_data"
    }
   ],
   "source": [
    "with so(): curved_linkage = initialize_linkage(surface_path = io.SURFACE_PATH, useCenterline = True, model_path = io.MODEL_PATH, cross_section = io.RIBBON_CS, subdivision_res = io.SUBDIVISION_RESOLUTION, use_constant_width=True, interleaving_type=InterleavingType.weaving)\n",
    "curved_linkage.set_design_parameter_config(use_restLen = True, use_restKappa = True)\n",
    "curved_save_tgt_joint_pos = curved_linkage.jointPositions();\n",
    "curved_linkage_view = linkage_vis.LinkageViewerWithSurface(curved_linkage, io.SURFACE_PATH)\n",
    "set_surface_view_options(curved_linkage_view)\n",
    "curved_linkage_view.show()"
   ]
  },
  {
   "cell_type": "code",
   "execution_count": 31,
   "metadata": {},
   "outputs": [],
   "source": [
    "curved_linkage.setExtendedDoFsPSRL(np.load('results/bob_quad_1/bob_quad_1_dof.npy'))"
   ]
  },
  {
   "cell_type": "code",
   "execution_count": 32,
   "metadata": {},
   "outputs": [],
   "source": [
    "curved_linkage.attraction_weight = 1e-5"
   ]
  },
  {
   "cell_type": "code",
   "execution_count": 33,
   "metadata": {},
   "outputs": [],
   "source": [
    "def eqm_callback(prob, i):\n",
    "    curved_linkage_view.update()"
   ]
  },
  {
   "cell_type": "code",
   "execution_count": 34,
   "metadata": {
    "scrolled": true
   },
   "outputs": [
    {
     "name": "stdout",
     "output_type": "stream",
     "text": [
      "0\t0.0388859\t25.7345\t25.7345\t1\t1\n",
      "1\t0.0326119\t39.2816\t39.2816\t1\t1\n",
      "2\t0.0294562\t37.2768\t37.2768\t0.03125\t1\n",
      "3\t0.0279567\t23.887\t23.887\t1\t1\n",
      "4\t0.0273857\t28.2891\t28.2891\t1\t1\n",
      "5\t0.0271523\t40.0196\t40.0196\t1\t1\n",
      "6\t0.0270528\t60.9224\t60.9224\t1\t1\n",
      "7\t0.0268932\t15.565\t15.565\t1\t1\n",
      "8\t0.0268754\t4.92176\t4.92176\t1\t1\n",
      "9\t0.0268581\t4.30372\t4.30372\t1\t1\n",
      "10\t0.0268242\t4.27351\t4.27351\t1\t1\n",
      "11\t0.0267573\t4.24554\t4.24554\t1\t1\n",
      "12\t0.026626\t4.19978\t4.19978\t1\t1\n",
      "13\t0.026372\t4.12378\t4.12378\t1\t1\n",
      "14\t0.0258907\t4.00185\t4.00185\t1\t1\n",
      "15\t0.0250057\t3.81056\t3.81056\t1\t1\n",
      "16\t0.0234527\t3.51549\t3.51549\t1\t1\n",
      "17\t0.0209226\t3.08364\t3.08364\t1\t1\n",
      "18\t0.0172515\t2.514\t2.514\t1\t1\n",
      "19\t0.0127403\t1.86566\t1.86566\t1\t1\n",
      "20\t0.00825513\t1.24791\t1.24791\t1\t1\n",
      "21\t0.00474619\t0.759735\t0.759735\t1\t1\n",
      "22\t0.00258277\t0.4355\t0.4355\t1\t1\n",
      "23\t0.00147589\t0.249715\t0.249715\t1\t1\n",
      "24\t0.000941788\t0.148407\t0.148407\t1\t1\n",
      "25\t0.000658237\t0.0891199\t0.0891199\t1\t1\n",
      "26\t0.000481022\t0.053442\t0.053442\t1\t1\n",
      "27\t0.000353198\t0.0299932\t0.0299932\t1\t1\n",
      "28\t0.000253485\t0.016696\t0.016696\t1\t1\n",
      "29\t0.00017569\t0.0198608\t0.0198608\t1\t1\n",
      "30\t0.000119036\t0.0290488\t0.0290488\t1\t1\n",
      "31\t8.29692e-05\t0.0363175\t0.0363175\t1\t1\n",
      "32\t6.36963e-05\t0.0364115\t0.0364115\t1\t1\n",
      "33\t5.45618e-05\t0.0279206\t0.0279206\t1\t1\n",
      "34\t5.01673e-05\t0.0174909\t0.0174909\t1\t1\n",
      "35\t4.79124e-05\t0.0109988\t0.0109988\t1\t1\n",
      "36\t4.67879e-05\t0.00667738\t0.00667738\t1\t1\n",
      "37\t4.63071e-05\t0.00334334\t0.00334334\t1\t1\n",
      "38\t4.61755e-05\t0.000791244\t0.000791244\t1\t1\n",
      "39\t4.61256e-05\t0.00020942\t0.00020942\t1\t1\n",
      "Computing negative curvature direction for scaled tau = 0.00299435\n",
      "Spectra unsuccessful after 9 iterations\n",
      "Negative curvature direction calculation failed\n",
      "40\t4.61021e-05\t8.0601e-05\t8.0601e-05\t1\t1\n",
      "Computing negative curvature direction for scaled tau = 0.00299435\n",
      "Spectra unsuccessful after 9 iterations\n",
      "Negative curvature direction calculation failed\n",
      "41\t4.60895e-05\t4.52553e-05\t4.52553e-05\t1\t1\n",
      "Computing negative curvature direction for scaled tau = 0.00299435\n",
      "Spectra unsuccessful after 9 iterations\n",
      "Negative curvature direction calculation failed\n",
      "42\t4.60821e-05\t2.85997e-05\t2.85997e-05\t1\t1\n",
      "Computing negative curvature direction for scaled tau = 0.00299435\n",
      "Spectra unsuccessful after 9 iterations\n",
      "Negative curvature direction calculation failed\n",
      "43\t4.60775e-05\t1.89844e-05\t1.89844e-05\t1\t1\n",
      "Computing negative curvature direction for scaled tau = 0.00299435\n",
      "Spectra unsuccessful after 9 iterations\n",
      "Negative curvature direction calculation failed\n",
      "44\t4.60744e-05\t1.30577e-05\t1.30577e-05\t1\t1\n",
      "Computing negative curvature direction for scaled tau = 0.00299435\n",
      "Spectra unsuccessful after 9 iterations\n",
      "Negative curvature direction calculation failed\n",
      "45\t4.60723e-05\t9.28756e-06\t9.28756e-06\t1\t1\n",
      "Computing negative curvature direction for scaled tau = 0.00299435\n",
      "Spectra unsuccessful after 9 iterations\n",
      "Negative curvature direction calculation failed\n",
      "46\t4.60707e-05\t6.83443e-06\t6.83443e-06\t1\t1\n",
      "Computing negative curvature direction for scaled tau = 0.00299435\n",
      "Spectra unsuccessful after 9 iterations\n",
      "Negative curvature direction calculation failed\n",
      "47\t4.60696e-05\t5.20549e-06\t5.20549e-06\t1\t1\n",
      "Computing negative curvature direction for scaled tau = 0.00299435\n",
      "Spectra unsuccessful after 9 iterations\n",
      "Negative curvature direction calculation failed\n",
      "48\t4.60688e-05\t4.10147e-06\t4.10147e-06\t1\t1\n",
      "Computing negative curvature direction for scaled tau = 0.00299435\n",
      "Spectra unsuccessful after 9 iterations\n",
      "Negative curvature direction calculation failed\n",
      "49\t4.60682e-05\t3.33658e-06\t3.33658e-06\t1\t1\n",
      "Computing negative curvature direction for scaled tau = 0.00299435\n",
      "Spectra unsuccessful after 9 iterations\n",
      "Negative curvature direction calculation failed\n",
      "50\t4.60677e-05\t2.79356e-06\t2.79356e-06\t1\t1\n",
      "Computing negative curvature direction for scaled tau = 0.00299435\n",
      "Spectra unsuccessful after 9 iterations\n",
      "Negative curvature direction calculation failed\n",
      "51\t4.60673e-05\t2.39766e-06\t2.39766e-06\t1\t1\n",
      "Computing negative curvature direction for scaled tau = 0.00299435\n",
      "Spectra unsuccessful after 9 iterations\n",
      "Negative curvature direction calculation failed\n",
      "52\t4.6067e-05\t2.10084e-06\t2.10084e-06\t1\t1\n",
      "Computing negative curvature direction for scaled tau = 0.00299435\n",
      "Spectra unsuccessful after 9 iterations\n",
      "Negative curvature direction calculation failed\n",
      "53\t4.60667e-05\t1.87198e-06\t1.87198e-06\t1\t1\n",
      "Computing negative curvature direction for scaled tau = 0.00299435\n",
      "Spectra unsuccessful after 9 iterations\n",
      "Negative curvature direction calculation failed\n",
      "54\t4.60665e-05\t1.69075e-06\t1.69075e-06\t1\t1\n",
      "Computing negative curvature direction for scaled tau = 0.00299435\n",
      "Spectra unsuccessful after 9 iterations\n",
      "Negative curvature direction calculation failed\n",
      "55\t4.60663e-05\t1.54371e-06\t1.54371e-06\t1\t1\n",
      "Computing negative curvature direction for scaled tau = 0.00299435\n",
      "Spectra unsuccessful after 9 iterations\n",
      "Negative curvature direction calculation failed\n",
      "56\t4.60662e-05\t1.42181e-06\t1.42181e-06\t1\t1\n",
      "Computing negative curvature direction for scaled tau = 0.00299435\n",
      "Spectra unsuccessful after 9 iterations\n",
      "Negative curvature direction calculation failed\n",
      "57\t4.60661e-05\t1.31888e-06\t1.31888e-06\t1\t1\n",
      "Computing negative curvature direction for scaled tau = 0.00299435\n",
      "Spectra unsuccessful after 9 iterations\n",
      "Negative curvature direction calculation failed\n",
      "58\t4.6066e-05\t1.23058e-06\t1.23058e-06\t1\t1\n",
      "Computing negative curvature direction for scaled tau = 0.00299435\n",
      "Spectra unsuccessful after 9 iterations\n",
      "Negative curvature direction calculation failed\n",
      "59\t4.60659e-05\t1.15383e-06\t1.15383e-06\t1\t1\n",
      "Computing negative curvature direction for scaled tau = 0.00299435\n",
      "Spectra unsuccessful after 9 iterations\n",
      "Negative curvature direction calculation failed\n",
      "60\t4.60658e-05\t1.08637e-06\t1.08637e-06\t1\t1\n",
      "Computing negative curvature direction for scaled tau = 0.00299435\n",
      "Spectra unsuccessful after 9 iterations\n",
      "Negative curvature direction calculation failed\n",
      "61\t4.60657e-05\t1.02651e-06\t1.02651e-06\t1\t1\n",
      "Computing negative curvature direction for scaled tau = 0.00299435\n",
      "Spectra unsuccessful after 9 iterations\n",
      "Negative curvature direction calculation failed\n",
      "62\t4.60657e-05\t9.72966e-07\t9.72966e-07\t1\t1\n",
      "Computing negative curvature direction for scaled tau = 0.00299435\n",
      "Spectra unsuccessful after 9 iterations\n",
      "Negative curvature direction calculation failed\n",
      "63\t4.60656e-05\t9.24747e-07\t9.24747e-07\t1\t1\n",
      "Computing negative curvature direction for scaled tau = 0.00299435\n",
      "Spectra unsuccessful after 9 iterations\n",
      "Negative curvature direction calculation failed\n",
      "64\t4.60656e-05\t8.81067e-07\t8.81067e-07\t1\t1\n",
      "Computing negative curvature direction for scaled tau = 0.00299435\n",
      "Spectra unsuccessful after 9 iterations\n",
      "Negative curvature direction calculation failed\n",
      "65\t4.60655e-05\t8.41288e-07\t8.41288e-07\t1\t1\n",
      "Computing negative curvature direction for scaled tau = 0.00299435\n",
      "Spectra unsuccessful after 9 iterations\n",
      "Negative curvature direction calculation failed\n",
      "66\t4.60655e-05\t8.04902e-07\t8.04902e-07\t1\t1\n",
      "Computing negative curvature direction for scaled tau = 0.00299435\n",
      "Spectra unsuccessful after 9 iterations\n",
      "Negative curvature direction calculation failed\n",
      "67\t4.60654e-05\t7.71487e-07\t7.71487e-07\t1\t1\n",
      "Computing negative curvature direction for scaled tau = 0.00299435\n",
      "Spectra unsuccessful after 9 iterations\n",
      "Negative curvature direction calculation failed\n",
      "68\t4.60654e-05\t7.40692e-07\t7.40692e-07\t1\t1\n",
      "Computing negative curvature direction for scaled tau = 0.00299435\n",
      "Spectra unsuccessful after 9 iterations\n",
      "Negative curvature direction calculation failed\n",
      "69\t4.60654e-05\t7.12224e-07\t7.12224e-07\t1\t1\n",
      "Computing negative curvature direction for scaled tau = 0.00299435\n",
      "Spectra unsuccessful after 9 iterations\n",
      "Negative curvature direction calculation failed\n",
      "70\t4.60654e-05\t6.85832e-07\t6.85832e-07\t1\t1\n",
      "Computing negative curvature direction for scaled tau = 0.00299435\n",
      "Spectra unsuccessful after 9 iterations\n",
      "Negative curvature direction calculation failed\n",
      "71\t4.60653e-05\t6.61304e-07\t6.61304e-07\t1\t1\n",
      "Computing negative curvature direction for scaled tau = 0.00299435\n",
      "Spectra unsuccessful after 9 iterations\n",
      "Negative curvature direction calculation failed\n",
      "72\t4.60653e-05\t6.38456e-07\t6.38456e-07\t1\t1\n",
      "Computing negative curvature direction for scaled tau = 0.00299435\n",
      "Spectra unsuccessful after 9 iterations\n",
      "Negative curvature direction calculation failed\n",
      "73\t4.60653e-05\t6.1713e-07\t6.1713e-07\t1\t1\n",
      "Computing negative curvature direction for scaled tau = 0.00299435\n",
      "Spectra unsuccessful after 9 iterations\n",
      "Negative curvature direction calculation failed\n",
      "74\t4.60653e-05\t5.97188e-07\t5.97188e-07\t1\t1\n",
      "Computing negative curvature direction for scaled tau = 0.00299435\n",
      "Spectra unsuccessful after 9 iterations\n",
      "Negative curvature direction calculation failed\n",
      "75\t4.60653e-05\t5.78507e-07\t5.78507e-07\t1\t1\n",
      "Computing negative curvature direction for scaled tau = 0.00299435\n",
      "Spectra unsuccessful after 9 iterations\n",
      "Negative curvature direction calculation failed\n",
      "76\t4.60652e-05\t5.60981e-07\t5.60981e-07\t1\t1\n",
      "Computing negative curvature direction for scaled tau = 0.00299435\n",
      "Spectra unsuccessful after 9 iterations\n",
      "Negative curvature direction calculation failed\n",
      "77\t4.60652e-05\t5.44514e-07\t5.44514e-07\t1\t1\n",
      "Computing negative curvature direction for scaled tau = 0.00299435\n",
      "Spectra unsuccessful after 9 iterations\n",
      "Negative curvature direction calculation failed\n",
      "78\t4.60652e-05\t5.29023e-07\t5.29023e-07\t1\t1\n",
      "Computing negative curvature direction for scaled tau = 0.00299435\n",
      "Spectra unsuccessful after 9 iterations\n",
      "Negative curvature direction calculation failed\n",
      "79\t4.60652e-05\t5.1443e-07\t5.1443e-07\t1\t1\n",
      "Computing negative curvature direction for scaled tau = 0.00299435\n",
      "Spectra unsuccessful after 9 iterations\n",
      "Negative curvature direction calculation failed\n",
      "80\t4.60652e-05\t5.00668e-07\t5.00668e-07\t1\t1\n",
      "Computing negative curvature direction for scaled tau = 0.00299435\n",
      "Spectra unsuccessful after 9 iterations\n",
      "Negative curvature direction calculation failed\n",
      "81\t4.60652e-05\t4.87676e-07\t4.87676e-07\t1\t1\n",
      "Computing negative curvature direction for scaled tau = 0.00299435\n",
      "Spectra unsuccessful after 9 iterations\n",
      "Negative curvature direction calculation failed\n",
      "82\t4.60652e-05\t4.75398e-07\t4.75398e-07\t1\t1\n",
      "Computing negative curvature direction for scaled tau = 0.00299435\n",
      "Spectra unsuccessful after 9 iterations\n",
      "Negative curvature direction calculation failed\n",
      "83\t4.60652e-05\t4.63783e-07\t4.63783e-07\t1\t1\n",
      "Computing negative curvature direction for scaled tau = 0.00299435\n",
      "Spectra unsuccessful after 9 iterations\n",
      "Negative curvature direction calculation failed\n",
      "84\t4.60651e-05\t4.52785e-07\t4.52785e-07\t1\t1\n",
      "Computing negative curvature direction for scaled tau = 0.00299435\n",
      "Spectra unsuccessful after 9 iterations\n",
      "Negative curvature direction calculation failed\n",
      "85\t4.60651e-05\t4.42363e-07\t4.42363e-07\t1\t1\n",
      "Computing negative curvature direction for scaled tau = 0.00299435\n",
      "Spectra unsuccessful after 9 iterations\n",
      "Negative curvature direction calculation failed\n",
      "86\t4.60651e-05\t4.32477e-07\t4.32477e-07\t1\t1\n",
      "Computing negative curvature direction for scaled tau = 0.00299435\n",
      "Spectra unsuccessful after 9 iterations\n",
      "Negative curvature direction calculation failed\n",
      "87\t4.60651e-05\t4.23092e-07\t4.23092e-07\t1\t1\n",
      "Computing negative curvature direction for scaled tau = 0.00299435\n",
      "Spectra unsuccessful after 9 iterations\n",
      "Negative curvature direction calculation failed\n",
      "88\t4.60651e-05\t4.14176e-07\t4.14176e-07\t1\t1\n",
      "Computing negative curvature direction for scaled tau = 0.00299435\n",
      "Spectra unsuccessful after 9 iterations\n",
      "Negative curvature direction calculation failed\n",
      "89\t4.60651e-05\t4.05699e-07\t4.05699e-07\t1\t1\n",
      "Computing negative curvature direction for scaled tau = 0.00299435\n",
      "Spectra unsuccessful after 9 iterations\n",
      "Negative curvature direction calculation failed\n",
      "90\t4.60651e-05\t3.97632e-07\t3.97632e-07\t1\t1\n",
      "Computing negative curvature direction for scaled tau = 0.00299435\n",
      "Spectra unsuccessful after 9 iterations\n",
      "Negative curvature direction calculation failed\n",
      "91\t4.60651e-05\t3.89952e-07\t3.89952e-07\t1\t1\n",
      "Computing negative curvature direction for scaled tau = 0.00299435\n",
      "Spectra unsuccessful after 9 iterations\n",
      "Negative curvature direction calculation failed\n",
      "92\t4.60651e-05\t3.82633e-07\t3.82633e-07\t1\t1\n",
      "Computing negative curvature direction for scaled tau = 0.00299435\n",
      "Spectra unsuccessful after 9 iterations\n",
      "Negative curvature direction calculation failed\n",
      "93\t4.60651e-05\t3.75655e-07\t3.75655e-07\t1\t1\n",
      "Computing negative curvature direction for scaled tau = 0.00299435\n",
      "Spectra unsuccessful after 9 iterations\n",
      "Negative curvature direction calculation failed\n",
      "94\t4.60651e-05\t3.68996e-07\t3.68996e-07\t1\t1\n",
      "Computing negative curvature direction for scaled tau = 0.00299435\n",
      "Spectra unsuccessful after 9 iterations\n",
      "Negative curvature direction calculation failed\n",
      "95\t4.60651e-05\t3.62637e-07\t3.62637e-07\t1\t1\n",
      "Computing negative curvature direction for scaled tau = 0.00299435\n",
      "Spectra unsuccessful after 9 iterations\n",
      "Negative curvature direction calculation failed\n",
      "96\t4.60651e-05\t3.56562e-07\t3.56562e-07\t1\t1\n",
      "Computing negative curvature direction for scaled tau = 0.00299435\n",
      "Spectra unsuccessful after 9 iterations\n",
      "Negative curvature direction calculation failed\n",
      "97\t4.60651e-05\t3.50754e-07\t3.50754e-07\t1\t1\n",
      "Computing negative curvature direction for scaled tau = 0.00299435\n",
      "Spectra unsuccessful after 9 iterations\n",
      "Negative curvature direction calculation failed\n",
      "98\t4.6065e-05\t3.45198e-07\t3.45198e-07\t1\t1\n",
      "Computing negative curvature direction for scaled tau = 0.00299435\n",
      "Spectra unsuccessful after 9 iterations\n",
      "Negative curvature direction calculation failed\n",
      "99\t4.6065e-05\t3.39878e-07\t3.39878e-07\t1\t1\n",
      "Computing negative curvature direction for scaled tau = 0.00299435\n",
      "Spectra unsuccessful after 9 iterations\n",
      "Negative curvature direction calculation failed\n",
      "100\t4.6065e-05\t3.34783e-07\t3.34783e-07\t1\t1\n",
      "Computing negative curvature direction for scaled tau = 0.00299435\n",
      "Spectra unsuccessful after 9 iterations\n",
      "Negative curvature direction calculation failed\n",
      "101\t4.6065e-05\t3.299e-07\t3.299e-07\t1\t1\n",
      "Computing negative curvature direction for scaled tau = 0.00299435\n",
      "Spectra unsuccessful after 9 iterations\n",
      "Negative curvature direction calculation failed\n",
      "102\t4.6065e-05\t3.25217e-07\t3.25217e-07\t1\t1\n",
      "Computing negative curvature direction for scaled tau = 0.00299435\n",
      "Spectra unsuccessful after 9 iterations\n",
      "Negative curvature direction calculation failed\n",
      "103\t4.6065e-05\t3.20723e-07\t3.20723e-07\t1\t1\n",
      "Computing negative curvature direction for scaled tau = 0.00299435\n",
      "Spectra unsuccessful after 9 iterations\n",
      "Negative curvature direction calculation failed\n",
      "104\t4.6065e-05\t3.16408e-07\t3.16408e-07\t1\t1\n",
      "Computing negative curvature direction for scaled tau = 0.00299435\n",
      "Spectra unsuccessful after 9 iterations\n",
      "Negative curvature direction calculation failed\n",
      "105\t4.6065e-05\t3.12264e-07\t3.12264e-07\t1\t1\n",
      "Computing negative curvature direction for scaled tau = 0.00299435\n",
      "Spectra unsuccessful after 9 iterations\n",
      "Negative curvature direction calculation failed\n",
      "106\t4.6065e-05\t3.0828e-07\t3.0828e-07\t1\t1\n",
      "Computing negative curvature direction for scaled tau = 0.00299435\n",
      "Spectra unsuccessful after 9 iterations\n",
      "Negative curvature direction calculation failed\n",
      "107\t4.6065e-05\t3.04448e-07\t3.04448e-07\t1\t1\n",
      "Computing negative curvature direction for scaled tau = 0.00299435\n",
      "Spectra unsuccessful after 9 iterations\n",
      "Negative curvature direction calculation failed\n",
      "108\t4.6065e-05\t3.00762e-07\t3.00762e-07\t1\t1\n",
      "Computing negative curvature direction for scaled tau = 0.00299435\n",
      "Spectra unsuccessful after 9 iterations\n",
      "Negative curvature direction calculation failed\n",
      "109\t4.6065e-05\t2.97213e-07\t2.97213e-07\t1\t1\n",
      "Computing negative curvature direction for scaled tau = 0.00299435\n",
      "Spectra unsuccessful after 9 iterations\n",
      "Negative curvature direction calculation failed\n",
      "110\t4.6065e-05\t2.93794e-07\t2.93794e-07\t1\t1\n",
      "Computing negative curvature direction for scaled tau = 0.00299435\n",
      "Spectra unsuccessful after 9 iterations\n",
      "Negative curvature direction calculation failed\n",
      "111\t4.6065e-05\t2.905e-07\t2.905e-07\t1\t1\n",
      "Computing negative curvature direction for scaled tau = 0.00299435\n",
      "Spectra unsuccessful after 9 iterations\n",
      "Negative curvature direction calculation failed\n",
      "112\t4.6065e-05\t2.87323e-07\t2.87323e-07\t1\t1\n",
      "Computing negative curvature direction for scaled tau = 0.00299435\n",
      "Spectra unsuccessful after 9 iterations\n",
      "Negative curvature direction calculation failed\n",
      "113\t4.6065e-05\t2.84259e-07\t2.84259e-07\t1\t1\n",
      "Computing negative curvature direction for scaled tau = 0.00299435\n",
      "Spectra unsuccessful after 9 iterations\n",
      "Negative curvature direction calculation failed\n",
      "114\t4.6065e-05\t2.81302e-07\t2.81302e-07\t1\t1\n",
      "Computing negative curvature direction for scaled tau = 0.00299435\n",
      "Spectra unsuccessful after 9 iterations\n",
      "Negative curvature direction calculation failed\n",
      "115\t4.6065e-05\t2.78447e-07\t2.78447e-07\t1\t1\n",
      "Computing negative curvature direction for scaled tau = 0.00299435\n",
      "Spectra unsuccessful after 9 iterations\n",
      "Negative curvature direction calculation failed\n",
      "116\t4.6065e-05\t2.75688e-07\t2.75688e-07\t1\t1\n",
      "Computing negative curvature direction for scaled tau = 0.00299435\n",
      "Spectra unsuccessful after 9 iterations\n",
      "Negative curvature direction calculation failed\n",
      "117\t4.6065e-05\t2.73023e-07\t2.73023e-07\t1\t1\n",
      "Computing negative curvature direction for scaled tau = 0.00299435\n",
      "Spectra unsuccessful after 9 iterations\n",
      "Negative curvature direction calculation failed\n",
      "118\t4.6065e-05\t2.70445e-07\t2.70445e-07\t1\t1\n",
      "Computing negative curvature direction for scaled tau = 0.00299435\n",
      "Spectra unsuccessful after 9 iterations\n",
      "Negative curvature direction calculation failed\n",
      "119\t4.6065e-05\t2.67952e-07\t2.67952e-07\t1\t1\n",
      "Computing negative curvature direction for scaled tau = 0.00299435\n",
      "Spectra unsuccessful after 9 iterations\n",
      "Negative curvature direction calculation failed\n",
      "120\t4.6065e-05\t2.65539e-07\t2.65539e-07\t1\t1\n",
      "Computing negative curvature direction for scaled tau = 0.00299435\n",
      "Spectra unsuccessful after 9 iterations\n",
      "Negative curvature direction calculation failed\n",
      "121\t4.6065e-05\t2.63204e-07\t2.63204e-07\t1\t1\n",
      "Computing negative curvature direction for scaled tau = 0.00299435\n",
      "Spectra unsuccessful after 9 iterations\n",
      "Negative curvature direction calculation failed\n",
      "122\t4.6065e-05\t2.60942e-07\t2.60942e-07\t1\t1\n",
      "Computing negative curvature direction for scaled tau = 0.00299435\n",
      "Spectra unsuccessful after 9 iterations\n",
      "Negative curvature direction calculation failed\n",
      "123\t4.6065e-05\t2.5875e-07\t2.5875e-07\t1\t1\n",
      "Computing negative curvature direction for scaled tau = 0.00299435\n",
      "Spectra unsuccessful after 9 iterations\n",
      "Negative curvature direction calculation failed\n",
      "124\t4.60649e-05\t2.56625e-07\t2.56625e-07\t1\t1\n",
      "Computing negative curvature direction for scaled tau = 0.00299435\n",
      "Spectra unsuccessful after 9 iterations\n",
      "Negative curvature direction calculation failed\n",
      "125\t4.60649e-05\t2.54565e-07\t2.54565e-07\t1\t1\n",
      "Computing negative curvature direction for scaled tau = 0.00299435\n",
      "Spectra unsuccessful after 9 iterations\n",
      "Negative curvature direction calculation failed\n",
      "126\t4.60649e-05\t2.52567e-07\t2.52567e-07\t1\t1\n",
      "Computing negative curvature direction for scaled tau = 0.00299435\n",
      "Spectra unsuccessful after 9 iterations\n",
      "Negative curvature direction calculation failed\n",
      "127\t4.60649e-05\t2.50627e-07\t2.50627e-07\t1\t1\n",
      "Computing negative curvature direction for scaled tau = 0.00299435\n",
      "Spectra unsuccessful after 9 iterations\n",
      "Negative curvature direction calculation failed\n",
      "128\t4.60649e-05\t2.48745e-07\t2.48745e-07\t1\t1\n",
      "Computing negative curvature direction for scaled tau = 0.00299435\n",
      "Spectra unsuccessful after 9 iterations\n",
      "Negative curvature direction calculation failed\n",
      "129\t4.60649e-05\t2.46916e-07\t2.46916e-07\t1\t1\n",
      "Computing negative curvature direction for scaled tau = 0.00299435\n",
      "Spectra unsuccessful after 9 iterations\n",
      "Negative curvature direction calculation failed\n",
      "130\t4.60649e-05\t2.4514e-07\t2.4514e-07\t1\t1\n",
      "Computing negative curvature direction for scaled tau = 0.00299435\n",
      "Spectra unsuccessful after 9 iterations\n",
      "Negative curvature direction calculation failed\n",
      "131\t4.60649e-05\t2.43414e-07\t2.43414e-07\t1\t1\n",
      "Computing negative curvature direction for scaled tau = 0.00299435\n",
      "Spectra unsuccessful after 9 iterations\n",
      "Negative curvature direction calculation failed\n",
      "132\t4.60649e-05\t2.41736e-07\t2.41736e-07\t1\t1\n",
      "Computing negative curvature direction for scaled tau = 0.00299435\n",
      "Spectra unsuccessful after 9 iterations\n",
      "Negative curvature direction calculation failed\n",
      "133\t4.60649e-05\t2.40104e-07\t2.40104e-07\t1\t1\n",
      "Computing negative curvature direction for scaled tau = 0.00299435\n",
      "Spectra unsuccessful after 9 iterations\n",
      "Negative curvature direction calculation failed\n",
      "134\t4.60649e-05\t2.38517e-07\t2.38517e-07\t1\t1\n",
      "Computing negative curvature direction for scaled tau = 0.00299435\n",
      "Spectra unsuccessful after 9 iterations\n",
      "Negative curvature direction calculation failed\n",
      "135\t4.60649e-05\t2.36972e-07\t2.36972e-07\t1\t1\n",
      "Computing negative curvature direction for scaled tau = 0.00299435\n",
      "Spectra unsuccessful after 9 iterations\n",
      "Negative curvature direction calculation failed\n",
      "136\t4.60649e-05\t2.35468e-07\t2.35468e-07\t1\t1\n",
      "Computing negative curvature direction for scaled tau = 0.00299435\n",
      "Spectra unsuccessful after 9 iterations\n",
      "Negative curvature direction calculation failed\n",
      "137\t4.60649e-05\t2.34004e-07\t2.34004e-07\t1\t1\n",
      "Computing negative curvature direction for scaled tau = 0.00299435\n",
      "Spectra unsuccessful after 9 iterations\n",
      "Negative curvature direction calculation failed\n",
      "138\t4.60649e-05\t2.32577e-07\t2.32577e-07\t1\t1\n",
      "Computing negative curvature direction for scaled tau = 0.00299435\n",
      "Spectra unsuccessful after 9 iterations\n",
      "Negative curvature direction calculation failed\n",
      "139\t4.60649e-05\t2.31188e-07\t2.31188e-07\t1\t1\n",
      "Computing negative curvature direction for scaled tau = 0.00299435\n",
      "Spectra unsuccessful after 9 iterations\n",
      "Negative curvature direction calculation failed\n",
      "140\t4.60649e-05\t2.29833e-07\t2.29833e-07\t1\t1\n",
      "Computing negative curvature direction for scaled tau = 0.00299435\n",
      "Spectra unsuccessful after 9 iterations\n",
      "Negative curvature direction calculation failed\n",
      "141\t4.60649e-05\t2.28512e-07\t2.28512e-07\t1\t1\n",
      "Computing negative curvature direction for scaled tau = 0.00299435\n",
      "Spectra unsuccessful after 9 iterations\n",
      "Negative curvature direction calculation failed\n",
      "142\t4.60649e-05\t2.27224e-07\t2.27224e-07\t1\t1\n",
      "Computing negative curvature direction for scaled tau = 0.00299435\n",
      "Spectra unsuccessful after 9 iterations\n",
      "Negative curvature direction calculation failed\n",
      "143\t4.60649e-05\t2.25968e-07\t2.25968e-07\t1\t1\n",
      "Computing negative curvature direction for scaled tau = 0.00299435\n",
      "Spectra unsuccessful after 9 iterations\n",
      "Negative curvature direction calculation failed\n",
      "144\t4.60649e-05\t2.24742e-07\t2.24742e-07\t1\t1\n",
      "Computing negative curvature direction for scaled tau = 0.00299435\n",
      "Spectra unsuccessful after 9 iterations\n",
      "Negative curvature direction calculation failed\n",
      "145\t4.60649e-05\t2.23545e-07\t2.23545e-07\t1\t1\n",
      "Computing negative curvature direction for scaled tau = 0.00299435\n",
      "Spectra unsuccessful after 9 iterations\n",
      "Negative curvature direction calculation failed\n",
      "146\t4.60649e-05\t2.22376e-07\t2.22376e-07\t1\t1\n",
      "Computing negative curvature direction for scaled tau = 0.00299435\n",
      "Spectra unsuccessful after 9 iterations\n",
      "Negative curvature direction calculation failed\n",
      "147\t4.60649e-05\t2.21235e-07\t2.21235e-07\t1\t1\n",
      "Computing negative curvature direction for scaled tau = 0.00299435\n",
      "Spectra unsuccessful after 9 iterations\n",
      "Negative curvature direction calculation failed\n",
      "148\t4.60649e-05\t2.2012e-07\t2.2012e-07\t1\t1\n",
      "Computing negative curvature direction for scaled tau = 0.00299435\n",
      "Spectra unsuccessful after 9 iterations\n",
      "Negative curvature direction calculation failed\n",
      "149\t4.60649e-05\t2.19031e-07\t2.19031e-07\t1\t1\n",
      "Computing negative curvature direction for scaled tau = 0.00299435\n",
      "Spectra unsuccessful after 9 iterations\n",
      "Negative curvature direction calculation failed\n",
      "150\t4.60649e-05\t2.17966e-07\t2.17966e-07\t1\t1\n",
      "Computing negative curvature direction for scaled tau = 0.00299435\n",
      "Spectra unsuccessful after 9 iterations\n",
      "Negative curvature direction calculation failed\n",
      "151\t4.60649e-05\t2.16925e-07\t2.16925e-07\t1\t1\n",
      "Computing negative curvature direction for scaled tau = 0.00299435\n",
      "Spectra unsuccessful after 9 iterations\n",
      "Negative curvature direction calculation failed\n",
      "152\t4.60649e-05\t2.15907e-07\t2.15907e-07\t1\t1\n",
      "Computing negative curvature direction for scaled tau = 0.00299435\n",
      "Spectra unsuccessful after 9 iterations\n",
      "Negative curvature direction calculation failed\n",
      "153\t4.60649e-05\t2.14912e-07\t2.14912e-07\t1\t1\n",
      "Computing negative curvature direction for scaled tau = 0.00299435\n",
      "Spectra unsuccessful after 9 iterations\n",
      "Negative curvature direction calculation failed\n",
      "154\t4.60649e-05\t2.13937e-07\t2.13937e-07\t1\t1\n",
      "Computing negative curvature direction for scaled tau = 0.00299435\n",
      "Spectra unsuccessful after 9 iterations\n",
      "Negative curvature direction calculation failed\n",
      "155\t4.60649e-05\t2.12984e-07\t2.12984e-07\t1\t1\n",
      "Computing negative curvature direction for scaled tau = 0.00299435\n",
      "Spectra unsuccessful after 9 iterations\n",
      "Negative curvature direction calculation failed\n",
      "156\t4.60649e-05\t2.12051e-07\t2.12051e-07\t1\t1\n",
      "Computing negative curvature direction for scaled tau = 0.00299435\n",
      "Spectra unsuccessful after 9 iterations\n",
      "Negative curvature direction calculation failed\n",
      "157\t4.60649e-05\t2.11137e-07\t2.11137e-07\t1\t1\n",
      "Computing negative curvature direction for scaled tau = 0.00299435\n",
      "Spectra unsuccessful after 9 iterations\n",
      "Negative curvature direction calculation failed\n",
      "158\t4.60649e-05\t2.10242e-07\t2.10242e-07\t1\t1\n",
      "Computing negative curvature direction for scaled tau = 0.00299435\n",
      "Spectra unsuccessful after 9 iterations\n",
      "Negative curvature direction calculation failed\n",
      "159\t4.60649e-05\t2.09365e-07\t2.09365e-07\t1\t1\n",
      "Computing negative curvature direction for scaled tau = 0.00299435\n",
      "Spectra unsuccessful after 9 iterations\n",
      "Negative curvature direction calculation failed\n",
      "160\t4.60649e-05\t2.08506e-07\t2.08506e-07\t1\t1\n",
      "Computing negative curvature direction for scaled tau = 0.00299435\n",
      "Spectra unsuccessful after 9 iterations\n",
      "Negative curvature direction calculation failed\n",
      "161\t4.60649e-05\t2.07664e-07\t2.07664e-07\t1\t1\n",
      "Computing negative curvature direction for scaled tau = 0.00299435\n",
      "Spectra unsuccessful after 9 iterations\n",
      "Negative curvature direction calculation failed\n",
      "162\t4.60649e-05\t2.06839e-07\t2.06839e-07\t1\t1\n",
      "Computing negative curvature direction for scaled tau = 0.00299435\n",
      "Spectra unsuccessful after 9 iterations\n",
      "Negative curvature direction calculation failed\n",
      "163\t4.60649e-05\t2.0603e-07\t2.0603e-07\t1\t1\n",
      "Computing negative curvature direction for scaled tau = 0.00299435\n",
      "Spectra unsuccessful after 9 iterations\n",
      "Negative curvature direction calculation failed\n",
      "164\t4.60649e-05\t2.05236e-07\t2.05236e-07\t1\t1\n",
      "Computing negative curvature direction for scaled tau = 0.00299435\n",
      "Spectra unsuccessful after 9 iterations\n",
      "Negative curvature direction calculation failed\n",
      "165\t4.60649e-05\t2.04458e-07\t2.04458e-07\t1\t1\n",
      "Computing negative curvature direction for scaled tau = 0.00299435\n",
      "Spectra unsuccessful after 9 iterations\n",
      "Negative curvature direction calculation failed\n",
      "166\t4.60649e-05\t2.03694e-07\t2.03694e-07\t1\t1\n",
      "Computing negative curvature direction for scaled tau = 0.00299435\n",
      "Spectra unsuccessful after 9 iterations\n",
      "Negative curvature direction calculation failed\n",
      "167\t4.60649e-05\t2.02945e-07\t2.02945e-07\t1\t1\n",
      "Computing negative curvature direction for scaled tau = 0.00299435\n",
      "Spectra unsuccessful after 9 iterations\n",
      "Negative curvature direction calculation failed\n",
      "168\t4.60649e-05\t2.02209e-07\t2.02209e-07\t1\t1\n",
      "Computing negative curvature direction for scaled tau = 0.00299435\n",
      "Spectra unsuccessful after 9 iterations\n",
      "Negative curvature direction calculation failed\n",
      "169\t4.60649e-05\t2.01487e-07\t2.01487e-07\t1\t1\n",
      "Computing negative curvature direction for scaled tau = 0.00299435\n",
      "Spectra unsuccessful after 9 iterations\n",
      "Negative curvature direction calculation failed\n",
      "170\t4.60648e-05\t2.00778e-07\t2.00778e-07\t1\t1\n",
      "Computing negative curvature direction for scaled tau = 0.00299435\n",
      "Spectra unsuccessful after 9 iterations\n",
      "Negative curvature direction calculation failed\n",
      "171\t4.60648e-05\t2.00081e-07\t2.00081e-07\t1\t1\n",
      "Computing negative curvature direction for scaled tau = 0.00299435\n",
      "Spectra unsuccessful after 9 iterations\n",
      "Negative curvature direction calculation failed\n",
      "172\t4.60648e-05\t1.99397e-07\t1.99397e-07\t1\t1\n",
      "Computing negative curvature direction for scaled tau = 0.00299435\n",
      "Spectra unsuccessful after 9 iterations\n",
      "Negative curvature direction calculation failed\n",
      "173\t4.60648e-05\t1.98725e-07\t1.98725e-07\t1\t1\n",
      "Computing negative curvature direction for scaled tau = 0.00299435\n",
      "Spectra unsuccessful after 9 iterations\n",
      "Negative curvature direction calculation failed\n",
      "174\t4.60648e-05\t1.98064e-07\t1.98064e-07\t1\t1\n",
      "Computing negative curvature direction for scaled tau = 0.00299435\n",
      "Spectra unsuccessful after 9 iterations\n",
      "Negative curvature direction calculation failed\n",
      "175\t4.60648e-05\t1.97415e-07\t1.97415e-07\t1\t1\n",
      "Computing negative curvature direction for scaled tau = 0.00299435\n",
      "Spectra unsuccessful after 9 iterations\n",
      "Negative curvature direction calculation failed\n",
      "176\t4.60648e-05\t1.96776e-07\t1.96776e-07\t1\t1\n",
      "Computing negative curvature direction for scaled tau = 0.00299435\n",
      "Spectra unsuccessful after 9 iterations\n",
      "Negative curvature direction calculation failed\n",
      "177\t4.60648e-05\t1.96148e-07\t1.96148e-07\t1\t1\n",
      "Computing negative curvature direction for scaled tau = 0.00299435\n",
      "Spectra unsuccessful after 9 iterations\n",
      "Negative curvature direction calculation failed\n",
      "178\t4.60648e-05\t1.95531e-07\t1.95531e-07\t1\t1\n",
      "Computing negative curvature direction for scaled tau = 0.00299435\n",
      "Spectra unsuccessful after 9 iterations\n",
      "Negative curvature direction calculation failed\n",
      "179\t4.60648e-05\t1.94924e-07\t1.94924e-07\t1\t1\n",
      "Computing negative curvature direction for scaled tau = 0.00299435\n",
      "Spectra unsuccessful after 9 iterations\n",
      "Negative curvature direction calculation failed\n",
      "180\t4.60648e-05\t1.94326e-07\t1.94326e-07\t1\t1\n",
      "Computing negative curvature direction for scaled tau = 0.00299435\n",
      "Spectra unsuccessful after 9 iterations\n",
      "Negative curvature direction calculation failed\n",
      "181\t4.60648e-05\t1.93738e-07\t1.93738e-07\t1\t1\n",
      "Computing negative curvature direction for scaled tau = 0.00299435\n",
      "Spectra unsuccessful after 9 iterations\n",
      "Negative curvature direction calculation failed\n",
      "182\t4.60648e-05\t1.93159e-07\t1.93159e-07\t1\t1\n",
      "Computing negative curvature direction for scaled tau = 0.00299435\n",
      "Spectra unsuccessful after 9 iterations\n",
      "Negative curvature direction calculation failed\n",
      "183\t4.60648e-05\t1.9259e-07\t1.9259e-07\t1\t1\n",
      "Computing negative curvature direction for scaled tau = 0.00299435\n",
      "Spectra unsuccessful after 9 iterations\n",
      "Negative curvature direction calculation failed\n",
      "184\t4.60648e-05\t1.92029e-07\t1.92029e-07\t1\t1\n",
      "Computing negative curvature direction for scaled tau = 0.00299435\n",
      "Spectra unsuccessful after 9 iterations\n",
      "Negative curvature direction calculation failed\n",
      "185\t4.60648e-05\t1.91477e-07\t1.91477e-07\t1\t1\n",
      "Computing negative curvature direction for scaled tau = 0.00299435\n",
      "Spectra unsuccessful after 9 iterations\n",
      "Negative curvature direction calculation failed\n",
      "186\t4.60648e-05\t1.90933e-07\t1.90933e-07\t1\t1\n",
      "Computing negative curvature direction for scaled tau = 0.00299435\n",
      "Spectra unsuccessful after 9 iterations\n",
      "Negative curvature direction calculation failed\n",
      "187\t4.60648e-05\t1.90397e-07\t1.90397e-07\t1\t1\n",
      "Computing negative curvature direction for scaled tau = 0.00299435\n",
      "Spectra unsuccessful after 9 iterations\n",
      "Negative curvature direction calculation failed\n",
      "188\t4.60648e-05\t1.89869e-07\t1.89869e-07\t1\t1\n",
      "Computing negative curvature direction for scaled tau = 0.00299435\n",
      "Spectra unsuccessful after 9 iterations\n",
      "Negative curvature direction calculation failed\n",
      "189\t4.60648e-05\t1.89349e-07\t1.89349e-07\t1\t1\n",
      "Computing negative curvature direction for scaled tau = 0.00299435\n",
      "Spectra unsuccessful after 9 iterations\n",
      "Negative curvature direction calculation failed\n",
      "190\t4.60648e-05\t1.88836e-07\t1.88836e-07\t1\t1\n",
      "Computing negative curvature direction for scaled tau = 0.00299435\n",
      "Spectra unsuccessful after 9 iterations\n",
      "Negative curvature direction calculation failed\n",
      "191\t4.60648e-05\t1.88331e-07\t1.88331e-07\t1\t1\n",
      "Computing negative curvature direction for scaled tau = 0.00299435\n",
      "Spectra unsuccessful after 9 iterations\n",
      "Negative curvature direction calculation failed\n",
      "192\t4.60648e-05\t1.87833e-07\t1.87833e-07\t1\t1\n",
      "Computing negative curvature direction for scaled tau = 0.00299435\n",
      "Spectra unsuccessful after 9 iterations\n",
      "Negative curvature direction calculation failed\n",
      "193\t4.60648e-05\t1.87342e-07\t1.87342e-07\t1\t1\n",
      "Computing negative curvature direction for scaled tau = 0.00299435\n",
      "Spectra unsuccessful after 9 iterations\n",
      "Negative curvature direction calculation failed\n",
      "194\t4.60648e-05\t1.86857e-07\t1.86857e-07\t1\t1\n",
      "Computing negative curvature direction for scaled tau = 0.00299435\n",
      "Spectra unsuccessful after 9 iterations\n",
      "Negative curvature direction calculation failed\n",
      "195\t4.60648e-05\t1.8638e-07\t1.8638e-07\t1\t1\n",
      "Computing negative curvature direction for scaled tau = 0.00299435\n",
      "Spectra unsuccessful after 9 iterations\n",
      "Negative curvature direction calculation failed\n",
      "196\t4.60648e-05\t1.85908e-07\t1.85908e-07\t1\t1\n",
      "Computing negative curvature direction for scaled tau = 0.00299435\n",
      "Spectra unsuccessful after 9 iterations\n",
      "Negative curvature direction calculation failed\n",
      "197\t4.60648e-05\t1.85443e-07\t1.85443e-07\t1\t1\n",
      "Computing negative curvature direction for scaled tau = 0.00299435\n",
      "Spectra unsuccessful after 9 iterations\n",
      "Negative curvature direction calculation failed\n",
      "198\t4.60648e-05\t1.84985e-07\t1.84985e-07\t1\t1\n",
      "Computing negative curvature direction for scaled tau = 0.00299435\n",
      "Spectra unsuccessful after 9 iterations\n",
      "Negative curvature direction calculation failed\n",
      "199\t4.60648e-05\t1.84532e-07\t1.84532e-07\t1\t1\n",
      "200\t4.60648e-05\t1.84085e-07\t1.84085e-07\t1\t1\n"
     ]
    },
    {
     "data": {
      "text/plain": [
       "<elastic_rods.ConvergenceReport at 0x131a8b570>"
      ]
     },
     "execution_count": 34,
     "metadata": {},
     "output_type": "execute_result"
    }
   ],
   "source": [
    "elastic_rods.compute_equilibrium(curved_linkage, callback = eqm_callback, options = OPTS, fixedVars = [])"
   ]
  },
  {
   "cell_type": "code",
   "execution_count": 36,
   "metadata": {},
   "outputs": [],
   "source": [
    "optimizer = initialize_stage_2_optimizer(curved_linkage, io.SURFACE_PATH, curved_save_tgt_joint_pos, curved_linkage_view, rw, sw, fixed_boundary_joint = [])"
   ]
  },
  {
   "cell_type": "code",
   "execution_count": 37,
   "metadata": {},
   "outputs": [],
   "source": [
    "optimizer.setLinkageAttractionWeight(1e-5)"
   ]
  },
  {
   "cell_type": "code",
   "execution_count": 16,
   "metadata": {},
   "outputs": [
    {
     "name": "stdout",
     "output_type": "stream",
     "text": [
      "Coefficient of Friction Percentiles 50, 75, 90:  0.5544631096334198 1.0782408003513966 2.602501770203861\n"
     ]
    },
    {
     "data": {
      "application/vnd.jupyter.widget-view+json": {
       "model_id": "9a1aaece1bbf468ab80721ea1eba2217",
       "version_major": 2,
       "version_minor": 0
      },
      "text/plain": [
       "HBox(children=(Renderer(camera=PerspectiveCamera(children=(PointLight(color='#999999', position=(0.0, 0.0, 5.0…"
      ]
     },
     "metadata": {},
     "output_type": "display_data"
    },
    {
     "data": {
      "image/png": "[encoded data removed]",
      "text/plain": [
       "<Figure size 1080x288 with 4 Axes>"
      ]
     },
     "metadata": {
      "needs_background": "light"
     },
     "output_type": "display_data"
    }
   ],
   "source": [
    "structure_view = get_structure_analysis_view(curved_linkage)\n",
    "structure_view.show()"
   ]
  },
  {
   "cell_type": "code",
   "execution_count": null,
   "metadata": {},
   "outputs": [],
   "source": [
    "contact_optimization(optimizer, curved_linkage_view, -1, 1e4)"
   ]
  },
  {
   "cell_type": "code",
   "execution_count": 21,
   "metadata": {},
   "outputs": [
    {
     "name": "stdout",
     "output_type": "stream",
     "text": [
      "Coefficient of Friction Percentiles 50, 75, 90:  2.470886043889795 5.2513449141158866 9.571366017712904\n"
     ]
    },
    {
     "data": {
      "application/vnd.jupyter.widget-view+json": {
       "model_id": "212e93cf8047402ebcdd2694db24a873",
       "version_major": 2,
       "version_minor": 0
      },
      "text/plain": [
       "HBox(children=(Renderer(camera=PerspectiveCamera(children=(PointLight(color='#999999', position=(0.0, 0.0, 5.0…"
      ]
     },
     "metadata": {},
     "output_type": "display_data"
    },
    {
     "data": {
      "image/png": "[encoded data removed]",
      "text/plain": [
       "<Figure size 1080x288 with 4 Axes>"
      ]
     },
     "metadata": {
      "needs_background": "light"
     },
     "output_type": "display_data"
    }
   ],
   "source": [
    "structure_view_2 = get_structure_analysis_view(curved_linkage)\n",
    "structure_view_2.show()"
   ]
  },
  {
   "cell_type": "code",
   "execution_count": null,
   "metadata": {},
   "outputs": [],
   "source": []
  }
 ],
 "metadata": {
  "kernelspec": {
   "display_name": "Python 3",
   "language": "python",
   "name": "python3"
  },
  "language_info": {
   "codemirror_mode": {
    "name": "ipython",
    "version": 3
   },
   "file_extension": ".py",
   "mimetype": "text/x-python",
   "name": "python",
   "nbconvert_exporter": "python",
   "pygments_lexer": "ipython3",
   "version": "3.7.9"
  }
 },
 "nbformat": 4,
 "nbformat_minor": 4
}
