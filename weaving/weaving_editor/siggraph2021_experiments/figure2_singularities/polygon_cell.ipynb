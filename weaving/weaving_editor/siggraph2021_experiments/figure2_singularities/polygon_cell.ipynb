{
 "cells": [
  {
   "cell_type": "code",
   "execution_count": 9,
   "metadata": {},
   "outputs": [],
   "source": [
    "elastic_rods_dir = '../../../../elastic_rods/python/'\n",
    "weaving_dir = '../../../'\n",
    "import os\n",
    "import os.path as osp\n",
    "import sys; sys.path.append(elastic_rods_dir); sys.path.append(weaving_dir)\n",
    "import numpy as np, elastic_rods, linkage_vis\n",
    "import numpy.linalg as la\n",
    "from bending_validation import suppress_stdout as so\n",
    "import matplotlib.pyplot as plt\n",
    "from elastic_rods import EnergyType, InterleavingType\n",
    "\n",
    "# weaving\n",
    "import analysis_helper, ribbon_linkage_helper, mesh_vis, linkage_utils, compute_curve_from_curvature, pipeline_helper, importlib\n",
    "importlib.reload(analysis_helper)\n",
    "importlib.reload(ribbon_linkage_helper)\n",
    "importlib.reload(mesh_vis)\n",
    "importlib.reload(linkage_utils)\n",
    "importlib.reload(compute_curve_from_curvature)\n",
    "importlib.reload(pipeline_helper)\n",
    "from analysis_helper import (compare_turning_angle,\n",
    "                            is_on_sphere, \n",
    "                            get_distance_to_center_scalar_field, \n",
    "                            plot_curvatures, \n",
    "                            get_curvature_scalar_field,\n",
    "                            construct_elastic_rod_loop_from_rod_segments, \n",
    "                            concatenate_rod_properties_from_rod_segments, \n",
    "                            compute_min_distance_rigid_transformation)\n",
    "from ribbon_linkage_helper import (update_rest_curvature, \n",
    "                                   set_ribbon_linkage,\n",
    "                                   export_linkage_geometry_to_obj,\n",
    "                                   write_linkage_ribbon_output_florin)\n",
    "\n",
    "from compute_curve_from_curvature import (match_geo_curvature_and_edge_len, get_all_curve_pattern)\n",
    "from linkage_utils import order_segments_by_ribbons, get_turning_angle_and_length_from_ordered_rods\n",
    "\n",
    "from pipeline_helper import (initialize_linkage, get_normal_deviation, set_joint_vector_field, stage_1_optimization, initialize_stage_2_optimizer, stage_2_optimization, InputOrganizer, write_all_output, set_surface_view_options, get_structure_analysis_view, contact_optimization, get_double_side_view, show_selected_joints, highlight_rod_and_joint)\n",
    "import vis.fields\n",
    "import matplotlib.cm as cm\n",
    "import time"
   ]
  },
  {
   "cell_type": "code",
   "execution_count": 36,
   "metadata": {},
   "outputs": [],
   "source": [
    "edge_length = 15\n",
    "cam_params = ((2.0787438565755934, 4.110669876049863, -1.9445352012461516),\n",
    " (-0.3012591112717844, -0.2789859717380453, -0.9118167444443614),\n",
    " (0.0, 0.0, 0.0))"
   ]
  },
  {
   "cell_type": "code",
   "execution_count": 11,
   "metadata": {},
   "outputs": [],
   "source": [
    "def get_radius(length, num_sides):\n",
    "    theta = np.pi * 2 / num_sides\n",
    "    beta = (np.pi - theta) / 2\n",
    "    radius = length * np.sin(beta) / np.sin(theta)\n",
    "    return radius"
   ]
  },
  {
   "cell_type": "code",
   "execution_count": 12,
   "metadata": {},
   "outputs": [],
   "source": [
    "def generate_polygon_module(poly_size, flat_start = True):\n",
    "    polygon = []\n",
    "    radius = get_radius(edge_length, poly_size)\n",
    "    for i in range(poly_size):\n",
    "        theta = 2 * np.pi / poly_size * i\n",
    "        point = np.array([radius * np.sin(theta), radius * np.cos(theta), 0])\n",
    "        polygon.append(point)\n",
    "\n",
    "    tips = []\n",
    "    if flat_start:\n",
    "        for i in range(poly_size):\n",
    "            mid = (polygon[i-1] + polygon[i]) / 2\n",
    "            height = la.norm(polygon[i-1] - polygon[i]) * np.sqrt(3) / 2\n",
    "            tips.append(mid + mid / la.norm(mid) * height)\n",
    "    else:\n",
    "        for i in range(poly_size):\n",
    "            mid = (polygon[i-1] + polygon[i]) / 2\n",
    "            height = np.array([0, 0, la.norm(polygon[i-1] - polygon[i]) * np.sqrt(3) / 2])\n",
    "            tips.append(mid + height)\n",
    "    \n",
    "    point_list = polygon + tips\n",
    "    edge_list = [(i + 1, i + 2) for i in range(poly_size - 1)] + [(poly_size, 1)] + [(i + 1, poly_size + i + 2) for i in range(poly_size - 1)]  + [(poly_size, poly_size + 1)] + [(i + 2, poly_size + i + 2) for i in range(poly_size - 1)] + [(1, poly_size + 1)]\n",
    "    polygon_path = 'polygon'\n",
    "    if not os.path.exists(polygon_path):\n",
    "        os.makedirs(polygon_path)\n",
    "\n",
    "    with open ('{}/{}_gon.obj'.format(polygon_path, poly_size), 'w') as f:\n",
    "        for point in point_list:\n",
    "            f.write('v {} {} {}\\n'.format(point[0], point[1], point[2]))\n",
    "        for edge in edge_list:\n",
    "            f.write('l {} {}\\n'.format(edge[0], edge[1]))"
   ]
  },
  {
   "cell_type": "code",
   "execution_count": 13,
   "metadata": {},
   "outputs": [],
   "source": [
    "for i in range(11)[3:]:\n",
    "    generate_polygon_module(i, flat_start = False)"
   ]
  },
  {
   "cell_type": "code",
   "execution_count": 44,
   "metadata": {},
   "outputs": [
    {
     "data": {
      "text/plain": [
       "285"
      ]
     },
     "execution_count": 44,
     "metadata": {},
     "output_type": "execute_result"
    }
   ],
   "source": [
    "unit_patch.numRestKappaVars()"
   ]
  },
  {
   "cell_type": "code",
   "execution_count": 46,
   "metadata": {},
   "outputs": [],
   "source": [
    "curvature_vector = np.zeros(unit_patch.numRestKappaVars())"
   ]
  },
  {
   "cell_type": "code",
   "execution_count": 64,
   "metadata": {},
   "outputs": [],
   "source": [
    "def render_polygon(poly_size = 5, curvature = 1):\n",
    "    cross_section = [3, 0.35]\n",
    "    model_path = 'polygon/{}_gon.obj'.format(poly_size)\n",
    "    subdivision_res = 20\n",
    "    poly_linkage = elastic_rods.RodLinkage(model_path, subdivision_res, False, rod_interleaving_type = InterleavingType.triaxialWeave)\n",
    "    driver=poly_linkage.centralJoint()\n",
    "    poly_linkage.setMaterial(elastic_rods.RodMaterial('rectangle', 2000, 0.3, cross_section, stiffAxis=elastic_rods.StiffAxis.D1))\n",
    "    jdo = poly_linkage.dofOffsetForJoint(0)\n",
    "    fixedVars = list(range(jdo, jdo + 6)) # fix rigid motion for a single joint    \n",
    "#     Set Curvature\n",
    "    num_curvature_per_edge = int(unit_patch.numRestKappaVars() / (poly_size * 3))\n",
    "    num_center_curvature = num_curvature_per_edge * poly_size\n",
    "    phi = curvature / num_curvature_per_edge\n",
    "    kappa = 2 * np.tan(phi / 2)\n",
    "    curvature_vector[:num_center_curvature] = np.ones(num_center_curvature) * kappa\n",
    "    poly_linkage.setRestKappaVars(curvature_vector)\n",
    "    \n",
    "    opts = elastic_rods.NewtonOptimizerOptions()\n",
    "    opts.niter = 10000\n",
    "    with so():\n",
    "        elastic_rods.compute_equilibrium(poly_linkage, fixedVars=fixedVars, options = opts)\n",
    "    new_poly_mod_view = get_double_side_view(poly_linkage, flip = True)\n",
    "    new_poly_mod_view.setCameraParams(cam_params)\n",
    "    return poly_linkage, new_poly_mod_view"
   ]
  },
  {
   "cell_type": "code",
   "execution_count": 81,
   "metadata": {},
   "outputs": [],
   "source": [
    "unit_patch, unit_view = render_polygon(poly_size = 5, curvature = 0.5)"
   ]
  },
  {
   "cell_type": "code",
   "execution_count": 82,
   "metadata": {},
   "outputs": [
    {
     "data": {
      "application/vnd.jupyter.widget-view+json": {
       "model_id": "83b1905d0b784bc2957aa19d083903a4",
       "version_major": 2,
       "version_minor": 0
      },
      "text/plain": [
       "Renderer(camera=PerspectiveCamera(aspect=1.6, children=(PointLight(color='white', intensity=0.6, position=(0.0…"
      ]
     },
     "metadata": {},
     "output_type": "display_data"
    }
   ],
   "source": [
    "unit_view.show()"
   ]
  },
  {
   "cell_type": "code",
   "execution_count": null,
   "metadata": {},
   "outputs": [],
   "source": []
  }
 ],
 "metadata": {
  "kernelspec": {
   "display_name": "Python 3",
   "language": "python",
   "name": "python3"
  },
  "language_info": {
   "codemirror_mode": {
    "name": "ipython",
    "version": 3
   },
   "file_extension": ".py",
   "mimetype": "text/x-python",
   "name": "python",
   "nbconvert_exporter": "python",
   "pygments_lexer": "ipython3",
   "version": "3.7.5"
  }
 },
 "nbformat": 4,
 "nbformat_minor": 4
}
