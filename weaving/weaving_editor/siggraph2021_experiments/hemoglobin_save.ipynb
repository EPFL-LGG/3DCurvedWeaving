{
 "cells": [
  {
   "cell_type": "code",
   "execution_count": 87,
   "metadata": {},
   "outputs": [],
   "source": [
    "elastic_rods_dir = '../../../elastic_rods/python/'\n",
    "weaving_dir = '../../'\n",
    "import os\n",
    "import os.path as osp\n",
    "import sys; sys.path.append(elastic_rods_dir); sys.path.append(weaving_dir)\n",
    "import numpy as np, elastic_rods, linkage_vis\n",
    "import numpy.linalg as la\n",
    "from bending_validation import suppress_stdout as so\n",
    "import matplotlib.pyplot as plt\n",
    "from elastic_rods import EnergyType, InterleavingType\n",
    "\n",
    "# weaving\n",
    "import analysis_helper, ribbon_linkage_helper, mesh_vis, linkage_utils, compute_curve_from_curvature, pipeline_helper, optimization_visualization_helper, importlib\n",
    "importlib.reload(analysis_helper)\n",
    "importlib.reload(ribbon_linkage_helper)\n",
    "importlib.reload(mesh_vis)\n",
    "importlib.reload(linkage_utils)\n",
    "importlib.reload(compute_curve_from_curvature)\n",
    "importlib.reload(pipeline_helper)\n",
    "importlib.reload(optimization_visualization_helper)\n",
    "from analysis_helper import (compare_turning_angle,\n",
    "                            is_on_sphere, \n",
    "                            get_distance_to_center_scalar_field, \n",
    "                            plot_curvatures, \n",
    "                            get_curvature_scalar_field,\n",
    "                            construct_elastic_rod_loop_from_rod_segments, \n",
    "                            concatenate_rod_properties_from_rod_segments, \n",
    "                            compute_min_distance_rigid_transformation)\n",
    "from ribbon_linkage_helper import (update_rest_curvature, \n",
    "                                   set_ribbon_linkage,\n",
    "                                   export_linkage_geometry_to_obj,\n",
    "                                   write_linkage_ribbon_output_florin)\n",
    "\n",
    "from compute_curve_from_curvature import (match_geo_curvature_and_edge_len, get_all_curve_pattern)\n",
    "from linkage_utils import order_segments_by_ribbons, get_turning_angle_and_length_from_ordered_rods\n",
    "\n",
    "from pipeline_helper import (initialize_linkage, get_normal_deviation, set_joint_vector_field, stage_1_optimization, initialize_stage_2_optimizer, stage_2_optimization, InputOrganizer, write_all_output, set_surface_view_options, get_structure_analysis_view, contact_optimization, get_double_side_view, show_selected_joints, highlight_rod_and_joint)\n",
    "import vis.fields\n",
    "import matplotlib.cm as cm\n",
    "import time\n",
<<<<<<< Updated upstream
    "from optimization_visualization_helper import (compute_visualization_data_from_raw_data, get_objective_components_stage1, get_objective_components_stage2, set_figure_label_and_limit, Visualization_Setting, plot_objective)"
=======
    "from optimization_visualization_helper import (compute_visualization_data_from_raw_data, get_objective_components_stage1, get_objective_components_stage2, get_objective_components_stage3, set_figure_label_and_limit, Visualization_Setting, plot_objective, plot_ribbon_component_analysis)\n"
>>>>>>> Stashed changes
   ]
  },
  {
   "cell_type": "code",
   "execution_count": 88,
   "metadata": {},
   "outputs": [],
   "source": [
    "import parallelism\n",
    "parallelism.set_max_num_tbb_threads(12)\n",
    "parallelism.set_hessian_assembly_num_threads(4)\n",
    "parallelism.set_gradient_assembly_num_threads(4)"
   ]
  },
  {
   "cell_type": "code",
   "execution_count": 89,
   "metadata": {},
   "outputs": [
    {
     "name": "stdout",
     "output_type": "stream",
     "text": [
      "0.0705413174488825 0.004937892221421775\n"
     ]
    }
   ],
   "source": [
    "rod_length = 0.21162395234664752\n",
    "width = rod_length / 15 * 5\n",
    "thickness = width / 5 * 0.35\n",
    "print(width, thickness)\n",
    "# width *= 0.5\n",
    "# thickness *= 0.5\n",
    "\n",
    "io = InputOrganizer('simple_hemoglobin_5_1', thickness, width, weaving_dir)\n",
    "#  [ ear 214, ear 255, nose 39]"
   ]
  },
  {
   "cell_type": "code",
   "execution_count": 90,
   "metadata": {},
   "outputs": [],
   "source": [
    "import py_newton_optimizer\n",
    "OPTS = py_newton_optimizer.NewtonOptimizerOptions()\n",
    "OPTS.gradTol = 1e-6\n",
    "OPTS.verbose = 1;\n",
    "OPTS.beta = 1e-8\n",
    "OPTS.niter = 200\n",
    "OPTS.verboseNonPosDef = False\n",
    "rw = 1\n",
    "sw = 10\n",
    "drw = 0.1\n",
    "dsw = 0.1"
   ]
  },
  {
   "cell_type": "code",
   "execution_count": 91,
   "metadata": {},
   "outputs": [],
   "source": [
    "import pickle \n",
    "import gzip\n",
    "# pickle.dump(curved_linkage, gzip.open('hemoglobin_test_20201202.pkl.gz', 'w'))\n",
    "# # pickle.load(gzip.open('hemoglobin_three_stages_results/hemoglobin_contact_opt_2020_1201.pkl.gz', 'r'))"
   ]
  },
  {
   "cell_type": "code",
   "execution_count": 92,
   "metadata": {},
   "outputs": [],
   "source": [
    "with so(): curved_linkage = initialize_linkage(surface_path = io.SURFACE_PATH, useCenterline = True, model_path = io.MODEL_PATH, cross_section = io.RIBBON_CS, subdivision_res = io.SUBDIVISION_RESOLUTION)\n",
    "curved_linkage.set_design_parameter_config(use_restLen = True, use_restKappa = True)\n",
    "curved_save_tgt_joint_pos = curved_linkage.jointPositions();\n",
    "# curved_linkage_view = linkage_vis.LinkageViewerWithSurface(curved_linkage, io.SURFACE_PATH)\n",
    "# set_surface_view_options(curved_linkage_view)\n",
    "# curved_linkage_view.show()"
   ]
  },
  {
   "cell_type": "code",
   "execution_count": 93,
   "metadata": {},
   "outputs": [
    {
     "data": {
      "application/vnd.jupyter.widget-view+json": {
       "model_id": "8a28e09b853b4041995c9bd58f2f6bf0",
       "version_major": 2,
       "version_minor": 0
      },
      "text/plain": [
       "Renderer(camera=PerspectiveCamera(children=(PointLight(color='white', intensity=0.6, position=(0.0, 0.0, 5.0),…"
      ]
     },
     "metadata": {},
     "output_type": "display_data"
    }
   ],
   "source": [
    "curved_linkage = pickle.load(gzip.open('hemoglobin_test_20201202.pkl.gz', 'r'))\n",
    "curved_linkage_view = linkage_vis.LinkageViewerWithSurface(curved_linkage, io.SURFACE_PATH)\n",
    "set_surface_view_options(curved_linkage_view, linkage_color='lightgreen')\n",
    "curved_linkage_view.show()"
   ]
  },
  {
   "cell_type": "code",
   "execution_count": 94,
   "metadata": {},
   "outputs": [],
   "source": [
    "set_surface_view_options(curved_linkage_view, surface_transparent = True)"
   ]
  },
  {
   "cell_type": "code",
   "execution_count": 95,
   "metadata": {
    "scrolled": true
   },
   "outputs": [],
   "source": [
    "# iterateData = stage_1_optimization(curved_linkage, drw, dsw, curved_linkage_view)"
   ]
  },
  {
   "cell_type": "code",
   "execution_count": 96,
   "metadata": {},
   "outputs": [],
   "source": [
    "# curved_linkage.setExtendedDoFsPSRL(np.load('results/simple_hemoglobin_5_1/simple_hemoglobin_5_1_dof.npy'))"
   ]
  },
  {
   "cell_type": "code",
   "execution_count": 97,
   "metadata": {},
   "outputs": [],
   "source": [
    "curved_linkage.attraction_weight = 1e-5"
   ]
  },
  {
   "cell_type": "code",
   "execution_count": 98,
   "metadata": {},
   "outputs": [],
   "source": [
    "def eqm_callback(prob, i):\n",
    "    pass\n",
    "#    curved_linkage_view.update()"
   ]
  },
  {
   "cell_type": "code",
   "execution_count": 99,
   "metadata": {
    "scrolled": true
   },
   "outputs": [
    {
     "name": "stdout",
     "output_type": "stream",
     "text": [
      "0\t0.000179907\t7.74382e-08\t7.74382e-08\t0\t0\n"
     ]
    },
    {
     "data": {
      "text/plain": [
       "<elastic_rods.ConvergenceReport at 0x1301df730>"
      ]
     },
     "execution_count": 99,
     "metadata": {},
     "output_type": "execute_result"
    }
   ],
   "source": [
    "elastic_rods.compute_equilibrium(curved_linkage, callback = eqm_callback, options = OPTS)\n",
    "curved_linkage_view.update()"
   ]
  },
  {
   "cell_type": "code",
   "execution_count": null,
   "metadata": {},
   "outputs": [],
   "source": [
    "import vis\n",
    "from matplotlib import cm\n",
    "\n",
    "stress = curved_linkage.maxBendingStresses()\n",
    "#stress = curved_linkage.twistingStresses()\n",
    "rangeMin = np.stack(stress).min()\n",
    "rangeMax = np.stack(stress).max()\n",
    "sf = vis.fields.ScalarField(curved_linkage, stress, colormap=cm.magma, vmin=rangeMin, vmax=rangeMax)\n",
    "\n",
    "curved_linkage_view.showScalarField(sf)"
   ]
  },
  {
   "cell_type": "code",
   "execution_count": null,
   "metadata": {},
   "outputs": [],
   "source": [
    "orender = curved_linkage_view.offscreenRenderer(width=2048, height=2048)\n",
    "orender.render()\n",
    "orender.image()"
   ]
  },
  {
   "cell_type": "code",
   "execution_count": null,
   "metadata": {},
   "outputs": [],
   "source": [
    "orender.save('hemoglobin.png')"
   ]
  },
  {
   "cell_type": "code",
   "execution_count": 100,
   "metadata": {},
   "outputs": [],
   "source": [
    "optimizer = initialize_stage_2_optimizer(curved_linkage, io.SURFACE_PATH, curved_save_tgt_joint_pos, curved_linkage_view, rw, sw, inner_gradTol = 1e-7)"
   ]
  },
  {
   "cell_type": "code",
   "execution_count": 18,
   "metadata": {},
   "outputs": [],
   "source": [
    "# curved_linkage.setMaterial(elastic_rods.RodMaterial('rectangle', 2000, 0.3, [thickness, width], stiffAxis=elastic_rods.StiffAxis.D1))"
   ]
  },
  {
   "cell_type": "code",
   "execution_count": null,
   "metadata": {},
   "outputs": [],
   "source": [
    "optimizer, opt_iterateData, weight_change_iterations = stage_2_optimization(optimizer, curved_linkage, io.SURFACE_PATH, curved_save_tgt_joint_pos, curved_linkage_view, -1, -3, 3, return_weight_change_iteration = True)"
   ]
  },
  {
   "cell_type": "code",
   "execution_count": 20,
   "metadata": {},
   "outputs": [
    {
     "data": {
      "text/plain": [
       "0.1464447962106876"
      ]
     },
     "execution_count": 20,
     "metadata": {},
     "output_type": "execute_result"
    }
   ],
   "source": [
    "min(curved_linkage.getPerSegmentRestLength())"
   ]
  },
  {
   "cell_type": "code",
   "execution_count": 21,
   "metadata": {
    "scrolled": true
   },
   "outputs": [],
   "source": [
    "# save_path = os.getcwd()\n",
    "# write_all_output(curved_linkage, io.SUBDIVISION_RESOLUTION, io.MODEL_NAME, io.RIBBON_NAME, False, 100, min(io.RIBBON_CS), target_width = 5, flip_angles = False, width = max(io.RIBBON_CS))\n",
    "# os.chdir(save_path)"
   ]
  },
  {
   "cell_type": "code",
   "execution_count": 22,
   "metadata": {},
   "outputs": [],
   "source": [
    "# curved_linkage.setExtendedDoFsPSRL(np.load('results/simple_hemoglobin_5_1/simple_hemoglobin_5_1_dof.npy'))"
   ]
  },
  {
   "cell_type": "code",
   "execution_count": 23,
   "metadata": {},
   "outputs": [
    {
     "data": {
      "application/vnd.jupyter.widget-view+json": {
       "model_id": "8f5c6c657ab8492f922a79bfc357c956",
       "version_major": 2,
       "version_minor": 0
      },
      "text/plain": [
       "HBox(children=(Renderer(camera=PerspectiveCamera(children=(PointLight(color='white', intensity=0.6, position=(…"
      ]
     },
     "metadata": {},
     "output_type": "display_data"
    },
    {
     "data": {
      "image/png": "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\n",
      "text/plain": [
       "<Figure size 1080x288 with 4 Axes>"
      ]
     },
     "metadata": {
      "needs_background": "light"
     },
     "output_type": "display_data"
    }
   ],
   "source": [
    "structure_view = get_structure_analysis_view(curved_linkage)\n",
    "structure_view.show()"
   ]
  },
  {
   "cell_type": "code",
   "execution_count": 49,
   "metadata": {},
   "outputs": [],
   "source": [
    "# optimizer = initialize_stage_2_optimizer(curved_linkage, io.SURFACE_PATH, curved_save_tgt_joint_pos, curved_linkage_view, rw, sw)"
   ]
  },
  {
   "cell_type": "code",
   "execution_count": 50,
   "metadata": {},
   "outputs": [],
   "source": [
    "optimizer.beta = 1e6"
   ]
  },
  {
   "cell_type": "code",
   "execution_count": null,
   "metadata": {},
   "outputs": [],
   "source": [
    "optimizer, contact_opt_iterateData = contact_optimization(optimizer, curved_linkage, curved_linkage_view, minRestLen=0.14566537396077858, contact_weight = 1e6, normalWeight = 5, torqueWeight = 2, maxIter=200)"
   ]
  },
  {
   "cell_type": "code",
   "execution_count": null,
   "metadata": {},
   "outputs": [],
   "source": [
    "def set_weight_for_one_type(optimizer, curr_type):\n",
    "    optimizer.beta = 0\n",
    "    optimizer.gamma = 0\n",
    "    optimizer.smoothing_weight = 0\n",
    "    optimizer.rl_regularization_weight = 0\n",
    "    optimizer.contact_force_weight = 0\n",
    "    if curr_type == linkage_optimization.WeavingOptEnergyType.Full:\n",
    "        optimizer.beta = 5e5\n",
    "        optimizer.gamma = 1\n",
    "        optimizer.smoothing_weight = sw\n",
    "        optimizer.rl_regularization_weight = rw\n",
    "        optimizer.contact_force_weight = 1e4\n",
    "    elif curr_type == linkage_optimization.WeavingOptEnergyType.Target:\n",
    "        optimizer.beta = 5e5\n",
    "    elif curr_type == linkage_optimization.WeavingOptEnergyType.Smoothing:\n",
    "        optimizer.smoothing_weight = sw\n",
    "    elif curr_type == linkage_optimization.WeavingOptEnergyType.Regularization:\n",
    "        optimizer.rl_regularization_weight = rw\n",
    "    elif curr_type == linkage_optimization.WeavingOptEnergyType.Elastic:\n",
    "        optimizer.gamma = 1\n",
    "    elif curr_type == linkage_optimization.WeavingOptEnergyType.ContactForce:\n",
    "        optimizer.contact_force_weight = 1e4"
   ]
  },
  {
   "cell_type": "code",
   "execution_count": null,
   "metadata": {},
   "outputs": [],
   "source": [
    "import linkage_optimization\n",
    "import fd_weaver_editor"
   ]
  },
  {
   "cell_type": "code",
   "execution_count": null,
   "metadata": {},
   "outputs": [],
   "source": [
    "direction = np.random.uniform(0, 1, optimizer.numParams())"
   ]
  },
  {
   "cell_type": "code",
   "execution_count": null,
   "metadata": {},
   "outputs": [],
   "source": [
    "set_weight_for_one_type(optimizer, linkage_optimization.WeavingOptEnergyType.Full)\n",
    "fd_weaver_editor.gradient_convergence_plot(optimizer, direction, 'Full', linkage_optimization.WeavingOptEnergyType.Full)"
   ]
  },
  {
   "cell_type": "code",
   "execution_count": null,
   "metadata": {},
   "outputs": [],
   "source": [
    "second_structure_view = get_structure_analysis_view(curved_linkage)\n",
    "second_structure_view.show()"
   ]
  },
  {
   "cell_type": "code",
   "execution_count": null,
   "metadata": {},
   "outputs": [],
   "source": [
    "# np.save('hemoglobin_self_intersection_2020_1126.npy', curved_linkage.getExtendedDoFsPSRL())"
   ]
  },
  {
   "cell_type": "code",
   "execution_count": null,
   "metadata": {},
   "outputs": [],
   "source": [
    "# len(opt_iterateData)"
   ]
  },
  {
   "cell_type": "code",
   "execution_count": null,
   "metadata": {},
   "outputs": [],
   "source": [
    "len(contact_opt_iterateData)"
   ]
  },
  {
   "cell_type": "code",
   "execution_count": null,
   "metadata": {},
   "outputs": [],
   "source": [
    "# len(iterateData)"
   ]
  },
  {
   "cell_type": "code",
   "execution_count": null,
   "metadata": {},
   "outputs": [],
   "source": [
    "# import pickle\n",
    "# import gzip\n",
    "# pickle.dump(curved_linkage, gzip.open('hemoglobin_contact_opt_2020_1201.pkl.gz', 'w'))"
   ]
  },
  {
   "cell_type": "code",
   "execution_count": null,
   "metadata": {},
   "outputs": [],
   "source": [
    "# np.save('hemoglobin_contact_opt_data.npy', contact_opt_iterateData)"
   ]
  },
  {
   "cell_type": "code",
   "execution_count": null,
   "metadata": {},
   "outputs": [],
   "source": [
    "contact_forces = [curr_iter['ContactForce'] for curr_iter in contact_opt_iterateData]"
   ]
  },
  {
   "cell_type": "code",
   "execution_count": null,
   "metadata": {},
   "outputs": [],
   "source": [
    "elastic_energys = [curr_iter['ElasticEnergy'] for curr_iter in contact_opt_iterateData]"
   ]
  },
  {
   "cell_type": "code",
   "execution_count": null,
   "metadata": {},
   "outputs": [],
   "source": [
    "target_fitting = [curr_iter['TargetFitting'] for curr_iter in contact_opt_iterateData]"
   ]
  },
  {
   "cell_type": "code",
   "execution_count": null,
   "metadata": {},
   "outputs": [],
   "source": [
    "plt.plot(contact_forces)"
   ]
  },
  {
   "cell_type": "code",
   "execution_count": null,
   "metadata": {},
   "outputs": [],
   "source": [
    "plt.plot(elastic_energys)"
   ]
  },
  {
   "cell_type": "code",
   "execution_count": null,
   "metadata": {},
   "outputs": [],
   "source": [
    "plt.plot(target_fitting)"
   ]
  },
  {
   "cell_type": "code",
   "execution_count": null,
   "metadata": {},
   "outputs": [],
   "source": [
    "# save_path = os.getcwd()\n",
    "# write_all_output(curved_linkage, io.SUBDIVISION_RESOLUTION, io.MODEL_NAME + '_contact_opt', io.RIBBON_NAME + '_contact_opt', False, 100, min(io.RIBBON_CS), target_width = 5, flip_angles = False, width = max(io.RIBBON_CS))\n",
    "# os.chdir(save_path)"
   ]
  },
  {
   "cell_type": "code",
   "execution_count": null,
   "metadata": {},
   "outputs": [],
   "source": [
    "# curved_optimizer_energy = curved_linkage.energy()\n",
    "# validation_curved_linkage = optimizer.getLinesearchWeaverLinkage()\n",
    "# validation_curved_linkage.attraction_weight = 1e-7\n",
    "# with so(): elastic_rods.compute_equilibrium(validation_curved_linkage, options = OPTS, fixedVars = [])\n",
    "# validation_curved_view = linkage_vis.LinkageViewer(validation_curved_linkage, width=1024, height=640)\n",
    "# validation_curved_energy = validation_curved_linkage.energy()\n",
    "# print(abs((validation_curved_energy-curved_optimizer_energy)/curved_optimizer_energy))"
   ]
  },
  {
   "cell_type": "code",
   "execution_count": 71,
   "metadata": {},
   "outputs": [
    {
     "name": "stdout",
     "output_type": "stream",
     "text": [
      "Computing Visualization Data  simple_hemoglobin_5_1\n"
     ]
    }
   ],
   "source": [
    "DEBUG = True\n",
    "def make_patch_spines_invisible(ax):\n",
    "    ax.set_frame_on(True)\n",
    "    ax.patch.set_visible(False)\n",
    "    for sp in ax.spines.values():\n",
    "        sp.set_visible(False)\n",
    "\n",
    "vs = Visualization_Setting()\n",
    "\n",
    "name = io.MODEL_NAME\n",
    "data_filename = '{}/{}_{}_data.npy'.format('results/{}'.format(name), name, 'full_data' if not DEBUG else 'finite_sample')\n",
    "optimization_data_filename = '{}/{}_optimization.npy'.format('results/{}'.format(name), name)\n",
    "print('Computing Visualization Data ', name)\n",
    "\n",
    "iterateData, opt_iterateData = np.load(optimization_data_filename, allow_pickle = True)\n",
    "contact_iterateData = np.load('hemoglobin_three_stages_results/hemoglobin_contact_opt_data.npy', allow_pickle = True)"
   ]
  },
  {
   "cell_type": "code",
   "execution_count": 57,
   "metadata": {},
   "outputs": [
    {
     "data": {
      "text/plain": [
       "(10.643297672271729, 144.25968027114868, 2758.8379368782043)"
      ]
     },
     "execution_count": 57,
     "metadata": {},
     "output_type": "execute_result"
    }
   ],
   "source": [
    "sum([curr_iter['iteration_time'] for curr_iter in iterateData]), sum([curr_iter['iteration_time'] for curr_iter in opt_iterateData]), sum([curr_iter['iteration_time'] for curr_iter in contact_opt_iterateData][1:])"
   ]
  },
  {
   "cell_type": "code",
   "execution_count": 62,
   "metadata": {},
   "outputs": [
    {
     "name": "stdout",
     "output_type": "stream",
     "text": [
      "Computing Visualization Data  simple_hemoglobin_5_1\n",
      "0\n",
      "27\n",
      "82\n",
      "109\n",
      "13.42243504524231\n",
      "0\n",
      "9\n",
      "27\n",
      "36\n",
      "4.424665927886963\n",
      "0\n",
      "96\n",
      "288\n",
      "384\n",
      "3.3838019371032715\n"
     ]
    }
   ],
   "source": [
    "\n",
    "name = io.MODEL_NAME\n",
    "data_filename = '{}/{}_{}_data.npy'.format('results/{}'.format(name), name, 'full_data' if not DEBUG else 'finite_sample')\n",
    "optimization_data_filename = '{}/{}_optimization.npy'.format('results/{}'.format(name), name)\n",
    "print('Computing Visualization Data ', name)\n",
    "# np.save(optimization_data_filename, [iterateData, opt_iterateData])\n",
    "\n",
    "dps_total_absolute_curvature, dps_total_ribbon_length, dps_distance_to_surface, dps_distance_to_joint, dps_eqm_dofs, dps_elastic_energy, dps_separation_force, dps_tangential_force = compute_visualization_data_from_raw_data(iterateData, io, DEBUG, is_bunny = False)\n",
    "\n",
    "opt_total_absolute_curvature, opt_total_ribbon_length, opt_distance_to_surface, opt_distance_to_joint, opt_eqm_dofs, opt_elastic_energy, opt_separation_force, opt_tangential_force  = compute_visualization_data_from_raw_data(opt_iterateData, io, DEBUG, is_bunny = False)\n",
    "\n",
    "contact_total_absolute_curvature, contact_total_ribbon_length, contact_distance_to_surface, contact_distance_to_joint, contact_eqm_dofs, contact_elastic_energy, contact_separation_force, contact_tangential_force  = compute_visualization_data_from_raw_data(contact_iterateData, io, DEBUG, is_bunny = False)\n",
    "\n",
    "\n",
    "combined_energy = np.array(dps_elastic_energy + opt_elastic_energy + contact_opt_elastic_energy )\n",
    "combined_rest_length = np.array(dps_total_ribbon_length + opt_total_ribbon_length + contact_opt_total_ribbon_length)\n",
    "combined_total_absolute_curvature = np.array(dps_total_absolute_curvature + opt_total_absolute_curvature + contact_opt_total_absolute_curvature)\n",
    "combined_distance_to_surface = np.array(dps_distance_to_surface + opt_distance_to_surface + contact_opt_distance_to_surface)\n",
    "combined_dis_to_target_joint = np.array(dps_distance_to_joint + opt_distance_to_joint + contact_opt_distance_to_joint)\n",
    "combined_separation_force = np.array(dps_separation_force + opt_separation_force + contact_separation_force)\n",
    "combined_tangential_force = np.array(dps_tangential_force + opt_tangential_force + contact_tangential_force)\n",
    "\n",
    "\n",
    "curr_data = np.array([combined_energy, combined_rest_length, combined_total_absolute_curvature, combined_distance_to_surface, combined_dis_to_target_joint, dps_eqm_dofs, opt_eqm_dofs])\n",
    "# np.save(data_filename, curr_data)\n",
    "\n",
    "dps_objective_elastic, dps_objective_smooth, dps_objective_length, dps_total_objective = get_objective_components_stage1(iterateData)\n",
    "opt_objective_elastic, opt_objective_target, opt_objective_length, opt_objective_smooth, opt_total_objective = get_objective_components_stage2(opt_iterateData)\n",
    "contact_objective_elastic, contact_objective_target, contact_objective_length, contact_objective_smooth, contact_total_objective, contact_contact_force = get_objective_components_stage3(contact_opt_iterateData)\n",
    "\n",
    "combined_weighted_smoothing = np.concatenate((dps_objective_smooth, opt_objective_smooth, contact_objective_smooth), axis = None)\n",
    "\n",
    "# # Objective plots\n",
    "# plot_objective(vs, iterateData, dps_total_objective, '{}/{}_stage_1_objective.png'.format('results/{}'.format(name), name), vs.stage_1_label)\n",
    "# plot_objective(vs, opt_iterateData, opt_total_objective, '{}/{}_stage_2_objective.png'.format('results/{}'.format(name), name), vs.stage_2_label)\n",
    "# plot_objective(vs, contact_opt_iterateData, contact_total_objective, '{}/{}_stage_3_objective.png'.format('results/{}'.format(name), name), vs.stage_3_label)\n",
    "\n",
    "\n",
    "\n"
   ]
  },
  {
   "cell_type": "code",
   "execution_count": 84,
   "metadata": {},
   "outputs": [],
   "source": [
    "plot_ribbon_component_analysis(iterateData, dps_elastic_energy, dps_total_ribbon_length, dps_objective_smooth, dps_total_absolute_curvature, dps_distance_to_surface, dps_separation_force, dps_tangential_force, DEBUG, combined_energy, combined_rest_length, combined_weighted_smoothing, combined_total_absolute_curvature, combined_distance_to_surface, combined_separation_force, combined_tangential_force, vs, name, 1, vs.stage_1_label)"
   ]
  },
  {
   "cell_type": "code",
   "execution_count": 85,
   "metadata": {},
   "outputs": [],
   "source": [
    "plot_ribbon_component_analysis(opt_iterateData, opt_elastic_energy, opt_total_ribbon_length, opt_objective_smooth, opt_total_absolute_curvature, opt_distance_to_surface, opt_separation_force, opt_tangential_force, DEBUG, combined_energy, combined_rest_length, combined_weighted_smoothing, combined_total_absolute_curvature, combined_distance_to_surface, combined_separation_force, combined_tangential_force, vs, name, 2, vs.stage_2_label)"
   ]
  },
  {
   "cell_type": "code",
   "execution_count": 86,
   "metadata": {},
   "outputs": [],
   "source": [
    "plot_ribbon_component_analysis(iterateData, contact_elastic_energy, contact_total_ribbon_length, contact_objective_smooth, contact_total_absolute_curvature, contact_distance_to_surface, contact_separation_force, contact_tangential_force, DEBUG, combined_energy, combined_rest_length, combined_weighted_smoothing, combined_total_absolute_curvature, combined_distance_to_surface, combined_separation_force, combined_tangential_force, vs, name, 3, vs.stage_3_label)"
   ]
  },
  {
   "cell_type": "code",
   "execution_count": null,
   "metadata": {},
   "outputs": [],
   "source": []
  }
 ],
 "metadata": {
  "kernelspec": {
   "display_name": "Python 3",
   "language": "python",
   "name": "python3"
  },
  "language_info": {
   "codemirror_mode": {
    "name": "ipython",
    "version": 3
   },
   "file_extension": ".py",
   "mimetype": "text/x-python",
   "name": "python",
   "nbconvert_exporter": "python",
   "pygments_lexer": "ipython3",
   "version": "3.8.6"
  }
 },
 "nbformat": 4,
 "nbformat_minor": 4
}
