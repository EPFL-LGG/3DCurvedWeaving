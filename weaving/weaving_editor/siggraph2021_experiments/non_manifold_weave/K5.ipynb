{
 "cells": [
  {
   "cell_type": "code",
   "execution_count": 16,
   "metadata": {},
   "outputs": [],
   "source": [
    "elastic_rods_dir = '../../../../elastic_rods/python/'\n",
    "weaving_dir = '../../../'\n",
    "import os\n",
    "import os.path as osp\n",
    "import sys; sys.path.append(elastic_rods_dir); sys.path.append(weaving_dir)\n",
    "import numpy as np, elastic_rods, linkage_vis\n",
    "import numpy.linalg as la\n",
    "from bending_validation import suppress_stdout as so\n",
    "import matplotlib.pyplot as plt\n",
    "from elastic_rods import EnergyType, InterleavingType\n",
    "\n",
    "# weaving\n",
    "import analysis_helper, ribbon_linkage_helper, mesh_vis, linkage_utils, compute_curve_from_curvature, pipeline_helper, importlib\n",
    "importlib.reload(analysis_helper)\n",
    "importlib.reload(ribbon_linkage_helper)\n",
    "importlib.reload(mesh_vis)\n",
    "importlib.reload(linkage_utils)\n",
    "importlib.reload(compute_curve_from_curvature)\n",
    "importlib.reload(pipeline_helper)\n",
    "from analysis_helper import (compare_turning_angle,\n",
    "                            is_on_sphere, \n",
    "                            get_distance_to_center_scalar_field, \n",
    "                            plot_curvatures, \n",
    "                            get_curvature_scalar_field,\n",
    "                            construct_elastic_rod_loop_from_rod_segments, \n",
    "                            concatenate_rod_properties_from_rod_segments, \n",
    "                            compute_min_distance_rigid_transformation)\n",
    "from ribbon_linkage_helper import (update_rest_curvature, \n",
    "                                   set_ribbon_linkage,\n",
    "                                   export_linkage_geometry_to_obj,\n",
    "                                   write_linkage_ribbon_output_florin)\n",
    "\n",
    "from compute_curve_from_curvature import (match_geo_curvature_and_edge_len, get_all_curve_pattern)\n",
    "from linkage_utils import order_segments_by_ribbons, get_turning_angle_and_length_from_ordered_rods\n",
    "\n",
    "from pipeline_helper import (initialize_linkage, get_normal_deviation, set_joint_vector_field, stage_1_optimization, initialize_stage_2_optimizer, stage_2_optimization, InputOrganizer, write_all_output, set_surface_view_options, get_structure_analysis_view, contact_optimization, get_double_side_view, show_selected_joints, get_max_distance_to_target_surface, get_average_distance_to_target_surface)\n",
    "import vis.fields\n",
    "import matplotlib.cm as cm\n",
    "import time"
   ]
  },
  {
   "cell_type": "code",
   "execution_count": 17,
   "metadata": {},
   "outputs": [],
   "source": [
    "import parallelism\n",
    "parallelism.set_max_num_tbb_threads(12)\n",
    "parallelism.set_hessian_assembly_num_threads(4)\n",
    "parallelism.set_gradient_assembly_num_threads(4)"
   ]
  },
  {
   "cell_type": "code",
   "execution_count": 18,
   "metadata": {},
   "outputs": [
    {
     "name": "stdout",
     "output_type": "stream",
     "text": [
      "0.05 0.0034999999999999996\n"
     ]
    }
   ],
   "source": [
    "rod_length = 0.5\n",
    "width = rod_length / 50 * 5\n",
    "thickness = width / 5 * 0.35\n",
    "print(width, thickness)\n",
    "io = InputOrganizer('sphere_1', thickness, width, weaving_dir)\n",
    "# This is just to get a random surface"
   ]
  },
  {
   "cell_type": "code",
   "execution_count": 19,
   "metadata": {},
   "outputs": [],
   "source": [
    "io.MODEL_NAME = 'regular_4_100'\n",
    "io.MODEL_PATH = '{}.obj'.format(io.MODEL_NAME)\n",
    "io.SUBDIVISION_RESOLUTION = 100"
   ]
  },
  {
   "cell_type": "code",
   "execution_count": 20,
   "metadata": {},
   "outputs": [],
   "source": [
    "import py_newton_optimizer\n",
    "OPTS = py_newton_optimizer.NewtonOptimizerOptions()\n",
    "OPTS.gradTol = 1e-6\n",
    "OPTS.verbose = 1;\n",
    "OPTS.beta = 1e-8\n",
    "OPTS.niter = 200\n",
    "OPTS.verboseNonPosDef = False\n",
    "rw = 1\n",
    "sw = 10\n",
    "drw = 0.01\n",
    "dsw = 0.01"
   ]
  },
  {
   "cell_type": "markdown",
   "metadata": {},
   "source": [
    "### Initialization"
   ]
  },
  {
   "cell_type": "code",
   "execution_count": 21,
   "metadata": {},
   "outputs": [],
   "source": [
    "import pickle \n",
    "import gzip\n",
    "# pickle.dump(curved_linkage, gzip.open('{}_{}.pkl.gz'.format(io.MODEL_NAME, time.time()), 'w'))"
   ]
  },
  {
   "cell_type": "code",
   "execution_count": 22,
   "metadata": {},
   "outputs": [],
   "source": [
    "# curved_linkage = pickle.load(gzip.open('regular_4_7_1607520544.236602.pkl.gz', 'r'))\n",
    "# curved_linkage_view = linkage_vis.LinkageViewer(curved_linkage)\n",
    "# curved_linkage_view.show()"
   ]
  },
  {
   "cell_type": "code",
   "execution_count": 23,
   "metadata": {},
   "outputs": [],
   "source": [
    "# np.save('{}_design_parameters.npy'.format(io.MODEL_NAME), curved_linkage.getDesignParameters())"
   ]
  },
  {
   "cell_type": "code",
   "execution_count": 25,
   "metadata": {},
   "outputs": [
    {
     "ename": "RuntimeError",
     "evalue": "Couldn't open input file",
     "output_type": "error",
     "traceback": [
      "\u001b[0;31m---------------------------------------------------------------------------\u001b[0m",
      "\u001b[0;31mRuntimeError\u001b[0m                              Traceback (most recent call last)",
      "\u001b[0;32m<ipython-input-25-f2cfa6a03bac>\u001b[0m in \u001b[0;36m<module>\u001b[0;34m\u001b[0m\n\u001b[0;32m----> 1\u001b[0;31m \u001b[0;32mwith\u001b[0m \u001b[0mso\u001b[0m\u001b[0;34m(\u001b[0m\u001b[0;34m)\u001b[0m\u001b[0;34m:\u001b[0m \u001b[0mcurved_linkage\u001b[0m \u001b[0;34m=\u001b[0m \u001b[0minitialize_linkage\u001b[0m\u001b[0;34m(\u001b[0m\u001b[0msurface_path\u001b[0m \u001b[0;34m=\u001b[0m \u001b[0mio\u001b[0m\u001b[0;34m.\u001b[0m\u001b[0mSURFACE_PATH\u001b[0m\u001b[0;34m,\u001b[0m \u001b[0museCenterline\u001b[0m \u001b[0;34m=\u001b[0m \u001b[0;32mFalse\u001b[0m\u001b[0;34m,\u001b[0m \u001b[0mmodel_path\u001b[0m \u001b[0;34m=\u001b[0m \u001b[0mio\u001b[0m\u001b[0;34m.\u001b[0m\u001b[0mMODEL_PATH\u001b[0m\u001b[0;34m,\u001b[0m \u001b[0mcross_section\u001b[0m \u001b[0;34m=\u001b[0m \u001b[0mio\u001b[0m\u001b[0;34m.\u001b[0m\u001b[0mRIBBON_CS\u001b[0m\u001b[0;34m,\u001b[0m \u001b[0msubdivision_res\u001b[0m \u001b[0;34m=\u001b[0m \u001b[0mio\u001b[0m\u001b[0;34m.\u001b[0m\u001b[0mSUBDIVISION_RESOLUTION\u001b[0m\u001b[0;34m,\u001b[0m \u001b[0muse_constant_width\u001b[0m\u001b[0;34m=\u001b[0m\u001b[0;32mTrue\u001b[0m\u001b[0;34m,\u001b[0m \u001b[0minterleaving_type\u001b[0m\u001b[0;34m=\u001b[0m\u001b[0mInterleavingType\u001b[0m\u001b[0;34m.\u001b[0m\u001b[0mweaving\u001b[0m\u001b[0;34m)\u001b[0m\u001b[0;34m\u001b[0m\u001b[0;34m\u001b[0m\u001b[0m\n\u001b[0m\u001b[1;32m      2\u001b[0m \u001b[0mcurved_linkage\u001b[0m\u001b[0;34m.\u001b[0m\u001b[0mset_design_parameter_config\u001b[0m\u001b[0;34m(\u001b[0m\u001b[0muse_restLen\u001b[0m \u001b[0;34m=\u001b[0m \u001b[0;32mTrue\u001b[0m\u001b[0;34m,\u001b[0m \u001b[0muse_restKappa\u001b[0m \u001b[0;34m=\u001b[0m \u001b[0;32mTrue\u001b[0m\u001b[0;34m)\u001b[0m\u001b[0;34m\u001b[0m\u001b[0;34m\u001b[0m\u001b[0m\n\u001b[1;32m      3\u001b[0m \u001b[0mcurved_save_tgt_joint_pos\u001b[0m \u001b[0;34m=\u001b[0m \u001b[0mcurved_linkage\u001b[0m\u001b[0;34m.\u001b[0m\u001b[0mjointPositions\u001b[0m\u001b[0;34m(\u001b[0m\u001b[0;34m)\u001b[0m\u001b[0;34m\u001b[0m\u001b[0;34m\u001b[0m\u001b[0m\n\u001b[1;32m      4\u001b[0m \u001b[0mcurved_linkage_view\u001b[0m \u001b[0;34m=\u001b[0m \u001b[0mlinkage_vis\u001b[0m\u001b[0;34m.\u001b[0m\u001b[0mLinkageViewer\u001b[0m\u001b[0;34m(\u001b[0m\u001b[0mcurved_linkage\u001b[0m\u001b[0;34m)\u001b[0m\u001b[0;34m\u001b[0m\u001b[0;34m\u001b[0m\u001b[0m\n\u001b[1;32m      5\u001b[0m \u001b[0;31m# set_surface_view_options(curved_linkage_view)\u001b[0m\u001b[0;34m\u001b[0m\u001b[0;34m\u001b[0m\u001b[0;34m\u001b[0m\u001b[0m\n",
      "\u001b[0;32m~/Develop/EPFL_LGG/weaving/weaving/pipeline_helper.py\u001b[0m in \u001b[0;36minitialize_linkage\u001b[0;34m(surface_path, useCenterline, cross_section, subdivision_res, model_path, use_constant_width, width_scale, interleaving_type, input_joint_normals)\u001b[0m\n\u001b[1;32m     87\u001b[0m         \u001b[0ml\u001b[0m \u001b[0;34m=\u001b[0m \u001b[0melastic_rods\u001b[0m\u001b[0;34m.\u001b[0m\u001b[0mRodLinkage\u001b[0m\u001b[0;34m(\u001b[0m\u001b[0mmodel_path\u001b[0m\u001b[0;34m,\u001b[0m \u001b[0msubdivision_res\u001b[0m\u001b[0;34m,\u001b[0m \u001b[0;32mFalse\u001b[0m\u001b[0;34m,\u001b[0m \u001b[0minterleaving_type\u001b[0m\u001b[0;34m,\u001b[0m \u001b[0;34m[\u001b[0m\u001b[0;34m]\u001b[0m\u001b[0;34m,\u001b[0m \u001b[0minput_joint_normals\u001b[0m\u001b[0;34m)\u001b[0m\u001b[0;34m\u001b[0m\u001b[0;34m\u001b[0m\u001b[0m\n\u001b[1;32m     88\u001b[0m     \u001b[0;32melse\u001b[0m\u001b[0;34m:\u001b[0m\u001b[0;34m\u001b[0m\u001b[0;34m\u001b[0m\u001b[0m\n\u001b[0;32m---> 89\u001b[0;31m         \u001b[0ml\u001b[0m \u001b[0;34m=\u001b[0m \u001b[0melastic_rods\u001b[0m\u001b[0;34m.\u001b[0m\u001b[0mSurfaceAttractedLinkage\u001b[0m\u001b[0;34m(\u001b[0m\u001b[0msurface_path\u001b[0m\u001b[0;34m,\u001b[0m \u001b[0museCenterline\u001b[0m\u001b[0;34m,\u001b[0m \u001b[0mmodel_path\u001b[0m\u001b[0;34m,\u001b[0m \u001b[0msubdivision_res\u001b[0m\u001b[0;34m,\u001b[0m \u001b[0;32mFalse\u001b[0m\u001b[0;34m,\u001b[0m \u001b[0minterleaving_type\u001b[0m\u001b[0;34m,\u001b[0m \u001b[0;34m[\u001b[0m\u001b[0;34m]\u001b[0m\u001b[0;34m,\u001b[0m \u001b[0minput_joint_normals\u001b[0m\u001b[0;34m)\u001b[0m\u001b[0;34m\u001b[0m\u001b[0;34m\u001b[0m\u001b[0m\n\u001b[0m\u001b[1;32m     90\u001b[0m     \u001b[0;32mif\u001b[0m \u001b[0muse_constant_width\u001b[0m\u001b[0;34m:\u001b[0m\u001b[0;34m\u001b[0m\u001b[0;34m\u001b[0m\u001b[0m\n\u001b[1;32m     91\u001b[0m         \u001b[0ml\u001b[0m\u001b[0;34m.\u001b[0m\u001b[0msetMaterial\u001b[0m\u001b[0;34m(\u001b[0m\u001b[0melastic_rods\u001b[0m\u001b[0;34m.\u001b[0m\u001b[0mRodMaterial\u001b[0m\u001b[0;34m(\u001b[0m\u001b[0;34m'rectangle'\u001b[0m\u001b[0;34m,\u001b[0m \u001b[0;36m2000\u001b[0m\u001b[0;34m,\u001b[0m \u001b[0;36m0.3\u001b[0m\u001b[0;34m,\u001b[0m \u001b[0mcross_section\u001b[0m\u001b[0;34m,\u001b[0m \u001b[0mstiffAxis\u001b[0m\u001b[0;34m=\u001b[0m\u001b[0melastic_rods\u001b[0m\u001b[0;34m.\u001b[0m\u001b[0mStiffAxis\u001b[0m\u001b[0;34m.\u001b[0m\u001b[0mD1\u001b[0m\u001b[0;34m)\u001b[0m\u001b[0;34m)\u001b[0m\u001b[0;34m\u001b[0m\u001b[0;34m\u001b[0m\u001b[0m\n",
      "\u001b[0;31mRuntimeError\u001b[0m: Couldn't open input file"
     ]
    }
   ],
   "source": [
    "with so(): curved_linkage = initialize_linkage(surface_path = io.SURFACE_PATH, useCenterline = False, model_path = io.MODEL_PATH, cross_section = io.RIBBON_CS, subdivision_res = io.SUBDIVISION_RESOLUTION, use_constant_width=True, interleaving_type=InterleavingType.weaving)\n",
    "curved_linkage.set_design_parameter_config(use_restLen = True, use_restKappa = True)\n",
    "curved_save_tgt_joint_pos = curved_linkage.jointPositions()\n",
    "curved_linkage_view = linkage_vis.LinkageViewer(curved_linkage)\n",
    "# set_surface_view_options(curved_linkage_view)\n",
    "curved_linkage_view.show()"
   ]
  },
  {
   "cell_type": "code",
   "execution_count": 40,
   "metadata": {},
   "outputs": [],
   "source": [
    "topColor =[79/255., 158/255., 246/255.]\n",
    "bottomColor =[0.5, 0.5, 0.5]\n",
    "heights = curved_linkage.visualizationGeometryHeightColors()\n",
    "colors = np.take(np.array([bottomColor, topColor]), heights < heights.mean(), axis=0)"
   ]
  },
  {
   "cell_type": "code",
   "execution_count": 41,
   "metadata": {},
   "outputs": [],
   "source": [
    "curved_linkage_view.update(scalarField=colors)"
   ]
  },
  {
   "cell_type": "code",
   "execution_count": 14,
   "metadata": {},
   "outputs": [],
   "source": [
    "curved_linkage_view.setCameraParams(((4.139347366530763, -3.927678946178955, 0.7924706632167623),\n",
    " (-0.038125872037145875, 0.15887387844372028, 0.9865624707182293),\n",
    " (0.0, 0.0, 0.0)))"
   ]
  },
  {
   "cell_type": "code",
   "execution_count": 15,
   "metadata": {},
   "outputs": [],
   "source": [
    "# curved_linkage.setDesignParameters(np.load('{}_design_parameters.npy'.format(io.MODEL_NAME)))"
   ]
  },
  {
   "cell_type": "code",
   "execution_count": 16,
   "metadata": {},
   "outputs": [],
   "source": [
    "E0 = curved_linkage.designParameterSolve_energy()\n",
    "l0 = curved_linkage.totalRestLength()"
   ]
  },
  {
   "cell_type": "code",
   "execution_count": 19,
   "metadata": {
    "scrolled": true
   },
   "outputs": [],
   "source": [
    "iterateData, dpo = stage_1_optimization(curved_linkage, drw, dsw, curved_linkage_view, E0 = E0, l0 = l0, niter = 40)"
   ]
  },
  {
   "cell_type": "code",
   "execution_count": 20,
   "metadata": {},
   "outputs": [],
   "source": [
    "curved_linkage.attraction_weight = 0"
   ]
  },
  {
   "cell_type": "code",
   "execution_count": 21,
   "metadata": {},
   "outputs": [],
   "source": [
    "# curved_linkage.setMaterial(elastic_rods.RodMaterial('rectangle', 2000, 0.3, [thickness, width], stiffAxis=elastic_rods.StiffAxis.D1))"
   ]
  },
  {
   "cell_type": "code",
   "execution_count": 22,
   "metadata": {},
   "outputs": [],
   "source": [
    "def eqm_callback(prob, i):\n",
    "    curved_linkage_view.update(scalarField=colors)"
   ]
  },
  {
   "cell_type": "code",
   "execution_count": 23,
   "metadata": {
    "scrolled": true
   },
   "outputs": [],
   "source": [
    "driver=curved_linkage.centralJoint()\n",
    "jdo = curved_linkage.dofOffsetForJoint(driver)\n",
    "fixedVars = list(range(jdo, jdo + 6)) # fix rigid motion for a single joint\n",
    "with so(): elastic_rods.compute_equilibrium(curved_linkage, fixedVars=fixedVars, callback = eqm_callback, options = OPTS)"
   ]
  },
  {
   "cell_type": "code",
   "execution_count": 24,
   "metadata": {},
   "outputs": [],
   "source": [
    "# curved_save_tgt_joint_pos = curved_linkage.jointPositions()"
   ]
  },
  {
   "cell_type": "code",
   "execution_count": 25,
   "metadata": {},
   "outputs": [],
   "source": [
    "optimizer = initialize_stage_2_optimizer(curved_linkage, io.SURFACE_PATH, curved_save_tgt_joint_pos, curved_linkage_view, rw, sw)"
   ]
  },
  {
   "cell_type": "code",
   "execution_count": 26,
   "metadata": {},
   "outputs": [],
   "source": [
    "optimizer.scaleJointWeights(1, 1, [])"
   ]
  },
  {
   "cell_type": "code",
   "execution_count": 27,
   "metadata": {},
   "outputs": [],
   "source": [
    "optimizer.set_holdClosestPointsFixed(True)"
   ]
  },
  {
   "cell_type": "code",
   "execution_count": 28,
   "metadata": {},
   "outputs": [],
   "source": [
    "optimizer.beta = 1e4"
   ]
  },
  {
   "cell_type": "code",
   "execution_count": 29,
   "metadata": {},
   "outputs": [
    {
     "name": "stdout",
     "output_type": "stream",
     "text": [
      "rl_regularization_weight 1.0\n",
      "smoothing_weight 10.0\n"
     ]
    }
   ],
   "source": [
    "optimizer, opt_iterateData = stage_2_optimization(optimizer, curved_linkage, io.SURFACE_PATH, curved_save_tgt_joint_pos, curved_linkage_view, -1, no_surface = True, maxIter = 100)"
   ]
  },
  {
   "cell_type": "code",
   "execution_count": 30,
   "metadata": {},
   "outputs": [],
   "source": [
    "# save_path = os.getcwd()\n",
    "# write_all_output(curved_linkage, io.SUBDIVISION_RESOLUTION, io.MODEL_NAME, io.RIBBON_NAME, False, 100, min(io.RIBBON_CS), target_width = 5, flip_angles = False)\n",
    "# os.chdir(save_path)"
   ]
  },
  {
   "cell_type": "markdown",
   "metadata": {},
   "source": [
    "## Contact Optimization"
   ]
  },
  {
   "cell_type": "code",
   "execution_count": 31,
   "metadata": {},
   "outputs": [
    {
     "data": {
      "application/vnd.jupyter.widget-view+json": {
       "model_id": "9184e8150a9d4533afeb46d338929d22",
       "version_major": 2,
       "version_minor": 0
      },
      "text/plain": [
       "HBox(children=(Renderer(camera=PerspectiveCamera(children=(PointLight(color='#999999', position=(0.0, 0.0, 5.0…"
      ]
     },
     "metadata": {},
     "output_type": "display_data"
    },
    {
     "data": {
      "image/png": "[encoded data removed]",
      "text/plain": [
       "<Figure size 1080x288 with 4 Axes>"
      ]
     },
     "metadata": {
      "needs_background": "light"
     },
     "output_type": "display_data"
    }
   ],
   "source": [
    "structure_view = get_structure_analysis_view(curved_linkage)\n",
    "structure_view.show()"
   ]
  },
  {
   "cell_type": "code",
   "execution_count": 33,
   "metadata": {},
   "outputs": [],
   "source": [
    "def get_opposite_joint_type(curr_type):\n",
    "    if curr_type == curved_linkage.joint(0).Type.A_OVER_B:\n",
    "        return curved_linkage.joint(0).Type.B_OVER_A\n",
    "    return curved_linkage.joint(0).Type.A_OVER_B\n",
    "import structural_analysis"
   ]
  },
  {
   "cell_type": "code",
   "execution_count": 34,
   "metadata": {
    "scrolled": true
   },
   "outputs": [
    {
     "name": "stdout",
     "output_type": "stream",
     "text": [
      "Flipping crossing:  [0 1 3 6]\n",
      "0\t0.000317551\t0.186354\t0.186354\t1\t1\n",
      "1\t0.000103248\t0.236927\t0.236927\t1\t1\n",
      "2\t5.22282e-05\t0.0158857\t0.0158857\t1\t1\n",
      "3\t4.30743e-05\t0.00631714\t0.00631714\t1\t1\n",
      "4\t3.57745e-05\t0.0039845\t0.0039845\t1\t1\n",
      "5\t2.97108e-05\t0.00274089\t0.00274089\t1\t1\n",
      "6\t2.49057e-05\t0.00203027\t0.00203027\t1\t1\n",
      "7\t2.13922e-05\t0.00161313\t0.00161313\t1\t1\n",
      "8\t1.9037e-05\t0.00112383\t0.00112383\t1\t1\n",
      "9\t1.75532e-05\t0.00068495\t0.00068495\t1\t1\n",
      "10\t1.66463e-05\t0.000403834\t0.000403834\t1\t1\n",
      "11\t1.60986e-05\t0.000240411\t0.000240411\t1\t1\n",
      "12\t1.57717e-05\t0.000148147\t0.000148147\t1\t1\n",
      "13\t1.55789e-05\t9.41336e-05\t9.41336e-05\t1\t1\n",
      "14\t1.5465e-05\t6.07963e-05\t6.07963e-05\t1\t1\n",
      "15\t1.53969e-05\t3.9524e-05\t3.9524e-05\t1\t1\n",
      "16\t1.53556e-05\t2.59403e-05\t2.59403e-05\t1\t1\n",
      "17\t1.53305e-05\t1.71911e-05\t1.71911e-05\t1\t1\n",
      "18\t1.53152e-05\t1.17934e-05\t1.17934e-05\t1\t1\n",
      "19\t1.53065e-05\t8.57852e-06\t8.57852e-06\t0.5\t0\n",
      "20\t1.52975e-05\t0.000295464\t0.000295464\t1\t1\n",
      "21\t1.52931e-05\t1.66263e-06\t1.66263e-06\t1\t1\n",
      "22\t1.52922e-05\t1.76913e-06\t1.76913e-06\t1\t1\n",
      "23\t1.52914e-05\t2.85585e-06\t2.85585e-06\t1\t1\n",
      "24\t1.52909e-05\t5.32015e-06\t5.32015e-06\t1\t1\n",
      "25\t1.52904e-05\t1.01436e-05\t1.01436e-05\t0.25\t0\n",
      "26\t1.529e-05\t4.28235e-05\t4.28235e-05\t1\t1\n",
      "27\t1.52897e-05\t6.72666e-06\t6.72666e-06\t1\t1\n",
      "28\t1.52895e-05\t2.75318e-05\t2.75318e-05\t1\t1\n",
      "Computing negative curvature direction for scaled tau = 1.41666e-05\n",
      "29\t1.52893e-05\t1.69743e-05\t1.69743e-05\t1\t1\n",
      "Computing negative curvature direction for scaled tau = 1.41666e-05\n",
      "30\t1.52891e-05\t4.98655e-05\t4.98655e-05\t1\t1\n",
      "Computing negative curvature direction for scaled tau = 1.41666e-05\n",
      "31\t1.5289e-05\t3.95533e-05\t3.95533e-05\t1\t1\n",
      "Computing negative curvature direction for scaled tau = 1.41666e-05\n",
      "32\t1.52889e-05\t7.44362e-05\t7.44362e-05\t1\t1\n",
      "Computing negative curvature direction for scaled tau = 1.41666e-05\n",
      "33\t1.52887e-05\t1.81668e-05\t1.81668e-05\t1\t1\n",
      "Computing negative curvature direction for scaled tau = 1.41666e-05\n",
      "34\t1.52886e-05\t6.52748e-05\t6.52748e-05\t1\t1\n",
      "Computing negative curvature direction for scaled tau = 1.41666e-05\n",
      "35\t1.52884e-05\t2.92064e-05\t2.92064e-05\t1\t1\n",
      "Computing negative curvature direction for scaled tau = 1.41666e-05\n",
      "36\t1.52883e-05\t7.12826e-05\t7.12826e-05\t1\t1\n",
      "Computing negative curvature direction for scaled tau = 1.41666e-05\n",
      "Spectra unsuccessful after 21 iterations\n",
      "Negative curvature direction calculation failed\n",
      "37\t1.52879e-05\t3.62914e-05\t3.62914e-05\t0.5\t1\n",
      "Computing negative curvature direction for scaled tau = 1.41666e-05\n",
      "38\t1.52877e-05\t5.05081e-05\t5.05081e-05\t1\t1\n",
      "Computing negative curvature direction for scaled tau = 1.41666e-05\n",
      "39\t1.52874e-05\t2.36254e-05\t2.36254e-05\t1\t1\n",
      "Computing negative curvature direction for scaled tau = 1.41666e-05\n",
      "40\t1.52872e-05\t9.30925e-05\t9.30925e-05\t1\t1\n",
      "Computing negative curvature direction for scaled tau = 1.41666e-05\n",
      "41\t1.52866e-05\t2.44735e-05\t2.44735e-05\t0.5\t1\n",
      "Computing negative curvature direction for scaled tau = 1.41666e-05\n",
      "42\t1.52863e-05\t9.25644e-05\t9.25644e-05\t1\t1\n",
      "Computing negative curvature direction for scaled tau = 1.41666e-05\n",
      "43\t1.52856e-05\t2.27784e-05\t2.27784e-05\t0.5\t1\n",
      "Computing negative curvature direction for scaled tau = 1.41666e-05\n",
      "44\t1.52851e-05\t8.99077e-05\t8.99077e-05\t1\t1\n",
      "Computing negative curvature direction for scaled tau = 1.41666e-05\n",
      "45\t1.52842e-05\t4.58386e-05\t4.58386e-05\t1\t1\n",
      "46\t1.52842e-05\t0.000220904\t0.000220904\t1\t1\n",
      "Computing negative curvature direction for scaled tau = 1.41666e-05\n",
      "47\t1.52819e-05\t1.65862e-05\t1.65862e-05\t0.25\t1\n",
      "48\t1.52811e-05\t0.00017254\t0.00017254\t1\t1\n",
      "Computing negative curvature direction for scaled tau = 1.41666e-05\n",
      "49\t1.5279e-05\t4.19692e-05\t4.19692e-05\t0.5\t1\n",
      "50\t1.52779e-05\t0.000211571\t0.000211571\t1\t1\n",
      "Computing negative curvature direction for scaled tau = 1.41666e-05\n",
      "51\t1.52749e-05\t4.89883e-05\t4.89883e-05\t0.5\t1\n",
      "52\t1.52737e-05\t0.000294541\t0.000294541\t1\t1\n",
      "Computing negative curvature direction for scaled tau = 1.41666e-05\n",
      "53\t1.52691e-05\t4.64561e-05\t4.64561e-05\t0.25\t1\n",
      "54\t1.52666e-05\t0.000182779\t0.000182779\t1\t1\n",
      "55\t1.52621e-05\t0.000172473\t0.000172473\t1\t1\n",
      "56\t1.5257e-05\t0.000238329\t0.000238329\t1\t1\n",
      "57\t1.52506e-05\t0.000176087\t0.000176087\t1\t1\n",
      "58\t1.52449e-05\t0.00039653\t0.00039653\t1\t1\n",
      "59\t1.52349e-05\t0.000109171\t0.000109171\t0.5\t1\n",
      "60\t1.52306e-05\t0.000524047\t0.000524047\t1\t1\n",
      "Computing negative curvature direction for scaled tau = 1.41666e-05\n",
      "61\t1.52162e-05\t9.91011e-05\t9.91011e-05\t0.25\t1\n",
      "62\t1.52088e-05\t0.000312491\t0.000312491\t1\t1\n",
      "63\t1.51955e-05\t0.000340115\t0.000340115\t1\t1\n",
      "64\t1.51802e-05\t0.000337668\t0.000337668\t1\t1\n",
      "65\t1.51639e-05\t0.000414826\t0.000414826\t1\t1\n",
      "66\t1.5144e-05\t0.000322958\t0.000322958\t1\t1\n",
      "67\t1.51276e-05\t0.000623966\t0.000623966\t1\t1\n",
      "68\t1.50994e-05\t0.000201094\t0.000201094\t0.5\t1\n",
      "69\t1.50858e-05\t0.000711017\t0.000711017\t1\t1\n",
      "70\t1.50517e-05\t0.000209725\t0.000209725\t0.5\t1\n",
      "71\t1.50443e-05\t0.000946558\t0.000946558\t1\t1\n",
      "72\t1.49949e-05\t0.000173884\t0.000173884\t0.25\t1\n",
      "73\t1.49771e-05\t0.000710783\t0.000710783\t1\t1\n",
      "74\t1.4936e-05\t0.000305657\t0.000305657\t0.5\t0\n",
      "75\t1.49179e-05\t0.000776491\t0.000776491\t1\t1\n",
      "76\t1.48694e-05\t0.000278536\t0.000278536\t0.5\t1\n",
      "77\t1.48652e-05\t0.00106167\t0.00106167\t1\t1\n",
      "78\t1.47977e-05\t0.000210043\t0.000210043\t0.25\t1\n",
      "79\t1.47764e-05\t0.000668181\t0.000668181\t1\t1\n",
      "80\t1.47341e-05\t0.000378924\t0.000378924\t0.5\t1\n",
      "81\t1.47103e-05\t0.000555364\t0.000555364\t1\t1\n",
      "82\t1.46748e-05\t0.000485944\t0.000485944\t1\t1\n",
      "83\t1.46472e-05\t0.000646926\t0.000646926\t1\t0\n",
      "84\t1.46157e-05\t0.000429733\t0.000429733\t0.5\t1\n",
      "85\t1.4594e-05\t0.000414456\t0.000414456\t1\t1\n",
      "86\t1.45677e-05\t0.000404715\t0.000404715\t1\t1\n",
      "87\t1.45482e-05\t0.000485182\t0.000485182\t1\t1\n",
      "88\t1.45259e-05\t0.000219465\t0.000219465\t0.5\t0\n",
      "89\t1.45141e-05\t0.00036018\t0.00036018\t1\t1\n",
      "90\t1.44979e-05\t0.000249146\t0.000249146\t1\t1\n",
      "91\t1.44878e-05\t0.00044969\t0.00044969\t1\t1\n",
      "92\t1.44737e-05\t0.000115448\t0.000115448\t0.5\t1\n",
      "93\t1.44672e-05\t0.000285225\t0.000285225\t1\t1\n",
      "94\t1.4459e-05\t0.000146309\t0.000146309\t1\t1\n",
      "95\t1.44535e-05\t0.000306359\t0.000306359\t1\t0\n",
      "96\t1.44474e-05\t0.00014137\t0.00014137\t1\t1\n",
      "97\t1.44447e-05\t0.000317646\t0.000317646\t1\t1\n",
      "Computing negative curvature direction for scaled tau = 1.41666e-05\n",
      "98\t1.44405e-05\t7.35629e-05\t7.35629e-05\t1\t1\n",
      "99\t1.44402e-05\t0.00034228\t0.00034228\t1\t1\n",
      "Computing negative curvature direction for scaled tau = 1.41666e-05\n",
      "100\t1.44366e-05\t4.72361e-05\t4.72361e-05\t1\t1\n",
      "101\t1.44364e-05\t0.000220395\t0.000220395\t1\t1\n",
      "Computing negative curvature direction for scaled tau = 1.41666e-05\n",
      "102\t1.44349e-05\t3.02889e-05\t3.02889e-05\t1\t1\n",
      "Computing negative curvature direction for scaled tau = 1.41666e-05\n",
      "103\t1.44345e-05\t8.12647e-05\t8.12647e-05\t1\t1\n",
      "Computing negative curvature direction for scaled tau = 1.41666e-05\n",
      "104\t1.44343e-05\t2.28381e-05\t2.28381e-05\t1\t1\n",
      "Computing negative curvature direction for scaled tau = 1.41666e-05\n",
      "105\t1.44342e-05\t3.31765e-05\t3.31765e-05\t1\t1\n",
      "Computing negative curvature direction for scaled tau = 1.41666e-05\n",
      "Spectra unsuccessful after 21 iterations\n",
      "Negative curvature direction calculation failed\n",
      "106\t1.44341e-05\t4.35146e-05\t4.35146e-05\t1\t1\n",
      "Computing negative curvature direction for scaled tau = 1.41666e-05\n",
      "Spectra unsuccessful after 21 iterations\n",
      "Negative curvature direction calculation failed\n",
      "107\t1.44341e-05\t1.16589e-05\t1.16589e-05\t1\t1\n",
      "Computing negative curvature direction for scaled tau = 1.41666e-05\n",
      "Spectra unsuccessful after 21 iterations\n",
      "Negative curvature direction calculation failed\n",
      "108\t1.44341e-05\t6.18416e-06\t6.18416e-06\t1\t1\n",
      "Computing negative curvature direction for scaled tau = 1.41666e-05\n",
      "Spectra unsuccessful after 21 iterations\n",
      "Negative curvature direction calculation failed\n",
      "109\t1.44341e-05\t3.45717e-06\t3.45717e-06\t1\t1\n",
      "Computing negative curvature direction for scaled tau = 1.41666e-05\n",
      "Spectra unsuccessful after 21 iterations\n",
      "Negative curvature direction calculation failed\n",
      "110\t1.44341e-05\t1.72727e-06\t1.72727e-06\t1\t1\n",
      "Computing negative curvature direction for scaled tau = 1.41666e-05\n",
      "Spectra unsuccessful after 21 iterations\n",
      "Negative curvature direction calculation failed\n",
      "111\t1.44341e-05\t8.33173e-07\t8.33173e-07\t1\t1\n",
      "Computing negative curvature direction for scaled tau = 1.41666e-05\n",
      "Spectra unsuccessful after 21 iterations\n",
      "Negative curvature direction calculation failed\n",
      "112\t1.44341e-05\t3.91396e-07\t3.91396e-07\t1\t1\n",
      "Computing negative curvature direction for scaled tau = 1.41666e-05\n",
      "Spectra unsuccessful after 21 iterations\n",
      "Negative curvature direction calculation failed\n",
      "113\t1.44341e-05\t1.81791e-07\t1.81791e-07\t1\t1\n",
      "Computing negative curvature direction for scaled tau = 1.41666e-05\n",
      "Spectra unsuccessful after 21 iterations\n",
      "Negative curvature direction calculation failed\n",
      "114\t1.44341e-05\t8.40248e-08\t8.40248e-08\t1\t1\n",
      "Computing negative curvature direction for scaled tau = 1.41666e-05\n",
      "Spectra unsuccessful after 21 iterations\n",
      "Negative curvature direction calculation failed\n",
      "115\t1.44341e-05\t3.8755e-08\t3.8755e-08\t1\t1\n",
      "Computing negative curvature direction for scaled tau = 1.41666e-05\n",
      "Spectra unsuccessful after 21 iterations\n",
      "Negative curvature direction calculation failed\n",
      "116\t1.44341e-05\t1.7856e-08\t1.7856e-08\t1\t1\n",
      "Computing negative curvature direction for scaled tau = 1.41666e-05\n",
      "Spectra unsuccessful after 21 iterations\n",
      "Negative curvature direction calculation failed\n",
      "117\t1.44341e-05\t8.22126e-09\t8.22126e-09\t1\t1\n",
      "Computing negative curvature direction for scaled tau = 1.41666e-05\n",
      "118\t1.44341e-05\t3.78328e-09\t3.78328e-09\t0.015625\t1\n",
      "Computing negative curvature direction for scaled tau = 1.41666e-05\n",
      "Spectra unsuccessful after 21 iterations\n",
      "Negative curvature direction calculation failed\n",
      "119\t1.44341e-05\t2.49614e-07\t2.49614e-07\t1\t1\n",
      "Computing negative curvature direction for scaled tau = 1.41666e-05\n",
      "Spectra unsuccessful after 21 iterations\n",
      "Negative curvature direction calculation failed\n",
      "120\t1.44341e-05\t1.72242e-09\t1.72242e-09\t1\t1\n",
      "Computing negative curvature direction for scaled tau = 1.41666e-05\n",
      "121\t1.44341e-05\t7.92252e-10\t7.92252e-10\t0.015625\t1\n",
      "Computing negative curvature direction for scaled tau = 1.41666e-05\n",
      "Spectra unsuccessful after 21 iterations\n",
      "Negative curvature direction calculation failed\n",
      "122\t1.44341e-05\t1.29437e-07\t1.29437e-07\t1\t1\n",
      "Computing negative curvature direction for scaled tau = 1.41666e-05\n",
      "123\t1.44341e-05\t3.60653e-10\t3.60653e-10\t0.03125\t1\n",
      "Computing negative curvature direction for scaled tau = 1.41666e-05\n",
      "Spectra unsuccessful after 21 iterations\n",
      "Negative curvature direction calculation failed\n",
      "124\t1.44341e-05\t1.07015e-07\t1.07015e-07\t1\t1\n",
      "Computing negative curvature direction for scaled tau = 1.41666e-05\n",
      "125\t1.44341e-05\t1.62572e-10\t1.62572e-10\t0.0078125\t1\n",
      "Computing negative curvature direction for scaled tau = 1.41666e-05\n",
      "Spectra unsuccessful after 21 iterations\n",
      "Negative curvature direction calculation failed\n",
      "126\t1.44341e-05\t3.71041e-08\t3.71041e-08\t1\t1\n",
      "Computing negative curvature direction for scaled tau = 1.41666e-05\n",
      "127\t1.44341e-05\t7.44107e-11\t7.44107e-11\t0.0078125\t1\n",
      "Computing negative curvature direction for scaled tau = 1.41666e-05\n",
      "Spectra unsuccessful after 21 iterations\n",
      "Negative curvature direction calculation failed\n",
      "128\t1.44341e-05\t1.44593e-08\t1.44593e-08\t1\t1\n",
      "Computing negative curvature direction for scaled tau = 1.41666e-05\n",
      "129\t1.44341e-05\t3.41351e-11\t3.41351e-11\t0.00390625\t1\n",
      "Computing negative curvature direction for scaled tau = 1.41666e-05\n",
      "130\t1.44341e-05\t9.09459e-09\t9.09459e-09\t0.000488281\t1\n",
      "Computing negative curvature direction for scaled tau = 1.41666e-05\n",
      "131\t1.44341e-05\t1.37191e-08\t1.37191e-08\t0.000244141\t1\n",
      "Computing negative curvature direction for scaled tau = 1.41666e-05\n",
      "Spectra unsuccessful after 21 iterations\n",
      "Negative curvature direction calculation failed\n",
      "132\t1.44341e-05\t1.64224e-08\t1.64224e-08\t1\t1\n",
      "Computing negative curvature direction for scaled tau = 1.41666e-05\n",
      "133\t1.44341e-05\t1.56427e-11\t1.56427e-11\t0.00390625\t1\n",
      "134\t1.44341e-05\t7.48388e-09\t7.48388e-09\t1\t0\n",
      "135\t1.44341e-05\t6.73235e-11\t6.73235e-11\t1\t0\n"
     ]
    }
   ],
   "source": [
    "cfm = structural_analysis.weavingCrossingForceMagnitudes(curved_linkage, True)\n",
    "if np.sum(cfm[:, 0]>0) > 0:\n",
    "    print(\"Flipping crossing: \", np.argsort(cfm[:, 0] > 0)[-1 * np.sum(cfm[:, 0] > 0):])\n",
    "    for i in np.argsort(cfm[:, 0] > 0)[-1 * np.sum(cfm[:, 0] > 0):]:\n",
    "        curved_linkage.joint(i).type = get_opposite_joint_type(curved_linkage.joint(i).type)\n",
    "    elastic_rods.compute_equilibrium(curved_linkage, callback = eqm_callback, options = OPTS)\n",
    "    curved_linkage_view.update()"
   ]
  },
  {
   "cell_type": "code",
   "execution_count": 35,
   "metadata": {},
   "outputs": [
    {
     "data": {
      "application/vnd.jupyter.widget-view+json": {
       "model_id": "cd77c04a979240f6a508b78ddc5fda14",
       "version_major": 2,
       "version_minor": 0
      },
      "text/plain": [
       "HBox(children=(Renderer(camera=PerspectiveCamera(children=(PointLight(color='#999999', position=(0.0, 0.0, 5.0…"
      ]
     },
     "metadata": {},
     "output_type": "display_data"
    },
    {
     "data": {
      "image/png": "[encoded data removed]",
      "text/plain": [
       "<Figure size 1080x288 with 4 Axes>"
      ]
     },
     "metadata": {
      "needs_background": "light"
     },
     "output_type": "display_data"
    }
   ],
   "source": [
    "second_structure_view = get_structure_analysis_view(curved_linkage)\n",
    "second_structure_view.show()"
   ]
  },
  {
   "cell_type": "code",
   "execution_count": 36,
   "metadata": {
    "scrolled": true
   },
   "outputs": [
    {
     "name": "stdout",
     "output_type": "stream",
     "text": [
      "Flipping crossing:  [3 4]\n",
      "0\t0.00011085\t0.0952525\t0.0952525\t1\t1\n",
      "1\t8.46823e-05\t0.300567\t0.300567\t1\t1\n",
      "2\t3.16949e-05\t0.017485\t0.017485\t1\t1\n",
      "3\t2.78209e-05\t0.00391672\t0.00391672\t1\t1\n",
      "4\t2.44877e-05\t0.00273229\t0.00273229\t1\t1\n",
      "5\t2.15819e-05\t0.00204964\t0.00204964\t1\t1\n",
      "6\t1.9242e-05\t0.00164809\t0.00164809\t1\t0\n",
      "7\t1.68627e-05\t0.0141494\t0.0141494\t1\t1\n",
      "8\t1.48469e-05\t0.000405384\t0.000405384\t1\t1\n",
      "9\t1.46879e-05\t0.000159011\t0.000159011\t1\t1\n",
      "10\t1.46077e-05\t7.78569e-05\t7.78569e-05\t1\t1\n",
      "11\t1.45555e-05\t4.51388e-05\t4.51388e-05\t1\t1\n",
      "12\t1.45183e-05\t2.7457e-05\t2.7457e-05\t1\t1\n",
      "13\t1.44926e-05\t1.69109e-05\t1.69109e-05\t1\t1\n",
      "14\t1.44762e-05\t1.08542e-05\t1.08542e-05\t1\t1\n",
      "15\t1.44658e-05\t7.24998e-06\t7.24998e-06\t1\t1\n",
      "16\t1.44593e-05\t4.69654e-06\t4.69654e-06\t1\t1\n",
      "17\t1.44556e-05\t2.98346e-06\t2.98346e-06\t1\t1\n",
      "18\t1.44533e-05\t2.00256e-06\t2.00256e-06\t1\t1\n",
      "19\t1.44515e-05\t1.59484e-06\t1.59484e-06\t1\t1\n",
      "20\t1.44501e-05\t1.4598e-06\t1.4598e-06\t1\t1\n",
      "21\t1.44491e-05\t1.43841e-06\t1.43841e-06\t1\t1\n",
      "22\t1.44484e-05\t1.36133e-06\t1.36133e-06\t1\t1\n",
      "23\t1.44479e-05\t1.53223e-06\t1.53223e-06\t1\t1\n",
      "24\t1.44477e-05\t1.20281e-06\t1.20281e-06\t1\t1\n",
      "25\t1.44475e-05\t1.51505e-06\t1.51505e-06\t1\t1\n",
      "26\t1.44473e-05\t8.52301e-06\t8.52301e-06\t1\t1\n",
      "27\t1.44472e-05\t2.20708e-05\t2.20708e-05\t1\t1\n",
      "Computing negative curvature direction for scaled tau = 1.41666e-05\n",
      "28\t1.44471e-05\t3.29046e-05\t3.29046e-05\t1\t1\n",
      "Computing negative curvature direction for scaled tau = 1.41666e-05\n",
      "29\t1.44471e-05\t3.431e-05\t3.431e-05\t1\t1\n",
      "Computing negative curvature direction for scaled tau = 1.41666e-05\n",
      "30\t1.4447e-05\t2.84025e-05\t2.84025e-05\t1\t1\n",
      "Computing negative curvature direction for scaled tau = 1.41666e-05\n",
      "31\t1.4447e-05\t3.56039e-05\t3.56039e-05\t1\t1\n",
      "Computing negative curvature direction for scaled tau = 1.41666e-05\n",
      "Spectra unsuccessful after 21 iterations\n",
      "Negative curvature direction calculation failed\n",
      "32\t1.4447e-05\t9.07203e-06\t9.07203e-06\t1\t1\n",
      "Computing negative curvature direction for scaled tau = 1.41666e-05\n",
      "Spectra unsuccessful after 21 iterations\n",
      "Negative curvature direction calculation failed\n",
      "33\t1.4447e-05\t2.02854e-06\t2.02854e-06\t1\t1\n",
      "Computing negative curvature direction for scaled tau = 1.41666e-05\n",
      "Spectra unsuccessful after 21 iterations\n",
      "Negative curvature direction calculation failed\n",
      "34\t1.4447e-05\t8.35421e-07\t8.35421e-07\t1\t1\n",
      "Computing negative curvature direction for scaled tau = 1.41666e-05\n",
      "Spectra unsuccessful after 21 iterations\n",
      "Negative curvature direction calculation failed\n",
      "35\t1.4447e-05\t3.32344e-07\t3.32344e-07\t1\t1\n",
      "Computing negative curvature direction for scaled tau = 1.41666e-05\n",
      "Spectra unsuccessful after 21 iterations\n",
      "Negative curvature direction calculation failed\n",
      "36\t1.4447e-05\t1.30526e-07\t1.30526e-07\t1\t1\n",
      "Computing negative curvature direction for scaled tau = 1.41666e-05\n",
      "Spectra unsuccessful after 21 iterations\n",
      "Negative curvature direction calculation failed\n",
      "37\t1.4447e-05\t5.11677e-08\t5.11677e-08\t1\t1\n",
      "Computing negative curvature direction for scaled tau = 1.41666e-05\n",
      "Spectra unsuccessful after 21 iterations\n",
      "Negative curvature direction calculation failed\n",
      "38\t1.4447e-05\t2.00771e-08\t2.00771e-08\t1\t1\n",
      "Computing negative curvature direction for scaled tau = 1.41666e-05\n",
      "Spectra unsuccessful after 21 iterations\n",
      "Negative curvature direction calculation failed\n",
      "39\t1.4447e-05\t7.88806e-09\t7.88806e-09\t1\t1\n",
      "Computing negative curvature direction for scaled tau = 1.41666e-05\n",
      "Spectra unsuccessful after 21 iterations\n",
      "Negative curvature direction calculation failed\n",
      "40\t1.4447e-05\t3.10244e-09\t3.10244e-09\t1\t1\n",
      "Computing negative curvature direction for scaled tau = 1.41666e-05\n",
      "41\t1.4447e-05\t1.22112e-09\t1.22112e-09\t0.015625\t1\n",
      "Computing negative curvature direction for scaled tau = 1.41666e-05\n",
      "Spectra unsuccessful after 21 iterations\n",
      "Negative curvature direction calculation failed\n",
      "42\t1.4447e-05\t1.08773e-07\t1.08773e-07\t1\t1\n",
      "Computing negative curvature direction for scaled tau = 1.41666e-05\n",
      "43\t1.4447e-05\t4.75316e-10\t4.75316e-10\t0.015625\t1\n",
      "Computing negative curvature direction for scaled tau = 1.41666e-05\n",
      "Spectra unsuccessful after 21 iterations\n",
      "Negative curvature direction calculation failed\n",
      "44\t1.4447e-05\t1.22633e-07\t1.22633e-07\t1\t1\n",
      "Computing negative curvature direction for scaled tau = 1.41666e-05\n",
      "45\t1.4447e-05\t1.85381e-10\t1.85381e-10\t0.0078125\t1\n",
      "Computing negative curvature direction for scaled tau = 1.41666e-05\n",
      "Spectra unsuccessful after 21 iterations\n",
      "Negative curvature direction calculation failed\n",
      "46\t1.4447e-05\t5.09633e-08\t5.09633e-08\t1\t1\n",
      "Computing negative curvature direction for scaled tau = 1.41666e-05\n",
      "47\t1.4447e-05\t7.27721e-11\t7.27721e-11\t0.00390625\t1\n",
      "48\t1.4447e-05\t1.27526e-08\t1.27526e-08\t1\t0\n",
      "49\t1.4447e-05\t2.0651e-10\t2.0651e-10\t1\t0\n"
     ]
    }
   ],
   "source": [
    "cfm = structural_analysis.weavingCrossingForceMagnitudes(curved_linkage, True)\n",
    "if np.sum(cfm[:, 0]>0) > 0:\n",
    "    print(\"Flipping crossing: \", np.argsort(cfm[:, 0] > 0)[-1 * np.sum(cfm[:, 0] > 0):])\n",
    "    for i in np.argsort(cfm[:, 0] > 0)[-1 * np.sum(cfm[:, 0] > 0):]:\n",
    "        curved_linkage.joint(i).type = get_opposite_joint_type(curved_linkage.joint(i).type)\n",
    "    elastic_rods.compute_equilibrium(curved_linkage, callback = eqm_callback, options = OPTS)\n",
    "    curved_linkage_view.update()"
   ]
  },
  {
   "cell_type": "code",
   "execution_count": 37,
   "metadata": {},
   "outputs": [
    {
     "data": {
      "application/vnd.jupyter.widget-view+json": {
       "model_id": "778ca71d1d0f4d6e951ceabec0398195",
       "version_major": 2,
       "version_minor": 0
      },
      "text/plain": [
       "HBox(children=(Renderer(camera=PerspectiveCamera(children=(PointLight(color='#999999', position=(0.0, 0.0, 5.0…"
      ]
     },
     "metadata": {},
     "output_type": "display_data"
    },
    {
     "data": {
      "image/png": "[encoded data removed]",
      "text/plain": [
       "<Figure size 1080x288 with 4 Axes>"
      ]
     },
     "metadata": {
      "needs_background": "light"
     },
     "output_type": "display_data"
    }
   ],
   "source": [
    "third_structure_view = get_structure_analysis_view(curved_linkage)\n",
    "third_structure_view.show()"
   ]
  },
  {
   "cell_type": "code",
   "execution_count": 38,
   "metadata": {},
   "outputs": [],
   "source": [
    "cfm = structural_analysis.weavingCrossingForceMagnitudes(curved_linkage, True)\n",
    "if np.sum(cfm[:, 0]>0) > 0:\n",
    "    print(\"Flipping crossing: \", np.argsort(cfm[:, 0] > 0)[-1 * np.sum(cfm[:, 0] > 0):])\n",
    "    for i in np.argsort(cfm[:, 0] > 0)[-1 * np.sum(cfm[:, 0] > 0):]:\n",
    "        curved_linkage.joint(i).type = get_opposite_joint_type(curved_linkage.joint(i).type)\n",
    "    elastic_rods.compute_equilibrium(curved_linkage, callback = eqm_callback, options = OPTS)\n",
    "    curved_linkage_view.update()"
   ]
  },
  {
   "cell_type": "code",
   "execution_count": 39,
   "metadata": {},
   "outputs": [
    {
     "data": {
      "application/vnd.jupyter.widget-view+json": {
       "model_id": "d8eb49adb96a464088ae93d1684c2a21",
       "version_major": 2,
       "version_minor": 0
      },
      "text/plain": [
       "HBox(children=(Renderer(camera=PerspectiveCamera(children=(PointLight(color='#999999', position=(0.0, 0.0, 5.0…"
      ]
     },
     "metadata": {},
     "output_type": "display_data"
    },
    {
     "data": {
      "image/png": "[encoded data removed]",
      "text/plain": [
       "<Figure size 1080x288 with 4 Axes>"
      ]
     },
     "metadata": {
      "needs_background": "light"
     },
     "output_type": "display_data"
    }
   ],
   "source": [
    "fourth_structure_view = get_structure_analysis_view(curved_linkage)\n",
    "fourth_structure_view.show()"
   ]
  },
  {
   "cell_type": "code",
   "execution_count": 42,
   "metadata": {},
   "outputs": [
    {
     "name": "stdout",
     "output_type": "stream",
     "text": [
      "Min Width  0.05\n",
      "Scale:  100.0\n",
      "num seg per rod 14\n",
      "0.2\n"
     ]
    },
    {
     "data": {
      "image/png": "[encoded data removed]",
      "text/plain": [
       "<Figure size 432x288 with 1 Axes>"
      ]
     },
     "metadata": {
      "needs_background": "light"
     },
     "output_type": "display_data"
    }
   ],
   "source": [
    "save_path = os.getcwd()\n",
    "write_all_output(curved_linkage, io.SUBDIVISION_RESOLUTION, io.MODEL_NAME + '_contact_opt', io.RIBBON_NAME + '_contact_opt', False, 100, min(io.RIBBON_CS), target_width = 5, flip_angles = False)\n",
    "os.chdir(save_path)"
   ]
  },
  {
   "cell_type": "code",
   "execution_count": null,
   "metadata": {},
   "outputs": [],
   "source": []
  }
 ],
 "metadata": {
  "kernelspec": {
   "display_name": "Python 3",
   "language": "python",
   "name": "python3"
  },
  "language_info": {
   "codemirror_mode": {
    "name": "ipython",
    "version": 3
   },
   "file_extension": ".py",
   "mimetype": "text/x-python",
   "name": "python",
   "nbconvert_exporter": "python",
   "pygments_lexer": "ipython3",
   "version": "3.7.9"
  }
 },
 "nbformat": 4,
 "nbformat_minor": 4
}
