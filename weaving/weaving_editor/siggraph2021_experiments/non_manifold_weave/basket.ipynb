{
 "cells": [
  {
   "cell_type": "code",
   "execution_count": 13,
   "metadata": {},
   "outputs": [],
   "source": [
    "elastic_rods_dir = '../../../../elastic_rods/python/'\n",
    "weaving_dir = '../../../'\n",
    "import os\n",
    "import os.path as osp\n",
    "import sys; sys.path.append(elastic_rods_dir); sys.path.append(weaving_dir)\n",
    "import numpy as np, elastic_rods, linkage_vis\n",
    "import numpy.linalg as la\n",
    "from bending_validation import suppress_stdout as so\n",
    "import matplotlib.pyplot as plt\n",
    "from elastic_rods import EnergyType, InterleavingType\n",
    "\n",
    "# weaving\n",
    "import analysis_helper, ribbon_linkage_helper, mesh_vis, linkage_utils, compute_curve_from_curvature, pipeline_helper, importlib\n",
    "importlib.reload(analysis_helper)\n",
    "importlib.reload(ribbon_linkage_helper)\n",
    "importlib.reload(mesh_vis)\n",
    "importlib.reload(linkage_utils)\n",
    "importlib.reload(compute_curve_from_curvature)\n",
    "importlib.reload(pipeline_helper)\n",
    "from analysis_helper import (compare_turning_angle,\n",
    "                            is_on_sphere, \n",
    "                            get_distance_to_center_scalar_field, \n",
    "                            plot_curvatures, \n",
    "                            get_curvature_scalar_field,\n",
    "                            construct_elastic_rod_loop_from_rod_segments, \n",
    "                            concatenate_rod_properties_from_rod_segments, \n",
    "                            compute_min_distance_rigid_transformation)\n",
    "from ribbon_linkage_helper import (update_rest_curvature, \n",
    "                                   set_ribbon_linkage,\n",
    "                                   export_linkage_geometry_to_obj,\n",
    "                                   write_linkage_ribbon_output_florin)\n",
    "\n",
    "from compute_curve_from_curvature import (match_geo_curvature_and_edge_len, get_all_curve_pattern)\n",
    "from linkage_utils import order_segments_by_ribbons, get_turning_angle_and_length_from_ordered_rods\n",
    "\n",
    "from pipeline_helper import (initialize_linkage, get_normal_deviation, set_joint_vector_field, stage_1_optimization, initialize_stage_2_optimizer, stage_2_optimization, InputOrganizer, write_all_output, set_surface_view_options, get_structure_analysis_view, contact_optimization, get_double_side_view, show_selected_joints, highlight_rod_and_joint)\n",
    "import vis.fields\n",
    "import matplotlib.cm as cm\n",
    "import time"
   ]
  },
  {
   "cell_type": "code",
   "execution_count": 14,
   "metadata": {},
   "outputs": [],
   "source": [
    "edge_length = 15\n",
    "cam_params = ((2.0787438565755934, 4.110669876049863, -1.9445352012461516),\n",
    " (-0.3012591112717844, -0.2789859717380453, -0.9118167444443614),\n",
    " (0.0, 0.0, 0.0))"
   ]
  },
  {
   "cell_type": "markdown",
   "metadata": {},
   "source": [
    "### Triaxial Singularity Patches"
   ]
  },
  {
   "cell_type": "code",
   "execution_count": 15,
   "metadata": {},
   "outputs": [],
   "source": [
    "polygon_size = 6"
   ]
  },
  {
   "cell_type": "code",
   "execution_count": 23,
   "metadata": {},
   "outputs": [],
   "source": [
    "def get_radius(length, num_sides):\n",
    "    theta = np.pi * 2 / num_sides\n",
    "    beta = (np.pi - theta) / 2\n",
    "    radius = length * np.sin(beta) / np.sin(theta)\n",
    "    return radius\n",
    "def get_patch(polygon_size = 5):\n",
    "    vertices = []\n",
    "    edges = []\n",
    "    radius = get_radius(1, polygon_size)\n",
    "    for i in range(polygon_size):\n",
    "        theta = 2 * np.pi / polygon_size * i\n",
    "        point = np.array([radius * np.sin(theta), radius * np.cos(theta), 0])\n",
    "        vertices.append(point)\n",
    "        edges.append([i, (i + 1)%polygon_size])\n",
    "    for i in range(polygon_size):\n",
    "        theta = 2 * np.pi / polygon_size * i + np.pi / polygon_size\n",
    "        point = np.array([2 * radius * np.sin(theta), 2 * radius * np.cos(theta), 0])\n",
    "        vertices.append(point)\n",
    "        edges.append([i + polygon_size, i])\n",
    "        edges.append([i + polygon_size, (i+1)%polygon_size])\n",
    "    for i in range(polygon_size):\n",
    "        theta_1 = 2 * np.pi / polygon_size * i + 0.5 *  np.pi / polygon_size\n",
    "        theta_2 = 2 * np.pi / polygon_size * i + 1.5 * np.pi / polygon_size\n",
    "        point = np.array([3 * radius * np.sin(theta_1), 3 * radius * np.cos(theta_1), 0])\n",
    "        vertices.append(point)\n",
    "        point = np.array([3 * radius * np.sin(theta_2), 3 * radius * np.cos(theta_2), 0])\n",
    "        vertices.append(point)\n",
    "        edges.append([i * 2 + polygon_size * 2, i + polygon_size])\n",
    "        edges.append([i * 2 + polygon_size * 2 + 1, i + polygon_size])\n",
    "        edges.append([i * 2 + polygon_size * 2, i * 2 + polygon_size * 2 + 1])\n",
    "\n",
    "    for i in range(polygon_size):\n",
    "        theta = 2 * np.pi / polygon_size * i\n",
    "        point = np.array([4 * radius * np.sin(theta), 4 * radius * np.cos(theta), 0])\n",
    "        vertices.append(point)\n",
    "        if i == 0:\n",
    "            edges.append([i + polygon_size * 4, polygon_size * 2 - 1 + polygon_size * 2])\n",
    "            edges.append([i + polygon_size * 4, i * 2 + polygon_size * 2])\n",
    "        else:\n",
    "            edges.append([i + polygon_size * 4, i * 2 - 1 + polygon_size * 2])\n",
    "            edges.append([i + polygon_size * 4, i * 2 + polygon_size * 2])\n",
    "\n",
    "    for i in range(polygon_size):\n",
    "        theta_1 = 2 * np.pi / polygon_size * i + 0.5 *  np.pi / polygon_size\n",
    "        theta_2 = 2 * np.pi / polygon_size * i - 0.5 * np.pi / polygon_size\n",
    "        point = np.array([5 * radius * np.sin(theta_1), 5 * radius * np.cos(theta_1), 0])\n",
    "        vertices.append(point)\n",
    "        point = np.array([5 * radius * np.sin(theta_2), 5 * radius * np.cos(theta_2), 0])\n",
    "        vertices.append(point)\n",
    "        edges.append([i * 2 + polygon_size * 5, i + polygon_size * 4])\n",
    "        edges.append([i * 2 + polygon_size * 5 + 1, i + polygon_size * 4])\n",
    "        \n",
    "        edges.append([i * 2 + polygon_size * 5, i * 2 + polygon_size * 2])\n",
    "        if i == 0:\n",
    "            edges.append([i * 2 + polygon_size * 5 + 1, polygon_size * 4-1])\n",
    "        else:\n",
    "            edges.append([i * 2 + polygon_size * 5 + 1, i * 2 + polygon_size * 2 - 1])\n",
    "\n",
    "    return vertices, edges\n",
    "\n",
    "def get_layers():\n",
    "    p1_vx, p1_edge = get_patch(polygon_size)\n",
    "    p2_vx, p2_edge = get_patch(polygon_size)\n",
    "    p3_vx, p3_edge = get_patch(polygon_size)\n",
    "    p1_vx = [vx + [0, 0, 3] for vx in p1_vx]\n",
    "    p2_vx = [vx + [0, 0, 6] for vx in p2_vx]\n",
    "    p3_vx = [vx + [0, 0, 9] for vx in p3_vx]\n",
    "    p2_edge = [[vx + len(p1_vx) for vx in edge] for edge in p2_edge]\n",
    "    p3_edge = [[vx + len(p1_vx) + len(p2_vx) for vx in edge] for edge in p3_edge]\n",
    "    total_vx = p1_vx + p2_vx + p3_vx\n",
    "    total_edge = p1_edge + p2_edge + p3_edge + [[len(p1_vx) - 1 - i, len(p1_vx) + len(p2_vx) - 1 - i] for i in range(polygon_size * 2)] + [[len(total_vx) - 1 - i, len(p1_vx) + len(p2_vx) - 1 - i] for i in range(polygon_size * 2)]\n",
    "\n",
    "\n",
    "    basket_path = 'basket'\n",
    "    if not os.path.exists(basket_path):\n",
    "        os.makedirs(basket_path)\n",
    "\n",
    "    with open ('{}/{}_gon.obj'.format(basket_path, polygon_size), 'w') as f:\n",
    "        for point in total_vx:\n",
    "            f.write('v {} {} {}\\n'.format(point[0], point[1], point[2]))\n",
    "        for edge in total_edge:\n",
    "            f.write('l {} {}\\n'.format(edge[0]+1, edge[1]+1))\n",
    "get_layers()"
   ]
  },
  {
   "cell_type": "code",
   "execution_count": 24,
   "metadata": {},
   "outputs": [
    {
     "name": "stdout",
     "output_type": "stream",
     "text": [
      "0.3333333333333333 0.02333333333333333\n"
     ]
    }
   ],
   "source": [
    "rod_length = 1\n",
    "width = rod_length / 15 * 5\n",
    "thickness = width / 5 * 0.35\n",
    "print(width, thickness)\n",
    "io = InputOrganizer('singularity_{}'.format(polygon_size), thickness, width, weaving_dir)"
   ]
  },
  {
   "cell_type": "code",
   "execution_count": 27,
   "metadata": {},
   "outputs": [],
   "source": [
    "import py_newton_optimizer\n",
    "OPTS = py_newton_optimizer.NewtonOptimizerOptions()\n",
    "OPTS.gradTol = 1e-6\n",
    "OPTS.verbose = 1;\n",
    "OPTS.beta = 1e-8\n",
    "OPTS.niter = 200\n",
    "OPTS.verboseNonPosDef = False\n",
    "rw = 1\n",
    "sw = 10\n",
    "drw = 0.01\n",
    "dsw = 0.01"
   ]
  },
  {
   "cell_type": "code",
   "execution_count": 38,
   "metadata": {},
   "outputs": [
    {
     "data": {
      "application/vnd.jupyter.widget-view+json": {
       "model_id": "d8a406e32ad04a5b8ce4b0e5d9b72d60",
       "version_major": 2,
       "version_minor": 0
      },
      "text/plain": [
       "Renderer(camera=PerspectiveCamera(children=(PointLight(color='#999999', position=(0.0, 0.0, 5.0), quaternion=(…"
      ]
     },
     "metadata": {},
     "output_type": "display_data"
    }
   ],
   "source": [
    "with so(): curved_linkage = initialize_linkage(surface_path = None, useCenterline = True, model_path = 'basket/{}_gon.obj'.format(polygon_size), cross_section = io.RIBBON_CS, subdivision_res = io.SUBDIVISION_RESOLUTION, use_constant_width=True, interleaving_type=elastic_rods.InterleavingType.weaving)\n",
    "curved_linkage.set_design_parameter_config(use_restLen = True, use_restKappa = True)\n",
    "curved_save_tgt_joint_pos = curved_linkage.jointPositions();\n",
    "curved_linkage_view = linkage_vis.LinkageViewer(curved_linkage)\n",
    "curved_linkage_view.show()"
   ]
  },
  {
   "cell_type": "code",
   "execution_count": 39,
   "metadata": {},
   "outputs": [
    {
     "data": {
      "text/plain": [
       "240"
      ]
     },
     "execution_count": 39,
     "metadata": {},
     "output_type": "execute_result"
    }
   ],
   "source": [
    "curved_linkage.numSegments()"
   ]
  },
  {
   "cell_type": "code",
   "execution_count": 40,
   "metadata": {},
   "outputs": [],
   "source": [
    "# psrl = np.ones(curved_linkage.numSegments())"
   ]
  },
  {
   "cell_type": "markdown",
   "metadata": {},
   "source": [
    "Triaxial Geometric Singularity - Positive Gaussian"
   ]
  },
  {
   "cell_type": "code",
   "execution_count": 41,
   "metadata": {},
   "outputs": [],
   "source": [
    "# psrl[:6] *= 1.4\n",
    "# psrl[6:18] *= 1.35\n",
    "# psrl[18:36] *= 1.3\n",
    "# psrl[36:48] *= 1.2\n",
    "# psrl[48:72] *= 1.15\n",
    "# psrl[72:] *= 0.9"
   ]
  },
  {
   "cell_type": "markdown",
   "metadata": {},
   "source": [
    "Triaxial Geometric Singularity - Negative Gaussian"
   ]
  },
  {
   "cell_type": "code",
   "execution_count": 42,
   "metadata": {},
   "outputs": [],
   "source": [
    "# psrl[:6] *= 1/1.4\n",
    "# psrl[6:18] *= 1/1.35\n",
    "# psrl[18:36] *= 1/1.3\n",
    "# psrl[36:48] *= 1/1.2\n",
    "# psrl[48:72] *= 1/1.15\n",
    "# psrl[72:] *= 1/0.9\n",
    "# psrl *= 1.1"
   ]
  },
  {
   "cell_type": "code",
   "execution_count": 43,
   "metadata": {},
   "outputs": [],
   "source": [
    "bottomColor =[79/255., 158/255., 246/255.]\n",
    "topColor =[0.5, 0.5, 0.5]\n",
    "heights = curved_linkage.visualizationGeometryHeightColors()\n",
    "colors = np.take(np.array([bottomColor, topColor]), heights < heights.mean(), axis=0)"
   ]
  },
  {
   "cell_type": "code",
   "execution_count": 44,
   "metadata": {},
   "outputs": [],
   "source": [
    "# curved_linkage.setPerSegmentRestLength(psrl)"
   ]
  },
  {
   "cell_type": "code",
   "execution_count": 45,
   "metadata": {},
   "outputs": [],
   "source": [
    "E0 = curved_linkage.designParameterSolve_energy()\n",
    "l0 = curved_linkage.totalRestLength()\n",
    "iterateData, dpo = stage_1_optimization(curved_linkage, drw, dsw, curved_linkage_view, E0 = E0, l0 = l0, niter = 400)"
   ]
  },
  {
   "cell_type": "code",
   "execution_count": 46,
   "metadata": {},
   "outputs": [],
   "source": [
    "def eqm_callback(prob, i):\n",
    "    curved_linkage_view.update(scalarField=colors)"
   ]
  },
  {
   "cell_type": "code",
   "execution_count": 47,
   "metadata": {},
   "outputs": [],
   "source": [
    "driver=curved_linkage.centralJoint()\n",
    "jdo = curved_linkage.dofOffsetForJoint(driver)\n",
    "fixedVars = list(range(jdo, jdo + 6)) # fix rigid motion for a single joint\n",
    "with so(): elastic_rods.compute_equilibrium(curved_linkage, fixedVars=fixedVars, callback = eqm_callback, options = OPTS)"
   ]
  },
  {
   "cell_type": "code",
   "execution_count": null,
   "metadata": {},
   "outputs": [],
   "source": [
    "curved_linkage_view.update(scalarField=colors)"
   ]
  },
  {
   "cell_type": "code",
   "execution_count": null,
   "metadata": {},
   "outputs": [],
   "source": [
    "# save_path = os.getcwd()\n",
    "# write_all_output(curved_linkage, io.SUBDIVISION_RESOLUTION, io.MODEL_NAME + '_geometric_irregularity_positive', io.RIBBON_NAME, False, 1, min(io.RIBBON_CS), target_width = 5, flip_angles = False, width = max(io.RIBBON_CS), use_surface = False)\n",
    "# os.chdir(save_path)"
   ]
  },
  {
   "cell_type": "markdown",
   "metadata": {},
   "source": [
    "## Contact Optimization"
   ]
  },
  {
   "cell_type": "code",
   "execution_count": 48,
   "metadata": {},
   "outputs": [
    {
     "name": "stderr",
     "output_type": "stream",
     "text": [
      "../../../../elastic_rods/python/structural_analysis.py:213: RuntimeWarning: invalid value encountered in true_divide\n",
      "  coefficientOfFriction = cfm[:, 1] / (-separationForce)\n",
      "/Users/yren/Library/Python/3.7/lib/python/site-packages/numpy/lib/histograms.py:839: RuntimeWarning: invalid value encountered in greater_equal\n",
      "  keep = (tmp_a >= first_edge)\n",
      "/Users/yren/Library/Python/3.7/lib/python/site-packages/numpy/lib/histograms.py:840: RuntimeWarning: invalid value encountered in less_equal\n",
      "  keep &= (tmp_a <= last_edge)\n"
     ]
    },
    {
     "data": {
      "application/vnd.jupyter.widget-view+json": {
       "model_id": "889acb84ce25460794fb0b498832434e",
       "version_major": 2,
       "version_minor": 0
      },
      "text/plain": [
       "HBox(children=(Renderer(camera=PerspectiveCamera(children=(PointLight(color='#999999', position=(0.0, 0.0, 5.0…"
      ]
     },
     "metadata": {},
     "output_type": "display_data"
    },
    {
     "data": {
      "image/png": "[encoded data removed]",
      "text/plain": [
       "<Figure size 1080x288 with 4 Axes>"
      ]
     },
     "metadata": {
      "needs_background": "light"
     },
     "output_type": "display_data"
    }
   ],
   "source": [
    "structure_view = get_structure_analysis_view(curved_linkage)\n",
    "structure_view.show()"
   ]
  },
  {
   "cell_type": "code",
   "execution_count": 49,
   "metadata": {},
   "outputs": [],
   "source": [
    "def get_opposite_joint_type(curr_type):\n",
    "    if curr_type == curved_linkage.joint(0).Type.A_OVER_B:\n",
    "        return curved_linkage.joint(0).Type.B_OVER_A\n",
    "    return curved_linkage.joint(0).Type.A_OVER_B\n",
    "import structural_analysis"
   ]
  },
  {
   "cell_type": "code",
   "execution_count": 50,
   "metadata": {
    "scrolled": true
   },
   "outputs": [
    {
     "name": "stdout",
     "output_type": "stream",
     "text": [
      "Flipping crossing:  [ 57  26  80  78  77  76  75  73  45  70  68  66  65  58 110  62]\n",
      "0\t0.148469\t7.50657\t7.50657\t1\t1\n",
      "1\t0.0668914\t11.7487\t11.7487\t1\t1\n",
      "2\t0.0410217\t0.4251\t0.4251\t1\t1\n",
      "3\t0.0379991\t0.246838\t0.246838\t1\t1\n",
      "4\t0.0350948\t0.178476\t0.178476\t1\t1\n",
      "5\t0.0322423\t0.13343\t0.13343\t1\t1\n",
      "6\t0.0295572\t0.104255\t0.104255\t1\t1\n",
      "7\t0.0272255\t0.0870078\t0.0870078\t1\t1\n",
      "8\t0.025396\t0.0698361\t0.0698361\t1\t1\n",
      "9\t0.0240972\t0.0507566\t0.0507566\t1\t1\n",
      "10\t0.0232331\t0.0333999\t0.0333999\t1\t1\n",
      "11\t0.022681\t0.0217286\t0.0217286\t1\t1\n",
      "12\t0.0223543\t0.0143931\t0.0143931\t1\t1\n",
      "13\t0.0221734\t0.0092425\t0.0092425\t1\t1\n",
      "14\t0.0220791\t0.00631584\t0.00631584\t1\t1\n",
      "15\t0.0220334\t0.00367056\t0.00367056\t1\t1\n",
      "16\t0.0220102\t0.0022373\t0.0022373\t1\t1\n",
      "17\t0.0219957\t0.00178121\t0.00178121\t1\t1\n",
      "18\t0.0219857\t0.00171829\t0.00171829\t1\t1\n",
      "19\t0.0219792\t0.00173357\t0.00173357\t1\t1\n",
      "20\t0.0219755\t0.00127924\t0.00127924\t1\t1\n",
      "21\t0.0219736\t0.000828674\t0.000828674\t1\t1\n",
      "22\t0.0219724\t0.000611133\t0.000611133\t1\t1\n",
      "23\t0.0219716\t0.000367703\t0.000367703\t1\t1\n",
      "24\t0.0219708\t0.000330938\t0.000330938\t1\t1\n",
      "25\t0.0219701\t0.000470709\t0.000470709\t1\t1\n",
      "26\t0.0219697\t0.000428973\t0.000428973\t1\t1\n",
      "27\t0.0219696\t0.00020363\t0.00020363\t1\t1\n",
      "28\t0.0219696\t4.43819e-05\t4.43819e-05\t1\t1\n",
      "Computing negative curvature direction for scaled tau = 2.73155e-08\n",
      "29\t0.0219696\t3.21013e-06\t3.21013e-06\t1\t1\n",
      "Computing negative curvature direction for scaled tau = 2.73155e-08\n",
      "Spectra unsuccessful after 21 iterations\n",
      "Negative curvature direction calculation failed\n",
      "30\t0.0219696\t3.16532e-05\t3.16532e-05\t1\t1\n",
      "Computing negative curvature direction for scaled tau = 2.73155e-08\n",
      "31\t0.0219696\t3.35759e-10\t3.35759e-10\t0.015625\t1\n",
      "Computing negative curvature direction for scaled tau = 2.73155e-08\n",
      "32\t0.0219696\t1.26764e-07\t1.26764e-07\t9.53674e-07\t1\n",
      "Computing negative curvature direction for scaled tau = 2.73155e-08\n",
      "33\t0.0219696\t1.26776e-07\t1.26776e-07\t9.53674e-07\t1\n",
      "Computing negative curvature direction for scaled tau = 2.73155e-08\n",
      "Spectra unsuccessful after 21 iterations\n",
      "Negative curvature direction calculation failed\n",
      "34\t0.0219696\t1.26775e-07\t1.26775e-07\t1\t1\n",
      "Computing negative curvature direction for scaled tau = 2.73155e-08\n",
      "35\t0.0219696\t3.01659e-11\t3.01659e-11\t0.00390625\t1\n",
      "Computing negative curvature direction for scaled tau = 2.73155e-08\n",
      "36\t0.0219696\t7.09579e-08\t7.09579e-08\t4.76837e-07\t1\n",
      "Computing negative curvature direction for scaled tau = 2.73155e-08\n",
      "37\t0.0219696\t7.09557e-08\t7.09557e-08\t2.98023e-08\t1\n",
      "Initial backtracking failed; attempting gradient descent.\n",
      "Computing negative curvature direction for scaled tau = 2.73155e-08\n",
      "38\t0.0219696\t7.09513e-08\t7.09513e-08\t0.000976562\t1\n",
      "Computing negative curvature direction for scaled tau = 2.73155e-08\n",
      "39\t0.0219696\t7.11979e-08\t7.11979e-08\t0.00012207\t1\n",
      "Computing negative curvature direction for scaled tau = 2.73155e-08\n",
      "40\t0.0219696\t7.12326e-08\t7.12326e-08\t2.98023e-08\t1\n",
      "Initial backtracking failed; attempting gradient descent.\n",
      "Computing negative curvature direction for scaled tau = 2.73155e-08\n",
      "41\t0.0219696\t7.12312e-08\t7.12312e-08\t2.98023e-08\t1\n",
      "Initial backtracking failed; attempting gradient descent.\n",
      "Computing negative curvature direction for scaled tau = 2.73155e-08\n",
      "42\t0.0219696\t7.12274e-08\t7.12274e-08\t1.52588e-05\t1\n",
      "Computing negative curvature direction for scaled tau = 2.73155e-08\n",
      "43\t0.0219696\t7.12229e-08\t7.12229e-08\t2.98023e-08\t1\n",
      "Initial backtracking failed; attempting gradient descent.\n",
      "Maximum number of gradient descent fallback steps reached.\n",
      "43\t0.0219696\t7.12229e-08\t7.12229e-08\t2.98023e-08\t1\n"
     ]
    }
   ],
   "source": [
    "cfm = structural_analysis.weavingCrossingForceMagnitudes(curved_linkage, True)\n",
    "if np.sum(cfm[:, 0]>0) > 0:\n",
    "    print(\"Flipping crossing: \", np.argsort(cfm[:, 0] > 0)[-1 * np.sum(cfm[:, 0] > 0):])\n",
    "    for i in np.argsort(cfm[:, 0] > 0)[-1 * np.sum(cfm[:, 0] > 0):]:\n",
    "        curved_linkage.joint(i).type = get_opposite_joint_type(curved_linkage.joint(i).type)\n",
    "    elastic_rods.compute_equilibrium(curved_linkage, callback = eqm_callback, options = OPTS)\n",
    "    curved_linkage_view.update()"
   ]
  },
  {
   "cell_type": "code",
   "execution_count": 51,
   "metadata": {},
   "outputs": [
    {
     "data": {
      "application/vnd.jupyter.widget-view+json": {
       "model_id": "e4d6cd5fea044c17a9017baa2670a86d",
       "version_major": 2,
       "version_minor": 0
      },
      "text/plain": [
       "HBox(children=(Renderer(camera=PerspectiveCamera(children=(PointLight(color='#999999', position=(0.0, 0.0, 5.0…"
      ]
     },
     "metadata": {},
     "output_type": "display_data"
    },
    {
     "data": {
      "image/png": "[encoded data removed]",
      "text/plain": [
       "<Figure size 1080x288 with 4 Axes>"
      ]
     },
     "metadata": {
      "needs_background": "light"
     },
     "output_type": "display_data"
    }
   ],
   "source": [
    "second_structure_view = get_structure_analysis_view(curved_linkage)\n",
    "second_structure_view.show()"
   ]
  },
  {
   "cell_type": "code",
   "execution_count": 31,
   "metadata": {
    "scrolled": true
   },
   "outputs": [
    {
     "name": "stdout",
     "output_type": "stream",
     "text": [
      "Flipping crossing:  [40]\n",
      "0\t0.000342827\t0.219982\t0.219982\t0.0625\t1\n",
      "1\t0.000317247\t0.300223\t0.300223\t1\t1\n",
      "2\t0.000269646\t1.78549\t1.78549\t1\t1\n",
      "3\t0.000117913\t0.35982\t0.35982\t1\t1\n",
      "4\t9.80277e-05\t0.0214922\t0.0214922\t1\t1\n",
      "5\t9.27493e-05\t0.00782052\t0.00782052\t1\t1\n",
      "6\t8.81046e-05\t0.00614681\t0.00614681\t1\t1\n",
      "7\t8.38511e-05\t0.00491468\t0.00491468\t1\t1\n",
      "8\t8.011e-05\t0.00382015\t0.00382015\t1\t1\n",
      "9\t7.69553e-05\t0.00317724\t0.00317724\t1\t1\n",
      "10\t7.44059e-05\t0.00277645\t0.00277645\t1\t1\n",
      "11\t7.24602e-05\t0.00221079\t0.00221079\t1\t1\n",
      "12\t7.10864e-05\t0.00157607\t0.00157607\t1\t1\n",
      "13\t7.01805e-05\t0.00100822\t0.00100822\t1\t1\n",
      "14\t6.95901e-05\t0.000573356\t0.000573356\t1\t1\n",
      "15\t6.91839e-05\t0.000342224\t0.000342224\t1\t1\n",
      "16\t6.8886e-05\t0.000242454\t0.000242454\t1\t1\n",
      "17\t6.8662e-05\t0.000179775\t0.000179775\t1\t1\n",
      "18\t6.84977e-05\t0.000131647\t0.000131647\t1\t1\n",
      "19\t6.83819e-05\t0.000130265\t0.000130265\t1\t1\n",
      "20\t6.83024e-05\t0.000127273\t0.000127273\t1\t1\n",
      "21\t6.82514e-05\t0.000169862\t0.000169862\t1\t1\n",
      "22\t6.82218e-05\t0.000210085\t0.000210085\t1\t1\n",
      "23\t6.82059e-05\t0.000222793\t0.000222793\t1\t1\n",
      "24\t6.81979e-05\t0.000208032\t0.000208032\t1\t1\n",
      "25\t6.81936e-05\t0.000153312\t0.000153312\t1\t1\n",
      "26\t6.81912e-05\t9.3355e-05\t9.3355e-05\t1\t1\n",
      "27\t6.81897e-05\t6.17551e-05\t6.17551e-05\t1\t1\n",
      "28\t6.81889e-05\t5.31164e-05\t5.31164e-05\t1\t1\n",
      "29\t6.81885e-05\t5.83659e-05\t5.83659e-05\t1\t1\n",
      "30\t6.81882e-05\t6.08855e-05\t6.08855e-05\t1\t1\n",
      "Computing negative curvature direction for scaled tau = 6.11912e-06\n",
      "31\t6.81881e-05\t5.18743e-05\t5.18743e-05\t1\t1\n",
      "Computing negative curvature direction for scaled tau = 6.11912e-06\n",
      "32\t6.8188e-05\t3.32198e-05\t3.32198e-05\t1\t1\n",
      "Computing negative curvature direction for scaled tau = 6.11912e-06\n",
      "Spectra unsuccessful after 21 iterations\n",
      "Negative curvature direction calculation failed\n",
      "33\t6.8188e-05\t2.46021e-05\t2.46021e-05\t1\t1\n",
      "Computing negative curvature direction for scaled tau = 6.11912e-06\n",
      "Spectra unsuccessful after 21 iterations\n",
      "Negative curvature direction calculation failed\n",
      "34\t6.8188e-05\t5.19835e-06\t5.19835e-06\t1\t1\n",
      "Computing negative curvature direction for scaled tau = 6.11912e-06\n",
      "Spectra unsuccessful after 21 iterations\n",
      "Negative curvature direction calculation failed\n",
      "35\t6.8188e-05\t1.52853e-06\t1.52853e-06\t1\t1\n",
      "Computing negative curvature direction for scaled tau = 6.11912e-06\n",
      "Spectra unsuccessful after 21 iterations\n",
      "Negative curvature direction calculation failed\n",
      "36\t6.8188e-05\t4.39557e-07\t4.39557e-07\t1\t1\n",
      "Computing negative curvature direction for scaled tau = 6.11912e-06\n",
      "Spectra unsuccessful after 21 iterations\n",
      "Negative curvature direction calculation failed\n",
      "37\t6.8188e-05\t1.34107e-07\t1.34107e-07\t1\t1\n",
      "Computing negative curvature direction for scaled tau = 6.11912e-06\n",
      "Spectra unsuccessful after 21 iterations\n",
      "Negative curvature direction calculation failed\n",
      "38\t6.8188e-05\t4.36047e-08\t4.36047e-08\t1\t1\n",
      "Computing negative curvature direction for scaled tau = 6.11912e-06\n",
      "Spectra unsuccessful after 21 iterations\n",
      "Negative curvature direction calculation failed\n",
      "39\t6.8188e-05\t1.47539e-08\t1.47539e-08\t1\t1\n",
      "Computing negative curvature direction for scaled tau = 6.11912e-06\n",
      "Spectra unsuccessful after 21 iterations\n",
      "Negative curvature direction calculation failed\n",
      "40\t6.8188e-05\t5.11872e-09\t5.11872e-09\t1\t1\n",
      "Computing negative curvature direction for scaled tau = 6.11912e-06\n",
      "41\t6.8188e-05\t1.80644e-09\t1.80644e-09\t0.0625\t1\n",
      "Computing negative curvature direction for scaled tau = 6.11912e-06\n",
      "Spectra unsuccessful after 21 iterations\n",
      "Negative curvature direction calculation failed\n",
      "42\t6.8188e-05\t5.03935e-07\t5.03935e-07\t1\t1\n",
      "Computing negative curvature direction for scaled tau = 6.11912e-06\n",
      "43\t6.8188e-05\t6.14921e-10\t6.14921e-10\t0.03125\t1\n",
      "Computing negative curvature direction for scaled tau = 6.11912e-06\n",
      "Spectra unsuccessful after 21 iterations\n",
      "Negative curvature direction calculation failed\n",
      "44\t6.8188e-05\t6.19758e-07\t6.19758e-07\t1\t1\n",
      "Computing negative curvature direction for scaled tau = 6.11912e-06\n",
      "45\t6.8188e-05\t2.1655e-10\t2.1655e-10\t0.03125\t1\n",
      "Computing negative curvature direction for scaled tau = 6.11912e-06\n",
      "Spectra unsuccessful after 21 iterations\n",
      "Negative curvature direction calculation failed\n",
      "46\t6.8188e-05\t2.24658e-07\t2.24658e-07\t1\t1\n",
      "Computing negative curvature direction for scaled tau = 6.11912e-06\n",
      "47\t6.8188e-05\t7.7244e-11\t7.7244e-11\t0.00390625\t1\n",
      "Computing negative curvature direction for scaled tau = 6.11912e-06\n",
      "48\t6.8188e-05\t8.90581e-08\t8.90581e-08\t0.015625\t1\n",
      "Computing negative curvature direction for scaled tau = 6.11912e-06\n",
      "49\t6.8188e-05\t1.59265e-07\t1.59265e-07\t0.000488281\t1\n",
      "Computing negative curvature direction for scaled tau = 6.11912e-06\n",
      "Spectra unsuccessful after 21 iterations\n",
      "Negative curvature direction calculation failed\n",
      "50\t6.8188e-05\t1.61084e-07\t1.61084e-07\t1\t1\n",
      "Computing negative curvature direction for scaled tau = 6.11912e-06\n",
      "51\t6.8188e-05\t2.83608e-11\t2.83608e-11\t0.000976562\t1\n",
      "Computing negative curvature direction for scaled tau = 6.11912e-06\n",
      "52\t6.8188e-05\t1.72432e-08\t1.72432e-08\t2.98023e-08\t1\n",
      "Initial backtracking failed; attempting gradient descent.\n",
      "Computing negative curvature direction for scaled tau = 6.11912e-06\n",
      "53\t6.8188e-05\t1.50738e-08\t1.50738e-08\t0.015625\t1\n",
      "Computing negative curvature direction for scaled tau = 6.11912e-06\n",
      "54\t6.8188e-05\t3.08995e-08\t3.08995e-08\t6.10352e-05\t1\n",
      "Computing negative curvature direction for scaled tau = 6.11912e-06\n",
      "Spectra unsuccessful after 21 iterations\n",
      "Negative curvature direction calculation failed\n",
      "55\t6.8188e-05\t3.09506e-08\t3.09506e-08\t1\t1\n",
      "Computing negative curvature direction for scaled tau = 6.11912e-06\n",
      "56\t6.8188e-05\t1.0983e-11\t1.0983e-11\t6.10352e-05\t1\n",
      "Computing negative curvature direction for scaled tau = 6.11912e-06\n",
      "57\t6.8188e-05\t7.61868e-10\t7.61868e-10\t0.000244141\t1\n",
      "Computing negative curvature direction for scaled tau = 6.11912e-06\n",
      "58\t6.8188e-05\t3.34624e-09\t3.34624e-09\t3.8147e-06\t1\n",
      "Computing negative curvature direction for scaled tau = 6.11912e-06\n",
      "59\t6.8188e-05\t3.34619e-09\t3.34619e-09\t0.00195312\t1\n",
      "Computing negative curvature direction for scaled tau = 6.11912e-06\n",
      "60\t6.8188e-05\t6.70428e-09\t6.70428e-09\t0.00195312\t1\n",
      "Computing negative curvature direction for scaled tau = 6.11912e-06\n",
      "61\t6.8188e-05\t1.0647e-08\t1.0647e-08\t0.000244141\t1\n",
      "Computing negative curvature direction for scaled tau = 6.11912e-06\n",
      "62\t6.8188e-05\t1.102e-08\t1.102e-08\t2.98023e-08\t1\n",
      "Initial backtracking failed; attempting gradient descent.\n",
      "Computing negative curvature direction for scaled tau = 6.11912e-06\n",
      "63\t6.8188e-05\t1.08668e-08\t1.08668e-08\t0.000488281\t1\n",
      "Computing negative curvature direction for scaled tau = 6.11912e-06\n",
      "64\t6.8188e-05\t1.09162e-08\t1.09162e-08\t2.98023e-08\t1\n",
      "Initial backtracking failed; attempting gradient descent.\n",
      "Computing negative curvature direction for scaled tau = 6.11912e-06\n",
      "65\t6.8188e-05\t1.09145e-08\t1.09145e-08\t2.98023e-08\t1\n",
      "Initial backtracking failed; attempting gradient descent.\n",
      "Maximum number of gradient descent fallback steps reached.\n",
      "65\t6.8188e-05\t1.09145e-08\t1.09145e-08\t2.98023e-08\t1\n"
     ]
    }
   ],
   "source": [
    "cfm = structural_analysis.weavingCrossingForceMagnitudes(curved_linkage, True)\n",
    "if np.sum(cfm[:, 0]>0) > 0:\n",
    "    print(\"Flipping crossing: \", np.argsort(cfm[:, 0] > 0)[-1 * np.sum(cfm[:, 0] > 0):])\n",
    "    for i in np.argsort(cfm[:, 0] > 0)[-1 * np.sum(cfm[:, 0] > 0):]:\n",
    "        curved_linkage.joint(i).type = get_opposite_joint_type(curved_linkage.joint(i).type)\n",
    "    elastic_rods.compute_equilibrium(curved_linkage, callback = eqm_callback, options = OPTS)\n",
    "    curved_linkage_view.update()"
   ]
  },
  {
   "cell_type": "code",
   "execution_count": 32,
   "metadata": {},
   "outputs": [
    {
     "data": {
      "application/vnd.jupyter.widget-view+json": {
       "model_id": "20a6decd56db4d499081a37d8907fc8f",
       "version_major": 2,
       "version_minor": 0
      },
      "text/plain": [
       "HBox(children=(Renderer(camera=PerspectiveCamera(children=(PointLight(color='#999999', position=(0.0, 0.0, 5.0…"
      ]
     },
     "metadata": {},
     "output_type": "display_data"
    },
    {
     "data": {
      "image/png": "[encoded data removed]",
      "text/plain": [
       "<Figure size 1080x288 with 4 Axes>"
      ]
     },
     "metadata": {
      "needs_background": "light"
     },
     "output_type": "display_data"
    }
   ],
   "source": [
    "third_structure_view = get_structure_analysis_view(curved_linkage)\n",
    "third_structure_view.show()"
   ]
  },
  {
   "cell_type": "code",
   "execution_count": 38,
   "metadata": {},
   "outputs": [],
   "source": [
    "cfm = structural_analysis.weavingCrossingForceMagnitudes(curved_linkage, True)\n",
    "if np.sum(cfm[:, 0]>0) > 0:\n",
    "    print(\"Flipping crossing: \", np.argsort(cfm[:, 0] > 0)[-1 * np.sum(cfm[:, 0] > 0):])\n",
    "    for i in np.argsort(cfm[:, 0] > 0)[-1 * np.sum(cfm[:, 0] > 0):]:\n",
    "        curved_linkage.joint(i).type = get_opposite_joint_type(curved_linkage.joint(i).type)\n",
    "    elastic_rods.compute_equilibrium(curved_linkage, callback = eqm_callback, options = OPTS)\n",
    "    curved_linkage_view.update()"
   ]
  },
  {
   "cell_type": "code",
   "execution_count": 39,
   "metadata": {},
   "outputs": [
    {
     "data": {
      "application/vnd.jupyter.widget-view+json": {
       "model_id": "d8eb49adb96a464088ae93d1684c2a21",
       "version_major": 2,
       "version_minor": 0
      },
      "text/plain": [
       "HBox(children=(Renderer(camera=PerspectiveCamera(children=(PointLight(color='#999999', position=(0.0, 0.0, 5.0…"
      ]
     },
     "metadata": {},
     "output_type": "display_data"
    },
    {
     "data": {
      "image/png": "[encoded data removed]",
      "text/plain": [
       "<Figure size 1080x288 with 4 Axes>"
      ]
     },
     "metadata": {
      "needs_background": "light"
     },
     "output_type": "display_data"
    }
   ],
   "source": [
    "fourth_structure_view = get_structure_analysis_view(curved_linkage)\n",
    "fourth_structure_view.show()"
   ]
  },
  {
   "cell_type": "code",
   "execution_count": 52,
   "metadata": {},
   "outputs": [
    {
     "name": "stdout",
     "output_type": "stream",
     "text": [
      "Min Width  0.3333333333333333\n",
      "Scale:  15.0\n",
      "num seg per rod 7\n",
      "num seg per rod 7\n",
      "num seg per rod 7\n",
      "num seg per rod 7\n",
      "num seg per rod 7\n",
      "num seg per rod 7\n",
      "num seg per rod 66\n",
      "num seg per rod 66\n",
      "num seg per rod 12\n",
      "num seg per rod 7\n",
      "num seg per rod 7\n",
      "num seg per rod 7\n",
      "num seg per rod 7\n",
      "num seg per rod 7\n",
      "num seg per rod 7\n",
      "num seg per rod 12\n"
     ]
    },
    {
     "ename": "AttributeError",
     "evalue": "'elastic_rods.RodLinkage' object has no attribute 'get_squared_distance_to_target_surface'",
     "output_type": "error",
     "traceback": [
      "\u001b[0;31m---------------------------------------------------------------------------\u001b[0m",
      "\u001b[0;31mAttributeError\u001b[0m                            Traceback (most recent call last)",
      "\u001b[0;32m<ipython-input-52-10a21bbc7fa7>\u001b[0m in \u001b[0;36m<module>\u001b[0;34m\u001b[0m\n\u001b[1;32m      1\u001b[0m \u001b[0msave_path\u001b[0m \u001b[0;34m=\u001b[0m \u001b[0mos\u001b[0m\u001b[0;34m.\u001b[0m\u001b[0mgetcwd\u001b[0m\u001b[0;34m(\u001b[0m\u001b[0;34m)\u001b[0m\u001b[0;34m\u001b[0m\u001b[0;34m\u001b[0m\u001b[0m\n\u001b[0;32m----> 2\u001b[0;31m \u001b[0mwrite_all_output\u001b[0m\u001b[0;34m(\u001b[0m\u001b[0mcurved_linkage\u001b[0m\u001b[0;34m,\u001b[0m \u001b[0mio\u001b[0m\u001b[0;34m.\u001b[0m\u001b[0mSUBDIVISION_RESOLUTION\u001b[0m\u001b[0;34m,\u001b[0m \u001b[0mio\u001b[0m\u001b[0;34m.\u001b[0m\u001b[0mMODEL_NAME\u001b[0m \u001b[0;34m+\u001b[0m \u001b[0;34m'_contact_opt'\u001b[0m\u001b[0;34m,\u001b[0m \u001b[0mio\u001b[0m\u001b[0;34m.\u001b[0m\u001b[0mRIBBON_NAME\u001b[0m \u001b[0;34m+\u001b[0m \u001b[0;34m'_contact_opt'\u001b[0m\u001b[0;34m,\u001b[0m \u001b[0;32mFalse\u001b[0m\u001b[0;34m,\u001b[0m \u001b[0;36m100\u001b[0m\u001b[0;34m,\u001b[0m \u001b[0mmin\u001b[0m\u001b[0;34m(\u001b[0m\u001b[0mio\u001b[0m\u001b[0;34m.\u001b[0m\u001b[0mRIBBON_CS\u001b[0m\u001b[0;34m)\u001b[0m\u001b[0;34m,\u001b[0m \u001b[0mtarget_width\u001b[0m \u001b[0;34m=\u001b[0m \u001b[0;36m5\u001b[0m\u001b[0;34m,\u001b[0m \u001b[0mflip_angles\u001b[0m \u001b[0;34m=\u001b[0m \u001b[0;32mFalse\u001b[0m\u001b[0;34m)\u001b[0m\u001b[0;34m\u001b[0m\u001b[0;34m\u001b[0m\u001b[0m\n\u001b[0m\u001b[1;32m      3\u001b[0m \u001b[0mos\u001b[0m\u001b[0;34m.\u001b[0m\u001b[0mchdir\u001b[0m\u001b[0;34m(\u001b[0m\u001b[0msave_path\u001b[0m\u001b[0;34m)\u001b[0m\u001b[0;34m\u001b[0m\u001b[0;34m\u001b[0m\u001b[0m\n",
      "\u001b[0;32m~/Develop/EPFL_LGG/weaving/weaving/pipeline_helper.py\u001b[0m in \u001b[0;36mwrite_all_output\u001b[0;34m(linkage, resolution, model_name, ribbon_name, use_family_label, scale, thickness, target_width, flip_angles, width, use_surface)\u001b[0m\n\u001b[1;32m    268\u001b[0m     \u001b[0mnp\u001b[0m\u001b[0;34m.\u001b[0m\u001b[0msave\u001b[0m\u001b[0;34m(\u001b[0m\u001b[0;34m'{}_dof.npy'\u001b[0m\u001b[0;34m.\u001b[0m\u001b[0mformat\u001b[0m\u001b[0;34m(\u001b[0m\u001b[0mmodel_name\u001b[0m\u001b[0;34m)\u001b[0m\u001b[0;34m,\u001b[0m \u001b[0mlinkage\u001b[0m\u001b[0;34m.\u001b[0m\u001b[0mgetExtendedDoFsPSRL\u001b[0m\u001b[0;34m(\u001b[0m\u001b[0;34m)\u001b[0m\u001b[0;34m)\u001b[0m\u001b[0;34m\u001b[0m\u001b[0;34m\u001b[0m\u001b[0m\n\u001b[1;32m    269\u001b[0m     \u001b[0;32mif\u001b[0m \u001b[0muse_surface\u001b[0m\u001b[0;34m:\u001b[0m\u001b[0;34m\u001b[0m\u001b[0;34m\u001b[0m\u001b[0m\n\u001b[0;32m--> 270\u001b[0;31m         \u001b[0mwrite_distance_to_linkage_mesh\u001b[0m\u001b[0;34m(\u001b[0m\u001b[0mlinkage\u001b[0m\u001b[0;34m,\u001b[0m \u001b[0mwidth\u001b[0m\u001b[0;34m,\u001b[0m \u001b[0mmodel_name\u001b[0m\u001b[0;34m)\u001b[0m\u001b[0;34m\u001b[0m\u001b[0;34m\u001b[0m\u001b[0m\n\u001b[0m\u001b[1;32m    271\u001b[0m         \u001b[0;31m# write_centerline_normal_deviation_to_linkage_mesh(linkage, model_name)\u001b[0m\u001b[0;34m\u001b[0m\u001b[0;34m\u001b[0m\u001b[0;34m\u001b[0m\u001b[0m\n\u001b[1;32m    272\u001b[0m \u001b[0;34m\u001b[0m\u001b[0m\n",
      "\u001b[0;32m~/Develop/EPFL_LGG/weaving/weaving/ribbon_linkage_helper.py\u001b[0m in \u001b[0;36mwrite_distance_to_linkage_mesh\u001b[0;34m(linkage, width, model_name)\u001b[0m\n\u001b[1;32m    422\u001b[0m     \u001b[0;31m#     cmap = cmap2\u001b[0m\u001b[0;34m\u001b[0m\u001b[0;34m\u001b[0m\u001b[0;34m\u001b[0m\u001b[0m\n\u001b[1;32m    423\u001b[0m         \u001b[0;32mreturn\u001b[0m \u001b[0mcmap\u001b[0m\u001b[0;34m(\u001b[0m\u001b[0mcolors\u001b[0m\u001b[0;34m)\u001b[0m\u001b[0;34m\u001b[0m\u001b[0;34m\u001b[0m\u001b[0m\n\u001b[0;32m--> 424\u001b[0;31m     \u001b[0mdistance_to_surface\u001b[0m \u001b[0;34m=\u001b[0m \u001b[0mnp\u001b[0m\u001b[0;34m.\u001b[0m\u001b[0marray\u001b[0m\u001b[0;34m(\u001b[0m\u001b[0mlinkage\u001b[0m\u001b[0;34m.\u001b[0m\u001b[0mget_squared_distance_to_target_surface\u001b[0m\u001b[0;34m(\u001b[0m\u001b[0;34m(\u001b[0m\u001b[0mlinkage\u001b[0m\u001b[0;34m.\u001b[0m\u001b[0mvisualizationGeometry\u001b[0m\u001b[0;34m(\u001b[0m\u001b[0;34m)\u001b[0m\u001b[0;34m[\u001b[0m\u001b[0;36m0\u001b[0m\u001b[0;34m]\u001b[0m\u001b[0;34m)\u001b[0m\u001b[0;34m.\u001b[0m\u001b[0mflatten\u001b[0m\u001b[0;34m(\u001b[0m\u001b[0;34m)\u001b[0m\u001b[0;34m)\u001b[0m\u001b[0;34m)\u001b[0m\u001b[0;34m\u001b[0m\u001b[0;34m\u001b[0m\u001b[0m\n\u001b[0m\u001b[1;32m    425\u001b[0m     \u001b[0mdistance_to_surface\u001b[0m \u001b[0;34m=\u001b[0m \u001b[0mnp\u001b[0m\u001b[0;34m.\u001b[0m\u001b[0msqrt\u001b[0m\u001b[0;34m(\u001b[0m\u001b[0mdistance_to_surface\u001b[0m\u001b[0;34m)\u001b[0m\u001b[0;34m\u001b[0m\u001b[0;34m\u001b[0m\u001b[0m\n\u001b[1;32m    426\u001b[0m     \u001b[0mribbon_distance_scale\u001b[0m \u001b[0;34m=\u001b[0m \u001b[0;36m1\u001b[0m\u001b[0;34m/\u001b[0m\u001b[0mwidth\u001b[0m\u001b[0;34m\u001b[0m\u001b[0;34m\u001b[0m\u001b[0m\n",
      "\u001b[0;31mAttributeError\u001b[0m: 'elastic_rods.RodLinkage' object has no attribute 'get_squared_distance_to_target_surface'"
     ]
    },
    {
     "data": {
      "image/png": "[encoded data removed]",
      "text/plain": [
       "<Figure size 432x288 with 1 Axes>"
      ]
     },
     "metadata": {
      "needs_background": "light"
     },
     "output_type": "display_data"
    }
   ],
   "source": [
    "save_path = os.getcwd()\n",
    "write_all_output(curved_linkage, io.SUBDIVISION_RESOLUTION, io.MODEL_NAME + '_contact_opt', io.RIBBON_NAME + '_contact_opt', False, 100, min(io.RIBBON_CS), target_width = 5, flip_angles = False)\n",
    "os.chdir(save_path)"
   ]
  },
  {
   "cell_type": "code",
   "execution_count": 53,
   "metadata": {},
   "outputs": [],
   "source": [
    "export_linkage_geometry_to_obj(curved_linkage, '{}_contact_opt.obj'.format(io.MODEL_NAME))"
   ]
  },
  {
   "cell_type": "markdown",
   "metadata": {},
   "source": [
    "### Biaxial"
   ]
  },
  {
   "cell_type": "code",
   "execution_count": null,
   "metadata": {},
   "outputs": [],
   "source": [
    "grid_size = 4"
   ]
  },
  {
   "cell_type": "code",
   "execution_count": null,
   "metadata": {},
   "outputs": [],
   "source": [
    "def generate_biaxial_grid(grid_size):\n",
    "    unit_width = 1\n",
    "    vertices = []\n",
    "    edges = []\n",
    "\n",
    "    for i in range(grid_size):\n",
    "        for j in range(grid_size):\n",
    "            vertices.append([i, j, 0])\n",
    "    \n",
    "    for i in range(grid_size):\n",
    "        vertices.append([-1, i, 0])\n",
    "        vertices.append([grid_size, i, 0])\n",
    "    for i in range(grid_size):\n",
    "        vertices.append([i, -1, 0])\n",
    "        vertices.append([i, grid_size, 0])\n",
    "\n",
    "    for i in range(grid_size):\n",
    "        for j in range(grid_size - 1):\n",
    "            edges.append([i * grid_size + j, i * grid_size + j + 1])\n",
    "            \n",
    "    for i in range(grid_size):\n",
    "        for j in range(grid_size - 1):\n",
    "            edges.append([i + grid_size * j, i  + grid_size * (j + 1)])\n",
    "    \n",
    "    for i in range(grid_size):\n",
    "        edges.append([grid_size ** 2 + i * 2, i])\n",
    "        edges.append([grid_size ** 2 + i * 2 + 1, grid_size ** 2 - grid_size + i])\n",
    "        \n",
    "        edges.append([grid_size ** 2 + grid_size * 2 + i * 2, i * (grid_size)])\n",
    "        edges.append([grid_size ** 2 + grid_size * 2 + i * 2 + 1, i * (grid_size) + grid_size - 1])\n",
    "        \n",
    "\n",
    "    print(edges)\n",
    "    biaxial_path = 'biaxial'\n",
    "    if not os.path.exists(biaxial_path):\n",
    "        os.makedirs(biaxial_path)\n",
    "\n",
    "    with open ('{}/{}_grid.obj'.format(biaxial_path, grid_size), 'w') as f:\n",
    "        for point in vertices:\n",
    "            f.write('v {} {} {}\\n'.format(point[0], point[1], point[2]))\n",
    "        for edge in edges:\n",
    "            f.write('l {} {}\\n'.format(edge[0]+1, edge[1]+1))\n"
   ]
  },
  {
   "cell_type": "code",
   "execution_count": null,
   "metadata": {},
   "outputs": [],
   "source": [
    "generate_biaxial_grid(grid_size)"
   ]
  },
  {
   "cell_type": "code",
   "execution_count": null,
   "metadata": {},
   "outputs": [],
   "source": [
    "rod_length = 1\n",
    "width = rod_length / 20 * 5\n",
    "# thickness = width / 1 * 0.35\n",
    "thickness = width \n",
    "# thickness = 0.017499999999999998\n",
    "print(width, thickness)\n",
    "io = InputOrganizer('biaxial_{}'.format(grid_size), thickness, width, weaving_dir)"
   ]
  },
  {
   "cell_type": "code",
   "execution_count": null,
   "metadata": {},
   "outputs": [],
   "source": [
    "OPTS = elastic_rods.NewtonOptimizerOptions()\n",
    "OPTS.gradTol = 1e-6\n",
    "OPTS.verbose = 1;\n",
    "OPTS.beta = 1e-8\n",
    "OPTS.niter = 10000\n",
    "OPTS.verboseNonPosDef = False\n",
    "rw = 0.01\n",
    "sw = 0.01"
   ]
  },
  {
   "cell_type": "code",
   "execution_count": null,
   "metadata": {},
   "outputs": [],
   "source": [
    "with so(): curved_linkage = initialize_linkage(surface_path = None, useCenterline = True, model_path = 'biaxial/{}_grid.obj'.format(grid_size), cross_section = io.RIBBON_CS, subdivision_res = io.SUBDIVISION_RESOLUTION, use_constant_width=True, interleaving_type=InterleavingType.triaxialWeave)\n",
    "curved_linkage.set_design_parameter_config(use_restLen = True, use_restKappa = True)\n",
    "curved_save_tgt_joint_pos = curved_linkage.jointPositions();\n",
    "curved_linkage_view = linkage_vis.LinkageViewer(curved_linkage)\n",
    "curved_linkage_view.show()"
   ]
  },
  {
   "cell_type": "code",
   "execution_count": null,
   "metadata": {},
   "outputs": [],
   "source": [
    "curved_linkage.numSegments()"
   ]
  },
  {
   "cell_type": "code",
   "execution_count": null,
   "metadata": {},
   "outputs": [],
   "source": [
    "psrl = np.ones(curved_linkage.numSegments())"
   ]
  },
  {
   "cell_type": "code",
   "execution_count": null,
   "metadata": {},
   "outputs": [],
   "source": [
    "topColor =[79/255., 158/255., 246/255.]\n",
    "bottomColor =[0.5, 0.5, 0.5]\n",
    "heights = curved_linkage.visualizationGeometryHeightColors()\n",
    "colors = np.take(np.array([bottomColor, topColor]), heights < heights.mean(), axis=0)"
   ]
  },
  {
   "cell_type": "code",
   "execution_count": null,
   "metadata": {},
   "outputs": [],
   "source": [
    "curved_linkage.setPerSegmentRestLength(psrl)"
   ]
  },
  {
   "cell_type": "code",
   "execution_count": null,
   "metadata": {},
   "outputs": [],
   "source": [
    "equilibrium_data = []\n",
    "def eqm_callback(prob, i):\n",
    "    equilibrium_data.append([curved_linkage.energy(), curved_linkage.energy(elastic_rods.EnergyType.Bend), curved_linkage.energy(elastic_rods.EnergyType.Twist), curved_linkage.energy(elastic_rods.EnergyType.Stretch)])\n",
    "    curved_linkage_view.update(scalarField=colors)"
   ]
  },
  {
   "cell_type": "code",
   "execution_count": null,
   "metadata": {},
   "outputs": [],
   "source": [
    "curved_linkage.energy(elastic_rods.EnergyType.Bend)"
   ]
  },
  {
   "cell_type": "code",
   "execution_count": null,
   "metadata": {
    "scrolled": true
   },
   "outputs": [],
   "source": [
    "driver=curved_linkage.centralJoint()\n",
    "jdo = curved_linkage.dofOffsetForJoint(driver)\n",
    "fixedVars = list(range(jdo, jdo + 6)) # fix rigid motion for a single joint\n",
    "elastic_rods.compute_equilibrium(curved_linkage, fixedVars=fixedVars, callback = eqm_callback, options = OPTS)"
   ]
  },
  {
   "cell_type": "code",
   "execution_count": null,
   "metadata": {},
   "outputs": [],
   "source": [
    "equilibrium_data = np.array(equilibrium_data)"
   ]
  },
  {
   "cell_type": "code",
   "execution_count": null,
   "metadata": {},
   "outputs": [],
   "source": [
    "fig, host = plt.subplots()\n",
    "plt.plot(equilibrium_data[0:])\n",
    "leg = host.legend(['Total', 'Bend', 'Twist', 'Stretch'], loc=\"center right\", facecolor='white', framealpha=1, fancybox=True, prop={'size': 15})\n",
    "fig.savefig('partial_energy.png', dpi=200)"
   ]
  },
  {
   "cell_type": "code",
   "execution_count": null,
   "metadata": {},
   "outputs": [],
   "source": [
    "curved_linkage_view.update(scalarField=colors)"
   ]
  },
  {
   "cell_type": "code",
   "execution_count": null,
   "metadata": {},
   "outputs": [],
   "source": [
    "save_path = os.getcwd()\n",
    "write_all_output(curved_linkage, io.SUBDIVISION_RESOLUTION, io.MODEL_NAME, io.RIBBON_NAME, False, 1, min(io.RIBBON_CS), target_width = 5, flip_angles = False, width = max(io.RIBBON_CS), use_surface = False)\n",
    "os.chdir(save_path)"
   ]
  },
  {
   "cell_type": "code",
   "execution_count": null,
   "metadata": {},
   "outputs": [],
   "source": []
  },
  {
   "cell_type": "code",
   "execution_count": null,
   "metadata": {},
   "outputs": [],
   "source": []
  },
  {
   "cell_type": "code",
   "execution_count": null,
   "metadata": {},
   "outputs": [],
   "source": []
  }
 ],
 "metadata": {
  "kernelspec": {
   "display_name": "Python 3",
   "language": "python",
   "name": "python3"
  },
  "language_info": {
   "codemirror_mode": {
    "name": "ipython",
    "version": 3
   },
   "file_extension": ".py",
   "mimetype": "text/x-python",
   "name": "python",
   "nbconvert_exporter": "python",
   "pygments_lexer": "ipython3",
   "version": "3.7.9"
  }
 },
 "nbformat": 4,
 "nbformat_minor": 4
}
