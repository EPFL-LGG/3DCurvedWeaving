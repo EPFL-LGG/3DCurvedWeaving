{
 "cells": [
  {
   "cell_type": "code",
   "execution_count": 1,
   "metadata": {},
   "outputs": [],
   "source": [
    "elastic_rods_dir = '../../../../elastic_rods/python/'\n",
    "weaving_dir = '../../../'\n",
    "import os\n",
    "import os.path as osp\n",
    "import sys; sys.path.append(elastic_rods_dir); sys.path.append(weaving_dir)\n",
    "import numpy as np, elastic_rods, linkage_vis\n",
    "import numpy.linalg as la\n",
    "from bending_validation import suppress_stdout as so\n",
    "import matplotlib.pyplot as plt\n",
    "from elastic_rods import EnergyType, InterleavingType\n",
    "\n",
    "# weaving\n",
    "import analysis_helper, ribbon_linkage_helper, mesh_vis, linkage_utils, compute_curve_from_curvature, pipeline_helper, deactivate_crossing_helper, importlib\n",
    "importlib.reload(analysis_helper)\n",
    "importlib.reload(ribbon_linkage_helper)\n",
    "importlib.reload(mesh_vis)\n",
    "importlib.reload(linkage_utils)\n",
    "importlib.reload(compute_curve_from_curvature)\n",
    "importlib.reload(pipeline_helper)\n",
    "importlib.reload(deactivate_crossing_helper)\n",
    "from analysis_helper import (compare_turning_angle,\n",
    "                            is_on_sphere, \n",
    "                            get_distance_to_center_scalar_field, \n",
    "                            plot_curvatures, \n",
    "                            get_curvature_scalar_field,\n",
    "                            construct_elastic_rod_loop_from_rod_segments, \n",
    "                            concatenate_rod_properties_from_rod_segments, \n",
    "                            compute_min_distance_rigid_transformation)\n",
    "from ribbon_linkage_helper import (update_rest_curvature, \n",
    "                                   set_ribbon_linkage,\n",
    "                                   export_linkage_geometry_to_obj,\n",
    "                                   write_linkage_ribbon_output_florin)\n",
    "\n",
    "from compute_curve_from_curvature import (match_geo_curvature_and_edge_len, get_all_curve_pattern)\n",
    "from linkage_utils import order_segments_by_ribbons, get_turning_angle_and_length_from_ordered_rods\n",
    "\n",
    "from pipeline_helper import (initialize_linkage, get_normal_deviation, set_joint_vector_field, stage_1_optimization, initialize_stage_2_optimizer, stage_2_optimization, InputOrganizer, write_all_output, set_surface_view_options, get_structure_analysis_view, contact_optimization, get_double_side_view, show_selected_joints, get_max_distance_to_target_surface, get_average_distance_to_target_surface)\n",
    "from deactivate_crossing_helper import get_segment_index_from_joints\n",
    "import vis.fields\n",
    "import matplotlib.cm as cm\n",
    "import time"
   ]
  },
  {
   "cell_type": "code",
   "execution_count": 2,
   "metadata": {},
   "outputs": [],
   "source": [
    "import parallelism\n",
    "parallelism.set_max_num_tbb_threads(12)\n",
    "parallelism.set_hessian_assembly_num_threads(4)\n",
    "parallelism.set_gradient_assembly_num_threads(4)"
   ]
  },
  {
   "cell_type": "code",
   "execution_count": 5,
   "metadata": {},
   "outputs": [
    {
     "name": "stdout",
     "output_type": "stream",
     "text": [
      "0.01 0.0007\n"
     ]
    }
   ],
   "source": [
    "rod_length = 0.1\n",
    "width = rod_length / 50 * 5\n",
    "thickness = width / 5 * 0.35\n",
    "print(width, thickness)\n",
    "io = InputOrganizer('regular_4_100', thickness, width, weaving_dir)\n",
    "# This is just to get a random surface"
   ]
  },
  {
   "cell_type": "code",
   "execution_count": 6,
   "metadata": {},
   "outputs": [],
   "source": [
    "io.SUBDIVISION_RESOLUTION = 50"
   ]
  },
  {
   "cell_type": "code",
   "execution_count": 7,
   "metadata": {},
   "outputs": [],
   "source": [
    "import py_newton_optimizer\n",
    "OPTS = py_newton_optimizer.NewtonOptimizerOptions()\n",
    "OPTS.gradTol = 1e-6\n",
    "OPTS.verbose = 1;\n",
    "OPTS.beta = 1e-8\n",
    "OPTS.niter = 200\n",
    "OPTS.verboseNonPosDef = False\n",
    "rw = 5\n",
    "sw = 10\n",
    "drw = 0.1\n",
    "dsw = 0.01"
   ]
  },
  {
   "cell_type": "markdown",
   "metadata": {},
   "source": [
    "### Initialization"
   ]
  },
  {
   "cell_type": "code",
   "execution_count": 8,
   "metadata": {},
   "outputs": [],
   "source": [
    "import pickle \n",
    "import gzip\n",
    "# pickle.dump(curved_linkage, gzip.open('{}_{}.pkl.gz'.format(io.MODEL_NAME, time.time()), 'w'))"
   ]
  },
  {
   "cell_type": "code",
   "execution_count": 9,
   "metadata": {},
   "outputs": [],
   "source": [
    "# curved_linkage = pickle.load(gzip.open('regular_4_7_1607520544.236602.pkl.gz', 'r'))\n",
    "# curved_linkage_view = linkage_vis.LinkageViewer(curved_linkage)\n",
    "# curved_linkage_view.show()"
   ]
  },
  {
   "cell_type": "code",
   "execution_count": 10,
   "metadata": {},
   "outputs": [],
   "source": [
    "# np.save('{}_design_parameters.npy'.format(io.MODEL_NAME), curved_linkage.getDesignParameters())"
   ]
  },
  {
   "cell_type": "code",
   "execution_count": 11,
   "metadata": {},
   "outputs": [
    {
     "data": {
      "application/vnd.jupyter.widget-view+json": {
       "model_id": "992f76fd9ad34f9886d46873eb81bf9a",
       "version_major": 2,
       "version_minor": 0
      },
      "text/plain": [
       "Renderer(camera=PerspectiveCamera(children=(PointLight(color='#999999', position=(0.0, 0.0, 5.0), quaternion=(…"
      ]
     },
     "metadata": {},
     "output_type": "display_data"
    }
   ],
   "source": [
    "with so(): curved_linkage = initialize_linkage(surface_path = io.SURFACE_PATH, useCenterline = False, model_path = io.MODEL_PATH, cross_section = io.RIBBON_CS, subdivision_res = io.SUBDIVISION_RESOLUTION, use_constant_width=True, interleaving_type=InterleavingType.weaving)\n",
    "curved_linkage.set_design_parameter_config(use_restLen = True, use_restKappa = True)\n",
    "curved_save_tgt_joint_pos = curved_linkage.jointPositions()\n",
    "curved_linkage_view = linkage_vis.LinkageViewerWithSurface(curved_linkage, io.SURFACE_PATH)\n",
    "set_surface_view_options(curved_linkage_view)\n",
    "curved_linkage_view.show()"
   ]
  },
  {
   "cell_type": "markdown",
   "metadata": {},
   "source": [
    "### Stage 1 and manually untwist twisted ribbon"
   ]
  },
  {
   "cell_type": "code",
   "execution_count": 12,
   "metadata": {},
   "outputs": [],
   "source": [
    "E0 = curved_linkage.designParameterSolve_energy()\n",
    "l0 = curved_linkage.totalRestLength()\n",
    "# curved_linkage.joint(4).set_terminalEdgeNormalSign(10, 1)\n",
    "# curved_linkage.joint(0).set_terminalEdgeNormalSign(10, 1)\n",
    "# curved_linkage.joint(15).set_terminalEdgeNormalSign(14, -1)\n",
    "# curved_linkage.joint(14).set_terminalEdgeNormalSign(14, 1)\n",
    "# iterateData, dpo = stage_1_optimization(curved_linkage, drw, dsw, curved_linkage_view, E0 = E0, l0 = l0, niter = 400)\n",
    "# curved_linkage.joint(15).set_terminalEdgeNormalSign(14, 1)\n",
    "iterateData, dpo = stage_1_optimization(curved_linkage, drw, dsw, curved_linkage_view, E0 = E0, l0 = l0, niter = 400)"
   ]
  },
  {
   "cell_type": "code",
   "execution_count": 11,
   "metadata": {},
   "outputs": [],
   "source": [
    "bottomColor =[79/255., 158/255., 246/255.]\n",
    "topColor =[0.5, 0.5, 0.5]\n",
    "heights = curved_linkage.visualizationGeometryHeightColors()\n",
    "colors = np.take(np.array([bottomColor, topColor]), heights < heights.mean(), axis=0)"
   ]
  },
  {
   "cell_type": "code",
   "execution_count": 12,
   "metadata": {},
   "outputs": [
    {
     "data": {
      "application/vnd.jupyter.widget-view+json": {
       "model_id": "4b4b8ac5b1ad44b1896bbe928c5a93eb",
       "version_major": 2,
       "version_minor": 0
      },
      "text/plain": [
       "Renderer(camera=PerspectiveCamera(children=(PointLight(color='#999999', position=(0.0, 0.0, 5.0), quaternion=(…"
      ]
     },
     "metadata": {},
     "output_type": "display_data"
    }
   ],
   "source": [
    "double_view = linkage_vis.LinkageViewer(curved_linkage)\n",
    "double_view.show()"
   ]
  },
  {
   "cell_type": "code",
   "execution_count": 13,
   "metadata": {},
   "outputs": [],
   "source": [
    "double_view.update(scalarField=colors)"
   ]
  },
  {
   "cell_type": "code",
   "execution_count": 14,
   "metadata": {},
   "outputs": [],
   "source": [
    "curved_linkage_view.setCameraParams(((4.139347366530763, -3.927678946178955, 0.7924706632167623),\n",
    " (-0.038125872037145875, 0.15887387844372028, 0.9865624707182293),\n",
    " (0.0, 0.0, 0.0)))"
   ]
  },
  {
   "cell_type": "code",
   "execution_count": 15,
   "metadata": {},
   "outputs": [],
   "source": [
    "# curved_linkage.setDesignParameters(np.load('{}_design_parameters.npy'.format(io.MODEL_NAME)))"
   ]
  },
  {
   "cell_type": "code",
   "execution_count": 16,
   "metadata": {},
   "outputs": [],
   "source": [
    "curved_linkage.attraction_weight = 0"
   ]
  },
  {
   "cell_type": "code",
   "execution_count": 17,
   "metadata": {},
   "outputs": [],
   "source": [
    "# vf = show_selected_joints(curved_linkage, [15, 14], flip = False)\n",
    "# curved_linkage_view.update(vectorField = vf, scalarField = colors)"
   ]
  },
  {
   "cell_type": "code",
   "execution_count": 18,
   "metadata": {},
   "outputs": [],
   "source": [
    "# curved_linkage.setMaterial(elastic_rods.RodMaterial('rectangle', 2000, 0.3, [thickness, width], stiffAxis=elastic_rods.StiffAxis.D1))"
   ]
  },
  {
   "cell_type": "code",
   "execution_count": 19,
   "metadata": {},
   "outputs": [],
   "source": [
    "def eqm_callback(prob, i):\n",
    "    curved_linkage_view.update(scalarField=colors)"
   ]
  },
  {
   "cell_type": "code",
   "execution_count": 20,
   "metadata": {
    "scrolled": true
   },
   "outputs": [],
   "source": [
    "driver=curved_linkage.centralJoint()\n",
    "jdo = curved_linkage.dofOffsetForJoint(driver)\n",
    "fixedVars = list(range(jdo, jdo + 6)) # fix rigid motion for a single joint\n",
    "with so(): elastic_rods.compute_equilibrium(curved_linkage, fixedVars=fixedVars, callback = eqm_callback, options = OPTS)"
   ]
  },
  {
   "cell_type": "code",
   "execution_count": 21,
   "metadata": {},
   "outputs": [],
   "source": [
    "# curved_save_tgt_joint_pos = curved_linkage.jointPositions()"
   ]
  },
  {
   "cell_type": "code",
   "execution_count": 22,
   "metadata": {},
   "outputs": [],
   "source": [
    "optimizer = initialize_stage_2_optimizer(curved_linkage, io.SURFACE_PATH, curved_save_tgt_joint_pos, curved_linkage_view, rw, sw)"
   ]
  },
  {
   "cell_type": "code",
   "execution_count": 23,
   "metadata": {},
   "outputs": [],
   "source": [
    "optimizer.scaleJointWeights(1, 1, [])"
   ]
  },
  {
   "cell_type": "code",
   "execution_count": 24,
   "metadata": {},
   "outputs": [],
   "source": [
    "optimizer.set_holdClosestPointsFixed(True)"
   ]
  },
  {
   "cell_type": "code",
   "execution_count": 25,
   "metadata": {},
   "outputs": [],
   "source": [
    "optimizer.beta = 1e7"
   ]
  },
  {
   "cell_type": "code",
   "execution_count": null,
   "metadata": {},
   "outputs": [
    {
     "name": "stdout",
     "output_type": "stream",
     "text": [
      "rl_regularization_weight 5.0\n",
      "smoothing_weight 10.0\n"
     ]
    }
   ],
   "source": [
    "optimizer, opt_iterateData = stage_2_optimization(optimizer, curved_linkage, io.SURFACE_PATH, curved_save_tgt_joint_pos, curved_linkage_view, -1, no_surface = True, maxIter = 100)"
   ]
  },
  {
   "cell_type": "code",
   "execution_count": 26,
   "metadata": {},
   "outputs": [
    {
     "name": "stdout",
     "output_type": "stream",
     "text": [
      "Min Width  0.05\n",
      "Scale:  100.0\n",
      "num seg per rod 12\n",
      "num seg per rod 12\n",
      "num seg per rod 6\n",
      "num seg per rod 6\n",
      "num seg per rod 12\n",
      "num seg per rod 12\n",
      "num seg per rod 6\n",
      "num seg per rod 6\n",
      "num seg per rod 6\n",
      "num seg per rod 6\n",
      "0.2\n"
     ]
    },
    {
     "data": {
      "image/png": "[encoded data removed]",
      "text/plain": [
       "<Figure size 432x288 with 1 Axes>"
      ]
     },
     "metadata": {
      "needs_background": "light"
     },
     "output_type": "display_data"
    }
   ],
   "source": [
    "save_path = os.getcwd()\n",
    "write_all_output(curved_linkage, io.SUBDIVISION_RESOLUTION, io.MODEL_NAME, io.RIBBON_NAME, False, 100, min(io.RIBBON_CS), target_width = 5, flip_angles = False)\n",
    "os.chdir(save_path)"
   ]
  },
  {
   "cell_type": "code",
   "execution_count": 39,
   "metadata": {},
   "outputs": [],
   "source": [
    "export_linkage_geometry_to_obj(curved_linkage, '{}_contact_opt.obj'.format(io.MODEL_NAME))"
   ]
  },
  {
   "cell_type": "markdown",
   "metadata": {},
   "source": [
    "## Contact Optimization"
   ]
  },
  {
   "cell_type": "code",
   "execution_count": 27,
   "metadata": {},
   "outputs": [
    {
     "data": {
      "application/vnd.jupyter.widget-view+json": {
       "model_id": "03b3a3d3d6e94f8882a08bd0c48dcb90",
       "version_major": 2,
       "version_minor": 0
      },
      "text/plain": [
       "HBox(children=(Renderer(camera=PerspectiveCamera(children=(PointLight(color='#999999', position=(0.0, 0.0, 5.0…"
      ]
     },
     "metadata": {},
     "output_type": "display_data"
    },
    {
     "data": {
      "image/png": "[encoded data removed]",
      "text/plain": [
       "<Figure size 1080x288 with 4 Axes>"
      ]
     },
     "metadata": {
      "needs_background": "light"
     },
     "output_type": "display_data"
    }
   ],
   "source": [
    "structure_view = get_structure_analysis_view(curved_linkage)\n",
    "structure_view.show()"
   ]
  },
  {
   "cell_type": "code",
   "execution_count": 28,
   "metadata": {},
   "outputs": [],
   "source": [
    "def get_opposite_joint_type(curr_type):\n",
    "    if curr_type == curved_linkage.joint(0).Type.A_OVER_B:\n",
    "        return curved_linkage.joint(0).Type.B_OVER_A\n",
    "    return curved_linkage.joint(0).Type.A_OVER_B\n",
    "import structural_analysis"
   ]
  },
  {
   "cell_type": "code",
   "execution_count": 29,
   "metadata": {
    "scrolled": true
   },
   "outputs": [
    {
     "name": "stdout",
     "output_type": "stream",
     "text": [
      "Flipping crossing:  [38  2 35 32 15 16 28 25 12 22 21 13 19  6 41]\n",
      "0\t0.00198946\t0.619769\t0.619769\t0.25\t1\n",
      "1\t0.00139853\t0.96456\t0.96456\t1\t1\n",
      "2\t0.000547985\t0.228685\t0.228685\t1\t1\n",
      "3\t0.000354173\t0.0655696\t0.0655696\t1\t1\n",
      "4\t0.000257305\t0.0320419\t0.0320419\t1\t1\n",
      "5\t0.000196716\t0.0190062\t0.0190062\t1\t1\n",
      "6\t0.000155673\t0.0126201\t0.0126201\t1\t1\n",
      "7\t0.000127186\t0.00925882\t0.00925882\t1\t1\n",
      "8\t0.000107328\t0.0070719\t0.0070719\t1\t1\n",
      "9\t9.35713e-05\t0.00494193\t0.00494193\t1\t1\n",
      "10\t8.42263e-05\t0.00328038\t0.00328038\t1\t1\n",
      "11\t7.80818e-05\t0.00204777\t0.00204777\t1\t1\n",
      "12\t7.41861e-05\t0.00118091\t0.00118091\t1\t1\n",
      "13\t7.18131e-05\t0.000647113\t0.000647113\t1\t1\n",
      "14\t7.04008e-05\t0.000361791\t0.000361791\t1\t1\n",
      "15\t6.9552e-05\t0.000228402\t0.000228402\t1\t1\n",
      "16\t6.90264e-05\t0.000165257\t0.000165257\t1\t1\n",
      "17\t6.86883e-05\t0.000114566\t0.000114566\t1\t1\n",
      "18\t6.84816e-05\t0.000117186\t0.000117186\t1\t1\n",
      "19\t6.83685e-05\t0.000118113\t0.000118113\t1\t1\n",
      "20\t6.83067e-05\t9.88952e-05\t9.88952e-05\t1\t1\n",
      "21\t6.82683e-05\t6.374e-05\t6.374e-05\t1\t1\n",
      "22\t6.82425e-05\t4.59641e-05\t4.59641e-05\t1\t1\n",
      "23\t6.82241e-05\t8.4839e-05\t8.4839e-05\t1\t1\n",
      "24\t6.82101e-05\t0.000139524\t0.000139524\t1\t1\n",
      "25\t6.81999e-05\t0.000160797\t0.000160797\t1\t1\n",
      "26\t6.81933e-05\t0.000138279\t0.000138279\t1\t1\n",
      "27\t6.81897e-05\t9.50305e-05\t9.50305e-05\t1\t1\n",
      "28\t6.81877e-05\t9.97445e-05\t9.97445e-05\t1\t1\n",
      "29\t6.81867e-05\t0.00010424\t0.00010424\t1\t1\n",
      "30\t6.81863e-05\t9.57931e-05\t9.57931e-05\t1\t0\n",
      "31\t6.8186e-05\t0.000133183\t0.000133183\t1\t1\n",
      "Computing negative curvature direction for scaled tau = 6.11912e-06\n",
      "Spectra unsuccessful after 21 iterations\n",
      "Negative curvature direction calculation failed\n",
      "32\t6.81859e-05\t2.08493e-05\t2.08493e-05\t1\t1\n",
      "33\t6.81859e-05\t3.98343e-05\t3.98343e-05\t1\t0\n",
      "Computing negative curvature direction for scaled tau = 6.11912e-06\n",
      "34\t6.81859e-05\t1.67121e-05\t1.67121e-05\t1\t1\n",
      "Computing negative curvature direction for scaled tau = 6.11912e-06\n",
      "Spectra unsuccessful after 21 iterations\n",
      "Negative curvature direction calculation failed\n",
      "35\t6.81859e-05\t2.28032e-05\t2.28032e-05\t1\t1\n",
      "Computing negative curvature direction for scaled tau = 6.11912e-06\n",
      "Spectra unsuccessful after 21 iterations\n",
      "Negative curvature direction calculation failed\n",
      "36\t6.81859e-05\t2.38759e-07\t2.38759e-07\t1\t1\n",
      "Computing negative curvature direction for scaled tau = 6.11912e-06\n",
      "Spectra unsuccessful after 21 iterations\n",
      "Negative curvature direction calculation failed\n",
      "37\t6.81859e-05\t4.88969e-08\t4.88969e-08\t1\t1\n",
      "Computing negative curvature direction for scaled tau = 6.11912e-06\n",
      "Spectra unsuccessful after 21 iterations\n",
      "Negative curvature direction calculation failed\n",
      "38\t6.81859e-05\t1.41053e-08\t1.41053e-08\t1\t1\n",
      "Computing negative curvature direction for scaled tau = 6.11912e-06\n",
      "39\t6.81859e-05\t4.59758e-09\t4.59758e-09\t0.0625\t1\n",
      "Computing negative curvature direction for scaled tau = 6.11912e-06\n",
      "Spectra unsuccessful after 21 iterations\n",
      "Negative curvature direction calculation failed\n",
      "40\t6.81859e-05\t8.07526e-07\t8.07526e-07\t1\t1\n",
      "Computing negative curvature direction for scaled tau = 6.11912e-06\n",
      "41\t6.81859e-05\t1.50569e-09\t1.50569e-09\t0.03125\t1\n",
      "Computing negative curvature direction for scaled tau = 6.11912e-06\n",
      "Spectra unsuccessful after 21 iterations\n",
      "Negative curvature direction calculation failed\n",
      "42\t6.81859e-05\t4.50361e-07\t4.50361e-07\t1\t1\n",
      "Computing negative curvature direction for scaled tau = 6.11912e-06\n",
      "43\t6.81859e-05\t5.24536e-10\t5.24536e-10\t0.015625\t1\n",
      "Computing negative curvature direction for scaled tau = 6.11912e-06\n",
      "Spectra unsuccessful after 21 iterations\n",
      "Negative curvature direction calculation failed\n",
      "44\t6.81859e-05\t2.80124e-07\t2.80124e-07\t1\t1\n",
      "Computing negative curvature direction for scaled tau = 6.11912e-06\n",
      "45\t6.81859e-05\t1.88188e-10\t1.88188e-10\t0.0078125\t1\n",
      "Computing negative curvature direction for scaled tau = 6.11912e-06\n",
      "46\t6.81859e-05\t1.2e-07\t1.2e-07\t0.0078125\t1\n",
      "Computing negative curvature direction for scaled tau = 6.11912e-06\n",
      "47\t6.81859e-05\t1.87091e-07\t1.87091e-07\t0.00195312\t1\n",
      "Computing negative curvature direction for scaled tau = 6.11912e-06\n",
      "48\t6.81859e-05\t2.03077e-07\t2.03077e-07\t0.00195312\t1\n",
      "Computing negative curvature direction for scaled tau = 6.11912e-06\n",
      "49\t6.81859e-05\t2.16034e-07\t2.16034e-07\t0.000488281\t1\n",
      "Computing negative curvature direction for scaled tau = 6.11912e-06\n",
      "Spectra unsuccessful after 21 iterations\n",
      "Negative curvature direction calculation failed\n",
      "50\t6.81859e-05\t2.1703e-07\t2.1703e-07\t1\t1\n",
      "Computing negative curvature direction for scaled tau = 6.11912e-06\n",
      "51\t6.81859e-05\t6.83809e-11\t6.83809e-11\t0.03125\t1\n",
      "Computing negative curvature direction for scaled tau = 6.11912e-06\n",
      "52\t6.81859e-05\t3.69675e-08\t3.69675e-08\t0.000244141\t1\n",
      "Computing negative curvature direction for scaled tau = 6.11912e-06\n",
      "Spectra unsuccessful after 21 iterations\n",
      "Negative curvature direction calculation failed\n",
      "53\t6.81859e-05\t4.60356e-08\t4.60356e-08\t1\t1\n",
      "Computing negative curvature direction for scaled tau = 6.11912e-06\n",
      "54\t6.81859e-05\t2.50333e-11\t2.50333e-11\t0.015625\t1\n",
      "Computing negative curvature direction for scaled tau = 6.11912e-06\n",
      "Spectra unsuccessful after 21 iterations\n",
      "Negative curvature direction calculation failed\n",
      "55\t6.81859e-05\t1.74722e-08\t1.74722e-08\t1\t1\n",
      "Computing negative curvature direction for scaled tau = 6.11912e-06\n",
      "56\t6.81859e-05\t9.85413e-12\t9.85413e-12\t0.0078125\t1\n",
      "Computing negative curvature direction for scaled tau = 6.11912e-06\n",
      "57\t6.81859e-05\t1.49427e-08\t1.49427e-08\t0.000244141\t1\n",
      "Computing negative curvature direction for scaled tau = 6.11912e-06\n",
      "Spectra unsuccessful after 21 iterations\n",
      "Negative curvature direction calculation failed\n",
      "58\t6.81859e-05\t1.48484e-08\t1.48484e-08\t1\t1\n",
      "Computing negative curvature direction for scaled tau = 6.11912e-06\n",
      "59\t6.81859e-05\t4.69191e-12\t4.69191e-12\t3.05176e-05\t1\n",
      "Computing negative curvature direction for scaled tau = 6.11912e-06\n",
      "60\t6.81859e-05\t2.87182e-11\t2.87182e-11\t2.98023e-08\t1\n",
      "Initial backtracking failed; attempting gradient descent.\n",
      "Computing negative curvature direction for scaled tau = 6.11912e-06\n",
      "61\t6.81859e-05\t2.74915e-11\t2.74915e-11\t3.05176e-05\t1\n",
      "Computing negative curvature direction for scaled tau = 6.11912e-06\n",
      "62\t6.81859e-05\t1.32406e-10\t1.32406e-10\t4.76837e-07\t1\n",
      "Computing negative curvature direction for scaled tau = 6.11912e-06\n",
      "63\t6.81859e-05\t1.32359e-10\t1.32359e-10\t2.98023e-08\t1\n",
      "Initial backtracking failed; attempting gradient descent.\n",
      "Computing negative curvature direction for scaled tau = 6.11912e-06\n",
      "64\t6.81859e-05\t5.02888e-10\t5.02888e-10\t7.62939e-06\t1\n",
      "Computing negative curvature direction for scaled tau = 6.11912e-06\n",
      "65\t6.81859e-05\t5.0137e-10\t5.0137e-10\t2.98023e-08\t1\n",
      "Initial backtracking failed; attempting gradient descent.\n",
      "Computing negative curvature direction for scaled tau = 6.11912e-06\n",
      "66\t6.81859e-05\t5.0028e-10\t5.0028e-10\t2.98023e-08\t1\n",
      "Initial backtracking failed; attempting gradient descent.\n",
      "Maximum number of gradient descent fallback steps reached.\n",
      "66\t6.81859e-05\t5.0028e-10\t5.0028e-10\t2.98023e-08\t1\n"
     ]
    }
   ],
   "source": [
    "cfm = structural_analysis.weavingCrossingForceMagnitudes(curved_linkage, True)\n",
    "if np.sum(cfm[:, 0]>0) > 0:\n",
    "    print(\"Flipping crossing: \", np.argsort(cfm[:, 0] > 0)[-1 * np.sum(cfm[:, 0] > 0):])\n",
    "    for i in np.argsort(cfm[:, 0] > 0)[-1 * np.sum(cfm[:, 0] > 0):]:\n",
    "        curved_linkage.joint(i).type = get_opposite_joint_type(curved_linkage.joint(i).type)\n",
    "    elastic_rods.compute_equilibrium(curved_linkage, callback = eqm_callback, options = OPTS)\n",
    "    curved_linkage_view.update()"
   ]
  },
  {
   "cell_type": "code",
   "execution_count": 30,
   "metadata": {},
   "outputs": [
    {
     "data": {
      "application/vnd.jupyter.widget-view+json": {
       "model_id": "0187114449da4468b678d00a3fe4e845",
       "version_major": 2,
       "version_minor": 0
      },
      "text/plain": [
       "HBox(children=(Renderer(camera=PerspectiveCamera(children=(PointLight(color='#999999', position=(0.0, 0.0, 5.0…"
      ]
     },
     "metadata": {},
     "output_type": "display_data"
    },
    {
     "data": {
      "image/png": "[encoded data removed]",
      "text/plain": [
       "<Figure size 1080x288 with 4 Axes>"
      ]
     },
     "metadata": {
      "needs_background": "light"
     },
     "output_type": "display_data"
    }
   ],
   "source": [
    "second_structure_view = get_structure_analysis_view(curved_linkage)\n",
    "second_structure_view.show()"
   ]
  },
  {
   "cell_type": "code",
   "execution_count": 31,
   "metadata": {
    "scrolled": true
   },
   "outputs": [
    {
     "name": "stdout",
     "output_type": "stream",
     "text": [
      "Flipping crossing:  [40]\n",
      "0\t0.000342827\t0.219982\t0.219982\t0.0625\t1\n",
      "1\t0.000317247\t0.300223\t0.300223\t1\t1\n",
      "2\t0.000269646\t1.78549\t1.78549\t1\t1\n",
      "3\t0.000117913\t0.35982\t0.35982\t1\t1\n",
      "4\t9.80277e-05\t0.0214922\t0.0214922\t1\t1\n",
      "5\t9.27493e-05\t0.00782052\t0.00782052\t1\t1\n",
      "6\t8.81046e-05\t0.00614681\t0.00614681\t1\t1\n",
      "7\t8.38511e-05\t0.00491468\t0.00491468\t1\t1\n",
      "8\t8.011e-05\t0.00382015\t0.00382015\t1\t1\n",
      "9\t7.69553e-05\t0.00317724\t0.00317724\t1\t1\n",
      "10\t7.44059e-05\t0.00277645\t0.00277645\t1\t1\n",
      "11\t7.24602e-05\t0.00221079\t0.00221079\t1\t1\n",
      "12\t7.10864e-05\t0.00157607\t0.00157607\t1\t1\n",
      "13\t7.01805e-05\t0.00100822\t0.00100822\t1\t1\n",
      "14\t6.95901e-05\t0.000573356\t0.000573356\t1\t1\n",
      "15\t6.91839e-05\t0.000342224\t0.000342224\t1\t1\n",
      "16\t6.8886e-05\t0.000242454\t0.000242454\t1\t1\n",
      "17\t6.8662e-05\t0.000179775\t0.000179775\t1\t1\n",
      "18\t6.84977e-05\t0.000131647\t0.000131647\t1\t1\n",
      "19\t6.83819e-05\t0.000130265\t0.000130265\t1\t1\n",
      "20\t6.83024e-05\t0.000127273\t0.000127273\t1\t1\n",
      "21\t6.82514e-05\t0.000169862\t0.000169862\t1\t1\n",
      "22\t6.82218e-05\t0.000210085\t0.000210085\t1\t1\n",
      "23\t6.82059e-05\t0.000222793\t0.000222793\t1\t1\n",
      "24\t6.81979e-05\t0.000208032\t0.000208032\t1\t1\n",
      "25\t6.81936e-05\t0.000153312\t0.000153312\t1\t1\n",
      "26\t6.81912e-05\t9.3355e-05\t9.3355e-05\t1\t1\n",
      "27\t6.81897e-05\t6.17551e-05\t6.17551e-05\t1\t1\n",
      "28\t6.81889e-05\t5.31164e-05\t5.31164e-05\t1\t1\n",
      "29\t6.81885e-05\t5.83659e-05\t5.83659e-05\t1\t1\n",
      "30\t6.81882e-05\t6.08855e-05\t6.08855e-05\t1\t1\n",
      "Computing negative curvature direction for scaled tau = 6.11912e-06\n",
      "31\t6.81881e-05\t5.18743e-05\t5.18743e-05\t1\t1\n",
      "Computing negative curvature direction for scaled tau = 6.11912e-06\n",
      "32\t6.8188e-05\t3.32198e-05\t3.32198e-05\t1\t1\n",
      "Computing negative curvature direction for scaled tau = 6.11912e-06\n",
      "Spectra unsuccessful after 21 iterations\n",
      "Negative curvature direction calculation failed\n",
      "33\t6.8188e-05\t2.46021e-05\t2.46021e-05\t1\t1\n",
      "Computing negative curvature direction for scaled tau = 6.11912e-06\n",
      "Spectra unsuccessful after 21 iterations\n",
      "Negative curvature direction calculation failed\n",
      "34\t6.8188e-05\t5.19835e-06\t5.19835e-06\t1\t1\n",
      "Computing negative curvature direction for scaled tau = 6.11912e-06\n",
      "Spectra unsuccessful after 21 iterations\n",
      "Negative curvature direction calculation failed\n",
      "35\t6.8188e-05\t1.52853e-06\t1.52853e-06\t1\t1\n",
      "Computing negative curvature direction for scaled tau = 6.11912e-06\n",
      "Spectra unsuccessful after 21 iterations\n",
      "Negative curvature direction calculation failed\n",
      "36\t6.8188e-05\t4.39557e-07\t4.39557e-07\t1\t1\n",
      "Computing negative curvature direction for scaled tau = 6.11912e-06\n",
      "Spectra unsuccessful after 21 iterations\n",
      "Negative curvature direction calculation failed\n",
      "37\t6.8188e-05\t1.34107e-07\t1.34107e-07\t1\t1\n",
      "Computing negative curvature direction for scaled tau = 6.11912e-06\n",
      "Spectra unsuccessful after 21 iterations\n",
      "Negative curvature direction calculation failed\n",
      "38\t6.8188e-05\t4.36047e-08\t4.36047e-08\t1\t1\n",
      "Computing negative curvature direction for scaled tau = 6.11912e-06\n",
      "Spectra unsuccessful after 21 iterations\n",
      "Negative curvature direction calculation failed\n",
      "39\t6.8188e-05\t1.47539e-08\t1.47539e-08\t1\t1\n",
      "Computing negative curvature direction for scaled tau = 6.11912e-06\n",
      "Spectra unsuccessful after 21 iterations\n",
      "Negative curvature direction calculation failed\n",
      "40\t6.8188e-05\t5.11872e-09\t5.11872e-09\t1\t1\n",
      "Computing negative curvature direction for scaled tau = 6.11912e-06\n",
      "41\t6.8188e-05\t1.80644e-09\t1.80644e-09\t0.0625\t1\n",
      "Computing negative curvature direction for scaled tau = 6.11912e-06\n",
      "Spectra unsuccessful after 21 iterations\n",
      "Negative curvature direction calculation failed\n",
      "42\t6.8188e-05\t5.03935e-07\t5.03935e-07\t1\t1\n",
      "Computing negative curvature direction for scaled tau = 6.11912e-06\n",
      "43\t6.8188e-05\t6.14921e-10\t6.14921e-10\t0.03125\t1\n",
      "Computing negative curvature direction for scaled tau = 6.11912e-06\n",
      "Spectra unsuccessful after 21 iterations\n",
      "Negative curvature direction calculation failed\n",
      "44\t6.8188e-05\t6.19758e-07\t6.19758e-07\t1\t1\n",
      "Computing negative curvature direction for scaled tau = 6.11912e-06\n",
      "45\t6.8188e-05\t2.1655e-10\t2.1655e-10\t0.03125\t1\n",
      "Computing negative curvature direction for scaled tau = 6.11912e-06\n",
      "Spectra unsuccessful after 21 iterations\n",
      "Negative curvature direction calculation failed\n",
      "46\t6.8188e-05\t2.24658e-07\t2.24658e-07\t1\t1\n",
      "Computing negative curvature direction for scaled tau = 6.11912e-06\n",
      "47\t6.8188e-05\t7.7244e-11\t7.7244e-11\t0.00390625\t1\n",
      "Computing negative curvature direction for scaled tau = 6.11912e-06\n",
      "48\t6.8188e-05\t8.90581e-08\t8.90581e-08\t0.015625\t1\n",
      "Computing negative curvature direction for scaled tau = 6.11912e-06\n",
      "49\t6.8188e-05\t1.59265e-07\t1.59265e-07\t0.000488281\t1\n",
      "Computing negative curvature direction for scaled tau = 6.11912e-06\n",
      "Spectra unsuccessful after 21 iterations\n",
      "Negative curvature direction calculation failed\n",
      "50\t6.8188e-05\t1.61084e-07\t1.61084e-07\t1\t1\n",
      "Computing negative curvature direction for scaled tau = 6.11912e-06\n",
      "51\t6.8188e-05\t2.83608e-11\t2.83608e-11\t0.000976562\t1\n",
      "Computing negative curvature direction for scaled tau = 6.11912e-06\n",
      "52\t6.8188e-05\t1.72432e-08\t1.72432e-08\t2.98023e-08\t1\n",
      "Initial backtracking failed; attempting gradient descent.\n",
      "Computing negative curvature direction for scaled tau = 6.11912e-06\n",
      "53\t6.8188e-05\t1.50738e-08\t1.50738e-08\t0.015625\t1\n",
      "Computing negative curvature direction for scaled tau = 6.11912e-06\n",
      "54\t6.8188e-05\t3.08995e-08\t3.08995e-08\t6.10352e-05\t1\n",
      "Computing negative curvature direction for scaled tau = 6.11912e-06\n",
      "Spectra unsuccessful after 21 iterations\n",
      "Negative curvature direction calculation failed\n",
      "55\t6.8188e-05\t3.09506e-08\t3.09506e-08\t1\t1\n",
      "Computing negative curvature direction for scaled tau = 6.11912e-06\n",
      "56\t6.8188e-05\t1.0983e-11\t1.0983e-11\t6.10352e-05\t1\n",
      "Computing negative curvature direction for scaled tau = 6.11912e-06\n",
      "57\t6.8188e-05\t7.61868e-10\t7.61868e-10\t0.000244141\t1\n",
      "Computing negative curvature direction for scaled tau = 6.11912e-06\n",
      "58\t6.8188e-05\t3.34624e-09\t3.34624e-09\t3.8147e-06\t1\n",
      "Computing negative curvature direction for scaled tau = 6.11912e-06\n",
      "59\t6.8188e-05\t3.34619e-09\t3.34619e-09\t0.00195312\t1\n",
      "Computing negative curvature direction for scaled tau = 6.11912e-06\n",
      "60\t6.8188e-05\t6.70428e-09\t6.70428e-09\t0.00195312\t1\n",
      "Computing negative curvature direction for scaled tau = 6.11912e-06\n",
      "61\t6.8188e-05\t1.0647e-08\t1.0647e-08\t0.000244141\t1\n",
      "Computing negative curvature direction for scaled tau = 6.11912e-06\n",
      "62\t6.8188e-05\t1.102e-08\t1.102e-08\t2.98023e-08\t1\n",
      "Initial backtracking failed; attempting gradient descent.\n",
      "Computing negative curvature direction for scaled tau = 6.11912e-06\n",
      "63\t6.8188e-05\t1.08668e-08\t1.08668e-08\t0.000488281\t1\n",
      "Computing negative curvature direction for scaled tau = 6.11912e-06\n",
      "64\t6.8188e-05\t1.09162e-08\t1.09162e-08\t2.98023e-08\t1\n",
      "Initial backtracking failed; attempting gradient descent.\n",
      "Computing negative curvature direction for scaled tau = 6.11912e-06\n",
      "65\t6.8188e-05\t1.09145e-08\t1.09145e-08\t2.98023e-08\t1\n",
      "Initial backtracking failed; attempting gradient descent.\n",
      "Maximum number of gradient descent fallback steps reached.\n",
      "65\t6.8188e-05\t1.09145e-08\t1.09145e-08\t2.98023e-08\t1\n"
     ]
    }
   ],
   "source": [
    "cfm = structural_analysis.weavingCrossingForceMagnitudes(curved_linkage, True)\n",
    "if np.sum(cfm[:, 0]>0) > 0:\n",
    "    print(\"Flipping crossing: \", np.argsort(cfm[:, 0] > 0)[-1 * np.sum(cfm[:, 0] > 0):])\n",
    "    for i in np.argsort(cfm[:, 0] > 0)[-1 * np.sum(cfm[:, 0] > 0):]:\n",
    "        curved_linkage.joint(i).type = get_opposite_joint_type(curved_linkage.joint(i).type)\n",
    "    elastic_rods.compute_equilibrium(curved_linkage, callback = eqm_callback, options = OPTS)\n",
    "    curved_linkage_view.update()"
   ]
  },
  {
   "cell_type": "code",
   "execution_count": 32,
   "metadata": {},
   "outputs": [
    {
     "data": {
      "application/vnd.jupyter.widget-view+json": {
       "model_id": "20a6decd56db4d499081a37d8907fc8f",
       "version_major": 2,
       "version_minor": 0
      },
      "text/plain": [
       "HBox(children=(Renderer(camera=PerspectiveCamera(children=(PointLight(color='#999999', position=(0.0, 0.0, 5.0…"
      ]
     },
     "metadata": {},
     "output_type": "display_data"
    },
    {
     "data": {
      "image/png": "[encoded data removed]",
      "text/plain": [
       "<Figure size 1080x288 with 4 Axes>"
      ]
     },
     "metadata": {
      "needs_background": "light"
     },
     "output_type": "display_data"
    }
   ],
   "source": [
    "third_structure_view = get_structure_analysis_view(curved_linkage)\n",
    "third_structure_view.show()"
   ]
  },
  {
   "cell_type": "code",
   "execution_count": 38,
   "metadata": {},
   "outputs": [],
   "source": [
    "cfm = structural_analysis.weavingCrossingForceMagnitudes(curved_linkage, True)\n",
    "if np.sum(cfm[:, 0]>0) > 0:\n",
    "    print(\"Flipping crossing: \", np.argsort(cfm[:, 0] > 0)[-1 * np.sum(cfm[:, 0] > 0):])\n",
    "    for i in np.argsort(cfm[:, 0] > 0)[-1 * np.sum(cfm[:, 0] > 0):]:\n",
    "        curved_linkage.joint(i).type = get_opposite_joint_type(curved_linkage.joint(i).type)\n",
    "    elastic_rods.compute_equilibrium(curved_linkage, callback = eqm_callback, options = OPTS)\n",
    "    curved_linkage_view.update()"
   ]
  },
  {
   "cell_type": "code",
   "execution_count": 39,
   "metadata": {},
   "outputs": [
    {
     "data": {
      "application/vnd.jupyter.widget-view+json": {
       "model_id": "d8eb49adb96a464088ae93d1684c2a21",
       "version_major": 2,
       "version_minor": 0
      },
      "text/plain": [
       "HBox(children=(Renderer(camera=PerspectiveCamera(children=(PointLight(color='#999999', position=(0.0, 0.0, 5.0…"
      ]
     },
     "metadata": {},
     "output_type": "display_data"
    },
    {
     "data": {
      "image/png": "[encoded data removed]",
      "text/plain": [
       "<Figure size 1080x288 with 4 Axes>"
      ]
     },
     "metadata": {
      "needs_background": "light"
     },
     "output_type": "display_data"
    }
   ],
   "source": [
    "fourth_structure_view = get_structure_analysis_view(curved_linkage)\n",
    "fourth_structure_view.show()"
   ]
  },
  {
   "cell_type": "code",
   "execution_count": 33,
   "metadata": {},
   "outputs": [
    {
     "name": "stdout",
     "output_type": "stream",
     "text": [
      "Min Width  0.05\n",
      "Scale:  100.0\n",
      "num seg per rod 12\n",
      "num seg per rod 12\n",
      "num seg per rod 6\n",
      "num seg per rod 6\n",
      "num seg per rod 12\n",
      "num seg per rod 12\n",
      "num seg per rod 6\n",
      "num seg per rod 6\n",
      "num seg per rod 6\n",
      "num seg per rod 6\n",
      "0.2\n"
     ]
    },
    {
     "data": {
      "image/png": "[encoded data removed]",
      "text/plain": [
       "<Figure size 432x288 with 1 Axes>"
      ]
     },
     "metadata": {
      "needs_background": "light"
     },
     "output_type": "display_data"
    }
   ],
   "source": [
    "save_path = os.getcwd()\n",
    "write_all_output(curved_linkage, io.SUBDIVISION_RESOLUTION, io.MODEL_NAME + '_contact_opt', io.RIBBON_NAME + '_contact_opt', False, 100, min(io.RIBBON_CS), target_width = 5, flip_angles = False)\n",
    "os.chdir(save_path)"
   ]
  },
  {
   "cell_type": "code",
   "execution_count": null,
   "metadata": {},
   "outputs": [],
   "source": []
  }
 ],
 "metadata": {
  "kernelspec": {
   "display_name": "Python 3",
   "language": "python",
   "name": "python3"
  },
  "language_info": {
   "codemirror_mode": {
    "name": "ipython",
    "version": 3
   },
   "file_extension": ".py",
   "mimetype": "text/x-python",
   "name": "python",
   "nbconvert_exporter": "python",
   "pygments_lexer": "ipython3",
   "version": "3.7.9"
  }
 },
 "nbformat": 4,
 "nbformat_minor": 4
}
