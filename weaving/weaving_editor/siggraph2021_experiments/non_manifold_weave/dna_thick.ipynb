{
 "cells": [
  {
   "cell_type": "code",
   "execution_count": null,
   "id": "39e512f7",
   "metadata": {},
   "outputs": [],
   "source": [
    "import numpy as np"
   ]
  },
  {
   "cell_type": "code",
   "execution_count": null,
   "id": "653333bd",
   "metadata": {},
   "outputs": [],
   "source": [
    "num_rotation = 7\n",
    "num_level = 13\n",
    "num_actual_level = 13\n",
    "height = 1.0 / num_actual_level"
   ]
  },
  {
   "cell_type": "code",
   "execution_count": null,
   "id": "8ef19068",
   "metadata": {},
   "outputs": [],
   "source": [
    "with open('../../../normalized_objs/models/dna_thick_1.obj', 'w') as f:\n",
    "    for i in range(num_actual_level):\n",
    "        z = i * height\n",
    "        r = 3.5 / num_actual_level\n",
    "        theta = (i % num_rotation) * 2 * np.pi / num_rotation\n",
    "        x = r * np.cos(theta)\n",
    "        y = r * np.sin(theta)\n",
    "\n",
    "        mz = z + height / 3\n",
    "        mx = -x\n",
    "        my = -y\n",
    "        f.write('v {} {} {}\\n'.format(x, y, z))\n",
    "        f.write('v {} {} {}\\n'.format(mx, my, mz))\n",
    "    for i in range(num_actual_level-1):\n",
    "        f.write('l {} {}\\n'.format(2*i + 1, 2 * i + 3))\n",
    "        f.write('l {} {}\\n'.format(2*i + 2, 2 * i + 4))\n",
    "        \n",
    "    for i in range(num_actual_level - 1)[1:]:\n",
    "        f.write('l {} {}\\n'.format(2*i + 1, 2 * i + 2))\n",
    "        f.write('l {} {}\\n'.format(2*i + 2, 2 * i + 3))\n"
   ]
  },
  {
   "cell_type": "code",
   "execution_count": null,
   "id": "c77f37ab",
   "metadata": {},
   "outputs": [],
   "source": [
    "normals = []\n",
    "for i in range(num_level):\n",
    "    theta = (i % num_rotation) * 2 * np.pi / num_rotation\n",
    "    z = 0\n",
    "    x = np.sin(theta)\n",
    "    y = -np.cos(theta)\n",
    "    normals.append([x, y, z])\n",
    "    normals.append([x, y, z])"
   ]
  },
  {
   "cell_type": "code",
   "execution_count": null,
   "id": "a7deccfd",
   "metadata": {},
   "outputs": [],
   "source": [
    "normals = np.array(normals)"
   ]
  },
  {
   "cell_type": "code",
   "execution_count": null,
   "id": "a93817bf",
   "metadata": {},
   "outputs": [],
   "source": [
    "elastic_rods_dir = '../../../../elastic_rods/python/'\n",
    "weaving_dir = '../../../'\n",
    "import os\n",
    "import os.path as osp\n",
    "import sys; sys.path.append(elastic_rods_dir); sys.path.append(weaving_dir)\n",
    "import numpy as np, elastic_rods, linkage_vis\n",
    "import numpy.linalg as la\n",
    "from bending_validation import suppress_stdout as so\n",
    "import matplotlib.pyplot as plt\n",
    "from elastic_rods import EnergyType, InterleavingType\n",
    "\n",
    "# weaving\n",
    "import analysis_helper, ribbon_linkage_helper, mesh_vis, linkage_utils, compute_curve_from_curvature, pipeline_helper, optimization_visualization_helper, importlib\n",
    "importlib.reload(analysis_helper)\n",
    "importlib.reload(ribbon_linkage_helper)\n",
    "importlib.reload(mesh_vis)\n",
    "importlib.reload(linkage_utils)\n",
    "importlib.reload(compute_curve_from_curvature)\n",
    "importlib.reload(pipeline_helper)\n",
    "importlib.reload(optimization_visualization_helper)\n",
    "from analysis_helper import (compare_turning_angle,\n",
    "                            is_on_sphere, \n",
    "                            get_distance_to_center_scalar_field, \n",
    "                            plot_curvatures, \n",
    "                            get_curvature_scalar_field,\n",
    "                            construct_elastic_rod_loop_from_rod_segments, \n",
    "                            concatenate_rod_properties_from_rod_segments, \n",
    "                            compute_min_distance_rigid_transformation)\n",
    "from ribbon_linkage_helper import (update_rest_curvature, \n",
    "                                   set_ribbon_linkage,\n",
    "                                   export_linkage_geometry_to_obj,\n",
    "                                   write_linkage_ribbon_output_florin)\n",
    "\n",
    "from compute_curve_from_curvature import (match_geo_curvature_and_edge_len, get_all_curve_pattern)\n",
    "from linkage_utils import order_segments_by_ribbons, get_turning_angle_and_length_from_ordered_rods\n",
    "\n",
    "from pipeline_helper import (initialize_linkage, get_normal_deviation, set_joint_vector_field, stage_1_optimization, initialize_stage_2_optimizer, stage_2_optimization, InputOrganizer, write_all_output, set_surface_view_options, get_structure_analysis_view, contact_optimization, get_double_side_view, show_selected_joints, highlight_rod_and_joint, get_fixed_boundary_joint, get_gravity_forces)\n",
    "import vis.fields\n",
    "import matplotlib.cm as cm\n",
    "import time\n",
    "from optimization_visualization_helper import (compute_visualization_data_from_raw_data, get_objective_components_stage1, get_objective_components_stage2, get_objective_components_stage3, set_figure_label_and_limit, Visualization_Setting, plot_objective, plot_ribbon_component_analysis)"
   ]
  },
  {
   "cell_type": "code",
   "execution_count": null,
   "id": "cda1b584",
   "metadata": {},
   "outputs": [],
   "source": [
    "import parallelism\n",
    "parallelism.set_max_num_tbb_threads(12)\n",
    "parallelism.set_hessian_assembly_num_threads(4)\n",
    "parallelism.set_gradient_assembly_num_threads(4)"
   ]
  },
  {
   "cell_type": "code",
   "execution_count": null,
   "id": "9e96f13f",
   "metadata": {},
   "outputs": [],
   "source": [
    "rod_length = 0.3534025445286393\n",
    "width = rod_length / 75 * 5\n",
    "thickness = width / 5 * 0.1\n",
    "print(width, thickness)\n",
    "scale = 1\n",
    "io = InputOrganizer('dna_thick_{}'.format(scale), thickness, width, weaving_dir)\n",
    "io.SUBDIVISION_RESOLUTION = 50"
   ]
  },
  {
   "cell_type": "code",
   "execution_count": null,
   "id": "88226398",
   "metadata": {},
   "outputs": [],
   "source": [
    "5 / rod_length"
   ]
  },
  {
   "cell_type": "code",
   "execution_count": null,
   "id": "6db0bc38",
   "metadata": {},
   "outputs": [],
   "source": [
    "import py_newton_optimizer\n",
    "OPTS = py_newton_optimizer.NewtonOptimizerOptions()\n",
    "OPTS.gradTol = 1e-7\n",
    "OPTS.verbose = 1\n",
    "OPTS.beta = 1e-8\n",
    "OPTS.niter = 200\n",
    "OPTS.verboseNonPosDef = False\n",
    "rw = 5\n",
    "sw = 20\n",
    "drw = 0.0001\n",
    "dsw = 0.01"
   ]
  },
  {
   "cell_type": "code",
   "execution_count": null,
   "id": "a661a0d6",
   "metadata": {},
   "outputs": [],
   "source": [
    "# import pickle, gzip\n",
    "# pickle.dump(curved_linkage, gzip.open('{}_stage_2_20210420.pkl.gz'.format(io.MODEL_NAME), 'w'))"
   ]
  },
  {
   "cell_type": "code",
   "execution_count": null,
   "id": "00dc252d",
   "metadata": {},
   "outputs": [],
   "source": [
    "with so(): curved_linkage = initialize_linkage(surface_path = io.SURFACE_PATH, useCenterline = True, model_path = io.MODEL_PATH, cross_section = io.RIBBON_CS, subdivision_res = io.SUBDIVISION_RESOLUTION, input_joint_normals = normals)\n",
    "curved_linkage.set_design_parameter_config(use_restLen = True, use_restKappa = True)\n",
    "curved_save_tgt_joint_pos = curved_linkage.jointPositions();\n",
    "curved_linkage_view = linkage_vis.LinkageViewer(curved_linkage)\n",
    "curved_linkage_view.show()"
   ]
  },
  {
   "cell_type": "code",
   "execution_count": null,
   "id": "d6cff386",
   "metadata": {},
   "outputs": [],
   "source": [
    "bottomColor =[79/255., 158/255., 246/255.]\n",
    "topColor =[0.5, 0.5, 0.5]\n",
    "heights = curved_linkage.visualizationGeometryHeightColors()\n",
    "colors = np.take(np.array([bottomColor, topColor]), heights < heights.mean(), axis=0)"
   ]
  },
  {
   "cell_type": "code",
   "execution_count": null,
   "id": "752222b8",
   "metadata": {},
   "outputs": [],
   "source": [
    "# renderCam = curved_linkage_view.getCameraParams()\n",
    "\n",
    "# orender = curved_linkage_view.offscreenRenderer(width=2048, height=2048)\n",
    "# orender.setCameraParams(renderCam)\n",
    "# orender.render()\n",
    "# orender.save('dna_top.png')"
   ]
  },
  {
   "cell_type": "code",
   "execution_count": null,
   "id": "fe28fa0f",
   "metadata": {},
   "outputs": [],
   "source": [
    "curved_linkage.attraction_weight = 1e-5"
   ]
  },
  {
   "cell_type": "code",
   "execution_count": null,
   "id": "cba11c8a",
   "metadata": {},
   "outputs": [],
   "source": [
    "curved_linkage.scaleJointWeights(1, 1, [])"
   ]
  },
  {
   "cell_type": "code",
   "execution_count": null,
   "id": "78595dfe",
   "metadata": {},
   "outputs": [],
   "source": [
    "iterateData = stage_1_optimization(curved_linkage, drw, dsw, curved_linkage_view)"
   ]
  },
  {
   "cell_type": "code",
   "execution_count": null,
   "id": "95dd634a",
   "metadata": {},
   "outputs": [],
   "source": [
    "# E0 = curved_linkage.designParameterSolve_energy()\n",
    "# l0 = curved_linkage.totalRestLength()"
   ]
  },
  {
   "cell_type": "code",
   "execution_count": null,
   "id": "7b8edd33",
   "metadata": {
    "scrolled": true
   },
   "outputs": [],
   "source": [
    "# iterateData, dpo = stage_1_optimization(curved_linkage, drw, dsw, curved_linkage_view, E0 = E0, l0 = l0, niter = 20)"
   ]
  },
  {
   "cell_type": "code",
   "execution_count": null,
   "id": "283c7031",
   "metadata": {},
   "outputs": [],
   "source": [
    "# import cross_section_scaling\n",
    "# importlib.reload(cross_section_scaling)\n",
    "# cross_section = io.RIBBON_CS\n",
    "# width_scale = [0.5, 2]\n",
    "# cross_section_scaling.apply_density_based_cross_sections(curved_linkage, elastic_rods.CrossSection.construct('rectangle', 2000, 0.3, [cross_section[0], width_scale[0] * cross_section[1]]), elastic_rods.CrossSection.construct('rectangle', 2000, 0.3, [cross_section[0], width_scale[1] * cross_section[1]]))\n"
   ]
  },
  {
   "cell_type": "code",
   "execution_count": null,
   "id": "00c3556b",
   "metadata": {},
   "outputs": [],
   "source": [
    "curved_linkage_view.update(scalarField = colors)"
   ]
  },
  {
   "cell_type": "code",
   "execution_count": null,
   "id": "59da5884",
   "metadata": {},
   "outputs": [],
   "source": [
    "fixed_boundary_joints = get_fixed_boundary_joint(curved_linkage)"
   ]
  },
  {
   "cell_type": "code",
   "execution_count": null,
   "id": "abc1e9c1",
   "metadata": {},
   "outputs": [],
   "source": [
    "\n",
    "# z\n",
    "# fixed_boundary_joints = np.array([[curved_linkage.dofOffsetForJoint(i) + j for j in range(3)] for i in [1, 6, 3]]).flatten()\n",
    "# y\n",
    "# fixed_boundary_joints = np.array([[curved_linkage.dofOffsetForJoint(i) + j for j in range(3)] for i in [3, 8, 1]]).flatten()"
   ]
  },
  {
   "cell_type": "code",
   "execution_count": null,
   "id": "49861a61",
   "metadata": {},
   "outputs": [],
   "source": [
    "fixed_boundary_joints"
   ]
  },
  {
   "cell_type": "code",
   "execution_count": null,
   "id": "4821aa9f",
   "metadata": {},
   "outputs": [],
   "source": [
    "def eqm_callback(prob, i):\n",
    "    curved_linkage_view.update(scalarField = colors)"
   ]
  },
  {
   "cell_type": "code",
   "execution_count": null,
   "id": "b3551b0a",
   "metadata": {
    "scrolled": true
   },
   "outputs": [],
   "source": [
    "driver=curved_linkage.centralJoint()\n",
    "jdo = curved_linkage.dofOffsetForJoint(driver)\n",
    "fixedVars = list(range(jdo, jdo + 6)) # fix rigid motion for a single joint\n",
    "elastic_rods.compute_equilibrium(curved_linkage, fixedVars=fixedVars, callback = eqm_callback, options = OPTS)"
   ]
  },
  {
   "cell_type": "code",
   "execution_count": null,
   "id": "8899ba63",
   "metadata": {},
   "outputs": [],
   "source": [
    "ribbons = order_segments_by_ribbons(curved_linkage)\n"
   ]
  },
  {
   "cell_type": "code",
   "execution_count": null,
   "id": "a6b69f33",
   "metadata": {},
   "outputs": [],
   "source": [
    "def get_opposite_joint_type(curr_type):\n",
    "    if curr_type == curved_linkage.joint(0).Type.A_OVER_B:\n",
    "        return curved_linkage.joint(0).Type.B_OVER_A\n",
    "    return curved_linkage.joint(0).Type.A_OVER_B\n",
    "import structural_analysis"
   ]
  },
  {
   "cell_type": "code",
   "execution_count": null,
   "id": "51b4ca67",
   "metadata": {},
   "outputs": [],
   "source": [
    "structure_view = get_structure_analysis_view(curved_linkage)\n",
    "structure_view.show()"
   ]
  },
  {
   "cell_type": "code",
   "execution_count": null,
   "id": "009dc0bb",
   "metadata": {
    "scrolled": true
   },
   "outputs": [],
   "source": [
    "cfm = structural_analysis.weavingCrossingForceMagnitudes(curved_linkage, True)\n",
    "if np.sum(cfm[:, 0]>0) > 0:\n",
    "    print(\"Flipping crossing: \", np.argsort(cfm[:, 0] > 0)[-1 * np.sum(cfm[:, 0] > 0):])\n",
    "    for i in np.argsort(cfm[:, 0] > 0)[-1 * np.sum(cfm[:, 0] > 0):]:\n",
    "        curved_linkage.joint(i).type = get_opposite_joint_type(curved_linkage.joint(i).type)\n",
    "    elastic_rods.compute_equilibrium(curved_linkage, callback = eqm_callback, options = OPTS)\n",
    "    curved_linkage_view.update()"
   ]
  },
  {
   "cell_type": "code",
   "execution_count": null,
   "id": "81429b6f",
   "metadata": {},
   "outputs": [],
   "source": [
    "# curved_save_tgt_joint_pos = curved_linkage.jointPositions()"
   ]
  },
  {
   "cell_type": "code",
   "execution_count": null,
   "id": "64ad5880",
   "metadata": {},
   "outputs": [],
   "source": [
    "optimizer = initialize_stage_2_optimizer(curved_linkage, io.SURFACE_PATH, curved_save_tgt_joint_pos, curved_linkage_view, rw, sw, inner_gradTol = 1e-6)"
   ]
  },
  {
   "cell_type": "code",
   "execution_count": null,
   "id": "6f16d6f7",
   "metadata": {},
   "outputs": [],
   "source": [
    "optimizer.scaleJointWeights(1, 1, [])"
   ]
  },
  {
   "cell_type": "code",
   "execution_count": null,
   "id": "44b21b93",
   "metadata": {},
   "outputs": [],
   "source": [
    "optimizer.set_holdClosestPointsFixed(True)"
   ]
  },
  {
   "cell_type": "code",
   "execution_count": null,
   "id": "566a1417",
   "metadata": {},
   "outputs": [],
   "source": [
    "optimizer, opt_iterateData, _ = stage_2_optimization(optimizer, curved_linkage, io.SURFACE_PATH, curved_save_tgt_joint_pos, curved_linkage_view, -1, [], no_surface = False)"
   ]
  },
  {
   "cell_type": "code",
   "execution_count": null,
   "id": "8cc34c15",
   "metadata": {},
   "outputs": [],
   "source": [
    "save_path = os.getcwd()\n",
    "write_all_output(curved_linkage, io.SUBDIVISION_RESOLUTION, io.MODEL_NAME, io.RIBBON_NAME, False, 100, min(io.RIBBON_CS), target_width = 5, flip_angles = False)\n",
    "os.chdir(save_path)"
   ]
  },
  {
   "cell_type": "markdown",
   "id": "af3d5452",
   "metadata": {},
   "source": [
    "### Gravity"
   ]
  },
  {
   "cell_type": "code",
   "execution_count": null,
   "id": "ca8ae5b6",
   "metadata": {},
   "outputs": [],
   "source": [
    "gravity_linkage = curved_linkage\n",
    "gravity_linkage_view = linkage_vis.LinkageViewer(gravity_linkage)\n",
    "gravity_linkage_view.show()"
   ]
  },
  {
   "cell_type": "code",
   "execution_count": null,
   "id": "451cf584",
   "metadata": {},
   "outputs": [],
   "source": [
    "np.argsort(gravity_linkage.jointPositions().reshape((curved_linkage.numJoints(), 3))[:, 2])"
   ]
  },
  {
   "cell_type": "code",
   "execution_count": null,
   "id": "68e40411",
   "metadata": {},
   "outputs": [],
   "source": [
    "fixed_boundary_joints = get_fixed_boundary_joint(gravity_linkage)\n",
    "fixed_boundary_joints = np.array([[gravity_linkage.dofOffsetForJoint(i) + j for j in range(3)] for i in [20, 21, 22]]).flatten()"
   ]
  },
  {
   "cell_type": "code",
   "execution_count": null,
   "id": "9481f7c0",
   "metadata": {},
   "outputs": [],
   "source": [
    "OPTS.niter = 1000000"
   ]
  },
  {
   "cell_type": "code",
   "execution_count": null,
   "id": "fdd9d9ee",
   "metadata": {},
   "outputs": [],
   "source": [
    "external_forces = get_gravity_forces(gravity_linkage, io)"
   ]
  },
  {
   "cell_type": "code",
   "execution_count": null,
   "id": "a3df7845",
   "metadata": {},
   "outputs": [],
   "source": [
    "def eqm_callback(prob, i):\n",
    "    gravity_linkage_view.update()"
   ]
  },
  {
   "cell_type": "code",
   "execution_count": 30,
   "id": "5da295e1",
   "metadata": {
    "scrolled": true
   },
   "outputs": [
    {
     "name": "stdout",
     "output_type": "stream",
     "text": [
      "1272\t1.96633e-07\t1.94043e-06\t1.94043e-06\t1\t0\n",
      "1273\t1.96609e-07\t3.59346e-06\t3.59346e-06\t1\t0\n",
      "1274\t1.96594e-07\t2.6904e-06\t2.6904e-06\t0.5\t0\n",
      "1275\t1.9657e-07\t4.07343e-06\t4.07343e-06\t1\t0\n",
      "1276\t1.9654e-07\t8.23348e-07\t8.23348e-07\t0.5\t0\n",
      "1277\t1.96539e-07\t5.77404e-06\t5.77404e-06\t1\t0\n",
      "1278\t1.96503e-07\t1.06864e-06\t1.06864e-06\t0.25\t0\n",
      "1279\t1.96501e-07\t4.63681e-06\t4.63681e-06\t1\t0\n",
      "1280\t1.96478e-07\t1.77572e-06\t1.77572e-06\t0.25\t0\n",
      "1281\t1.96472e-07\t3.54178e-06\t3.54178e-06\t1\t0\n",
      "1282\t1.96451e-07\t1.02093e-06\t1.02093e-06\t0.25\t0\n",
      "1283\t1.96444e-07\t2.02911e-06\t2.02911e-06\t1\t0\n",
      "1284\t1.96436e-07\t2.46203e-06\t2.46203e-06\t1\t0\n",
      "Computing negative curvature direction for scaled tau = 1.81996\n",
      "1285\t1.96427e-07\t6.68093e-06\t6.68093e-06\t0.0625\t1\n",
      "1286\t1.96425e-07\t6.32049e-06\t6.32049e-06\t0.25\t0\n",
      "1287\t1.96409e-07\t4.92402e-06\t4.92402e-06\t1\t0\n",
      "1288\t1.96385e-07\t1.10468e-06\t1.10468e-06\t0.25\t0\n",
      "1289\t1.9638e-07\t1.68986e-06\t1.68986e-06\t1\t0\n",
      "1290\t1.96373e-07\t2.25934e-06\t2.25934e-06\t0.5\t0\n",
      "1291\t1.9636e-07\t2.24481e-06\t2.24481e-06\t1\t0\n",
      "1292\t1.96346e-07\t9.78618e-07\t9.78618e-07\t0.5\t0\n",
      "1293\t1.9634e-07\t2.45158e-06\t2.45158e-06\t1\t0\n",
      "1294\t1.96327e-07\t1.25728e-06\t1.25728e-06\t0.5\t0\n",
      "1295\t1.96321e-07\t2.29691e-06\t2.29691e-06\t1\t0\n",
      "1296\t1.9631e-07\t1.44632e-06\t1.44632e-06\t0.5\t0\n",
      "1297\t1.96303e-07\t1.7547e-06\t1.7547e-06\t1\t0\n",
      "1298\t1.96293e-07\t1.21074e-06\t1.21074e-06\t1\t1\n",
      "Computing negative curvature direction for scaled tau = 1.81996\n",
      "1299\t1.96288e-07\t4.08119e-08\t4.08119e-08\t0.0625\t1\n",
      "1300\t1.96288e-07\t6.86071e-07\t6.86071e-07\t0.03125\t0\n",
      "1301\t1.96282e-07\t1.89568e-06\t1.89568e-06\t1\t0\n",
      "1302\t1.96269e-07\t9.77545e-07\t9.77545e-07\t0.5\t0\n",
      "1303\t1.96265e-07\t2.06334e-06\t2.06334e-06\t1\t0\n",
      "1304\t1.96251e-07\t4.20694e-07\t4.20694e-07\t0.25\t0\n",
      "1305\t1.96246e-07\t1.06926e-06\t1.06926e-06\t1\t0\n",
      "1306\t1.96237e-07\t1.00938e-06\t1.00938e-06\t1\t0\n",
      "1307\t1.9623e-07\t1.52546e-06\t1.52546e-06\t1\t0\n",
      "1308\t1.96222e-07\t1.76755e-06\t1.76755e-06\t0.5\t0\n",
      "1309\t1.96216e-07\t1.47988e-06\t1.47988e-06\t1\t0\n",
      "1310\t1.96208e-07\t5.23196e-07\t5.23196e-07\t0.5\t0\n",
      "1311\t1.96203e-07\t1.04056e-06\t1.04056e-06\t1\t0\n",
      "1312\t1.96196e-07\t7.18146e-07\t7.18146e-07\t1\t0\n",
      "1313\t1.96192e-07\t1.75701e-06\t1.75701e-06\t1\t0\n",
      "1314\t1.96183e-07\t8.66099e-07\t8.66099e-07\t0.5\t0\n",
      "1315\t1.9618e-07\t1.6771e-06\t1.6771e-06\t1\t0\n",
      "1316\t1.96171e-07\t3.8492e-07\t3.8492e-07\t0.25\t0\n",
      "1317\t1.96168e-07\t6.69345e-07\t6.69345e-07\t1\t0\n",
      "1318\t1.96163e-07\t1.13738e-06\t1.13738e-06\t1\t0\n",
      "1319\t1.96156e-07\t5.04471e-07\t5.04471e-07\t0.25\t0\n",
      "1320\t1.96154e-07\t5.85784e-07\t5.85784e-07\t1\t0\n",
      "1321\t1.96151e-07\t1.61063e-06\t1.61063e-06\t1\t0\n",
      "1322\t1.96143e-07\t4.34877e-07\t4.34877e-07\t0.25\t0\n",
      "1323\t1.9614e-07\t1.04527e-06\t1.04527e-06\t1\t0\n",
      "1324\t1.96134e-07\t5.76963e-07\t5.76963e-07\t0.5\t0\n",
      "1325\t1.9613e-07\t7.98303e-07\t7.98303e-07\t1\t0\n",
      "1326\t1.96126e-07\t7.77717e-07\t7.77717e-07\t1\t0\n",
      "1327\t1.96121e-07\t9.14171e-07\t9.14171e-07\t1\t0\n",
      "1328\t1.96117e-07\t9.55426e-07\t9.55426e-07\t1\t0\n",
      "1329\t1.96113e-07\t1.40681e-06\t1.40681e-06\t0.5\t0\n",
      "1330\t1.9611e-07\t1.07142e-06\t1.07142e-06\t1\t0\n",
      "1331\t1.96104e-07\t6.72311e-07\t6.72311e-07\t0.5\t0\n",
      "1332\t1.96104e-07\t1.03442e-06\t1.03442e-06\t1\t0\n",
      "1333\t1.96098e-07\t1.1113e-06\t1.1113e-06\t0.125\t0\n",
      "1334\t1.96097e-07\t9.88055e-07\t9.88055e-07\t1\t0\n",
      "1335\t1.96093e-07\t9.27868e-07\t9.27868e-07\t1\t1\n",
      "1336\t1.96091e-07\t1.37478e-08\t1.37478e-08\t1\t1\n",
      "1337\t1.96091e-07\t2.63656e-07\t2.63656e-07\t0.125\t1\n",
      "1338\t1.96091e-07\t5.26865e-07\t5.26865e-07\t0.0078125\t0\n",
      "1339\t1.96088e-07\t1.38411e-06\t1.38411e-06\t0.25\t0\n",
      "1340\t1.96087e-07\t1.15201e-06\t1.15201e-06\t1\t0\n",
      "1341\t1.96081e-07\t8.09306e-07\t8.09306e-07\t0.5\t0\n",
      "1342\t1.96081e-07\t9.39804e-07\t9.39804e-07\t1\t0\n",
      "1343\t1.96074e-07\t1.02746e-06\t1.02746e-06\t0.25\t0\n",
      "1344\t1.96073e-07\t8.31589e-07\t8.31589e-07\t1\t0\n",
      "1345\t1.96069e-07\t8.29803e-07\t8.29803e-07\t0.5\t0\n",
      "1346\t1.96067e-07\t7.22911e-07\t7.22911e-07\t1\t0\n",
      "1347\t1.96063e-07\t1.42111e-06\t1.42111e-06\t0.25\t0\n",
      "1348\t1.96062e-07\t1.1086e-06\t1.1086e-06\t1\t0\n",
      "1349\t1.96057e-07\t4.70124e-07\t4.70124e-07\t0.25\t0\n",
      "1350\t1.96055e-07\t5.44377e-07\t5.44377e-07\t1\t0\n",
      "1351\t1.96055e-07\t2.12302e-06\t2.12302e-06\t0.5\t0\n",
      "1352\t1.96052e-07\t1.21968e-06\t1.21968e-06\t1\t0\n",
      "1353\t1.96045e-07\t4.74799e-07\t4.74799e-07\t0.125\t0\n",
      "1354\t1.96045e-07\t5.68626e-07\t5.68626e-07\t0.5\t0\n",
      "1355\t1.96041e-07\t9.52097e-07\t9.52097e-07\t1\t0\n",
      "1356\t1.96037e-07\t6.71787e-07\t6.71787e-07\t0.5\t0\n",
      "1357\t1.96036e-07\t8.08151e-07\t8.08151e-07\t1\t0\n",
      "1358\t1.96031e-07\t1.28618e-06\t1.28618e-06\t0.0625\t0\n",
      "1359\t1.96031e-07\t1.2177e-06\t1.2177e-06\t1\t0\n",
      "1360\t1.96026e-07\t4.09944e-07\t4.09944e-07\t0.25\t0\n",
      "1361\t1.96025e-07\t5.57475e-07\t5.57475e-07\t1\t0\n",
      "1362\t1.96024e-07\t2.09931e-06\t2.09931e-06\t0.5\t0\n",
      "1363\t1.96022e-07\t1.26691e-06\t1.26691e-06\t1\t0\n",
      "1364\t1.96014e-07\t5.13879e-07\t5.13879e-07\t1\t1\n",
      "1365\t1.96014e-07\t2.0348e-08\t2.0348e-08\t1\t1\n",
      "1366\t1.96013e-07\t2.41282e-08\t2.41282e-08\t1\t1\n",
      "1367\t1.96013e-07\t4.7361e-08\t4.7361e-08\t1\t1\n",
      "1368\t1.96012e-07\t1.13536e-07\t1.13536e-07\t1\t1\n",
      "1369\t1.9601e-07\t2.44273e-07\t2.44273e-07\t0.00390625\t0\n",
      "1370\t1.9601e-07\t2.97482e-07\t2.97482e-07\t0.25\t0\n",
      "1371\t1.96007e-07\t8.38349e-07\t8.38349e-07\t1\t0\n",
      "1372\t1.96003e-07\t7.11689e-07\t7.11689e-07\t0.5\t0\n",
      "1373\t1.96001e-07\t6.76136e-07\t6.76136e-07\t1\t0\n",
      "1374\t1.95997e-07\t1.32681e-06\t1.32681e-06\t0.125\t0\n",
      "1375\t1.95997e-07\t1.19263e-06\t1.19263e-06\t1\t0\n",
      "1376\t1.95992e-07\t4.62393e-07\t4.62393e-07\t0.125\t0\n",
      "1377\t1.95991e-07\t4.68767e-07\t4.68767e-07\t0.5\t0\n",
      "1378\t1.95988e-07\t1.03407e-06\t1.03407e-06\t1\t0\n",
      "1379\t1.95984e-07\t6.10854e-07\t6.10854e-07\t1\t0\n",
      "1380\t1.95983e-07\t1.96368e-06\t1.96368e-06\t1\t0\n",
      "1381\t1.95977e-07\t5.27736e-07\t5.27736e-07\t0.25\t0\n",
      "1382\t1.95975e-07\t1.41815e-06\t1.41815e-06\t1\t0\n",
      "1383\t1.9597e-07\t3.42084e-07\t3.42084e-07\t0.25\t0\n",
      "1384\t1.95967e-07\t6.25981e-07\t6.25981e-07\t1\t0\n",
      "1385\t1.95965e-07\t1.54585e-06\t1.54585e-06\t1\t0\n",
      "1386\t1.95963e-07\t7.53039e-07\t7.53039e-07\t0.25\t0\n",
      "Computing negative curvature direction for scaled tau = 0.0142184\n",
      "1387\t1.95959e-07\t1.01792e-06\t1.01792e-06\t0.0625\t1\n",
      "1388\t1.95959e-07\t1.15177e-06\t1.15177e-06\t1\t0\n",
      "1389\t1.95953e-07\t9.7624e-07\t9.7624e-07\t0.03125\t0\n",
      "1390\t1.95952e-07\t9.75599e-07\t9.75599e-07\t1\t0\n",
      "1391\t1.95948e-07\t7.72457e-07\t7.72457e-07\t0.25\t0\n",
      "1392\t1.95947e-07\t6.79414e-07\t6.79414e-07\t1\t0\n",
      "1393\t1.95944e-07\t1.51684e-06\t1.51684e-06\t0.5\t0\n",
      "1394\t1.95941e-07\t8.83451e-07\t8.83451e-07\t1\t0\n",
      "1395\t1.95936e-07\t7.85956e-07\t7.85956e-07\t0.125\t0\n",
      "1396\t1.95935e-07\t7.20381e-07\t7.20381e-07\t1\t0\n",
      "1397\t1.95932e-07\t1.012e-06\t1.012e-06\t1\t0\n",
      "1398\t1.95928e-07\t6.02957e-07\t6.02957e-07\t1\t0\n",
      "1399\t1.95927e-07\t1.91436e-06\t1.91436e-06\t0.25\t0\n",
      "1400\t1.95925e-07\t1.49838e-06\t1.49838e-06\t1\t0\n",
      "1401\t1.95918e-07\t2.45417e-07\t2.45417e-07\t0.125\t0\n",
      "1402\t1.95917e-07\t3.91982e-07\t3.91982e-07\t0.5\t0\n",
      "1403\t1.95914e-07\t1.0592e-06\t1.0592e-06\t1\t0\n",
      "1404\t1.9591e-07\t4.4646e-07\t4.4646e-07\t0.5\t0\n",
      "1405\t1.95908e-07\t9.31852e-07\t9.31852e-07\t1\t0\n",
      "1406\t1.95904e-07\t4.65052e-07\t4.65052e-07\t1\t0\n",
      "1407\t1.95904e-07\t1.97899e-06\t1.97899e-06\t1\t0\n",
      "1408\t1.95899e-07\t6.42465e-07\t6.42465e-07\t0.25\t0\n",
      "1409\t1.95899e-07\t1.95295e-06\t1.95295e-06\t1\t0\n",
      "1410\t1.9589e-07\t9.86337e-08\t9.86337e-08\t1\t0\n"
     ]
    },
    {
     "data": {
      "text/plain": [
       "<py_newton_optimizer.ConvergenceReport at 0x1248ec6b0>"
      ]
     },
     "execution_count": 30,
     "metadata": {},
     "output_type": "execute_result"
    }
   ],
   "source": [
    "elastic_rods.compute_equilibrium(gravity_linkage, external_forces, fixedVars=fixed_boundary_joints, callback = eqm_callback, options = OPTS)"
   ]
  }
 ],
 "metadata": {
  "kernelspec": {
   "display_name": "Python 3",
   "language": "python",
   "name": "python3"
  },
  "language_info": {
   "codemirror_mode": {
    "name": "ipython",
    "version": 3
   },
   "file_extension": ".py",
   "mimetype": "text/x-python",
   "name": "python",
   "nbconvert_exporter": "python",
   "pygments_lexer": "ipython3",
   "version": "3.9.4"
  }
 },
 "nbformat": 4,
 "nbformat_minor": 5
}
