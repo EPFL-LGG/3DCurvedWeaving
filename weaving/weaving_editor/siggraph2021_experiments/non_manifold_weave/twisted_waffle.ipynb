{
 "cells": [
  {
   "cell_type": "code",
   "execution_count": 1,
   "metadata": {},
   "outputs": [],
   "source": [
    "elastic_rods_dir = '../../../../elastic_rods/python/'\n",
    "weaving_dir = '../../../'\n",
    "import os\n",
    "import os.path as osp\n",
    "import sys; sys.path.append(elastic_rods_dir); sys.path.append(weaving_dir)\n",
    "import numpy as np, elastic_rods, linkage_vis\n",
    "import numpy.linalg as la\n",
    "from bending_validation import suppress_stdout as so\n",
    "import matplotlib.pyplot as plt\n",
    "from elastic_rods import EnergyType, InterleavingType\n",
    "\n",
    "# weaving\n",
    "import analysis_helper, ribbon_linkage_helper, mesh_vis, linkage_utils, compute_curve_from_curvature, pipeline_helper, deactivate_crossing_helper, importlib\n",
    "importlib.reload(analysis_helper)\n",
    "importlib.reload(ribbon_linkage_helper)\n",
    "importlib.reload(mesh_vis)\n",
    "importlib.reload(linkage_utils)\n",
    "importlib.reload(compute_curve_from_curvature)\n",
    "importlib.reload(pipeline_helper)\n",
    "importlib.reload(deactivate_crossing_helper)\n",
    "from analysis_helper import (compare_turning_angle,\n",
    "                            is_on_sphere, \n",
    "                            get_distance_to_center_scalar_field, \n",
    "                            plot_curvatures, \n",
    "                            get_curvature_scalar_field,\n",
    "                            construct_elastic_rod_loop_from_rod_segments, \n",
    "                            concatenate_rod_properties_from_rod_segments, \n",
    "                            compute_min_distance_rigid_transformation)\n",
    "from ribbon_linkage_helper import (update_rest_curvature, \n",
    "                                   set_ribbon_linkage,\n",
    "                                   export_linkage_geometry_to_obj,\n",
    "                                   write_linkage_ribbon_output_florin)\n",
    "\n",
    "from compute_curve_from_curvature import (match_geo_curvature_and_edge_len, get_all_curve_pattern)\n",
    "from linkage_utils import order_segments_by_ribbons, get_turning_angle_and_length_from_ordered_rods\n",
    "\n",
    "from pipeline_helper import (initialize_linkage, get_normal_deviation, set_joint_vector_field, stage_1_optimization, initialize_stage_2_optimizer, stage_2_optimization, InputOrganizer, write_all_output, set_surface_view_options, get_structure_analysis_view, contact_optimization, get_double_side_view, show_selected_joints, get_max_distance_to_target_surface, get_average_distance_to_target_surface)\n",
    "from deactivate_crossing_helper import get_segment_index_from_joints\n",
    "import vis.fields\n",
    "import matplotlib.cm as cm\n",
    "import time"
   ]
  },
  {
   "cell_type": "code",
   "execution_count": 2,
   "metadata": {},
   "outputs": [],
   "source": [
    "import parallelism\n",
    "parallelism.set_max_num_tbb_threads(12)\n",
    "parallelism.set_hessian_assembly_num_threads(4)\n",
    "parallelism.set_gradient_assembly_num_threads(4)"
   ]
  },
  {
   "cell_type": "code",
   "execution_count": 3,
   "metadata": {},
   "outputs": [
    {
     "name": "stdout",
     "output_type": "stream",
     "text": [
      "0.04 0.0028\n"
     ]
    }
   ],
   "source": [
    "rod_length = 0.12\n",
    "width = rod_length / 15 * 5\n",
    "thickness = width / 5 * 0.35\n",
    "print(width, thickness)\n",
    "io = InputOrganizer('twisted_waffle_1', thickness, width, weaving_dir)\n",
    "# This is just to get a random surface"
   ]
  },
  {
   "cell_type": "code",
   "execution_count": 4,
   "metadata": {},
   "outputs": [],
   "source": [
    "io.SUBDIVISION_RESOLUTION = 20"
   ]
  },
  {
   "cell_type": "code",
   "execution_count": 5,
   "metadata": {},
   "outputs": [],
   "source": [
    "import py_newton_optimizer\n",
    "OPTS = py_newton_optimizer.NewtonOptimizerOptions()\n",
    "OPTS.gradTol = 1e-6\n",
    "OPTS.verbose = 1;\n",
    "OPTS.beta = 1e-8\n",
    "OPTS.niter = 200\n",
    "OPTS.verboseNonPosDef = False\n",
    "rw = 1\n",
    "sw = 10\n",
    "drw = 0.01\n",
    "dsw = 0.01"
   ]
  },
  {
   "cell_type": "markdown",
   "metadata": {},
   "source": [
    "### Initialization"
   ]
  },
  {
   "cell_type": "code",
   "execution_count": 6,
   "metadata": {},
   "outputs": [],
   "source": [
    "import pickle \n",
    "import gzip\n",
    "# pickle.dump(curved_linkage, gzip.open('{}_{}.pkl.gz'.format(io.MODEL_NAME, time.time()), 'w'))"
   ]
  },
  {
   "cell_type": "code",
   "execution_count": 7,
   "metadata": {},
   "outputs": [],
   "source": [
    "# curved_linkage = pickle.load(gzip.open('regular_4_7_1607520544.236602.pkl.gz', 'r'))\n",
    "# curved_linkage_view = linkage_vis.LinkageViewer(curved_linkage)\n",
    "# curved_linkage_view.show()"
   ]
  },
  {
   "cell_type": "code",
   "execution_count": 8,
   "metadata": {},
   "outputs": [],
   "source": [
    "# np.save('{}_design_parameters.npy'.format(io.MODEL_NAME), curved_linkage.getDesignParameters())"
   ]
  },
  {
   "cell_type": "code",
   "execution_count": 9,
   "metadata": {},
   "outputs": [
    {
     "data": {
      "application/vnd.jupyter.widget-view+json": {
       "model_id": "b2e285a449ef4908aa9064ffa10f42bd",
       "version_major": 2,
       "version_minor": 0
      },
      "text/plain": [
       "Renderer(camera=PerspectiveCamera(children=(PointLight(color='#999999', position=(0.0, 0.0, 5.0), quaternion=(…"
      ]
     },
     "metadata": {},
     "output_type": "display_data"
    }
   ],
   "source": [
    "with so(): curved_linkage = initialize_linkage(surface_path = io.SURFACE_PATH, useCenterline = False, model_path = io.MODEL_PATH, cross_section = io.RIBBON_CS, subdivision_res = io.SUBDIVISION_RESOLUTION, use_constant_width=True, interleaving_type=InterleavingType.weaving)\n",
    "curved_linkage.set_design_parameter_config(use_restLen = True, use_restKappa = True)\n",
    "curved_save_tgt_joint_pos = curved_linkage.jointPositions()\n",
    "curved_linkage_view = linkage_vis.LinkageViewer(curved_linkage)\n",
    "curved_linkage_view.show()"
   ]
  },
  {
   "cell_type": "markdown",
   "metadata": {},
   "source": [
    "### Stage 1 and manually untwist twisted ribbon"
   ]
  },
  {
   "cell_type": "code",
   "execution_count": 10,
   "metadata": {},
   "outputs": [],
   "source": [
    "E0 = curved_linkage.designParameterSolve_energy()\n",
    "l0 = curved_linkage.totalRestLength()\n",
    "# curved_linkage.joint(4).set_terminalEdgeNormalSign(10, 1)\n",
    "# curved_linkage.joint(0).set_terminalEdgeNormalSign(10, 1)\n",
    "# curved_linkage.joint(15).set_terminalEdgeNormalSign(14, -1)\n",
    "# curved_linkage.joint(14).set_terminalEdgeNormalSign(14, 1)\n",
    "# iterateData, dpo = stage_1_optimization(curved_linkage, drw, dsw, curved_linkage_view, E0 = E0, l0 = l0, niter = 400)\n",
    "# curved_linkage.joint(15).set_terminalEdgeNormalSign(14, 1)\n",
    "iterateData, dpo = stage_1_optimization(curved_linkage, drw, dsw, curved_linkage_view, E0 = E0, l0 = l0, niter = 400)"
   ]
  },
  {
   "cell_type": "code",
   "execution_count": 11,
   "metadata": {},
   "outputs": [],
   "source": [
    "iterateData, dpo = stage_1_optimization(curved_linkage, drw, dsw, curved_linkage_view, E0 = E0, l0 = l0, niter = 400)"
   ]
  },
  {
   "cell_type": "code",
   "execution_count": 12,
   "metadata": {},
   "outputs": [],
   "source": [
    "bottomColor =[79/255., 158/255., 246/255.]\n",
    "topColor =[0.5, 0.5, 0.5]\n",
    "heights = curved_linkage.visualizationGeometryHeightColors()\n",
    "colors = np.take(np.array([bottomColor, topColor]), heights < heights.mean(), axis=0)"
   ]
  },
  {
   "cell_type": "code",
   "execution_count": 13,
   "metadata": {},
   "outputs": [],
   "source": [
    "curved_linkage_view.update(scalarField=colors)"
   ]
  },
  {
   "cell_type": "code",
   "execution_count": 14,
   "metadata": {},
   "outputs": [],
   "source": [
    "curved_linkage_view.setCameraParams(((4.139347366530763, -3.927678946178955, 0.7924706632167623),\n",
    " (-0.038125872037145875, 0.15887387844372028, 0.9865624707182293),\n",
    " (0.0, 0.0, 0.0)))"
   ]
  },
  {
   "cell_type": "code",
   "execution_count": 15,
   "metadata": {},
   "outputs": [],
   "source": [
    "# curved_linkage.setDesignParameters(np.load('{}_design_parameters.npy'.format(io.MODEL_NAME)))"
   ]
  },
  {
   "cell_type": "code",
   "execution_count": 16,
   "metadata": {},
   "outputs": [],
   "source": [
    "curved_linkage.attraction_weight = 0"
   ]
  },
  {
   "cell_type": "code",
   "execution_count": 17,
   "metadata": {},
   "outputs": [],
   "source": [
    "# vf = show_selected_joints(curved_linkage, [15, 14], flip = False)\n",
    "# curved_linkage_view.update(vectorField = vf, scalarField = colors)"
   ]
  },
  {
   "cell_type": "code",
   "execution_count": 18,
   "metadata": {},
   "outputs": [],
   "source": [
    "# curved_linkage.setMaterial(elastic_rods.RodMaterial('rectangle', 2000, 0.3, [thickness, width], stiffAxis=elastic_rods.StiffAxis.D1))"
   ]
  },
  {
   "cell_type": "code",
   "execution_count": 29,
   "metadata": {},
   "outputs": [],
   "source": [
    "def eqm_callback(prob, i):\n",
    "    curved_linkage_view.update(scalarField=colors)"
   ]
  },
  {
   "cell_type": "code",
   "execution_count": 30,
   "metadata": {
    "scrolled": true
   },
   "outputs": [],
   "source": [
    "driver=curved_linkage.centralJoint()\n",
    "jdo = curved_linkage.dofOffsetForJoint(driver)\n",
    "fixedVars = list(range(jdo, jdo + 6)) # fix rigid motion for a single joint\n",
    "with so(): elastic_rods.compute_equilibrium(curved_linkage, fixedVars=fixedVars, callback = eqm_callback, options = OPTS)"
   ]
  },
  {
   "cell_type": "code",
   "execution_count": 21,
   "metadata": {},
   "outputs": [],
   "source": [
    "# curved_save_tgt_joint_pos = curved_linkage.jointPositions()"
   ]
  },
  {
   "cell_type": "code",
   "execution_count": 22,
   "metadata": {},
   "outputs": [],
   "source": [
    "optimizer = initialize_stage_2_optimizer(curved_linkage, io.SURFACE_PATH, curved_save_tgt_joint_pos, curved_linkage_view, rw, sw)"
   ]
  },
  {
   "cell_type": "code",
   "execution_count": 23,
   "metadata": {},
   "outputs": [],
   "source": [
    "optimizer.scaleJointWeights(1, 1, [])"
   ]
  },
  {
   "cell_type": "code",
   "execution_count": 24,
   "metadata": {},
   "outputs": [],
   "source": [
    "optimizer.set_holdClosestPointsFixed(True)"
   ]
  },
  {
   "cell_type": "code",
   "execution_count": 25,
   "metadata": {},
   "outputs": [],
   "source": [
    "optimizer.beta = 1e7"
   ]
  },
  {
   "cell_type": "code",
   "execution_count": 26,
   "metadata": {},
   "outputs": [
    {
     "name": "stdout",
     "output_type": "stream",
     "text": [
      "rl_regularization_weight 0.9999999999999999\n",
      "smoothing_weight 10.0\n"
     ]
    }
   ],
   "source": [
    "optimizer, opt_iterateData = stage_2_optimization(optimizer, curved_linkage, io.SURFACE_PATH, curved_save_tgt_joint_pos, curved_linkage_view, -1, no_surface = True, maxIter = 100)"
   ]
  },
  {
   "cell_type": "code",
   "execution_count": 27,
   "metadata": {},
   "outputs": [
    {
     "name": "stdout",
     "output_type": "stream",
     "text": [
      "Min Width  0.04\n",
      "Scale:  125.0\n",
      "num seg per rod 381\n",
      "num seg per rod 381\n",
      "num seg per rod 242\n",
      "0.2\n"
     ]
    },
    {
     "data": {
      "image/png": "[encoded data removed]",
      "text/plain": [
       "<Figure size 432x288 with 1 Axes>"
      ]
     },
     "metadata": {
      "needs_background": "light"
     },
     "output_type": "display_data"
    }
   ],
   "source": [
    "save_path = os.getcwd()\n",
    "write_all_output(curved_linkage, io.SUBDIVISION_RESOLUTION, io.MODEL_NAME, io.RIBBON_NAME, False, 100, min(io.RIBBON_CS), target_width = 5, flip_angles = False)\n",
    "os.chdir(save_path)"
   ]
  },
  {
   "cell_type": "code",
   "execution_count": 28,
   "metadata": {},
   "outputs": [],
   "source": [
    "export_linkage_geometry_to_obj(curved_linkage, '{}_contact_opt.obj'.format(io.MODEL_NAME))"
   ]
  },
  {
   "cell_type": "markdown",
   "metadata": {},
   "source": [
    "## Contact Optimization"
   ]
  },
  {
   "cell_type": "code",
   "execution_count": 31,
   "metadata": {},
   "outputs": [
    {
     "data": {
      "application/vnd.jupyter.widget-view+json": {
       "model_id": "b4662fb2a4e5471aab43c64b23ca3cde",
       "version_major": 2,
       "version_minor": 0
      },
      "text/plain": [
       "HBox(children=(Renderer(camera=PerspectiveCamera(children=(PointLight(color='#999999', position=(0.0, 0.0, 5.0…"
      ]
     },
     "metadata": {},
     "output_type": "display_data"
    },
    {
     "data": {
      "image/png": "[encoded data removed]",
      "text/plain": [
       "<Figure size 1080x288 with 4 Axes>"
      ]
     },
     "metadata": {
      "needs_background": "light"
     },
     "output_type": "display_data"
    }
   ],
   "source": [
    "structure_view = get_structure_analysis_view(curved_linkage)\n",
    "structure_view.show()"
   ]
  },
  {
   "cell_type": "code",
   "execution_count": 32,
   "metadata": {},
   "outputs": [],
   "source": [
    "def get_opposite_joint_type(curr_type):\n",
    "    if curr_type == curved_linkage.joint(0).Type.A_OVER_B:\n",
    "        return curved_linkage.joint(0).Type.B_OVER_A\n",
    "    return curved_linkage.joint(0).Type.A_OVER_B\n",
    "import structural_analysis"
   ]
  },
  {
   "cell_type": "code",
   "execution_count": 33,
   "metadata": {
    "scrolled": true
   },
   "outputs": [
    {
     "name": "stdout",
     "output_type": "stream",
     "text": [
      "Flipping crossing:  [448 494 379 447 373 460 416 475 388 376 480 464 433 444 374 472 499 442\n",
      " 419 469 403 387 479 485 426 427 428 406 468 386 389 429 483 431 409 489\n",
      " 438 410 439 490 432 407 443   0 367 116 119 120 121 125 128 131 132 133\n",
      " 134 137 139 140 114 144 149 150 156 157 159 160 163 168 169 174 189 190\n",
      " 191 147 194 107 103   1   4   6   8  12  15  17  19  21  22  26  27  28\n",
      " 104  32  39  46  48  56  63  72  81  83  85  89  92  97  99  38 196 197\n",
      " 203 301 303 304 305 306 307 314 316 318 319 321 322 324 299 325 327 335\n",
      " 336 339 342 346 348 352 354 355 358 361 363 326 295 288 286 208 210 223\n",
      " 232 233 234 235 236 237 238 240 241 242 247 248 249 251 252 253 254 255\n",
      " 256 257 258 275 278 279 280 282 371 250]\n",
      "0\t0.0102725\t1.10191\t1.10191\t1\t1\n",
      "1\t0.00285916\t1.53225\t1.53225\t1\t1\n",
      "2\t0.00214185\t0.134644\t0.134644\t1\t1\n",
      "3\t0.00191976\t0.0759855\t0.0759855\t1\t1\n",
      "4\t0.00166447\t0.0577378\t0.0577378\t1\t1\n",
      "5\t0.0013973\t0.0417306\t0.0417306\t1\t1\n",
      "6\t0.00114653\t0.0291887\t0.0291887\t1\t1\n",
      "7\t0.000932358\t0.0201743\t0.0201743\t1\t1\n",
      "8\t0.000764525\t0.0140709\t0.0140709\t1\t1\n",
      "9\t0.000642962\t0.00981498\t0.00981498\t1\t1\n",
      "10\t0.000559911\t0.0063759\t0.0063759\t1\t1\n",
      "11\t0.000503982\t0.00406276\t0.00406276\t1\t1\n",
      "12\t0.000466915\t0.00263358\t0.00263358\t1\t1\n",
      "13\t0.000443987\t0.00177909\t0.00177909\t1\t1\n",
      "14\t0.000430978\t0.0011834\t0.0011834\t1\t1\n",
      "15\t0.000423715\t0.000836924\t0.000836924\t1\t1\n",
      "16\t0.000419418\t0.00085819\t0.00085819\t1\t1\n",
      "17\t0.000416732\t0.0010458\t0.0010458\t1\t1\n",
      "18\t0.000414964\t0.00147925\t0.00147925\t1\t1\n",
      "19\t0.000413692\t0.00173633\t0.00173633\t1\t1\n",
      "20\t0.000412695\t0.00221929\t0.00221929\t1\t1\n",
      "21\t0.000411957\t0.00484329\t0.00484329\t1\t1\n",
      "22\t0.000411585\t0.0137362\t0.0137362\t1\t1\n",
      "23\t0.000411379\t0.00666632\t0.00666632\t1\t1\n",
      "24\t0.000411271\t0.000449188\t0.000449188\t1\t1\n",
      "25\t0.000411236\t0.000741744\t0.000741744\t1\t1\n",
      "26\t0.000411206\t0.000204908\t0.000204908\t1\t1\n",
      "27\t0.000411163\t0.000240994\t0.000240994\t1\t1\n",
      "28\t0.000411095\t0.000409626\t0.000409626\t1\t1\n",
      "29\t0.000410993\t0.000515307\t0.000515307\t1\t1\n",
      "30\t0.000410857\t0.000561386\t0.000561386\t1\t1\n",
      "31\t0.000410688\t0.000738659\t0.000738659\t1\t1\n",
      "32\t0.0004105\t0.000949762\t0.000949762\t1\t1\n",
      "33\t0.000410314\t0.00122052\t0.00122052\t1\t1\n",
      "34\t0.000410152\t0.00131049\t0.00131049\t1\t1\n",
      "35\t0.000410035\t0.00121544\t0.00121544\t1\t1\n",
      "36\t0.000409964\t0.000979232\t0.000979232\t1\t1\n",
      "37\t0.000409925\t0.000891223\t0.000891223\t1\t1\n",
      "38\t0.000409899\t0.000659416\t0.000659416\t0.5\t1\n",
      "39\t0.000409893\t0.00118091\t0.00118091\t1\t1\n",
      "40\t0.000409868\t0.000932944\t0.000932944\t0.125\t1\n",
      "41\t0.000409862\t0.000881396\t0.000881396\t1\t1\n",
      "42\t0.000409844\t0.000838704\t0.000838704\t0.25\t1\n",
      "43\t0.000409839\t0.000930724\t0.000930724\t1\t1\n",
      "44\t0.000409824\t0.00131932\t0.00131932\t1\t1\n",
      "45\t0.000409813\t0.00129459\t0.00129459\t0.25\t1\n",
      "46\t0.000409807\t0.00155212\t0.00155212\t1\t1\n",
      "47\t0.000409785\t0.000344497\t0.000344497\t0.0625\t1\n",
      "48\t0.000409784\t0.000719673\t0.000719673\t0.5\t1\n",
      "49\t0.000409781\t0.00114554\t0.00114554\t1\t1\n",
      "50\t0.000409769\t0.000259141\t0.000259141\t0.5\t1\n",
      "51\t0.000409767\t0.000868024\t0.000868024\t1\t1\n",
      "52\t0.000409761\t0.0001609\t0.0001609\t0.5\t1\n",
      "53\t0.000409759\t0.000373146\t0.000373146\t1\t1\n",
      "54\t0.000409757\t0.00017481\t0.00017481\t1\t1\n",
      "55\t0.000409755\t0.000375104\t0.000375104\t1\t1\n",
      "Computing negative curvature direction for scaled tau = 2.46039e-05\n",
      "56\t0.000409754\t5.06524e-05\t5.06524e-05\t0.5\t1\n",
      "57\t0.000409754\t0.000162621\t0.000162621\t1\t1\n",
      "Computing negative curvature direction for scaled tau = 2.46039e-05\n",
      "58\t0.000409753\t7.549e-05\t7.549e-05\t1\t1\n",
      "59\t0.000409753\t0.000113231\t0.000113231\t1\t1\n",
      "60\t0.000409753\t0.000224472\t0.000224472\t1\t1\n",
      "Computing negative curvature direction for scaled tau = 9.84155e-05\n",
      "61\t0.000409752\t5.85467e-05\t5.85467e-05\t0.0625\t1\n",
      "62\t0.000409752\t0.000378875\t0.000378875\t1\t1\n",
      "Computing negative curvature direction for scaled tau = 2.46039e-05\n",
      "63\t0.000409751\t5.41267e-05\t5.41267e-05\t0.25\t1\n",
      "64\t0.00040975\t0.000172073\t0.000172073\t1\t1\n",
      "Computing negative curvature direction for scaled tau = 2.46039e-05\n",
      "65\t0.000409749\t8.51954e-05\t8.51954e-05\t1\t1\n",
      "Computing negative curvature direction for scaled tau = 2.46039e-05\n",
      "66\t0.000409749\t3.83665e-05\t3.83665e-05\t1\t1\n",
      "Computing negative curvature direction for scaled tau = 2.46039e-05\n",
      "Spectra unsuccessful after 21 iterations\n",
      "Negative curvature direction calculation failed\n",
      "67\t0.000409749\t1.05907e-05\t1.05907e-05\t1\t1\n",
      "Computing negative curvature direction for scaled tau = 2.46039e-05\n",
      "68\t0.000409749\t1.87067e-07\t1.87067e-07\t1\t1\n",
      "Computing negative curvature direction for scaled tau = 2.46039e-05\n",
      "69\t0.000409749\t7.42258e-07\t7.42258e-07\t0.25\t1\n",
      "Computing negative curvature direction for scaled tau = 2.46039e-05\n",
      "Spectra unsuccessful after 21 iterations\n",
      "Negative curvature direction calculation failed\n",
      "70\t0.000409749\t7.1353e-07\t7.1353e-07\t1\t1\n",
      "Computing negative curvature direction for scaled tau = 2.46039e-05\n",
      "71\t0.000409749\t5.57718e-12\t5.57718e-12\t0.015625\t1\n",
      "Computing negative curvature direction for scaled tau = 2.46039e-05\n",
      "72\t0.000409749\t2.58981e-09\t2.58981e-09\t6.10352e-05\t1\n",
      "Computing negative curvature direction for scaled tau = 2.46039e-05\n",
      "73\t0.000409749\t2.61513e-09\t2.61513e-09\t0.0078125\t1\n",
      "Computing negative curvature direction for scaled tau = 2.46039e-05\n",
      "74\t0.000409749\t8.53012e-09\t8.53012e-09\t0.0078125\t1\n",
      "Computing negative curvature direction for scaled tau = 2.46039e-05\n",
      "75\t0.000409749\t1.61702e-08\t1.61702e-08\t0.00390625\t1\n",
      "Computing negative curvature direction for scaled tau = 2.46039e-05\n",
      "76\t0.000409749\t1.7272e-08\t1.7272e-08\t2.98023e-08\t1\n",
      "Initial backtracking failed; attempting gradient descent.\n",
      "Computing negative curvature direction for scaled tau = 2.46039e-05\n",
      "77\t0.000409749\t1.71309e-08\t1.71309e-08\t2.98023e-08\t1\n",
      "Initial backtracking failed; attempting gradient descent.\n",
      "Computing negative curvature direction for scaled tau = 2.46039e-05\n",
      "78\t0.000409749\t1.71025e-08\t1.71025e-08\t0.00390625\t1\n",
      "Computing negative curvature direction for scaled tau = 2.46039e-05\n",
      "79\t0.000409749\t1.72229e-08\t1.72229e-08\t2.98023e-08\t1\n",
      "Initial backtracking failed; attempting gradient descent.\n",
      "Computing negative curvature direction for scaled tau = 2.46039e-05\n",
      "80\t0.000409749\t1.36149e-08\t1.36149e-08\t0.015625\t1\n",
      "Computing negative curvature direction for scaled tau = 2.46039e-05\n",
      "81\t0.000409749\t1.51373e-08\t1.51373e-08\t0.000488281\t1\n",
      "Computing negative curvature direction for scaled tau = 2.46039e-05\n",
      "82\t0.000409749\t1.51496e-08\t1.51496e-08\t2.98023e-08\t1\n",
      "Initial backtracking failed; attempting gradient descent.\n",
      "Maximum number of gradient descent fallback steps reached.\n",
      "82\t0.000409749\t1.51496e-08\t1.51496e-08\t2.98023e-08\t1\n"
     ]
    }
   ],
   "source": [
    "cfm = structural_analysis.weavingCrossingForceMagnitudes(curved_linkage, True)\n",
    "if np.sum(cfm[:, 0]>0) > 0:\n",
    "    print(\"Flipping crossing: \", np.argsort(cfm[:, 0] > 0)[-1 * np.sum(cfm[:, 0] > 0):])\n",
    "    for i in np.argsort(cfm[:, 0] > 0)[-1 * np.sum(cfm[:, 0] > 0):]:\n",
    "        curved_linkage.joint(i).type = get_opposite_joint_type(curved_linkage.joint(i).type)\n",
    "    elastic_rods.compute_equilibrium(curved_linkage, callback = eqm_callback, options = OPTS)\n",
    "    curved_linkage_view.update()"
   ]
  },
  {
   "cell_type": "code",
   "execution_count": 34,
   "metadata": {},
   "outputs": [
    {
     "data": {
      "application/vnd.jupyter.widget-view+json": {
       "model_id": "69d937bbb18240fbb2eb3414c7004b1d",
       "version_major": 2,
       "version_minor": 0
      },
      "text/plain": [
       "HBox(children=(Renderer(camera=PerspectiveCamera(children=(PointLight(color='#999999', position=(0.0, 0.0, 5.0…"
      ]
     },
     "metadata": {},
     "output_type": "display_data"
    },
    {
     "data": {
      "image/png": "[encoded data removed]",
      "text/plain": [
       "<Figure size 1080x288 with 4 Axes>"
      ]
     },
     "metadata": {
      "needs_background": "light"
     },
     "output_type": "display_data"
    }
   ],
   "source": [
    "second_structure_view = get_structure_analysis_view(curved_linkage)\n",
    "second_structure_view.show()"
   ]
  },
  {
   "cell_type": "code",
   "execution_count": 35,
   "metadata": {
    "scrolled": true
   },
   "outputs": [
    {
     "name": "stdout",
     "output_type": "stream",
     "text": [
      "Flipping crossing:  [249  33  18  35 455 500 449 446 496 226  34 207  12 466 485 243  13 463\n",
      "  11 468  14 461 469 202 246 470 458 471 488  15 472 230 491 130  47 154\n",
      " 371 308 367 101 364 102 222 104 313 109 377 143 116 347 344 323 120 123\n",
      " 134 127 132 333 129 350  45 166 391 260 435 434  49 262 429 264 426 266\n",
      " 424 275 291 413 410 407 406 404 402 400 284 397 286 170  77 412 221]\n",
      "0\t0.00558191\t0.721712\t0.721712\t1\t1\n",
      "1\t0.00146509\t0.47076\t0.47076\t1\t1\n",
      "2\t0.00117335\t0.0550746\t0.0550746\t1\t1\n",
      "3\t0.000972756\t0.035461\t0.035461\t1\t1\n",
      "4\t0.000808714\t0.0231397\t0.0231397\t1\t1\n",
      "5\t0.000681839\t0.0150161\t0.0150161\t1\t1\n",
      "6\t0.000589058\t0.00966169\t0.00966169\t1\t1\n",
      "7\t0.000524882\t0.00624994\t0.00624994\t1\t1\n",
      "8\t0.000482599\t0.00401768\t0.00401768\t1\t1\n",
      "9\t0.000455775\t0.00257801\t0.00257801\t1\t1\n",
      "10\t0.000439273\t0.00164945\t0.00164945\t1\t1\n",
      "11\t0.000429398\t0.00105403\t0.00105403\t1\t1\n",
      "12\t0.00042358\t0.000702009\t0.000702009\t1\t1\n",
      "13\t0.000420072\t0.000527957\t0.000527957\t1\t1\n",
      "14\t0.000417891\t0.000599031\t0.000599031\t1\t1\n",
      "15\t0.000416512\t0.000951115\t0.000951115\t1\t1\n",
      "16\t0.000415589\t0.00147169\t0.00147169\t1\t1\n",
      "17\t0.000414912\t0.00178171\t0.00178171\t1\t1\n",
      "18\t0.000414366\t0.00257492\t0.00257492\t0.5\t1\n",
      "19\t0.00041412\t0.00546498\t0.00546498\t0.25\t1\n",
      "20\t0.000414097\t0.00261301\t0.00261301\t1\t1\n",
      "21\t0.00041388\t0.000819979\t0.000819979\t1\t1\n",
      "22\t0.000413658\t0.00154741\t0.00154741\t1\t1\n",
      "23\t0.000413376\t0.00131968\t0.00131968\t1\t1\n",
      "24\t0.000413042\t0.00235659\t0.00235659\t1\t1\n",
      "25\t0.000412672\t0.00216232\t0.00216232\t1\t1\n",
      "26\t0.000412328\t0.00409955\t0.00409955\t1\t1\n",
      "27\t0.000412031\t0.00495007\t0.00495007\t1\t1\n",
      "28\t0.000411952\t0.00154767\t0.00154767\t1\t1\n",
      "29\t0.000411929\t0.000215799\t0.000215799\t1\t1\n",
      "30\t0.000411908\t0.000103765\t0.000103765\t1\t1\n",
      "31\t0.000411877\t0.000176011\t0.000176011\t1\t1\n",
      "32\t0.000411829\t0.00027149\t0.00027149\t1\t1\n",
      "33\t0.000411762\t0.000432269\t0.000432269\t1\t1\n",
      "34\t0.000411677\t0.000791923\t0.000791923\t1\t1\n",
      "35\t0.000411578\t0.00099251\t0.00099251\t1\t1\n",
      "36\t0.000411469\t0.00152348\t0.00152348\t1\t1\n",
      "37\t0.000411362\t0.00121715\t0.00121715\t1\t1\n",
      "38\t0.000411276\t0.0019041\t0.0019041\t1\t1\n",
      "39\t0.000411205\t0.00118286\t0.00118286\t1\t1\n",
      "40\t0.000411155\t0.00145598\t0.00145598\t1\t1\n",
      "41\t0.000411113\t0.00109056\t0.00109056\t1\t1\n",
      "42\t0.000411085\t0.00172071\t0.00172071\t0.0625\t1\n",
      "43\t0.000411079\t0.00167227\t0.00167227\t1\t1\n",
      "44\t0.000411036\t0.000834226\t0.000834226\t0.0625\t1\n",
      "45\t0.000411033\t0.00134967\t0.00134967\t0.5\t1\n",
      "46\t0.000410999\t0.00157941\t0.00157941\t1\t1\n",
      "47\t0.000410948\t0.00167633\t0.00167633\t1\t1\n",
      "48\t0.000410922\t0.00337205\t0.00337205\t0.5\t1\n",
      "49\t0.000410869\t0.00321813\t0.00321813\t1\t1\n",
      "50\t0.000410747\t0.00202656\t0.00202656\t0.5\t1\n",
      "51\t0.000410712\t0.00378958\t0.00378958\t0.03125\t1\n",
      "52\t0.000410703\t0.00274997\t0.00274997\t0.25\t0\n",
      "53\t0.000410656\t0.00228818\t0.00228818\t1\t1\n",
      "54\t0.000410594\t0.000386999\t0.000386999\t1\t1\n",
      "55\t0.000410558\t0.00120178\t0.00120178\t1\t1\n",
      "56\t0.000410518\t0.00044234\t0.00044234\t1\t1\n",
      "57\t0.000410482\t0.00110785\t0.00110785\t1\t1\n",
      "58\t0.000410437\t0.000668558\t0.000668558\t1\t1\n",
      "59\t0.000410417\t0.00181912\t0.00181912\t1\t1\n",
      "60\t0.000410361\t0.000662621\t0.000662621\t0.5\t1\n",
      "61\t0.000410342\t0.00147193\t0.00147193\t1\t1\n",
      "62\t0.000410306\t0.00120017\t0.00120017\t0.25\t1\n",
      "63\t0.000410296\t0.00116628\t0.00116628\t1\t1\n",
      "64\t0.000410267\t0.00143043\t0.00143043\t0.5\t1\n",
      "65\t0.00041025\t0.00175069\t0.00175069\t1\t1\n",
      "66\t0.000410209\t0.00132905\t0.00132905\t1\t1\n",
      "67\t0.00041019\t0.00113351\t0.00113351\t1\t1\n",
      "68\t0.00041017\t0.000903966\t0.000903966\t1\t1\n",
      "69\t0.000410145\t0.000680545\t0.000680545\t0.0078125\t1\n",
      "70\t0.000410141\t0.00112263\t0.00112263\t1\t1\n",
      "71\t0.000410113\t0.0007274\t0.0007274\t0.5\t1\n",
      "72\t0.000410099\t0.00105993\t0.00105993\t1\t1\n",
      "73\t0.000410081\t0.000682161\t0.000682161\t1\t1\n",
      "74\t0.000410073\t0.00103262\t0.00103262\t1\t1\n",
      "75\t0.000410066\t0.000378255\t0.000378255\t1\t1\n",
      "76\t0.000410064\t0.000355059\t0.000355059\t1\t1\n",
      "77\t0.000410064\t0.000171878\t0.000171878\t1\t1\n",
      "Computing negative curvature direction for scaled tau = 0.000394194\n",
      "78\t0.000410063\t5.40398e-05\t5.40398e-05\t0.125\t1\n",
      "79\t0.000410063\t0.000153027\t0.000153027\t0.5\t1\n",
      "80\t0.000410063\t0.000352165\t0.000352165\t1\t1\n",
      "81\t0.000410061\t0.000389957\t0.000389957\t1\t1\n",
      "82\t0.000410059\t0.0010256\t0.0010256\t1\t1\n",
      "83\t0.000410051\t0.000246781\t0.000246781\t0.125\t1\n",
      "84\t0.000410046\t0.000953874\t0.000953874\t1\t1\n",
      "85\t0.000410035\t0.000759588\t0.000759588\t1\t1\n",
      "86\t0.000410029\t0.00218974\t0.00218974\t0.125\t1\n",
      "87\t0.000410023\t0.0013253\t0.0013253\t1\t1\n",
      "88\t0.000409992\t0.000843137\t0.000843137\t0.125\t1\n",
      "89\t0.000409976\t0.00072375\t0.00072375\t1\t1\n",
      "90\t0.000409952\t0.00140378\t0.00140378\t1\t1\n",
      "91\t0.000409931\t0.00068048\t0.00068048\t1\t1\n",
      "92\t0.000409924\t0.000840135\t0.000840135\t1\t1\n",
      "93\t0.000409917\t0.00015121\t0.00015121\t1\t1\n",
      "Computing negative curvature direction for scaled tau = 2.46371e-05\n",
      "94\t0.000409917\t5.34883e-05\t5.34883e-05\t1\t1\n",
      "Computing negative curvature direction for scaled tau = 2.46371e-05\n",
      "Spectra unsuccessful after 21 iterations\n",
      "Negative curvature direction calculation failed\n",
      "95\t0.000409917\t1.09242e-05\t1.09242e-05\t1\t1\n",
      "Computing negative curvature direction for scaled tau = 2.46371e-05\n",
      "96\t0.000409917\t2.1014e-09\t2.1014e-09\t0.03125\t1\n",
      "Computing negative curvature direction for scaled tau = 2.46371e-05\n",
      "97\t0.000409917\t2.0911e-07\t2.0911e-07\t1\t1\n",
      "Computing negative curvature direction for scaled tau = 2.46371e-05\n",
      "Spectra unsuccessful after 21 iterations\n",
      "Negative curvature direction calculation failed\n",
      "98\t0.000409917\t9.42042e-07\t9.42042e-07\t1\t1\n",
      "Computing negative curvature direction for scaled tau = 2.46371e-05\n",
      "99\t0.000409917\t4.33892e-12\t4.33892e-12\t0.015625\t1\n",
      "Computing negative curvature direction for scaled tau = 2.46371e-05\n",
      "100\t0.000409917\t3.99905e-09\t3.99905e-09\t2.98023e-08\t1\n",
      "Initial backtracking failed; attempting gradient descent.\n",
      "Computing negative curvature direction for scaled tau = 2.46371e-05\n",
      "101\t0.000409917\t3.99902e-09\t3.99902e-09\t0.000976562\t1\n",
      "Computing negative curvature direction for scaled tau = 2.46371e-05\n",
      "102\t0.000409917\t4.15276e-09\t4.15276e-09\t0.000976562\t1\n",
      "Computing negative curvature direction for scaled tau = 2.46371e-05\n",
      "103\t0.000409917\t4.34806e-09\t4.34806e-09\t2.98023e-08\t1\n",
      "Initial backtracking failed; attempting gradient descent.\n",
      "Computing negative curvature direction for scaled tau = 2.46371e-05\n",
      "104\t0.000409917\t2.28616e-09\t2.28616e-09\t0.0078125\t1\n",
      "Computing negative curvature direction for scaled tau = 2.46371e-05\n",
      "105\t0.000409917\t2.8492e-09\t2.8492e-09\t0.0078125\t1\n",
      "Computing negative curvature direction for scaled tau = 2.46371e-05\n",
      "106\t0.000409917\t6.72255e-09\t6.72255e-09\t0.0078125\t1\n",
      "Computing negative curvature direction for scaled tau = 2.46371e-05\n",
      "107\t0.000409917\t8.8223e-09\t8.8223e-09\t0.00195312\t1\n",
      "Computing negative curvature direction for scaled tau = 2.46371e-05\n",
      "108\t0.000409917\t8.94946e-09\t8.94946e-09\t0.000976562\t1\n",
      "109\t0.000409917\t8.96537e-09\t8.96537e-09\t1\t0\n",
      "110\t0.000409917\t3.77228e-12\t3.77228e-12\t1\t0\n"
     ]
    }
   ],
   "source": [
    "cfm = structural_analysis.weavingCrossingForceMagnitudes(curved_linkage, True)\n",
    "if np.sum(cfm[:, 0]>0) > 0:\n",
    "    print(\"Flipping crossing: \", np.argsort(cfm[:, 0] > 0)[-1 * np.sum(cfm[:, 0] > 0):])\n",
    "    for i in np.argsort(cfm[:, 0] > 0)[-1 * np.sum(cfm[:, 0] > 0):]:\n",
    "        curved_linkage.joint(i).type = get_opposite_joint_type(curved_linkage.joint(i).type)\n",
    "    elastic_rods.compute_equilibrium(curved_linkage, callback = eqm_callback, options = OPTS)\n",
    "    curved_linkage_view.update()"
   ]
  },
  {
   "cell_type": "code",
   "execution_count": 36,
   "metadata": {},
   "outputs": [
    {
     "data": {
      "application/vnd.jupyter.widget-view+json": {
       "model_id": "98a632e1a81d4eafbf7670fb55782a2e",
       "version_major": 2,
       "version_minor": 0
      },
      "text/plain": [
       "HBox(children=(Renderer(camera=PerspectiveCamera(children=(PointLight(color='#999999', position=(0.0, 0.0, 5.0…"
      ]
     },
     "metadata": {},
     "output_type": "display_data"
    },
    {
     "data": {
      "image/png": "[encoded data removed]",
      "text/plain": [
       "<Figure size 1080x288 with 4 Axes>"
      ]
     },
     "metadata": {
      "needs_background": "light"
     },
     "output_type": "display_data"
    }
   ],
   "source": [
    "third_structure_view = get_structure_analysis_view(curved_linkage)\n",
    "third_structure_view.show()"
   ]
  },
  {
   "cell_type": "code",
   "execution_count": 39,
   "metadata": {
    "scrolled": true
   },
   "outputs": [
    {
     "name": "stdout",
     "output_type": "stream",
     "text": [
      "Flipping crossing:  [134 344 132  15 341 249 462 498 130 496  31 120 330  11 486 211 243 485\n",
      " 116  12 476 136  13 482  14 350 347 316 394 367  67  69  70 413 412 411\n",
      " 410  71  66 389 406 390 404 403 287 391 171 169 407 162 423 426 315 452\n",
      " 263 264 371  45 446  46  47  50 308 271 377 436 435 434 432 275 429 103\n",
      " 226]\n",
      "0\t0.00485711\t0.646251\t0.646251\t1\t1\n",
      "1\t0.00131347\t0.409174\t0.409174\t1\t1\n",
      "2\t0.00106146\t0.0517118\t0.0517118\t1\t1\n",
      "3\t0.000888287\t0.0327851\t0.0327851\t1\t1\n",
      "4\t0.000747652\t0.0212324\t0.0212324\t1\t1\n",
      "5\t0.000639127\t0.0136771\t0.0136771\t1\t1\n",
      "6\t0.000560066\t0.00870996\t0.00870996\t1\t1\n",
      "7\t0.000505898\t0.00553141\t0.00553141\t1\t1\n",
      "8\t0.000470575\t0.00349082\t0.00349082\t1\t1\n",
      "9\t0.00044853\t0.00219198\t0.00219198\t1\t1\n",
      "10\t0.000435409\t0.00136445\t0.00136445\t1\t1\n",
      "11\t0.000427777\t0.000862842\t0.000862842\t1\t1\n",
      "12\t0.000423251\t0.000598448\t0.000598448\t1\t1\n",
      "13\t0.000420452\t0.000475117\t0.000475117\t1\t1\n",
      "14\t0.000418688\t0.000546318\t0.000546318\t1\t1\n",
      "15\t0.000417568\t0.000717066\t0.000717066\t1\t1\n",
      "16\t0.000416822\t0.000997701\t0.000997701\t1\t1\n",
      "17\t0.000416289\t0.00138648\t0.00138648\t1\t1\n",
      "18\t0.000415863\t0.0018546\t0.0018546\t1\t1\n",
      "19\t0.000415473\t0.00220317\t0.00220317\t1\t1\n",
      "20\t0.000415082\t0.00304988\t0.00304988\t1\t1\n",
      "21\t0.000414693\t0.00515561\t0.00515561\t0.25\t1\n",
      "22\t0.000414549\t0.00500268\t0.00500268\t0.5\t1\n",
      "23\t0.000414256\t0.00440556\t0.00440556\t0.0625\t1\n",
      "24\t0.000414222\t0.00325456\t0.00325456\t1\t1\n",
      "25\t0.000413903\t0.00227408\t0.00227408\t1\t1\n",
      "26\t0.000413612\t0.0029755\t0.0029755\t1\t1\n",
      "27\t0.000413299\t0.0023998\t0.0023998\t0.25\t0\n",
      "28\t0.000413163\t0.00424668\t0.00424668\t0.125\t1\n",
      "29\t0.000413136\t0.00223441\t0.00223441\t1\t1\n",
      "30\t0.00041293\t0.00235129\t0.00235129\t0.5\t1\n",
      "31\t0.000412821\t0.00506365\t0.00506365\t0.25\t1\n",
      "32\t0.000412784\t0.00313677\t0.00313677\t1\t1\n",
      "33\t0.000412618\t0.0039231\t0.0039231\t1\t1\n",
      "34\t0.000412545\t0.000901378\t0.000901378\t1\t1\n",
      "35\t0.000412458\t0.000879872\t0.000879872\t1\t1\n",
      "36\t0.000412343\t0.00130482\t0.00130482\t1\t1\n",
      "37\t0.000412199\t0.00153008\t0.00153008\t1\t1\n",
      "38\t0.000412048\t0.00208408\t0.00208408\t1\t1\n",
      "39\t0.000411902\t0.00228685\t0.00228685\t1\t1\n",
      "40\t0.000411772\t0.003136\t0.003136\t0.5\t1\n",
      "41\t0.000411674\t0.0024268\t0.0024268\t1\t1\n",
      "42\t0.000411533\t0.00333925\t0.00333925\t1\t1\n",
      "43\t0.000411448\t0.00235365\t0.00235365\t0.5\t1\n",
      "44\t0.000411363\t0.00381093\t0.00381093\t1\t1\n",
      "45\t0.000411221\t0.00119677\t0.00119677\t0.5\t1\n",
      "46\t0.000411192\t0.00127023\t0.00127023\t1\t1\n",
      "47\t0.000411144\t0.000931756\t0.000931756\t1\t1\n",
      "48\t0.000411112\t0.00116912\t0.00116912\t1\t1\n",
      "49\t0.000411081\t0.000965714\t0.000965714\t0.25\t1\n",
      "50\t0.000411072\t0.000954533\t0.000954533\t1\t1\n",
      "51\t0.000411048\t0.00059522\t0.00059522\t0.125\t1\n",
      "52\t0.000411041\t0.000969198\t0.000969198\t1\t1\n",
      "53\t0.000411016\t0.00105919\t0.00105919\t1\t1\n",
      "54\t0.000410997\t0.00204717\t0.00204717\t1\t1\n",
      "55\t0.00041096\t0.00104174\t0.00104174\t0.25\t1\n",
      "56\t0.000410947\t0.00107235\t0.00107235\t1\t1\n",
      "57\t0.000410929\t0.000385631\t0.000385631\t0.25\t1\n",
      "58\t0.000410926\t0.000768656\t0.000768656\t1\t1\n",
      "59\t0.000410917\t0.000605506\t0.000605506\t0.0625\t1\n",
      "60\t0.000410915\t0.000821525\t0.000821525\t1\t1\n",
      "61\t0.000410906\t0.000644156\t0.000644156\t1\t1\n",
      "62\t0.000410905\t0.00182164\t0.00182164\t1\t1\n",
      "63\t0.000410887\t0.000247855\t0.000247855\t0.03125\t1\n",
      "64\t0.00041088\t0.000855037\t0.000855037\t1\t1\n",
      "65\t0.000410868\t0.000896886\t0.000896886\t1\t0\n",
      "66\t0.000410862\t0.00160842\t0.00160842\t1\t1\n",
      "67\t0.000410841\t0.000727203\t0.000727203\t1\t1\n",
      "68\t0.000410833\t0.00180193\t0.00180193\t1\t1\n",
      "69\t0.000410817\t0.000337617\t0.000337617\t0.5\t1\n",
      "70\t0.000410813\t0.000787448\t0.000787448\t1\t1\n",
      "71\t0.000410809\t0.000110055\t0.000110055\t1\t0\n",
      "72\t0.000410809\t0.000421545\t0.000421545\t1\t1\n",
      "Computing negative curvature direction for scaled tau = 2.46382e-05\n",
      "Spectra unsuccessful after 21 iterations\n",
      "Negative curvature direction calculation failed\n",
      "73\t0.000410808\t2.49145e-06\t2.49145e-06\t1\t1\n",
      "Computing negative curvature direction for scaled tau = 2.46382e-05\n",
      "Spectra unsuccessful after 21 iterations\n",
      "Negative curvature direction calculation failed\n",
      "74\t0.000410808\t5.08974e-07\t5.08974e-07\t1\t1\n",
      "Computing negative curvature direction for scaled tau = 2.46382e-05\n",
      "75\t0.000410808\t4.87957e-10\t4.87957e-10\t0.03125\t1\n",
      "Computing negative curvature direction for scaled tau = 2.46382e-05\n",
      "76\t0.000410808\t2.02482e-08\t2.02482e-08\t0.00195312\t1\n",
      "Computing negative curvature direction for scaled tau = 2.46382e-05\n",
      "Spectra unsuccessful after 21 iterations\n",
      "Negative curvature direction calculation failed\n",
      "77\t0.000410808\t3.9758e-08\t3.9758e-08\t1\t1\n",
      "Computing negative curvature direction for scaled tau = 2.46382e-05\n",
      "78\t0.000410808\t1.24285e-11\t1.24285e-11\t0.0625\t1\n",
      "Computing negative curvature direction for scaled tau = 2.46382e-05\n",
      "79\t0.000410808\t6.90885e-09\t6.90885e-09\t0.000488281\t1\n",
      "Computing negative curvature direction for scaled tau = 2.46382e-05\n",
      "80\t0.000410808\t6.91118e-09\t6.91118e-09\t0.00390625\t1\n",
      "Computing negative curvature direction for scaled tau = 2.46382e-05\n",
      "81\t0.000410808\t2.25364e-08\t2.25364e-08\t3.05176e-05\t1\n",
      "Computing negative curvature direction for scaled tau = 2.46382e-05\n",
      "82\t0.000410808\t2.2535e-08\t2.2535e-08\t2.98023e-08\t1\n",
      "Initial backtracking failed; attempting gradient descent.\n",
      "Computing negative curvature direction for scaled tau = 2.46382e-05\n",
      "83\t0.000410808\t1.83065e-08\t1.83065e-08\t2.98023e-08\t1\n",
      "Initial backtracking failed; attempting gradient descent.\n",
      "Computing negative curvature direction for scaled tau = 2.46382e-05\n",
      "84\t0.000410808\t1.83065e-08\t1.83065e-08\t2.98023e-08\t1\n",
      "Initial backtracking failed; attempting gradient descent.\n",
      "Computing negative curvature direction for scaled tau = 2.46382e-05\n",
      "85\t0.000410808\t7.52827e-09\t7.52827e-09\t6.10352e-05\t1\n",
      "Computing negative curvature direction for scaled tau = 2.46382e-05\n",
      "86\t0.000410808\t7.52802e-09\t7.52802e-09\t1.52588e-05\t1\n",
      "Computing negative curvature direction for scaled tau = 2.46382e-05\n",
      "87\t0.000410808\t7.52763e-09\t7.52763e-09\t0.00012207\t1\n",
      "Computing negative curvature direction for scaled tau = 2.46382e-05\n",
      "88\t0.000410808\t7.5444e-09\t7.5444e-09\t0.00390625\t1\n",
      "Computing negative curvature direction for scaled tau = 2.46382e-05\n",
      "89\t0.000410808\t1.12278e-08\t1.12278e-08\t0.000976562\t1\n",
      "Computing negative curvature direction for scaled tau = 2.46382e-05\n",
      "90\t0.000410808\t1.12264e-08\t1.12264e-08\t0.03125\t1\n",
      "Computing negative curvature direction for scaled tau = 2.46382e-05\n",
      "91\t0.000410808\t1.93013e-08\t1.93013e-08\t0.00390625\t1\n",
      "Computing negative curvature direction for scaled tau = 2.46382e-05\n",
      "92\t0.000410808\t1.93547e-08\t1.93547e-08\t0.000244141\t1\n",
      "Computing negative curvature direction for scaled tau = 2.46382e-05\n",
      "93\t0.000410808\t1.93541e-08\t1.93541e-08\t0.000976562\t1\n",
      "Computing negative curvature direction for scaled tau = 2.46382e-05\n",
      "94\t0.000410808\t1.93613e-08\t1.93613e-08\t0.000244141\t1\n",
      "Computing negative curvature direction for scaled tau = 2.46382e-05\n",
      "95\t0.000410808\t1.93578e-08\t1.93578e-08\t9.53674e-07\t1\n",
      "Computing negative curvature direction for scaled tau = 2.46382e-05\n",
      "96\t0.000410808\t1.93578e-08\t1.93578e-08\t2.98023e-08\t1\n",
      "Initial backtracking failed; attempting gradient descent.\n",
      "Maximum number of gradient descent fallback steps reached.\n",
      "96\t0.000410808\t1.93578e-08\t1.93578e-08\t2.98023e-08\t1\n"
     ]
    }
   ],
   "source": [
    "cfm = structural_analysis.weavingCrossingForceMagnitudes(curved_linkage, True)\n",
    "if np.sum(cfm[:, 0]>0) > 0:\n",
    "    print(\"Flipping crossing: \", np.argsort(cfm[:, 0] > 0)[-1 * np.sum(cfm[:, 0] > 0):])\n",
    "    for i in np.argsort(cfm[:, 0] > 0)[-1 * np.sum(cfm[:, 0] > 0):]:\n",
    "        curved_linkage.joint(i).type = get_opposite_joint_type(curved_linkage.joint(i).type)\n",
    "    elastic_rods.compute_equilibrium(curved_linkage, callback = eqm_callback, options = OPTS)\n",
    "    curved_linkage_view.update()"
   ]
  },
  {
   "cell_type": "code",
   "execution_count": 40,
   "metadata": {},
   "outputs": [
    {
     "data": {
      "application/vnd.jupyter.widget-view+json": {
       "model_id": "05d71373b72a435286159b0cbfa49574",
       "version_major": 2,
       "version_minor": 0
      },
      "text/plain": [
       "HBox(children=(Renderer(camera=PerspectiveCamera(children=(PointLight(color='#999999', position=(0.0, 0.0, 5.0…"
      ]
     },
     "metadata": {},
     "output_type": "display_data"
    },
    {
     "data": {
      "image/png": "[encoded data removed]",
      "text/plain": [
       "<Figure size 1080x288 with 4 Axes>"
      ]
     },
     "metadata": {
      "needs_background": "light"
     },
     "output_type": "display_data"
    }
   ],
   "source": [
    "fourth_structure_view = get_structure_analysis_view(curved_linkage)\n",
    "fourth_structure_view.show()"
   ]
  },
  {
   "cell_type": "code",
   "execution_count": 33,
   "metadata": {},
   "outputs": [
    {
     "name": "stdout",
     "output_type": "stream",
     "text": [
      "Min Width  0.05\n",
      "Scale:  100.0\n",
      "num seg per rod 12\n",
      "num seg per rod 12\n",
      "num seg per rod 6\n",
      "num seg per rod 6\n",
      "num seg per rod 12\n",
      "num seg per rod 12\n",
      "num seg per rod 6\n",
      "num seg per rod 6\n",
      "num seg per rod 6\n",
      "num seg per rod 6\n",
      "0.2\n"
     ]
    },
    {
     "data": {
      "image/png": "[encoded data removed]",
      "text/plain": [
       "<Figure size 432x288 with 1 Axes>"
      ]
     },
     "metadata": {
      "needs_background": "light"
     },
     "output_type": "display_data"
    }
   ],
   "source": [
    "save_path = os.getcwd()\n",
    "write_all_output(curved_linkage, io.SUBDIVISION_RESOLUTION, io.MODEL_NAME + '_contact_opt', io.RIBBON_NAME + '_contact_opt', False, 100, min(io.RIBBON_CS), target_width = 5, flip_angles = False)\n",
    "os.chdir(save_path)"
   ]
  },
  {
   "cell_type": "code",
   "execution_count": null,
   "metadata": {},
   "outputs": [],
   "source": []
  }
 ],
 "metadata": {
  "kernelspec": {
   "display_name": "Python 3",
   "language": "python",
   "name": "python3"
  },
  "language_info": {
   "codemirror_mode": {
    "name": "ipython",
    "version": 3
   },
   "file_extension": ".py",
   "mimetype": "text/x-python",
   "name": "python",
   "nbconvert_exporter": "python",
   "pygments_lexer": "ipython3",
   "version": "3.7.9"
  }
 },
 "nbformat": 4,
 "nbformat_minor": 4
}
