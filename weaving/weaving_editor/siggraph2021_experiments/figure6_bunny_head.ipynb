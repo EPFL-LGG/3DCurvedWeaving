{
 "cells": [
  {
   "cell_type": "code",
   "execution_count": 1,
   "metadata": {},
   "outputs": [],
   "source": [
    "elastic_rods_dir = '../../../elastic_rods/python/'\n",
    "weaving_dir = '../../'\n",
    "import os\n",
    "import os.path as osp\n",
    "import sys; sys.path.append(elastic_rods_dir); sys.path.append(weaving_dir)\n",
    "import numpy as np, elastic_rods, linkage_vis\n",
    "import numpy.linalg as la\n",
    "from bending_validation import suppress_stdout as so\n",
    "import matplotlib.pyplot as plt\n",
    "from elastic_rods import EnergyType, InterleavingType\n",
    "\n",
    "# weaving\n",
    "import analysis_helper, ribbon_linkage_helper, mesh_vis, linkage_utils, compute_curve_from_curvature, pipeline_helper, optimization_visualization_helper, importlib\n",
    "importlib.reload(analysis_helper)\n",
    "importlib.reload(ribbon_linkage_helper)\n",
    "importlib.reload(mesh_vis)\n",
    "importlib.reload(linkage_utils)\n",
    "importlib.reload(compute_curve_from_curvature)\n",
    "importlib.reload(pipeline_helper)\n",
    "importlib.reload(optimization_visualization_helper)\n",
    "from analysis_helper import (compare_turning_angle,\n",
    "                            is_on_sphere, \n",
    "                            get_distance_to_center_scalar_field, \n",
    "                            plot_curvatures, \n",
    "                            get_curvature_scalar_field,\n",
    "                            construct_elastic_rod_loop_from_rod_segments, \n",
    "                            concatenate_rod_properties_from_rod_segments, \n",
    "                            compute_min_distance_rigid_transformation)\n",
    "from ribbon_linkage_helper import (update_rest_curvature, \n",
    "                                   set_ribbon_linkage,\n",
    "                                   export_linkage_geometry_to_obj,\n",
    "                                   write_linkage_ribbon_output_florin)\n",
    "\n",
    "from compute_curve_from_curvature import (match_geo_curvature_and_edge_len, get_all_curve_pattern)\n",
    "from linkage_utils import order_segments_by_ribbons, get_turning_angle_and_length_from_ordered_rods\n",
    "\n",
    "from pipeline_helper import (initialize_linkage, get_normal_deviation, set_joint_vector_field, stage_1_optimization, initialize_stage_2_optimizer, stage_2_optimization, InputOrganizer, write_all_output, set_surface_view_options, get_structure_analysis_view, contact_optimization, get_double_side_view, show_selected_joints, get_max_distance_to_target_surface, get_average_distance_to_target_surface, get_normal_deviation)\n",
    "from optimization_visualization_helper import (compute_visualization_data_from_raw_data, get_objective_components_stage1, get_objective_components_stage2, set_figure_label_and_limit, Visualization_Setting, plot_objective)\n",
    "\n",
    "import vis.fields\n",
    "import matplotlib.cm as cm\n",
    "import time"
   ]
  },
  {
   "cell_type": "code",
   "execution_count": 2,
   "metadata": {},
   "outputs": [],
   "source": [
    "import parallelism\n",
    "parallelism.set_max_num_tbb_threads(12)\n",
    "parallelism.set_hessian_assembly_num_threads(4)\n",
    "parallelism.set_gradient_assembly_num_threads(4)"
   ]
  },
  {
   "cell_type": "code",
   "execution_count": 3,
   "metadata": {},
   "outputs": [
    {
     "name": "stdout",
     "output_type": "stream",
     "text": [
      "0.024955154440075428 0.0017468608108052797\n"
     ]
    }
   ],
   "source": [
    "rod_length = 0.09982061776030171\n",
    "width = rod_length / 20 * 5\n",
    "thickness = width / 5 * 0.35\n",
    "print(width, thickness)\n",
    "io = InputOrganizer('bunny_head_small_triaxial_1', thickness, width, weaving_dir)"
   ]
  },
  {
   "cell_type": "code",
   "execution_count": 4,
   "metadata": {},
   "outputs": [],
   "source": [
    "import py_newton_optimizer\n",
    "OPTS = py_newton_optimizer.NewtonOptimizerOptions()\n",
    "OPTS.gradTol = 1e-8\n",
    "OPTS.verbose = 1;\n",
    "OPTS.beta = 1e-8\n",
    "OPTS.niter = 200\n",
    "OPTS.verboseNonPosDef = False\n",
    "rw = 1\n",
    "sw = 10\n",
    "drw = 0.1\n",
    "dsw = 0.1"
   ]
  },
  {
   "cell_type": "markdown",
   "metadata": {},
   "source": [
    "### Initialization"
   ]
  },
  {
   "cell_type": "code",
   "execution_count": 5,
   "metadata": {},
   "outputs": [
    {
     "data": {
      "application/vnd.jupyter.widget-view+json": {
       "model_id": "",
       "version_major": 2,
       "version_minor": 0
      },
      "text/plain": [
       "Renderer(camera=PerspectiveCamera(children=(PointLight(color='#999999', position=(0.0, 0.0, 5.0), quaternion=(…"
      ]
     },
     "metadata": {},
     "output_type": "display_data"
    }
   ],
   "source": [
    "with so(): curved_linkage = initialize_linkage(surface_path = io.SURFACE_PATH, useCenterline = True, model_path = io.MODEL_PATH, cross_section = io.RIBBON_CS, subdivision_res = io.SUBDIVISION_RESOLUTION, use_constant_width=True, interleaving_type=InterleavingType.weaving)\n",
    "curved_linkage.set_design_parameter_config(use_restLen = True, use_restKappa = True)\n",
    "curved_save_tgt_joint_pos = curved_linkage.jointPositions();\n",
    "curved_linkage_view = linkage_vis.LinkageViewer(curved_linkage)\n",
    "# set_surface_view_options(curved_linkage_view)\n",
    "curved_linkage_view.show()"
   ]
  },
  {
   "cell_type": "markdown",
   "metadata": {},
   "source": [
    "#### Compute the joint normals from the target surface"
   ]
  },
  {
   "cell_type": "code",
   "execution_count": 6,
   "metadata": {},
   "outputs": [],
   "source": [
    "input_joint_normals = np.reshape(curved_linkage.get_closest_point_normal(curved_linkage.jointPositions()), (curved_linkage.numJoints(), 3))"
   ]
  },
  {
   "cell_type": "markdown",
   "metadata": {},
   "source": [
    "#### For the normals around the ears, it is better to use the best fit plane normal. So only swap out the troubling vertex 35"
   ]
  },
  {
   "cell_type": "code",
   "execution_count": 7,
   "metadata": {},
   "outputs": [],
   "source": [
    "current_joint_normals = [curved_linkage.joint(i).normal for i in range(curved_linkage.numJoints())]\n",
    "current_joint_normals[35] = input_joint_normals[35]"
   ]
  },
  {
   "cell_type": "code",
   "execution_count": 8,
   "metadata": {},
   "outputs": [
    {
     "data": {
      "application/vnd.jupyter.widget-view+json": {
       "model_id": "0a0776e1f594414dbed3ab389bec2b39",
       "version_major": 2,
       "version_minor": 0
      },
      "text/plain": [
       "Renderer(camera=PerspectiveCamera(children=(PointLight(color='#999999', position=(0.0, 0.0, 5.0), quaternion=(…"
      ]
     },
     "metadata": {},
     "output_type": "display_data"
    }
   ],
   "source": [
    "with so(): curved_linkage = initialize_linkage(surface_path = io.SURFACE_PATH, useCenterline = True, model_path = io.MODEL_PATH, cross_section = io.RIBBON_CS, subdivision_res = io.SUBDIVISION_RESOLUTION, use_constant_width=True, interleaving_type=InterleavingType.triaxialWeave, input_joint_normals = current_joint_normals)\n",
    "curved_linkage.set_design_parameter_config(use_restLen = True, use_restKappa = True)\n",
    "curved_save_tgt_joint_pos = curved_linkage.jointPositions();\n",
    "curved_linkage_view = linkage_vis.LinkageViewer(curved_linkage)\n",
    "# set_surface_view_options(curved_linkage_view)\n",
    "curved_linkage_view.show()"
   ]
  },
  {
   "cell_type": "code",
   "execution_count": 21,
   "metadata": {},
   "outputs": [],
   "source": [
    "curved_linkage.setExtendedDoFsPSRL(np.load('../../mega_monster_optimization_diagram_results/bunny_head_small_triaxial_1/bunny_head_small_triaxial_1_stage_2.npy', allow_pickle = True)[-1]['extendedDoFsPSRL'])\n",
    "# curved_linkage.setExtendedDoFsPSRL(np.load('results/bunny_head_small_triaxial_1/bunny_head_small_triaxial_1_dof.npy'))"
   ]
  },
  {
   "cell_type": "code",
   "execution_count": 11,
   "metadata": {},
   "outputs": [],
   "source": [
    "topColor =[79/255., 158/255., 246/255.]\n",
    "bottomColor =[0.5, 0.5, 0.5]\n",
    "heights = curved_linkage.visualizationGeometryHeightColors()\n",
    "colors = np.take(np.array([bottomColor, topColor]), heights < heights.mean(), axis=0)"
   ]
  },
  {
   "cell_type": "code",
   "execution_count": 12,
   "metadata": {},
   "outputs": [],
   "source": [
    "curved_linkage_view.update(scalarField=colors)"
   ]
  },
  {
   "cell_type": "code",
   "execution_count": 13,
   "metadata": {},
   "outputs": [],
   "source": [
    "curved_linkage_view.setCameraParams(((4.139347366530763, -3.927678946178955, 0.7924706632167623),\n",
    " (-0.038125872037145875, 0.15887387844372028, 0.9865624707182293),\n",
    " (0.0, 0.0, 0.0)))"
   ]
  },
  {
   "cell_type": "code",
   "execution_count": 12,
   "metadata": {},
   "outputs": [],
   "source": [
    "curved_linkage.attraction_weight = 1e-5"
   ]
  },
  {
   "cell_type": "code",
   "execution_count": 13,
   "metadata": {
    "scrolled": true
   },
   "outputs": [],
   "source": [
    "# iterateData = stage_1_optimization(curved_linkage, 0.1, 0.1, curved_linkage_view)"
   ]
  },
  {
   "cell_type": "code",
   "execution_count": 14,
   "metadata": {},
   "outputs": [],
   "source": [
    "# curved_linkage.setMaterial(elastic_rods.RodMaterial('rectangle', 2000, 0.3, [thickness, width], stiffAxis=elastic_rods.StiffAxis.D1))"
   ]
  },
  {
   "cell_type": "code",
   "execution_count": 22,
   "metadata": {},
   "outputs": [],
   "source": [
    "def eqm_callback(prob, i):\n",
    "#     curved_linkage_view.update(scalarField=colors)\n",
    "    pass"
   ]
  },
  {
   "cell_type": "code",
   "execution_count": 23,
   "metadata": {
    "scrolled": true
   },
   "outputs": [
    {
     "name": "stdout",
     "output_type": "stream",
     "text": [
      "0\t0.000277502\t0.247031\t0.247031\t1\t1\n",
      "1\t5.68044e-05\t0.00751831\t0.00751831\t1\t1\n",
      "2\t5.04193e-05\t0.00227003\t0.00227003\t1\t1\n",
      "3\t4.49279e-05\t0.0012488\t0.0012488\t1\t1\n",
      "4\t3.97123e-05\t0.000807285\t0.000807285\t1\t1\n",
      "5\t3.5427e-05\t0.00067123\t0.00067123\t1\t1\n",
      "6\t3.26241e-05\t0.00047348\t0.00047348\t1\t1\n",
      "7\t3.11374e-05\t0.000550395\t0.000550395\t1\t1\n",
      "8\t3.04698e-05\t0.000352621\t0.000352621\t1\t1\n",
      "9\t3.02025e-05\t0.000184659\t0.000184659\t1\t1\n",
      "10\t3.01072e-05\t0.000104827\t0.000104827\t1\t1\n",
      "11\t3.00764e-05\t6.39522e-05\t6.39522e-05\t1\t1\n",
      "12\t3.00658e-05\t3.50574e-05\t3.50574e-05\t1\t1\n",
      "13\t3.0062e-05\t1.76842e-05\t1.76842e-05\t1\t1\n",
      "14\t3.00609e-05\t7.01793e-06\t7.01793e-06\t1\t0\n",
      "15\t3.00607e-05\t2.93029e-05\t2.93029e-05\t1\t0\n",
      "16\t3.00606e-05\t1.32817e-09\t1.32817e-09\t1\t0\n"
     ]
    },
    {
     "data": {
      "text/plain": [
       "<py_newton_optimizer.ConvergenceReport at 0x12f689c70>"
      ]
     },
     "execution_count": 23,
     "metadata": {},
     "output_type": "execute_result"
    }
   ],
   "source": [
    "elastic_rods.compute_equilibrium(curved_linkage, callback = eqm_callback, options = OPTS)"
   ]
  },
  {
   "cell_type": "code",
   "execution_count": 24,
   "metadata": {},
   "outputs": [],
   "source": [
    "curved_linkage_view.update()"
   ]
  },
  {
   "cell_type": "code",
   "execution_count": null,
   "metadata": {},
   "outputs": [],
   "source": [
    "import vis\n",
    "from matplotlib import cm\n",
    "\n",
    "stress = curved_linkage.maxBendingStresses()\n",
    "new_stress = np.ones_like(stress) * np.max(stress)\n",
    "new_stress[0] = stress[0]\n",
    "new_stress[34] = stress[34]\n",
    "\n",
    "\n",
    "#stress = curved_linkage.twistingStresses()\n",
    "rangeMin = np.stack(stress).min()\n",
    "rangeMax = np.stack(stress).max()\n",
    "sf = vis.fields.ScalarField(curved_linkage, new_stress, colormap=cm.magma, vmin=rangeMin, vmax=rangeMax)\n",
    "\n",
    "curved_linkage_view.showScalarField(sf)"
   ]
  },
  {
   "cell_type": "code",
   "execution_count": null,
   "metadata": {},
   "outputs": [],
   "source": [
    "optimizer = initialize_stage_2_optimizer(curved_linkage, io.SURFACE_PATH, curved_save_tgt_joint_pos, curved_linkage_view, rw, sw)"
   ]
  },
  {
   "cell_type": "code",
   "execution_count": null,
   "metadata": {},
   "outputs": [],
   "source": [
    "# optimizer, opt_iterateData = stage_2_optimization(optimizer, curved_linkage, io.SURFACE_PATH, curved_save_tgt_joint_pos, curved_linkage_view, -1, -3, 3)"
   ]
  },
  {
   "cell_type": "markdown",
   "metadata": {},
   "source": [
    "### Validation"
   ]
  },
  {
   "cell_type": "code",
   "execution_count": null,
   "metadata": {},
   "outputs": [],
   "source": [
    "# curved_optimizer_energy = curved_linkage.energy()\n",
    "# validation_curved_linkage = optimizer.getLinesearchWeaverLinkage()\n",
    "# validation_curved_linkage.attraction_weight = 1e-7\n",
    "# with so(): elastic_rods.compute_equilibrium(validation_curved_linkage, options = OPTS, fixedVars = [])\n",
    "# validation_curved_view = linkage_vis.LinkageViewer(validation_curved_linkage, width=1024, height=640)\n",
    "# validation_curved_energy = validation_curved_linkage.energy()\n",
    "# print(abs((validation_curved_energy-curved_optimizer_energy)/curved_optimizer_energy))"
   ]
  },
  {
   "cell_type": "code",
   "execution_count": null,
   "metadata": {},
   "outputs": [],
   "source": [
    "# validation_curved_view = linkage_vis.LinkageViewerWithSurface(validation_curved_linkage, io.SURFACE_PATH, width=1024, height=640)\n",
    "# set_surface_view_options(validation_curved_view)\n",
    "# validation_curved_view.show()"
   ]
  },
  {
   "cell_type": "code",
   "execution_count": null,
   "metadata": {},
   "outputs": [],
   "source": [
    "# double_view = linkage_vis.LinkageViewerWithSurface(curved_linkage, io.SURFACE_PATH, width=1024, height=640)\n",
    "# set_surface_view_options(double_view)\n",
    "# double_view.show()"
   ]
  },
  {
   "cell_type": "code",
   "execution_count": null,
   "metadata": {},
   "outputs": [],
   "source": [
    "# double_view.viewOptions[double_view.ViewType.SURFACE].color"
   ]
  },
  {
   "cell_type": "code",
   "execution_count": null,
   "metadata": {},
   "outputs": [],
   "source": [
    "# set_joint_vector_field(curved_linkage, curved_linkage_view, joint_normals)"
   ]
  },
  {
   "cell_type": "code",
   "execution_count": null,
   "metadata": {},
   "outputs": [],
   "source": [
    "# deviation, deviation_vector, joint_normals, joint_projection_normals = get_normal_deviation(curved_linkage)"
   ]
  },
  {
   "cell_type": "code",
   "execution_count": null,
   "metadata": {},
   "outputs": [],
   "source": [
    "# set_joint_vector_field(curved_linkage, curved_linkage_view, joint_normals)"
   ]
  },
  {
   "cell_type": "code",
   "execution_count": null,
   "metadata": {},
   "outputs": [],
   "source": [
    "# get_average_distance_to_target_surface(curved_linkage)/io.RIBBON_CS[1]"
   ]
  },
  {
   "cell_type": "code",
   "execution_count": null,
   "metadata": {},
   "outputs": [],
   "source": [
    "# distance_to_surface = np.array(curved_linkage.get_squared_distance_to_target_surface((curved_linkage.visualizationGeometry()[0]).flatten()))\n"
   ]
  },
  {
   "cell_type": "code",
   "execution_count": null,
   "metadata": {},
   "outputs": [],
   "source": [
    "# distance_to_surface = np.sqrt(distance_to_surface)"
   ]
  },
  {
   "cell_type": "code",
   "execution_count": null,
   "metadata": {},
   "outputs": [],
   "source": [
    "# plt.plot(np.sort(distance_to_surface))"
   ]
  },
  {
   "cell_type": "code",
   "execution_count": null,
   "metadata": {},
   "outputs": [],
   "source": [
    "# set_joint_vector_field(curved_linkage, curved_linkage_view, joint_normals)"
   ]
  },
  {
   "cell_type": "code",
   "execution_count": null,
   "metadata": {},
   "outputs": [],
   "source": [
    "# save_path = os.getcwd()\n",
    "# write_all_output(curved_linkage, io.SUBDIVISION_RESOLUTION, io.MODEL_NAME, io.RIBBON_NAME, False, 100, min(io.RIBBON_CS), target_width = 5, flip_angles = False, width = max(io.RIBBON_CS))\n",
    "# os.chdir(save_path)"
   ]
  },
  {
   "cell_type": "markdown",
   "metadata": {},
   "source": [
    "## Contact Optimization"
   ]
  },
  {
   "cell_type": "code",
   "execution_count": null,
   "metadata": {},
   "outputs": [],
   "source": [
    "with so(): curved_linkage = initialize_linkage(surface_path = io.SURFACE_PATH, useCenterline = True, model_path = io.MODEL_PATH, cross_section = io.RIBBON_CS, subdivision_res = io.SUBDIVISION_RESOLUTION, use_constant_width=True, interleaving_type=InterleavingType.triaxialWeave, input_joint_normals = current_joint_normals)\n",
    "curved_linkage.set_design_parameter_config(use_restLen = True, use_restKappa = True)\n",
    "curved_save_tgt_joint_pos = curved_linkage.jointPositions()\n",
    "input_joint_normals = np.reshape(curved_linkage.get_closest_point_normal(curved_linkage.jointPositions()), (curved_linkage.numJoints(), 3))\n",
    "current_joint_normals = [curved_linkage.joint(i).normal for i in range(curved_linkage.numJoints())]\n",
    "current_joint_normals[35] = input_joint_normals[35]\n",
    "with so(): curved_linkage = initialize_linkage(surface_path = io.SURFACE_PATH, useCenterline = True, model_path = io.MODEL_PATH, cross_section = io.RIBBON_CS, subdivision_res = io.SUBDIVISION_RESOLUTION, use_constant_width=True, interleaving_type=InterleavingType.triaxialWeave, input_joint_normals = current_joint_normals)\n",
    "curved_linkage.set_design_parameter_config(use_restLen = True, use_restKappa = True)\n",
    "curved_save_tgt_joint_pos = curved_linkage.jointPositions();\n",
    "curved_linkage_view = linkage_vis.LinkageViewer(curved_linkage)\n",
    "# set_surface_view_options(curved_linkage_view)\n",
    "curved_linkage_view.show()"
   ]
  },
  {
   "cell_type": "code",
   "execution_count": null,
   "metadata": {},
   "outputs": [],
   "source": [
    "# iterateData, opt_iterateData = np.load(optimization_data_filename, allow_pickle = True)\n",
    "# curved_linkage.setExtendedDoFsPSRL(opt_iterateData[-1]['extendedDoFsPSRL'])"
   ]
  },
  {
   "cell_type": "code",
   "execution_count": null,
   "metadata": {},
   "outputs": [],
   "source": [
    "curved_linkage.setExtendedDoFsPSRL(np.load('results/bunny_head_small_triaxial_1/bunny_head_small_triaxial_1_dof.npy'))"
   ]
  },
  {
   "cell_type": "code",
   "execution_count": null,
   "metadata": {},
   "outputs": [],
   "source": [
    "curved_linkage.attraction_weight = 1e-5"
   ]
  },
  {
   "cell_type": "code",
   "execution_count": null,
   "metadata": {},
   "outputs": [],
   "source": [
    "def eqm_callback(prob, i):\n",
    "    curved_linkage_view.update()"
   ]
  },
  {
   "cell_type": "code",
   "execution_count": null,
   "metadata": {
    "scrolled": true
   },
   "outputs": [],
   "source": [
    "elastic_rods.compute_equilibrium(curved_linkage, callback = eqm_callback, options = OPTS, fixedVars = [])"
   ]
  },
  {
   "cell_type": "code",
   "execution_count": null,
   "metadata": {},
   "outputs": [],
   "source": [
    "optimizer = initialize_stage_2_optimizer(curved_linkage, io.SURFACE_PATH, curved_save_tgt_joint_pos, curved_linkage_view, rw, sw)"
   ]
  },
  {
   "cell_type": "code",
   "execution_count": null,
   "metadata": {},
   "outputs": [],
   "source": [
    "optimizer.setLinkageAttractionWeight(1e-3)"
   ]
  },
  {
   "cell_type": "code",
   "execution_count": 20,
   "metadata": {},
   "outputs": [
    {
     "name": "stderr",
     "output_type": "stream",
     "text": [
      "../../../elastic_rods/python/structural_analysis.py:213: RuntimeWarning: invalid value encountered in true_divide\n",
      "  coefficientOfFriction = cfm[:, 1] / (-separationForce)\n",
      "/Users/yren/Library/Python/3.7/lib/python/site-packages/numpy/lib/histograms.py:839: RuntimeWarning: invalid value encountered in greater_equal\n",
      "  keep = (tmp_a >= first_edge)\n",
      "/Users/yren/Library/Python/3.7/lib/python/site-packages/numpy/lib/histograms.py:840: RuntimeWarning: invalid value encountered in less_equal\n",
      "  keep &= (tmp_a <= last_edge)\n"
     ]
    },
    {
     "name": "stdout",
     "output_type": "stream",
     "text": [
      "Coefficient of Friction Percentiles 50, 75, 90:  nan nan nan\n"
     ]
    },
    {
     "data": {
      "application/vnd.jupyter.widget-view+json": {
       "model_id": "03468e911f054a3bb8aab6531b8343fd",
       "version_major": 2,
       "version_minor": 0
      },
      "text/plain": [
       "HBox(children=(Renderer(camera=PerspectiveCamera(children=(PointLight(color='#999999', position=(0.0, 0.0, 5.0…"
      ]
     },
     "metadata": {},
     "output_type": "display_data"
    },
    {
     "data": {
      "image/png": "[encoded data removed]",
      "text/plain": [
       "<Figure size 1080x288 with 4 Axes>"
      ]
     },
     "metadata": {
      "needs_background": "light"
     },
     "output_type": "display_data"
    }
   ],
   "source": [
    "structure_view = get_structure_analysis_view(curved_linkage)\n",
    "structure_view.show()"
   ]
  },
  {
   "cell_type": "code",
   "execution_count": null,
   "metadata": {},
   "outputs": [],
   "source": [
    "optimizer.beta = 1e6\n",
    "optimizer, contact_opt_iterateData = contact_optimization(optimizer, curved_linkage, curved_linkage_view, minRestLen=-1, contact_weight = 1e6, normalWeight = 5, torqueWeight = 2)"
   ]
  },
  {
   "cell_type": "code",
   "execution_count": 25,
   "metadata": {},
   "outputs": [
    {
     "name": "stdout",
     "output_type": "stream",
     "text": [
      "Coefficient of Friction Percentiles 50, 75, 90:  nan nan nan\n"
     ]
    },
    {
     "data": {
      "application/vnd.jupyter.widget-view+json": {
       "model_id": "10dff832302a42439d6f443efeb1e189",
       "version_major": 2,
       "version_minor": 0
      },
      "text/plain": [
       "HBox(children=(Renderer(camera=PerspectiveCamera(children=(PointLight(color='#999999', position=(0.0, 0.0, 5.0…"
      ]
     },
     "metadata": {},
     "output_type": "display_data"
    },
    {
     "data": {
      "image/png": "[encoded data removed]",
      "text/plain": [
       "<Figure size 1080x288 with 4 Axes>"
      ]
     },
     "metadata": {
      "needs_background": "light"
     },
     "output_type": "display_data"
    }
   ],
   "source": [
    "structure_view_2 = get_structure_analysis_view(curved_linkage)\n",
    "structure_view_2.show()"
   ]
  },
  {
   "cell_type": "code",
   "execution_count": null,
   "metadata": {},
   "outputs": [],
   "source": [
    "# DEBUG = True\n",
    "# name = 'bunny'\n",
    "# data_filename = '{}/{}_{}_data.npy'.format('results/{}'.format(name), name, 'full_data' if not DEBUG else 'finite_sample')\n",
    "# optimization_data_filename = '{}/{}_optimization.npy'.format('results/{}'.format(name), name)"
   ]
  },
  {
   "cell_type": "code",
   "execution_count": null,
   "metadata": {},
   "outputs": [],
   "source": [
    "# DEBUG = True\n",
    "# name = 'bunny'\n",
    "# data_filename = '{}/{}_{}_data.npy'.format('results/{}'.format(name), name, 'full_data' if not DEBUG else 'finite_sample')\n",
    "# optimization_data_filename = '{}/{}_optimization.npy'.format('results/{}'.format(name), name)\n",
    "# print('Computing Visualization Data ', name)\n",
    "# np.save(optimization_data_filename, [iterateData, opt_iterateData])\n"
   ]
  },
  {
   "cell_type": "code",
   "execution_count": null,
   "metadata": {},
   "outputs": [],
   "source": [
    "# drw = 0.1\n",
    "# dsw = 0.1\n",
    "\n",
    "# DEBUG = True\n",
    "# def make_patch_spines_invisible(ax):\n",
    "#     ax.set_frame_on(True)\n",
    "#     ax.patch.set_visible(False)\n",
    "#     for sp in ax.spines.values():\n",
    "#         sp.set_visible(False)\n",
    "\n",
    "# vs = Visualization_Setting()\n",
    "\n",
    "# def get_optimization_diagram_worker():\n",
    "#     name = 'bunny'\n",
    "#     data_filename = '{}/{}_{}_data.npy'.format('results/{}'.format(name), name, 'full_data' if not DEBUG else 'finite_sample')\n",
    "#     optimization_data_filename = '{}/{}_optimization.npy'.format('results/{}'.format(name), name)\n",
    "#     print('Computing Visualization Data ', name)\n",
    "#     np.save(optimization_data_filename, [iterateData, opt_iterateData])\n",
    "    \n",
    "#     dps_total_absolute_curvature, dps_total_ribbon_length, dps_distance_to_surface, dps_distance_to_joint, dps_eqm_dofs, dps_elastic_energy = compute_visualization_data_from_raw_data(iterateData, io, DEBUG, is_bunny = True)\n",
    "\n",
    "#     opt_total_absolute_curvature, opt_total_ribbon_length, opt_distance_to_surface, opt_distance_to_joint, opt_eqm_dofs, opt_elastic_energy = compute_visualization_data_from_raw_data(opt_iterateData, io, DEBUG, is_bunny = True)\n",
    "\n",
    "#     combined_energy = np.array(dps_elastic_energy + opt_elastic_energy)\n",
    "#     combined_rest_length = np.array(dps_total_ribbon_length + opt_total_ribbon_length)\n",
    "#     combined_total_absolute_curvature = np.array(dps_total_absolute_curvature + opt_total_absolute_curvature)\n",
    "#     combined_distance_to_surface = np.array(dps_distance_to_surface + opt_distance_to_surface)\n",
    "#     combined_dis_to_target_joint = np.array(dps_distance_to_joint + opt_distance_to_joint)\n",
    "\n",
    "#     curr_data = np.array([combined_energy, combined_rest_length, combined_total_absolute_curvature, combined_distance_to_surface, combined_dis_to_target_joint, dps_eqm_dofs, opt_eqm_dofs])\n",
    "#     np.save(data_filename, curr_data)\n",
    "\n",
    "#     dps_objective_elastic, dps_objective_smooth, dps_objective_length, dps_total_objective = get_objective_components_stage1(iterateData)\n",
    "#     opt_objective_elastic, opt_objective_target, opt_objective_length, opt_objective_smooth, opt_total_objective = get_objective_components_stage2(opt_iterateData)\n",
    "    \n",
    "#     combined_weighted_smoothing = np.concatenate((dps_objective_smooth, opt_objective_smooth), axis = None)\n",
    "\n",
    "#     # Objective plots\n",
    "#     plot_objective(vs, iterateData, dps_total_objective, '{}/{}_stage_1_objective.png'.format('results/{}'.format(name), name), vs.stage_1_label)\n",
    "#     plot_objective(vs, opt_iterateData, opt_total_objective, '{}/{}_stage_2_objective.png'.format('results/{}'.format(name), name), vs.stage_2_label)\n",
    "    \n",
    "#     def plot_stage_1_components():\n",
    "#         fig, host = plt.subplots()\n",
    "#         fig.subplots_adjust(right=0.75)\n",
    "#         par1 = host.twinx()\n",
    "#         par2 = host.twinx()\n",
    "#         par3 = host.twinx()\n",
    "#         par4 = host.twinx()\n",
    "\n",
    "#         par2.spines[\"left\"].set_position((\"axes\", -0.12))\n",
    "#         make_patch_spines_invisible(par2)\n",
    "\n",
    "#         par2.spines[\"left\"].set_visible(True)\n",
    "#         par2.yaxis.set_label_position('left')\n",
    "#         par2.yaxis.set_ticks_position('left')\n",
    "\n",
    "#         par3.spines[\"left\"].set_position((\"axes\", -0.24))\n",
    "\n",
    "#         make_patch_spines_invisible(par3)\n",
    "\n",
    "#         par3.spines[\"left\"].set_visible(True)\n",
    "#         par3.yaxis.set_label_position('left')\n",
    "#         par3.yaxis.set_ticks_position('left')\n",
    "\n",
    "#         n_iter = len(dps_elastic_energy)\n",
    "\n",
    "#         p1, = host.plot(range(n_iter), dps_elastic_energy, linewidth = 3, color = vs.elastic_color, label=vs.elastic_label)\n",
    "#         p2, = par1.plot(range(n_iter), dps_total_ribbon_length, linewidth = 3, color = vs.rest_length_color, label=vs.rest_length_label)\n",
    "#         # print(len(dps_objective_smooth), n_iter)\n",
    "#         p3, = par2.plot(range(n_iter), np.array(dps_objective_smooth)[[0, int(len(iterateData)/4), int(3 * len(iterateData)/4), int(len(iterateData)-1)]], linewidth = 3, color = vs.smoothness_color, label=vs.smoothness_label) if DEBUG else par2.plot(range(n_iter), np.array(dps_objective_smooth), linewidth = 3, color = vs.smoothness_color, label=vs.smoothness_label)\n",
    "#         p4, = par3.plot(range(n_iter), dps_total_absolute_curvature, linewidth = 3, color = vs.curvature_color, label=vs.curvature_label)\n",
    "#         p5, = par4.plot(range(n_iter), dps_distance_to_surface, linewidth = 3, color = vs.target_color, label=vs.target_label)\n",
    "\n",
    "#         set_figure_label_and_limit(host, par1, par2, par3, par4, p1, p2, p3, p4, p5, combined_energy, combined_rest_length, combined_weighted_smoothing, combined_total_absolute_curvature, combined_distance_to_surface, vs)\n",
    "\n",
    "#         lines = [p1, p2, p3, p4, p5]\n",
    "\n",
    "#         par1.yaxis.set_visible(False)\n",
    "#         par2.yaxis.set_visible(True)\n",
    "#         par3.yaxis.set_visible(True)\n",
    "#         par4.yaxis.set_visible(False)\n",
    "\n",
    "#         fig.set_size_inches(vs.figure_size)\n",
    "#         fig.savefig('{}/{}_stage_1_components.png'.format('results/{}'.format(name), name), bbox_inches='tight', dpi=200)\n",
    "#         plt.close()\n",
    "#     plot_stage_1_components()\n",
    "\n",
    "#     def plot_stage_2_components():\n",
    "#         fig, host = plt.subplots()\n",
    "#         fig.subplots_adjust(right=0.75)\n",
    "\n",
    "#         par1 = host.twinx()\n",
    "#         par2 = host.twinx()\n",
    "#         par3 = host.twinx()\n",
    "#         par4 = host.twinx()\n",
    "\n",
    "#         par2.spines[\"right\"].set_position((\"axes\", 1.12))\n",
    "\n",
    "#         make_patch_spines_invisible(par2)\n",
    "#         par2.spines[\"right\"].set_visible(False)\n",
    "\n",
    "\n",
    "#         par3.spines[\"right\"].set_position((\"axes\", 1.24))\n",
    "#         make_patch_spines_invisible(par3)\n",
    "#         par3.spines[\"right\"].set_visible(False)\n",
    "\n",
    "#         par4.spines[\"right\"].set_position((\"axes\", 1.12))\n",
    "#         make_patch_spines_invisible(par4)\n",
    "#         par4.spines[\"right\"].set_visible(True)\n",
    "\n",
    "\n",
    "#         x_range = [-1] + list(range(len(opt_elastic_energy)))\n",
    "\n",
    "#         # Samara temp view slice\n",
    "#         # opt_objective_smooth = opt_objective_smooth[[0, int(len(opt_iterateData)/4), int(3 * len(opt_iterateData)/4), int(len(opt_iterateData)-1)]]\n",
    "#         p1, = host.plot(x_range, [dps_elastic_energy[-1]] + list(opt_elastic_energy), linewidth = 3, color = vs.elastic_color, label=vs.elastic_label)\n",
    "#         p2, = par1.plot(x_range, [dps_total_ribbon_length[-1]] + list(opt_total_ribbon_length), linewidth = 3, color = vs.rest_length_color, label=vs.rest_length_label)\n",
    "#         p3, = par2.plot(x_range, [dps_objective_smooth[-1]] + list(np.array(opt_objective_smooth)[[0, int(len(opt_iterateData)/4), int(3 * len(opt_iterateData)/4), int(len(opt_iterateData)-1)]]), linewidth = 3, color = vs.smoothness_color, label=vs.smoothness_label) if DEBUG else par2.plot(x_range, [dps_objective_smooth[-1]] + list(np.array(opt_objective_smooth)), linewidth = 3, color = vs.smoothness_color, label=vs.smoothness_label)\n",
    "#         p4, = par3.plot(x_range, [dps_total_absolute_curvature[-1]] + list(opt_total_absolute_curvature), linewidth = 3, color = vs.curvature_color, label=vs.curvature_label)\n",
    "#         p5, = par4.plot(x_range, [dps_distance_to_surface[-1]] + list(opt_distance_to_surface), linewidth = 3, color = vs.target_color, label=vs.target_label)\n",
    "\n",
    "#         set_figure_label_and_limit(host, par1, par2, par3, par4, p1, p2, p3, p4, p5, combined_energy, combined_rest_length, combined_weighted_smoothing, combined_total_absolute_curvature, combined_distance_to_surface, vs)\n",
    "\n",
    "#         lines = [p1, p2, p3, p4, p5]\n",
    "\n",
    "#         host.yaxis.set_visible(False)\n",
    "#         par1.yaxis.set_visible(True)\n",
    "#         par2.yaxis.set_visible(False)\n",
    "#         par3.yaxis.set_visible(False)\n",
    "#         par4.yaxis.set_visible(True)\n",
    "#         # plt.axvline(x=opt_iteration_count, color=cmap(8), linestyle='--')\n",
    "#         leg = host.legend(lines, [l.get_label() for l in lines], loc=\"upper right\", facecolor='white', framealpha=1, fancybox=True, prop={'size': 15})\n",
    "\n",
    "#         bb = leg.get_bbox_to_anchor().inverse_transformed(host.transAxes)\n",
    "\n",
    "#         # Change to location of the legend. \n",
    "#         yOffset = -0.2\n",
    "#         bb.y0 += yOffset\n",
    "#         leg.set_bbox_to_anchor(bb, transform = host.transAxes)\n",
    "#         fig.set_size_inches(vs.figure_size)\n",
    "#         fig.savefig('{}/{}_stage_2_components.png'.format('results/{}'.format(name), name), bbox_inches='tight', dpi=200)\n",
    "#         plt.close()\n",
    "\n",
    "\n",
    "#     plot_stage_2_components()\n",
    "    \n",
    "# get_optimization_diagram_worker()"
   ]
  }
 ],
 "metadata": {
  "kernelspec": {
   "display_name": "Python 3",
   "language": "python",
   "name": "python3"
  },
  "language_info": {
   "codemirror_mode": {
    "name": "ipython",
    "version": 3
   },
   "file_extension": ".py",
   "mimetype": "text/x-python",
   "name": "python",
   "nbconvert_exporter": "python",
   "pygments_lexer": "ipython3",
   "version": "3.7.9"
  }
 },
 "nbformat": 4,
 "nbformat_minor": 4
}
