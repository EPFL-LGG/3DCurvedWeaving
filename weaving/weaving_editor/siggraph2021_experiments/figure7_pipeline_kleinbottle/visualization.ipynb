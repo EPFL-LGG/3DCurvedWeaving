{
 "cells": [
  {
   "cell_type": "code",
   "execution_count": null,
   "metadata": {},
   "outputs": [],
   "source": [
    "elastic_rods_dir = '../../../../elastic_rods/python/'\n",
    "weaving_dir = '../../../'\n",
    "import os\n",
    "import os.path as osp\n",
    "import sys; sys.path.append(elastic_rods_dir); sys.path.append(weaving_dir)\n",
    "import numpy as np, elastic_rods, linkage_vis\n",
    "import numpy.linalg as la\n",
    "from bending_validation import suppress_stdout as so\n",
    "import matplotlib.pyplot as plt\n",
    "from elastic_rods import EnergyType, InterleavingType\n",
    "\n",
    "# weaving\n",
    "import analysis_helper, ribbon_linkage_helper, mesh_vis, linkage_utils, compute_curve_from_curvature, pipeline_helper, importlib\n",
    "importlib.reload(analysis_helper)\n",
    "importlib.reload(ribbon_linkage_helper)\n",
    "importlib.reload(mesh_vis)\n",
    "importlib.reload(linkage_utils)\n",
    "importlib.reload(compute_curve_from_curvature)\n",
    "importlib.reload(pipeline_helper)\n",
    "from analysis_helper import (compare_turning_angle,\n",
    "                            is_on_sphere, \n",
    "                            get_distance_to_center_scalar_field, \n",
    "                            plot_curvatures, \n",
    "                            get_curvature_scalar_field,\n",
    "                            construct_elastic_rod_loop_from_rod_segments, \n",
    "                            concatenate_rod_properties_from_rod_segments, \n",
    "                            compute_min_distance_rigid_transformation)\n",
    "from ribbon_linkage_helper import (update_rest_curvature, \n",
    "                                   set_ribbon_linkage,\n",
    "                                   export_linkage_geometry_to_obj,\n",
    "                                   write_linkage_ribbon_output_florin)\n",
    "\n",
    "from compute_curve_from_curvature import (match_geo_curvature_and_edge_len, get_all_curve_pattern)\n",
    "from linkage_utils import order_segments_by_ribbons, get_turning_angle_and_length_from_ordered_rods\n",
    "\n",
    "from pipeline_helper import (initialize_linkage, get_normal_deviation, set_joint_vector_field, stage_1_optimization, initialize_stage_2_optimizer, stage_2_optimization, InputOrganizer, write_all_output, set_surface_view_options, get_structure_analysis_view, get_max_distance_to_target_surface, contact_optimization, show_selected_joints, highlight_rod_and_joint)\n",
    "\n",
    "import vis.fields\n",
    "import matplotlib.cm as cm\n",
    "import time"
   ]
  },
  {
   "cell_type": "code",
   "execution_count": null,
   "metadata": {},
   "outputs": [],
   "source": [
    "import parallelism\n",
    "parallelism.set_max_num_tbb_threads(12)\n",
    "parallelism.set_hessian_assembly_num_threads(4)\n",
    "parallelism.set_gradient_assembly_num_threads(4)"
   ]
  },
  {
   "cell_type": "code",
   "execution_count": null,
   "metadata": {},
   "outputs": [],
   "source": [
    "scale = 1\n",
    "rod_length = 0.07244622391567243 * scale\n",
    "width = rod_length / 20 * 10 \n",
    "thickness = width / 10 * 0.35 \n",
    "print(width, thickness)\n",
    "io = InputOrganizer('kleinbottle_projected_{}'.format(scale), thickness, width, weaving_dir)"
   ]
  },
  {
   "cell_type": "code",
   "execution_count": null,
   "metadata": {},
   "outputs": [],
   "source": [
    "rgb_scale = 255\n",
    "cmyk_scale = 100\n",
    "def cmyk_to_rgb(c,m,y,k):\n",
    "    \"\"\"\n",
    "    \"\"\"\n",
    "    r = (1.0-(c+k)/float(cmyk_scale))\n",
    "    g = (1.0-(m+k)/float(cmyk_scale))\n",
    "    b = (1.0-(y+k)/float(cmyk_scale))\n",
    "    return r,g,b\n",
    "\n",
    "def get_blue_pink_color(colors):\n",
    "    cmyk_colors = colors * 100\n",
    "    colors = [list(cmyk_to_rgb(100 - cmyk_colors[i], 33, 0, 0)) + [0] for i in range(len(cmyk_colors))]\n",
    "    return colors\n",
    "\n",
    "def get_color_scheme(colors):\n",
    "    cmap = plt.cm.plasma\n",
    "#     cmap = cmap2\n",
    "    return cmap(colors)"
   ]
  },
  {
   "cell_type": "code",
   "execution_count": null,
   "metadata": {},
   "outputs": [],
   "source": [
    "cmyk_to_rgb(100, 33, 0, 0)"
   ]
  },
  {
   "cell_type": "code",
   "execution_count": null,
   "metadata": {},
   "outputs": [],
   "source": [
    "with open('./plasma_color_bar.obj', 'w') as f:\n",
    "    res = 2000\n",
    "    colors = get_color_scheme(np.linspace(0, 1, res))\n",
    "    for i in range(res):\n",
    "        f.write('v {} {} {} {} {} {}\\n'.format(i/(res / 100.), 0, 0, colors[i][0], colors[i][1], colors[i][2]))\n",
    "        f.write('v {} {} {} {} {} {}\\n'.format(i/(res / 100.), 100. / 10, 0, colors[i][0], colors[i][1], colors[i][2]))\n",
    "    for i in range(res - 1):\n",
    "        f.write('f {} {} {}\\n'.format(i * 2 + 1, i * 2 + 2, i * 2 + 3))\n",
    "        f.write('f {} {} {}\\n'.format(i * 2 + 2, i * 2 + 3, i * 2 + 4))"
   ]
  },
  {
   "cell_type": "code",
   "execution_count": null,
   "metadata": {},
   "outputs": [],
   "source": [
    "with open('/Users/yren/Develop/EPFL_LGG/weaving/weaving/weaving_editor/examples/kleinbottle_nature_figure3/kleinbottle_nature_figure3_straight_linkage.obj') as l:\n",
    "    content = l.readlines()\n",
    "    colors = []\n",
    "    for line in content:\n",
    "        if 'vd ' in line:\n",
    "            colors.append(float(line.split(' ')[1]))\n",
    "colors = np.array(colors)\n",
    "colors = colors / 0.66\n",
    "print(max(colors))\n",
    "colors = get_color_scheme(colors)\n",
    "with open('kleinbottle_straight_linkage_with_color.obj', 'w') as f:\n",
    "    vx_count = 0\n",
    "    for line in content:\n",
    "        if 'v ' in line:\n",
    "            point = np.array([float(x) for x in line.split(' ')[1:]])\n",
    "            f.write('v {} {} {} {} {} {}\\n'.format(point[0], point[1], point[2], colors[vx_count][0], colors[vx_count][1], colors[vx_count][2]))\n",
    "            vx_count += 1\n",
    "        else:\n",
    "            f.write(line)\n",
    "        "
   ]
  },
  {
   "cell_type": "code",
   "execution_count": null,
   "metadata": {},
   "outputs": [],
   "source": [
    "with open('/Users/yren/Develop/EPFL_LGG/weaving/weaving/weaving_editor/examples/kleinbottle_nature_figure3/kleinbottle_nature_figure3_curved_linkage.obj') as l:\n",
    "    content = l.readlines()\n",
    "    colors = []\n",
    "    for line in content:\n",
    "        if 'vd ' in line:\n",
    "            colors.append(float(line.split(' ')[1]))\n",
    "colors = np.array(colors)\n",
    "colors = colors / 0.66\n",
    "colors = get_color_scheme(colors)\n",
    "with open('kleinbottle_curved_linkage_with_color.obj', 'w') as f:\n",
    "    vx_count = 0\n",
    "    for line in content:\n",
    "        if 'v ' in line:\n",
    "            point = np.array([float(x) for x in line.split(' ')[1:]])\n",
    "            f.write('v {} {} {} {} {} {}\\n'.format(point[0], point[1], point[2], colors[vx_count][0], colors[vx_count][1], colors[vx_count][2]))\n",
    "            vx_count += 1\n",
    "        else:\n",
    "            f.write(line)\n",
    "        "
   ]
  },
  {
   "cell_type": "code",
   "execution_count": null,
   "metadata": {},
   "outputs": [],
   "source": [
    "246/255, 144/255, 109/255"
   ]
  },
  {
   "cell_type": "code",
   "execution_count": null,
   "metadata": {},
   "outputs": [],
   "source": [
    "255/255,16/255,83/255"
   ]
  },
  {
   "cell_type": "code",
   "execution_count": null,
   "metadata": {},
   "outputs": [],
   "source": [
    "cmap1 = plot.Colormap('violet red', name='violet', fade=100, space='hsl')"
   ]
  },
  {
   "cell_type": "code",
   "execution_count": null,
   "metadata": {},
   "outputs": [],
   "source": [
    "cmap1(256)"
   ]
  },
  {
   "cell_type": "code",
   "execution_count": null,
   "metadata": {},
   "outputs": [],
   "source": [
    "import colorsys"
   ]
  },
  {
   "cell_type": "code",
   "execution_count": null,
   "metadata": {},
   "outputs": [],
   "source": [
    "cmap1.N"
   ]
  },
  {
   "cell_type": "code",
   "execution_count": null,
   "metadata": {},
   "outputs": [],
   "source": [
    "cmap1(256)"
   ]
  },
  {
   "cell_type": "code",
   "execution_count": null,
   "metadata": {},
   "outputs": [],
   "source": [
    "cmap1(0)"
   ]
  },
  {
   "cell_type": "code",
   "execution_count": null,
   "metadata": {},
   "outputs": [],
   "source": [
    "color = cmap1(256)"
   ]
  },
  {
   "cell_type": "code",
   "execution_count": null,
   "metadata": {},
   "outputs": [],
   "source": [
    "colorsys.hls_to_rgb(color[0], color[2], color[1])"
   ]
  },
  {
   "cell_type": "code",
   "execution_count": null,
   "metadata": {},
   "outputs": [],
   "source": [
    "plot.to_rgba(cmap1(1), space = 'hsl')"
   ]
  },
  {
   "cell_type": "code",
   "execution_count": null,
   "metadata": {},
   "outputs": [],
   "source": [
    "fig, axs = plot.show_cmaps(plt.cm.PuRd)"
   ]
  },
  {
   "cell_type": "code",
   "execution_count": null,
   "metadata": {},
   "outputs": [],
   "source": [
    "fig.savefig('PuRd.svg')"
   ]
  },
  {
   "cell_type": "code",
   "execution_count": null,
   "metadata": {},
   "outputs": [],
   "source": [
    "print(np.max(data))"
   ]
  },
  {
   "cell_type": "code",
   "execution_count": null,
   "metadata": {},
   "outputs": [],
   "source": [
    "import proplot as plot\n",
    "import numpy as np\n",
    "state = np.random.RandomState(51423)\n",
    "data = state.rand(30, 30).cumsum(axis=1)\n",
    "# Initialize figure\n",
    "fig, axs = plot.subplots([[1, 1, 2, 2], [0, 3, 3, 0]], axwidth=2, span=0)\n",
    "axs.format(\n",
    "    xlabel='x axis', ylabel='y axis',\n",
    "    suptitle='Building your own PerceptuallyUniformColormaps'\n",
    ")\n",
    "\n",
    "# Colormap from named color\n",
    "# The trailing '_r' makes the colormap go dark-to-light instead of light-to-dark\n",
    "cmap1 = plot.Colormap('violet red', name='pacific', fade=100, space='hsl')\n",
    "axs[0].format(title='From single named color')\n",
    "axs[0].pcolormesh(data, cmap=cmap1)\n",
    "\n",
    "# Colormap from lists\n",
    "cmap2 = plot.Colormap(((338/360., 91/100., 65/100.), (20/360., 86/100., 92/100.)), name='heatwave', listmode = 'perceptual', space = 'hsl')\n",
    "axs[1].format(title='From list of colors')\n",
    "axs[1].pcolormesh(data, cmap=cmap2)\n",
    "\n",
    "# Colormaps from channel value dictionaries\n",
    "cmap3 = plot.Colormap(\n",
    "    {\n",
    "        'hue': ['red', 'red-720'],\n",
    "        'saturation': [80, 20],\n",
    "        'luminance': [20, 100]\n",
    "    },\n",
    "    name='cubehelix',\n",
    "    space='hpl',\n",
    ")\n",
    "axs[2].format(title='From channel values')\n",
    "axs[2].pcolormesh(data, cmap=cmap3)\n",
    "\n",
    "# Display the channels\n",
    "fig, axs = plot.show_channels(cmap1, cmap2, cmap3, axwidth=1.5, rgb=False)"
   ]
  }
 ],
 "metadata": {
  "kernelspec": {
   "display_name": "Python 3",
   "language": "python",
   "name": "python3"
  },
  "language_info": {
   "codemirror_mode": {
    "name": "ipython",
    "version": 3
   },
   "file_extension": ".py",
   "mimetype": "text/x-python",
   "name": "python",
   "nbconvert_exporter": "python",
   "pygments_lexer": "ipython3",
   "version": "3.7.9"
  }
 },
 "nbformat": 4,
 "nbformat_minor": 4
}
