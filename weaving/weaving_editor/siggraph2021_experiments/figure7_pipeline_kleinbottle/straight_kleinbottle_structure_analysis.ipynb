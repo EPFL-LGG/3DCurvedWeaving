{
 "cells": [
  {
   "cell_type": "code",
   "execution_count": null,
   "metadata": {},
   "outputs": [],
   "source": [
    "elastic_rods_dir = '../../../../elastic_rods/python/'\n",
    "weaving_dir = '../../../'\n",
    "import os\n",
    "import os.path as osp\n",
    "import sys; sys.path.append(elastic_rods_dir); sys.path.append(weaving_dir)\n",
    "import numpy as np, elastic_rods, linkage_vis\n",
    "import numpy.linalg as la\n",
    "from bending_validation import suppress_stdout as so\n",
    "import matplotlib.pyplot as plt\n",
    "from elastic_rods import EnergyType, InterleavingType\n",
    "\n",
    "# weaving\n",
    "import analysis_helper, ribbon_linkage_helper, mesh_vis, linkage_utils, compute_curve_from_curvature, pipeline_helper, importlib\n",
    "importlib.reload(analysis_helper)\n",
    "importlib.reload(ribbon_linkage_helper)\n",
    "importlib.reload(mesh_vis)\n",
    "importlib.reload(linkage_utils)\n",
    "importlib.reload(compute_curve_from_curvature)\n",
    "importlib.reload(pipeline_helper)\n",
    "from analysis_helper import (compare_turning_angle,\n",
    "                            is_on_sphere, \n",
    "                            get_distance_to_center_scalar_field, \n",
    "                            plot_curvatures, \n",
    "                            get_curvature_scalar_field,\n",
    "                            construct_elastic_rod_loop_from_rod_segments, \n",
    "                            concatenate_rod_properties_from_rod_segments, \n",
    "                            compute_min_distance_rigid_transformation)\n",
    "from ribbon_linkage_helper import (update_rest_curvature, \n",
    "                                   set_ribbon_linkage,\n",
    "                                   export_linkage_geometry_to_obj,\n",
    "                                   write_linkage_ribbon_output_florin,\n",
    "                                   write_centerline_normal_deviation_to_linkage_mesh)\n",
    "\n",
    "from compute_curve_from_curvature import (match_geo_curvature_and_edge_len, get_all_curve_pattern)\n",
    "from linkage_utils import order_segments_by_ribbons, get_turning_angle_and_length_from_ordered_rods\n",
    "\n",
    "from pipeline_helper import (initialize_linkage, get_normal_deviation, set_joint_vector_field, stage_1_optimization, initialize_stage_2_optimizer, stage_2_optimization, InputOrganizer, write_all_output, set_surface_view_options, get_structure_analysis_view, get_max_distance_to_target_surface, contact_optimization, show_selected_joints, highlight_rod_and_joint)\n",
    "\n",
    "import vis.fields\n",
    "import matplotlib.cm as cm\n",
    "import time"
   ]
  },
  {
   "cell_type": "code",
   "execution_count": null,
   "metadata": {},
   "outputs": [],
   "source": [
    "import parallelism\n",
    "parallelism.set_max_num_tbb_threads(12)\n",
    "parallelism.set_hessian_assembly_num_threads(4)\n",
    "parallelism.set_gradient_assembly_num_threads(4)"
   ]
  },
  {
   "cell_type": "code",
   "execution_count": null,
   "metadata": {},
   "outputs": [],
   "source": [
    "scale = 1\n",
    "rod_length = 0.07244622391567243 * scale\n",
    "width = rod_length / 20 * 10 \n",
    "thickness = width / 10 * 0.35 \n",
    "print(width, thickness)\n",
    "io = InputOrganizer('kleinbottle_projected_{}'.format(scale), thickness, width, weaving_dir)"
   ]
  },
  {
   "cell_type": "code",
   "execution_count": null,
   "metadata": {},
   "outputs": [],
   "source": [
    "import py_newton_optimizer\n",
    "OPTS = py_newton_optimizer.NewtonOptimizerOptions()\n",
    "OPTS.gradTol = 1e-6\n",
    "OPTS.verbose = 1;\n",
    "OPTS.beta = 1e-8\n",
    "OPTS.niter = 200\n",
    "OPTS.verboseNonPosDef = False\n",
    "rw = 1\n",
    "sw = 10\n",
    "drw = 0.1\n",
    "dsw = 0.1"
   ]
  },
  {
   "cell_type": "code",
   "execution_count": null,
   "metadata": {},
   "outputs": [],
   "source": [
    "# vf = show_selected_joints(curved_linkage, [30, 205, 91, 303, 525, 462, 496, 152, 425, 254, 391, 348, 151, 255, 255, 349, 349, 31, 92, 461, 92, 461, 151])\n",
    "# curved_linkage_view.update(vectorField = vf)"
   ]
  },
  {
   "cell_type": "code",
   "execution_count": null,
   "metadata": {},
   "outputs": [],
   "source": [
    "with so(): curved_linkage = initialize_linkage(surface_path = io.SURFACE_PATH, useCenterline = True, model_path = io.MODEL_PATH, cross_section = io.RIBBON_CS, subdivision_res = io.SUBDIVISION_RESOLUTION, interleaving_type=InterleavingType.weaving, use_constant_width = False, width_scale = [0.5, 1.5])\n",
    "curved_linkage.set_design_parameter_config(use_restLen = True, use_restKappa = False)\n",
    "curved_save_tgt_joint_pos = curved_linkage.jointPositions();\n",
    "curved_linkage_view = linkage_vis.LinkageViewerWithSurface(curved_linkage, io.SURFACE_PATH)\n",
    "set_surface_view_options(curved_linkage_view)\n",
    "curved_linkage_view.show()"
   ]
  },
  {
   "cell_type": "code",
   "execution_count": null,
   "metadata": {},
   "outputs": [],
   "source": [
    "curved_linkage.jointPositions()"
   ]
  },
  {
   "cell_type": "code",
   "execution_count": null,
   "metadata": {},
   "outputs": [],
   "source": [
    "dof = np.load('klein_bottle_straight_ribbon_dof_020720.npy')"
   ]
  },
  {
   "cell_type": "code",
   "execution_count": null,
   "metadata": {},
   "outputs": [],
   "source": [
    "dof.shape"
   ]
  },
  {
   "cell_type": "code",
   "execution_count": null,
   "metadata": {},
   "outputs": [],
   "source": [
    "curved_linkage.numExtendedDoFPSRL()"
   ]
  },
  {
   "cell_type": "code",
   "execution_count": null,
   "metadata": {},
   "outputs": [],
   "source": [
    "curved_linkage.setExtendedDoFsPSRL(np.load('klein_bottle_straight_ribbon_dof_020720.npy'))"
   ]
  },
  {
   "cell_type": "code",
   "execution_count": null,
   "metadata": {},
   "outputs": [],
   "source": [
    "curved_linkage.attraction_weight = 1e-5"
   ]
  },
  {
   "cell_type": "code",
   "execution_count": null,
   "metadata": {},
   "outputs": [],
   "source": [
    "# iterateData = stage_1_optimization(curved_linkage, rw, sw, curved_linkage_view)"
   ]
  },
  {
   "cell_type": "code",
   "execution_count": null,
   "metadata": {},
   "outputs": [],
   "source": [
    "def eqm_callback(prob, i):\n",
    "    curved_linkage_view.update()"
   ]
  },
  {
   "cell_type": "code",
   "execution_count": null,
   "metadata": {},
   "outputs": [],
   "source": [
    "OPTS.niter = 10000"
   ]
  },
  {
   "cell_type": "code",
   "execution_count": null,
   "metadata": {
    "scrolled": true
   },
   "outputs": [],
   "source": [
    "elastic_rods.compute_equilibrium(curved_linkage, callback = eqm_callback, options = OPTS)"
   ]
  },
  {
   "cell_type": "code",
   "execution_count": null,
   "metadata": {},
   "outputs": [],
   "source": [
    "structure_view = get_structure_analysis_view(curved_linkage)\n",
    "structure_view.show()"
   ]
  },
  {
   "cell_type": "code",
   "execution_count": null,
   "metadata": {},
   "outputs": [],
   "source": [
    "curved_linkage.energy()"
   ]
  },
  {
   "cell_type": "code",
   "execution_count": null,
   "metadata": {},
   "outputs": [],
   "source": [
    "# contact_optimization(optimizer, curved_linkage_view, -1, 1e4)"
   ]
  },
  {
   "cell_type": "code",
   "execution_count": null,
   "metadata": {},
   "outputs": [],
   "source": [
    "deviation, deviation_vector, joint_normals, joint_projection_normals = get_normal_deviation(curved_linkage)"
   ]
  },
  {
   "cell_type": "code",
   "execution_count": null,
   "metadata": {},
   "outputs": [],
   "source": [
    "set_joint_vector_field(curved_linkage, curved_linkage_view, deviation_vector)"
   ]
  },
  {
   "cell_type": "code",
   "execution_count": null,
   "metadata": {},
   "outputs": [],
   "source": [
    "deviation_angle = write_centerline_normal_deviation_to_linkage_mesh(curved_linkage, 'kleinbottle_straight_ribbon')"
   ]
  },
  {
   "cell_type": "code",
   "execution_count": null,
   "metadata": {},
   "outputs": [],
   "source": [
    "linkage = curved_linkage\n",
    "threshold = np.mean(io.RIBBON_CS)\n",
    "# def write_centerline_normal_deviation_to_linkage_mesh(linkage, width, model_name):\n",
    "def get_color_scheme(colors):\n",
    "    cmap = plt.cm.plasma\n",
    "#     cmap = cmap2\n",
    "    return cmap(colors)\n",
    "[points, faces, normals] = linkage.visualizationGeometry()\n",
    "new_normals = np.zeros_like(points)\n",
    "compare_points = []\n",
    "point_to_compare_point_map = -1 * np.ones(len(points))\n",
    "compare_pt_index = 0\n",
    "for face in faces:\n",
    "    pt1, pt2, pt3 = points[face[0]], points[face[1]], points[face[2]]\n",
    "    e12 = la.norm(pt1 - pt2)\n",
    "    e13 = la.norm(pt1 - pt3)\n",
    "    e23 = la.norm(pt2 - pt3)\n",
    "    if np.max([e12, e13, e23]) > threshold:\n",
    "        compare_pt = (pt1 + pt2 + pt3)/3\n",
    "        compare_points.append(compare_pt)\n",
    "        face_normal = np.cross(pt1-pt2, pt1-pt3)\n",
    "        face_normal /= la.norm(face_normal)\n",
    "        new_normals[face[0]] = face_normal\n",
    "        new_normals[face[1]] = face_normal\n",
    "        new_normals[face[2]] = face_normal\n",
    "        point_to_compare_point_map[face[0]] = compare_pt_index\n",
    "        point_to_compare_point_map[face[1]] = compare_pt_index\n",
    "        point_to_compare_point_map[face[2]] = compare_pt_index\n",
    "        compare_pt_index += 1\n",
    "\n",
    "# linkage_centerline_normals = np.array(linkage.visualizationGeometry()[2])\n",
    "# faces = np.array(linkage.visualizationGeometry()[1])\n",
    "# for faces in \n",
    "# linkage_centerline_projection_normals = np.array(linkage.get_closest_point_normal((linkage.visualizationGeometry()[0]).flatten()))\n",
    "# linkage_centerline_projection_normals = linkage_centerline_projection_normals.reshape(linkage_centerline_normals.shape)\n",
    "# deviation_angle = []\n",
    "# for i in range(len(linkage_centerline_normals)):\n",
    "#     closeness = np.dot(linkage_centerline_projection_normals[i], linkage_centerline_normals[i])\n",
    "#     # The value is between 0 and pi/2; scale to between 0 and 1\n",
    "#     angle = min(np.arccos(abs(closeness))/ (np.pi/2), 1)\n",
    "#     if (1-angle) < 0.4:\n",
    "#         angle = 0\n",
    "#     if (angle > 1 or angle < 0):\n",
    "#         print(\"Wrong normal deviation angle!\")\n",
    "#     deviation_angle.append(angle)\n",
    "# print(\"max deviation angle: \", max(deviation_angle))\n",
    "# deviation_angle = np.array(deviation_angle) / max(deviation_angle)\n",
    "# export_linkage_geometry_to_obj(linkage, 'normal_deviation_mesh_{}.obj'.format(model_name), vd = deviation_angle, use_color=True, colors = get_color_scheme(deviation_angle))\n",
    "# return deviation_angle"
   ]
  },
  {
   "cell_type": "code",
   "execution_count": null,
   "metadata": {},
   "outputs": [],
   "source": [
    "compare_points = np.array(compare_points)"
   ]
  },
  {
   "cell_type": "code",
   "execution_count": null,
   "metadata": {},
   "outputs": [],
   "source": [
    "new_normals"
   ]
  },
  {
   "cell_type": "code",
   "execution_count": null,
   "metadata": {},
   "outputs": [],
   "source": [
    "point_to_compare_point_map[3]"
   ]
  },
  {
   "cell_type": "code",
   "execution_count": null,
   "metadata": {},
   "outputs": [],
   "source": [
    "linkage_centerline_projection_normals = np.array(linkage.get_closest_point_normal(compare_points.flatten()))\n",
    "linkage_centerline_projection_normals = linkage_centerline_projection_normals.reshape(compare_points.shape)\n",
    "deviation_angle = []\n",
    "for i in range(len(new_normals)):\n",
    "    if la.norm(new_normals[i]) == 0:\n",
    "        deviation_angle.append(0)\n",
    "    else:\n",
    "        closeness = np.dot(linkage_centerline_projection_normals[int(point_to_compare_point_map[i])], new_normals[i])\n",
    "        # The value is between 0 and pi/2; scale to between 0 and 1\n",
    "        angle = min(np.arccos(abs(closeness))/ (np.pi/2), 0.6)\n",
    "        if (angle > 1 or angle < 0):\n",
    "            print(\"Wrong normal deviation angle!\")\n",
    "        deviation_angle.append(angle)\n",
    "print(\"max deviation angle: \", max(deviation_angle))\n",
    "deviation_angle = np.array(deviation_angle) / max(deviation_angle)\n",
    "export_linkage_geometry_to_obj(linkage, 'normal_deviation_mesh_{}.obj'.format(io.MODEL_NAME), vd = deviation_angle, use_color=True, colors = get_color_scheme(deviation_angle))\n",
    "# return deviation_angle"
   ]
  },
  {
   "cell_type": "code",
   "execution_count": null,
   "metadata": {},
   "outputs": [],
   "source": [
    "plt.plot(np.sort(deviation_angle))"
   ]
  },
  {
   "cell_type": "code",
   "execution_count": null,
   "metadata": {},
   "outputs": [],
   "source": [
    "os.chdir(save_path)"
   ]
  },
  {
   "cell_type": "code",
   "execution_count": null,
   "metadata": {},
   "outputs": [],
   "source": [
    "save_path = os.getcwd()\n",
    "write_all_output(curved_linkage, io.SUBDIVISION_RESOLUTION, 'kleinbottle_straight_ribbon', io.RIBBON_NAME, False, 100, min(io.RIBBON_CS), target_width = 5, flip_angles = False, width = max(io.RIBBON_CS))\n",
    "os.chdir(save_path)"
   ]
  },
  {
   "cell_type": "code",
   "execution_count": null,
   "metadata": {},
   "outputs": [],
   "source": []
  }
 ],
 "metadata": {
  "kernelspec": {
   "display_name": "Python 3",
   "language": "python",
   "name": "python3"
  },
  "language_info": {
   "codemirror_mode": {
    "name": "ipython",
    "version": 3
   },
   "file_extension": ".py",
   "mimetype": "text/x-python",
   "name": "python",
   "nbconvert_exporter": "python",
   "pygments_lexer": "ipython3",
   "version": "3.7.9"
  }
 },
 "nbformat": 4,
 "nbformat_minor": 4
}
