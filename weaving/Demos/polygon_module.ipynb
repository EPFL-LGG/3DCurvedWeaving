{
 "cells": [
  {
   "cell_type": "code",
   "execution_count": 58,
   "metadata": {},
   "outputs": [],
   "source": [
    "elastic_rods_dir = '../../elastic_rods/python/'\n",
    "weaving_dir = '../'\n",
    "import os.path as osp\n",
    "import sys; sys.path.append(elastic_rods_dir); sys.path.append(weaving_dir)\n",
    "import numpy as np, elastic_rods, linkage_vis\n",
    "import numpy.linalg as la\n",
    "from bending_validation import suppress_stdout as so\n",
    "import matplotlib.pyplot as plt\n",
    "import copy\n",
    "import vis.fields\n",
    "import matplotlib.cm as cm\n",
    "import os"
   ]
  },
  {
   "cell_type": "code",
   "execution_count": 59,
   "metadata": {},
   "outputs": [],
   "source": [
    "\n",
    "# Reloadable libraries\n",
    "import analysis_helper, ribbon_linkage_helper, mesh_vis, linkage_utils, compute_curve_from_curvature, importlib\n",
    "importlib.reload(analysis_helper)\n",
    "importlib.reload(ribbon_linkage_helper)\n",
    "importlib.reload(mesh_vis)\n",
    "importlib.reload(linkage_utils)\n",
    "importlib.reload(compute_curve_from_curvature)\n",
    "from analysis_helper import (compare_turning_angle,\n",
    "                            is_on_sphere, \n",
    "                            get_distance_to_center_scalar_field, \n",
    "                            plot_curvatures, \n",
    "                            get_curvature_scalar_field,\n",
    "                            construct_elastic_rod_loop_from_rod_segments, \n",
    "                            concatenate_rod_properties_from_rod_segments, \n",
    "                            compute_min_distance_rigid_transformation)\n",
    "from ribbon_linkage_helper import (initialize_linkage, \n",
    "                                   update_rest_curvature, \n",
    "                                   set_ribbon_linkage,\n",
    "                                   export_linkage_geometry_to_obj)\n",
    "from compute_curve_from_curvature import (match_geo_curvature_and_edge_len, get_all_curve_pattern)\n",
    "from linkage_utils import order_segments_by_ribbons, get_turning_angle_and_length_from_ordered_rods"
   ]
  },
  {
   "cell_type": "code",
   "execution_count": 68,
   "metadata": {},
   "outputs": [],
   "source": [
    "def generate_polygon_module(poly_size, flat_start = True):\n",
    "    polygon = []\n",
    "    for i in range(poly_size):\n",
    "        theta = 2 * np.pi / poly_size * i\n",
    "        point = np.array([100 * np.sin(theta), 100 * np.cos(theta), 0])\n",
    "        polygon.append(point)\n",
    "\n",
    "    tips = []\n",
    "    if flat_start:\n",
    "        for i in range(poly_size):\n",
    "            mid = (polygon[i-1] + polygon[i]) / 2\n",
    "            height = la.norm(polygon[i-1] - polygon[i]) * np.sqrt(3) / 2\n",
    "            tips.append(mid + mid / la.norm(mid) * height)\n",
    "    else:\n",
    "        for i in range(poly_size):\n",
    "            mid = (polygon[i-1] + polygon[i]) / 2\n",
    "            height = np.array([0, 0, la.norm(polygon[i-1] - polygon[i]) * np.sqrt(3) / 2])\n",
    "            tips.append(mid + height)\n",
    "    \n",
    "    point_list = polygon + tips\n",
    "    edge_list = [(i + 1, i + 2) for i in range(poly_size - 1)] + [(poly_size, 1)] + [(i + 1, poly_size + i + 2) for i in range(poly_size - 1)]  + [(poly_size, poly_size + 1)] + [(i + 2, poly_size + i + 2) for i in range(poly_size - 1)] + [(1, poly_size + 1)]\n",
    "    polygon_path = 'polygon'\n",
    "    if not os.path.exists(polygon_path):\n",
    "        os.makedirs(polygon_path)\n",
    "\n",
    "    with open ('{}/{}_gon.obj'.format(polygon_path, poly_size), 'w') as f:\n",
    "        for point in point_list:\n",
    "            f.write('v {} {} {}\\n'.format(point[0], point[1], point[2]))\n",
    "        for edge in edge_list:\n",
    "            f.write('l {} {}\\n'.format(edge[0], edge[1]))"
   ]
  },
  {
   "cell_type": "code",
   "execution_count": 69,
   "metadata": {},
   "outputs": [],
   "source": [
    "for i in range(11)[3:]:\n",
    "    generate_polygon_module(i)"
   ]
  },
  {
   "cell_type": "code",
   "execution_count": 70,
   "metadata": {},
   "outputs": [],
   "source": [
    "# Polygon Parameters\n",
    "poly_size = 5\n",
    "default_camera_parameters = ((3.466009282140468, -4.674139805388271, -2.556131049738206), (-0.21402574298422497, -0.06407538766530313, -0.9747681088523519),(0.1111, 0.1865, 0.5316))\n",
    "RIBBON_CS = [1, 15]\n",
    "ISO_CS = [4, 4]\n",
    "MODEL_PATH = 'polygon/{}_gon.obj'.format(poly_size)\n",
    "MODEL_NAME = \"{}_gon\".format(poly_size)\n",
    "SUBDIVISION_RESOLUTION = 10\n",
    "REGULARIZATION_WEIGHT = 0\n",
    "opts = elastic_rods.NewtonOptimizerOptions()"
   ]
  },
  {
   "cell_type": "code",
   "execution_count": 76,
   "metadata": {},
   "outputs": [],
   "source": [
    "def initialize_polygon_linkage(poly_size):\n",
    "    cam_param = ((-5.547141272807298, -0.4176337718243157, 4.000698835299432),\n",
    " (0.11831641535495478, -0.5039921608019906, 0.8556159580721264),\n",
    " (0.1111, 0.1865, 0.5316))\n",
    "    cross_section = [1, 40]\n",
    "    model_path = 'polygon/{}_gon.obj'.format(poly_size)\n",
    "    subdivision_res = 20\n",
    "    l = elastic_rods.RodLinkage(model_path, subdivision_res, False)\n",
    "    driver=l.centralJoint()\n",
    "    l.setMaterial(elastic_rods.RodMaterial('rectangle', 2000, 0.3, cross_section, stiffAxis=elastic_rods.StiffAxis.D1))\n",
    "    jdo = l.dofOffsetForJoint(driver)\n",
    "    fixedVars = list(range(jdo, jdo + 6)) # fix rigid motion for a single joint\n",
    "    opts = elastic_rods.NewtonOptimizerOptions()\n",
    "#     Why does ajusting opts not work?\n",
    "    elastic_rods.compute_equilibrium(l, fixedVars=fixedVars, options = opts)\n",
    "#     elastic_rods.compute_equilibrium(l, fixedVars=fixedVars, options = opts)\n",
    "#     elastic_rods.compute_equilibrium(l, fixedVars=fixedVars, options = opts)\n",
    "\n",
    "    view = linkage_vis.LinkageViewer(l, width=1024, height=640)\n",
    "    view.setCameraParams(cam_param)\n",
    "    return l, view\n",
    "    \n",
    "def save_polygon_linkage(poly_size, linkage):\n",
    "    MODEL_NAME = \"{}_gon\".format(poly_size)\n",
    "    export_linkage_geometry_to_obj(linkage, '{}_straight_linkage.obj'.format(MODEL_NAME))\n"
   ]
  },
  {
   "cell_type": "code",
   "execution_count": 77,
   "metadata": {},
   "outputs": [],
   "source": [
    "\n",
    "def get_curvature_scalar_field(linkage):\n",
    "    curvatures = []\n",
    "    for i in range(linkage.numSegments()):\n",
    "        curr_kappas = linkage.segment(i).rod.deformedConfiguration().kappa\n",
    "        curr_kappas = np.array(curr_kappas)[:, 1]\n",
    "        curr_kappas[0] = curr_kappas[1]\n",
    "        curr_kappas[-1] = curr_kappas[-2]\n",
    "        curr_kappas = [kappa ** 2 for kappa in curr_kappas]\n",
    "        curvatures.append(curr_kappas)\n",
    "    curvatures = np.array(curvatures)\n",
    "    sf = vis.fields.ScalarField(linkage, 0.6 * np.ones_like(curvatures), colormap=cm.Blues, vmin = 0, vmax = 1)\n",
    "    return sf\n",
    "\n",
    "with so(): poly_linkage, poly_mod_view = initialize_polygon_linkage(poly_size = 6)\n",
    "poly_mod_view.update(scalarField=get_curvature_scalar_field(poly_linkage))"
   ]
  },
  {
   "cell_type": "code",
   "execution_count": 78,
   "metadata": {},
   "outputs": [],
   "source": [
    "\n",
    "from __future__ import print_function\n",
    "from ipywidgets import interact, interactive, fixed, interact_manual\n",
    "import ipywidgets as widgets"
   ]
  },
  {
   "cell_type": "code",
   "execution_count": 95,
   "metadata": {},
   "outputs": [
    {
     "data": {
      "application/vnd.jupyter.widget-view+json": {
       "model_id": "31fda427e2bd4136b1000ae70efaa342",
       "version_major": 2,
       "version_minor": 0
      },
      "text/plain": [
       "interactive(children=(IntSlider(value=3, description='poly_size', max=10, min=3), Output()), _dom_classes=('wi…"
      ]
     },
     "metadata": {},
     "output_type": "display_data"
    }
   ],
   "source": [
    "@interact(poly_size=widgets.IntSlider(min=3, max=10, step=1, value=3))\n",
    "def update_polygon_linkage(poly_size):\n",
    "    global new_poly_mod_view\n",
    "    cross_section = [1, 40]\n",
    "    model_path = 'polygon/{}_gon.obj'.format(poly_size)\n",
    "    subdivision_res = 20\n",
    "    poly_linkage = elastic_rods.RodLinkage(model_path, subdivision_res, False)\n",
    "    driver=poly_linkage.centralJoint()\n",
    "    poly_linkage.setMaterial(elastic_rods.RodMaterial('rectangle', 2000, 0.3, cross_section, stiffAxis=elastic_rods.StiffAxis.D1))\n",
    "    jdo = poly_linkage.dofOffsetForJoint(0)\n",
    "    fixedVars = list(range(jdo, jdo + 6)) # fix rigid motion for a single joint    \n",
    "    #with so(): \n",
    "    opts = elastic_rods.NewtonOptimizerOptions()\n",
    "    opts.niter = 10000\n",
    "    #opts.beta = 1e-8\n",
    "    with so():\n",
    "        elastic_rods.compute_equilibrium(poly_linkage, fixedVars=fixedVars, options = opts)\n",
    "#         elastic_rods.compute_equilibrium(poly_linkage, fixedVars=fixedVars)\n",
    "#         elastic_rods.compute_equilibrium(poly_linkage, fixedVars=fixedVars)\n",
    "    new_poly_mod_view = linkage_vis.getColoredRodOrientationViewer(poly_linkage, width=1024, height=640, bottomColor=[0.5, 0.5, 0.5], topColor=[1, 0, 0])\n",
    "    poly_mod_view.update(mesh = new_poly_mod_view.mesh, scalarField=get_curvature_scalar_field(poly_linkage))\n",
    "    "
   ]
  },
  {
   "cell_type": "code",
   "execution_count": 96,
   "metadata": {},
   "outputs": [
    {
     "data": {
      "application/vnd.jupyter.widget-view+json": {
       "model_id": "2f673efb06a34460a74f49015d782c42",
       "version_major": 2,
       "version_minor": 0
      },
      "text/plain": [
       "Renderer(camera=PerspectiveCamera(aspect=1.6, children=(PointLight(color='white', intensity=0.6, position=(0.0…"
      ]
     },
     "metadata": {},
     "output_type": "display_data"
    }
   ],
   "source": [
    "new_poly_mod_view.show()"
   ]
  },
  {
   "cell_type": "code",
   "execution_count": null,
   "metadata": {},
   "outputs": [],
   "source": []
  }
 ],
 "metadata": {
  "kernelspec": {
   "display_name": "Python 3",
   "language": "python",
   "name": "python3"
  },
  "language_info": {
   "codemirror_mode": {
    "name": "ipython",
    "version": 3
   },
   "file_extension": ".py",
   "mimetype": "text/x-python",
   "name": "python",
   "nbconvert_exporter": "python",
   "pygments_lexer": "ipython3",
   "version": "3.7.5"
  }
 },
 "nbformat": 4,
 "nbformat_minor": 4
}
