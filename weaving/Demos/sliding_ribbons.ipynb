{
 "cells": [
  {
   "cell_type": "markdown",
   "metadata": {},
   "source": [
    "# Sliding demonstration\n",
    "This notebook demonstrates how our simulation can model ribbons sliding past each other when segment rest lengths and rest kappas are added as variables.\n",
    "We slide a wavey ribbon through a small grid of ribbons by sampling each ribbon segment's rest centerline from the corresponding intervals of a parametric reference wavey ribbon.\n",
    "\n",
    "In the following, we consider the wavey ribbon to be oriented vertically. We parametrize it by *height* rather than by arc length to precisely\n",
    "control the ribbon's vertical extent between each of the grid's horizontal ribbons.\n",
    "After sliding the ribbon by distance d, the ribbon extends from (0.5 - d) units above the grid's top horizontal ribbon to (0.5 + d) units below.\n",
    "\n",
    "Placing the bottom of the grid at $y=0$, the individual ribbon segments then cover the $y$ intervals:\n",
    "```\n",
    "[-d, 0.5]\n",
    "...\n",
    "[i - 0.5, i + 0.5] # (for i in 1...gridEdges - 2 inclusive)\n",
    "...\n",
    "[gridEdges - 1.5, gridEdges - 1 - d]\n",
    "```\n",
    "However, because the ribbon extends past a crossing by half an edge, the true endpoints of the ribbon segments are roughly:\n",
    "```\n",
    "[-d, 0.5 + 0.5 * (0.5 + d) / (n_s - 0.5)],           # length of each DER edge is roughly (0.5 + d) / (ns - 0.5)\n",
    "...\n",
    "[i - 0.5 - 0.5 / (ns - 1), i + 0.5 + 0.5 / (ns - 1)] # length of each DER edge is roughly 1 / (ns - 1)\n",
    "...\n",
    "[gridEdges - 1.5 - 0.5 * (0.5 - d) / (n_s - 0.5), gridEdges - 1 - d] # length of each DER edge is roughly (0.5 - d) / (ns - 0.5)\n",
    "```\n",
    "Then these $y$ intervals are mapped into curve parameter $t = y + d$."
   ]
  },
  {
   "cell_type": "code",
   "execution_count": 1,
   "metadata": {},
   "outputs": [],
   "source": [
    "import sys; sys.path.extend(['..', '../../elastic_rods/python'])\n",
    "from matplotlib import pyplot as plt"
   ]
  },
  {
   "cell_type": "code",
   "execution_count": 2,
   "metadata": {},
   "outputs": [],
   "source": [
    "import elastic_rods\n",
    "import numpy as np\n",
    "import mesh_operations"
   ]
  },
  {
   "cell_type": "code",
   "execution_count": 3,
   "metadata": {},
   "outputs": [],
   "source": [
    "nopts = elastic_rods.NewtonOptimizerOptions()\n",
    "nopts.useNegativeCurvatureDirection = False\n",
    "nopts.gradTol = 1e-10"
   ]
  },
  {
   "cell_type": "code",
   "execution_count": 4,
   "metadata": {},
   "outputs": [],
   "source": [
    "curvyCenterline = lambda t: np.array([0.2 * np.sin(np.pi * t), t, 0]) # wavey ribbon evaluated at parametric \"height\" t"
   ]
  },
  {
   "cell_type": "code",
   "execution_count": 5,
   "metadata": {},
   "outputs": [],
   "source": [
    "gridSize = 5\n",
    "gridEdges = gridSize - 1\n",
    "gridCoords = [0] + list(0.5 + np.arange(gridEdges - 1)) + [gridEdges - 1]\n",
    "horiz = np.column_stack([np.arange(gridEdges), 1 + np.arange(gridEdges)])\n",
    "vert = gridSize * horiz\n",
    "V = np.array([[x, y, 0] for x in gridCoords for y in gridCoords])\n",
    "E = np.vstack([horiz + i * gridSize for i in range(1, gridSize - 1)] + [vert + i for i in range(1, gridSize - 1)])\n",
    "V, E = mesh_operations.removeDanglingVertices(V, E)"
   ]
  },
  {
   "cell_type": "code",
   "execution_count": 6,
   "metadata": {},
   "outputs": [],
   "source": [
    "import MeshFEM, tri_mesh_viewer\n",
    "import linkage_vis"
   ]
  },
  {
   "cell_type": "code",
   "execution_count": 7,
   "metadata": {},
   "outputs": [],
   "source": [
    "d = 0"
   ]
  },
  {
   "cell_type": "code",
   "execution_count": 8,
   "metadata": {},
   "outputs": [],
   "source": [
    "n_s = 30\n",
    "#itype = elastic_rods.InterleavingType.weaving\n",
    "itype = elastic_rods.InterleavingType.noOffset\n",
    "l = elastic_rods.RodLinkage(V, E, rod_interleaving_type=itype, subdivision=n_s)\n",
    "mat = elastic_rods.RodMaterial('rectangle', 200, 0.3, [0.04, 0.01])\n",
    "l.setMaterial(mat)"
   ]
  },
  {
   "cell_type": "code",
   "execution_count": 9,
   "metadata": {},
   "outputs": [
    {
     "data": {
      "application/vnd.jupyter.widget-view+json": {
       "model_id": "d0658295caf9459cb7179ce22dad8c92",
       "version_major": 2,
       "version_minor": 0
      },
      "text/plain": [
       "Renderer(camera=PerspectiveCamera(children=(PointLight(color='white', intensity=0.6, position=(0.0, 0.0, 5.0),…"
      ]
     },
     "metadata": {},
     "output_type": "display_data"
    }
   ],
   "source": [
    "lv = linkage_vis.getColoredRodOrientationViewer(l, topColor=[79/255., 158/255., 246/255.])\n",
    "lv.averagedMaterialFrames = True\n",
    "lv.averagedCrossSections = True\n",
    "lv.show()"
   ]
  },
  {
   "cell_type": "code",
   "execution_count": 10,
   "metadata": {},
   "outputs": [],
   "source": [
    "lv.update()"
   ]
  },
  {
   "cell_type": "code",
   "execution_count": 11,
   "metadata": {},
   "outputs": [],
   "source": [
    "lv.showWireframe()"
   ]
  },
  {
   "cell_type": "code",
   "execution_count": 12,
   "metadata": {},
   "outputs": [],
   "source": [
    "mat = elastic_rods.RodMaterial('rectangle', 200, 0.3, [0.04, 0.01])\n",
    "mat.twistingStiffness *= 1\n",
    "l.setMaterial(mat)"
   ]
  },
  {
   "cell_type": "code",
   "execution_count": 13,
   "metadata": {},
   "outputs": [],
   "source": [
    "# Pick one of the ribbons to make wavey\n",
    "ribbon = l.traceRods()[1][1]"
   ]
  },
  {
   "cell_type": "code",
   "execution_count": 14,
   "metadata": {},
   "outputs": [],
   "source": [
    "# Set the rest shape by sampling the appropriate intervals of the reference curve"
   ]
  },
  {
   "cell_type": "code",
   "execution_count": 15,
   "metadata": {},
   "outputs": [],
   "source": [
    "def heightIntervalForSegment(i):\n",
    "    if i == 0:             return [-d, 0.5 + 0.5 * (0.5 + d) / (n_s - 0.5)]                            # length of each DER edge is roughly (0.5 + d) / (ns - 0.5)\n",
    "    if i < gridEdges - 1:  return [i - 0.5 - 0.5 / (n_s - 1), i + 0.5 + 0.5 / (n_s - 1)]               # length of each DER edge is roughly         1 / (ns - 1)\n",
    "    if i == gridEdges - 1: return [gridEdges - 1.5 - 0.5 * (0.5 - d) / (n_s - 0.5), gridEdges - 1 - d] # length of each DER edge is roughly (0.5 - d) / (ns - 0.5)\n",
    "    raise Exception('index out of range')"
   ]
  },
  {
   "cell_type": "code",
   "execution_count": 16,
   "metadata": {},
   "outputs": [],
   "source": [
    "for i, sidx in enumerate(ribbon):\n",
    "    r = l.segment(sidx).rod\n",
    "    curvyRod = elastic_rods.ElasticRod(np.array([curvyCenterline(t - d) for t in np.linspace(*heightIntervalForSegment(i), num=(n_s + 1))]))\n",
    "    #print(np.array(curvyRod.restKappas()))\n",
    "    r.setRestKappas(curvyRod.restKappas())\n",
    "    #r.setRestLengths(curvyRod.restLengths())"
   ]
  },
  {
   "cell_type": "code",
   "execution_count": 17,
   "metadata": {},
   "outputs": [],
   "source": [
    "E0 = 1\n",
    "l0 = 1"
   ]
  },
  {
   "cell_type": "code",
   "execution_count": 18,
   "metadata": {},
   "outputs": [],
   "source": [
    "l.set_design_parameter_config(True, False)"
   ]
  },
  {
   "cell_type": "code",
   "execution_count": 19,
   "metadata": {
    "scrolled": true
   },
   "outputs": [
    {
     "name": "stdout",
     "output_type": "stream",
     "text": [
      "0\t0.00101525\t0.0762543\t0.0762543\t1\t1\n",
      "1\t5.651e-05\t0.00199804\t0.00199804\t1\t1\n",
      "2\t3.04506e-05\t0.000492472\t0.000492472\t1\t1\n",
      "3\t2.67072e-05\t0.000121182\t0.000121182\t1\t1\n",
      "4\t2.64537e-05\t2.55433e-05\t2.55433e-05\t1\t1\n",
      "5\t2.64456e-05\t1.8515e-05\t1.8515e-05\t1\t1\n",
      "6\t2.64448e-05\t1.84592e-05\t1.84592e-05\t1\t1\n",
      "7\t2.6444e-05\t1.84696e-05\t1.84696e-05\t1\t1\n",
      "8\t2.64437e-05\t1.84789e-05\t1.84789e-05\t1\t1\n",
      "9\t2.64432e-05\t1.84875e-05\t1.84875e-05\t1\t1\n",
      "10\t2.64431e-05\t1.84904e-05\t1.84904e-05\t1\t1\n",
      "11\t2.64428e-05\t1.84875e-05\t1.84875e-05\t1\t1\n",
      "12\t2.64427e-05\t1.84847e-05\t1.84847e-05\t1\t1\n",
      "13\t2.64424e-05\t1.84743e-05\t1.84743e-05\t1\t1\n",
      "14\t2.64423e-05\t1.84684e-05\t1.84684e-05\t1\t1\n",
      "15\t2.64422e-05\t1.84543e-05\t1.84543e-05\t1\t1\n",
      "16\t2.64421e-05\t1.8447e-05\t1.8447e-05\t1\t1\n",
      "17\t2.64419e-05\t1.84314e-05\t1.84314e-05\t1\t1\n",
      "18\t2.64418e-05\t1.84236e-05\t1.84236e-05\t1\t1\n",
      "19\t2.64417e-05\t1.84077e-05\t1.84077e-05\t1\t1\n",
      "20\t2.64416e-05\t1.83998e-05\t1.83998e-05\t1\t1\n",
      "21\t2.64415e-05\t1.8384e-05\t1.8384e-05\t1\t1\n",
      "22\t2.64415e-05\t1.83762e-05\t1.83762e-05\t1\t1\n",
      "23\t2.64414e-05\t1.83606e-05\t1.83606e-05\t1\t1\n",
      "24\t2.64413e-05\t1.83529e-05\t1.83529e-05\t1\t1\n",
      "25\t2.64413e-05\t1.83375e-05\t1.83375e-05\t1\t1\n",
      "26\t2.64412e-05\t1.83299e-05\t1.83299e-05\t1\t1\n",
      "27\t2.64411e-05\t1.83146e-05\t1.83146e-05\t1\t1\n",
      "28\t2.64411e-05\t1.8307e-05\t1.8307e-05\t1\t1\n",
      "29\t2.6441e-05\t1.82918e-05\t1.82918e-05\t1\t1\n",
      "30\t2.6441e-05\t1.82843e-05\t1.82843e-05\t1\t1\n",
      "31\t2.6441e-05\t1.8269e-05\t1.8269e-05\t1\t1\n",
      "32\t2.64409e-05\t1.82614e-05\t1.82614e-05\t1\t1\n",
      "33\t2.64409e-05\t1.8246e-05\t1.8246e-05\t1\t1\n",
      "34\t2.64409e-05\t1.82384e-05\t1.82384e-05\t1\t1\n",
      "35\t2.64408e-05\t1.82234e-05\t1.82234e-05\t1\t1\n",
      "36\t2.64408e-05\t1.82164e-05\t1.82164e-05\t1\t1\n",
      "37\t2.64407e-05\t1.82161e-05\t1.82161e-05\t1\t1\n",
      "38\t2.64406e-05\t1.82311e-05\t1.82311e-05\t1\t1\n",
      "39\t2.64394e-05\t1.88747e-05\t1.88747e-05\t1\t1\n",
      "40\t2.64376e-05\t1.93487e-05\t1.93487e-05\t1\t1\n",
      "41\t2.64096e-05\t7.65372e-05\t7.65372e-05\t1\t1\n",
      "42\t2.6378e-05\t4.83252e-05\t4.83252e-05\t1\t1\n",
      "43\t2.62239e-05\t0.000260345\t0.000260345\t1\t1\n",
      "44\t2.6129e-05\t0.000140319\t0.000140319\t1\t1\n",
      "45\t2.59191e-05\t0.000273997\t0.000273997\t0.25\t1\n",
      "46\t2.58029e-05\t0.000688641\t0.000688641\t1\t1\n",
      "47\t2.51369e-05\t0.000570875\t0.000570875\t1\t1\n",
      "48\t2.43955e-05\t0.00069485\t0.00069485\t0.5\t0\n",
      "49\t2.13607e-05\t0.00180492\t0.00180492\t1\t0\n",
      "50\t1.61894e-05\t0.000572983\t0.000572983\t0.5\t0\n",
      "51\t1.46959e-05\t0.000728992\t0.000728992\t1\t0\n",
      "52\t1.26632e-05\t0.000470458\t0.000470458\t0.5\t0\n",
      "53\t1.20072e-05\t0.000345779\t0.000345779\t1\t0\n",
      "54\t1.13055e-05\t0.000226676\t0.000226676\t1\t0\n",
      "55\t1.10323e-05\t0.000198041\t0.000198041\t1\t0\n",
      "56\t1.08663e-05\t8.12307e-05\t8.12307e-05\t1\t0\n",
      "57\t1.08294e-05\t3.59477e-05\t3.59477e-05\t1\t0\n",
      "58\t1.08223e-05\t1.3476e-05\t1.3476e-05\t1\t0\n",
      "59\t1.08213e-05\t8.50627e-06\t8.50627e-06\t1\t0\n",
      "60\t1.08212e-05\t1.31803e-06\t1.31803e-06\t1\t0\n",
      "61\t1.08212e-05\t3.48283e-07\t3.48283e-07\t1\t0\n",
      "62\t1.08212e-05\t2.29491e-09\t2.29491e-09\t1\t0\n",
      "63\t1.08212e-05\t1.14628e-12\t1.14628e-12\t1\t0\n"
     ]
    }
   ],
   "source": [
    "fv = [o for ji in range(l.numJoints()) for o in l.dofOffsetForJoint(ji)\n",
    "          + np.arange(0 if (ji < 3 or ji > 5) else 3, 6)] # Fix all joint orientations and joint positions 0, 1, 2, 6, 7, 8\n",
    "#elastic_rods.restlen_solve(l, fixedVars=fv, options=nopts)#fv, options=nopts)\n",
    "elastic_rods.designParameter_solve(l, fixedVars=[], options=nopts, regularization_weight=0, smoothing_weight=0, E0=E0, l0=l0)\n",
    "lv.update()"
   ]
  },
  {
   "cell_type": "markdown",
   "metadata": {},
   "source": [
    "## Debugging: reconstruct a single rod from prescribed curvature/rest length\n",
    "We can correctly reconstruct the state of a rod from its rest curvature/length,\n",
    "including the individual ribbon segments extracted from the linkage...\n",
    "\n",
    "The call `getRod(-1)` gets a custom example with known ground truth, while `getRod(0...4)` takes a ribbon segment from the linkage."
   ]
  },
  {
   "cell_type": "code",
   "execution_count": 20,
   "metadata": {},
   "outputs": [],
   "source": [
    "import copy\n",
    "def getRod(ri):\n",
    "    global groundTruth\n",
    "    groundTruth = None\n",
    "    if ri >= 0: return copy.deepcopy(l.segment(ribbon[ri]).rod)\n",
    "    \n",
    "    curvyCenterline = lambda t: np.array([0.4 * np.sin(np.pi * t), t, 0]) # wavey ribbon evaluated at parametric \"height\" t\n",
    "    arclens = np.linspace(0, 4, 100)\n",
    "    groundTruth = elastic_rods.ElasticRod(np.array([curvyCenterline(s) for s in arclens]))\n",
    "    r = elastic_rods.ElasticRod(np.pad(arclens[:, np.newaxis], [(0, 0), (0, 2)]))\n",
    "\n",
    "    mat = elastic_rods.RodMaterial('rectangle', 200, 0.3, [0.05, 0.01])\n",
    "    r.setMaterial(mat)\n",
    "    groundTruth.setMaterial(mat)\n",
    "\n",
    "    r.setRestKappas(np.array(groundTruth.restKappas()))\n",
    "    r.setRestLengths(groundTruth.restLengths())\n",
    "    return r"
   ]
  },
  {
   "cell_type": "code",
   "execution_count": 21,
   "metadata": {},
   "outputs": [],
   "source": [
    "r = getRod(-1)"
   ]
  },
  {
   "cell_type": "code",
   "execution_count": 22,
   "metadata": {},
   "outputs": [
    {
     "data": {
      "application/vnd.jupyter.widget-view+json": {
       "model_id": "48e4a9cd2d694f0e805ec863c2a7512c",
       "version_major": 2,
       "version_minor": 0
      },
      "text/plain": [
       "Renderer(camera=PerspectiveCamera(children=(PointLight(color='white', intensity=0.6, position=(0.0, 0.0, 5.0),…"
      ]
     },
     "metadata": {},
     "output_type": "display_data"
    }
   ],
   "source": [
    "rv = tri_mesh_viewer.TriMeshViewer(r)\n",
    "rv.show()"
   ]
  },
  {
   "cell_type": "code",
   "execution_count": 23,
   "metadata": {},
   "outputs": [],
   "source": [
    "rv.showWireframe()"
   ]
  },
  {
   "cell_type": "code",
   "execution_count": 24,
   "metadata": {
    "scrolled": true
   },
   "outputs": [],
   "source": [
    "# When the correct rest leng set, we can actually reconstruct the ribbon with just a `compute_equilibrium` call.\n",
    "# # Rerun this until convergence\n",
    "# elastic_rods.compute_equilibrium(r, options=nopts, fixedVars=[0, 1, 2])\n",
    "# rv.update()"
   ]
  },
  {
   "cell_type": "code",
   "execution_count": 25,
   "metadata": {
    "scrolled": true
   },
   "outputs": [
    {
     "name": "stdout",
     "output_type": "stream",
     "text": [
      "0\t0.0199136\t0.217453\t0.217453\t1\t1\n",
      "1\t0.0197913\t0.216811\t0.216811\t1\t1\n",
      "2\t0.019732\t0.216509\t0.216509\t1\t1\n",
      "3\t0.0196184\t0.215953\t0.215953\t1\t1\n",
      "4\t0.0195631\t0.215691\t0.215691\t1\t1\n",
      "5\t0.0194569\t0.215204\t0.215204\t1\t1\n",
      "6\t0.0194051\t0.214974\t0.214974\t1\t1\n",
      "7\t0.0193053\t0.214543\t0.214543\t1\t1\n",
      "8\t0.0192567\t0.214339\t0.214339\t1\t1\n",
      "9\t0.0191626\t0.213956\t0.213956\t1\t1\n",
      "10\t0.0191166\t0.213773\t0.213773\t1\t1\n",
      "11\t0.0190277\t0.21343\t0.21343\t1\t1\n",
      "12\t0.0189842\t0.213266\t0.213266\t1\t1\n",
      "13\t0.0188998\t0.212957\t0.212957\t1\t1\n",
      "14\t0.0188586\t0.212809\t0.212809\t1\t1\n",
      "15\t0.0187784\t0.21253\t0.21253\t1\t1\n",
      "16\t0.0187392\t0.212396\t0.212396\t1\t1\n",
      "17\t0.0186629\t0.212143\t0.212143\t1\t1\n",
      "18\t0.0186256\t0.212022\t0.212022\t1\t1\n",
      "19\t0.0185529\t0.211792\t0.211792\t1\t1\n",
      "20\t0.0185172\t0.211681\t0.211681\t1\t1\n",
      "21\t0.0184478\t0.211472\t0.211472\t1\t1\n",
      "22\t0.0184138\t0.211371\t0.211371\t1\t1\n",
      "23\t0.0183475\t0.21118\t0.21118\t1\t1\n",
      "24\t0.0183149\t0.211088\t0.211088\t1\t1\n",
      "25\t0.0182515\t0.210913\t0.210913\t1\t1\n",
      "26\t0.0182203\t0.210829\t0.210829\t1\t1\n",
      "27\t0.0181595\t0.210668\t0.210668\t1\t1\n",
      "28\t0.0181297\t0.210591\t0.210591\t1\t1\n",
      "29\t0.0180714\t0.210445\t0.210445\t1\t1\n",
      "30\t0.0180428\t0.210374\t0.210374\t1\t1\n",
      "31\t0.0179869\t0.210239\t0.210239\t1\t1\n",
      "32\t0.0179594\t0.210175\t0.210175\t1\t1\n",
      "33\t0.0179057\t0.210051\t0.210051\t1\t1\n",
      "34\t0.0178794\t0.209992\t0.209992\t1\t1\n",
      "35\t0.0178278\t0.209878\t0.209878\t1\t1\n",
      "36\t0.0178025\t0.209823\t0.209823\t1\t1\n",
      "37\t0.0177529\t0.209719\t0.209719\t1\t1\n",
      "38\t0.0177286\t0.209669\t0.209669\t1\t1\n",
      "39\t0.017681\t0.209573\t0.209573\t1\t1\n",
      "40\t0.0176575\t0.209527\t0.209527\t1\t1\n",
      "41\t0.0176117\t0.20944\t0.20944\t1\t1\n",
      "42\t0.0175892\t0.209397\t0.209397\t1\t1\n",
      "43\t0.0175451\t0.209317\t0.209317\t1\t1\n",
      "44\t0.0175234\t0.209278\t0.209278\t1\t1\n",
      "45\t0.0174809\t0.209204\t0.209204\t1\t1\n",
      "46\t0.01746\t0.209169\t0.209169\t1\t1\n",
      "47\t0.0174191\t0.209101\t0.209101\t1\t1\n",
      "48\t0.017399\t0.209068\t0.209068\t1\t1\n",
      "49\t0.0173596\t0.209006\t0.209006\t1\t1\n",
      "50\t0.0173402\t0.208976\t0.208976\t1\t1\n",
      "51\t0.0173022\t0.20892\t0.20892\t1\t1\n",
      "52\t0.0172836\t0.208893\t0.208893\t1\t1\n",
      "53\t0.017247\t0.208841\t0.208841\t1\t1\n",
      "54\t0.0172289\t0.208816\t0.208816\t1\t1\n",
      "55\t0.0171937\t0.208769\t0.208769\t1\t1\n",
      "56\t0.0171763\t0.208746\t0.208746\t1\t1\n",
      "57\t0.0171423\t0.208704\t0.208704\t1\t1\n",
      "58\t0.0171255\t0.208683\t0.208683\t1\t1\n",
      "59\t0.0170927\t0.208644\t0.208644\t1\t1\n",
      "60\t0.0170765\t0.208626\t0.208626\t1\t1\n",
      "61\t0.0170449\t0.208591\t0.208591\t1\t1\n",
      "62\t0.0170293\t0.208574\t0.208574\t1\t1\n",
      "63\t0.0169987\t0.208542\t0.208542\t1\t1\n",
      "64\t0.0169837\t0.208527\t0.208527\t1\t1\n",
      "65\t0.0169542\t0.208499\t0.208499\t1\t1\n",
      "66\t0.0169397\t0.208486\t0.208486\t1\t1\n",
      "67\t0.0169112\t0.20846\t0.20846\t1\t1\n",
      "68\t0.0168972\t0.208448\t0.208448\t1\t1\n",
      "69\t0.0168698\t0.208426\t0.208426\t1\t1\n",
      "70\t0.0168562\t0.208415\t0.208415\t1\t1\n",
      "71\t0.0168297\t0.208396\t0.208396\t1\t1\n",
      "72\t0.0168166\t0.208386\t0.208386\t1\t1\n",
      "73\t0.016791\t0.208369\t0.208369\t1\t1\n",
      "74\t0.0167784\t0.208361\t0.208361\t1\t1\n",
      "75\t0.0167537\t0.208346\t0.208346\t1\t1\n",
      "76\t0.0167415\t0.208339\t0.208339\t1\t1\n",
      "77\t0.0167176\t0.208327\t0.208327\t1\t1\n",
      "78\t0.0167058\t0.208321\t0.208321\t1\t1\n",
      "79\t0.0166827\t0.20831\t0.20831\t1\t1\n",
      "80\t0.0166713\t0.208305\t0.208305\t1\t1\n",
      "81\t0.016649\t0.208297\t0.208297\t1\t1\n",
      "82\t0.0166381\t0.208293\t0.208293\t1\t1\n",
      "83\t0.0166165\t0.208286\t0.208286\t1\t1\n",
      "84\t0.0166059\t0.208283\t0.208283\t1\t1\n",
      "85\t0.016585\t0.208277\t0.208277\t1\t1\n",
      "86\t0.0165748\t0.208275\t0.208275\t1\t1\n",
      "87\t0.0165546\t0.208271\t0.208271\t1\t1\n",
      "88\t0.0165447\t0.20827\t0.20827\t1\t1\n",
      "89\t0.0165252\t0.208267\t0.208267\t1\t1\n",
      "90\t0.0165156\t0.208267\t0.208267\t1\t1\n",
      "91\t0.0164968\t0.208266\t0.208266\t1\t1\n",
      "92\t0.0164875\t0.208265\t0.208265\t1\t1\n",
      "93\t0.0164693\t0.208266\t0.208266\t1\t1\n",
      "94\t0.0164603\t0.208266\t0.208266\t1\t1\n",
      "95\t0.0164427\t0.208267\t0.208267\t1\t1\n",
      "96\t0.016434\t0.208268\t0.208268\t1\t1\n",
      "97\t0.0164169\t0.208271\t0.208271\t1\t1\n",
      "98\t0.0164085\t0.208272\t0.208272\t1\t1\n",
      "99\t0.016392\t0.208275\t0.208275\t1\t1\n",
      "100\t0.0163839\t0.208277\t0.208277\t1\t1\n"
     ]
    }
   ],
   "source": [
    "E0 = 1\n",
    "l0 = 1\n",
    "\n",
    "r.set_design_parameter_config(True, False)\n",
    "#elastic_rods.restlen_solve(r, options=nopts, fixedVars=[0, 1, 2]) # this seems broken; changes rest curvature even if we tell it not to...\n",
    "firstPoint = [0, 1, 2]\n",
    "lastPoint = list(r.thetaOffset() + np.array([-3, -2, -1]))\n",
    "fv = firstPoint + lastPoint\n",
    "#fv = firstPoint\n",
    "elastic_rods.designParameter_solve(r, options=nopts, fixedVars=fv, smoothing_weight=0, regularization_weight=0, E0=E0, l0=l0) # This doesn't work well either.\n",
    "rv.update()"
   ]
  },
  {
   "cell_type": "code",
   "execution_count": 26,
   "metadata": {},
   "outputs": [],
   "source": [
    "# Compare to ground-truth rod\n",
    "if groundTruth is not None:\n",
    "    import registration\n",
    "    V, F, N = groundTruth.visualizationGeometry()\n",
    "    R, t = registration.register_points(r.visualizationGeometry()[0], V)\n",
    "    V = V @ R.T + t\n",
    "    rv.update(mesh=tri_mesh_viewer.RawMesh(V, F), preserveExisting=True)"
   ]
  }
 ],
 "metadata": {
  "kernelspec": {
   "display_name": "Python 3",
   "language": "python",
   "name": "python3"
  },
  "language_info": {
   "codemirror_mode": {
    "name": "ipython",
    "version": 3
   },
   "file_extension": ".py",
   "mimetype": "text/x-python",
   "name": "python",
   "nbconvert_exporter": "python",
   "pygments_lexer": "ipython3",
   "version": "3.7.9"
  }
 },
 "nbformat": 4,
 "nbformat_minor": 4
}
