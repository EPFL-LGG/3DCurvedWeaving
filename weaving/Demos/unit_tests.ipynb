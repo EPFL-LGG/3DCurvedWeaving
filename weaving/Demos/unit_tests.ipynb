{
 "cells": [
  {
   "cell_type": "code",
   "execution_count": 1,
   "metadata": {},
   "outputs": [],
   "source": [
    "elastic_rods_dir = '../../add_params_elastic_rods/python'\n",
    "weaving_dir = '../'\n",
    "import os.path as osp\n",
    "import sys; sys.path.append(elastic_rods_dir); sys.path.append(weaving_dir)\n",
    "import numpy as np, elastic_rods, linkage_vis\n",
    "import numpy.linalg as la\n",
    "from bending_validation import suppress_stdout as so\n",
    "import matplotlib.pyplot as plt"
   ]
  },
  {
   "cell_type": "code",
   "execution_count": 2,
   "metadata": {},
   "outputs": [],
   "source": [
    "# Reloadable libraries\n",
    "import analysis_helper, ribbon_linkage_helper, mesh_vis, linkage_utils, compute_curve_from_curvature, importlib\n",
    "importlib.reload(analysis_helper)\n",
    "importlib.reload(ribbon_linkage_helper)\n",
    "importlib.reload(mesh_vis)\n",
    "importlib.reload(linkage_utils)\n",
    "importlib.reload(compute_curve_from_curvature)\n",
    "from analysis_helper import (compare_turning_angle,\n",
    "                            is_on_sphere, \n",
    "                            get_distance_to_center_scalar_field, \n",
    "                            plot_curvatures, \n",
    "                            construct_elastic_rod_loop_from_rod_segments, \n",
    "                            concatenate_rod_properties_from_rod_segments, \n",
    "                            compute_min_distance_rigid_transformation)\n",
    "from ribbon_linkage_helper import (initialize_linkage, \n",
    "                                   update_rest_curvature, \n",
    "                                   set_ribbon_linkage)\n",
    "from compute_curve_from_curvature import (match_geo_curvature_and_edge_len,\n",
    "                                          get_curve_from_angle,\n",
    "                                          get_laser_cutting_patter)\n",
    "from linkage_utils import order_segments_by_strips, get_turning_angle_and_length_from_ordered_rods"
   ]
  },
  {
   "cell_type": "markdown",
   "metadata": {},
   "source": [
    "### Test order segments by strips has traced all segments"
   ]
  },
  {
   "cell_type": "code",
   "execution_count": 3,
   "metadata": {},
   "outputs": [],
   "source": [
    "# Squid Parameters\n",
    "default_camera_parameters = ((2.6356424863754238, -0.4503969385962889, 1.3527994896953035),(-0.0537660776573421, 0.07656413210907485, 0.9956569100687859),(0.12136370840743856, -0.04524672040635298, 0.06655322162019965))\n",
    "RIBBON_CS = [0.05, 0.5]\n",
    "ISO_CS = [0.5, 0.5]\n",
    "MODEL_PATH = osp.join(weaving_dir + 'models/squidward_linkage.obj')\n",
    "SUBDIVISION_RESOLUTION = 6\n",
    "with so(): straight_weaver_linkage, straight_weaver_view = initialize_linkage(model_path = MODEL_PATH, cam_param = default_camera_parameters, cross_section = RIBBON_CS, subdivision_res = SUBDIVISION_RESOLUTION)\n",
    "strips = order_segments_by_strips(straight_weaver_linkage)\n",
    "total_num_edges = sum([len(strip) for strip in strips])\n",
    "assert(total_num_edges == straight_weaver_linkage.numSegments())"
   ]
  },
  {
   "cell_type": "markdown",
   "metadata": {},
   "source": [
    "### Test compute laser cutting pattern from sphere linkage"
   ]
  },
  {
   "cell_type": "code",
   "execution_count": 4,
   "metadata": {},
   "outputs": [
    {
     "data": {
      "image/png": "[encoded data removed]",
      "text/plain": [
       "<Figure size 432x288 with 1 Axes>"
      ]
     },
     "metadata": {
      "needs_background": "light"
     },
     "output_type": "display_data"
    }
   ],
   "source": [
    "# Ground truth result for the sphere linkage\n",
    "pattern = np.load('ground_truth_sphere_laser_cutting_pattern.npz')\n",
    "top_x = pattern['top_x']\n",
    "top_y = pattern['top_y']\n",
    "bottom_x = pattern['bottom_x']\n",
    "bottom_y = pattern['bottom_y']\n",
    "joints_xs = pattern['joints_xs']\n",
    "joints_ys = pattern['joints_ys']\n",
    "f = plt.figure(1)\n",
    "ax = f.add_subplot(1,1,1)\n",
    "plt.gcf().subplots_adjust(0,0,1,1)\n",
    "ax.set_aspect('equal')\n",
    "ax.axis('off')\n",
    "plt.plot(top_x, top_y, '-', label='shifted up', linewidth = 0.1)\n",
    "plt.plot(bottom_x, bottom_y, '-', label='shifted down', linewidth = 0.1)\n",
    "plt.scatter(joints_xs, joints_ys, s = 0.3, facecolors='none', edgecolors='black')\n",
    "plt.show()"
   ]
  },
  {
   "cell_type": "code",
   "execution_count": 5,
   "metadata": {},
   "outputs": [
    {
     "data": {
      "image/png": "[encoded data removed]",
      "text/plain": [
       "<Figure size 432x288 with 1 Axes>"
      ]
     },
     "metadata": {
      "needs_background": "light"
     },
     "output_type": "display_data"
    },
    {
     "data": {
      "image/png": "[encoded data removed]",
      "text/plain": [
       "<Figure size 432x288 with 1 Axes>"
      ]
     },
     "metadata": {
      "needs_background": "light"
     },
     "output_type": "display_data"
    }
   ],
   "source": [
    "# Current result for the sphere linkage\n",
    "linkage_descriptions = np.load('free_linkage_strip_angle_edge_len.npz')\n",
    "strips = linkage_descriptions['strips']\n",
    "all_strip_angle = linkage_descriptions['all_strip_angle']\n",
    "all_strip_edge_len = linkage_descriptions['all_strip_edge_len']\n",
    "top_x, top_y, bottom_x, bottom_y, joints_xs, joints_ys = get_laser_cutting_patter(strips, all_strip_angle, all_strip_edge_len)"
   ]
  },
  {
   "cell_type": "code",
   "execution_count": null,
   "metadata": {},
   "outputs": [],
   "source": []
  }
 ],
 "metadata": {
  "kernelspec": {
   "display_name": "Python 3",
   "language": "python",
   "name": "python3"
  },
  "language_info": {
   "codemirror_mode": {
    "name": "ipython",
    "version": 3
   },
   "file_extension": ".py",
   "mimetype": "text/x-python",
   "name": "python",
   "nbconvert_exporter": "python",
   "pygments_lexer": "ipython3",
   "version": "3.7.4"
  }
 },
 "nbformat": 4,
 "nbformat_minor": 4
}
