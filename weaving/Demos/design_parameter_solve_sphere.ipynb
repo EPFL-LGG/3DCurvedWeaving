{
 "cells": [
  {
   "cell_type": "code",
   "execution_count": 2,
   "metadata": {},
   "outputs": [],
   "source": [
    "elastic_rods_dir = '../../../add_params_elastic_rods/python'\n",
    "weaving_dir = '../'\n",
    "import os.path as osp\n",
    "import sys; sys.path.append(elastic_rods_dir); sys.path.append(weaving_dir)\n",
    "import numpy as np, elastic_rods, linkage_vis\n",
    "import numpy.linalg as la\n",
    "from bending_validation import suppress_stdout as so\n",
    "import matplotlib.pyplot as plt\n",
    "import copy"
   ]
  },
  {
   "cell_type": "code",
   "execution_count": 3,
   "metadata": {},
   "outputs": [],
   "source": [
    "# Reloadable libraries\n",
    "import analysis_helper, mesh_vis, linkage_utils, compute_curve_from_curvature, importlib\n",
    "importlib.reload(analysis_helper)\n",
    "importlib.reload(mesh_vis)\n",
    "importlib.reload(linkage_utils)\n",
    "importlib.reload(compute_curve_from_curvature)\n",
    "from analysis_helper import (compare_turning_angle,\n",
    "                            is_on_sphere, \n",
    "                            get_distance_to_center_scalar_field, \n",
    "                            plot_curvatures, \n",
    "                            get_curvature_scalar_field,\n",
    "                            construct_elastic_rod_loop_from_rod_segments, \n",
    "                            concatenate_rod_properties_from_rod_segments, \n",
    "                            compute_min_distance_rigid_transformation)\n",
    "from ribbon_linkage_helper import (initialize_linkage, \n",
    "                                   update_rest_curvature, \n",
    "                                   set_ribbon_linkage,\n",
    "                                   export_linkage_geometry_to_obj)\n",
    "from compute_curve_from_curvature import (match_geo_curvature_and_edge_len, get_all_curve_pattern)\n",
    "from linkage_utils import order_segments_by_ribbons, get_turning_angle_and_length_from_ordered_rods"
   ]
  },
  {
   "cell_type": "code",
   "execution_count": 4,
   "metadata": {},
   "outputs": [],
   "source": [
    "# Sphere Parameters\n",
    "default_camera_parameters = ((3.466009282140468, -4.674139805388271, -2.556131049738206), (-0.21402574298422497, -0.06407538766530313, -0.9747681088523519),(0.1111, 0.1865, 0.5316))\n",
    "RIBBON_CS = [1, 10]\n",
    "ISO_CS = [4, 4]\n",
    "MODEL_PATH = osp.join(weaving_dir + 'models/equal_edge_atI.obj')\n",
    "MODEL_NAME = \"equal_edge_atI\"\n",
    "SUBDIVISION_RESOLUTION = 40\n",
    "REGULARIZATION_WEIGHT = 0.05\n",
    "RIBBON_NAME = 'sphere_ribbon'"
   ]
  },
  {
   "cell_type": "code",
   "execution_count": 5,
   "metadata": {},
   "outputs": [],
   "source": [
    "# # Ellipsoidal Parameters\n",
    "# default_camera_parameters = ((3.466009282140468, -4.674139805388271, -2.556131049738206), (-0.21402574298422497, -0.06407538766530313, -0.9747681088523519),(0.1111, 0.1865, 0.5316))\n",
    "# RIBBON_CS = [1, 10]\n",
    "# ISO_CS = [4, 4]\n",
    "# MODEL_PATH = osp.join(weaving_dir + 'models/ellipsoidal_from_equal_edge_atI.obj')\n",
    "# MODEL_NAME = 'ellipsoidal_from_equal_edge_atI'\n",
    "# SUBDIVISION_RESOLUTION = 20\n",
    "# REGULARIZATION_WEIGHT = 0.1"
   ]
  },
  {
   "cell_type": "code",
   "execution_count": 6,
   "metadata": {},
   "outputs": [],
   "source": [
    "# # Torus Parameters\n",
    "# default_camera_parameters = ((3.466009282140468, -4.674139805388271, -2.556131049738206), (-0.21402574298422497, -0.06407538766530313, -0.9747681088523519),(0.1111, 0.1865, 0.5316))\n",
    "# RIBBON_CS = [0.1, 3]\n",
    "# ISO_CS = [1, 1]\n",
    "# MODEL_PATH = osp.join(weaving_dir + 'models/tri_hex_torus_linkage.obj')\n",
    "# SUBDIVISION_RESOLUTION = 10"
   ]
  },
  {
   "cell_type": "code",
   "execution_count": 7,
   "metadata": {},
   "outputs": [],
   "source": [
    "# # Free form Florin 1 Parameters\n",
    "# default_camera_parameters = ((3.466009282140468, -4.674139805388271, -2.556131049738206), (-0.21402574298422497, -0.06407538766530313, -0.9747681088523519),(0.1111, 0.1865, 0.5316))\n",
    "# RIBBON_CS = [10, 60]\n",
    "# ISO_CS = [1, 1]\n",
    "# MODEL_PATH = osp.join(weaving_dir + 'models/centered_free_form_1.obj')\n",
    "# MODEL_NAME = \"freeform_1\"\n",
    "# SUBDIVISION_RESOLUTION = 10\n",
    "# REGULARIZATION_WEIGHT = 100"
   ]
  },
  {
   "cell_type": "code",
   "execution_count": 8,
   "metadata": {},
   "outputs": [],
   "source": [
    "# # Free form Florin 2 Parameters\n",
    "# default_camera_parameters = ((3.466009282140468, -4.674139805388271, -2.556131049738206), (-0.21402574298422497, -0.06407538766530313, -0.9747681088523519),(0.1111, 0.1865, 0.5316))\n",
    "# RIBBON_CS = [10, 100]\n",
    "# ISO_CS = [1, 1]\n",
    "# MODEL_NAME = \"freeform_2\"\n",
    "# MODEL_PATH = osp.join(weaving_dir + 'models/{}.obj'.format(MODEL_NAME))\n",
    "# SUBDIVISION_RESOLUTION = 20\n",
    "# REGULARIZATION_WEIGHT = 10"
   ]
  },
  {
   "cell_type": "code",
   "execution_count": 9,
   "metadata": {},
   "outputs": [],
   "source": [
    "# # Free form Florin 3 Parameters\n",
    "# default_camera_parameters = ((3.466009282140468, -4.674139805388271, -2.556131049738206), (-0.21402574298422497, -0.06407538766530313, -0.9747681088523519),(0.1111, 0.1865, 0.5316))\n",
    "# RIBBON_CS = [10, 100]\n",
    "# ISO_CS = [1, 1]\n",
    "# MODEL_NAME = \"freeform_3\"\n",
    "# MODEL_PATH = osp.join(weaving_dir + 'models/{}.obj'.format(MODEL_NAME))\n",
    "# SUBDIVISION_RESOLUTION = 20\n",
    "# REGULARIZATION_WEIGHT = 10"
   ]
  },
  {
   "cell_type": "code",
   "execution_count": 10,
   "metadata": {},
   "outputs": [],
   "source": [
    "# # Pseudosphere\n",
    "# default_camera_parameters = ((3.466009282140468, -4.674139805388271, -2.556131049738206), (-0.21402574298422497, -0.06407538766530313, -0.9747681088523519),(0.1111, 0.1865, 0.5316))\n",
    "# RIBBON_CS = [0.001, 0.01]\n",
    "# ISO_CS = [1, 1]\n",
    "# MODEL_NAME = \"pseudo_sphere\"\n",
    "# MODEL_PATH = osp.join(weaving_dir + 'models/{}.obj'.format(MODEL_NAME))\n",
    "# SUBDIVISION_RESOLUTION = 20\n",
    "# REGULARIZATION_WEIGHT = 0.0001"
   ]
  },
  {
   "cell_type": "code",
   "execution_count": 11,
   "metadata": {},
   "outputs": [],
   "source": [
    "# Sphere to simple hemoglobin sequence\n",
    "default_camera_parameters = ((3.466009282140468, -4.674139805388271, -2.556131049738206), (-0.21402574298422497, -0.06407538766530313, -0.9747681088523519),(0.1111, 0.1865, 0.5316))\n",
    "RIBBON_CS = [0.01, 0.25]\n",
    "ISO_CS = [0.04, 0.04]\n",
    "MODEL_PATH = osp.join(weaving_dir + 'models/simple_sphere_to_hemoglobin/5.obj')\n",
    "SUBDIVISION_RESOLUTION = 20\n",
    "REGULARIZATION_WEIGHT = 0.0\n",
    "MODEL_NAME = './results/simple_sphere_to_hemoglobin'"
   ]
  },
  {
   "cell_type": "code",
   "execution_count": 12,
   "metadata": {},
   "outputs": [],
   "source": [
    "def initialize_linkage(cross_section = ISO_CS, subdivision_res = SUBDIVISION_RESOLUTION, model_path = MODEL_PATH, cam_param = default_camera_parameters, regularization_weight = 0.1):\n",
    "    l = elastic_rods.RodLinkage(model_path, subdivision_res, False)\n",
    "    driver=l.centralJoint()\n",
    "    l.setMaterial(elastic_rods.RodMaterial('rectangle', 2000, 0.3, cross_section, stiffAxis=elastic_rods.StiffAxis.D1))\n",
    "    l.set_design_parameter_config(use_restLen = True, use_restKappa = True)\n",
    "    elastic_rods.designParameter_solve(l, regularization_weight = regularization_weight)\n",
    "    jdo = l.dofOffsetForJoint(driver)\n",
    "    fixedVars = list(range(jdo, jdo + 6)) # fix rigid motion for a single joint\n",
    "    elastic_rods.compute_equilibrium(l, fixedVars=fixedVars)\n",
    "    elastic_rods.compute_equilibrium(l, fixedVars=fixedVars)\n",
    "    elastic_rods.compute_equilibrium(l, fixedVars=fixedVars)\n",
    "    view = linkage_vis.LinkageViewer(l, width=1024, height=640)\n",
    "    view.setCameraParams(cam_param)\n",
    "    return l, view"
   ]
  },
  {
   "cell_type": "code",
   "execution_count": 13,
   "metadata": {},
   "outputs": [],
   "source": [
    "def compare_straight_and_curved_linkage(cross_section = ISO_CS, subdivision_res = SUBDIVISION_RESOLUTION, model_path = MODEL_PATH, cam_param = default_camera_parameters, regularization_weight = 0.1):\n",
    "    l = elastic_rods.RodLinkage(model_path, subdivision_res, False)\n",
    "    driver=l.centralJoint()\n",
    "    l.set_design_parameter_config(use_restLen = True, use_restKappa = False)\n",
    "    l.setMaterial(elastic_rods.RodMaterial('rectangle', 2000, 0.3, cross_section, stiffAxis=elastic_rods.StiffAxis.D1))\n",
    "    save_DoFs = l.getDoFs()\n",
    "    elastic_rods.designParameter_solve(l, regularization_weight = regularization_weight)\n",
    "    jdo = l.dofOffsetForJoint(driver)\n",
    "    fixedVars = list(range(jdo, jdo + 6)) # fix rigid motion for a single joint\n",
    "    elastic_rods.compute_equilibrium(l, fixedVars=fixedVars)\n",
    "    view = linkage_vis.LinkageViewer(l, width=1024, height=640)\n",
    "    view.setCameraParams(cam_param)\n",
    "#     Reset the centerline position to before design parameter solve and compute equilibrium\n",
    "    l.setDoFs(save_DoFs)\n",
    "    l.set_design_parameter_config(use_restLen = True, use_restKappa = True)\n",
    "    elastic_rods.designParameter_solve(l, regularization_weight = regularization_weight)\n",
    "    jdo = l.dofOffsetForJoint(driver)\n",
    "    fixedVars = list(range(jdo, jdo + 6)) # fix rigid motion for a single joint\n",
    "    elastic_rods.compute_equilibrium(l, fixedVars=fixedVars)\n",
    "    view.update(preserveExisting=True)\n",
    "    return l, view"
   ]
  },
  {
   "cell_type": "markdown",
   "metadata": {},
   "source": [
    "## Energy over regularization weight"
   ]
  },
  {
   "cell_type": "code",
   "execution_count": 14,
   "metadata": {},
   "outputs": [],
   "source": [
    "# energy_list = []\n",
    "# energy_bend_list = []\n",
    "# energy_twist_list = []\n",
    "# energy_stretch_list = []\n",
    "# weight_list = np.logspace(-5, -1, num = 40)\n",
    "# for weight in weight_list:\n",
    "#     with so(): linkage, view = initialize_linkage(model_path = MODEL_PATH, cam_param = default_camera_parameters, cross_section = RIBBON_CS, subdivision_res = SUBDIVISION_RESOLUTION, regularization_weight = weight)\n",
    "#     energy_list.append(linkage.energy())\n",
    "#     energy_bend_list.append(linkage.energyBend())\n",
    "#     energy_twist_list.append(linkage.energyTwist())\n",
    "#     energy_stretch_list.append(linkage.energyStretch())\n",
    "# #     print('Weight: {}, energy: {}, bending energy: {}, twisting energy: {}, stretching energy: {}'.format(weight, linkage.energy(), linkage.energyBend(), linkage.energyTwist(), linkage.energyStretch()))"
   ]
  },
  {
   "cell_type": "code",
   "execution_count": 15,
   "metadata": {},
   "outputs": [],
   "source": [
    "# x_labels = [str(np.around(i, decimals=3)) for i in weight_list]\n",
    "\n",
    "# energy_data = [energy_list, energy_bend_list, energy_twist_list, energy_stretch_list]\n",
    "# energy_label = ['full energy', 'bending energy', 'twisting energy', 'stretching energy']\n",
    "\n",
    "# fig = plt.figure(figsize=(16, 12))\n",
    "# for i in range(len(energy_data)):\n",
    "#     plt.subplot(2, 2, i + 1)\n",
    "#     plt.plot(weight_list, energy_data[i])\n",
    "#     plt.grid()\n",
    "#     plt.xlabel(r'$\\mu$', fontsize=18)\n",
    "#     plt.ylabel(energy_label[i], fontsize=16)\n",
    "# plt.savefig('energy_over_weight.png', dpi = 300)\n",
    "# plt.show()\n"
   ]
  },
  {
   "cell_type": "code",
   "execution_count": 16,
   "metadata": {},
   "outputs": [
    {
     "data": {
      "application/vnd.jupyter.widget-view+json": {
       "model_id": "f42f033de6b54062b0c6c9dacbe2e07b",
       "version_major": 2,
       "version_minor": 0
      },
      "text/plain": [
       "Renderer(camera=PerspectiveCamera(aspect=1.6, children=(PointLight(color='white', intensity=0.6, position=(0.0…"
      ]
     },
     "metadata": {},
     "output_type": "display_data"
    }
   ],
   "source": [
    "with so(): linkage, view = initialize_linkage(model_path = MODEL_PATH, cam_param = default_camera_parameters, cross_section = RIBBON_CS, subdivision_res = SUBDIVISION_RESOLUTION, regularization_weight = 0)\n",
    "export_linkage_geometry_to_obj(linkage, '{}_straight_linkage.obj'.format(MODEL_NAME))\n",
    "view.show()"
   ]
  },
  {
   "cell_type": "code",
   "execution_count": 22,
   "metadata": {},
   "outputs": [],
   "source": [
    "# with so(): elastic_rods.designParameter_solve(linkage, regularization_weight = 0)\n",
    "# view.update()\n"
   ]
  },
  {
   "cell_type": "code",
   "execution_count": 23,
   "metadata": {},
   "outputs": [
    {
     "data": {
      "text/plain": [
       "121.23068877563996"
      ]
     },
     "execution_count": 23,
     "metadata": {},
     "output_type": "execute_result"
    }
   ],
   "source": [
    "la.norm(linkage.gradient())"
   ]
  },
  {
   "cell_type": "code",
   "execution_count": 102,
   "metadata": {},
   "outputs": [],
   "source": [
    "joint_vector_field = [np.array([frame.d2 for frame in s.rod.deformedConfiguration().materialFrame]) for s in linkage.segments()]\n",
    "# joint_vector_field[seg_index][0] = linkage.segment(seg_index).rod.deformedConfiguration().materialFrame[0].d2\n",
    "# single_rod_view_compare.update(vectorField=joint_vector_field)\n",
    "view.update(vectorField=joint_vector_field)"
   ]
  },
  {
   "cell_type": "code",
   "execution_count": 93,
   "metadata": {},
   "outputs": [],
   "source": [
    "# with so(): compare_linkage, compare_view = compare_straight_and_curved_linkage(model_path = MODEL_PATH, cam_param = default_camera_parameters, cross_section = RIBBON_CS, subdivision_res = SUBDIVISION_RESOLUTION, regularization_weight = REGULARIZATION_WEIGHT)\n",
    "# compare_view.show()"
   ]
  },
  {
   "cell_type": "code",
   "execution_count": 17,
   "metadata": {},
   "outputs": [],
   "source": [
    "# export_linkage_geometry_to_obj(compare_linkage, '{}_curve_linkage.obj'.format(MODEL_NAME))"
   ]
  },
  {
   "cell_type": "code",
   "execution_count": 18,
   "metadata": {},
   "outputs": [],
   "source": [
    "# view.update(scalarField=get_distance_to_center_scalar_field(linkage))"
   ]
  },
  {
   "cell_type": "code",
   "execution_count": 19,
   "metadata": {},
   "outputs": [],
   "source": [
    "# view.update()"
   ]
  },
  {
   "cell_type": "code",
   "execution_count": 20,
   "metadata": {},
   "outputs": [],
   "source": [
    "# view.setCameraParams(((-0.13138056394948128, -3.152763814233398, -1.9994317571794773),\n",
    "#  (-0.09997242946411881, 0.24690921744447294, -0.9639122842292203),\n",
    "#  (0.1111, 0.1865, 0.5316)))"
   ]
  },
  {
   "cell_type": "markdown",
   "metadata": {},
   "source": [
    "#### Distance from linkage geometry to the sphere"
   ]
  },
  {
   "cell_type": "code",
   "execution_count": 21,
   "metadata": {},
   "outputs": [],
   "source": [
    "# geometry_points = view.getVisualizationGeometry()[0]\n",
    "# vertices = np.array(geometry_points)\n",
    "# average_point = np.sum(vertices, axis=0) / vertices.shape[0]\n",
    "# distances = np.array([la.norm(vx - average_point) for vx in geometry_points])\n",
    "# mean = np.mean(distances)\n",
    "# std = np.std(distances)\n",
    "# print(mean, std)"
   ]
  },
  {
   "cell_type": "markdown",
   "metadata": {},
   "source": [
    "#### Check linkage normal compared with surface normal"
   ]
  },
  {
   "cell_type": "code",
   "execution_count": 22,
   "metadata": {},
   "outputs": [],
   "source": [
    "# vertices = []\n",
    "# for i in range(linkage.numSegments()):\n",
    "#     vertices.extend(linkage.segment(i).rod.deformedPoints())\n",
    "# vertices = np.array(vertices)\n",
    "# average_point = np.sum(vertices, axis=0) / vertices.shape[0]\n",
    "# print(average_point)\n",
    "# # print(len(df.materialFrame))\n",
    "# # print(len(r.deformedPoints()))\n",
    "# dot_products = []\n",
    "# for si in range(linkage.numSegments()):\n",
    "#     r = linkage.segment(si).rod\n",
    "#     df = r.deformedConfiguration()\n",
    "#     for i in range(len(r.deformedPoints()) - 1):\n",
    "#         normal = r.deformedPoints()[i] - average_point\n",
    "#         axis = df.materialFrame[i].d2\n",
    "#         dot_products.append(np.dot(normal, axis) / la.norm(normal) / la.norm(axis))\n",
    "# dot_products = np.array(dot_products)\n",
    "# print(np.mean(dot_products), np.std(dot_products))"
   ]
  },
  {
   "cell_type": "code",
   "execution_count": 23,
   "metadata": {},
   "outputs": [],
   "source": [
    "# energy_over_resolution = []\n",
    "# for i in range(10)[1:]:\n",
    "#     with so(): linkage, _ = initialize_linkage(model_path = MODEL_PATH, cam_param = default_camera_parameters, cross_section = RIBBON_CS, subdivision_res = i * 10)\n",
    "#     print(linkage.energy())\n",
    "#     energy_over_resolution.append(linkage.energy())\n",
    "# # straight_weaver_view.update(scalarField=get_distance_to_center_scalar_field(pentagon_linkage))"
   ]
  },
  {
   "cell_type": "code",
   "execution_count": 24,
   "metadata": {},
   "outputs": [],
   "source": [
    "# f = plt.figure(1, figsize=(8,6))\n",
    "# ax = f.add_subplot(1,1,1)\n",
    "# plt.plot(energy_over_resolution)\n",
    "# x_labels = [str(i * 10) for i in range(10)[:]]\n",
    "# ax.set_xticklabels(x_labels)\n",
    "# plt.xlabel('number of edges per rod segment', fontsize=18)\n",
    "# plt.ylabel('energy of the linkage', fontsize=16)\n",
    "# plt.savefig('energy_over_resolution.png', dpi = 200)\n",
    "# plt.show()"
   ]
  },
  {
   "cell_type": "markdown",
   "metadata": {},
   "source": [
    "## Visualize rest state of the strips"
   ]
  },
  {
   "cell_type": "code",
   "execution_count": 9,
   "metadata": {},
   "outputs": [
    {
     "name": "stdout",
     "output_type": "stream",
     "text": [
      "0 180\n",
      "10\n"
     ]
    }
   ],
   "source": [
    "strips = order_segments_by_strips(linkage)\n",
    "ring_count = 0\n",
    "total_num_edges = 0\n",
    "for strip in strips:\n",
    "    if len(strip) == 22:\n",
    "        ring_count += 1\n",
    "    total_num_edges += len(strip)\n",
    "print(ring_count, total_num_edges)\n",
    "all_strip_angle, all_strip_edge_len, all_strip_num_seg, _, _ = get_turning_angle_and_length_from_ordered_rods(strips, linkage, rest = False)\n",
    "print(len(all_strip_angle))\n",
    "# # Visualize all strips\n",
    "# for i in range(len(all_strip_angle)):\n",
    "# #     if len(strips[i]) == 26:\n",
    "# #         print(i)\n",
    "# #     plot_curvatures(original = all_strip_angle[i], original_lengths = all_strip_edge_len[i])\n",
    "#     xs, ys = get_curve_from_angle(all_strip_angle[i], all_strip_edge_len[i])"
   ]
  },
  {
   "cell_type": "markdown",
   "metadata": {},
   "source": [
    "## Simulate a Single Weaver from the Linkage"
   ]
  },
  {
   "cell_type": "code",
   "execution_count": 26,
   "metadata": {},
   "outputs": [
    {
     "name": "stdout",
     "output_type": "stream",
     "text": [
      "1427.184440344572\n"
     ]
    }
   ],
   "source": [
    "new_rod, fixedVars = construct_elastic_rod_loop_from_rod_segments(linkage, strips[0])\n",
    "# Set the material of the new rod to be the same as previously.\n",
    "new_rod.setMaterial(elastic_rods.RodMaterial('rectangle', 2000, 0.3, RIBBON_CS, stiffAxis=elastic_rods.StiffAxis.D1))\n",
    "single_rod_view = linkage_vis.LinkageViewer(new_rod, width=1024, height=640)\n",
    "input_geometry = new_rod.visualizationGeometry()\n",
    "with so():\n",
    "#     elastic_rods.restlen_solve(new_rod, fixedVars=fixedVars)\n",
    "    elastic_rods.compute_equilibrium(new_rod, fixedVars=fixedVars)\n",
    "equilibrium_geometry = new_rod.visualizationGeometry()\n",
    "transformed_input, translation, rotation_matrix = compute_min_distance_rigid_transformation(input_geometry[0], equilibrium_geometry[0])"
   ]
  },
  {
   "cell_type": "code",
   "execution_count": 27,
   "metadata": {},
   "outputs": [
    {
     "data": {
      "application/vnd.jupyter.widget-view+json": {
       "model_id": "1b14eba58bdc45058e610689ee5f186d",
       "version_major": 2,
       "version_minor": 0
      },
      "text/plain": [
       "Renderer(camera=PerspectiveCamera(aspect=1.6, children=(PointLight(color='white', intensity=0.6, position=(0.0…"
      ]
     },
     "metadata": {},
     "output_type": "display_data"
    }
   ],
   "source": [
    "# Visualize the rod before and after compute_equilibrium\n",
    "single_rod_view.setCameraParams(((1.05450882771129, 7.287009503819234, 2.957672835105194),\n",
    " (0.9580654988392718, 0.23048020547731662, 0.1705136792664614),\n",
    " (0.1111, 0.1865, 0.5316)))\n",
    "# single_rod_view.update(scalarField=deviations)\n",
    "# single_rod_view.update(scalarField = new_rod.gradient()[-new_rod.numEdges():])\n",
    "# single_rod_view.update(preserveExisting=True)\n",
    "# plt.plot(new_rod.gradient()[-new_rod.numEdges():])\n",
    "# single_rod_view.update(vectorField=[director.d1 for director in new_rod.deformedConfiguration().materialFrame])\n",
    "# single_rod_view.update(vectorField=np.reshape(new_rod.gradient()[0:3*new_rod.numVertices()], (new_rod.numVertices(), 3)))\n",
    "single_rod_view.show()"
   ]
  },
  {
   "cell_type": "code",
   "execution_count": 28,
   "metadata": {},
   "outputs": [],
   "source": [
    "# single_rod_view.getCameraParams()"
   ]
  },
  {
   "cell_type": "code",
   "execution_count": 29,
   "metadata": {},
   "outputs": [
    {
     "name": "stdout",
     "output_type": "stream",
     "text": [
      "Mean edge length: 635.3800667843827, std: 0.0, total rest length: 635.3800667843827\n"
     ]
    }
   ],
   "source": [
    "rest_lengths = new_rod.totalRestLength()\n",
    "print('Mean edge length: {}, std: {}, total rest length: {}'.format(np.mean(rest_lengths), np.std(rest_lengths), new_rod.totalRestLength()))"
   ]
  },
  {
   "cell_type": "code",
   "execution_count": 30,
   "metadata": {},
   "outputs": [
    {
     "data": {
      "application/vnd.jupyter.widget-view+json": {
       "model_id": "05c48a6d8a414745b2cbfffcabf2d089",
       "version_major": 2,
       "version_minor": 0
      },
      "text/plain": [
       "Renderer(camera=PerspectiveCamera(children=(PointLight(color='white', intensity=0.6, position=(0.0, 0.0, 5.0),…"
      ]
     },
     "metadata": {},
     "output_type": "display_data"
    }
   ],
   "source": [
    "# Visualize the rod after transformed geometry\n",
    "input_viewer, input_mesh = mesh_vis.get_mesh_viewer(*equilibrium_geometry)\n",
    "# input_mesh.updateGeometry(*equilibrium_geometry)\n",
    "# input_viewer.update(preserveExisting=True)\n",
    "input_mesh.updateGeometry(transformed_input, input_geometry[1], input_geometry[2])\n",
    "input_viewer.update(preserveExisting=True)\n",
    "input_viewer.show()"
   ]
  },
  {
   "cell_type": "code",
   "execution_count": 31,
   "metadata": {},
   "outputs": [
    {
     "data": {
      "image/png": "[encoded data removed]",
      "text/plain": [
       "<Figure size 432x288 with 2 Axes>"
      ]
     },
     "metadata": {
      "needs_background": "light"
     },
     "output_type": "display_data"
    },
    {
     "name": "stdout",
     "output_type": "stream",
     "text": [
      "Max deviation:  0.5209376\n"
     ]
    }
   ],
   "source": [
    "fig, axs = plt.subplots(2, 1)\n",
    "# Centerline deviation\n",
    "centerline_deviations = [la.norm(point) for point in np.array(new_rod.deformedPoints()) - np.array(new_rod.restPoints())]\n",
    "axs[0].plot(centerline_deviations)\n",
    "# Geometry deviation\n",
    "geometry_deviations = [la.norm(point) for point in equilibrium_geometry[0] - input_geometry[0]]\n",
    "axs[1].plot(geometry_deviations)\n",
    "# Geometry deviation after registration transformation\n",
    "registration_deviations = [la.norm(point) for point in equilibrium_geometry[0] - transformed_input]\n",
    "axs[1].plot(registration_deviations)\n",
    "plt.show()\n",
    "print('Max deviation: ', np.max(registration_deviations))"
   ]
  },
  {
   "cell_type": "code",
   "execution_count": 32,
   "metadata": {},
   "outputs": [
    {
     "data": {
      "image/png": "[encoded data removed]",
      "text/plain": [
       "<Figure size 432x288 with 1 Axes>"
      ]
     },
     "metadata": {
      "needs_background": "light"
     },
     "output_type": "display_data"
    },
    {
     "name": "stdout",
     "output_type": "stream",
     "text": [
      "number of data point:  342\n",
      "cost:  8.095512719998515\n",
      "fitted function:  5.7311 * sin(0.03 * x + (-2.0666)) + 5.2327\n"
     ]
    },
    {
     "data": {
      "image/png": "[encoded data removed]",
      "text/plain": [
       "<Figure size 576x432 with 1 Axes>"
      ]
     },
     "metadata": {
      "needs_background": "light"
     },
     "output_type": "display_data"
    }
   ],
   "source": [
    "from scipy.optimize import least_squares\n",
    "import numpy as np\n",
    "\n",
    "strips = order_segments_by_strips(linkage)\n",
    "all_strip_angle, all_strip_edge_len, all_strip_num_seg, all_extra_first_edge = get_turning_angle_and_length_from_ordered_rods(strips, linkage, rest = True)\n",
    "xs, ys = get_curve_from_angle(all_strip_angle[0], all_strip_edge_len[0])\n",
    "\n",
    "input_x = xs\n",
    "input_y = ys\n",
    "\n",
    "sine_func = lambda x: x[0] * np.sin( x[1] * input_x + x[2] ) + x[3] - input_y\n",
    "result = least_squares(sine_func, [15, np.pi / 120, -3*np.pi / 12, np.mean(input_y)])\n",
    "sol = result.x\n",
    "\n",
    "plot_x = np.arange(min(input_x),max(input_x),0.1)\n",
    "plot_fitted_y = sol[0]*np.sin(sol[1]*plot_x+sol[2]) + sol[3]\n",
    "\n",
    "\n",
    "print('number of data point: ', len(input_x))\n",
    "print('cost: ', result.cost)\n",
    "print('fitted function: ', '{} * sin({} * x + ({})) + {}'.format(round(sol[0], 4), round(sol[1], 4), round(sol[2], 4), round(sol[3], 4)))\n",
    "f = plt.figure(1, figsize=(8,6))\n",
    "ax = f.add_subplot(1,1,1)\n",
    "plt.plot(input_x, input_y, '.', label='input data')\n",
    "plt.plot(plot_x, plot_fitted_y, label='after fitting')\n",
    "# ax.set_aspect('equal')\n",
    "plt.legend()\n",
    "plt.show()"
   ]
  },
  {
   "cell_type": "markdown",
   "metadata": {},
   "source": [
    "### Get laser cutting pattern"
   ]
  },
  {
   "cell_type": "code",
   "execution_count": 11,
   "metadata": {},
   "outputs": [
    {
     "name": "stderr",
     "output_type": "stream",
     "text": [
      "../compute_curve_from_curvature.py:248: MatplotlibDeprecationWarning: Adding an axes using the same arguments as a previous axes currently reuses the earlier instance.  In a future version, a new instance will always be created and returned.  Meanwhile, this warning can be suppressed, and the future behavior ensured, by passing a unique label to each axes instance.\n",
      "  plt.axes().set_aspect('equal')\n"
     ]
    },
    {
     "data": {
      "image/png": "[encoded data removed]",
      "text/plain": [
       "<Figure size 432x288 with 1 Axes>"
      ]
     },
     "metadata": {
      "needs_background": "light"
     },
     "output_type": "display_data"
    }
   ],
   "source": [
    "get_all_curve_pattern(linkage, RIBBON_CS[1], SUBDIVISION_RESOLUTION, RIBBON_NAME, image_type='png')"
   ]
  },
  {
   "cell_type": "code",
   "execution_count": null,
   "metadata": {},
   "outputs": [],
   "source": []
  }
 ],
 "metadata": {
  "kernelspec": {
   "display_name": "Python 3",
   "language": "python",
   "name": "python3"
  },
  "language_info": {
   "codemirror_mode": {
    "name": "ipython",
    "version": 3
   },
   "file_extension": ".py",
   "mimetype": "text/x-python",
   "name": "python",
   "nbconvert_exporter": "python",
   "pygments_lexer": "ipython3",
   "version": "3.7.5"
  }
 },
 "nbformat": 4,
 "nbformat_minor": 4
}
