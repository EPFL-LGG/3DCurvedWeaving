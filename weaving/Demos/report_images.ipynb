{
 "cells": [
  {
   "cell_type": "code",
   "execution_count": 1,
   "metadata": {},
   "outputs": [],
   "source": [
    "elastic_rods_dir = '../../add_params_elastic_rods/python'\n",
    "weaving_dir = '../'\n",
    "import os.path as osp\n",
    "import sys; sys.path.append(elastic_rods_dir); sys.path.append(weaving_dir)\n",
    "import numpy as np, elastic_rods, linkage_vis\n",
    "import numpy.linalg as la\n",
    "from bending_validation import suppress_stdout as so\n",
    "import matplotlib.pyplot as plt\n",
    "import copy\n",
    "\n",
    "# Reloadable libraries\n",
    "import analysis_helper, ribbon_linkage_helper, mesh_vis, linkage_utils, compute_curve_from_curvature, importlib\n",
    "importlib.reload(analysis_helper)\n",
    "importlib.reload(ribbon_linkage_helper)\n",
    "importlib.reload(mesh_vis)\n",
    "importlib.reload(linkage_utils)\n",
    "importlib.reload(compute_curve_from_curvature)\n",
    "from analysis_helper import (compare_turning_angle,\n",
    "                            is_on_sphere, \n",
    "                            get_distance_to_center_scalar_field, \n",
    "                            plot_curvatures, \n",
    "                            construct_elastic_rod_loop_from_rod_segments, \n",
    "                            concatenate_rod_properties_from_rod_segments, \n",
    "                            compute_min_distance_rigid_transformation)\n",
    "from ribbon_linkage_helper import (initialize_linkage, \n",
    "                                   update_rest_curvature, \n",
    "                                   set_ribbon_linkage,\n",
    "                                   export_linkage_geometry_to_obj)\n",
    "from compute_curve_from_curvature import (match_geo_curvature_and_edge_len,\n",
    "                                          get_curve_from_angle,\n",
    "                                          get_laser_cutting_patter)\n",
    "from linkage_utils import order_segments_by_strips, get_turning_angle_and_length_from_ordered_rods"
   ]
  },
  {
   "cell_type": "code",
   "execution_count": 2,
   "metadata": {},
   "outputs": [],
   "source": [
    "# Sphere Parameters\n",
    "default_camera_parameters = ((3.466009282140468, -4.674139805388271, -2.556131049738206), (-0.21402574298422497, -0.06407538766530313, -0.9747681088523519),(0.1111, 0.1865, 0.5316))\n",
    "RIBBON_CS = [1, 10]\n",
    "ISO_CS = [4, 4]\n",
    "MODEL_PATH = osp.join(weaving_dir + 'models/equal_edge_atI.obj')\n",
    "SUBDIVISION_RESOLUTION = 60\n",
    "REGULARIZATION_WEIGHT = 0.05"
   ]
  },
  {
   "cell_type": "code",
   "execution_count": 3,
   "metadata": {},
   "outputs": [],
   "source": [
    "def input_linkage(cross_section = ISO_CS, subdivision_res = SUBDIVISION_RESOLUTION, model_path = MODEL_PATH, cam_param = default_camera_parameters):\n",
    "    l = elastic_rods.RodLinkage(model_path, subdivision_res, False)\n",
    "    driver=l.centralJoint()\n",
    "    l.setMaterial(elastic_rods.RodMaterial('rectangle', 2000, 0.3, cross_section, stiffAxis=elastic_rods.StiffAxis.D1))\n",
    "#     l.set_design_parameter_config(use_restLen = True, use_restKappa = False)\n",
    "#     elastic_rods.designParameter_solve(l, regularization_weight = 0.1)\n",
    "    jdo = l.dofOffsetForJoint(driver)\n",
    "    fixedVars = list(range(jdo, jdo + 6)) # fix rigid motion for a single joint\n",
    "    elastic_rods.compute_equilibrium(l, fixedVars=fixedVars)\n",
    "    view = linkage_vis.LinkageViewer(l, width=1024, height=640)\n",
    "    view.setCameraParams(cam_param)\n",
    "    return l, view"
   ]
  },
  {
   "cell_type": "code",
   "execution_count": 4,
   "metadata": {},
   "outputs": [
    {
     "data": {
      "application/vnd.jupyter.widget-view+json": {
       "model_id": "9759fe54d20f4dfc9f80d94d37765f1d",
       "version_major": 2,
       "version_minor": 0
      },
      "text/plain": [
       "Renderer(camera=PerspectiveCamera(aspect=1.6, children=(PointLight(color='white', intensity=0.6, position=(0.0…"
      ]
     },
     "metadata": {},
     "output_type": "display_data"
    }
   ],
   "source": [
    "with so(): input_weaver_linkage, input_weaver_view = input_linkage(model_path = MODEL_PATH, cam_param = default_camera_parameters, cross_section = RIBBON_CS, subdivision_res = SUBDIVISION_RESOLUTION)\n",
    "# input_weaver_view.update(scalarField=get_distance_to_center_scalar_field(input_weaver_linkage))\n",
    "import vis.fields\n",
    "import matplotlib.cm as cm\n",
    "# sf = vis.fields.ScalarField(input_weaver_linkage, 0.5 * np.ones((input_weaver_linkage.numSegments(), input_weaver_linkage.segment(0).rod.numVertices())), colormap=cm.viridis, vmin = 0, vmax = 1)\n",
    "# input_weaver_view.update(scalarField=sf)\n",
    "\n",
    "\n",
    "input_weaver_view.show()"
   ]
  },
  {
   "cell_type": "code",
   "execution_count": 5,
   "metadata": {},
   "outputs": [
    {
     "data": {
      "application/vnd.jupyter.widget-view+json": {
       "model_id": "0510953aa2d344b3a586b541e99dee1a",
       "version_major": 2,
       "version_minor": 0
      },
      "text/plain": [
       "Renderer(camera=PerspectiveCamera(aspect=1.6, children=(PointLight(color='white', intensity=0.6, position=(0.0…"
      ]
     },
     "metadata": {},
     "output_type": "display_data"
    }
   ],
   "source": [
    "with so(): straight_weaver_linkage, straight_weaver_view = initialize_linkage(model_path = MODEL_PATH, cam_param = default_camera_parameters, cross_section = RIBBON_CS, subdivision_res = SUBDIVISION_RESOLUTION)\n",
    "export_linkage_geometry_to_obj(straight_weaver_linkage, 'sphere_straight.obj')\n",
    "# straight_weaver_view.update(scalarField=sf)\n",
    "\n",
    "straight_weaver_view.show()"
   ]
  },
  {
   "cell_type": "code",
   "execution_count": 6,
   "metadata": {},
   "outputs": [
    {
     "data": {
      "image/png": "[encoded data removed]",
      "text/plain": [
       "<Figure size 432x288 with 1 Axes>"
      ]
     },
     "metadata": {
      "needs_background": "light"
     },
     "output_type": "display_data"
    },
    {
     "data": {
      "application/vnd.jupyter.widget-view+json": {
       "model_id": "c5f4697a7f1d4e63901bdab01070ca5a",
       "version_major": 2,
       "version_minor": 0
      },
      "text/plain": [
       "Renderer(camera=PerspectiveCamera(aspect=1.6, children=(PointLight(color='white', intensity=0.6, position=(0.0…"
      ]
     },
     "metadata": {},
     "output_type": "display_data"
    }
   ],
   "source": [
    "with so(): start_linkage, start_view = initialize_linkage(model_path = MODEL_PATH, cross_section = ISO_CS, subdivision_res=SUBDIVISION_RESOLUTION)\n",
    "compare_turning_angle(start_linkage, esp = 0, remove_zeros = True)\n",
    "# start_view.update(scalarField=sf)\n",
    "start_view.show()"
   ]
  },
  {
   "cell_type": "code",
   "execution_count": 7,
   "metadata": {},
   "outputs": [],
   "source": [
    "curr_linkage = copy.deepcopy(start_linkage)\n",
    "curr_linkage.set_design_parameter_config(use_restLen = True, use_restKappa = False)\n",
    "with so():\n",
    "    for i in range(20):\n",
    "        curr_linkage = update_rest_curvature(curr_linkage)"
   ]
  },
  {
   "cell_type": "code",
   "execution_count": 8,
   "metadata": {},
   "outputs": [
    {
     "data": {
      "application/vnd.jupyter.widget-view+json": {
       "model_id": "60cb0eaff1b744a1bc8ab3a1e2b87c5c",
       "version_major": 2,
       "version_minor": 0
      },
      "text/plain": [
       "Renderer(camera=PerspectiveCamera(aspect=1.6, children=(PointLight(color='white', intensity=0.6, position=(0.0…"
      ]
     },
     "metadata": {},
     "output_type": "display_data"
    }
   ],
   "source": [
    "free_joint_linkage = copy.deepcopy(curr_linkage)\n",
    "free_joint_linkage.setMaterial(elastic_rods.RodMaterial('rectangle', 2000, 0.3, RIBBON_CS, stiffAxis=elastic_rods.StiffAxis.D1))\n",
    "driver=free_joint_linkage.centralJoint()\n",
    "jdo = free_joint_linkage.dofOffsetForJoint(driver)\n",
    "fixedVars = list(range(jdo, jdo + 6)) # fix rigid motion for a single joint\n",
    "with so(): elastic_rods.compute_equilibrium(free_joint_linkage, fixedVars=fixedVars)\n",
    "view = linkage_vis.LinkageViewer(free_joint_linkage, width=1024, height=640)\n",
    "view.setCameraParams(default_camera_parameters)\n",
    "# view.update(scalarField=sf)\n",
    "view.show()"
   ]
  },
  {
   "cell_type": "code",
   "execution_count": 3,
   "metadata": {},
   "outputs": [],
   "source": [
    "def design_parameter_linkage(cross_section = ISO_CS, subdivision_res = SUBDIVISION_RESOLUTION, model_path = MODEL_PATH, cam_param = default_camera_parameters, regularization_weight = 0.1):\n",
    "    l = elastic_rods.RodLinkage(model_path, subdivision_res, False)\n",
    "    driver=l.centralJoint()\n",
    "    l.setMaterial(elastic_rods.RodMaterial('rectangle', 2000, 0.3, cross_section, stiffAxis=elastic_rods.StiffAxis.D1))\n",
    "    l.set_design_parameter_config(use_restLen = True, use_restKappa = True)\n",
    "    elastic_rods.designParameter_solve(l, regularization_weight = regularization_weight)\n",
    "    jdo = l.dofOffsetForJoint(driver)\n",
    "    fixedVars = list(range(jdo, jdo + 6)) # fix rigid motion for a single joint\n",
    "    elastic_rods.compute_equilibrium(l, fixedVars=fixedVars)\n",
    "    view = linkage_vis.LinkageViewer(l, width=1024, height=640)\n",
    "    view.setCameraParams(cam_param)\n",
    "    return l, view"
   ]
  },
  {
   "cell_type": "code",
   "execution_count": 4,
   "metadata": {},
   "outputs": [
    {
     "data": {
      "application/vnd.jupyter.widget-view+json": {
       "model_id": "87eb4af177b447c2a8eefa56773b182a",
       "version_major": 2,
       "version_minor": 0
      },
      "text/plain": [
       "Renderer(camera=PerspectiveCamera(aspect=1.6, children=(PointLight(color='white', intensity=0.6, position=(0.0…"
      ]
     },
     "metadata": {},
     "output_type": "display_data"
    }
   ],
   "source": [
    "with so(): curved_linkage, curved_view = design_parameter_linkage(model_path = MODEL_PATH, cam_param = default_camera_parameters, cross_section = RIBBON_CS, subdivision_res = SUBDIVISION_RESOLUTION, regularization_weight = 0.05)\n",
    "# curved_view.update(scalarField=sf)\n",
    "curved_view.show()"
   ]
  },
  {
   "cell_type": "code",
   "execution_count": 11,
   "metadata": {},
   "outputs": [
    {
     "data": {
      "text/plain": [
       "1.9453680020717185e-06"
      ]
     },
     "execution_count": 11,
     "metadata": {},
     "output_type": "execute_result"
    }
   ],
   "source": [
    "la.norm(curved_linkage.gradient())"
   ]
  },
  {
   "cell_type": "code",
   "execution_count": 12,
   "metadata": {},
   "outputs": [],
   "source": [
    "def full_optimization_linkage(cross_section = ISO_CS, subdivision_res = SUBDIVISION_RESOLUTION, model_path = MODEL_PATH, cam_param = default_camera_parameters, regularization_weight = 0.1):\n",
    "    l = elastic_rods.RodLinkage(model_path, subdivision_res, False)\n",
    "    driver=l.centralJoint()\n",
    "    l.setMaterial(elastic_rods.RodMaterial('rectangle', 2000, 0.3, cross_section, stiffAxis=elastic_rods.StiffAxis.D1))\n",
    "    l.set_design_parameter_config(use_restLen = True, use_restKappa = False)\n",
    "#     elastic_rods.designParameter_solve(l, regularization_weight = regularization_weight)\n",
    "    jdo = l.dofOffsetForJoint(driver)\n",
    "    fixedVars = list(range(jdo, jdo + 6)) # fix rigid motion for a single joint\n",
    "    elastic_rods.compute_equilibrium(l, fixedVars=fixedVars)\n",
    "    view = linkage_vis.LinkageViewer(l, width=1024, height=640)\n",
    "    view.setCameraParams(cam_param)\n",
    "    return l, view"
   ]
  }
 ],
 "metadata": {
  "kernelspec": {
   "display_name": "Python 3",
   "language": "python",
   "name": "python3"
  },
  "language_info": {
   "codemirror_mode": {
    "name": "ipython",
    "version": 3
   },
   "file_extension": ".py",
   "mimetype": "text/x-python",
   "name": "python",
   "nbconvert_exporter": "python",
   "pygments_lexer": "ipython3",
   "version": "3.7.5"
  }
 },
 "nbformat": 4,
 "nbformat_minor": 4
}
