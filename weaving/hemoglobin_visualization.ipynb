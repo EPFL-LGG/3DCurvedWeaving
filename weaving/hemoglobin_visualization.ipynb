{
 "cells": [
  {
   "cell_type": "code",
   "execution_count": null,
   "metadata": {},
   "outputs": [],
   "source": [
    "elastic_rods_dir = '../elastic_rods/python/'\n",
    "weaving_dir = './'\n",
    "import os\n",
    "import os.path as osp\n",
    "import sys; sys.path.append(elastic_rods_dir); sys.path.append(weaving_dir)\n",
    "import numpy as np, elastic_rods, linkage_vis\n",
    "import numpy.linalg as la\n",
    "from bending_validation import suppress_stdout as so\n",
    "import matplotlib.pyplot as plt\n",
    "from elastic_rods import EnergyType, InterleavingType\n",
    "\n",
    "# weaving\n",
    "import analysis_helper, ribbon_linkage_helper, mesh_vis, linkage_utils, compute_curve_from_curvature, pipeline_helper, optimization_visualization_helper, importlib\n",
    "importlib.reload(analysis_helper)\n",
    "importlib.reload(ribbon_linkage_helper)\n",
    "importlib.reload(mesh_vis)\n",
    "importlib.reload(linkage_utils)\n",
    "importlib.reload(compute_curve_from_curvature)\n",
    "importlib.reload(pipeline_helper)\n",
    "importlib.reload(optimization_visualization_helper)\n",
    "from analysis_helper import (compare_turning_angle,\n",
    "                            is_on_sphere, \n",
    "                            get_distance_to_center_scalar_field, \n",
    "                            plot_curvatures, \n",
    "                            get_curvature_scalar_field,\n",
    "                            construct_elastic_rod_loop_from_rod_segments, \n",
    "                            concatenate_rod_properties_from_rod_segments, \n",
    "                            compute_min_distance_rigid_transformation)\n",
    "from ribbon_linkage_helper import (update_rest_curvature, \n",
    "                                   set_ribbon_linkage,\n",
    "                                   export_linkage_geometry_to_obj,\n",
    "                                   write_linkage_ribbon_output_florin)\n",
    "\n",
    "from compute_curve_from_curvature import (match_geo_curvature_and_edge_len, get_all_curve_pattern)\n",
    "from linkage_utils import order_segments_by_ribbons, get_turning_angle_and_length_from_ordered_rods\n",
    "\n",
    "from pipeline_helper import (initialize_linkage, get_normal_deviation, set_joint_vector_field, stage_1_optimization, initialize_stage_2_optimizer, stage_2_optimization, InputOrganizer, write_all_output, set_surface_view_options, get_structure_analysis_view, contact_optimization, get_double_side_view, show_selected_joints, highlight_rod_and_joint, write_distance_to_linkage_mesh, set_design_parameters_from_topology)\n",
    "import vis.fields\n",
    "import matplotlib.cm as cm\n",
    "import time\n",
    "from optimization_visualization_helper import (compute_visualization_data_from_raw_data, get_objective_components_stage1, get_objective_components_stage2, get_objective_components_stage3, set_figure_label_and_limit, Visualization_Setting, plot_objective, plot_ribbon_component_analysis, render_video, combine_three_stage_video)\n"
   ]
  },
  {
   "cell_type": "code",
   "execution_count": null,
   "metadata": {},
   "outputs": [],
   "source": [
    "import parallelism\n",
    "parallelism.set_max_num_tbb_threads(12)\n",
    "parallelism.set_hessian_assembly_num_threads(4)\n",
    "parallelism.set_gradient_assembly_num_threads(4)"
   ]
  },
  {
   "cell_type": "code",
   "execution_count": null,
   "metadata": {},
   "outputs": [],
   "source": [
    "rod_length = 0.21162395234664752\n",
    "width = rod_length / 15 * 5\n",
    "thickness = width / 5 * 0.35\n",
    "print(width, thickness)\n",
    "# width *= 0.5\n",
    "# thickness *= 0.5\n",
    "\n",
    "io = InputOrganizer('simple_hemoglobin_5_1', thickness, width, weaving_dir)\n",
    "#  [ ear 214, ear 255, noseZ 39]"
   ]
  },
  {
   "cell_type": "code",
   "execution_count": null,
   "metadata": {},
   "outputs": [],
   "source": [
    "import py_newton_optimizer\n",
    "OPTS = py_newton_optimizer.NewtonOptimizerOptions()\n",
    "OPTS.gradTol = 1e-8\n",
    "OPTS.verbose = 1;\n",
    "OPTS.beta = 1e-8\n",
    "OPTS.niter = 200\n",
    "OPTS.verboseNonPosDef = False\n",
    "rw = 1\n",
    "sw = 10\n",
    "drw = 0.1\n",
    "dsw = 0.1"
   ]
  },
  {
   "cell_type": "code",
   "execution_count": null,
   "metadata": {},
   "outputs": [],
   "source": [
    "import pickle \n",
    "import gzip"
   ]
  },
  {
   "cell_type": "code",
   "execution_count": null,
   "metadata": {},
   "outputs": [],
   "source": [
    "with so(): curved_linkage = initialize_linkage(surface_path = io.SURFACE_PATH, useCenterline = True, model_path = io.MODEL_PATH, cross_section = io.RIBBON_CS, subdivision_res = io.SUBDIVISION_RESOLUTION)\n",
    "curved_linkage.set_design_parameter_config(use_restLen = True, use_restKappa = True)\n",
    "curved_save_tgt_joint_pos = curved_linkage.jointPositions()\n",
    "curved_linkage_view = linkage_vis.LinkageViewerWithSurface(curved_linkage, io.SURFACE_PATH)\n",
    "set_surface_view_options(curved_linkage_view, linkage_color='lightgreen')\n",
    "curved_linkage_view.show()"
   ]
  },
  {
   "cell_type": "markdown",
   "metadata": {},
   "source": [
    "### Stress Concentration from Pure Geometry"
   ]
  },
  {
   "cell_type": "code",
   "execution_count": null,
   "metadata": {},
   "outputs": [],
   "source": [
    "ribbons = order_segments_by_ribbons(curved_linkage)\n",
    "seg_list = [pair[0] for pair in ribbons[2]]"
   ]
  },
  {
   "cell_type": "code",
   "execution_count": null,
   "metadata": {},
   "outputs": [],
   "source": [
    "def render_stress(filename, rangeMin = None, rangeMax = None):\n",
    "    import vis\n",
    "    from matplotlib import cm\n",
    "\n",
    "    stress = np.array(curved_linkage.maxBendingStresses())\n",
    "#     stress = curved_linkage.twistingStresses()\n",
    "#     for i in range(len(stress)):\n",
    "#         if i not in seg_list:\n",
    "#             stress[i] *= 0\n",
    "    if rangeMin == None:\n",
    "        rangeMin = np.stack(stress).min()\n",
    "    if rangeMax == None:\n",
    "        rangeMax = np.stack(stress).max()\n",
    "    print(rangeMin, rangeMax)\n",
    "    print(np.stack(stress).min(), np.stack(stress).max())\n",
    "    sf = vis.fields.ScalarField(curved_linkage, stress, colormap=cm.plasma, vmin=rangeMin, vmax=rangeMax)\n",
    "    heights = curved_linkage.visualizationGeometryHeightColors()\n",
    "    colors = sf.colors()\n",
    "    \n",
    "    # colors[heights < heights.mean()] = np.ones_like(sf.colors()[heights < heights.mean()]) * 0.5\n",
    "    curved_linkage_view.update(scalarField = colors)\n",
    "\n",
    "    renderCam = np.load('hemoglobin_stress_renderCam.npy')\n",
    "    def renderToFile(path):\n",
    "        orender = curved_linkage_view.offscreenRenderer(width=2048, height=2048)\n",
    "        orender.setCameraParams(renderCam)\n",
    "        orender.render()\n",
    "        orender.save(path)\n",
    "    renderToFile(filename)"
   ]
  },
  {
   "cell_type": "code",
   "execution_count": null,
   "metadata": {},
   "outputs": [],
   "source": [
    "def render_distance(filename):\n",
    "    def renderToFile(view, renderCam, path):\n",
    "        orender = view.offscreenRenderer(width=2048, height=2048)\n",
    "        orender.setCameraParams(renderCam)\n",
    "        orender.render()\n",
    "        orender.save(path)\n",
    "    distance_color = write_distance_to_linkage_mesh(curved_linkage, 0.06418233901454702, None, return_distance_field = True)\n",
    "    curved_linkage_view.update(scalarField = distance_color[:, :3])\n",
    "    renderCam = np.load('hemoglobin_stress_renderCam.npy')\n",
    "    renderToFile(curved_linkage_view, renderCam, filename)"
   ]
  },
  {
   "cell_type": "code",
   "execution_count": null,
   "metadata": {},
   "outputs": [],
   "source": [
    "set_design_parameters_from_topology(curved_linkage, io)"
   ]
  },
  {
   "cell_type": "code",
   "execution_count": null,
   "metadata": {},
   "outputs": [],
   "source": [
    "curved_linkage.attraction_weight = 1e-5\n",
    "def eqm_callback(prob, i):\n",
    "#     pass\n",
    "   curved_linkage_view.update()\n",
    "OPTS.gradTol = 1e-10"
   ]
  },
  {
   "cell_type": "code",
   "execution_count": null,
   "metadata": {},
   "outputs": [],
   "source": [
    "with so(): elastic_rods.compute_equilibrium(curved_linkage, callback = eqm_callback, options = OPTS, fixedVars = curved_linkage.restLenFixedVars())\n",
    "curved_linkage_view.update()"
   ]
  },
  {
   "cell_type": "code",
   "execution_count": null,
   "metadata": {},
   "outputs": [],
   "source": [
    "render_stress('hemoglobin_geometry_fixed_joint.png', rangeMin = 0.08400753876564857, rangeMax = 37.316534657527576)\n",
    "render_distance('hemoglobin_geometry_fixed_joint_dist.png')"
   ]
  },
  {
   "cell_type": "code",
   "execution_count": null,
   "metadata": {},
   "outputs": [],
   "source": [
    "with so(): elastic_rods.compute_equilibrium(curved_linkage, callback = eqm_callback, options = OPTS, fixedVars = [])\n",
    "curved_linkage_view.update()"
   ]
  },
  {
   "cell_type": "code",
   "execution_count": null,
   "metadata": {},
   "outputs": [],
   "source": [
    "render_stress('hemoglobin_geometry_free_joint.png', rangeMin = 0.08400753876564857, rangeMax = 37.316534657527576)\n",
    "render_distance('hemoglobin_geometry_dist.png')"
   ]
  },
  {
   "cell_type": "code",
   "execution_count": null,
   "metadata": {},
   "outputs": [],
   "source": [
    "curved_linkage = pickle.load(gzip.open('mega_monster_optimization_diagram_results/tenth_round/simple_hemoglobin_5_1/simple_hemoglobin_5_1_stage_3.pkl.gz', 'r'))\n",
    "curved_linkage.attraction_weight = 1e-5\n",
    "curved_linkage_view = linkage_vis.LinkageViewerWithSurface(curved_linkage, io.SURFACE_PATH)\n",
    "set_surface_view_options(curved_linkage_view, linkage_color='lightgreen')\n",
    "curved_linkage_view.show()"
   ]
  },
  {
   "cell_type": "code",
   "execution_count": null,
   "metadata": {},
   "outputs": [],
   "source": [
    "with so(): elastic_rods.compute_equilibrium(curved_linkage, callback = eqm_callback, options = OPTS, fixedVars = [])\n",
    "curved_linkage_view.update()"
   ]
  },
  {
   "cell_type": "code",
   "execution_count": null,
   "metadata": {},
   "outputs": [],
   "source": [
    "render_stress('hemoglobin_optimized.png', rangeMin = 0.08400753876564857, rangeMax = 37.316534657527576)\n",
    "render_distance('hemoglobin_optimized_dist.png')"
   ]
  },
  {
   "cell_type": "code",
   "execution_count": null,
   "metadata": {},
   "outputs": [],
   "source": []
  },
  {
   "cell_type": "code",
   "execution_count": null,
   "metadata": {},
   "outputs": [],
   "source": [
    "distance_to_surface = np.array(curved_linkage.get_squared_distance_to_target_surface((curved_linkage.visualizationGeometry()[0]).flatten()))\n",
    "distance_to_surface = np.sqrt(distance_to_surface)"
   ]
  },
  {
   "cell_type": "code",
   "execution_count": null,
   "metadata": {},
   "outputs": [],
   "source": [
    "# renderCam = curved_linkage_view.getCameraParams()\n"
   ]
  },
  {
   "cell_type": "code",
   "execution_count": null,
   "metadata": {},
   "outputs": [],
   "source": [
    "# np.save('hemoglobin_stress_renderCam.npy', renderCam)"
   ]
  },
  {
   "cell_type": "code",
   "execution_count": null,
   "metadata": {},
   "outputs": [],
   "source": [
    "curved_linkage_view.setCameraParams((tuple(renderCam[0]), tuple(renderCam[1]), tuple(renderCam[2])))"
   ]
  },
  {
   "cell_type": "code",
   "execution_count": null,
   "metadata": {},
   "outputs": [],
   "source": [
    "renderCam = np.load('optimization_diagram_results/simple_hemoglobin_5_1/video/renderCam.npy')"
   ]
  },
  {
   "cell_type": "code",
   "execution_count": null,
   "metadata": {},
   "outputs": [],
   "source": [
    "renderCam[0], renderCam[2]"
   ]
  },
  {
   "cell_type": "code",
   "execution_count": null,
   "metadata": {},
   "outputs": [],
   "source": [
    "renderCam"
   ]
  },
  {
   "cell_type": "code",
   "execution_count": null,
   "metadata": {},
   "outputs": [],
   "source": [
    "# render_video(io.MODEL_NAME, 'stage_1', max(io.RIBBON_CS), renderCam)\n",
    "# render_video(io.MODEL_NAME, 'stage_2', max(io.RIBBON_CS), renderCam)\n",
    "# render_video(io.MODEL_NAME, 'stage_3', max(io.RIBBON_CS), renderCam)\n",
    "# combine_three_stage_video(io.MODEL_NAME)"
   ]
  },
  {
   "cell_type": "code",
   "execution_count": null,
   "metadata": {},
   "outputs": [],
   "source": [
    "# iterateData1 = np.load('optimization_diagram_results/simple_hemoglobin_5_1/simple_hemoglobin_5_1_stage_1.npy', allow_pickle=True)\n",
    "# iterateData2 = np.load('optimization_diagram_results/sphere_1/sphere_1_stage_1.npy', allow_pickle=True)\n",
    "# iterateData3 = np.load('optimization_diagram_results/simple_hemoglobin_5_1/simple_hemoglobin_5_1_stage_3.npy', allow_pickle=True)"
   ]
  },
  {
   "cell_type": "code",
   "execution_count": null,
   "metadata": {},
   "outputs": [],
   "source": [
    "# sum([data_point['iteration_time'] for data_point in iterateData1])"
   ]
  },
  {
   "cell_type": "code",
   "execution_count": null,
   "metadata": {},
   "outputs": [],
   "source": [
    "# sum([data_point['iteration_time'] for data_point in iterateData2])"
   ]
  },
  {
   "cell_type": "code",
   "execution_count": null,
   "metadata": {},
   "outputs": [],
   "source": [
    "# sum([data_point['iteration_time'] for data_point in iterateData3][1:])"
   ]
  },
  {
   "cell_type": "code",
   "execution_count": null,
   "metadata": {},
   "outputs": [],
   "source": [
    "curved_linkage.attraction_weight = 1e-5\n",
    "def eqm_callback(prob, i):\n",
    "    pass\n",
    "elastic_rods.compute_equilibrium(curved_linkage, callback = eqm_callback, options = OPTS)\n",
    "curved_linkage_view.update()"
   ]
  },
  {
   "cell_type": "code",
   "execution_count": null,
   "metadata": {},
   "outputs": [],
   "source": [
    "structure_view = get_structure_analysis_view(curved_linkage)\n",
    "structure_view.show()"
   ]
  },
  {
   "cell_type": "code",
   "execution_count": null,
   "metadata": {},
   "outputs": [],
   "source": [
    "from structural_analysis import weavingCrossingForceMagnitudes\n",
    "cfm = weavingCrossingForceMagnitudes(curved_linkage, True)\n",
    "print(\"Normal Activation Threshold: \", np.percentile(cfm[:, 0], 75))"
   ]
  },
  {
   "cell_type": "markdown",
   "metadata": {},
   "source": [
    "### Figure 9"
   ]
  },
  {
   "cell_type": "markdown",
   "metadata": {},
   "source": [
    "Vector Plot"
   ]
  },
  {
   "cell_type": "code",
   "execution_count": null,
   "metadata": {},
   "outputs": [],
   "source": [
    "def get_color_scheme(colors):\n",
    "    '''\n",
    "    Color scheme for force vectors.\n",
    "    '''\n",
    "#         cmap = plt.cm.plasma\n",
    "    cmap = plt.cm.PuRd\n",
    "    return cmap(colors)\n",
    "#     import proplot as plot\n",
    "\n",
    "#     # Colormap from named color\n",
    "#     # The trailing '_r' makes the colormap go dark-to-light instead of light-to-dark\n",
    "#     cmap1 = plot.Colormap('violet red', name='pacific', fade=100, space='hsl')\n",
    "#     # The color map has 256 colors.\n",
    "#     colors = np.round(colors * 256)\n",
    "#     return plot.to_rgb(cmap1(colors), space = 'hsl')"
   ]
  },
  {
   "cell_type": "code",
   "execution_count": null,
   "metadata": {},
   "outputs": [],
   "source": [
    "get_color_scheme(256)"
   ]
  },
  {
   "cell_type": "code",
   "execution_count": null,
   "metadata": {},
   "outputs": [],
   "source": [
    "plt.cm.PuRd"
   ]
  },
  {
   "cell_type": "code",
   "execution_count": null,
   "metadata": {},
   "outputs": [],
   "source": [
    "list_of_pickle_name = ['optimization_diagram_results/simple_hemoglobin_5_1/pickle/2_32.pkl.gz', 'optimization_diagram_results/simple_hemoglobin_5_1/pickle/3_34.pkl.gz']\n",
    "list_of_output_name = ['{}_stage_2'.format(io.MODEL_NAME), '{}_stage_3'.format(io.MODEL_NAME)]"
   ]
  },
  {
   "cell_type": "code",
   "execution_count": null,
   "metadata": {},
   "outputs": [],
   "source": [
    "import force_vector_visualization_helper\n",
    "importlib.reload(force_vector_visualization_helper)\n",
    "from force_vector_visualization_helper import write_force_vector_visualization_file\n",
    "write_force_vector_visualization_file(list_of_pickle_name, list_of_output_name)"
   ]
  },
  {
   "cell_type": "code",
   "execution_count": null,
   "metadata": {},
   "outputs": [],
   "source": [
    "j = curved_linkage.joint(0)"
   ]
  },
  {
   "cell_type": "markdown",
   "metadata": {},
   "source": [
    "Density Plot"
   ]
  },
  {
   "cell_type": "code",
   "execution_count": null,
   "metadata": {},
   "outputs": [],
   "source": [
    "import seaborn as sns"
   ]
  },
  {
   "cell_type": "code",
   "execution_count": null,
   "metadata": {},
   "outputs": [],
   "source": [
    "separationForce = cfm[:, 0]"
   ]
  },
  {
   "cell_type": "code",
   "execution_count": null,
   "metadata": {},
   "outputs": [],
   "source": [
    "plt.figure(figsize=(15, 4))\n",
    "plt.subplot(1, 4, 1)\n",
    "plt.xlim((separationForce.min(), max([0, separationForce.max()])))\n",
    "plt.ticklabel_format(axis='x', style='sci', scilimits=(0, 0))\n",
    "plt.title('Separation Forces')\n",
    "plt.xlabel('Separation Force Mag.')\n",
    "plt.ylabel('Number of Crossings')\n",
    "plt.hist(separationForce, 200);"
   ]
  },
  {
   "cell_type": "code",
   "execution_count": null,
   "metadata": {},
   "outputs": [],
   "source": [
    "curved_linkage = pickle.load(gzip.open('optimization_diagram_results/simple_hemoglobin_5_1/pickle/2_28.pkl.gz', 'r'))\n",
    "curved_linkage.attraction_weight = 1e-5\n",
    "def eqm_callback(prob, i):\n",
    "    pass\n",
    "elastic_rods.compute_equilibrium(curved_linkage, callback = eqm_callback, options = OPTS)\n",
    "from structural_analysis import weavingCrossingForceMagnitudes\n",
    "stage_2_cfm = weavingCrossingForceMagnitudes(curved_linkage, True)\n",
    "\n",
    "\n",
    "curved_linkage = pickle.load(gzip.open('optimization_diagram_results/simple_hemoglobin_5_1/pickle/3_34.pkl.gz', 'r'))\n",
    "curved_linkage.attraction_weight = 1e-5\n",
    "def eqm_callback(prob, i):\n",
    "    pass\n",
    "elastic_rods.compute_equilibrium(curved_linkage, callback = eqm_callback, options = OPTS)\n",
    "from structural_analysis import weavingCrossingForceMagnitudes\n",
    "stage_3_cfm = weavingCrossingForceMagnitudes(curved_linkage, True)"
   ]
  },
  {
   "cell_type": "code",
   "execution_count": null,
   "metadata": {},
   "outputs": [],
   "source": [
    "stage_2_separation = stage_2_cfm[:, 0]\n",
    "stage_3_separation = stage_3_cfm[:, 0]"
   ]
  },
  {
   "cell_type": "code",
   "execution_count": null,
   "metadata": {},
   "outputs": [],
   "source": [
    "min_separation = min(min(stage_2_separation), min(stage_3_separation))\n",
    "max_separation = max(max(stage_2_separation), max(stage_3_separation))"
   ]
  },
  {
   "cell_type": "code",
   "execution_count": null,
   "metadata": {},
   "outputs": [],
   "source": [
    "import pandas as pd"
   ]
  },
  {
   "cell_type": "code",
   "execution_count": null,
   "metadata": {},
   "outputs": [],
   "source": [
    "fig, host = plt.subplots()\n",
    "data = np.transpose([stage_2_separation, stage_3_separation])\n",
    "data = pd.DataFrame(data, columns=['Stage 2', 'Stage 3'])\n",
    "sns.kdeplot(data = data, shade = True, cut = True)\n",
    "plt.xlim((min_separation, max([0, max_separation])))\n",
    "plt.ticklabel_format(axis='x', style='sci', scilimits=(0, 0))\n",
    "plt.title('Density of Separation Force Mag. at Crossings', fontsize = 14)\n",
    "plt.xlabel('Separation Force Mag.', fontsize=14); \n",
    "plt.ylabel('Density', fontsize=14);\n",
    "fig.set_size_inches((10, 4))\n",
    "plt.tight_layout()\n",
    "host.get_yaxis().set_ticks([])\n",
    "plt.savefig('./separation_force_mag.svg', format='svg', dpi = 200)"
   ]
  },
  {
   "cell_type": "code",
   "execution_count": null,
   "metadata": {},
   "outputs": [],
   "source": [
    "stage_2_tangential = stage_2_cfm[:, 1]\n",
    "stage_3_tangential = stage_3_cfm[:, 1]"
   ]
  },
  {
   "cell_type": "code",
   "execution_count": null,
   "metadata": {},
   "outputs": [],
   "source": [
    "min_tangential = min(min(stage_2_tangential), min(stage_3_tangential))\n",
    "max_tangential = max(max(stage_2_tangential), max(stage_3_tangential))"
   ]
  },
  {
   "cell_type": "code",
   "execution_count": null,
   "metadata": {},
   "outputs": [],
   "source": [
    "import pandas as pd"
   ]
  },
  {
   "cell_type": "code",
   "execution_count": null,
   "metadata": {},
   "outputs": [],
   "source": [
    "fig, host = plt.subplots()\n",
    "data = np.transpose([stage_2_tangential, stage_3_tangential])\n",
    "data = pd.DataFrame(data, columns=['Stage 2', 'Stage 3'])\n",
    "sns.kdeplot(data = data, shade = True, cut = True)\n",
    "plt.xlim((min_tangential, max([0, max_tangential])))\n",
    "plt.ticklabel_format(axis='x', style='sci', scilimits=(0, 0))\n",
    "plt.title('Density of Tangential Force Mag. at Crossings', fontsize = 14)\n",
    "plt.xlabel('Tangential Force Mag.', fontsize=14); \n",
    "plt.ylabel('Density', fontsize=14);\n",
    "fig.set_size_inches((10, 4))\n",
    "plt.tight_layout()\n",
    "host.get_yaxis().set_ticks([])\n",
    "plt.savefig('./tangential_force_mag.svg', format='svg', dpi = 200)"
   ]
  },
  {
   "cell_type": "code",
   "execution_count": null,
   "metadata": {},
   "outputs": [],
   "source": [
    "# save_path = os.getcwd()\n",
    "# write_all_output(curved_linkage, io.SUBDIVISION_RESOLUTION, io.MODEL_NAME + '_stage_2', io.RIBBON_NAME + '_stage_2', False, 100, min(io.RIBBON_CS), target_width = 5, flip_angles = False, width = max(io.RIBBON_CS))\n",
    "# os.chdir(save_path)"
   ]
  },
  {
   "cell_type": "markdown",
   "metadata": {},
   "source": [
    "### Videos"
   ]
  },
  {
   "cell_type": "markdown",
   "metadata": {},
   "source": [
    "#### Generate images by running `python hemoglobin_vis_helper.py`"
   ]
  },
  {
   "cell_type": "code",
   "execution_count": null,
   "metadata": {},
   "outputs": [],
   "source": [
    "import ffmpeg"
   ]
  },
  {
   "cell_type": "markdown",
   "metadata": {},
   "source": [
    "#### Objective video for each stage"
   ]
  },
  {
   "cell_type": "code",
   "execution_count": null,
   "metadata": {},
   "outputs": [],
   "source": [
    "framerate = 5\n",
    "for stage_index in [1, 2, 3]:\n",
    "    image_folder = '/Users/yren/Develop/EPFL_LGG/weaving/weaving/optimization_diagram_results/simple_hemoglobin_5_1/video_images'\n",
    "    video_name = os.path.join(image_folder, 'stage_{}_objective_stack.mp4'.format(str(stage_index)))\n",
    "    if os.path.isfile(video_name):\n",
    "        os.remove(video_name)\n",
    "    (ffmpeg\n",
    "        .input(os.path.join(image_folder, 'simple_hemoglobin_5_1_stage_{}_objective_stack_*.png'.format(str(stage_index))), pattern_type='glob', framerate=framerate)\n",
    "        .output(video_name, crf=20, preset='slower', movflags='faststart', pix_fmt='yuv420p')\n",
    "        .run()\n",
    "    )"
   ]
  },
  {
   "cell_type": "markdown",
   "metadata": {},
   "source": [
    "#### Objective combine videos"
   ]
  },
  {
   "cell_type": "code",
   "execution_count": null,
   "metadata": {},
   "outputs": [],
   "source": [
    "import ffmpeg\n",
    "image_folder = '/Users/yren/Develop/EPFL_LGG/weaving/weaving/optimization_diagram_results/simple_hemoglobin_5_1/video_images'\n",
    "file_list_path = os.path.join(image_folder, 'objective_stack_video_file_list.txt')\n",
    "in1 = '{}_objective_stack.mp4'.format('stage_1')\n",
    "in2 = '{}_objective_stack.mp4'.format('stage_2')\n",
    "in3 = '{}_objective_stack.mp4'.format('stage_3')\n",
    "with open(file_list_path, 'w') as f:\n",
    "    f.write('file {}\\nfile {}\\nfile {}'.format(in1, in2, in3))\n",
    "video_name = os.path.join(image_folder, 'combined_objective_stack.mp4')\n",
    "if os.path.isfile(video_name):\n",
    "    os.remove(video_name)\n",
    "(ffmpeg\n",
    "    .input(file_list_path, format='concat', safe=0)\n",
    "    .output(video_name)\n",
    "    .run()\n",
    ")"
   ]
  },
  {
   "cell_type": "markdown",
   "metadata": {},
   "source": [
    "#### Description video for each stage"
   ]
  },
  {
   "cell_type": "code",
   "execution_count": null,
   "metadata": {},
   "outputs": [],
   "source": [
    "framerate = 5\n",
    "PAD_OPTIONS = {\n",
    "    'width':'ceil(iw/2)*2',\n",
    "    'height':'ceil(ih/2)*2',\n",
    "    'x':'0',\n",
    "    'y':'0',\n",
    "    'color': 'white'\n",
    "}\n",
    "for stage_index in [1, 2, 3]:\n",
    "    image_folder = '/Users/yren/Develop/EPFL_LGG/weaving/weaving/optimization_diagram_results/simple_hemoglobin_5_1/video_images'\n",
    "    video_name = os.path.join(image_folder, 'stage_{}_components_description.mp4'.format(str(stage_index)))\n",
    "    if os.path.isfile(video_name):\n",
    "        os.remove(video_name)\n",
    "    (ffmpeg\n",
    "        .input(os.path.join(image_folder, 'simple_hemoglobin_5_1_stage_{}_components_description_*.png'.format(str(stage_index))), pattern_type='glob', framerate=framerate)\n",
    "        .filter_(\"pad\", **PAD_OPTIONS)\n",
    "        .output(video_name, crf=20, preset='slower', movflags='faststart', pix_fmt='yuv420p')\n",
    "        .run()\n",
    "    )"
   ]
  },
  {
   "cell_type": "markdown",
   "metadata": {},
   "source": [
    "#### Description combined video"
   ]
  },
  {
   "cell_type": "code",
   "execution_count": null,
   "metadata": {},
   "outputs": [],
   "source": [
    "import ffmpeg\n",
    "image_folder = '/Users/yren/Develop/EPFL_LGG/weaving/weaving/optimization_diagram_results/simple_hemoglobin_5_1/video_images'\n",
    "file_list_path = os.path.join(image_folder, 'components_description_video_file_list.txt')\n",
    "in1 = '{}_components_description.mp4'.format('stage_1')\n",
    "in2 = '{}_components_description.mp4'.format('stage_2')\n",
    "in3 = '{}_components_description.mp4'.format('stage_3')\n",
    "PAD_OPTIONS = {\n",
    "    'width':'ceil(iw/2)*2',\n",
    "    'height':'ceil(ih/2)*2',\n",
    "    'x':'0',\n",
    "    'y':'0',\n",
    "    'color': 'white'\n",
    "}\n",
    "with open(file_list_path, 'w') as f:\n",
    "    f.write('file {}\\nfile {}\\nfile {}'.format(in1, in2, in3))\n",
    "video_name = os.path.join(image_folder, 'combined_components_description.mp4')\n",
    "if os.path.isfile(video_name):\n",
    "    os.remove(video_name)\n",
    "(ffmpeg\n",
    "    .input(file_list_path, format='concat', safe=0)\n",
    "    .filter_(\"pad\", **PAD_OPTIONS)\n",
    "    .output(video_name)\n",
    "    .run()\n",
    ")"
   ]
  },
  {
   "cell_type": "markdown",
   "metadata": {},
   "source": [
    "### Generate Curve Visualization"
   ]
  },
  {
   "cell_type": "code",
   "execution_count": null,
   "metadata": {},
   "outputs": [],
   "source": [
    "limits = np.load('hemoglobin_ribbon_2_limits.npy')"
   ]
  },
  {
   "cell_type": "markdown",
   "metadata": {},
   "source": [
    "#### Ribbon images for each stage"
   ]
  },
  {
   "cell_type": "code",
   "execution_count": null,
   "metadata": {
    "scrolled": true
   },
   "outputs": [],
   "source": [
    "for stage_index in [1, 2, 3]:\n",
    "    data = np.load('/Users/yren/Develop/EPFL_LGG/weaving/weaving/optimization_diagram_results/simple_hemoglobin_5_1/simple_hemoglobin_5_1_stage_{}.npy'.format(stage_index), allow_pickle = True)\n",
    "    for i in range(len(data)):\n",
    "        curved_linkage = pickle.load(gzip.open('optimization_diagram_results/simple_hemoglobin_5_1/pickle/{}_{}.pkl.gz'.format(stage_index, i), 'r'))\n",
    "        get_all_curve_pattern(curved_linkage, thickness, io.SUBDIVISION_RESOLUTION, 'hemoglobin_opt_ribbon', 'png', target_ribbon_width = 5, flip_angles = False, select_ribbon_index = [2], iteration_index='{}_{:03d}'.format(stage_index, i), limits=limits)"
   ]
  },
  {
   "cell_type": "code",
   "execution_count": null,
   "metadata": {},
   "outputs": [],
   "source": [
    "all_limits[0]"
   ]
  },
  {
   "cell_type": "code",
   "execution_count": null,
   "metadata": {
    "scrolled": true
   },
   "outputs": [],
   "source": [
    "# OPTS.niter = 1000\n",
    "# fig, host = plt.subplots()\n",
    "# host.set_aspect('equal')\n",
    "# all_limits = []\n",
    "# for stage_index in [1, 2, 3]:\n",
    "#     data = np.load('/Users/yren/Develop/EPFL_LGG/weaving/weaving/optimization_diagram_results/simple_hemoglobin_5_1/simple_hemoglobin_5_1_stage_{}.npy'.format(stage_index), allow_pickle = True)\n",
    "#     for i, curr_pt in enumerate(data):\n",
    "#         curved_linkage = pickle.load(gzip.open('optimization_diagram_results/simple_hemoglobin_5_1/pickle/{}_{}.pkl.gz'.format(stage_index, i), 'r'))\n",
    "#         top_x, top_y, bottom_x, bottom_y, joint_x, joint_y, limits = get_all_curve_pattern(curved_linkage, thickness, io.SUBDIVISION_RESOLUTION, 'hemoglobin_opt_ribbon', 'png', target_ribbon_width = 5, flip_angles = False, select_ribbon_index = [2], iteration_index='{:03d}'.format(i), return_png_data=True)\n",
    "#         all_limits.append(limits)\n",
    "#     #     plt.plot(top_x, top_y, '-', label='shifted up', linewidth = 0.2, color = 'black')\n",
    "#     #     plt.plot(bottom_x, bottom_y, '-', label='shifted down', linewidth = 0.2, color = 'black')\n",
    "#     #     plt.scatter(joint_x, joint_y, s = 0.1, facecolors='black', edgecolors='black')\n",
    "#     # fig.savefig('all_ribbon.png', format='png', bbox_inches='tight', dpi = 200)"
   ]
  },
  {
   "cell_type": "code",
   "execution_count": null,
   "metadata": {},
   "outputs": [],
   "source": [
    "# all_limits = np.array(all_limits)"
   ]
  },
  {
   "cell_type": "code",
   "execution_count": null,
   "metadata": {},
   "outputs": [],
   "source": [
    "# limits = [np.max(all_limits[:, 0]), np.min(all_limits[:, 1]), np.max(all_limits[:, 2]), np.min(all_limits[:, 3])]"
   ]
  },
  {
   "cell_type": "code",
   "execution_count": null,
   "metadata": {},
   "outputs": [],
   "source": [
    "# np.save('hemoglobin_ribbon_2_limits.npy', limits)"
   ]
  },
  {
   "cell_type": "code",
   "execution_count": null,
   "metadata": {},
   "outputs": [],
   "source": [
    "np.max(all_limits, axis = 0)"
   ]
  },
  {
   "cell_type": "code",
   "execution_count": null,
   "metadata": {},
   "outputs": [],
   "source": [
    "import ffmpeg"
   ]
  },
  {
   "cell_type": "markdown",
   "metadata": {},
   "source": [
    "#### Ribbon video for each stage"
   ]
  },
  {
   "cell_type": "code",
   "execution_count": null,
   "metadata": {},
   "outputs": [],
   "source": [
    "framerate = 5\n",
    "PAD_OPTIONS = {\n",
    "    'width':'ceil(iw/2)*2',\n",
    "    'height':'ceil(ih/2)*2',\n",
    "    'x':'0',\n",
    "    'y':'0',\n",
    "    'color': 'white'\n",
    "}\n",
    "for stage_index in [1, 2, 3]:\n",
    "    image_folder = 'hemoglobin_opt_ribbon/'\n",
    "    video_name = os.path.join(image_folder, 'stage_{}_ribbons.mp4'.format(str(stage_index)))\n",
    "    if os.path.isfile(video_name):\n",
    "        os.remove(video_name)\n",
    "    (ffmpeg\n",
    "        .input(os.path.join(image_folder, '2_{}_*.png'.format(str(stage_index))), pattern_type='glob', framerate=framerate)\n",
    "        .filter_(\"pad\", **PAD_OPTIONS)\n",
    "        .output(video_name, crf=20, preset='slower', movflags='faststart', pix_fmt='yuv420p')\n",
    "        .run()\n",
    "    )"
   ]
  },
  {
   "cell_type": "markdown",
   "metadata": {},
   "source": [
    "#### Ribbon combined video"
   ]
  },
  {
   "cell_type": "code",
   "execution_count": null,
   "metadata": {},
   "outputs": [],
   "source": [
    "import ffmpeg\n",
    "image_folder = 'hemoglobin_opt_ribbon/'\n",
    "file_list_path = os.path.join(image_folder, 'ribbon_video_file_list.txt')\n",
    "in1 = '{}_ribbons.mp4'.format('stage_1')\n",
    "in2 = '{}_ribbons.mp4'.format('stage_2')\n",
    "in3 = '{}_ribbons.mp4'.format('stage_3')\n",
    "PAD_OPTIONS = {\n",
    "    'width':'ceil(iw/2)*2',\n",
    "    'height':'ceil(ih/2)*2',\n",
    "    'x':'0',\n",
    "    'y':'0',\n",
    "    'color': 'white'\n",
    "}\n",
    "with open(file_list_path, 'w') as f:\n",
    "    f.write('file {}\\nfile {}\\nfile {}'.format(in1, in2, in3))\n",
    "video_name = os.path.join(image_folder, 'combined_ribbons.mp4')\n",
    "if os.path.isfile(video_name):\n",
    "    os.remove(video_name)\n",
    "(ffmpeg\n",
    "    .input(file_list_path, format='concat', safe=0)\n",
    "    .filter_(\"pad\", **PAD_OPTIONS)\n",
    "    .output(video_name)\n",
    "    .run()\n",
    ")"
   ]
  },
  {
   "cell_type": "markdown",
   "metadata": {},
   "source": [
    "### Combine Images in One Frame"
   ]
  },
  {
   "cell_type": "code",
   "execution_count": null,
   "metadata": {},
   "outputs": [],
   "source": [
    "import cv2"
   ]
  },
  {
   "cell_type": "code",
   "execution_count": null,
   "metadata": {},
   "outputs": [],
   "source": [
    "opt_image_root = 'optimization_diagram_results/simple_hemoglobin_5_1/video_images/'\n",
    "stage_1_image_root = 'optimization_diagram_results/simple_hemoglobin_5_1/video/stage_1_images/'\n",
    "stage_2_image_root = 'optimization_diagram_results/simple_hemoglobin_5_1/video/stage_2_images/'\n",
    "stage_3_image_root = 'optimization_diagram_results/simple_hemoglobin_5_1/video/stage_3_images/'\n",
    "ribbon_root = 'hemoglobin_opt_ribbon/'\n",
    "output_image_root = 'optimization_diagram_results/simple_hemoglobin_5_1/panel_images/'\n",
    "stage_1_num = 123\n",
    "stage_2_num = 33\n",
    "stage_3_num = 35"
   ]
  },
  {
   "cell_type": "code",
   "execution_count": null,
   "metadata": {},
   "outputs": [],
   "source": [
    "123 + 33 + 35"
   ]
  },
  {
   "cell_type": "code",
   "execution_count": null,
   "metadata": {},
   "outputs": [],
   "source": [
    "counter = 0\n",
    "for i in range(stage_1_num):\n",
    "    output_filename = os.path.join(output_image_root, 'stage_1/{:03d}.png'.format(i))\n",
    "    counter += 1\n",
    "    if os.path.isfile(output_filename):\n",
    "        continue\n",
    "    img1 = cv2.imread(os.path.join(opt_image_root, 'simple_hemoglobin_5_1_stage_1_2D_{:03d}.png'.format(i)))\n",
    "    img2 = cv2.imread(os.path.join(opt_image_root, 'simple_hemoglobin_5_1_stage_2_2D_-01.png'))\n",
    "    img3 = cv2.imread(os.path.join(opt_image_root, 'simple_hemoglobin_5_1_stage_3_2D_-01.png'))\n",
    "    bottom_row = np.concatenate((img1, img2, img3), axis=1)\n",
    "    img1 = cv2.imread(os.path.join(opt_image_root, 'simple_hemoglobin_5_1_stage_1_3D_{:03d}.png'.format(i)))\n",
    "    img2 = cv2.imread(os.path.join(opt_image_root, 'simple_hemoglobin_5_1_stage_2_3D_-01.png'))\n",
    "    img3 = cv2.imread(os.path.join(opt_image_root, 'simple_hemoglobin_5_1_stage_3_3D_-01.png'))\n",
    "    top_row = np.concatenate((img1, img2, img3), axis=1)\n",
    "    vis1 = np.concatenate((top_row, bottom_row))\n",
    "    img1 = cv2.imread(os.path.join(stage_1_image_root, 'iter_{:03d}.png'.format(i)))\n",
    "    img1[np.where(np.sum(img1, axis = 2) == 0)] = [255, 255, 255] \n",
    "    img2 = cv2.imread(os.path.join(ribbon_root, '2_1_{:03d}.png'.format(i)))\n",
    "    img1 = cv2.resize(img1, (1515, 1515))\n",
    "    img2 = cv2.resize(img2, (5037, 1515))\n",
    "    vis2 = np.concatenate((img1, img2), axis=1)\n",
    "    vis = np.concatenate((vis2, vis1))\n",
    "    cv2.imwrite(output_filename, vis)\n",
    "for i in range(stage_2_num):\n",
    "    output_filename = os.path.join(output_image_root, 'stage_2/{:03d}.png'.format(i))\n",
    "    counter += 1\n",
    "    if os.path.isfile(output_filename):\n",
    "        continue\n",
    "    img1 = cv2.imread(os.path.join(opt_image_root, 'simple_hemoglobin_5_1_stage_1_2D_-01.png'))\n",
    "    img2 = cv2.imread(os.path.join(opt_image_root, 'simple_hemoglobin_5_1_stage_2_2D_{:03d}.png'.format(i)))\n",
    "    img3 = cv2.imread(os.path.join(opt_image_root, 'simple_hemoglobin_5_1_stage_3_2D_-01.png'))\n",
    "    bottom_row = np.concatenate((img1, img2, img3), axis=1)\n",
    "    img1 = cv2.imread(os.path.join(opt_image_root, 'simple_hemoglobin_5_1_stage_1_3D_-01.png'))\n",
    "    img2 = cv2.imread(os.path.join(opt_image_root, 'simple_hemoglobin_5_1_stage_2_3D_{:03d}.png'.format(i)))\n",
    "    img3 = cv2.imread(os.path.join(opt_image_root, 'simple_hemoglobin_5_1_stage_3_3D_-01.png'))\n",
    "    top_row = np.concatenate((img1, img2, img3), axis=1)\n",
    "    vis1 = np.concatenate((top_row, bottom_row))\n",
    "    img1 = cv2.imread(os.path.join(stage_2_image_root, 'iter_{:03d}.png'.format(i)))\n",
    "    img1[np.where(np.sum(img1, axis = 2) == 0)] = [255, 255, 255] \n",
    "    img2 = cv2.imread(os.path.join(ribbon_root, '2_2_{:03d}.png'.format(i)))\n",
    "    img1 = cv2.resize(img1, (1515, 1515))\n",
    "    img2 = cv2.resize(img2, (5037, 1515))\n",
    "    vis2 = np.concatenate((img1, img2), axis=1)\n",
    "    vis = np.concatenate((vis2, vis1))\n",
    "    cv2.imwrite(output_filename, vis)\n",
    "for i in range(stage_3_num):\n",
    "    output_filename = os.path.join(output_image_root, 'stage_3/{:03d}.png'.format(i))\n",
    "    counter += 1\n",
    "    if os.path.isfile(output_filename):\n",
    "        continue\n",
    "    img1 = cv2.imread(os.path.join(opt_image_root, 'simple_hemoglobin_5_1_stage_1_2D_-01.png'))\n",
    "    img2 = cv2.imread(os.path.join(opt_image_root, 'simple_hemoglobin_5_1_stage_2_2D_-01.png'))\n",
    "    img3 = cv2.imread(os.path.join(opt_image_root, 'simple_hemoglobin_5_1_stage_3_2D_{:03d}.png'.format(i)))\n",
    "    bottom_row = np.concatenate((img1, img2, img3), axis=1)\n",
    "    img1 = cv2.imread(os.path.join(opt_image_root, 'simple_hemoglobin_5_1_stage_1_3D_-01.png'))\n",
    "    img2 = cv2.imread(os.path.join(opt_image_root, 'simple_hemoglobin_5_1_stage_2_3D_-01.png'))\n",
    "    img3 = cv2.imread(os.path.join(opt_image_root, 'simple_hemoglobin_5_1_stage_3_3D_{:03d}.png'.format(i)))\n",
    "    top_row = np.concatenate((img1, img2, img3), axis=1)\n",
    "    vis1 = np.concatenate((top_row, bottom_row))\n",
    "    img1 = cv2.imread(os.path.join(stage_3_image_root, 'iter_{:03d}.png'.format(i)))\n",
    "    img1[np.where(np.sum(img1, axis = 2) == 0)] = [255, 255, 255] \n",
    "    img2 = cv2.imread(os.path.join(ribbon_root, '2_3_{:03d}.png'.format(i)))\n",
    "    img1 = cv2.resize(img1, (1515, 1515))\n",
    "    img2 = cv2.resize(img2, (5037, 1515))\n",
    "    vis2 = np.concatenate((img1, img2), axis=1)\n",
    "    vis = np.concatenate((vis2, vis1))\n",
    "    cv2.imwrite(output_filename, vis)"
   ]
  },
  {
   "cell_type": "markdown",
   "metadata": {},
   "source": [
    "#### Panel Video"
   ]
  },
  {
   "cell_type": "code",
   "execution_count": null,
   "metadata": {},
   "outputs": [],
   "source": [
    "import ffmpeg\n",
    "framerate = 5\n",
    "PAD_OPTIONS = {\n",
    "    'width':'ceil(iw/2)*2',\n",
    "    'height':'ceil(ih/2)*2',\n",
    "    'x':'0',\n",
    "    'y':'0',\n",
    "    'color': 'white'\n",
    "}\n",
    "image_folder = output_image_root\n",
    "video_name = os.path.join(image_folder, 'panel_video.mp4')\n",
    "if os.path.isfile(video_name):\n",
    "    os.remove(video_name)\n",
    "(ffmpeg\n",
    "    .input(os.path.join(image_folder, '*.png'), pattern_type='glob', framerate=framerate)\n",
    "    .filter_(\"pad\", **PAD_OPTIONS)\n",
    "    .output(video_name, crf=20, preset='slower', movflags='faststart', pix_fmt='yuv420p')\n",
    "    .run()\n",
    ")"
   ]
  },
  {
   "cell_type": "markdown",
   "metadata": {},
   "source": [
    "### Panel Video for each Stage"
   ]
  },
  {
   "cell_type": "code",
   "execution_count": null,
   "metadata": {},
   "outputs": [],
   "source": [
    "framerates = [20, 5, 5]\n",
    "PAD_OPTIONS = {\n",
    "    'width':'ceil(iw/2)*2',\n",
    "    'height':'ceil(ih/2)*2',\n",
    "    'x':'0',\n",
    "    'y':'0',\n",
    "    'color': 'white'\n",
    "}\n",
    "for stage_index in [1, 2, 3]:\n",
    "    image_folder = output_image_root\n",
    "    video_name = os.path.join(image_folder, 'stage_{}.mp4'.format(str(stage_index)))\n",
    "    if os.path.isfile(video_name):\n",
    "        os.remove(video_name)\n",
    "    (ffmpeg\n",
    "        .input(os.path.join(image_folder, 'stage_{}/*.png'.format(str(stage_index))), pattern_type='glob', framerate=framerates[stage_index - 1])\n",
    "        .filter_(\"pad\", **PAD_OPTIONS)\n",
    "        .output(video_name, crf=20, preset='slower', movflags='faststart', pix_fmt='yuv420p')\n",
    "        .run()\n",
    "    )"
   ]
  },
  {
   "cell_type": "code",
   "execution_count": null,
   "metadata": {},
   "outputs": [],
   "source": [
    "import ffmpeg\n",
    "image_folder = output_image_root\n",
    "file_list_path = os.path.join(image_folder, 'video_file_list.txt')\n",
    "in1 = '{}.mp4'.format('stage_1')\n",
    "in2 = '{}.mp4'.format('stage_2')\n",
    "in3 = '{}.mp4'.format('stage_3')\n",
    "PAD_OPTIONS = {\n",
    "    'width':'ceil(iw/2)*2',\n",
    "    'height':'ceil(ih/2)*2',\n",
    "    'x':'0',\n",
    "    'y':'0',\n",
    "    'color': 'white'\n",
    "}\n",
    "with open(file_list_path, 'w') as f:\n",
    "    f.write('file {}\\nfile {}\\nfile {}'.format(in1, in2, in3))\n",
    "video_name = os.path.join(image_folder, 'combined_panel.mp4')\n",
    "if os.path.isfile(video_name):\n",
    "    os.remove(video_name)\n",
    "(ffmpeg\n",
    "    .input(file_list_path, format='concat', safe=0)\n",
    "    .filter_(\"pad\", **PAD_OPTIONS)\n",
    "    .output(video_name)\n",
    "    .run()\n",
    ")"
   ]
  }
 ],
 "metadata": {
  "kernelspec": {
   "display_name": "Python 3",
   "language": "python",
   "name": "python3"
  },
  "language_info": {
   "codemirror_mode": {
    "name": "ipython",
    "version": 3
   },
   "file_extension": ".py",
   "mimetype": "text/x-python",
   "name": "python",
   "nbconvert_exporter": "python",
   "pygments_lexer": "ipython3",
   "version": "3.7.9"
  }
 },
 "nbformat": 4,
 "nbformat_minor": 4
}
