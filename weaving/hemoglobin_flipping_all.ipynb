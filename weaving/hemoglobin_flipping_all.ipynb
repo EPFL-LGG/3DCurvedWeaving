{
 "cells": [
  {
   "cell_type": "code",
   "execution_count": null,
   "metadata": {},
   "outputs": [],
   "source": [
    "elastic_rods_dir = '../elastic_rods/python/'\n",
    "weaving_dir = './'\n",
    "import os\n",
    "import os.path as osp\n",
    "import sys; sys.path.append(elastic_rods_dir); sys.path.append(weaving_dir)\n",
    "import numpy as np, elastic_rods, linkage_vis\n",
    "import numpy.linalg as la\n",
    "from bending_validation import suppress_stdout as so\n",
    "import matplotlib.pyplot as plt\n",
    "from elastic_rods import EnergyType, InterleavingType\n",
    "\n",
    "# weaving\n",
    "import analysis_helper, ribbon_linkage_helper, mesh_vis, linkage_utils, compute_curve_from_curvature, pipeline_helper, optimization_visualization_helper, importlib\n",
    "importlib.reload(analysis_helper)\n",
    "importlib.reload(ribbon_linkage_helper)\n",
    "importlib.reload(mesh_vis)\n",
    "importlib.reload(linkage_utils)\n",
    "importlib.reload(compute_curve_from_curvature)\n",
    "importlib.reload(pipeline_helper)\n",
    "importlib.reload(optimization_visualization_helper)\n",
    "from analysis_helper import (compare_turning_angle,\n",
    "                            is_on_sphere, \n",
    "                            get_distance_to_center_scalar_field, \n",
    "                            plot_curvatures, \n",
    "                            get_curvature_scalar_field,\n",
    "                            construct_elastic_rod_loop_from_rod_segments, \n",
    "                            concatenate_rod_properties_from_rod_segments, \n",
    "                            compute_min_distance_rigid_transformation)\n",
    "from ribbon_linkage_helper import (update_rest_curvature, \n",
    "                                   set_ribbon_linkage,\n",
    "                                   export_linkage_geometry_to_obj,\n",
    "                                   write_linkage_ribbon_output_florin)\n",
    "\n",
    "from compute_curve_from_curvature import (match_geo_curvature_and_edge_len, get_all_curve_pattern)\n",
    "from linkage_utils import order_segments_by_ribbons, get_turning_angle_and_length_from_ordered_rods\n",
    "\n",
    "from pipeline_helper import (initialize_linkage, get_normal_deviation, set_joint_vector_field, stage_1_optimization, initialize_stage_2_optimizer, stage_2_optimization, InputOrganizer, write_all_output, set_surface_view_options, get_structure_analysis_view, contact_optimization, get_double_side_view, show_selected_joints, highlight_rod_and_joint, write_distance_to_linkage_mesh)\n",
    "import vis.fields\n",
    "import matplotlib.cm as cm\n",
    "import time\n",
    "from optimization_visualization_helper import (compute_visualization_data_from_raw_data, get_objective_components_stage1, get_objective_components_stage2, get_objective_components_stage3, set_figure_label_and_limit, Visualization_Setting, plot_objective, plot_ribbon_component_analysis, render_video, combine_three_stage_video)\n",
    "\n"
   ]
  },
  {
   "cell_type": "code",
   "execution_count": null,
   "metadata": {},
   "outputs": [],
   "source": [
    "import parallelism\n",
    "parallelism.set_max_num_tbb_threads(12)\n",
    "parallelism.set_hessian_assembly_num_threads(4)\n",
    "parallelism.set_gradient_assembly_num_threads(4)"
   ]
  },
  {
   "cell_type": "code",
   "execution_count": null,
   "metadata": {},
   "outputs": [],
   "source": [
    "rod_length = 0.21162395234664752\n",
    "width = rod_length / 15 * 5\n",
    "thickness = width / 5 * 0.35\n",
    "print(width, thickness)\n",
    "# width *= 0.5\n",
    "# thickness *= 0.5\n",
    "\n",
    "io = InputOrganizer('simple_hemoglobin_5_1', thickness, width, weaving_dir)\n",
    "#  [ ear 214, ear 255, noseZ 39]"
   ]
  },
  {
   "cell_type": "code",
   "execution_count": null,
   "metadata": {},
   "outputs": [],
   "source": [
    "import py_newton_optimizer\n",
    "OPTS = py_newton_optimizer.NewtonOptimizerOptions()\n",
    "OPTS.gradTol = 1e-8\n",
    "OPTS.verbose = 1;\n",
    "OPTS.beta = 1e-8\n",
    "OPTS.niter = 200\n",
    "OPTS.verboseNonPosDef = False\n",
    "rw = 1\n",
    "sw = 10\n",
    "drw = 0.1\n",
    "dsw = 0.1"
   ]
  },
  {
   "cell_type": "code",
   "execution_count": null,
   "metadata": {},
   "outputs": [],
   "source": [
    "import pickle \n",
    "import gzip"
   ]
  },
  {
   "cell_type": "markdown",
   "metadata": {},
   "source": [
    "### Initialization"
   ]
  },
  {
   "cell_type": "code",
   "execution_count": null,
   "metadata": {},
   "outputs": [],
   "source": [
    "with so(): curved_linkage = initialize_linkage(surface_path = None, useCenterline = True, model_path = io.MODEL_PATH, cross_section = io.RIBBON_CS, subdivision_res = io.SUBDIVISION_RESOLUTION)\n",
    "curved_linkage.set_design_parameter_config(use_restLen = True, use_restKappa = True)\n",
    "curved_save_tgt_joint_pos = curved_linkage.jointPositions()\n",
    "curved_linkage = pickle.load(gzip.open('optimization_diagram_results/simple_hemoglobin_5_1/pickle/2_32.pkl.gz', 'r'))\n",
    "curved_linkage_view = linkage_vis.LinkageViewer(curved_linkage)\n",
    "# set_surface_view_options(curved_linkage_view, linkage_color='lightgreen')\n",
    "curved_linkage_view.show()"
   ]
  },
  {
   "cell_type": "code",
   "execution_count": null,
   "metadata": {},
   "outputs": [],
   "source": [
    "curved_linkage.attraction_weight = 1e-5"
   ]
  },
  {
   "cell_type": "code",
   "execution_count": null,
   "metadata": {
    "scrolled": true
   },
   "outputs": [],
   "source": [
    "# iterateData = stage_1_optimization(curved_linkage, 0.1, 0.1, curved_linkage_view)"
   ]
  },
  {
   "cell_type": "code",
   "execution_count": null,
   "metadata": {},
   "outputs": [],
   "source": [
    "# curved_linkage.setMaterial(elastic_rods.RodMaterial('rectangle', 2000, 0.3, [thickness, width], stiffAxis=elastic_rods.StiffAxis.D1))"
   ]
  },
  {
   "cell_type": "code",
   "execution_count": null,
   "metadata": {},
   "outputs": [],
   "source": [
    "def eqm_callback(prob, i):\n",
    "#     curved_linkage_view.update(scalarField=colors)\n",
    "    pass"
   ]
  },
  {
   "cell_type": "code",
   "execution_count": null,
   "metadata": {
    "scrolled": true
   },
   "outputs": [],
   "source": [
    "elastic_rods.compute_equilibrium(curved_linkage, callback = eqm_callback, options = OPTS)"
   ]
  },
  {
   "cell_type": "markdown",
   "metadata": {},
   "source": [
    "## Contact Optimization"
   ]
  },
  {
   "cell_type": "code",
   "execution_count": null,
   "metadata": {},
   "outputs": [],
   "source": [
    "def get_opposite_joint_type(curr_type):\n",
    "    if curr_type == curved_linkage.joint(0).Type.A_OVER_B:\n",
    "        return curved_linkage.joint(0).Type.B_OVER_A\n",
    "    return curved_linkage.joint(0).Type.A_OVER_B\n",
    "import structural_analysis"
   ]
  },
  {
   "cell_type": "code",
   "execution_count": null,
   "metadata": {},
   "outputs": [],
   "source": [
    "structure_view = get_structure_analysis_view(curved_linkage)\n",
    "structure_view.show()"
   ]
  },
  {
   "cell_type": "code",
   "execution_count": null,
   "metadata": {
    "scrolled": true
   },
   "outputs": [],
   "source": [
    "cfm = structural_analysis.weavingCrossingForceMagnitudes(curved_linkage, True)\n",
    "if np.sum(cfm[:, 0]>0) > 0:\n",
    "    print(\"Flipping crossing: \", np.argsort(cfm[:, 0] > 0)[-1 * np.sum(cfm[:, 0] > 0):])\n",
    "    for i in np.argsort(cfm[:, 0] > 0)[-1 * np.sum(cfm[:, 0] > 0):]:\n",
    "        curved_linkage.joint(i).type = get_opposite_joint_type(curved_linkage.joint(i).type)\n",
    "    elastic_rods.compute_equilibrium(curved_linkage, callback = eqm_callback, options = OPTS)\n",
    "    curved_linkage_view.update()"
   ]
  },
  {
   "cell_type": "code",
   "execution_count": null,
   "metadata": {},
   "outputs": [],
   "source": [
    "structure_view_2 = get_structure_analysis_view(curved_linkage)\n",
    "structure_view_2.show()"
   ]
  },
  {
   "cell_type": "code",
   "execution_count": null,
   "metadata": {
    "scrolled": true
   },
   "outputs": [],
   "source": [
    "cfm = structural_analysis.weavingCrossingForceMagnitudes(curved_linkage, True)\n",
    "if np.sum(cfm[:, 0]>0) > 0:\n",
    "    print(\"Flipping crossing: \", np.argsort(cfm[:, 0] > 0)[-1 * np.sum(cfm[:, 0] > 0):])\n",
    "    for i in np.argsort(cfm[:, 0] > 0)[-1 * np.sum(cfm[:, 0] > 0):]:\n",
    "        curved_linkage.joint(i).type = get_opposite_joint_type(curved_linkage.joint(i).type)\n",
    "    elastic_rods.compute_equilibrium(curved_linkage, callback = eqm_callback, options = OPTS)\n",
    "    curved_linkage_view.update()"
   ]
  },
  {
   "cell_type": "code",
   "execution_count": null,
   "metadata": {},
   "outputs": [],
   "source": [
    "structure_view_3 = get_structure_analysis_view(curved_linkage)\n",
    "structure_view_3.show()"
   ]
  },
  {
   "cell_type": "code",
   "execution_count": null,
   "metadata": {},
   "outputs": [],
   "source": [
    "curved_linkage.numDoF()"
   ]
  },
  {
   "cell_type": "code",
   "execution_count": null,
   "metadata": {},
   "outputs": [],
   "source": [
    "curved_linkage.numExtendedDoFPSRL()"
   ]
  },
  {
   "cell_type": "code",
   "execution_count": null,
   "metadata": {},
   "outputs": [],
   "source": []
  }
 ],
 "metadata": {
  "kernelspec": {
   "display_name": "Python 3",
   "language": "python",
   "name": "python3"
  },
  "language_info": {
   "codemirror_mode": {
    "name": "ipython",
    "version": 3
   },
   "file_extension": ".py",
   "mimetype": "text/x-python",
   "name": "python",
   "nbconvert_exporter": "python",
   "pygments_lexer": "ipython3",
   "version": "3.7.9"
  }
 },
 "nbformat": 4,
 "nbformat_minor": 4
}
