{
 "cells": [
  {
   "cell_type": "code",
   "execution_count": null,
   "metadata": {},
   "outputs": [],
   "source": [
    "elastic_rods_dir = '../elastic_rods/python/'\n",
    "weaving_dir = './'\n",
    "import os\n",
    "import os.path as osp\n",
    "import sys; sys.path.append(elastic_rods_dir); sys.path.append(weaving_dir)\n",
    "import numpy as np, elastic_rods, linkage_vis\n",
    "import numpy.linalg as la\n",
    "from bending_validation import suppress_stdout as so\n",
    "import matplotlib.pyplot as plt\n",
    "from elastic_rods import EnergyType, InterleavingType\n",
    "\n",
    "# weaving\n",
    "import analysis_helper, ribbon_linkage_helper, mesh_vis, linkage_utils, webapp_compute_curve_from_curvature, pipeline_helper, optimization_visualization_helper, importlib\n",
    "importlib.reload(analysis_helper)\n",
    "importlib.reload(ribbon_linkage_helper)\n",
    "importlib.reload(mesh_vis)\n",
    "importlib.reload(linkage_utils)\n",
    "importlib.reload(webapp_compute_curve_from_curvature)\n",
    "importlib.reload(pipeline_helper)\n",
    "importlib.reload(optimization_visualization_helper)\n",
    "from analysis_helper import (compare_turning_angle,\n",
    "                            is_on_sphere, \n",
    "                            get_distance_to_center_scalar_field, \n",
    "                            plot_curvatures, \n",
    "                            get_curvature_scalar_field,\n",
    "                            construct_elastic_rod_loop_from_rod_segments, \n",
    "                            concatenate_rod_properties_from_rod_segments, \n",
    "                            compute_min_distance_rigid_transformation)\n",
    "from ribbon_linkage_helper import (update_rest_curvature, \n",
    "                                   set_ribbon_linkage,\n",
    "                                   export_linkage_geometry_to_obj,\n",
    "                                   write_linkage_ribbon_output_florin)\n",
    "\n",
    "from webapp_compute_curve_from_curvature import (match_geo_curvature_and_edge_len, get_all_curve_pattern, write_per_ribbon_svg)\n",
    "from linkage_utils import order_segments_by_ribbons, get_turning_angle_and_length_from_ordered_rods\n",
    "\n",
    "from pipeline_helper import (initialize_linkage, get_normal_deviation, set_joint_vector_field, stage_1_optimization, initialize_stage_2_optimizer, stage_2_optimization, InputOrganizer, write_all_output, set_surface_view_options, get_structure_analysis_view, contact_optimization, get_double_side_view, show_selected_joints, highlight_rod_and_joint, write_distance_to_linkage_mesh, get_max_distance_to_target_surface, write_crossing_ribbon_info, write_crossing_ribbon_info_json)\n",
    "import vis.fields\n",
    "import matplotlib.cm as cm\n",
    "import time\n",
    "from optimization_visualization_helper import (compute_visualization_data_from_raw_data, get_objective_components_stage1, get_objective_components_stage2, get_objective_components_stage3, set_figure_label_and_limit, Visualization_Setting, plot_objective, plot_ribbon_component_analysis, render_video, combine_three_stage_video)\n",
    "import json"
   ]
  },
  {
   "cell_type": "code",
   "execution_count": null,
   "metadata": {},
   "outputs": [],
   "source": [
    "with open(osp.join(weaving_dir + 'woven_model.json')) as f:\n",
    "    data = json.load(f)"
   ]
  },
  {
   "cell_type": "code",
   "execution_count": null,
   "metadata": {},
   "outputs": [],
   "source": [
    "benchmark_data = []\n",
    "data_root = 'mega_monster_optimization_diagram_results/tenth_round/'\n",
    "output_root = '../../curwe_webapp/build/models/'"
   ]
  },
  {
   "cell_type": "markdown",
   "metadata": {},
   "source": [
    "### Expoort Web app data"
   ]
  },
  {
   "cell_type": "code",
   "execution_count": null,
   "metadata": {},
   "outputs": [],
   "source": [
    "def write_crossing_ribbon_info_json(linkage, filename, scale):\n",
    "    ''' return the list of two ribbon indices per crossing and the list of crossing lists per ribbon\n",
    "    '''\n",
    "    ribbons = order_segments_by_ribbons(linkage)\n",
    "    _, _, _, _, all_joint_index, _ = get_turning_angle_and_length_from_ordered_rods(ribbons, linkage, rest = True)\n",
    "    all_joint_index_list = [j_list + [j_list[0]] for j_list in all_joint_index]\n",
    "\n",
    "    def get_crossing_json(pos, ribbon_pair):\n",
    "        return {'position': list(pos), 'ribbons': ribbon_pair}\n",
    "\n",
    "    def get_ribbon_json(crossing_index_list):\n",
    "        return {'crossings': list(crossing_index_list)}\n",
    "\n",
    "    def get_ribbon_crossing_list(index):\n",
    "        selected_list = []\n",
    "        selected_ribbon = []\n",
    "        for ribbon_index, index_list in enumerate(all_joint_index_list):\n",
    "            if index in set(index_list):\n",
    "                selected_ribbon.append(ribbon_index)\n",
    "                selected_list.append(index_list)\n",
    "\n",
    "        return selected_ribbon\n",
    "    pairs_of_ribbons_per_crossing = [get_ribbon_crossing_list(i) for i in range(linkage.numJoints())]\n",
    "    crossing_positions = linkage.jointPositions().reshape((linkage.numJoints(), 3)) * scale\n",
    "\n",
    "    crossing_info_list = [get_crossing_json(crossing_positions[c_index], pairs_of_ribbons_per_crossing[c_index]) for c_index in range(len(pairs_of_ribbons_per_crossing))]\n",
    "\n",
    "    ribbon_info_list = [get_ribbon_json(all_joint_index_list[index]) for index in range(len(all_joint_index_list))]\n",
    "\n",
    "    crossing_ribbon_info = {'crossings': crossing_info_list, 'ribbons': ribbon_info_list}\n",
    "\n",
    "    with open(filename, 'w') as f:\n",
    "        json.dump(crossing_ribbon_info, f, indent=4)\n",
    "    return crossing_ribbon_info\n"
   ]
  },
  {
   "cell_type": "code",
   "execution_count": null,
   "metadata": {
    "scrolled": true
   },
   "outputs": [],
   "source": [
    "import pickle, gzip\n",
    "benchmark_data = []\n",
    "for model_info in data['models']:\n",
    "    thickness, width, name, use_constant_width, width_scale, scale_joint_weight, update_attraction_weight, number_of_updates, fix_boundary, only_two_stage, num_joints, num_segments, num_ribbons, num_sim_vars, num_design_vars = model_info['thickness'], model_info['width'], model_info['name'], model_info['constant_cross_section'], model_info['cross_section_scale'], model_info['scale_joint_weight'], model_info['update_attraction_weight'], model_info['number_of_updates'], model_info['fix_boundary'], model_info['only_two_stage'], model_info['num_joints'], model_info['num_segments'], model_info['num_ribbons'], model_info['num_sim_vars'], model_info['num_design_vars']\n",
    "    io = InputOrganizer(name, thickness, width, weaving_dir)\n",
    "    stage_2_pickle_name = os.path.join(data_root, '{}/{}_stage_2.pkl.gz'.format(name, name))\n",
    "    stage_3_pickle_name = os.path.join(data_root, '{}/{}_stage_3.pkl.gz'.format(name, name))\n",
    "    ribbon_folder = '{}/{}'.format(output_root, name)\n",
    "    \n",
    "    if not os.path.exists(ribbon_folder):\n",
    "        os.makedirs(ribbon_folder)\n",
    "    if only_two_stage:\n",
    "        curved_linkage = pickle.load(gzip.open(stage_2_pickle_name, 'r'))\n",
    "    else:\n",
    "        curved_linkage = pickle.load(gzip.open(stage_3_pickle_name, 'r'))\n",
    "    \n",
    "    two_ribbon_per_crossing, crossing_list_per_ribbon = write_crossing_ribbon_info_json(curved_linkage, '{}/{}/model.json'.format(output_root, name, name), 100)\n",
    "    save_path = os.getcwd()\n",
    "    write_per_ribbon_svg(curved_linkage, min(io.RIBBON_CS), io.SUBDIVISION_RESOLUTION, ribbon_folder)\n",
    "    os.chdir(save_path)"
   ]
  },
  {
   "cell_type": "markdown",
   "metadata": {},
   "source": [
    "### Setup webapp file structure"
   ]
  },
  {
   "cell_type": "code",
   "execution_count": null,
   "metadata": {},
   "outputs": [],
   "source": [
    "import pickle, gzip\n",
    "model_path_data = []\n",
    "for model_info in data['models']:\n",
    "    name, display_name = model_info['name'], model_info['display_name']\n",
    "    model_path_data.append({\n",
    "      \"label\": display_name,\n",
    "      \"id\": name\n",
    "    })\n",
    "with open(output_root + 'models.json', 'w') as f:\n",
    "    json.dump({\"models\" : model_path_data}, f, indent=4)"
   ]
  },
  {
   "cell_type": "code",
   "execution_count": null,
   "metadata": {},
   "outputs": [],
   "source": [
    "import pickle, gzip\n",
    "from shutil import copyfile\n",
    "\n",
    "benchmark_data = []\n",
    "for model_info in data['models']:\n",
    "    thickness, width, name, use_constant_width, width_scale, scale_joint_weight, update_attraction_weight, number_of_updates, fix_boundary, only_two_stage, num_joints, num_segments, num_ribbons, num_sim_vars, num_design_vars = model_info['thickness'], model_info['width'], model_info['name'], model_info['constant_cross_section'], model_info['cross_section_scale'], model_info['scale_joint_weight'], model_info['update_attraction_weight'], model_info['number_of_updates'], model_info['fix_boundary'], model_info['only_two_stage'], model_info['num_joints'], model_info['num_segments'], model_info['num_ribbons'], model_info['num_sim_vars'], model_info['num_design_vars']\n",
    "    io = InputOrganizer(name, thickness, width, weaving_dir)\n",
    "    if 'kitty_level' in name:\n",
    "        continue\n",
    "    copyfile(io.SURFACE_PATH[:-4] + '00.obj', '{}/{}/{}'.format(output_root, name, 'target_surface.obj'))\n",
    "    copyfile(io.MODEL_PATH[:-4] + '00.obj', '{}/{}/{}'.format(output_root, name, 'topology.obj'))"
   ]
  },
  {
   "cell_type": "code",
   "execution_count": null,
   "metadata": {},
   "outputs": [],
   "source": [
    "io.SURFACE_PATH, output_root + '/' + name"
   ]
  },
  {
   "cell_type": "code",
   "execution_count": null,
   "metadata": {},
   "outputs": [],
   "source": [
    "io.MODEL_PATH"
   ]
  },
  {
   "cell_type": "code",
   "execution_count": null,
   "metadata": {
    "scrolled": true
   },
   "outputs": [],
   "source": [
    "import numpy as np \n",
    "from numpy import linalg as la\n",
    "\n",
    "linkage_file = weaving_dir + \"models/{}.obj\"\n",
    "surface_file = weaving_dir + 'surface_models/{}.obj'\n",
    "\n",
    "output_linkage_file = weaving_dir + \"normalized_objs/models/{}.obj\"\n",
    "output_surface_file = weaving_dir + 'normalized_objs/surface_models/{}.obj'\n",
    "\n",
    "def scale_model(target_size, linkage_file, surface_file, output_linkage_file, output_surface_file):\n",
    "    point_list = []\n",
    "    edge_list = []\n",
    "    face_list = []\n",
    "    with open(linkage_file, 'r') as linkage, open(output_linkage_file, 'w') as output_linkage, open(surface_file, 'r') as surface, open(output_surface_file, 'w') as output_surface:\n",
    "        content = linkage.readlines()\n",
    "        count = 0\n",
    "        edge_count = 0\n",
    "        for line in content:\n",
    "            if 'v ' in line:\n",
    "                point = np.array([float(x) for x in line.split(' ')[1:]])\n",
    "                point_list.append(point)\n",
    "\n",
    "            if 'l ' in line:\n",
    "                edge_list.append(line)\n",
    "\n",
    "            if 'f ' in line:\n",
    "                face_list.append(line)\n",
    "\n",
    "        cm = np.sum(np.array(point_list), axis = 0) / len(point_list)\n",
    "\n",
    "        centered_point_list = []\n",
    "        point_norm = []\n",
    "        for point in point_list:\n",
    "            point = np.array(point) - cm\n",
    "            centered_point_list.append(point)\n",
    "            point_norm.append(la.norm(point))\n",
    "\n",
    "        scale = target_size / max(point_norm)\n",
    "        print(scale, cm)\n",
    "\n",
    "        for line in content:\n",
    "            if 'v ' in line:\n",
    "                point = np.array([float(x) for x in line.split(' ')[1:]])\n",
    "                point = scale * (point - cm)\n",
    "                output_linkage.write('v {} {} {}\\n'.format(point[0], point[1], point[2]))\n",
    "            else:\n",
    "                output_linkage.write(line)\n",
    "\n",
    "        surface_content = surface.readlines()\n",
    "        for line in surface_content:\n",
    "            if 'v ' in line:\n",
    "                point = np.array([float(x) for x in line.split(' ')[1:]])\n",
    "                point = scale * (point - cm)\n",
    "                output_surface.write('v {} {} {}\\n'.format(point[0], point[1], point[2]))\n",
    "            else:\n",
    "                output_surface.write(line)\n",
    "\n",
    "linkage_name_list = [model_info['name'] for model_info in data['models']]\n",
    "surface_name_list = linkage_name_list\n",
    "target_size = 100\n",
    "for linkage_name, surface_name in zip(linkage_name_list, surface_name_list):\n",
    "    scale_model(target_size, output_linkage_file.format(linkage_name), output_surface_file.format(surface_name), output_linkage_file.format(linkage_name+'_{}'.format(str(target_size))), output_surface_file.format(surface_name+'_{}'.format(str(target_size))))"
   ]
  },
  {
   "cell_type": "code",
   "execution_count": null,
   "metadata": {},
   "outputs": [],
   "source": [
    "[model_info['name'] for model_info in data['models']]"
   ]
  },
  {
   "cell_type": "code",
   "execution_count": null,
   "metadata": {},
   "outputs": [],
   "source": [
    "import pickle, gzip\n",
    "model_path_data = []\n",
    "for model_info in data['models']:\n",
    "    name, display_name = model_info['name'], model_info['display_name']\n",
    "    if not os.path.exists('{}/{}/ribbons'.format(output_root, name)):\n",
    "        os.makedirs('{}/{}/ribbons'.format(output_root, name))"
   ]
  },
  {
   "cell_type": "code",
   "execution_count": null,
   "metadata": {},
   "outputs": [],
   "source": []
  }
 ],
 "metadata": {
  "kernelspec": {
   "display_name": "Python 3",
   "language": "python",
   "name": "python3"
  },
  "language_info": {
   "codemirror_mode": {
    "name": "ipython",
    "version": 3
   },
   "file_extension": ".py",
   "mimetype": "text/x-python",
   "name": "python",
   "nbconvert_exporter": "python",
   "pygments_lexer": "ipython3",
   "version": "3.7.9"
  }
 },
 "nbformat": 4,
 "nbformat_minor": 4
}
