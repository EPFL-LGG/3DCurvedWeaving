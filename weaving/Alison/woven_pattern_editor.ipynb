{
 "cells": [
  {
   "cell_type": "code",
   "execution_count": null,
   "metadata": {},
   "outputs": [],
   "source": [
    "elastic_rods_dir = '../../elastic_rods/python/'\n",
    "weaving_dir = '../'\n",
    "import os.path as osp\n",
    "import sys; sys.path.append(elastic_rods_dir); sys.path.append(weaving_dir)\n",
    "import numpy as np, elastic_rods, linkage_vis\n",
    "import numpy.linalg as la\n",
    "from bending_validation import suppress_stdout as so\n",
    "import matplotlib.pyplot as plt\n",
    "import copy\n",
    "‰\n",
    "import vis.fields\n",
    "import matplotlib.cm as cm\n",
    "\n",
    "# Reloadable libraries\n",
    "import analysis_helper, ribbon_linkage_helper, mesh_vis, linkage_utils, compute_curve_from_curvature, importlib\n",
    "importlib.reload(analysis_helper)\n",
    "importlib.reload(ribbon_linkage_helper)\n",
    "importlib.reload(mesh_vis)\n",
    "importlib.reload(linkage_utils)\n",
    "importlib.reload(compute_curve_from_curvature)\n",
    "from analysis_helper import (compare_turning_angle,\n",
    "                            is_on_sphere, \n",
    "                            get_distance_to_center_scalar_field, \n",
    "                            plot_curvatures, \n",
    "                            get_curvature_scalar_field,\n",
    "                            construct_elastic_rod_loop_from_rod_segments, \n",
    "                            concatenate_rod_properties_from_rod_segments, \n",
    "                            compute_min_distance_rigid_transformation)\n",
    "from ribbon_linkage_helper import (initialize_linkage, \n",
    "                                   update_rest_curvature, \n",
    "                                   set_ribbon_linkage,\n",
    "                                   export_linkage_geometry_to_obj)\n",
    "from compute_curve_from_curvature import (match_geo_curvature_and_edge_len, get_all_curve_pattern)\n",
    "from linkage_utils import order_segments_by_ribbons, get_turning_angle_and_length_from_ordered_rods"
   ]
  },
  {
   "cell_type": "code",
   "execution_count": null,
   "metadata": {},
   "outputs": [],
   "source": [
    "# Sphere Parameters\n",
    "default_camera_parameters = ((3.466009282140468, -4.674139805388271, -2.556131049738206), (-0.21402574298422497, -0.06407538766530313, -0.9747681088523519),(0.1111, 0.1865, 0.5316))\n",
    "RIBBON_CS = [1, 10]\n",
    "ISO_CS = [4, 4]\n",
    "MODEL_PATH = osp.join(weaving_dir + 'models/equal_edge_atI.obj')\n",
    "SUBDIVISION_RESOLUTION = 7\n",
    "REGULARIZATION_WEIGHT = 0.05\n",
    "SMOOTHING_WEIGHT = 10\n",
    "RIBBON_NAME = 'sphere_strip'"
   ]
  },
  {
   "cell_type": "code",
   "execution_count": null,
   "metadata": {},
   "outputs": [],
   "source": [
    "# Torus Parameters\n",
    "default_camera_parameters = ((3.466009282140468, -4.674139805388271, -2.556131049738206), (-0.21402574298422497, -0.06407538766530313, -0.9747681088523519),(0.1111, 0.1865, 0.5316))\n",
    "RIBBON_CS = [0.1, 4]\n",
    "ISO_CS = [1, 1]\n",
    "MODEL_PATH = osp.join(weaving_dir + 'models/tri_hex_torus_linkage.obj')\n",
    "SUBDIVISION_RESOLUTION = 20\n",
    "REGULARIZATION_WEIGHT = 0\n",
    "SMOOTHING_WEIGHT = 1\n",
    "RIBBON_NAME = 'torus_strip'"
   ]
  },
  {
   "cell_type": "code",
   "execution_count": null,
   "metadata": {},
   "outputs": [],
   "source": [
    "# # Sphere to peanut sequence 1 Parameters\n",
    "# default_camera_parameters = ((3.466009282140468, -4.674139805388271, -2.556131049738206), (-0.21402574298422497, -0.06407538766530313, -0.9747681088523519),(0.1111, 0.1865, 0.5316))\n",
    "# RIBBON_CS = [0.01, 0.1]\n",
    "# ISO_CS = [0.04, 0.04]\n",
    "# MODEL_PATH = osp.join(weaving_dir + 'models/sphere_to_peanut/1.obj')\n",
    "# SUBDIVISION_RESOLUTION = 20\n",
    "# REGULARIZATION_WEIGHT = 0.05"
   ]
  },
  {
   "cell_type": "code",
   "execution_count": null,
   "metadata": {},
   "outputs": [],
   "source": [
    "# Sphere to hemoglobin sequence\n",
    "default_camera_parameters = ((3.466009282140468, -4.674139805388271, -2.556131049738206), (-0.21402574298422497, -0.06407538766530313, -0.9747681088523519),(0.1111, 0.1865, 0.5316))\n",
    "RIBBON_CS = [0.01, 0.1]\n",
    "ISO_CS = [0.04, 0.04]\n",
    "MODEL_PATH = osp.join(weaving_dir + 'models/sphere_to_hemoglobin/5.obj')\n",
    "SUBDIVISION_RESOLUTION = 20\n",
    "REGULARIZATION_WEIGHT = 0.0\n",
    "MODEL_NAME = './results/sphere_to_hemoglobin_5'"
   ]
  },
  {
   "cell_type": "code",
   "execution_count": null,
   "metadata": {},
   "outputs": [],
   "source": [
    "# Sphere to simple hemoglobin sequence\n",
    "default_camera_parameters = ((3.466009282140468, -4.674139805388271, -2.556131049738206), (-0.21402574298422497, -0.06407538766530313, -0.9747681088523519),(0.1111, 0.1865, 0.5316))\n",
    "RIBBON_CS = [0.01, 0.5]\n",
    "ISO_CS = [0.04, 0.04]\n",
    "MODEL_PATH = osp.join(weaving_dir + 'models/simple_sphere_to_hemoglobin/5.obj')\n",
    "SUBDIVISION_RESOLUTION = 20\n",
    "REGULARIZATION_WEIGHT = 0.001\n",
    "SMOOTHING_WEIGHT = 0\n",
    "MODEL_NAME = './results/simple_sphere_to_hemoglobin'\n",
    "RIBBON_NAME = 'simple_hemoglobin_strip'"
   ]
  },
  {
   "cell_type": "code",
   "execution_count": null,
   "metadata": {},
   "outputs": [],
   "source": [
    "# GMO Torus Parameters\n",
    "default_camera_parameters = ((3.466009282140468, -4.674139805388271, -2.556131049738206), (-0.21402574298422497, -0.06407538766530313, -0.9747681088523519),(0.1111, 0.1865, 0.5316))\n",
    "RIBBON_CS = [1, 40]\n",
    "ISO_CS = [1, 1]\n",
    "MODEL_PATH = osp.join(weaving_dir + 'models/gmo_torus/gmo_torus.obj')\n",
    "MODEL_NAME = 'gmo_torus'\n",
    "SUBDIVISION_RESOLUTION = 20\n",
    "REGULARIZATION_WEIGHT = 0\n",
    "SMOOTHING_WEIGHT = 0.001\n",
    "RIBBON_NAME = 'gmo_torus_strip'"
   ]
  },
  {
   "cell_type": "code",
   "execution_count": null,
   "metadata": {},
   "outputs": [],
   "source": [
    "# Regular Torus Parameters\n",
    "default_camera_parameters = ((3.466009282140468, -4.674139805388271, -2.556131049738206), (-0.21402574298422497, -0.06407538766530313, -0.9747681088523519),(0.1111, 0.1865, 0.5316))\n",
    "RIBBON_CS = [1, 40]\n",
    "ISO_CS = [1, 1]\n",
    "MODEL_PATH = osp.join(weaving_dir + 'models/regular_torus.obj')\n",
    "MODEL_NAME = 'regular_torus'\n",
    "SUBDIVISION_RESOLUTION = 20\n",
    "SMOOTHING_WEIGHT = 0.001\n",
    "REGULARIZATION_WEIGHT = 0\n",
    "RIBBON_NAME = 'regular_torus_strip'"
   ]
  },
  {
   "cell_type": "code",
   "execution_count": null,
   "metadata": {},
   "outputs": [],
   "source": [
    "# # Pseudosphere\n",
    "# default_camera_parameters = ((3.466009282140468, -4.674139805388271, -2.556131049738206), (-0.21402574298422497, -0.06407538766530313, -0.9747681088523519),(0.1111, 0.1865, 0.5316))\n",
    "# RIBBON_CS = [0.001, 0.01]\n",
    "# ISO_CS = [1, 1]\n",
    "# MODEL_NAME = \"pseudo_sphere\"\n",
    "# MODEL_PATH = osp.join(weaving_dir + 'models/{}.obj'.format(MODEL_NAME))\n",
    "# SUBDIVISION_RESOLUTION = 20\n",
    "# SMOOTHING_WEIGHT = 0.0000001\n",
    "# REGULARIZATION_WEIGHT = 0\n",
    "# RIBBON_NAME = \"pseudo_sphere_strip\""
   ]
  },
  {
   "cell_type": "code",
   "execution_count": null,
   "metadata": {},
   "outputs": [],
   "source": [
    "# # Pseudosphere 400\n",
    "# default_camera_parameters = ((3.466009282140468, -4.674139805388271, -2.556131049738206), (-0.21402574298422497, -0.06407538766530313, -0.9747681088523519),(0.1111, 0.1865, 0.5316))\n",
    "# RIBBON_CS = [0.1, 4]\n",
    "# ISO_CS = [1, 1]\n",
    "# MODEL_NAME = \"pseudo_sphere_400\"\n",
    "# MODEL_PATH = osp.join(weaving_dir + 'models/{}.obj'.format(MODEL_NAME))\n",
    "# SUBDIVISION_RESOLUTION = 20\n",
    "# SMOOTHING_WEIGHT = 100\n",
    "# REGULARIZATION_WEIGHT = 1\n",
    "# RIBBON_NAME = \"pseudo_sphere_400_strip\""
   ]
  },
  {
   "cell_type": "code",
   "execution_count": null,
   "metadata": {},
   "outputs": [],
   "source": [
    "# Pseudosphere Small\n",
    "default_camera_parameters = ((3.466009282140468, -4.674139805388271, -2.556131049738206), (-0.21402574298422497, -0.06407538766530313, -0.9747681088523519),(0.1111, 0.1865, 0.5316))\n",
    "RIBBON_CS = [0.005, 0.03]\n",
    "ISO_CS = [1, 1]\n",
    "MODEL_NAME = \"small_pseudo_sphere\"\n",
    "MODEL_PATH = osp.join(weaving_dir + 'models/{}.obj'.format(MODEL_NAME))\n",
    "SUBDIVISION_RESOLUTION = 20\n",
    "SMOOTHING_WEIGHT = 0.001\n",
    "REGULARIZATION_WEIGHT = 0\n",
    "RIBBON_NAME = \"small_pseudo_sphere_strip\""
   ]
  },
  {
   "cell_type": "code",
   "execution_count": null,
   "metadata": {},
   "outputs": [],
   "source": [
    "def initialize_curved_linkage(cross_section = ISO_CS, subdivision_res = SUBDIVISION_RESOLUTION, model_path = MODEL_PATH, cam_param = default_camera_parameters, regularization_weight = 0.1, smoothing_weight = 1):\n",
    "    l = elastic_rods.RodLinkage(model_path, subdivision_res, False)\n",
    "    driver=l.centralJoint()\n",
    "    l.setMaterial(elastic_rods.RodMaterial('rectangle', 2000, 0.3, cross_section, stiffAxis=elastic_rods.StiffAxis.D1))\n",
    "    l.set_design_parameter_config(use_restLen = True, use_restKappa = True)\n",
    "    design_opts = elastic_rods.NewtonOptimizerOptions()\n",
    "    design_opts.niter = 20\n",
    "    design_opts.verbose = 10\n",
    "    elastic_rods.designParameter_solve(l, design_opts, regularization_weight = regularization_weight, smoothing_weight = smoothing_weight)\n",
    "    jdo = l.dofOffsetForJoint(driver)\n",
    "    fixedVars = list(range(jdo, jdo + 6)) # fix rigid motion for a single joint\n",
    "    eqm_opts = elastic_rods.NewtonOptimizerOptions()\n",
    "    eqm_opts.niter = 400\n",
    "    elastic_rods.compute_equilibrium(l, fixedVars=fixedVars, options = eqm_opts)\n",
    "    view = linkage_vis.LinkageViewer(l, width=1024, height=640)\n",
    "    view.setCameraParams(cam_param)\n",
    "    return l, view"
   ]
  },
  {
   "cell_type": "code",
   "execution_count": null,
   "metadata": {},
   "outputs": [],
   "source": [
    "with so(): linkage, view = initialize_curved_linkage(model_path = MODEL_PATH, cam_param = default_camera_parameters, cross_section = RIBBON_CS, subdivision_res = SUBDIVISION_RESOLUTION, regularization_weight = REGULARIZATION_WEIGHT, smoothing_weight=SMOOTHING_WEIGHT)\n",
    "view.show()"
   ]
  },
  {
   "cell_type": "code",
   "execution_count": null,
   "metadata": {},
   "outputs": [],
   "source": [
    "plt.plot(linkage.getRestKappaVars()[:SUBDIVISION_RESOLUTION * 1 - 1], '-d')\n",
    "plt.savefig('rest_curvature.png')"
   ]
  },
  {
   "cell_type": "code",
   "execution_count": null,
   "metadata": {},
   "outputs": [],
   "source": [
    "with so():\n",
    "    jdo = linkage.dofOffsetForJoint(0)\n",
    "    fixedVars = list(range(jdo, jdo + 6)) # fix rigid motion for a single joint\n",
    "    eqm_opts = elastic_rods.NewtonOptimizerOptions()\n",
    "    eqm_opts.niter = 400\n",
    "    elastic_rods.compute_equilibrium(linkage, fixedVars=fixedVars, options = eqm_opts)\n",
    "\n"
   ]
  },
  {
   "cell_type": "code",
   "execution_count": null,
   "metadata": {},
   "outputs": [],
   "source": [
    "def design_parameter_solve(l,regularization_weight = 0.1, smoothing_weight = 1):\n",
    "    l.set_design_parameter_config(use_restLen = True, use_restKappa = True)\n",
    "    design_opts = elastic_rods.NewtonOptimizerOptions()\n",
    "    design_opts.niter = 200\n",
    "    design_opts.verbose = 10\n",
    "    elastic_rods.designParameter_solve(l, design_opts, regularization_weight = regularization_weight, smoothing_weight = smoothing_weight)\n",
    "    l.set_design_parameter_config(use_restLen = True, use_restKappa = True)\n",
    "    return l"
   ]
  },
  {
   "cell_type": "code",
   "execution_count": null,
   "metadata": {},
   "outputs": [],
   "source": [
    "with so(): design_parameter_solve(linkage, 0, 10)"
   ]
  },
  {
   "cell_type": "code",
   "execution_count": null,
   "metadata": {},
   "outputs": [],
   "source": [
    "view.update(preserveExisting=False)"
   ]
  },
  {
   "cell_type": "code",
   "execution_count": null,
   "metadata": {},
   "outputs": [],
   "source": [
    "with so(): \n",
    "    jdo = linkage.dofOffsetForJoint(0)\n",
    "    fixedVars = list(range(jdo, jdo + 6)) # fix rigid motion for a single joint\n",
    "    elastic_rods.compute_equilibrium(linkage, fixedVars=fixedVars)\n",
    "view.update(preserveExisting=False)"
   ]
  },
  {
   "cell_type": "code",
   "execution_count": null,
   "metadata": {},
   "outputs": [],
   "source": [
    "export_linkage_geometry_to_obj(linkage, '{}_linkage.obj'.format(MODEL_NAME))"
   ]
  },
  {
   "cell_type": "code",
   "execution_count": null,
   "metadata": {},
   "outputs": [],
   "source": [
    "la.norm(linkage.gradient())"
   ]
  },
  {
   "cell_type": "code",
   "execution_count": null,
   "metadata": {},
   "outputs": [],
   "source": [
    "ribbons = order_segments_by_ribbons(linkage)"
   ]
  },
  {
   "cell_type": "code",
   "execution_count": null,
   "metadata": {},
   "outputs": [],
   "source": [
    "def highlight_rod_and_joint(strip_index, select_joint_index):\n",
    "    new_rod, fixedVars = construct_elastic_rod_loop_from_rod_segments(linkage, ribbons[strip_index])\n",
    "    # Set the material of the new rod to be the same as previously.\n",
    "    new_rod.setMaterial(elastic_rods.RodMaterial('rectangle', 2000, 0.3, RIBBON_CS, stiffAxis=elastic_rods.StiffAxis.D1))\n",
    "    single_rod_view_compare = linkage_vis.LinkageViewer(linkage, width=1024, height=640)\n",
    "    single_rod_view = linkage_vis.LinkageViewer(new_rod, width=1024, height=640)\n",
    "\n",
    "    j = linkage.joint(select_joint_index)\n",
    "    seg_index = j.segments_A[0]\n",
    "    vx_index = 0\n",
    "    if linkage.segment(seg_index).startJoint != select_joint_index:\n",
    "        vx_index = -1\n",
    "    joint_vector_field = [np.zeros_like(np.reshape(s.rod.gradient()[0:3*s.rod.numVertices()], (s.rod.numVertices(), 3))) for s in linkage.segments()]\n",
    "    joint_vector_field[seg_index][vx_index] = linkage.segment(seg_index).rod.deformedConfiguration().materialFrame[vx_index].d2\n",
    "    single_rod_view_compare.update(vectorField=joint_vector_field)\n",
    "\n",
    "    sf = vis.fields.ScalarField(new_rod, 0.6 * np.ones_like(np.array(new_rod.deformedConfiguration().len)), colormap=cm.Blues, vmin = 0, vmax = 1)\n",
    "\n",
    "    single_rod_view_compare.update(mesh = single_rod_view.mesh, preserveExisting=True, scalarField=sf)\n",
    "    single_rod_view_compare.setCameraParams(((0.1380416750325228, 0.9648987923360046, 4.776431269112697),\n",
    "     (0.9983340296894934, -0.054896765875897646, -0.01776260848808606),\n",
    "     (0.0, 0.0, 0.0)))\n",
    "    return single_rod_view_compare"
   ]
  },
  {
   "cell_type": "code",
   "execution_count": null,
   "metadata": {},
   "outputs": [],
   "source": [
    "single_rod_view_compare = highlight_rod_and_joint(0, 137)\n",
    "single_rod_view_compare.show()"
   ]
  },
  {
   "cell_type": "code",
   "execution_count": null,
   "metadata": {},
   "outputs": [],
   "source": [
    "# single_rod_view_compare = linkage_vis.LinkageViewer(linkage, width=1024, height=640)\n",
    "# joint_vector_field = [np.zeros_like(np.reshape(s.rod.gradient()[0:3*s.rod.numVertices()], (s.rod.numVertices(), 3))) for s in linkage.segments()]\n",
    "# # joint_vector_field = [np.array([frame.d2 for frame in s.rod.deformedConfiguration().materialFrame]) for s in linkage.segments()]\n",
    "\n",
    "\n",
    "# select_index = 107\n",
    "# j = linkage.joint(select_index)\n",
    "# seg_index = j.segments_A[0]\n",
    "# vx_index = 0\n",
    "# if linkage.segment(seg_index).startJoint != select_index:\n",
    "#     vx_index = -1\n",
    "# joint_vector_field[seg_index][vx_index] = linkage.segment(seg_index).rod.deformedConfiguration().materialFrame[vx_index].d2\n",
    "\n",
    "# single_rod_view_compare.update(vectorField=joint_vector_field)\n",
    "# single_rod_view_compare.show()"
   ]
  },
  {
   "cell_type": "code",
   "execution_count": null,
   "metadata": {},
   "outputs": [],
   "source": [
    "# select_index = 106\n",
    "# j = linkage.joint(select_index)\n",
    "# seg_index = j.segments_A[0]\n",
    "# vx_index = 0\n",
    "# if linkage.segment(seg_index).startJoint != select_index:\n",
    "#     vx_index = -1\n",
    "# joint_vector_field[seg_index][vx_index] = linkage.segment(seg_index).rod.deformedConfiguration().materialFrame[vx_index].d2\n",
    "# single_rod_view_compare.update(vectorField=joint_vector_field)\n",
    "\n",
    "\n"
   ]
  },
  {
   "cell_type": "code",
   "execution_count": null,
   "metadata": {},
   "outputs": [],
   "source": [
    "# select_index = 96\n",
    "# j = linkage.joint(select_index)\n",
    "# seg_index = j.segments_A[0]\n",
    "# vx_index = 0\n",
    "# if linkage.segment(seg_index).startJoint != select_index:\n",
    "#     vx_index = -1\n",
    "# joint_vector_field[seg_index][vx_index] = linkage.segment(seg_index).rod.deformedConfiguration().materialFrame[vx_index].d2\n",
    "\n",
    "# single_rod_view_compare.update(vectorField=joint_vector_field)\n",
    "\n"
   ]
  },
  {
   "cell_type": "code",
   "execution_count": null,
   "metadata": {},
   "outputs": [],
   "source": [
    "# select_index = 132\n",
    "# j = linkage.joint(select_index)\n",
    "# seg_index = j.segments_A[0]\n",
    "# vx_index = 0\n",
    "# if linkage.segment(seg_index).startJoint != select_index:\n",
    "#     vx_index = -1\n",
    "# joint_vector_field[seg_index][vx_index] = linkage.segment(seg_index).rod.deformedConfiguration().materialFrame[vx_index].d2\n",
    "\n",
    "# single_rod_view_compare.update(vectorField=joint_vector_field)\n",
    "\n",
    "\n"
   ]
  },
  {
   "cell_type": "code",
   "execution_count": null,
   "metadata": {},
   "outputs": [],
   "source": [
    "linkage.numJoints()"
   ]
  },
  {
   "cell_type": "code",
   "execution_count": null,
   "metadata": {},
   "outputs": [],
   "source": [
    "# with so(): start_linkage, start_view = initialize_linkage(model_path = MODEL_PATH, cross_section = ISO_CS, subdivision_res=SUBDIVISION_RESOLUTION)\n",
    "# compare_turning_angle(start_linkage, esp = 0, remove_zeros = True)\n",
    "# start_view.show()"
   ]
  },
  {
   "cell_type": "code",
   "execution_count": null,
   "metadata": {},
   "outputs": [],
   "source": [
    "# linkage = copy.deepcopy(start_linkage)\n",
    "# linkage.set_design_parameter_config(use_restLen = True, use_restKappa = False)\n",
    "# # with so():\n",
    "# #     elastic_rods.restlen_solve(curr_linkage)\n",
    "# #     elastic_rods.compute_equilibrium(curr_linkage, fixedVars=curr_linkage.jointPositionDoFIndices())\n",
    "# # view = linkage_vis.LinkageViewer(curr_linkage, width=1024, height=640)\n",
    "# # view.setCameraParams(default_camera_parameters)\n",
    "# # view.update(scalarField=get_distance_to_center_scalar_field(curr_linkage))\n",
    "# # view.show()"
   ]
  },
  {
   "cell_type": "code",
   "execution_count": null,
   "metadata": {},
   "outputs": [],
   "source": [
    "# with so():\n",
    "#     for i in range(20):\n",
    "#         linkage = update_rest_curvature(linkage)\n",
    "# #     Visualization\n",
    "# #     compare_turning_angle(curr_linkage, rest_linkage = prev_linkage)\n",
    "# #     prev_linkage = copy.deepcopy(curr_linkage)\n",
    "# #     view.update(scalarField=get_distance_to_center_scalar_field(curr_linkage))\n",
    "# #     input(\"Press Enter to continue...\")\n",
    "\n",
    "\n"
   ]
  },
  {
   "cell_type": "code",
   "execution_count": null,
   "metadata": {},
   "outputs": [],
   "source": [
    "get_all_curve_pattern(linkage, RIBBON_CS[1], SUBDIVISION_RESOLUTION, RIBBON_NAME, image_type='svg')"
   ]
  },
  {
   "cell_type": "code",
   "execution_count": null,
   "metadata": {},
   "outputs": [],
   "source": []
  }
 ],
 "metadata": {
  "kernelspec": {
   "display_name": "Python 3",
   "language": "python",
   "name": "python3"
  },
  "language_info": {
   "codemirror_mode": {
    "name": "ipython",
    "version": 3
   },
   "file_extension": ".py",
   "mimetype": "text/x-python",
   "name": "python",
   "nbconvert_exporter": "python",
   "pygments_lexer": "ipython3",
   "version": "3.7.5"
  }
 },
 "nbformat": 4,
 "nbformat_minor": 4
}
